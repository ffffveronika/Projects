{
 "cells": [
  {
   "cell_type": "markdown",
   "metadata": {},
   "source": [
    "# Определение потенциально успешного продукта для интернет-магазина \"Стримчик\""
   ]
  },
  {
   "cell_type": "markdown",
   "metadata": {},
   "source": [
    "**Описание исследования**\n",
    "\n",
    "Заказчик - интернет-магазин «Стримчик», который продаёт по всему миру компьютерные игры. Необходимо выявить определяющие успешность игры закономерности для планнирования будущих рекламных компаний.\n",
    "\n",
    "**Цель исследования** - определить факторы, влияющие на успешность продукта и проверить гипотезы:\n",
    "- Средние пользовательские рейтинги платформ Xbox One и PC одинаковые;\n",
    "- Средние пользовательские рейтинги жанров Action (англ. «действие», экшен-игры) и Sports (англ. «спортивные соревнования») разные.\n",
    "\n",
    "**Описание данных**\n",
    "\n",
    "Входные данные - исторические данные о продажах игр, оценки пользователей и экспертов, жанры и платформы (например, Xbox или PlayStation).\n",
    "\n",
    "1. name — название игры\n",
    "2. platform — платформа\n",
    "3. year_of_release — год выпуска\n",
    "4. genre — жанр игры\n",
    "5. na_sales — продажи в Северной Америке (миллионы проданных копий)\n",
    "6. eu_sales — продажи в Европе (миллионы проданных копий)\n",
    "7. jp_sales — продажи в Японии (миллионы проданных копий)\n",
    "9. other_sales — продажи в других странах (миллионы проданных копий)\n",
    "10. critic_Score — оценка критиков (максимум 100)\n",
    "11. user_Score — оценка пользователей (максимум 10)\n",
    "12. rating — рейтинг от организации ESRB (англ. Entertainment Software Rating Board). Эта ассоциация определяет рейтинг компьютерных игр и присваивает им подходящую возрастную категорию.\n",
    "\n",
    "**Ход исследования**\n",
    " \n",
    "Перед тем, как непосредственно перейти к проверке гипотез необходимо провести их обзор, предобработку и анализ.\n",
    " \n",
    "Таким образом, исследование пройдёт в пять этапов:\n",
    " 1. Обзор данных.\n",
    " 2. Предобработка данных.\n",
    " 3. Исследовательский анализ данных.\n",
    " 4. Исследовательский анализ факторов.\n",
    " 5. Проверка гипотез"
   ]
  },
  {
   "cell_type": "markdown",
   "metadata": {},
   "source": [
    "## Обзор данных"
   ]
  },
  {
   "cell_type": "code",
   "execution_count": 40,
   "metadata": {},
   "outputs": [],
   "source": [
    "# Импортируем необходимые библиотеки\n",
    "import pandas as pd\n",
    "import numpy as np\n",
    "import matplotlib.pyplot as plt\n",
    "import seaborn as sns\n",
    "from scipy import stats as st\n",
    "import warnings\n",
    "warnings.filterwarnings('ignore')"
   ]
  },
  {
   "cell_type": "code",
   "execution_count": 41,
   "metadata": {},
   "outputs": [
    {
     "data": {
      "text/html": [
       "<div>\n",
       "<style scoped>\n",
       "    .dataframe tbody tr th:only-of-type {\n",
       "        vertical-align: middle;\n",
       "    }\n",
       "\n",
       "    .dataframe tbody tr th {\n",
       "        vertical-align: top;\n",
       "    }\n",
       "\n",
       "    .dataframe thead th {\n",
       "        text-align: right;\n",
       "    }\n",
       "</style>\n",
       "<table border=\"1\" class=\"dataframe\">\n",
       "  <thead>\n",
       "    <tr style=\"text-align: right;\">\n",
       "      <th></th>\n",
       "      <th>Name</th>\n",
       "      <th>Platform</th>\n",
       "      <th>Year_of_Release</th>\n",
       "      <th>Genre</th>\n",
       "      <th>NA_sales</th>\n",
       "      <th>EU_sales</th>\n",
       "      <th>JP_sales</th>\n",
       "      <th>Other_sales</th>\n",
       "      <th>Critic_Score</th>\n",
       "      <th>User_Score</th>\n",
       "      <th>Rating</th>\n",
       "    </tr>\n",
       "  </thead>\n",
       "  <tbody>\n",
       "    <tr>\n",
       "      <th>0</th>\n",
       "      <td>Wii Sports</td>\n",
       "      <td>Wii</td>\n",
       "      <td>2006.0</td>\n",
       "      <td>Sports</td>\n",
       "      <td>41.36</td>\n",
       "      <td>28.96</td>\n",
       "      <td>3.77</td>\n",
       "      <td>8.45</td>\n",
       "      <td>76.0</td>\n",
       "      <td>8</td>\n",
       "      <td>E</td>\n",
       "    </tr>\n",
       "    <tr>\n",
       "      <th>1</th>\n",
       "      <td>Super Mario Bros.</td>\n",
       "      <td>NES</td>\n",
       "      <td>1985.0</td>\n",
       "      <td>Platform</td>\n",
       "      <td>29.08</td>\n",
       "      <td>3.58</td>\n",
       "      <td>6.81</td>\n",
       "      <td>0.77</td>\n",
       "      <td>NaN</td>\n",
       "      <td>NaN</td>\n",
       "      <td>NaN</td>\n",
       "    </tr>\n",
       "    <tr>\n",
       "      <th>2</th>\n",
       "      <td>Mario Kart Wii</td>\n",
       "      <td>Wii</td>\n",
       "      <td>2008.0</td>\n",
       "      <td>Racing</td>\n",
       "      <td>15.68</td>\n",
       "      <td>12.76</td>\n",
       "      <td>3.79</td>\n",
       "      <td>3.29</td>\n",
       "      <td>82.0</td>\n",
       "      <td>8.3</td>\n",
       "      <td>E</td>\n",
       "    </tr>\n",
       "    <tr>\n",
       "      <th>3</th>\n",
       "      <td>Wii Sports Resort</td>\n",
       "      <td>Wii</td>\n",
       "      <td>2009.0</td>\n",
       "      <td>Sports</td>\n",
       "      <td>15.61</td>\n",
       "      <td>10.93</td>\n",
       "      <td>3.28</td>\n",
       "      <td>2.95</td>\n",
       "      <td>80.0</td>\n",
       "      <td>8</td>\n",
       "      <td>E</td>\n",
       "    </tr>\n",
       "    <tr>\n",
       "      <th>4</th>\n",
       "      <td>Pokemon Red/Pokemon Blue</td>\n",
       "      <td>GB</td>\n",
       "      <td>1996.0</td>\n",
       "      <td>Role-Playing</td>\n",
       "      <td>11.27</td>\n",
       "      <td>8.89</td>\n",
       "      <td>10.22</td>\n",
       "      <td>1.00</td>\n",
       "      <td>NaN</td>\n",
       "      <td>NaN</td>\n",
       "      <td>NaN</td>\n",
       "    </tr>\n",
       "    <tr>\n",
       "      <th>...</th>\n",
       "      <td>...</td>\n",
       "      <td>...</td>\n",
       "      <td>...</td>\n",
       "      <td>...</td>\n",
       "      <td>...</td>\n",
       "      <td>...</td>\n",
       "      <td>...</td>\n",
       "      <td>...</td>\n",
       "      <td>...</td>\n",
       "      <td>...</td>\n",
       "      <td>...</td>\n",
       "    </tr>\n",
       "    <tr>\n",
       "      <th>16710</th>\n",
       "      <td>Samurai Warriors: Sanada Maru</td>\n",
       "      <td>PS3</td>\n",
       "      <td>2016.0</td>\n",
       "      <td>Action</td>\n",
       "      <td>0.00</td>\n",
       "      <td>0.00</td>\n",
       "      <td>0.01</td>\n",
       "      <td>0.00</td>\n",
       "      <td>NaN</td>\n",
       "      <td>NaN</td>\n",
       "      <td>NaN</td>\n",
       "    </tr>\n",
       "    <tr>\n",
       "      <th>16711</th>\n",
       "      <td>LMA Manager 2007</td>\n",
       "      <td>X360</td>\n",
       "      <td>2006.0</td>\n",
       "      <td>Sports</td>\n",
       "      <td>0.00</td>\n",
       "      <td>0.01</td>\n",
       "      <td>0.00</td>\n",
       "      <td>0.00</td>\n",
       "      <td>NaN</td>\n",
       "      <td>NaN</td>\n",
       "      <td>NaN</td>\n",
       "    </tr>\n",
       "    <tr>\n",
       "      <th>16712</th>\n",
       "      <td>Haitaka no Psychedelica</td>\n",
       "      <td>PSV</td>\n",
       "      <td>2016.0</td>\n",
       "      <td>Adventure</td>\n",
       "      <td>0.00</td>\n",
       "      <td>0.00</td>\n",
       "      <td>0.01</td>\n",
       "      <td>0.00</td>\n",
       "      <td>NaN</td>\n",
       "      <td>NaN</td>\n",
       "      <td>NaN</td>\n",
       "    </tr>\n",
       "    <tr>\n",
       "      <th>16713</th>\n",
       "      <td>Spirits &amp; Spells</td>\n",
       "      <td>GBA</td>\n",
       "      <td>2003.0</td>\n",
       "      <td>Platform</td>\n",
       "      <td>0.01</td>\n",
       "      <td>0.00</td>\n",
       "      <td>0.00</td>\n",
       "      <td>0.00</td>\n",
       "      <td>NaN</td>\n",
       "      <td>NaN</td>\n",
       "      <td>NaN</td>\n",
       "    </tr>\n",
       "    <tr>\n",
       "      <th>16714</th>\n",
       "      <td>Winning Post 8 2016</td>\n",
       "      <td>PSV</td>\n",
       "      <td>2016.0</td>\n",
       "      <td>Simulation</td>\n",
       "      <td>0.00</td>\n",
       "      <td>0.00</td>\n",
       "      <td>0.01</td>\n",
       "      <td>0.00</td>\n",
       "      <td>NaN</td>\n",
       "      <td>NaN</td>\n",
       "      <td>NaN</td>\n",
       "    </tr>\n",
       "  </tbody>\n",
       "</table>\n",
       "<p>16715 rows × 11 columns</p>\n",
       "</div>"
      ],
      "text/plain": [
       "                                Name Platform  Year_of_Release         Genre  \\\n",
       "0                         Wii Sports      Wii           2006.0        Sports   \n",
       "1                  Super Mario Bros.      NES           1985.0      Platform   \n",
       "2                     Mario Kart Wii      Wii           2008.0        Racing   \n",
       "3                  Wii Sports Resort      Wii           2009.0        Sports   \n",
       "4           Pokemon Red/Pokemon Blue       GB           1996.0  Role-Playing   \n",
       "...                              ...      ...              ...           ...   \n",
       "16710  Samurai Warriors: Sanada Maru      PS3           2016.0        Action   \n",
       "16711               LMA Manager 2007     X360           2006.0        Sports   \n",
       "16712        Haitaka no Psychedelica      PSV           2016.0     Adventure   \n",
       "16713               Spirits & Spells      GBA           2003.0      Platform   \n",
       "16714            Winning Post 8 2016      PSV           2016.0    Simulation   \n",
       "\n",
       "       NA_sales  EU_sales  JP_sales  Other_sales  Critic_Score User_Score  \\\n",
       "0         41.36     28.96      3.77         8.45          76.0          8   \n",
       "1         29.08      3.58      6.81         0.77           NaN        NaN   \n",
       "2         15.68     12.76      3.79         3.29          82.0        8.3   \n",
       "3         15.61     10.93      3.28         2.95          80.0          8   \n",
       "4         11.27      8.89     10.22         1.00           NaN        NaN   \n",
       "...         ...       ...       ...          ...           ...        ...   \n",
       "16710      0.00      0.00      0.01         0.00           NaN        NaN   \n",
       "16711      0.00      0.01      0.00         0.00           NaN        NaN   \n",
       "16712      0.00      0.00      0.01         0.00           NaN        NaN   \n",
       "16713      0.01      0.00      0.00         0.00           NaN        NaN   \n",
       "16714      0.00      0.00      0.01         0.00           NaN        NaN   \n",
       "\n",
       "      Rating  \n",
       "0          E  \n",
       "1        NaN  \n",
       "2          E  \n",
       "3          E  \n",
       "4        NaN  \n",
       "...      ...  \n",
       "16710    NaN  \n",
       "16711    NaN  \n",
       "16712    NaN  \n",
       "16713    NaN  \n",
       "16714    NaN  \n",
       "\n",
       "[16715 rows x 11 columns]"
      ]
     },
     "execution_count": 41,
     "metadata": {},
     "output_type": "execute_result"
    }
   ],
   "source": [
    "# Откроем датасет\n",
    "data = pd.read_csv('/datasets/games.csv')\n",
    "data"
   ]
  },
  {
   "cell_type": "code",
   "execution_count": 42,
   "metadata": {},
   "outputs": [
    {
     "name": "stdout",
     "output_type": "stream",
     "text": [
      "<class 'pandas.core.frame.DataFrame'>\n",
      "RangeIndex: 16715 entries, 0 to 16714\n",
      "Data columns (total 11 columns):\n",
      " #   Column           Non-Null Count  Dtype  \n",
      "---  ------           --------------  -----  \n",
      " 0   Name             16713 non-null  object \n",
      " 1   Platform         16715 non-null  object \n",
      " 2   Year_of_Release  16446 non-null  float64\n",
      " 3   Genre            16713 non-null  object \n",
      " 4   NA_sales         16715 non-null  float64\n",
      " 5   EU_sales         16715 non-null  float64\n",
      " 6   JP_sales         16715 non-null  float64\n",
      " 7   Other_sales      16715 non-null  float64\n",
      " 8   Critic_Score     8137 non-null   float64\n",
      " 9   User_Score       10014 non-null  object \n",
      " 10  Rating           9949 non-null   object \n",
      "dtypes: float64(6), object(5)\n",
      "memory usage: 1.4+ MB\n"
     ]
    }
   ],
   "source": [
    "# Получим общую информацию о данных\n",
    "data.info()"
   ]
  },
  {
   "cell_type": "code",
   "execution_count": 43,
   "metadata": {},
   "outputs": [
    {
     "data": {
      "text/plain": [
       "0"
      ]
     },
     "execution_count": 43,
     "metadata": {},
     "output_type": "execute_result"
    }
   ],
   "source": [
    "# Проверим на наличие дубликатов\n",
    "data.duplicated().sum()"
   ]
  },
  {
   "cell_type": "markdown",
   "metadata": {},
   "source": [
    "**Вывод:**\n",
    "- Всего в табоице 11 столбцов и 16715 строчек. Дубликатов нет.\n",
    "- Пропуски обнаружены в столбцах: Name, Year_of_Release, Genre, Critic_Score, User_Score, Rating. В первых трех столбцах пропусков очень мало, это можно объяснить технологической ошибкой или тем, что информация о годе, имени или жанре неизвестна. В остальных столбцах пропуски можно объяснить тем, что критики или пользователи или ESRB не выставляли игре оценки.\n",
    "- В столбцах Year_of_Release и Critic_Score необходимо изменить типы данных на int. В столбцах NA_sales, EU_sales, JP_sales, Other_sales можно изменить тип данных на float32 для экономии памяти. В столбце User_Score необходимо изменить тип данных с object на float.\n",
    "- В названиях всех столбцов необходимо изменить регистр."
   ]
  },
  {
   "cell_type": "markdown",
   "metadata": {},
   "source": [
    "## Предобработка данных"
   ]
  },
  {
   "cell_type": "markdown",
   "metadata": {},
   "source": [
    "### Приведение названий к одному виду"
   ]
  },
  {
   "cell_type": "code",
   "execution_count": 44,
   "metadata": {},
   "outputs": [],
   "source": [
    "# Приведем названия столбцов к одному виду с помощью метода str.lower\n",
    "data.columns = data.columns.str.lower()"
   ]
  },
  {
   "cell_type": "code",
   "execution_count": 45,
   "metadata": {},
   "outputs": [],
   "source": [
    "# Данные в столбцах name, platform и genre для удобства также приведем к одному регистру\n",
    "data['name'] = data['name'].str.lower()\n",
    "data['platform'] = data['platform'].str.lower()\n",
    "data['genre'] = data['genre'].str.lower()"
   ]
  },
  {
   "cell_type": "code",
   "execution_count": 46,
   "metadata": {},
   "outputs": [
    {
     "name": "stdout",
     "output_type": "stream",
     "text": [
      "<class 'pandas.core.frame.DataFrame'>\n",
      "RangeIndex: 16715 entries, 0 to 16714\n",
      "Data columns (total 11 columns):\n",
      " #   Column           Non-Null Count  Dtype  \n",
      "---  ------           --------------  -----  \n",
      " 0   name             16713 non-null  object \n",
      " 1   platform         16715 non-null  object \n",
      " 2   year_of_release  16446 non-null  float64\n",
      " 3   genre            16713 non-null  object \n",
      " 4   na_sales         16715 non-null  float64\n",
      " 5   eu_sales         16715 non-null  float64\n",
      " 6   jp_sales         16715 non-null  float64\n",
      " 7   other_sales      16715 non-null  float64\n",
      " 8   critic_score     8137 non-null   float64\n",
      " 9   user_score       10014 non-null  object \n",
      " 10  rating           9949 non-null   object \n",
      "dtypes: float64(6), object(5)\n",
      "memory usage: 1.4+ MB\n"
     ]
    }
   ],
   "source": [
    "# Проверим\n",
    "data.info()"
   ]
  },
  {
   "cell_type": "markdown",
   "metadata": {},
   "source": [
    "### Работа с пропусками"
   ]
  },
  {
   "cell_type": "code",
   "execution_count": 47,
   "metadata": {},
   "outputs": [
    {
     "data": {
      "text/html": [
       "<div>\n",
       "<style scoped>\n",
       "    .dataframe tbody tr th:only-of-type {\n",
       "        vertical-align: middle;\n",
       "    }\n",
       "\n",
       "    .dataframe tbody tr th {\n",
       "        vertical-align: top;\n",
       "    }\n",
       "\n",
       "    .dataframe thead th {\n",
       "        text-align: right;\n",
       "    }\n",
       "</style>\n",
       "<table border=\"1\" class=\"dataframe\">\n",
       "  <thead>\n",
       "    <tr style=\"text-align: right;\">\n",
       "      <th></th>\n",
       "      <th>name</th>\n",
       "      <th>platform</th>\n",
       "      <th>year_of_release</th>\n",
       "      <th>genre</th>\n",
       "      <th>na_sales</th>\n",
       "      <th>eu_sales</th>\n",
       "      <th>jp_sales</th>\n",
       "      <th>other_sales</th>\n",
       "      <th>critic_score</th>\n",
       "      <th>user_score</th>\n",
       "      <th>rating</th>\n",
       "    </tr>\n",
       "  </thead>\n",
       "  <tbody>\n",
       "    <tr>\n",
       "      <th>659</th>\n",
       "      <td>NaN</td>\n",
       "      <td>gen</td>\n",
       "      <td>1993.0</td>\n",
       "      <td>NaN</td>\n",
       "      <td>1.78</td>\n",
       "      <td>0.53</td>\n",
       "      <td>0.00</td>\n",
       "      <td>0.08</td>\n",
       "      <td>NaN</td>\n",
       "      <td>NaN</td>\n",
       "      <td>NaN</td>\n",
       "    </tr>\n",
       "    <tr>\n",
       "      <th>14244</th>\n",
       "      <td>NaN</td>\n",
       "      <td>gen</td>\n",
       "      <td>1993.0</td>\n",
       "      <td>NaN</td>\n",
       "      <td>0.00</td>\n",
       "      <td>0.00</td>\n",
       "      <td>0.03</td>\n",
       "      <td>0.00</td>\n",
       "      <td>NaN</td>\n",
       "      <td>NaN</td>\n",
       "      <td>NaN</td>\n",
       "    </tr>\n",
       "  </tbody>\n",
       "</table>\n",
       "</div>"
      ],
      "text/plain": [
       "      name platform  year_of_release genre  na_sales  eu_sales  jp_sales  \\\n",
       "659    NaN      gen           1993.0   NaN      1.78      0.53      0.00   \n",
       "14244  NaN      gen           1993.0   NaN      0.00      0.00      0.03   \n",
       "\n",
       "       other_sales  critic_score user_score rating  \n",
       "659           0.08           NaN        NaN    NaN  \n",
       "14244         0.00           NaN        NaN    NaN  "
      ]
     },
     "execution_count": 47,
     "metadata": {},
     "output_type": "execute_result"
    }
   ],
   "source": [
    "# Подробнее изучим столбцы name и genre, так как в них одинаковое количество пропусков\n",
    "data.query('name.isna() == True')"
   ]
  },
  {
   "cell_type": "markdown",
   "metadata": {},
   "source": [
    "Оба пропуска приходятся на одни и те же две игры. Вероятно они вызваны тем, что игра старая и данные о жанре и названии не сохранились. Так как это незначительная часть информации, мы можем их удалить."
   ]
  },
  {
   "cell_type": "code",
   "execution_count": 48,
   "metadata": {},
   "outputs": [],
   "source": [
    "# В столбце rating заменим пропуски на значение 'unknown'. Так как они могут также показать важные закономерности.\n",
    "data['rating'] = data['rating'].fillna('unknown')"
   ]
  },
  {
   "cell_type": "markdown",
   "metadata": {},
   "source": [
    "В столбце user_score в некоторых строчках указано значение \"tbd\", что означает to be determined и соотвествует NaN. Для этого случая подойдет метод to_numeric(), который заменит не числовые значения на NaN."
   ]
  },
  {
   "cell_type": "code",
   "execution_count": 49,
   "metadata": {},
   "outputs": [],
   "source": [
    "# Применим метод to_numeric()\n",
    "data['user_score'] = pd.to_numeric(data['user_score'], errors='coerce')"
   ]
  },
  {
   "cell_type": "code",
   "execution_count": 50,
   "metadata": {},
   "outputs": [
    {
     "name": "stdout",
     "output_type": "stream",
     "text": [
      "<class 'pandas.core.frame.DataFrame'>\n",
      "RangeIndex: 16715 entries, 0 to 16714\n",
      "Data columns (total 11 columns):\n",
      " #   Column           Non-Null Count  Dtype  \n",
      "---  ------           --------------  -----  \n",
      " 0   name             16713 non-null  object \n",
      " 1   platform         16715 non-null  object \n",
      " 2   year_of_release  16446 non-null  float64\n",
      " 3   genre            16713 non-null  object \n",
      " 4   na_sales         16715 non-null  float64\n",
      " 5   eu_sales         16715 non-null  float64\n",
      " 6   jp_sales         16715 non-null  float64\n",
      " 7   other_sales      16715 non-null  float64\n",
      " 8   critic_score     8137 non-null   float64\n",
      " 9   user_score       7590 non-null   float64\n",
      " 10  rating           16715 non-null  object \n",
      "dtypes: float64(7), object(4)\n",
      "memory usage: 1.4+ MB\n"
     ]
    }
   ],
   "source": [
    "# Проверим\n",
    "data.info()"
   ]
  },
  {
   "cell_type": "markdown",
   "metadata": {},
   "source": [
    "Корректно обработать и заменить пропуски в столбцах critic_score, user_score и year_of_release невозможно. Оставим их, как есть, так как их доля значительна."
   ]
  },
  {
   "cell_type": "markdown",
   "metadata": {},
   "source": [
    "### Изменение типов данных"
   ]
  },
  {
   "cell_type": "code",
   "execution_count": 51,
   "metadata": {},
   "outputs": [
    {
     "data": {
      "text/plain": [
       "array([2006., 1985., 2008., 2009., 1996., 1989., 1984., 2005., 1999.,\n",
       "       2007., 2010., 2013., 2004., 1990., 1988., 2002., 2001., 2011.,\n",
       "       1998., 2015., 2012., 2014., 1992., 1997., 1993., 1994., 1982.,\n",
       "       2016., 2003., 1986., 2000.,   nan, 1995., 1991., 1981., 1987.,\n",
       "       1980., 1983.])"
      ]
     },
     "execution_count": 51,
     "metadata": {},
     "output_type": "execute_result"
    }
   ],
   "source": [
    "# Подробнее изучим столбцы year_of_release и critic_score с целыми значениями\n",
    "data['year_of_release'].unique()"
   ]
  },
  {
   "cell_type": "code",
   "execution_count": 52,
   "metadata": {},
   "outputs": [
    {
     "data": {
      "text/plain": [
       "array([76., nan, 82., 80., 89., 58., 87., 91., 61., 97., 95., 77., 88.,\n",
       "       83., 94., 93., 85., 86., 98., 96., 90., 84., 73., 74., 78., 92.,\n",
       "       71., 72., 68., 62., 49., 67., 81., 66., 56., 79., 70., 59., 64.,\n",
       "       75., 60., 63., 69., 50., 25., 42., 44., 55., 48., 57., 29., 47.,\n",
       "       65., 54., 20., 53., 37., 38., 33., 52., 30., 32., 43., 45., 51.,\n",
       "       40., 46., 39., 34., 35., 41., 36., 28., 31., 27., 26., 19., 23.,\n",
       "       24., 21., 17., 22., 13.])"
      ]
     },
     "execution_count": 52,
     "metadata": {},
     "output_type": "execute_result"
    }
   ],
   "source": [
    "data['critic_score'].unique()"
   ]
  },
  {
   "cell_type": "markdown",
   "metadata": {},
   "source": [
    "В столбце year_of_release изменим тип данных на int. Поскольку в столбце есть NaN подойдет метод convert_dtypes(). В столбце critic_score не только целые значения, его трогать не будем."
   ]
  },
  {
   "cell_type": "code",
   "execution_count": 53,
   "metadata": {},
   "outputs": [],
   "source": [
    "# Изменим тип данных на int\n",
    "data = data.reset_index(drop=True)\n",
    "data['year_of_release'] = data['year_of_release'].convert_dtypes()"
   ]
  },
  {
   "cell_type": "code",
   "execution_count": 54,
   "metadata": {},
   "outputs": [
    {
     "data": {
      "text/plain": [
       "<IntegerArray>\n",
       "[2006, 1985, 2008, 2009, 1996, 1989, 1984, 2005, 1999, 2007, 2010, 2013, 2004,\n",
       " 1990, 1988, 2002, 2001, 2011, 1998, 2015, 2012, 2014, 1992, 1997, 1993, 1994,\n",
       " 1982, 2016, 2003, 1986, 2000, <NA>, 1995, 1991, 1981, 1987, 1980, 1983]\n",
       "Length: 38, dtype: Int64"
      ]
     },
     "execution_count": 54,
     "metadata": {},
     "output_type": "execute_result"
    }
   ],
   "source": [
    "# Проверим\n",
    "data['year_of_release'].unique()"
   ]
  },
  {
   "cell_type": "code",
   "execution_count": 55,
   "metadata": {},
   "outputs": [],
   "source": [
    "# В столбцах na_sales, eu_sales, jp_sales, other_sales изменим тип данных на float32 для экономии памяти. Так как NaN нет, подойдет метод astype().\n",
    "data[['na_sales', 'eu_sales', 'jp_sales', 'other_sales']] = data[['na_sales', 'eu_sales', 'jp_sales', 'other_sales']].astype('float32')"
   ]
  },
  {
   "cell_type": "code",
   "execution_count": 56,
   "metadata": {},
   "outputs": [
    {
     "name": "stdout",
     "output_type": "stream",
     "text": [
      "<class 'pandas.core.frame.DataFrame'>\n",
      "RangeIndex: 16715 entries, 0 to 16714\n",
      "Data columns (total 11 columns):\n",
      " #   Column           Non-Null Count  Dtype  \n",
      "---  ------           --------------  -----  \n",
      " 0   name             16713 non-null  object \n",
      " 1   platform         16715 non-null  object \n",
      " 2   year_of_release  16446 non-null  Int64  \n",
      " 3   genre            16713 non-null  object \n",
      " 4   na_sales         16715 non-null  float32\n",
      " 5   eu_sales         16715 non-null  float32\n",
      " 6   jp_sales         16715 non-null  float32\n",
      " 7   other_sales      16715 non-null  float32\n",
      " 8   critic_score     8137 non-null   float64\n",
      " 9   user_score       7590 non-null   float64\n",
      " 10  rating           16715 non-null  object \n",
      "dtypes: Int64(1), float32(4), float64(2), object(4)\n",
      "memory usage: 1.2+ MB\n"
     ]
    }
   ],
   "source": [
    "# Проверим\n",
    "data.info()"
   ]
  },
  {
   "cell_type": "markdown",
   "metadata": {},
   "source": [
    "### Подсчет сумарных продаж"
   ]
  },
  {
   "cell_type": "code",
   "execution_count": 57,
   "metadata": {},
   "outputs": [],
   "source": [
    "# Посчитаем сумарные продажи и проверим\n",
    "data['total_sales'] = data[['na_sales', 'eu_sales', 'jp_sales', 'other_sales']].sum(axis=1)"
   ]
  },
  {
   "cell_type": "code",
   "execution_count": 58,
   "metadata": {},
   "outputs": [
    {
     "data": {
      "text/html": [
       "<div>\n",
       "<style scoped>\n",
       "    .dataframe tbody tr th:only-of-type {\n",
       "        vertical-align: middle;\n",
       "    }\n",
       "\n",
       "    .dataframe tbody tr th {\n",
       "        vertical-align: top;\n",
       "    }\n",
       "\n",
       "    .dataframe thead th {\n",
       "        text-align: right;\n",
       "    }\n",
       "</style>\n",
       "<table border=\"1\" class=\"dataframe\">\n",
       "  <thead>\n",
       "    <tr style=\"text-align: right;\">\n",
       "      <th></th>\n",
       "      <th>name</th>\n",
       "      <th>platform</th>\n",
       "      <th>year_of_release</th>\n",
       "      <th>genre</th>\n",
       "      <th>na_sales</th>\n",
       "      <th>eu_sales</th>\n",
       "      <th>jp_sales</th>\n",
       "      <th>other_sales</th>\n",
       "      <th>critic_score</th>\n",
       "      <th>user_score</th>\n",
       "      <th>rating</th>\n",
       "      <th>total_sales</th>\n",
       "    </tr>\n",
       "  </thead>\n",
       "  <tbody>\n",
       "    <tr>\n",
       "      <th>0</th>\n",
       "      <td>wii sports</td>\n",
       "      <td>wii</td>\n",
       "      <td>2006</td>\n",
       "      <td>sports</td>\n",
       "      <td>41.360001</td>\n",
       "      <td>28.959999</td>\n",
       "      <td>3.77</td>\n",
       "      <td>8.45</td>\n",
       "      <td>76.0</td>\n",
       "      <td>8.0</td>\n",
       "      <td>E</td>\n",
       "      <td>82.539993</td>\n",
       "    </tr>\n",
       "    <tr>\n",
       "      <th>1</th>\n",
       "      <td>super mario bros.</td>\n",
       "      <td>nes</td>\n",
       "      <td>1985</td>\n",
       "      <td>platform</td>\n",
       "      <td>29.080000</td>\n",
       "      <td>3.580000</td>\n",
       "      <td>6.81</td>\n",
       "      <td>0.77</td>\n",
       "      <td>NaN</td>\n",
       "      <td>NaN</td>\n",
       "      <td>unknown</td>\n",
       "      <td>40.240002</td>\n",
       "    </tr>\n",
       "    <tr>\n",
       "      <th>2</th>\n",
       "      <td>mario kart wii</td>\n",
       "      <td>wii</td>\n",
       "      <td>2008</td>\n",
       "      <td>racing</td>\n",
       "      <td>15.680000</td>\n",
       "      <td>12.760000</td>\n",
       "      <td>3.79</td>\n",
       "      <td>3.29</td>\n",
       "      <td>82.0</td>\n",
       "      <td>8.3</td>\n",
       "      <td>E</td>\n",
       "      <td>35.520000</td>\n",
       "    </tr>\n",
       "    <tr>\n",
       "      <th>3</th>\n",
       "      <td>wii sports resort</td>\n",
       "      <td>wii</td>\n",
       "      <td>2009</td>\n",
       "      <td>sports</td>\n",
       "      <td>15.610000</td>\n",
       "      <td>10.930000</td>\n",
       "      <td>3.28</td>\n",
       "      <td>2.95</td>\n",
       "      <td>80.0</td>\n",
       "      <td>8.0</td>\n",
       "      <td>E</td>\n",
       "      <td>32.770000</td>\n",
       "    </tr>\n",
       "    <tr>\n",
       "      <th>4</th>\n",
       "      <td>pokemon red/pokemon blue</td>\n",
       "      <td>gb</td>\n",
       "      <td>1996</td>\n",
       "      <td>role-playing</td>\n",
       "      <td>11.270000</td>\n",
       "      <td>8.890000</td>\n",
       "      <td>10.22</td>\n",
       "      <td>1.00</td>\n",
       "      <td>NaN</td>\n",
       "      <td>NaN</td>\n",
       "      <td>unknown</td>\n",
       "      <td>31.380001</td>\n",
       "    </tr>\n",
       "    <tr>\n",
       "      <th>...</th>\n",
       "      <td>...</td>\n",
       "      <td>...</td>\n",
       "      <td>...</td>\n",
       "      <td>...</td>\n",
       "      <td>...</td>\n",
       "      <td>...</td>\n",
       "      <td>...</td>\n",
       "      <td>...</td>\n",
       "      <td>...</td>\n",
       "      <td>...</td>\n",
       "      <td>...</td>\n",
       "      <td>...</td>\n",
       "    </tr>\n",
       "    <tr>\n",
       "      <th>16710</th>\n",
       "      <td>samurai warriors: sanada maru</td>\n",
       "      <td>ps3</td>\n",
       "      <td>2016</td>\n",
       "      <td>action</td>\n",
       "      <td>0.000000</td>\n",
       "      <td>0.000000</td>\n",
       "      <td>0.01</td>\n",
       "      <td>0.00</td>\n",
       "      <td>NaN</td>\n",
       "      <td>NaN</td>\n",
       "      <td>unknown</td>\n",
       "      <td>0.010000</td>\n",
       "    </tr>\n",
       "    <tr>\n",
       "      <th>16711</th>\n",
       "      <td>lma manager 2007</td>\n",
       "      <td>x360</td>\n",
       "      <td>2006</td>\n",
       "      <td>sports</td>\n",
       "      <td>0.000000</td>\n",
       "      <td>0.010000</td>\n",
       "      <td>0.00</td>\n",
       "      <td>0.00</td>\n",
       "      <td>NaN</td>\n",
       "      <td>NaN</td>\n",
       "      <td>unknown</td>\n",
       "      <td>0.010000</td>\n",
       "    </tr>\n",
       "    <tr>\n",
       "      <th>16712</th>\n",
       "      <td>haitaka no psychedelica</td>\n",
       "      <td>psv</td>\n",
       "      <td>2016</td>\n",
       "      <td>adventure</td>\n",
       "      <td>0.000000</td>\n",
       "      <td>0.000000</td>\n",
       "      <td>0.01</td>\n",
       "      <td>0.00</td>\n",
       "      <td>NaN</td>\n",
       "      <td>NaN</td>\n",
       "      <td>unknown</td>\n",
       "      <td>0.010000</td>\n",
       "    </tr>\n",
       "    <tr>\n",
       "      <th>16713</th>\n",
       "      <td>spirits &amp; spells</td>\n",
       "      <td>gba</td>\n",
       "      <td>2003</td>\n",
       "      <td>platform</td>\n",
       "      <td>0.010000</td>\n",
       "      <td>0.000000</td>\n",
       "      <td>0.00</td>\n",
       "      <td>0.00</td>\n",
       "      <td>NaN</td>\n",
       "      <td>NaN</td>\n",
       "      <td>unknown</td>\n",
       "      <td>0.010000</td>\n",
       "    </tr>\n",
       "    <tr>\n",
       "      <th>16714</th>\n",
       "      <td>winning post 8 2016</td>\n",
       "      <td>psv</td>\n",
       "      <td>2016</td>\n",
       "      <td>simulation</td>\n",
       "      <td>0.000000</td>\n",
       "      <td>0.000000</td>\n",
       "      <td>0.01</td>\n",
       "      <td>0.00</td>\n",
       "      <td>NaN</td>\n",
       "      <td>NaN</td>\n",
       "      <td>unknown</td>\n",
       "      <td>0.010000</td>\n",
       "    </tr>\n",
       "  </tbody>\n",
       "</table>\n",
       "<p>16715 rows × 12 columns</p>\n",
       "</div>"
      ],
      "text/plain": [
       "                                name platform  year_of_release         genre  \\\n",
       "0                         wii sports      wii             2006        sports   \n",
       "1                  super mario bros.      nes             1985      platform   \n",
       "2                     mario kart wii      wii             2008        racing   \n",
       "3                  wii sports resort      wii             2009        sports   \n",
       "4           pokemon red/pokemon blue       gb             1996  role-playing   \n",
       "...                              ...      ...              ...           ...   \n",
       "16710  samurai warriors: sanada maru      ps3             2016        action   \n",
       "16711               lma manager 2007     x360             2006        sports   \n",
       "16712        haitaka no psychedelica      psv             2016     adventure   \n",
       "16713               spirits & spells      gba             2003      platform   \n",
       "16714            winning post 8 2016      psv             2016    simulation   \n",
       "\n",
       "        na_sales   eu_sales  jp_sales  other_sales  critic_score  user_score  \\\n",
       "0      41.360001  28.959999      3.77         8.45          76.0         8.0   \n",
       "1      29.080000   3.580000      6.81         0.77           NaN         NaN   \n",
       "2      15.680000  12.760000      3.79         3.29          82.0         8.3   \n",
       "3      15.610000  10.930000      3.28         2.95          80.0         8.0   \n",
       "4      11.270000   8.890000     10.22         1.00           NaN         NaN   \n",
       "...          ...        ...       ...          ...           ...         ...   \n",
       "16710   0.000000   0.000000      0.01         0.00           NaN         NaN   \n",
       "16711   0.000000   0.010000      0.00         0.00           NaN         NaN   \n",
       "16712   0.000000   0.000000      0.01         0.00           NaN         NaN   \n",
       "16713   0.010000   0.000000      0.00         0.00           NaN         NaN   \n",
       "16714   0.000000   0.000000      0.01         0.00           NaN         NaN   \n",
       "\n",
       "        rating  total_sales  \n",
       "0            E    82.539993  \n",
       "1      unknown    40.240002  \n",
       "2            E    35.520000  \n",
       "3            E    32.770000  \n",
       "4      unknown    31.380001  \n",
       "...        ...          ...  \n",
       "16710  unknown     0.010000  \n",
       "16711  unknown     0.010000  \n",
       "16712  unknown     0.010000  \n",
       "16713  unknown     0.010000  \n",
       "16714  unknown     0.010000  \n",
       "\n",
       "[16715 rows x 12 columns]"
      ]
     },
     "execution_count": 58,
     "metadata": {},
     "output_type": "execute_result"
    }
   ],
   "source": [
    "data"
   ]
  },
  {
   "cell_type": "markdown",
   "metadata": {},
   "source": [
    "### Вывод\n",
    "\n",
    "- Названия были приведены к одному виду.\n",
    "- По возможности заменены пропуски, вызванные человеческим фактором.\n",
    "- Были изменены типы данных на необходимые.\n",
    "- Были подсчитаны суммарные продажи."
   ]
  },
  {
   "cell_type": "markdown",
   "metadata": {},
   "source": [
    "## Исследовательский анализ факторов"
   ]
  },
  {
   "cell_type": "markdown",
   "metadata": {},
   "source": [
    "### Выявление актуального периода"
   ]
  },
  {
   "cell_type": "code",
   "execution_count": 59,
   "metadata": {
    "scrolled": true
   },
   "outputs": [
    {
     "data": {
      "text/plain": [
       "year_of_release\n",
       "1980       9\n",
       "1981      46\n",
       "1982      36\n",
       "1983      17\n",
       "1984      14\n",
       "1985      14\n",
       "1986      21\n",
       "1987      16\n",
       "1988      15\n",
       "1989      17\n",
       "1990      16\n",
       "1991      41\n",
       "1992      43\n",
       "1993      60\n",
       "1994     121\n",
       "1995     219\n",
       "1996     263\n",
       "1997     289\n",
       "1998     379\n",
       "1999     338\n",
       "2000     350\n",
       "2001     482\n",
       "2002     829\n",
       "2003     775\n",
       "2004     762\n",
       "2005     939\n",
       "2006    1006\n",
       "2007    1197\n",
       "2008    1427\n",
       "2009    1426\n",
       "2010    1255\n",
       "2011    1136\n",
       "2012     653\n",
       "2013     544\n",
       "2014     581\n",
       "2015     606\n",
       "2016     502\n",
       "Name: name, dtype: int64"
      ]
     },
     "execution_count": 59,
     "metadata": {},
     "output_type": "execute_result"
    }
   ],
   "source": [
    "# Посмотрим, сколько игр выпускалось в разные годы\n",
    "data.groupby('year_of_release')['name'].count()"
   ]
  },
  {
   "cell_type": "code",
   "execution_count": 60,
   "metadata": {},
   "outputs": [
    {
     "data": {
      "image/png": "[encoded data removed]",
      "text/plain": [
       "<Figure size 576x288 with 1 Axes>"
      ]
     },
     "metadata": {
      "needs_background": "light"
     },
     "output_type": "display_data"
    }
   ],
   "source": [
    "# Визуализируем\n",
    "data.groupby('year_of_release')['name'].count().plot.bar(color=sns.cubehelix_palette(40, start=2), alpha=0.5, figsize=(8, 4)).set(ylabel='количество выпущеных игр', xlabel='годы', title='Распределение выпущенных игр по годам')\n",
    "plt.show()"
   ]
  },
  {
   "cell_type": "markdown",
   "metadata": {},
   "source": [
    "По графику видно, что выпуск игр динанимечен и в разные годы сильно отличается. Так что имеет смысл выбирать конкретный период, исходя из целей исследования."
   ]
  },
  {
   "cell_type": "code",
   "execution_count": 61,
   "metadata": {},
   "outputs": [
    {
     "data": {
      "text/plain": [
       "platform\n",
       "ps2     1255.770020\n",
       "x360     971.419983\n",
       "ps3      939.649963\n",
       "wii      907.510010\n",
       "ds       806.119995\n",
       "ps       730.859985\n",
       "gba      317.850006\n",
       "ps4      314.140015\n",
       "psp      294.049988\n",
       "pc       259.519989\n",
       "Name: total_sales, dtype: float32"
      ]
     },
     "execution_count": 61,
     "metadata": {},
     "output_type": "execute_result"
    }
   ],
   "source": [
    "# Выделим 10 самых прибыльных платформ\n",
    "data_platforms = data.groupby('platform')['total_sales'].sum().sort_values(ascending=False).head(10)\n",
    "data_platforms"
   ]
  },
  {
   "cell_type": "code",
   "execution_count": 62,
   "metadata": {},
   "outputs": [
    {
     "data": {
      "text/html": [
       "<div>\n",
       "<style scoped>\n",
       "    .dataframe tbody tr th:only-of-type {\n",
       "        vertical-align: middle;\n",
       "    }\n",
       "\n",
       "    .dataframe tbody tr th {\n",
       "        vertical-align: top;\n",
       "    }\n",
       "\n",
       "    .dataframe thead th {\n",
       "        text-align: right;\n",
       "    }\n",
       "</style>\n",
       "<table border=\"1\" class=\"dataframe\">\n",
       "  <thead>\n",
       "    <tr style=\"text-align: right;\">\n",
       "      <th>platform</th>\n",
       "      <th>ds</th>\n",
       "      <th>gba</th>\n",
       "      <th>pc</th>\n",
       "      <th>ps</th>\n",
       "      <th>ps2</th>\n",
       "      <th>ps3</th>\n",
       "      <th>ps4</th>\n",
       "      <th>psp</th>\n",
       "      <th>wii</th>\n",
       "      <th>x360</th>\n",
       "    </tr>\n",
       "    <tr>\n",
       "      <th>year_of_release</th>\n",
       "      <th></th>\n",
       "      <th></th>\n",
       "      <th></th>\n",
       "      <th></th>\n",
       "      <th></th>\n",
       "      <th></th>\n",
       "      <th></th>\n",
       "      <th></th>\n",
       "      <th></th>\n",
       "      <th></th>\n",
       "    </tr>\n",
       "  </thead>\n",
       "  <tbody>\n",
       "    <tr>\n",
       "      <th>1985</th>\n",
       "      <td>0.020000</td>\n",
       "      <td>NaN</td>\n",
       "      <td>0.040000</td>\n",
       "      <td>NaN</td>\n",
       "      <td>NaN</td>\n",
       "      <td>NaN</td>\n",
       "      <td>NaN</td>\n",
       "      <td>NaN</td>\n",
       "      <td>NaN</td>\n",
       "      <td>NaN</td>\n",
       "    </tr>\n",
       "    <tr>\n",
       "      <th>1988</th>\n",
       "      <td>NaN</td>\n",
       "      <td>NaN</td>\n",
       "      <td>0.030000</td>\n",
       "      <td>NaN</td>\n",
       "      <td>NaN</td>\n",
       "      <td>NaN</td>\n",
       "      <td>NaN</td>\n",
       "      <td>NaN</td>\n",
       "      <td>NaN</td>\n",
       "      <td>NaN</td>\n",
       "    </tr>\n",
       "    <tr>\n",
       "      <th>1992</th>\n",
       "      <td>NaN</td>\n",
       "      <td>NaN</td>\n",
       "      <td>3.030000</td>\n",
       "      <td>NaN</td>\n",
       "      <td>NaN</td>\n",
       "      <td>NaN</td>\n",
       "      <td>NaN</td>\n",
       "      <td>NaN</td>\n",
       "      <td>NaN</td>\n",
       "      <td>NaN</td>\n",
       "    </tr>\n",
       "    <tr>\n",
       "      <th>1994</th>\n",
       "      <td>NaN</td>\n",
       "      <td>NaN</td>\n",
       "      <td>12.870000</td>\n",
       "      <td>6.030000</td>\n",
       "      <td>NaN</td>\n",
       "      <td>NaN</td>\n",
       "      <td>NaN</td>\n",
       "      <td>NaN</td>\n",
       "      <td>NaN</td>\n",
       "      <td>NaN</td>\n",
       "    </tr>\n",
       "    <tr>\n",
       "      <th>1995</th>\n",
       "      <td>NaN</td>\n",
       "      <td>NaN</td>\n",
       "      <td>4.220000</td>\n",
       "      <td>35.959999</td>\n",
       "      <td>NaN</td>\n",
       "      <td>NaN</td>\n",
       "      <td>NaN</td>\n",
       "      <td>NaN</td>\n",
       "      <td>NaN</td>\n",
       "      <td>NaN</td>\n",
       "    </tr>\n",
       "    <tr>\n",
       "      <th>1996</th>\n",
       "      <td>NaN</td>\n",
       "      <td>NaN</td>\n",
       "      <td>10.580000</td>\n",
       "      <td>94.700005</td>\n",
       "      <td>NaN</td>\n",
       "      <td>NaN</td>\n",
       "      <td>NaN</td>\n",
       "      <td>NaN</td>\n",
       "      <td>NaN</td>\n",
       "      <td>NaN</td>\n",
       "    </tr>\n",
       "    <tr>\n",
       "      <th>1997</th>\n",
       "      <td>NaN</td>\n",
       "      <td>NaN</td>\n",
       "      <td>11.270000</td>\n",
       "      <td>136.169998</td>\n",
       "      <td>NaN</td>\n",
       "      <td>NaN</td>\n",
       "      <td>NaN</td>\n",
       "      <td>NaN</td>\n",
       "      <td>NaN</td>\n",
       "      <td>NaN</td>\n",
       "    </tr>\n",
       "    <tr>\n",
       "      <th>1998</th>\n",
       "      <td>NaN</td>\n",
       "      <td>NaN</td>\n",
       "      <td>3.260000</td>\n",
       "      <td>169.490005</td>\n",
       "      <td>NaN</td>\n",
       "      <td>NaN</td>\n",
       "      <td>NaN</td>\n",
       "      <td>NaN</td>\n",
       "      <td>NaN</td>\n",
       "      <td>NaN</td>\n",
       "    </tr>\n",
       "    <tr>\n",
       "      <th>1999</th>\n",
       "      <td>NaN</td>\n",
       "      <td>NaN</td>\n",
       "      <td>4.740000</td>\n",
       "      <td>144.529999</td>\n",
       "      <td>NaN</td>\n",
       "      <td>NaN</td>\n",
       "      <td>NaN</td>\n",
       "      <td>NaN</td>\n",
       "      <td>NaN</td>\n",
       "      <td>NaN</td>\n",
       "    </tr>\n",
       "    <tr>\n",
       "      <th>2000</th>\n",
       "      <td>NaN</td>\n",
       "      <td>0.070000</td>\n",
       "      <td>4.660000</td>\n",
       "      <td>96.370003</td>\n",
       "      <td>39.170002</td>\n",
       "      <td>NaN</td>\n",
       "      <td>NaN</td>\n",
       "      <td>NaN</td>\n",
       "      <td>NaN</td>\n",
       "      <td>NaN</td>\n",
       "    </tr>\n",
       "    <tr>\n",
       "      <th>2001</th>\n",
       "      <td>NaN</td>\n",
       "      <td>61.529999</td>\n",
       "      <td>5.470000</td>\n",
       "      <td>35.590000</td>\n",
       "      <td>166.430008</td>\n",
       "      <td>NaN</td>\n",
       "      <td>NaN</td>\n",
       "      <td>NaN</td>\n",
       "      <td>NaN</td>\n",
       "      <td>NaN</td>\n",
       "    </tr>\n",
       "    <tr>\n",
       "      <th>2002</th>\n",
       "      <td>NaN</td>\n",
       "      <td>74.159996</td>\n",
       "      <td>8.570000</td>\n",
       "      <td>6.670000</td>\n",
       "      <td>205.380005</td>\n",
       "      <td>NaN</td>\n",
       "      <td>NaN</td>\n",
       "      <td>NaN</td>\n",
       "      <td>NaN</td>\n",
       "      <td>NaN</td>\n",
       "    </tr>\n",
       "    <tr>\n",
       "      <th>2003</th>\n",
       "      <td>NaN</td>\n",
       "      <td>56.669998</td>\n",
       "      <td>8.840000</td>\n",
       "      <td>2.070000</td>\n",
       "      <td>184.309998</td>\n",
       "      <td>NaN</td>\n",
       "      <td>NaN</td>\n",
       "      <td>NaN</td>\n",
       "      <td>NaN</td>\n",
       "      <td>NaN</td>\n",
       "    </tr>\n",
       "    <tr>\n",
       "      <th>2004</th>\n",
       "      <td>17.270000</td>\n",
       "      <td>77.910004</td>\n",
       "      <td>10.389999</td>\n",
       "      <td>NaN</td>\n",
       "      <td>211.809998</td>\n",
       "      <td>NaN</td>\n",
       "      <td>NaN</td>\n",
       "      <td>7.060000</td>\n",
       "      <td>NaN</td>\n",
       "      <td>NaN</td>\n",
       "    </tr>\n",
       "    <tr>\n",
       "      <th>2005</th>\n",
       "      <td>130.139999</td>\n",
       "      <td>33.860001</td>\n",
       "      <td>4.370000</td>\n",
       "      <td>NaN</td>\n",
       "      <td>160.660004</td>\n",
       "      <td>NaN</td>\n",
       "      <td>NaN</td>\n",
       "      <td>43.840000</td>\n",
       "      <td>NaN</td>\n",
       "      <td>8.250000</td>\n",
       "    </tr>\n",
       "    <tr>\n",
       "      <th>2006</th>\n",
       "      <td>119.809998</td>\n",
       "      <td>5.280000</td>\n",
       "      <td>2.850000</td>\n",
       "      <td>NaN</td>\n",
       "      <td>103.419998</td>\n",
       "      <td>20.960001</td>\n",
       "      <td>NaN</td>\n",
       "      <td>55.320000</td>\n",
       "      <td>137.149994</td>\n",
       "      <td>51.619999</td>\n",
       "    </tr>\n",
       "    <tr>\n",
       "      <th>2007</th>\n",
       "      <td>146.940002</td>\n",
       "      <td>3.400000</td>\n",
       "      <td>9.280000</td>\n",
       "      <td>NaN</td>\n",
       "      <td>75.989998</td>\n",
       "      <td>73.190002</td>\n",
       "      <td>NaN</td>\n",
       "      <td>46.930000</td>\n",
       "      <td>152.770004</td>\n",
       "      <td>95.409996</td>\n",
       "    </tr>\n",
       "    <tr>\n",
       "      <th>2008</th>\n",
       "      <td>145.309998</td>\n",
       "      <td>NaN</td>\n",
       "      <td>12.419999</td>\n",
       "      <td>NaN</td>\n",
       "      <td>53.900002</td>\n",
       "      <td>118.519997</td>\n",
       "      <td>NaN</td>\n",
       "      <td>34.549999</td>\n",
       "      <td>171.320007</td>\n",
       "      <td>135.259995</td>\n",
       "    </tr>\n",
       "    <tr>\n",
       "      <th>2009</th>\n",
       "      <td>119.540001</td>\n",
       "      <td>NaN</td>\n",
       "      <td>16.910000</td>\n",
       "      <td>NaN</td>\n",
       "      <td>26.400000</td>\n",
       "      <td>130.930008</td>\n",
       "      <td>NaN</td>\n",
       "      <td>37.779999</td>\n",
       "      <td>206.970001</td>\n",
       "      <td>120.290001</td>\n",
       "    </tr>\n",
       "    <tr>\n",
       "      <th>2010</th>\n",
       "      <td>85.019997</td>\n",
       "      <td>NaN</td>\n",
       "      <td>24.279999</td>\n",
       "      <td>NaN</td>\n",
       "      <td>5.640000</td>\n",
       "      <td>142.169998</td>\n",
       "      <td>NaN</td>\n",
       "      <td>35.040001</td>\n",
       "      <td>127.949997</td>\n",
       "      <td>170.029999</td>\n",
       "    </tr>\n",
       "    <tr>\n",
       "      <th>2011</th>\n",
       "      <td>26.180000</td>\n",
       "      <td>NaN</td>\n",
       "      <td>35.029999</td>\n",
       "      <td>NaN</td>\n",
       "      <td>0.450000</td>\n",
       "      <td>156.779999</td>\n",
       "      <td>NaN</td>\n",
       "      <td>17.820000</td>\n",
       "      <td>59.649998</td>\n",
       "      <td>143.839996</td>\n",
       "    </tr>\n",
       "    <tr>\n",
       "      <th>2012</th>\n",
       "      <td>11.010000</td>\n",
       "      <td>NaN</td>\n",
       "      <td>23.219999</td>\n",
       "      <td>NaN</td>\n",
       "      <td>NaN</td>\n",
       "      <td>107.360001</td>\n",
       "      <td>NaN</td>\n",
       "      <td>7.690000</td>\n",
       "      <td>21.710001</td>\n",
       "      <td>99.739998</td>\n",
       "    </tr>\n",
       "    <tr>\n",
       "      <th>2013</th>\n",
       "      <td>1.540000</td>\n",
       "      <td>NaN</td>\n",
       "      <td>12.380000</td>\n",
       "      <td>NaN</td>\n",
       "      <td>NaN</td>\n",
       "      <td>113.250000</td>\n",
       "      <td>25.990000</td>\n",
       "      <td>3.140000</td>\n",
       "      <td>8.590000</td>\n",
       "      <td>88.580002</td>\n",
       "    </tr>\n",
       "    <tr>\n",
       "      <th>2014</th>\n",
       "      <td>NaN</td>\n",
       "      <td>NaN</td>\n",
       "      <td>13.280001</td>\n",
       "      <td>NaN</td>\n",
       "      <td>NaN</td>\n",
       "      <td>47.759998</td>\n",
       "      <td>100.000000</td>\n",
       "      <td>0.240000</td>\n",
       "      <td>3.750000</td>\n",
       "      <td>34.740002</td>\n",
       "    </tr>\n",
       "    <tr>\n",
       "      <th>2015</th>\n",
       "      <td>NaN</td>\n",
       "      <td>NaN</td>\n",
       "      <td>8.520000</td>\n",
       "      <td>NaN</td>\n",
       "      <td>NaN</td>\n",
       "      <td>16.820000</td>\n",
       "      <td>118.900002</td>\n",
       "      <td>0.120000</td>\n",
       "      <td>1.140000</td>\n",
       "      <td>11.960000</td>\n",
       "    </tr>\n",
       "    <tr>\n",
       "      <th>2016</th>\n",
       "      <td>NaN</td>\n",
       "      <td>NaN</td>\n",
       "      <td>5.250000</td>\n",
       "      <td>NaN</td>\n",
       "      <td>NaN</td>\n",
       "      <td>3.600000</td>\n",
       "      <td>69.250000</td>\n",
       "      <td>NaN</td>\n",
       "      <td>0.180000</td>\n",
       "      <td>1.520000</td>\n",
       "    </tr>\n",
       "  </tbody>\n",
       "</table>\n",
       "</div>"
      ],
      "text/plain": [
       "platform                 ds        gba         pc          ps         ps2  \\\n",
       "year_of_release                                                             \n",
       "1985               0.020000        NaN   0.040000         NaN         NaN   \n",
       "1988                    NaN        NaN   0.030000         NaN         NaN   \n",
       "1992                    NaN        NaN   3.030000         NaN         NaN   \n",
       "1994                    NaN        NaN  12.870000    6.030000         NaN   \n",
       "1995                    NaN        NaN   4.220000   35.959999         NaN   \n",
       "1996                    NaN        NaN  10.580000   94.700005         NaN   \n",
       "1997                    NaN        NaN  11.270000  136.169998         NaN   \n",
       "1998                    NaN        NaN   3.260000  169.490005         NaN   \n",
       "1999                    NaN        NaN   4.740000  144.529999         NaN   \n",
       "2000                    NaN   0.070000   4.660000   96.370003   39.170002   \n",
       "2001                    NaN  61.529999   5.470000   35.590000  166.430008   \n",
       "2002                    NaN  74.159996   8.570000    6.670000  205.380005   \n",
       "2003                    NaN  56.669998   8.840000    2.070000  184.309998   \n",
       "2004              17.270000  77.910004  10.389999         NaN  211.809998   \n",
       "2005             130.139999  33.860001   4.370000         NaN  160.660004   \n",
       "2006             119.809998   5.280000   2.850000         NaN  103.419998   \n",
       "2007             146.940002   3.400000   9.280000         NaN   75.989998   \n",
       "2008             145.309998        NaN  12.419999         NaN   53.900002   \n",
       "2009             119.540001        NaN  16.910000         NaN   26.400000   \n",
       "2010              85.019997        NaN  24.279999         NaN    5.640000   \n",
       "2011              26.180000        NaN  35.029999         NaN    0.450000   \n",
       "2012              11.010000        NaN  23.219999         NaN         NaN   \n",
       "2013               1.540000        NaN  12.380000         NaN         NaN   \n",
       "2014                    NaN        NaN  13.280001         NaN         NaN   \n",
       "2015                    NaN        NaN   8.520000         NaN         NaN   \n",
       "2016                    NaN        NaN   5.250000         NaN         NaN   \n",
       "\n",
       "platform                ps3         ps4        psp         wii        x360  \n",
       "year_of_release                                                             \n",
       "1985                    NaN         NaN        NaN         NaN         NaN  \n",
       "1988                    NaN         NaN        NaN         NaN         NaN  \n",
       "1992                    NaN         NaN        NaN         NaN         NaN  \n",
       "1994                    NaN         NaN        NaN         NaN         NaN  \n",
       "1995                    NaN         NaN        NaN         NaN         NaN  \n",
       "1996                    NaN         NaN        NaN         NaN         NaN  \n",
       "1997                    NaN         NaN        NaN         NaN         NaN  \n",
       "1998                    NaN         NaN        NaN         NaN         NaN  \n",
       "1999                    NaN         NaN        NaN         NaN         NaN  \n",
       "2000                    NaN         NaN        NaN         NaN         NaN  \n",
       "2001                    NaN         NaN        NaN         NaN         NaN  \n",
       "2002                    NaN         NaN        NaN         NaN         NaN  \n",
       "2003                    NaN         NaN        NaN         NaN         NaN  \n",
       "2004                    NaN         NaN   7.060000         NaN         NaN  \n",
       "2005                    NaN         NaN  43.840000         NaN    8.250000  \n",
       "2006              20.960001         NaN  55.320000  137.149994   51.619999  \n",
       "2007              73.190002         NaN  46.930000  152.770004   95.409996  \n",
       "2008             118.519997         NaN  34.549999  171.320007  135.259995  \n",
       "2009             130.930008         NaN  37.779999  206.970001  120.290001  \n",
       "2010             142.169998         NaN  35.040001  127.949997  170.029999  \n",
       "2011             156.779999         NaN  17.820000   59.649998  143.839996  \n",
       "2012             107.360001         NaN   7.690000   21.710001   99.739998  \n",
       "2013             113.250000   25.990000   3.140000    8.590000   88.580002  \n",
       "2014              47.759998  100.000000   0.240000    3.750000   34.740002  \n",
       "2015              16.820000  118.900002   0.120000    1.140000   11.960000  \n",
       "2016               3.600000   69.250000        NaN    0.180000    1.520000  "
      ]
     },
     "execution_count": 62,
     "metadata": {},
     "output_type": "execute_result"
    }
   ],
   "source": [
    "# Посмотрим как менялись по годам продажи у топ-10 платформ\n",
    "list_p = ['ps2', 'x360', 'ps3', 'wii', 'ds', 'ps', 'gba', 'ps4', 'psp', 'pc']\n",
    "data_platforms = data.query('platform in @list_p')\n",
    "data_platforms = data_platforms.pivot_table(index='year_of_release', columns='platform', values='total_sales', aggfunc='sum')\n",
    "data_platforms"
   ]
  },
  {
   "cell_type": "code",
   "execution_count": 63,
   "metadata": {},
   "outputs": [],
   "source": [
    "# В таблице много NaN, это означает, что в определенный год на платформе не было продаж, заменим пропуски на 0.\n",
    "data_platforms = data_platforms.fillna(0)"
   ]
  },
  {
   "cell_type": "code",
   "execution_count": 64,
   "metadata": {},
   "outputs": [
    {
     "data": {
      "image/png": "[encoded data removed]",
      "text/plain": [
       "<Figure size 720x432 with 10 Axes>"
      ]
     },
     "metadata": {
      "needs_background": "light"
     },
     "output_type": "display_data"
    }
   ],
   "source": [
    "# Построим график\n",
    "axes = data_platforms.plot.bar(figsize=(10,6), subplots=True, alpha=0.5, title ='Динамика продаж', xlabel='год выпуска', rot=45)\n",
    "[ax.set_title(None) for ax in axes]\n",
    "plt.show()"
   ]
  },
  {
   "cell_type": "markdown",
   "metadata": {},
   "source": [
    "**Вывод:** \n",
    "- Судя по гистограмме распределения выпущенных игр по годам, больше всего игр выпускалось в период с 2005 по 2011 год.\n",
    "- Судя по гистограмме распределения продаж, платформы в среднем живут около 10 лет, а пик продаж длится около 4 лет, за исключением pc, которая существует практически весь рассматриваемый период. Также, больше всего платформ было активно примерно с 2006 по 2014.\n",
    "- Исходя из этих наблюдений, **актуальный период можно обозначить с 2013 по 2016 год**, важно учитывать, что за 2016 год данные могут быть неполными."
   ]
  },
  {
   "cell_type": "markdown",
   "metadata": {},
   "source": [
    "### Исследование платформ"
   ]
  },
  {
   "cell_type": "code",
   "execution_count": 65,
   "metadata": {},
   "outputs": [],
   "source": [
    "# Отбросим данные до 2013 года\n",
    "data = data.query('year_of_release >= 2013')"
   ]
  },
  {
   "cell_type": "code",
   "execution_count": 66,
   "metadata": {},
   "outputs": [
    {
     "data": {
      "text/plain": [
       "platform\n",
       "ps4     314.140015\n",
       "ps3     181.429993\n",
       "xone    159.320007\n",
       "3ds     143.250000\n",
       "x360    136.800003\n",
       "Name: total_sales, dtype: float32"
      ]
     },
     "execution_count": 66,
     "metadata": {},
     "output_type": "execute_result"
    }
   ],
   "source": [
    "# Выявим 5 потенциально прибыльных платформы на актуальный период\n",
    "data.groupby('platform')['total_sales'].sum().sort_values(ascending=False).head()"
   ]
  },
  {
   "cell_type": "code",
   "execution_count": 67,
   "metadata": {},
   "outputs": [
    {
     "data": {
      "text/html": [
       "<div>\n",
       "<style scoped>\n",
       "    .dataframe tbody tr th:only-of-type {\n",
       "        vertical-align: middle;\n",
       "    }\n",
       "\n",
       "    .dataframe tbody tr th {\n",
       "        vertical-align: top;\n",
       "    }\n",
       "\n",
       "    .dataframe thead th {\n",
       "        text-align: right;\n",
       "    }\n",
       "</style>\n",
       "<table border=\"1\" class=\"dataframe\">\n",
       "  <thead>\n",
       "    <tr style=\"text-align: right;\">\n",
       "      <th>platform</th>\n",
       "      <th>3ds</th>\n",
       "      <th>ps3</th>\n",
       "      <th>ps4</th>\n",
       "      <th>x360</th>\n",
       "      <th>xone</th>\n",
       "    </tr>\n",
       "    <tr>\n",
       "      <th>year_of_release</th>\n",
       "      <th></th>\n",
       "      <th></th>\n",
       "      <th></th>\n",
       "      <th></th>\n",
       "      <th></th>\n",
       "    </tr>\n",
       "  </thead>\n",
       "  <tbody>\n",
       "    <tr>\n",
       "      <th>2013</th>\n",
       "      <td>56.570000</td>\n",
       "      <td>113.250000</td>\n",
       "      <td>25.990000</td>\n",
       "      <td>88.580002</td>\n",
       "      <td>18.960001</td>\n",
       "    </tr>\n",
       "    <tr>\n",
       "      <th>2014</th>\n",
       "      <td>43.759998</td>\n",
       "      <td>47.759998</td>\n",
       "      <td>100.000000</td>\n",
       "      <td>34.740002</td>\n",
       "      <td>54.070000</td>\n",
       "    </tr>\n",
       "    <tr>\n",
       "      <th>2015</th>\n",
       "      <td>27.780001</td>\n",
       "      <td>16.820000</td>\n",
       "      <td>118.900002</td>\n",
       "      <td>11.960000</td>\n",
       "      <td>60.139999</td>\n",
       "    </tr>\n",
       "    <tr>\n",
       "      <th>2016</th>\n",
       "      <td>15.140000</td>\n",
       "      <td>3.600000</td>\n",
       "      <td>69.250000</td>\n",
       "      <td>1.520000</td>\n",
       "      <td>26.150000</td>\n",
       "    </tr>\n",
       "  </tbody>\n",
       "</table>\n",
       "</div>"
      ],
      "text/plain": [
       "platform               3ds         ps3         ps4       x360       xone\n",
       "year_of_release                                                         \n",
       "2013             56.570000  113.250000   25.990000  88.580002  18.960001\n",
       "2014             43.759998   47.759998  100.000000  34.740002  54.070000\n",
       "2015             27.780001   16.820000  118.900002  11.960000  60.139999\n",
       "2016             15.140000    3.600000   69.250000   1.520000  26.150000"
      ]
     },
     "execution_count": 67,
     "metadata": {},
     "output_type": "execute_result"
    }
   ],
   "source": [
    "# Проследим динамику продаж для этих 5 платформ\n",
    "list_p = ['ps4', 'xone', '3ds', 'ps3', 'x360']\n",
    "\n",
    "data_platforms = data.query('platform in @list_p')\n",
    "data_platforms = data_platforms.pivot_table(index='year_of_release', columns='platform', values='total_sales', aggfunc='sum').fillna(0)\n",
    "data_platforms"
   ]
  },
  {
   "cell_type": "code",
   "execution_count": 68,
   "metadata": {
    "scrolled": true
   },
   "outputs": [
    {
     "data": {
      "image/png": "[encoded data removed]",
      "text/plain": [
       "<Figure size 432x288 with 1 Axes>"
      ]
     },
     "metadata": {
      "needs_background": "light"
     },
     "output_type": "display_data"
    }
   ],
   "source": [
    "# Построим график\n",
    "data_platforms.plot.bar(color=sns.cubehelix_palette(start=8), alpha=0.8, xlabel='год выпуска', ylabel='кол-во продаж в млн.', rot=45, title='Распределение продаж топ-5 платформ по годам')\n",
    "plt.show()"
   ]
  },
  {
   "cell_type": "code",
   "execution_count": 69,
   "metadata": {},
   "outputs": [
    {
     "data": {
      "image/png": "[encoded data removed]",
      "text/plain": [
       "<Figure size 720x576 with 1 Axes>"
      ]
     },
     "metadata": {
      "needs_background": "light"
     },
     "output_type": "display_data"
    }
   ],
   "source": [
    "# Построим распределение\n",
    "plt.figure(figsize=(10, 8))\n",
    "(sns.boxplot(data = data.query('platform in @list_p'), y = 'total_sales', x='platform')\n",
    "    .set(title = 'Продажи по перспективным платформам за 2013-2016 гг', xlabel = 'Платформы', ylabel = 'Общие продажи'))\n",
    "plt.show()"
   ]
  },
  {
   "cell_type": "markdown",
   "metadata": {},
   "source": [
    "**Вывод:** \n",
    "- Судя по графику, продажи большинства платформ-лидеров падают, подъем ожидается для ps4 и xone. Необходимо также учитывать, что продажи в 2016 году ниже, так как данные за этот год неполные.\n",
    "- Судя по коробчатой диаграмме, выше всего медианные продажи у ps4 и xone, ниже всего у x360. Для платформ xone и 3ds характерен более однородный разброс продаж, это значит, что их продажи стабильны, также у xone меньше всего выбросов. У ps4 есть выбивающиеся низкие продажи, а у ps3  и x360 напротив выбивающиеся высокие, соответственно игры для данных платформ продаются менее стабильно. Для ps3 характерны самые высокие выбросы. Также, судя по диаграмме, для всех платформ характерно ненормальное распределение со сдвигом вправо, т.е. к высоким значениям.\n",
    "- Исходя из вышесказанного можно сделать вывод, что продажи игр для приставок восьмого поколения идут не спад, а продажи для приставок восьмого поколения растут."
   ]
  },
  {
   "cell_type": "markdown",
   "metadata": {},
   "source": [
    "### Влияние отзывов на продажи"
   ]
  },
  {
   "cell_type": "code",
   "execution_count": 70,
   "metadata": {},
   "outputs": [
    {
     "data": {
      "text/plain": [
       "platform\n",
       "ps4     257\n",
       "ps3     186\n",
       "xone    182\n",
       "pc      155\n",
       "x360    143\n",
       "Name: user_score, dtype: int64"
      ]
     },
     "execution_count": 70,
     "metadata": {},
     "output_type": "execute_result"
    }
   ],
   "source": [
    "# Выберем наибольшую доступную выборку для изучения влияния отзывов на продажи.\n",
    "data.groupby('platform')['user_score'].count().sort_values(ascending=False).head()"
   ]
  },
  {
   "cell_type": "code",
   "execution_count": 71,
   "metadata": {},
   "outputs": [
    {
     "data": {
      "text/plain": [
       "platform\n",
       "ps4     252\n",
       "xone    169\n",
       "pc      149\n",
       "ps3     121\n",
       "x360     81\n",
       "Name: critic_score, dtype: int64"
      ]
     },
     "execution_count": 71,
     "metadata": {},
     "output_type": "execute_result"
    }
   ],
   "source": [
    "data.groupby('platform')['critic_score'].count().sort_values(ascending=False).head()"
   ]
  },
  {
   "cell_type": "markdown",
   "metadata": {},
   "source": [
    "Проследим влияние *отзывов критиков* на продажи на примере платформы ps4. Получим коэффициент корреляции Пирсона и построим диаграмму рессеяния."
   ]
  },
  {
   "cell_type": "code",
   "execution_count": 72,
   "metadata": {},
   "outputs": [
    {
     "data": {
      "text/plain": [
       "0.40656790102834933"
      ]
     },
     "execution_count": 72,
     "metadata": {},
     "output_type": "execute_result"
    }
   ],
   "source": [
    "# Проследим влияние отзывов критиков на продажи на примере платформы ps4\n",
    "data_platform = data.query('platform == \"ps4\"')\n",
    "# Получим коэффициент корреляции Пирсона  \n",
    "data_platform['critic_score'].corr(data_platform['total_sales'])"
   ]
  },
  {
   "cell_type": "code",
   "execution_count": 73,
   "metadata": {},
   "outputs": [
    {
     "data": {
      "image/png": "[encoded data removed]",
      "text/plain": [
       "<Figure size 432x288 with 1 Axes>"
      ]
     },
     "metadata": {
      "needs_background": "light"
     },
     "output_type": "display_data"
    }
   ],
   "source": [
    "# Построим диаграмму рассеяния\n",
    "data_platform.plot(x='critic_score', y='total_sales', kind='scatter', color='purple', alpha=0.5, title='Влияние отзывов критиков на продажи', xlabel='отзыв критиков', ylabel='глобальные продажи')\n",
    "plt.show()"
   ]
  },
  {
   "cell_type": "code",
   "execution_count": 74,
   "metadata": {},
   "outputs": [
    {
     "data": {
      "text/plain": [
       "-0.031957106803334974"
      ]
     },
     "execution_count": 74,
     "metadata": {},
     "output_type": "execute_result"
    }
   ],
   "source": [
    "# Проследим влияние отзывов пользователей на продажи на примере платформы ps4. Получим коэффициент корреляции Пирсона\n",
    "data_platform['user_score'].corr(data_platform['total_sales'])"
   ]
  },
  {
   "cell_type": "code",
   "execution_count": 75,
   "metadata": {},
   "outputs": [
    {
     "data": {
      "image/png": "[encoded data removed]",
      "text/plain": [
       "<Figure size 432x288 with 1 Axes>"
      ]
     },
     "metadata": {
      "needs_background": "light"
     },
     "output_type": "display_data"
    }
   ],
   "source": [
    "# Построим диаграмму рессеяния\n",
    "data_platform.plot(x='user_score', y='total_sales', kind='scatter', color='purple', alpha=0.5, title='Влияние отзывов пользователей на продажи', xlabel='отзыв пользователей', ylabel='глобальные продажи')\n",
    "plt.show()"
   ]
  },
  {
   "cell_type": "code",
   "execution_count": 76,
   "metadata": {},
   "outputs": [
    {
     "data": {
      "image/png": "[encoded data removed]",
      "text/plain": [
       "<Figure size 432x288 with 1 Axes>"
      ]
     },
     "metadata": {
      "needs_background": "light"
     },
     "output_type": "display_data"
    },
    {
     "name": "stdout",
     "output_type": "stream",
     "text": [
      "Коэффициент корреляции для ps4 = 0.40656790102834933\n"
     ]
    },
    {
     "data": {
      "image/png": "[encoded data removed]",
      "text/plain": [
       "<Figure size 432x288 with 1 Axes>"
      ]
     },
     "metadata": {
      "needs_background": "light"
     },
     "output_type": "display_data"
    },
    {
     "name": "stdout",
     "output_type": "stream",
     "text": [
      "Коэффициент корреляции для xone = 0.41699832684400107\n"
     ]
    },
    {
     "data": {
      "image/png": "[encoded data removed]",
      "text/plain": [
       "<Figure size 432x288 with 1 Axes>"
      ]
     },
     "metadata": {
      "needs_background": "light"
     },
     "output_type": "display_data"
    },
    {
     "name": "stdout",
     "output_type": "stream",
     "text": [
      "Коэффициент корреляции для 3ds = 0.3570566231203626\n"
     ]
    },
    {
     "data": {
      "image/png": "[encoded data removed]",
      "text/plain": [
       "<Figure size 432x288 with 1 Axes>"
      ]
     },
     "metadata": {
      "needs_background": "light"
     },
     "output_type": "display_data"
    },
    {
     "name": "stdout",
     "output_type": "stream",
     "text": [
      "Коэффициент корреляции для ps3 = 0.33428534440727564\n"
     ]
    },
    {
     "data": {
      "image/png": "[encoded data removed]",
      "text/plain": [
       "<Figure size 432x288 with 1 Axes>"
      ]
     },
     "metadata": {
      "needs_background": "light"
     },
     "output_type": "display_data"
    },
    {
     "name": "stdout",
     "output_type": "stream",
     "text": [
      "Коэффициент корреляции для x360 = 0.3503445453630288\n"
     ]
    }
   ],
   "source": [
    "# Построим графики корреляции отзывов критиков на продажи для остальных 5 платформ\n",
    "for p in list_p:\n",
    "    data_platforms = data.query('platform == @p')\n",
    "    data_platforms.plot(x='critic_score', y='total_sales', kind='scatter', color='purple', alpha=0.5, title='Влияние отзывов критиков на продажи', xlabel='отзыв критиков', ylabel='глобальные продажи')\n",
    "    plt.show()\n",
    "    print(f'Коэффициент корреляции для {p} =', data_platforms['critic_score'].corr(data_platforms['total_sales']))"
   ]
  },
  {
   "cell_type": "code",
   "execution_count": 77,
   "metadata": {},
   "outputs": [
    {
     "data": {
      "image/png": "[encoded data removed]",
      "text/plain": [
       "<Figure size 432x288 with 1 Axes>"
      ]
     },
     "metadata": {
      "needs_background": "light"
     },
     "output_type": "display_data"
    },
    {
     "name": "stdout",
     "output_type": "stream",
     "text": [
      "Коэффициент корреляции для ps4 = -0.031957106803334974\n"
     ]
    },
    {
     "data": {
      "image/png": "[encoded data removed]",
      "text/plain": [
       "<Figure size 432x288 with 1 Axes>"
      ]
     },
     "metadata": {
      "needs_background": "light"
     },
     "output_type": "display_data"
    },
    {
     "name": "stdout",
     "output_type": "stream",
     "text": [
      "Коэффициент корреляции для xone = -0.06892505838290514\n"
     ]
    },
    {
     "data": {
      "image/png": "[encoded data removed]",
      "text/plain": [
       "<Figure size 432x288 with 1 Axes>"
      ]
     },
     "metadata": {
      "needs_background": "light"
     },
     "output_type": "display_data"
    },
    {
     "name": "stdout",
     "output_type": "stream",
     "text": [
      "Коэффициент корреляции для 3ds = 0.24150412124356918\n"
     ]
    },
    {
     "data": {
      "image/png": "[encoded data removed]",
      "text/plain": [
       "<Figure size 432x288 with 1 Axes>"
      ]
     },
     "metadata": {
      "needs_background": "light"
     },
     "output_type": "display_data"
    },
    {
     "name": "stdout",
     "output_type": "stream",
     "text": [
      "Коэффициент корреляции для ps3 = 0.0023944072401715305\n"
     ]
    },
    {
     "data": {
      "image/png": "[encoded data removed]",
      "text/plain": [
       "<Figure size 432x288 with 1 Axes>"
      ]
     },
     "metadata": {
      "needs_background": "light"
     },
     "output_type": "display_data"
    },
    {
     "name": "stdout",
     "output_type": "stream",
     "text": [
      "Коэффициент корреляции для x360 = -0.011742185794802308\n"
     ]
    }
   ],
   "source": [
    "# Построим графики корреляции отзывов пользователей на продажи для остальных 5 платформ\n",
    "for p in list_p:\n",
    "    data_platforms = data.query('platform == @p')\n",
    "    data_platforms.plot(x='user_score', y='total_sales', kind='scatter', color='purple', alpha=0.5, title='Влияние отзывов пользователей на продажи', xlabel='отзыв пользователей', ylabel='глобальные продажи')\n",
    "    plt.show()\n",
    "    print(f'Коэффициент корреляции для {p} =', data_platforms['user_score'].corr(data_platforms['total_sales']))"
   ]
  },
  {
   "cell_type": "markdown",
   "metadata": {},
   "source": [
    "**Вывод:** \n",
    "- Коэффициент корреляции отзывов критиков и продаж примерно равен 0.4, это значит, что между этими переменными умеренная положительная взаимосвязь. По графику, также видно, что тенденция усиливается на самых высоких оценках. Возможно, оценка критика влияет на уровень продаж и наоборот.\n",
    "- Коэффициент корреляции отзывов пользователей и продаж примерно равен -0.03, это значит, что между этими переменными совершенно незначительная отрицательная взаимосвязь. По графику заметны выбросы. Однако вероятность, что отзыв пользователей влияет на уровень продаж крайне низка.\n",
    "- Для остальных платформ, оценка критиков также имеет влияние на продажи, оценка пользователей - незначительный фактор увеличения продаж."
   ]
  },
  {
   "cell_type": "markdown",
   "metadata": {},
   "source": [
    "### Исследование жанров"
   ]
  },
  {
   "cell_type": "code",
   "execution_count": 78,
   "metadata": {},
   "outputs": [
    {
     "data": {
      "text/plain": [
       "action          766\n",
       "role-playing    292\n",
       "adventure       245\n",
       "sports          214\n",
       "shooter         187\n",
       "misc            155\n",
       "racing           85\n",
       "fighting         80\n",
       "platform         74\n",
       "simulation       62\n",
       "strategy         56\n",
       "puzzle           17\n",
       "Name: genre, dtype: int64"
      ]
     },
     "execution_count": 78,
     "metadata": {},
     "output_type": "execute_result"
    }
   ],
   "source": [
    "# Изучим распределение игр по жанрам\n",
    "data['genre'].value_counts()"
   ]
  },
  {
   "cell_type": "code",
   "execution_count": 79,
   "metadata": {},
   "outputs": [
    {
     "data": {
      "text/plain": [
       "genre\n",
       "shooter         0.450\n",
       "sports          0.240\n",
       "platform        0.225\n",
       "fighting        0.125\n",
       "role-playing    0.125\n",
       "racing          0.120\n",
       "action          0.110\n",
       "simulation      0.100\n",
       "misc            0.100\n",
       "strategy        0.080\n",
       "puzzle          0.060\n",
       "adventure       0.030\n",
       "Name: total_sales, dtype: float32"
      ]
     },
     "execution_count": 79,
     "metadata": {},
     "output_type": "execute_result"
    }
   ],
   "source": [
    "# Изучим распределение жанров по уровню продаж\n",
    "data.groupby('genre')['total_sales'].median().sort_values(ascending=False)"
   ]
  },
  {
   "cell_type": "code",
   "execution_count": 80,
   "metadata": {},
   "outputs": [
    {
     "data": {
      "image/png": "[encoded data removed]",
      "text/plain": [
       "<Figure size 432x288 with 1 Axes>"
      ]
     },
     "metadata": {
      "needs_background": "light"
     },
     "output_type": "display_data"
    }
   ],
   "source": [
    "# Для наглядности построим график\n",
    "data.groupby('genre')['total_sales'].median().sort_values(ascending=False).plot.bar(color=sns.cubehelix_palette(10, start=2, rot=0.5), alpha=0.5, rot=60, xlabel='жанр', ylabel='кол-во проданных копий в млн.', title='Распределение продаж игр по жанрам')\n",
    "plt.show()"
   ]
  },
  {
   "cell_type": "markdown",
   "metadata": {},
   "source": [
    "**Вывод:** \n",
    "- Судя по распределению количества выпущенных игр по жанрам, больше всего выпускают игр в жанре action (766 игр) и role-playing (292 игр), меньше всего puzzle (17 игр) и strategy (56 игр). Можно предположить, что спрос на игры в жанрах action и role-playing самый высокий, а на puzzle и strategy самый низкий.\n",
    "- Судя по распределению количества продаж игр по жанрам, больше всего покупают игры в жанре shooter и action, это значит, что в действиетльности спрос на role-playing и action не такой высокий. Меньше всего покупают игры в жанре puzzle и adventure, это соответствует предположению выше."
   ]
  },
  {
   "cell_type": "markdown",
   "metadata": {},
   "source": [
    "## Исследовательский анализ рынков"
   ]
  },
  {
   "cell_type": "markdown",
   "metadata": {},
   "source": [
    "### Изучение популярных платформ для разных регионов"
   ]
  },
  {
   "cell_type": "code",
   "execution_count": 81,
   "metadata": {},
   "outputs": [],
   "source": [
    "# Наптшем функцию для выделения топ-5 платформ, остальные отнесем в \"другое\"\n",
    "def platformer(platform):\n",
    "    if platform in list_p:\n",
    "        return platform\n",
    "    else:\n",
    "        return 'other'"
   ]
  },
  {
   "cell_type": "code",
   "execution_count": 82,
   "metadata": {},
   "outputs": [
    {
     "data": {
      "text/html": [
       "<div>\n",
       "<style scoped>\n",
       "    .dataframe tbody tr th:only-of-type {\n",
       "        vertical-align: middle;\n",
       "    }\n",
       "\n",
       "    .dataframe tbody tr th {\n",
       "        vertical-align: top;\n",
       "    }\n",
       "\n",
       "    .dataframe thead th {\n",
       "        text-align: right;\n",
       "    }\n",
       "</style>\n",
       "<table border=\"1\" class=\"dataframe\">\n",
       "  <thead>\n",
       "    <tr style=\"text-align: right;\">\n",
       "      <th></th>\n",
       "      <th>eu_sales</th>\n",
       "      <th>jp_sales</th>\n",
       "      <th>na_sales</th>\n",
       "    </tr>\n",
       "    <tr>\n",
       "      <th>platform</th>\n",
       "      <th></th>\n",
       "      <th></th>\n",
       "      <th></th>\n",
       "    </tr>\n",
       "  </thead>\n",
       "  <tbody>\n",
       "    <tr>\n",
       "      <th>3ds</th>\n",
       "      <td>0.078933</td>\n",
       "      <td>0.481674</td>\n",
       "      <td>0.087272</td>\n",
       "    </tr>\n",
       "    <tr>\n",
       "      <th>other</th>\n",
       "      <td>0.148535</td>\n",
       "      <td>0.233059</td>\n",
       "      <td>0.119920</td>\n",
       "    </tr>\n",
       "    <tr>\n",
       "      <th>ps3</th>\n",
       "      <td>0.172883</td>\n",
       "      <td>0.165862</td>\n",
       "      <td>0.145073</td>\n",
       "    </tr>\n",
       "    <tr>\n",
       "      <th>ps4</th>\n",
       "      <td>0.359712</td>\n",
       "      <td>0.113368</td>\n",
       "      <td>0.248429</td>\n",
       "    </tr>\n",
       "    <tr>\n",
       "      <th>x360</th>\n",
       "      <td>0.108406</td>\n",
       "      <td>0.003623</td>\n",
       "      <td>0.186562</td>\n",
       "    </tr>\n",
       "    <tr>\n",
       "      <th>xone</th>\n",
       "      <td>0.131530</td>\n",
       "      <td>0.002415</td>\n",
       "      <td>0.212744</td>\n",
       "    </tr>\n",
       "  </tbody>\n",
       "</table>\n",
       "</div>"
      ],
      "text/plain": [
       "          eu_sales  jp_sales  na_sales\n",
       "platform                              \n",
       "3ds       0.078933  0.481674  0.087272\n",
       "other     0.148535  0.233059  0.119920\n",
       "ps3       0.172883  0.165862  0.145073\n",
       "ps4       0.359712  0.113368  0.248429\n",
       "x360      0.108406  0.003623  0.186562\n",
       "xone      0.131530  0.002415  0.212744"
      ]
     },
     "execution_count": 82,
     "metadata": {},
     "output_type": "execute_result"
    }
   ],
   "source": [
    "# Построим таблицу с долей продаж для топ-5 платформ для разных регионов.\n",
    "data_platforms = data.reset_index(drop=True)\n",
    "data_platforms['platform'] = data_platforms['platform'].apply(platformer)\n",
    "data_platforms = data_platforms.pivot_table(index='platform', values=('na_sales', 'eu_sales', 'jp_sales'), aggfunc='sum')\n",
    "data_platforms = data_platforms/data[['eu_sales', 'na_sales', 'jp_sales']].sum()\n",
    "data_platforms"
   ]
  },
  {
   "cell_type": "code",
   "execution_count": 83,
   "metadata": {},
   "outputs": [
    {
     "data": {
      "image/png": "[encoded data removed]",
      "text/plain": [
       "<Figure size 1080x360 with 3 Axes>"
      ]
     },
     "metadata": {},
     "output_type": "display_data"
    }
   ],
   "source": [
    "# Построим график распределения\n",
    "axes = data_platforms.plot.pie(normalize=True, subplots=True, colors=sns.cubehelix_palette(start=2), title='Распределение доли продаж по платформам для разных регионов', figsize=(15,5))\n",
    "plt.show()"
   ]
  },
  {
   "cell_type": "markdown",
   "metadata": {},
   "source": [
    "**Вывод:**\n",
    "- Пользователи из Европы больше всего отдают предпочтение японской платформе ps4 (разработчик Sony), являющейся приставкой восьмого поколения, меньше всего японской платформе 3ds разработчика nintendo.\n",
    "- Пользователи из Японии напротив больше всего отдают предпочтение платформе 3ds. А меньше всего американской платформе xone. Также для них, в отличие от других регионов, характерно бОльшее доверие платформам, не входящим в топ-5.\n",
    "- Пользователи из Северной Америки больше всего предпочитают ps4, на втором месте американская xone, а меньше всего 3ds, приставку восьмого поколения nintendo.\n",
    "- Различие в долях продаж можно объяснить культурным и территориальным фактором. Японцы больше всего доверяют отечественному производителю, стоит также отметить, что больше они предпочитают японские региональные компании, нежели японские транснациональные и больше остальных предпочитают непопулярные платформы. Американцы и европейцы в свою очередь практически не поддерживают японские региональные компании, однако покупают много игр от японских и американских транснациональных компаний, также в этом отношении европейцы больше предпочитают первые, нежели вторые."
   ]
  },
  {
   "cell_type": "markdown",
   "metadata": {},
   "source": [
    "### Изучение популярных жанров для разных регионов"
   ]
  },
  {
   "cell_type": "code",
   "execution_count": 84,
   "metadata": {},
   "outputs": [],
   "source": [
    "# Напишем функцию для выделения топ-5 платформ по жанрам, остальные отметим как \"другое\"\n",
    "def genrer(genre):\n",
    "    if genre in list_j:\n",
    "        return genre\n",
    "    else:\n",
    "        return 'other'"
   ]
  },
  {
   "cell_type": "code",
   "execution_count": 85,
   "metadata": {
    "scrolled": true
   },
   "outputs": [
    {
     "data": {
      "text/html": [
       "<div>\n",
       "<style scoped>\n",
       "    .dataframe tbody tr th:only-of-type {\n",
       "        vertical-align: middle;\n",
       "    }\n",
       "\n",
       "    .dataframe tbody tr th {\n",
       "        vertical-align: top;\n",
       "    }\n",
       "\n",
       "    .dataframe thead th {\n",
       "        text-align: right;\n",
       "    }\n",
       "</style>\n",
       "<table border=\"1\" class=\"dataframe\">\n",
       "  <thead>\n",
       "    <tr style=\"text-align: right;\">\n",
       "      <th></th>\n",
       "      <th>eu_sales</th>\n",
       "      <th>jp_sales</th>\n",
       "      <th>na_sales</th>\n",
       "    </tr>\n",
       "    <tr>\n",
       "      <th>genre</th>\n",
       "      <th></th>\n",
       "      <th></th>\n",
       "      <th></th>\n",
       "    </tr>\n",
       "  </thead>\n",
       "  <tbody>\n",
       "    <tr>\n",
       "      <th>fighting</th>\n",
       "      <td>0.021798</td>\n",
       "      <td>0.054340</td>\n",
       "      <td>0.035526</td>\n",
       "    </tr>\n",
       "    <tr>\n",
       "      <th>other</th>\n",
       "      <td>0.465926</td>\n",
       "      <td>0.463702</td>\n",
       "      <td>0.417194</td>\n",
       "    </tr>\n",
       "    <tr>\n",
       "      <th>platform</th>\n",
       "      <td>0.039722</td>\n",
       "      <td>0.034025</td>\n",
       "      <td>0.041443</td>\n",
       "    </tr>\n",
       "    <tr>\n",
       "      <th>role-playing</th>\n",
       "      <td>0.094256</td>\n",
       "      <td>0.362552</td>\n",
       "      <td>0.106006</td>\n",
       "    </tr>\n",
       "    <tr>\n",
       "      <th>shooter</th>\n",
       "      <td>0.224001</td>\n",
       "      <td>0.046953</td>\n",
       "      <td>0.250714</td>\n",
       "    </tr>\n",
       "    <tr>\n",
       "      <th>sports</th>\n",
       "      <td>0.154297</td>\n",
       "      <td>0.038429</td>\n",
       "      <td>0.149117</td>\n",
       "    </tr>\n",
       "  </tbody>\n",
       "</table>\n",
       "</div>"
      ],
      "text/plain": [
       "              eu_sales  jp_sales  na_sales\n",
       "genre                                     \n",
       "fighting      0.021798  0.054340  0.035526\n",
       "other         0.465926  0.463702  0.417194\n",
       "platform      0.039722  0.034025  0.041443\n",
       "role-playing  0.094256  0.362552  0.106006\n",
       "shooter       0.224001  0.046953  0.250714\n",
       "sports        0.154297  0.038429  0.149117"
      ]
     },
     "execution_count": 85,
     "metadata": {},
     "output_type": "execute_result"
    }
   ],
   "source": [
    "# Построим таблицу с долей продаж для топ-5 жанров для разных регионов\n",
    "list_j = ['shooter','sports','platform', 'fighting', 'role-playing']\n",
    "\n",
    "\n",
    "data_genres = data.reset_index(drop=True)\n",
    "data_genres['genre'] = data_genres['genre'].apply(genrer)\n",
    "data_genres = data_genres.pivot_table(index='genre', values=('na_sales', 'eu_sales', 'jp_sales'), aggfunc='sum')\n",
    "data_genres = data_genres/data[['eu_sales', 'na_sales', 'jp_sales']].sum()\n",
    "data_genres"
   ]
  },
  {
   "cell_type": "code",
   "execution_count": 49,
   "metadata": {},
   "outputs": [
    {
     "data": {
      "image/png": "[encoded data removed]",
      "text/plain": [
       "<Figure size 1152x288 with 3 Axes>"
      ]
     },
     "metadata": {},
     "output_type": "display_data"
    }
   ],
   "source": [
    "# Начертим круговую диаграмму для каждого региона\n",
    "countries = data_genres.columns\n",
    "fig, axs = plt.subplots(1, 3, figsize=(16, 4))\n",
    "fig.suptitle('ТОП-5 жанров в регионах')\n",
    "for i in range(3):\n",
    "\n",
    "  axs[i].pie(data_genres[countries[i]], labels = data_genres.index, colors=sns.cubehelix_palette(start=8))\n",
    "  # Зададим название региона.\n",
    "  axs[i].set_title(data_genres.columns[i].split('_')[0].upper()) \n",
    "   \n",
    "plt.show()"
   ]
  },
  {
   "cell_type": "markdown",
   "metadata": {},
   "source": [
    "**Вывод:**\n",
    "- Пользователи из всех регионов в основном выбирают игры жанров не из топ-5.\n",
    "- В остальном, предпочтения европейцев и пользователей из Северной Америки схожи. Больше всего они покупают игры в жанре shooter и sports, а меньше всего в жанрах platform и fighting.\n",
    "- Японцы больше всего покупают игры в жанре role-playing, а меньше всего в жанре sports и platform. Фавориты остальных регионах по уровню продаж в Японии также находятся в конце топа.\n",
    "- Таким образом, можно сказать, что поведение японцев от поведения европейцев и американцев существенно отличается."
   ]
  },
  {
   "cell_type": "markdown",
   "metadata": {},
   "source": [
    "### Изучение влияния рейтинга ESRB на продажи в разных регионах"
   ]
  },
  {
   "cell_type": "code",
   "execution_count": 105,
   "metadata": {
    "scrolled": true
   },
   "outputs": [
    {
     "data": {
      "text/html": [
       "<div>\n",
       "<style scoped>\n",
       "    .dataframe tbody tr th:only-of-type {\n",
       "        vertical-align: middle;\n",
       "    }\n",
       "\n",
       "    .dataframe tbody tr th {\n",
       "        vertical-align: top;\n",
       "    }\n",
       "\n",
       "    .dataframe thead th {\n",
       "        text-align: right;\n",
       "    }\n",
       "</style>\n",
       "<table border=\"1\" class=\"dataframe\">\n",
       "  <thead>\n",
       "    <tr style=\"text-align: right;\">\n",
       "      <th></th>\n",
       "      <th>eu_sales</th>\n",
       "      <th>jp_sales</th>\n",
       "      <th>na_sales</th>\n",
       "    </tr>\n",
       "    <tr>\n",
       "      <th>rating</th>\n",
       "      <th></th>\n",
       "      <th></th>\n",
       "      <th></th>\n",
       "    </tr>\n",
       "  </thead>\n",
       "  <tbody>\n",
       "    <tr>\n",
       "      <th>E</th>\n",
       "      <td>83.360001</td>\n",
       "      <td>15.140000</td>\n",
       "      <td>79.050003</td>\n",
       "    </tr>\n",
       "    <tr>\n",
       "      <th>E10+</th>\n",
       "      <td>42.689999</td>\n",
       "      <td>5.890000</td>\n",
       "      <td>54.240002</td>\n",
       "    </tr>\n",
       "    <tr>\n",
       "      <th>M</th>\n",
       "      <td>145.320007</td>\n",
       "      <td>14.110000</td>\n",
       "      <td>165.210007</td>\n",
       "    </tr>\n",
       "    <tr>\n",
       "      <th>T</th>\n",
       "      <td>41.950001</td>\n",
       "      <td>20.590000</td>\n",
       "      <td>49.790001</td>\n",
       "    </tr>\n",
       "    <tr>\n",
       "      <th>unknown</th>\n",
       "      <td>78.909996</td>\n",
       "      <td>85.050003</td>\n",
       "      <td>89.419998</td>\n",
       "    </tr>\n",
       "  </tbody>\n",
       "</table>\n",
       "</div>"
      ],
      "text/plain": [
       "           eu_sales   jp_sales    na_sales\n",
       "rating                                    \n",
       "E         83.360001  15.140000   79.050003\n",
       "E10+      42.689999   5.890000   54.240002\n",
       "M        145.320007  14.110000  165.210007\n",
       "T         41.950001  20.590000   49.790001\n",
       "unknown   78.909996  85.050003   89.419998"
      ]
     },
     "execution_count": 105,
     "metadata": {},
     "output_type": "execute_result"
    }
   ],
   "source": [
    "# Построим таблицу количеством продаж игр с разным возрастным ограничением\n",
    "data_esrb = data.pivot_table(index='rating', values=('na_sales', 'eu_sales', 'jp_sales'), aggfunc='sum')\n",
    "data_esrb"
   ]
  },
  {
   "cell_type": "code",
   "execution_count": 107,
   "metadata": {
    "scrolled": true
   },
   "outputs": [
    {
     "data": {
      "image/png": "[encoded data removed]",
      "text/plain": [
       "<Figure size 1080x360 with 3 Axes>"
      ]
     },
     "metadata": {},
     "output_type": "display_data"
    }
   ],
   "source": [
    "# Построим график\n",
    "axes = data_esrb.plot(colors=sns.cubehelix_palette(start=8), kind='pie', subplots=True, title='Распределение доли продаж по рейтингу для разных регионов', figsize=(15,5))\n",
    "[ax.legend('') for ax in axes]\n",
    "plt.show()"
   ]
  },
  {
   "cell_type": "markdown",
   "metadata": {},
   "source": [
    "**Вывод:**\n",
    "- Европейцы и американцы в основном выбирают игры с возрастным ограниченим М - для взрослых. Менее всего они покупают игры с рейтингом Т - для подростков.\n",
    "- Поведение японцев сильно отличается, в основном они выбирают игры без рейтинга, на втором месте по популярности - игры для подростков. Меньше всего они предпочитают игры с возрастным ограничением от 10 лет. \n",
    "- Стоит отметить, что ESRB - американская организация, я Японии и Европе действует своя рейтинговая система. Этим можно объяснить популярность игр без рейтинга ESRB в Японии. Тем не менее, доля игр без рейтинга у европейцев и американцев почти равна, из этого следует что игровой рынок, в отличие от Японии, в этих странах один и тот же.\n",
    "- Вероятнее всего, в различных регионах основная аудитория разных возрастных категорий. В Европе и Америке - взрослые, в Японии - подростки. Так что, рейтинг может иметь значение при выборе потенциально популярного продукта, исходя из возраста основной аудитории."
   ]
  },
  {
   "cell_type": "markdown",
   "metadata": {},
   "source": [
    "## Проверка гипотез"
   ]
  },
  {
   "cell_type": "markdown",
   "metadata": {},
   "source": [
    "### Гипотеза: средние пользовательские рейтинги платформ Xbox One и PC одинаковые"
   ]
  },
  {
   "cell_type": "markdown",
   "metadata": {},
   "source": [
    "Сформулируем нулевую и альтернативную гипотезы. Нулевая гипотеза - консервативная гипотеза: \n",
    "- H0 = средние пользовательские рейтинги платформ Xbox One и PC равны. \n",
    "- Н1 = средние пользовательские рейтинги платформ Xbox One и PC различается."
   ]
  },
  {
   "cell_type": "markdown",
   "metadata": {},
   "source": [
    "Чтобы проверить эту гипотезу нам надо сравнить средние двух выборок. Для проверки статистической значимости результатов используют метод scipy.stats.ttest_ind(). "
   ]
  },
  {
   "cell_type": "code",
   "execution_count": 52,
   "metadata": {},
   "outputs": [],
   "source": [
    "# Подготовим данные.\n",
    "data_xbox = data.query('platform == \"xone\"').dropna()\n",
    "data_xbox = data_xbox['user_score']"
   ]
  },
  {
   "cell_type": "code",
   "execution_count": 53,
   "metadata": {},
   "outputs": [
    {
     "data": {
      "text/plain": [
       "165"
      ]
     },
     "execution_count": 53,
     "metadata": {},
     "output_type": "execute_result"
    }
   ],
   "source": [
    "len(data_xbox)"
   ]
  },
  {
   "cell_type": "code",
   "execution_count": 54,
   "metadata": {},
   "outputs": [],
   "source": [
    "data_pc = data.query('platform == \"pc\"').dropna()\n",
    "data_pc = data_pc['user_score']"
   ]
  },
  {
   "cell_type": "code",
   "execution_count": 55,
   "metadata": {},
   "outputs": [
    {
     "data": {
      "text/plain": [
       "148"
      ]
     },
     "execution_count": 55,
     "metadata": {},
     "output_type": "execute_result"
    }
   ],
   "source": [
    "len(data_pc)"
   ]
  },
  {
   "cell_type": "markdown",
   "metadata": {},
   "source": [
    "Несмотря на то, что выборки не одного размера, они достаточно большие, так что мы можем предположить, что их дисперсии примерно равны и оставить параметр equal_var=True. Пороговое значение alpha принято считать равным 0.05\n"
   ]
  },
  {
   "cell_type": "code",
   "execution_count": 56,
   "metadata": {},
   "outputs": [
    {
     "data": {
      "text/plain": [
       "0.17306926618147322"
      ]
     },
     "execution_count": 56,
     "metadata": {},
     "output_type": "execute_result"
    }
   ],
   "source": [
    "# Проверим нулевую гипотезу\n",
    "alpha = 0.05\n",
    "results = st.ttest_ind(data_xbox, data_pc)\n",
    "results.pvalue"
   ]
  },
  {
   "cell_type": "code",
   "execution_count": 57,
   "metadata": {},
   "outputs": [
    {
     "data": {
      "text/plain": [
       "False"
      ]
     },
     "execution_count": 57,
     "metadata": {},
     "output_type": "execute_result"
    }
   ],
   "source": [
    "results.pvalue < alpha"
   ]
  },
  {
   "cell_type": "markdown",
   "metadata": {},
   "source": [
    "P-value больше значения alpha: **не получилось отвергнуть нулевую гипотезу**"
   ]
  },
  {
   "cell_type": "code",
   "execution_count": 58,
   "metadata": {},
   "outputs": [
    {
     "data": {
      "image/png": "[encoded data removed]",
      "text/plain": [
       "<Figure size 432x288 with 1 Axes>"
      ]
     },
     "metadata": {
      "needs_background": "light"
     },
     "output_type": "display_data"
    }
   ],
   "source": [
    "# Построим график обеих выборок\n",
    "data_xbox.plot.hist(color=sns.cubehelix_palette(start=2), alpha=0.5, bins=30)\n",
    "data_pc.plot.hist(color=sns.cubehelix_palette(start=1), alpha=0.5, bins=30).set(ylabel='частота', xlabel='пользовательская оценка', title='Распределние пользовательской оценки для разных платформ')\n",
    "plt.legend(['xbox', 'pc'])\n",
    "plt.show()"
   ]
  },
  {
   "cell_type": "markdown",
   "metadata": {},
   "source": [
    "**Вывод:** \n",
    "\n",
    "Статистический тест показал, что мы **не можем отлонить** гипотезу о равенстве средних пользовательских рейтингов платформ Xbox One и PC ген. совокупности."
   ]
  },
  {
   "cell_type": "markdown",
   "metadata": {},
   "source": [
    "### Гипотеза: средние пользовательские рейтинги жанров Action и Sports  разные."
   ]
  },
  {
   "cell_type": "markdown",
   "metadata": {},
   "source": [
    "Сформулируем нулевую и альтернативную гипотезы. Нулевая гипотеза - консервативная гипотеза: \n",
    "- H0 = Средние пользовательские рейтинги жанров Action и Sports равны. \n",
    "- Н1 = Средние пользовательские рейтинги жанров Action и Sports разные."
   ]
  },
  {
   "cell_type": "markdown",
   "metadata": {},
   "source": [
    "Чтобы проверить эту гипотезу нам надо сравнить средние двух выборок. Для проверки статистической значимости результатов используют метод scipy.stats.ttest_ind()."
   ]
  },
  {
   "cell_type": "code",
   "execution_count": 59,
   "metadata": {},
   "outputs": [],
   "source": [
    "# Подготовим данные.\n",
    "data_action = data.query('genre == \"action\"').dropna()\n",
    "data_action = data_action['user_score']"
   ]
  },
  {
   "cell_type": "code",
   "execution_count": 60,
   "metadata": {},
   "outputs": [
    {
     "data": {
      "text/plain": [
       "309"
      ]
     },
     "execution_count": 60,
     "metadata": {},
     "output_type": "execute_result"
    }
   ],
   "source": [
    "len(data_action)"
   ]
  },
  {
   "cell_type": "code",
   "execution_count": 61,
   "metadata": {},
   "outputs": [],
   "source": [
    "data_sports = data.query('genre == \"sports\"').dropna()\n",
    "data_sports = data_sports['user_score']"
   ]
  },
  {
   "cell_type": "code",
   "execution_count": 62,
   "metadata": {},
   "outputs": [
    {
     "data": {
      "text/plain": [
       "110"
      ]
     },
     "execution_count": 62,
     "metadata": {},
     "output_type": "execute_result"
    }
   ],
   "source": [
    "len(data_sports)"
   ]
  },
  {
   "cell_type": "markdown",
   "metadata": {},
   "source": [
    "Несмотря на то, что выборки не одного размера, они достаточно большие, так что мы можем предположить, что их дисперсии примерно равны и оставить параметр equal_var=True. Пороговое значение alpha принято считать равным 0.05"
   ]
  },
  {
   "cell_type": "code",
   "execution_count": 63,
   "metadata": {},
   "outputs": [
    {
     "data": {
      "text/plain": [
       "1.684099430689953e-16"
      ]
     },
     "execution_count": 63,
     "metadata": {},
     "output_type": "execute_result"
    }
   ],
   "source": [
    "# Проверим нулевую гипотезу\n",
    "alpha = 0.05\n",
    "results = st.ttest_ind(data_sports, data_action)\n",
    "results.pvalue"
   ]
  },
  {
   "cell_type": "code",
   "execution_count": 64,
   "metadata": {},
   "outputs": [
    {
     "data": {
      "text/plain": [
       "True"
      ]
     },
     "execution_count": 64,
     "metadata": {},
     "output_type": "execute_result"
    }
   ],
   "source": [
    "results.pvalue < alpha"
   ]
  },
  {
   "cell_type": "markdown",
   "metadata": {},
   "source": [
    "P-value меньше значения alpha: **отвергаем нулевую гипотезу**."
   ]
  },
  {
   "cell_type": "code",
   "execution_count": 65,
   "metadata": {},
   "outputs": [
    {
     "data": {
      "image/png": "[encoded data removed]",
      "text/plain": [
       "<Figure size 432x288 with 1 Axes>"
      ]
     },
     "metadata": {
      "needs_background": "light"
     },
     "output_type": "display_data"
    }
   ],
   "source": [
    "# Построим график обеих выборок\n",
    "data_action.plot.hist(color=sns.cubehelix_palette(start=0), alpha=0.5, bins=30)\n",
    "data_sports.plot.hist(color=sns.cubehelix_palette(start=1), alpha=0.5, bins=30).set(ylabel='частота', xlabel='пользовательская оценка', title='Распределение пользовательской оценки для разных жанров')\n",
    "plt.legend(['action', 'sports'])\n",
    "plt.show()"
   ]
  },
  {
   "cell_type": "markdown",
   "metadata": {},
   "source": [
    "**Вывод:**\n",
    "\n",
    "Тест показал, что стат. значимость нулевой гипотезы очень низка, и мы можем ее отклонить. Следовательно мы **не можем отклонить альтернативную гипотезу:** \"Средние пользовательские рейтинги жанров Action и Sports разные\"."
   ]
  },
  {
   "cell_type": "markdown",
   "metadata": {},
   "source": [
    "## Общий вывод"
   ]
  },
  {
   "cell_type": "markdown",
   "metadata": {},
   "source": [
    "Таким образом, исследование было выполнено в пять этапов:\n",
    "\n",
    "1. **Обзор данных.** На этом этапе был распакован датасет, изучен на предмет пропусков и аномалий.\n",
    "2. **Предобработка данных.** На данном этапе данные были приведены к одному типу, удалены или заменены пропуски, типы данных были изменены на нужные.\n",
    "3. **Исследовательский анализ данных.** На этом этапе был выявлен актуальный период для дальнейшего исследования. Изучена динамика продаж для топ-5 платформ и жанров актуального периода, исследована взаимосвязь отзывов критиков и пользователей на продажи.\n",
    "4. **Исследовательский анализ рынков**. На этом этапе было проанализированно поведение пользователей из разных регионов, в частности выбор платформы, жанров и степень влияния рейтинга ESRB на спрос.\n",
    "5. **Проверка гипотез.** На этом этапе две гипотезы были проверены на статистическую значимость и сделаны выводы.\n",
    "\n",
    "**Исследовательский анализ данных: выводы**\n",
    "- **Выявление актуального периода:** больше всего игр выпускалось в период с 2005 по 2011 год, платформы в среднем живут около 10 лет, а пик продаж длится около 4 лет, за исключением ps, которая существует практически весь рассматриваемый период. Также, больше всего платформ было активно примерно с 2006 по 2014.Исходя из этих наблюдений, актуальный период можно обозначить с 2013 по 2016 год.\n",
    "- **Исследование платформ:** продажи большинства платформ-лидеров падают, подъем ожидается для приставок 8 поколения. Выше всего медианные продажи у ps4 и xone, ниже всего у x360. Для платформ xone и 3ds характерен более стабильный уровень продаж. У ps4 есть экстремально низкие продажи, а у ps3 и x360 напротив экстремально высокие, соответственно игры для данных платформ продаются менее стабильно.\n",
    "- **Влияние отзывов на продажи:** Коэффициент корреляции отзывов критиков и продаж примерно равен 0.4, это значит, что между этими переменными умеренная положительная взаимосвязь.Коэффициент корреляции отзывов пользователей и продаж примерно равен -0.03 и разнится в зависимости от платформы, это значит, что между этими переменными совершенно незначительная взаимосвязь. Можно сделать вывод, что оценка критиков возможно влияет на продажи игр, а вот оценка пользователей будет незначительными факторами увеличения продаж.\n",
    "- **Исследование жанров:** Больше всего выпускают игр в жанре action (766 игр) и role-playing (292 игр), меньше всего puzzle (17 игр) и strategy (56 игр). Можно предположить, что спрос на игры в жанрах action и role-playing самый высокий, а на puzzle и strategy самый низкий. Больше всего покупают игры в жанре shooter и action, это значит, что в действиетльности спрос на role-playing и action не такой высокий. Меньше всего покупают игры в жанре puzzle и adventure, это соответствует предположению выше..\n",
    "\n",
    "**Исследовательский анализ рынков: выводы**\n",
    "- **Изучение популярных платформ для разных регионов:** для пользователей из разных регионов характерны разные предпочтения. Различие в долях продаж можно объяснить территориальным фактором. Японцы и американцы больше всего доверяют отечественным производителям, также японцы отдают меньшее предпочтение японским транснациональным компаниям, нежели японским региональным. Европейцы в свою очередь менее зависисмы от этого фактора и покупают игры для разных платформ. \n",
    "- **Изучение популярных жанров для разных регионов:** Предпочтения европейцев и пользователей из Северной Америки схожи. Больше всего они покупают игры в жанре shooter и sports, а меньше всего в жанрах platform и fighting. Японцы больше всего покупают игры в жанре role-playing, а меньше всего в жанре sports и platform. Фавориты остальных регионах по уровню продаж в Японии также находятся в конце топа. Можно сказать, что поведение японцев от поведения европейцев и американцев существенно отличается.\n",
    "- **Изучение влияния рейтинга ESRB на продажи в разных регионах:** Поведение пользователей из Америки и Европы достаточно схоже - большинство выбирают игры с возрастным ограниченим М (для взрослых). Менее всего игры с рейтингом Т (для подростков). Повеление японцев сильно отличается, в основном они выбирают игры без рейтинга, так как в этом регионе рейтинговая система ESRB не популярна. на втором месте по популярности - игры для подростков. Меньше всего они предпочитают игры с возрастным ограничением от 10 лет. Вероятнее всего, в различных регионах основная аудитория разных возрастных категорий, так что, рейтинг может иметь значение при выборе потенциально популярного продукта, исходя из возраста основной аудитории. \n",
    "\n",
    "**Проверка гипотез: выводы**\n",
    "1. Гипотеза: средние пользовательские рейтинги платформ Xbox One и PC одинаковые - **не отклонена.**\n",
    "2. Гипотеза: средние пользовательские рейтинги жанров Action и Sports разные - **не отклонена.**\n",
    "\n",
    "**Вывод:** таким образом, факторами популярности игры может быть платформа, жанр и возрастной рейтинг, также важны особенности потациальной аудитории. Оценки пользователей и критиков на продажи влияют не сильно."
   ]
  }
 ],
 "metadata": {
  "ExecuteTimeLog": [
   {
    "duration": 1273,
    "start_time": "2022-05-02T07:49:57.255Z"
   },
   {
    "duration": 112,
    "start_time": "2022-05-02T07:55:23.127Z"
   },
   {
    "duration": 38,
    "start_time": "2022-05-02T07:55:33.739Z"
   },
   {
    "duration": 56,
    "start_time": "2022-05-02T07:55:39.732Z"
   },
   {
    "duration": 15,
    "start_time": "2022-05-02T07:56:25.046Z"
   },
   {
    "duration": 11,
    "start_time": "2022-05-02T08:24:49.034Z"
   },
   {
    "duration": 10,
    "start_time": "2022-05-02T08:26:01.356Z"
   },
   {
    "duration": 4,
    "start_time": "2022-05-02T08:27:24.921Z"
   },
   {
    "duration": 3,
    "start_time": "2022-05-02T08:27:46.382Z"
   },
   {
    "duration": 16,
    "start_time": "2022-05-02T08:31:05.483Z"
   },
   {
    "duration": 10,
    "start_time": "2022-05-02T08:33:28.321Z"
   },
   {
    "duration": 19,
    "start_time": "2022-05-02T08:34:31.464Z"
   },
   {
    "duration": 21,
    "start_time": "2022-05-02T08:34:43.200Z"
   },
   {
    "duration": 3,
    "start_time": "2022-05-02T09:20:11.130Z"
   },
   {
    "duration": 65,
    "start_time": "2022-05-02T09:20:11.135Z"
   },
   {
    "duration": 16,
    "start_time": "2022-05-02T09:20:11.202Z"
   },
   {
    "duration": 4,
    "start_time": "2022-05-02T09:20:11.220Z"
   },
   {
    "duration": 21,
    "start_time": "2022-05-02T09:20:11.227Z"
   },
   {
    "duration": 22,
    "start_time": "2022-05-02T09:20:11.250Z"
   },
   {
    "duration": 42,
    "start_time": "2022-05-02T09:20:11.274Z"
   },
   {
    "duration": 8,
    "start_time": "2022-05-02T09:25:05.267Z"
   },
   {
    "duration": 25,
    "start_time": "2022-05-02T09:25:16.130Z"
   },
   {
    "duration": 8,
    "start_time": "2022-05-02T09:28:18.484Z"
   },
   {
    "duration": 31,
    "start_time": "2022-05-02T09:28:39.469Z"
   },
   {
    "duration": 11,
    "start_time": "2022-05-02T09:30:19.448Z"
   },
   {
    "duration": 65,
    "start_time": "2022-05-02T09:30:27.780Z"
   },
   {
    "duration": 26,
    "start_time": "2022-05-02T09:30:35.176Z"
   },
   {
    "duration": 25,
    "start_time": "2022-05-02T09:34:04.967Z"
   },
   {
    "duration": 84,
    "start_time": "2022-05-02T09:34:25.948Z"
   },
   {
    "duration": 22,
    "start_time": "2022-05-02T09:34:34.550Z"
   },
   {
    "duration": 25,
    "start_time": "2022-05-02T09:34:48.373Z"
   },
   {
    "duration": 32,
    "start_time": "2022-05-02T09:34:59.373Z"
   },
   {
    "duration": 3,
    "start_time": "2022-05-02T09:40:31.246Z"
   },
   {
    "duration": 62,
    "start_time": "2022-05-02T09:40:31.256Z"
   },
   {
    "duration": 15,
    "start_time": "2022-05-02T09:40:31.320Z"
   },
   {
    "duration": 3,
    "start_time": "2022-05-02T09:40:31.337Z"
   },
   {
    "duration": 27,
    "start_time": "2022-05-02T09:40:31.342Z"
   },
   {
    "duration": 37,
    "start_time": "2022-05-02T09:40:31.372Z"
   },
   {
    "duration": 19,
    "start_time": "2022-05-02T09:40:31.411Z"
   },
   {
    "duration": 7,
    "start_time": "2022-05-02T09:40:31.432Z"
   },
   {
    "duration": 24,
    "start_time": "2022-05-02T09:40:31.441Z"
   },
   {
    "duration": 127,
    "start_time": "2022-05-02T09:40:31.467Z"
   },
   {
    "duration": 17,
    "start_time": "2022-05-02T09:55:03.651Z"
   },
   {
    "duration": 23,
    "start_time": "2022-05-02T09:55:46.028Z"
   },
   {
    "duration": 6,
    "start_time": "2022-05-02T10:02:19.610Z"
   },
   {
    "duration": 27,
    "start_time": "2022-05-02T10:04:23.943Z"
   },
   {
    "duration": 20,
    "start_time": "2022-05-02T10:10:16.227Z"
   },
   {
    "duration": 12,
    "start_time": "2022-05-02T10:18:55.237Z"
   },
   {
    "duration": 9,
    "start_time": "2022-05-02T10:19:48.482Z"
   },
   {
    "duration": 4308,
    "start_time": "2022-05-02T10:25:12.610Z"
   },
   {
    "duration": 3,
    "start_time": "2022-05-02T10:25:36.882Z"
   },
   {
    "duration": 57,
    "start_time": "2022-05-02T10:25:36.888Z"
   },
   {
    "duration": 13,
    "start_time": "2022-05-02T10:25:36.947Z"
   },
   {
    "duration": 3,
    "start_time": "2022-05-02T10:25:36.962Z"
   },
   {
    "duration": 41,
    "start_time": "2022-05-02T10:25:36.967Z"
   },
   {
    "duration": 20,
    "start_time": "2022-05-02T10:25:37.010Z"
   },
   {
    "duration": 17,
    "start_time": "2022-05-02T10:25:37.032Z"
   },
   {
    "duration": 5,
    "start_time": "2022-05-02T10:25:37.051Z"
   },
   {
    "duration": 5141,
    "start_time": "2022-05-02T10:25:37.058Z"
   },
   {
    "duration": 0,
    "start_time": "2022-05-02T10:25:42.201Z"
   },
   {
    "duration": 0,
    "start_time": "2022-05-02T10:25:42.202Z"
   },
   {
    "duration": 0,
    "start_time": "2022-05-02T10:25:42.203Z"
   },
   {
    "duration": 0,
    "start_time": "2022-05-02T10:25:42.204Z"
   },
   {
    "duration": 23,
    "start_time": "2022-05-02T10:27:42.398Z"
   },
   {
    "duration": 6,
    "start_time": "2022-05-02T10:27:43.640Z"
   },
   {
    "duration": 4238,
    "start_time": "2022-05-02T10:27:45.596Z"
   },
   {
    "duration": 4232,
    "start_time": "2022-05-02T10:28:29.199Z"
   },
   {
    "duration": 21,
    "start_time": "2022-05-02T10:28:56.593Z"
   },
   {
    "duration": 17,
    "start_time": "2022-05-02T10:29:06.205Z"
   },
   {
    "duration": 15,
    "start_time": "2022-05-02T10:30:08.656Z"
   },
   {
    "duration": 21,
    "start_time": "2022-05-02T10:30:29.283Z"
   },
   {
    "duration": 35,
    "start_time": "2022-05-02T10:31:22.101Z"
   },
   {
    "duration": 3,
    "start_time": "2022-05-02T10:32:03.604Z"
   },
   {
    "duration": 63,
    "start_time": "2022-05-02T10:32:03.609Z"
   },
   {
    "duration": 15,
    "start_time": "2022-05-02T10:32:03.674Z"
   },
   {
    "duration": 4,
    "start_time": "2022-05-02T10:32:03.707Z"
   },
   {
    "duration": 26,
    "start_time": "2022-05-02T10:32:03.713Z"
   },
   {
    "duration": 22,
    "start_time": "2022-05-02T10:32:03.740Z"
   },
   {
    "duration": 16,
    "start_time": "2022-05-02T10:32:03.764Z"
   },
   {
    "duration": 6,
    "start_time": "2022-05-02T10:32:03.807Z"
   },
   {
    "duration": 30,
    "start_time": "2022-05-02T10:32:03.815Z"
   },
   {
    "duration": 18,
    "start_time": "2022-05-02T10:32:03.846Z"
   },
   {
    "duration": 45,
    "start_time": "2022-05-02T10:32:03.866Z"
   },
   {
    "duration": 6,
    "start_time": "2022-05-02T10:32:03.912Z"
   },
   {
    "duration": 27,
    "start_time": "2022-05-02T10:32:03.920Z"
   },
   {
    "duration": 25,
    "start_time": "2022-05-02T10:32:03.950Z"
   },
   {
    "duration": 20,
    "start_time": "2022-05-02T10:32:55.324Z"
   },
   {
    "duration": 29,
    "start_time": "2022-05-02T10:33:31.273Z"
   },
   {
    "duration": 3,
    "start_time": "2022-05-02T10:34:06.061Z"
   },
   {
    "duration": 58,
    "start_time": "2022-05-02T10:34:06.066Z"
   },
   {
    "duration": 13,
    "start_time": "2022-05-02T10:34:06.126Z"
   },
   {
    "duration": 3,
    "start_time": "2022-05-02T10:34:06.141Z"
   },
   {
    "duration": 21,
    "start_time": "2022-05-02T10:34:06.146Z"
   },
   {
    "duration": 49,
    "start_time": "2022-05-02T10:34:06.169Z"
   },
   {
    "duration": 19,
    "start_time": "2022-05-02T10:34:06.219Z"
   },
   {
    "duration": 6,
    "start_time": "2022-05-02T10:34:06.239Z"
   },
   {
    "duration": 24,
    "start_time": "2022-05-02T10:34:06.247Z"
   },
   {
    "duration": 59,
    "start_time": "2022-05-02T10:34:06.274Z"
   },
   {
    "duration": 18,
    "start_time": "2022-05-02T10:34:06.335Z"
   },
   {
    "duration": 5,
    "start_time": "2022-05-02T10:34:06.355Z"
   },
   {
    "duration": 58,
    "start_time": "2022-05-02T10:34:06.361Z"
   },
   {
    "duration": 24,
    "start_time": "2022-05-02T10:34:06.421Z"
   },
   {
    "duration": 8,
    "start_time": "2022-05-02T10:35:20.366Z"
   },
   {
    "duration": 25,
    "start_time": "2022-05-02T10:35:31.447Z"
   },
   {
    "duration": 30,
    "start_time": "2022-05-02T10:35:34.766Z"
   },
   {
    "duration": 26,
    "start_time": "2022-05-02T10:36:25.353Z"
   },
   {
    "duration": 10,
    "start_time": "2022-05-02T10:36:29.606Z"
   },
   {
    "duration": 24,
    "start_time": "2022-05-02T10:36:31.640Z"
   },
   {
    "duration": 17,
    "start_time": "2022-05-02T10:44:14.530Z"
   },
   {
    "duration": 35,
    "start_time": "2022-05-02T10:47:12.299Z"
   },
   {
    "duration": 2,
    "start_time": "2022-05-02T10:48:09.395Z"
   },
   {
    "duration": 57,
    "start_time": "2022-05-02T10:48:09.411Z"
   },
   {
    "duration": 14,
    "start_time": "2022-05-02T10:48:09.470Z"
   },
   {
    "duration": 5,
    "start_time": "2022-05-02T10:48:09.486Z"
   },
   {
    "duration": 38,
    "start_time": "2022-05-02T10:48:09.493Z"
   },
   {
    "duration": 21,
    "start_time": "2022-05-02T10:48:09.533Z"
   },
   {
    "duration": 18,
    "start_time": "2022-05-02T10:48:09.556Z"
   },
   {
    "duration": 7,
    "start_time": "2022-05-02T10:48:09.576Z"
   },
   {
    "duration": 43,
    "start_time": "2022-05-02T10:48:09.585Z"
   },
   {
    "duration": 18,
    "start_time": "2022-05-02T10:48:09.630Z"
   },
   {
    "duration": 19,
    "start_time": "2022-05-02T10:48:09.650Z"
   },
   {
    "duration": 49,
    "start_time": "2022-05-02T10:48:09.672Z"
   },
   {
    "duration": 7,
    "start_time": "2022-05-02T10:48:09.723Z"
   },
   {
    "duration": 25,
    "start_time": "2022-05-02T10:48:09.732Z"
   },
   {
    "duration": 58,
    "start_time": "2022-05-02T10:48:09.760Z"
   },
   {
    "duration": 12,
    "start_time": "2022-05-02T10:49:00.727Z"
   },
   {
    "duration": 10,
    "start_time": "2022-05-02T10:50:02.913Z"
   },
   {
    "duration": 10,
    "start_time": "2022-05-02T10:54:29.576Z"
   },
   {
    "duration": 9,
    "start_time": "2022-05-02T10:54:35.354Z"
   },
   {
    "duration": 3,
    "start_time": "2022-05-02T11:02:14.836Z"
   },
   {
    "duration": 59,
    "start_time": "2022-05-02T11:02:14.921Z"
   },
   {
    "duration": 16,
    "start_time": "2022-05-02T11:02:14.983Z"
   },
   {
    "duration": 8,
    "start_time": "2022-05-02T11:02:15.001Z"
   },
   {
    "duration": 23,
    "start_time": "2022-05-02T11:02:15.011Z"
   },
   {
    "duration": 22,
    "start_time": "2022-05-02T11:02:15.037Z"
   },
   {
    "duration": 18,
    "start_time": "2022-05-02T11:02:15.061Z"
   },
   {
    "duration": 31,
    "start_time": "2022-05-02T11:02:15.080Z"
   },
   {
    "duration": 25,
    "start_time": "2022-05-02T11:02:15.113Z"
   },
   {
    "duration": 19,
    "start_time": "2022-05-02T11:02:15.139Z"
   },
   {
    "duration": 17,
    "start_time": "2022-05-02T11:02:15.160Z"
   },
   {
    "duration": 12,
    "start_time": "2022-05-02T11:02:15.208Z"
   },
   {
    "duration": 0,
    "start_time": "2022-05-02T11:02:15.222Z"
   },
   {
    "duration": 0,
    "start_time": "2022-05-02T11:02:15.223Z"
   },
   {
    "duration": 0,
    "start_time": "2022-05-02T11:02:15.225Z"
   },
   {
    "duration": 0,
    "start_time": "2022-05-02T11:02:15.226Z"
   },
   {
    "duration": 0,
    "start_time": "2022-05-02T11:02:15.227Z"
   },
   {
    "duration": 0,
    "start_time": "2022-05-02T11:02:15.228Z"
   },
   {
    "duration": 3,
    "start_time": "2022-05-02T11:08:09.160Z"
   },
   {
    "duration": 69,
    "start_time": "2022-05-02T11:08:09.166Z"
   },
   {
    "duration": 15,
    "start_time": "2022-05-02T11:08:09.236Z"
   },
   {
    "duration": 5,
    "start_time": "2022-05-02T11:08:09.253Z"
   },
   {
    "duration": 21,
    "start_time": "2022-05-02T11:08:09.260Z"
   },
   {
    "duration": 45,
    "start_time": "2022-05-02T11:08:09.283Z"
   },
   {
    "duration": 21,
    "start_time": "2022-05-02T11:08:09.329Z"
   },
   {
    "duration": 6,
    "start_time": "2022-05-02T11:08:09.352Z"
   },
   {
    "duration": 11,
    "start_time": "2022-05-02T11:08:09.360Z"
   },
   {
    "duration": 0,
    "start_time": "2022-05-02T11:08:09.372Z"
   },
   {
    "duration": 0,
    "start_time": "2022-05-02T11:08:09.374Z"
   },
   {
    "duration": 0,
    "start_time": "2022-05-02T11:08:09.408Z"
   },
   {
    "duration": 0,
    "start_time": "2022-05-02T11:08:09.409Z"
   },
   {
    "duration": 0,
    "start_time": "2022-05-02T11:08:09.410Z"
   },
   {
    "duration": 0,
    "start_time": "2022-05-02T11:08:09.411Z"
   },
   {
    "duration": 0,
    "start_time": "2022-05-02T11:08:09.413Z"
   },
   {
    "duration": 0,
    "start_time": "2022-05-02T11:08:09.414Z"
   },
   {
    "duration": 9,
    "start_time": "2022-05-02T11:08:21.442Z"
   },
   {
    "duration": 6,
    "start_time": "2022-05-02T11:08:23.364Z"
   },
   {
    "duration": 10,
    "start_time": "2022-05-02T11:09:57.201Z"
   },
   {
    "duration": 15,
    "start_time": "2022-05-02T11:10:21.123Z"
   },
   {
    "duration": 13,
    "start_time": "2022-05-02T11:13:31.723Z"
   },
   {
    "duration": 580,
    "start_time": "2022-05-02T11:13:37.205Z"
   },
   {
    "duration": 3,
    "start_time": "2022-05-02T11:14:36.000Z"
   },
   {
    "duration": 54,
    "start_time": "2022-05-02T11:14:36.039Z"
   },
   {
    "duration": 23,
    "start_time": "2022-05-02T11:14:36.096Z"
   },
   {
    "duration": 3,
    "start_time": "2022-05-02T11:14:36.131Z"
   },
   {
    "duration": 21,
    "start_time": "2022-05-02T11:14:36.137Z"
   },
   {
    "duration": 50,
    "start_time": "2022-05-02T11:14:36.160Z"
   },
   {
    "duration": 9,
    "start_time": "2022-05-02T11:14:36.213Z"
   },
   {
    "duration": 7,
    "start_time": "2022-05-02T11:14:36.224Z"
   },
   {
    "duration": 10,
    "start_time": "2022-05-02T11:14:36.233Z"
   },
   {
    "duration": 28,
    "start_time": "2022-05-02T11:14:36.245Z"
   },
   {
    "duration": 10,
    "start_time": "2022-05-02T11:14:36.306Z"
   },
   {
    "duration": 26,
    "start_time": "2022-05-02T11:14:36.318Z"
   },
   {
    "duration": 34,
    "start_time": "2022-05-02T11:14:36.346Z"
   },
   {
    "duration": 0,
    "start_time": "2022-05-02T11:14:36.408Z"
   },
   {
    "duration": 0,
    "start_time": "2022-05-02T11:14:36.410Z"
   },
   {
    "duration": 0,
    "start_time": "2022-05-02T11:14:36.412Z"
   },
   {
    "duration": 0,
    "start_time": "2022-05-02T11:14:36.413Z"
   },
   {
    "duration": 15,
    "start_time": "2022-05-02T11:15:42.321Z"
   },
   {
    "duration": 33,
    "start_time": "2022-05-02T11:16:24.029Z"
   },
   {
    "duration": 3,
    "start_time": "2022-05-02T11:16:38.325Z"
   },
   {
    "duration": 59,
    "start_time": "2022-05-02T11:16:38.331Z"
   },
   {
    "duration": 14,
    "start_time": "2022-05-02T11:16:38.392Z"
   },
   {
    "duration": 3,
    "start_time": "2022-05-02T11:16:38.408Z"
   },
   {
    "duration": 24,
    "start_time": "2022-05-02T11:16:38.414Z"
   },
   {
    "duration": 21,
    "start_time": "2022-05-02T11:16:38.440Z"
   },
   {
    "duration": 8,
    "start_time": "2022-05-02T11:16:38.463Z"
   },
   {
    "duration": 38,
    "start_time": "2022-05-02T11:16:38.472Z"
   },
   {
    "duration": 8,
    "start_time": "2022-05-02T11:16:38.512Z"
   },
   {
    "duration": 18,
    "start_time": "2022-05-02T11:16:38.522Z"
   },
   {
    "duration": 17,
    "start_time": "2022-05-02T11:16:38.543Z"
   },
   {
    "duration": 46,
    "start_time": "2022-05-02T11:16:38.562Z"
   },
   {
    "duration": 27,
    "start_time": "2022-05-02T11:16:38.609Z"
   },
   {
    "duration": 31,
    "start_time": "2022-05-02T11:16:38.638Z"
   },
   {
    "duration": 0,
    "start_time": "2022-05-02T11:16:38.671Z"
   },
   {
    "duration": 0,
    "start_time": "2022-05-02T11:16:38.672Z"
   },
   {
    "duration": 0,
    "start_time": "2022-05-02T11:16:38.674Z"
   },
   {
    "duration": 0,
    "start_time": "2022-05-02T11:16:38.675Z"
   },
   {
    "duration": 33,
    "start_time": "2022-05-02T11:17:43.797Z"
   },
   {
    "duration": 18,
    "start_time": "2022-05-02T11:18:05.733Z"
   },
   {
    "duration": 3,
    "start_time": "2022-05-02T11:18:07.096Z"
   },
   {
    "duration": 66,
    "start_time": "2022-05-02T11:18:07.726Z"
   },
   {
    "duration": 3449,
    "start_time": "2022-05-02T11:18:22.802Z"
   },
   {
    "duration": 3,
    "start_time": "2022-05-02T11:18:53.735Z"
   },
   {
    "duration": 65,
    "start_time": "2022-05-02T11:18:53.741Z"
   },
   {
    "duration": 15,
    "start_time": "2022-05-02T11:18:53.808Z"
   },
   {
    "duration": 3,
    "start_time": "2022-05-02T11:18:53.826Z"
   },
   {
    "duration": 21,
    "start_time": "2022-05-02T11:18:53.830Z"
   },
   {
    "duration": 20,
    "start_time": "2022-05-02T11:18:53.853Z"
   },
   {
    "duration": 7,
    "start_time": "2022-05-02T11:18:53.908Z"
   },
   {
    "duration": 8,
    "start_time": "2022-05-02T11:18:53.917Z"
   },
   {
    "duration": 12,
    "start_time": "2022-05-02T11:18:53.927Z"
   },
   {
    "duration": 16,
    "start_time": "2022-05-02T11:18:53.942Z"
   },
   {
    "duration": 49,
    "start_time": "2022-05-02T11:18:53.960Z"
   },
   {
    "duration": 8,
    "start_time": "2022-05-02T11:18:54.011Z"
   },
   {
    "duration": 24,
    "start_time": "2022-05-02T11:18:54.021Z"
   },
   {
    "duration": 60,
    "start_time": "2022-05-02T11:18:54.047Z"
   },
   {
    "duration": 1,
    "start_time": "2022-05-02T11:18:54.109Z"
   },
   {
    "duration": 0,
    "start_time": "2022-05-02T11:18:54.111Z"
   },
   {
    "duration": 0,
    "start_time": "2022-05-02T11:18:54.112Z"
   },
   {
    "duration": 0,
    "start_time": "2022-05-02T11:18:54.114Z"
   },
   {
    "duration": 62,
    "start_time": "2022-05-02T11:22:20.323Z"
   },
   {
    "duration": 18,
    "start_time": "2022-05-02T11:22:37.972Z"
   },
   {
    "duration": 34,
    "start_time": "2022-05-02T11:22:47.967Z"
   },
   {
    "duration": 64,
    "start_time": "2022-05-02T11:23:04.835Z"
   },
   {
    "duration": 19,
    "start_time": "2022-05-02T11:23:43.884Z"
   },
   {
    "duration": 3,
    "start_time": "2022-05-02T11:23:54.081Z"
   },
   {
    "duration": 3149,
    "start_time": "2022-05-02T11:23:54.613Z"
   },
   {
    "duration": 16,
    "start_time": "2022-05-02T11:24:11.608Z"
   },
   {
    "duration": 3,
    "start_time": "2022-05-02T11:24:53.842Z"
   },
   {
    "duration": 58,
    "start_time": "2022-05-02T11:24:53.847Z"
   },
   {
    "duration": 14,
    "start_time": "2022-05-02T11:24:53.907Z"
   },
   {
    "duration": 6,
    "start_time": "2022-05-02T11:24:53.923Z"
   },
   {
    "duration": 27,
    "start_time": "2022-05-02T11:24:53.931Z"
   },
   {
    "duration": 21,
    "start_time": "2022-05-02T11:24:53.959Z"
   },
   {
    "duration": 29,
    "start_time": "2022-05-02T11:24:53.982Z"
   },
   {
    "duration": 5,
    "start_time": "2022-05-02T11:24:54.013Z"
   },
   {
    "duration": 17,
    "start_time": "2022-05-02T11:24:54.021Z"
   },
   {
    "duration": 26,
    "start_time": "2022-05-02T11:24:54.040Z"
   },
   {
    "duration": 14,
    "start_time": "2022-05-02T11:24:54.068Z"
   },
   {
    "duration": 28,
    "start_time": "2022-05-02T11:24:54.084Z"
   },
   {
    "duration": 9,
    "start_time": "2022-05-02T11:24:54.113Z"
   },
   {
    "duration": 29,
    "start_time": "2022-05-02T11:24:54.123Z"
   },
   {
    "duration": 18,
    "start_time": "2022-05-02T11:24:54.154Z"
   },
   {
    "duration": 66,
    "start_time": "2022-05-02T11:24:54.174Z"
   },
   {
    "duration": 0,
    "start_time": "2022-05-02T11:24:54.241Z"
   },
   {
    "duration": 0,
    "start_time": "2022-05-02T11:24:54.243Z"
   },
   {
    "duration": 0,
    "start_time": "2022-05-02T11:24:54.244Z"
   },
   {
    "duration": 0,
    "start_time": "2022-05-02T11:24:54.245Z"
   },
   {
    "duration": 68,
    "start_time": "2022-05-02T11:25:37.679Z"
   },
   {
    "duration": 61,
    "start_time": "2022-05-02T11:25:43.493Z"
   },
   {
    "duration": 55,
    "start_time": "2022-05-02T11:25:53.037Z"
   },
   {
    "duration": 26,
    "start_time": "2022-05-02T11:26:03.273Z"
   },
   {
    "duration": 19,
    "start_time": "2022-05-02T11:26:04.873Z"
   },
   {
    "duration": 3,
    "start_time": "2022-05-02T11:26:05.853Z"
   },
   {
    "duration": 3251,
    "start_time": "2022-05-02T11:26:07.675Z"
   },
   {
    "duration": 15,
    "start_time": "2022-05-02T11:26:10.928Z"
   },
   {
    "duration": 15,
    "start_time": "2022-05-02T11:27:17.523Z"
   },
   {
    "duration": 3,
    "start_time": "2022-05-02T11:27:21.208Z"
   },
   {
    "duration": 58,
    "start_time": "2022-05-02T11:27:21.213Z"
   },
   {
    "duration": 15,
    "start_time": "2022-05-02T11:27:21.273Z"
   },
   {
    "duration": 4,
    "start_time": "2022-05-02T11:27:21.289Z"
   },
   {
    "duration": 19,
    "start_time": "2022-05-02T11:27:21.308Z"
   },
   {
    "duration": 21,
    "start_time": "2022-05-02T11:27:21.329Z"
   },
   {
    "duration": 7,
    "start_time": "2022-05-02T11:27:21.352Z"
   },
   {
    "duration": 8,
    "start_time": "2022-05-02T11:27:21.360Z"
   },
   {
    "duration": 39,
    "start_time": "2022-05-02T11:27:21.370Z"
   },
   {
    "duration": 16,
    "start_time": "2022-05-02T11:27:21.411Z"
   },
   {
    "duration": 14,
    "start_time": "2022-05-02T11:27:21.429Z"
   },
   {
    "duration": 18,
    "start_time": "2022-05-02T11:27:21.445Z"
   },
   {
    "duration": 8,
    "start_time": "2022-05-02T11:27:21.465Z"
   },
   {
    "duration": 53,
    "start_time": "2022-05-02T11:27:21.474Z"
   },
   {
    "duration": 18,
    "start_time": "2022-05-02T11:27:21.529Z"
   },
   {
    "duration": 14,
    "start_time": "2022-05-02T11:27:21.549Z"
   },
   {
    "duration": 49,
    "start_time": "2022-05-02T11:27:21.565Z"
   },
   {
    "duration": 18,
    "start_time": "2022-05-02T11:27:21.616Z"
   },
   {
    "duration": 3,
    "start_time": "2022-05-02T11:27:21.635Z"
   },
   {
    "duration": 4105,
    "start_time": "2022-05-02T11:27:21.640Z"
   },
   {
    "duration": 15,
    "start_time": "2022-05-02T11:27:25.747Z"
   },
   {
    "duration": 32,
    "start_time": "2022-05-02T11:27:50.209Z"
   },
   {
    "duration": 3,
    "start_time": "2022-05-02T11:28:19.176Z"
   },
   {
    "duration": 54,
    "start_time": "2022-05-02T11:28:19.188Z"
   },
   {
    "duration": 16,
    "start_time": "2022-05-02T11:28:19.245Z"
   },
   {
    "duration": 4,
    "start_time": "2022-05-02T11:28:19.263Z"
   },
   {
    "duration": 54,
    "start_time": "2022-05-02T11:28:19.269Z"
   },
   {
    "duration": 31,
    "start_time": "2022-05-02T11:28:19.325Z"
   },
   {
    "duration": 7,
    "start_time": "2022-05-02T11:28:19.359Z"
   },
   {
    "duration": 39,
    "start_time": "2022-05-02T11:28:19.368Z"
   },
   {
    "duration": 15,
    "start_time": "2022-05-02T11:28:19.409Z"
   },
   {
    "duration": 16,
    "start_time": "2022-05-02T11:28:19.426Z"
   },
   {
    "duration": 18,
    "start_time": "2022-05-02T11:28:19.444Z"
   },
   {
    "duration": 8,
    "start_time": "2022-05-02T11:28:19.464Z"
   },
   {
    "duration": 26,
    "start_time": "2022-05-02T11:28:19.507Z"
   },
   {
    "duration": 18,
    "start_time": "2022-05-02T11:28:19.535Z"
   },
   {
    "duration": 14,
    "start_time": "2022-05-02T11:28:19.554Z"
   },
   {
    "duration": 43,
    "start_time": "2022-05-02T11:28:19.570Z"
   },
   {
    "duration": 18,
    "start_time": "2022-05-02T11:28:19.615Z"
   },
   {
    "duration": 3,
    "start_time": "2022-05-02T11:28:19.634Z"
   },
   {
    "duration": 4142,
    "start_time": "2022-05-02T11:28:19.639Z"
   },
   {
    "duration": 14,
    "start_time": "2022-05-02T11:28:23.782Z"
   },
   {
    "duration": 17,
    "start_time": "2022-05-02T11:29:00.236Z"
   },
   {
    "duration": 18,
    "start_time": "2022-05-02T11:29:01.469Z"
   },
   {
    "duration": 3,
    "start_time": "2022-05-02T11:29:02.641Z"
   },
   {
    "duration": 3229,
    "start_time": "2022-05-02T11:29:03.213Z"
   },
   {
    "duration": 16,
    "start_time": "2022-05-02T11:29:07.892Z"
   },
   {
    "duration": 15,
    "start_time": "2022-05-02T11:30:03.957Z"
   },
   {
    "duration": 15,
    "start_time": "2022-05-02T11:31:15.283Z"
   },
   {
    "duration": 19,
    "start_time": "2022-05-02T11:47:59.889Z"
   },
   {
    "duration": 75,
    "start_time": "2022-05-02T11:48:32.191Z"
   },
   {
    "duration": 5,
    "start_time": "2022-05-02T11:48:49.316Z"
   },
   {
    "duration": 3,
    "start_time": "2022-05-02T11:49:38.090Z"
   },
   {
    "duration": 51,
    "start_time": "2022-05-02T11:49:38.228Z"
   },
   {
    "duration": 15,
    "start_time": "2022-05-02T11:49:38.281Z"
   },
   {
    "duration": 4,
    "start_time": "2022-05-02T11:49:38.298Z"
   },
   {
    "duration": 24,
    "start_time": "2022-05-02T11:49:38.304Z"
   },
   {
    "duration": 22,
    "start_time": "2022-05-02T11:49:38.329Z"
   },
   {
    "duration": 5,
    "start_time": "2022-05-02T11:49:38.354Z"
   },
   {
    "duration": 8,
    "start_time": "2022-05-02T11:49:38.362Z"
   },
   {
    "duration": 8,
    "start_time": "2022-05-02T11:49:38.372Z"
   },
   {
    "duration": 16,
    "start_time": "2022-05-02T11:49:38.407Z"
   },
   {
    "duration": 20,
    "start_time": "2022-05-02T11:49:38.425Z"
   },
   {
    "duration": 7,
    "start_time": "2022-05-02T11:49:38.446Z"
   },
   {
    "duration": 54,
    "start_time": "2022-05-02T11:49:38.455Z"
   },
   {
    "duration": 17,
    "start_time": "2022-05-02T11:49:38.511Z"
   },
   {
    "duration": 16,
    "start_time": "2022-05-02T11:49:38.530Z"
   },
   {
    "duration": 16,
    "start_time": "2022-05-02T11:49:38.548Z"
   },
   {
    "duration": 3,
    "start_time": "2022-05-02T11:49:38.566Z"
   },
   {
    "duration": 4056,
    "start_time": "2022-05-02T11:49:38.570Z"
   },
   {
    "duration": 15,
    "start_time": "2022-05-02T11:49:42.628Z"
   },
   {
    "duration": 3,
    "start_time": "2022-05-02T11:56:53.743Z"
   },
   {
    "duration": 3199,
    "start_time": "2022-05-02T11:56:54.245Z"
   },
   {
    "duration": 73,
    "start_time": "2022-05-03T07:02:53.105Z"
   },
   {
    "duration": 2084,
    "start_time": "2022-05-03T07:02:56.040Z"
   },
   {
    "duration": 80,
    "start_time": "2022-05-03T07:02:58.127Z"
   },
   {
    "duration": 26,
    "start_time": "2022-05-03T07:02:58.209Z"
   },
   {
    "duration": 5,
    "start_time": "2022-05-03T07:02:58.238Z"
   },
   {
    "duration": 29,
    "start_time": "2022-05-03T07:02:58.245Z"
   },
   {
    "duration": 63,
    "start_time": "2022-05-03T07:02:58.277Z"
   },
   {
    "duration": 6,
    "start_time": "2022-05-03T07:02:58.343Z"
   },
   {
    "duration": 11,
    "start_time": "2022-05-03T07:02:58.351Z"
   },
   {
    "duration": 18,
    "start_time": "2022-05-03T07:02:58.364Z"
   },
   {
    "duration": 50,
    "start_time": "2022-05-03T07:02:58.386Z"
   },
   {
    "duration": 30,
    "start_time": "2022-05-03T07:02:58.439Z"
   },
   {
    "duration": 10,
    "start_time": "2022-05-03T07:02:58.471Z"
   },
   {
    "duration": 49,
    "start_time": "2022-05-03T07:02:58.483Z"
   },
   {
    "duration": 23,
    "start_time": "2022-05-03T07:02:58.534Z"
   },
   {
    "duration": 22,
    "start_time": "2022-05-03T07:02:58.559Z"
   },
   {
    "duration": 4,
    "start_time": "2022-05-03T07:02:58.583Z"
   },
   {
    "duration": 5836,
    "start_time": "2022-05-03T07:02:58.625Z"
   },
   {
    "duration": 21,
    "start_time": "2022-05-03T07:03:04.463Z"
   },
   {
    "duration": 12,
    "start_time": "2022-05-03T07:03:04.487Z"
   },
   {
    "duration": 54,
    "start_time": "2022-05-03T07:03:32.579Z"
   },
   {
    "duration": 96,
    "start_time": "2022-05-03T07:04:52.450Z"
   },
   {
    "duration": 8,
    "start_time": "2022-05-03T07:07:28.049Z"
   },
   {
    "duration": 7,
    "start_time": "2022-05-03T07:10:47.488Z"
   },
   {
    "duration": 35,
    "start_time": "2022-05-03T07:10:48.928Z"
   },
   {
    "duration": 13,
    "start_time": "2022-05-03T07:14:59.984Z"
   },
   {
    "duration": 21,
    "start_time": "2022-05-03T07:15:01.346Z"
   },
   {
    "duration": 22,
    "start_time": "2022-05-03T07:15:02.366Z"
   },
   {
    "duration": 22,
    "start_time": "2022-05-03T07:15:03.098Z"
   },
   {
    "duration": 5,
    "start_time": "2022-05-03T07:15:05.624Z"
   },
   {
    "duration": 5816,
    "start_time": "2022-05-03T07:15:06.086Z"
   },
   {
    "duration": 7,
    "start_time": "2022-05-03T07:15:15.702Z"
   },
   {
    "duration": 4,
    "start_time": "2022-05-03T07:15:25.106Z"
   },
   {
    "duration": 77,
    "start_time": "2022-05-03T07:15:25.113Z"
   },
   {
    "duration": 31,
    "start_time": "2022-05-03T07:15:25.193Z"
   },
   {
    "duration": 4,
    "start_time": "2022-05-03T07:15:25.227Z"
   },
   {
    "duration": 28,
    "start_time": "2022-05-03T07:15:25.233Z"
   },
   {
    "duration": 31,
    "start_time": "2022-05-03T07:15:25.263Z"
   },
   {
    "duration": 31,
    "start_time": "2022-05-03T07:15:25.297Z"
   },
   {
    "duration": 11,
    "start_time": "2022-05-03T07:15:25.330Z"
   },
   {
    "duration": 14,
    "start_time": "2022-05-03T07:15:25.343Z"
   },
   {
    "duration": 25,
    "start_time": "2022-05-03T07:15:25.362Z"
   },
   {
    "duration": 58,
    "start_time": "2022-05-03T07:15:25.390Z"
   },
   {
    "duration": 12,
    "start_time": "2022-05-03T07:15:25.451Z"
   },
   {
    "duration": 58,
    "start_time": "2022-05-03T07:15:25.466Z"
   },
   {
    "duration": 22,
    "start_time": "2022-05-03T07:15:25.527Z"
   },
   {
    "duration": 22,
    "start_time": "2022-05-03T07:15:25.551Z"
   },
   {
    "duration": 4,
    "start_time": "2022-05-03T07:15:25.575Z"
   },
   {
    "duration": 5839,
    "start_time": "2022-05-03T07:15:25.581Z"
   },
   {
    "duration": 20,
    "start_time": "2022-05-03T07:15:31.425Z"
   },
   {
    "duration": 11,
    "start_time": "2022-05-03T07:15:31.447Z"
   },
   {
    "duration": 15,
    "start_time": "2022-05-03T07:15:31.460Z"
   },
   {
    "duration": 54,
    "start_time": "2022-05-03T07:15:31.477Z"
   },
   {
    "duration": 7,
    "start_time": "2022-05-03T07:15:43.737Z"
   },
   {
    "duration": 33,
    "start_time": "2022-05-03T07:15:44.498Z"
   },
   {
    "duration": 21,
    "start_time": "2022-05-03T07:28:30.698Z"
   },
   {
    "duration": 12,
    "start_time": "2022-05-03T07:28:38.626Z"
   },
   {
    "duration": 1392,
    "start_time": "2022-05-03T11:53:39.859Z"
   },
   {
    "duration": 75,
    "start_time": "2022-05-03T11:53:41.254Z"
   },
   {
    "duration": 17,
    "start_time": "2022-05-03T11:53:41.331Z"
   },
   {
    "duration": 4,
    "start_time": "2022-05-03T11:53:41.351Z"
   },
   {
    "duration": 35,
    "start_time": "2022-05-03T11:53:41.357Z"
   },
   {
    "duration": 47,
    "start_time": "2022-05-03T11:53:41.394Z"
   },
   {
    "duration": 5,
    "start_time": "2022-05-03T11:53:41.443Z"
   },
   {
    "duration": 12,
    "start_time": "2022-05-03T11:53:41.449Z"
   },
   {
    "duration": 11,
    "start_time": "2022-05-03T11:53:41.462Z"
   },
   {
    "duration": 16,
    "start_time": "2022-05-03T11:53:41.476Z"
   },
   {
    "duration": 48,
    "start_time": "2022-05-03T11:53:41.494Z"
   },
   {
    "duration": 9,
    "start_time": "2022-05-03T11:53:41.543Z"
   },
   {
    "duration": 21,
    "start_time": "2022-05-03T11:53:41.554Z"
   },
   {
    "duration": 17,
    "start_time": "2022-05-03T11:53:41.576Z"
   },
   {
    "duration": 46,
    "start_time": "2022-05-03T11:53:41.595Z"
   },
   {
    "duration": 3,
    "start_time": "2022-05-03T11:53:41.643Z"
   },
   {
    "duration": 3486,
    "start_time": "2022-05-03T11:53:41.647Z"
   },
   {
    "duration": 15,
    "start_time": "2022-05-03T11:53:45.135Z"
   },
   {
    "duration": 7,
    "start_time": "2022-05-03T11:53:45.152Z"
   },
   {
    "duration": 91,
    "start_time": "2022-05-03T11:53:45.161Z"
   },
   {
    "duration": 11,
    "start_time": "2022-05-03T11:53:45.254Z"
   },
   {
    "duration": 5,
    "start_time": "2022-05-03T11:55:04.717Z"
   },
   {
    "duration": 2,
    "start_time": "2022-05-03T12:01:08.174Z"
   },
   {
    "duration": 73,
    "start_time": "2022-05-03T12:01:08.178Z"
   },
   {
    "duration": 15,
    "start_time": "2022-05-03T12:01:08.253Z"
   },
   {
    "duration": 6,
    "start_time": "2022-05-03T12:01:08.270Z"
   },
   {
    "duration": 20,
    "start_time": "2022-05-03T12:01:08.278Z"
   },
   {
    "duration": 33,
    "start_time": "2022-05-03T12:01:08.300Z"
   },
   {
    "duration": 4,
    "start_time": "2022-05-03T12:01:08.335Z"
   },
   {
    "duration": 11,
    "start_time": "2022-05-03T12:01:08.341Z"
   },
   {
    "duration": 6,
    "start_time": "2022-05-03T12:01:08.354Z"
   },
   {
    "duration": 9,
    "start_time": "2022-05-03T12:01:08.362Z"
   },
   {
    "duration": 16,
    "start_time": "2022-05-03T12:01:08.373Z"
   },
   {
    "duration": 44,
    "start_time": "2022-05-03T12:01:08.391Z"
   },
   {
    "duration": 9,
    "start_time": "2022-05-03T12:01:08.437Z"
   },
   {
    "duration": 16,
    "start_time": "2022-05-03T12:01:08.448Z"
   },
   {
    "duration": 16,
    "start_time": "2022-05-03T12:01:08.466Z"
   },
   {
    "duration": 17,
    "start_time": "2022-05-03T12:01:08.483Z"
   },
   {
    "duration": 3,
    "start_time": "2022-05-03T12:01:08.501Z"
   },
   {
    "duration": 3699,
    "start_time": "2022-05-03T12:01:08.534Z"
   },
   {
    "duration": 13,
    "start_time": "2022-05-03T12:01:12.235Z"
   },
   {
    "duration": 5,
    "start_time": "2022-05-03T12:01:12.249Z"
   },
   {
    "duration": 25,
    "start_time": "2022-05-03T12:01:12.256Z"
   },
   {
    "duration": 11,
    "start_time": "2022-05-03T12:01:12.283Z"
   },
   {
    "duration": 108,
    "start_time": "2022-05-03T12:02:31.495Z"
   },
   {
    "duration": 4,
    "start_time": "2022-05-03T12:03:22.376Z"
   },
   {
    "duration": 5,
    "start_time": "2022-05-03T12:03:24.277Z"
   },
   {
    "duration": 5,
    "start_time": "2022-05-03T12:03:28.380Z"
   },
   {
    "duration": 14,
    "start_time": "2022-05-03T12:03:33.776Z"
   },
   {
    "duration": 3,
    "start_time": "2022-05-03T12:04:17.308Z"
   },
   {
    "duration": 64,
    "start_time": "2022-05-03T12:04:17.313Z"
   },
   {
    "duration": 15,
    "start_time": "2022-05-03T12:04:17.378Z"
   },
   {
    "duration": 6,
    "start_time": "2022-05-03T12:04:17.395Z"
   },
   {
    "duration": 39,
    "start_time": "2022-05-03T12:04:17.403Z"
   },
   {
    "duration": 22,
    "start_time": "2022-05-03T12:04:17.444Z"
   },
   {
    "duration": 11,
    "start_time": "2022-05-03T12:04:17.468Z"
   },
   {
    "duration": 9,
    "start_time": "2022-05-03T12:04:17.481Z"
   },
   {
    "duration": 8,
    "start_time": "2022-05-03T12:04:17.492Z"
   },
   {
    "duration": 23,
    "start_time": "2022-05-03T12:04:17.502Z"
   },
   {
    "duration": 15,
    "start_time": "2022-05-03T12:04:17.535Z"
   },
   {
    "duration": 18,
    "start_time": "2022-05-03T12:04:17.552Z"
   },
   {
    "duration": 10,
    "start_time": "2022-05-03T12:04:17.571Z"
   },
   {
    "duration": 19,
    "start_time": "2022-05-03T12:04:17.582Z"
   },
   {
    "duration": 42,
    "start_time": "2022-05-03T12:04:17.603Z"
   },
   {
    "duration": 18,
    "start_time": "2022-05-03T12:04:17.647Z"
   },
   {
    "duration": 3,
    "start_time": "2022-05-03T12:04:17.666Z"
   },
   {
    "duration": 4242,
    "start_time": "2022-05-03T12:04:17.671Z"
   },
   {
    "duration": 19,
    "start_time": "2022-05-03T12:04:21.915Z"
   },
   {
    "duration": 6,
    "start_time": "2022-05-03T12:04:21.935Z"
   },
   {
    "duration": 25,
    "start_time": "2022-05-03T12:04:21.943Z"
   },
   {
    "duration": 8,
    "start_time": "2022-05-03T12:04:21.970Z"
   },
   {
    "duration": 9,
    "start_time": "2022-05-03T12:05:03.096Z"
   },
   {
    "duration": 26,
    "start_time": "2022-05-03T12:05:50.556Z"
   },
   {
    "duration": 5,
    "start_time": "2022-05-03T12:08:33.024Z"
   },
   {
    "duration": 5,
    "start_time": "2022-05-03T12:08:34.879Z"
   },
   {
    "duration": 4,
    "start_time": "2022-05-03T12:09:01.437Z"
   },
   {
    "duration": 68,
    "start_time": "2022-05-03T12:09:01.443Z"
   },
   {
    "duration": 25,
    "start_time": "2022-05-03T12:09:01.514Z"
   },
   {
    "duration": 9,
    "start_time": "2022-05-03T12:09:01.541Z"
   },
   {
    "duration": 35,
    "start_time": "2022-05-03T12:09:01.553Z"
   },
   {
    "duration": 32,
    "start_time": "2022-05-03T12:09:01.590Z"
   },
   {
    "duration": 11,
    "start_time": "2022-05-03T12:09:01.623Z"
   },
   {
    "duration": 10,
    "start_time": "2022-05-03T12:09:01.636Z"
   },
   {
    "duration": 10,
    "start_time": "2022-05-03T12:09:01.648Z"
   },
   {
    "duration": 14,
    "start_time": "2022-05-03T12:09:01.660Z"
   },
   {
    "duration": 30,
    "start_time": "2022-05-03T12:09:01.677Z"
   },
   {
    "duration": 27,
    "start_time": "2022-05-03T12:09:01.710Z"
   },
   {
    "duration": 29,
    "start_time": "2022-05-03T12:09:01.739Z"
   },
   {
    "duration": 11,
    "start_time": "2022-05-03T12:09:01.770Z"
   },
   {
    "duration": 26,
    "start_time": "2022-05-03T12:09:01.783Z"
   },
   {
    "duration": 22,
    "start_time": "2022-05-03T12:09:01.811Z"
   },
   {
    "duration": 19,
    "start_time": "2022-05-03T12:09:01.836Z"
   },
   {
    "duration": 3,
    "start_time": "2022-05-03T12:09:01.858Z"
   },
   {
    "duration": 4029,
    "start_time": "2022-05-03T12:09:01.862Z"
   },
   {
    "duration": 14,
    "start_time": "2022-05-03T12:09:05.893Z"
   },
   {
    "duration": 5,
    "start_time": "2022-05-03T12:09:05.909Z"
   },
   {
    "duration": 38,
    "start_time": "2022-05-03T12:09:05.916Z"
   },
   {
    "duration": 13,
    "start_time": "2022-05-03T12:09:05.956Z"
   },
   {
    "duration": 6,
    "start_time": "2022-05-03T12:09:32.137Z"
   },
   {
    "duration": 5,
    "start_time": "2022-05-03T12:09:34.962Z"
   },
   {
    "duration": 5,
    "start_time": "2022-05-03T12:09:36.178Z"
   },
   {
    "duration": 6,
    "start_time": "2022-05-03T12:09:36.899Z"
   },
   {
    "duration": 3,
    "start_time": "2022-05-03T12:13:18.868Z"
   },
   {
    "duration": 80,
    "start_time": "2022-05-03T12:13:18.875Z"
   },
   {
    "duration": 17,
    "start_time": "2022-05-03T12:13:18.957Z"
   },
   {
    "duration": 4,
    "start_time": "2022-05-03T12:13:18.976Z"
   },
   {
    "duration": 32,
    "start_time": "2022-05-03T12:13:18.982Z"
   },
   {
    "duration": 35,
    "start_time": "2022-05-03T12:13:19.017Z"
   },
   {
    "duration": 5,
    "start_time": "2022-05-03T12:13:19.054Z"
   },
   {
    "duration": 11,
    "start_time": "2022-05-03T12:13:19.061Z"
   },
   {
    "duration": 6,
    "start_time": "2022-05-03T12:13:19.074Z"
   },
   {
    "duration": 8,
    "start_time": "2022-05-03T12:13:19.082Z"
   },
   {
    "duration": 43,
    "start_time": "2022-05-03T12:13:19.092Z"
   },
   {
    "duration": 15,
    "start_time": "2022-05-03T12:13:19.138Z"
   },
   {
    "duration": 19,
    "start_time": "2022-05-03T12:13:19.155Z"
   },
   {
    "duration": 17,
    "start_time": "2022-05-03T12:13:19.175Z"
   },
   {
    "duration": 63,
    "start_time": "2022-05-03T12:13:19.195Z"
   },
   {
    "duration": 1,
    "start_time": "2022-05-03T12:13:19.259Z"
   },
   {
    "duration": 0,
    "start_time": "2022-05-03T12:13:19.261Z"
   },
   {
    "duration": 0,
    "start_time": "2022-05-03T12:13:19.262Z"
   },
   {
    "duration": 0,
    "start_time": "2022-05-03T12:13:19.263Z"
   },
   {
    "duration": 0,
    "start_time": "2022-05-03T12:13:19.264Z"
   },
   {
    "duration": 0,
    "start_time": "2022-05-03T12:13:19.265Z"
   },
   {
    "duration": 0,
    "start_time": "2022-05-03T12:13:19.266Z"
   },
   {
    "duration": 0,
    "start_time": "2022-05-03T12:13:19.267Z"
   },
   {
    "duration": 6,
    "start_time": "2022-05-03T12:14:00.857Z"
   },
   {
    "duration": 6,
    "start_time": "2022-05-03T12:14:03.378Z"
   },
   {
    "duration": 6,
    "start_time": "2022-05-03T12:14:03.976Z"
   },
   {
    "duration": 4,
    "start_time": "2022-05-03T12:14:25.040Z"
   },
   {
    "duration": 20,
    "start_time": "2022-05-03T12:14:25.981Z"
   },
   {
    "duration": 12,
    "start_time": "2022-05-03T12:15:10.066Z"
   },
   {
    "duration": 3,
    "start_time": "2022-05-03T12:15:15.173Z"
   },
   {
    "duration": 86,
    "start_time": "2022-05-03T12:15:15.179Z"
   },
   {
    "duration": 13,
    "start_time": "2022-05-03T12:15:15.267Z"
   },
   {
    "duration": 4,
    "start_time": "2022-05-03T12:15:15.282Z"
   },
   {
    "duration": 25,
    "start_time": "2022-05-03T12:15:15.287Z"
   },
   {
    "duration": 37,
    "start_time": "2022-05-03T12:15:15.313Z"
   },
   {
    "duration": 7,
    "start_time": "2022-05-03T12:15:15.352Z"
   },
   {
    "duration": 18,
    "start_time": "2022-05-03T12:15:15.361Z"
   },
   {
    "duration": 11,
    "start_time": "2022-05-03T12:15:15.382Z"
   },
   {
    "duration": 15,
    "start_time": "2022-05-03T12:15:15.395Z"
   },
   {
    "duration": 32,
    "start_time": "2022-05-03T12:15:15.411Z"
   },
   {
    "duration": 18,
    "start_time": "2022-05-03T12:15:15.445Z"
   },
   {
    "duration": 10,
    "start_time": "2022-05-03T12:15:15.465Z"
   },
   {
    "duration": 32,
    "start_time": "2022-05-03T12:15:15.477Z"
   },
   {
    "duration": 0,
    "start_time": "2022-05-03T12:15:15.534Z"
   },
   {
    "duration": 0,
    "start_time": "2022-05-03T12:15:15.535Z"
   },
   {
    "duration": 0,
    "start_time": "2022-05-03T12:15:15.536Z"
   },
   {
    "duration": 0,
    "start_time": "2022-05-03T12:15:15.537Z"
   },
   {
    "duration": 0,
    "start_time": "2022-05-03T12:15:15.538Z"
   },
   {
    "duration": 0,
    "start_time": "2022-05-03T12:15:15.539Z"
   },
   {
    "duration": 1,
    "start_time": "2022-05-03T12:15:15.540Z"
   },
   {
    "duration": 0,
    "start_time": "2022-05-03T12:15:15.542Z"
   },
   {
    "duration": 4,
    "start_time": "2022-05-03T12:16:25.359Z"
   },
   {
    "duration": 91,
    "start_time": "2022-05-03T12:16:25.366Z"
   },
   {
    "duration": 21,
    "start_time": "2022-05-03T12:16:25.459Z"
   },
   {
    "duration": 4,
    "start_time": "2022-05-03T12:16:25.483Z"
   },
   {
    "duration": 31,
    "start_time": "2022-05-03T12:16:25.491Z"
   },
   {
    "duration": 35,
    "start_time": "2022-05-03T12:16:25.535Z"
   },
   {
    "duration": 9,
    "start_time": "2022-05-03T12:16:25.572Z"
   },
   {
    "duration": 13,
    "start_time": "2022-05-03T12:16:25.582Z"
   },
   {
    "duration": 17,
    "start_time": "2022-05-03T12:16:25.599Z"
   },
   {
    "duration": 39,
    "start_time": "2022-05-03T12:16:25.618Z"
   },
   {
    "duration": 12,
    "start_time": "2022-05-03T12:16:25.658Z"
   },
   {
    "duration": 20,
    "start_time": "2022-05-03T12:16:25.672Z"
   },
   {
    "duration": 17,
    "start_time": "2022-05-03T12:16:25.694Z"
   },
   {
    "duration": 47,
    "start_time": "2022-05-03T12:16:25.713Z"
   },
   {
    "duration": 4,
    "start_time": "2022-05-03T12:16:25.761Z"
   },
   {
    "duration": 4675,
    "start_time": "2022-05-03T12:16:25.767Z"
   },
   {
    "duration": 21,
    "start_time": "2022-05-03T12:16:30.446Z"
   },
   {
    "duration": 14,
    "start_time": "2022-05-03T12:16:30.468Z"
   },
   {
    "duration": 15,
    "start_time": "2022-05-03T12:16:30.484Z"
   },
   {
    "duration": 65,
    "start_time": "2022-05-03T12:16:30.501Z"
   },
   {
    "duration": 9,
    "start_time": "2022-05-03T12:16:30.568Z"
   },
   {
    "duration": 4,
    "start_time": "2022-05-03T12:20:09.131Z"
   },
   {
    "duration": 62,
    "start_time": "2022-05-03T12:20:09.155Z"
   },
   {
    "duration": 16,
    "start_time": "2022-05-03T12:20:09.219Z"
   },
   {
    "duration": 6,
    "start_time": "2022-05-03T12:20:09.237Z"
   },
   {
    "duration": 33,
    "start_time": "2022-05-03T12:20:09.246Z"
   },
   {
    "duration": 22,
    "start_time": "2022-05-03T12:20:09.282Z"
   },
   {
    "duration": 47,
    "start_time": "2022-05-03T12:20:09.306Z"
   },
   {
    "duration": 13,
    "start_time": "2022-05-03T12:20:09.355Z"
   },
   {
    "duration": 26,
    "start_time": "2022-05-03T12:20:09.370Z"
   },
   {
    "duration": 50,
    "start_time": "2022-05-03T12:20:09.398Z"
   },
   {
    "duration": 16,
    "start_time": "2022-05-03T12:20:09.452Z"
   },
   {
    "duration": 0,
    "start_time": "2022-05-03T12:20:09.470Z"
   },
   {
    "duration": 0,
    "start_time": "2022-05-03T12:20:09.472Z"
   },
   {
    "duration": 0,
    "start_time": "2022-05-03T12:20:09.473Z"
   },
   {
    "duration": 0,
    "start_time": "2022-05-03T12:20:09.474Z"
   },
   {
    "duration": 0,
    "start_time": "2022-05-03T12:20:09.476Z"
   },
   {
    "duration": 0,
    "start_time": "2022-05-03T12:20:09.477Z"
   },
   {
    "duration": 0,
    "start_time": "2022-05-03T12:20:09.478Z"
   },
   {
    "duration": 0,
    "start_time": "2022-05-03T12:20:09.480Z"
   },
   {
    "duration": 0,
    "start_time": "2022-05-03T12:20:09.481Z"
   },
   {
    "duration": 0,
    "start_time": "2022-05-03T12:20:09.483Z"
   },
   {
    "duration": 3,
    "start_time": "2022-05-03T12:22:48.081Z"
   },
   {
    "duration": 81,
    "start_time": "2022-05-03T12:22:48.086Z"
   },
   {
    "duration": 18,
    "start_time": "2022-05-03T12:22:48.168Z"
   },
   {
    "duration": 3,
    "start_time": "2022-05-03T12:22:48.187Z"
   },
   {
    "duration": 50,
    "start_time": "2022-05-03T12:22:48.193Z"
   },
   {
    "duration": 31,
    "start_time": "2022-05-03T12:22:48.245Z"
   },
   {
    "duration": 23,
    "start_time": "2022-05-03T12:22:48.278Z"
   },
   {
    "duration": 34,
    "start_time": "2022-05-03T12:22:48.303Z"
   },
   {
    "duration": 24,
    "start_time": "2022-05-03T12:22:48.340Z"
   },
   {
    "duration": 24,
    "start_time": "2022-05-03T12:22:48.366Z"
   },
   {
    "duration": 12,
    "start_time": "2022-05-03T12:22:48.393Z"
   },
   {
    "duration": 47,
    "start_time": "2022-05-03T12:22:48.407Z"
   },
   {
    "duration": 3,
    "start_time": "2022-05-03T12:22:48.456Z"
   },
   {
    "duration": 3472,
    "start_time": "2022-05-03T12:22:48.461Z"
   },
   {
    "duration": 14,
    "start_time": "2022-05-03T12:22:51.935Z"
   },
   {
    "duration": 8,
    "start_time": "2022-05-03T12:22:51.951Z"
   },
   {
    "duration": 6,
    "start_time": "2022-05-03T12:22:51.961Z"
   },
   {
    "duration": 70,
    "start_time": "2022-05-03T12:22:51.969Z"
   },
   {
    "duration": 6,
    "start_time": "2022-05-03T12:22:52.041Z"
   },
   {
    "duration": 29,
    "start_time": "2022-05-03T12:22:52.048Z"
   },
   {
    "duration": 63,
    "start_time": "2022-05-03T12:22:52.078Z"
   },
   {
    "duration": 9,
    "start_time": "2022-05-03T12:27:43.615Z"
   },
   {
    "duration": 3,
    "start_time": "2022-05-03T12:27:53.468Z"
   },
   {
    "duration": 80,
    "start_time": "2022-05-03T12:27:53.479Z"
   },
   {
    "duration": 14,
    "start_time": "2022-05-03T12:27:53.561Z"
   },
   {
    "duration": 3,
    "start_time": "2022-05-03T12:27:53.577Z"
   },
   {
    "duration": 21,
    "start_time": "2022-05-03T12:27:53.582Z"
   },
   {
    "duration": 47,
    "start_time": "2022-05-03T12:27:53.605Z"
   },
   {
    "duration": 23,
    "start_time": "2022-05-03T12:27:53.654Z"
   },
   {
    "duration": 12,
    "start_time": "2022-05-03T12:27:53.679Z"
   },
   {
    "duration": 55,
    "start_time": "2022-05-03T12:27:53.694Z"
   },
   {
    "duration": 17,
    "start_time": "2022-05-03T12:27:53.752Z"
   },
   {
    "duration": 9,
    "start_time": "2022-05-03T12:27:53.772Z"
   },
   {
    "duration": 22,
    "start_time": "2022-05-03T12:27:53.782Z"
   },
   {
    "duration": 3,
    "start_time": "2022-05-03T12:27:53.806Z"
   },
   {
    "duration": 4598,
    "start_time": "2022-05-03T12:27:53.833Z"
   },
   {
    "duration": 24,
    "start_time": "2022-05-03T12:27:58.432Z"
   },
   {
    "duration": 9,
    "start_time": "2022-05-03T12:27:58.458Z"
   },
   {
    "duration": 7,
    "start_time": "2022-05-03T12:27:58.469Z"
   },
   {
    "duration": 27,
    "start_time": "2022-05-03T12:27:58.478Z"
   },
   {
    "duration": 31,
    "start_time": "2022-05-03T12:27:58.507Z"
   },
   {
    "duration": 43,
    "start_time": "2022-05-03T12:27:58.542Z"
   },
   {
    "duration": 9,
    "start_time": "2022-05-03T12:27:58.587Z"
   },
   {
    "duration": 2,
    "start_time": "2022-05-03T12:30:03.372Z"
   },
   {
    "duration": 75,
    "start_time": "2022-05-03T12:30:03.377Z"
   },
   {
    "duration": 13,
    "start_time": "2022-05-03T12:30:03.454Z"
   },
   {
    "duration": 3,
    "start_time": "2022-05-03T12:30:03.470Z"
   },
   {
    "duration": 23,
    "start_time": "2022-05-03T12:30:03.474Z"
   },
   {
    "duration": 51,
    "start_time": "2022-05-03T12:30:03.499Z"
   },
   {
    "duration": 22,
    "start_time": "2022-05-03T12:30:03.552Z"
   },
   {
    "duration": 10,
    "start_time": "2022-05-03T12:30:03.576Z"
   },
   {
    "duration": 17,
    "start_time": "2022-05-03T12:30:03.589Z"
   },
   {
    "duration": 43,
    "start_time": "2022-05-03T12:30:03.608Z"
   },
   {
    "duration": 8,
    "start_time": "2022-05-03T12:30:03.653Z"
   },
   {
    "duration": 26,
    "start_time": "2022-05-03T12:30:03.663Z"
   },
   {
    "duration": 3,
    "start_time": "2022-05-03T12:30:03.691Z"
   },
   {
    "duration": 4660,
    "start_time": "2022-05-03T12:30:03.695Z"
   },
   {
    "duration": 14,
    "start_time": "2022-05-03T12:30:08.357Z"
   },
   {
    "duration": 9,
    "start_time": "2022-05-03T12:30:08.373Z"
   },
   {
    "duration": 7,
    "start_time": "2022-05-03T12:30:08.384Z"
   },
   {
    "duration": 9,
    "start_time": "2022-05-03T12:30:08.393Z"
   },
   {
    "duration": 5,
    "start_time": "2022-05-03T12:30:08.404Z"
   },
   {
    "duration": 24,
    "start_time": "2022-05-03T12:30:08.437Z"
   },
   {
    "duration": 7,
    "start_time": "2022-05-03T12:30:08.463Z"
   },
   {
    "duration": 26,
    "start_time": "2022-05-03T12:30:08.472Z"
   },
   {
    "duration": 35,
    "start_time": "2022-05-03T12:30:08.500Z"
   },
   {
    "duration": 9,
    "start_time": "2022-05-03T12:31:09.096Z"
   },
   {
    "duration": 6,
    "start_time": "2022-05-03T12:31:16.659Z"
   },
   {
    "duration": 63,
    "start_time": "2022-05-03T12:31:16.667Z"
   },
   {
    "duration": 25,
    "start_time": "2022-05-03T12:31:16.732Z"
   },
   {
    "duration": 6,
    "start_time": "2022-05-03T12:31:16.759Z"
   },
   {
    "duration": 22,
    "start_time": "2022-05-03T12:31:16.767Z"
   },
   {
    "duration": 22,
    "start_time": "2022-05-03T12:31:16.791Z"
   },
   {
    "duration": 28,
    "start_time": "2022-05-03T12:31:16.835Z"
   },
   {
    "duration": 12,
    "start_time": "2022-05-03T12:31:16.865Z"
   },
   {
    "duration": 17,
    "start_time": "2022-05-03T12:31:16.879Z"
   },
   {
    "duration": 61,
    "start_time": "2022-05-03T12:31:16.899Z"
   },
   {
    "duration": 9,
    "start_time": "2022-05-03T12:31:16.962Z"
   },
   {
    "duration": 20,
    "start_time": "2022-05-03T12:31:16.973Z"
   },
   {
    "duration": 4,
    "start_time": "2022-05-03T12:31:16.995Z"
   },
   {
    "duration": 3724,
    "start_time": "2022-05-03T12:31:17.001Z"
   },
   {
    "duration": 32,
    "start_time": "2022-05-03T12:31:20.726Z"
   },
   {
    "duration": 7,
    "start_time": "2022-05-03T12:31:20.761Z"
   },
   {
    "duration": 11,
    "start_time": "2022-05-03T12:31:20.770Z"
   },
   {
    "duration": 15,
    "start_time": "2022-05-03T12:31:20.783Z"
   },
   {
    "duration": 7,
    "start_time": "2022-05-03T12:31:20.800Z"
   },
   {
    "duration": 25,
    "start_time": "2022-05-03T12:31:20.834Z"
   },
   {
    "duration": 8,
    "start_time": "2022-05-03T12:31:20.861Z"
   },
   {
    "duration": 26,
    "start_time": "2022-05-03T12:31:20.871Z"
   },
   {
    "duration": 35,
    "start_time": "2022-05-03T12:31:20.900Z"
   },
   {
    "duration": 3,
    "start_time": "2022-05-03T12:32:53.160Z"
   },
   {
    "duration": 67,
    "start_time": "2022-05-03T12:32:53.166Z"
   },
   {
    "duration": 14,
    "start_time": "2022-05-03T12:32:53.235Z"
   },
   {
    "duration": 3,
    "start_time": "2022-05-03T12:32:53.251Z"
   },
   {
    "duration": 22,
    "start_time": "2022-05-03T12:32:53.257Z"
   },
   {
    "duration": 20,
    "start_time": "2022-05-03T12:32:53.281Z"
   },
   {
    "duration": 52,
    "start_time": "2022-05-03T12:32:53.303Z"
   },
   {
    "duration": 16,
    "start_time": "2022-05-03T12:32:53.357Z"
   },
   {
    "duration": 18,
    "start_time": "2022-05-03T12:32:53.375Z"
   },
   {
    "duration": 39,
    "start_time": "2022-05-03T12:32:53.395Z"
   },
   {
    "duration": 9,
    "start_time": "2022-05-03T12:32:53.436Z"
   },
   {
    "duration": 21,
    "start_time": "2022-05-03T12:32:53.447Z"
   },
   {
    "duration": 3,
    "start_time": "2022-05-03T12:32:53.470Z"
   },
   {
    "duration": 3221,
    "start_time": "2022-05-03T12:32:53.475Z"
   },
   {
    "duration": 15,
    "start_time": "2022-05-03T12:32:56.698Z"
   },
   {
    "duration": 5,
    "start_time": "2022-05-03T12:32:56.715Z"
   },
   {
    "duration": 6,
    "start_time": "2022-05-03T12:32:56.734Z"
   },
   {
    "duration": 7,
    "start_time": "2022-05-03T12:32:56.741Z"
   },
   {
    "duration": 7,
    "start_time": "2022-05-03T12:32:56.750Z"
   },
   {
    "duration": 9,
    "start_time": "2022-05-03T12:32:56.758Z"
   },
   {
    "duration": 14,
    "start_time": "2022-05-03T12:32:56.769Z"
   },
   {
    "duration": 6,
    "start_time": "2022-05-03T12:32:56.786Z"
   },
   {
    "duration": 59,
    "start_time": "2022-05-03T12:32:56.794Z"
   },
   {
    "duration": 17,
    "start_time": "2022-05-03T12:32:56.856Z"
   },
   {
    "duration": 7,
    "start_time": "2022-05-03T12:33:26.173Z"
   },
   {
    "duration": 3,
    "start_time": "2022-05-03T12:33:29.047Z"
   },
   {
    "duration": 70,
    "start_time": "2022-05-03T12:33:29.053Z"
   },
   {
    "duration": 17,
    "start_time": "2022-05-03T12:33:29.125Z"
   },
   {
    "duration": 3,
    "start_time": "2022-05-03T12:33:29.145Z"
   },
   {
    "duration": 28,
    "start_time": "2022-05-03T12:33:29.150Z"
   },
   {
    "duration": 25,
    "start_time": "2022-05-03T12:33:29.180Z"
   },
   {
    "duration": 37,
    "start_time": "2022-05-03T12:33:29.207Z"
   },
   {
    "duration": 12,
    "start_time": "2022-05-03T12:33:29.246Z"
   },
   {
    "duration": 25,
    "start_time": "2022-05-03T12:33:29.261Z"
   },
   {
    "duration": 27,
    "start_time": "2022-05-03T12:33:29.288Z"
   },
   {
    "duration": 19,
    "start_time": "2022-05-03T12:33:29.317Z"
   },
   {
    "duration": 28,
    "start_time": "2022-05-03T12:33:29.338Z"
   },
   {
    "duration": 3,
    "start_time": "2022-05-03T12:33:29.368Z"
   },
   {
    "duration": 3377,
    "start_time": "2022-05-03T12:33:29.372Z"
   },
   {
    "duration": 20,
    "start_time": "2022-05-03T12:33:32.751Z"
   },
   {
    "duration": 6,
    "start_time": "2022-05-03T12:33:32.773Z"
   },
   {
    "duration": 25,
    "start_time": "2022-05-03T12:33:32.780Z"
   },
   {
    "duration": 11,
    "start_time": "2022-05-03T12:33:32.807Z"
   },
   {
    "duration": 22,
    "start_time": "2022-05-03T12:33:32.819Z"
   },
   {
    "duration": 20,
    "start_time": "2022-05-03T12:33:32.842Z"
   },
   {
    "duration": 17,
    "start_time": "2022-05-03T12:33:32.864Z"
   },
   {
    "duration": 14,
    "start_time": "2022-05-03T12:33:32.883Z"
   },
   {
    "duration": 30,
    "start_time": "2022-05-03T12:33:32.899Z"
   },
   {
    "duration": 20,
    "start_time": "2022-05-03T12:33:32.932Z"
   },
   {
    "duration": 4,
    "start_time": "2022-05-03T12:34:02.915Z"
   },
   {
    "duration": 86,
    "start_time": "2022-05-03T12:34:02.922Z"
   },
   {
    "duration": 25,
    "start_time": "2022-05-03T12:34:03.011Z"
   },
   {
    "duration": 5,
    "start_time": "2022-05-03T12:34:03.038Z"
   },
   {
    "duration": 35,
    "start_time": "2022-05-03T12:34:03.046Z"
   },
   {
    "duration": 25,
    "start_time": "2022-05-03T12:34:03.083Z"
   },
   {
    "duration": 18,
    "start_time": "2022-05-03T12:34:03.134Z"
   },
   {
    "duration": 11,
    "start_time": "2022-05-03T12:34:03.154Z"
   },
   {
    "duration": 20,
    "start_time": "2022-05-03T12:34:03.167Z"
   },
   {
    "duration": 51,
    "start_time": "2022-05-03T12:34:03.189Z"
   },
   {
    "duration": 9,
    "start_time": "2022-05-03T12:34:03.242Z"
   },
   {
    "duration": 23,
    "start_time": "2022-05-03T12:34:03.253Z"
   },
   {
    "duration": 3,
    "start_time": "2022-05-03T12:34:03.278Z"
   },
   {
    "duration": 4201,
    "start_time": "2022-05-03T12:34:03.283Z"
   },
   {
    "duration": 16,
    "start_time": "2022-05-03T12:34:07.485Z"
   },
   {
    "duration": 18,
    "start_time": "2022-05-03T12:34:07.503Z"
   },
   {
    "duration": 40,
    "start_time": "2022-05-03T12:34:07.523Z"
   },
   {
    "duration": 45,
    "start_time": "2022-05-03T12:34:07.565Z"
   },
   {
    "duration": 47,
    "start_time": "2022-05-03T12:34:07.612Z"
   },
   {
    "duration": 28,
    "start_time": "2022-05-03T12:34:07.661Z"
   },
   {
    "duration": 43,
    "start_time": "2022-05-03T12:34:07.691Z"
   },
   {
    "duration": 7,
    "start_time": "2022-05-03T12:34:07.736Z"
   },
   {
    "duration": 65,
    "start_time": "2022-05-03T12:34:07.745Z"
   },
   {
    "duration": 21,
    "start_time": "2022-05-03T12:34:07.812Z"
   },
   {
    "duration": 174,
    "start_time": "2022-05-03T13:34:50.373Z"
   },
   {
    "duration": 253,
    "start_time": "2022-05-03T13:35:13.311Z"
   },
   {
    "duration": 14,
    "start_time": "2022-05-03T13:37:51.534Z"
   },
   {
    "duration": 171,
    "start_time": "2022-05-03T13:38:20.550Z"
   },
   {
    "duration": 275,
    "start_time": "2022-05-03T13:39:34.319Z"
   },
   {
    "duration": 275,
    "start_time": "2022-05-03T13:40:59.533Z"
   },
   {
    "duration": 206,
    "start_time": "2022-05-03T13:42:52.079Z"
   },
   {
    "duration": 228,
    "start_time": "2022-05-03T13:43:12.190Z"
   },
   {
    "duration": 492,
    "start_time": "2022-05-03T13:43:34.530Z"
   },
   {
    "duration": 377,
    "start_time": "2022-05-03T13:43:46.191Z"
   },
   {
    "duration": 10,
    "start_time": "2022-05-03T13:46:53.563Z"
   },
   {
    "duration": 122,
    "start_time": "2022-05-03T13:49:17.417Z"
   },
   {
    "duration": 74,
    "start_time": "2022-05-03T13:50:42.387Z"
   },
   {
    "duration": 26,
    "start_time": "2022-05-03T13:51:59.903Z"
   },
   {
    "duration": 11,
    "start_time": "2022-05-03T13:52:21.217Z"
   },
   {
    "duration": 42,
    "start_time": "2022-05-03T13:52:27.390Z"
   },
   {
    "duration": 30,
    "start_time": "2022-05-03T13:53:09.758Z"
   },
   {
    "duration": 9,
    "start_time": "2022-05-03T13:53:55.862Z"
   },
   {
    "duration": 36,
    "start_time": "2022-05-03T13:54:07.249Z"
   },
   {
    "duration": 24,
    "start_time": "2022-05-03T13:54:23.468Z"
   },
   {
    "duration": 36,
    "start_time": "2022-05-03T13:54:45.222Z"
   },
   {
    "duration": 12,
    "start_time": "2022-05-03T13:59:24.626Z"
   },
   {
    "duration": 8,
    "start_time": "2022-05-03T13:59:33.217Z"
   },
   {
    "duration": 18,
    "start_time": "2022-05-03T14:00:54.335Z"
   },
   {
    "duration": 12,
    "start_time": "2022-05-03T14:01:18.129Z"
   },
   {
    "duration": 9,
    "start_time": "2022-05-03T14:02:05.168Z"
   },
   {
    "duration": 15,
    "start_time": "2022-05-03T14:02:21.648Z"
   },
   {
    "duration": 8,
    "start_time": "2022-05-03T14:02:26.720Z"
   },
   {
    "duration": 11,
    "start_time": "2022-05-03T14:03:32.010Z"
   },
   {
    "duration": 9,
    "start_time": "2022-05-03T14:06:23.147Z"
   },
   {
    "duration": 10,
    "start_time": "2022-05-03T14:11:43.149Z"
   },
   {
    "duration": 4,
    "start_time": "2022-05-03T14:12:37.347Z"
   },
   {
    "duration": 5,
    "start_time": "2022-05-03T14:12:53.771Z"
   },
   {
    "duration": 2947,
    "start_time": "2022-05-03T14:13:20.572Z"
   },
   {
    "duration": 4,
    "start_time": "2022-05-03T14:13:57.118Z"
   },
   {
    "duration": 73,
    "start_time": "2022-05-03T14:13:57.125Z"
   },
   {
    "duration": 14,
    "start_time": "2022-05-03T14:13:57.200Z"
   },
   {
    "duration": 24,
    "start_time": "2022-05-03T14:13:57.216Z"
   },
   {
    "duration": 25,
    "start_time": "2022-05-03T14:13:57.246Z"
   },
   {
    "duration": 22,
    "start_time": "2022-05-03T14:13:57.273Z"
   },
   {
    "duration": 22,
    "start_time": "2022-05-03T14:13:57.297Z"
   },
   {
    "duration": 27,
    "start_time": "2022-05-03T14:13:57.321Z"
   },
   {
    "duration": 24,
    "start_time": "2022-05-03T14:13:57.350Z"
   },
   {
    "duration": 19,
    "start_time": "2022-05-03T14:13:57.377Z"
   },
   {
    "duration": 10,
    "start_time": "2022-05-03T14:13:57.397Z"
   },
   {
    "duration": 47,
    "start_time": "2022-05-03T14:13:57.408Z"
   },
   {
    "duration": 3,
    "start_time": "2022-05-03T14:13:57.456Z"
   },
   {
    "duration": 3463,
    "start_time": "2022-05-03T14:13:57.461Z"
   },
   {
    "duration": 18,
    "start_time": "2022-05-03T14:14:00.926Z"
   },
   {
    "duration": 12,
    "start_time": "2022-05-03T14:14:00.952Z"
   },
   {
    "duration": 12,
    "start_time": "2022-05-03T14:14:00.967Z"
   },
   {
    "duration": 11,
    "start_time": "2022-05-03T14:14:00.982Z"
   },
   {
    "duration": 8,
    "start_time": "2022-05-03T14:14:00.995Z"
   },
   {
    "duration": 17,
    "start_time": "2022-05-03T14:14:01.004Z"
   },
   {
    "duration": 51,
    "start_time": "2022-05-03T14:14:01.023Z"
   },
   {
    "duration": 7,
    "start_time": "2022-05-03T14:14:01.076Z"
   },
   {
    "duration": 33,
    "start_time": "2022-05-03T14:14:01.085Z"
   },
   {
    "duration": 15,
    "start_time": "2022-05-03T14:14:01.120Z"
   },
   {
    "duration": 310,
    "start_time": "2022-05-03T14:14:01.136Z"
   },
   {
    "duration": 14,
    "start_time": "2022-05-03T14:14:01.448Z"
   },
   {
    "duration": 3845,
    "start_time": "2022-05-03T14:14:01.463Z"
   },
   {
    "duration": 0,
    "start_time": "2022-05-03T14:14:05.310Z"
   },
   {
    "duration": 18,
    "start_time": "2022-05-03T14:15:28.288Z"
   },
   {
    "duration": 16,
    "start_time": "2022-05-03T14:15:45.704Z"
   },
   {
    "duration": 9,
    "start_time": "2022-05-03T14:15:56.502Z"
   },
   {
    "duration": 16,
    "start_time": "2022-05-03T14:16:17.927Z"
   },
   {
    "duration": 12,
    "start_time": "2022-05-03T14:16:25.127Z"
   },
   {
    "duration": 8,
    "start_time": "2022-05-03T14:17:29.776Z"
   },
   {
    "duration": 17,
    "start_time": "2022-05-03T14:17:46.670Z"
   },
   {
    "duration": 8,
    "start_time": "2022-05-03T14:17:56.865Z"
   },
   {
    "duration": 5,
    "start_time": "2022-05-03T14:18:01.458Z"
   },
   {
    "duration": 4,
    "start_time": "2022-05-03T14:18:56.617Z"
   },
   {
    "duration": 5,
    "start_time": "2022-05-03T14:19:03.866Z"
   },
   {
    "duration": 3123,
    "start_time": "2022-05-03T14:19:42.861Z"
   },
   {
    "duration": 9,
    "start_time": "2022-05-03T14:19:58.966Z"
   },
   {
    "duration": 9,
    "start_time": "2022-05-03T14:20:19.687Z"
   },
   {
    "duration": 6,
    "start_time": "2022-05-03T14:20:37.182Z"
   },
   {
    "duration": 8,
    "start_time": "2022-05-03T14:20:47.889Z"
   },
   {
    "duration": 14,
    "start_time": "2022-05-03T14:24:45.656Z"
   },
   {
    "duration": 18,
    "start_time": "2022-05-03T14:24:55.488Z"
   },
   {
    "duration": 55,
    "start_time": "2022-05-03T14:30:39.442Z"
   },
   {
    "duration": 53,
    "start_time": "2022-05-03T14:30:58.859Z"
   },
   {
    "duration": 60,
    "start_time": "2022-05-03T14:31:17.362Z"
   },
   {
    "duration": 3,
    "start_time": "2022-05-03T14:38:13.583Z"
   },
   {
    "duration": 31,
    "start_time": "2022-05-03T14:38:20.542Z"
   },
   {
    "duration": 3,
    "start_time": "2022-05-03T14:38:49.599Z"
   },
   {
    "duration": 513,
    "start_time": "2022-05-03T14:41:12.696Z"
   },
   {
    "duration": 16,
    "start_time": "2022-05-03T14:44:12.488Z"
   },
   {
    "duration": 163,
    "start_time": "2022-05-03T14:44:23.538Z"
   },
   {
    "duration": 53,
    "start_time": "2022-05-03T14:49:50.925Z"
   },
   {
    "duration": 8,
    "start_time": "2022-05-03T14:49:56.093Z"
   },
   {
    "duration": 54,
    "start_time": "2022-05-03T14:49:57.412Z"
   },
   {
    "duration": 3,
    "start_time": "2022-05-03T14:50:01.580Z"
   },
   {
    "duration": 961,
    "start_time": "2022-05-03T14:50:39.970Z"
   },
   {
    "duration": 803,
    "start_time": "2022-05-03T14:52:31.004Z"
   },
   {
    "duration": 398,
    "start_time": "2022-05-03T14:53:02.801Z"
   },
   {
    "duration": 923,
    "start_time": "2022-05-03T14:53:12.655Z"
   },
   {
    "duration": 862,
    "start_time": "2022-05-03T14:56:32.310Z"
   },
   {
    "duration": 846,
    "start_time": "2022-05-03T14:57:02.186Z"
   },
   {
    "duration": 2224,
    "start_time": "2022-05-03T14:57:56.563Z"
   },
   {
    "duration": 2070,
    "start_time": "2022-05-03T14:58:24.114Z"
   },
   {
    "duration": 2296,
    "start_time": "2022-05-03T15:01:49.598Z"
   },
   {
    "duration": 2247,
    "start_time": "2022-05-03T15:01:59.774Z"
   },
   {
    "duration": 2393,
    "start_time": "2022-05-03T15:02:11.280Z"
   },
   {
    "duration": 1981,
    "start_time": "2022-05-03T15:02:39.814Z"
   },
   {
    "duration": 2293,
    "start_time": "2022-05-03T15:04:39.575Z"
   },
   {
    "duration": 2148,
    "start_time": "2022-05-03T15:05:32.460Z"
   },
   {
    "duration": 2191,
    "start_time": "2022-05-03T15:06:36.492Z"
   },
   {
    "duration": 2343,
    "start_time": "2022-05-03T15:07:32.358Z"
   },
   {
    "duration": 252,
    "start_time": "2022-05-03T15:09:26.532Z"
   },
   {
    "duration": 23,
    "start_time": "2022-05-03T15:14:12.418Z"
   },
   {
    "duration": 118,
    "start_time": "2022-05-03T15:14:12.484Z"
   },
   {
    "duration": 17,
    "start_time": "2022-05-03T15:14:12.698Z"
   },
   {
    "duration": 42,
    "start_time": "2022-05-03T15:14:12.774Z"
   },
   {
    "duration": 62,
    "start_time": "2022-05-03T15:14:12.864Z"
   },
   {
    "duration": 22,
    "start_time": "2022-05-03T15:14:13.005Z"
   },
   {
    "duration": 32,
    "start_time": "2022-05-03T15:14:13.119Z"
   },
   {
    "duration": 25,
    "start_time": "2022-05-03T15:14:13.197Z"
   },
   {
    "duration": 33,
    "start_time": "2022-05-03T15:14:13.276Z"
   },
   {
    "duration": 53,
    "start_time": "2022-05-03T15:14:13.348Z"
   },
   {
    "duration": 20,
    "start_time": "2022-05-03T15:14:13.428Z"
   },
   {
    "duration": 51,
    "start_time": "2022-05-03T15:14:13.498Z"
   },
   {
    "duration": 3,
    "start_time": "2022-05-03T15:14:13.605Z"
   },
   {
    "duration": 4013,
    "start_time": "2022-05-03T15:14:13.630Z"
   },
   {
    "duration": 25,
    "start_time": "2022-05-03T15:14:21.321Z"
   },
   {
    "duration": 5,
    "start_time": "2022-05-03T15:14:21.394Z"
   },
   {
    "duration": 7,
    "start_time": "2022-05-03T15:14:21.408Z"
   },
   {
    "duration": 22,
    "start_time": "2022-05-03T15:14:21.425Z"
   },
   {
    "duration": 0,
    "start_time": "2022-05-03T15:14:21.483Z"
   },
   {
    "duration": 0,
    "start_time": "2022-05-03T15:14:21.486Z"
   },
   {
    "duration": 0,
    "start_time": "2022-05-03T15:14:21.488Z"
   },
   {
    "duration": 0,
    "start_time": "2022-05-03T15:14:21.490Z"
   },
   {
    "duration": 0,
    "start_time": "2022-05-03T15:14:21.492Z"
   },
   {
    "duration": 0,
    "start_time": "2022-05-03T15:14:21.494Z"
   },
   {
    "duration": 0,
    "start_time": "2022-05-03T15:14:21.496Z"
   },
   {
    "duration": 0,
    "start_time": "2022-05-03T15:14:21.499Z"
   },
   {
    "duration": 0,
    "start_time": "2022-05-03T15:14:21.501Z"
   },
   {
    "duration": 0,
    "start_time": "2022-05-03T15:14:21.503Z"
   },
   {
    "duration": 0,
    "start_time": "2022-05-03T15:14:21.505Z"
   },
   {
    "duration": 1242,
    "start_time": "2022-05-04T07:53:27.334Z"
   },
   {
    "duration": 68,
    "start_time": "2022-05-04T07:53:28.578Z"
   },
   {
    "duration": 12,
    "start_time": "2022-05-04T07:53:28.647Z"
   },
   {
    "duration": 4,
    "start_time": "2022-05-04T07:53:28.661Z"
   },
   {
    "duration": 19,
    "start_time": "2022-05-04T07:53:28.666Z"
   },
   {
    "duration": 29,
    "start_time": "2022-05-04T07:53:28.687Z"
   },
   {
    "duration": 18,
    "start_time": "2022-05-04T07:53:28.717Z"
   },
   {
    "duration": 9,
    "start_time": "2022-05-04T07:53:28.736Z"
   },
   {
    "duration": 13,
    "start_time": "2022-05-04T07:53:28.746Z"
   },
   {
    "duration": 13,
    "start_time": "2022-05-04T07:53:28.762Z"
   },
   {
    "duration": 7,
    "start_time": "2022-05-04T07:53:28.800Z"
   },
   {
    "duration": 17,
    "start_time": "2022-05-04T07:53:28.808Z"
   },
   {
    "duration": 3,
    "start_time": "2022-05-04T07:53:28.826Z"
   },
   {
    "duration": 2865,
    "start_time": "2022-05-04T07:53:28.830Z"
   },
   {
    "duration": 13,
    "start_time": "2022-05-04T07:53:31.696Z"
   },
   {
    "duration": 8,
    "start_time": "2022-05-04T07:53:31.711Z"
   },
   {
    "duration": 6,
    "start_time": "2022-05-04T07:53:31.720Z"
   },
   {
    "duration": 5,
    "start_time": "2022-05-04T07:53:31.727Z"
   },
   {
    "duration": 6,
    "start_time": "2022-05-04T07:53:31.733Z"
   },
   {
    "duration": 10,
    "start_time": "2022-05-04T07:53:31.740Z"
   },
   {
    "duration": 14,
    "start_time": "2022-05-04T07:53:31.751Z"
   },
   {
    "duration": 6,
    "start_time": "2022-05-04T07:53:31.766Z"
   },
   {
    "duration": 43,
    "start_time": "2022-05-04T07:53:31.773Z"
   },
   {
    "duration": 8,
    "start_time": "2022-05-04T07:53:31.818Z"
   },
   {
    "duration": 162,
    "start_time": "2022-05-04T07:53:31.827Z"
   },
   {
    "duration": 12,
    "start_time": "2022-05-04T07:53:31.991Z"
   },
   {
    "duration": 37,
    "start_time": "2022-05-04T07:53:32.005Z"
   },
   {
    "duration": 2,
    "start_time": "2022-05-04T07:53:32.045Z"
   },
   {
    "duration": 1401,
    "start_time": "2022-05-04T07:53:32.048Z"
   },
   {
    "duration": 143,
    "start_time": "2022-05-04T07:53:58.307Z"
   },
   {
    "duration": 178,
    "start_time": "2022-05-04T07:54:02.128Z"
   },
   {
    "duration": 207,
    "start_time": "2022-05-04T07:54:06.939Z"
   },
   {
    "duration": 2,
    "start_time": "2022-05-04T07:54:45.074Z"
   },
   {
    "duration": 65,
    "start_time": "2022-05-04T07:54:45.081Z"
   },
   {
    "duration": 12,
    "start_time": "2022-05-04T07:54:45.148Z"
   },
   {
    "duration": 13,
    "start_time": "2022-05-04T07:54:45.162Z"
   },
   {
    "duration": 27,
    "start_time": "2022-05-04T07:54:45.176Z"
   },
   {
    "duration": 20,
    "start_time": "2022-05-04T07:54:45.205Z"
   },
   {
    "duration": 18,
    "start_time": "2022-05-04T07:54:45.226Z"
   },
   {
    "duration": 12,
    "start_time": "2022-05-04T07:54:45.246Z"
   },
   {
    "duration": 33,
    "start_time": "2022-05-04T07:54:45.259Z"
   },
   {
    "duration": 14,
    "start_time": "2022-05-04T07:54:45.293Z"
   },
   {
    "duration": 7,
    "start_time": "2022-05-04T07:54:45.308Z"
   },
   {
    "duration": 19,
    "start_time": "2022-05-04T07:54:45.317Z"
   },
   {
    "duration": 8,
    "start_time": "2022-05-04T07:54:45.337Z"
   },
   {
    "duration": 2854,
    "start_time": "2022-05-04T07:54:45.346Z"
   },
   {
    "duration": 12,
    "start_time": "2022-05-04T07:54:48.202Z"
   },
   {
    "duration": 5,
    "start_time": "2022-05-04T07:54:48.215Z"
   },
   {
    "duration": 9,
    "start_time": "2022-05-04T07:54:48.222Z"
   },
   {
    "duration": 6,
    "start_time": "2022-05-04T07:54:48.232Z"
   },
   {
    "duration": 6,
    "start_time": "2022-05-04T07:54:48.239Z"
   },
   {
    "duration": 6,
    "start_time": "2022-05-04T07:54:48.247Z"
   },
   {
    "duration": 14,
    "start_time": "2022-05-04T07:54:48.254Z"
   },
   {
    "duration": 33,
    "start_time": "2022-05-04T07:54:48.269Z"
   },
   {
    "duration": 20,
    "start_time": "2022-05-04T07:54:48.303Z"
   },
   {
    "duration": 7,
    "start_time": "2022-05-04T07:54:48.325Z"
   },
   {
    "duration": 219,
    "start_time": "2022-05-04T07:54:48.334Z"
   },
   {
    "duration": 8,
    "start_time": "2022-05-04T07:54:48.555Z"
   },
   {
    "duration": 52,
    "start_time": "2022-05-04T07:54:48.565Z"
   },
   {
    "duration": 4,
    "start_time": "2022-05-04T07:54:48.619Z"
   },
   {
    "duration": 1401,
    "start_time": "2022-05-04T07:54:48.624Z"
   },
   {
    "duration": 2,
    "start_time": "2022-05-04T07:55:09.230Z"
   },
   {
    "duration": 59,
    "start_time": "2022-05-04T07:55:09.234Z"
   },
   {
    "duration": 11,
    "start_time": "2022-05-04T07:55:09.295Z"
   },
   {
    "duration": 5,
    "start_time": "2022-05-04T07:55:09.307Z"
   },
   {
    "duration": 18,
    "start_time": "2022-05-04T07:55:09.314Z"
   },
   {
    "duration": 17,
    "start_time": "2022-05-04T07:55:09.333Z"
   },
   {
    "duration": 16,
    "start_time": "2022-05-04T07:55:09.351Z"
   },
   {
    "duration": 34,
    "start_time": "2022-05-04T07:55:09.368Z"
   },
   {
    "duration": 15,
    "start_time": "2022-05-04T07:55:09.403Z"
   },
   {
    "duration": 14,
    "start_time": "2022-05-04T07:55:09.419Z"
   },
   {
    "duration": 7,
    "start_time": "2022-05-04T07:55:09.435Z"
   },
   {
    "duration": 17,
    "start_time": "2022-05-04T07:55:09.443Z"
   },
   {
    "duration": 2,
    "start_time": "2022-05-04T07:55:09.461Z"
   },
   {
    "duration": 2872,
    "start_time": "2022-05-04T07:55:09.465Z"
   },
   {
    "duration": 15,
    "start_time": "2022-05-04T07:55:12.338Z"
   },
   {
    "duration": 9,
    "start_time": "2022-05-04T07:55:12.355Z"
   },
   {
    "duration": 10,
    "start_time": "2022-05-04T07:55:12.365Z"
   },
   {
    "duration": 23,
    "start_time": "2022-05-04T07:55:12.377Z"
   },
   {
    "duration": 6,
    "start_time": "2022-05-04T07:55:12.401Z"
   },
   {
    "duration": 7,
    "start_time": "2022-05-04T07:55:12.408Z"
   },
   {
    "duration": 13,
    "start_time": "2022-05-04T07:55:12.417Z"
   },
   {
    "duration": 6,
    "start_time": "2022-05-04T07:55:12.432Z"
   },
   {
    "duration": 23,
    "start_time": "2022-05-04T07:55:12.439Z"
   },
   {
    "duration": 13,
    "start_time": "2022-05-04T07:55:12.463Z"
   },
   {
    "duration": 212,
    "start_time": "2022-05-04T07:55:12.500Z"
   },
   {
    "duration": 7,
    "start_time": "2022-05-04T07:55:12.713Z"
   },
   {
    "duration": 37,
    "start_time": "2022-05-04T07:55:12.722Z"
   },
   {
    "duration": 2,
    "start_time": "2022-05-04T07:55:12.760Z"
   },
   {
    "duration": 1452,
    "start_time": "2022-05-04T07:55:12.765Z"
   },
   {
    "duration": 1398,
    "start_time": "2022-05-04T07:56:24.989Z"
   },
   {
    "duration": 2,
    "start_time": "2022-05-04T08:08:30.557Z"
   },
   {
    "duration": 77,
    "start_time": "2022-05-04T08:08:30.563Z"
   },
   {
    "duration": 14,
    "start_time": "2022-05-04T08:08:30.642Z"
   },
   {
    "duration": 8,
    "start_time": "2022-05-04T08:08:30.658Z"
   },
   {
    "duration": 40,
    "start_time": "2022-05-04T08:08:30.668Z"
   },
   {
    "duration": 20,
    "start_time": "2022-05-04T08:08:30.710Z"
   },
   {
    "duration": 23,
    "start_time": "2022-05-04T08:08:30.731Z"
   },
   {
    "duration": 19,
    "start_time": "2022-05-04T08:08:30.756Z"
   },
   {
    "duration": 33,
    "start_time": "2022-05-04T08:08:30.776Z"
   },
   {
    "duration": 16,
    "start_time": "2022-05-04T08:08:30.811Z"
   },
   {
    "duration": 25,
    "start_time": "2022-05-04T08:08:30.829Z"
   },
   {
    "duration": 26,
    "start_time": "2022-05-04T08:08:30.856Z"
   },
   {
    "duration": 5,
    "start_time": "2022-05-04T08:08:30.884Z"
   },
   {
    "duration": 2902,
    "start_time": "2022-05-04T08:08:30.891Z"
   },
   {
    "duration": 13,
    "start_time": "2022-05-04T08:08:33.800Z"
   },
   {
    "duration": 6,
    "start_time": "2022-05-04T08:08:33.815Z"
   },
   {
    "duration": 19,
    "start_time": "2022-05-04T08:08:33.822Z"
   },
   {
    "duration": 6,
    "start_time": "2022-05-04T08:08:33.843Z"
   },
   {
    "duration": 7,
    "start_time": "2022-05-04T08:08:33.851Z"
   },
   {
    "duration": 13,
    "start_time": "2022-05-04T08:08:33.859Z"
   },
   {
    "duration": 28,
    "start_time": "2022-05-04T08:08:33.873Z"
   },
   {
    "duration": 5,
    "start_time": "2022-05-04T08:08:33.902Z"
   },
   {
    "duration": 20,
    "start_time": "2022-05-04T08:08:33.908Z"
   },
   {
    "duration": 8,
    "start_time": "2022-05-04T08:08:33.929Z"
   },
   {
    "duration": 222,
    "start_time": "2022-05-04T08:08:33.939Z"
   },
   {
    "duration": 9,
    "start_time": "2022-05-04T08:08:34.163Z"
   },
   {
    "duration": 52,
    "start_time": "2022-05-04T08:08:34.173Z"
   },
   {
    "duration": 2,
    "start_time": "2022-05-04T08:08:34.227Z"
   },
   {
    "duration": 1372,
    "start_time": "2022-05-04T08:08:34.231Z"
   },
   {
    "duration": 1469,
    "start_time": "2022-05-04T08:08:51.452Z"
   },
   {
    "duration": 1383,
    "start_time": "2022-05-04T08:17:05.787Z"
   },
   {
    "duration": 2,
    "start_time": "2022-05-04T08:17:11.014Z"
   },
   {
    "duration": 65,
    "start_time": "2022-05-04T08:17:11.018Z"
   },
   {
    "duration": 13,
    "start_time": "2022-05-04T08:17:11.085Z"
   },
   {
    "duration": 3,
    "start_time": "2022-05-04T08:17:11.100Z"
   },
   {
    "duration": 32,
    "start_time": "2022-05-04T08:17:11.105Z"
   },
   {
    "duration": 17,
    "start_time": "2022-05-04T08:17:11.139Z"
   },
   {
    "duration": 125,
    "start_time": "2022-05-04T08:17:11.157Z"
   },
   {
    "duration": 17,
    "start_time": "2022-05-04T08:17:11.283Z"
   },
   {
    "duration": 22,
    "start_time": "2022-05-04T08:17:11.301Z"
   },
   {
    "duration": 14,
    "start_time": "2022-05-04T08:17:11.325Z"
   },
   {
    "duration": 7,
    "start_time": "2022-05-04T08:17:11.342Z"
   },
   {
    "duration": 16,
    "start_time": "2022-05-04T08:17:11.351Z"
   },
   {
    "duration": 3,
    "start_time": "2022-05-04T08:17:11.368Z"
   },
   {
    "duration": 2896,
    "start_time": "2022-05-04T08:17:11.373Z"
   },
   {
    "duration": 12,
    "start_time": "2022-05-04T08:17:14.271Z"
   },
   {
    "duration": 17,
    "start_time": "2022-05-04T08:17:14.284Z"
   },
   {
    "duration": 10,
    "start_time": "2022-05-04T08:17:14.302Z"
   },
   {
    "duration": 17,
    "start_time": "2022-05-04T08:17:14.313Z"
   },
   {
    "duration": 6,
    "start_time": "2022-05-04T08:17:14.332Z"
   },
   {
    "duration": 7,
    "start_time": "2022-05-04T08:17:14.339Z"
   },
   {
    "duration": 11,
    "start_time": "2022-05-04T08:17:14.347Z"
   },
   {
    "duration": 4,
    "start_time": "2022-05-04T08:17:14.360Z"
   },
   {
    "duration": 39,
    "start_time": "2022-05-04T08:17:14.365Z"
   },
   {
    "duration": 10,
    "start_time": "2022-05-04T08:17:14.406Z"
   },
   {
    "duration": 225,
    "start_time": "2022-05-04T08:17:14.417Z"
   },
   {
    "duration": 8,
    "start_time": "2022-05-04T08:17:14.643Z"
   },
   {
    "duration": 35,
    "start_time": "2022-05-04T08:17:14.652Z"
   },
   {
    "duration": 12,
    "start_time": "2022-05-04T08:17:14.689Z"
   },
   {
    "duration": 1538,
    "start_time": "2022-05-04T08:17:14.706Z"
   },
   {
    "duration": 301,
    "start_time": "2022-05-04T08:19:52.299Z"
   },
   {
    "duration": 219,
    "start_time": "2022-05-04T08:20:19.266Z"
   },
   {
    "duration": 203,
    "start_time": "2022-05-04T08:20:33.515Z"
   },
   {
    "duration": 7,
    "start_time": "2022-05-04T08:42:17.148Z"
   },
   {
    "duration": 7,
    "start_time": "2022-05-04T08:42:44.851Z"
   },
   {
    "duration": 7,
    "start_time": "2022-05-04T08:44:23.575Z"
   },
   {
    "duration": 7,
    "start_time": "2022-05-04T08:44:24.086Z"
   },
   {
    "duration": 7,
    "start_time": "2022-05-04T08:44:29.851Z"
   },
   {
    "duration": 8,
    "start_time": "2022-05-04T08:44:30.291Z"
   },
   {
    "duration": 9,
    "start_time": "2022-05-04T08:45:06.009Z"
   },
   {
    "duration": 8,
    "start_time": "2022-05-04T08:45:06.488Z"
   },
   {
    "duration": 8,
    "start_time": "2022-05-04T08:45:10.967Z"
   },
   {
    "duration": 24,
    "start_time": "2022-05-04T08:51:03.555Z"
   },
   {
    "duration": 32,
    "start_time": "2022-05-04T08:51:20.688Z"
   },
   {
    "duration": 468,
    "start_time": "2022-05-04T08:51:37.069Z"
   },
   {
    "duration": 8,
    "start_time": "2022-05-04T08:52:04.513Z"
   },
   {
    "duration": 6,
    "start_time": "2022-05-04T08:52:05.070Z"
   },
   {
    "duration": 24,
    "start_time": "2022-05-04T08:52:06.652Z"
   },
   {
    "duration": 7,
    "start_time": "2022-05-04T08:52:13.519Z"
   },
   {
    "duration": 7,
    "start_time": "2022-05-04T08:52:13.990Z"
   },
   {
    "duration": 33,
    "start_time": "2022-05-04T08:52:15.008Z"
   },
   {
    "duration": 543,
    "start_time": "2022-05-04T08:52:20.369Z"
   },
   {
    "duration": 308,
    "start_time": "2022-05-04T08:54:33.740Z"
   },
   {
    "duration": 552,
    "start_time": "2022-05-04T08:55:15.043Z"
   },
   {
    "duration": 442,
    "start_time": "2022-05-04T08:55:25.443Z"
   },
   {
    "duration": 973,
    "start_time": "2022-05-04T08:55:45.797Z"
   },
   {
    "duration": 1409,
    "start_time": "2022-05-04T08:56:52.583Z"
   },
   {
    "duration": 1027,
    "start_time": "2022-05-04T08:57:08.662Z"
   },
   {
    "duration": 769,
    "start_time": "2022-05-04T08:57:36.600Z"
   },
   {
    "duration": 1031,
    "start_time": "2022-05-04T08:57:53.363Z"
   },
   {
    "duration": 1197,
    "start_time": "2022-05-04T08:58:53.621Z"
   },
   {
    "duration": 1018,
    "start_time": "2022-05-04T08:59:25.257Z"
   },
   {
    "duration": 3,
    "start_time": "2022-05-04T09:02:12.711Z"
   },
   {
    "duration": 70,
    "start_time": "2022-05-04T09:02:12.716Z"
   },
   {
    "duration": 17,
    "start_time": "2022-05-04T09:02:12.788Z"
   },
   {
    "duration": 3,
    "start_time": "2022-05-04T09:02:12.807Z"
   },
   {
    "duration": 28,
    "start_time": "2022-05-04T09:02:12.813Z"
   },
   {
    "duration": 18,
    "start_time": "2022-05-04T09:02:12.842Z"
   },
   {
    "duration": 42,
    "start_time": "2022-05-04T09:02:12.862Z"
   },
   {
    "duration": 10,
    "start_time": "2022-05-04T09:02:12.906Z"
   },
   {
    "duration": 22,
    "start_time": "2022-05-04T09:02:12.918Z"
   },
   {
    "duration": 16,
    "start_time": "2022-05-04T09:02:12.941Z"
   },
   {
    "duration": 7,
    "start_time": "2022-05-04T09:02:12.960Z"
   },
   {
    "duration": 43,
    "start_time": "2022-05-04T09:02:12.969Z"
   },
   {
    "duration": 3,
    "start_time": "2022-05-04T09:02:13.013Z"
   },
   {
    "duration": 3062,
    "start_time": "2022-05-04T09:02:13.018Z"
   },
   {
    "duration": 24,
    "start_time": "2022-05-04T09:02:16.081Z"
   },
   {
    "duration": 7,
    "start_time": "2022-05-04T09:02:16.107Z"
   },
   {
    "duration": 10,
    "start_time": "2022-05-04T09:02:16.116Z"
   },
   {
    "duration": 7,
    "start_time": "2022-05-04T09:02:16.128Z"
   },
   {
    "duration": 10,
    "start_time": "2022-05-04T09:02:16.137Z"
   },
   {
    "duration": 9,
    "start_time": "2022-05-04T09:02:16.148Z"
   },
   {
    "duration": 50,
    "start_time": "2022-05-04T09:02:16.159Z"
   },
   {
    "duration": 6,
    "start_time": "2022-05-04T09:02:16.211Z"
   },
   {
    "duration": 25,
    "start_time": "2022-05-04T09:02:16.219Z"
   },
   {
    "duration": 8,
    "start_time": "2022-05-04T09:02:16.248Z"
   },
   {
    "duration": 270,
    "start_time": "2022-05-04T09:02:16.258Z"
   },
   {
    "duration": 10,
    "start_time": "2022-05-04T09:02:16.531Z"
   },
   {
    "duration": 68,
    "start_time": "2022-05-04T09:02:16.543Z"
   },
   {
    "duration": 3,
    "start_time": "2022-05-04T09:02:16.613Z"
   },
   {
    "duration": 2404,
    "start_time": "2022-05-04T09:02:16.620Z"
   },
   {
    "duration": 9,
    "start_time": "2022-05-04T09:02:19.026Z"
   },
   {
    "duration": 9,
    "start_time": "2022-05-04T09:02:19.037Z"
   },
   {
    "duration": 65,
    "start_time": "2022-05-04T09:02:19.047Z"
   },
   {
    "duration": 1297,
    "start_time": "2022-05-04T09:02:19.114Z"
   },
   {
    "duration": 834,
    "start_time": "2022-05-04T10:09:28.414Z"
   },
   {
    "duration": 6,
    "start_time": "2022-05-04T10:16:09.007Z"
   },
   {
    "duration": 4,
    "start_time": "2022-05-04T10:16:33.436Z"
   },
   {
    "duration": 428,
    "start_time": "2022-05-04T10:16:41.639Z"
   },
   {
    "duration": 3045,
    "start_time": "2022-05-04T10:39:37.958Z"
   },
   {
    "duration": 6,
    "start_time": "2022-05-04T10:39:46.082Z"
   },
   {
    "duration": 6,
    "start_time": "2022-05-04T10:39:56.164Z"
   },
   {
    "duration": 7,
    "start_time": "2022-05-04T10:41:32.843Z"
   },
   {
    "duration": 7,
    "start_time": "2022-05-04T10:42:08.149Z"
   },
   {
    "duration": 10,
    "start_time": "2022-05-04T10:42:25.133Z"
   },
   {
    "duration": 7,
    "start_time": "2022-05-04T10:50:03.016Z"
   },
   {
    "duration": 5,
    "start_time": "2022-05-04T10:51:19.770Z"
   },
   {
    "duration": 114,
    "start_time": "2022-05-04T10:53:09.258Z"
   },
   {
    "duration": 192,
    "start_time": "2022-05-04T10:53:23.253Z"
   },
   {
    "duration": 105,
    "start_time": "2022-05-04T10:53:49.499Z"
   },
   {
    "duration": 111,
    "start_time": "2022-05-04T10:53:58.131Z"
   },
   {
    "duration": 122,
    "start_time": "2022-05-04T10:54:47.284Z"
   },
   {
    "duration": 128,
    "start_time": "2022-05-04T10:56:05.717Z"
   },
   {
    "duration": 118,
    "start_time": "2022-05-04T10:56:21.283Z"
   },
   {
    "duration": 5,
    "start_time": "2022-05-04T10:59:40.436Z"
   },
   {
    "duration": 5,
    "start_time": "2022-05-04T10:59:48.005Z"
   },
   {
    "duration": 104,
    "start_time": "2022-05-04T11:00:42.048Z"
   },
   {
    "duration": 119,
    "start_time": "2022-05-04T11:01:01.983Z"
   },
   {
    "duration": 1777,
    "start_time": "2022-05-04T16:28:17.099Z"
   },
   {
    "duration": 83,
    "start_time": "2022-05-04T16:28:18.879Z"
   },
   {
    "duration": 21,
    "start_time": "2022-05-04T16:28:18.964Z"
   },
   {
    "duration": 4,
    "start_time": "2022-05-04T16:28:18.987Z"
   },
   {
    "duration": 47,
    "start_time": "2022-05-04T16:28:18.994Z"
   },
   {
    "duration": 32,
    "start_time": "2022-05-04T16:28:19.043Z"
   },
   {
    "duration": 28,
    "start_time": "2022-05-04T16:28:19.077Z"
   },
   {
    "duration": 13,
    "start_time": "2022-05-04T16:28:19.125Z"
   },
   {
    "duration": 29,
    "start_time": "2022-05-04T16:28:19.140Z"
   },
   {
    "duration": 22,
    "start_time": "2022-05-04T16:28:19.172Z"
   },
   {
    "duration": 32,
    "start_time": "2022-05-04T16:28:19.196Z"
   },
   {
    "duration": 30,
    "start_time": "2022-05-04T16:28:19.230Z"
   },
   {
    "duration": 4,
    "start_time": "2022-05-04T16:28:19.262Z"
   },
   {
    "duration": 5911,
    "start_time": "2022-05-04T16:28:19.270Z"
   },
   {
    "duration": 23,
    "start_time": "2022-05-04T16:28:25.183Z"
   },
   {
    "duration": 21,
    "start_time": "2022-05-04T16:28:25.209Z"
   },
   {
    "duration": 13,
    "start_time": "2022-05-04T16:28:25.233Z"
   },
   {
    "duration": 7,
    "start_time": "2022-05-04T16:28:25.248Z"
   },
   {
    "duration": 11,
    "start_time": "2022-05-04T16:28:25.257Z"
   },
   {
    "duration": 11,
    "start_time": "2022-05-04T16:28:25.271Z"
   },
   {
    "duration": 57,
    "start_time": "2022-05-04T16:28:25.284Z"
   },
   {
    "duration": 9,
    "start_time": "2022-05-04T16:28:25.344Z"
   },
   {
    "duration": 32,
    "start_time": "2022-05-04T16:28:25.356Z"
   },
   {
    "duration": 41,
    "start_time": "2022-05-04T16:28:25.390Z"
   },
   {
    "duration": 436,
    "start_time": "2022-05-04T16:28:25.433Z"
   },
   {
    "duration": 11,
    "start_time": "2022-05-04T16:28:25.871Z"
   },
   {
    "duration": 81,
    "start_time": "2022-05-04T16:28:25.885Z"
   },
   {
    "duration": 5,
    "start_time": "2022-05-04T16:28:25.968Z"
   },
   {
    "duration": 2703,
    "start_time": "2022-05-04T16:28:25.976Z"
   },
   {
    "duration": 12,
    "start_time": "2022-05-04T16:28:28.682Z"
   },
   {
    "duration": 35,
    "start_time": "2022-05-04T16:28:28.696Z"
   },
   {
    "duration": 49,
    "start_time": "2022-05-04T16:28:28.734Z"
   },
   {
    "duration": 1509,
    "start_time": "2022-05-04T16:28:28.786Z"
   },
   {
    "duration": 28,
    "start_time": "2022-05-04T16:28:30.298Z"
   },
   {
    "duration": 12,
    "start_time": "2022-05-04T16:28:30.329Z"
   },
   {
    "duration": 15,
    "start_time": "2022-05-04T16:28:30.344Z"
   },
   {
    "duration": 14,
    "start_time": "2022-05-04T16:28:30.361Z"
   },
   {
    "duration": 260,
    "start_time": "2022-05-04T16:28:30.379Z"
   },
   {
    "duration": 7,
    "start_time": "2022-05-04T16:28:30.641Z"
   },
   {
    "duration": 220,
    "start_time": "2022-05-04T16:28:30.650Z"
   },
   {
    "duration": 1851,
    "start_time": "2022-05-06T14:14:16.331Z"
   },
   {
    "duration": 90,
    "start_time": "2022-05-06T14:14:18.184Z"
   },
   {
    "duration": 25,
    "start_time": "2022-05-06T14:14:18.276Z"
   },
   {
    "duration": 6,
    "start_time": "2022-05-06T14:14:18.304Z"
   },
   {
    "duration": 71,
    "start_time": "2022-05-06T14:14:18.314Z"
   },
   {
    "duration": 31,
    "start_time": "2022-05-06T14:14:18.388Z"
   },
   {
    "duration": 30,
    "start_time": "2022-05-06T14:14:18.421Z"
   },
   {
    "duration": 14,
    "start_time": "2022-05-06T14:14:18.483Z"
   },
   {
    "duration": 23,
    "start_time": "2022-05-06T14:14:18.499Z"
   },
   {
    "duration": 70,
    "start_time": "2022-05-06T14:14:18.525Z"
   },
   {
    "duration": 15,
    "start_time": "2022-05-06T14:14:18.597Z"
   },
   {
    "duration": 25,
    "start_time": "2022-05-06T14:14:18.615Z"
   },
   {
    "duration": 39,
    "start_time": "2022-05-06T14:14:18.642Z"
   },
   {
    "duration": 7162,
    "start_time": "2022-05-06T14:14:18.686Z"
   },
   {
    "duration": 37,
    "start_time": "2022-05-06T14:14:25.850Z"
   },
   {
    "duration": 7,
    "start_time": "2022-05-06T14:14:25.889Z"
   },
   {
    "duration": 10,
    "start_time": "2022-05-06T14:14:25.899Z"
   },
   {
    "duration": 10,
    "start_time": "2022-05-06T14:14:25.912Z"
   },
   {
    "duration": 8,
    "start_time": "2022-05-06T14:14:25.924Z"
   },
   {
    "duration": 9,
    "start_time": "2022-05-06T14:14:25.982Z"
   },
   {
    "duration": 22,
    "start_time": "2022-05-06T14:14:25.993Z"
   },
   {
    "duration": 8,
    "start_time": "2022-05-06T14:14:26.017Z"
   },
   {
    "duration": 82,
    "start_time": "2022-05-06T14:14:26.027Z"
   },
   {
    "duration": 10,
    "start_time": "2022-05-06T14:14:26.111Z"
   },
   {
    "duration": 467,
    "start_time": "2022-05-06T14:14:26.123Z"
   },
   {
    "duration": 12,
    "start_time": "2022-05-06T14:14:26.592Z"
   },
   {
    "duration": 92,
    "start_time": "2022-05-06T14:14:26.606Z"
   },
   {
    "duration": 4,
    "start_time": "2022-05-06T14:14:26.700Z"
   },
   {
    "duration": 2613,
    "start_time": "2022-05-06T14:14:26.706Z"
   },
   {
    "duration": 10,
    "start_time": "2022-05-06T14:14:29.322Z"
   },
   {
    "duration": 50,
    "start_time": "2022-05-06T14:14:29.334Z"
   },
   {
    "duration": 57,
    "start_time": "2022-05-06T14:14:29.386Z"
   },
   {
    "duration": 2440,
    "start_time": "2022-05-06T14:14:29.446Z"
   },
   {
    "duration": 13,
    "start_time": "2022-05-06T14:14:31.889Z"
   },
   {
    "duration": 14,
    "start_time": "2022-05-06T14:14:31.906Z"
   },
   {
    "duration": 13,
    "start_time": "2022-05-06T14:14:31.923Z"
   },
   {
    "duration": 50,
    "start_time": "2022-05-06T14:14:31.938Z"
   },
   {
    "duration": 264,
    "start_time": "2022-05-06T14:14:31.991Z"
   },
   {
    "duration": 25,
    "start_time": "2022-05-06T14:14:32.258Z"
   },
   {
    "duration": 225,
    "start_time": "2022-05-06T14:14:32.286Z"
   },
   {
    "duration": 1996,
    "start_time": "2022-05-06T14:14:32.516Z"
   },
   {
    "duration": 10,
    "start_time": "2022-05-06T14:15:15.306Z"
   },
   {
    "duration": 10,
    "start_time": "2022-05-06T14:18:48.635Z"
   },
   {
    "duration": 11,
    "start_time": "2022-05-06T14:19:22.144Z"
   },
   {
    "duration": 359,
    "start_time": "2022-05-06T14:20:47.397Z"
   },
   {
    "duration": 553,
    "start_time": "2022-05-06T14:22:04.913Z"
   },
   {
    "duration": 246,
    "start_time": "2022-05-06T14:22:46.458Z"
   },
   {
    "duration": 264,
    "start_time": "2022-05-06T14:24:12.592Z"
   },
   {
    "duration": 259,
    "start_time": "2022-05-06T14:24:31.167Z"
   },
   {
    "duration": 389,
    "start_time": "2022-05-06T14:26:15.689Z"
   },
   {
    "duration": 358,
    "start_time": "2022-05-06T14:26:22.131Z"
   },
   {
    "duration": 371,
    "start_time": "2022-05-06T14:26:37.983Z"
   },
   {
    "duration": 4,
    "start_time": "2022-05-06T14:39:00.543Z"
   },
   {
    "duration": 111,
    "start_time": "2022-05-06T14:39:00.550Z"
   },
   {
    "duration": 39,
    "start_time": "2022-05-06T14:39:00.663Z"
   },
   {
    "duration": 10,
    "start_time": "2022-05-06T14:39:00.704Z"
   },
   {
    "duration": 42,
    "start_time": "2022-05-06T14:39:00.717Z"
   },
   {
    "duration": 43,
    "start_time": "2022-05-06T14:39:00.762Z"
   },
   {
    "duration": 55,
    "start_time": "2022-05-06T14:39:00.807Z"
   },
   {
    "duration": 14,
    "start_time": "2022-05-06T14:39:00.864Z"
   },
   {
    "duration": 25,
    "start_time": "2022-05-06T14:39:00.881Z"
   },
   {
    "duration": 22,
    "start_time": "2022-05-06T14:39:00.908Z"
   },
   {
    "duration": 13,
    "start_time": "2022-05-06T14:39:00.934Z"
   },
   {
    "duration": 51,
    "start_time": "2022-05-06T14:39:00.949Z"
   },
   {
    "duration": 4,
    "start_time": "2022-05-06T14:39:01.002Z"
   },
   {
    "duration": 6058,
    "start_time": "2022-05-06T14:39:01.009Z"
   },
   {
    "duration": 26,
    "start_time": "2022-05-06T14:39:07.069Z"
   },
   {
    "duration": 8,
    "start_time": "2022-05-06T14:39:07.097Z"
   },
   {
    "duration": 10,
    "start_time": "2022-05-06T14:39:07.108Z"
   },
   {
    "duration": 12,
    "start_time": "2022-05-06T14:39:07.121Z"
   },
   {
    "duration": 50,
    "start_time": "2022-05-06T14:39:07.135Z"
   },
   {
    "duration": 11,
    "start_time": "2022-05-06T14:39:07.187Z"
   },
   {
    "duration": 21,
    "start_time": "2022-05-06T14:39:07.200Z"
   },
   {
    "duration": 9,
    "start_time": "2022-05-06T14:39:07.224Z"
   },
   {
    "duration": 61,
    "start_time": "2022-05-06T14:39:07.236Z"
   },
   {
    "duration": 13,
    "start_time": "2022-05-06T14:39:07.299Z"
   },
   {
    "duration": 1211,
    "start_time": "2022-05-06T14:39:07.315Z"
   },
   {
    "duration": 17,
    "start_time": "2022-05-06T14:39:08.583Z"
   },
   {
    "duration": 202,
    "start_time": "2022-05-06T14:39:08.602Z"
   },
   {
    "duration": 4,
    "start_time": "2022-05-06T14:39:08.807Z"
   },
   {
    "duration": 5,
    "start_time": "2022-05-06T14:39:18.898Z"
   },
   {
    "duration": 178,
    "start_time": "2022-05-06T14:39:18.905Z"
   },
   {
    "duration": 19,
    "start_time": "2022-05-06T14:39:19.086Z"
   },
   {
    "duration": 5,
    "start_time": "2022-05-06T14:39:19.107Z"
   },
   {
    "duration": 77,
    "start_time": "2022-05-06T14:39:19.114Z"
   },
   {
    "duration": 32,
    "start_time": "2022-05-06T14:39:19.193Z"
   },
   {
    "duration": 25,
    "start_time": "2022-05-06T14:39:19.281Z"
   },
   {
    "duration": 16,
    "start_time": "2022-05-06T14:39:19.309Z"
   },
   {
    "duration": 24,
    "start_time": "2022-05-06T14:39:19.382Z"
   },
   {
    "duration": 75,
    "start_time": "2022-05-06T14:39:19.409Z"
   },
   {
    "duration": 13,
    "start_time": "2022-05-06T14:39:19.486Z"
   },
   {
    "duration": 24,
    "start_time": "2022-05-06T14:39:19.502Z"
   },
   {
    "duration": 54,
    "start_time": "2022-05-06T14:39:19.529Z"
   },
   {
    "duration": 7211,
    "start_time": "2022-05-06T14:39:19.585Z"
   },
   {
    "duration": 20,
    "start_time": "2022-05-06T14:39:26.798Z"
   },
   {
    "duration": 8,
    "start_time": "2022-05-06T14:39:26.820Z"
   },
   {
    "duration": 13,
    "start_time": "2022-05-06T14:39:26.830Z"
   },
   {
    "duration": 38,
    "start_time": "2022-05-06T14:39:26.846Z"
   },
   {
    "duration": 12,
    "start_time": "2022-05-06T14:39:26.886Z"
   },
   {
    "duration": 11,
    "start_time": "2022-05-06T14:39:26.900Z"
   },
   {
    "duration": 23,
    "start_time": "2022-05-06T14:39:26.913Z"
   },
   {
    "duration": 43,
    "start_time": "2022-05-06T14:39:26.939Z"
   },
   {
    "duration": 35,
    "start_time": "2022-05-06T14:39:26.984Z"
   },
   {
    "duration": 12,
    "start_time": "2022-05-06T14:39:27.021Z"
   },
   {
    "duration": 422,
    "start_time": "2022-05-06T14:39:27.036Z"
   },
   {
    "duration": 25,
    "start_time": "2022-05-06T14:39:27.460Z"
   },
   {
    "duration": 63,
    "start_time": "2022-05-06T14:39:27.487Z"
   },
   {
    "duration": 4,
    "start_time": "2022-05-06T14:39:27.553Z"
   },
   {
    "duration": 2739,
    "start_time": "2022-05-06T14:39:27.582Z"
   },
   {
    "duration": 10,
    "start_time": "2022-05-06T14:39:30.323Z"
   },
   {
    "duration": 20,
    "start_time": "2022-05-06T14:39:30.335Z"
   },
   {
    "duration": 56,
    "start_time": "2022-05-06T14:39:30.358Z"
   },
   {
    "duration": 1465,
    "start_time": "2022-05-06T14:39:30.416Z"
   },
   {
    "duration": 10,
    "start_time": "2022-05-06T14:39:31.883Z"
   },
   {
    "duration": 10,
    "start_time": "2022-05-06T14:39:31.896Z"
   },
   {
    "duration": 10,
    "start_time": "2022-05-06T14:39:31.909Z"
   },
   {
    "duration": 22,
    "start_time": "2022-05-06T14:39:31.921Z"
   },
   {
    "duration": 387,
    "start_time": "2022-05-06T14:39:31.946Z"
   },
   {
    "duration": 9,
    "start_time": "2022-05-06T14:39:32.336Z"
   },
   {
    "duration": 291,
    "start_time": "2022-05-06T14:39:32.347Z"
   },
   {
    "duration": 10,
    "start_time": "2022-05-06T14:39:32.641Z"
   },
   {
    "duration": 31,
    "start_time": "2022-05-06T14:39:32.653Z"
   },
   {
    "duration": 410,
    "start_time": "2022-05-06T14:39:32.686Z"
   },
   {
    "duration": 15,
    "start_time": "2022-05-06T14:41:22.555Z"
   },
   {
    "duration": 11,
    "start_time": "2022-05-06T14:42:06.384Z"
   },
   {
    "duration": 186,
    "start_time": "2022-05-06T14:42:50.856Z"
   },
   {
    "duration": 302,
    "start_time": "2022-05-06T14:45:01.394Z"
   },
   {
    "duration": 317,
    "start_time": "2022-05-06T14:45:18.215Z"
   },
   {
    "duration": 325,
    "start_time": "2022-05-06T14:45:23.425Z"
   },
   {
    "duration": 318,
    "start_time": "2022-05-06T14:45:38.225Z"
   },
   {
    "duration": 404,
    "start_time": "2022-05-06T14:45:57.901Z"
   },
   {
    "duration": 219,
    "start_time": "2022-05-06T14:46:08.614Z"
   },
   {
    "duration": 211,
    "start_time": "2022-05-06T14:46:21.455Z"
   },
   {
    "duration": 12,
    "start_time": "2022-05-06T14:58:07.039Z"
   },
   {
    "duration": 240,
    "start_time": "2022-05-06T14:59:04.171Z"
   },
   {
    "duration": 196,
    "start_time": "2022-05-06T14:59:36.433Z"
   },
   {
    "duration": 5,
    "start_time": "2022-05-06T15:00:32.577Z"
   },
   {
    "duration": 110,
    "start_time": "2022-05-06T15:00:32.586Z"
   },
   {
    "duration": 21,
    "start_time": "2022-05-06T15:00:32.698Z"
   },
   {
    "duration": 5,
    "start_time": "2022-05-06T15:00:32.723Z"
   },
   {
    "duration": 69,
    "start_time": "2022-05-06T15:00:32.731Z"
   },
   {
    "duration": 31,
    "start_time": "2022-05-06T15:00:32.803Z"
   },
   {
    "duration": 53,
    "start_time": "2022-05-06T15:00:32.836Z"
   },
   {
    "duration": 12,
    "start_time": "2022-05-06T15:00:32.892Z"
   },
   {
    "duration": 21,
    "start_time": "2022-05-06T15:00:32.907Z"
   },
   {
    "duration": 54,
    "start_time": "2022-05-06T15:00:32.932Z"
   },
   {
    "duration": 13,
    "start_time": "2022-05-06T15:00:32.988Z"
   },
   {
    "duration": 28,
    "start_time": "2022-05-06T15:00:33.004Z"
   },
   {
    "duration": 4,
    "start_time": "2022-05-06T15:00:33.034Z"
   },
   {
    "duration": 7979,
    "start_time": "2022-05-06T15:00:33.040Z"
   },
   {
    "duration": 20,
    "start_time": "2022-05-06T15:00:41.021Z"
   },
   {
    "duration": 6,
    "start_time": "2022-05-06T15:00:41.043Z"
   },
   {
    "duration": 34,
    "start_time": "2022-05-06T15:00:41.051Z"
   },
   {
    "duration": 8,
    "start_time": "2022-05-06T15:00:41.087Z"
   },
   {
    "duration": 10,
    "start_time": "2022-05-06T15:00:41.097Z"
   },
   {
    "duration": 12,
    "start_time": "2022-05-06T15:00:41.110Z"
   },
   {
    "duration": 59,
    "start_time": "2022-05-06T15:00:41.124Z"
   },
   {
    "duration": 10,
    "start_time": "2022-05-06T15:00:41.186Z"
   },
   {
    "duration": 35,
    "start_time": "2022-05-06T15:00:41.198Z"
   },
   {
    "duration": 47,
    "start_time": "2022-05-06T15:00:41.236Z"
   },
   {
    "duration": 708,
    "start_time": "2022-05-06T15:00:41.286Z"
   },
   {
    "duration": 15,
    "start_time": "2022-05-06T15:00:41.997Z"
   },
   {
    "duration": 116,
    "start_time": "2022-05-06T15:00:42.016Z"
   },
   {
    "duration": 5,
    "start_time": "2022-05-06T15:00:42.140Z"
   },
   {
    "duration": 4055,
    "start_time": "2022-05-06T15:00:42.148Z"
   },
   {
    "duration": 10,
    "start_time": "2022-05-06T15:00:46.206Z"
   },
   {
    "duration": 16,
    "start_time": "2022-05-06T15:00:46.219Z"
   },
   {
    "duration": 74,
    "start_time": "2022-05-06T15:00:46.237Z"
   },
   {
    "duration": 1603,
    "start_time": "2022-05-06T15:00:46.313Z"
   },
   {
    "duration": 13,
    "start_time": "2022-05-06T15:00:47.918Z"
   },
   {
    "duration": 14,
    "start_time": "2022-05-06T15:00:47.933Z"
   },
   {
    "duration": 40,
    "start_time": "2022-05-06T15:00:47.950Z"
   },
   {
    "duration": 14,
    "start_time": "2022-05-06T15:00:47.993Z"
   },
   {
    "duration": 379,
    "start_time": "2022-05-06T15:00:48.010Z"
   },
   {
    "duration": 8,
    "start_time": "2022-05-06T15:00:48.392Z"
   },
   {
    "duration": 228,
    "start_time": "2022-05-06T15:00:48.402Z"
   },
   {
    "duration": 10,
    "start_time": "2022-05-06T15:00:48.633Z"
   },
   {
    "duration": 14,
    "start_time": "2022-05-06T15:00:48.645Z"
   },
   {
    "duration": 298,
    "start_time": "2022-05-06T15:00:48.662Z"
   },
   {
    "duration": 20,
    "start_time": "2022-05-06T15:00:48.963Z"
   },
   {
    "duration": 230,
    "start_time": "2022-05-06T15:00:48.985Z"
   },
   {
    "duration": 10,
    "start_time": "2022-05-06T15:00:49.217Z"
   },
   {
    "duration": 218,
    "start_time": "2022-05-06T15:00:49.230Z"
   },
   {
    "duration": 11,
    "start_time": "2022-05-06T15:01:44.087Z"
   },
   {
    "duration": 226,
    "start_time": "2022-05-06T15:03:44.867Z"
   },
   {
    "duration": 447,
    "start_time": "2022-05-06T15:04:31.954Z"
   },
   {
    "duration": 229,
    "start_time": "2022-05-06T15:04:40.036Z"
   },
   {
    "duration": 239,
    "start_time": "2022-05-06T15:04:50.884Z"
   },
   {
    "duration": 71633,
    "start_time": "2022-05-06T15:15:04.981Z"
   },
   {
    "duration": 73,
    "start_time": "2022-05-07T13:04:36.343Z"
   },
   {
    "duration": 1920,
    "start_time": "2022-05-07T13:04:38.923Z"
   },
   {
    "duration": 90,
    "start_time": "2022-05-07T13:04:40.846Z"
   },
   {
    "duration": 21,
    "start_time": "2022-05-07T13:04:40.938Z"
   },
   {
    "duration": 23,
    "start_time": "2022-05-07T13:04:40.961Z"
   },
   {
    "duration": 29,
    "start_time": "2022-05-07T13:04:40.986Z"
   },
   {
    "duration": 31,
    "start_time": "2022-05-07T13:04:41.017Z"
   },
   {
    "duration": 29,
    "start_time": "2022-05-07T13:04:41.082Z"
   },
   {
    "duration": 13,
    "start_time": "2022-05-07T13:04:41.113Z"
   },
   {
    "duration": 56,
    "start_time": "2022-05-07T13:04:41.128Z"
   },
   {
    "duration": 22,
    "start_time": "2022-05-07T13:04:41.188Z"
   },
   {
    "duration": 13,
    "start_time": "2022-05-07T13:04:41.212Z"
   },
   {
    "duration": 26,
    "start_time": "2022-05-07T13:04:41.227Z"
   },
   {
    "duration": 4,
    "start_time": "2022-05-07T13:04:41.282Z"
   },
   {
    "duration": 6319,
    "start_time": "2022-05-07T13:04:41.288Z"
   },
   {
    "duration": 19,
    "start_time": "2022-05-07T13:04:47.609Z"
   },
   {
    "duration": 9,
    "start_time": "2022-05-07T13:04:47.630Z"
   },
   {
    "duration": 9,
    "start_time": "2022-05-07T13:04:47.641Z"
   },
   {
    "duration": 7,
    "start_time": "2022-05-07T13:04:47.682Z"
   },
   {
    "duration": 9,
    "start_time": "2022-05-07T13:04:47.691Z"
   },
   {
    "duration": 13,
    "start_time": "2022-05-07T13:04:47.702Z"
   },
   {
    "duration": 19,
    "start_time": "2022-05-07T13:04:47.717Z"
   },
   {
    "duration": 45,
    "start_time": "2022-05-07T13:04:47.739Z"
   },
   {
    "duration": 56,
    "start_time": "2022-05-07T13:04:47.787Z"
   },
   {
    "duration": 37,
    "start_time": "2022-05-07T13:04:47.846Z"
   },
   {
    "duration": 680,
    "start_time": "2022-05-07T13:04:47.885Z"
   },
   {
    "duration": 23,
    "start_time": "2022-05-07T13:04:48.568Z"
   },
   {
    "duration": 114,
    "start_time": "2022-05-07T13:04:48.594Z"
   },
   {
    "duration": 5,
    "start_time": "2022-05-07T13:04:48.716Z"
   },
   {
    "duration": 4659,
    "start_time": "2022-05-07T13:04:48.724Z"
   },
   {
    "duration": 10,
    "start_time": "2022-05-07T13:04:53.386Z"
   },
   {
    "duration": 14,
    "start_time": "2022-05-07T13:04:53.398Z"
   },
   {
    "duration": 73,
    "start_time": "2022-05-07T13:04:53.415Z"
   },
   {
    "duration": 1572,
    "start_time": "2022-05-07T13:04:53.491Z"
   },
   {
    "duration": 18,
    "start_time": "2022-05-07T13:04:55.065Z"
   },
   {
    "duration": 14,
    "start_time": "2022-05-07T13:04:55.085Z"
   },
   {
    "duration": 9,
    "start_time": "2022-05-07T13:04:55.101Z"
   },
   {
    "duration": 10,
    "start_time": "2022-05-07T13:04:55.112Z"
   },
   {
    "duration": 275,
    "start_time": "2022-05-07T13:04:55.124Z"
   },
   {
    "duration": 7,
    "start_time": "2022-05-07T13:04:55.401Z"
   },
   {
    "duration": 222,
    "start_time": "2022-05-07T13:04:55.410Z"
   },
   {
    "duration": 10,
    "start_time": "2022-05-07T13:04:55.634Z"
   },
   {
    "duration": 37,
    "start_time": "2022-05-07T13:04:55.647Z"
   },
   {
    "duration": 275,
    "start_time": "2022-05-07T13:04:55.686Z"
   },
   {
    "duration": 20,
    "start_time": "2022-05-07T13:04:55.963Z"
   },
   {
    "duration": 363,
    "start_time": "2022-05-07T13:04:55.986Z"
   },
   {
    "duration": 11,
    "start_time": "2022-05-07T13:04:56.351Z"
   },
   {
    "duration": 223,
    "start_time": "2022-05-07T13:04:56.364Z"
   },
   {
    "duration": 10,
    "start_time": "2022-05-07T13:04:56.589Z"
   },
   {
    "duration": 240,
    "start_time": "2022-05-07T13:04:56.602Z"
   },
   {
    "duration": 12,
    "start_time": "2022-05-07T13:06:39.804Z"
   },
   {
    "duration": 274,
    "start_time": "2022-05-07T13:07:14.066Z"
   },
   {
    "duration": 203,
    "start_time": "2022-05-07T13:07:30.512Z"
   },
   {
    "duration": 206,
    "start_time": "2022-05-07T13:07:44.582Z"
   },
   {
    "duration": 11,
    "start_time": "2022-05-07T13:08:48.259Z"
   },
   {
    "duration": 203,
    "start_time": "2022-05-07T13:09:30.624Z"
   },
   {
    "duration": 82265,
    "start_time": "2022-05-07T13:16:05.993Z"
   },
   {
    "duration": 83607,
    "start_time": "2022-05-07T13:17:57.310Z"
   },
   {
    "duration": 13,
    "start_time": "2022-05-07T13:23:22.098Z"
   },
   {
    "duration": 24,
    "start_time": "2022-05-07T13:27:50.597Z"
   },
   {
    "duration": 23,
    "start_time": "2022-05-07T13:28:25.735Z"
   },
   {
    "duration": 48,
    "start_time": "2022-05-07T13:28:35.032Z"
   },
   {
    "duration": 4,
    "start_time": "2022-05-07T13:32:10.903Z"
   },
   {
    "duration": 33,
    "start_time": "2022-05-07T13:32:22.761Z"
   },
   {
    "duration": 4,
    "start_time": "2022-05-07T13:43:48.685Z"
   },
   {
    "duration": 85,
    "start_time": "2022-05-07T13:43:48.723Z"
   },
   {
    "duration": 24,
    "start_time": "2022-05-07T13:43:48.819Z"
   },
   {
    "duration": 4,
    "start_time": "2022-05-07T13:43:48.903Z"
   },
   {
    "duration": 79,
    "start_time": "2022-05-07T13:43:48.947Z"
   },
   {
    "duration": 50,
    "start_time": "2022-05-07T13:43:49.058Z"
   },
   {
    "duration": 19,
    "start_time": "2022-05-07T13:43:49.133Z"
   },
   {
    "duration": 18,
    "start_time": "2022-05-07T13:43:49.209Z"
   },
   {
    "duration": 29,
    "start_time": "2022-05-07T13:43:49.288Z"
   },
   {
    "duration": 58,
    "start_time": "2022-05-07T13:43:49.337Z"
   },
   {
    "duration": 4,
    "start_time": "2022-05-07T13:43:49.425Z"
   },
   {
    "duration": 55,
    "start_time": "2022-05-07T13:43:49.443Z"
   },
   {
    "duration": 4,
    "start_time": "2022-05-07T13:43:55.311Z"
   },
   {
    "duration": 5816,
    "start_time": "2022-05-07T13:43:55.348Z"
   },
   {
    "duration": 27,
    "start_time": "2022-05-07T13:44:01.184Z"
   },
   {
    "duration": 13,
    "start_time": "2022-05-07T13:44:01.233Z"
   },
   {
    "duration": 10,
    "start_time": "2022-05-07T13:44:01.287Z"
   },
   {
    "duration": 51,
    "start_time": "2022-05-07T13:44:01.313Z"
   },
   {
    "duration": 0,
    "start_time": "2022-05-07T13:44:01.370Z"
   },
   {
    "duration": 0,
    "start_time": "2022-05-07T13:44:01.382Z"
   },
   {
    "duration": 0,
    "start_time": "2022-05-07T13:44:01.385Z"
   },
   {
    "duration": 0,
    "start_time": "2022-05-07T13:44:01.389Z"
   },
   {
    "duration": 0,
    "start_time": "2022-05-07T13:44:01.394Z"
   },
   {
    "duration": 0,
    "start_time": "2022-05-07T13:44:01.398Z"
   },
   {
    "duration": 0,
    "start_time": "2022-05-07T13:44:01.402Z"
   },
   {
    "duration": 0,
    "start_time": "2022-05-07T13:44:01.405Z"
   },
   {
    "duration": 1,
    "start_time": "2022-05-07T13:44:01.408Z"
   },
   {
    "duration": 0,
    "start_time": "2022-05-07T13:44:01.411Z"
   },
   {
    "duration": 0,
    "start_time": "2022-05-07T13:44:01.415Z"
   },
   {
    "duration": 0,
    "start_time": "2022-05-07T13:44:01.418Z"
   },
   {
    "duration": 0,
    "start_time": "2022-05-07T13:44:01.421Z"
   },
   {
    "duration": 0,
    "start_time": "2022-05-07T13:44:01.484Z"
   },
   {
    "duration": 0,
    "start_time": "2022-05-07T13:44:01.487Z"
   },
   {
    "duration": 0,
    "start_time": "2022-05-07T13:44:01.490Z"
   },
   {
    "duration": 0,
    "start_time": "2022-05-07T13:44:01.493Z"
   },
   {
    "duration": 0,
    "start_time": "2022-05-07T13:44:01.495Z"
   },
   {
    "duration": 0,
    "start_time": "2022-05-07T13:44:01.498Z"
   },
   {
    "duration": 0,
    "start_time": "2022-05-07T13:44:01.501Z"
   },
   {
    "duration": 0,
    "start_time": "2022-05-07T13:44:01.505Z"
   },
   {
    "duration": 0,
    "start_time": "2022-05-07T13:44:01.508Z"
   },
   {
    "duration": 0,
    "start_time": "2022-05-07T13:44:01.511Z"
   },
   {
    "duration": 0,
    "start_time": "2022-05-07T13:44:01.514Z"
   },
   {
    "duration": 0,
    "start_time": "2022-05-07T13:44:01.517Z"
   },
   {
    "duration": 0,
    "start_time": "2022-05-07T13:44:01.518Z"
   },
   {
    "duration": 4,
    "start_time": "2022-05-07T14:01:33.822Z"
   },
   {
    "duration": 78,
    "start_time": "2022-05-07T14:01:33.829Z"
   },
   {
    "duration": 20,
    "start_time": "2022-05-07T14:01:33.909Z"
   },
   {
    "duration": 4,
    "start_time": "2022-05-07T14:01:33.932Z"
   },
   {
    "duration": 66,
    "start_time": "2022-05-07T14:01:33.939Z"
   },
   {
    "duration": 32,
    "start_time": "2022-05-07T14:01:34.007Z"
   },
   {
    "duration": 47,
    "start_time": "2022-05-07T14:01:34.042Z"
   },
   {
    "duration": 16,
    "start_time": "2022-05-07T14:01:34.092Z"
   },
   {
    "duration": 27,
    "start_time": "2022-05-07T14:01:34.112Z"
   },
   {
    "duration": 55,
    "start_time": "2022-05-07T14:01:34.141Z"
   },
   {
    "duration": 15,
    "start_time": "2022-05-07T14:01:34.198Z"
   },
   {
    "duration": 31,
    "start_time": "2022-05-07T14:01:34.215Z"
   },
   {
    "duration": 4,
    "start_time": "2022-05-07T14:01:34.248Z"
   },
   {
    "duration": 5900,
    "start_time": "2022-05-07T14:01:34.254Z"
   },
   {
    "duration": 36,
    "start_time": "2022-05-07T14:01:40.157Z"
   },
   {
    "duration": 8,
    "start_time": "2022-05-07T14:01:40.196Z"
   },
   {
    "duration": 7,
    "start_time": "2022-05-07T14:01:40.206Z"
   },
   {
    "duration": 7,
    "start_time": "2022-05-07T14:01:40.215Z"
   },
   {
    "duration": 7,
    "start_time": "2022-05-07T14:01:40.225Z"
   },
   {
    "duration": 66,
    "start_time": "2022-05-07T14:01:40.234Z"
   },
   {
    "duration": 30,
    "start_time": "2022-05-07T14:01:40.303Z"
   },
   {
    "duration": 8,
    "start_time": "2022-05-07T14:01:40.335Z"
   },
   {
    "duration": 44,
    "start_time": "2022-05-07T14:01:40.345Z"
   },
   {
    "duration": 11,
    "start_time": "2022-05-07T14:01:40.395Z"
   },
   {
    "duration": 435,
    "start_time": "2022-05-07T14:01:40.409Z"
   },
   {
    "duration": 14,
    "start_time": "2022-05-07T14:01:40.846Z"
   },
   {
    "duration": 87,
    "start_time": "2022-05-07T14:01:40.863Z"
   },
   {
    "duration": 4,
    "start_time": "2022-05-07T14:01:40.952Z"
   },
   {
    "duration": 2637,
    "start_time": "2022-05-07T14:01:40.958Z"
   },
   {
    "duration": 11,
    "start_time": "2022-05-07T14:01:43.598Z"
   },
   {
    "duration": 13,
    "start_time": "2022-05-07T14:01:43.611Z"
   },
   {
    "duration": 84,
    "start_time": "2022-05-07T14:01:43.626Z"
   },
   {
    "duration": 1619,
    "start_time": "2022-05-07T14:01:43.712Z"
   },
   {
    "duration": 11,
    "start_time": "2022-05-07T14:01:45.333Z"
   },
   {
    "duration": 10,
    "start_time": "2022-05-07T14:01:45.347Z"
   },
   {
    "duration": 9,
    "start_time": "2022-05-07T14:01:45.382Z"
   },
   {
    "duration": 6,
    "start_time": "2022-05-07T14:01:45.393Z"
   },
   {
    "duration": 260,
    "start_time": "2022-05-07T14:01:45.401Z"
   },
   {
    "duration": 7,
    "start_time": "2022-05-07T14:01:45.663Z"
   },
   {
    "duration": 210,
    "start_time": "2022-05-07T14:01:45.683Z"
   },
   {
    "duration": 12,
    "start_time": "2022-05-07T14:01:45.895Z"
   },
   {
    "duration": 13,
    "start_time": "2022-05-07T14:01:45.909Z"
   },
   {
    "duration": 296,
    "start_time": "2022-05-07T14:01:45.924Z"
   },
   {
    "duration": 36,
    "start_time": "2022-05-07T14:01:46.222Z"
   },
   {
    "duration": 35,
    "start_time": "2022-05-07T14:02:09.394Z"
   },
   {
    "duration": 33,
    "start_time": "2022-05-07T14:02:20.735Z"
   },
   {
    "duration": 37,
    "start_time": "2022-05-07T14:02:28.037Z"
   },
   {
    "duration": 11,
    "start_time": "2022-05-07T14:03:11.936Z"
   },
   {
    "duration": 235,
    "start_time": "2022-05-07T14:03:16.315Z"
   },
   {
    "duration": 191,
    "start_time": "2022-05-07T14:05:32.921Z"
   },
   {
    "duration": 394,
    "start_time": "2022-05-07T14:05:41.487Z"
   },
   {
    "duration": 360,
    "start_time": "2022-05-07T14:07:17.737Z"
   },
   {
    "duration": 407,
    "start_time": "2022-05-07T14:07:49.861Z"
   },
   {
    "duration": 16,
    "start_time": "2022-05-07T14:11:49.263Z"
   },
   {
    "duration": 46,
    "start_time": "2022-05-07T14:12:37.299Z"
   },
   {
    "duration": 442,
    "start_time": "2022-05-07T14:13:32.747Z"
   },
   {
    "duration": 284,
    "start_time": "2022-05-07T14:13:43.438Z"
   },
   {
    "duration": 285,
    "start_time": "2022-05-07T14:14:24.691Z"
   },
   {
    "duration": 23,
    "start_time": "2022-05-07T14:17:14.125Z"
   },
   {
    "duration": 12,
    "start_time": "2022-05-07T14:17:47.934Z"
   },
   {
    "duration": 11,
    "start_time": "2022-05-07T14:17:59.325Z"
   },
   {
    "duration": 12,
    "start_time": "2022-05-07T14:18:32.940Z"
   },
   {
    "duration": 424,
    "start_time": "2022-05-07T14:21:37.349Z"
   },
   {
    "duration": 424,
    "start_time": "2022-05-07T14:22:36.245Z"
   },
   {
    "duration": 106,
    "start_time": "2022-05-07T15:02:06.044Z"
   },
   {
    "duration": 382,
    "start_time": "2022-05-07T15:04:47.385Z"
   },
   {
    "duration": 269,
    "start_time": "2022-05-07T15:05:09.221Z"
   },
   {
    "duration": 391,
    "start_time": "2022-05-07T15:05:22.658Z"
   },
   {
    "duration": 1408,
    "start_time": "2022-05-08T15:10:53.774Z"
   },
   {
    "duration": 65,
    "start_time": "2022-05-08T15:10:55.184Z"
   },
   {
    "duration": 16,
    "start_time": "2022-05-08T15:10:55.250Z"
   },
   {
    "duration": 11,
    "start_time": "2022-05-08T15:10:55.268Z"
   },
   {
    "duration": 21,
    "start_time": "2022-05-08T15:10:55.281Z"
   },
   {
    "duration": 20,
    "start_time": "2022-05-08T15:10:55.303Z"
   },
   {
    "duration": 36,
    "start_time": "2022-05-08T15:10:55.325Z"
   },
   {
    "duration": 9,
    "start_time": "2022-05-08T15:10:55.363Z"
   },
   {
    "duration": 16,
    "start_time": "2022-05-08T15:10:55.374Z"
   },
   {
    "duration": 17,
    "start_time": "2022-05-08T15:10:55.392Z"
   },
   {
    "duration": 9,
    "start_time": "2022-05-08T15:10:55.411Z"
   },
   {
    "duration": 48,
    "start_time": "2022-05-08T15:10:55.421Z"
   },
   {
    "duration": 3,
    "start_time": "2022-05-08T15:10:55.471Z"
   },
   {
    "duration": 3111,
    "start_time": "2022-05-08T15:10:55.476Z"
   },
   {
    "duration": 13,
    "start_time": "2022-05-08T15:10:58.589Z"
   },
   {
    "duration": 12,
    "start_time": "2022-05-08T15:10:58.603Z"
   },
   {
    "duration": 14,
    "start_time": "2022-05-08T15:10:58.617Z"
   },
   {
    "duration": 27,
    "start_time": "2022-05-08T15:10:58.633Z"
   },
   {
    "duration": 11,
    "start_time": "2022-05-08T15:10:58.662Z"
   },
   {
    "duration": 25,
    "start_time": "2022-05-08T15:10:58.675Z"
   },
   {
    "duration": 41,
    "start_time": "2022-05-08T15:10:58.701Z"
   },
   {
    "duration": 13,
    "start_time": "2022-05-08T15:10:58.743Z"
   },
   {
    "duration": 44,
    "start_time": "2022-05-08T15:10:58.758Z"
   },
   {
    "duration": 17,
    "start_time": "2022-05-08T15:10:58.804Z"
   },
   {
    "duration": 251,
    "start_time": "2022-05-08T15:10:58.822Z"
   },
   {
    "duration": 9,
    "start_time": "2022-05-08T15:10:59.075Z"
   },
   {
    "duration": 76,
    "start_time": "2022-05-08T15:10:59.086Z"
   },
   {
    "duration": 2,
    "start_time": "2022-05-08T15:10:59.166Z"
   },
   {
    "duration": 1589,
    "start_time": "2022-05-08T15:10:59.170Z"
   },
   {
    "duration": 8,
    "start_time": "2022-05-08T15:11:00.760Z"
   },
   {
    "duration": 21,
    "start_time": "2022-05-08T15:11:00.770Z"
   },
   {
    "duration": 36,
    "start_time": "2022-05-08T15:11:00.793Z"
   },
   {
    "duration": 885,
    "start_time": "2022-05-08T15:11:00.831Z"
   },
   {
    "duration": 8,
    "start_time": "2022-05-08T15:11:01.718Z"
   },
   {
    "duration": 56,
    "start_time": "2022-05-08T15:11:01.728Z"
   },
   {
    "duration": 38,
    "start_time": "2022-05-08T15:11:01.786Z"
   },
   {
    "duration": 28,
    "start_time": "2022-05-08T15:11:01.826Z"
   },
   {
    "duration": 159,
    "start_time": "2022-05-08T15:11:01.856Z"
   },
   {
    "duration": 6,
    "start_time": "2022-05-08T15:11:02.017Z"
   },
   {
    "duration": 181,
    "start_time": "2022-05-08T15:11:02.025Z"
   },
   {
    "duration": 8,
    "start_time": "2022-05-08T15:11:02.207Z"
   },
   {
    "duration": 73,
    "start_time": "2022-05-08T15:11:02.217Z"
   },
   {
    "duration": 179,
    "start_time": "2022-05-08T15:11:02.292Z"
   },
   {
    "duration": 24,
    "start_time": "2022-05-08T15:11:02.473Z"
   },
   {
    "duration": 305,
    "start_time": "2022-05-08T15:11:02.499Z"
   },
   {
    "duration": 24,
    "start_time": "2022-05-08T15:11:02.806Z"
   },
   {
    "duration": 187,
    "start_time": "2022-05-08T15:11:02.831Z"
   },
   {
    "duration": 17,
    "start_time": "2022-05-08T15:11:03.020Z"
   },
   {
    "duration": 194,
    "start_time": "2022-05-08T15:11:03.038Z"
   },
   {
    "duration": 1807,
    "start_time": "2022-05-09T07:17:04.735Z"
   },
   {
    "duration": 91,
    "start_time": "2022-05-09T07:17:06.544Z"
   },
   {
    "duration": 21,
    "start_time": "2022-05-09T07:17:06.638Z"
   },
   {
    "duration": 20,
    "start_time": "2022-05-09T07:17:06.662Z"
   },
   {
    "duration": 27,
    "start_time": "2022-05-09T07:17:06.684Z"
   },
   {
    "duration": 32,
    "start_time": "2022-05-09T07:17:06.713Z"
   },
   {
    "duration": 60,
    "start_time": "2022-05-09T07:17:06.748Z"
   },
   {
    "duration": 14,
    "start_time": "2022-05-09T07:17:06.810Z"
   },
   {
    "duration": 22,
    "start_time": "2022-05-09T07:17:06.826Z"
   },
   {
    "duration": 47,
    "start_time": "2022-05-09T07:17:06.852Z"
   },
   {
    "duration": 12,
    "start_time": "2022-05-09T07:17:06.901Z"
   },
   {
    "duration": 26,
    "start_time": "2022-05-09T07:17:06.916Z"
   },
   {
    "duration": 4,
    "start_time": "2022-05-09T07:17:06.944Z"
   },
   {
    "duration": 5629,
    "start_time": "2022-05-09T07:17:06.985Z"
   },
   {
    "duration": 17,
    "start_time": "2022-05-09T07:17:12.617Z"
   },
   {
    "duration": 8,
    "start_time": "2022-05-09T07:17:12.636Z"
   },
   {
    "duration": 36,
    "start_time": "2022-05-09T07:17:12.646Z"
   },
   {
    "duration": 7,
    "start_time": "2022-05-09T07:17:12.684Z"
   },
   {
    "duration": 7,
    "start_time": "2022-05-09T07:17:12.693Z"
   },
   {
    "duration": 10,
    "start_time": "2022-05-09T07:17:12.703Z"
   },
   {
    "duration": 22,
    "start_time": "2022-05-09T07:17:12.715Z"
   },
   {
    "duration": 50,
    "start_time": "2022-05-09T07:17:12.739Z"
   },
   {
    "duration": 34,
    "start_time": "2022-05-09T07:17:12.791Z"
   },
   {
    "duration": 14,
    "start_time": "2022-05-09T07:17:12.827Z"
   },
   {
    "duration": 423,
    "start_time": "2022-05-09T07:17:12.843Z"
   },
   {
    "duration": 21,
    "start_time": "2022-05-09T07:17:13.268Z"
   },
   {
    "duration": 61,
    "start_time": "2022-05-09T07:17:13.291Z"
   },
   {
    "duration": 4,
    "start_time": "2022-05-09T07:17:13.382Z"
   },
   {
    "duration": 2535,
    "start_time": "2022-05-09T07:17:13.388Z"
   },
   {
    "duration": 9,
    "start_time": "2022-05-09T07:17:15.925Z"
   },
   {
    "duration": 20,
    "start_time": "2022-05-09T07:17:15.937Z"
   },
   {
    "duration": 57,
    "start_time": "2022-05-09T07:17:15.958Z"
   },
   {
    "duration": 1458,
    "start_time": "2022-05-09T07:17:16.017Z"
   },
   {
    "duration": 12,
    "start_time": "2022-05-09T07:17:17.477Z"
   },
   {
    "duration": 9,
    "start_time": "2022-05-09T07:17:17.491Z"
   },
   {
    "duration": 7,
    "start_time": "2022-05-09T07:17:17.503Z"
   },
   {
    "duration": 7,
    "start_time": "2022-05-09T07:17:17.512Z"
   },
   {
    "duration": 273,
    "start_time": "2022-05-09T07:17:17.521Z"
   },
   {
    "duration": 7,
    "start_time": "2022-05-09T07:17:17.797Z"
   },
   {
    "duration": 216,
    "start_time": "2022-05-09T07:17:17.806Z"
   },
   {
    "duration": 10,
    "start_time": "2022-05-09T07:17:18.024Z"
   },
   {
    "duration": 19,
    "start_time": "2022-05-09T07:17:18.036Z"
   },
   {
    "duration": 287,
    "start_time": "2022-05-09T07:17:18.057Z"
   },
   {
    "duration": 45,
    "start_time": "2022-05-09T07:17:18.346Z"
   },
   {
    "duration": 394,
    "start_time": "2022-05-09T07:17:18.394Z"
   },
   {
    "duration": 31,
    "start_time": "2022-05-09T07:17:18.791Z"
   },
   {
    "duration": 300,
    "start_time": "2022-05-09T07:17:18.824Z"
   },
   {
    "duration": 24,
    "start_time": "2022-05-09T07:17:19.127Z"
   },
   {
    "duration": 324,
    "start_time": "2022-05-09T07:17:19.154Z"
   },
   {
    "duration": 9,
    "start_time": "2022-05-09T07:37:32.387Z"
   },
   {
    "duration": 10,
    "start_time": "2022-05-09T07:37:33.084Z"
   },
   {
    "duration": 9,
    "start_time": "2022-05-09T07:38:20.073Z"
   },
   {
    "duration": 11,
    "start_time": "2022-05-09T07:38:20.682Z"
   },
   {
    "duration": 9,
    "start_time": "2022-05-09T07:38:36.506Z"
   },
   {
    "duration": 12,
    "start_time": "2022-05-09T07:38:38.463Z"
   },
   {
    "duration": 9,
    "start_time": "2022-05-09T07:38:48.002Z"
   },
   {
    "duration": 13,
    "start_time": "2022-05-09T07:38:48.403Z"
   },
   {
    "duration": 9,
    "start_time": "2022-05-09T07:38:56.000Z"
   },
   {
    "duration": 11,
    "start_time": "2022-05-09T07:38:58.560Z"
   },
   {
    "duration": 9,
    "start_time": "2022-05-09T07:39:51.057Z"
   },
   {
    "duration": 11,
    "start_time": "2022-05-09T07:39:51.738Z"
   },
   {
    "duration": 10,
    "start_time": "2022-05-09T07:40:16.595Z"
   },
   {
    "duration": 11,
    "start_time": "2022-05-09T07:40:18.997Z"
   },
   {
    "duration": 9,
    "start_time": "2022-05-09T07:40:27.240Z"
   },
   {
    "duration": 10,
    "start_time": "2022-05-09T07:40:27.589Z"
   },
   {
    "duration": 9,
    "start_time": "2022-05-09T07:40:39.323Z"
   },
   {
    "duration": 11,
    "start_time": "2022-05-09T07:40:39.805Z"
   },
   {
    "duration": 4,
    "start_time": "2022-05-09T07:40:50.111Z"
   },
   {
    "duration": 80,
    "start_time": "2022-05-09T07:40:50.118Z"
   },
   {
    "duration": 20,
    "start_time": "2022-05-09T07:40:50.200Z"
   },
   {
    "duration": 5,
    "start_time": "2022-05-09T07:40:50.222Z"
   },
   {
    "duration": 68,
    "start_time": "2022-05-09T07:40:50.229Z"
   },
   {
    "duration": 32,
    "start_time": "2022-05-09T07:40:50.299Z"
   },
   {
    "duration": 50,
    "start_time": "2022-05-09T07:40:50.333Z"
   },
   {
    "duration": 14,
    "start_time": "2022-05-09T07:40:50.385Z"
   },
   {
    "duration": 23,
    "start_time": "2022-05-09T07:40:50.402Z"
   },
   {
    "duration": 22,
    "start_time": "2022-05-09T07:40:50.427Z"
   },
   {
    "duration": 40,
    "start_time": "2022-05-09T07:40:50.451Z"
   },
   {
    "duration": 27,
    "start_time": "2022-05-09T07:40:50.493Z"
   },
   {
    "duration": 4,
    "start_time": "2022-05-09T07:40:50.522Z"
   },
   {
    "duration": 6008,
    "start_time": "2022-05-09T07:40:50.528Z"
   },
   {
    "duration": 20,
    "start_time": "2022-05-09T07:40:56.538Z"
   },
   {
    "duration": 23,
    "start_time": "2022-05-09T07:40:56.560Z"
   },
   {
    "duration": 14,
    "start_time": "2022-05-09T07:40:56.585Z"
   },
   {
    "duration": 14,
    "start_time": "2022-05-09T07:40:56.601Z"
   },
   {
    "duration": 25,
    "start_time": "2022-05-09T07:40:56.617Z"
   },
   {
    "duration": 21,
    "start_time": "2022-05-09T07:40:56.645Z"
   },
   {
    "duration": 31,
    "start_time": "2022-05-09T07:40:56.668Z"
   },
   {
    "duration": 13,
    "start_time": "2022-05-09T07:40:56.701Z"
   },
   {
    "duration": 37,
    "start_time": "2022-05-09T07:40:56.716Z"
   },
   {
    "duration": 26,
    "start_time": "2022-05-09T07:40:56.758Z"
   },
   {
    "duration": 395,
    "start_time": "2022-05-09T07:40:56.786Z"
   },
   {
    "duration": 11,
    "start_time": "2022-05-09T07:40:57.184Z"
   },
   {
    "duration": 84,
    "start_time": "2022-05-09T07:40:57.197Z"
   },
   {
    "duration": 5,
    "start_time": "2022-05-09T07:40:57.284Z"
   },
   {
    "duration": 2852,
    "start_time": "2022-05-09T07:40:57.292Z"
   },
   {
    "duration": 10,
    "start_time": "2022-05-09T07:41:00.147Z"
   },
   {
    "duration": 26,
    "start_time": "2022-05-09T07:41:00.159Z"
   },
   {
    "duration": 47,
    "start_time": "2022-05-09T07:41:00.187Z"
   },
   {
    "duration": 1524,
    "start_time": "2022-05-09T07:41:00.236Z"
   },
   {
    "duration": 21,
    "start_time": "2022-05-09T07:41:01.762Z"
   },
   {
    "duration": 13,
    "start_time": "2022-05-09T07:41:01.785Z"
   },
   {
    "duration": 19,
    "start_time": "2022-05-09T07:41:01.800Z"
   },
   {
    "duration": 34,
    "start_time": "2022-05-09T07:41:01.821Z"
   },
   {
    "duration": 230,
    "start_time": "2022-05-09T07:41:01.857Z"
   },
   {
    "duration": 7,
    "start_time": "2022-05-09T07:41:02.089Z"
   },
   {
    "duration": 219,
    "start_time": "2022-05-09T07:41:02.098Z"
   },
   {
    "duration": 9,
    "start_time": "2022-05-09T07:41:02.319Z"
   },
   {
    "duration": 17,
    "start_time": "2022-05-09T07:41:02.331Z"
   },
   {
    "duration": 292,
    "start_time": "2022-05-09T07:41:02.350Z"
   },
   {
    "duration": 39,
    "start_time": "2022-05-09T07:41:02.644Z"
   },
   {
    "duration": 437,
    "start_time": "2022-05-09T07:41:02.685Z"
   },
   {
    "duration": 86,
    "start_time": "2022-05-09T07:41:03.125Z"
   },
   {
    "duration": 509,
    "start_time": "2022-05-09T07:41:03.213Z"
   },
   {
    "duration": 76,
    "start_time": "2022-05-09T07:41:03.725Z"
   },
   {
    "duration": 585,
    "start_time": "2022-05-09T07:41:03.803Z"
   },
   {
    "duration": 9,
    "start_time": "2022-05-09T07:43:27.274Z"
   },
   {
    "duration": 10,
    "start_time": "2022-05-09T07:43:27.758Z"
   },
   {
    "duration": 9,
    "start_time": "2022-05-09T07:47:12.966Z"
   },
   {
    "duration": 10,
    "start_time": "2022-05-09T07:49:27.801Z"
   },
   {
    "duration": 10,
    "start_time": "2022-05-09T07:49:28.757Z"
   },
   {
    "duration": 4,
    "start_time": "2022-05-09T07:49:31.491Z"
   },
   {
    "duration": 90,
    "start_time": "2022-05-09T07:49:31.498Z"
   },
   {
    "duration": 20,
    "start_time": "2022-05-09T07:49:31.591Z"
   },
   {
    "duration": 4,
    "start_time": "2022-05-09T07:49:31.614Z"
   },
   {
    "duration": 82,
    "start_time": "2022-05-09T07:49:31.621Z"
   },
   {
    "duration": 35,
    "start_time": "2022-05-09T07:49:31.705Z"
   },
   {
    "duration": 35,
    "start_time": "2022-05-09T07:49:31.742Z"
   },
   {
    "duration": 14,
    "start_time": "2022-05-09T07:49:31.781Z"
   },
   {
    "duration": 24,
    "start_time": "2022-05-09T07:49:31.797Z"
   },
   {
    "duration": 23,
    "start_time": "2022-05-09T07:49:31.823Z"
   },
   {
    "duration": 38,
    "start_time": "2022-05-09T07:49:31.850Z"
   },
   {
    "duration": 27,
    "start_time": "2022-05-09T07:49:31.890Z"
   },
   {
    "duration": 4,
    "start_time": "2022-05-09T07:49:31.919Z"
   },
   {
    "duration": 7486,
    "start_time": "2022-05-09T07:49:31.926Z"
   },
   {
    "duration": 85,
    "start_time": "2022-05-09T07:49:39.415Z"
   },
   {
    "duration": 9,
    "start_time": "2022-05-09T07:49:39.503Z"
   },
   {
    "duration": 9,
    "start_time": "2022-05-09T07:49:39.515Z"
   },
   {
    "duration": 9,
    "start_time": "2022-05-09T07:49:39.583Z"
   },
   {
    "duration": 10,
    "start_time": "2022-05-09T07:49:39.595Z"
   },
   {
    "duration": 13,
    "start_time": "2022-05-09T07:49:39.607Z"
   },
   {
    "duration": 73,
    "start_time": "2022-05-09T07:49:39.622Z"
   },
   {
    "duration": 7,
    "start_time": "2022-05-09T07:49:39.697Z"
   },
   {
    "duration": 90,
    "start_time": "2022-05-09T07:49:39.706Z"
   },
   {
    "duration": 14,
    "start_time": "2022-05-09T07:49:39.799Z"
   },
   {
    "duration": 453,
    "start_time": "2022-05-09T07:49:39.816Z"
   },
   {
    "duration": 19,
    "start_time": "2022-05-09T07:49:40.271Z"
   },
   {
    "duration": 88,
    "start_time": "2022-05-09T07:49:40.293Z"
   },
   {
    "duration": 5,
    "start_time": "2022-05-09T07:49:40.384Z"
   },
   {
    "duration": 2719,
    "start_time": "2022-05-09T07:49:40.396Z"
   },
   {
    "duration": 10,
    "start_time": "2022-05-09T07:49:43.117Z"
   },
   {
    "duration": 11,
    "start_time": "2022-05-09T07:49:43.129Z"
   },
   {
    "duration": 72,
    "start_time": "2022-05-09T07:49:43.142Z"
   },
   {
    "duration": 1534,
    "start_time": "2022-05-09T07:49:43.216Z"
   },
   {
    "duration": 10,
    "start_time": "2022-05-09T07:49:44.752Z"
   },
   {
    "duration": 26,
    "start_time": "2022-05-09T07:49:44.764Z"
   },
   {
    "duration": 9,
    "start_time": "2022-05-09T07:49:44.792Z"
   },
   {
    "duration": 10,
    "start_time": "2022-05-09T07:49:44.803Z"
   },
   {
    "duration": 250,
    "start_time": "2022-05-09T07:49:44.815Z"
   },
   {
    "duration": 15,
    "start_time": "2022-05-09T07:49:45.068Z"
   },
   {
    "duration": 214,
    "start_time": "2022-05-09T07:49:45.085Z"
   },
   {
    "duration": 10,
    "start_time": "2022-05-09T07:49:45.301Z"
   },
   {
    "duration": 12,
    "start_time": "2022-05-09T07:49:45.314Z"
   },
   {
    "duration": 286,
    "start_time": "2022-05-09T07:49:45.329Z"
   },
   {
    "duration": 35,
    "start_time": "2022-05-09T07:49:45.618Z"
   },
   {
    "duration": 444,
    "start_time": "2022-05-09T07:49:45.656Z"
   },
   {
    "duration": 33,
    "start_time": "2022-05-09T07:49:46.102Z"
   },
   {
    "duration": 305,
    "start_time": "2022-05-09T07:49:46.137Z"
   },
   {
    "duration": 23,
    "start_time": "2022-05-09T07:49:46.444Z"
   },
   {
    "duration": 307,
    "start_time": "2022-05-09T07:49:46.482Z"
   },
   {
    "duration": 7,
    "start_time": "2022-05-09T08:03:16.314Z"
   },
   {
    "duration": 7,
    "start_time": "2022-05-09T08:03:59.758Z"
   },
   {
    "duration": 11,
    "start_time": "2022-05-09T08:04:31.218Z"
   },
   {
    "duration": 5,
    "start_time": "2022-05-09T08:05:08.159Z"
   },
   {
    "duration": 9,
    "start_time": "2022-05-09T08:05:45.859Z"
   },
   {
    "duration": 5,
    "start_time": "2022-05-09T08:05:51.145Z"
   },
   {
    "duration": 5,
    "start_time": "2022-05-09T08:05:56.710Z"
   },
   {
    "duration": 6,
    "start_time": "2022-05-09T08:07:05.212Z"
   },
   {
    "duration": 7,
    "start_time": "2022-05-09T08:07:55.704Z"
   },
   {
    "duration": 7,
    "start_time": "2022-05-09T08:08:27.440Z"
   },
   {
    "duration": 4,
    "start_time": "2022-05-09T08:08:29.640Z"
   },
   {
    "duration": 79,
    "start_time": "2022-05-09T08:08:29.647Z"
   },
   {
    "duration": 20,
    "start_time": "2022-05-09T08:08:29.729Z"
   },
   {
    "duration": 5,
    "start_time": "2022-05-09T08:08:29.782Z"
   },
   {
    "duration": 44,
    "start_time": "2022-05-09T08:08:29.791Z"
   },
   {
    "duration": 48,
    "start_time": "2022-05-09T08:08:29.837Z"
   },
   {
    "duration": 26,
    "start_time": "2022-05-09T08:08:29.887Z"
   },
   {
    "duration": 13,
    "start_time": "2022-05-09T08:08:29.915Z"
   },
   {
    "duration": 51,
    "start_time": "2022-05-09T08:08:29.931Z"
   },
   {
    "duration": 24,
    "start_time": "2022-05-09T08:08:29.984Z"
   },
   {
    "duration": 13,
    "start_time": "2022-05-09T08:08:30.013Z"
   },
   {
    "duration": 30,
    "start_time": "2022-05-09T08:08:30.028Z"
   },
   {
    "duration": 5,
    "start_time": "2022-05-09T08:08:30.082Z"
   },
   {
    "duration": 5768,
    "start_time": "2022-05-09T08:08:30.089Z"
   },
   {
    "duration": 23,
    "start_time": "2022-05-09T08:08:35.859Z"
   },
   {
    "duration": 28,
    "start_time": "2022-05-09T08:08:35.885Z"
   },
   {
    "duration": 13,
    "start_time": "2022-05-09T08:08:35.915Z"
   },
   {
    "duration": 7,
    "start_time": "2022-05-09T08:08:35.930Z"
   },
   {
    "duration": 11,
    "start_time": "2022-05-09T08:08:35.939Z"
   },
   {
    "duration": 35,
    "start_time": "2022-05-09T08:08:35.952Z"
   },
   {
    "duration": 42,
    "start_time": "2022-05-09T08:08:35.989Z"
   },
   {
    "duration": 13,
    "start_time": "2022-05-09T08:08:36.033Z"
   },
   {
    "duration": 48,
    "start_time": "2022-05-09T08:08:36.049Z"
   },
   {
    "duration": 19,
    "start_time": "2022-05-09T08:08:36.099Z"
   },
   {
    "duration": 407,
    "start_time": "2022-05-09T08:08:36.120Z"
   },
   {
    "duration": 13,
    "start_time": "2022-05-09T08:08:36.530Z"
   },
   {
    "duration": 82,
    "start_time": "2022-05-09T08:08:36.545Z"
   },
   {
    "duration": 5,
    "start_time": "2022-05-09T08:08:36.630Z"
   },
   {
    "duration": 2581,
    "start_time": "2022-05-09T08:08:36.642Z"
   },
   {
    "duration": 9,
    "start_time": "2022-05-09T08:08:39.226Z"
   },
   {
    "duration": 12,
    "start_time": "2022-05-09T08:08:39.237Z"
   },
   {
    "duration": 41,
    "start_time": "2022-05-09T08:08:39.251Z"
   },
   {
    "duration": 42,
    "start_time": "2022-05-09T08:08:39.294Z"
   },
   {
    "duration": 1426,
    "start_time": "2022-05-09T08:08:39.338Z"
   },
   {
    "duration": 19,
    "start_time": "2022-05-09T08:08:40.766Z"
   },
   {
    "duration": 12,
    "start_time": "2022-05-09T08:08:40.787Z"
   },
   {
    "duration": 9,
    "start_time": "2022-05-09T08:08:40.802Z"
   },
   {
    "duration": 9,
    "start_time": "2022-05-09T08:08:40.813Z"
   },
   {
    "duration": 257,
    "start_time": "2022-05-09T08:08:40.824Z"
   },
   {
    "duration": 7,
    "start_time": "2022-05-09T08:08:41.084Z"
   },
   {
    "duration": 211,
    "start_time": "2022-05-09T08:08:41.093Z"
   },
   {
    "duration": 9,
    "start_time": "2022-05-09T08:08:41.307Z"
   },
   {
    "duration": 16,
    "start_time": "2022-05-09T08:08:41.318Z"
   },
   {
    "duration": 300,
    "start_time": "2022-05-09T08:08:41.337Z"
   },
   {
    "duration": 46,
    "start_time": "2022-05-09T08:08:41.639Z"
   },
   {
    "duration": 429,
    "start_time": "2022-05-09T08:08:41.688Z"
   },
   {
    "duration": 33,
    "start_time": "2022-05-09T08:08:42.120Z"
   },
   {
    "duration": 310,
    "start_time": "2022-05-09T08:08:42.155Z"
   },
   {
    "duration": 30,
    "start_time": "2022-05-09T08:08:42.467Z"
   },
   {
    "duration": 303,
    "start_time": "2022-05-09T08:08:42.499Z"
   },
   {
    "duration": 8,
    "start_time": "2022-05-09T08:08:42.805Z"
   },
   {
    "duration": 8,
    "start_time": "2022-05-09T08:08:42.816Z"
   },
   {
    "duration": 11,
    "start_time": "2022-05-09T08:08:42.826Z"
   },
   {
    "duration": 10,
    "start_time": "2022-05-09T08:08:42.840Z"
   },
   {
    "duration": 31,
    "start_time": "2022-05-09T08:08:42.853Z"
   },
   {
    "duration": 6,
    "start_time": "2022-05-09T08:08:54.807Z"
   },
   {
    "duration": 12,
    "start_time": "2022-05-09T08:12:48.426Z"
   },
   {
    "duration": 5,
    "start_time": "2022-05-09T08:12:49.615Z"
   },
   {
    "duration": 16,
    "start_time": "2022-05-09T08:12:56.216Z"
   },
   {
    "duration": 5,
    "start_time": "2022-05-09T08:12:56.643Z"
   },
   {
    "duration": 6,
    "start_time": "2022-05-09T08:12:58.365Z"
   },
   {
    "duration": 106,
    "start_time": "2022-05-09T08:15:11.347Z"
   },
   {
    "duration": 248,
    "start_time": "2022-05-09T08:16:29.315Z"
   },
   {
    "duration": 262,
    "start_time": "2022-05-09T08:16:49.756Z"
   },
   {
    "duration": 209,
    "start_time": "2022-05-09T08:16:58.291Z"
   },
   {
    "duration": 248,
    "start_time": "2022-05-09T08:17:03.380Z"
   },
   {
    "duration": 348,
    "start_time": "2022-05-09T08:17:19.652Z"
   },
   {
    "duration": 401,
    "start_time": "2022-05-09T08:17:47.691Z"
   },
   {
    "duration": 354,
    "start_time": "2022-05-09T08:18:42.912Z"
   },
   {
    "duration": 359,
    "start_time": "2022-05-09T08:18:57.113Z"
   },
   {
    "duration": 544,
    "start_time": "2022-05-09T08:19:24.777Z"
   },
   {
    "duration": 362,
    "start_time": "2022-05-09T08:19:35.505Z"
   },
   {
    "duration": 13,
    "start_time": "2022-05-09T08:27:24.637Z"
   },
   {
    "duration": 6,
    "start_time": "2022-05-09T08:28:18.066Z"
   },
   {
    "duration": 13,
    "start_time": "2022-05-09T08:29:19.871Z"
   },
   {
    "duration": 6,
    "start_time": "2022-05-09T08:29:28.327Z"
   },
   {
    "duration": 9,
    "start_time": "2022-05-09T08:30:07.063Z"
   },
   {
    "duration": 5,
    "start_time": "2022-05-09T08:30:21.738Z"
   },
   {
    "duration": 344,
    "start_time": "2022-05-09T08:32:41.731Z"
   },
   {
    "duration": 358,
    "start_time": "2022-05-09T08:33:01.690Z"
   },
   {
    "duration": 2455,
    "start_time": "2022-05-10T12:01:34.874Z"
   },
   {
    "duration": 1581,
    "start_time": "2022-05-10T12:01:37.333Z"
   },
   {
    "duration": 31,
    "start_time": "2022-05-10T12:01:38.924Z"
   },
   {
    "duration": 5,
    "start_time": "2022-05-10T12:01:38.960Z"
   },
   {
    "duration": 77,
    "start_time": "2022-05-10T12:01:38.968Z"
   },
   {
    "duration": 50,
    "start_time": "2022-05-10T12:01:39.047Z"
   },
   {
    "duration": 57,
    "start_time": "2022-05-10T12:01:39.099Z"
   },
   {
    "duration": 18,
    "start_time": "2022-05-10T12:01:39.159Z"
   },
   {
    "duration": 69,
    "start_time": "2022-05-10T12:01:39.180Z"
   },
   {
    "duration": 34,
    "start_time": "2022-05-10T12:01:39.255Z"
   },
   {
    "duration": 33,
    "start_time": "2022-05-10T12:01:39.292Z"
   },
   {
    "duration": 25,
    "start_time": "2022-05-10T12:01:39.328Z"
   },
   {
    "duration": 4,
    "start_time": "2022-05-10T12:01:39.356Z"
   },
   {
    "duration": 6217,
    "start_time": "2022-05-10T12:01:39.363Z"
   },
   {
    "duration": 19,
    "start_time": "2022-05-10T12:01:45.583Z"
   },
   {
    "duration": 22,
    "start_time": "2022-05-10T12:01:45.605Z"
   },
   {
    "duration": 29,
    "start_time": "2022-05-10T12:01:45.630Z"
   },
   {
    "duration": 16,
    "start_time": "2022-05-10T12:01:45.661Z"
   },
   {
    "duration": 20,
    "start_time": "2022-05-10T12:01:45.680Z"
   },
   {
    "duration": 12,
    "start_time": "2022-05-10T12:01:45.702Z"
   },
   {
    "duration": 36,
    "start_time": "2022-05-10T12:01:45.725Z"
   },
   {
    "duration": 8,
    "start_time": "2022-05-10T12:01:45.765Z"
   },
   {
    "duration": 53,
    "start_time": "2022-05-10T12:01:45.775Z"
   },
   {
    "duration": 27,
    "start_time": "2022-05-10T12:01:45.830Z"
   },
   {
    "duration": 404,
    "start_time": "2022-05-10T12:01:45.860Z"
   },
   {
    "duration": 13,
    "start_time": "2022-05-10T12:01:46.266Z"
   },
   {
    "duration": 82,
    "start_time": "2022-05-10T12:01:46.281Z"
   },
   {
    "duration": 4,
    "start_time": "2022-05-10T12:01:46.369Z"
   },
   {
    "duration": 2741,
    "start_time": "2022-05-10T12:01:46.376Z"
   },
   {
    "duration": 9,
    "start_time": "2022-05-10T12:01:49.120Z"
   },
   {
    "duration": 15,
    "start_time": "2022-05-10T12:01:49.131Z"
   },
   {
    "duration": 13,
    "start_time": "2022-05-10T12:01:49.149Z"
   },
   {
    "duration": 75,
    "start_time": "2022-05-10T12:01:49.165Z"
   },
   {
    "duration": 1509,
    "start_time": "2022-05-10T12:01:49.243Z"
   },
   {
    "duration": 12,
    "start_time": "2022-05-10T12:01:50.754Z"
   },
   {
    "duration": 17,
    "start_time": "2022-05-10T12:01:50.769Z"
   },
   {
    "duration": 38,
    "start_time": "2022-05-10T12:01:50.789Z"
   },
   {
    "duration": 12,
    "start_time": "2022-05-10T12:01:50.830Z"
   },
   {
    "duration": 349,
    "start_time": "2022-05-10T12:01:50.845Z"
   },
   {
    "duration": 7,
    "start_time": "2022-05-10T12:01:51.196Z"
   },
   {
    "duration": 227,
    "start_time": "2022-05-10T12:01:51.206Z"
   },
   {
    "duration": 10,
    "start_time": "2022-05-10T12:01:51.435Z"
   },
   {
    "duration": 13,
    "start_time": "2022-05-10T12:01:51.449Z"
   },
   {
    "duration": 407,
    "start_time": "2022-05-10T12:01:51.465Z"
   },
   {
    "duration": 59,
    "start_time": "2022-05-10T12:01:51.875Z"
   },
   {
    "duration": 507,
    "start_time": "2022-05-10T12:01:51.937Z"
   },
   {
    "duration": 35,
    "start_time": "2022-05-10T12:01:52.446Z"
   },
   {
    "duration": 303,
    "start_time": "2022-05-10T12:01:52.483Z"
   },
   {
    "duration": 46,
    "start_time": "2022-05-10T12:01:52.789Z"
   },
   {
    "duration": 321,
    "start_time": "2022-05-10T12:01:52.838Z"
   },
   {
    "duration": 13,
    "start_time": "2022-05-10T12:01:53.162Z"
   },
   {
    "duration": 19,
    "start_time": "2022-05-10T12:01:53.178Z"
   },
   {
    "duration": 33,
    "start_time": "2022-05-10T12:01:53.200Z"
   },
   {
    "duration": 13,
    "start_time": "2022-05-10T12:01:53.239Z"
   },
   {
    "duration": 13,
    "start_time": "2022-05-10T12:01:53.255Z"
   },
   {
    "duration": 632,
    "start_time": "2022-05-10T12:01:53.271Z"
   },
   {
    "duration": 23,
    "start_time": "2022-05-10T12:01:53.906Z"
   },
   {
    "duration": 8,
    "start_time": "2022-05-10T12:01:53.932Z"
   },
   {
    "duration": 16,
    "start_time": "2022-05-10T12:01:53.942Z"
   },
   {
    "duration": 6,
    "start_time": "2022-05-10T12:01:53.961Z"
   },
   {
    "duration": 9,
    "start_time": "2022-05-10T12:01:53.969Z"
   },
   {
    "duration": 402,
    "start_time": "2022-05-10T12:01:53.980Z"
   },
   {
    "duration": 798,
    "start_time": "2022-05-10T12:04:36.304Z"
   },
   {
    "duration": 11,
    "start_time": "2022-05-10T12:04:45.053Z"
   },
   {
    "duration": 123,
    "start_time": "2022-05-10T12:04:45.067Z"
   },
   {
    "duration": 49,
    "start_time": "2022-05-10T12:04:45.193Z"
   },
   {
    "duration": 7,
    "start_time": "2022-05-10T12:04:45.246Z"
   },
   {
    "duration": 75,
    "start_time": "2022-05-10T12:04:45.256Z"
   },
   {
    "duration": 42,
    "start_time": "2022-05-10T12:04:45.339Z"
   },
   {
    "duration": 48,
    "start_time": "2022-05-10T12:04:45.387Z"
   },
   {
    "duration": 15,
    "start_time": "2022-05-10T12:04:45.438Z"
   },
   {
    "duration": 44,
    "start_time": "2022-05-10T12:04:45.456Z"
   },
   {
    "duration": 42,
    "start_time": "2022-05-10T12:04:45.507Z"
   },
   {
    "duration": 18,
    "start_time": "2022-05-10T12:04:45.552Z"
   },
   {
    "duration": 60,
    "start_time": "2022-05-10T12:04:45.573Z"
   },
   {
    "duration": 5,
    "start_time": "2022-05-10T12:04:45.637Z"
   },
   {
    "duration": 6963,
    "start_time": "2022-05-10T12:04:45.646Z"
   },
   {
    "duration": 30,
    "start_time": "2022-05-10T12:04:52.613Z"
   },
   {
    "duration": 6,
    "start_time": "2022-05-10T12:04:52.646Z"
   },
   {
    "duration": 10,
    "start_time": "2022-05-10T12:04:52.655Z"
   },
   {
    "duration": 14,
    "start_time": "2022-05-10T12:04:52.667Z"
   },
   {
    "duration": 45,
    "start_time": "2022-05-10T12:04:52.684Z"
   },
   {
    "duration": 11,
    "start_time": "2022-05-10T12:04:52.732Z"
   },
   {
    "duration": 38,
    "start_time": "2022-05-10T12:04:52.746Z"
   },
   {
    "duration": 11,
    "start_time": "2022-05-10T12:04:52.786Z"
   },
   {
    "duration": 66,
    "start_time": "2022-05-10T12:04:52.800Z"
   },
   {
    "duration": 21,
    "start_time": "2022-05-10T12:04:52.869Z"
   },
   {
    "duration": 681,
    "start_time": "2022-05-10T12:04:52.894Z"
   },
   {
    "duration": 15,
    "start_time": "2022-05-10T12:04:53.580Z"
   },
   {
    "duration": 111,
    "start_time": "2022-05-10T12:04:53.598Z"
   },
   {
    "duration": 4,
    "start_time": "2022-05-10T12:04:53.730Z"
   },
   {
    "duration": 4860,
    "start_time": "2022-05-10T12:04:53.738Z"
   },
   {
    "duration": 10,
    "start_time": "2022-05-10T12:04:58.601Z"
   },
   {
    "duration": 10,
    "start_time": "2022-05-10T12:04:58.626Z"
   },
   {
    "duration": 18,
    "start_time": "2022-05-10T12:04:58.638Z"
   },
   {
    "duration": 92,
    "start_time": "2022-05-10T12:04:58.659Z"
   },
   {
    "duration": 2191,
    "start_time": "2022-05-10T12:04:58.753Z"
   },
   {
    "duration": 14,
    "start_time": "2022-05-10T12:05:00.947Z"
   },
   {
    "duration": 17,
    "start_time": "2022-05-10T12:05:00.964Z"
   },
   {
    "duration": 47,
    "start_time": "2022-05-10T12:05:00.984Z"
   },
   {
    "duration": 13,
    "start_time": "2022-05-10T12:05:01.033Z"
   },
   {
    "duration": 343,
    "start_time": "2022-05-10T12:05:01.048Z"
   },
   {
    "duration": 10,
    "start_time": "2022-05-10T12:05:01.394Z"
   },
   {
    "duration": 302,
    "start_time": "2022-05-10T12:05:01.430Z"
   },
   {
    "duration": 14,
    "start_time": "2022-05-10T12:05:01.737Z"
   },
   {
    "duration": 35,
    "start_time": "2022-05-10T12:05:01.754Z"
   },
   {
    "duration": 285,
    "start_time": "2022-05-10T12:05:01.791Z"
   },
   {
    "duration": 65,
    "start_time": "2022-05-10T12:05:02.079Z"
   },
   {
    "duration": 321,
    "start_time": "2022-05-10T12:05:02.147Z"
   },
   {
    "duration": 64,
    "start_time": "2022-05-10T12:05:02.470Z"
   },
   {
    "duration": 387,
    "start_time": "2022-05-10T12:05:02.537Z"
   },
   {
    "duration": 31,
    "start_time": "2022-05-10T12:05:02.927Z"
   },
   {
    "duration": 448,
    "start_time": "2022-05-10T12:05:02.961Z"
   },
   {
    "duration": 22,
    "start_time": "2022-05-10T12:05:03.411Z"
   },
   {
    "duration": 15,
    "start_time": "2022-05-10T12:05:03.437Z"
   },
   {
    "duration": 32,
    "start_time": "2022-05-10T12:05:03.454Z"
   },
   {
    "duration": 12,
    "start_time": "2022-05-10T12:05:03.488Z"
   },
   {
    "duration": 24,
    "start_time": "2022-05-10T12:05:03.502Z"
   },
   {
    "duration": 405,
    "start_time": "2022-05-10T12:05:03.529Z"
   },
   {
    "duration": 16,
    "start_time": "2022-05-10T12:05:03.936Z"
   },
   {
    "duration": 11,
    "start_time": "2022-05-10T12:05:03.955Z"
   },
   {
    "duration": 22,
    "start_time": "2022-05-10T12:05:03.968Z"
   },
   {
    "duration": 48,
    "start_time": "2022-05-10T12:05:03.993Z"
   },
   {
    "duration": 20,
    "start_time": "2022-05-10T12:05:04.043Z"
   },
   {
    "duration": 433,
    "start_time": "2022-05-10T12:05:04.066Z"
   },
   {
    "duration": 490,
    "start_time": "2022-05-10T12:05:43.892Z"
   },
   {
    "duration": 4,
    "start_time": "2022-05-10T12:05:48.518Z"
   },
   {
    "duration": 76,
    "start_time": "2022-05-10T12:05:48.525Z"
   },
   {
    "duration": 46,
    "start_time": "2022-05-10T12:05:48.603Z"
   },
   {
    "duration": 6,
    "start_time": "2022-05-10T12:05:48.653Z"
   },
   {
    "duration": 86,
    "start_time": "2022-05-10T12:05:48.665Z"
   },
   {
    "duration": 32,
    "start_time": "2022-05-10T12:05:48.754Z"
   },
   {
    "duration": 66,
    "start_time": "2022-05-10T12:05:48.789Z"
   },
   {
    "duration": 18,
    "start_time": "2022-05-10T12:05:48.858Z"
   },
   {
    "duration": 187,
    "start_time": "2022-05-10T12:05:48.881Z"
   },
   {
    "duration": 52,
    "start_time": "2022-05-10T12:05:49.072Z"
   },
   {
    "duration": 19,
    "start_time": "2022-05-10T12:05:49.127Z"
   },
   {
    "duration": 33,
    "start_time": "2022-05-10T12:05:49.149Z"
   },
   {
    "duration": 5,
    "start_time": "2022-05-10T12:05:49.185Z"
   },
   {
    "duration": 13393,
    "start_time": "2022-05-10T12:05:49.193Z"
   },
   {
    "duration": 45,
    "start_time": "2022-05-10T12:06:02.590Z"
   },
   {
    "duration": 9,
    "start_time": "2022-05-10T12:06:02.638Z"
   },
   {
    "duration": 16,
    "start_time": "2022-05-10T12:06:02.650Z"
   },
   {
    "duration": 10,
    "start_time": "2022-05-10T12:06:02.669Z"
   },
   {
    "duration": 12,
    "start_time": "2022-05-10T12:06:02.682Z"
   },
   {
    "duration": 9,
    "start_time": "2022-05-10T12:06:02.726Z"
   },
   {
    "duration": 26,
    "start_time": "2022-05-10T12:06:02.737Z"
   },
   {
    "duration": 10,
    "start_time": "2022-05-10T12:06:02.766Z"
   },
   {
    "duration": 84,
    "start_time": "2022-05-10T12:06:02.780Z"
   },
   {
    "duration": 15,
    "start_time": "2022-05-10T12:06:02.873Z"
   },
   {
    "duration": 611,
    "start_time": "2022-05-10T12:06:02.892Z"
   },
   {
    "duration": 20,
    "start_time": "2022-05-10T12:06:03.506Z"
   },
   {
    "duration": 62,
    "start_time": "2022-05-10T12:06:03.529Z"
   },
   {
    "duration": 32,
    "start_time": "2022-05-10T12:06:03.594Z"
   },
   {
    "duration": 2678,
    "start_time": "2022-05-10T12:06:03.629Z"
   },
   {
    "duration": 16,
    "start_time": "2022-05-10T12:06:06.310Z"
   },
   {
    "duration": 11,
    "start_time": "2022-05-10T12:06:06.329Z"
   },
   {
    "duration": 13,
    "start_time": "2022-05-10T12:06:06.343Z"
   },
   {
    "duration": 190,
    "start_time": "2022-05-10T12:06:06.358Z"
   },
   {
    "duration": 1903,
    "start_time": "2022-05-10T12:06:06.551Z"
   },
   {
    "duration": 13,
    "start_time": "2022-05-10T12:06:08.457Z"
   },
   {
    "duration": 13,
    "start_time": "2022-05-10T12:06:08.472Z"
   },
   {
    "duration": 38,
    "start_time": "2022-05-10T12:06:08.488Z"
   },
   {
    "duration": 9,
    "start_time": "2022-05-10T12:06:08.533Z"
   },
   {
    "duration": 331,
    "start_time": "2022-05-10T12:06:08.545Z"
   },
   {
    "duration": 10,
    "start_time": "2022-05-10T12:06:08.879Z"
   },
   {
    "duration": 292,
    "start_time": "2022-05-10T12:06:08.891Z"
   },
   {
    "duration": 13,
    "start_time": "2022-05-10T12:06:09.186Z"
   },
   {
    "duration": 32,
    "start_time": "2022-05-10T12:06:09.202Z"
   },
   {
    "duration": 439,
    "start_time": "2022-05-10T12:06:09.238Z"
   },
   {
    "duration": 53,
    "start_time": "2022-05-10T12:06:09.679Z"
   },
   {
    "duration": 425,
    "start_time": "2022-05-10T12:06:09.736Z"
   },
   {
    "duration": 45,
    "start_time": "2022-05-10T12:06:10.164Z"
   },
   {
    "duration": 418,
    "start_time": "2022-05-10T12:06:10.225Z"
   },
   {
    "duration": 26,
    "start_time": "2022-05-10T12:06:10.645Z"
   },
   {
    "duration": 439,
    "start_time": "2022-05-10T12:06:10.673Z"
   },
   {
    "duration": 14,
    "start_time": "2022-05-10T12:06:11.123Z"
   },
   {
    "duration": 12,
    "start_time": "2022-05-10T12:06:11.140Z"
   },
   {
    "duration": 15,
    "start_time": "2022-05-10T12:06:11.155Z"
   },
   {
    "duration": 7,
    "start_time": "2022-05-10T12:06:11.173Z"
   },
   {
    "duration": 46,
    "start_time": "2022-05-10T12:06:11.183Z"
   },
   {
    "duration": 550,
    "start_time": "2022-05-10T12:06:11.232Z"
   },
   {
    "duration": 17,
    "start_time": "2022-05-10T12:06:11.785Z"
   },
   {
    "duration": 28,
    "start_time": "2022-05-10T12:06:11.805Z"
   },
   {
    "duration": 17,
    "start_time": "2022-05-10T12:06:11.836Z"
   },
   {
    "duration": 7,
    "start_time": "2022-05-10T12:06:11.856Z"
   },
   {
    "duration": 13,
    "start_time": "2022-05-10T12:06:11.865Z"
   },
   {
    "duration": 548,
    "start_time": "2022-05-10T12:06:11.881Z"
   },
   {
    "duration": 140,
    "start_time": "2022-05-10T12:07:15.162Z"
   },
   {
    "duration": 934,
    "start_time": "2022-05-10T12:07:30.907Z"
   },
   {
    "duration": 544,
    "start_time": "2022-05-10T12:08:19.364Z"
   },
   {
    "duration": 694,
    "start_time": "2022-05-10T12:08:29.667Z"
   },
   {
    "duration": 525,
    "start_time": "2022-05-10T12:09:21.800Z"
   },
   {
    "duration": 5,
    "start_time": "2022-05-10T12:09:30.379Z"
   },
   {
    "duration": 118,
    "start_time": "2022-05-10T12:09:30.388Z"
   },
   {
    "duration": 23,
    "start_time": "2022-05-10T12:09:30.509Z"
   },
   {
    "duration": 18,
    "start_time": "2022-05-10T12:09:30.534Z"
   },
   {
    "duration": 51,
    "start_time": "2022-05-10T12:09:30.557Z"
   },
   {
    "duration": 48,
    "start_time": "2022-05-10T12:09:30.611Z"
   },
   {
    "duration": 32,
    "start_time": "2022-05-10T12:09:30.661Z"
   },
   {
    "duration": 29,
    "start_time": "2022-05-10T12:09:30.695Z"
   },
   {
    "duration": 39,
    "start_time": "2022-05-10T12:09:30.728Z"
   },
   {
    "duration": 23,
    "start_time": "2022-05-10T12:09:30.769Z"
   },
   {
    "duration": 13,
    "start_time": "2022-05-10T12:09:30.794Z"
   },
   {
    "duration": 36,
    "start_time": "2022-05-10T12:09:30.826Z"
   },
   {
    "duration": 6,
    "start_time": "2022-05-10T12:09:30.864Z"
   },
   {
    "duration": 6361,
    "start_time": "2022-05-10T12:09:31.006Z"
   },
   {
    "duration": 20,
    "start_time": "2022-05-10T12:09:37.369Z"
   },
   {
    "duration": 8,
    "start_time": "2022-05-10T12:09:37.392Z"
   },
   {
    "duration": 33,
    "start_time": "2022-05-10T12:09:37.403Z"
   },
   {
    "duration": 14,
    "start_time": "2022-05-10T12:09:37.439Z"
   },
   {
    "duration": 9,
    "start_time": "2022-05-10T12:09:37.455Z"
   },
   {
    "duration": 10,
    "start_time": "2022-05-10T12:09:37.467Z"
   },
   {
    "duration": 69,
    "start_time": "2022-05-10T12:09:37.480Z"
   },
   {
    "duration": 7,
    "start_time": "2022-05-10T12:09:37.552Z"
   },
   {
    "duration": 38,
    "start_time": "2022-05-10T12:09:37.561Z"
   },
   {
    "duration": 18,
    "start_time": "2022-05-10T12:09:37.625Z"
   },
   {
    "duration": 428,
    "start_time": "2022-05-10T12:09:37.646Z"
   },
   {
    "duration": 13,
    "start_time": "2022-05-10T12:09:38.076Z"
   },
   {
    "duration": 92,
    "start_time": "2022-05-10T12:09:38.091Z"
   },
   {
    "duration": 5,
    "start_time": "2022-05-10T12:09:38.186Z"
   },
   {
    "duration": 3158,
    "start_time": "2022-05-10T12:09:38.193Z"
   },
   {
    "duration": 9,
    "start_time": "2022-05-10T12:09:41.354Z"
   },
   {
    "duration": 62,
    "start_time": "2022-05-10T12:09:41.365Z"
   },
   {
    "duration": 34,
    "start_time": "2022-05-10T12:09:41.430Z"
   },
   {
    "duration": 402,
    "start_time": "2022-05-10T12:09:41.466Z"
   },
   {
    "duration": 4157,
    "start_time": "2022-05-10T12:09:41.870Z"
   },
   {
    "duration": 14,
    "start_time": "2022-05-10T12:09:46.030Z"
   },
   {
    "duration": 21,
    "start_time": "2022-05-10T12:09:46.047Z"
   },
   {
    "duration": 62,
    "start_time": "2022-05-10T12:09:46.071Z"
   },
   {
    "duration": 25,
    "start_time": "2022-05-10T12:09:46.136Z"
   },
   {
    "duration": 595,
    "start_time": "2022-05-10T12:09:46.164Z"
   },
   {
    "duration": 10,
    "start_time": "2022-05-10T12:09:46.764Z"
   },
   {
    "duration": 639,
    "start_time": "2022-05-10T12:09:46.839Z"
   },
   {
    "duration": 13,
    "start_time": "2022-05-10T12:09:47.526Z"
   },
   {
    "duration": 34,
    "start_time": "2022-05-10T12:09:47.542Z"
   },
   {
    "duration": 752,
    "start_time": "2022-05-10T12:09:47.625Z"
   },
   {
    "duration": 101,
    "start_time": "2022-05-10T12:09:48.431Z"
   },
   {
    "duration": 770,
    "start_time": "2022-05-10T12:09:48.540Z"
   },
   {
    "duration": 50,
    "start_time": "2022-05-10T12:09:49.312Z"
   },
   {
    "duration": 435,
    "start_time": "2022-05-10T12:09:49.365Z"
   },
   {
    "duration": 36,
    "start_time": "2022-05-10T12:09:49.808Z"
   },
   {
    "duration": 557,
    "start_time": "2022-05-10T12:09:49.852Z"
   },
   {
    "duration": 20,
    "start_time": "2022-05-10T12:09:50.412Z"
   },
   {
    "duration": 82,
    "start_time": "2022-05-10T12:09:50.436Z"
   },
   {
    "duration": 65,
    "start_time": "2022-05-10T12:09:50.521Z"
   },
   {
    "duration": 23,
    "start_time": "2022-05-10T12:09:50.589Z"
   },
   {
    "duration": 50,
    "start_time": "2022-05-10T12:09:50.615Z"
   },
   {
    "duration": 566,
    "start_time": "2022-05-10T12:09:50.667Z"
   },
   {
    "duration": 16,
    "start_time": "2022-05-10T12:09:51.236Z"
   },
   {
    "duration": 17,
    "start_time": "2022-05-10T12:09:51.255Z"
   },
   {
    "duration": 27,
    "start_time": "2022-05-10T12:09:51.275Z"
   },
   {
    "duration": 22,
    "start_time": "2022-05-10T12:09:51.305Z"
   },
   {
    "duration": 46,
    "start_time": "2022-05-10T12:09:51.330Z"
   },
   {
    "duration": 560,
    "start_time": "2022-05-10T12:09:51.379Z"
   },
   {
    "duration": 780,
    "start_time": "2022-05-10T12:10:18.510Z"
   },
   {
    "duration": 585,
    "start_time": "2022-05-10T12:11:06.842Z"
   },
   {
    "duration": 606,
    "start_time": "2022-05-10T12:11:14.925Z"
   },
   {
    "duration": 564,
    "start_time": "2022-05-10T12:11:24.017Z"
   },
   {
    "duration": 736,
    "start_time": "2022-05-10T12:13:00.716Z"
   },
   {
    "duration": 720,
    "start_time": "2022-05-10T12:13:14.447Z"
   },
   {
    "duration": 609,
    "start_time": "2022-05-10T12:13:57.819Z"
   },
   {
    "duration": 608,
    "start_time": "2022-05-10T12:14:06.205Z"
   },
   {
    "duration": 152,
    "start_time": "2022-05-10T12:14:35.016Z"
   },
   {
    "duration": 660,
    "start_time": "2022-05-10T12:14:41.917Z"
   },
   {
    "duration": 4,
    "start_time": "2022-05-10T12:14:48.953Z"
   },
   {
    "duration": 117,
    "start_time": "2022-05-10T12:14:48.959Z"
   },
   {
    "duration": 57,
    "start_time": "2022-05-10T12:14:49.080Z"
   },
   {
    "duration": 6,
    "start_time": "2022-05-10T12:14:49.140Z"
   },
   {
    "duration": 37,
    "start_time": "2022-05-10T12:14:49.149Z"
   },
   {
    "duration": 76,
    "start_time": "2022-05-10T12:14:49.189Z"
   },
   {
    "duration": 26,
    "start_time": "2022-05-10T12:14:49.267Z"
   },
   {
    "duration": 64,
    "start_time": "2022-05-10T12:14:49.296Z"
   },
   {
    "duration": 34,
    "start_time": "2022-05-10T12:14:49.366Z"
   },
   {
    "duration": 33,
    "start_time": "2022-05-10T12:14:49.403Z"
   },
   {
    "duration": 29,
    "start_time": "2022-05-10T12:14:49.440Z"
   },
   {
    "duration": 27,
    "start_time": "2022-05-10T12:14:49.472Z"
   },
   {
    "duration": 5,
    "start_time": "2022-05-10T12:14:49.501Z"
   },
   {
    "duration": 8493,
    "start_time": "2022-05-10T12:14:49.525Z"
   },
   {
    "duration": 29,
    "start_time": "2022-05-10T12:14:58.021Z"
   },
   {
    "duration": 16,
    "start_time": "2022-05-10T12:14:58.053Z"
   },
   {
    "duration": 8,
    "start_time": "2022-05-10T12:14:58.072Z"
   },
   {
    "duration": 12,
    "start_time": "2022-05-10T12:14:58.082Z"
   },
   {
    "duration": 37,
    "start_time": "2022-05-10T12:14:58.096Z"
   },
   {
    "duration": 17,
    "start_time": "2022-05-10T12:14:58.135Z"
   },
   {
    "duration": 24,
    "start_time": "2022-05-10T12:14:58.155Z"
   },
   {
    "duration": 45,
    "start_time": "2022-05-10T12:14:58.182Z"
   },
   {
    "duration": 43,
    "start_time": "2022-05-10T12:14:58.231Z"
   },
   {
    "duration": 10,
    "start_time": "2022-05-10T12:14:58.280Z"
   },
   {
    "duration": 563,
    "start_time": "2022-05-10T12:14:58.293Z"
   },
   {
    "duration": 11,
    "start_time": "2022-05-10T12:14:58.858Z"
   },
   {
    "duration": 88,
    "start_time": "2022-05-10T12:14:58.871Z"
   },
   {
    "duration": 4,
    "start_time": "2022-05-10T12:14:58.962Z"
   },
   {
    "duration": 3482,
    "start_time": "2022-05-10T12:14:58.969Z"
   },
   {
    "duration": 10,
    "start_time": "2022-05-10T12:15:02.456Z"
   },
   {
    "duration": 61,
    "start_time": "2022-05-10T12:15:02.469Z"
   },
   {
    "duration": 47,
    "start_time": "2022-05-10T12:15:02.533Z"
   },
   {
    "duration": 93,
    "start_time": "2022-05-10T12:15:02.583Z"
   },
   {
    "duration": 3474,
    "start_time": "2022-05-10T12:15:02.680Z"
   },
   {
    "duration": 12,
    "start_time": "2022-05-10T12:15:06.158Z"
   },
   {
    "duration": 23,
    "start_time": "2022-05-10T12:15:06.173Z"
   },
   {
    "duration": 37,
    "start_time": "2022-05-10T12:15:06.199Z"
   },
   {
    "duration": 34,
    "start_time": "2022-05-10T12:15:06.240Z"
   },
   {
    "duration": 270,
    "start_time": "2022-05-10T12:15:06.278Z"
   },
   {
    "duration": 10,
    "start_time": "2022-05-10T12:15:06.551Z"
   },
   {
    "duration": 308,
    "start_time": "2022-05-10T12:15:06.564Z"
   },
   {
    "duration": 14,
    "start_time": "2022-05-10T12:15:06.874Z"
   },
   {
    "duration": 42,
    "start_time": "2022-05-10T12:15:06.891Z"
   },
   {
    "duration": 347,
    "start_time": "2022-05-10T12:15:06.962Z"
   },
   {
    "duration": 44,
    "start_time": "2022-05-10T12:15:07.312Z"
   },
   {
    "duration": 436,
    "start_time": "2022-05-10T12:15:07.359Z"
   },
   {
    "duration": 56,
    "start_time": "2022-05-10T12:15:07.798Z"
   },
   {
    "duration": 436,
    "start_time": "2022-05-10T12:15:07.856Z"
   },
   {
    "duration": 39,
    "start_time": "2022-05-10T12:15:08.295Z"
   },
   {
    "duration": 441,
    "start_time": "2022-05-10T12:15:08.336Z"
   },
   {
    "duration": 13,
    "start_time": "2022-05-10T12:15:08.779Z"
   },
   {
    "duration": 33,
    "start_time": "2022-05-10T12:15:08.794Z"
   },
   {
    "duration": 35,
    "start_time": "2022-05-10T12:15:08.830Z"
   },
   {
    "duration": 7,
    "start_time": "2022-05-10T12:15:08.869Z"
   },
   {
    "duration": 12,
    "start_time": "2022-05-10T12:15:08.878Z"
   },
   {
    "duration": 423,
    "start_time": "2022-05-10T12:15:08.893Z"
   },
   {
    "duration": 20,
    "start_time": "2022-05-10T12:15:09.320Z"
   },
   {
    "duration": 26,
    "start_time": "2022-05-10T12:15:09.344Z"
   },
   {
    "duration": 15,
    "start_time": "2022-05-10T12:15:09.372Z"
   },
   {
    "duration": 6,
    "start_time": "2022-05-10T12:15:09.390Z"
   },
   {
    "duration": 35,
    "start_time": "2022-05-10T12:15:09.398Z"
   },
   {
    "duration": 745,
    "start_time": "2022-05-10T12:15:09.436Z"
   },
   {
    "duration": 688,
    "start_time": "2022-05-10T12:16:30.990Z"
   },
   {
    "duration": 5,
    "start_time": "2022-05-10T12:16:37.566Z"
   },
   {
    "duration": 88,
    "start_time": "2022-05-10T12:16:37.574Z"
   },
   {
    "duration": 21,
    "start_time": "2022-05-10T12:16:37.665Z"
   },
   {
    "duration": 37,
    "start_time": "2022-05-10T12:16:37.688Z"
   },
   {
    "duration": 45,
    "start_time": "2022-05-10T12:16:37.728Z"
   },
   {
    "duration": 86,
    "start_time": "2022-05-10T12:16:37.775Z"
   },
   {
    "duration": 24,
    "start_time": "2022-05-10T12:16:37.863Z"
   },
   {
    "duration": 71,
    "start_time": "2022-05-10T12:16:37.890Z"
   },
   {
    "duration": 26,
    "start_time": "2022-05-10T12:16:37.965Z"
   },
   {
    "duration": 40,
    "start_time": "2022-05-10T12:16:37.993Z"
   },
   {
    "duration": 17,
    "start_time": "2022-05-10T12:16:38.036Z"
   },
   {
    "duration": 29,
    "start_time": "2022-05-10T12:16:38.056Z"
   },
   {
    "duration": 16,
    "start_time": "2022-05-10T12:16:38.087Z"
   },
   {
    "duration": 6928,
    "start_time": "2022-05-10T12:16:38.105Z"
   },
   {
    "duration": 33,
    "start_time": "2022-05-10T12:16:45.036Z"
   },
   {
    "duration": 20,
    "start_time": "2022-05-10T12:16:45.077Z"
   },
   {
    "duration": 32,
    "start_time": "2022-05-10T12:16:45.101Z"
   },
   {
    "duration": 39,
    "start_time": "2022-05-10T12:16:45.137Z"
   },
   {
    "duration": 13,
    "start_time": "2022-05-10T12:16:45.179Z"
   },
   {
    "duration": 22,
    "start_time": "2022-05-10T12:16:45.195Z"
   },
   {
    "duration": 35,
    "start_time": "2022-05-10T12:16:45.220Z"
   },
   {
    "duration": 12,
    "start_time": "2022-05-10T12:16:45.259Z"
   },
   {
    "duration": 72,
    "start_time": "2022-05-10T12:16:45.275Z"
   },
   {
    "duration": 15,
    "start_time": "2022-05-10T12:16:45.357Z"
   },
   {
    "duration": 591,
    "start_time": "2022-05-10T12:16:45.375Z"
   },
   {
    "duration": 18,
    "start_time": "2022-05-10T12:16:45.970Z"
   },
   {
    "duration": 117,
    "start_time": "2022-05-10T12:16:45.990Z"
   },
   {
    "duration": 20,
    "start_time": "2022-05-10T12:16:46.110Z"
   },
   {
    "duration": 3286,
    "start_time": "2022-05-10T12:16:46.134Z"
   },
   {
    "duration": 10,
    "start_time": "2022-05-10T12:16:49.422Z"
   },
   {
    "duration": 31,
    "start_time": "2022-05-10T12:16:49.435Z"
   },
   {
    "duration": 14,
    "start_time": "2022-05-10T12:16:49.469Z"
   },
   {
    "duration": 64,
    "start_time": "2022-05-10T12:16:49.486Z"
   },
   {
    "duration": 2718,
    "start_time": "2022-05-10T12:16:49.554Z"
   },
   {
    "duration": 54,
    "start_time": "2022-05-10T12:16:52.277Z"
   },
   {
    "duration": 13,
    "start_time": "2022-05-10T12:16:52.334Z"
   },
   {
    "duration": 24,
    "start_time": "2022-05-10T12:16:52.350Z"
   },
   {
    "duration": 52,
    "start_time": "2022-05-10T12:16:52.377Z"
   },
   {
    "duration": 628,
    "start_time": "2022-05-10T12:16:52.432Z"
   },
   {
    "duration": 67,
    "start_time": "2022-05-10T12:16:53.063Z"
   },
   {
    "duration": 716,
    "start_time": "2022-05-10T12:16:53.133Z"
   },
   {
    "duration": 14,
    "start_time": "2022-05-10T12:16:53.853Z"
   },
   {
    "duration": 35,
    "start_time": "2022-05-10T12:16:53.926Z"
   },
   {
    "duration": 804,
    "start_time": "2022-05-10T12:16:53.963Z"
   },
   {
    "duration": 97,
    "start_time": "2022-05-10T12:16:54.769Z"
   },
   {
    "duration": 605,
    "start_time": "2022-05-10T12:16:54.869Z"
   },
   {
    "duration": 60,
    "start_time": "2022-05-10T12:16:55.478Z"
   },
   {
    "duration": 435,
    "start_time": "2022-05-10T12:16:55.540Z"
   },
   {
    "duration": 31,
    "start_time": "2022-05-10T12:16:55.978Z"
   },
   {
    "duration": 363,
    "start_time": "2022-05-10T12:16:56.011Z"
   },
   {
    "duration": 11,
    "start_time": "2022-05-10T12:16:56.378Z"
   },
   {
    "duration": 32,
    "start_time": "2022-05-10T12:16:56.392Z"
   },
   {
    "duration": 18,
    "start_time": "2022-05-10T12:16:56.428Z"
   },
   {
    "duration": 12,
    "start_time": "2022-05-10T12:16:56.450Z"
   },
   {
    "duration": 9,
    "start_time": "2022-05-10T12:16:56.464Z"
   },
   {
    "duration": 544,
    "start_time": "2022-05-10T12:16:56.477Z"
   },
   {
    "duration": 19,
    "start_time": "2022-05-10T12:16:57.025Z"
   },
   {
    "duration": 15,
    "start_time": "2022-05-10T12:16:57.047Z"
   },
   {
    "duration": 16,
    "start_time": "2022-05-10T12:16:57.065Z"
   },
   {
    "duration": 6,
    "start_time": "2022-05-10T12:16:57.084Z"
   },
   {
    "duration": 9,
    "start_time": "2022-05-10T12:16:57.124Z"
   },
   {
    "duration": 396,
    "start_time": "2022-05-10T12:16:57.136Z"
   },
   {
    "duration": 694,
    "start_time": "2022-05-10T12:17:56.888Z"
   },
   {
    "duration": 534,
    "start_time": "2022-05-10T12:18:37.743Z"
   },
   {
    "duration": 1302,
    "start_time": "2022-05-10T12:21:00.946Z"
   },
   {
    "duration": 1242,
    "start_time": "2022-05-10T12:21:42.809Z"
   },
   {
    "duration": 1166,
    "start_time": "2022-05-10T12:21:51.514Z"
   },
   {
    "duration": 1130,
    "start_time": "2022-05-10T12:22:02.657Z"
   },
   {
    "duration": 6,
    "start_time": "2022-05-10T12:22:08.025Z"
   },
   {
    "duration": 116,
    "start_time": "2022-05-10T12:22:08.055Z"
   },
   {
    "duration": 57,
    "start_time": "2022-05-10T12:22:08.175Z"
   },
   {
    "duration": 7,
    "start_time": "2022-05-10T12:22:08.236Z"
   },
   {
    "duration": 70,
    "start_time": "2022-05-10T12:22:08.246Z"
   },
   {
    "duration": 46,
    "start_time": "2022-05-10T12:22:08.326Z"
   },
   {
    "duration": 53,
    "start_time": "2022-05-10T12:22:08.376Z"
   },
   {
    "duration": 22,
    "start_time": "2022-05-10T12:22:08.432Z"
   },
   {
    "duration": 45,
    "start_time": "2022-05-10T12:22:08.457Z"
   },
   {
    "duration": 61,
    "start_time": "2022-05-10T12:22:08.505Z"
   },
   {
    "duration": 19,
    "start_time": "2022-05-10T12:22:08.569Z"
   },
   {
    "duration": 56,
    "start_time": "2022-05-10T12:22:08.590Z"
   },
   {
    "duration": 12,
    "start_time": "2022-05-10T12:22:08.650Z"
   },
   {
    "duration": 7132,
    "start_time": "2022-05-10T12:22:08.665Z"
   },
   {
    "duration": 44,
    "start_time": "2022-05-10T12:22:15.805Z"
   },
   {
    "duration": 13,
    "start_time": "2022-05-10T12:22:15.852Z"
   },
   {
    "duration": 24,
    "start_time": "2022-05-10T12:22:15.868Z"
   },
   {
    "duration": 28,
    "start_time": "2022-05-10T12:22:15.896Z"
   },
   {
    "duration": 37,
    "start_time": "2022-05-10T12:22:15.927Z"
   },
   {
    "duration": 17,
    "start_time": "2022-05-10T12:22:15.967Z"
   },
   {
    "duration": 34,
    "start_time": "2022-05-10T12:22:15.987Z"
   },
   {
    "duration": 38,
    "start_time": "2022-05-10T12:22:16.023Z"
   },
   {
    "duration": 49,
    "start_time": "2022-05-10T12:22:16.067Z"
   },
   {
    "duration": 58,
    "start_time": "2022-05-10T12:22:16.119Z"
   },
   {
    "duration": 444,
    "start_time": "2022-05-10T12:22:16.180Z"
   },
   {
    "duration": 17,
    "start_time": "2022-05-10T12:22:16.627Z"
   },
   {
    "duration": 90,
    "start_time": "2022-05-10T12:22:16.647Z"
   },
   {
    "duration": 5,
    "start_time": "2022-05-10T12:22:16.740Z"
   },
   {
    "duration": 3247,
    "start_time": "2022-05-10T12:22:16.749Z"
   },
   {
    "duration": 9,
    "start_time": "2022-05-10T12:22:19.999Z"
   },
   {
    "duration": 18,
    "start_time": "2022-05-10T12:22:20.024Z"
   },
   {
    "duration": 33,
    "start_time": "2022-05-10T12:22:20.046Z"
   },
   {
    "duration": 64,
    "start_time": "2022-05-10T12:22:20.083Z"
   },
   {
    "duration": 1793,
    "start_time": "2022-05-10T12:22:20.152Z"
   },
   {
    "duration": 16,
    "start_time": "2022-05-10T12:22:21.949Z"
   },
   {
    "duration": 22,
    "start_time": "2022-05-10T12:22:21.969Z"
   },
   {
    "duration": 35,
    "start_time": "2022-05-10T12:22:21.994Z"
   },
   {
    "duration": 52,
    "start_time": "2022-05-10T12:22:22.032Z"
   },
   {
    "duration": 357,
    "start_time": "2022-05-10T12:22:22.087Z"
   },
   {
    "duration": 9,
    "start_time": "2022-05-10T12:22:22.448Z"
   },
   {
    "duration": 268,
    "start_time": "2022-05-10T12:22:22.459Z"
   },
   {
    "duration": 15,
    "start_time": "2022-05-10T12:22:22.737Z"
   },
   {
    "duration": 38,
    "start_time": "2022-05-10T12:22:22.755Z"
   },
   {
    "duration": 340,
    "start_time": "2022-05-10T12:22:22.795Z"
   },
   {
    "duration": 57,
    "start_time": "2022-05-10T12:22:23.138Z"
   },
   {
    "duration": 675,
    "start_time": "2022-05-10T12:22:23.198Z"
   },
   {
    "duration": 52,
    "start_time": "2022-05-10T12:22:23.876Z"
   },
   {
    "duration": 326,
    "start_time": "2022-05-10T12:22:23.931Z"
   },
   {
    "duration": 29,
    "start_time": "2022-05-10T12:22:24.259Z"
   },
   {
    "duration": 412,
    "start_time": "2022-05-10T12:22:24.292Z"
   },
   {
    "duration": 25,
    "start_time": "2022-05-10T12:22:24.707Z"
   },
   {
    "duration": 40,
    "start_time": "2022-05-10T12:22:24.736Z"
   },
   {
    "duration": 37,
    "start_time": "2022-05-10T12:22:24.779Z"
   },
   {
    "duration": 20,
    "start_time": "2022-05-10T12:22:24.819Z"
   },
   {
    "duration": 47,
    "start_time": "2022-05-10T12:22:24.842Z"
   },
   {
    "duration": 414,
    "start_time": "2022-05-10T12:22:24.892Z"
   },
   {
    "duration": 26,
    "start_time": "2022-05-10T12:22:25.308Z"
   },
   {
    "duration": 27,
    "start_time": "2022-05-10T12:22:25.338Z"
   },
   {
    "duration": 36,
    "start_time": "2022-05-10T12:22:25.367Z"
   },
   {
    "duration": 18,
    "start_time": "2022-05-10T12:22:25.405Z"
   },
   {
    "duration": 33,
    "start_time": "2022-05-10T12:22:25.427Z"
   },
   {
    "duration": 394,
    "start_time": "2022-05-10T12:22:25.464Z"
   },
   {
    "duration": 7,
    "start_time": "2022-05-10T12:23:09.006Z"
   },
   {
    "duration": 168,
    "start_time": "2022-05-10T12:23:09.017Z"
   },
   {
    "duration": 48,
    "start_time": "2022-05-10T12:23:09.189Z"
   },
   {
    "duration": 6,
    "start_time": "2022-05-10T12:23:09.241Z"
   },
   {
    "duration": 75,
    "start_time": "2022-05-10T12:23:09.250Z"
   },
   {
    "duration": 54,
    "start_time": "2022-05-10T12:23:09.328Z"
   },
   {
    "duration": 57,
    "start_time": "2022-05-10T12:23:09.384Z"
   },
   {
    "duration": 19,
    "start_time": "2022-05-10T12:23:09.445Z"
   },
   {
    "duration": 66,
    "start_time": "2022-05-10T12:23:09.469Z"
   },
   {
    "duration": 28,
    "start_time": "2022-05-10T12:23:09.538Z"
   },
   {
    "duration": 20,
    "start_time": "2022-05-10T12:23:09.570Z"
   },
   {
    "duration": 75,
    "start_time": "2022-05-10T12:23:09.593Z"
   },
   {
    "duration": 5,
    "start_time": "2022-05-10T12:23:09.670Z"
   },
   {
    "duration": 11883,
    "start_time": "2022-05-10T12:23:09.678Z"
   },
   {
    "duration": 80,
    "start_time": "2022-05-10T12:23:21.563Z"
   },
   {
    "duration": 12,
    "start_time": "2022-05-10T12:23:21.651Z"
   },
   {
    "duration": 62,
    "start_time": "2022-05-10T12:23:21.666Z"
   },
   {
    "duration": 9,
    "start_time": "2022-05-10T12:23:21.732Z"
   },
   {
    "duration": 35,
    "start_time": "2022-05-10T12:23:21.745Z"
   },
   {
    "duration": 13,
    "start_time": "2022-05-10T12:23:21.824Z"
   },
   {
    "duration": 87,
    "start_time": "2022-05-10T12:23:21.846Z"
   },
   {
    "duration": 9,
    "start_time": "2022-05-10T12:23:21.937Z"
   },
   {
    "duration": 121,
    "start_time": "2022-05-10T12:23:21.949Z"
   },
   {
    "duration": 17,
    "start_time": "2022-05-10T12:23:22.133Z"
   },
   {
    "duration": 1277,
    "start_time": "2022-05-10T12:23:22.153Z"
   },
   {
    "duration": 18,
    "start_time": "2022-05-10T12:23:23.433Z"
   },
   {
    "duration": 208,
    "start_time": "2022-05-10T12:23:23.454Z"
   },
   {
    "duration": 5,
    "start_time": "2022-05-10T12:23:23.666Z"
   },
   {
    "duration": 8300,
    "start_time": "2022-05-10T12:23:23.730Z"
   },
   {
    "duration": 10,
    "start_time": "2022-05-10T12:23:32.033Z"
   },
   {
    "duration": 86,
    "start_time": "2022-05-10T12:23:32.046Z"
   },
   {
    "duration": 51,
    "start_time": "2022-05-10T12:23:32.136Z"
   },
   {
    "duration": 155,
    "start_time": "2022-05-10T12:23:32.190Z"
   },
   {
    "duration": 3334,
    "start_time": "2022-05-10T12:23:32.348Z"
   },
   {
    "duration": 50,
    "start_time": "2022-05-10T12:23:35.685Z"
   },
   {
    "duration": 43,
    "start_time": "2022-05-10T12:23:35.738Z"
   },
   {
    "duration": 27,
    "start_time": "2022-05-10T12:23:35.784Z"
   },
   {
    "duration": 52,
    "start_time": "2022-05-10T12:23:35.815Z"
   },
   {
    "duration": 526,
    "start_time": "2022-05-10T12:23:35.871Z"
   },
   {
    "duration": 25,
    "start_time": "2022-05-10T12:23:36.406Z"
   },
   {
    "duration": 706,
    "start_time": "2022-05-10T12:23:36.434Z"
   },
   {
    "duration": 19,
    "start_time": "2022-05-10T12:23:37.148Z"
   },
   {
    "duration": 39,
    "start_time": "2022-05-10T12:23:37.170Z"
   },
   {
    "duration": 353,
    "start_time": "2022-05-10T12:23:37.215Z"
   },
   {
    "duration": 41,
    "start_time": "2022-05-10T12:23:37.574Z"
   },
   {
    "duration": 415,
    "start_time": "2022-05-10T12:23:37.628Z"
   },
   {
    "duration": 84,
    "start_time": "2022-05-10T12:23:38.047Z"
   },
   {
    "duration": 719,
    "start_time": "2022-05-10T12:23:38.136Z"
   },
   {
    "duration": 73,
    "start_time": "2022-05-10T12:23:38.857Z"
   },
   {
    "duration": 805,
    "start_time": "2022-05-10T12:23:38.933Z"
   },
   {
    "duration": 19,
    "start_time": "2022-05-10T12:23:39.742Z"
   },
   {
    "duration": 13,
    "start_time": "2022-05-10T12:23:39.763Z"
   },
   {
    "duration": 62,
    "start_time": "2022-05-10T12:23:39.778Z"
   },
   {
    "duration": 44,
    "start_time": "2022-05-10T12:23:39.843Z"
   },
   {
    "duration": 44,
    "start_time": "2022-05-10T12:23:39.891Z"
   },
   {
    "duration": 1216,
    "start_time": "2022-05-10T12:23:39.940Z"
   },
   {
    "duration": 68,
    "start_time": "2022-05-10T12:23:41.160Z"
   },
   {
    "duration": 35,
    "start_time": "2022-05-10T12:23:41.232Z"
   },
   {
    "duration": 62,
    "start_time": "2022-05-10T12:23:41.270Z"
   },
   {
    "duration": 22,
    "start_time": "2022-05-10T12:23:41.335Z"
   },
   {
    "duration": 63,
    "start_time": "2022-05-10T12:23:41.361Z"
   },
   {
    "duration": 1135,
    "start_time": "2022-05-10T12:23:41.430Z"
   },
   {
    "duration": 1857,
    "start_time": "2022-05-10T16:58:48.337Z"
   },
   {
    "duration": 130,
    "start_time": "2022-05-10T16:58:50.197Z"
   },
   {
    "duration": 34,
    "start_time": "2022-05-10T16:58:50.330Z"
   },
   {
    "duration": 5,
    "start_time": "2022-05-10T16:58:50.367Z"
   },
   {
    "duration": 56,
    "start_time": "2022-05-10T16:58:50.399Z"
   },
   {
    "duration": 60,
    "start_time": "2022-05-10T16:58:50.458Z"
   },
   {
    "duration": 52,
    "start_time": "2022-05-10T16:58:50.523Z"
   },
   {
    "duration": 30,
    "start_time": "2022-05-10T16:58:50.578Z"
   },
   {
    "duration": 39,
    "start_time": "2022-05-10T16:58:50.612Z"
   },
   {
    "duration": 50,
    "start_time": "2022-05-10T16:58:50.655Z"
   },
   {
    "duration": 16,
    "start_time": "2022-05-10T16:58:50.710Z"
   },
   {
    "duration": 38,
    "start_time": "2022-05-10T16:58:50.729Z"
   },
   {
    "duration": 5,
    "start_time": "2022-05-10T16:58:50.770Z"
   },
   {
    "duration": 7875,
    "start_time": "2022-05-10T16:58:50.793Z"
   },
   {
    "duration": 36,
    "start_time": "2022-05-10T16:58:58.670Z"
   },
   {
    "duration": 8,
    "start_time": "2022-05-10T16:58:58.711Z"
   },
   {
    "duration": 34,
    "start_time": "2022-05-10T16:58:58.722Z"
   },
   {
    "duration": 24,
    "start_time": "2022-05-10T16:58:58.758Z"
   },
   {
    "duration": 20,
    "start_time": "2022-05-10T16:58:58.784Z"
   },
   {
    "duration": 29,
    "start_time": "2022-05-10T16:58:58.814Z"
   },
   {
    "duration": 32,
    "start_time": "2022-05-10T16:58:58.846Z"
   },
   {
    "duration": 8,
    "start_time": "2022-05-10T16:58:58.880Z"
   },
   {
    "duration": 74,
    "start_time": "2022-05-10T16:58:58.890Z"
   },
   {
    "duration": 13,
    "start_time": "2022-05-10T16:58:58.967Z"
   },
   {
    "duration": 460,
    "start_time": "2022-05-10T16:58:58.983Z"
   },
   {
    "duration": 10,
    "start_time": "2022-05-10T16:58:59.446Z"
   },
   {
    "duration": 98,
    "start_time": "2022-05-10T16:58:59.458Z"
   },
   {
    "duration": 4,
    "start_time": "2022-05-10T16:58:59.558Z"
   },
   {
    "duration": 3508,
    "start_time": "2022-05-10T16:58:59.564Z"
   },
   {
    "duration": 21,
    "start_time": "2022-05-10T16:59:03.076Z"
   },
   {
    "duration": 18,
    "start_time": "2022-05-10T16:59:03.107Z"
   },
   {
    "duration": 20,
    "start_time": "2022-05-10T16:59:03.128Z"
   },
   {
    "duration": 67,
    "start_time": "2022-05-10T16:59:03.152Z"
   },
   {
    "duration": 1682,
    "start_time": "2022-05-10T16:59:03.222Z"
   },
   {
    "duration": 15,
    "start_time": "2022-05-10T16:59:04.908Z"
   },
   {
    "duration": 16,
    "start_time": "2022-05-10T16:59:04.926Z"
   },
   {
    "duration": 12,
    "start_time": "2022-05-10T16:59:04.945Z"
   },
   {
    "duration": 43,
    "start_time": "2022-05-10T16:59:04.961Z"
   },
   {
    "duration": 400,
    "start_time": "2022-05-10T16:59:05.007Z"
   },
   {
    "duration": 9,
    "start_time": "2022-05-10T16:59:05.415Z"
   },
   {
    "duration": 303,
    "start_time": "2022-05-10T16:59:05.433Z"
   },
   {
    "duration": 14,
    "start_time": "2022-05-10T16:59:05.739Z"
   },
   {
    "duration": 29,
    "start_time": "2022-05-10T16:59:05.755Z"
   },
   {
    "duration": 391,
    "start_time": "2022-05-10T16:59:05.800Z"
   },
   {
    "duration": 45,
    "start_time": "2022-05-10T16:59:06.194Z"
   },
   {
    "duration": 521,
    "start_time": "2022-05-10T16:59:06.244Z"
   },
   {
    "duration": 53,
    "start_time": "2022-05-10T16:59:06.767Z"
   },
   {
    "duration": 332,
    "start_time": "2022-05-10T16:59:06.823Z"
   },
   {
    "duration": 53,
    "start_time": "2022-05-10T16:59:07.157Z"
   },
   {
    "duration": 311,
    "start_time": "2022-05-10T16:59:07.212Z"
   },
   {
    "duration": 12,
    "start_time": "2022-05-10T16:59:07.526Z"
   },
   {
    "duration": 8,
    "start_time": "2022-05-10T16:59:07.541Z"
   },
   {
    "duration": 11,
    "start_time": "2022-05-10T16:59:07.552Z"
   },
   {
    "duration": 7,
    "start_time": "2022-05-10T16:59:07.605Z"
   },
   {
    "duration": 22,
    "start_time": "2022-05-10T16:59:07.614Z"
   },
   {
    "duration": 618,
    "start_time": "2022-05-10T16:59:07.639Z"
   },
   {
    "duration": 19,
    "start_time": "2022-05-10T16:59:08.260Z"
   },
   {
    "duration": 7,
    "start_time": "2022-05-10T16:59:08.293Z"
   },
   {
    "duration": 41,
    "start_time": "2022-05-10T16:59:08.303Z"
   },
   {
    "duration": 6,
    "start_time": "2022-05-10T16:59:08.346Z"
   },
   {
    "duration": 14,
    "start_time": "2022-05-10T16:59:08.356Z"
   },
   {
    "duration": 551,
    "start_time": "2022-05-10T16:59:08.372Z"
   },
   {
    "duration": 200,
    "start_time": "2022-05-10T21:53:33.874Z"
   },
   {
    "duration": 79,
    "start_time": "2022-05-11T06:36:23.717Z"
   },
   {
    "duration": 1926,
    "start_time": "2022-05-11T06:36:28.072Z"
   },
   {
    "duration": 94,
    "start_time": "2022-05-11T06:36:30.001Z"
   },
   {
    "duration": 42,
    "start_time": "2022-05-11T06:36:30.098Z"
   },
   {
    "duration": 5,
    "start_time": "2022-05-11T06:36:30.144Z"
   },
   {
    "duration": 27,
    "start_time": "2022-05-11T06:36:30.151Z"
   },
   {
    "duration": 64,
    "start_time": "2022-05-11T06:36:30.181Z"
   },
   {
    "duration": 33,
    "start_time": "2022-05-11T06:36:30.247Z"
   },
   {
    "duration": 13,
    "start_time": "2022-05-11T06:36:30.282Z"
   },
   {
    "duration": 49,
    "start_time": "2022-05-11T06:36:30.298Z"
   },
   {
    "duration": 22,
    "start_time": "2022-05-11T06:36:30.353Z"
   },
   {
    "duration": 12,
    "start_time": "2022-05-11T06:36:30.377Z"
   },
   {
    "duration": 52,
    "start_time": "2022-05-11T06:36:30.391Z"
   },
   {
    "duration": 4,
    "start_time": "2022-05-11T06:36:30.445Z"
   },
   {
    "duration": 6211,
    "start_time": "2022-05-11T06:36:30.451Z"
   },
   {
    "duration": 20,
    "start_time": "2022-05-11T06:36:36.664Z"
   },
   {
    "duration": 7,
    "start_time": "2022-05-11T06:36:36.687Z"
   },
   {
    "duration": 40,
    "start_time": "2022-05-11T06:36:36.697Z"
   },
   {
    "duration": 9,
    "start_time": "2022-05-11T06:36:36.739Z"
   },
   {
    "duration": 11,
    "start_time": "2022-05-11T06:36:36.750Z"
   },
   {
    "duration": 9,
    "start_time": "2022-05-11T06:36:36.763Z"
   },
   {
    "duration": 55,
    "start_time": "2022-05-11T06:36:36.774Z"
   },
   {
    "duration": 11,
    "start_time": "2022-05-11T06:36:36.833Z"
   },
   {
    "duration": 41,
    "start_time": "2022-05-11T06:36:36.847Z"
   },
   {
    "duration": 9,
    "start_time": "2022-05-11T06:36:36.890Z"
   },
   {
    "duration": 455,
    "start_time": "2022-05-11T06:36:36.936Z"
   },
   {
    "duration": 12,
    "start_time": "2022-05-11T06:36:37.393Z"
   },
   {
    "duration": 77,
    "start_time": "2022-05-11T06:36:37.407Z"
   },
   {
    "duration": 4,
    "start_time": "2022-05-11T06:36:37.490Z"
   },
   {
    "duration": 2582,
    "start_time": "2022-05-11T06:36:37.496Z"
   },
   {
    "duration": 8,
    "start_time": "2022-05-11T06:36:40.080Z"
   },
   {
    "duration": 12,
    "start_time": "2022-05-11T06:36:40.090Z"
   },
   {
    "duration": 21,
    "start_time": "2022-05-11T06:36:40.125Z"
   },
   {
    "duration": 60,
    "start_time": "2022-05-11T06:36:40.149Z"
   },
   {
    "duration": 1613,
    "start_time": "2022-05-11T06:36:40.211Z"
   },
   {
    "duration": 14,
    "start_time": "2022-05-11T06:36:41.828Z"
   },
   {
    "duration": 10,
    "start_time": "2022-05-11T06:36:41.845Z"
   },
   {
    "duration": 9,
    "start_time": "2022-05-11T06:36:41.857Z"
   },
   {
    "duration": 16,
    "start_time": "2022-05-11T06:36:41.869Z"
   },
   {
    "duration": 287,
    "start_time": "2022-05-11T06:36:41.888Z"
   },
   {
    "duration": 8,
    "start_time": "2022-05-11T06:36:42.177Z"
   },
   {
    "duration": 237,
    "start_time": "2022-05-11T06:36:42.188Z"
   },
   {
    "duration": 14,
    "start_time": "2022-05-11T06:36:42.427Z"
   },
   {
    "duration": 11,
    "start_time": "2022-05-11T06:36:42.444Z"
   },
   {
    "duration": 301,
    "start_time": "2022-05-11T06:36:42.458Z"
   },
   {
    "duration": 32,
    "start_time": "2022-05-11T06:36:42.762Z"
   },
   {
    "duration": 461,
    "start_time": "2022-05-11T06:36:42.796Z"
   },
   {
    "duration": 34,
    "start_time": "2022-05-11T06:36:43.259Z"
   },
   {
    "duration": 323,
    "start_time": "2022-05-11T06:36:43.295Z"
   },
   {
    "duration": 31,
    "start_time": "2022-05-11T06:36:43.621Z"
   },
   {
    "duration": 329,
    "start_time": "2022-05-11T06:36:43.654Z"
   },
   {
    "duration": 12,
    "start_time": "2022-05-11T06:36:43.986Z"
   },
   {
    "duration": 25,
    "start_time": "2022-05-11T06:36:44.000Z"
   },
   {
    "duration": 19,
    "start_time": "2022-05-11T06:36:44.029Z"
   },
   {
    "duration": 7,
    "start_time": "2022-05-11T06:36:44.050Z"
   },
   {
    "duration": 127,
    "start_time": "2022-05-11T06:36:44.060Z"
   },
   {
    "duration": 0,
    "start_time": "2022-05-11T06:36:44.190Z"
   },
   {
    "duration": 0,
    "start_time": "2022-05-11T06:36:44.193Z"
   },
   {
    "duration": 0,
    "start_time": "2022-05-11T06:36:44.196Z"
   },
   {
    "duration": 0,
    "start_time": "2022-05-11T06:36:44.197Z"
   },
   {
    "duration": 0,
    "start_time": "2022-05-11T06:36:44.200Z"
   },
   {
    "duration": 0,
    "start_time": "2022-05-11T06:36:44.202Z"
   },
   {
    "duration": 0,
    "start_time": "2022-05-11T06:36:44.203Z"
   },
   {
    "duration": 14,
    "start_time": "2022-05-11T06:37:30.886Z"
   },
   {
    "duration": 12,
    "start_time": "2022-05-11T06:37:44.430Z"
   },
   {
    "duration": 142,
    "start_time": "2022-05-12T10:30:43.656Z"
   },
   {
    "duration": 2460,
    "start_time": "2022-05-12T10:30:48.122Z"
   },
   {
    "duration": 112,
    "start_time": "2022-05-12T10:30:50.585Z"
   },
   {
    "duration": 23,
    "start_time": "2022-05-12T10:30:50.699Z"
   },
   {
    "duration": 31,
    "start_time": "2022-05-12T10:30:50.724Z"
   },
   {
    "duration": 52,
    "start_time": "2022-05-12T10:30:50.762Z"
   },
   {
    "duration": 31,
    "start_time": "2022-05-12T10:30:50.816Z"
   },
   {
    "duration": 51,
    "start_time": "2022-05-12T10:30:50.850Z"
   },
   {
    "duration": 95,
    "start_time": "2022-05-12T10:30:50.903Z"
   },
   {
    "duration": 0,
    "start_time": "2022-05-12T10:30:51.002Z"
   },
   {
    "duration": 0,
    "start_time": "2022-05-12T10:30:51.004Z"
   },
   {
    "duration": 0,
    "start_time": "2022-05-12T10:30:51.006Z"
   },
   {
    "duration": 0,
    "start_time": "2022-05-12T10:30:51.007Z"
   },
   {
    "duration": 0,
    "start_time": "2022-05-12T10:30:51.009Z"
   },
   {
    "duration": 0,
    "start_time": "2022-05-12T10:30:51.011Z"
   },
   {
    "duration": 0,
    "start_time": "2022-05-12T10:30:51.012Z"
   },
   {
    "duration": 0,
    "start_time": "2022-05-12T10:30:51.013Z"
   },
   {
    "duration": 0,
    "start_time": "2022-05-12T10:30:51.015Z"
   },
   {
    "duration": 0,
    "start_time": "2022-05-12T10:30:51.017Z"
   },
   {
    "duration": 0,
    "start_time": "2022-05-12T10:30:51.018Z"
   },
   {
    "duration": 0,
    "start_time": "2022-05-12T10:30:51.020Z"
   },
   {
    "duration": 0,
    "start_time": "2022-05-12T10:30:51.022Z"
   },
   {
    "duration": 0,
    "start_time": "2022-05-12T10:30:51.024Z"
   },
   {
    "duration": 0,
    "start_time": "2022-05-12T10:30:51.026Z"
   },
   {
    "duration": 0,
    "start_time": "2022-05-12T10:30:51.028Z"
   },
   {
    "duration": 0,
    "start_time": "2022-05-12T10:30:51.029Z"
   },
   {
    "duration": 0,
    "start_time": "2022-05-12T10:30:51.031Z"
   },
   {
    "duration": 0,
    "start_time": "2022-05-12T10:30:51.033Z"
   },
   {
    "duration": 0,
    "start_time": "2022-05-12T10:30:51.035Z"
   },
   {
    "duration": 0,
    "start_time": "2022-05-12T10:30:51.037Z"
   },
   {
    "duration": 0,
    "start_time": "2022-05-12T10:30:51.059Z"
   },
   {
    "duration": 0,
    "start_time": "2022-05-12T10:30:51.061Z"
   },
   {
    "duration": 0,
    "start_time": "2022-05-12T10:30:51.062Z"
   },
   {
    "duration": 1,
    "start_time": "2022-05-12T10:30:51.063Z"
   },
   {
    "duration": 0,
    "start_time": "2022-05-12T10:30:51.065Z"
   },
   {
    "duration": 0,
    "start_time": "2022-05-12T10:30:51.066Z"
   },
   {
    "duration": 0,
    "start_time": "2022-05-12T10:30:51.073Z"
   },
   {
    "duration": 0,
    "start_time": "2022-05-12T10:30:51.075Z"
   },
   {
    "duration": 0,
    "start_time": "2022-05-12T10:30:51.077Z"
   },
   {
    "duration": 0,
    "start_time": "2022-05-12T10:30:51.080Z"
   },
   {
    "duration": 0,
    "start_time": "2022-05-12T10:30:51.082Z"
   },
   {
    "duration": 0,
    "start_time": "2022-05-12T10:30:51.084Z"
   },
   {
    "duration": 0,
    "start_time": "2022-05-12T10:30:51.086Z"
   },
   {
    "duration": 0,
    "start_time": "2022-05-12T10:30:51.088Z"
   },
   {
    "duration": 0,
    "start_time": "2022-05-12T10:30:51.089Z"
   },
   {
    "duration": 0,
    "start_time": "2022-05-12T10:30:51.091Z"
   },
   {
    "duration": 0,
    "start_time": "2022-05-12T10:30:51.093Z"
   },
   {
    "duration": 0,
    "start_time": "2022-05-12T10:30:51.094Z"
   },
   {
    "duration": 0,
    "start_time": "2022-05-12T10:30:51.096Z"
   },
   {
    "duration": 0,
    "start_time": "2022-05-12T10:30:51.097Z"
   },
   {
    "duration": 0,
    "start_time": "2022-05-12T10:30:51.099Z"
   },
   {
    "duration": 0,
    "start_time": "2022-05-12T10:30:51.100Z"
   },
   {
    "duration": 0,
    "start_time": "2022-05-12T10:30:51.102Z"
   },
   {
    "duration": 0,
    "start_time": "2022-05-12T10:30:51.103Z"
   },
   {
    "duration": 0,
    "start_time": "2022-05-12T10:30:51.152Z"
   },
   {
    "duration": 0,
    "start_time": "2022-05-12T10:30:51.154Z"
   },
   {
    "duration": 0,
    "start_time": "2022-05-12T10:30:51.155Z"
   },
   {
    "duration": 0,
    "start_time": "2022-05-12T10:30:51.157Z"
   },
   {
    "duration": 11,
    "start_time": "2022-05-12T10:30:55.964Z"
   },
   {
    "duration": 120,
    "start_time": "2022-05-12T10:30:55.979Z"
   },
   {
    "duration": 27,
    "start_time": "2022-05-12T10:30:56.102Z"
   },
   {
    "duration": 21,
    "start_time": "2022-05-12T10:30:56.131Z"
   },
   {
    "duration": 45,
    "start_time": "2022-05-12T10:30:56.156Z"
   },
   {
    "duration": 52,
    "start_time": "2022-05-12T10:30:56.204Z"
   },
   {
    "duration": 57,
    "start_time": "2022-05-12T10:30:56.260Z"
   },
   {
    "duration": 104,
    "start_time": "2022-05-12T10:30:56.319Z"
   },
   {
    "duration": 0,
    "start_time": "2022-05-12T10:30:56.428Z"
   },
   {
    "duration": 0,
    "start_time": "2022-05-12T10:30:56.431Z"
   },
   {
    "duration": 0,
    "start_time": "2022-05-12T10:30:56.433Z"
   },
   {
    "duration": 1,
    "start_time": "2022-05-12T10:30:56.435Z"
   },
   {
    "duration": 0,
    "start_time": "2022-05-12T10:30:56.438Z"
   },
   {
    "duration": 0,
    "start_time": "2022-05-12T10:30:56.440Z"
   },
   {
    "duration": 0,
    "start_time": "2022-05-12T10:30:56.442Z"
   },
   {
    "duration": 0,
    "start_time": "2022-05-12T10:30:56.444Z"
   },
   {
    "duration": 0,
    "start_time": "2022-05-12T10:30:56.447Z"
   },
   {
    "duration": 0,
    "start_time": "2022-05-12T10:30:56.448Z"
   },
   {
    "duration": 0,
    "start_time": "2022-05-12T10:30:56.449Z"
   },
   {
    "duration": 1,
    "start_time": "2022-05-12T10:30:56.455Z"
   },
   {
    "duration": 0,
    "start_time": "2022-05-12T10:30:56.458Z"
   },
   {
    "duration": 0,
    "start_time": "2022-05-12T10:30:56.460Z"
   },
   {
    "duration": 0,
    "start_time": "2022-05-12T10:30:56.462Z"
   },
   {
    "duration": 0,
    "start_time": "2022-05-12T10:30:56.464Z"
   },
   {
    "duration": 0,
    "start_time": "2022-05-12T10:30:56.466Z"
   },
   {
    "duration": 0,
    "start_time": "2022-05-12T10:30:56.470Z"
   },
   {
    "duration": 0,
    "start_time": "2022-05-12T10:30:56.472Z"
   },
   {
    "duration": 0,
    "start_time": "2022-05-12T10:30:56.474Z"
   },
   {
    "duration": 1,
    "start_time": "2022-05-12T10:30:56.482Z"
   },
   {
    "duration": 0,
    "start_time": "2022-05-12T10:30:56.485Z"
   },
   {
    "duration": 0,
    "start_time": "2022-05-12T10:30:56.487Z"
   },
   {
    "duration": 0,
    "start_time": "2022-05-12T10:30:56.489Z"
   },
   {
    "duration": 0,
    "start_time": "2022-05-12T10:30:56.491Z"
   },
   {
    "duration": 0,
    "start_time": "2022-05-12T10:30:56.494Z"
   },
   {
    "duration": 0,
    "start_time": "2022-05-12T10:30:56.496Z"
   },
   {
    "duration": 0,
    "start_time": "2022-05-12T10:30:56.498Z"
   },
   {
    "duration": 0,
    "start_time": "2022-05-12T10:30:56.500Z"
   },
   {
    "duration": 0,
    "start_time": "2022-05-12T10:30:56.501Z"
   },
   {
    "duration": 0,
    "start_time": "2022-05-12T10:30:56.503Z"
   },
   {
    "duration": 0,
    "start_time": "2022-05-12T10:30:56.504Z"
   },
   {
    "duration": 0,
    "start_time": "2022-05-12T10:30:56.506Z"
   },
   {
    "duration": 0,
    "start_time": "2022-05-12T10:30:56.508Z"
   },
   {
    "duration": 0,
    "start_time": "2022-05-12T10:30:56.552Z"
   },
   {
    "duration": 0,
    "start_time": "2022-05-12T10:30:56.553Z"
   },
   {
    "duration": 0,
    "start_time": "2022-05-12T10:30:56.554Z"
   },
   {
    "duration": 0,
    "start_time": "2022-05-12T10:30:56.566Z"
   },
   {
    "duration": 0,
    "start_time": "2022-05-12T10:30:56.568Z"
   },
   {
    "duration": 0,
    "start_time": "2022-05-12T10:30:56.571Z"
   },
   {
    "duration": 0,
    "start_time": "2022-05-12T10:30:56.573Z"
   },
   {
    "duration": 0,
    "start_time": "2022-05-12T10:30:56.576Z"
   },
   {
    "duration": 0,
    "start_time": "2022-05-12T10:30:56.579Z"
   },
   {
    "duration": 0,
    "start_time": "2022-05-12T10:30:56.581Z"
   },
   {
    "duration": 0,
    "start_time": "2022-05-12T10:30:56.584Z"
   },
   {
    "duration": 0,
    "start_time": "2022-05-12T10:30:56.589Z"
   },
   {
    "duration": 0,
    "start_time": "2022-05-12T10:30:56.591Z"
   },
   {
    "duration": 0,
    "start_time": "2022-05-12T10:30:56.592Z"
   },
   {
    "duration": 0,
    "start_time": "2022-05-12T10:30:56.595Z"
   },
   {
    "duration": 7,
    "start_time": "2022-05-12T10:31:13.175Z"
   },
   {
    "duration": 5,
    "start_time": "2022-05-12T10:32:26.422Z"
   },
   {
    "duration": 93,
    "start_time": "2022-05-12T10:32:26.430Z"
   },
   {
    "duration": 21,
    "start_time": "2022-05-12T10:32:26.525Z"
   },
   {
    "duration": 5,
    "start_time": "2022-05-12T10:32:26.740Z"
   },
   {
    "duration": 57,
    "start_time": "2022-05-12T10:32:26.748Z"
   },
   {
    "duration": 46,
    "start_time": "2022-05-12T10:32:26.807Z"
   },
   {
    "duration": 39,
    "start_time": "2022-05-12T10:32:26.857Z"
   },
   {
    "duration": 7,
    "start_time": "2022-05-12T10:32:26.898Z"
   },
   {
    "duration": 55,
    "start_time": "2022-05-12T10:32:26.907Z"
   },
   {
    "duration": 42,
    "start_time": "2022-05-12T10:32:26.965Z"
   },
   {
    "duration": 28,
    "start_time": "2022-05-12T10:32:27.010Z"
   },
   {
    "duration": 6,
    "start_time": "2022-05-12T10:32:27.043Z"
   },
   {
    "duration": 27,
    "start_time": "2022-05-12T10:32:27.051Z"
   },
   {
    "duration": 8,
    "start_time": "2022-05-12T10:32:27.081Z"
   },
   {
    "duration": 18,
    "start_time": "2022-05-12T10:32:27.092Z"
   },
   {
    "duration": 15,
    "start_time": "2022-05-12T10:32:27.112Z"
   },
   {
    "duration": 42,
    "start_time": "2022-05-12T10:32:27.130Z"
   },
   {
    "duration": 11,
    "start_time": "2022-05-12T10:32:27.174Z"
   },
   {
    "duration": 50,
    "start_time": "2022-05-12T10:32:27.188Z"
   },
   {
    "duration": 34,
    "start_time": "2022-05-12T10:32:27.241Z"
   },
   {
    "duration": 518,
    "start_time": "2022-05-12T10:32:27.278Z"
   },
   {
    "duration": 13,
    "start_time": "2022-05-12T10:32:27.798Z"
   },
   {
    "duration": 98,
    "start_time": "2022-05-12T10:32:27.815Z"
   },
   {
    "duration": 5,
    "start_time": "2022-05-12T10:32:27.915Z"
   },
   {
    "duration": 2986,
    "start_time": "2022-05-12T10:32:27.922Z"
   },
   {
    "duration": 9,
    "start_time": "2022-05-12T10:32:30.910Z"
   },
   {
    "duration": 33,
    "start_time": "2022-05-12T10:32:30.927Z"
   },
   {
    "duration": 49,
    "start_time": "2022-05-12T10:32:30.963Z"
   },
   {
    "duration": 107,
    "start_time": "2022-05-12T10:32:31.015Z"
   },
   {
    "duration": 1901,
    "start_time": "2022-05-12T10:32:31.124Z"
   },
   {
    "duration": 10,
    "start_time": "2022-05-12T10:32:33.027Z"
   },
   {
    "duration": 14,
    "start_time": "2022-05-12T10:32:33.058Z"
   },
   {
    "duration": 23,
    "start_time": "2022-05-12T10:32:33.075Z"
   },
   {
    "duration": 18,
    "start_time": "2022-05-12T10:32:33.101Z"
   },
   {
    "duration": 292,
    "start_time": "2022-05-12T10:32:33.121Z"
   },
   {
    "duration": 7,
    "start_time": "2022-05-12T10:32:33.416Z"
   },
   {
    "duration": 298,
    "start_time": "2022-05-12T10:32:33.425Z"
   },
   {
    "duration": 10,
    "start_time": "2022-05-12T10:32:33.725Z"
   },
   {
    "duration": 62,
    "start_time": "2022-05-12T10:32:33.737Z"
   },
   {
    "duration": 378,
    "start_time": "2022-05-12T10:32:33.801Z"
   },
   {
    "duration": 38,
    "start_time": "2022-05-12T10:32:34.183Z"
   },
   {
    "duration": 578,
    "start_time": "2022-05-12T10:32:34.224Z"
   },
   {
    "duration": 57,
    "start_time": "2022-05-12T10:32:34.804Z"
   },
   {
    "duration": 354,
    "start_time": "2022-05-12T10:32:34.863Z"
   },
   {
    "duration": 58,
    "start_time": "2022-05-12T10:32:35.219Z"
   },
   {
    "duration": 381,
    "start_time": "2022-05-12T10:32:35.280Z"
   },
   {
    "duration": 16,
    "start_time": "2022-05-12T10:32:35.664Z"
   },
   {
    "duration": 24,
    "start_time": "2022-05-12T10:32:35.683Z"
   },
   {
    "duration": 19,
    "start_time": "2022-05-12T10:32:35.710Z"
   },
   {
    "duration": 30,
    "start_time": "2022-05-12T10:32:35.732Z"
   },
   {
    "duration": 35,
    "start_time": "2022-05-12T10:32:35.765Z"
   },
   {
    "duration": 485,
    "start_time": "2022-05-12T10:32:35.803Z"
   },
   {
    "duration": 16,
    "start_time": "2022-05-12T10:32:36.292Z"
   },
   {
    "duration": 18,
    "start_time": "2022-05-12T10:32:36.311Z"
   },
   {
    "duration": 37,
    "start_time": "2022-05-12T10:32:36.331Z"
   },
   {
    "duration": 8,
    "start_time": "2022-05-12T10:32:36.370Z"
   },
   {
    "duration": 27,
    "start_time": "2022-05-12T10:32:36.380Z"
   },
   {
    "duration": 472,
    "start_time": "2022-05-12T10:32:36.410Z"
   },
   {
    "duration": 8,
    "start_time": "2022-05-12T10:34:18.200Z"
   },
   {
    "duration": 5,
    "start_time": "2022-05-12T10:34:35.300Z"
   },
   {
    "duration": 101,
    "start_time": "2022-05-12T10:34:35.310Z"
   },
   {
    "duration": 20,
    "start_time": "2022-05-12T10:34:35.413Z"
   },
   {
    "duration": 6,
    "start_time": "2022-05-12T10:34:35.453Z"
   },
   {
    "duration": 47,
    "start_time": "2022-05-12T10:34:35.462Z"
   },
   {
    "duration": 52,
    "start_time": "2022-05-12T10:34:35.512Z"
   },
   {
    "duration": 32,
    "start_time": "2022-05-12T10:34:35.567Z"
   },
   {
    "duration": 8,
    "start_time": "2022-05-12T10:34:35.602Z"
   },
   {
    "duration": 71,
    "start_time": "2022-05-12T10:34:35.613Z"
   },
   {
    "duration": 14,
    "start_time": "2022-05-12T10:34:35.689Z"
   },
   {
    "duration": 32,
    "start_time": "2022-05-12T10:34:35.706Z"
   },
   {
    "duration": 13,
    "start_time": "2022-05-12T10:34:35.756Z"
   },
   {
    "duration": 31,
    "start_time": "2022-05-12T10:34:35.773Z"
   },
   {
    "duration": 10,
    "start_time": "2022-05-12T10:34:35.807Z"
   },
   {
    "duration": 30,
    "start_time": "2022-05-12T10:34:35.825Z"
   },
   {
    "duration": 13,
    "start_time": "2022-05-12T10:34:35.857Z"
   },
   {
    "duration": 42,
    "start_time": "2022-05-12T10:34:35.873Z"
   },
   {
    "duration": 7,
    "start_time": "2022-05-12T10:34:35.917Z"
   },
   {
    "duration": 67,
    "start_time": "2022-05-12T10:34:35.927Z"
   },
   {
    "duration": 11,
    "start_time": "2022-05-12T10:34:35.997Z"
   },
   {
    "duration": 487,
    "start_time": "2022-05-12T10:34:36.010Z"
   },
   {
    "duration": 11,
    "start_time": "2022-05-12T10:34:36.499Z"
   },
   {
    "duration": 94,
    "start_time": "2022-05-12T10:34:36.512Z"
   },
   {
    "duration": 4,
    "start_time": "2022-05-12T10:34:36.608Z"
   },
   {
    "duration": 2979,
    "start_time": "2022-05-12T10:34:36.614Z"
   },
   {
    "duration": 7,
    "start_time": "2022-05-12T10:34:39.596Z"
   },
   {
    "duration": 22,
    "start_time": "2022-05-12T10:34:39.605Z"
   },
   {
    "duration": 14,
    "start_time": "2022-05-12T10:34:39.629Z"
   },
   {
    "duration": 73,
    "start_time": "2022-05-12T10:34:39.645Z"
   },
   {
    "duration": 1736,
    "start_time": "2022-05-12T10:34:39.720Z"
   },
   {
    "duration": 23,
    "start_time": "2022-05-12T10:34:41.458Z"
   },
   {
    "duration": 16,
    "start_time": "2022-05-12T10:34:41.485Z"
   },
   {
    "duration": 61,
    "start_time": "2022-05-12T10:34:41.504Z"
   },
   {
    "duration": 28,
    "start_time": "2022-05-12T10:34:41.567Z"
   },
   {
    "duration": 485,
    "start_time": "2022-05-12T10:34:41.597Z"
   },
   {
    "duration": 8,
    "start_time": "2022-05-12T10:34:42.085Z"
   },
   {
    "duration": 795,
    "start_time": "2022-05-12T10:34:42.096Z"
   },
   {
    "duration": 13,
    "start_time": "2022-05-12T10:34:42.894Z"
   },
   {
    "duration": 29,
    "start_time": "2022-05-12T10:34:42.952Z"
   },
   {
    "duration": 605,
    "start_time": "2022-05-12T10:34:42.983Z"
   },
   {
    "duration": 97,
    "start_time": "2022-05-12T10:34:43.591Z"
   },
   {
    "duration": 785,
    "start_time": "2022-05-12T10:34:43.695Z"
   },
   {
    "duration": 93,
    "start_time": "2022-05-12T10:34:44.483Z"
   },
   {
    "duration": 607,
    "start_time": "2022-05-12T10:34:44.579Z"
   },
   {
    "duration": 25,
    "start_time": "2022-05-12T10:34:45.189Z"
   },
   {
    "duration": 456,
    "start_time": "2022-05-12T10:34:45.217Z"
   },
   {
    "duration": 13,
    "start_time": "2022-05-12T10:34:45.676Z"
   },
   {
    "duration": 18,
    "start_time": "2022-05-12T10:34:45.691Z"
   },
   {
    "duration": 43,
    "start_time": "2022-05-12T10:34:45.712Z"
   },
   {
    "duration": 7,
    "start_time": "2022-05-12T10:34:45.758Z"
   },
   {
    "duration": 31,
    "start_time": "2022-05-12T10:34:45.768Z"
   },
   {
    "duration": 434,
    "start_time": "2022-05-12T10:34:45.802Z"
   },
   {
    "duration": 26,
    "start_time": "2022-05-12T10:34:46.238Z"
   },
   {
    "duration": 25,
    "start_time": "2022-05-12T10:34:46.267Z"
   },
   {
    "duration": 25,
    "start_time": "2022-05-12T10:34:46.295Z"
   },
   {
    "duration": 50,
    "start_time": "2022-05-12T10:34:46.323Z"
   },
   {
    "duration": 19,
    "start_time": "2022-05-12T10:34:46.376Z"
   },
   {
    "duration": 424,
    "start_time": "2022-05-12T10:34:46.398Z"
   },
   {
    "duration": 5,
    "start_time": "2022-05-12T10:35:07.054Z"
   },
   {
    "duration": 134,
    "start_time": "2022-05-12T10:35:07.062Z"
   },
   {
    "duration": 22,
    "start_time": "2022-05-12T10:35:07.198Z"
   },
   {
    "duration": 5,
    "start_time": "2022-05-12T10:35:07.222Z"
   },
   {
    "duration": 73,
    "start_time": "2022-05-12T10:35:07.229Z"
   },
   {
    "duration": 31,
    "start_time": "2022-05-12T10:35:07.304Z"
   },
   {
    "duration": 44,
    "start_time": "2022-05-12T10:35:07.357Z"
   },
   {
    "duration": 6,
    "start_time": "2022-05-12T10:35:07.404Z"
   },
   {
    "duration": 18,
    "start_time": "2022-05-12T10:35:07.414Z"
   },
   {
    "duration": 52,
    "start_time": "2022-05-12T10:35:07.435Z"
   },
   {
    "duration": 15,
    "start_time": "2022-05-12T10:35:07.490Z"
   },
   {
    "duration": 9,
    "start_time": "2022-05-12T10:35:07.508Z"
   },
   {
    "duration": 10,
    "start_time": "2022-05-12T10:35:07.520Z"
   },
   {
    "duration": 15,
    "start_time": "2022-05-12T10:35:07.559Z"
   },
   {
    "duration": 20,
    "start_time": "2022-05-12T10:35:07.579Z"
   },
   {
    "duration": 32,
    "start_time": "2022-05-12T10:35:07.601Z"
   },
   {
    "duration": 24,
    "start_time": "2022-05-12T10:35:07.636Z"
   },
   {
    "duration": 71,
    "start_time": "2022-05-12T10:35:07.663Z"
   },
   {
    "duration": 11,
    "start_time": "2022-05-12T10:35:07.736Z"
   },
   {
    "duration": 507,
    "start_time": "2022-05-12T10:35:07.756Z"
   },
   {
    "duration": 19,
    "start_time": "2022-05-12T10:35:08.266Z"
   },
   {
    "duration": 111,
    "start_time": "2022-05-12T10:35:08.288Z"
   },
   {
    "duration": 4,
    "start_time": "2022-05-12T10:35:08.402Z"
   },
   {
    "duration": 5053,
    "start_time": "2022-05-12T10:35:08.413Z"
   },
   {
    "duration": 11,
    "start_time": "2022-05-12T10:35:13.469Z"
   },
   {
    "duration": 14,
    "start_time": "2022-05-12T10:35:13.483Z"
   },
   {
    "duration": 11,
    "start_time": "2022-05-12T10:35:13.499Z"
   },
   {
    "duration": 83,
    "start_time": "2022-05-12T10:35:13.512Z"
   },
   {
    "duration": 1702,
    "start_time": "2022-05-12T10:35:13.597Z"
   },
   {
    "duration": 10,
    "start_time": "2022-05-12T10:35:15.301Z"
   },
   {
    "duration": 11,
    "start_time": "2022-05-12T10:35:15.312Z"
   },
   {
    "duration": 44,
    "start_time": "2022-05-12T10:35:15.326Z"
   },
   {
    "duration": 8,
    "start_time": "2022-05-12T10:35:15.372Z"
   },
   {
    "duration": 285,
    "start_time": "2022-05-12T10:35:15.383Z"
   },
   {
    "duration": 8,
    "start_time": "2022-05-12T10:35:15.671Z"
   },
   {
    "duration": 232,
    "start_time": "2022-05-12T10:35:15.682Z"
   },
   {
    "duration": 11,
    "start_time": "2022-05-12T10:35:15.917Z"
   },
   {
    "duration": 45,
    "start_time": "2022-05-12T10:35:15.930Z"
   },
   {
    "duration": 301,
    "start_time": "2022-05-12T10:35:15.978Z"
   },
   {
    "duration": 34,
    "start_time": "2022-05-12T10:35:16.282Z"
   },
   {
    "duration": 339,
    "start_time": "2022-05-12T10:35:16.317Z"
   },
   {
    "duration": 38,
    "start_time": "2022-05-12T10:35:16.659Z"
   },
   {
    "duration": 340,
    "start_time": "2022-05-12T10:35:16.699Z"
   },
   {
    "duration": 43,
    "start_time": "2022-05-12T10:35:17.041Z"
   },
   {
    "duration": 346,
    "start_time": "2022-05-12T10:35:17.086Z"
   },
   {
    "duration": 22,
    "start_time": "2022-05-12T10:35:17.435Z"
   },
   {
    "duration": 14,
    "start_time": "2022-05-12T10:35:17.460Z"
   },
   {
    "duration": 17,
    "start_time": "2022-05-12T10:35:17.477Z"
   },
   {
    "duration": 8,
    "start_time": "2022-05-12T10:35:17.496Z"
   },
   {
    "duration": 8,
    "start_time": "2022-05-12T10:35:17.507Z"
   },
   {
    "duration": 409,
    "start_time": "2022-05-12T10:35:17.517Z"
   },
   {
    "duration": 33,
    "start_time": "2022-05-12T10:35:17.928Z"
   },
   {
    "duration": 19,
    "start_time": "2022-05-12T10:35:17.964Z"
   },
   {
    "duration": 18,
    "start_time": "2022-05-12T10:35:17.985Z"
   },
   {
    "duration": 9,
    "start_time": "2022-05-12T10:35:18.005Z"
   },
   {
    "duration": 8,
    "start_time": "2022-05-12T10:35:18.016Z"
   },
   {
    "duration": 398,
    "start_time": "2022-05-12T10:35:18.026Z"
   },
   {
    "duration": 9,
    "start_time": "2022-05-12T10:35:55.073Z"
   },
   {
    "duration": 10,
    "start_time": "2022-05-12T10:36:26.252Z"
   },
   {
    "duration": 9,
    "start_time": "2022-05-12T10:36:31.336Z"
   },
   {
    "duration": 21,
    "start_time": "2022-05-12T10:38:06.892Z"
   },
   {
    "duration": 20,
    "start_time": "2022-05-12T10:39:20.180Z"
   },
   {
    "duration": 9,
    "start_time": "2022-05-12T10:40:59.547Z"
   },
   {
    "duration": 8,
    "start_time": "2022-05-12T10:41:01.585Z"
   },
   {
    "duration": 343,
    "start_time": "2022-05-12T10:45:46.533Z"
   },
   {
    "duration": 255,
    "start_time": "2022-05-12T10:46:09.258Z"
   },
   {
    "duration": 279,
    "start_time": "2022-05-12T10:46:35.302Z"
   },
   {
    "duration": 478,
    "start_time": "2022-05-12T10:46:55.134Z"
   },
   {
    "duration": 9,
    "start_time": "2022-05-12T10:47:58.173Z"
   },
   {
    "duration": 74,
    "start_time": "2022-05-12T10:47:58.184Z"
   },
   {
    "duration": 27,
    "start_time": "2022-05-12T10:47:58.260Z"
   },
   {
    "duration": 21,
    "start_time": "2022-05-12T10:47:58.290Z"
   },
   {
    "duration": 3,
    "start_time": "2022-05-12T10:47:58.314Z"
   },
   {
    "duration": 76,
    "start_time": "2022-05-12T10:47:58.320Z"
   },
   {
    "duration": 72,
    "start_time": "2022-05-12T10:47:58.399Z"
   },
   {
    "duration": 36,
    "start_time": "2022-05-12T10:47:58.475Z"
   },
   {
    "duration": 7,
    "start_time": "2022-05-12T10:47:58.514Z"
   },
   {
    "duration": 19,
    "start_time": "2022-05-12T10:47:58.553Z"
   },
   {
    "duration": 36,
    "start_time": "2022-05-12T10:47:58.575Z"
   },
   {
    "duration": 7,
    "start_time": "2022-05-12T10:47:58.613Z"
   },
   {
    "duration": 7,
    "start_time": "2022-05-12T10:47:58.622Z"
   },
   {
    "duration": 27,
    "start_time": "2022-05-12T10:47:58.661Z"
   },
   {
    "duration": 10,
    "start_time": "2022-05-12T10:47:58.691Z"
   },
   {
    "duration": 13,
    "start_time": "2022-05-12T10:47:58.703Z"
   },
   {
    "duration": 23,
    "start_time": "2022-05-12T10:47:58.718Z"
   },
   {
    "duration": 18,
    "start_time": "2022-05-12T10:47:58.744Z"
   },
   {
    "duration": 50,
    "start_time": "2022-05-12T10:47:58.765Z"
   },
   {
    "duration": 11,
    "start_time": "2022-05-12T10:47:58.817Z"
   },
   {
    "duration": 550,
    "start_time": "2022-05-12T10:47:58.831Z"
   },
   {
    "duration": 13,
    "start_time": "2022-05-12T10:47:59.383Z"
   },
   {
    "duration": 93,
    "start_time": "2022-05-12T10:47:59.398Z"
   },
   {
    "duration": 4,
    "start_time": "2022-05-12T10:47:59.493Z"
   },
   {
    "duration": 2756,
    "start_time": "2022-05-12T10:47:59.500Z"
   },
   {
    "duration": 16,
    "start_time": "2022-05-12T10:48:02.259Z"
   },
   {
    "duration": 22,
    "start_time": "2022-05-12T10:48:02.277Z"
   },
   {
    "duration": 12,
    "start_time": "2022-05-12T10:48:02.305Z"
   },
   {
    "duration": 71,
    "start_time": "2022-05-12T10:48:02.319Z"
   },
   {
    "duration": 1562,
    "start_time": "2022-05-12T10:48:02.394Z"
   },
   {
    "duration": 20,
    "start_time": "2022-05-12T10:48:03.959Z"
   },
   {
    "duration": 12,
    "start_time": "2022-05-12T10:48:03.982Z"
   },
   {
    "duration": 13,
    "start_time": "2022-05-12T10:48:03.996Z"
   },
   {
    "duration": 7,
    "start_time": "2022-05-12T10:48:04.011Z"
   },
   {
    "duration": 278,
    "start_time": "2022-05-12T10:48:04.021Z"
   },
   {
    "duration": 7,
    "start_time": "2022-05-12T10:48:04.301Z"
   },
   {
    "duration": 245,
    "start_time": "2022-05-12T10:48:04.310Z"
   },
   {
    "duration": 20,
    "start_time": "2022-05-12T10:48:04.557Z"
   },
   {
    "duration": 22,
    "start_time": "2022-05-12T10:48:04.582Z"
   },
   {
    "duration": 363,
    "start_time": "2022-05-12T10:48:04.606Z"
   },
   {
    "duration": 38,
    "start_time": "2022-05-12T10:48:04.972Z"
   },
   {
    "duration": 334,
    "start_time": "2022-05-12T10:48:05.012Z"
   },
   {
    "duration": 48,
    "start_time": "2022-05-12T10:48:05.348Z"
   },
   {
    "duration": 334,
    "start_time": "2022-05-12T10:48:05.399Z"
   },
   {
    "duration": 28,
    "start_time": "2022-05-12T10:48:05.735Z"
   },
   {
    "duration": 749,
    "start_time": "2022-05-12T10:48:05.766Z"
   },
   {
    "duration": 12,
    "start_time": "2022-05-12T10:48:06.517Z"
   },
   {
    "duration": 11,
    "start_time": "2022-05-12T10:48:06.531Z"
   },
   {
    "duration": 21,
    "start_time": "2022-05-12T10:48:06.544Z"
   },
   {
    "duration": 25,
    "start_time": "2022-05-12T10:48:06.571Z"
   },
   {
    "duration": 15,
    "start_time": "2022-05-12T10:48:06.599Z"
   },
   {
    "duration": 493,
    "start_time": "2022-05-12T10:48:06.662Z"
   },
   {
    "duration": 16,
    "start_time": "2022-05-12T10:48:07.158Z"
   },
   {
    "duration": 15,
    "start_time": "2022-05-12T10:48:07.177Z"
   },
   {
    "duration": 18,
    "start_time": "2022-05-12T10:48:07.195Z"
   },
   {
    "duration": 6,
    "start_time": "2022-05-12T10:48:07.216Z"
   },
   {
    "duration": 31,
    "start_time": "2022-05-12T10:48:07.225Z"
   },
   {
    "duration": 410,
    "start_time": "2022-05-12T10:48:07.259Z"
   },
   {
    "duration": 4,
    "start_time": "2022-05-12T10:48:44.407Z"
   },
   {
    "duration": 89,
    "start_time": "2022-05-12T10:48:44.414Z"
   },
   {
    "duration": 20,
    "start_time": "2022-05-12T10:48:44.506Z"
   },
   {
    "duration": 32,
    "start_time": "2022-05-12T10:48:44.556Z"
   },
   {
    "duration": 5,
    "start_time": "2022-05-12T10:48:44.599Z"
   },
   {
    "duration": 77,
    "start_time": "2022-05-12T10:48:44.606Z"
   },
   {
    "duration": 35,
    "start_time": "2022-05-12T10:48:44.685Z"
   },
   {
    "duration": 44,
    "start_time": "2022-05-12T10:48:44.722Z"
   },
   {
    "duration": 8,
    "start_time": "2022-05-12T10:48:44.772Z"
   },
   {
    "duration": 23,
    "start_time": "2022-05-12T10:48:44.783Z"
   },
   {
    "duration": 20,
    "start_time": "2022-05-12T10:48:44.808Z"
   },
   {
    "duration": 9,
    "start_time": "2022-05-12T10:48:44.830Z"
   },
   {
    "duration": 20,
    "start_time": "2022-05-12T10:48:44.863Z"
   },
   {
    "duration": 10,
    "start_time": "2022-05-12T10:48:44.886Z"
   },
   {
    "duration": 12,
    "start_time": "2022-05-12T10:48:44.899Z"
   },
   {
    "duration": 16,
    "start_time": "2022-05-12T10:48:44.914Z"
   },
   {
    "duration": 58,
    "start_time": "2022-05-12T10:48:44.933Z"
   },
   {
    "duration": 7,
    "start_time": "2022-05-12T10:48:44.993Z"
   },
   {
    "duration": 42,
    "start_time": "2022-05-12T10:48:45.003Z"
   },
   {
    "duration": 21,
    "start_time": "2022-05-12T10:48:45.063Z"
   },
   {
    "duration": 512,
    "start_time": "2022-05-12T10:48:45.086Z"
   },
   {
    "duration": 12,
    "start_time": "2022-05-12T10:48:45.600Z"
   },
   {
    "duration": 121,
    "start_time": "2022-05-12T10:48:45.615Z"
   },
   {
    "duration": 5,
    "start_time": "2022-05-12T10:48:45.739Z"
   },
   {
    "duration": 4046,
    "start_time": "2022-05-12T10:48:45.751Z"
   },
   {
    "duration": 7,
    "start_time": "2022-05-12T10:48:49.800Z"
   },
   {
    "duration": 11,
    "start_time": "2022-05-12T10:48:49.809Z"
   },
   {
    "duration": 50,
    "start_time": "2022-05-12T10:48:49.823Z"
   },
   {
    "duration": 43,
    "start_time": "2022-05-12T10:48:49.875Z"
   },
   {
    "duration": 1945,
    "start_time": "2022-05-12T10:48:49.922Z"
   },
   {
    "duration": 14,
    "start_time": "2022-05-12T10:48:51.870Z"
   },
   {
    "duration": 14,
    "start_time": "2022-05-12T10:48:51.887Z"
   },
   {
    "duration": 10,
    "start_time": "2022-05-12T10:48:51.903Z"
   },
   {
    "duration": 43,
    "start_time": "2022-05-12T10:48:51.915Z"
   },
   {
    "duration": 433,
    "start_time": "2022-05-12T10:48:51.961Z"
   },
   {
    "duration": 55,
    "start_time": "2022-05-12T10:48:52.397Z"
   },
   {
    "duration": 603,
    "start_time": "2022-05-12T10:48:52.463Z"
   },
   {
    "duration": 13,
    "start_time": "2022-05-12T10:48:53.069Z"
   },
   {
    "duration": 23,
    "start_time": "2022-05-12T10:48:53.085Z"
   },
   {
    "duration": 679,
    "start_time": "2022-05-12T10:48:53.110Z"
   },
   {
    "duration": 87,
    "start_time": "2022-05-12T10:48:53.791Z"
   },
   {
    "duration": 978,
    "start_time": "2022-05-12T10:48:53.881Z"
   },
   {
    "duration": 39,
    "start_time": "2022-05-12T10:48:54.861Z"
   },
   {
    "duration": 680,
    "start_time": "2022-05-12T10:48:54.903Z"
   },
   {
    "duration": 80,
    "start_time": "2022-05-12T10:48:55.591Z"
   },
   {
    "duration": 637,
    "start_time": "2022-05-12T10:48:55.682Z"
   },
   {
    "duration": 53,
    "start_time": "2022-05-12T10:48:56.322Z"
   },
   {
    "duration": 15,
    "start_time": "2022-05-12T10:48:56.381Z"
   },
   {
    "duration": 23,
    "start_time": "2022-05-12T10:48:56.399Z"
   },
   {
    "duration": 6,
    "start_time": "2022-05-12T10:48:56.425Z"
   },
   {
    "duration": 26,
    "start_time": "2022-05-12T10:48:56.434Z"
   },
   {
    "duration": 424,
    "start_time": "2022-05-12T10:48:56.462Z"
   },
   {
    "duration": 16,
    "start_time": "2022-05-12T10:48:56.889Z"
   },
   {
    "duration": 6,
    "start_time": "2022-05-12T10:48:56.908Z"
   },
   {
    "duration": 54,
    "start_time": "2022-05-12T10:48:56.918Z"
   },
   {
    "duration": 11,
    "start_time": "2022-05-12T10:48:56.980Z"
   },
   {
    "duration": 11,
    "start_time": "2022-05-12T10:48:56.993Z"
   },
   {
    "duration": 397,
    "start_time": "2022-05-12T10:48:57.006Z"
   },
   {
    "duration": 5,
    "start_time": "2022-05-12T10:50:01.681Z"
   },
   {
    "duration": 127,
    "start_time": "2022-05-12T10:50:01.689Z"
   },
   {
    "duration": 21,
    "start_time": "2022-05-12T10:50:01.818Z"
   },
   {
    "duration": 69,
    "start_time": "2022-05-12T10:50:01.841Z"
   },
   {
    "duration": 31,
    "start_time": "2022-05-12T10:50:01.913Z"
   },
   {
    "duration": 62,
    "start_time": "2022-05-12T10:50:01.946Z"
   },
   {
    "duration": 78,
    "start_time": "2022-05-12T10:50:02.011Z"
   },
   {
    "duration": 31,
    "start_time": "2022-05-12T10:50:02.091Z"
   },
   {
    "duration": 19,
    "start_time": "2022-05-12T10:50:02.124Z"
   },
   {
    "duration": 45,
    "start_time": "2022-05-12T10:50:02.146Z"
   },
   {
    "duration": 33,
    "start_time": "2022-05-12T10:50:02.193Z"
   },
   {
    "duration": 31,
    "start_time": "2022-05-12T10:50:02.228Z"
   },
   {
    "duration": 24,
    "start_time": "2022-05-12T10:50:02.264Z"
   },
   {
    "duration": 27,
    "start_time": "2022-05-12T10:50:02.291Z"
   },
   {
    "duration": 33,
    "start_time": "2022-05-12T10:50:02.320Z"
   },
   {
    "duration": 56,
    "start_time": "2022-05-12T10:50:02.359Z"
   },
   {
    "duration": 64,
    "start_time": "2022-05-12T10:50:02.417Z"
   },
   {
    "duration": 27,
    "start_time": "2022-05-12T10:50:02.483Z"
   },
   {
    "duration": 81,
    "start_time": "2022-05-12T10:50:02.513Z"
   },
   {
    "duration": 11,
    "start_time": "2022-05-12T10:50:02.596Z"
   },
   {
    "duration": 536,
    "start_time": "2022-05-12T10:50:18.838Z"
   },
   {
    "duration": 512,
    "start_time": "2022-05-12T10:50:27.369Z"
   },
   {
    "duration": 631,
    "start_time": "2022-05-12T10:50:39.274Z"
   },
   {
    "duration": 51,
    "start_time": "2022-05-12T10:55:52.365Z"
   },
   {
    "duration": 9,
    "start_time": "2022-05-12T10:58:33.422Z"
   },
   {
    "duration": 11,
    "start_time": "2022-05-12T10:58:33.970Z"
   },
   {
    "duration": 178,
    "start_time": "2022-05-12T11:00:35.613Z"
   },
   {
    "duration": 10,
    "start_time": "2022-05-12T11:00:53.170Z"
   },
   {
    "duration": 13,
    "start_time": "2022-05-12T11:00:53.639Z"
   },
   {
    "duration": 36,
    "start_time": "2022-05-12T11:00:55.983Z"
   },
   {
    "duration": 4,
    "start_time": "2022-05-12T11:01:00.204Z"
   },
   {
    "duration": 87,
    "start_time": "2022-05-12T11:01:00.212Z"
   },
   {
    "duration": 20,
    "start_time": "2022-05-12T11:01:00.302Z"
   },
   {
    "duration": 29,
    "start_time": "2022-05-12T11:01:00.352Z"
   },
   {
    "duration": 7,
    "start_time": "2022-05-12T11:01:00.386Z"
   },
   {
    "duration": 79,
    "start_time": "2022-05-12T11:01:00.395Z"
   },
   {
    "duration": 31,
    "start_time": "2022-05-12T11:01:00.476Z"
   },
   {
    "duration": 57,
    "start_time": "2022-05-12T11:01:00.509Z"
   },
   {
    "duration": 11,
    "start_time": "2022-05-12T11:01:00.568Z"
   },
   {
    "duration": 27,
    "start_time": "2022-05-12T11:01:00.581Z"
   },
   {
    "duration": 24,
    "start_time": "2022-05-12T11:01:00.612Z"
   },
   {
    "duration": 20,
    "start_time": "2022-05-12T11:01:00.638Z"
   },
   {
    "duration": 31,
    "start_time": "2022-05-12T11:01:00.661Z"
   },
   {
    "duration": 16,
    "start_time": "2022-05-12T11:01:00.695Z"
   },
   {
    "duration": 17,
    "start_time": "2022-05-12T11:01:00.714Z"
   },
   {
    "duration": 17,
    "start_time": "2022-05-12T11:01:00.734Z"
   },
   {
    "duration": 35,
    "start_time": "2022-05-12T11:01:00.765Z"
   },
   {
    "duration": 9,
    "start_time": "2022-05-12T11:01:00.803Z"
   },
   {
    "duration": 49,
    "start_time": "2022-05-12T11:01:00.814Z"
   },
   {
    "duration": 15,
    "start_time": "2022-05-12T11:01:00.866Z"
   },
   {
    "duration": 639,
    "start_time": "2022-05-12T11:01:00.883Z"
   },
   {
    "duration": 13,
    "start_time": "2022-05-12T11:01:01.525Z"
   },
   {
    "duration": 57,
    "start_time": "2022-05-12T11:01:01.556Z"
   },
   {
    "duration": 4,
    "start_time": "2022-05-12T11:01:01.615Z"
   },
   {
    "duration": 2719,
    "start_time": "2022-05-12T11:01:01.621Z"
   },
   {
    "duration": 15,
    "start_time": "2022-05-12T11:01:04.343Z"
   },
   {
    "duration": 22,
    "start_time": "2022-05-12T11:01:04.361Z"
   },
   {
    "duration": 153,
    "start_time": "2022-05-12T11:01:04.386Z"
   },
   {
    "duration": 1471,
    "start_time": "2022-05-12T11:01:04.559Z"
   },
   {
    "duration": 25,
    "start_time": "2022-05-12T11:01:06.033Z"
   },
   {
    "duration": 24,
    "start_time": "2022-05-12T11:01:06.061Z"
   },
   {
    "duration": 9,
    "start_time": "2022-05-12T11:01:06.088Z"
   },
   {
    "duration": 24,
    "start_time": "2022-05-12T11:01:06.099Z"
   },
   {
    "duration": 274,
    "start_time": "2022-05-12T11:01:06.125Z"
   },
   {
    "duration": 6,
    "start_time": "2022-05-12T11:01:06.402Z"
   },
   {
    "duration": 295,
    "start_time": "2022-05-12T11:01:06.410Z"
   },
   {
    "duration": 9,
    "start_time": "2022-05-12T11:01:06.707Z"
   },
   {
    "duration": 12,
    "start_time": "2022-05-12T11:01:06.718Z"
   },
   {
    "duration": 313,
    "start_time": "2022-05-12T11:01:06.757Z"
   },
   {
    "duration": 36,
    "start_time": "2022-05-12T11:01:07.072Z"
   },
   {
    "duration": 323,
    "start_time": "2022-05-12T11:01:07.111Z"
   },
   {
    "duration": 52,
    "start_time": "2022-05-12T11:01:07.437Z"
   },
   {
    "duration": 579,
    "start_time": "2022-05-12T11:01:07.491Z"
   },
   {
    "duration": 23,
    "start_time": "2022-05-12T11:01:08.072Z"
   },
   {
    "duration": 679,
    "start_time": "2022-05-12T11:01:08.097Z"
   },
   {
    "duration": 11,
    "start_time": "2022-05-12T11:01:08.779Z"
   },
   {
    "duration": 62,
    "start_time": "2022-05-12T11:01:08.792Z"
   },
   {
    "duration": 15,
    "start_time": "2022-05-12T11:01:08.856Z"
   },
   {
    "duration": 13,
    "start_time": "2022-05-12T11:01:08.874Z"
   },
   {
    "duration": 15,
    "start_time": "2022-05-12T11:01:08.889Z"
   },
   {
    "duration": 1126,
    "start_time": "2022-05-12T11:01:08.956Z"
   },
   {
    "duration": 12,
    "start_time": "2022-05-12T11:01:10.085Z"
   },
   {
    "duration": 7,
    "start_time": "2022-05-12T11:01:10.151Z"
   },
   {
    "duration": 23,
    "start_time": "2022-05-12T11:01:10.161Z"
   },
   {
    "duration": 7,
    "start_time": "2022-05-12T11:01:10.190Z"
   },
   {
    "duration": 54,
    "start_time": "2022-05-12T11:01:10.199Z"
   },
   {
    "duration": 888,
    "start_time": "2022-05-12T11:01:10.263Z"
   },
   {
    "duration": 26,
    "start_time": "2022-05-12T11:02:19.793Z"
   },
   {
    "duration": 32,
    "start_time": "2022-05-12T11:02:22.245Z"
   },
   {
    "duration": 9,
    "start_time": "2022-05-12T11:02:30.256Z"
   },
   {
    "duration": 12,
    "start_time": "2022-05-12T11:02:31.410Z"
   },
   {
    "duration": 38,
    "start_time": "2022-05-12T11:02:32.939Z"
   },
   {
    "duration": 7,
    "start_time": "2022-05-12T11:02:41.720Z"
   },
   {
    "duration": 10,
    "start_time": "2022-05-12T11:02:42.165Z"
   },
   {
    "duration": 9,
    "start_time": "2022-05-12T11:02:46.690Z"
   },
   {
    "duration": 25,
    "start_time": "2022-05-12T11:02:48.754Z"
   },
   {
    "duration": 3,
    "start_time": "2022-05-12T11:03:06.337Z"
   },
   {
    "duration": 83,
    "start_time": "2022-05-12T11:03:06.344Z"
   },
   {
    "duration": 31,
    "start_time": "2022-05-12T11:03:06.429Z"
   },
   {
    "duration": 28,
    "start_time": "2022-05-12T11:03:06.462Z"
   },
   {
    "duration": 4,
    "start_time": "2022-05-12T11:03:06.493Z"
   },
   {
    "duration": 60,
    "start_time": "2022-05-12T11:03:06.499Z"
   },
   {
    "duration": 32,
    "start_time": "2022-05-12T11:03:06.561Z"
   },
   {
    "duration": 25,
    "start_time": "2022-05-12T11:03:06.595Z"
   },
   {
    "duration": 34,
    "start_time": "2022-05-12T11:03:06.622Z"
   },
   {
    "duration": 16,
    "start_time": "2022-05-12T11:03:06.659Z"
   },
   {
    "duration": 20,
    "start_time": "2022-05-12T11:03:06.677Z"
   },
   {
    "duration": 10,
    "start_time": "2022-05-12T11:03:06.699Z"
   },
   {
    "duration": 13,
    "start_time": "2022-05-12T11:03:06.711Z"
   },
   {
    "duration": 11,
    "start_time": "2022-05-12T11:03:06.758Z"
   },
   {
    "duration": 12,
    "start_time": "2022-05-12T11:03:06.771Z"
   },
   {
    "duration": 13,
    "start_time": "2022-05-12T11:03:06.785Z"
   },
   {
    "duration": 23,
    "start_time": "2022-05-12T11:03:06.800Z"
   },
   {
    "duration": 42,
    "start_time": "2022-05-12T11:03:06.826Z"
   },
   {
    "duration": 38,
    "start_time": "2022-05-12T11:03:06.870Z"
   },
   {
    "duration": 16,
    "start_time": "2022-05-12T11:03:06.910Z"
   },
   {
    "duration": 491,
    "start_time": "2022-05-12T11:03:06.928Z"
   },
   {
    "duration": 12,
    "start_time": "2022-05-12T11:03:07.421Z"
   },
   {
    "duration": 68,
    "start_time": "2022-05-12T11:03:07.435Z"
   },
   {
    "duration": 4,
    "start_time": "2022-05-12T11:03:07.506Z"
   },
   {
    "duration": 2757,
    "start_time": "2022-05-12T11:03:07.512Z"
   },
   {
    "duration": 9,
    "start_time": "2022-05-12T11:03:10.271Z"
   },
   {
    "duration": 11,
    "start_time": "2022-05-12T11:03:33.775Z"
   },
   {
    "duration": 32,
    "start_time": "2022-05-12T11:03:46.800Z"
   },
   {
    "duration": 1465,
    "start_time": "2022-05-12T11:04:33.202Z"
   },
   {
    "duration": 1309,
    "start_time": "2022-05-12T11:04:41.765Z"
   },
   {
    "duration": 301,
    "start_time": "2022-05-12T11:05:58.272Z"
   },
   {
    "duration": 1156,
    "start_time": "2022-05-12T11:06:21.361Z"
   },
   {
    "duration": 236,
    "start_time": "2022-05-12T11:08:06.446Z"
   },
   {
    "duration": 946,
    "start_time": "2022-05-12T11:08:17.791Z"
   },
   {
    "duration": 5,
    "start_time": "2022-05-12T11:11:03.022Z"
   },
   {
    "duration": 85,
    "start_time": "2022-05-12T11:11:03.031Z"
   },
   {
    "duration": 58,
    "start_time": "2022-05-12T11:11:03.118Z"
   },
   {
    "duration": 25,
    "start_time": "2022-05-12T11:11:03.180Z"
   },
   {
    "duration": 5,
    "start_time": "2022-05-12T11:11:03.208Z"
   },
   {
    "duration": 56,
    "start_time": "2022-05-12T11:11:03.215Z"
   },
   {
    "duration": 31,
    "start_time": "2022-05-12T11:11:03.274Z"
   },
   {
    "duration": 49,
    "start_time": "2022-05-12T11:11:03.307Z"
   },
   {
    "duration": 9,
    "start_time": "2022-05-12T11:11:03.362Z"
   },
   {
    "duration": 16,
    "start_time": "2022-05-12T11:11:03.375Z"
   },
   {
    "duration": 23,
    "start_time": "2022-05-12T11:11:03.393Z"
   },
   {
    "duration": 45,
    "start_time": "2022-05-12T11:11:03.418Z"
   },
   {
    "duration": 22,
    "start_time": "2022-05-12T11:11:03.466Z"
   },
   {
    "duration": 9,
    "start_time": "2022-05-12T11:11:03.490Z"
   },
   {
    "duration": 7,
    "start_time": "2022-05-12T11:11:03.501Z"
   },
   {
    "duration": 9,
    "start_time": "2022-05-12T11:11:03.510Z"
   },
   {
    "duration": 51,
    "start_time": "2022-05-12T11:11:03.522Z"
   },
   {
    "duration": 7,
    "start_time": "2022-05-12T11:11:03.576Z"
   },
   {
    "duration": 35,
    "start_time": "2022-05-12T11:11:03.586Z"
   },
   {
    "duration": 41,
    "start_time": "2022-05-12T11:11:03.624Z"
   },
   {
    "duration": 615,
    "start_time": "2022-05-12T11:11:03.669Z"
   },
   {
    "duration": 19,
    "start_time": "2022-05-12T11:11:04.287Z"
   },
   {
    "duration": 117,
    "start_time": "2022-05-12T11:11:04.309Z"
   },
   {
    "duration": 5,
    "start_time": "2022-05-12T11:11:04.434Z"
   },
   {
    "duration": 2769,
    "start_time": "2022-05-12T11:11:04.442Z"
   },
   {
    "duration": 9,
    "start_time": "2022-05-12T11:11:07.214Z"
   },
   {
    "duration": 45,
    "start_time": "2022-05-12T11:11:07.225Z"
   },
   {
    "duration": 36,
    "start_time": "2022-05-12T11:11:07.272Z"
   },
   {
    "duration": 883,
    "start_time": "2022-05-12T11:11:29.322Z"
   },
   {
    "duration": 8,
    "start_time": "2022-05-12T11:15:35.721Z"
   },
   {
    "duration": 11,
    "start_time": "2022-05-12T11:15:36.625Z"
   },
   {
    "duration": 33,
    "start_time": "2022-05-12T11:15:37.982Z"
   },
   {
    "duration": 4,
    "start_time": "2022-05-12T11:15:42.997Z"
   },
   {
    "duration": 73,
    "start_time": "2022-05-12T11:15:43.004Z"
   },
   {
    "duration": 20,
    "start_time": "2022-05-12T11:15:43.080Z"
   },
   {
    "duration": 52,
    "start_time": "2022-05-12T11:15:43.102Z"
   },
   {
    "duration": 4,
    "start_time": "2022-05-12T11:15:43.157Z"
   },
   {
    "duration": 29,
    "start_time": "2022-05-12T11:15:43.163Z"
   },
   {
    "duration": 30,
    "start_time": "2022-05-12T11:15:43.194Z"
   },
   {
    "duration": 30,
    "start_time": "2022-05-12T11:15:43.251Z"
   },
   {
    "duration": 23,
    "start_time": "2022-05-12T11:15:43.283Z"
   },
   {
    "duration": 46,
    "start_time": "2022-05-12T11:15:43.308Z"
   },
   {
    "duration": 30,
    "start_time": "2022-05-12T11:15:43.358Z"
   },
   {
    "duration": 20,
    "start_time": "2022-05-12T11:15:43.391Z"
   },
   {
    "duration": 14,
    "start_time": "2022-05-12T11:15:43.413Z"
   },
   {
    "duration": 20,
    "start_time": "2022-05-12T11:15:43.428Z"
   },
   {
    "duration": 25,
    "start_time": "2022-05-12T11:15:43.450Z"
   },
   {
    "duration": 25,
    "start_time": "2022-05-12T11:15:43.477Z"
   },
   {
    "duration": 27,
    "start_time": "2022-05-12T11:15:43.504Z"
   },
   {
    "duration": 15,
    "start_time": "2022-05-12T11:15:43.534Z"
   },
   {
    "duration": 40,
    "start_time": "2022-05-12T11:15:43.551Z"
   },
   {
    "duration": 28,
    "start_time": "2022-05-12T11:15:43.594Z"
   },
   {
    "duration": 563,
    "start_time": "2022-05-12T11:15:43.625Z"
   },
   {
    "duration": 11,
    "start_time": "2022-05-12T11:15:44.191Z"
   },
   {
    "duration": 69,
    "start_time": "2022-05-12T11:15:44.204Z"
   },
   {
    "duration": 4,
    "start_time": "2022-05-12T11:15:44.275Z"
   },
   {
    "duration": 2378,
    "start_time": "2022-05-12T11:15:44.281Z"
   },
   {
    "duration": 9,
    "start_time": "2022-05-12T11:15:46.661Z"
   },
   {
    "duration": 11,
    "start_time": "2022-05-12T11:15:46.672Z"
   },
   {
    "duration": 36,
    "start_time": "2022-05-12T11:15:46.685Z"
   },
   {
    "duration": 1064,
    "start_time": "2022-05-12T11:16:13.190Z"
   },
   {
    "duration": 11,
    "start_time": "2022-05-12T11:25:26.230Z"
   },
   {
    "duration": 10,
    "start_time": "2022-05-12T11:25:27.209Z"
   },
   {
    "duration": 8,
    "start_time": "2022-05-12T11:25:33.026Z"
   },
   {
    "duration": 7,
    "start_time": "2022-05-12T11:25:33.562Z"
   },
   {
    "duration": 242,
    "start_time": "2022-05-12T11:25:34.517Z"
   },
   {
    "duration": 8,
    "start_time": "2022-05-12T11:26:03.376Z"
   },
   {
    "duration": 8,
    "start_time": "2022-05-12T11:26:06.193Z"
   },
   {
    "duration": 225,
    "start_time": "2022-05-12T11:26:11.246Z"
   },
   {
    "duration": 6,
    "start_time": "2022-05-12T11:26:25.847Z"
   },
   {
    "duration": 9,
    "start_time": "2022-05-12T11:28:54.910Z"
   },
   {
    "duration": 9,
    "start_time": "2022-05-12T11:29:29.201Z"
   },
   {
    "duration": 5,
    "start_time": "2022-05-12T11:29:58.967Z"
   },
   {
    "duration": 84,
    "start_time": "2022-05-12T11:29:58.975Z"
   },
   {
    "duration": 21,
    "start_time": "2022-05-12T11:29:59.062Z"
   },
   {
    "duration": 23,
    "start_time": "2022-05-12T11:29:59.085Z"
   },
   {
    "duration": 4,
    "start_time": "2022-05-12T11:29:59.111Z"
   },
   {
    "duration": 33,
    "start_time": "2022-05-12T11:29:59.151Z"
   },
   {
    "duration": 66,
    "start_time": "2022-05-12T11:29:59.186Z"
   },
   {
    "duration": 24,
    "start_time": "2022-05-12T11:29:59.254Z"
   },
   {
    "duration": 11,
    "start_time": "2022-05-12T11:29:59.280Z"
   },
   {
    "duration": 12,
    "start_time": "2022-05-12T11:29:59.294Z"
   },
   {
    "duration": 49,
    "start_time": "2022-05-12T11:29:59.310Z"
   },
   {
    "duration": 6,
    "start_time": "2022-05-12T11:29:59.361Z"
   },
   {
    "duration": 15,
    "start_time": "2022-05-12T11:29:59.370Z"
   },
   {
    "duration": 16,
    "start_time": "2022-05-12T11:29:59.388Z"
   },
   {
    "duration": 15,
    "start_time": "2022-05-12T11:29:59.407Z"
   },
   {
    "duration": 33,
    "start_time": "2022-05-12T11:29:59.425Z"
   },
   {
    "duration": 37,
    "start_time": "2022-05-12T11:29:59.460Z"
   },
   {
    "duration": 14,
    "start_time": "2022-05-12T11:29:59.500Z"
   },
   {
    "duration": 54,
    "start_time": "2022-05-12T11:29:59.516Z"
   },
   {
    "duration": 14,
    "start_time": "2022-05-12T11:29:59.572Z"
   },
   {
    "duration": 517,
    "start_time": "2022-05-12T11:29:59.589Z"
   },
   {
    "duration": 13,
    "start_time": "2022-05-12T11:30:00.108Z"
   },
   {
    "duration": 72,
    "start_time": "2022-05-12T11:30:00.123Z"
   },
   {
    "duration": 4,
    "start_time": "2022-05-12T11:30:00.197Z"
   },
   {
    "duration": 2703,
    "start_time": "2022-05-12T11:30:00.203Z"
   },
   {
    "duration": 9,
    "start_time": "2022-05-12T11:30:02.909Z"
   },
   {
    "duration": 17,
    "start_time": "2022-05-12T11:30:02.920Z"
   },
   {
    "duration": 42,
    "start_time": "2022-05-12T11:30:02.939Z"
   },
   {
    "duration": 1003,
    "start_time": "2022-05-12T11:30:02.987Z"
   },
   {
    "duration": 10,
    "start_time": "2022-05-12T11:30:03.992Z"
   },
   {
    "duration": 21,
    "start_time": "2022-05-12T11:30:04.004Z"
   },
   {
    "duration": 24,
    "start_time": "2022-05-12T11:30:04.028Z"
   },
   {
    "duration": 15,
    "start_time": "2022-05-12T11:30:04.054Z"
   },
   {
    "duration": 248,
    "start_time": "2022-05-12T11:30:04.072Z"
   },
   {
    "duration": 7,
    "start_time": "2022-05-12T11:30:04.323Z"
   },
   {
    "duration": 248,
    "start_time": "2022-05-12T11:30:04.332Z"
   },
   {
    "duration": 8,
    "start_time": "2022-05-12T11:30:04.582Z"
   },
   {
    "duration": 12,
    "start_time": "2022-05-12T11:30:04.593Z"
   },
   {
    "duration": 285,
    "start_time": "2022-05-12T11:30:04.608Z"
   },
   {
    "duration": 32,
    "start_time": "2022-05-12T11:30:04.896Z"
   },
   {
    "duration": 307,
    "start_time": "2022-05-12T11:30:04.930Z"
   },
   {
    "duration": 40,
    "start_time": "2022-05-12T11:30:05.240Z"
   },
   {
    "duration": 452,
    "start_time": "2022-05-12T11:30:05.282Z"
   },
   {
    "duration": 38,
    "start_time": "2022-05-12T11:30:05.736Z"
   },
   {
    "duration": 301,
    "start_time": "2022-05-12T11:30:05.777Z"
   },
   {
    "duration": 12,
    "start_time": "2022-05-12T11:30:06.081Z"
   },
   {
    "duration": 14,
    "start_time": "2022-05-12T11:30:06.096Z"
   },
   {
    "duration": 18,
    "start_time": "2022-05-12T11:30:06.112Z"
   },
   {
    "duration": 21,
    "start_time": "2022-05-12T11:30:06.132Z"
   },
   {
    "duration": 19,
    "start_time": "2022-05-12T11:30:06.155Z"
   },
   {
    "duration": 363,
    "start_time": "2022-05-12T11:30:06.176Z"
   },
   {
    "duration": 19,
    "start_time": "2022-05-12T11:30:06.542Z"
   },
   {
    "duration": 14,
    "start_time": "2022-05-12T11:30:06.564Z"
   },
   {
    "duration": 16,
    "start_time": "2022-05-12T11:30:06.580Z"
   },
   {
    "duration": 9,
    "start_time": "2022-05-12T11:30:06.598Z"
   },
   {
    "duration": 11,
    "start_time": "2022-05-12T11:30:06.609Z"
   },
   {
    "duration": 370,
    "start_time": "2022-05-12T11:30:06.651Z"
   },
   {
    "duration": 10,
    "start_time": "2022-05-12T11:36:06.407Z"
   },
   {
    "duration": 12,
    "start_time": "2022-05-12T11:36:35.071Z"
   },
   {
    "duration": 11,
    "start_time": "2022-05-12T11:36:44.960Z"
   },
   {
    "duration": 336,
    "start_time": "2022-05-12T11:37:10.386Z"
   },
   {
    "duration": 22,
    "start_time": "2022-05-12T11:40:00.367Z"
   },
   {
    "duration": 4,
    "start_time": "2022-05-12T11:40:15.669Z"
   },
   {
    "duration": 88,
    "start_time": "2022-05-12T11:40:15.677Z"
   },
   {
    "duration": 21,
    "start_time": "2022-05-12T11:40:15.768Z"
   },
   {
    "duration": 22,
    "start_time": "2022-05-12T11:40:15.792Z"
   },
   {
    "duration": 5,
    "start_time": "2022-05-12T11:40:15.817Z"
   },
   {
    "duration": 32,
    "start_time": "2022-05-12T11:40:15.852Z"
   },
   {
    "duration": 68,
    "start_time": "2022-05-12T11:40:15.887Z"
   },
   {
    "duration": 39,
    "start_time": "2022-05-12T11:40:15.958Z"
   },
   {
    "duration": 8,
    "start_time": "2022-05-12T11:40:16.000Z"
   },
   {
    "duration": 20,
    "start_time": "2022-05-12T11:40:16.010Z"
   },
   {
    "duration": 45,
    "start_time": "2022-05-12T11:40:16.034Z"
   },
   {
    "duration": 10,
    "start_time": "2022-05-12T11:40:16.082Z"
   },
   {
    "duration": 18,
    "start_time": "2022-05-12T11:40:16.094Z"
   },
   {
    "duration": 12,
    "start_time": "2022-05-12T11:40:16.114Z"
   },
   {
    "duration": 30,
    "start_time": "2022-05-12T11:40:16.128Z"
   },
   {
    "duration": 11,
    "start_time": "2022-05-12T11:40:16.160Z"
   },
   {
    "duration": 22,
    "start_time": "2022-05-12T11:40:16.175Z"
   },
   {
    "duration": 8,
    "start_time": "2022-05-12T11:40:16.199Z"
   },
   {
    "duration": 73,
    "start_time": "2022-05-12T11:40:16.209Z"
   },
   {
    "duration": 11,
    "start_time": "2022-05-12T11:40:16.284Z"
   },
   {
    "duration": 508,
    "start_time": "2022-05-12T11:40:16.297Z"
   },
   {
    "duration": 12,
    "start_time": "2022-05-12T11:40:16.807Z"
   },
   {
    "duration": 80,
    "start_time": "2022-05-12T11:40:16.821Z"
   },
   {
    "duration": 4,
    "start_time": "2022-05-12T11:40:16.904Z"
   },
   {
    "duration": 2658,
    "start_time": "2022-05-12T11:40:16.910Z"
   },
   {
    "duration": 10,
    "start_time": "2022-05-12T11:40:19.570Z"
   },
   {
    "duration": 11,
    "start_time": "2022-05-12T11:40:19.582Z"
   },
   {
    "duration": 59,
    "start_time": "2022-05-12T11:40:19.595Z"
   },
   {
    "duration": 921,
    "start_time": "2022-05-12T11:40:19.663Z"
   },
   {
    "duration": 10,
    "start_time": "2022-05-12T11:40:20.586Z"
   },
   {
    "duration": 35,
    "start_time": "2022-05-12T11:40:20.599Z"
   },
   {
    "duration": 25,
    "start_time": "2022-05-12T11:40:20.637Z"
   },
   {
    "duration": 34,
    "start_time": "2022-05-12T11:40:20.666Z"
   },
   {
    "duration": 274,
    "start_time": "2022-05-12T11:40:20.702Z"
   },
   {
    "duration": 6,
    "start_time": "2022-05-12T11:40:20.979Z"
   },
   {
    "duration": 261,
    "start_time": "2022-05-12T11:40:20.988Z"
   },
   {
    "duration": 13,
    "start_time": "2022-05-12T11:40:21.253Z"
   },
   {
    "duration": 24,
    "start_time": "2022-05-12T11:40:21.268Z"
   },
   {
    "duration": 282,
    "start_time": "2022-05-12T11:40:21.295Z"
   },
   {
    "duration": 22,
    "start_time": "2022-05-12T11:40:21.579Z"
   },
   {
    "duration": 420,
    "start_time": "2022-05-12T11:40:21.603Z"
   },
   {
    "duration": 51,
    "start_time": "2022-05-12T11:40:22.025Z"
   },
   {
    "duration": 288,
    "start_time": "2022-05-12T11:40:22.078Z"
   },
   {
    "duration": 23,
    "start_time": "2022-05-12T11:40:22.370Z"
   },
   {
    "duration": 327,
    "start_time": "2022-05-12T11:40:22.396Z"
   },
   {
    "duration": 30,
    "start_time": "2022-05-12T11:40:22.726Z"
   },
   {
    "duration": 18,
    "start_time": "2022-05-12T11:40:22.759Z"
   },
   {
    "duration": 33,
    "start_time": "2022-05-12T11:40:22.780Z"
   },
   {
    "duration": 16,
    "start_time": "2022-05-12T11:40:22.816Z"
   },
   {
    "duration": 22,
    "start_time": "2022-05-12T11:40:22.834Z"
   },
   {
    "duration": 402,
    "start_time": "2022-05-12T11:40:22.859Z"
   },
   {
    "duration": 12,
    "start_time": "2022-05-12T11:40:23.264Z"
   },
   {
    "duration": 16,
    "start_time": "2022-05-12T11:40:23.278Z"
   },
   {
    "duration": 33,
    "start_time": "2022-05-12T11:40:23.297Z"
   },
   {
    "duration": 17,
    "start_time": "2022-05-12T11:40:23.333Z"
   },
   {
    "duration": 21,
    "start_time": "2022-05-12T11:40:23.357Z"
   },
   {
    "duration": 402,
    "start_time": "2022-05-12T11:40:23.380Z"
   },
   {
    "duration": 25,
    "start_time": "2022-05-12T11:41:16.584Z"
   },
   {
    "duration": 51,
    "start_time": "2022-05-12T11:44:19.816Z"
   },
   {
    "duration": 35,
    "start_time": "2022-05-12T11:48:21.859Z"
   },
   {
    "duration": 13,
    "start_time": "2022-05-12T12:20:35.671Z"
   },
   {
    "duration": 8,
    "start_time": "2022-05-12T12:20:42.949Z"
   },
   {
    "duration": 53,
    "start_time": "2022-05-12T12:26:05.613Z"
   },
   {
    "duration": 12,
    "start_time": "2022-05-12T12:48:51.838Z"
   },
   {
    "duration": 13,
    "start_time": "2022-05-12T12:48:55.783Z"
   },
   {
    "duration": 4,
    "start_time": "2022-05-12T12:49:00.575Z"
   },
   {
    "duration": 116,
    "start_time": "2022-05-12T12:49:00.582Z"
   },
   {
    "duration": 20,
    "start_time": "2022-05-12T12:49:00.701Z"
   },
   {
    "duration": 38,
    "start_time": "2022-05-12T12:49:00.724Z"
   },
   {
    "duration": 5,
    "start_time": "2022-05-12T12:49:00.766Z"
   },
   {
    "duration": 46,
    "start_time": "2022-05-12T12:49:00.774Z"
   },
   {
    "duration": 41,
    "start_time": "2022-05-12T12:49:00.822Z"
   },
   {
    "duration": 39,
    "start_time": "2022-05-12T12:49:00.867Z"
   },
   {
    "duration": 8,
    "start_time": "2022-05-12T12:49:00.910Z"
   },
   {
    "duration": 16,
    "start_time": "2022-05-12T12:49:00.921Z"
   },
   {
    "duration": 33,
    "start_time": "2022-05-12T12:49:00.939Z"
   },
   {
    "duration": 7,
    "start_time": "2022-05-12T12:49:00.974Z"
   },
   {
    "duration": 30,
    "start_time": "2022-05-12T12:49:00.983Z"
   },
   {
    "duration": 24,
    "start_time": "2022-05-12T12:49:01.015Z"
   },
   {
    "duration": 13,
    "start_time": "2022-05-12T12:49:01.041Z"
   },
   {
    "duration": 44,
    "start_time": "2022-05-12T12:49:01.056Z"
   },
   {
    "duration": 29,
    "start_time": "2022-05-12T12:49:01.102Z"
   },
   {
    "duration": 9,
    "start_time": "2022-05-12T12:49:01.133Z"
   },
   {
    "duration": 54,
    "start_time": "2022-05-12T12:49:01.144Z"
   },
   {
    "duration": 11,
    "start_time": "2022-05-12T12:49:01.200Z"
   },
   {
    "duration": 520,
    "start_time": "2022-05-12T12:49:01.213Z"
   },
   {
    "duration": 23,
    "start_time": "2022-05-12T12:49:01.735Z"
   },
   {
    "duration": 62,
    "start_time": "2022-05-12T12:49:01.761Z"
   },
   {
    "duration": 28,
    "start_time": "2022-05-12T12:49:01.828Z"
   },
   {
    "duration": 2758,
    "start_time": "2022-05-12T12:49:01.859Z"
   },
   {
    "duration": 10,
    "start_time": "2022-05-12T12:49:04.620Z"
   },
   {
    "duration": 25,
    "start_time": "2022-05-12T12:49:04.632Z"
   },
   {
    "duration": 42,
    "start_time": "2022-05-12T12:49:04.665Z"
   },
   {
    "duration": 981,
    "start_time": "2022-05-12T12:49:04.709Z"
   },
   {
    "duration": 9,
    "start_time": "2022-05-12T12:49:05.692Z"
   },
   {
    "duration": 12,
    "start_time": "2022-05-12T12:49:05.703Z"
   },
   {
    "duration": 11,
    "start_time": "2022-05-12T12:49:05.717Z"
   },
   {
    "duration": 24,
    "start_time": "2022-05-12T12:49:05.752Z"
   },
   {
    "duration": 291,
    "start_time": "2022-05-12T12:49:05.778Z"
   },
   {
    "duration": 9,
    "start_time": "2022-05-12T12:49:06.072Z"
   },
   {
    "duration": 260,
    "start_time": "2022-05-12T12:49:06.084Z"
   },
   {
    "duration": 37,
    "start_time": "2022-05-12T12:49:06.352Z"
   },
   {
    "duration": 11,
    "start_time": "2022-05-12T12:49:06.392Z"
   },
   {
    "duration": 14,
    "start_time": "2022-05-12T12:49:06.405Z"
   },
   {
    "duration": 310,
    "start_time": "2022-05-12T12:49:06.421Z"
   },
   {
    "duration": 34,
    "start_time": "2022-05-12T12:49:06.734Z"
   },
   {
    "duration": 407,
    "start_time": "2022-05-12T12:49:06.771Z"
   },
   {
    "duration": 30,
    "start_time": "2022-05-12T12:49:07.180Z"
   },
   {
    "duration": 291,
    "start_time": "2022-05-12T12:49:07.213Z"
   },
   {
    "duration": 21,
    "start_time": "2022-05-12T12:49:07.506Z"
   },
   {
    "duration": 314,
    "start_time": "2022-05-12T12:49:07.529Z"
   },
   {
    "duration": 15,
    "start_time": "2022-05-12T12:49:07.852Z"
   },
   {
    "duration": 13,
    "start_time": "2022-05-12T12:49:07.869Z"
   },
   {
    "duration": 12,
    "start_time": "2022-05-12T12:49:07.884Z"
   },
   {
    "duration": 12,
    "start_time": "2022-05-12T12:49:07.899Z"
   },
   {
    "duration": 13,
    "start_time": "2022-05-12T12:49:07.914Z"
   },
   {
    "duration": 378,
    "start_time": "2022-05-12T12:49:07.959Z"
   },
   {
    "duration": 25,
    "start_time": "2022-05-12T12:49:08.339Z"
   },
   {
    "duration": 8,
    "start_time": "2022-05-12T12:49:08.367Z"
   },
   {
    "duration": 13,
    "start_time": "2022-05-12T12:49:08.377Z"
   },
   {
    "duration": 6,
    "start_time": "2022-05-12T12:49:08.392Z"
   },
   {
    "duration": 10,
    "start_time": "2022-05-12T12:49:08.400Z"
   },
   {
    "duration": 395,
    "start_time": "2022-05-12T12:49:08.412Z"
   },
   {
    "duration": 9,
    "start_time": "2022-05-12T12:50:18.630Z"
   },
   {
    "duration": 8,
    "start_time": "2022-05-12T12:50:19.117Z"
   },
   {
    "duration": 2595,
    "start_time": "2022-05-12T12:50:19.668Z"
   },
   {
    "duration": 0,
    "start_time": "2022-05-12T12:50:22.266Z"
   },
   {
    "duration": 250,
    "start_time": "2022-05-12T12:50:33.031Z"
   },
   {
    "duration": 8,
    "start_time": "2022-05-12T12:50:47.605Z"
   },
   {
    "duration": 259,
    "start_time": "2022-05-12T12:50:49.032Z"
   },
   {
    "duration": 17,
    "start_time": "2022-05-12T12:50:59.852Z"
   },
   {
    "duration": 11,
    "start_time": "2022-05-12T12:51:07.165Z"
   },
   {
    "duration": 5,
    "start_time": "2022-05-12T12:51:12.370Z"
   },
   {
    "duration": 93,
    "start_time": "2022-05-12T12:51:12.378Z"
   },
   {
    "duration": 21,
    "start_time": "2022-05-12T12:51:12.474Z"
   },
   {
    "duration": 26,
    "start_time": "2022-05-12T12:51:12.498Z"
   },
   {
    "duration": 5,
    "start_time": "2022-05-12T12:51:12.554Z"
   },
   {
    "duration": 59,
    "start_time": "2022-05-12T12:51:12.562Z"
   },
   {
    "duration": 57,
    "start_time": "2022-05-12T12:51:12.625Z"
   },
   {
    "duration": 37,
    "start_time": "2022-05-12T12:51:12.685Z"
   },
   {
    "duration": 43,
    "start_time": "2022-05-12T12:51:12.725Z"
   },
   {
    "duration": 16,
    "start_time": "2022-05-12T12:51:12.770Z"
   },
   {
    "duration": 25,
    "start_time": "2022-05-12T12:51:12.789Z"
   },
   {
    "duration": 5,
    "start_time": "2022-05-12T12:51:12.817Z"
   },
   {
    "duration": 33,
    "start_time": "2022-05-12T12:51:12.825Z"
   },
   {
    "duration": 15,
    "start_time": "2022-05-12T12:51:12.866Z"
   },
   {
    "duration": 11,
    "start_time": "2022-05-12T12:51:12.884Z"
   },
   {
    "duration": 10,
    "start_time": "2022-05-12T12:51:12.897Z"
   },
   {
    "duration": 54,
    "start_time": "2022-05-12T12:51:12.910Z"
   },
   {
    "duration": 9,
    "start_time": "2022-05-12T12:51:12.967Z"
   },
   {
    "duration": 74,
    "start_time": "2022-05-12T12:51:12.979Z"
   },
   {
    "duration": 16,
    "start_time": "2022-05-12T12:51:13.058Z"
   },
   {
    "duration": 539,
    "start_time": "2022-05-12T12:51:13.077Z"
   },
   {
    "duration": 12,
    "start_time": "2022-05-12T12:51:13.618Z"
   },
   {
    "duration": 55,
    "start_time": "2022-05-12T12:51:13.652Z"
   },
   {
    "duration": 4,
    "start_time": "2022-05-12T12:51:13.709Z"
   },
   {
    "duration": 4824,
    "start_time": "2022-05-12T12:51:13.715Z"
   },
   {
    "duration": 20,
    "start_time": "2022-05-12T12:51:18.541Z"
   },
   {
    "duration": 15,
    "start_time": "2022-05-12T12:51:18.564Z"
   },
   {
    "duration": 33,
    "start_time": "2022-05-12T12:51:18.581Z"
   },
   {
    "duration": 929,
    "start_time": "2022-05-12T12:51:18.616Z"
   },
   {
    "duration": 16,
    "start_time": "2022-05-12T12:51:19.548Z"
   },
   {
    "duration": 12,
    "start_time": "2022-05-12T12:51:19.567Z"
   },
   {
    "duration": 9,
    "start_time": "2022-05-12T12:51:19.582Z"
   },
   {
    "duration": 9,
    "start_time": "2022-05-12T12:51:19.593Z"
   },
   {
    "duration": 447,
    "start_time": "2022-05-12T12:51:19.605Z"
   },
   {
    "duration": 9,
    "start_time": "2022-05-12T12:51:20.056Z"
   },
   {
    "duration": 255,
    "start_time": "2022-05-12T12:51:20.067Z"
   },
   {
    "duration": 14,
    "start_time": "2022-05-12T12:51:54.578Z"
   },
   {
    "duration": 68,
    "start_time": "2022-05-12T12:57:41.650Z"
   },
   {
    "duration": 65,
    "start_time": "2022-05-13T08:03:38.695Z"
   },
   {
    "duration": 1408,
    "start_time": "2022-05-13T08:03:41.883Z"
   },
   {
    "duration": 56,
    "start_time": "2022-05-13T08:03:43.293Z"
   },
   {
    "duration": 25,
    "start_time": "2022-05-13T08:03:43.350Z"
   },
   {
    "duration": 21,
    "start_time": "2022-05-13T08:03:43.379Z"
   },
   {
    "duration": 3,
    "start_time": "2022-05-13T08:03:43.402Z"
   },
   {
    "duration": 20,
    "start_time": "2022-05-13T08:03:43.407Z"
   },
   {
    "duration": 41,
    "start_time": "2022-05-13T08:03:43.429Z"
   },
   {
    "duration": 29,
    "start_time": "2022-05-13T08:03:43.472Z"
   },
   {
    "duration": 6,
    "start_time": "2022-05-13T08:03:43.503Z"
   },
   {
    "duration": 10,
    "start_time": "2022-05-13T08:03:43.512Z"
   },
   {
    "duration": 17,
    "start_time": "2022-05-13T08:03:43.524Z"
   },
   {
    "duration": 6,
    "start_time": "2022-05-13T08:03:43.563Z"
   },
   {
    "duration": 15,
    "start_time": "2022-05-13T08:03:43.571Z"
   },
   {
    "duration": 14,
    "start_time": "2022-05-13T08:03:43.588Z"
   },
   {
    "duration": 6,
    "start_time": "2022-05-13T08:03:43.604Z"
   },
   {
    "duration": 10,
    "start_time": "2022-05-13T08:03:43.612Z"
   },
   {
    "duration": 13,
    "start_time": "2022-05-13T08:03:43.624Z"
   },
   {
    "duration": 32,
    "start_time": "2022-05-13T08:03:43.638Z"
   },
   {
    "duration": 22,
    "start_time": "2022-05-13T08:03:43.671Z"
   },
   {
    "duration": 8,
    "start_time": "2022-05-13T08:03:43.694Z"
   },
   {
    "duration": 314,
    "start_time": "2022-05-13T08:03:43.704Z"
   },
   {
    "duration": 10,
    "start_time": "2022-05-13T08:03:44.020Z"
   },
   {
    "duration": 60,
    "start_time": "2022-05-13T08:03:44.032Z"
   },
   {
    "duration": 4,
    "start_time": "2022-05-13T08:03:44.093Z"
   },
   {
    "duration": 2036,
    "start_time": "2022-05-13T08:03:44.099Z"
   },
   {
    "duration": 6,
    "start_time": "2022-05-13T08:03:46.136Z"
   },
   {
    "duration": 19,
    "start_time": "2022-05-13T08:03:46.144Z"
   },
   {
    "duration": 44,
    "start_time": "2022-05-13T08:03:46.167Z"
   },
   {
    "duration": 532,
    "start_time": "2022-05-13T08:03:46.213Z"
   },
   {
    "duration": 17,
    "start_time": "2022-05-13T08:03:46.746Z"
   },
   {
    "duration": 26,
    "start_time": "2022-05-13T08:03:46.765Z"
   },
   {
    "duration": 8,
    "start_time": "2022-05-13T08:03:46.793Z"
   },
   {
    "duration": 8,
    "start_time": "2022-05-13T08:03:46.802Z"
   },
   {
    "duration": 184,
    "start_time": "2022-05-13T08:03:46.811Z"
   },
   {
    "duration": 5,
    "start_time": "2022-05-13T08:03:46.997Z"
   },
   {
    "duration": 191,
    "start_time": "2022-05-13T08:03:47.004Z"
   },
   {
    "duration": 139,
    "start_time": "2022-05-13T08:03:47.197Z"
   },
   {
    "duration": 0,
    "start_time": "2022-05-13T08:03:47.337Z"
   },
   {
    "duration": 0,
    "start_time": "2022-05-13T08:03:47.339Z"
   },
   {
    "duration": 0,
    "start_time": "2022-05-13T08:03:47.340Z"
   },
   {
    "duration": 0,
    "start_time": "2022-05-13T08:03:47.342Z"
   },
   {
    "duration": 0,
    "start_time": "2022-05-13T08:03:47.343Z"
   },
   {
    "duration": 0,
    "start_time": "2022-05-13T08:03:47.344Z"
   },
   {
    "duration": 0,
    "start_time": "2022-05-13T08:03:47.345Z"
   },
   {
    "duration": 0,
    "start_time": "2022-05-13T08:03:47.347Z"
   },
   {
    "duration": 0,
    "start_time": "2022-05-13T08:03:47.348Z"
   },
   {
    "duration": 0,
    "start_time": "2022-05-13T08:03:47.350Z"
   },
   {
    "duration": 0,
    "start_time": "2022-05-13T08:03:47.351Z"
   },
   {
    "duration": 0,
    "start_time": "2022-05-13T08:03:47.352Z"
   },
   {
    "duration": 0,
    "start_time": "2022-05-13T08:03:47.353Z"
   },
   {
    "duration": 0,
    "start_time": "2022-05-13T08:03:47.355Z"
   },
   {
    "duration": 0,
    "start_time": "2022-05-13T08:03:47.356Z"
   },
   {
    "duration": 0,
    "start_time": "2022-05-13T08:03:47.357Z"
   },
   {
    "duration": 0,
    "start_time": "2022-05-13T08:03:47.358Z"
   },
   {
    "duration": 0,
    "start_time": "2022-05-13T08:03:47.359Z"
   },
   {
    "duration": 0,
    "start_time": "2022-05-13T08:03:47.360Z"
   },
   {
    "duration": 0,
    "start_time": "2022-05-13T08:03:47.370Z"
   },
   {
    "duration": 0,
    "start_time": "2022-05-13T08:03:47.371Z"
   },
   {
    "duration": 10404,
    "start_time": "2022-05-13T08:04:47.705Z"
   },
   {
    "duration": 3,
    "start_time": "2022-05-13T08:05:32.660Z"
   },
   {
    "duration": 68,
    "start_time": "2022-05-13T08:05:32.682Z"
   },
   {
    "duration": 19,
    "start_time": "2022-05-13T08:05:32.752Z"
   },
   {
    "duration": 17,
    "start_time": "2022-05-13T08:05:32.776Z"
   },
   {
    "duration": 3,
    "start_time": "2022-05-13T08:05:32.796Z"
   },
   {
    "duration": 19,
    "start_time": "2022-05-13T08:05:32.801Z"
   },
   {
    "duration": 44,
    "start_time": "2022-05-13T08:05:32.822Z"
   },
   {
    "duration": 29,
    "start_time": "2022-05-13T08:05:32.869Z"
   },
   {
    "duration": 9,
    "start_time": "2022-05-13T08:05:32.899Z"
   },
   {
    "duration": 15,
    "start_time": "2022-05-13T08:05:32.910Z"
   },
   {
    "duration": 17,
    "start_time": "2022-05-13T08:05:32.929Z"
   },
   {
    "duration": 5,
    "start_time": "2022-05-13T08:05:32.948Z"
   },
   {
    "duration": 11,
    "start_time": "2022-05-13T08:05:32.966Z"
   },
   {
    "duration": 15,
    "start_time": "2022-05-13T08:05:32.978Z"
   },
   {
    "duration": 8,
    "start_time": "2022-05-13T08:05:32.995Z"
   },
   {
    "duration": 7,
    "start_time": "2022-05-13T08:05:33.004Z"
   },
   {
    "duration": 13,
    "start_time": "2022-05-13T08:05:33.013Z"
   },
   {
    "duration": 5,
    "start_time": "2022-05-13T08:05:33.028Z"
   },
   {
    "duration": 48,
    "start_time": "2022-05-13T08:05:33.034Z"
   },
   {
    "duration": 8,
    "start_time": "2022-05-13T08:05:33.084Z"
   },
   {
    "duration": 397,
    "start_time": "2022-05-13T08:05:33.093Z"
   },
   {
    "duration": 11,
    "start_time": "2022-05-13T08:05:33.491Z"
   },
   {
    "duration": 62,
    "start_time": "2022-05-13T08:05:33.503Z"
   },
   {
    "duration": 4,
    "start_time": "2022-05-13T08:05:33.567Z"
   },
   {
    "duration": 2043,
    "start_time": "2022-05-13T08:05:33.572Z"
   },
   {
    "duration": 9,
    "start_time": "2022-05-13T08:05:35.617Z"
   },
   {
    "duration": 11,
    "start_time": "2022-05-13T08:05:35.628Z"
   },
   {
    "duration": 42,
    "start_time": "2022-05-13T08:05:35.641Z"
   },
   {
    "duration": 727,
    "start_time": "2022-05-13T08:05:41.418Z"
   },
   {
    "duration": 501,
    "start_time": "2022-05-13T08:06:36.426Z"
   },
   {
    "duration": 755,
    "start_time": "2022-05-13T08:09:05.548Z"
   },
   {
    "duration": 350,
    "start_time": "2022-05-13T08:09:41.218Z"
   },
   {
    "duration": 256,
    "start_time": "2022-05-13T08:09:55.164Z"
   },
   {
    "duration": 248,
    "start_time": "2022-05-13T08:10:05.828Z"
   },
   {
    "duration": 422,
    "start_time": "2022-05-13T08:10:15.771Z"
   },
   {
    "duration": 450,
    "start_time": "2022-05-13T08:10:59.733Z"
   },
   {
    "duration": 410,
    "start_time": "2022-05-13T08:11:29.645Z"
   },
   {
    "duration": 300,
    "start_time": "2022-05-13T08:11:42.739Z"
   },
   {
    "duration": 4,
    "start_time": "2022-05-13T08:17:59.134Z"
   },
   {
    "duration": 61,
    "start_time": "2022-05-13T08:17:59.166Z"
   },
   {
    "duration": 18,
    "start_time": "2022-05-13T08:17:59.229Z"
   },
   {
    "duration": 22,
    "start_time": "2022-05-13T08:17:59.261Z"
   },
   {
    "duration": 4,
    "start_time": "2022-05-13T08:17:59.285Z"
   },
   {
    "duration": 26,
    "start_time": "2022-05-13T08:17:59.292Z"
   },
   {
    "duration": 44,
    "start_time": "2022-05-13T08:17:59.320Z"
   },
   {
    "duration": 33,
    "start_time": "2022-05-13T08:17:59.369Z"
   },
   {
    "duration": 5,
    "start_time": "2022-05-13T08:17:59.403Z"
   },
   {
    "duration": 12,
    "start_time": "2022-05-13T08:17:59.410Z"
   },
   {
    "duration": 17,
    "start_time": "2022-05-13T08:17:59.423Z"
   },
   {
    "duration": 26,
    "start_time": "2022-05-13T08:17:59.441Z"
   },
   {
    "duration": 5,
    "start_time": "2022-05-13T08:17:59.469Z"
   },
   {
    "duration": 10,
    "start_time": "2022-05-13T08:17:59.476Z"
   },
   {
    "duration": 6,
    "start_time": "2022-05-13T08:17:59.490Z"
   },
   {
    "duration": 9,
    "start_time": "2022-05-13T08:17:59.497Z"
   },
   {
    "duration": 16,
    "start_time": "2022-05-13T08:17:59.508Z"
   },
   {
    "duration": 38,
    "start_time": "2022-05-13T08:17:59.526Z"
   },
   {
    "duration": 29,
    "start_time": "2022-05-13T08:17:59.566Z"
   },
   {
    "duration": 9,
    "start_time": "2022-05-13T08:17:59.596Z"
   },
   {
    "duration": 309,
    "start_time": "2022-05-13T08:17:59.607Z"
   },
   {
    "duration": 9,
    "start_time": "2022-05-13T08:17:59.918Z"
   },
   {
    "duration": 57,
    "start_time": "2022-05-13T08:17:59.928Z"
   },
   {
    "duration": 3,
    "start_time": "2022-05-13T08:17:59.987Z"
   },
   {
    "duration": 1592,
    "start_time": "2022-05-13T08:17:59.991Z"
   },
   {
    "duration": 7,
    "start_time": "2022-05-13T08:18:01.585Z"
   },
   {
    "duration": 28,
    "start_time": "2022-05-13T08:18:01.594Z"
   },
   {
    "duration": 23,
    "start_time": "2022-05-13T08:18:01.624Z"
   },
   {
    "duration": 3,
    "start_time": "2022-05-13T08:18:40.533Z"
   },
   {
    "duration": 59,
    "start_time": "2022-05-13T08:18:40.538Z"
   },
   {
    "duration": 12,
    "start_time": "2022-05-13T08:18:40.598Z"
   },
   {
    "duration": 14,
    "start_time": "2022-05-13T08:18:40.612Z"
   },
   {
    "duration": 3,
    "start_time": "2022-05-13T08:18:40.627Z"
   },
   {
    "duration": 51,
    "start_time": "2022-05-13T08:18:40.632Z"
   },
   {
    "duration": 30,
    "start_time": "2022-05-13T08:18:40.685Z"
   },
   {
    "duration": 21,
    "start_time": "2022-05-13T08:18:40.717Z"
   },
   {
    "duration": 11,
    "start_time": "2022-05-13T08:18:40.740Z"
   },
   {
    "duration": 20,
    "start_time": "2022-05-13T08:18:40.753Z"
   },
   {
    "duration": 22,
    "start_time": "2022-05-13T08:18:40.776Z"
   },
   {
    "duration": 5,
    "start_time": "2022-05-13T08:18:40.800Z"
   },
   {
    "duration": 6,
    "start_time": "2022-05-13T08:18:40.806Z"
   },
   {
    "duration": 6,
    "start_time": "2022-05-13T08:18:40.814Z"
   },
   {
    "duration": 5,
    "start_time": "2022-05-13T08:18:40.822Z"
   },
   {
    "duration": 43,
    "start_time": "2022-05-13T08:18:40.828Z"
   },
   {
    "duration": 17,
    "start_time": "2022-05-13T08:18:40.873Z"
   },
   {
    "duration": 6,
    "start_time": "2022-05-13T08:18:40.919Z"
   },
   {
    "duration": 23,
    "start_time": "2022-05-13T08:18:40.927Z"
   },
   {
    "duration": 8,
    "start_time": "2022-05-13T08:18:40.952Z"
   },
   {
    "duration": 395,
    "start_time": "2022-05-13T08:18:40.961Z"
   },
   {
    "duration": 11,
    "start_time": "2022-05-13T08:18:41.358Z"
   },
   {
    "duration": 36,
    "start_time": "2022-05-13T08:18:41.370Z"
   },
   {
    "duration": 3,
    "start_time": "2022-05-13T08:18:41.408Z"
   },
   {
    "duration": 1517,
    "start_time": "2022-05-13T08:18:41.412Z"
   },
   {
    "duration": 7,
    "start_time": "2022-05-13T08:18:42.931Z"
   },
   {
    "duration": 24,
    "start_time": "2022-05-13T08:18:42.940Z"
   },
   {
    "duration": 24,
    "start_time": "2022-05-13T08:18:42.968Z"
   },
   {
    "duration": 360,
    "start_time": "2022-05-13T08:18:48.364Z"
   },
   {
    "duration": 434,
    "start_time": "2022-05-13T08:19:05.002Z"
   },
   {
    "duration": 359,
    "start_time": "2022-05-13T08:19:13.194Z"
   },
   {
    "duration": 446,
    "start_time": "2022-05-13T08:19:17.447Z"
   },
   {
    "duration": 450,
    "start_time": "2022-05-13T08:20:48.491Z"
   },
   {
    "duration": 431,
    "start_time": "2022-05-13T08:20:58.266Z"
   },
   {
    "duration": 317,
    "start_time": "2022-05-13T08:21:10.460Z"
   },
   {
    "duration": 5,
    "start_time": "2022-05-13T08:30:22.335Z"
   },
   {
    "duration": 6,
    "start_time": "2022-05-13T08:30:22.811Z"
   },
   {
    "duration": 234,
    "start_time": "2022-05-13T08:30:23.354Z"
   },
   {
    "duration": 6,
    "start_time": "2022-05-13T08:30:25.912Z"
   },
   {
    "duration": 147,
    "start_time": "2022-05-13T08:30:26.481Z"
   },
   {
    "duration": 25,
    "start_time": "2022-05-13T08:38:04.282Z"
   },
   {
    "duration": 18,
    "start_time": "2022-05-13T08:38:23.703Z"
   },
   {
    "duration": 16,
    "start_time": "2022-05-13T08:40:09.005Z"
   },
   {
    "duration": 16,
    "start_time": "2022-05-13T08:40:22.184Z"
   },
   {
    "duration": 13,
    "start_time": "2022-05-13T08:42:01.498Z"
   },
   {
    "duration": 142,
    "start_time": "2022-05-13T08:42:55.788Z"
   },
   {
    "duration": 19,
    "start_time": "2022-05-13T08:43:03.960Z"
   },
   {
    "duration": 159,
    "start_time": "2022-05-13T08:43:59.937Z"
   },
   {
    "duration": 875,
    "start_time": "2022-05-13T08:44:07.099Z"
   },
   {
    "duration": 5,
    "start_time": "2022-05-13T09:18:13.436Z"
   },
   {
    "duration": 85,
    "start_time": "2022-05-13T09:18:13.444Z"
   },
   {
    "duration": 40,
    "start_time": "2022-05-13T09:18:13.532Z"
   },
   {
    "duration": 26,
    "start_time": "2022-05-13T09:18:13.575Z"
   },
   {
    "duration": 5,
    "start_time": "2022-05-13T09:18:13.603Z"
   },
   {
    "duration": 64,
    "start_time": "2022-05-13T09:18:13.610Z"
   },
   {
    "duration": 22,
    "start_time": "2022-05-13T09:18:13.677Z"
   },
   {
    "duration": 26,
    "start_time": "2022-05-13T09:18:13.702Z"
   },
   {
    "duration": 30,
    "start_time": "2022-05-13T09:18:13.732Z"
   },
   {
    "duration": 9,
    "start_time": "2022-05-13T09:18:13.765Z"
   },
   {
    "duration": 17,
    "start_time": "2022-05-13T09:18:13.776Z"
   },
   {
    "duration": 5,
    "start_time": "2022-05-13T09:18:13.796Z"
   },
   {
    "duration": 16,
    "start_time": "2022-05-13T09:18:13.803Z"
   },
   {
    "duration": 8,
    "start_time": "2022-05-13T09:18:13.821Z"
   },
   {
    "duration": 36,
    "start_time": "2022-05-13T09:18:13.831Z"
   },
   {
    "duration": 9,
    "start_time": "2022-05-13T09:18:13.869Z"
   },
   {
    "duration": 28,
    "start_time": "2022-05-13T09:18:13.879Z"
   },
   {
    "duration": 6,
    "start_time": "2022-05-13T09:18:13.910Z"
   },
   {
    "duration": 55,
    "start_time": "2022-05-13T09:18:13.919Z"
   },
   {
    "duration": 9,
    "start_time": "2022-05-13T09:18:13.975Z"
   },
   {
    "duration": 310,
    "start_time": "2022-05-13T09:18:13.986Z"
   },
   {
    "duration": 14,
    "start_time": "2022-05-13T09:18:14.298Z"
   },
   {
    "duration": 51,
    "start_time": "2022-05-13T09:18:14.314Z"
   },
   {
    "duration": 4,
    "start_time": "2022-05-13T09:18:14.368Z"
   },
   {
    "duration": 1548,
    "start_time": "2022-05-13T09:18:14.373Z"
   },
   {
    "duration": 9,
    "start_time": "2022-05-13T09:18:15.923Z"
   },
   {
    "duration": 11,
    "start_time": "2022-05-13T09:18:15.934Z"
   },
   {
    "duration": 47,
    "start_time": "2022-05-13T09:18:15.947Z"
   },
   {
    "duration": 334,
    "start_time": "2022-05-13T09:18:15.996Z"
   },
   {
    "duration": 9,
    "start_time": "2022-05-13T09:18:16.332Z"
   },
   {
    "duration": 26,
    "start_time": "2022-05-13T09:18:16.343Z"
   },
   {
    "duration": 21,
    "start_time": "2022-05-13T09:18:16.371Z"
   },
   {
    "duration": 14,
    "start_time": "2022-05-13T09:18:16.394Z"
   },
   {
    "duration": 251,
    "start_time": "2022-05-13T09:18:16.410Z"
   },
   {
    "duration": 6,
    "start_time": "2022-05-13T09:18:16.663Z"
   },
   {
    "duration": 221,
    "start_time": "2022-05-13T09:18:16.671Z"
   },
   {
    "duration": 1025,
    "start_time": "2022-05-13T09:18:16.895Z"
   },
   {
    "duration": 893,
    "start_time": "2022-05-13T09:20:35.357Z"
   },
   {
    "duration": 782,
    "start_time": "2022-05-13T09:21:42.370Z"
   },
   {
    "duration": 909,
    "start_time": "2022-05-13T09:22:19.273Z"
   },
   {
    "duration": 954,
    "start_time": "2022-05-13T09:26:10.469Z"
   },
   {
    "duration": 168,
    "start_time": "2022-05-13T09:26:22.717Z"
   },
   {
    "duration": 212,
    "start_time": "2022-05-13T09:26:31.680Z"
   },
   {
    "duration": 877,
    "start_time": "2022-05-13T09:26:36.563Z"
   },
   {
    "duration": 4,
    "start_time": "2022-05-13T09:28:14.750Z"
   },
   {
    "duration": 101,
    "start_time": "2022-05-13T09:28:14.756Z"
   },
   {
    "duration": 25,
    "start_time": "2022-05-13T09:28:14.864Z"
   },
   {
    "duration": 28,
    "start_time": "2022-05-13T09:28:14.894Z"
   },
   {
    "duration": 30,
    "start_time": "2022-05-13T09:28:14.925Z"
   },
   {
    "duration": 41,
    "start_time": "2022-05-13T09:28:14.957Z"
   },
   {
    "duration": 26,
    "start_time": "2022-05-13T09:28:15.018Z"
   },
   {
    "duration": 17,
    "start_time": "2022-05-13T09:28:15.046Z"
   },
   {
    "duration": 6,
    "start_time": "2022-05-13T09:28:15.066Z"
   },
   {
    "duration": 20,
    "start_time": "2022-05-13T09:28:15.075Z"
   },
   {
    "duration": 20,
    "start_time": "2022-05-13T09:28:15.097Z"
   },
   {
    "duration": 7,
    "start_time": "2022-05-13T09:28:15.120Z"
   },
   {
    "duration": 18,
    "start_time": "2022-05-13T09:28:15.129Z"
   },
   {
    "duration": 17,
    "start_time": "2022-05-13T09:28:15.151Z"
   },
   {
    "duration": 16,
    "start_time": "2022-05-13T09:28:15.170Z"
   },
   {
    "duration": 16,
    "start_time": "2022-05-13T09:28:15.190Z"
   },
   {
    "duration": 26,
    "start_time": "2022-05-13T09:28:15.208Z"
   },
   {
    "duration": 7,
    "start_time": "2022-05-13T09:28:15.237Z"
   },
   {
    "duration": 45,
    "start_time": "2022-05-13T09:28:15.246Z"
   },
   {
    "duration": 11,
    "start_time": "2022-05-13T09:28:15.294Z"
   },
   {
    "duration": 406,
    "start_time": "2022-05-13T09:28:15.307Z"
   },
   {
    "duration": 13,
    "start_time": "2022-05-13T09:28:15.716Z"
   },
   {
    "duration": 68,
    "start_time": "2022-05-13T09:28:15.731Z"
   },
   {
    "duration": 4,
    "start_time": "2022-05-13T09:28:15.801Z"
   },
   {
    "duration": 1975,
    "start_time": "2022-05-13T09:28:15.808Z"
   },
   {
    "duration": 8,
    "start_time": "2022-05-13T09:28:17.786Z"
   },
   {
    "duration": 15,
    "start_time": "2022-05-13T09:28:17.796Z"
   },
   {
    "duration": 28,
    "start_time": "2022-05-13T09:28:17.813Z"
   },
   {
    "duration": 554,
    "start_time": "2022-05-13T09:28:17.843Z"
   },
   {
    "duration": 10,
    "start_time": "2022-05-13T09:28:18.400Z"
   },
   {
    "duration": 15,
    "start_time": "2022-05-13T09:28:18.412Z"
   },
   {
    "duration": 13,
    "start_time": "2022-05-13T09:28:18.429Z"
   },
   {
    "duration": 27,
    "start_time": "2022-05-13T09:28:18.445Z"
   },
   {
    "duration": 231,
    "start_time": "2022-05-13T09:28:18.474Z"
   },
   {
    "duration": 7,
    "start_time": "2022-05-13T09:28:18.707Z"
   },
   {
    "duration": 378,
    "start_time": "2022-05-13T09:28:18.717Z"
   },
   {
    "duration": 946,
    "start_time": "2022-05-13T09:28:19.097Z"
   },
   {
    "duration": 959,
    "start_time": "2022-05-13T09:28:20.045Z"
   },
   {
    "duration": 10,
    "start_time": "2022-05-13T09:28:21.007Z"
   },
   {
    "duration": 11,
    "start_time": "2022-05-13T09:28:21.021Z"
   },
   {
    "duration": 302,
    "start_time": "2022-05-13T09:28:21.038Z"
   },
   {
    "duration": 26,
    "start_time": "2022-05-13T09:28:21.343Z"
   },
   {
    "duration": 179,
    "start_time": "2022-05-13T09:28:21.371Z"
   },
   {
    "duration": 36,
    "start_time": "2022-05-13T09:28:21.553Z"
   },
   {
    "duration": 254,
    "start_time": "2022-05-13T09:28:21.591Z"
   },
   {
    "duration": 35,
    "start_time": "2022-05-13T09:28:21.848Z"
   },
   {
    "duration": 310,
    "start_time": "2022-05-13T09:28:21.888Z"
   },
   {
    "duration": 12,
    "start_time": "2022-05-13T09:28:22.200Z"
   },
   {
    "duration": 16,
    "start_time": "2022-05-13T09:28:22.215Z"
   },
   {
    "duration": 19,
    "start_time": "2022-05-13T09:28:22.233Z"
   },
   {
    "duration": 11,
    "start_time": "2022-05-13T09:28:22.254Z"
   },
   {
    "duration": 13,
    "start_time": "2022-05-13T09:28:22.267Z"
   },
   {
    "duration": 240,
    "start_time": "2022-05-13T09:28:22.282Z"
   },
   {
    "duration": 12,
    "start_time": "2022-05-13T09:28:22.524Z"
   },
   {
    "duration": 23,
    "start_time": "2022-05-13T09:28:22.539Z"
   },
   {
    "duration": 15,
    "start_time": "2022-05-13T09:28:22.565Z"
   },
   {
    "duration": 8,
    "start_time": "2022-05-13T09:28:22.583Z"
   },
   {
    "duration": 23,
    "start_time": "2022-05-13T09:28:22.593Z"
   },
   {
    "duration": 452,
    "start_time": "2022-05-13T09:28:22.618Z"
   },
   {
    "duration": 18,
    "start_time": "2022-05-13T09:35:31.183Z"
   },
   {
    "duration": 199,
    "start_time": "2022-05-13T09:35:32.600Z"
   },
   {
    "duration": 20,
    "start_time": "2022-05-13T09:42:31.710Z"
   },
   {
    "duration": 27,
    "start_time": "2022-05-13T09:44:05.158Z"
   },
   {
    "duration": 19,
    "start_time": "2022-05-13T09:44:24.059Z"
   },
   {
    "duration": 18,
    "start_time": "2022-05-13T09:45:29.526Z"
   },
   {
    "duration": 31,
    "start_time": "2022-05-13T09:45:38.247Z"
   },
   {
    "duration": 6,
    "start_time": "2022-05-13T09:46:25.385Z"
   },
   {
    "duration": 5,
    "start_time": "2022-05-13T09:47:30.129Z"
   },
   {
    "duration": 19,
    "start_time": "2022-05-13T09:47:38.395Z"
   },
   {
    "duration": 4,
    "start_time": "2022-05-13T09:50:48.230Z"
   },
   {
    "duration": 21,
    "start_time": "2022-05-13T09:51:21.397Z"
   },
   {
    "duration": 31,
    "start_time": "2022-05-13T09:51:35.654Z"
   },
   {
    "duration": 5,
    "start_time": "2022-05-13T09:52:32.422Z"
   },
   {
    "duration": 196,
    "start_time": "2022-05-13T09:52:56.218Z"
   },
   {
    "duration": 188,
    "start_time": "2022-05-13T09:54:21.988Z"
   },
   {
    "duration": 171,
    "start_time": "2022-05-13T09:54:32.880Z"
   },
   {
    "duration": 20,
    "start_time": "2022-05-13T10:06:12.834Z"
   },
   {
    "duration": 36,
    "start_time": "2022-05-13T10:06:21.982Z"
   },
   {
    "duration": 29,
    "start_time": "2022-05-13T10:06:48.079Z"
   },
   {
    "duration": 31,
    "start_time": "2022-05-13T10:07:48.101Z"
   },
   {
    "duration": 197,
    "start_time": "2022-05-13T10:07:49.602Z"
   },
   {
    "duration": 9,
    "start_time": "2022-05-13T10:08:55.819Z"
   },
   {
    "duration": 34,
    "start_time": "2022-05-13T10:10:32.438Z"
   },
   {
    "duration": 233,
    "start_time": "2022-05-13T10:10:38.735Z"
   },
   {
    "duration": 18,
    "start_time": "2022-05-13T10:15:13.055Z"
   },
   {
    "duration": 228,
    "start_time": "2022-05-13T10:15:14.847Z"
   },
   {
    "duration": 11,
    "start_time": "2022-05-13T10:16:43.535Z"
   },
   {
    "duration": 7,
    "start_time": "2022-05-13T10:17:29.689Z"
   },
   {
    "duration": 99,
    "start_time": "2022-05-13T10:17:29.699Z"
   },
   {
    "duration": 18,
    "start_time": "2022-05-13T10:17:29.800Z"
   },
   {
    "duration": 48,
    "start_time": "2022-05-13T10:17:29.822Z"
   },
   {
    "duration": 10,
    "start_time": "2022-05-13T10:17:29.872Z"
   },
   {
    "duration": 49,
    "start_time": "2022-05-13T10:17:29.885Z"
   },
   {
    "duration": 21,
    "start_time": "2022-05-13T10:17:29.935Z"
   },
   {
    "duration": 25,
    "start_time": "2022-05-13T10:17:29.958Z"
   },
   {
    "duration": 28,
    "start_time": "2022-05-13T10:17:29.986Z"
   },
   {
    "duration": 17,
    "start_time": "2022-05-13T10:17:30.017Z"
   },
   {
    "duration": 19,
    "start_time": "2022-05-13T10:17:30.037Z"
   },
   {
    "duration": 8,
    "start_time": "2022-05-13T10:17:30.058Z"
   },
   {
    "duration": 44,
    "start_time": "2022-05-13T10:17:30.067Z"
   },
   {
    "duration": 22,
    "start_time": "2022-05-13T10:17:30.112Z"
   },
   {
    "duration": 16,
    "start_time": "2022-05-13T10:17:30.136Z"
   },
   {
    "duration": 23,
    "start_time": "2022-05-13T10:17:30.154Z"
   },
   {
    "duration": 35,
    "start_time": "2022-05-13T10:17:30.179Z"
   },
   {
    "duration": 7,
    "start_time": "2022-05-13T10:17:30.216Z"
   },
   {
    "duration": 31,
    "start_time": "2022-05-13T10:17:30.225Z"
   },
   {
    "duration": 55,
    "start_time": "2022-05-13T10:17:30.258Z"
   },
   {
    "duration": 346,
    "start_time": "2022-05-13T10:17:30.315Z"
   },
   {
    "duration": 17,
    "start_time": "2022-05-13T10:17:30.664Z"
   },
   {
    "duration": 85,
    "start_time": "2022-05-13T10:17:30.682Z"
   },
   {
    "duration": 5,
    "start_time": "2022-05-13T10:17:30.771Z"
   },
   {
    "duration": 2269,
    "start_time": "2022-05-13T10:17:30.778Z"
   },
   {
    "duration": 7,
    "start_time": "2022-05-13T10:17:33.048Z"
   },
   {
    "duration": 14,
    "start_time": "2022-05-13T10:17:33.057Z"
   },
   {
    "duration": 59,
    "start_time": "2022-05-13T10:17:33.072Z"
   },
   {
    "duration": 442,
    "start_time": "2022-05-13T10:17:33.133Z"
   },
   {
    "duration": 8,
    "start_time": "2022-05-13T10:17:33.577Z"
   },
   {
    "duration": 26,
    "start_time": "2022-05-13T10:17:33.592Z"
   },
   {
    "duration": 6,
    "start_time": "2022-05-13T10:17:33.620Z"
   },
   {
    "duration": 10,
    "start_time": "2022-05-13T10:17:33.628Z"
   },
   {
    "duration": 172,
    "start_time": "2022-05-13T10:17:33.639Z"
   },
   {
    "duration": 6,
    "start_time": "2022-05-13T10:17:33.813Z"
   },
   {
    "duration": 327,
    "start_time": "2022-05-13T10:17:33.820Z"
   },
   {
    "duration": 856,
    "start_time": "2022-05-13T10:17:34.149Z"
   },
   {
    "duration": 840,
    "start_time": "2022-05-13T10:17:35.007Z"
   },
   {
    "duration": 7,
    "start_time": "2022-05-13T10:17:35.848Z"
   },
   {
    "duration": 14,
    "start_time": "2022-05-13T10:17:35.866Z"
   },
   {
    "duration": 212,
    "start_time": "2022-05-13T10:17:35.883Z"
   },
   {
    "duration": 27,
    "start_time": "2022-05-13T10:17:36.096Z"
   },
   {
    "duration": 223,
    "start_time": "2022-05-13T10:17:36.125Z"
   },
   {
    "duration": 39,
    "start_time": "2022-05-13T10:17:36.350Z"
   },
   {
    "duration": 226,
    "start_time": "2022-05-13T10:17:36.391Z"
   },
   {
    "duration": 20,
    "start_time": "2022-05-13T10:17:36.619Z"
   },
   {
    "duration": 13,
    "start_time": "2022-05-13T10:17:41.601Z"
   },
   {
    "duration": 640,
    "start_time": "2022-05-13T10:17:49.359Z"
   },
   {
    "duration": 488,
    "start_time": "2022-05-13T10:18:20.008Z"
   },
   {
    "duration": 466,
    "start_time": "2022-05-13T10:19:25.592Z"
   },
   {
    "duration": 505,
    "start_time": "2022-05-13T10:19:59.628Z"
   },
   {
    "duration": 275,
    "start_time": "2022-05-13T10:20:34.931Z"
   },
   {
    "duration": 198,
    "start_time": "2022-05-13T10:20:51.014Z"
   },
   {
    "duration": 571,
    "start_time": "2022-05-13T10:20:57.059Z"
   },
   {
    "duration": 527,
    "start_time": "2022-05-13T10:22:29.796Z"
   },
   {
    "duration": 501,
    "start_time": "2022-05-13T10:23:10.588Z"
   },
   {
    "duration": 699,
    "start_time": "2022-05-13T10:25:12.151Z"
   },
   {
    "duration": 530,
    "start_time": "2022-05-13T10:25:32.541Z"
   },
   {
    "duration": 549,
    "start_time": "2022-05-13T10:25:39.989Z"
   },
   {
    "duration": 523,
    "start_time": "2022-05-13T10:27:06.602Z"
   },
   {
    "duration": 460,
    "start_time": "2022-05-13T10:27:45.614Z"
   },
   {
    "duration": 569,
    "start_time": "2022-05-13T10:29:18.399Z"
   },
   {
    "duration": 441,
    "start_time": "2022-05-13T10:30:00.777Z"
   },
   {
    "duration": 373,
    "start_time": "2022-05-13T10:30:07.797Z"
   },
   {
    "duration": 276,
    "start_time": "2022-05-13T10:30:30.158Z"
   },
   {
    "duration": 357,
    "start_time": "2022-05-13T10:30:43.015Z"
   },
   {
    "duration": 462,
    "start_time": "2022-05-13T10:31:02.369Z"
   },
   {
    "duration": 473,
    "start_time": "2022-05-13T10:31:15.200Z"
   },
   {
    "duration": 334,
    "start_time": "2022-05-13T10:35:13.105Z"
   },
   {
    "duration": 274,
    "start_time": "2022-05-13T10:35:32.946Z"
   },
   {
    "duration": 262,
    "start_time": "2022-05-13T10:36:16.465Z"
   },
   {
    "duration": 376,
    "start_time": "2022-05-13T10:38:53.614Z"
   },
   {
    "duration": 401,
    "start_time": "2022-05-13T10:39:40.671Z"
   },
   {
    "duration": 510,
    "start_time": "2022-05-13T10:40:02.403Z"
   },
   {
    "duration": 14,
    "start_time": "2022-05-13T10:42:12.488Z"
   },
   {
    "duration": 373,
    "start_time": "2022-05-13T10:42:27.554Z"
   },
   {
    "duration": 13,
    "start_time": "2022-05-13T10:42:41.538Z"
   },
   {
    "duration": 38,
    "start_time": "2022-05-13T10:42:51.350Z"
   },
   {
    "duration": 14,
    "start_time": "2022-05-13T10:43:01.699Z"
   },
   {
    "duration": 16,
    "start_time": "2022-05-13T10:43:11.191Z"
   },
   {
    "duration": 360,
    "start_time": "2022-05-13T10:43:27.992Z"
   },
   {
    "duration": 206,
    "start_time": "2022-05-13T10:43:51.683Z"
   },
   {
    "duration": 165,
    "start_time": "2022-05-13T10:44:17.193Z"
   },
   {
    "duration": 166,
    "start_time": "2022-05-13T10:44:36.089Z"
   },
   {
    "duration": 295,
    "start_time": "2022-05-13T10:44:47.755Z"
   },
   {
    "duration": 181,
    "start_time": "2022-05-13T10:47:08.901Z"
   },
   {
    "duration": 183,
    "start_time": "2022-05-13T10:47:28.557Z"
   },
   {
    "duration": 198,
    "start_time": "2022-05-13T10:47:45.196Z"
   },
   {
    "duration": 332,
    "start_time": "2022-05-13T10:47:59.237Z"
   },
   {
    "duration": 224,
    "start_time": "2022-05-13T10:48:33.953Z"
   },
   {
    "duration": 161,
    "start_time": "2022-05-13T10:48:57.619Z"
   },
   {
    "duration": 144,
    "start_time": "2022-05-13T10:49:30.077Z"
   },
   {
    "duration": 174,
    "start_time": "2022-05-13T10:49:34.242Z"
   },
   {
    "duration": 166,
    "start_time": "2022-05-13T10:49:38.962Z"
   },
   {
    "duration": 131,
    "start_time": "2022-05-13T10:49:44.004Z"
   },
   {
    "duration": 168,
    "start_time": "2022-05-13T10:49:48.690Z"
   },
   {
    "duration": 221,
    "start_time": "2022-05-13T10:50:02.913Z"
   },
   {
    "duration": 197,
    "start_time": "2022-05-13T10:50:12.658Z"
   },
   {
    "duration": 170,
    "start_time": "2022-05-13T10:51:19.604Z"
   },
   {
    "duration": 444,
    "start_time": "2022-05-13T10:51:32.433Z"
   },
   {
    "duration": 337,
    "start_time": "2022-05-13T10:51:41.304Z"
   },
   {
    "duration": 188,
    "start_time": "2022-05-13T10:51:51.801Z"
   },
   {
    "duration": 177,
    "start_time": "2022-05-13T10:51:58.003Z"
   },
   {
    "duration": 178,
    "start_time": "2022-05-13T10:52:36.029Z"
   },
   {
    "duration": 199,
    "start_time": "2022-05-13T10:52:46.226Z"
   },
   {
    "duration": 229,
    "start_time": "2022-05-13T10:52:57.009Z"
   },
   {
    "duration": 203,
    "start_time": "2022-05-13T10:53:03.517Z"
   },
   {
    "duration": 200,
    "start_time": "2022-05-13T10:53:07.686Z"
   },
   {
    "duration": 181,
    "start_time": "2022-05-13T10:53:13.159Z"
   },
   {
    "duration": 194,
    "start_time": "2022-05-13T10:53:19.265Z"
   },
   {
    "duration": 232,
    "start_time": "2022-05-13T10:53:22.931Z"
   },
   {
    "duration": 351,
    "start_time": "2022-05-13T10:53:26.339Z"
   },
   {
    "duration": 204,
    "start_time": "2022-05-13T10:53:29.629Z"
   },
   {
    "duration": 3,
    "start_time": "2022-05-13T11:55:56.628Z"
   },
   {
    "duration": 60,
    "start_time": "2022-05-13T11:55:56.633Z"
   },
   {
    "duration": 13,
    "start_time": "2022-05-13T11:55:56.695Z"
   },
   {
    "duration": 15,
    "start_time": "2022-05-13T11:55:56.709Z"
   },
   {
    "duration": 2,
    "start_time": "2022-05-13T11:55:56.727Z"
   },
   {
    "duration": 56,
    "start_time": "2022-05-13T11:55:56.731Z"
   },
   {
    "duration": 19,
    "start_time": "2022-05-13T11:55:56.788Z"
   },
   {
    "duration": 19,
    "start_time": "2022-05-13T11:55:56.809Z"
   },
   {
    "duration": 4,
    "start_time": "2022-05-13T11:55:56.830Z"
   },
   {
    "duration": 38,
    "start_time": "2022-05-13T11:55:56.835Z"
   },
   {
    "duration": 18,
    "start_time": "2022-05-13T11:55:56.878Z"
   },
   {
    "duration": 4,
    "start_time": "2022-05-13T11:55:56.898Z"
   },
   {
    "duration": 6,
    "start_time": "2022-05-13T11:55:56.904Z"
   },
   {
    "duration": 11,
    "start_time": "2022-05-13T11:55:56.911Z"
   },
   {
    "duration": 6,
    "start_time": "2022-05-13T11:55:56.924Z"
   },
   {
    "duration": 8,
    "start_time": "2022-05-13T11:55:56.932Z"
   },
   {
    "duration": 22,
    "start_time": "2022-05-13T11:55:56.964Z"
   },
   {
    "duration": 6,
    "start_time": "2022-05-13T11:55:56.988Z"
   },
   {
    "duration": 28,
    "start_time": "2022-05-13T11:55:56.996Z"
   },
   {
    "duration": 11,
    "start_time": "2022-05-13T11:55:57.025Z"
   },
   {
    "duration": 304,
    "start_time": "2022-05-13T11:55:57.039Z"
   },
   {
    "duration": 8,
    "start_time": "2022-05-13T11:55:57.345Z"
   },
   {
    "duration": 48,
    "start_time": "2022-05-13T11:55:57.362Z"
   },
   {
    "duration": 3,
    "start_time": "2022-05-13T11:55:57.412Z"
   },
   {
    "duration": 1566,
    "start_time": "2022-05-13T11:55:57.416Z"
   },
   {
    "duration": 6,
    "start_time": "2022-05-13T11:55:58.983Z"
   },
   {
    "duration": 8,
    "start_time": "2022-05-13T11:55:58.991Z"
   },
   {
    "duration": 19,
    "start_time": "2022-05-13T11:55:59.000Z"
   },
   {
    "duration": 336,
    "start_time": "2022-05-13T11:55:59.022Z"
   },
   {
    "duration": 11,
    "start_time": "2022-05-13T11:55:59.359Z"
   },
   {
    "duration": 19,
    "start_time": "2022-05-13T11:55:59.372Z"
   },
   {
    "duration": 6,
    "start_time": "2022-05-13T11:55:59.394Z"
   },
   {
    "duration": 7,
    "start_time": "2022-05-13T11:55:59.402Z"
   },
   {
    "duration": 278,
    "start_time": "2022-05-13T11:55:59.410Z"
   },
   {
    "duration": 5,
    "start_time": "2022-05-13T11:55:59.690Z"
   },
   {
    "duration": 152,
    "start_time": "2022-05-13T11:55:59.696Z"
   },
   {
    "duration": 720,
    "start_time": "2022-05-13T11:55:59.849Z"
   },
   {
    "duration": 737,
    "start_time": "2022-05-13T11:56:00.572Z"
   },
   {
    "duration": 6,
    "start_time": "2022-05-13T11:56:01.311Z"
   },
   {
    "duration": 18,
    "start_time": "2022-05-13T11:56:01.319Z"
   },
   {
    "duration": 171,
    "start_time": "2022-05-13T11:56:01.339Z"
   },
   {
    "duration": 22,
    "start_time": "2022-05-13T11:56:01.511Z"
   },
   {
    "duration": 180,
    "start_time": "2022-05-13T11:56:01.534Z"
   },
   {
    "duration": 27,
    "start_time": "2022-05-13T11:56:01.716Z"
   },
   {
    "duration": 312,
    "start_time": "2022-05-13T11:56:01.764Z"
   },
   {
    "duration": 27,
    "start_time": "2022-05-13T11:56:02.079Z"
   },
   {
    "duration": 636,
    "start_time": "2022-05-13T11:56:02.109Z"
   },
   {
    "duration": 15,
    "start_time": "2022-05-13T11:56:02.747Z"
   },
   {
    "duration": 5,
    "start_time": "2022-05-13T11:56:02.765Z"
   },
   {
    "duration": 21,
    "start_time": "2022-05-13T11:56:02.773Z"
   },
   {
    "duration": 6,
    "start_time": "2022-05-13T11:56:02.796Z"
   },
   {
    "duration": 6,
    "start_time": "2022-05-13T11:56:02.803Z"
   },
   {
    "duration": 224,
    "start_time": "2022-05-13T11:56:02.810Z"
   },
   {
    "duration": 9,
    "start_time": "2022-05-13T11:56:03.037Z"
   },
   {
    "duration": 16,
    "start_time": "2022-05-13T11:56:03.047Z"
   },
   {
    "duration": 16,
    "start_time": "2022-05-13T11:56:03.066Z"
   },
   {
    "duration": 7,
    "start_time": "2022-05-13T11:56:03.084Z"
   },
   {
    "duration": 24,
    "start_time": "2022-05-13T11:56:03.093Z"
   },
   {
    "duration": 231,
    "start_time": "2022-05-13T11:56:03.119Z"
   },
   {
    "duration": 276,
    "start_time": "2022-05-13T11:56:38.837Z"
   },
   {
    "duration": 115,
    "start_time": "2022-05-13T11:56:56.679Z"
   },
   {
    "duration": 268,
    "start_time": "2022-05-13T11:57:02.466Z"
   },
   {
    "duration": 183,
    "start_time": "2022-05-13T11:57:28.618Z"
   },
   {
    "duration": 353,
    "start_time": "2022-05-13T11:57:39.994Z"
   },
   {
    "duration": 5,
    "start_time": "2022-05-13T12:14:06.631Z"
   },
   {
    "duration": 6,
    "start_time": "2022-05-13T12:14:18.384Z"
   },
   {
    "duration": 4,
    "start_time": "2022-05-13T12:14:30.211Z"
   },
   {
    "duration": 359,
    "start_time": "2022-05-13T12:15:24.882Z"
   },
   {
    "duration": 206,
    "start_time": "2022-05-13T12:15:38.188Z"
   },
   {
    "duration": 205,
    "start_time": "2022-05-13T12:15:52.583Z"
   },
   {
    "duration": 213,
    "start_time": "2022-05-13T12:15:59.980Z"
   },
   {
    "duration": 299,
    "start_time": "2022-05-13T12:16:08.383Z"
   },
   {
    "duration": 205,
    "start_time": "2022-05-13T12:16:18.155Z"
   },
   {
    "duration": 340,
    "start_time": "2022-05-13T12:16:23.086Z"
   },
   {
    "duration": 330,
    "start_time": "2022-05-13T12:16:29.621Z"
   },
   {
    "duration": 290,
    "start_time": "2022-05-13T12:16:35.617Z"
   },
   {
    "duration": 217,
    "start_time": "2022-05-13T12:17:05.989Z"
   },
   {
    "duration": 224,
    "start_time": "2022-05-13T12:17:24.319Z"
   },
   {
    "duration": 360,
    "start_time": "2022-05-13T12:17:40.931Z"
   },
   {
    "duration": 301,
    "start_time": "2022-05-13T12:17:48.555Z"
   },
   {
    "duration": 266,
    "start_time": "2022-05-13T12:18:02.702Z"
   },
   {
    "duration": 278,
    "start_time": "2022-05-13T12:18:10.242Z"
   },
   {
    "duration": 253,
    "start_time": "2022-05-13T12:18:18.661Z"
   },
   {
    "duration": 253,
    "start_time": "2022-05-13T12:18:22.381Z"
   },
   {
    "duration": 6,
    "start_time": "2022-05-13T12:19:17.174Z"
   },
   {
    "duration": 5,
    "start_time": "2022-05-13T12:19:17.960Z"
   },
   {
    "duration": 119,
    "start_time": "2022-05-13T12:37:33.192Z"
   },
   {
    "duration": 4,
    "start_time": "2022-05-13T12:37:36.188Z"
   },
   {
    "duration": 61,
    "start_time": "2022-05-13T12:37:36.194Z"
   },
   {
    "duration": 19,
    "start_time": "2022-05-13T12:37:36.258Z"
   },
   {
    "duration": 52,
    "start_time": "2022-05-13T12:37:36.278Z"
   },
   {
    "duration": 6,
    "start_time": "2022-05-13T12:37:36.333Z"
   },
   {
    "duration": 28,
    "start_time": "2022-05-13T12:37:36.341Z"
   },
   {
    "duration": 26,
    "start_time": "2022-05-13T12:37:36.371Z"
   },
   {
    "duration": 39,
    "start_time": "2022-05-13T12:37:36.398Z"
   },
   {
    "duration": 7,
    "start_time": "2022-05-13T12:37:36.438Z"
   },
   {
    "duration": 35,
    "start_time": "2022-05-13T12:37:36.447Z"
   },
   {
    "duration": 42,
    "start_time": "2022-05-13T12:37:36.486Z"
   },
   {
    "duration": 135,
    "start_time": "2022-05-13T12:37:36.530Z"
   },
   {
    "duration": 12,
    "start_time": "2022-05-13T12:37:36.667Z"
   },
   {
    "duration": 50,
    "start_time": "2022-05-13T12:37:36.681Z"
   },
   {
    "duration": 19,
    "start_time": "2022-05-13T12:37:36.733Z"
   },
   {
    "duration": 40,
    "start_time": "2022-05-13T12:37:36.753Z"
   },
   {
    "duration": 31,
    "start_time": "2022-05-13T12:37:36.795Z"
   },
   {
    "duration": 8,
    "start_time": "2022-05-13T12:37:36.828Z"
   },
   {
    "duration": 38,
    "start_time": "2022-05-13T12:37:36.838Z"
   },
   {
    "duration": 47,
    "start_time": "2022-05-13T12:37:36.878Z"
   },
   {
    "duration": 291,
    "start_time": "2022-05-13T12:37:38.956Z"
   },
   {
    "duration": 311,
    "start_time": "2022-05-13T12:37:54.194Z"
   },
   {
    "duration": 277,
    "start_time": "2022-05-13T12:38:03.075Z"
   },
   {
    "duration": 279,
    "start_time": "2022-05-13T12:38:10.493Z"
   },
   {
    "duration": 3,
    "start_time": "2022-05-13T12:38:45.191Z"
   },
   {
    "duration": 66,
    "start_time": "2022-05-13T12:38:45.196Z"
   },
   {
    "duration": 20,
    "start_time": "2022-05-13T12:38:45.266Z"
   },
   {
    "duration": 35,
    "start_time": "2022-05-13T12:38:45.288Z"
   },
   {
    "duration": 4,
    "start_time": "2022-05-13T12:38:45.325Z"
   },
   {
    "duration": 40,
    "start_time": "2022-05-13T12:38:45.330Z"
   },
   {
    "duration": 30,
    "start_time": "2022-05-13T12:38:45.371Z"
   },
   {
    "duration": 21,
    "start_time": "2022-05-13T12:38:45.402Z"
   },
   {
    "duration": 12,
    "start_time": "2022-05-13T12:38:45.424Z"
   },
   {
    "duration": 21,
    "start_time": "2022-05-13T12:38:45.438Z"
   },
   {
    "duration": 47,
    "start_time": "2022-05-13T12:38:45.460Z"
   },
   {
    "duration": 8,
    "start_time": "2022-05-13T12:38:45.509Z"
   },
   {
    "duration": 10,
    "start_time": "2022-05-13T12:38:45.520Z"
   },
   {
    "duration": 13,
    "start_time": "2022-05-13T12:38:45.531Z"
   },
   {
    "duration": 51,
    "start_time": "2022-05-13T12:38:45.546Z"
   },
   {
    "duration": 30,
    "start_time": "2022-05-13T12:38:45.598Z"
   },
   {
    "duration": 24,
    "start_time": "2022-05-13T12:38:45.630Z"
   },
   {
    "duration": 10,
    "start_time": "2022-05-13T12:38:45.656Z"
   },
   {
    "duration": 43,
    "start_time": "2022-05-13T12:38:45.671Z"
   },
   {
    "duration": 19,
    "start_time": "2022-05-13T12:38:45.716Z"
   },
   {
    "duration": 295,
    "start_time": "2022-05-13T12:38:45.737Z"
   },
   {
    "duration": 7,
    "start_time": "2022-05-13T12:38:46.034Z"
   },
   {
    "duration": 46,
    "start_time": "2022-05-13T12:38:46.043Z"
   },
   {
    "duration": 6,
    "start_time": "2022-05-13T12:38:46.090Z"
   },
   {
    "duration": 1704,
    "start_time": "2022-05-13T12:38:46.097Z"
   },
   {
    "duration": 6,
    "start_time": "2022-05-13T12:38:47.802Z"
   },
   {
    "duration": 8,
    "start_time": "2022-05-13T12:38:47.810Z"
   },
   {
    "duration": 20,
    "start_time": "2022-05-13T12:38:47.819Z"
   },
   {
    "duration": 867,
    "start_time": "2022-05-13T12:38:47.841Z"
   },
   {
    "duration": 58,
    "start_time": "2022-05-13T12:38:48.710Z"
   },
   {
    "duration": 47,
    "start_time": "2022-05-13T12:38:48.770Z"
   },
   {
    "duration": 8,
    "start_time": "2022-05-13T12:38:48.819Z"
   },
   {
    "duration": 75,
    "start_time": "2022-05-13T12:38:48.828Z"
   },
   {
    "duration": 365,
    "start_time": "2022-05-13T12:38:48.905Z"
   },
   {
    "duration": 7,
    "start_time": "2022-05-13T12:38:49.271Z"
   },
   {
    "duration": 596,
    "start_time": "2022-05-13T12:38:49.279Z"
   },
   {
    "duration": 822,
    "start_time": "2022-05-13T12:38:49.880Z"
   },
   {
    "duration": 811,
    "start_time": "2022-05-13T12:38:50.704Z"
   },
   {
    "duration": 7,
    "start_time": "2022-05-13T12:38:51.516Z"
   },
   {
    "duration": 6,
    "start_time": "2022-05-13T12:38:51.525Z"
   },
   {
    "duration": 191,
    "start_time": "2022-05-13T12:38:51.533Z"
   },
   {
    "duration": 20,
    "start_time": "2022-05-13T12:38:51.725Z"
   },
   {
    "duration": 194,
    "start_time": "2022-05-13T12:38:51.747Z"
   },
   {
    "duration": 30,
    "start_time": "2022-05-13T12:38:51.942Z"
   },
   {
    "duration": 181,
    "start_time": "2022-05-13T12:38:51.973Z"
   },
   {
    "duration": 25,
    "start_time": "2022-05-13T12:38:52.155Z"
   },
   {
    "duration": 364,
    "start_time": "2022-05-13T12:38:52.182Z"
   },
   {
    "duration": 19,
    "start_time": "2022-05-13T12:38:52.548Z"
   },
   {
    "duration": 32,
    "start_time": "2022-05-13T12:38:52.571Z"
   },
   {
    "duration": 13,
    "start_time": "2022-05-13T12:38:52.605Z"
   },
   {
    "duration": 10,
    "start_time": "2022-05-13T12:38:52.620Z"
   },
   {
    "duration": 11,
    "start_time": "2022-05-13T12:38:52.632Z"
   },
   {
    "duration": 11,
    "start_time": "2022-05-13T12:38:52.645Z"
   },
   {
    "duration": 421,
    "start_time": "2022-05-13T12:38:52.658Z"
   },
   {
    "duration": 12,
    "start_time": "2022-05-13T12:38:53.084Z"
   },
   {
    "duration": 7,
    "start_time": "2022-05-13T12:38:53.097Z"
   },
   {
    "duration": 9,
    "start_time": "2022-05-13T12:38:53.105Z"
   },
   {
    "duration": 6,
    "start_time": "2022-05-13T12:38:53.115Z"
   },
   {
    "duration": 388,
    "start_time": "2022-05-13T12:38:53.122Z"
   },
   {
    "duration": 5,
    "start_time": "2022-05-13T12:38:53.512Z"
   },
   {
    "duration": 239,
    "start_time": "2022-05-13T12:38:53.519Z"
   },
   {
    "duration": 132,
    "start_time": "2022-05-13T20:53:33.724Z"
   },
   {
    "duration": 123,
    "start_time": "2022-05-13T20:58:20.036Z"
   },
   {
    "duration": 1300,
    "start_time": "2022-05-13T21:06:11.891Z"
   },
   {
    "duration": 84,
    "start_time": "2022-05-13T21:06:13.193Z"
   },
   {
    "duration": 22,
    "start_time": "2022-05-13T21:06:13.279Z"
   },
   {
    "duration": 27,
    "start_time": "2022-05-13T21:06:13.304Z"
   },
   {
    "duration": 4,
    "start_time": "2022-05-13T21:06:13.333Z"
   },
   {
    "duration": 30,
    "start_time": "2022-05-13T21:06:13.364Z"
   },
   {
    "duration": 24,
    "start_time": "2022-05-13T21:06:13.396Z"
   },
   {
    "duration": 45,
    "start_time": "2022-05-13T21:06:13.422Z"
   },
   {
    "duration": 5,
    "start_time": "2022-05-13T21:06:13.470Z"
   },
   {
    "duration": 16,
    "start_time": "2022-05-13T21:06:13.479Z"
   },
   {
    "duration": 20,
    "start_time": "2022-05-13T21:06:13.496Z"
   },
   {
    "duration": 7,
    "start_time": "2022-05-13T21:06:13.517Z"
   },
   {
    "duration": 7,
    "start_time": "2022-05-13T21:06:13.526Z"
   },
   {
    "duration": 6,
    "start_time": "2022-05-13T21:06:13.562Z"
   },
   {
    "duration": 9,
    "start_time": "2022-05-13T21:06:13.570Z"
   },
   {
    "duration": 10,
    "start_time": "2022-05-13T21:06:13.581Z"
   },
   {
    "duration": 19,
    "start_time": "2022-05-13T21:06:13.593Z"
   },
   {
    "duration": 6,
    "start_time": "2022-05-13T21:06:13.614Z"
   },
   {
    "duration": 51,
    "start_time": "2022-05-13T21:06:13.622Z"
   },
   {
    "duration": 11,
    "start_time": "2022-05-13T21:06:13.675Z"
   },
   {
    "duration": 469,
    "start_time": "2022-05-13T21:06:13.688Z"
   },
   {
    "duration": 13,
    "start_time": "2022-05-13T21:06:14.161Z"
   },
   {
    "duration": 53,
    "start_time": "2022-05-13T21:06:14.177Z"
   },
   {
    "duration": 4,
    "start_time": "2022-05-13T21:06:14.232Z"
   },
   {
    "duration": 1575,
    "start_time": "2022-05-13T21:06:14.238Z"
   },
   {
    "duration": 6,
    "start_time": "2022-05-13T21:06:15.814Z"
   },
   {
    "duration": 10,
    "start_time": "2022-05-13T21:06:15.821Z"
   },
   {
    "duration": 49,
    "start_time": "2022-05-13T21:06:15.835Z"
   },
   {
    "duration": 458,
    "start_time": "2022-05-13T21:06:15.886Z"
   },
   {
    "duration": 274,
    "start_time": "2022-05-13T21:06:16.346Z"
   },
   {
    "duration": 7,
    "start_time": "2022-05-13T21:06:16.622Z"
   },
   {
    "duration": 13,
    "start_time": "2022-05-13T21:06:16.630Z"
   },
   {
    "duration": 17,
    "start_time": "2022-05-13T21:06:16.645Z"
   },
   {
    "duration": 5,
    "start_time": "2022-05-13T21:06:16.663Z"
   },
   {
    "duration": 149,
    "start_time": "2022-05-13T21:06:16.669Z"
   },
   {
    "duration": 5,
    "start_time": "2022-05-13T21:06:16.820Z"
   },
   {
    "duration": 146,
    "start_time": "2022-05-13T21:06:16.826Z"
   },
   {
    "duration": 1077,
    "start_time": "2022-05-13T21:06:16.974Z"
   },
   {
    "duration": 673,
    "start_time": "2022-05-13T21:06:18.053Z"
   },
   {
    "duration": 6,
    "start_time": "2022-05-13T21:06:18.730Z"
   },
   {
    "duration": 28,
    "start_time": "2022-05-13T21:06:18.738Z"
   },
   {
    "duration": 256,
    "start_time": "2022-05-13T21:06:18.769Z"
   },
   {
    "duration": 38,
    "start_time": "2022-05-13T21:06:19.027Z"
   },
   {
    "duration": 248,
    "start_time": "2022-05-13T21:06:19.068Z"
   },
   {
    "duration": 28,
    "start_time": "2022-05-13T21:06:19.318Z"
   },
   {
    "duration": 266,
    "start_time": "2022-05-13T21:06:19.348Z"
   },
   {
    "duration": 20,
    "start_time": "2022-05-13T21:06:19.616Z"
   },
   {
    "duration": 518,
    "start_time": "2022-05-13T21:06:19.638Z"
   },
   {
    "duration": 12,
    "start_time": "2022-05-13T21:06:20.158Z"
   },
   {
    "duration": 9,
    "start_time": "2022-05-13T21:06:20.172Z"
   },
   {
    "duration": 13,
    "start_time": "2022-05-13T21:06:20.182Z"
   },
   {
    "duration": 7,
    "start_time": "2022-05-13T21:06:20.197Z"
   },
   {
    "duration": 7,
    "start_time": "2022-05-13T21:06:20.206Z"
   },
   {
    "duration": 7,
    "start_time": "2022-05-13T21:06:20.214Z"
   },
   {
    "duration": 377,
    "start_time": "2022-05-13T21:06:20.223Z"
   },
   {
    "duration": 10,
    "start_time": "2022-05-13T21:06:20.602Z"
   },
   {
    "duration": 6,
    "start_time": "2022-05-13T21:06:20.614Z"
   },
   {
    "duration": 10,
    "start_time": "2022-05-13T21:06:20.622Z"
   },
   {
    "duration": 30,
    "start_time": "2022-05-13T21:06:20.634Z"
   },
   {
    "duration": 7,
    "start_time": "2022-05-13T21:06:20.666Z"
   },
   {
    "duration": 18,
    "start_time": "2022-05-13T21:06:20.675Z"
   },
   {
    "duration": 377,
    "start_time": "2022-05-13T21:06:20.695Z"
   },
   {
    "duration": 1822,
    "start_time": "2022-05-14T08:53:04.171Z"
   },
   {
    "duration": 78,
    "start_time": "2022-05-14T08:53:05.995Z"
   },
   {
    "duration": 25,
    "start_time": "2022-05-14T08:53:06.075Z"
   },
   {
    "duration": 21,
    "start_time": "2022-05-14T08:53:06.103Z"
   },
   {
    "duration": 4,
    "start_time": "2022-05-14T08:53:06.126Z"
   },
   {
    "duration": 27,
    "start_time": "2022-05-14T08:53:06.132Z"
   },
   {
    "duration": 57,
    "start_time": "2022-05-14T08:53:06.161Z"
   },
   {
    "duration": 25,
    "start_time": "2022-05-14T08:53:06.221Z"
   },
   {
    "duration": 6,
    "start_time": "2022-05-14T08:53:06.248Z"
   },
   {
    "duration": 45,
    "start_time": "2022-05-14T08:53:06.257Z"
   },
   {
    "duration": 20,
    "start_time": "2022-05-14T08:53:06.304Z"
   },
   {
    "duration": 6,
    "start_time": "2022-05-14T08:53:06.326Z"
   },
   {
    "duration": 10,
    "start_time": "2022-05-14T08:53:06.334Z"
   },
   {
    "duration": 12,
    "start_time": "2022-05-14T08:53:06.345Z"
   },
   {
    "duration": 41,
    "start_time": "2022-05-14T08:53:06.359Z"
   },
   {
    "duration": 9,
    "start_time": "2022-05-14T08:53:06.402Z"
   },
   {
    "duration": 19,
    "start_time": "2022-05-14T08:53:06.413Z"
   },
   {
    "duration": 7,
    "start_time": "2022-05-14T08:53:06.434Z"
   },
   {
    "duration": 64,
    "start_time": "2022-05-14T08:53:06.443Z"
   },
   {
    "duration": 10,
    "start_time": "2022-05-14T08:53:06.509Z"
   },
   {
    "duration": 472,
    "start_time": "2022-05-14T08:53:06.521Z"
   },
   {
    "duration": 12,
    "start_time": "2022-05-14T08:53:06.995Z"
   },
   {
    "duration": 47,
    "start_time": "2022-05-14T08:53:07.009Z"
   },
   {
    "duration": 4,
    "start_time": "2022-05-14T08:53:07.058Z"
   },
   {
    "duration": 2488,
    "start_time": "2022-05-14T08:53:07.064Z"
   },
   {
    "duration": 9,
    "start_time": "2022-05-14T08:53:09.554Z"
   },
   {
    "duration": 29,
    "start_time": "2022-05-14T08:53:09.565Z"
   },
   {
    "duration": 31,
    "start_time": "2022-05-14T08:53:09.599Z"
   },
   {
    "duration": 524,
    "start_time": "2022-05-14T08:53:09.632Z"
   },
   {
    "duration": 304,
    "start_time": "2022-05-14T08:53:10.158Z"
   },
   {
    "duration": 11,
    "start_time": "2022-05-14T08:53:10.465Z"
   },
   {
    "duration": 10,
    "start_time": "2022-05-14T08:53:10.494Z"
   },
   {
    "duration": 8,
    "start_time": "2022-05-14T08:53:10.507Z"
   },
   {
    "duration": 9,
    "start_time": "2022-05-14T08:53:10.518Z"
   },
   {
    "duration": 276,
    "start_time": "2022-05-14T08:53:10.529Z"
   },
   {
    "duration": 8,
    "start_time": "2022-05-14T08:53:10.808Z"
   },
   {
    "duration": 238,
    "start_time": "2022-05-14T08:53:10.819Z"
   },
   {
    "duration": 1306,
    "start_time": "2022-05-14T08:53:11.059Z"
   },
   {
    "duration": 1092,
    "start_time": "2022-05-14T08:53:12.368Z"
   },
   {
    "duration": 8,
    "start_time": "2022-05-14T08:53:13.463Z"
   },
   {
    "duration": 27,
    "start_time": "2022-05-14T08:53:13.473Z"
   },
   {
    "duration": 281,
    "start_time": "2022-05-14T08:53:13.502Z"
   },
   {
    "duration": 35,
    "start_time": "2022-05-14T08:53:13.785Z"
   },
   {
    "duration": 305,
    "start_time": "2022-05-14T08:53:13.822Z"
   },
   {
    "duration": 31,
    "start_time": "2022-05-14T08:53:14.130Z"
   },
   {
    "duration": 309,
    "start_time": "2022-05-14T08:53:14.163Z"
   },
   {
    "duration": 33,
    "start_time": "2022-05-14T08:53:14.475Z"
   },
   {
    "duration": 737,
    "start_time": "2022-05-14T08:53:14.511Z"
   },
   {
    "duration": 14,
    "start_time": "2022-05-14T08:53:15.251Z"
   },
   {
    "duration": 27,
    "start_time": "2022-05-14T08:53:15.268Z"
   },
   {
    "duration": 12,
    "start_time": "2022-05-14T08:53:15.298Z"
   },
   {
    "duration": 8,
    "start_time": "2022-05-14T08:53:15.313Z"
   },
   {
    "duration": 8,
    "start_time": "2022-05-14T08:53:15.323Z"
   },
   {
    "duration": 7,
    "start_time": "2022-05-14T08:53:15.334Z"
   },
   {
    "duration": 549,
    "start_time": "2022-05-14T08:53:15.344Z"
   },
   {
    "duration": 11,
    "start_time": "2022-05-14T08:53:15.896Z"
   },
   {
    "duration": 10,
    "start_time": "2022-05-14T08:53:15.909Z"
   },
   {
    "duration": 18,
    "start_time": "2022-05-14T08:53:15.921Z"
   },
   {
    "duration": 13,
    "start_time": "2022-05-14T08:53:15.942Z"
   },
   {
    "duration": 9,
    "start_time": "2022-05-14T08:53:15.958Z"
   },
   {
    "duration": 6,
    "start_time": "2022-05-14T08:53:15.994Z"
   },
   {
    "duration": 394,
    "start_time": "2022-05-14T08:53:16.002Z"
   },
   {
    "duration": 205,
    "start_time": "2022-05-14T09:07:31.133Z"
   },
   {
    "duration": 4,
    "start_time": "2022-05-14T09:07:39.039Z"
   },
   {
    "duration": 3703,
    "start_time": "2022-05-14T09:08:29.771Z"
   },
   {
    "duration": 33,
    "start_time": "2022-05-14T09:09:06.189Z"
   },
   {
    "duration": 20,
    "start_time": "2022-05-14T09:09:25.298Z"
   },
   {
    "duration": 17,
    "start_time": "2022-05-14T09:09:32.865Z"
   },
   {
    "duration": 17,
    "start_time": "2022-05-14T09:10:06.756Z"
   },
   {
    "duration": 16,
    "start_time": "2022-05-14T09:11:56.055Z"
   },
   {
    "duration": 17,
    "start_time": "2022-05-14T09:11:57.938Z"
   },
   {
    "duration": 205,
    "start_time": "2022-05-14T09:12:53.124Z"
   },
   {
    "duration": 4,
    "start_time": "2022-05-14T09:13:19.843Z"
   },
   {
    "duration": 16,
    "start_time": "2022-05-14T09:13:36.693Z"
   },
   {
    "duration": 12,
    "start_time": "2022-05-14T09:15:46.657Z"
   },
   {
    "duration": 6,
    "start_time": "2022-05-14T09:15:55.527Z"
   },
   {
    "duration": 115,
    "start_time": "2022-05-14T09:15:55.536Z"
   },
   {
    "duration": 52,
    "start_time": "2022-05-14T09:15:55.655Z"
   },
   {
    "duration": 34,
    "start_time": "2022-05-14T09:15:55.711Z"
   },
   {
    "duration": 6,
    "start_time": "2022-05-14T09:15:55.748Z"
   },
   {
    "duration": 70,
    "start_time": "2022-05-14T09:15:55.757Z"
   },
   {
    "duration": 66,
    "start_time": "2022-05-14T09:15:55.830Z"
   },
   {
    "duration": 25,
    "start_time": "2022-05-14T09:15:55.898Z"
   },
   {
    "duration": 6,
    "start_time": "2022-05-14T09:15:55.927Z"
   },
   {
    "duration": 15,
    "start_time": "2022-05-14T09:15:55.935Z"
   },
   {
    "duration": 63,
    "start_time": "2022-05-14T09:15:55.953Z"
   },
   {
    "duration": 8,
    "start_time": "2022-05-14T09:15:56.019Z"
   },
   {
    "duration": 11,
    "start_time": "2022-05-14T09:15:56.030Z"
   },
   {
    "duration": 11,
    "start_time": "2022-05-14T09:15:56.044Z"
   },
   {
    "duration": 37,
    "start_time": "2022-05-14T09:15:56.058Z"
   },
   {
    "duration": 13,
    "start_time": "2022-05-14T09:15:56.099Z"
   },
   {
    "duration": 24,
    "start_time": "2022-05-14T09:15:56.115Z"
   },
   {
    "duration": 9,
    "start_time": "2022-05-14T09:15:56.141Z"
   },
   {
    "duration": 61,
    "start_time": "2022-05-14T09:15:56.153Z"
   },
   {
    "duration": 12,
    "start_time": "2022-05-14T09:15:56.217Z"
   },
   {
    "duration": 502,
    "start_time": "2022-05-14T09:15:56.232Z"
   },
   {
    "duration": 11,
    "start_time": "2022-05-14T09:15:56.737Z"
   },
   {
    "duration": 72,
    "start_time": "2022-05-14T09:15:56.751Z"
   },
   {
    "duration": 4,
    "start_time": "2022-05-14T09:15:56.828Z"
   },
   {
    "duration": 2484,
    "start_time": "2022-05-14T09:15:56.834Z"
   },
   {
    "duration": 13,
    "start_time": "2022-05-14T09:15:59.320Z"
   },
   {
    "duration": 60,
    "start_time": "2022-05-14T09:15:59.335Z"
   },
   {
    "duration": 104,
    "start_time": "2022-05-14T09:15:59.398Z"
   },
   {
    "duration": 1599,
    "start_time": "2022-05-14T09:15:59.505Z"
   },
   {
    "duration": 907,
    "start_time": "2022-05-14T09:16:01.107Z"
   },
   {
    "duration": 13,
    "start_time": "2022-05-14T09:16:02.017Z"
   },
   {
    "duration": 66,
    "start_time": "2022-05-14T09:16:02.032Z"
   },
   {
    "duration": 30,
    "start_time": "2022-05-14T09:16:02.102Z"
   },
   {
    "duration": 12,
    "start_time": "2022-05-14T09:16:02.134Z"
   },
   {
    "duration": 646,
    "start_time": "2022-05-14T09:16:02.192Z"
   },
   {
    "duration": 56,
    "start_time": "2022-05-14T09:16:02.840Z"
   },
   {
    "duration": 510,
    "start_time": "2022-05-14T09:16:02.899Z"
   },
   {
    "duration": 1443,
    "start_time": "2022-05-14T09:16:03.412Z"
   },
   {
    "duration": 1126,
    "start_time": "2022-05-14T09:16:04.857Z"
   },
   {
    "duration": 9,
    "start_time": "2022-05-14T09:16:05.993Z"
   },
   {
    "duration": 12,
    "start_time": "2022-05-14T09:16:06.004Z"
   },
   {
    "duration": 278,
    "start_time": "2022-05-14T09:16:06.018Z"
   },
   {
    "duration": 35,
    "start_time": "2022-05-14T09:16:06.298Z"
   },
   {
    "duration": 5,
    "start_time": "2022-05-14T09:16:06.335Z"
   },
   {
    "duration": 34,
    "start_time": "2022-05-14T09:16:09.744Z"
   },
   {
    "duration": 1053,
    "start_time": "2022-05-14T09:16:52.395Z"
   },
   {
    "duration": 5,
    "start_time": "2022-05-14T09:18:30.257Z"
   },
   {
    "duration": 6,
    "start_time": "2022-05-14T09:19:52.242Z"
   },
   {
    "duration": 9,
    "start_time": "2022-05-14T09:20:00.263Z"
   },
   {
    "duration": 6,
    "start_time": "2022-05-14T09:21:20.907Z"
   },
   {
    "duration": 36,
    "start_time": "2022-05-14T09:22:05.876Z"
   },
   {
    "duration": 40,
    "start_time": "2022-05-14T09:22:33.667Z"
   },
   {
    "duration": 33,
    "start_time": "2022-05-14T09:22:49.211Z"
   },
   {
    "duration": 4,
    "start_time": "2022-05-14T09:22:53.016Z"
   },
   {
    "duration": 85,
    "start_time": "2022-05-14T09:22:53.023Z"
   },
   {
    "duration": 19,
    "start_time": "2022-05-14T09:22:53.110Z"
   },
   {
    "duration": 23,
    "start_time": "2022-05-14T09:22:53.131Z"
   },
   {
    "duration": 37,
    "start_time": "2022-05-14T09:22:53.157Z"
   },
   {
    "duration": 33,
    "start_time": "2022-05-14T09:22:53.196Z"
   },
   {
    "duration": 33,
    "start_time": "2022-05-14T09:22:53.231Z"
   },
   {
    "duration": 25,
    "start_time": "2022-05-14T09:22:53.293Z"
   },
   {
    "duration": 8,
    "start_time": "2022-05-14T09:22:53.321Z"
   },
   {
    "duration": 24,
    "start_time": "2022-05-14T09:22:53.332Z"
   },
   {
    "duration": 53,
    "start_time": "2022-05-14T09:22:53.362Z"
   },
   {
    "duration": 9,
    "start_time": "2022-05-14T09:22:53.418Z"
   },
   {
    "duration": 10,
    "start_time": "2022-05-14T09:22:53.429Z"
   },
   {
    "duration": 8,
    "start_time": "2022-05-14T09:22:53.442Z"
   },
   {
    "duration": 50,
    "start_time": "2022-05-14T09:22:53.452Z"
   },
   {
    "duration": 10,
    "start_time": "2022-05-14T09:22:53.504Z"
   },
   {
    "duration": 30,
    "start_time": "2022-05-14T09:22:53.517Z"
   },
   {
    "duration": 48,
    "start_time": "2022-05-14T09:22:53.550Z"
   },
   {
    "duration": 35,
    "start_time": "2022-05-14T09:22:53.600Z"
   },
   {
    "duration": 10,
    "start_time": "2022-05-14T09:22:53.637Z"
   },
   {
    "duration": 466,
    "start_time": "2022-05-14T09:22:53.649Z"
   },
   {
    "duration": 13,
    "start_time": "2022-05-14T09:22:54.117Z"
   },
   {
    "duration": 73,
    "start_time": "2022-05-14T09:22:54.132Z"
   },
   {
    "duration": 4,
    "start_time": "2022-05-14T09:22:54.208Z"
   },
   {
    "duration": 2518,
    "start_time": "2022-05-14T09:22:54.215Z"
   },
   {
    "duration": 11,
    "start_time": "2022-05-14T09:22:56.735Z"
   },
   {
    "duration": 13,
    "start_time": "2022-05-14T09:22:56.748Z"
   },
   {
    "duration": 34,
    "start_time": "2022-05-14T09:22:56.763Z"
   },
   {
    "duration": 30,
    "start_time": "2022-05-14T09:22:56.802Z"
   },
   {
    "duration": 34,
    "start_time": "2022-05-14T09:23:27.426Z"
   },
   {
    "duration": 33,
    "start_time": "2022-05-14T09:23:49.484Z"
   },
   {
    "duration": 578,
    "start_time": "2022-05-14T09:23:49.742Z"
   },
   {
    "duration": 580,
    "start_time": "2022-05-14T09:24:07.217Z"
   },
   {
    "duration": 23,
    "start_time": "2022-05-14T09:25:01.115Z"
   },
   {
    "duration": 6,
    "start_time": "2022-05-14T09:25:22.198Z"
   },
   {
    "duration": 85,
    "start_time": "2022-05-14T09:25:22.207Z"
   },
   {
    "duration": 21,
    "start_time": "2022-05-14T09:25:22.294Z"
   },
   {
    "duration": 22,
    "start_time": "2022-05-14T09:25:22.317Z"
   },
   {
    "duration": 53,
    "start_time": "2022-05-14T09:25:22.342Z"
   },
   {
    "duration": 28,
    "start_time": "2022-05-14T09:25:22.397Z"
   },
   {
    "duration": 29,
    "start_time": "2022-05-14T09:25:22.427Z"
   },
   {
    "duration": 24,
    "start_time": "2022-05-14T09:25:22.493Z"
   },
   {
    "duration": 7,
    "start_time": "2022-05-14T09:25:22.520Z"
   },
   {
    "duration": 12,
    "start_time": "2022-05-14T09:25:22.529Z"
   },
   {
    "duration": 60,
    "start_time": "2022-05-14T09:25:22.544Z"
   },
   {
    "duration": 7,
    "start_time": "2022-05-14T09:25:22.606Z"
   },
   {
    "duration": 10,
    "start_time": "2022-05-14T09:25:22.615Z"
   },
   {
    "duration": 16,
    "start_time": "2022-05-14T09:25:22.627Z"
   },
   {
    "duration": 17,
    "start_time": "2022-05-14T09:25:22.645Z"
   },
   {
    "duration": 9,
    "start_time": "2022-05-14T09:25:22.694Z"
   },
   {
    "duration": 22,
    "start_time": "2022-05-14T09:25:22.705Z"
   },
   {
    "duration": 8,
    "start_time": "2022-05-14T09:25:22.729Z"
   },
   {
    "duration": 72,
    "start_time": "2022-05-14T09:25:22.739Z"
   },
   {
    "duration": 13,
    "start_time": "2022-05-14T09:25:22.813Z"
   },
   {
    "duration": 689,
    "start_time": "2022-05-14T09:25:22.828Z"
   },
   {
    "duration": 15,
    "start_time": "2022-05-14T09:25:23.520Z"
   },
   {
    "duration": 78,
    "start_time": "2022-05-14T09:25:23.537Z"
   },
   {
    "duration": 4,
    "start_time": "2022-05-14T09:25:23.618Z"
   },
   {
    "duration": 2700,
    "start_time": "2022-05-14T09:25:23.624Z"
   },
   {
    "duration": 11,
    "start_time": "2022-05-14T09:25:26.327Z"
   },
   {
    "duration": 14,
    "start_time": "2022-05-14T09:25:26.341Z"
   },
   {
    "duration": 5,
    "start_time": "2022-05-14T09:25:26.358Z"
   },
   {
    "duration": 37,
    "start_time": "2022-05-14T09:25:26.400Z"
   },
   {
    "duration": 585,
    "start_time": "2022-05-14T09:25:26.440Z"
   },
   {
    "duration": 306,
    "start_time": "2022-05-14T09:25:27.027Z"
   },
   {
    "duration": 9,
    "start_time": "2022-05-14T09:25:27.335Z"
   },
   {
    "duration": 14,
    "start_time": "2022-05-14T09:25:27.346Z"
   },
   {
    "duration": 31,
    "start_time": "2022-05-14T09:25:27.362Z"
   },
   {
    "duration": 8,
    "start_time": "2022-05-14T09:25:27.395Z"
   },
   {
    "duration": 242,
    "start_time": "2022-05-14T09:25:27.405Z"
   },
   {
    "duration": 8,
    "start_time": "2022-05-14T09:25:27.649Z"
   },
   {
    "duration": 232,
    "start_time": "2022-05-14T09:25:27.659Z"
   },
   {
    "duration": 1094,
    "start_time": "2022-05-14T09:25:27.893Z"
   },
   {
    "duration": 1188,
    "start_time": "2022-05-14T09:25:28.993Z"
   },
   {
    "duration": 14,
    "start_time": "2022-05-14T09:25:30.183Z"
   },
   {
    "duration": 18,
    "start_time": "2022-05-14T09:25:30.199Z"
   },
   {
    "duration": 285,
    "start_time": "2022-05-14T09:25:30.219Z"
   },
   {
    "duration": 36,
    "start_time": "2022-05-14T09:25:30.507Z"
   },
   {
    "duration": 25,
    "start_time": "2022-05-14T09:25:33.275Z"
   },
   {
    "duration": 32,
    "start_time": "2022-05-14T09:29:22.421Z"
   },
   {
    "duration": 4,
    "start_time": "2022-05-14T09:29:33.272Z"
   },
   {
    "duration": 78,
    "start_time": "2022-05-14T09:29:33.279Z"
   },
   {
    "duration": 37,
    "start_time": "2022-05-14T09:29:33.360Z"
   },
   {
    "duration": 24,
    "start_time": "2022-05-14T09:29:33.399Z"
   },
   {
    "duration": 5,
    "start_time": "2022-05-14T09:29:33.426Z"
   },
   {
    "duration": 31,
    "start_time": "2022-05-14T09:29:33.433Z"
   },
   {
    "duration": 31,
    "start_time": "2022-05-14T09:29:33.494Z"
   },
   {
    "duration": 71,
    "start_time": "2022-05-14T09:29:33.528Z"
   },
   {
    "duration": 6,
    "start_time": "2022-05-14T09:29:33.601Z"
   },
   {
    "duration": 19,
    "start_time": "2022-05-14T09:29:33.609Z"
   },
   {
    "duration": 20,
    "start_time": "2022-05-14T09:29:33.632Z"
   },
   {
    "duration": 41,
    "start_time": "2022-05-14T09:29:33.654Z"
   },
   {
    "duration": 8,
    "start_time": "2022-05-14T09:29:33.697Z"
   },
   {
    "duration": 11,
    "start_time": "2022-05-14T09:29:33.707Z"
   },
   {
    "duration": 8,
    "start_time": "2022-05-14T09:29:33.720Z"
   },
   {
    "duration": 11,
    "start_time": "2022-05-14T09:29:33.730Z"
   },
   {
    "duration": 65,
    "start_time": "2022-05-14T09:29:33.743Z"
   },
   {
    "duration": 9,
    "start_time": "2022-05-14T09:29:33.810Z"
   },
   {
    "duration": 37,
    "start_time": "2022-05-14T09:29:33.821Z"
   },
   {
    "duration": 41,
    "start_time": "2022-05-14T09:29:33.860Z"
   },
   {
    "duration": 469,
    "start_time": "2022-05-14T09:29:33.903Z"
   },
   {
    "duration": 21,
    "start_time": "2022-05-14T09:29:34.374Z"
   },
   {
    "duration": 47,
    "start_time": "2022-05-14T09:29:34.397Z"
   },
   {
    "duration": 4,
    "start_time": "2022-05-14T09:29:34.446Z"
   },
   {
    "duration": 2575,
    "start_time": "2022-05-14T09:29:34.452Z"
   },
   {
    "duration": 10,
    "start_time": "2022-05-14T09:29:37.030Z"
   },
   {
    "duration": 11,
    "start_time": "2022-05-14T09:29:37.042Z"
   },
   {
    "duration": 61,
    "start_time": "2022-05-14T09:29:37.056Z"
   },
   {
    "duration": 655,
    "start_time": "2022-05-14T09:29:37.122Z"
   },
   {
    "duration": 288,
    "start_time": "2022-05-14T09:29:37.779Z"
   },
   {
    "duration": 9,
    "start_time": "2022-05-14T09:29:38.069Z"
   },
   {
    "duration": 22,
    "start_time": "2022-05-14T09:29:38.080Z"
   },
   {
    "duration": 8,
    "start_time": "2022-05-14T09:29:38.104Z"
   },
   {
    "duration": 8,
    "start_time": "2022-05-14T09:29:38.115Z"
   },
   {
    "duration": 251,
    "start_time": "2022-05-14T09:29:38.125Z"
   },
   {
    "duration": 19,
    "start_time": "2022-05-14T09:29:38.378Z"
   },
   {
    "duration": 227,
    "start_time": "2022-05-14T09:29:38.399Z"
   },
   {
    "duration": 1266,
    "start_time": "2022-05-14T09:29:38.628Z"
   },
   {
    "duration": 1098,
    "start_time": "2022-05-14T09:29:39.896Z"
   },
   {
    "duration": 8,
    "start_time": "2022-05-14T09:29:40.996Z"
   },
   {
    "duration": 13,
    "start_time": "2022-05-14T09:29:41.006Z"
   },
   {
    "duration": 385,
    "start_time": "2022-05-14T09:29:41.021Z"
   },
   {
    "duration": 51,
    "start_time": "2022-05-14T09:29:41.409Z"
   },
   {
    "duration": 4,
    "start_time": "2022-05-14T09:29:41.463Z"
   },
   {
    "duration": 28,
    "start_time": "2022-05-14T09:29:41.494Z"
   },
   {
    "duration": 302,
    "start_time": "2022-05-14T09:29:41.524Z"
   },
   {
    "duration": 15,
    "start_time": "2022-05-14T09:34:15.743Z"
   },
   {
    "duration": 339,
    "start_time": "2022-05-14T09:34:36.994Z"
   },
   {
    "duration": 768,
    "start_time": "2022-05-14T09:34:46.597Z"
   },
   {
    "duration": 678,
    "start_time": "2022-05-14T09:35:05.657Z"
   },
   {
    "duration": 683,
    "start_time": "2022-05-14T09:35:22.804Z"
   },
   {
    "duration": 676,
    "start_time": "2022-05-14T09:35:29.766Z"
   },
   {
    "duration": 683,
    "start_time": "2022-05-14T09:35:41.135Z"
   },
   {
    "duration": 693,
    "start_time": "2022-05-14T09:35:50.191Z"
   },
   {
    "duration": 808,
    "start_time": "2022-05-14T09:36:22.600Z"
   },
   {
    "duration": 682,
    "start_time": "2022-05-14T09:36:48.952Z"
   },
   {
    "duration": 874,
    "start_time": "2022-05-14T09:36:56.773Z"
   },
   {
    "duration": 883,
    "start_time": "2022-05-14T09:37:36.388Z"
   },
   {
    "duration": 1164,
    "start_time": "2022-05-14T09:38:22.387Z"
   },
   {
    "duration": 809,
    "start_time": "2022-05-14T09:38:42.786Z"
   },
   {
    "duration": 1005,
    "start_time": "2022-05-14T09:39:14.378Z"
   },
   {
    "duration": 1013,
    "start_time": "2022-05-14T09:39:44.392Z"
   },
   {
    "duration": 1201,
    "start_time": "2022-05-14T09:40:11.509Z"
   },
   {
    "duration": 1205,
    "start_time": "2022-05-14T09:40:18.541Z"
   },
   {
    "duration": 1191,
    "start_time": "2022-05-14T09:40:23.903Z"
   },
   {
    "duration": 730,
    "start_time": "2022-05-14T09:42:22.439Z"
   },
   {
    "duration": 503,
    "start_time": "2022-05-14T09:42:42.135Z"
   },
   {
    "duration": 719,
    "start_time": "2022-05-14T09:42:56.563Z"
   },
   {
    "duration": 763,
    "start_time": "2022-05-14T09:46:00.604Z"
   },
   {
    "duration": 740,
    "start_time": "2022-05-14T09:46:11.897Z"
   },
   {
    "duration": 769,
    "start_time": "2022-05-14T09:46:22.464Z"
   },
   {
    "duration": 744,
    "start_time": "2022-05-14T09:46:30.980Z"
   },
   {
    "duration": 940,
    "start_time": "2022-05-14T09:46:45.041Z"
   },
   {
    "duration": 728,
    "start_time": "2022-05-14T09:48:31.200Z"
   },
   {
    "duration": 738,
    "start_time": "2022-05-14T09:48:57.655Z"
   },
   {
    "duration": 714,
    "start_time": "2022-05-14T09:51:25.437Z"
   },
   {
    "duration": 736,
    "start_time": "2022-05-14T09:51:29.438Z"
   },
   {
    "duration": 835,
    "start_time": "2022-05-14T09:51:34.594Z"
   },
   {
    "duration": 702,
    "start_time": "2022-05-14T09:51:40.207Z"
   },
   {
    "duration": 798,
    "start_time": "2022-05-14T09:51:47.654Z"
   },
   {
    "duration": 751,
    "start_time": "2022-05-14T09:52:00.100Z"
   },
   {
    "duration": 790,
    "start_time": "2022-05-14T09:52:06.571Z"
   },
   {
    "duration": 872,
    "start_time": "2022-05-14T09:52:40.767Z"
   },
   {
    "duration": 852,
    "start_time": "2022-05-14T09:52:46.112Z"
   },
   {
    "duration": 718,
    "start_time": "2022-05-14T09:52:51.975Z"
   },
   {
    "duration": 217,
    "start_time": "2022-05-14T09:54:29.175Z"
   },
   {
    "duration": 6,
    "start_time": "2022-05-14T09:54:45.540Z"
   },
   {
    "duration": 29,
    "start_time": "2022-05-14T09:54:47.859Z"
   },
   {
    "duration": 4,
    "start_time": "2022-05-14T09:55:08.549Z"
   },
   {
    "duration": 30,
    "start_time": "2022-05-14T09:55:10.273Z"
   },
   {
    "duration": 29,
    "start_time": "2022-05-14T09:55:56.877Z"
   },
   {
    "duration": 15,
    "start_time": "2022-05-14T09:56:32.468Z"
   },
   {
    "duration": 406,
    "start_time": "2022-05-14T09:56:41.421Z"
   },
   {
    "duration": 775,
    "start_time": "2022-05-14T09:56:48.500Z"
   },
   {
    "duration": 768,
    "start_time": "2022-05-14T09:57:05.535Z"
   },
   {
    "duration": 640,
    "start_time": "2022-05-14T10:01:29.255Z"
   },
   {
    "duration": 1222,
    "start_time": "2022-05-16T08:55:30.629Z"
   },
   {
    "duration": 53,
    "start_time": "2022-05-16T08:55:33.858Z"
   },
   {
    "duration": 3,
    "start_time": "2022-05-16T08:55:41.711Z"
   },
   {
    "duration": 49,
    "start_time": "2022-05-16T08:55:41.746Z"
   },
   {
    "duration": 2,
    "start_time": "2022-05-16T08:55:47.546Z"
   },
   {
    "duration": 53,
    "start_time": "2022-05-16T08:55:47.551Z"
   },
   {
    "duration": 14,
    "start_time": "2022-05-16T08:55:47.605Z"
   },
   {
    "duration": 15,
    "start_time": "2022-05-16T08:55:47.620Z"
   },
   {
    "duration": 3,
    "start_time": "2022-05-16T08:55:47.637Z"
   },
   {
    "duration": 40,
    "start_time": "2022-05-16T08:55:47.641Z"
   },
   {
    "duration": 18,
    "start_time": "2022-05-16T08:55:47.683Z"
   },
   {
    "duration": 18,
    "start_time": "2022-05-16T08:55:47.702Z"
   },
   {
    "duration": 4,
    "start_time": "2022-05-16T08:55:47.721Z"
   },
   {
    "duration": 9,
    "start_time": "2022-05-16T08:55:47.727Z"
   },
   {
    "duration": 33,
    "start_time": "2022-05-16T08:55:47.738Z"
   },
   {
    "duration": 5,
    "start_time": "2022-05-16T08:55:47.772Z"
   },
   {
    "duration": 7,
    "start_time": "2022-05-16T08:55:47.778Z"
   },
   {
    "duration": 6,
    "start_time": "2022-05-16T08:55:47.787Z"
   },
   {
    "duration": 5,
    "start_time": "2022-05-16T08:55:47.794Z"
   },
   {
    "duration": 6,
    "start_time": "2022-05-16T08:55:47.801Z"
   },
   {
    "duration": 15,
    "start_time": "2022-05-16T08:55:47.808Z"
   },
   {
    "duration": 3,
    "start_time": "2022-05-16T08:56:10.158Z"
   },
   {
    "duration": 51,
    "start_time": "2022-05-16T08:56:10.163Z"
   },
   {
    "duration": 14,
    "start_time": "2022-05-16T08:56:10.215Z"
   },
   {
    "duration": 16,
    "start_time": "2022-05-16T08:56:10.230Z"
   },
   {
    "duration": 3,
    "start_time": "2022-05-16T08:56:10.270Z"
   },
   {
    "duration": 19,
    "start_time": "2022-05-16T08:56:10.276Z"
   },
   {
    "duration": 18,
    "start_time": "2022-05-16T08:56:10.296Z"
   },
   {
    "duration": 15,
    "start_time": "2022-05-16T08:56:10.316Z"
   },
   {
    "duration": 4,
    "start_time": "2022-05-16T08:56:10.332Z"
   },
   {
    "duration": 35,
    "start_time": "2022-05-16T08:56:10.338Z"
   },
   {
    "duration": 13,
    "start_time": "2022-05-16T08:56:10.375Z"
   },
   {
    "duration": 5,
    "start_time": "2022-05-16T08:56:10.390Z"
   },
   {
    "duration": 6,
    "start_time": "2022-05-16T08:56:10.397Z"
   },
   {
    "duration": 6,
    "start_time": "2022-05-16T08:56:10.406Z"
   },
   {
    "duration": 11,
    "start_time": "2022-05-16T08:56:10.413Z"
   },
   {
    "duration": 45,
    "start_time": "2022-05-16T08:56:10.426Z"
   },
   {
    "duration": 14,
    "start_time": "2022-05-16T08:56:10.473Z"
   },
   {
    "duration": 7,
    "start_time": "2022-05-16T08:56:10.489Z"
   },
   {
    "duration": 24,
    "start_time": "2022-05-16T08:56:10.497Z"
   },
   {
    "duration": 9,
    "start_time": "2022-05-16T08:56:10.523Z"
   },
   {
    "duration": 319,
    "start_time": "2022-05-16T08:56:10.534Z"
   },
   {
    "duration": 18,
    "start_time": "2022-05-16T08:56:10.855Z"
   },
   {
    "duration": 32,
    "start_time": "2022-05-16T08:56:10.875Z"
   },
   {
    "duration": 3,
    "start_time": "2022-05-16T08:56:10.909Z"
   },
   {
    "duration": 1393,
    "start_time": "2022-05-16T08:56:10.914Z"
   },
   {
    "duration": 7,
    "start_time": "2022-05-16T08:56:12.309Z"
   },
   {
    "duration": 7,
    "start_time": "2022-05-16T08:56:12.318Z"
   },
   {
    "duration": 45,
    "start_time": "2022-05-16T08:56:12.327Z"
   },
   {
    "duration": 290,
    "start_time": "2022-05-16T08:56:12.374Z"
   },
   {
    "duration": 153,
    "start_time": "2022-05-16T08:56:14.737Z"
   },
   {
    "duration": 2,
    "start_time": "2022-05-16T09:07:45.876Z"
   },
   {
    "duration": 56,
    "start_time": "2022-05-16T09:07:45.880Z"
   },
   {
    "duration": 12,
    "start_time": "2022-05-16T09:07:45.938Z"
   },
   {
    "duration": 27,
    "start_time": "2022-05-16T09:07:45.951Z"
   },
   {
    "duration": 3,
    "start_time": "2022-05-16T09:07:45.979Z"
   },
   {
    "duration": 19,
    "start_time": "2022-05-16T09:07:45.984Z"
   },
   {
    "duration": 17,
    "start_time": "2022-05-16T09:07:46.005Z"
   },
   {
    "duration": 16,
    "start_time": "2022-05-16T09:07:46.024Z"
   },
   {
    "duration": 5,
    "start_time": "2022-05-16T09:07:46.071Z"
   },
   {
    "duration": 11,
    "start_time": "2022-05-16T09:07:46.077Z"
   },
   {
    "duration": 15,
    "start_time": "2022-05-16T09:07:46.090Z"
   },
   {
    "duration": 5,
    "start_time": "2022-05-16T09:07:46.107Z"
   },
   {
    "duration": 6,
    "start_time": "2022-05-16T09:07:46.113Z"
   },
   {
    "duration": 7,
    "start_time": "2022-05-16T09:07:46.120Z"
   },
   {
    "duration": 6,
    "start_time": "2022-05-16T09:07:46.128Z"
   },
   {
    "duration": 6,
    "start_time": "2022-05-16T09:07:46.171Z"
   },
   {
    "duration": 13,
    "start_time": "2022-05-16T09:07:46.178Z"
   },
   {
    "duration": 4,
    "start_time": "2022-05-16T09:07:46.193Z"
   },
   {
    "duration": 21,
    "start_time": "2022-05-16T09:07:46.199Z"
   },
   {
    "duration": 7,
    "start_time": "2022-05-16T09:07:46.221Z"
   },
   {
    "duration": 118,
    "start_time": "2022-05-16T20:34:55.329Z"
   },
   {
    "duration": 1993,
    "start_time": "2022-05-16T20:37:34.403Z"
   },
   {
    "duration": 125,
    "start_time": "2022-05-16T20:37:36.401Z"
   },
   {
    "duration": 24,
    "start_time": "2022-05-16T20:37:36.529Z"
   },
   {
    "duration": 45,
    "start_time": "2022-05-16T20:37:36.556Z"
   },
   {
    "duration": 8,
    "start_time": "2022-05-16T20:37:36.606Z"
   },
   {
    "duration": 28,
    "start_time": "2022-05-16T20:37:36.617Z"
   },
   {
    "duration": 71,
    "start_time": "2022-05-16T20:37:36.648Z"
   },
   {
    "duration": 48,
    "start_time": "2022-05-16T20:37:36.722Z"
   },
   {
    "duration": 16,
    "start_time": "2022-05-16T20:37:36.773Z"
   },
   {
    "duration": 48,
    "start_time": "2022-05-16T20:37:36.792Z"
   },
   {
    "duration": 22,
    "start_time": "2022-05-16T20:37:36.843Z"
   },
   {
    "duration": 7,
    "start_time": "2022-05-16T20:37:36.868Z"
   },
   {
    "duration": 14,
    "start_time": "2022-05-16T20:37:36.878Z"
   },
   {
    "duration": 31,
    "start_time": "2022-05-16T20:37:36.897Z"
   },
   {
    "duration": 9,
    "start_time": "2022-05-16T20:37:36.931Z"
   },
   {
    "duration": 11,
    "start_time": "2022-05-16T20:37:36.942Z"
   },
   {
    "duration": 39,
    "start_time": "2022-05-16T20:37:36.955Z"
   },
   {
    "duration": 27,
    "start_time": "2022-05-16T20:37:36.999Z"
   },
   {
    "duration": 36,
    "start_time": "2022-05-16T20:37:37.028Z"
   },
   {
    "duration": 10,
    "start_time": "2022-05-16T20:37:37.067Z"
   },
   {
    "duration": 769,
    "start_time": "2022-05-16T20:37:37.086Z"
   },
   {
    "duration": 15,
    "start_time": "2022-05-16T20:37:37.858Z"
   },
   {
    "duration": 58,
    "start_time": "2022-05-16T20:37:37.893Z"
   },
   {
    "duration": 4,
    "start_time": "2022-05-16T20:37:37.953Z"
   },
   {
    "duration": 3198,
    "start_time": "2022-05-16T20:37:37.960Z"
   },
   {
    "duration": 9,
    "start_time": "2022-05-16T20:37:41.160Z"
   },
   {
    "duration": 26,
    "start_time": "2022-05-16T20:37:41.171Z"
   },
   {
    "duration": 53,
    "start_time": "2022-05-16T20:37:41.202Z"
   },
   {
    "duration": 592,
    "start_time": "2022-05-16T20:37:41.257Z"
   },
   {
    "duration": 349,
    "start_time": "2022-05-16T20:37:41.851Z"
   },
   {
    "duration": 15,
    "start_time": "2022-05-16T20:37:42.202Z"
   },
   {
    "duration": 15,
    "start_time": "2022-05-16T20:37:42.219Z"
   },
   {
    "duration": 8,
    "start_time": "2022-05-16T20:37:42.237Z"
   },
   {
    "duration": 40,
    "start_time": "2022-05-16T20:37:42.248Z"
   },
   {
    "duration": 354,
    "start_time": "2022-05-16T20:37:42.292Z"
   },
   {
    "duration": 7,
    "start_time": "2022-05-16T20:37:42.648Z"
   },
   {
    "duration": 266,
    "start_time": "2022-05-16T20:37:42.658Z"
   },
   {
    "duration": 1409,
    "start_time": "2022-05-16T20:37:42.927Z"
   },
   {
    "duration": 1459,
    "start_time": "2022-05-16T20:37:44.338Z"
   },
   {
    "duration": 10,
    "start_time": "2022-05-16T20:37:45.801Z"
   },
   {
    "duration": 11,
    "start_time": "2022-05-16T20:37:45.817Z"
   },
   {
    "duration": 309,
    "start_time": "2022-05-16T20:37:45.830Z"
   },
   {
    "duration": 5,
    "start_time": "2022-05-16T20:37:46.141Z"
   },
   {
    "duration": 51,
    "start_time": "2022-05-16T20:37:46.148Z"
   },
   {
    "duration": 871,
    "start_time": "2022-05-16T20:37:46.204Z"
   },
   {
    "duration": 7,
    "start_time": "2022-05-16T20:37:47.084Z"
   },
   {
    "duration": 54,
    "start_time": "2022-05-16T20:37:47.094Z"
   },
   {
    "duration": 896,
    "start_time": "2022-05-16T20:37:47.151Z"
   },
   {
    "duration": 44,
    "start_time": "2022-05-16T20:37:48.049Z"
   },
   {
    "duration": 823,
    "start_time": "2022-05-16T20:37:48.103Z"
   },
   {
    "duration": 12,
    "start_time": "2022-05-16T20:37:48.929Z"
   },
   {
    "duration": 16,
    "start_time": "2022-05-16T20:37:48.943Z"
   },
   {
    "duration": 26,
    "start_time": "2022-05-16T20:37:48.962Z"
   },
   {
    "duration": 32,
    "start_time": "2022-05-16T20:37:48.990Z"
   },
   {
    "duration": 22,
    "start_time": "2022-05-16T20:37:49.025Z"
   },
   {
    "duration": 17,
    "start_time": "2022-05-16T20:37:49.050Z"
   },
   {
    "duration": 469,
    "start_time": "2022-05-16T20:37:49.070Z"
   },
   {
    "duration": 12,
    "start_time": "2022-05-16T20:37:49.541Z"
   },
   {
    "duration": 29,
    "start_time": "2022-05-16T20:37:49.555Z"
   },
   {
    "duration": 39,
    "start_time": "2022-05-16T20:37:49.586Z"
   },
   {
    "duration": 14,
    "start_time": "2022-05-16T20:37:49.628Z"
   },
   {
    "duration": 16,
    "start_time": "2022-05-16T20:37:49.644Z"
   },
   {
    "duration": 14,
    "start_time": "2022-05-16T20:37:49.663Z"
   },
   {
    "duration": 453,
    "start_time": "2022-05-16T20:37:49.680Z"
   },
   {
    "duration": 94,
    "start_time": "2022-05-16T20:51:20.609Z"
   },
   {
    "duration": 577,
    "start_time": "2022-05-16T20:59:21.951Z"
   },
   {
    "duration": 844,
    "start_time": "2022-05-16T20:59:35.070Z"
   },
   {
    "duration": 845,
    "start_time": "2022-05-16T20:59:45.655Z"
   },
   {
    "duration": 951,
    "start_time": "2022-05-16T21:01:00.802Z"
   },
   {
    "duration": 1335,
    "start_time": "2022-05-16T21:01:06.193Z"
   },
   {
    "duration": 953,
    "start_time": "2022-05-16T21:01:13.567Z"
   },
   {
    "duration": 846,
    "start_time": "2022-05-16T21:01:45.269Z"
   },
   {
    "duration": 852,
    "start_time": "2022-05-16T21:01:53.622Z"
   },
   {
    "duration": 1020,
    "start_time": "2022-05-16T21:01:58.477Z"
   },
   {
    "duration": 869,
    "start_time": "2022-05-16T21:02:17.023Z"
   },
   {
    "duration": 859,
    "start_time": "2022-05-16T21:03:43.354Z"
   },
   {
    "duration": 894,
    "start_time": "2022-05-16T21:03:57.259Z"
   },
   {
    "duration": 472,
    "start_time": "2022-05-16T21:04:13.730Z"
   },
   {
    "duration": 442,
    "start_time": "2022-05-16T21:04:36.946Z"
   },
   {
    "duration": 940,
    "start_time": "2022-05-16T21:06:19.021Z"
   },
   {
    "duration": 886,
    "start_time": "2022-05-16T21:06:30.195Z"
   },
   {
    "duration": 935,
    "start_time": "2022-05-16T21:06:40.396Z"
   },
   {
    "duration": 870,
    "start_time": "2022-05-16T21:06:55.970Z"
   },
   {
    "duration": 588,
    "start_time": "2022-05-16T21:43:36.996Z"
   },
   {
    "duration": 606,
    "start_time": "2022-05-16T21:45:46.128Z"
   },
   {
    "duration": 735,
    "start_time": "2022-05-16T21:46:01.534Z"
   },
   {
    "duration": 921,
    "start_time": "2022-05-16T21:46:23.463Z"
   },
   {
    "duration": 804,
    "start_time": "2022-05-16T21:47:20.555Z"
   },
   {
    "duration": 394,
    "start_time": "2022-05-16T21:52:12.727Z"
   },
   {
    "duration": 110,
    "start_time": "2022-05-16T21:52:45.458Z"
   },
   {
    "duration": 398,
    "start_time": "2022-05-16T21:52:57.861Z"
   },
   {
    "duration": 110,
    "start_time": "2022-05-16T21:54:11.875Z"
   },
   {
    "duration": 414,
    "start_time": "2022-05-16T21:54:18.584Z"
   },
   {
    "duration": 538,
    "start_time": "2022-05-16T21:54:56.745Z"
   },
   {
    "duration": 419,
    "start_time": "2022-05-16T21:55:07.094Z"
   },
   {
    "duration": 416,
    "start_time": "2022-05-16T21:56:17.072Z"
   },
   {
    "duration": 4,
    "start_time": "2022-05-16T21:56:41.066Z"
   },
   {
    "duration": 411,
    "start_time": "2022-05-16T21:56:50.173Z"
   },
   {
    "duration": 388,
    "start_time": "2022-05-16T21:57:05.486Z"
   },
   {
    "duration": 380,
    "start_time": "2022-05-16T21:57:19.158Z"
   },
   {
    "duration": 496,
    "start_time": "2022-05-16T21:57:25.462Z"
   },
   {
    "duration": 381,
    "start_time": "2022-05-16T21:57:34.819Z"
   },
   {
    "duration": 1543,
    "start_time": "2022-05-16T22:36:10.170Z"
   },
   {
    "duration": 85,
    "start_time": "2022-05-16T22:36:11.716Z"
   },
   {
    "duration": 21,
    "start_time": "2022-05-16T22:36:11.803Z"
   },
   {
    "duration": 22,
    "start_time": "2022-05-16T22:36:11.827Z"
   },
   {
    "duration": 31,
    "start_time": "2022-05-16T22:36:11.852Z"
   },
   {
    "duration": 30,
    "start_time": "2022-05-16T22:36:11.885Z"
   },
   {
    "duration": 31,
    "start_time": "2022-05-16T22:36:11.917Z"
   },
   {
    "duration": 50,
    "start_time": "2022-05-16T22:36:11.950Z"
   },
   {
    "duration": 5,
    "start_time": "2022-05-16T22:36:12.003Z"
   },
   {
    "duration": 14,
    "start_time": "2022-05-16T22:36:12.010Z"
   },
   {
    "duration": 18,
    "start_time": "2022-05-16T22:36:12.026Z"
   },
   {
    "duration": 35,
    "start_time": "2022-05-16T22:36:12.047Z"
   },
   {
    "duration": 7,
    "start_time": "2022-05-16T22:36:12.084Z"
   },
   {
    "duration": 7,
    "start_time": "2022-05-16T22:36:12.096Z"
   },
   {
    "duration": 10,
    "start_time": "2022-05-16T22:36:12.106Z"
   },
   {
    "duration": 11,
    "start_time": "2022-05-16T22:36:12.118Z"
   },
   {
    "duration": 71,
    "start_time": "2022-05-16T22:36:12.131Z"
   },
   {
    "duration": 8,
    "start_time": "2022-05-16T22:36:12.205Z"
   },
   {
    "duration": 67,
    "start_time": "2022-05-16T22:36:12.216Z"
   },
   {
    "duration": 12,
    "start_time": "2022-05-16T22:36:12.286Z"
   },
   {
    "duration": 525,
    "start_time": "2022-05-16T22:36:12.301Z"
   },
   {
    "duration": 14,
    "start_time": "2022-05-16T22:36:12.829Z"
   },
   {
    "duration": 75,
    "start_time": "2022-05-16T22:36:12.846Z"
   },
   {
    "duration": 4,
    "start_time": "2022-05-16T22:36:12.925Z"
   },
   {
    "duration": 2609,
    "start_time": "2022-05-16T22:36:12.932Z"
   },
   {
    "duration": 11,
    "start_time": "2022-05-16T22:36:15.544Z"
   },
   {
    "duration": 34,
    "start_time": "2022-05-16T22:36:15.557Z"
   },
   {
    "duration": 36,
    "start_time": "2022-05-16T22:36:15.594Z"
   },
   {
    "duration": 566,
    "start_time": "2022-05-16T22:36:15.632Z"
   },
   {
    "duration": 307,
    "start_time": "2022-05-16T22:36:16.201Z"
   },
   {
    "duration": 10,
    "start_time": "2022-05-16T22:36:16.510Z"
   },
   {
    "duration": 9,
    "start_time": "2022-05-16T22:36:16.522Z"
   },
   {
    "duration": 7,
    "start_time": "2022-05-16T22:36:16.534Z"
   },
   {
    "duration": 38,
    "start_time": "2022-05-16T22:36:16.544Z"
   },
   {
    "duration": 256,
    "start_time": "2022-05-16T22:36:16.585Z"
   },
   {
    "duration": 7,
    "start_time": "2022-05-16T22:36:16.844Z"
   },
   {
    "duration": 257,
    "start_time": "2022-05-16T22:36:16.853Z"
   },
   {
    "duration": 1282,
    "start_time": "2022-05-16T22:36:17.112Z"
   },
   {
    "duration": 1167,
    "start_time": "2022-05-16T22:36:18.396Z"
   },
   {
    "duration": 21,
    "start_time": "2022-05-16T22:36:19.565Z"
   },
   {
    "duration": 9,
    "start_time": "2022-05-16T22:36:19.592Z"
   },
   {
    "duration": 278,
    "start_time": "2022-05-16T22:36:19.603Z"
   },
   {
    "duration": 4,
    "start_time": "2022-05-16T22:36:19.883Z"
   },
   {
    "duration": 33,
    "start_time": "2022-05-16T22:36:19.889Z"
   },
   {
    "duration": 811,
    "start_time": "2022-05-16T22:36:19.924Z"
   },
   {
    "duration": 4,
    "start_time": "2022-05-16T22:36:20.738Z"
   },
   {
    "duration": 49,
    "start_time": "2022-05-16T22:36:20.745Z"
   },
   {
    "duration": 866,
    "start_time": "2022-05-16T22:36:20.797Z"
   },
   {
    "duration": 418,
    "start_time": "2022-05-16T22:36:21.666Z"
   },
   {
    "duration": 24,
    "start_time": "2022-05-16T22:36:22.086Z"
   },
   {
    "duration": 769,
    "start_time": "2022-05-16T22:36:22.113Z"
   },
   {
    "duration": 13,
    "start_time": "2022-05-16T22:36:22.884Z"
   },
   {
    "duration": 8,
    "start_time": "2022-05-16T22:36:22.899Z"
   },
   {
    "duration": 13,
    "start_time": "2022-05-16T22:36:22.909Z"
   },
   {
    "duration": 12,
    "start_time": "2022-05-16T22:36:22.924Z"
   },
   {
    "duration": 44,
    "start_time": "2022-05-16T22:36:22.938Z"
   },
   {
    "duration": 9,
    "start_time": "2022-05-16T22:36:22.984Z"
   },
   {
    "duration": 429,
    "start_time": "2022-05-16T22:36:22.995Z"
   },
   {
    "duration": 12,
    "start_time": "2022-05-16T22:36:23.426Z"
   },
   {
    "duration": 8,
    "start_time": "2022-05-16T22:36:23.440Z"
   },
   {
    "duration": 36,
    "start_time": "2022-05-16T22:36:23.450Z"
   },
   {
    "duration": 10,
    "start_time": "2022-05-16T22:36:23.488Z"
   },
   {
    "duration": 7,
    "start_time": "2022-05-16T22:36:23.501Z"
   },
   {
    "duration": 8,
    "start_time": "2022-05-16T22:36:23.509Z"
   },
   {
    "duration": 430,
    "start_time": "2022-05-16T22:36:23.519Z"
   },
   {
    "duration": 52,
    "start_time": "2022-07-16T14:09:18.503Z"
   },
   {
    "duration": 1211,
    "start_time": "2022-07-16T14:09:20.883Z"
   },
   {
    "duration": 115,
    "start_time": "2022-07-16T14:09:22.096Z"
   },
   {
    "duration": 13,
    "start_time": "2022-07-16T14:09:22.213Z"
   },
   {
    "duration": 14,
    "start_time": "2022-07-16T14:09:22.227Z"
   },
   {
    "duration": 2,
    "start_time": "2022-07-16T14:09:22.243Z"
   },
   {
    "duration": 32,
    "start_time": "2022-07-16T14:09:22.247Z"
   },
   {
    "duration": 24,
    "start_time": "2022-07-16T14:09:22.281Z"
   },
   {
    "duration": 16,
    "start_time": "2022-07-16T14:09:22.307Z"
   },
   {
    "duration": 4,
    "start_time": "2022-07-16T14:09:22.324Z"
   },
   {
    "duration": 36,
    "start_time": "2022-07-16T14:09:22.331Z"
   },
   {
    "duration": 16,
    "start_time": "2022-07-16T14:09:22.369Z"
   },
   {
    "duration": 8,
    "start_time": "2022-07-16T14:09:22.386Z"
   },
   {
    "duration": 9,
    "start_time": "2022-07-16T14:09:22.396Z"
   },
   {
    "duration": 10,
    "start_time": "2022-07-16T14:09:22.406Z"
   },
   {
    "duration": 7,
    "start_time": "2022-07-16T14:09:22.417Z"
   },
   {
    "duration": 11,
    "start_time": "2022-07-16T14:09:22.425Z"
   },
   {
    "duration": 30,
    "start_time": "2022-07-16T14:09:22.437Z"
   },
   {
    "duration": 8,
    "start_time": "2022-07-16T14:09:22.470Z"
   },
   {
    "duration": 25,
    "start_time": "2022-07-16T14:09:22.480Z"
   },
   {
    "duration": 7,
    "start_time": "2022-07-16T14:09:22.507Z"
   },
   {
    "duration": 332,
    "start_time": "2022-07-16T14:09:22.516Z"
   },
   {
    "duration": 44,
    "start_time": "2022-11-11T12:16:35.034Z"
   },
   {
    "duration": 1023,
    "start_time": "2022-11-11T12:16:37.990Z"
   },
   {
    "duration": 205,
    "start_time": "2022-11-11T12:16:39.015Z"
   },
   {
    "duration": 12,
    "start_time": "2022-11-11T12:16:39.221Z"
   },
   {
    "duration": 31,
    "start_time": "2022-11-11T12:16:39.235Z"
   },
   {
    "duration": 11,
    "start_time": "2022-11-11T12:16:39.268Z"
   },
   {
    "duration": 22,
    "start_time": "2022-11-11T12:16:39.280Z"
   },
   {
    "duration": 14,
    "start_time": "2022-11-11T12:16:40.675Z"
   },
   {
    "duration": 4,
    "start_time": "2022-11-11T12:20:46.410Z"
   },
   {
    "duration": 3,
    "start_time": "2022-11-11T13:39:52.796Z"
   },
   {
    "duration": 108,
    "start_time": "2022-11-11T13:39:52.801Z"
   },
   {
    "duration": 14,
    "start_time": "2022-11-11T13:39:52.911Z"
   },
   {
    "duration": 19,
    "start_time": "2022-11-11T13:39:52.926Z"
   },
   {
    "duration": 3,
    "start_time": "2022-11-11T13:39:52.947Z"
   },
   {
    "duration": 28,
    "start_time": "2022-11-11T13:39:52.952Z"
   },
   {
    "duration": 14,
    "start_time": "2022-11-11T13:39:52.982Z"
   },
   {
    "duration": 35,
    "start_time": "2022-11-11T13:39:52.997Z"
   },
   {
    "duration": 5,
    "start_time": "2022-11-11T13:39:53.034Z"
   },
   {
    "duration": 25,
    "start_time": "2022-11-11T13:39:53.041Z"
   },
   {
    "duration": 32,
    "start_time": "2022-11-11T13:39:53.069Z"
   },
   {
    "duration": 23,
    "start_time": "2022-11-11T13:39:53.103Z"
   },
   {
    "duration": 29,
    "start_time": "2022-11-11T13:39:53.128Z"
   },
   {
    "duration": 9,
    "start_time": "2022-11-11T13:39:53.159Z"
   },
   {
    "duration": 6,
    "start_time": "2022-11-11T13:39:53.169Z"
   },
   {
    "duration": 19,
    "start_time": "2022-11-11T13:39:53.177Z"
   },
   {
    "duration": 18,
    "start_time": "2022-11-11T13:39:53.197Z"
   },
   {
    "duration": 5,
    "start_time": "2022-11-11T13:39:53.218Z"
   },
   {
    "duration": 23,
    "start_time": "2022-11-11T13:39:53.225Z"
   },
   {
    "duration": 13,
    "start_time": "2022-11-11T13:39:53.249Z"
   },
   {
    "duration": 329,
    "start_time": "2022-11-11T13:39:53.264Z"
   },
   {
    "duration": 8,
    "start_time": "2022-11-11T13:39:53.594Z"
   },
   {
    "duration": 52,
    "start_time": "2022-11-11T13:39:53.604Z"
   },
   {
    "duration": 2,
    "start_time": "2022-11-11T13:39:53.659Z"
   },
   {
    "duration": 1763,
    "start_time": "2022-11-11T13:39:53.663Z"
   },
   {
    "duration": 7,
    "start_time": "2022-11-11T13:39:55.428Z"
   },
   {
    "duration": 14,
    "start_time": "2022-11-11T13:39:55.436Z"
   },
   {
    "duration": 24,
    "start_time": "2022-11-11T13:39:55.452Z"
   },
   {
    "duration": 236,
    "start_time": "2022-11-11T13:39:55.479Z"
   },
   {
    "duration": 64,
    "start_time": "2022-11-11T13:47:59.485Z"
   },
   {
    "duration": 3,
    "start_time": "2022-11-11T13:48:02.418Z"
   },
   {
    "duration": 95,
    "start_time": "2022-11-11T13:48:02.423Z"
   },
   {
    "duration": 16,
    "start_time": "2022-11-11T13:48:02.520Z"
   },
   {
    "duration": 33,
    "start_time": "2022-11-11T13:48:02.538Z"
   },
   {
    "duration": 13,
    "start_time": "2022-11-11T13:48:02.573Z"
   },
   {
    "duration": 39,
    "start_time": "2022-11-11T13:48:02.587Z"
   },
   {
    "duration": 25,
    "start_time": "2022-11-11T13:48:02.628Z"
   },
   {
    "duration": 32,
    "start_time": "2022-11-11T13:48:02.655Z"
   },
   {
    "duration": 19,
    "start_time": "2022-11-11T13:48:02.689Z"
   },
   {
    "duration": 81,
    "start_time": "2022-11-11T13:48:02.709Z"
   },
   {
    "duration": 52,
    "start_time": "2022-11-11T13:48:02.792Z"
   },
   {
    "duration": 44,
    "start_time": "2022-11-11T13:48:02.846Z"
   },
   {
    "duration": 71,
    "start_time": "2022-11-11T13:48:02.893Z"
   },
   {
    "duration": 53,
    "start_time": "2022-11-11T13:48:02.966Z"
   },
   {
    "duration": 26,
    "start_time": "2022-11-11T13:48:03.021Z"
   },
   {
    "duration": 32,
    "start_time": "2022-11-11T13:48:03.048Z"
   },
   {
    "duration": 69,
    "start_time": "2022-11-11T13:48:03.081Z"
   },
   {
    "duration": 32,
    "start_time": "2022-11-11T13:48:03.152Z"
   },
   {
    "duration": 36,
    "start_time": "2022-11-11T13:48:03.186Z"
   },
   {
    "duration": 28,
    "start_time": "2022-11-11T13:48:03.224Z"
   },
   {
    "duration": 316,
    "start_time": "2022-11-11T13:48:03.254Z"
   },
   {
    "duration": 9,
    "start_time": "2022-11-11T13:48:03.572Z"
   },
   {
    "duration": 53,
    "start_time": "2022-11-11T13:48:03.583Z"
   },
   {
    "duration": 3,
    "start_time": "2022-11-11T13:48:03.639Z"
   },
   {
    "duration": 1795,
    "start_time": "2022-11-11T13:48:03.644Z"
   },
   {
    "duration": 6,
    "start_time": "2022-11-11T13:48:05.441Z"
   },
   {
    "duration": 22,
    "start_time": "2022-11-11T13:48:05.449Z"
   },
   {
    "duration": 24,
    "start_time": "2022-11-11T13:48:05.472Z"
   },
   {
    "duration": 234,
    "start_time": "2022-11-11T13:48:05.498Z"
   },
   {
    "duration": 196,
    "start_time": "2022-11-11T13:48:05.734Z"
   },
   {
    "duration": 7,
    "start_time": "2022-11-11T13:48:05.931Z"
   },
   {
    "duration": 15,
    "start_time": "2022-11-11T13:48:05.940Z"
   },
   {
    "duration": 37,
    "start_time": "2022-11-11T13:48:05.957Z"
   },
   {
    "duration": 159,
    "start_time": "2022-11-11T13:48:05.996Z"
   },
   {
    "duration": 5,
    "start_time": "2022-11-11T13:48:06.157Z"
   },
   {
    "duration": 156,
    "start_time": "2022-11-11T13:48:06.164Z"
   },
   {
    "duration": 833,
    "start_time": "2022-11-11T13:48:06.323Z"
   },
   {
    "duration": 701,
    "start_time": "2022-11-11T13:48:07.157Z"
   },
   {
    "duration": 6,
    "start_time": "2022-11-11T13:48:07.860Z"
   },
   {
    "duration": 13,
    "start_time": "2022-11-11T13:48:07.867Z"
   },
   {
    "duration": 161,
    "start_time": "2022-11-11T13:48:07.881Z"
   },
   {
    "duration": 3,
    "start_time": "2022-11-11T13:48:08.043Z"
   },
   {
    "duration": 20,
    "start_time": "2022-11-11T13:48:08.048Z"
   },
   {
    "duration": 495,
    "start_time": "2022-11-11T13:48:08.070Z"
   },
   {
    "duration": 4,
    "start_time": "2022-11-11T13:48:08.567Z"
   },
   {
    "duration": 20,
    "start_time": "2022-11-11T13:48:08.572Z"
   },
   {
    "duration": 374,
    "start_time": "2022-11-11T13:48:10.429Z"
   },
   {
    "duration": 686,
    "start_time": "2022-11-11T13:48:32.055Z"
   },
   {
    "duration": 268,
    "start_time": "2022-11-11T13:48:56.847Z"
   },
   {
    "duration": 250,
    "start_time": "2022-11-11T13:49:30.146Z"
   },
   {
    "duration": 264,
    "start_time": "2022-11-11T13:49:35.727Z"
   },
   {
    "duration": 243,
    "start_time": "2022-11-11T13:49:40.203Z"
   },
   {
    "duration": 266,
    "start_time": "2022-11-11T13:49:53.025Z"
   },
   {
    "duration": 346,
    "start_time": "2022-11-11T13:50:00.050Z"
   },
   {
    "duration": 236,
    "start_time": "2022-11-11T13:50:19.031Z"
   },
   {
    "duration": 269,
    "start_time": "2022-11-11T13:50:31.018Z"
   },
   {
    "duration": 286,
    "start_time": "2022-11-11T13:51:15.925Z"
   },
   {
    "duration": 253,
    "start_time": "2022-11-11T13:51:22.970Z"
   },
   {
    "duration": 633,
    "start_time": "2022-11-11T13:53:13.779Z"
   },
   {
    "duration": 426,
    "start_time": "2022-11-11T13:54:53.746Z"
   },
   {
    "duration": 288,
    "start_time": "2022-11-11T13:55:11.831Z"
   },
   {
    "duration": 260,
    "start_time": "2022-11-11T13:55:17.596Z"
   },
   {
    "duration": 272,
    "start_time": "2022-11-11T13:55:25.715Z"
   },
   {
    "duration": 529,
    "start_time": "2022-11-11T13:55:32.043Z"
   },
   {
    "duration": 9,
    "start_time": "2022-11-11T14:04:30.007Z"
   },
   {
    "duration": 18,
    "start_time": "2022-11-11T14:04:34.428Z"
   },
   {
    "duration": 488,
    "start_time": "2022-11-11T14:04:35.125Z"
   },
   {
    "duration": 463,
    "start_time": "2022-11-11T14:04:46.131Z"
   }
  ],
  "kernelspec": {
   "display_name": "Python 3 (ipykernel)",
   "language": "python",
   "name": "python3"
  },
  "language_info": {
   "codemirror_mode": {
    "name": "ipython",
    "version": 3
   },
   "file_extension": ".py",
   "mimetype": "text/x-python",
   "name": "python",
   "nbconvert_exporter": "python",
   "pygments_lexer": "ipython3",
   "version": "3.9.5"
  },
  "toc": {
   "base_numbering": 1,
   "nav_menu": {},
   "number_sections": true,
   "sideBar": true,
   "skip_h1_title": true,
   "title_cell": "Table of Contents",
   "title_sidebar": "Contents",
   "toc_cell": false,
   "toc_position": {
    "height": "calc(100% - 180px)",
    "left": "10px",
    "top": "150px",
    "width": "165px"
   },
   "toc_section_display": true,
   "toc_window_display": false
  }
 },
 "nbformat": 4,
 "nbformat_minor": 2
}
