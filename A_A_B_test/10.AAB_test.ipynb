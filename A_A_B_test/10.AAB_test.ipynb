{
 "cells": [
  {
   "cell_type": "markdown",
   "metadata": {},
   "source": [
    "# Исследование поведения пользователей мобильного приложения"
   ]
  },
  {
   "cell_type": "markdown",
   "metadata": {},
   "source": [
    "**Описание исследования**\n",
    "\n",
    "Заказчик -  стартап, который продаёт продукты питания.\n",
    "\n",
    "**Цель исследования** - изучить воронку продаж и проанаизировать результаты теста. \n",
    "\n",
    "**Описание данных**\n",
    "\n",
    "Входные данные - таблица действий, совершенных пользователями контрольной и экспериментальной группы.\n",
    "\n",
    "Таблица logs_exp:\n",
    "1. EventName — название события;\n",
    "2. DeviceIDHash — уникальный идентификатор пользователя;\n",
    "3. EventTimestamp — время события;\n",
    "4. ExpId — номер эксперимента: 246 и 247 — контрольные группы, а 248 — экспериментальная.\n",
    "\n",
    "**Ход исследования**\n",
    " \n",
    "Перед тем, как непосредственно перейти к анализу данных необходимо провести обзор данных, их предобработку, анализ данных, анализ воронки событий, анализ результатов эксперимента.\n",
    " \n",
    "Таким образом, исследование пройдёт в пять этапов:\n",
    " 1. Обзор данных.\n",
    " 2. Предобработка данных.\n",
    " 3. Исследовательский анализ данных.\n",
    " 4. Анализ воронки событий.\n",
    " 5. Анализ результатов эксперимента."
   ]
  },
  {
   "cell_type": "markdown",
   "metadata": {},
   "source": [
    "## Обзор данных"
   ]
  },
  {
   "cell_type": "code",
   "execution_count": 33,
   "metadata": {},
   "outputs": [],
   "source": [
    "# Импортируем необходимые библиотеки\n",
    "import pandas as pd\n",
    "import numpy as np\n",
    "import matplotlib.pyplot as plt\n",
    "import scipy.stats as stats\n",
    "import seaborn as sns\n",
    "import plotly.express as px\n",
    "import plotly.graph_objects as go\n",
    "import math\n",
    "import warnings\n",
    "warnings.filterwarnings('ignore')"
   ]
  },
  {
   "cell_type": "code",
   "execution_count": 2,
   "metadata": {},
   "outputs": [],
   "source": [
    "# Откроем датасет, в параметре sep укажем \\t\n",
    "data = pd.read_csv('/datasets/logs_exp.csv', sep='\\t')"
   ]
  },
  {
   "cell_type": "code",
   "execution_count": 3,
   "metadata": {},
   "outputs": [
    {
     "name": "stdout",
     "output_type": "stream",
     "text": [
      "<class 'pandas.core.frame.DataFrame'>\n",
      "RangeIndex: 244126 entries, 0 to 244125\n",
      "Data columns (total 4 columns):\n",
      " #   Column          Non-Null Count   Dtype \n",
      "---  ------          --------------   ----- \n",
      " 0   EventName       244126 non-null  object\n",
      " 1   DeviceIDHash    244126 non-null  int64 \n",
      " 2   EventTimestamp  244126 non-null  int64 \n",
      " 3   ExpId           244126 non-null  int64 \n",
      "dtypes: int64(3), object(1)\n",
      "memory usage: 7.5+ MB\n"
     ]
    }
   ],
   "source": [
    "# Получим общую информацию о данных\n",
    "data.info()"
   ]
  },
  {
   "cell_type": "code",
   "execution_count": 4,
   "metadata": {},
   "outputs": [
    {
     "data": {
      "text/plain": [
       "413"
      ]
     },
     "execution_count": 4,
     "metadata": {},
     "output_type": "execute_result"
    }
   ],
   "source": [
    "# Проверим датасет на наличие дубликатов\n",
    "data.duplicated().sum()"
   ]
  },
  {
   "cell_type": "code",
   "execution_count": 5,
   "metadata": {},
   "outputs": [
    {
     "data": {
      "text/plain": [
       "MainScreenAppear           119205\n",
       "OffersScreenAppear          46825\n",
       "CartScreenAppear            42731\n",
       "PaymentScreenSuccessful     34313\n",
       "Tutorial                     1052\n",
       "Name: EventName, dtype: int64"
      ]
     },
     "execution_count": 5,
     "metadata": {},
     "output_type": "execute_result"
    }
   ],
   "source": [
    "# Проверим столбцы с категориальными данными на неявные дубликаты\n",
    "data['EventName'].value_counts()"
   ]
  },
  {
   "cell_type": "code",
   "execution_count": 6,
   "metadata": {},
   "outputs": [
    {
     "data": {
      "text/plain": [
       "array([246, 248, 247])"
      ]
     },
     "execution_count": 6,
     "metadata": {},
     "output_type": "execute_result"
    }
   ],
   "source": [
    "data['ExpId'].unique()"
   ]
  },
  {
   "cell_type": "markdown",
   "metadata": {},
   "source": [
    "**Вывод:** \n",
    "- Всего в таблице 4 столбца и 244126 строк.\n",
    "- Пропусков в таблице не найдено\n",
    "- В таблице 413 явных дубликатов\n",
    "- Неявных дубликатов в таблице не найдено\n",
    "- Необходимо изменить тип данных на datetime в data['EventTimestamp']"
   ]
  },
  {
   "cell_type": "markdown",
   "metadata": {},
   "source": [
    "## Предобработка данных"
   ]
  },
  {
   "cell_type": "code",
   "execution_count": 7,
   "metadata": {},
   "outputs": [],
   "source": [
    "# Изменим названия колонок на удобные\n",
    "data.columns = ['event', 'id', 'datetime', 'group']"
   ]
  },
  {
   "cell_type": "code",
   "execution_count": 8,
   "metadata": {},
   "outputs": [],
   "source": [
    "# Заменим названия групп на удобные для анализа\n",
    "data['group'].replace(to_replace= (246,247,248), value = ('A', 'A1', 'B'), inplace=True )"
   ]
  },
  {
   "cell_type": "code",
   "execution_count": 9,
   "metadata": {},
   "outputs": [],
   "source": [
    "# Изменим тип данных на datetime\n",
    "data['datetime'] = pd.to_datetime(data['datetime'], unit='s')"
   ]
  },
  {
   "cell_type": "code",
   "execution_count": 10,
   "metadata": {},
   "outputs": [],
   "source": [
    "# Избавимся от дубликатов\n",
    "data = data.drop_duplicates()"
   ]
  },
  {
   "cell_type": "code",
   "execution_count": 11,
   "metadata": {},
   "outputs": [
    {
     "name": "stdout",
     "output_type": "stream",
     "text": [
      "<class 'pandas.core.frame.DataFrame'>\n",
      "Int64Index: 243713 entries, 0 to 244125\n",
      "Data columns (total 4 columns):\n",
      " #   Column    Non-Null Count   Dtype         \n",
      "---  ------    --------------   -----         \n",
      " 0   event     243713 non-null  object        \n",
      " 1   id        243713 non-null  int64         \n",
      " 2   datetime  243713 non-null  datetime64[ns]\n",
      " 3   group     243713 non-null  object        \n",
      "dtypes: datetime64[ns](1), int64(1), object(2)\n",
      "memory usage: 9.3+ MB\n"
     ]
    }
   ],
   "source": [
    "# Проверим\n",
    "data.info()"
   ]
  },
  {
   "cell_type": "markdown",
   "metadata": {},
   "source": [
    "**Вывод:**\n",
    "- Таким образом, были удалены 413 дубликатов\n",
    "- Изменены названия столбцов, изменены значения строк на удобные\n",
    "- Изменен тип данных на необходимый в столбце datetime"
   ]
  },
  {
   "cell_type": "markdown",
   "metadata": {},
   "source": [
    "## Исследовательский анализ данных"
   ]
  },
  {
   "cell_type": "code",
   "execution_count": 12,
   "metadata": {},
   "outputs": [
    {
     "data": {
      "text/plain": [
       "243713"
      ]
     },
     "execution_count": 12,
     "metadata": {},
     "output_type": "execute_result"
    }
   ],
   "source": [
    "# Изучим кол-во событий в логе\n",
    "data['event'].count()"
   ]
  },
  {
   "cell_type": "code",
   "execution_count": 13,
   "metadata": {},
   "outputs": [
    {
     "data": {
      "text/plain": [
       "7551"
      ]
     },
     "execution_count": 13,
     "metadata": {},
     "output_type": "execute_result"
    }
   ],
   "source": [
    "# Изучим кол-во уникальных пользователей в логе\n",
    "data['id'].nunique()"
   ]
  },
  {
   "cell_type": "code",
   "execution_count": 14,
   "metadata": {},
   "outputs": [
    {
     "data": {
      "text/plain": [
       "id\n",
       "6888746892508752          1\n",
       "4033444713489412517       1\n",
       "7962370797737085275       1\n",
       "636273053050387468        1\n",
       "1918918598819548986       1\n",
       "                       ... \n",
       "1754140665440434215    1221\n",
       "6932517045703054087    1439\n",
       "4623191541214045580    1768\n",
       "197027893265565660     1998\n",
       "6304868067479728361    2307\n",
       "Name: event, Length: 7551, dtype: int64"
      ]
     },
     "execution_count": 14,
     "metadata": {},
     "output_type": "execute_result"
    }
   ],
   "source": [
    "# Изучим кол-во событий на пользователя\n",
    "data.groupby('id')['event'].count().sort_values()"
   ]
  },
  {
   "cell_type": "code",
   "execution_count": 15,
   "metadata": {},
   "outputs": [
    {
     "data": {
      "text/plain": [
       "32.27559263673685"
      ]
     },
     "execution_count": 15,
     "metadata": {},
     "output_type": "execute_result"
    }
   ],
   "source": [
    "# Изучим среднее кол-во событий на пользователя\n",
    "data.groupby('id')['event'].count().mean()"
   ]
  },
  {
   "cell_type": "code",
   "execution_count": 16,
   "metadata": {},
   "outputs": [
    {
     "data": {
      "text/plain": [
       "20.0"
      ]
     },
     "execution_count": 16,
     "metadata": {},
     "output_type": "execute_result"
    }
   ],
   "source": [
    "# Изучим медианное кол-во событий на пользователя\n",
    "data.groupby('id')['event'].count().median()"
   ]
  },
  {
   "cell_type": "code",
   "execution_count": 17,
   "metadata": {},
   "outputs": [
    {
     "data": {
      "text/plain": [
       "Timestamp('2019-07-25 04:43:36')"
      ]
     },
     "execution_count": 17,
     "metadata": {},
     "output_type": "execute_result"
    }
   ],
   "source": [
    "# Найдем минимальную дату\n",
    "data['datetime'].min()"
   ]
  },
  {
   "cell_type": "code",
   "execution_count": 18,
   "metadata": {},
   "outputs": [
    {
     "data": {
      "text/plain": [
       "Timestamp('2019-08-07 21:15:17')"
      ]
     },
     "execution_count": 18,
     "metadata": {},
     "output_type": "execute_result"
    }
   ],
   "source": [
    "# Найдем максимальную дату\n",
    "data['datetime'].max()"
   ]
  },
  {
   "cell_type": "code",
   "execution_count": 19,
   "metadata": {},
   "outputs": [
    {
     "data": {
      "image/png": "[encoded data removed]",
      "text/plain": [
       "<Figure size 432x288 with 1 Axes>"
      ]
     },
     "metadata": {
      "needs_background": "light"
     },
     "output_type": "display_data"
    }
   ],
   "source": [
    "# Построим гистограмму\n",
    "data['datetime'].hist(bins=312, color=sns.color_palette(\"viridis\")[4])\n",
    "plt.title('Распределение количества событий на дату')\n",
    "plt.ylabel('Количество событий')\n",
    "plt.xticks(rotation=45)\n",
    "plt.show()"
   ]
  },
  {
   "cell_type": "code",
   "execution_count": 20,
   "metadata": {},
   "outputs": [],
   "source": [
    "# Избавимся от неактулаьных данных\n",
    "data = data[(data['datetime'] > '2019-08-01')]"
   ]
  },
  {
   "cell_type": "code",
   "execution_count": 21,
   "metadata": {
    "scrolled": true
   },
   "outputs": [
    {
     "data": {
      "text/plain": [
       "Timestamp('2019-08-01 00:07:28')"
      ]
     },
     "execution_count": 21,
     "metadata": {},
     "output_type": "execute_result"
    }
   ],
   "source": [
    "# Проверим\n",
    "data['datetime'].min()"
   ]
  },
  {
   "cell_type": "code",
   "execution_count": 22,
   "metadata": {},
   "outputs": [
    {
     "data": {
      "text/plain": [
       "0.988404393692581"
      ]
     },
     "execution_count": 22,
     "metadata": {},
     "output_type": "execute_result"
    }
   ],
   "source": [
    "# Проверим много ли событий мы потеряли \n",
    "data['event'].count()/243713"
   ]
  },
  {
   "cell_type": "code",
   "execution_count": 23,
   "metadata": {},
   "outputs": [
    {
     "data": {
      "text/plain": [
       "0.9977486425638988"
      ]
     },
     "execution_count": 23,
     "metadata": {},
     "output_type": "execute_result"
    }
   ],
   "source": [
    "# Проверим много ли пользователей мы потеряли \n",
    "data['id'].nunique()/7551"
   ]
  },
  {
   "cell_type": "code",
   "execution_count": 24,
   "metadata": {},
   "outputs": [
    {
     "data": {
      "text/plain": [
       "group\n",
       "A     2484\n",
       "A1    2513\n",
       "B     2537\n",
       "Name: id, dtype: int64"
      ]
     },
     "execution_count": 24,
     "metadata": {},
     "output_type": "execute_result"
    }
   ],
   "source": [
    "# Проверим не потеряли ли мы пользователей каждой группы\n",
    "data.groupby('group')['id'].nunique()"
   ]
  },
  {
   "cell_type": "markdown",
   "metadata": {},
   "source": [
    "**Вывод:**\n",
    "- Всего в логе 240887 событий\n",
    "- Всего пользователей в логе: 7551\n",
    "- В среднем на пользователя приходится 32 события, однако в логе есть выбивающиеся значения, доходящие до двух тысяч событий\n",
    "- Медианное кол-во событий на пользователя: 20\n",
    "- Период лога: с 2019-07-25 по 2019-08-07. Судя по гистограмме наиболее полные данные относятся к периоду с 2019-08-01 по 2019-08-07. Также заметно, что всплеск активности приходится на середину дня.\n",
    "- Отбросив старые данные, мы потеряли незначительное кол-во информации. Кол-во всех событий снизилось на 2%, кол-во пользователей снизилось на 0.1%."
   ]
  },
  {
   "cell_type": "markdown",
   "metadata": {},
   "source": [
    "## Анализ воронки событий"
   ]
  },
  {
   "cell_type": "code",
   "execution_count": 25,
   "metadata": {},
   "outputs": [
    {
     "data": {
      "text/plain": [
       "MainScreenAppear           117328\n",
       "OffersScreenAppear          46333\n",
       "CartScreenAppear            42303\n",
       "PaymentScreenSuccessful     33918\n",
       "Tutorial                     1005\n",
       "Name: event, dtype: int64"
      ]
     },
     "execution_count": 25,
     "metadata": {},
     "output_type": "execute_result"
    }
   ],
   "source": [
    "# Определим события в логе и их частоту встречания\n",
    "data['event'].value_counts()"
   ]
  },
  {
   "cell_type": "code",
   "execution_count": 26,
   "metadata": {},
   "outputs": [
    {
     "data": {
      "text/html": [
       "<div>\n",
       "<style scoped>\n",
       "    .dataframe tbody tr th:only-of-type {\n",
       "        vertical-align: middle;\n",
       "    }\n",
       "\n",
       "    .dataframe tbody tr th {\n",
       "        vertical-align: top;\n",
       "    }\n",
       "\n",
       "    .dataframe thead th {\n",
       "        text-align: right;\n",
       "    }\n",
       "</style>\n",
       "<table border=\"1\" class=\"dataframe\">\n",
       "  <thead>\n",
       "    <tr style=\"text-align: right;\">\n",
       "      <th></th>\n",
       "      <th>event</th>\n",
       "      <th>id</th>\n",
       "    </tr>\n",
       "  </thead>\n",
       "  <tbody>\n",
       "    <tr>\n",
       "      <th>0</th>\n",
       "      <td>MainScreenAppear</td>\n",
       "      <td>7419</td>\n",
       "    </tr>\n",
       "    <tr>\n",
       "      <th>1</th>\n",
       "      <td>OffersScreenAppear</td>\n",
       "      <td>4593</td>\n",
       "    </tr>\n",
       "    <tr>\n",
       "      <th>2</th>\n",
       "      <td>CartScreenAppear</td>\n",
       "      <td>3734</td>\n",
       "    </tr>\n",
       "    <tr>\n",
       "      <th>3</th>\n",
       "      <td>PaymentScreenSuccessful</td>\n",
       "      <td>3539</td>\n",
       "    </tr>\n",
       "  </tbody>\n",
       "</table>\n",
       "</div>"
      ],
      "text/plain": [
       "                     event    id\n",
       "0         MainScreenAppear  7419\n",
       "1       OffersScreenAppear  4593\n",
       "2         CartScreenAppear  3734\n",
       "3  PaymentScreenSuccessful  3539"
      ]
     },
     "execution_count": 26,
     "metadata": {},
     "output_type": "execute_result"
    }
   ],
   "source": [
    "# Посмотрим сколько пользователей совершали то или иное событие\n",
    "events = data.groupby('event').agg({'id' : 'nunique'}).sort_values(by='id', ascending=False)\n",
    "events = events[:-1]\n",
    "events = events.reset_index()\n",
    "events"
   ]
  },
  {
   "cell_type": "code",
   "execution_count": 27,
   "metadata": {},
   "outputs": [
    {
     "data": {
      "text/html": [
       "<div>\n",
       "<style scoped>\n",
       "    .dataframe tbody tr th:only-of-type {\n",
       "        vertical-align: middle;\n",
       "    }\n",
       "\n",
       "    .dataframe tbody tr th {\n",
       "        vertical-align: top;\n",
       "    }\n",
       "\n",
       "    .dataframe thead th {\n",
       "        text-align: right;\n",
       "    }\n",
       "</style>\n",
       "<table border=\"1\" class=\"dataframe\">\n",
       "  <thead>\n",
       "    <tr style=\"text-align: right;\">\n",
       "      <th></th>\n",
       "      <th>event</th>\n",
       "      <th>id</th>\n",
       "      <th>% of initial</th>\n",
       "    </tr>\n",
       "  </thead>\n",
       "  <tbody>\n",
       "    <tr>\n",
       "      <th>0</th>\n",
       "      <td>MainScreenAppear</td>\n",
       "      <td>7419</td>\n",
       "      <td>98.473586</td>\n",
       "    </tr>\n",
       "    <tr>\n",
       "      <th>1</th>\n",
       "      <td>OffersScreenAppear</td>\n",
       "      <td>4593</td>\n",
       "      <td>60.963632</td>\n",
       "    </tr>\n",
       "    <tr>\n",
       "      <th>2</th>\n",
       "      <td>CartScreenAppear</td>\n",
       "      <td>3734</td>\n",
       "      <td>49.561986</td>\n",
       "    </tr>\n",
       "    <tr>\n",
       "      <th>3</th>\n",
       "      <td>PaymentScreenSuccessful</td>\n",
       "      <td>3539</td>\n",
       "      <td>46.973719</td>\n",
       "    </tr>\n",
       "  </tbody>\n",
       "</table>\n",
       "</div>"
      ],
      "text/plain": [
       "                     event    id  % of initial\n",
       "0         MainScreenAppear  7419     98.473586\n",
       "1       OffersScreenAppear  4593     60.963632\n",
       "2         CartScreenAppear  3734     49.561986\n",
       "3  PaymentScreenSuccessful  3539     46.973719"
      ]
     },
     "execution_count": 27,
     "metadata": {},
     "output_type": "execute_result"
    }
   ],
   "source": [
    "# Найдем долю пользователей, совершивших каждое событие\n",
    "events['% of initial'] = (events['id']/data['id'].nunique())*100\n",
    "events"
   ]
  },
  {
   "cell_type": "code",
   "execution_count": 28,
   "metadata": {},
   "outputs": [
    {
     "data": {
      "text/html": [
       "<div>\n",
       "<style scoped>\n",
       "    .dataframe tbody tr th:only-of-type {\n",
       "        vertical-align: middle;\n",
       "    }\n",
       "\n",
       "    .dataframe tbody tr th {\n",
       "        vertical-align: top;\n",
       "    }\n",
       "\n",
       "    .dataframe thead th {\n",
       "        text-align: right;\n",
       "    }\n",
       "</style>\n",
       "<table border=\"1\" class=\"dataframe\">\n",
       "  <thead>\n",
       "    <tr style=\"text-align: right;\">\n",
       "      <th></th>\n",
       "      <th>event</th>\n",
       "      <th>id</th>\n",
       "      <th>% of initial</th>\n",
       "      <th>% of previous</th>\n",
       "    </tr>\n",
       "  </thead>\n",
       "  <tbody>\n",
       "    <tr>\n",
       "      <th>0</th>\n",
       "      <td>MainScreenAppear</td>\n",
       "      <td>7419</td>\n",
       "      <td>98.473586</td>\n",
       "      <td>100.000000</td>\n",
       "    </tr>\n",
       "    <tr>\n",
       "      <th>1</th>\n",
       "      <td>OffersScreenAppear</td>\n",
       "      <td>4593</td>\n",
       "      <td>60.963632</td>\n",
       "      <td>61.908613</td>\n",
       "    </tr>\n",
       "    <tr>\n",
       "      <th>2</th>\n",
       "      <td>CartScreenAppear</td>\n",
       "      <td>3734</td>\n",
       "      <td>49.561986</td>\n",
       "      <td>81.297627</td>\n",
       "    </tr>\n",
       "    <tr>\n",
       "      <th>3</th>\n",
       "      <td>PaymentScreenSuccessful</td>\n",
       "      <td>3539</td>\n",
       "      <td>46.973719</td>\n",
       "      <td>94.777718</td>\n",
       "    </tr>\n",
       "  </tbody>\n",
       "</table>\n",
       "</div>"
      ],
      "text/plain": [
       "                     event    id  % of initial  % of previous\n",
       "0         MainScreenAppear  7419     98.473586     100.000000\n",
       "1       OffersScreenAppear  4593     60.963632      61.908613\n",
       "2         CartScreenAppear  3734     49.561986      81.297627\n",
       "3  PaymentScreenSuccessful  3539     46.973719      94.777718"
      ]
     },
     "execution_count": 28,
     "metadata": {},
     "output_type": "execute_result"
    }
   ],
   "source": [
    "# Можно предположить, что события проияходят в таком порядке: MainScreenAppear, OffersScreenAppear, CartScreenAppear, PaymentScreenSuccessful, а Tutorial не является обязательным событием и не входит в воронку \n",
    "# Далее посчитаем долю пользователей, которые проходят на следующий шаг воронки\n",
    "events['% of previous'] = ((events['id']/events['id'].shift()).fillna(1))*100\n",
    "events"
   ]
  },
  {
   "cell_type": "code",
   "execution_count": 29,
   "metadata": {},
   "outputs": [
    {
     "data": {
      "text/plain": [
       "0.47701846610055265"
      ]
     },
     "execution_count": 29,
     "metadata": {},
     "output_type": "execute_result"
    }
   ],
   "source": [
    "# Найдем долю пользователей, доходящих от первого события до оплаты\n",
    "events.loc[3, 'id']/events.loc[0, 'id']"
   ]
  },
  {
   "cell_type": "code",
   "execution_count": 35,
   "metadata": {},
   "outputs": [
    {
     "data": {
      "application/vnd.plotly.v1+json": {
       "config": {
        "plotlyServerURL": "https://plot.ly"
       },
       "data": [
        {
         "name": "Группа A",
         "textinfo": "value+percent initial",
         "type": "funnel",
         "x": [
          2450,
          1542,
          1266,
          1200,
          278
         ],
         "y": [
          "MainScreenAppear",
          "OffersScreenAppear",
          "CartScreenAppear",
          "PaymentScreenSuccessful",
          "Tutorial"
         ]
        },
        {
         "name": "A1",
         "orientation": "h",
         "textinfo": "value+percent initial",
         "textposition": "inside",
         "type": "funnel",
         "x": [
          2476,
          1520,
          1238,
          1158,
          283
         ],
         "y": [
          "MainScreenAppear",
          "OffersScreenAppear",
          "CartScreenAppear",
          "PaymentScreenSuccessful",
          "Tutorial"
         ]
        }
       ],
       "layout": {
        "template": {
         "data": {
          "bar": [
           {
            "error_x": {
             "color": "#2a3f5f"
            },
            "error_y": {
             "color": "#2a3f5f"
            },
            "marker": {
             "line": {
              "color": "#E5ECF6",
              "width": 0.5
             },
             "pattern": {
              "fillmode": "overlay",
              "size": 10,
              "solidity": 0.2
             }
            },
            "type": "bar"
           }
          ],
          "barpolar": [
           {
            "marker": {
             "line": {
              "color": "#E5ECF6",
              "width": 0.5
             },
             "pattern": {
              "fillmode": "overlay",
              "size": 10,
              "solidity": 0.2
             }
            },
            "type": "barpolar"
           }
          ],
          "carpet": [
           {
            "aaxis": {
             "endlinecolor": "#2a3f5f",
             "gridcolor": "white",
             "linecolor": "white",
             "minorgridcolor": "white",
             "startlinecolor": "#2a3f5f"
            },
            "baxis": {
             "endlinecolor": "#2a3f5f",
             "gridcolor": "white",
             "linecolor": "white",
             "minorgridcolor": "white",
             "startlinecolor": "#2a3f5f"
            },
            "type": "carpet"
           }
          ],
          "choropleth": [
           {
            "colorbar": {
             "outlinewidth": 0,
             "ticks": ""
            },
            "type": "choropleth"
           }
          ],
          "contour": [
           {
            "colorbar": {
             "outlinewidth": 0,
             "ticks": ""
            },
            "colorscale": [
             [
              0,
              "#0d0887"
             ],
             [
              0.1111111111111111,
              "#46039f"
             ],
             [
              0.2222222222222222,
              "#7201a8"
             ],
             [
              0.3333333333333333,
              "#9c179e"
             ],
             [
              0.4444444444444444,
              "#bd3786"
             ],
             [
              0.5555555555555556,
              "#d8576b"
             ],
             [
              0.6666666666666666,
              "#ed7953"
             ],
             [
              0.7777777777777778,
              "#fb9f3a"
             ],
             [
              0.8888888888888888,
              "#fdca26"
             ],
             [
              1,
              "#f0f921"
             ]
            ],
            "type": "contour"
           }
          ],
          "contourcarpet": [
           {
            "colorbar": {
             "outlinewidth": 0,
             "ticks": ""
            },
            "type": "contourcarpet"
           }
          ],
          "heatmap": [
           {
            "colorbar": {
             "outlinewidth": 0,
             "ticks": ""
            },
            "colorscale": [
             [
              0,
              "#0d0887"
             ],
             [
              0.1111111111111111,
              "#46039f"
             ],
             [
              0.2222222222222222,
              "#7201a8"
             ],
             [
              0.3333333333333333,
              "#9c179e"
             ],
             [
              0.4444444444444444,
              "#bd3786"
             ],
             [
              0.5555555555555556,
              "#d8576b"
             ],
             [
              0.6666666666666666,
              "#ed7953"
             ],
             [
              0.7777777777777778,
              "#fb9f3a"
             ],
             [
              0.8888888888888888,
              "#fdca26"
             ],
             [
              1,
              "#f0f921"
             ]
            ],
            "type": "heatmap"
           }
          ],
          "heatmapgl": [
           {
            "colorbar": {
             "outlinewidth": 0,
             "ticks": ""
            },
            "colorscale": [
             [
              0,
              "#0d0887"
             ],
             [
              0.1111111111111111,
              "#46039f"
             ],
             [
              0.2222222222222222,
              "#7201a8"
             ],
             [
              0.3333333333333333,
              "#9c179e"
             ],
             [
              0.4444444444444444,
              "#bd3786"
             ],
             [
              0.5555555555555556,
              "#d8576b"
             ],
             [
              0.6666666666666666,
              "#ed7953"
             ],
             [
              0.7777777777777778,
              "#fb9f3a"
             ],
             [
              0.8888888888888888,
              "#fdca26"
             ],
             [
              1,
              "#f0f921"
             ]
            ],
            "type": "heatmapgl"
           }
          ],
          "histogram": [
           {
            "marker": {
             "pattern": {
              "fillmode": "overlay",
              "size": 10,
              "solidity": 0.2
             }
            },
            "type": "histogram"
           }
          ],
          "histogram2d": [
           {
            "colorbar": {
             "outlinewidth": 0,
             "ticks": ""
            },
            "colorscale": [
             [
              0,
              "#0d0887"
             ],
             [
              0.1111111111111111,
              "#46039f"
             ],
             [
              0.2222222222222222,
              "#7201a8"
             ],
             [
              0.3333333333333333,
              "#9c179e"
             ],
             [
              0.4444444444444444,
              "#bd3786"
             ],
             [
              0.5555555555555556,
              "#d8576b"
             ],
             [
              0.6666666666666666,
              "#ed7953"
             ],
             [
              0.7777777777777778,
              "#fb9f3a"
             ],
             [
              0.8888888888888888,
              "#fdca26"
             ],
             [
              1,
              "#f0f921"
             ]
            ],
            "type": "histogram2d"
           }
          ],
          "histogram2dcontour": [
           {
            "colorbar": {
             "outlinewidth": 0,
             "ticks": ""
            },
            "colorscale": [
             [
              0,
              "#0d0887"
             ],
             [
              0.1111111111111111,
              "#46039f"
             ],
             [
              0.2222222222222222,
              "#7201a8"
             ],
             [
              0.3333333333333333,
              "#9c179e"
             ],
             [
              0.4444444444444444,
              "#bd3786"
             ],
             [
              0.5555555555555556,
              "#d8576b"
             ],
             [
              0.6666666666666666,
              "#ed7953"
             ],
             [
              0.7777777777777778,
              "#fb9f3a"
             ],
             [
              0.8888888888888888,
              "#fdca26"
             ],
             [
              1,
              "#f0f921"
             ]
            ],
            "type": "histogram2dcontour"
           }
          ],
          "mesh3d": [
           {
            "colorbar": {
             "outlinewidth": 0,
             "ticks": ""
            },
            "type": "mesh3d"
           }
          ],
          "parcoords": [
           {
            "line": {
             "colorbar": {
              "outlinewidth": 0,
              "ticks": ""
             }
            },
            "type": "parcoords"
           }
          ],
          "pie": [
           {
            "automargin": true,
            "type": "pie"
           }
          ],
          "scatter": [
           {
            "marker": {
             "colorbar": {
              "outlinewidth": 0,
              "ticks": ""
             }
            },
            "type": "scatter"
           }
          ],
          "scatter3d": [
           {
            "line": {
             "colorbar": {
              "outlinewidth": 0,
              "ticks": ""
             }
            },
            "marker": {
             "colorbar": {
              "outlinewidth": 0,
              "ticks": ""
             }
            },
            "type": "scatter3d"
           }
          ],
          "scattercarpet": [
           {
            "marker": {
             "colorbar": {
              "outlinewidth": 0,
              "ticks": ""
             }
            },
            "type": "scattercarpet"
           }
          ],
          "scattergeo": [
           {
            "marker": {
             "colorbar": {
              "outlinewidth": 0,
              "ticks": ""
             }
            },
            "type": "scattergeo"
           }
          ],
          "scattergl": [
           {
            "marker": {
             "colorbar": {
              "outlinewidth": 0,
              "ticks": ""
             }
            },
            "type": "scattergl"
           }
          ],
          "scattermapbox": [
           {
            "marker": {
             "colorbar": {
              "outlinewidth": 0,
              "ticks": ""
             }
            },
            "type": "scattermapbox"
           }
          ],
          "scatterpolar": [
           {
            "marker": {
             "colorbar": {
              "outlinewidth": 0,
              "ticks": ""
             }
            },
            "type": "scatterpolar"
           }
          ],
          "scatterpolargl": [
           {
            "marker": {
             "colorbar": {
              "outlinewidth": 0,
              "ticks": ""
             }
            },
            "type": "scatterpolargl"
           }
          ],
          "scatterternary": [
           {
            "marker": {
             "colorbar": {
              "outlinewidth": 0,
              "ticks": ""
             }
            },
            "type": "scatterternary"
           }
          ],
          "surface": [
           {
            "colorbar": {
             "outlinewidth": 0,
             "ticks": ""
            },
            "colorscale": [
             [
              0,
              "#0d0887"
             ],
             [
              0.1111111111111111,
              "#46039f"
             ],
             [
              0.2222222222222222,
              "#7201a8"
             ],
             [
              0.3333333333333333,
              "#9c179e"
             ],
             [
              0.4444444444444444,
              "#bd3786"
             ],
             [
              0.5555555555555556,
              "#d8576b"
             ],
             [
              0.6666666666666666,
              "#ed7953"
             ],
             [
              0.7777777777777778,
              "#fb9f3a"
             ],
             [
              0.8888888888888888,
              "#fdca26"
             ],
             [
              1,
              "#f0f921"
             ]
            ],
            "type": "surface"
           }
          ],
          "table": [
           {
            "cells": {
             "fill": {
              "color": "#EBF0F8"
             },
             "line": {
              "color": "white"
             }
            },
            "header": {
             "fill": {
              "color": "#C8D4E3"
             },
             "line": {
              "color": "white"
             }
            },
            "type": "table"
           }
          ]
         },
         "layout": {
          "annotationdefaults": {
           "arrowcolor": "#2a3f5f",
           "arrowhead": 0,
           "arrowwidth": 1
          },
          "autotypenumbers": "strict",
          "coloraxis": {
           "colorbar": {
            "outlinewidth": 0,
            "ticks": ""
           }
          },
          "colorscale": {
           "diverging": [
            [
             0,
             "#8e0152"
            ],
            [
             0.1,
             "#c51b7d"
            ],
            [
             0.2,
             "#de77ae"
            ],
            [
             0.3,
             "#f1b6da"
            ],
            [
             0.4,
             "#fde0ef"
            ],
            [
             0.5,
             "#f7f7f7"
            ],
            [
             0.6,
             "#e6f5d0"
            ],
            [
             0.7,
             "#b8e186"
            ],
            [
             0.8,
             "#7fbc41"
            ],
            [
             0.9,
             "#4d9221"
            ],
            [
             1,
             "#276419"
            ]
           ],
           "sequential": [
            [
             0,
             "#0d0887"
            ],
            [
             0.1111111111111111,
             "#46039f"
            ],
            [
             0.2222222222222222,
             "#7201a8"
            ],
            [
             0.3333333333333333,
             "#9c179e"
            ],
            [
             0.4444444444444444,
             "#bd3786"
            ],
            [
             0.5555555555555556,
             "#d8576b"
            ],
            [
             0.6666666666666666,
             "#ed7953"
            ],
            [
             0.7777777777777778,
             "#fb9f3a"
            ],
            [
             0.8888888888888888,
             "#fdca26"
            ],
            [
             1,
             "#f0f921"
            ]
           ],
           "sequentialminus": [
            [
             0,
             "#0d0887"
            ],
            [
             0.1111111111111111,
             "#46039f"
            ],
            [
             0.2222222222222222,
             "#7201a8"
            ],
            [
             0.3333333333333333,
             "#9c179e"
            ],
            [
             0.4444444444444444,
             "#bd3786"
            ],
            [
             0.5555555555555556,
             "#d8576b"
            ],
            [
             0.6666666666666666,
             "#ed7953"
            ],
            [
             0.7777777777777778,
             "#fb9f3a"
            ],
            [
             0.8888888888888888,
             "#fdca26"
            ],
            [
             1,
             "#f0f921"
            ]
           ]
          },
          "colorway": [
           "#636efa",
           "#EF553B",
           "#00cc96",
           "#ab63fa",
           "#FFA15A",
           "#19d3f3",
           "#FF6692",
           "#B6E880",
           "#FF97FF",
           "#FECB52"
          ],
          "font": {
           "color": "#2a3f5f"
          },
          "geo": {
           "bgcolor": "white",
           "lakecolor": "white",
           "landcolor": "#E5ECF6",
           "showlakes": true,
           "showland": true,
           "subunitcolor": "white"
          },
          "hoverlabel": {
           "align": "left"
          },
          "hovermode": "closest",
          "mapbox": {
           "style": "light"
          },
          "paper_bgcolor": "white",
          "plot_bgcolor": "#E5ECF6",
          "polar": {
           "angularaxis": {
            "gridcolor": "white",
            "linecolor": "white",
            "ticks": ""
           },
           "bgcolor": "#E5ECF6",
           "radialaxis": {
            "gridcolor": "white",
            "linecolor": "white",
            "ticks": ""
           }
          },
          "scene": {
           "xaxis": {
            "backgroundcolor": "#E5ECF6",
            "gridcolor": "white",
            "gridwidth": 2,
            "linecolor": "white",
            "showbackground": true,
            "ticks": "",
            "zerolinecolor": "white"
           },
           "yaxis": {
            "backgroundcolor": "#E5ECF6",
            "gridcolor": "white",
            "gridwidth": 2,
            "linecolor": "white",
            "showbackground": true,
            "ticks": "",
            "zerolinecolor": "white"
           },
           "zaxis": {
            "backgroundcolor": "#E5ECF6",
            "gridcolor": "white",
            "gridwidth": 2,
            "linecolor": "white",
            "showbackground": true,
            "ticks": "",
            "zerolinecolor": "white"
           }
          },
          "shapedefaults": {
           "line": {
            "color": "#2a3f5f"
           }
          },
          "ternary": {
           "aaxis": {
            "gridcolor": "white",
            "linecolor": "white",
            "ticks": ""
           },
           "baxis": {
            "gridcolor": "white",
            "linecolor": "white",
            "ticks": ""
           },
           "bgcolor": "#E5ECF6",
           "caxis": {
            "gridcolor": "white",
            "linecolor": "white",
            "ticks": ""
           }
          },
          "title": {
           "x": 0.05
          },
          "xaxis": {
           "automargin": true,
           "gridcolor": "white",
           "linecolor": "white",
           "ticks": "",
           "title": {
            "standoff": 15
           },
           "zerolinecolor": "white",
           "zerolinewidth": 2
          },
          "yaxis": {
           "automargin": true,
           "gridcolor": "white",
           "linecolor": "white",
           "ticks": "",
           "title": {
            "standoff": 15
           },
           "zerolinecolor": "white",
           "zerolinewidth": 2
          }
         }
        },
        "title": {
         "text": "Название",
         "x": 0.5
        }
       }
      },
      "text/html": [
       "<div>                            <div id=\"e2713837-0c4a-427d-81ef-5685b08ff732\" class=\"plotly-graph-div\" style=\"height:525px; width:100%;\"></div>            <script type=\"text/javascript\">                require([\"plotly\"], function(Plotly) {                    window.PLOTLYENV=window.PLOTLYENV || {};                                    if (document.getElementById(\"e2713837-0c4a-427d-81ef-5685b08ff732\")) {                    Plotly.newPlot(                        \"e2713837-0c4a-427d-81ef-5685b08ff732\",                        [{\"name\":\"\\u0413\\u0440\\u0443\\u043f\\u043f\\u0430 A\",\"textinfo\":\"value+percent initial\",\"x\":[2450,1542,1266,1200,278],\"y\":[\"MainScreenAppear\",\"OffersScreenAppear\",\"CartScreenAppear\",\"PaymentScreenSuccessful\",\"Tutorial\"],\"type\":\"funnel\"},{\"name\":\"A1\",\"orientation\":\"h\",\"textinfo\":\"value+percent initial\",\"textposition\":\"inside\",\"x\":[2476,1520,1238,1158,283],\"y\":[\"MainScreenAppear\",\"OffersScreenAppear\",\"CartScreenAppear\",\"PaymentScreenSuccessful\",\"Tutorial\"],\"type\":\"funnel\"}],                        {\"template\":{\"data\":{\"bar\":[{\"error_x\":{\"color\":\"#2a3f5f\"},\"error_y\":{\"color\":\"#2a3f5f\"},\"marker\":{\"line\":{\"color\":\"#E5ECF6\",\"width\":0.5},\"pattern\":{\"fillmode\":\"overlay\",\"size\":10,\"solidity\":0.2}},\"type\":\"bar\"}],\"barpolar\":[{\"marker\":{\"line\":{\"color\":\"#E5ECF6\",\"width\":0.5},\"pattern\":{\"fillmode\":\"overlay\",\"size\":10,\"solidity\":0.2}},\"type\":\"barpolar\"}],\"carpet\":[{\"aaxis\":{\"endlinecolor\":\"#2a3f5f\",\"gridcolor\":\"white\",\"linecolor\":\"white\",\"minorgridcolor\":\"white\",\"startlinecolor\":\"#2a3f5f\"},\"baxis\":{\"endlinecolor\":\"#2a3f5f\",\"gridcolor\":\"white\",\"linecolor\":\"white\",\"minorgridcolor\":\"white\",\"startlinecolor\":\"#2a3f5f\"},\"type\":\"carpet\"}],\"choropleth\":[{\"colorbar\":{\"outlinewidth\":0,\"ticks\":\"\"},\"type\":\"choropleth\"}],\"contour\":[{\"colorbar\":{\"outlinewidth\":0,\"ticks\":\"\"},\"colorscale\":[[0.0,\"#0d0887\"],[0.1111111111111111,\"#46039f\"],[0.2222222222222222,\"#7201a8\"],[0.3333333333333333,\"#9c179e\"],[0.4444444444444444,\"#bd3786\"],[0.5555555555555556,\"#d8576b\"],[0.6666666666666666,\"#ed7953\"],[0.7777777777777778,\"#fb9f3a\"],[0.8888888888888888,\"#fdca26\"],[1.0,\"#f0f921\"]],\"type\":\"contour\"}],\"contourcarpet\":[{\"colorbar\":{\"outlinewidth\":0,\"ticks\":\"\"},\"type\":\"contourcarpet\"}],\"heatmap\":[{\"colorbar\":{\"outlinewidth\":0,\"ticks\":\"\"},\"colorscale\":[[0.0,\"#0d0887\"],[0.1111111111111111,\"#46039f\"],[0.2222222222222222,\"#7201a8\"],[0.3333333333333333,\"#9c179e\"],[0.4444444444444444,\"#bd3786\"],[0.5555555555555556,\"#d8576b\"],[0.6666666666666666,\"#ed7953\"],[0.7777777777777778,\"#fb9f3a\"],[0.8888888888888888,\"#fdca26\"],[1.0,\"#f0f921\"]],\"type\":\"heatmap\"}],\"heatmapgl\":[{\"colorbar\":{\"outlinewidth\":0,\"ticks\":\"\"},\"colorscale\":[[0.0,\"#0d0887\"],[0.1111111111111111,\"#46039f\"],[0.2222222222222222,\"#7201a8\"],[0.3333333333333333,\"#9c179e\"],[0.4444444444444444,\"#bd3786\"],[0.5555555555555556,\"#d8576b\"],[0.6666666666666666,\"#ed7953\"],[0.7777777777777778,\"#fb9f3a\"],[0.8888888888888888,\"#fdca26\"],[1.0,\"#f0f921\"]],\"type\":\"heatmapgl\"}],\"histogram\":[{\"marker\":{\"pattern\":{\"fillmode\":\"overlay\",\"size\":10,\"solidity\":0.2}},\"type\":\"histogram\"}],\"histogram2d\":[{\"colorbar\":{\"outlinewidth\":0,\"ticks\":\"\"},\"colorscale\":[[0.0,\"#0d0887\"],[0.1111111111111111,\"#46039f\"],[0.2222222222222222,\"#7201a8\"],[0.3333333333333333,\"#9c179e\"],[0.4444444444444444,\"#bd3786\"],[0.5555555555555556,\"#d8576b\"],[0.6666666666666666,\"#ed7953\"],[0.7777777777777778,\"#fb9f3a\"],[0.8888888888888888,\"#fdca26\"],[1.0,\"#f0f921\"]],\"type\":\"histogram2d\"}],\"histogram2dcontour\":[{\"colorbar\":{\"outlinewidth\":0,\"ticks\":\"\"},\"colorscale\":[[0.0,\"#0d0887\"],[0.1111111111111111,\"#46039f\"],[0.2222222222222222,\"#7201a8\"],[0.3333333333333333,\"#9c179e\"],[0.4444444444444444,\"#bd3786\"],[0.5555555555555556,\"#d8576b\"],[0.6666666666666666,\"#ed7953\"],[0.7777777777777778,\"#fb9f3a\"],[0.8888888888888888,\"#fdca26\"],[1.0,\"#f0f921\"]],\"type\":\"histogram2dcontour\"}],\"mesh3d\":[{\"colorbar\":{\"outlinewidth\":0,\"ticks\":\"\"},\"type\":\"mesh3d\"}],\"parcoords\":[{\"line\":{\"colorbar\":{\"outlinewidth\":0,\"ticks\":\"\"}},\"type\":\"parcoords\"}],\"pie\":[{\"automargin\":true,\"type\":\"pie\"}],\"scatter\":[{\"marker\":{\"colorbar\":{\"outlinewidth\":0,\"ticks\":\"\"}},\"type\":\"scatter\"}],\"scatter3d\":[{\"line\":{\"colorbar\":{\"outlinewidth\":0,\"ticks\":\"\"}},\"marker\":{\"colorbar\":{\"outlinewidth\":0,\"ticks\":\"\"}},\"type\":\"scatter3d\"}],\"scattercarpet\":[{\"marker\":{\"colorbar\":{\"outlinewidth\":0,\"ticks\":\"\"}},\"type\":\"scattercarpet\"}],\"scattergeo\":[{\"marker\":{\"colorbar\":{\"outlinewidth\":0,\"ticks\":\"\"}},\"type\":\"scattergeo\"}],\"scattergl\":[{\"marker\":{\"colorbar\":{\"outlinewidth\":0,\"ticks\":\"\"}},\"type\":\"scattergl\"}],\"scattermapbox\":[{\"marker\":{\"colorbar\":{\"outlinewidth\":0,\"ticks\":\"\"}},\"type\":\"scattermapbox\"}],\"scatterpolar\":[{\"marker\":{\"colorbar\":{\"outlinewidth\":0,\"ticks\":\"\"}},\"type\":\"scatterpolar\"}],\"scatterpolargl\":[{\"marker\":{\"colorbar\":{\"outlinewidth\":0,\"ticks\":\"\"}},\"type\":\"scatterpolargl\"}],\"scatterternary\":[{\"marker\":{\"colorbar\":{\"outlinewidth\":0,\"ticks\":\"\"}},\"type\":\"scatterternary\"}],\"surface\":[{\"colorbar\":{\"outlinewidth\":0,\"ticks\":\"\"},\"colorscale\":[[0.0,\"#0d0887\"],[0.1111111111111111,\"#46039f\"],[0.2222222222222222,\"#7201a8\"],[0.3333333333333333,\"#9c179e\"],[0.4444444444444444,\"#bd3786\"],[0.5555555555555556,\"#d8576b\"],[0.6666666666666666,\"#ed7953\"],[0.7777777777777778,\"#fb9f3a\"],[0.8888888888888888,\"#fdca26\"],[1.0,\"#f0f921\"]],\"type\":\"surface\"}],\"table\":[{\"cells\":{\"fill\":{\"color\":\"#EBF0F8\"},\"line\":{\"color\":\"white\"}},\"header\":{\"fill\":{\"color\":\"#C8D4E3\"},\"line\":{\"color\":\"white\"}},\"type\":\"table\"}]},\"layout\":{\"annotationdefaults\":{\"arrowcolor\":\"#2a3f5f\",\"arrowhead\":0,\"arrowwidth\":1},\"autotypenumbers\":\"strict\",\"coloraxis\":{\"colorbar\":{\"outlinewidth\":0,\"ticks\":\"\"}},\"colorscale\":{\"diverging\":[[0,\"#8e0152\"],[0.1,\"#c51b7d\"],[0.2,\"#de77ae\"],[0.3,\"#f1b6da\"],[0.4,\"#fde0ef\"],[0.5,\"#f7f7f7\"],[0.6,\"#e6f5d0\"],[0.7,\"#b8e186\"],[0.8,\"#7fbc41\"],[0.9,\"#4d9221\"],[1,\"#276419\"]],\"sequential\":[[0.0,\"#0d0887\"],[0.1111111111111111,\"#46039f\"],[0.2222222222222222,\"#7201a8\"],[0.3333333333333333,\"#9c179e\"],[0.4444444444444444,\"#bd3786\"],[0.5555555555555556,\"#d8576b\"],[0.6666666666666666,\"#ed7953\"],[0.7777777777777778,\"#fb9f3a\"],[0.8888888888888888,\"#fdca26\"],[1.0,\"#f0f921\"]],\"sequentialminus\":[[0.0,\"#0d0887\"],[0.1111111111111111,\"#46039f\"],[0.2222222222222222,\"#7201a8\"],[0.3333333333333333,\"#9c179e\"],[0.4444444444444444,\"#bd3786\"],[0.5555555555555556,\"#d8576b\"],[0.6666666666666666,\"#ed7953\"],[0.7777777777777778,\"#fb9f3a\"],[0.8888888888888888,\"#fdca26\"],[1.0,\"#f0f921\"]]},\"colorway\":[\"#636efa\",\"#EF553B\",\"#00cc96\",\"#ab63fa\",\"#FFA15A\",\"#19d3f3\",\"#FF6692\",\"#B6E880\",\"#FF97FF\",\"#FECB52\"],\"font\":{\"color\":\"#2a3f5f\"},\"geo\":{\"bgcolor\":\"white\",\"lakecolor\":\"white\",\"landcolor\":\"#E5ECF6\",\"showlakes\":true,\"showland\":true,\"subunitcolor\":\"white\"},\"hoverlabel\":{\"align\":\"left\"},\"hovermode\":\"closest\",\"mapbox\":{\"style\":\"light\"},\"paper_bgcolor\":\"white\",\"plot_bgcolor\":\"#E5ECF6\",\"polar\":{\"angularaxis\":{\"gridcolor\":\"white\",\"linecolor\":\"white\",\"ticks\":\"\"},\"bgcolor\":\"#E5ECF6\",\"radialaxis\":{\"gridcolor\":\"white\",\"linecolor\":\"white\",\"ticks\":\"\"}},\"scene\":{\"xaxis\":{\"backgroundcolor\":\"#E5ECF6\",\"gridcolor\":\"white\",\"gridwidth\":2,\"linecolor\":\"white\",\"showbackground\":true,\"ticks\":\"\",\"zerolinecolor\":\"white\"},\"yaxis\":{\"backgroundcolor\":\"#E5ECF6\",\"gridcolor\":\"white\",\"gridwidth\":2,\"linecolor\":\"white\",\"showbackground\":true,\"ticks\":\"\",\"zerolinecolor\":\"white\"},\"zaxis\":{\"backgroundcolor\":\"#E5ECF6\",\"gridcolor\":\"white\",\"gridwidth\":2,\"linecolor\":\"white\",\"showbackground\":true,\"ticks\":\"\",\"zerolinecolor\":\"white\"}},\"shapedefaults\":{\"line\":{\"color\":\"#2a3f5f\"}},\"ternary\":{\"aaxis\":{\"gridcolor\":\"white\",\"linecolor\":\"white\",\"ticks\":\"\"},\"baxis\":{\"gridcolor\":\"white\",\"linecolor\":\"white\",\"ticks\":\"\"},\"bgcolor\":\"#E5ECF6\",\"caxis\":{\"gridcolor\":\"white\",\"linecolor\":\"white\",\"ticks\":\"\"}},\"title\":{\"x\":0.05},\"xaxis\":{\"automargin\":true,\"gridcolor\":\"white\",\"linecolor\":\"white\",\"ticks\":\"\",\"title\":{\"standoff\":15},\"zerolinecolor\":\"white\",\"zerolinewidth\":2},\"yaxis\":{\"automargin\":true,\"gridcolor\":\"white\",\"linecolor\":\"white\",\"ticks\":\"\",\"title\":{\"standoff\":15},\"zerolinecolor\":\"white\",\"zerolinewidth\":2}}},\"title\":{\"text\":\"\\u041d\\u0430\\u0437\\u0432\\u0430\\u043d\\u0438\\u0435\",\"x\":0.5}},                        {\"responsive\": true}                    ).then(function(){\n",
       "                            \n",
       "var gd = document.getElementById('e2713837-0c4a-427d-81ef-5685b08ff732');\n",
       "var x = new MutationObserver(function (mutations, observer) {{\n",
       "        var display = window.getComputedStyle(gd).display;\n",
       "        if (!display || display === 'none') {{\n",
       "            console.log([gd, 'removed!']);\n",
       "            Plotly.purge(gd);\n",
       "            observer.disconnect();\n",
       "        }}\n",
       "}});\n",
       "\n",
       "// Listen for the removal of the full notebook cells\n",
       "var notebookContainer = gd.closest('#notebook-container');\n",
       "if (notebookContainer) {{\n",
       "    x.observe(notebookContainer, {childList: true});\n",
       "}}\n",
       "\n",
       "// Listen for the clearing of the current output cell\n",
       "var outputEl = gd.closest('.output');\n",
       "if (outputEl) {{\n",
       "    x.observe(outputEl, {childList: true});\n",
       "}}\n",
       "\n",
       "                        })                };                });            </script>        </div>"
      ]
     },
     "metadata": {},
     "output_type": "display_data"
    }
   ],
   "source": [
    "# Построим график, иллюстрирующий воронку событий\n",
    "df = data.pivot_table(index='event', columns='group', values='id', aggfunc='nunique').reset_index()\n",
    "df.sort_values('A', ascending=False, inplace=True)    \n",
    "\n",
    "fig = go.Figure()\n",
    "\n",
    "fig.add_trace(go.Funnel(\n",
    "    name = 'Группа A',\n",
    "    y = df['event'],\n",
    "    x = df['A'],\n",
    "    textinfo = \"value+percent initial\"))\n",
    "\n",
    "fig.add_trace(go.Funnel(\n",
    "    name = 'Группа A1',\n",
    "    orientation = \"h\",\n",
    "    y = df['event'],\n",
    "    x = df['A1'],\n",
    "    textposition = \"inside\",\n",
    "    textinfo = \"value+percent initial\"))\n",
    "\n",
    "fig.update_layout(title='Воронка событий для контрольных групп', title_x = 0.5) \n",
    "\n",
    "fig.show()   "
   ]
  },
  {
   "cell_type": "markdown",
   "metadata": {},
   "source": [
    "**Вывод:**\n",
    "- Судя по частоте встречаемости события происходят в следующем порядке: MainScreenAppear, OffersScreenAppear, CartScreenAppear, PaymentScreenSuccessful, а Tutorial не является обязательным событием и не входит в воронку. Стоит заметить, что событие MainScreenAppear хоть и входит в воронку, не все пользователи проходят через него, следовательно пользователь может перейти к следующему дествию без перехода к главному экрану.\n",
    "- Судя по доле пользователей, совершивших каждое событие, больше всего пользователей теряется при переходе ко второму шагу (38%).\n",
    "- Доля пользователей, доходящих от первого события до оплаты: 47,7%."
   ]
  },
  {
   "cell_type": "markdown",
   "metadata": {},
   "source": [
    "## Анализ результатов эксперимента"
   ]
  },
  {
   "cell_type": "markdown",
   "metadata": {},
   "source": [
    "### Стат. анализ результатов АА-теста"
   ]
  },
  {
   "cell_type": "code",
   "execution_count": 31,
   "metadata": {},
   "outputs": [
    {
     "data": {
      "text/plain": [
       "group\n",
       "A     2484\n",
       "A1    2513\n",
       "B     2537\n",
       "Name: id, dtype: int64"
      ]
     },
     "execution_count": 31,
     "metadata": {},
     "output_type": "execute_result"
    }
   ],
   "source": [
    "# Найдем кол-во пользователей в каждой экспериментальной группе\n",
    "data.groupby('group')['id'].nunique()"
   ]
  },
  {
   "cell_type": "code",
   "execution_count": 32,
   "metadata": {},
   "outputs": [
    {
     "data": {
      "text/plain": [
       "0.0"
      ]
     },
     "execution_count": 32,
     "metadata": {},
     "output_type": "execute_result"
    }
   ],
   "source": [
    "# Проверим нет ли пользователей, попавших в обе группы, посчитаем их долю\n",
    "np.intersect1d(data.query('group == \"A\"')['id'].unique(), data.query('group == \"B\"')['id'].unique())\n",
    "sum((data[['id', 'group']].drop_duplicates().groupby('id')['group'].count())>1)/len(data)"
   ]
  },
  {
   "cell_type": "code",
   "execution_count": 33,
   "metadata": {},
   "outputs": [
    {
     "data": {
      "text/plain": [
       "0.0"
      ]
     },
     "execution_count": 33,
     "metadata": {},
     "output_type": "execute_result"
    }
   ],
   "source": [
    "np.intersect1d(data.query('group == \"A\"')['id'].unique(), data.query('group == \"A1\"')['id'].unique())\n",
    "sum((data[['id', 'group']].drop_duplicates().groupby('id')['group'].count())>1)/len(data)"
   ]
  },
  {
   "cell_type": "code",
   "execution_count": 34,
   "metadata": {},
   "outputs": [
    {
     "data": {
      "text/plain": [
       "0.0"
      ]
     },
     "execution_count": 34,
     "metadata": {},
     "output_type": "execute_result"
    }
   ],
   "source": [
    "np.intersect1d(data.query('group == \"A1\"')['id'].unique(), data.query('group == \"B\"')['id'].unique())\n",
    "sum((data[['id', 'group']].drop_duplicates().groupby('id')['group'].count())>1)/len(data)"
   ]
  },
  {
   "cell_type": "code",
   "execution_count": 35,
   "metadata": {},
   "outputs": [
    {
     "data": {
      "text/html": [
       "<div>\n",
       "<style scoped>\n",
       "    .dataframe tbody tr th:only-of-type {\n",
       "        vertical-align: middle;\n",
       "    }\n",
       "\n",
       "    .dataframe tbody tr th {\n",
       "        vertical-align: top;\n",
       "    }\n",
       "\n",
       "    .dataframe thead th {\n",
       "        text-align: right;\n",
       "    }\n",
       "</style>\n",
       "<table border=\"1\" class=\"dataframe\">\n",
       "  <thead>\n",
       "    <tr style=\"text-align: right;\">\n",
       "      <th>group</th>\n",
       "      <th>A</th>\n",
       "      <th>A1</th>\n",
       "      <th>B</th>\n",
       "    </tr>\n",
       "    <tr>\n",
       "      <th>event</th>\n",
       "      <th></th>\n",
       "      <th></th>\n",
       "      <th></th>\n",
       "    </tr>\n",
       "  </thead>\n",
       "  <tbody>\n",
       "    <tr>\n",
       "      <th>MainScreenAppear</th>\n",
       "      <td>2450</td>\n",
       "      <td>2476</td>\n",
       "      <td>2493</td>\n",
       "    </tr>\n",
       "    <tr>\n",
       "      <th>OffersScreenAppear</th>\n",
       "      <td>1542</td>\n",
       "      <td>1520</td>\n",
       "      <td>1531</td>\n",
       "    </tr>\n",
       "    <tr>\n",
       "      <th>CartScreenAppear</th>\n",
       "      <td>1266</td>\n",
       "      <td>1238</td>\n",
       "      <td>1230</td>\n",
       "    </tr>\n",
       "    <tr>\n",
       "      <th>PaymentScreenSuccessful</th>\n",
       "      <td>1200</td>\n",
       "      <td>1158</td>\n",
       "      <td>1181</td>\n",
       "    </tr>\n",
       "  </tbody>\n",
       "</table>\n",
       "</div>"
      ],
      "text/plain": [
       "group                       A    A1     B\n",
       "event                                    \n",
       "MainScreenAppear         2450  2476  2493\n",
       "OffersScreenAppear       1542  1520  1531\n",
       "CartScreenAppear         1266  1238  1230\n",
       "PaymentScreenSuccessful  1200  1158  1181"
      ]
     },
     "execution_count": 35,
     "metadata": {},
     "output_type": "execute_result"
    }
   ],
   "source": [
    "# Для удобства создадим сводную таблицу с кол-вом пользователей каждой группы, совершивших действия\n",
    "test = data.query('event != \"Tutorial\"').pivot_table(index='event', columns='group', values='id', aggfunc='nunique').sort_values(by='A', ascending=False)\n",
    "test "
   ]
  },
  {
   "cell_type": "code",
   "execution_count": 36,
   "metadata": {},
   "outputs": [],
   "source": [
    "# Необходимо проверить есть ли стат. значимая разница между контрольными выборками, для этого более всего подойдет z-test. Оборнем все рассчеты в функцию.\n",
    "def check_hypothesis(successes1, successes2, trials1, trials2):\n",
    "    p1 = successes1/trials1\n",
    "\n",
    "    p2 = successes2/trials2\n",
    "\n",
    "    p_combined = (successes1 + successes2) / (trials1 + trials2)\n",
    "\n",
    "    difference = p1 - p2\n",
    "    \n",
    "    z_value = difference / math.sqrt(p_combined * (1 - p_combined) * (1/trials1 + 1/trials2))\n",
    "\n",
    "    distr = stats.norm(0, 1) \n",
    "    \n",
    "    \n",
    "    p_value = (1 - distr.cdf(abs(z_value))) * 2\n",
    "\n",
    "    print('p-значение: ', p_value)\n",
    "\n",
    "    if (p_value < alpha):\n",
    "        print(\"Отвергаем нулевую гипотезу\")\n",
    "    else:\n",
    "        print(\"Не получилось отвергнуть нулевую гипотезу\")  "
   ]
  },
  {
   "cell_type": "code",
   "execution_count": 37,
   "metadata": {},
   "outputs": [],
   "source": [
    "# Нулевая гипотеза: стат. значимой разницы между контрольными выборками нет\n",
    "# Альтернативная гипотеза: контрольные выборки имеют стат. значимую разницу\n",
    "\n",
    "# Укажем пороговое значение в 5%\n",
    "alpha = 0.05"
   ]
  },
  {
   "cell_type": "code",
   "execution_count": 38,
   "metadata": {},
   "outputs": [
    {
     "name": "stdout",
     "output_type": "stream",
     "text": [
      "p-значение:  0.7570597232046099\n",
      "Не получилось отвергнуть нулевую гипотезу\n",
      "p-значение:  0.2480954578522181\n",
      "Не получилось отвергнуть нулевую гипотезу\n",
      "p-значение:  0.22883372237997213\n",
      "Не получилось отвергнуть нулевую гипотезу\n",
      "p-значение:  0.11456679313141849\n",
      "Не получилось отвергнуть нулевую гипотезу\n"
     ]
    }
   ],
   "source": [
    "# Положим в переменные общее кол-во пользователей в контрольными выборках\n",
    "users = data.groupby('group')['id'].nunique()\n",
    "user_a = users[0]\n",
    "user_a1 = users[1]\n",
    "user_b = users[2]\n",
    "\n",
    "# Применим функцию для рассчета z-оценки и p-значения для каждого шага воронки\n",
    "for event in test.index:\n",
    "    check_hypothesis(test.loc[event, 'A'], \n",
    "                     test.loc[event, 'A1'],\n",
    "                     user_a,\n",
    "                     user_a1)"
   ]
  },
  {
   "cell_type": "code",
   "execution_count": 41,
   "metadata": {},
   "outputs": [
    {
     "data": {
      "text/plain": [
       "group\n",
       "A     2484\n",
       "A1    2513\n",
       "B     2537\n",
       "Name: id, dtype: int64"
      ]
     },
     "execution_count": 41,
     "metadata": {},
     "output_type": "execute_result"
    }
   ],
   "source": [
    "users"
   ]
  },
  {
   "cell_type": "markdown",
   "metadata": {},
   "source": [
    "**Вывод:**\n",
    "- Исходя из результатов z-тестов, мы не можем отвергнуть нулевую гипотезу. То есть, мы не можем говорить о том, что группы А и А1 имеют между собой статистически значимое различие на каждом этапе воронки.\n",
    "- Таким образом, можно сделать вывод, что разбиение на группы работает корректно, так как при граммотном проведении аа-теста показатели между группами отличаться не должны."
   ]
  },
  {
   "cell_type": "markdown",
   "metadata": {},
   "source": [
    "### Стат. анализ результатов АБ-теста"
   ]
  },
  {
   "cell_type": "code",
   "execution_count": 523,
   "metadata": {},
   "outputs": [],
   "source": [
    "# Нулевая гипотеза: стат. значимой разницы между контрольными выборками нет\n",
    "# Альтернативная гипотеза: контрольные выборки имеют стат. значимую разницу"
   ]
  },
  {
   "cell_type": "code",
   "execution_count": 524,
   "metadata": {},
   "outputs": [
    {
     "name": "stdout",
     "output_type": "stream",
     "text": [
      "p-значение:  0.2949721933554552\n",
      "Не получилось отвергнуть нулевую гипотезу\n",
      "p-значение:  0.20836205402738917\n",
      "Не получилось отвергнуть нулевую гипотезу\n",
      "p-значение:  0.07842923237520116\n",
      "Не получилось отвергнуть нулевую гипотезу\n",
      "p-значение:  0.2122553275697796\n",
      "Не получилось отвергнуть нулевую гипотезу\n"
     ]
    }
   ],
   "source": [
    "# С помощью функции сравним выборку А с выборкой Б\n",
    "for event in test.index:\n",
    "    check_hypothesis(test.loc[event, 'A'], \n",
    "                     test.loc[event, 'B'],\n",
    "                     user_a,\n",
    "                     user_b)"
   ]
  },
  {
   "cell_type": "code",
   "execution_count": 525,
   "metadata": {},
   "outputs": [
    {
     "name": "stdout",
     "output_type": "stream",
     "text": [
      "p-значение:  0.4587053616621515\n",
      "Не получилось отвергнуть нулевую гипотезу\n",
      "p-значение:  0.9197817830592261\n",
      "Не получилось отвергнуть нулевую гипотезу\n",
      "p-значение:  0.5786197879539783\n",
      "Не получилось отвергнуть нулевую гипотезу\n",
      "p-значение:  0.7373415053803964\n",
      "Не получилось отвергнуть нулевую гипотезу\n"
     ]
    }
   ],
   "source": [
    "# С помощью функции сравним выборку А1 с выборкой Б\n",
    "for event in test.index:\n",
    "    check_hypothesis(test.loc[event, 'A1'], \n",
    "                     test.loc[event, 'B'],\n",
    "                     user_a1,\n",
    "                     user_b)"
   ]
  },
  {
   "cell_type": "code",
   "execution_count": 526,
   "metadata": {},
   "outputs": [
    {
     "data": {
      "text/html": [
       "<div>\n",
       "<style scoped>\n",
       "    .dataframe tbody tr th:only-of-type {\n",
       "        vertical-align: middle;\n",
       "    }\n",
       "\n",
       "    .dataframe tbody tr th {\n",
       "        vertical-align: top;\n",
       "    }\n",
       "\n",
       "    .dataframe thead th {\n",
       "        text-align: right;\n",
       "    }\n",
       "</style>\n",
       "<table border=\"1\" class=\"dataframe\">\n",
       "  <thead>\n",
       "    <tr style=\"text-align: right;\">\n",
       "      <th>group</th>\n",
       "      <th>A</th>\n",
       "      <th>A1</th>\n",
       "      <th>B</th>\n",
       "      <th>A+A1</th>\n",
       "    </tr>\n",
       "    <tr>\n",
       "      <th>event</th>\n",
       "      <th></th>\n",
       "      <th></th>\n",
       "      <th></th>\n",
       "      <th></th>\n",
       "    </tr>\n",
       "  </thead>\n",
       "  <tbody>\n",
       "    <tr>\n",
       "      <th>MainScreenAppear</th>\n",
       "      <td>2450</td>\n",
       "      <td>2476</td>\n",
       "      <td>2493</td>\n",
       "      <td>4926</td>\n",
       "    </tr>\n",
       "    <tr>\n",
       "      <th>OffersScreenAppear</th>\n",
       "      <td>1542</td>\n",
       "      <td>1520</td>\n",
       "      <td>1531</td>\n",
       "      <td>3062</td>\n",
       "    </tr>\n",
       "    <tr>\n",
       "      <th>CartScreenAppear</th>\n",
       "      <td>1266</td>\n",
       "      <td>1238</td>\n",
       "      <td>1230</td>\n",
       "      <td>2504</td>\n",
       "    </tr>\n",
       "    <tr>\n",
       "      <th>PaymentScreenSuccessful</th>\n",
       "      <td>1200</td>\n",
       "      <td>1158</td>\n",
       "      <td>1181</td>\n",
       "      <td>2358</td>\n",
       "    </tr>\n",
       "  </tbody>\n",
       "</table>\n",
       "</div>"
      ],
      "text/plain": [
       "group                       A    A1     B  A+A1\n",
       "event                                          \n",
       "MainScreenAppear         2450  2476  2493  4926\n",
       "OffersScreenAppear       1542  1520  1531  3062\n",
       "CartScreenAppear         1266  1238  1230  2504\n",
       "PaymentScreenSuccessful  1200  1158  1181  2358"
      ]
     },
     "execution_count": 526,
     "metadata": {},
     "output_type": "execute_result"
    }
   ],
   "source": [
    "# Чтобы далее сравнить объединенные выборки просуммируем кол-во пользователей из контрольных групп\n",
    "test['A+A1'] = test['A']+test['A1']\n",
    "test"
   ]
  },
  {
   "cell_type": "code",
   "execution_count": 527,
   "metadata": {},
   "outputs": [
    {
     "name": "stdout",
     "output_type": "stream",
     "text": [
      "p-значение:  0.29424526837179577\n",
      "Не получилось отвергнуть нулевую гипотезу\n",
      "p-значение:  0.43425549655188256\n",
      "Не получилось отвергнуть нулевую гипотезу\n",
      "p-значение:  0.18175875284404386\n",
      "Не получилось отвергнуть нулевую гипотезу\n",
      "p-значение:  0.6004294282308704\n",
      "Не получилось отвергнуть нулевую гипотезу\n"
     ]
    }
   ],
   "source": [
    "# С помощью функции сравним объединенные контрольные группы с выборкой Б\n",
    "for event in test.index:\n",
    "    check_hypothesis(test.loc[event, 'A+A1'], \n",
    "                     test.loc[event, 'B'],\n",
    "                     (user_a+user_a1),\n",
    "                     user_b)"
   ]
  },
  {
   "cell_type": "markdown",
   "metadata": {},
   "source": [
    "**Вывод:**\n",
    "- Мы не можем отвергнуть нулевую гипотезу при статистической проверке групп А и Б на всех шагах воронки, то есть мы не можем говорить о том, что между двумя группами есть статистически значимое различие\n",
    "- Мы не можем отвергнуть нулевую гипотезу при статистической проверке групп А1 и Б на всех шагах воронки, то есть мы не можем говорить о том, что между двумя группами есть статистически значимое различие\n",
    "- Мы не можем отвергнуть нулевую гипотезу при статистической проверке объединенных контрольных групп (А и А1) и группы Б на всех шагах воронки, то есть мы не можем говорить о том, что между двумя группами есть статистически значимое различие"
   ]
  },
  {
   "cell_type": "markdown",
   "metadata": {},
   "source": [
    "### Перепроверка с другим значением alpha"
   ]
  },
  {
   "cell_type": "code",
   "execution_count": 533,
   "metadata": {},
   "outputs": [],
   "source": [
    "# Так как нами было проверено 12 гипотез, вероятность получить ложный результат существенно возросла.\n",
    "# Перепроверим результаты с другим значением alpha, равным 0.5/12 по методу Бонферрони\n",
    "\n",
    "alpha = 0.5/12"
   ]
  },
  {
   "cell_type": "code",
   "execution_count": 534,
   "metadata": {},
   "outputs": [
    {
     "name": "stdout",
     "output_type": "stream",
     "text": [
      "p-значение:  0.7570597232046099\n",
      "Не получилось отвергнуть нулевую гипотезу\n",
      "p-значение:  0.2480954578522181\n",
      "Не получилось отвергнуть нулевую гипотезу\n",
      "p-значение:  0.22883372237997213\n",
      "Не получилось отвергнуть нулевую гипотезу\n",
      "p-значение:  0.11456679313141849\n",
      "Не получилось отвергнуть нулевую гипотезу\n"
     ]
    }
   ],
   "source": [
    "# Применим функцию для рассчета z-оценки и p-значения для каждого шага воронки среди групп А и А1\n",
    "for event in test.index:\n",
    "    check_hypothesis(test.loc[event, 'A'], \n",
    "                     test.loc[event, 'A1'],\n",
    "                     user_a,\n",
    "                     user_a1)"
   ]
  },
  {
   "cell_type": "code",
   "execution_count": 535,
   "metadata": {},
   "outputs": [
    {
     "name": "stdout",
     "output_type": "stream",
     "text": [
      "p-значение:  0.2949721933554552\n",
      "Не получилось отвергнуть нулевую гипотезу\n",
      "p-значение:  0.20836205402738917\n",
      "Не получилось отвергнуть нулевую гипотезу\n",
      "p-значение:  0.07842923237520116\n",
      "Не получилось отвергнуть нулевую гипотезу\n",
      "p-значение:  0.2122553275697796\n",
      "Не получилось отвергнуть нулевую гипотезу\n"
     ]
    }
   ],
   "source": [
    "# С помощью функции сравним выборку А с выборкой Б\n",
    "for event in test.index:\n",
    "    check_hypothesis(test.loc[event, 'A'], \n",
    "                     test.loc[event, 'B'],\n",
    "                     user_a,\n",
    "                     user_b)"
   ]
  },
  {
   "cell_type": "code",
   "execution_count": 536,
   "metadata": {},
   "outputs": [
    {
     "name": "stdout",
     "output_type": "stream",
     "text": [
      "p-значение:  0.4587053616621515\n",
      "Не получилось отвергнуть нулевую гипотезу\n",
      "p-значение:  0.9197817830592261\n",
      "Не получилось отвергнуть нулевую гипотезу\n",
      "p-значение:  0.5786197879539783\n",
      "Не получилось отвергнуть нулевую гипотезу\n",
      "p-значение:  0.7373415053803964\n",
      "Не получилось отвергнуть нулевую гипотезу\n"
     ]
    }
   ],
   "source": [
    "# С помощью функции сравним выборку А1 с выборкой Б\n",
    "for event in test.index:\n",
    "    check_hypothesis(test.loc[event, 'A1'], \n",
    "                     test.loc[event, 'B'],\n",
    "                     user_a1,\n",
    "                     user_b)"
   ]
  },
  {
   "cell_type": "code",
   "execution_count": 537,
   "metadata": {},
   "outputs": [
    {
     "name": "stdout",
     "output_type": "stream",
     "text": [
      "p-значение:  0.29424526837179577\n",
      "Не получилось отвергнуть нулевую гипотезу\n",
      "p-значение:  0.43425549655188256\n",
      "Не получилось отвергнуть нулевую гипотезу\n",
      "p-значение:  0.18175875284404386\n",
      "Не получилось отвергнуть нулевую гипотезу\n",
      "p-значение:  0.6004294282308704\n",
      "Не получилось отвергнуть нулевую гипотезу\n"
     ]
    }
   ],
   "source": [
    "# С помощью функции сравним объединенные контрольные группы с выборкой Б\n",
    "for event in test.index:\n",
    "    check_hypothesis(test.loc[event, 'A+A1'], \n",
    "                     test.loc[event, 'B'],\n",
    "                     (user_a+user_a1),\n",
    "                     user_b)"
   ]
  },
  {
   "cell_type": "markdown",
   "metadata": {},
   "source": [
    "**Вывод:**\n",
    "\n",
    "Как видно, результаты новой проверки не отличаются от предыдущей. Следовательно мы не можем утверждать, что показатели разных групп как либо различаются на каждом шаге."
   ]
  },
  {
   "cell_type": "markdown",
   "metadata": {},
   "source": [
    "## Общий вывод"
   ]
  },
  {
   "cell_type": "markdown",
   "metadata": {},
   "source": [
    "Таким образом, исследование было выполнено в 5 этапов:\n",
    "1. Обзор данных. На этом этапе был распакован датасет, изучен на предмет пропусков и аномалий.\n",
    "2. Предобработка данных. На этом этапе данные были отчищены от дубликатов, названия и некоторые значения строк изменены на удобные. Изменен тип данных в колонке datetime на необходимый.\n",
    "3. Анализ данных. На этом этапе были изучены основные данные в датасете: кол-во уникальных пользователей, кол-во событий в логе, изучаемый период и др. \n",
    "4. Анализ воронки событий. На данном этапе были изучены события в логе, частота их встречаемости, порядок, доля и другие показатели. \n",
    "5. Анализ результатов эксперимента. На данном этапе был проведен стат. анализ результатов АА-теста и АБ-теста, также была произведена перепроверка.\n",
    "\n",
    "**Анализ воронки событий: выводы**\n",
    "- Судя по частоте встречаемости события происходят в следующем порядке: MainScreenAppear, OffersScreenAppear, CartScreenAppear, PaymentScreenSuccessful, а Tutorial не является обязательным событием и не входит в воронку.\n",
    "- Судя по доле пользователей, совершивших каждое событие, больше всего пользователей теряется при переходе ко второму шагу (38%).\n",
    "- Доля пользователей, доходящих от первого события до оплаты: 47,7%\n",
    "\n",
    "**Анализ результатов эксперимента: выводы**\n",
    "- Разбиение на группы А и А1 работает корректно. Показатели групп не имеют между собой статистически значимых различий на каждом шаге воронки.\n",
    "- Судя по стат. тесту и его перепроверке мы не можем утверждать, что показатели групп А и Б, групп А1 и Б и объединенной контрольной группы и группы Б статистически значимо различаются на каком-либо из шагом. Это может говорить только о том, что **А/Б тест не показал каких-либо положительных или отрицательных результатов**."
   ]
  }
 ],
 "metadata": {
  "ExecuteTimeLog": [
   {
    "duration": 73,
    "start_time": "2022-08-01T20:32:43.516Z"
   },
   {
    "duration": 1436,
    "start_time": "2022-08-01T20:33:05.776Z"
   },
   {
    "duration": 1272,
    "start_time": "2022-08-01T20:33:07.214Z"
   },
   {
    "duration": 25,
    "start_time": "2022-08-01T20:34:51.360Z"
   },
   {
    "duration": 385,
    "start_time": "2022-08-01T20:35:08.562Z"
   },
   {
    "duration": 292,
    "start_time": "2022-08-01T20:35:26.232Z"
   },
   {
    "duration": 9,
    "start_time": "2022-08-01T20:38:07.543Z"
   },
   {
    "duration": 199,
    "start_time": "2022-08-01T20:38:18.352Z"
   },
   {
    "duration": 23,
    "start_time": "2022-08-01T20:39:04.227Z"
   },
   {
    "duration": 64,
    "start_time": "2022-08-01T20:39:21.066Z"
   },
   {
    "duration": 11,
    "start_time": "2022-08-01T20:39:31.120Z"
   },
   {
    "duration": 179,
    "start_time": "2022-08-01T20:39:48.473Z"
   },
   {
    "duration": 93,
    "start_time": "2022-08-01T20:40:37.836Z"
   },
   {
    "duration": 19,
    "start_time": "2022-08-01T20:42:54.788Z"
   },
   {
    "duration": 9,
    "start_time": "2022-08-01T20:43:19.717Z"
   },
   {
    "duration": 52,
    "start_time": "2022-08-02T11:22:42.761Z"
   },
   {
    "duration": 1470,
    "start_time": "2022-08-02T11:22:45.740Z"
   },
   {
    "duration": 589,
    "start_time": "2022-08-02T11:22:47.212Z"
   },
   {
    "duration": 23,
    "start_time": "2022-08-02T11:22:47.803Z"
   },
   {
    "duration": 60,
    "start_time": "2022-08-02T11:22:47.828Z"
   },
   {
    "duration": 20,
    "start_time": "2022-08-02T11:22:47.899Z"
   },
   {
    "duration": 5,
    "start_time": "2022-08-02T11:22:51.953Z"
   },
   {
    "duration": 4,
    "start_time": "2022-08-02T11:47:15.972Z"
   },
   {
    "duration": 11,
    "start_time": "2022-08-02T11:47:19.674Z"
   },
   {
    "duration": 1058,
    "start_time": "2022-08-02T12:03:42.118Z"
   },
   {
    "duration": 5,
    "start_time": "2022-08-02T12:03:50.583Z"
   },
   {
    "duration": 237,
    "start_time": "2022-08-02T12:03:50.590Z"
   },
   {
    "duration": 20,
    "start_time": "2022-08-02T12:03:50.829Z"
   },
   {
    "duration": 81,
    "start_time": "2022-08-02T12:03:50.850Z"
   },
   {
    "duration": 11,
    "start_time": "2022-08-02T12:03:52.919Z"
   },
   {
    "duration": 14,
    "start_time": "2022-08-02T12:04:00.022Z"
   },
   {
    "duration": 23,
    "start_time": "2022-08-02T12:04:03.161Z"
   },
   {
    "duration": 1259,
    "start_time": "2022-08-02T12:08:01.618Z"
   },
   {
    "duration": 3,
    "start_time": "2022-08-02T12:08:08.522Z"
   },
   {
    "duration": 14,
    "start_time": "2022-08-02T12:08:09.020Z"
   },
   {
    "duration": 11,
    "start_time": "2022-08-02T12:13:01.777Z"
   },
   {
    "duration": 19,
    "start_time": "2022-08-02T12:13:06.246Z"
   },
   {
    "duration": 394,
    "start_time": "2022-08-02T12:13:35.323Z"
   },
   {
    "duration": 27,
    "start_time": "2022-08-02T12:13:35.770Z"
   },
   {
    "duration": 269,
    "start_time": "2022-08-02T12:13:51.711Z"
   },
   {
    "duration": 3,
    "start_time": "2022-08-02T12:13:55.916Z"
   },
   {
    "duration": 181,
    "start_time": "2022-08-02T12:13:55.921Z"
   },
   {
    "duration": 18,
    "start_time": "2022-08-02T12:13:56.104Z"
   },
   {
    "duration": 79,
    "start_time": "2022-08-02T12:13:56.123Z"
   },
   {
    "duration": 32,
    "start_time": "2022-08-02T12:13:56.204Z"
   },
   {
    "duration": 11,
    "start_time": "2022-08-02T12:13:56.239Z"
   },
   {
    "duration": 7,
    "start_time": "2022-08-02T12:13:56.252Z"
   },
   {
    "duration": 19,
    "start_time": "2022-08-02T12:13:58.215Z"
   },
   {
    "duration": 22,
    "start_time": "2022-08-02T12:15:12.941Z"
   },
   {
    "duration": 86,
    "start_time": "2022-08-02T12:15:46.515Z"
   },
   {
    "duration": 73,
    "start_time": "2022-08-02T12:16:06.120Z"
   },
   {
    "duration": 12,
    "start_time": "2022-08-02T12:16:37.548Z"
   },
   {
    "duration": 1256,
    "start_time": "2022-08-03T11:11:30.926Z"
   },
   {
    "duration": 520,
    "start_time": "2022-08-03T11:11:32.184Z"
   },
   {
    "duration": 25,
    "start_time": "2022-08-03T11:11:32.706Z"
   },
   {
    "duration": 84,
    "start_time": "2022-08-03T11:11:32.733Z"
   },
   {
    "duration": 24,
    "start_time": "2022-08-03T11:11:32.820Z"
   },
   {
    "duration": 11,
    "start_time": "2022-08-03T11:11:32.845Z"
   },
   {
    "duration": 3,
    "start_time": "2022-08-03T11:11:32.858Z"
   },
   {
    "duration": 6,
    "start_time": "2022-08-03T11:11:32.862Z"
   },
   {
    "duration": 13,
    "start_time": "2022-08-03T11:11:32.870Z"
   },
   {
    "duration": 36,
    "start_time": "2022-08-03T11:15:19.326Z"
   },
   {
    "duration": 24,
    "start_time": "2022-08-03T11:15:42.863Z"
   },
   {
    "duration": 11,
    "start_time": "2022-08-03T11:28:40.762Z"
   },
   {
    "duration": 115,
    "start_time": "2022-08-03T11:28:51.442Z"
   },
   {
    "duration": 18,
    "start_time": "2022-08-03T11:29:02.079Z"
   },
   {
    "duration": 18,
    "start_time": "2022-08-03T11:29:06.515Z"
   },
   {
    "duration": 22,
    "start_time": "2022-08-03T11:29:18.020Z"
   },
   {
    "duration": 18,
    "start_time": "2022-08-03T11:29:43.769Z"
   },
   {
    "duration": 28,
    "start_time": "2022-08-03T11:30:46.485Z"
   },
   {
    "duration": 7,
    "start_time": "2022-08-03T11:30:59.316Z"
   },
   {
    "duration": 18,
    "start_time": "2022-08-03T11:32:58.566Z"
   },
   {
    "duration": 17,
    "start_time": "2022-08-03T11:33:06.102Z"
   },
   {
    "duration": 18,
    "start_time": "2022-08-03T11:33:31.088Z"
   },
   {
    "duration": 23,
    "start_time": "2022-08-03T11:33:42.852Z"
   },
   {
    "duration": 14,
    "start_time": "2022-08-03T11:35:07.609Z"
   },
   {
    "duration": 8,
    "start_time": "2022-08-03T11:35:56.123Z"
   },
   {
    "duration": 3,
    "start_time": "2022-08-03T11:36:00.015Z"
   },
   {
    "duration": 152,
    "start_time": "2022-08-03T11:36:00.020Z"
   },
   {
    "duration": 17,
    "start_time": "2022-08-03T11:36:00.174Z"
   },
   {
    "duration": 57,
    "start_time": "2022-08-03T11:36:00.193Z"
   },
   {
    "duration": 20,
    "start_time": "2022-08-03T11:36:00.252Z"
   },
   {
    "duration": 10,
    "start_time": "2022-08-03T11:36:00.273Z"
   },
   {
    "duration": 5,
    "start_time": "2022-08-03T11:36:00.284Z"
   },
   {
    "duration": 50,
    "start_time": "2022-08-03T11:36:00.290Z"
   },
   {
    "duration": 6,
    "start_time": "2022-08-03T11:36:00.342Z"
   },
   {
    "duration": 91,
    "start_time": "2022-08-03T11:36:00.349Z"
   },
   {
    "duration": 23,
    "start_time": "2022-08-03T11:36:00.442Z"
   },
   {
    "duration": 47,
    "start_time": "2022-08-03T11:36:00.467Z"
   },
   {
    "duration": 15,
    "start_time": "2022-08-03T11:36:00.516Z"
   },
   {
    "duration": 37,
    "start_time": "2022-08-03T11:36:00.533Z"
   },
   {
    "duration": 9,
    "start_time": "2022-08-03T11:36:02.523Z"
   },
   {
    "duration": 7,
    "start_time": "2022-08-03T11:36:11.882Z"
   },
   {
    "duration": 4,
    "start_time": "2022-08-03T11:36:20.780Z"
   },
   {
    "duration": 5,
    "start_time": "2022-08-03T11:36:35.324Z"
   },
   {
    "duration": 1360,
    "start_time": "2022-08-04T14:12:07.732Z"
   },
   {
    "duration": 600,
    "start_time": "2022-08-04T14:12:09.094Z"
   },
   {
    "duration": 32,
    "start_time": "2022-08-04T14:12:09.695Z"
   },
   {
    "duration": 65,
    "start_time": "2022-08-04T14:12:09.729Z"
   },
   {
    "duration": 30,
    "start_time": "2022-08-04T14:12:09.797Z"
   },
   {
    "duration": 10,
    "start_time": "2022-08-04T14:12:09.829Z"
   },
   {
    "duration": 3,
    "start_time": "2022-08-04T14:12:09.840Z"
   },
   {
    "duration": 68,
    "start_time": "2022-08-04T14:12:09.844Z"
   },
   {
    "duration": 10,
    "start_time": "2022-08-04T14:12:09.913Z"
   },
   {
    "duration": 114,
    "start_time": "2022-08-04T14:12:09.926Z"
   },
   {
    "duration": 30,
    "start_time": "2022-08-04T14:12:10.042Z"
   },
   {
    "duration": 51,
    "start_time": "2022-08-04T14:12:10.074Z"
   },
   {
    "duration": 8,
    "start_time": "2022-08-04T14:12:10.126Z"
   },
   {
    "duration": 19,
    "start_time": "2022-08-04T14:12:10.135Z"
   },
   {
    "duration": 6,
    "start_time": "2022-08-04T14:12:10.156Z"
   },
   {
    "duration": 4,
    "start_time": "2022-08-04T14:12:12.769Z"
   },
   {
    "duration": 3,
    "start_time": "2022-08-04T14:19:05.714Z"
   },
   {
    "duration": 164,
    "start_time": "2022-08-04T14:19:05.720Z"
   },
   {
    "duration": 27,
    "start_time": "2022-08-04T14:19:05.885Z"
   },
   {
    "duration": 61,
    "start_time": "2022-08-04T14:19:05.914Z"
   },
   {
    "duration": 39,
    "start_time": "2022-08-04T14:19:05.979Z"
   },
   {
    "duration": 11,
    "start_time": "2022-08-04T14:19:06.020Z"
   },
   {
    "duration": 3,
    "start_time": "2022-08-04T14:19:06.033Z"
   },
   {
    "duration": 46,
    "start_time": "2022-08-04T14:19:06.037Z"
   },
   {
    "duration": 23,
    "start_time": "2022-08-04T14:19:06.085Z"
   },
   {
    "duration": 95,
    "start_time": "2022-08-04T14:19:06.111Z"
   },
   {
    "duration": 28,
    "start_time": "2022-08-04T14:19:06.214Z"
   },
   {
    "duration": 30,
    "start_time": "2022-08-04T14:19:06.245Z"
   },
   {
    "duration": 31,
    "start_time": "2022-08-04T14:19:06.277Z"
   },
   {
    "duration": 18,
    "start_time": "2022-08-04T14:19:06.312Z"
   },
   {
    "duration": 5,
    "start_time": "2022-08-04T14:19:06.331Z"
   },
   {
    "duration": 5,
    "start_time": "2022-08-04T14:19:08.114Z"
   },
   {
    "duration": 348,
    "start_time": "2022-08-04T14:20:54.424Z"
   },
   {
    "duration": 1266,
    "start_time": "2022-08-04T14:27:13.756Z"
   },
   {
    "duration": 589,
    "start_time": "2022-08-04T14:27:15.024Z"
   },
   {
    "duration": 23,
    "start_time": "2022-08-04T14:27:15.614Z"
   },
   {
    "duration": 75,
    "start_time": "2022-08-04T14:27:15.639Z"
   },
   {
    "duration": 22,
    "start_time": "2022-08-04T14:27:15.717Z"
   },
   {
    "duration": 11,
    "start_time": "2022-08-04T14:27:15.740Z"
   },
   {
    "duration": 5,
    "start_time": "2022-08-04T14:27:15.753Z"
   },
   {
    "duration": 64,
    "start_time": "2022-08-04T14:27:15.760Z"
   },
   {
    "duration": 7,
    "start_time": "2022-08-04T14:27:15.825Z"
   },
   {
    "duration": 102,
    "start_time": "2022-08-04T14:27:15.834Z"
   },
   {
    "duration": 30,
    "start_time": "2022-08-04T14:27:15.938Z"
   },
   {
    "duration": 49,
    "start_time": "2022-08-04T14:27:15.970Z"
   },
   {
    "duration": 7,
    "start_time": "2022-08-04T14:27:16.020Z"
   },
   {
    "duration": 17,
    "start_time": "2022-08-04T14:27:16.030Z"
   },
   {
    "duration": 4,
    "start_time": "2022-08-04T14:27:16.049Z"
   },
   {
    "duration": 5,
    "start_time": "2022-08-04T14:27:16.055Z"
   },
   {
    "duration": 1251,
    "start_time": "2022-08-13T08:52:25.201Z"
   },
   {
    "duration": 506,
    "start_time": "2022-08-13T08:52:26.454Z"
   },
   {
    "duration": 19,
    "start_time": "2022-08-13T08:52:26.962Z"
   },
   {
    "duration": 55,
    "start_time": "2022-08-13T08:52:26.983Z"
   },
   {
    "duration": 21,
    "start_time": "2022-08-13T08:52:27.040Z"
   },
   {
    "duration": 12,
    "start_time": "2022-08-13T08:52:27.063Z"
   },
   {
    "duration": 3,
    "start_time": "2022-08-13T08:52:27.077Z"
   },
   {
    "duration": 57,
    "start_time": "2022-08-13T08:52:27.081Z"
   },
   {
    "duration": 6,
    "start_time": "2022-08-13T08:52:27.140Z"
   },
   {
    "duration": 94,
    "start_time": "2022-08-13T08:52:27.149Z"
   },
   {
    "duration": 25,
    "start_time": "2022-08-13T08:52:27.244Z"
   },
   {
    "duration": 25,
    "start_time": "2022-08-13T08:52:27.271Z"
   },
   {
    "duration": 6,
    "start_time": "2022-08-13T08:52:27.297Z"
   },
   {
    "duration": 46,
    "start_time": "2022-08-13T08:52:27.305Z"
   },
   {
    "duration": 4,
    "start_time": "2022-08-13T08:52:27.353Z"
   },
   {
    "duration": 4,
    "start_time": "2022-08-13T08:52:27.359Z"
   },
   {
    "duration": 235,
    "start_time": "2022-08-13T08:52:27.365Z"
   },
   {
    "duration": 38,
    "start_time": "2022-08-13T08:54:21.675Z"
   },
   {
    "duration": 30,
    "start_time": "2022-08-13T08:57:22.043Z"
   },
   {
    "duration": 227,
    "start_time": "2022-08-13T08:57:47.790Z"
   },
   {
    "duration": 160,
    "start_time": "2022-08-13T08:59:28.743Z"
   },
   {
    "duration": 142,
    "start_time": "2022-08-13T08:59:37.886Z"
   },
   {
    "duration": 151,
    "start_time": "2022-08-13T09:00:12.357Z"
   },
   {
    "duration": 148,
    "start_time": "2022-08-13T09:01:21.428Z"
   },
   {
    "duration": 151,
    "start_time": "2022-08-13T09:01:50.501Z"
   },
   {
    "duration": 76,
    "start_time": "2022-08-13T09:03:50.098Z"
   },
   {
    "duration": 65,
    "start_time": "2022-08-13T09:03:58.049Z"
   },
   {
    "duration": 78,
    "start_time": "2022-08-13T09:03:59.987Z"
   },
   {
    "duration": 16,
    "start_time": "2022-08-13T09:04:00.388Z"
   },
   {
    "duration": 10,
    "start_time": "2022-08-13T09:04:16.907Z"
   },
   {
    "duration": 5,
    "start_time": "2022-08-13T09:04:17.466Z"
   },
   {
    "duration": 9,
    "start_time": "2022-08-13T09:04:18.050Z"
   },
   {
    "duration": 8,
    "start_time": "2022-08-13T09:04:20.061Z"
   },
   {
    "duration": 9,
    "start_time": "2022-08-13T09:04:22.210Z"
   },
   {
    "duration": 208,
    "start_time": "2022-08-13T09:04:26.164Z"
   },
   {
    "duration": 14,
    "start_time": "2022-08-13T09:04:40.842Z"
   },
   {
    "duration": 22,
    "start_time": "2022-08-13T09:06:14.732Z"
   },
   {
    "duration": 36,
    "start_time": "2022-08-13T09:06:23.511Z"
   },
   {
    "duration": 12,
    "start_time": "2022-08-13T09:06:37.300Z"
   },
   {
    "duration": 19,
    "start_time": "2022-08-13T09:06:50.069Z"
   },
   {
    "duration": 15,
    "start_time": "2022-08-13T09:06:54.631Z"
   },
   {
    "duration": 290,
    "start_time": "2022-08-13T09:08:04.037Z"
   },
   {
    "duration": 22,
    "start_time": "2022-08-13T09:08:04.425Z"
   },
   {
    "duration": 296,
    "start_time": "2022-08-13T09:08:09.434Z"
   },
   {
    "duration": 3,
    "start_time": "2022-08-13T09:08:11.868Z"
   },
   {
    "duration": 149,
    "start_time": "2022-08-13T09:08:11.873Z"
   },
   {
    "duration": 19,
    "start_time": "2022-08-13T09:08:12.024Z"
   },
   {
    "duration": 51,
    "start_time": "2022-08-13T09:08:12.045Z"
   },
   {
    "duration": 22,
    "start_time": "2022-08-13T09:08:12.098Z"
   },
   {
    "duration": 5,
    "start_time": "2022-08-13T09:08:12.139Z"
   },
   {
    "duration": 9,
    "start_time": "2022-08-13T09:08:12.145Z"
   },
   {
    "duration": 36,
    "start_time": "2022-08-13T09:08:12.156Z"
   },
   {
    "duration": 6,
    "start_time": "2022-08-13T09:08:12.194Z"
   },
   {
    "duration": 76,
    "start_time": "2022-08-13T09:08:14.729Z"
   },
   {
    "duration": 26,
    "start_time": "2022-08-13T09:08:15.163Z"
   },
   {
    "duration": 28,
    "start_time": "2022-08-13T09:08:20.182Z"
   },
   {
    "duration": 9,
    "start_time": "2022-08-13T09:08:20.698Z"
   },
   {
    "duration": 18,
    "start_time": "2022-08-13T09:08:21.144Z"
   },
   {
    "duration": 5,
    "start_time": "2022-08-13T09:08:23.393Z"
   },
   {
    "duration": 4,
    "start_time": "2022-08-13T09:08:24.117Z"
   },
   {
    "duration": 155,
    "start_time": "2022-08-13T09:08:24.849Z"
   },
   {
    "duration": 13,
    "start_time": "2022-08-13T09:08:27.834Z"
   },
   {
    "duration": 19,
    "start_time": "2022-08-13T09:08:32.410Z"
   },
   {
    "duration": 66,
    "start_time": "2022-08-13T09:08:40.917Z"
   },
   {
    "duration": 14,
    "start_time": "2022-08-13T09:10:01.247Z"
   },
   {
    "duration": 53,
    "start_time": "2022-08-13T09:12:05.479Z"
   },
   {
    "duration": 14,
    "start_time": "2022-08-13T09:12:15.073Z"
   },
   {
    "duration": 40,
    "start_time": "2022-08-13T09:12:17.531Z"
   },
   {
    "duration": 11,
    "start_time": "2022-08-13T09:12:22.731Z"
   },
   {
    "duration": 36,
    "start_time": "2022-08-13T09:12:23.245Z"
   },
   {
    "duration": 11,
    "start_time": "2022-08-13T09:12:39.977Z"
   },
   {
    "duration": 5,
    "start_time": "2022-08-13T09:12:56.629Z"
   },
   {
    "duration": 36,
    "start_time": "2022-08-13T09:14:23.702Z"
   },
   {
    "duration": 1438,
    "start_time": "2022-08-17T08:29:25.289Z"
   },
   {
    "duration": 730,
    "start_time": "2022-08-17T08:29:26.729Z"
   },
   {
    "duration": 19,
    "start_time": "2022-08-17T08:29:27.461Z"
   },
   {
    "duration": 65,
    "start_time": "2022-08-17T08:29:27.482Z"
   },
   {
    "duration": 22,
    "start_time": "2022-08-17T08:29:27.567Z"
   },
   {
    "duration": 7,
    "start_time": "2022-08-17T08:29:27.591Z"
   },
   {
    "duration": 2,
    "start_time": "2022-08-17T08:29:27.600Z"
   },
   {
    "duration": 39,
    "start_time": "2022-08-17T08:29:27.604Z"
   },
   {
    "duration": 8,
    "start_time": "2022-08-17T08:29:27.669Z"
   },
   {
    "duration": 107,
    "start_time": "2022-08-17T08:29:27.679Z"
   },
   {
    "duration": 25,
    "start_time": "2022-08-17T08:29:27.787Z"
   },
   {
    "duration": 29,
    "start_time": "2022-08-17T08:29:27.814Z"
   },
   {
    "duration": 30,
    "start_time": "2022-08-17T08:29:27.844Z"
   },
   {
    "duration": 17,
    "start_time": "2022-08-17T08:29:27.876Z"
   },
   {
    "duration": 5,
    "start_time": "2022-08-17T08:29:27.895Z"
   },
   {
    "duration": 6,
    "start_time": "2022-08-17T08:29:27.901Z"
   },
   {
    "duration": 299,
    "start_time": "2022-08-17T08:29:27.909Z"
   },
   {
    "duration": 12,
    "start_time": "2022-08-17T08:29:28.210Z"
   },
   {
    "duration": 5,
    "start_time": "2022-08-17T08:29:28.223Z"
   },
   {
    "duration": 49,
    "start_time": "2022-08-17T08:29:30.125Z"
   },
   {
    "duration": 252,
    "start_time": "2022-08-17T08:32:12.338Z"
   },
   {
    "duration": 171,
    "start_time": "2022-08-17T08:32:20.031Z"
   },
   {
    "duration": 214,
    "start_time": "2022-08-17T08:32:34.170Z"
   },
   {
    "duration": 198,
    "start_time": "2022-08-17T08:32:39.788Z"
   },
   {
    "duration": 19,
    "start_time": "2022-08-17T08:36:37.849Z"
   },
   {
    "duration": 21,
    "start_time": "2022-08-17T08:37:11.363Z"
   },
   {
    "duration": 24,
    "start_time": "2022-08-17T08:37:29.622Z"
   },
   {
    "duration": 3,
    "start_time": "2022-08-17T08:37:33.762Z"
   },
   {
    "duration": 167,
    "start_time": "2022-08-17T08:37:33.767Z"
   },
   {
    "duration": 19,
    "start_time": "2022-08-17T08:37:33.936Z"
   },
   {
    "duration": 58,
    "start_time": "2022-08-17T08:37:33.969Z"
   },
   {
    "duration": 22,
    "start_time": "2022-08-17T08:37:34.029Z"
   },
   {
    "duration": 6,
    "start_time": "2022-08-17T08:37:34.069Z"
   },
   {
    "duration": 5,
    "start_time": "2022-08-17T08:37:34.076Z"
   },
   {
    "duration": 38,
    "start_time": "2022-08-17T08:37:34.083Z"
   },
   {
    "duration": 7,
    "start_time": "2022-08-17T08:37:34.124Z"
   },
   {
    "duration": 119,
    "start_time": "2022-08-17T08:37:34.133Z"
   },
   {
    "duration": 36,
    "start_time": "2022-08-17T08:37:34.254Z"
   },
   {
    "duration": 31,
    "start_time": "2022-08-17T08:37:34.292Z"
   },
   {
    "duration": 8,
    "start_time": "2022-08-17T08:37:34.325Z"
   },
   {
    "duration": 48,
    "start_time": "2022-08-17T08:37:34.335Z"
   },
   {
    "duration": 18,
    "start_time": "2022-08-17T08:37:34.385Z"
   },
   {
    "duration": 20,
    "start_time": "2022-08-17T08:37:36.853Z"
   },
   {
    "duration": 56,
    "start_time": "2022-08-17T08:38:02.708Z"
   },
   {
    "duration": 204,
    "start_time": "2022-08-17T08:38:59.529Z"
   },
   {
    "duration": 19,
    "start_time": "2022-08-17T08:39:36.914Z"
   },
   {
    "duration": 19,
    "start_time": "2022-08-17T08:44:08.038Z"
   },
   {
    "duration": 8,
    "start_time": "2022-08-17T08:44:29.803Z"
   },
   {
    "duration": 3,
    "start_time": "2022-08-17T08:44:33.391Z"
   },
   {
    "duration": 163,
    "start_time": "2022-08-17T08:44:33.396Z"
   },
   {
    "duration": 30,
    "start_time": "2022-08-17T08:44:33.561Z"
   },
   {
    "duration": 56,
    "start_time": "2022-08-17T08:44:33.593Z"
   },
   {
    "duration": 48,
    "start_time": "2022-08-17T08:44:33.650Z"
   },
   {
    "duration": 5,
    "start_time": "2022-08-17T08:44:33.700Z"
   },
   {
    "duration": 6,
    "start_time": "2022-08-17T08:44:33.707Z"
   },
   {
    "duration": 54,
    "start_time": "2022-08-17T08:44:33.715Z"
   },
   {
    "duration": 9,
    "start_time": "2022-08-17T08:44:33.775Z"
   },
   {
    "duration": 99,
    "start_time": "2022-08-17T08:44:33.785Z"
   },
   {
    "duration": 26,
    "start_time": "2022-08-17T08:44:33.886Z"
   },
   {
    "duration": 25,
    "start_time": "2022-08-17T08:44:33.914Z"
   },
   {
    "duration": 7,
    "start_time": "2022-08-17T08:44:33.941Z"
   },
   {
    "duration": 22,
    "start_time": "2022-08-17T08:44:33.972Z"
   },
   {
    "duration": 18,
    "start_time": "2022-08-17T08:44:33.996Z"
   },
   {
    "duration": 17,
    "start_time": "2022-08-17T08:44:34.015Z"
   },
   {
    "duration": 5,
    "start_time": "2022-08-17T08:44:34.033Z"
   },
   {
    "duration": 42,
    "start_time": "2022-08-17T08:44:34.039Z"
   },
   {
    "duration": 204,
    "start_time": "2022-08-17T08:44:34.082Z"
   },
   {
    "duration": 12,
    "start_time": "2022-08-17T08:44:34.287Z"
   },
   {
    "duration": 5,
    "start_time": "2022-08-17T08:44:34.302Z"
   },
   {
    "duration": 20,
    "start_time": "2022-08-17T08:44:34.309Z"
   },
   {
    "duration": 47,
    "start_time": "2022-08-17T08:44:34.331Z"
   },
   {
    "duration": 51,
    "start_time": "2022-08-17T08:44:38.067Z"
   },
   {
    "duration": 21,
    "start_time": "2022-08-17T08:51:05.950Z"
   },
   {
    "duration": 52,
    "start_time": "2022-08-17T08:54:42.413Z"
   },
   {
    "duration": 54,
    "start_time": "2022-08-17T08:55:00.043Z"
   },
   {
    "duration": 4,
    "start_time": "2022-08-17T09:13:02.958Z"
   },
   {
    "duration": 172,
    "start_time": "2022-08-17T09:13:02.965Z"
   },
   {
    "duration": 34,
    "start_time": "2022-08-17T09:13:03.139Z"
   },
   {
    "duration": 57,
    "start_time": "2022-08-17T09:13:03.176Z"
   },
   {
    "duration": 39,
    "start_time": "2022-08-17T09:13:03.236Z"
   },
   {
    "duration": 12,
    "start_time": "2022-08-17T09:13:03.276Z"
   },
   {
    "duration": 3,
    "start_time": "2022-08-17T09:13:03.290Z"
   },
   {
    "duration": 38,
    "start_time": "2022-08-17T09:13:03.295Z"
   },
   {
    "duration": 9,
    "start_time": "2022-08-17T09:13:03.335Z"
   },
   {
    "duration": 87,
    "start_time": "2022-08-17T09:13:03.367Z"
   },
   {
    "duration": 37,
    "start_time": "2022-08-17T09:13:03.456Z"
   },
   {
    "duration": 31,
    "start_time": "2022-08-17T09:13:03.495Z"
   },
   {
    "duration": 8,
    "start_time": "2022-08-17T09:13:03.528Z"
   },
   {
    "duration": 20,
    "start_time": "2022-08-17T09:13:03.567Z"
   },
   {
    "duration": 18,
    "start_time": "2022-08-17T09:13:03.589Z"
   },
   {
    "duration": 18,
    "start_time": "2022-08-17T09:13:03.609Z"
   },
   {
    "duration": 6,
    "start_time": "2022-08-17T09:13:03.628Z"
   },
   {
    "duration": 6,
    "start_time": "2022-08-17T09:13:03.667Z"
   },
   {
    "duration": 227,
    "start_time": "2022-08-17T09:13:03.675Z"
   },
   {
    "duration": 15,
    "start_time": "2022-08-17T09:13:03.904Z"
   },
   {
    "duration": 6,
    "start_time": "2022-08-17T09:13:03.921Z"
   },
   {
    "duration": 39,
    "start_time": "2022-08-17T09:13:03.930Z"
   },
   {
    "duration": 9,
    "start_time": "2022-08-17T09:13:03.972Z"
   },
   {
    "duration": 53,
    "start_time": "2022-08-17T09:13:03.983Z"
   },
   {
    "duration": 38,
    "start_time": "2022-08-17T09:13:04.038Z"
   },
   {
    "duration": 66,
    "start_time": "2022-08-17T09:13:04.078Z"
   },
   {
    "duration": 56,
    "start_time": "2022-08-17T09:13:05.668Z"
   },
   {
    "duration": 3,
    "start_time": "2022-08-17T09:17:09.911Z"
   },
   {
    "duration": 65,
    "start_time": "2022-08-17T09:19:48.455Z"
   },
   {
    "duration": 9,
    "start_time": "2022-08-17T09:19:58.000Z"
   },
   {
    "duration": 8,
    "start_time": "2022-08-17T09:20:18.301Z"
   },
   {
    "duration": 6,
    "start_time": "2022-08-17T09:20:39.426Z"
   },
   {
    "duration": 6,
    "start_time": "2022-08-17T09:20:57.000Z"
   },
   {
    "duration": 6,
    "start_time": "2022-08-17T09:21:20.050Z"
   },
   {
    "duration": 7,
    "start_time": "2022-08-17T09:21:24.891Z"
   },
   {
    "duration": 7,
    "start_time": "2022-08-17T09:21:40.150Z"
   },
   {
    "duration": 5,
    "start_time": "2022-08-17T09:24:31.088Z"
   },
   {
    "duration": 9,
    "start_time": "2022-08-17T09:24:38.962Z"
   },
   {
    "duration": 5,
    "start_time": "2022-08-17T09:26:12.862Z"
   },
   {
    "duration": 13,
    "start_time": "2022-08-17T09:27:03.871Z"
   },
   {
    "duration": 10,
    "start_time": "2022-08-17T09:27:11.323Z"
   },
   {
    "duration": 4,
    "start_time": "2022-08-17T09:27:47.274Z"
   },
   {
    "duration": 5,
    "start_time": "2022-08-17T09:39:48.478Z"
   },
   {
    "duration": 4,
    "start_time": "2022-08-17T09:40:25.695Z"
   },
   {
    "duration": 54,
    "start_time": "2022-08-17T09:45:31.278Z"
   },
   {
    "duration": 3,
    "start_time": "2022-08-17T09:56:00.725Z"
   },
   {
    "duration": 88,
    "start_time": "2022-08-17T10:07:47.369Z"
   },
   {
    "duration": 130,
    "start_time": "2022-08-17T10:07:55.220Z"
   },
   {
    "duration": 127,
    "start_time": "2022-08-17T10:08:24.994Z"
   },
   {
    "duration": 30,
    "start_time": "2022-08-17T10:09:42.954Z"
   },
   {
    "duration": 55,
    "start_time": "2022-08-17T10:10:35.726Z"
   },
   {
    "duration": 60,
    "start_time": "2022-08-17T10:11:01.438Z"
   },
   {
    "duration": 62,
    "start_time": "2022-08-17T10:11:16.798Z"
   },
   {
    "duration": 56,
    "start_time": "2022-08-17T10:11:27.265Z"
   },
   {
    "duration": 133,
    "start_time": "2022-08-17T10:18:10.005Z"
   },
   {
    "duration": 379,
    "start_time": "2022-08-17T10:19:03.973Z"
   },
   {
    "duration": 64,
    "start_time": "2022-08-17T10:19:51.756Z"
   },
   {
    "duration": 5,
    "start_time": "2022-08-17T10:20:00.505Z"
   },
   {
    "duration": 11,
    "start_time": "2022-08-17T10:20:06.310Z"
   },
   {
    "duration": 48,
    "start_time": "2022-08-17T10:20:38.329Z"
   },
   {
    "duration": 4,
    "start_time": "2022-08-17T10:21:31.721Z"
   },
   {
    "duration": 15,
    "start_time": "2022-08-17T10:21:36.220Z"
   },
   {
    "duration": 9,
    "start_time": "2022-08-17T10:21:43.839Z"
   },
   {
    "duration": 8,
    "start_time": "2022-08-17T10:21:54.489Z"
   },
   {
    "duration": 8,
    "start_time": "2022-08-17T10:22:03.928Z"
   },
   {
    "duration": 8,
    "start_time": "2022-08-17T10:22:07.726Z"
   },
   {
    "duration": 8,
    "start_time": "2022-08-17T10:22:23.940Z"
   },
   {
    "duration": 7,
    "start_time": "2022-08-17T10:22:26.284Z"
   },
   {
    "duration": 7,
    "start_time": "2022-08-17T10:22:29.678Z"
   },
   {
    "duration": 4,
    "start_time": "2022-08-17T10:22:34.863Z"
   },
   {
    "duration": 226,
    "start_time": "2022-08-17T10:22:34.870Z"
   },
   {
    "duration": 20,
    "start_time": "2022-08-17T10:22:35.097Z"
   },
   {
    "duration": 86,
    "start_time": "2022-08-17T10:22:35.120Z"
   },
   {
    "duration": 23,
    "start_time": "2022-08-17T10:22:35.208Z"
   },
   {
    "duration": 38,
    "start_time": "2022-08-17T10:22:35.233Z"
   },
   {
    "duration": 9,
    "start_time": "2022-08-17T10:22:35.272Z"
   },
   {
    "duration": 79,
    "start_time": "2022-08-17T10:22:35.283Z"
   },
   {
    "duration": 10,
    "start_time": "2022-08-17T10:22:35.365Z"
   },
   {
    "duration": 102,
    "start_time": "2022-08-17T10:22:35.377Z"
   },
   {
    "duration": 33,
    "start_time": "2022-08-17T10:22:35.481Z"
   },
   {
    "duration": 53,
    "start_time": "2022-08-17T10:22:35.517Z"
   },
   {
    "duration": 8,
    "start_time": "2022-08-17T10:22:35.572Z"
   },
   {
    "duration": 37,
    "start_time": "2022-08-17T10:22:35.582Z"
   },
   {
    "duration": 20,
    "start_time": "2022-08-17T10:22:35.620Z"
   },
   {
    "duration": 43,
    "start_time": "2022-08-17T10:22:35.642Z"
   },
   {
    "duration": 10,
    "start_time": "2022-08-17T10:22:35.687Z"
   },
   {
    "duration": 25,
    "start_time": "2022-08-17T10:22:35.698Z"
   },
   {
    "duration": 238,
    "start_time": "2022-08-17T10:22:35.725Z"
   },
   {
    "duration": 12,
    "start_time": "2022-08-17T10:22:35.967Z"
   },
   {
    "duration": 11,
    "start_time": "2022-08-17T10:22:35.981Z"
   },
   {
    "duration": 48,
    "start_time": "2022-08-17T10:22:35.994Z"
   },
   {
    "duration": 22,
    "start_time": "2022-08-17T10:22:36.043Z"
   },
   {
    "duration": 57,
    "start_time": "2022-08-17T10:22:36.068Z"
   },
   {
    "duration": 24,
    "start_time": "2022-08-17T10:22:36.127Z"
   },
   {
    "duration": 120,
    "start_time": "2022-08-17T10:22:36.153Z"
   },
   {
    "duration": 10,
    "start_time": "2022-08-17T10:22:36.274Z"
   },
   {
    "duration": 7,
    "start_time": "2022-08-17T10:22:36.286Z"
   },
   {
    "duration": 15,
    "start_time": "2022-08-17T10:22:36.295Z"
   },
   {
    "duration": 5,
    "start_time": "2022-08-17T10:22:38.734Z"
   },
   {
    "duration": 5,
    "start_time": "2022-08-17T10:22:49.986Z"
   },
   {
    "duration": 8,
    "start_time": "2022-08-17T10:22:58.527Z"
   },
   {
    "duration": 4,
    "start_time": "2022-08-17T10:23:11.288Z"
   },
   {
    "duration": 9,
    "start_time": "2022-08-17T10:23:15.706Z"
   },
   {
    "duration": 3,
    "start_time": "2022-08-17T10:23:19.095Z"
   },
   {
    "duration": 160,
    "start_time": "2022-08-17T10:23:19.100Z"
   },
   {
    "duration": 21,
    "start_time": "2022-08-17T10:23:19.261Z"
   },
   {
    "duration": 54,
    "start_time": "2022-08-17T10:23:19.284Z"
   },
   {
    "duration": 46,
    "start_time": "2022-08-17T10:23:19.340Z"
   },
   {
    "duration": 7,
    "start_time": "2022-08-17T10:23:19.387Z"
   },
   {
    "duration": 4,
    "start_time": "2022-08-17T10:23:19.396Z"
   },
   {
    "duration": 44,
    "start_time": "2022-08-17T10:23:19.401Z"
   },
   {
    "duration": 8,
    "start_time": "2022-08-17T10:23:19.468Z"
   },
   {
    "duration": 100,
    "start_time": "2022-08-17T10:23:19.478Z"
   },
   {
    "duration": 26,
    "start_time": "2022-08-17T10:23:19.580Z"
   },
   {
    "duration": 26,
    "start_time": "2022-08-17T10:23:19.608Z"
   },
   {
    "duration": 6,
    "start_time": "2022-08-17T10:23:19.636Z"
   },
   {
    "duration": 19,
    "start_time": "2022-08-17T10:23:19.667Z"
   },
   {
    "duration": 18,
    "start_time": "2022-08-17T10:23:19.687Z"
   },
   {
    "duration": 17,
    "start_time": "2022-08-17T10:23:19.707Z"
   },
   {
    "duration": 4,
    "start_time": "2022-08-17T10:23:19.726Z"
   },
   {
    "duration": 40,
    "start_time": "2022-08-17T10:23:19.731Z"
   },
   {
    "duration": 203,
    "start_time": "2022-08-17T10:23:19.773Z"
   },
   {
    "duration": 13,
    "start_time": "2022-08-17T10:23:19.978Z"
   },
   {
    "duration": 6,
    "start_time": "2022-08-17T10:23:19.993Z"
   },
   {
    "duration": 20,
    "start_time": "2022-08-17T10:23:20.000Z"
   },
   {
    "duration": 9,
    "start_time": "2022-08-17T10:23:20.022Z"
   },
   {
    "duration": 44,
    "start_time": "2022-08-17T10:23:20.068Z"
   },
   {
    "duration": 22,
    "start_time": "2022-08-17T10:23:20.113Z"
   },
   {
    "duration": 77,
    "start_time": "2022-08-17T10:23:20.137Z"
   },
   {
    "duration": 9,
    "start_time": "2022-08-17T10:23:20.216Z"
   },
   {
    "duration": 5,
    "start_time": "2022-08-17T10:23:20.227Z"
   },
   {
    "duration": 36,
    "start_time": "2022-08-17T10:23:20.234Z"
   },
   {
    "duration": 13,
    "start_time": "2022-08-17T10:23:21.523Z"
   },
   {
    "duration": 46,
    "start_time": "2022-08-17T10:23:24.845Z"
   },
   {
    "duration": 44,
    "start_time": "2022-08-17T10:26:34.706Z"
   },
   {
    "duration": 14,
    "start_time": "2022-08-17T10:26:56.045Z"
   },
   {
    "duration": 45,
    "start_time": "2022-08-17T10:27:58.859Z"
   },
   {
    "duration": 103,
    "start_time": "2022-08-17T10:28:26.775Z"
   },
   {
    "duration": 27,
    "start_time": "2022-08-17T10:28:46.672Z"
   },
   {
    "duration": 28,
    "start_time": "2022-08-17T10:29:00.074Z"
   },
   {
    "duration": 129,
    "start_time": "2022-08-17T10:29:09.773Z"
   },
   {
    "duration": 16,
    "start_time": "2022-08-17T11:44:26.584Z"
   },
   {
    "duration": 17,
    "start_time": "2022-08-17T11:44:51.264Z"
   },
   {
    "duration": 17,
    "start_time": "2022-08-17T11:44:56.639Z"
   },
   {
    "duration": 16,
    "start_time": "2022-08-17T11:45:32.972Z"
   },
   {
    "duration": 38,
    "start_time": "2022-08-17T11:45:49.150Z"
   },
   {
    "duration": 4158,
    "start_time": "2022-08-17T11:46:01.452Z"
   },
   {
    "duration": 90,
    "start_time": "2022-08-17T11:57:30.366Z"
   },
   {
    "duration": 142,
    "start_time": "2022-08-17T11:57:36.306Z"
   },
   {
    "duration": 107,
    "start_time": "2022-08-17T11:58:12.062Z"
   },
   {
    "duration": 97,
    "start_time": "2022-08-17T11:58:24.948Z"
   },
   {
    "duration": 131,
    "start_time": "2022-08-17T12:04:19.965Z"
   },
   {
    "duration": 143,
    "start_time": "2022-08-17T12:04:39.063Z"
   },
   {
    "duration": 1468,
    "start_time": "2022-08-18T08:56:46.693Z"
   },
   {
    "duration": 504,
    "start_time": "2022-08-18T08:56:48.164Z"
   },
   {
    "duration": 20,
    "start_time": "2022-08-18T08:56:48.669Z"
   },
   {
    "duration": 60,
    "start_time": "2022-08-18T08:56:48.690Z"
   },
   {
    "duration": 20,
    "start_time": "2022-08-18T08:56:48.752Z"
   },
   {
    "duration": 9,
    "start_time": "2022-08-18T08:56:48.774Z"
   },
   {
    "duration": 3,
    "start_time": "2022-08-18T08:56:48.785Z"
   },
   {
    "duration": 61,
    "start_time": "2022-08-18T08:56:48.789Z"
   },
   {
    "duration": 7,
    "start_time": "2022-08-18T08:56:48.852Z"
   },
   {
    "duration": 110,
    "start_time": "2022-08-18T08:56:48.861Z"
   },
   {
    "duration": 40,
    "start_time": "2022-08-18T08:56:48.973Z"
   },
   {
    "duration": 29,
    "start_time": "2022-08-18T08:56:49.014Z"
   },
   {
    "duration": 7,
    "start_time": "2022-08-18T08:56:49.044Z"
   },
   {
    "duration": 18,
    "start_time": "2022-08-18T08:56:49.054Z"
   },
   {
    "duration": 45,
    "start_time": "2022-08-18T08:56:49.073Z"
   },
   {
    "duration": 17,
    "start_time": "2022-08-18T08:56:49.120Z"
   },
   {
    "duration": 5,
    "start_time": "2022-08-18T08:56:49.139Z"
   },
   {
    "duration": 13,
    "start_time": "2022-08-18T08:56:49.146Z"
   },
   {
    "duration": 303,
    "start_time": "2022-08-18T08:56:49.161Z"
   },
   {
    "duration": 20,
    "start_time": "2022-08-18T08:56:49.465Z"
   },
   {
    "duration": 5,
    "start_time": "2022-08-18T08:56:49.487Z"
   },
   {
    "duration": 33,
    "start_time": "2022-08-18T08:56:49.493Z"
   },
   {
    "duration": 7,
    "start_time": "2022-08-18T08:56:49.528Z"
   },
   {
    "duration": 45,
    "start_time": "2022-08-18T08:56:49.536Z"
   },
   {
    "duration": 39,
    "start_time": "2022-08-18T08:56:49.583Z"
   },
   {
    "duration": 57,
    "start_time": "2022-08-18T08:56:49.623Z"
   },
   {
    "duration": 30,
    "start_time": "2022-08-18T08:56:49.681Z"
   },
   {
    "duration": 6,
    "start_time": "2022-08-18T08:56:49.713Z"
   },
   {
    "duration": 17,
    "start_time": "2022-08-18T08:56:49.721Z"
   },
   {
    "duration": 19,
    "start_time": "2022-08-18T08:56:49.740Z"
   },
   {
    "duration": 477,
    "start_time": "2022-08-18T08:56:49.761Z"
   },
   {
    "duration": 41,
    "start_time": "2022-08-18T08:56:50.239Z"
   },
   {
    "duration": 102,
    "start_time": "2022-08-18T08:56:50.311Z"
   },
   {
    "duration": 100,
    "start_time": "2022-08-18T08:56:50.415Z"
   },
   {
    "duration": 52,
    "start_time": "2022-08-18T08:56:50.517Z"
   },
   {
    "duration": 100,
    "start_time": "2022-08-18T08:56:50.571Z"
   },
   {
    "duration": 187,
    "start_time": "2022-08-18T08:58:35.917Z"
   },
   {
    "duration": 34,
    "start_time": "2022-08-18T08:58:40.099Z"
   },
   {
    "duration": 3,
    "start_time": "2022-08-18T08:58:42.373Z"
   },
   {
    "duration": 170,
    "start_time": "2022-08-18T08:58:42.378Z"
   },
   {
    "duration": 24,
    "start_time": "2022-08-18T08:58:42.550Z"
   },
   {
    "duration": 81,
    "start_time": "2022-08-18T08:58:42.576Z"
   },
   {
    "duration": 27,
    "start_time": "2022-08-18T08:58:42.661Z"
   },
   {
    "duration": 22,
    "start_time": "2022-08-18T08:58:42.690Z"
   },
   {
    "duration": 3,
    "start_time": "2022-08-18T08:58:42.714Z"
   },
   {
    "duration": 47,
    "start_time": "2022-08-18T08:58:42.719Z"
   },
   {
    "duration": 8,
    "start_time": "2022-08-18T08:58:42.768Z"
   },
   {
    "duration": 90,
    "start_time": "2022-08-18T08:58:42.779Z"
   },
   {
    "duration": 30,
    "start_time": "2022-08-18T08:58:42.871Z"
   },
   {
    "duration": 29,
    "start_time": "2022-08-18T08:58:42.911Z"
   },
   {
    "duration": 6,
    "start_time": "2022-08-18T08:58:42.941Z"
   },
   {
    "duration": 22,
    "start_time": "2022-08-18T08:58:42.950Z"
   },
   {
    "duration": 44,
    "start_time": "2022-08-18T08:58:42.974Z"
   },
   {
    "duration": 17,
    "start_time": "2022-08-18T08:58:43.020Z"
   },
   {
    "duration": 5,
    "start_time": "2022-08-18T08:58:43.038Z"
   },
   {
    "duration": 9,
    "start_time": "2022-08-18T08:58:43.044Z"
   },
   {
    "duration": 196,
    "start_time": "2022-08-18T08:58:43.055Z"
   },
   {
    "duration": 14,
    "start_time": "2022-08-18T08:58:43.252Z"
   },
   {
    "duration": 11,
    "start_time": "2022-08-18T08:58:43.272Z"
   },
   {
    "duration": 27,
    "start_time": "2022-08-18T08:58:43.285Z"
   },
   {
    "duration": 6,
    "start_time": "2022-08-18T08:58:43.313Z"
   },
   {
    "duration": 39,
    "start_time": "2022-08-18T08:58:43.320Z"
   },
   {
    "duration": 21,
    "start_time": "2022-08-18T08:58:43.360Z"
   },
   {
    "duration": 73,
    "start_time": "2022-08-18T08:58:43.382Z"
   },
   {
    "duration": 9,
    "start_time": "2022-08-18T08:58:43.457Z"
   },
   {
    "duration": 5,
    "start_time": "2022-08-18T08:58:43.468Z"
   },
   {
    "duration": 5,
    "start_time": "2022-08-18T08:58:43.475Z"
   },
   {
    "duration": 33,
    "start_time": "2022-08-18T08:58:43.482Z"
   },
   {
    "duration": 48,
    "start_time": "2022-08-18T08:58:43.516Z"
   },
   {
    "duration": 47,
    "start_time": "2022-08-18T08:58:43.566Z"
   },
   {
    "duration": 52,
    "start_time": "2022-08-18T08:58:43.614Z"
   },
   {
    "duration": 70,
    "start_time": "2022-08-18T08:58:43.668Z"
   },
   {
    "duration": 52,
    "start_time": "2022-08-18T08:58:43.740Z"
   },
   {
    "duration": 31,
    "start_time": "2022-08-18T08:58:44.970Z"
   },
   {
    "duration": 50,
    "start_time": "2022-08-18T08:58:50.364Z"
   },
   {
    "duration": 43,
    "start_time": "2022-08-18T08:59:10.955Z"
   },
   {
    "duration": 32,
    "start_time": "2022-08-18T08:59:38.170Z"
   },
   {
    "duration": 32,
    "start_time": "2022-08-18T09:00:43.987Z"
   },
   {
    "duration": 20,
    "start_time": "2022-08-18T09:01:01.591Z"
   },
   {
    "duration": 3,
    "start_time": "2022-08-18T09:01:06.118Z"
   },
   {
    "duration": 160,
    "start_time": "2022-08-18T09:01:06.124Z"
   },
   {
    "duration": 25,
    "start_time": "2022-08-18T09:01:06.286Z"
   },
   {
    "duration": 49,
    "start_time": "2022-08-18T09:01:06.313Z"
   },
   {
    "duration": 20,
    "start_time": "2022-08-18T09:01:06.364Z"
   },
   {
    "duration": 9,
    "start_time": "2022-08-18T09:01:06.385Z"
   },
   {
    "duration": 2,
    "start_time": "2022-08-18T09:01:06.411Z"
   },
   {
    "duration": 49,
    "start_time": "2022-08-18T09:01:06.415Z"
   },
   {
    "duration": 7,
    "start_time": "2022-08-18T09:01:06.466Z"
   },
   {
    "duration": 104,
    "start_time": "2022-08-18T09:01:06.475Z"
   },
   {
    "duration": 33,
    "start_time": "2022-08-18T09:01:06.582Z"
   },
   {
    "duration": 27,
    "start_time": "2022-08-18T09:01:06.616Z"
   },
   {
    "duration": 6,
    "start_time": "2022-08-18T09:01:06.645Z"
   },
   {
    "duration": 32,
    "start_time": "2022-08-18T09:01:06.652Z"
   },
   {
    "duration": 33,
    "start_time": "2022-08-18T09:01:06.685Z"
   },
   {
    "duration": 16,
    "start_time": "2022-08-18T09:01:06.720Z"
   },
   {
    "duration": 6,
    "start_time": "2022-08-18T09:01:06.738Z"
   },
   {
    "duration": 11,
    "start_time": "2022-08-18T09:01:06.746Z"
   },
   {
    "duration": 186,
    "start_time": "2022-08-18T09:01:06.759Z"
   },
   {
    "duration": 10,
    "start_time": "2022-08-18T09:01:06.946Z"
   },
   {
    "duration": 5,
    "start_time": "2022-08-18T09:01:06.958Z"
   },
   {
    "duration": 20,
    "start_time": "2022-08-18T09:01:06.964Z"
   },
   {
    "duration": 29,
    "start_time": "2022-08-18T09:01:06.986Z"
   },
   {
    "duration": 41,
    "start_time": "2022-08-18T09:01:07.016Z"
   },
   {
    "duration": 21,
    "start_time": "2022-08-18T09:01:07.058Z"
   },
   {
    "duration": 75,
    "start_time": "2022-08-18T09:01:07.080Z"
   },
   {
    "duration": 11,
    "start_time": "2022-08-18T09:01:07.157Z"
   },
   {
    "duration": 7,
    "start_time": "2022-08-18T09:01:07.170Z"
   },
   {
    "duration": 25,
    "start_time": "2022-08-18T09:01:07.181Z"
   },
   {
    "duration": 18,
    "start_time": "2022-08-18T09:01:07.208Z"
   },
   {
    "duration": 65,
    "start_time": "2022-08-18T09:01:07.228Z"
   },
   {
    "duration": 41,
    "start_time": "2022-08-18T09:01:07.295Z"
   },
   {
    "duration": 50,
    "start_time": "2022-08-18T09:01:07.337Z"
   },
   {
    "duration": 76,
    "start_time": "2022-08-18T09:01:07.388Z"
   },
   {
    "duration": 89,
    "start_time": "2022-08-18T09:01:07.466Z"
   },
   {
    "duration": 21,
    "start_time": "2022-08-18T09:01:08.989Z"
   },
   {
    "duration": 32,
    "start_time": "2022-08-18T09:01:26.269Z"
   },
   {
    "duration": 57,
    "start_time": "2022-08-18T09:01:51.913Z"
   },
   {
    "duration": 84,
    "start_time": "2022-08-18T09:01:58.056Z"
   },
   {
    "duration": 73,
    "start_time": "2022-08-18T09:02:05.096Z"
   },
   {
    "duration": 88,
    "start_time": "2022-08-18T09:02:12.599Z"
   },
   {
    "duration": 78,
    "start_time": "2022-08-18T09:02:27.674Z"
   },
   {
    "duration": 7,
    "start_time": "2022-08-18T09:10:52.593Z"
   },
   {
    "duration": 4,
    "start_time": "2022-08-18T09:19:29.064Z"
   },
   {
    "duration": 10,
    "start_time": "2022-08-18T09:19:29.593Z"
   },
   {
    "duration": 1211,
    "start_time": "2022-08-18T09:19:44.137Z"
   },
   {
    "duration": 0,
    "start_time": "2022-08-18T09:19:45.350Z"
   },
   {
    "duration": 2920,
    "start_time": "2022-08-18T09:20:02.634Z"
   },
   {
    "duration": 4,
    "start_time": "2022-08-18T09:23:43.134Z"
   },
   {
    "duration": 1239,
    "start_time": "2022-08-18T09:23:52.919Z"
   },
   {
    "duration": 3240,
    "start_time": "2022-08-18T09:25:37.144Z"
   },
   {
    "duration": 1237,
    "start_time": "2022-08-18T09:26:28.728Z"
   },
   {
    "duration": 100,
    "start_time": "2022-08-18T09:27:05.536Z"
   },
   {
    "duration": 1511,
    "start_time": "2022-08-18T09:27:10.588Z"
   },
   {
    "duration": 1574,
    "start_time": "2022-08-18T09:27:28.398Z"
   },
   {
    "duration": 4,
    "start_time": "2022-08-18T09:31:24.974Z"
   },
   {
    "duration": 2528,
    "start_time": "2022-08-18T09:31:25.448Z"
   },
   {
    "duration": 1502,
    "start_time": "2022-08-18T09:31:45.638Z"
   },
   {
    "duration": 1670,
    "start_time": "2022-08-18T09:31:59.028Z"
   },
   {
    "duration": 110,
    "start_time": "2022-08-18T09:32:40.335Z"
   },
   {
    "duration": 4,
    "start_time": "2022-08-18T09:32:42.028Z"
   },
   {
    "duration": 9,
    "start_time": "2022-08-18T09:32:43.780Z"
   },
   {
    "duration": 10,
    "start_time": "2022-08-18T09:32:53.985Z"
   },
   {
    "duration": 22,
    "start_time": "2022-08-18T09:33:29.309Z"
   },
   {
    "duration": 28,
    "start_time": "2022-08-18T09:33:42.650Z"
   },
   {
    "duration": 11,
    "start_time": "2022-08-18T09:35:12.634Z"
   },
   {
    "duration": 11,
    "start_time": "2022-08-18T09:35:29.020Z"
   },
   {
    "duration": 87,
    "start_time": "2022-08-18T09:36:03.141Z"
   },
   {
    "duration": 4,
    "start_time": "2022-08-18T09:36:03.882Z"
   },
   {
    "duration": 11,
    "start_time": "2022-08-18T09:36:04.724Z"
   },
   {
    "duration": 16,
    "start_time": "2022-08-18T09:36:13.509Z"
   },
   {
    "duration": 1533,
    "start_time": "2022-08-18T09:37:15.194Z"
   },
   {
    "duration": 1197,
    "start_time": "2022-08-18T09:37:26.871Z"
   },
   {
    "duration": 5,
    "start_time": "2022-08-18T09:37:33.045Z"
   },
   {
    "duration": 1678,
    "start_time": "2022-08-18T09:37:48.131Z"
   },
   {
    "duration": 15,
    "start_time": "2022-08-18T09:38:17.276Z"
   },
   {
    "duration": 3,
    "start_time": "2022-08-18T09:39:40.262Z"
   },
   {
    "duration": 17,
    "start_time": "2022-08-18T09:39:44.571Z"
   },
   {
    "duration": 7,
    "start_time": "2022-08-18T09:46:05.154Z"
   },
   {
    "duration": 1609,
    "start_time": "2022-08-18T09:46:44.172Z"
   },
   {
    "duration": 1484,
    "start_time": "2022-08-19T11:40:02.992Z"
   },
   {
    "duration": 634,
    "start_time": "2022-08-19T11:40:04.477Z"
   },
   {
    "duration": 21,
    "start_time": "2022-08-19T11:40:05.112Z"
   },
   {
    "duration": 63,
    "start_time": "2022-08-19T11:40:05.135Z"
   },
   {
    "duration": 23,
    "start_time": "2022-08-19T11:40:05.200Z"
   },
   {
    "duration": 11,
    "start_time": "2022-08-19T11:40:05.225Z"
   },
   {
    "duration": 8,
    "start_time": "2022-08-19T11:40:05.238Z"
   },
   {
    "duration": 53,
    "start_time": "2022-08-19T11:40:05.247Z"
   },
   {
    "duration": 9,
    "start_time": "2022-08-19T11:40:05.302Z"
   },
   {
    "duration": 99,
    "start_time": "2022-08-19T11:40:05.314Z"
   },
   {
    "duration": 28,
    "start_time": "2022-08-19T11:40:05.415Z"
   },
   {
    "duration": 46,
    "start_time": "2022-08-19T11:40:05.445Z"
   },
   {
    "duration": 9,
    "start_time": "2022-08-19T11:40:05.492Z"
   },
   {
    "duration": 20,
    "start_time": "2022-08-19T11:40:05.502Z"
   },
   {
    "duration": 19,
    "start_time": "2022-08-19T11:40:05.524Z"
   },
   {
    "duration": 49,
    "start_time": "2022-08-19T11:40:05.545Z"
   },
   {
    "duration": 4,
    "start_time": "2022-08-19T11:40:05.596Z"
   },
   {
    "duration": 8,
    "start_time": "2022-08-19T11:40:05.602Z"
   },
   {
    "duration": 264,
    "start_time": "2022-08-19T11:40:05.611Z"
   },
   {
    "duration": 21,
    "start_time": "2022-08-19T11:40:05.876Z"
   },
   {
    "duration": 4,
    "start_time": "2022-08-19T11:40:05.899Z"
   },
   {
    "duration": 19,
    "start_time": "2022-08-19T11:40:05.905Z"
   },
   {
    "duration": 7,
    "start_time": "2022-08-19T11:40:05.926Z"
   },
   {
    "duration": 65,
    "start_time": "2022-08-19T11:40:05.934Z"
   },
   {
    "duration": 27,
    "start_time": "2022-08-19T11:40:06.001Z"
   },
   {
    "duration": 70,
    "start_time": "2022-08-19T11:40:06.030Z"
   },
   {
    "duration": 10,
    "start_time": "2022-08-19T11:40:06.101Z"
   },
   {
    "duration": 7,
    "start_time": "2022-08-19T11:40:06.115Z"
   },
   {
    "duration": 10,
    "start_time": "2022-08-19T11:40:06.124Z"
   },
   {
    "duration": 11,
    "start_time": "2022-08-19T11:40:06.136Z"
   },
   {
    "duration": 519,
    "start_time": "2022-08-19T11:40:06.149Z"
   },
   {
    "duration": 42,
    "start_time": "2022-08-19T11:40:06.670Z"
   },
   {
    "duration": 105,
    "start_time": "2022-08-19T11:40:06.714Z"
   },
   {
    "duration": 72,
    "start_time": "2022-08-19T11:40:06.821Z"
   },
   {
    "duration": 50,
    "start_time": "2022-08-19T11:40:06.895Z"
   },
   {
    "duration": 88,
    "start_time": "2022-08-19T11:40:06.946Z"
   },
   {
    "duration": 146,
    "start_time": "2022-08-19T11:44:27.842Z"
   },
   {
    "duration": 85,
    "start_time": "2022-08-19T11:44:35.442Z"
   },
   {
    "duration": 12,
    "start_time": "2022-08-19T11:45:12.926Z"
   },
   {
    "duration": 10,
    "start_time": "2022-08-19T11:45:15.516Z"
   },
   {
    "duration": 1308,
    "start_time": "2022-08-19T11:45:16.173Z"
   },
   {
    "duration": 10,
    "start_time": "2022-08-19T11:45:23.783Z"
   },
   {
    "duration": 5,
    "start_time": "2022-08-19T11:45:26.420Z"
   },
   {
    "duration": 993,
    "start_time": "2022-08-19T11:45:27.030Z"
   },
   {
    "duration": 1157,
    "start_time": "2022-08-19T11:45:48.174Z"
   },
   {
    "duration": 1285,
    "start_time": "2022-08-19T11:46:22.973Z"
   },
   {
    "duration": 3,
    "start_time": "2022-08-19T12:10:18.496Z"
   },
   {
    "duration": 151,
    "start_time": "2022-08-19T12:10:18.518Z"
   },
   {
    "duration": 20,
    "start_time": "2022-08-19T12:10:18.671Z"
   },
   {
    "duration": 49,
    "start_time": "2022-08-19T12:10:18.692Z"
   },
   {
    "duration": 23,
    "start_time": "2022-08-19T12:10:18.742Z"
   },
   {
    "duration": 20,
    "start_time": "2022-08-19T12:10:18.767Z"
   },
   {
    "duration": 4,
    "start_time": "2022-08-19T12:10:18.789Z"
   },
   {
    "duration": 37,
    "start_time": "2022-08-19T12:10:18.794Z"
   },
   {
    "duration": 7,
    "start_time": "2022-08-19T12:10:18.832Z"
   },
   {
    "duration": 93,
    "start_time": "2022-08-19T12:10:18.841Z"
   },
   {
    "duration": 28,
    "start_time": "2022-08-19T12:10:18.936Z"
   },
   {
    "duration": 42,
    "start_time": "2022-08-19T12:10:18.966Z"
   },
   {
    "duration": 6,
    "start_time": "2022-08-19T12:10:19.010Z"
   },
   {
    "duration": 20,
    "start_time": "2022-08-19T12:10:19.018Z"
   },
   {
    "duration": 20,
    "start_time": "2022-08-19T12:10:19.041Z"
   },
   {
    "duration": 20,
    "start_time": "2022-08-19T12:10:19.086Z"
   },
   {
    "duration": 6,
    "start_time": "2022-08-19T12:10:19.108Z"
   },
   {
    "duration": 11,
    "start_time": "2022-08-19T12:10:19.116Z"
   },
   {
    "duration": 205,
    "start_time": "2022-08-19T12:10:19.128Z"
   },
   {
    "duration": 11,
    "start_time": "2022-08-19T12:10:19.335Z"
   },
   {
    "duration": 5,
    "start_time": "2022-08-19T12:10:19.348Z"
   },
   {
    "duration": 39,
    "start_time": "2022-08-19T12:10:19.354Z"
   },
   {
    "duration": 7,
    "start_time": "2022-08-19T12:10:19.395Z"
   },
   {
    "duration": 40,
    "start_time": "2022-08-19T12:10:19.403Z"
   },
   {
    "duration": 43,
    "start_time": "2022-08-19T12:10:19.444Z"
   },
   {
    "duration": 50,
    "start_time": "2022-08-19T12:10:19.489Z"
   },
   {
    "duration": 8,
    "start_time": "2022-08-19T12:10:19.540Z"
   },
   {
    "duration": 5,
    "start_time": "2022-08-19T12:10:19.550Z"
   },
   {
    "duration": 30,
    "start_time": "2022-08-19T12:10:19.557Z"
   },
   {
    "duration": 7,
    "start_time": "2022-08-19T12:10:19.589Z"
   },
   {
    "duration": 43,
    "start_time": "2022-08-19T12:10:19.598Z"
   },
   {
    "duration": 57,
    "start_time": "2022-08-19T12:10:19.642Z"
   },
   {
    "duration": 47,
    "start_time": "2022-08-19T12:10:19.701Z"
   },
   {
    "duration": 64,
    "start_time": "2022-08-19T12:10:19.750Z"
   },
   {
    "duration": 48,
    "start_time": "2022-08-19T12:10:19.815Z"
   },
   {
    "duration": 87,
    "start_time": "2022-08-19T12:10:19.864Z"
   },
   {
    "duration": 4,
    "start_time": "2022-08-19T12:10:19.952Z"
   },
   {
    "duration": 9,
    "start_time": "2022-08-19T12:10:19.957Z"
   },
   {
    "duration": 1185,
    "start_time": "2022-08-19T12:10:21.764Z"
   },
   {
    "duration": 15,
    "start_time": "2022-08-19T12:10:30.657Z"
   },
   {
    "duration": 4,
    "start_time": "2022-08-19T12:10:56.967Z"
   },
   {
    "duration": 9,
    "start_time": "2022-08-19T12:11:01.638Z"
   },
   {
    "duration": 75,
    "start_time": "2022-08-19T12:22:45.087Z"
   },
   {
    "duration": 3,
    "start_time": "2022-08-19T12:30:16.535Z"
   },
   {
    "duration": 93,
    "start_time": "2022-08-19T12:51:53.650Z"
   },
   {
    "duration": 5,
    "start_time": "2022-08-19T12:51:55.762Z"
   },
   {
    "duration": 3,
    "start_time": "2022-08-19T12:51:56.271Z"
   },
   {
    "duration": 10,
    "start_time": "2022-08-19T12:51:56.861Z"
   },
   {
    "duration": 9,
    "start_time": "2022-08-19T12:54:32.286Z"
   },
   {
    "duration": 7,
    "start_time": "2022-08-19T12:54:59.699Z"
   },
   {
    "duration": 8,
    "start_time": "2022-08-19T12:55:14.587Z"
   },
   {
    "duration": 14,
    "start_time": "2022-08-19T12:56:44.773Z"
   },
   {
    "duration": 12,
    "start_time": "2022-08-19T12:58:57.071Z"
   },
   {
    "duration": 6,
    "start_time": "2022-08-19T12:59:06.301Z"
   },
   {
    "duration": 11,
    "start_time": "2022-08-19T12:59:58.454Z"
   },
   {
    "duration": 9,
    "start_time": "2022-08-19T13:00:24.999Z"
   },
   {
    "duration": 8,
    "start_time": "2022-08-19T13:00:43.740Z"
   },
   {
    "duration": 10,
    "start_time": "2022-08-19T13:06:47.201Z"
   },
   {
    "duration": 1356,
    "start_time": "2022-08-19T16:21:32.393Z"
   },
   {
    "duration": 705,
    "start_time": "2022-08-19T16:21:33.751Z"
   },
   {
    "duration": 21,
    "start_time": "2022-08-19T16:21:34.458Z"
   },
   {
    "duration": 66,
    "start_time": "2022-08-19T16:21:34.481Z"
   },
   {
    "duration": 20,
    "start_time": "2022-08-19T16:21:34.549Z"
   },
   {
    "duration": 8,
    "start_time": "2022-08-19T16:21:34.570Z"
   },
   {
    "duration": 4,
    "start_time": "2022-08-19T16:21:34.579Z"
   },
   {
    "duration": 57,
    "start_time": "2022-08-19T16:21:34.584Z"
   },
   {
    "duration": 8,
    "start_time": "2022-08-19T16:21:34.642Z"
   },
   {
    "duration": 95,
    "start_time": "2022-08-19T16:21:34.651Z"
   },
   {
    "duration": 24,
    "start_time": "2022-08-19T16:21:34.748Z"
   },
   {
    "duration": 37,
    "start_time": "2022-08-19T16:21:34.774Z"
   },
   {
    "duration": 11,
    "start_time": "2022-08-19T16:21:34.814Z"
   },
   {
    "duration": 20,
    "start_time": "2022-08-19T16:21:34.830Z"
   },
   {
    "duration": 16,
    "start_time": "2022-08-19T16:21:34.852Z"
   },
   {
    "duration": 47,
    "start_time": "2022-08-19T16:21:34.870Z"
   },
   {
    "duration": 5,
    "start_time": "2022-08-19T16:21:34.919Z"
   },
   {
    "duration": 6,
    "start_time": "2022-08-19T16:21:34.925Z"
   },
   {
    "duration": 295,
    "start_time": "2022-08-19T16:21:34.932Z"
   },
   {
    "duration": 11,
    "start_time": "2022-08-19T16:21:35.229Z"
   },
   {
    "duration": 10,
    "start_time": "2022-08-19T16:21:35.242Z"
   },
   {
    "duration": 25,
    "start_time": "2022-08-19T16:21:35.254Z"
   },
   {
    "duration": 7,
    "start_time": "2022-08-19T16:21:35.280Z"
   },
   {
    "duration": 60,
    "start_time": "2022-08-19T16:21:35.289Z"
   },
   {
    "duration": 21,
    "start_time": "2022-08-19T16:21:35.351Z"
   },
   {
    "duration": 71,
    "start_time": "2022-08-19T16:21:35.374Z"
   },
   {
    "duration": 10,
    "start_time": "2022-08-19T16:21:35.446Z"
   },
   {
    "duration": 6,
    "start_time": "2022-08-19T16:21:35.457Z"
   },
   {
    "duration": 19,
    "start_time": "2022-08-19T16:21:35.465Z"
   },
   {
    "duration": 22,
    "start_time": "2022-08-19T16:21:35.485Z"
   },
   {
    "duration": 473,
    "start_time": "2022-08-19T16:21:35.508Z"
   },
   {
    "duration": 54,
    "start_time": "2022-08-19T16:21:35.983Z"
   },
   {
    "duration": 117,
    "start_time": "2022-08-19T16:21:36.038Z"
   },
   {
    "duration": 97,
    "start_time": "2022-08-19T16:21:36.157Z"
   },
   {
    "duration": 76,
    "start_time": "2022-08-19T16:21:36.256Z"
   },
   {
    "duration": 128,
    "start_time": "2022-08-19T16:21:36.334Z"
   },
   {
    "duration": 6,
    "start_time": "2022-08-19T16:21:36.464Z"
   },
   {
    "duration": 17,
    "start_time": "2022-08-19T16:21:36.472Z"
   },
   {
    "duration": 19,
    "start_time": "2022-08-19T16:21:36.490Z"
   },
   {
    "duration": 34,
    "start_time": "2022-08-19T16:21:36.511Z"
   },
   {
    "duration": 33,
    "start_time": "2022-08-19T16:21:36.550Z"
   },
   {
    "duration": 18,
    "start_time": "2022-08-19T16:21:36.585Z"
   },
   {
    "duration": 36,
    "start_time": "2022-08-19T16:21:36.604Z"
   },
   {
    "duration": 9,
    "start_time": "2022-08-19T16:21:42.058Z"
   },
   {
    "duration": 2,
    "start_time": "2022-08-19T16:35:05.098Z"
   },
   {
    "duration": 8,
    "start_time": "2022-08-19T16:36:02.118Z"
   },
   {
    "duration": 8,
    "start_time": "2022-08-19T16:36:13.147Z"
   },
   {
    "duration": 8,
    "start_time": "2022-08-19T16:37:20.654Z"
   },
   {
    "duration": 7,
    "start_time": "2022-08-19T16:37:43.559Z"
   },
   {
    "duration": 84,
    "start_time": "2022-08-19T17:34:40.937Z"
   },
   {
    "duration": 44,
    "start_time": "2022-08-20T09:17:37.290Z"
   },
   {
    "duration": 1257,
    "start_time": "2022-08-20T09:17:42.053Z"
   },
   {
    "duration": 476,
    "start_time": "2022-08-20T09:17:43.312Z"
   },
   {
    "duration": 23,
    "start_time": "2022-08-20T09:17:43.790Z"
   },
   {
    "duration": 76,
    "start_time": "2022-08-20T09:17:43.815Z"
   },
   {
    "duration": 22,
    "start_time": "2022-08-20T09:17:43.893Z"
   },
   {
    "duration": 6,
    "start_time": "2022-08-20T09:17:43.916Z"
   },
   {
    "duration": 3,
    "start_time": "2022-08-20T09:17:43.924Z"
   },
   {
    "duration": 27,
    "start_time": "2022-08-20T09:17:43.928Z"
   },
   {
    "duration": 8,
    "start_time": "2022-08-20T09:17:43.956Z"
   },
   {
    "duration": 106,
    "start_time": "2022-08-20T09:17:43.966Z"
   },
   {
    "duration": 28,
    "start_time": "2022-08-20T09:17:44.074Z"
   },
   {
    "duration": 28,
    "start_time": "2022-08-20T09:17:44.103Z"
   },
   {
    "duration": 7,
    "start_time": "2022-08-20T09:17:44.132Z"
   },
   {
    "duration": 22,
    "start_time": "2022-08-20T09:17:44.141Z"
   },
   {
    "duration": 37,
    "start_time": "2022-08-20T09:17:44.164Z"
   },
   {
    "duration": 17,
    "start_time": "2022-08-20T09:17:44.202Z"
   },
   {
    "duration": 4,
    "start_time": "2022-08-20T09:17:44.221Z"
   },
   {
    "duration": 5,
    "start_time": "2022-08-20T09:17:44.227Z"
   },
   {
    "duration": 261,
    "start_time": "2022-08-20T09:17:44.234Z"
   },
   {
    "duration": 11,
    "start_time": "2022-08-20T09:17:44.497Z"
   },
   {
    "duration": 5,
    "start_time": "2022-08-20T09:17:44.509Z"
   },
   {
    "duration": 17,
    "start_time": "2022-08-20T09:17:44.515Z"
   },
   {
    "duration": 6,
    "start_time": "2022-08-20T09:17:44.534Z"
   },
   {
    "duration": 60,
    "start_time": "2022-08-20T09:17:44.541Z"
   },
   {
    "duration": 21,
    "start_time": "2022-08-20T09:17:44.602Z"
   },
   {
    "duration": 63,
    "start_time": "2022-08-20T09:17:44.624Z"
   },
   {
    "duration": 9,
    "start_time": "2022-08-20T09:17:44.689Z"
   },
   {
    "duration": 6,
    "start_time": "2022-08-20T09:17:44.699Z"
   },
   {
    "duration": 8,
    "start_time": "2022-08-20T09:17:44.706Z"
   },
   {
    "duration": 10,
    "start_time": "2022-08-20T09:17:44.716Z"
   },
   {
    "duration": 460,
    "start_time": "2022-08-20T09:17:44.727Z"
   },
   {
    "duration": 35,
    "start_time": "2022-08-20T09:17:45.188Z"
   },
   {
    "duration": 36,
    "start_time": "2022-08-20T09:17:45.224Z"
   },
   {
    "duration": 62,
    "start_time": "2022-08-20T09:17:45.261Z"
   },
   {
    "duration": 40,
    "start_time": "2022-08-20T09:17:45.325Z"
   },
   {
    "duration": 200,
    "start_time": "2022-08-20T09:17:45.366Z"
   },
   {
    "duration": 0,
    "start_time": "2022-08-20T09:17:45.568Z"
   },
   {
    "duration": 0,
    "start_time": "2022-08-20T09:17:45.569Z"
   },
   {
    "duration": 0,
    "start_time": "2022-08-20T09:17:45.570Z"
   },
   {
    "duration": 0,
    "start_time": "2022-08-20T09:17:45.571Z"
   },
   {
    "duration": 0,
    "start_time": "2022-08-20T09:17:45.572Z"
   },
   {
    "duration": 0,
    "start_time": "2022-08-20T09:17:45.573Z"
   },
   {
    "duration": 0,
    "start_time": "2022-08-20T09:17:45.587Z"
   },
   {
    "duration": 0,
    "start_time": "2022-08-20T09:17:45.588Z"
   },
   {
    "duration": 0,
    "start_time": "2022-08-20T09:17:45.589Z"
   },
   {
    "duration": 0,
    "start_time": "2022-08-20T09:17:45.590Z"
   },
   {
    "duration": 0,
    "start_time": "2022-08-20T09:17:45.592Z"
   },
   {
    "duration": 0,
    "start_time": "2022-08-20T09:17:45.592Z"
   },
   {
    "duration": 0,
    "start_time": "2022-08-20T09:17:45.593Z"
   },
   {
    "duration": 13,
    "start_time": "2022-08-20T09:18:14.964Z"
   },
   {
    "duration": 195,
    "start_time": "2022-08-20T09:21:09.227Z"
   },
   {
    "duration": 3,
    "start_time": "2022-08-20T09:21:43.138Z"
   },
   {
    "duration": 154,
    "start_time": "2022-08-20T09:21:43.143Z"
   },
   {
    "duration": 18,
    "start_time": "2022-08-20T09:21:43.298Z"
   },
   {
    "duration": 43,
    "start_time": "2022-08-20T09:21:43.318Z"
   },
   {
    "duration": 34,
    "start_time": "2022-08-20T09:21:43.363Z"
   },
   {
    "duration": 8,
    "start_time": "2022-08-20T09:21:43.399Z"
   },
   {
    "duration": 5,
    "start_time": "2022-08-20T09:21:43.408Z"
   },
   {
    "duration": 19,
    "start_time": "2022-08-20T09:21:43.414Z"
   },
   {
    "duration": 6,
    "start_time": "2022-08-20T09:21:43.435Z"
   },
   {
    "duration": 81,
    "start_time": "2022-08-20T09:21:43.442Z"
   },
   {
    "duration": 21,
    "start_time": "2022-08-20T09:21:43.525Z"
   },
   {
    "duration": 12,
    "start_time": "2022-08-20T09:21:43.548Z"
   },
   {
    "duration": 29,
    "start_time": "2022-08-20T09:21:43.561Z"
   },
   {
    "duration": 19,
    "start_time": "2022-08-20T09:21:43.591Z"
   },
   {
    "duration": 15,
    "start_time": "2022-08-20T09:21:43.612Z"
   },
   {
    "duration": 16,
    "start_time": "2022-08-20T09:21:43.628Z"
   },
   {
    "duration": 4,
    "start_time": "2022-08-20T09:21:43.646Z"
   },
   {
    "duration": 7,
    "start_time": "2022-08-20T09:21:43.651Z"
   },
   {
    "duration": 173,
    "start_time": "2022-08-20T09:21:45.102Z"
   },
   {
    "duration": 513,
    "start_time": "2022-08-20T09:23:18.069Z"
   },
   {
    "duration": 34,
    "start_time": "2022-08-20T09:23:43.117Z"
   },
   {
    "duration": 15,
    "start_time": "2022-08-20T09:24:26.292Z"
   },
   {
    "duration": 12,
    "start_time": "2022-08-20T09:25:28.509Z"
   },
   {
    "duration": 3,
    "start_time": "2022-08-20T09:25:38.141Z"
   },
   {
    "duration": 161,
    "start_time": "2022-08-20T09:25:38.146Z"
   },
   {
    "duration": 19,
    "start_time": "2022-08-20T09:25:38.308Z"
   },
   {
    "duration": 45,
    "start_time": "2022-08-20T09:25:38.329Z"
   },
   {
    "duration": 25,
    "start_time": "2022-08-20T09:25:38.387Z"
   },
   {
    "duration": 7,
    "start_time": "2022-08-20T09:25:38.414Z"
   },
   {
    "duration": 5,
    "start_time": "2022-08-20T09:25:38.422Z"
   },
   {
    "duration": 18,
    "start_time": "2022-08-20T09:25:38.429Z"
   },
   {
    "duration": 6,
    "start_time": "2022-08-20T09:25:38.449Z"
   },
   {
    "duration": 99,
    "start_time": "2022-08-20T09:25:38.456Z"
   },
   {
    "duration": 21,
    "start_time": "2022-08-20T09:25:38.557Z"
   },
   {
    "duration": 19,
    "start_time": "2022-08-20T09:25:38.579Z"
   },
   {
    "duration": 12,
    "start_time": "2022-08-20T09:25:38.600Z"
   },
   {
    "duration": 20,
    "start_time": "2022-08-20T09:25:38.613Z"
   },
   {
    "duration": 17,
    "start_time": "2022-08-20T09:25:38.634Z"
   },
   {
    "duration": 44,
    "start_time": "2022-08-20T09:25:38.652Z"
   },
   {
    "duration": 4,
    "start_time": "2022-08-20T09:25:38.698Z"
   },
   {
    "duration": 7,
    "start_time": "2022-08-20T09:25:38.703Z"
   },
   {
    "duration": 508,
    "start_time": "2022-08-20T09:25:38.711Z"
   },
   {
    "duration": 10,
    "start_time": "2022-08-20T09:25:39.221Z"
   },
   {
    "duration": 4,
    "start_time": "2022-08-20T09:25:39.233Z"
   },
   {
    "duration": 13,
    "start_time": "2022-08-20T09:25:40.786Z"
   },
   {
    "duration": 8,
    "start_time": "2022-08-20T09:26:13.628Z"
   },
   {
    "duration": 7,
    "start_time": "2022-08-20T09:26:28.937Z"
   },
   {
    "duration": 7,
    "start_time": "2022-08-20T09:26:32.343Z"
   },
   {
    "duration": 10,
    "start_time": "2022-08-20T09:33:54.406Z"
   },
   {
    "duration": 3,
    "start_time": "2022-08-20T09:33:58.229Z"
   },
   {
    "duration": 165,
    "start_time": "2022-08-20T09:33:58.236Z"
   },
   {
    "duration": 17,
    "start_time": "2022-08-20T09:33:58.403Z"
   },
   {
    "duration": 45,
    "start_time": "2022-08-20T09:33:58.422Z"
   },
   {
    "duration": 21,
    "start_time": "2022-08-20T09:33:58.487Z"
   },
   {
    "duration": 6,
    "start_time": "2022-08-20T09:33:58.510Z"
   },
   {
    "duration": 3,
    "start_time": "2022-08-20T09:33:58.518Z"
   },
   {
    "duration": 20,
    "start_time": "2022-08-20T09:33:58.522Z"
   },
   {
    "duration": 8,
    "start_time": "2022-08-20T09:33:58.543Z"
   },
   {
    "duration": 105,
    "start_time": "2022-08-20T09:33:58.553Z"
   },
   {
    "duration": 29,
    "start_time": "2022-08-20T09:33:58.660Z"
   },
   {
    "duration": 11,
    "start_time": "2022-08-20T09:33:58.690Z"
   },
   {
    "duration": 7,
    "start_time": "2022-08-20T09:33:58.703Z"
   },
   {
    "duration": 20,
    "start_time": "2022-08-20T09:33:58.712Z"
   },
   {
    "duration": 16,
    "start_time": "2022-08-20T09:33:58.734Z"
   },
   {
    "duration": 47,
    "start_time": "2022-08-20T09:33:58.751Z"
   },
   {
    "duration": 4,
    "start_time": "2022-08-20T09:33:58.799Z"
   },
   {
    "duration": 11,
    "start_time": "2022-08-20T09:33:58.805Z"
   },
   {
    "duration": 593,
    "start_time": "2022-08-20T09:33:58.817Z"
   },
   {
    "duration": 10,
    "start_time": "2022-08-20T09:33:59.412Z"
   },
   {
    "duration": 4,
    "start_time": "2022-08-20T09:33:59.424Z"
   },
   {
    "duration": 14,
    "start_time": "2022-08-20T09:33:59.430Z"
   },
   {
    "duration": 7,
    "start_time": "2022-08-20T09:33:59.446Z"
   },
   {
    "duration": 61,
    "start_time": "2022-08-20T09:33:59.455Z"
   },
   {
    "duration": 22,
    "start_time": "2022-08-20T09:33:59.518Z"
   },
   {
    "duration": 66,
    "start_time": "2022-08-20T09:33:59.541Z"
   },
   {
    "duration": 8,
    "start_time": "2022-08-20T09:33:59.609Z"
   },
   {
    "duration": 5,
    "start_time": "2022-08-20T09:33:59.618Z"
   },
   {
    "duration": 7,
    "start_time": "2022-08-20T09:33:59.625Z"
   },
   {
    "duration": 11,
    "start_time": "2022-08-20T09:34:01.385Z"
   },
   {
    "duration": 7,
    "start_time": "2022-08-20T09:34:08.334Z"
   },
   {
    "duration": 4,
    "start_time": "2022-08-20T09:38:30.179Z"
   },
   {
    "duration": 51,
    "start_time": "2022-08-20T09:38:34.650Z"
   },
   {
    "duration": 46,
    "start_time": "2022-08-20T09:38:40.904Z"
   },
   {
    "duration": 3,
    "start_time": "2022-08-20T09:39:10.065Z"
   },
   {
    "duration": 49,
    "start_time": "2022-08-20T09:39:15.656Z"
   },
   {
    "duration": 25,
    "start_time": "2022-08-20T09:40:20.494Z"
   },
   {
    "duration": 4,
    "start_time": "2022-08-20T09:40:30.467Z"
   },
   {
    "duration": 167,
    "start_time": "2022-08-20T09:40:30.473Z"
   },
   {
    "duration": 18,
    "start_time": "2022-08-20T09:40:30.641Z"
   },
   {
    "duration": 56,
    "start_time": "2022-08-20T09:40:30.661Z"
   },
   {
    "duration": 21,
    "start_time": "2022-08-20T09:40:30.719Z"
   },
   {
    "duration": 26,
    "start_time": "2022-08-20T09:40:30.742Z"
   },
   {
    "duration": 22,
    "start_time": "2022-08-20T09:40:30.770Z"
   },
   {
    "duration": 32,
    "start_time": "2022-08-20T09:40:30.794Z"
   },
   {
    "duration": 14,
    "start_time": "2022-08-20T09:40:30.828Z"
   },
   {
    "duration": 90,
    "start_time": "2022-08-20T09:40:30.844Z"
   },
   {
    "duration": 23,
    "start_time": "2022-08-20T09:40:30.935Z"
   },
   {
    "duration": 20,
    "start_time": "2022-08-20T09:40:30.960Z"
   },
   {
    "duration": 37,
    "start_time": "2022-08-20T09:40:30.982Z"
   },
   {
    "duration": 29,
    "start_time": "2022-08-20T09:40:31.020Z"
   },
   {
    "duration": 16,
    "start_time": "2022-08-20T09:40:31.051Z"
   },
   {
    "duration": 25,
    "start_time": "2022-08-20T09:40:31.069Z"
   },
   {
    "duration": 5,
    "start_time": "2022-08-20T09:40:31.096Z"
   },
   {
    "duration": 15,
    "start_time": "2022-08-20T09:40:31.103Z"
   },
   {
    "duration": 525,
    "start_time": "2022-08-20T09:40:31.119Z"
   },
   {
    "duration": 11,
    "start_time": "2022-08-20T09:40:31.645Z"
   },
   {
    "duration": 5,
    "start_time": "2022-08-20T09:40:31.658Z"
   },
   {
    "duration": 29,
    "start_time": "2022-08-20T09:40:31.664Z"
   },
   {
    "duration": 20,
    "start_time": "2022-08-20T09:40:31.694Z"
   },
   {
    "duration": 38,
    "start_time": "2022-08-20T09:40:31.717Z"
   },
   {
    "duration": 21,
    "start_time": "2022-08-20T09:40:31.756Z"
   },
   {
    "duration": 49,
    "start_time": "2022-08-20T09:40:31.787Z"
   },
   {
    "duration": 8,
    "start_time": "2022-08-20T09:40:31.837Z"
   },
   {
    "duration": 6,
    "start_time": "2022-08-20T09:40:32.768Z"
   },
   {
    "duration": 11,
    "start_time": "2022-08-20T09:42:03.682Z"
   },
   {
    "duration": 54,
    "start_time": "2022-08-20T09:42:09.363Z"
   },
   {
    "duration": 54,
    "start_time": "2022-08-20T09:42:18.647Z"
   },
   {
    "duration": 63,
    "start_time": "2022-08-20T09:42:24.481Z"
   },
   {
    "duration": 61,
    "start_time": "2022-08-20T09:42:46.409Z"
   },
   {
    "duration": 23,
    "start_time": "2022-08-20T09:43:07.478Z"
   },
   {
    "duration": 8,
    "start_time": "2022-08-20T09:43:19.317Z"
   },
   {
    "duration": 7,
    "start_time": "2022-08-20T09:44:05.920Z"
   },
   {
    "duration": 16,
    "start_time": "2022-08-20T09:44:10.307Z"
   },
   {
    "duration": 27,
    "start_time": "2022-08-20T09:44:25.734Z"
   },
   {
    "duration": 3,
    "start_time": "2022-08-20T09:44:39.009Z"
   },
   {
    "duration": 151,
    "start_time": "2022-08-20T09:44:39.013Z"
   },
   {
    "duration": 18,
    "start_time": "2022-08-20T09:44:39.166Z"
   },
   {
    "duration": 51,
    "start_time": "2022-08-20T09:44:39.186Z"
   },
   {
    "duration": 21,
    "start_time": "2022-08-20T09:44:39.239Z"
   },
   {
    "duration": 26,
    "start_time": "2022-08-20T09:44:39.262Z"
   },
   {
    "duration": 3,
    "start_time": "2022-08-20T09:44:39.290Z"
   },
   {
    "duration": 19,
    "start_time": "2022-08-20T09:44:39.294Z"
   },
   {
    "duration": 6,
    "start_time": "2022-08-20T09:44:39.315Z"
   },
   {
    "duration": 93,
    "start_time": "2022-08-20T09:44:39.323Z"
   },
   {
    "duration": 21,
    "start_time": "2022-08-20T09:44:39.419Z"
   },
   {
    "duration": 12,
    "start_time": "2022-08-20T09:44:39.442Z"
   },
   {
    "duration": 9,
    "start_time": "2022-08-20T09:44:39.455Z"
   },
   {
    "duration": 18,
    "start_time": "2022-08-20T09:44:39.487Z"
   },
   {
    "duration": 20,
    "start_time": "2022-08-20T09:44:39.506Z"
   },
   {
    "duration": 16,
    "start_time": "2022-08-20T09:44:39.528Z"
   },
   {
    "duration": 4,
    "start_time": "2022-08-20T09:44:39.545Z"
   },
   {
    "duration": 10,
    "start_time": "2022-08-20T09:44:39.550Z"
   },
   {
    "duration": 513,
    "start_time": "2022-08-20T09:44:39.586Z"
   },
   {
    "duration": 10,
    "start_time": "2022-08-20T09:44:40.101Z"
   },
   {
    "duration": 8,
    "start_time": "2022-08-20T09:44:40.113Z"
   },
   {
    "duration": 12,
    "start_time": "2022-08-20T09:44:40.123Z"
   },
   {
    "duration": 11,
    "start_time": "2022-08-20T09:44:40.137Z"
   },
   {
    "duration": 55,
    "start_time": "2022-08-20T09:44:40.149Z"
   },
   {
    "duration": 21,
    "start_time": "2022-08-20T09:44:40.206Z"
   },
   {
    "duration": 66,
    "start_time": "2022-08-20T09:44:40.229Z"
   },
   {
    "duration": 14,
    "start_time": "2022-08-20T09:44:40.297Z"
   },
   {
    "duration": 22,
    "start_time": "2022-08-20T09:44:41.894Z"
   },
   {
    "duration": 21,
    "start_time": "2022-08-20T09:44:46.953Z"
   },
   {
    "duration": 19,
    "start_time": "2022-08-20T09:44:54.942Z"
   },
   {
    "duration": 19,
    "start_time": "2022-08-20T09:47:06.743Z"
   },
   {
    "duration": 8,
    "start_time": "2022-08-20T09:47:44.764Z"
   },
   {
    "duration": 5,
    "start_time": "2022-08-20T09:48:36.551Z"
   },
   {
    "duration": 16,
    "start_time": "2022-08-20T09:49:00.982Z"
   },
   {
    "duration": 5,
    "start_time": "2022-08-20T09:49:08.043Z"
   },
   {
    "duration": 170,
    "start_time": "2022-08-20T09:49:08.050Z"
   },
   {
    "duration": 19,
    "start_time": "2022-08-20T09:49:08.221Z"
   },
   {
    "duration": 66,
    "start_time": "2022-08-20T09:49:08.243Z"
   },
   {
    "duration": 25,
    "start_time": "2022-08-20T09:49:08.310Z"
   },
   {
    "duration": 7,
    "start_time": "2022-08-20T09:49:08.337Z"
   },
   {
    "duration": 3,
    "start_time": "2022-08-20T09:49:08.346Z"
   },
   {
    "duration": 41,
    "start_time": "2022-08-20T09:49:08.351Z"
   },
   {
    "duration": 7,
    "start_time": "2022-08-20T09:49:08.395Z"
   },
   {
    "duration": 212,
    "start_time": "2022-08-20T09:49:08.405Z"
   },
   {
    "duration": 22,
    "start_time": "2022-08-20T09:49:08.619Z"
   },
   {
    "duration": 12,
    "start_time": "2022-08-20T09:49:08.643Z"
   },
   {
    "duration": 31,
    "start_time": "2022-08-20T09:49:08.657Z"
   },
   {
    "duration": 20,
    "start_time": "2022-08-20T09:49:08.689Z"
   },
   {
    "duration": 18,
    "start_time": "2022-08-20T09:49:08.710Z"
   },
   {
    "duration": 32,
    "start_time": "2022-08-20T09:49:08.729Z"
   },
   {
    "duration": 6,
    "start_time": "2022-08-20T09:49:08.787Z"
   },
   {
    "duration": 7,
    "start_time": "2022-08-20T09:49:08.795Z"
   },
   {
    "duration": 578,
    "start_time": "2022-08-20T09:49:08.804Z"
   },
   {
    "duration": 13,
    "start_time": "2022-08-20T09:49:09.384Z"
   },
   {
    "duration": 6,
    "start_time": "2022-08-20T09:49:09.398Z"
   },
   {
    "duration": 14,
    "start_time": "2022-08-20T09:49:09.405Z"
   },
   {
    "duration": 10,
    "start_time": "2022-08-20T09:49:09.420Z"
   },
   {
    "duration": 65,
    "start_time": "2022-08-20T09:49:09.433Z"
   },
   {
    "duration": 23,
    "start_time": "2022-08-20T09:49:09.500Z"
   },
   {
    "duration": 78,
    "start_time": "2022-08-20T09:49:09.525Z"
   },
   {
    "duration": 11,
    "start_time": "2022-08-20T09:49:09.604Z"
   },
   {
    "duration": 9,
    "start_time": "2022-08-20T09:49:11.244Z"
   },
   {
    "duration": 9,
    "start_time": "2022-08-20T09:49:16.745Z"
   },
   {
    "duration": 9,
    "start_time": "2022-08-20T09:49:25.949Z"
   },
   {
    "duration": 13,
    "start_time": "2022-08-20T09:49:48.845Z"
   },
   {
    "duration": 10,
    "start_time": "2022-08-20T09:50:02.296Z"
   },
   {
    "duration": 53,
    "start_time": "2022-08-20T09:50:37.482Z"
   },
   {
    "duration": 57,
    "start_time": "2022-08-20T09:50:49.566Z"
   },
   {
    "duration": 47,
    "start_time": "2022-08-20T09:51:25.955Z"
   },
   {
    "duration": 3,
    "start_time": "2022-08-20T09:52:43.238Z"
   },
   {
    "duration": 169,
    "start_time": "2022-08-20T09:52:43.243Z"
   },
   {
    "duration": 18,
    "start_time": "2022-08-20T09:52:43.414Z"
   },
   {
    "duration": 61,
    "start_time": "2022-08-20T09:52:43.434Z"
   },
   {
    "duration": 21,
    "start_time": "2022-08-20T09:52:43.497Z"
   },
   {
    "duration": 6,
    "start_time": "2022-08-20T09:52:43.520Z"
   },
   {
    "duration": 3,
    "start_time": "2022-08-20T09:52:43.528Z"
   },
   {
    "duration": 18,
    "start_time": "2022-08-20T09:52:43.532Z"
   },
   {
    "duration": 8,
    "start_time": "2022-08-20T09:52:43.553Z"
   },
   {
    "duration": 74,
    "start_time": "2022-08-20T09:52:43.587Z"
   },
   {
    "duration": 31,
    "start_time": "2022-08-20T09:52:43.663Z"
   },
   {
    "duration": 13,
    "start_time": "2022-08-20T09:52:43.695Z"
   },
   {
    "duration": 10,
    "start_time": "2022-08-20T09:52:43.709Z"
   },
   {
    "duration": 19,
    "start_time": "2022-08-20T09:52:43.721Z"
   },
   {
    "duration": 47,
    "start_time": "2022-08-20T09:52:43.741Z"
   },
   {
    "duration": 19,
    "start_time": "2022-08-20T09:52:43.789Z"
   },
   {
    "duration": 5,
    "start_time": "2022-08-20T09:52:43.809Z"
   },
   {
    "duration": 7,
    "start_time": "2022-08-20T09:52:43.815Z"
   },
   {
    "duration": 523,
    "start_time": "2022-08-20T09:52:43.823Z"
   },
   {
    "duration": 11,
    "start_time": "2022-08-20T09:52:44.349Z"
   },
   {
    "duration": 5,
    "start_time": "2022-08-20T09:52:44.362Z"
   },
   {
    "duration": 29,
    "start_time": "2022-08-20T09:52:44.369Z"
   },
   {
    "duration": 11,
    "start_time": "2022-08-20T09:52:44.400Z"
   },
   {
    "duration": 35,
    "start_time": "2022-08-20T09:52:44.415Z"
   },
   {
    "duration": 39,
    "start_time": "2022-08-20T09:52:44.451Z"
   },
   {
    "duration": 54,
    "start_time": "2022-08-20T09:52:44.492Z"
   },
   {
    "duration": 11,
    "start_time": "2022-08-20T09:52:44.548Z"
   },
   {
    "duration": 28,
    "start_time": "2022-08-20T09:52:44.561Z"
   },
   {
    "duration": 1000,
    "start_time": "2022-08-20T09:52:44.591Z"
   },
   {
    "duration": 860,
    "start_time": "2022-08-20T09:53:00.828Z"
   },
   {
    "duration": 16,
    "start_time": "2022-08-20T09:54:25.767Z"
   },
   {
    "duration": 13,
    "start_time": "2022-08-20T09:55:48.976Z"
   },
   {
    "duration": 5,
    "start_time": "2022-08-20T09:56:26.031Z"
   },
   {
    "duration": 10,
    "start_time": "2022-08-20T09:56:35.718Z"
   },
   {
    "duration": 15,
    "start_time": "2022-08-20T10:00:51.250Z"
   },
   {
    "duration": 14,
    "start_time": "2022-08-20T10:01:20.179Z"
   },
   {
    "duration": 4,
    "start_time": "2022-08-20T10:12:33.663Z"
   },
   {
    "duration": 15,
    "start_time": "2022-08-20T10:12:49.051Z"
   },
   {
    "duration": 3,
    "start_time": "2022-08-20T10:12:53.664Z"
   },
   {
    "duration": 161,
    "start_time": "2022-08-20T10:12:53.668Z"
   },
   {
    "duration": 19,
    "start_time": "2022-08-20T10:12:53.831Z"
   },
   {
    "duration": 58,
    "start_time": "2022-08-20T10:12:53.852Z"
   },
   {
    "duration": 23,
    "start_time": "2022-08-20T10:12:53.911Z"
   },
   {
    "duration": 15,
    "start_time": "2022-08-20T10:12:53.935Z"
   },
   {
    "duration": 4,
    "start_time": "2022-08-20T10:12:53.951Z"
   },
   {
    "duration": 29,
    "start_time": "2022-08-20T10:12:53.956Z"
   },
   {
    "duration": 7,
    "start_time": "2022-08-20T10:12:53.987Z"
   },
   {
    "duration": 92,
    "start_time": "2022-08-20T10:12:53.995Z"
   },
   {
    "duration": 23,
    "start_time": "2022-08-20T10:12:54.089Z"
   },
   {
    "duration": 13,
    "start_time": "2022-08-20T10:12:54.114Z"
   },
   {
    "duration": 8,
    "start_time": "2022-08-20T10:12:54.128Z"
   },
   {
    "duration": 49,
    "start_time": "2022-08-20T10:12:54.138Z"
   },
   {
    "duration": 16,
    "start_time": "2022-08-20T10:12:54.189Z"
   },
   {
    "duration": 16,
    "start_time": "2022-08-20T10:12:54.207Z"
   },
   {
    "duration": 3,
    "start_time": "2022-08-20T10:12:54.225Z"
   },
   {
    "duration": 30,
    "start_time": "2022-08-20T10:12:54.230Z"
   },
   {
    "duration": 599,
    "start_time": "2022-08-20T10:12:54.261Z"
   },
   {
    "duration": 11,
    "start_time": "2022-08-20T10:12:54.861Z"
   },
   {
    "duration": 13,
    "start_time": "2022-08-20T10:12:54.874Z"
   },
   {
    "duration": 11,
    "start_time": "2022-08-20T10:12:54.889Z"
   },
   {
    "duration": 12,
    "start_time": "2022-08-20T10:12:54.902Z"
   },
   {
    "duration": 44,
    "start_time": "2022-08-20T10:12:54.917Z"
   },
   {
    "duration": 28,
    "start_time": "2022-08-20T10:12:54.962Z"
   },
   {
    "duration": 53,
    "start_time": "2022-08-20T10:12:54.992Z"
   },
   {
    "duration": 10,
    "start_time": "2022-08-20T10:12:55.047Z"
   },
   {
    "duration": 29,
    "start_time": "2022-08-20T10:12:55.059Z"
   },
   {
    "duration": 16,
    "start_time": "2022-08-20T10:12:57.889Z"
   },
   {
    "duration": 4,
    "start_time": "2022-08-20T10:13:03.211Z"
   },
   {
    "duration": 60,
    "start_time": "2022-08-20T10:13:11.794Z"
   },
   {
    "duration": 12,
    "start_time": "2022-08-20T10:14:51.700Z"
   },
   {
    "duration": 13,
    "start_time": "2022-08-20T10:15:15.291Z"
   },
   {
    "duration": 13,
    "start_time": "2022-08-20T10:16:14.019Z"
   },
   {
    "duration": 11,
    "start_time": "2022-08-20T10:16:52.758Z"
   },
   {
    "duration": 12,
    "start_time": "2022-08-20T10:17:18.550Z"
   },
   {
    "duration": 10,
    "start_time": "2022-08-20T10:18:04.925Z"
   },
   {
    "duration": 11,
    "start_time": "2022-08-20T10:18:21.031Z"
   },
   {
    "duration": 12,
    "start_time": "2022-08-20T10:18:53.721Z"
   },
   {
    "duration": 12,
    "start_time": "2022-08-20T10:19:04.928Z"
   },
   {
    "duration": 15,
    "start_time": "2022-08-20T10:19:50.061Z"
   },
   {
    "duration": 92,
    "start_time": "2022-08-20T10:20:37.210Z"
   },
   {
    "duration": 96,
    "start_time": "2022-08-20T10:21:03.294Z"
   },
   {
    "duration": 94,
    "start_time": "2022-08-20T10:21:11.027Z"
   },
   {
    "duration": 84,
    "start_time": "2022-08-20T10:21:48.463Z"
   },
   {
    "duration": 3,
    "start_time": "2022-08-20T10:21:51.703Z"
   },
   {
    "duration": 153,
    "start_time": "2022-08-20T10:21:51.708Z"
   },
   {
    "duration": 25,
    "start_time": "2022-08-20T10:21:51.863Z"
   },
   {
    "duration": 47,
    "start_time": "2022-08-20T10:21:51.890Z"
   },
   {
    "duration": 21,
    "start_time": "2022-08-20T10:21:51.939Z"
   },
   {
    "duration": 8,
    "start_time": "2022-08-20T10:21:51.962Z"
   },
   {
    "duration": 3,
    "start_time": "2022-08-20T10:21:51.987Z"
   },
   {
    "duration": 19,
    "start_time": "2022-08-20T10:21:51.992Z"
   },
   {
    "duration": 7,
    "start_time": "2022-08-20T10:21:52.013Z"
   },
   {
    "duration": 90,
    "start_time": "2022-08-20T10:21:52.022Z"
   },
   {
    "duration": 23,
    "start_time": "2022-08-20T10:21:52.113Z"
   },
   {
    "duration": 13,
    "start_time": "2022-08-20T10:21:52.138Z"
   },
   {
    "duration": 13,
    "start_time": "2022-08-20T10:21:52.153Z"
   },
   {
    "duration": 19,
    "start_time": "2022-08-20T10:21:52.187Z"
   },
   {
    "duration": 16,
    "start_time": "2022-08-20T10:21:52.207Z"
   },
   {
    "duration": 17,
    "start_time": "2022-08-20T10:21:52.225Z"
   },
   {
    "duration": 4,
    "start_time": "2022-08-20T10:21:52.243Z"
   },
   {
    "duration": 5,
    "start_time": "2022-08-20T10:21:52.249Z"
   },
   {
    "duration": 514,
    "start_time": "2022-08-20T10:21:52.255Z"
   },
   {
    "duration": 15,
    "start_time": "2022-08-20T10:21:52.771Z"
   },
   {
    "duration": 4,
    "start_time": "2022-08-20T10:21:52.788Z"
   },
   {
    "duration": 12,
    "start_time": "2022-08-20T10:21:52.794Z"
   },
   {
    "duration": 7,
    "start_time": "2022-08-20T10:21:52.808Z"
   },
   {
    "duration": 33,
    "start_time": "2022-08-20T10:21:52.818Z"
   },
   {
    "duration": 46,
    "start_time": "2022-08-20T10:21:52.853Z"
   },
   {
    "duration": 53,
    "start_time": "2022-08-20T10:21:52.900Z"
   },
   {
    "duration": 10,
    "start_time": "2022-08-20T10:21:52.954Z"
   },
   {
    "duration": 22,
    "start_time": "2022-08-20T10:21:52.966Z"
   },
   {
    "duration": 4,
    "start_time": "2022-08-20T10:21:52.989Z"
   },
   {
    "duration": 11,
    "start_time": "2022-08-20T10:21:52.994Z"
   },
   {
    "duration": 34,
    "start_time": "2022-08-20T10:21:53.007Z"
   },
   {
    "duration": 61,
    "start_time": "2022-08-20T10:21:53.042Z"
   },
   {
    "duration": 36,
    "start_time": "2022-08-20T10:21:53.105Z"
   },
   {
    "duration": 53,
    "start_time": "2022-08-20T10:21:53.143Z"
   },
   {
    "duration": 89,
    "start_time": "2022-08-20T10:21:53.198Z"
   },
   {
    "duration": 90,
    "start_time": "2022-08-20T10:21:55.100Z"
   },
   {
    "duration": 12,
    "start_time": "2022-08-20T10:22:32.998Z"
   },
   {
    "duration": 90,
    "start_time": "2022-08-20T10:22:54.968Z"
   },
   {
    "duration": 3,
    "start_time": "2022-08-20T10:23:00.678Z"
   },
   {
    "duration": 169,
    "start_time": "2022-08-20T10:23:00.683Z"
   },
   {
    "duration": 18,
    "start_time": "2022-08-20T10:23:00.854Z"
   },
   {
    "duration": 81,
    "start_time": "2022-08-20T10:23:00.874Z"
   },
   {
    "duration": 22,
    "start_time": "2022-08-20T10:23:00.957Z"
   },
   {
    "duration": 19,
    "start_time": "2022-08-20T10:23:00.981Z"
   },
   {
    "duration": 8,
    "start_time": "2022-08-20T10:23:01.001Z"
   },
   {
    "duration": 22,
    "start_time": "2022-08-20T10:23:01.011Z"
   },
   {
    "duration": 8,
    "start_time": "2022-08-20T10:23:01.035Z"
   },
   {
    "duration": 104,
    "start_time": "2022-08-20T10:23:01.045Z"
   },
   {
    "duration": 22,
    "start_time": "2022-08-20T10:23:01.152Z"
   },
   {
    "duration": 27,
    "start_time": "2022-08-20T10:23:01.176Z"
   },
   {
    "duration": 16,
    "start_time": "2022-08-20T10:23:01.204Z"
   },
   {
    "duration": 28,
    "start_time": "2022-08-20T10:23:01.221Z"
   },
   {
    "duration": 17,
    "start_time": "2022-08-20T10:23:01.251Z"
   },
   {
    "duration": 21,
    "start_time": "2022-08-20T10:23:01.270Z"
   },
   {
    "duration": 4,
    "start_time": "2022-08-20T10:23:01.292Z"
   },
   {
    "duration": 21,
    "start_time": "2022-08-20T10:23:01.297Z"
   },
   {
    "duration": 498,
    "start_time": "2022-08-20T10:23:01.320Z"
   },
   {
    "duration": 11,
    "start_time": "2022-08-20T10:23:01.819Z"
   },
   {
    "duration": 9,
    "start_time": "2022-08-20T10:23:01.832Z"
   },
   {
    "duration": 24,
    "start_time": "2022-08-20T10:23:01.843Z"
   },
   {
    "duration": 19,
    "start_time": "2022-08-20T10:23:01.868Z"
   },
   {
    "duration": 35,
    "start_time": "2022-08-20T10:23:01.889Z"
   },
   {
    "duration": 21,
    "start_time": "2022-08-20T10:23:01.925Z"
   },
   {
    "duration": 63,
    "start_time": "2022-08-20T10:23:01.948Z"
   },
   {
    "duration": 11,
    "start_time": "2022-08-20T10:23:02.014Z"
   },
   {
    "duration": 18,
    "start_time": "2022-08-20T10:23:02.026Z"
   },
   {
    "duration": 14,
    "start_time": "2022-08-20T10:23:02.047Z"
   },
   {
    "duration": 15,
    "start_time": "2022-08-20T10:23:02.062Z"
   },
   {
    "duration": 57,
    "start_time": "2022-08-20T10:23:02.079Z"
   },
   {
    "duration": 43,
    "start_time": "2022-08-20T10:23:02.138Z"
   },
   {
    "duration": 38,
    "start_time": "2022-08-20T10:23:02.182Z"
   },
   {
    "duration": 38,
    "start_time": "2022-08-20T10:23:02.221Z"
   },
   {
    "duration": 27,
    "start_time": "2022-08-20T10:23:02.260Z"
   },
   {
    "duration": 89,
    "start_time": "2022-08-20T10:23:05.086Z"
   },
   {
    "duration": 62,
    "start_time": "2022-08-20T10:23:17.252Z"
   },
   {
    "duration": 12,
    "start_time": "2022-08-20T10:24:05.676Z"
   },
   {
    "duration": 26,
    "start_time": "2022-08-20T10:24:24.778Z"
   },
   {
    "duration": 13,
    "start_time": "2022-08-20T10:24:40.155Z"
   },
   {
    "duration": 11,
    "start_time": "2022-08-20T10:24:42.124Z"
   },
   {
    "duration": 62,
    "start_time": "2022-08-20T10:24:42.747Z"
   },
   {
    "duration": 12,
    "start_time": "2022-08-20T10:24:46.148Z"
   },
   {
    "duration": 3,
    "start_time": "2022-08-20T10:24:51.525Z"
   },
   {
    "duration": 157,
    "start_time": "2022-08-20T10:24:51.530Z"
   },
   {
    "duration": 18,
    "start_time": "2022-08-20T10:24:51.689Z"
   },
   {
    "duration": 51,
    "start_time": "2022-08-20T10:24:51.709Z"
   },
   {
    "duration": 39,
    "start_time": "2022-08-20T10:24:51.762Z"
   },
   {
    "duration": 9,
    "start_time": "2022-08-20T10:24:51.802Z"
   },
   {
    "duration": 6,
    "start_time": "2022-08-20T10:24:51.812Z"
   },
   {
    "duration": 17,
    "start_time": "2022-08-20T10:24:51.819Z"
   },
   {
    "duration": 9,
    "start_time": "2022-08-20T10:24:51.837Z"
   },
   {
    "duration": 87,
    "start_time": "2022-08-20T10:24:51.848Z"
   },
   {
    "duration": 25,
    "start_time": "2022-08-20T10:24:51.938Z"
   },
   {
    "duration": 26,
    "start_time": "2022-08-20T10:24:51.965Z"
   },
   {
    "duration": 8,
    "start_time": "2022-08-20T10:24:51.993Z"
   },
   {
    "duration": 28,
    "start_time": "2022-08-20T10:24:52.002Z"
   },
   {
    "duration": 18,
    "start_time": "2022-08-20T10:24:52.031Z"
   },
   {
    "duration": 40,
    "start_time": "2022-08-20T10:24:52.051Z"
   },
   {
    "duration": 4,
    "start_time": "2022-08-20T10:24:52.093Z"
   },
   {
    "duration": 6,
    "start_time": "2022-08-20T10:24:52.099Z"
   },
   {
    "duration": 628,
    "start_time": "2022-08-20T10:24:52.107Z"
   },
   {
    "duration": 11,
    "start_time": "2022-08-20T10:24:52.736Z"
   },
   {
    "duration": 5,
    "start_time": "2022-08-20T10:24:52.748Z"
   },
   {
    "duration": 13,
    "start_time": "2022-08-20T10:24:52.754Z"
   },
   {
    "duration": 24,
    "start_time": "2022-08-20T10:24:52.769Z"
   },
   {
    "duration": 39,
    "start_time": "2022-08-20T10:24:52.794Z"
   },
   {
    "duration": 20,
    "start_time": "2022-08-20T10:24:52.834Z"
   },
   {
    "duration": 69,
    "start_time": "2022-08-20T10:24:52.856Z"
   },
   {
    "duration": 10,
    "start_time": "2022-08-20T10:24:52.927Z"
   },
   {
    "duration": 8,
    "start_time": "2022-08-20T10:24:52.938Z"
   },
   {
    "duration": 9,
    "start_time": "2022-08-20T10:24:52.949Z"
   },
   {
    "duration": 30,
    "start_time": "2022-08-20T10:24:52.959Z"
   },
   {
    "duration": 36,
    "start_time": "2022-08-20T10:24:52.990Z"
   },
   {
    "duration": 64,
    "start_time": "2022-08-20T10:24:53.028Z"
   },
   {
    "duration": 48,
    "start_time": "2022-08-20T10:24:53.094Z"
   },
   {
    "duration": 59,
    "start_time": "2022-08-20T10:24:53.143Z"
   },
   {
    "duration": 12,
    "start_time": "2022-08-20T10:24:53.204Z"
   },
   {
    "duration": 97,
    "start_time": "2022-08-20T10:24:59.252Z"
   },
   {
    "duration": 4,
    "start_time": "2022-08-20T10:27:42.871Z"
   },
   {
    "duration": 40,
    "start_time": "2022-08-20T10:28:50.627Z"
   },
   {
    "duration": 4,
    "start_time": "2022-08-20T10:30:44.190Z"
   },
   {
    "duration": 38,
    "start_time": "2022-08-20T10:30:55.043Z"
   },
   {
    "duration": 39,
    "start_time": "2022-08-20T10:31:25.333Z"
   },
   {
    "duration": 3,
    "start_time": "2022-08-20T10:32:21.607Z"
   },
   {
    "duration": 151,
    "start_time": "2022-08-20T10:32:21.611Z"
   },
   {
    "duration": 30,
    "start_time": "2022-08-20T10:32:21.764Z"
   },
   {
    "duration": 74,
    "start_time": "2022-08-20T10:32:21.796Z"
   },
   {
    "duration": 32,
    "start_time": "2022-08-20T10:32:21.871Z"
   },
   {
    "duration": 11,
    "start_time": "2022-08-20T10:32:21.905Z"
   },
   {
    "duration": 7,
    "start_time": "2022-08-20T10:32:21.918Z"
   },
   {
    "duration": 23,
    "start_time": "2022-08-20T10:32:21.927Z"
   },
   {
    "duration": 9,
    "start_time": "2022-08-20T10:32:21.953Z"
   },
   {
    "duration": 96,
    "start_time": "2022-08-20T10:32:21.963Z"
   },
   {
    "duration": 34,
    "start_time": "2022-08-20T10:32:22.061Z"
   },
   {
    "duration": 21,
    "start_time": "2022-08-20T10:32:22.097Z"
   },
   {
    "duration": 12,
    "start_time": "2022-08-20T10:32:22.120Z"
   },
   {
    "duration": 22,
    "start_time": "2022-08-20T10:32:22.134Z"
   },
   {
    "duration": 17,
    "start_time": "2022-08-20T10:32:22.158Z"
   },
   {
    "duration": 25,
    "start_time": "2022-08-20T10:32:22.177Z"
   },
   {
    "duration": 5,
    "start_time": "2022-08-20T10:32:22.204Z"
   },
   {
    "duration": 10,
    "start_time": "2022-08-20T10:32:22.210Z"
   },
   {
    "duration": 516,
    "start_time": "2022-08-20T10:32:22.221Z"
   },
   {
    "duration": 10,
    "start_time": "2022-08-20T10:32:22.739Z"
   },
   {
    "duration": 5,
    "start_time": "2022-08-20T10:32:22.750Z"
   },
   {
    "duration": 31,
    "start_time": "2022-08-20T10:32:22.757Z"
   },
   {
    "duration": 7,
    "start_time": "2022-08-20T10:32:22.789Z"
   },
   {
    "duration": 54,
    "start_time": "2022-08-20T10:32:22.799Z"
   },
   {
    "duration": 21,
    "start_time": "2022-08-20T10:32:22.855Z"
   },
   {
    "duration": 59,
    "start_time": "2022-08-20T10:32:22.877Z"
   },
   {
    "duration": 13,
    "start_time": "2022-08-20T10:32:22.938Z"
   },
   {
    "duration": 8,
    "start_time": "2022-08-20T10:32:22.953Z"
   },
   {
    "duration": 7,
    "start_time": "2022-08-20T10:32:22.963Z"
   },
   {
    "duration": 42,
    "start_time": "2022-08-20T10:32:22.971Z"
   },
   {
    "duration": 38,
    "start_time": "2022-08-20T10:32:23.014Z"
   },
   {
    "duration": 93,
    "start_time": "2022-08-20T10:32:23.054Z"
   },
   {
    "duration": 83,
    "start_time": "2022-08-20T10:32:23.149Z"
   },
   {
    "duration": 99,
    "start_time": "2022-08-20T10:32:23.234Z"
   },
   {
    "duration": 109,
    "start_time": "2022-08-20T10:32:23.334Z"
   },
   {
    "duration": 4,
    "start_time": "2022-08-20T10:32:23.445Z"
   },
   {
    "duration": 5,
    "start_time": "2022-08-20T10:32:23.451Z"
   },
   {
    "duration": 795,
    "start_time": "2022-08-20T10:34:06.066Z"
   },
   {
    "duration": 35,
    "start_time": "2022-08-20T10:34:43.504Z"
   },
   {
    "duration": 37,
    "start_time": "2022-08-20T10:34:55.737Z"
   },
   {
    "duration": 38,
    "start_time": "2022-08-20T10:35:09.239Z"
   },
   {
    "duration": 43,
    "start_time": "2022-08-20T10:35:18.724Z"
   },
   {
    "duration": 2,
    "start_time": "2022-08-20T10:35:25.387Z"
   },
   {
    "duration": 11,
    "start_time": "2022-08-20T10:35:25.996Z"
   },
   {
    "duration": 9,
    "start_time": "2022-08-20T10:35:26.813Z"
   },
   {
    "duration": 8,
    "start_time": "2022-08-20T10:35:27.326Z"
   },
   {
    "duration": 10,
    "start_time": "2022-08-20T10:35:27.854Z"
   },
   {
    "duration": 4,
    "start_time": "2022-08-20T10:36:39.727Z"
   },
   {
    "duration": 157,
    "start_time": "2022-08-20T10:36:39.733Z"
   },
   {
    "duration": 17,
    "start_time": "2022-08-20T10:36:39.892Z"
   },
   {
    "duration": 44,
    "start_time": "2022-08-20T10:36:39.911Z"
   },
   {
    "duration": 39,
    "start_time": "2022-08-20T10:36:39.956Z"
   },
   {
    "duration": 9,
    "start_time": "2022-08-20T10:36:39.996Z"
   },
   {
    "duration": 4,
    "start_time": "2022-08-20T10:36:40.006Z"
   },
   {
    "duration": 20,
    "start_time": "2022-08-20T10:36:40.011Z"
   },
   {
    "duration": 6,
    "start_time": "2022-08-20T10:36:40.032Z"
   },
   {
    "duration": 89,
    "start_time": "2022-08-20T10:36:40.041Z"
   },
   {
    "duration": 26,
    "start_time": "2022-08-20T10:36:40.132Z"
   },
   {
    "duration": 12,
    "start_time": "2022-08-20T10:36:40.159Z"
   },
   {
    "duration": 20,
    "start_time": "2022-08-20T10:36:40.172Z"
   },
   {
    "duration": 19,
    "start_time": "2022-08-20T10:36:40.193Z"
   },
   {
    "duration": 22,
    "start_time": "2022-08-20T10:36:40.214Z"
   },
   {
    "duration": 18,
    "start_time": "2022-08-20T10:36:40.238Z"
   },
   {
    "duration": 5,
    "start_time": "2022-08-20T10:36:40.287Z"
   },
   {
    "duration": 5,
    "start_time": "2022-08-20T10:36:40.293Z"
   },
   {
    "duration": 631,
    "start_time": "2022-08-20T10:36:40.300Z"
   },
   {
    "duration": 12,
    "start_time": "2022-08-20T10:36:40.932Z"
   },
   {
    "duration": 5,
    "start_time": "2022-08-20T10:36:40.945Z"
   },
   {
    "duration": 13,
    "start_time": "2022-08-20T10:36:40.951Z"
   },
   {
    "duration": 22,
    "start_time": "2022-08-20T10:36:40.966Z"
   },
   {
    "duration": 41,
    "start_time": "2022-08-20T10:36:40.989Z"
   },
   {
    "duration": 22,
    "start_time": "2022-08-20T10:36:41.031Z"
   },
   {
    "duration": 74,
    "start_time": "2022-08-20T10:36:41.054Z"
   },
   {
    "duration": 11,
    "start_time": "2022-08-20T10:36:41.130Z"
   },
   {
    "duration": 8,
    "start_time": "2022-08-20T10:36:41.144Z"
   },
   {
    "duration": 8,
    "start_time": "2022-08-20T10:36:41.154Z"
   },
   {
    "duration": 59,
    "start_time": "2022-08-20T10:36:41.164Z"
   },
   {
    "duration": 38,
    "start_time": "2022-08-20T10:36:41.224Z"
   },
   {
    "duration": 68,
    "start_time": "2022-08-20T10:36:41.263Z"
   },
   {
    "duration": 67,
    "start_time": "2022-08-20T10:36:41.332Z"
   },
   {
    "duration": 57,
    "start_time": "2022-08-20T10:36:41.401Z"
   },
   {
    "duration": 117,
    "start_time": "2022-08-20T10:36:41.459Z"
   },
   {
    "duration": 9,
    "start_time": "2022-08-20T10:36:41.578Z"
   },
   {
    "duration": 6,
    "start_time": "2022-08-20T10:36:41.589Z"
   },
   {
    "duration": 50,
    "start_time": "2022-08-20T10:36:41.596Z"
   },
   {
    "duration": 2,
    "start_time": "2022-08-20T10:36:41.648Z"
   },
   {
    "duration": 18,
    "start_time": "2022-08-20T10:36:41.652Z"
   },
   {
    "duration": 21,
    "start_time": "2022-08-20T10:36:41.671Z"
   },
   {
    "duration": 9,
    "start_time": "2022-08-20T10:36:41.693Z"
   },
   {
    "duration": 25,
    "start_time": "2022-08-20T10:36:41.703Z"
   },
   {
    "duration": 10,
    "start_time": "2022-08-20T10:36:41.729Z"
   },
   {
    "duration": 22,
    "start_time": "2022-08-20T10:36:41.741Z"
   },
   {
    "duration": 13,
    "start_time": "2022-08-20T10:36:41.764Z"
   },
   {
    "duration": 18,
    "start_time": "2022-08-20T10:36:41.778Z"
   },
   {
    "duration": 12,
    "start_time": "2022-08-20T10:36:41.797Z"
   },
   {
    "duration": 4,
    "start_time": "2022-08-20T10:37:09.316Z"
   },
   {
    "duration": 9,
    "start_time": "2022-08-20T10:37:10.249Z"
   },
   {
    "duration": 10,
    "start_time": "2022-08-20T10:37:10.769Z"
   },
   {
    "duration": 8,
    "start_time": "2022-08-20T10:37:11.378Z"
   },
   {
    "duration": 9,
    "start_time": "2022-08-20T10:37:12.724Z"
   },
   {
    "duration": 1180,
    "start_time": "2022-11-05T15:47:55.913Z"
   },
   {
    "duration": 461,
    "start_time": "2022-11-05T15:47:57.094Z"
   },
   {
    "duration": 21,
    "start_time": "2022-11-05T15:47:57.557Z"
   },
   {
    "duration": 63,
    "start_time": "2022-11-05T15:47:57.580Z"
   },
   {
    "duration": 22,
    "start_time": "2022-11-05T15:47:57.646Z"
   },
   {
    "duration": 22,
    "start_time": "2022-11-05T15:47:57.669Z"
   },
   {
    "duration": 11,
    "start_time": "2022-11-05T15:47:57.692Z"
   },
   {
    "duration": 27,
    "start_time": "2022-11-05T15:47:57.704Z"
   },
   {
    "duration": 14,
    "start_time": "2022-11-05T15:47:57.732Z"
   },
   {
    "duration": 94,
    "start_time": "2022-11-05T15:47:57.747Z"
   },
   {
    "duration": 25,
    "start_time": "2022-11-05T15:47:57.842Z"
   },
   {
    "duration": 21,
    "start_time": "2022-11-05T15:47:57.868Z"
   },
   {
    "duration": 8,
    "start_time": "2022-11-05T15:47:57.890Z"
   },
   {
    "duration": 26,
    "start_time": "2022-11-05T15:47:57.910Z"
   },
   {
    "duration": 17,
    "start_time": "2022-11-05T15:47:57.938Z"
   },
   {
    "duration": 18,
    "start_time": "2022-11-05T15:47:57.957Z"
   },
   {
    "duration": 13,
    "start_time": "2022-11-05T15:47:57.976Z"
   },
   {
    "duration": 14,
    "start_time": "2022-11-05T15:47:57.990Z"
   },
   {
    "duration": 574,
    "start_time": "2022-11-05T15:47:58.009Z"
   },
   {
    "duration": 12,
    "start_time": "2022-11-05T15:47:58.584Z"
   },
   {
    "duration": 13,
    "start_time": "2022-11-05T15:47:58.597Z"
   },
   {
    "duration": 37,
    "start_time": "2022-11-05T15:47:58.611Z"
   },
   {
    "duration": 25,
    "start_time": "2022-11-05T15:47:58.649Z"
   },
   {
    "duration": 48,
    "start_time": "2022-11-05T15:47:58.676Z"
   },
   {
    "duration": 25,
    "start_time": "2022-11-05T15:47:58.725Z"
   },
   {
    "duration": 77,
    "start_time": "2022-11-05T15:47:58.751Z"
   },
   {
    "duration": 11,
    "start_time": "2022-11-05T15:47:58.830Z"
   },
   {
    "duration": 29,
    "start_time": "2022-11-05T15:47:58.842Z"
   },
   {
    "duration": 15,
    "start_time": "2022-11-05T15:47:58.872Z"
   },
   {
    "duration": 447,
    "start_time": "2022-11-05T15:47:58.888Z"
   },
   {
    "duration": 39,
    "start_time": "2022-11-05T15:47:59.336Z"
   },
   {
    "duration": 55,
    "start_time": "2022-11-05T15:47:59.409Z"
   },
   {
    "duration": 54,
    "start_time": "2022-11-05T15:47:59.509Z"
   },
   {
    "duration": 69,
    "start_time": "2022-11-05T15:47:59.565Z"
   },
   {
    "duration": 105,
    "start_time": "2022-11-05T15:47:59.636Z"
   },
   {
    "duration": 4,
    "start_time": "2022-11-05T15:47:59.743Z"
   },
   {
    "duration": 23,
    "start_time": "2022-11-05T15:47:59.749Z"
   },
   {
    "duration": 51,
    "start_time": "2022-11-05T15:48:04.824Z"
   },
   {
    "duration": 4,
    "start_time": "2022-11-05T15:48:13.595Z"
   },
   {
    "duration": 4,
    "start_time": "2022-11-05T15:51:07.585Z"
   },
   {
    "duration": 6,
    "start_time": "2022-11-05T16:15:41.843Z"
   },
   {
    "duration": 1103,
    "start_time": "2022-11-11T10:24:18.873Z"
   },
   {
    "duration": 504,
    "start_time": "2022-11-11T10:24:19.978Z"
   },
   {
    "duration": 19,
    "start_time": "2022-11-11T10:24:20.484Z"
   },
   {
    "duration": 61,
    "start_time": "2022-11-11T10:24:20.505Z"
   },
   {
    "duration": 28,
    "start_time": "2022-11-11T10:24:20.568Z"
   },
   {
    "duration": 33,
    "start_time": "2022-11-11T10:24:20.597Z"
   },
   {
    "duration": 15,
    "start_time": "2022-11-11T10:24:20.632Z"
   },
   {
    "duration": 28,
    "start_time": "2022-11-11T10:24:20.649Z"
   },
   {
    "duration": 8,
    "start_time": "2022-11-11T10:24:20.678Z"
   },
   {
    "duration": 87,
    "start_time": "2022-11-11T10:24:20.689Z"
   },
   {
    "duration": 26,
    "start_time": "2022-11-11T10:24:20.778Z"
   },
   {
    "duration": 15,
    "start_time": "2022-11-11T10:24:20.806Z"
   },
   {
    "duration": 12,
    "start_time": "2022-11-11T10:24:20.829Z"
   },
   {
    "duration": 27,
    "start_time": "2022-11-11T10:24:20.842Z"
   },
   {
    "duration": 16,
    "start_time": "2022-11-11T10:24:20.870Z"
   },
   {
    "duration": 15,
    "start_time": "2022-11-11T10:24:20.887Z"
   },
   {
    "duration": 4,
    "start_time": "2022-11-11T10:24:20.904Z"
   },
   {
    "duration": 21,
    "start_time": "2022-11-11T10:24:20.909Z"
   },
   {
    "duration": 556,
    "start_time": "2022-11-11T10:24:20.931Z"
   },
   {
    "duration": 10,
    "start_time": "2022-11-11T10:24:21.489Z"
   },
   {
    "duration": 4,
    "start_time": "2022-11-11T10:24:21.501Z"
   },
   {
    "duration": 31,
    "start_time": "2022-11-11T10:24:21.506Z"
   },
   {
    "duration": 9,
    "start_time": "2022-11-11T10:24:21.539Z"
   },
   {
    "duration": 38,
    "start_time": "2022-11-11T10:24:21.549Z"
   },
   {
    "duration": 42,
    "start_time": "2022-11-11T10:24:21.588Z"
   },
   {
    "duration": 50,
    "start_time": "2022-11-11T10:24:21.632Z"
   },
   {
    "duration": 11,
    "start_time": "2022-11-11T10:24:21.683Z"
   },
   {
    "duration": 11,
    "start_time": "2022-11-11T10:24:21.696Z"
   },
   {
    "duration": 22,
    "start_time": "2022-11-11T10:24:21.708Z"
   },
   {
    "duration": 401,
    "start_time": "2022-11-11T10:24:23.669Z"
   },
   {
    "duration": 12,
    "start_time": "2022-11-11T10:30:28.852Z"
   },
   {
    "duration": 216,
    "start_time": "2022-11-11T10:32:00.252Z"
   },
   {
    "duration": 3,
    "start_time": "2022-11-11T10:33:10.084Z"
   },
   {
    "duration": 40,
    "start_time": "2022-11-11T10:33:16.393Z"
   },
   {
    "duration": 91,
    "start_time": "2022-11-11T10:33:20.639Z"
   }
  ],
  "kernelspec": {
   "display_name": "Python 3 (ipykernel)",
   "language": "python",
   "name": "python3"
  },
  "language_info": {
   "codemirror_mode": {
    "name": "ipython",
    "version": 3
   },
   "file_extension": ".py",
   "mimetype": "text/x-python",
   "name": "python",
   "nbconvert_exporter": "python",
   "pygments_lexer": "ipython3",
   "version": "3.9.5"
  },
  "toc": {
   "base_numbering": 1,
   "nav_menu": {},
   "number_sections": true,
   "sideBar": true,
   "skip_h1_title": true,
   "title_cell": "Table of Contents",
   "title_sidebar": "Contents",
   "toc_cell": false,
   "toc_position": {},
   "toc_section_display": true,
   "toc_window_display": true
  }
 },
 "nbformat": 4,
 "nbformat_minor": 2
}
