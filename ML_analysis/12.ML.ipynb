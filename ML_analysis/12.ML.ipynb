{
 "cells": [
  {
   "cell_type": "markdown",
   "metadata": {},
   "source": [
    "# Исследование оттока клиентов"
   ]
  },
  {
   "cell_type": "markdown",
   "metadata": {},
   "source": [
    "**Описание исследования**\n",
    "\n",
    "Заказчик -  сеть фитнес-центров «Культурист-датасаентист».\n",
    "\n",
    "**Цель исследования** - разработать стратегию взаимодействия с клиентами: сделать прогноз вероятности оттока клиентов, сформировать типичные портреты клиентов, проанализировать полученную информацию, дать рекомендации. \n",
    "\n",
    "**Описание данных**\n",
    "\n",
    "Входные данные - csv-файл, который содержит данные на месяц до оттока и факт оттока на определённый месяц.\n",
    "\n",
    "Таблица gym_churn.csv содержит следующие поля:\n",
    "1. gender — пол;\n",
    "2. Near_Location — проживание или работа в районе, где находится фитнес-центр;\n",
    "3. Partner — сотрудник компании-партнёра клуба (сотрудничество с компаниями, чьи сотрудники могут получать скидки на абонемент — в таком случае фитнес-центр хранит информацию о работодателе клиента);\n",
    "4. Promo_friends — факт первоначальной записи в рамках акции «приведи друга» (использовал промо-код от знакомого при оплате первого абонемента);\n",
    "5. Phone — наличие контактного телефона;\n",
    "6. Age — возраст;\n",
    "7. Lifetime — время с момента первого обращения в фитнес-центр (в месяцах).\n",
    "8. Contract_period — длительность текущего действующего абонемента (месяц, 6 месяцев, год);\n",
    "9. Month_to_end_contract — срок до окончания текущего действующего абонемента (в месяцах);\n",
    "10. Group_visits — факт посещения групповых занятий;\n",
    "11. Avg_class_frequency_total — средняя частота посещений в неделю за все время с начала действия абонемента;\n",
    "12. Avg_class_frequency_current_month — средняя частота посещений в неделю за предыдущий месяц;\n",
    "13. Avg_additional_charges_total — суммарная выручка от других услуг фитнес-центра: кафе, спорттовары, косметический и массажный салон.\n",
    "14. Churn — факт оттока в текущем месяце.\n",
    "\n",
    "\n",
    "**Ход исследования**\n",
    " \n",
    "Перед тем, как разработать стратегию взаимодействия с клиентами, необходимо провести обзор данных, их предобработку, разведочный анализ данных, построение модели прогнозирования и кластеризацию клиентов.\n",
    " \n",
    "Таким образом, исследование пройдёт в шесть этапов:\n",
    " 1. Обзор данных.\n",
    " 2. Предобработка данных.\n",
    " 3. Разведочный анализ данных (EDA).\n",
    " 4. Построение модели прогнозирования.\n",
    " 5. Кластеризация клиентов.\n",
    " 6. Общий вывод"
   ]
  },
  {
   "cell_type": "markdown",
   "metadata": {},
   "source": [
    "## Обзор данных"
   ]
  },
  {
   "cell_type": "code",
   "execution_count": 3,
   "metadata": {},
   "outputs": [],
   "source": [
    "# Импортируем необходимые библиотеки\n",
    "import warnings\n",
    "warnings.filterwarnings('ignore')\n",
    "import pandas as pd\n",
    "import matplotlib.pyplot as plt\n",
    "import seaborn as sns\n",
    "import numpy as np\n",
    "\n",
    "from sklearn.model_selection import train_test_split\n",
    "from sklearn.linear_model import LogisticRegression\n",
    "from sklearn.ensemble import RandomForestClassifier\n",
    "from sklearn.preprocessing import StandardScaler\n",
    "from sklearn.metrics import accuracy_score, precision_score, recall_score\n",
    "from sklearn.cluster import KMeans\n",
    "from scipy.cluster.hierarchy import dendrogram, linkage "
   ]
  },
  {
   "cell_type": "code",
   "execution_count": 4,
   "metadata": {},
   "outputs": [],
   "source": [
    "# Откроем датасет\n",
    "data = pd.read_csv('/datasets/gym_churn.csv')"
   ]
  },
  {
   "cell_type": "code",
   "execution_count": 5,
   "metadata": {},
   "outputs": [
    {
     "name": "stdout",
     "output_type": "stream",
     "text": [
      "<class 'pandas.core.frame.DataFrame'>\n",
      "RangeIndex: 4000 entries, 0 to 3999\n",
      "Data columns (total 14 columns):\n",
      " #   Column                             Non-Null Count  Dtype  \n",
      "---  ------                             --------------  -----  \n",
      " 0   gender                             4000 non-null   int64  \n",
      " 1   Near_Location                      4000 non-null   int64  \n",
      " 2   Partner                            4000 non-null   int64  \n",
      " 3   Promo_friends                      4000 non-null   int64  \n",
      " 4   Phone                              4000 non-null   int64  \n",
      " 5   Contract_period                    4000 non-null   int64  \n",
      " 6   Group_visits                       4000 non-null   int64  \n",
      " 7   Age                                4000 non-null   int64  \n",
      " 8   Avg_additional_charges_total       4000 non-null   float64\n",
      " 9   Month_to_end_contract              4000 non-null   float64\n",
      " 10  Lifetime                           4000 non-null   int64  \n",
      " 11  Avg_class_frequency_total          4000 non-null   float64\n",
      " 12  Avg_class_frequency_current_month  4000 non-null   float64\n",
      " 13  Churn                              4000 non-null   int64  \n",
      "dtypes: float64(4), int64(10)\n",
      "memory usage: 437.6 KB\n"
     ]
    }
   ],
   "source": [
    "# Получим общую информацию о данных\n",
    "data.info()"
   ]
  },
  {
   "cell_type": "code",
   "execution_count": 6,
   "metadata": {},
   "outputs": [
    {
     "data": {
      "text/plain": [
       "0"
      ]
     },
     "execution_count": 6,
     "metadata": {},
     "output_type": "execute_result"
    }
   ],
   "source": [
    "# Проверим датасет на наличие дубликатов\n",
    "data.duplicated().sum()"
   ]
  },
  {
   "cell_type": "markdown",
   "metadata": {},
   "source": [
    "**Вывод:**\n",
    "\n",
    "- Всего в таблице: 13 столбцов и 4000 строк\n",
    "- Пропуски в таблице не найдены\n",
    "- Дубликаты в таблице не найдены\n",
    "- В столбце Month_to_end_contract можно изменить тип данных с float на int\n",
    "- Названия столбцов необходимо привести к одному виду"
   ]
  },
  {
   "cell_type": "markdown",
   "metadata": {},
   "source": [
    "## Предобработка данных"
   ]
  },
  {
   "cell_type": "code",
   "execution_count": 7,
   "metadata": {},
   "outputs": [],
   "source": [
    "# Изменим тип данных в столбце Month_to_end_contract с float на int\n",
    "data['Month_to_end_contract'] = data['Month_to_end_contract'].astype('int')"
   ]
  },
  {
   "cell_type": "code",
   "execution_count": 8,
   "metadata": {},
   "outputs": [],
   "source": [
    "# Приведем названия столбцов к одному виду\n",
    "data.columns = data.columns.str.lower()"
   ]
  },
  {
   "cell_type": "code",
   "execution_count": 9,
   "metadata": {},
   "outputs": [
    {
     "name": "stdout",
     "output_type": "stream",
     "text": [
      "<class 'pandas.core.frame.DataFrame'>\n",
      "RangeIndex: 4000 entries, 0 to 3999\n",
      "Data columns (total 14 columns):\n",
      " #   Column                             Non-Null Count  Dtype  \n",
      "---  ------                             --------------  -----  \n",
      " 0   gender                             4000 non-null   int64  \n",
      " 1   near_location                      4000 non-null   int64  \n",
      " 2   partner                            4000 non-null   int64  \n",
      " 3   promo_friends                      4000 non-null   int64  \n",
      " 4   phone                              4000 non-null   int64  \n",
      " 5   contract_period                    4000 non-null   int64  \n",
      " 6   group_visits                       4000 non-null   int64  \n",
      " 7   age                                4000 non-null   int64  \n",
      " 8   avg_additional_charges_total       4000 non-null   float64\n",
      " 9   month_to_end_contract              4000 non-null   int64  \n",
      " 10  lifetime                           4000 non-null   int64  \n",
      " 11  avg_class_frequency_total          4000 non-null   float64\n",
      " 12  avg_class_frequency_current_month  4000 non-null   float64\n",
      " 13  churn                              4000 non-null   int64  \n",
      "dtypes: float64(3), int64(11)\n",
      "memory usage: 437.6 KB\n"
     ]
    }
   ],
   "source": [
    "# Проверим\n",
    "data.info()"
   ]
  },
  {
   "cell_type": "markdown",
   "metadata": {},
   "source": [
    "**Вывод:**\n",
    "\n",
    "- В столбце month_to_end_contract тип данных был изменен на int\n",
    "- Все названия столбцов таблицы были приведены к одному виду"
   ]
  },
  {
   "cell_type": "markdown",
   "metadata": {},
   "source": [
    "## Разведочный анализ данных (EDA)"
   ]
  },
  {
   "cell_type": "code",
   "execution_count": 10,
   "metadata": {},
   "outputs": [
    {
     "data": {
      "text/html": [
       "<div>\n",
       "<style scoped>\n",
       "    .dataframe tbody tr th:only-of-type {\n",
       "        vertical-align: middle;\n",
       "    }\n",
       "\n",
       "    .dataframe tbody tr th {\n",
       "        vertical-align: top;\n",
       "    }\n",
       "\n",
       "    .dataframe thead th {\n",
       "        text-align: right;\n",
       "    }\n",
       "</style>\n",
       "<table border=\"1\" class=\"dataframe\">\n",
       "  <thead>\n",
       "    <tr style=\"text-align: right;\">\n",
       "      <th></th>\n",
       "      <th>contract_period</th>\n",
       "      <th>avg_additional_charges_total</th>\n",
       "      <th>month_to_end_contract</th>\n",
       "      <th>lifetime</th>\n",
       "      <th>avg_class_frequency_total</th>\n",
       "      <th>avg_class_frequency_current_month</th>\n",
       "    </tr>\n",
       "  </thead>\n",
       "  <tbody>\n",
       "    <tr>\n",
       "      <th>count</th>\n",
       "      <td>4000.000000</td>\n",
       "      <td>4000.000000</td>\n",
       "      <td>4000.000000</td>\n",
       "      <td>4000.000000</td>\n",
       "      <td>4000.000000</td>\n",
       "      <td>4000.000000</td>\n",
       "    </tr>\n",
       "    <tr>\n",
       "      <th>mean</th>\n",
       "      <td>4.681250</td>\n",
       "      <td>146.943728</td>\n",
       "      <td>4.322750</td>\n",
       "      <td>3.724750</td>\n",
       "      <td>1.879020</td>\n",
       "      <td>1.767052</td>\n",
       "    </tr>\n",
       "    <tr>\n",
       "      <th>std</th>\n",
       "      <td>4.549706</td>\n",
       "      <td>96.355602</td>\n",
       "      <td>4.191297</td>\n",
       "      <td>3.749267</td>\n",
       "      <td>0.972245</td>\n",
       "      <td>1.052906</td>\n",
       "    </tr>\n",
       "    <tr>\n",
       "      <th>min</th>\n",
       "      <td>1.000000</td>\n",
       "      <td>0.148205</td>\n",
       "      <td>1.000000</td>\n",
       "      <td>0.000000</td>\n",
       "      <td>0.000000</td>\n",
       "      <td>0.000000</td>\n",
       "    </tr>\n",
       "    <tr>\n",
       "      <th>25%</th>\n",
       "      <td>1.000000</td>\n",
       "      <td>68.868830</td>\n",
       "      <td>1.000000</td>\n",
       "      <td>1.000000</td>\n",
       "      <td>1.180875</td>\n",
       "      <td>0.963003</td>\n",
       "    </tr>\n",
       "    <tr>\n",
       "      <th>50%</th>\n",
       "      <td>1.000000</td>\n",
       "      <td>136.220159</td>\n",
       "      <td>1.000000</td>\n",
       "      <td>3.000000</td>\n",
       "      <td>1.832768</td>\n",
       "      <td>1.719574</td>\n",
       "    </tr>\n",
       "    <tr>\n",
       "      <th>75%</th>\n",
       "      <td>6.000000</td>\n",
       "      <td>210.949625</td>\n",
       "      <td>6.000000</td>\n",
       "      <td>5.000000</td>\n",
       "      <td>2.536078</td>\n",
       "      <td>2.510336</td>\n",
       "    </tr>\n",
       "    <tr>\n",
       "      <th>max</th>\n",
       "      <td>12.000000</td>\n",
       "      <td>552.590740</td>\n",
       "      <td>12.000000</td>\n",
       "      <td>31.000000</td>\n",
       "      <td>6.023668</td>\n",
       "      <td>6.146783</td>\n",
       "    </tr>\n",
       "  </tbody>\n",
       "</table>\n",
       "</div>"
      ],
      "text/plain": [
       "       contract_period  avg_additional_charges_total  month_to_end_contract  \\\n",
       "count      4000.000000                   4000.000000            4000.000000   \n",
       "mean          4.681250                    146.943728               4.322750   \n",
       "std           4.549706                     96.355602               4.191297   \n",
       "min           1.000000                      0.148205               1.000000   \n",
       "25%           1.000000                     68.868830               1.000000   \n",
       "50%           1.000000                    136.220159               1.000000   \n",
       "75%           6.000000                    210.949625               6.000000   \n",
       "max          12.000000                    552.590740              12.000000   \n",
       "\n",
       "          lifetime  avg_class_frequency_total  \\\n",
       "count  4000.000000                4000.000000   \n",
       "mean      3.724750                   1.879020   \n",
       "std       3.749267                   0.972245   \n",
       "min       0.000000                   0.000000   \n",
       "25%       1.000000                   1.180875   \n",
       "50%       3.000000                   1.832768   \n",
       "75%       5.000000                   2.536078   \n",
       "max      31.000000                   6.023668   \n",
       "\n",
       "       avg_class_frequency_current_month  \n",
       "count                        4000.000000  \n",
       "mean                            1.767052  \n",
       "std                             1.052906  \n",
       "min                             0.000000  \n",
       "25%                             0.963003  \n",
       "50%                             1.719574  \n",
       "75%                             2.510336  \n",
       "max                             6.146783  "
      ]
     },
     "execution_count": 10,
     "metadata": {},
     "output_type": "execute_result"
    }
   ],
   "source": [
    "# Посмотрим описательные статистики для столбцов с числовыми данными\n",
    "data[['contract_period', 'avg_additional_charges_total', 'month_to_end_contract', 'lifetime', 'avg_class_frequency_total', 'avg_class_frequency_current_month']].describe()"
   ]
  },
  {
   "cell_type": "code",
   "execution_count": 11,
   "metadata": {},
   "outputs": [
    {
     "data": {
      "text/html": [
       "<div>\n",
       "<style scoped>\n",
       "    .dataframe tbody tr th:only-of-type {\n",
       "        vertical-align: middle;\n",
       "    }\n",
       "\n",
       "    .dataframe tbody tr th {\n",
       "        vertical-align: top;\n",
       "    }\n",
       "\n",
       "    .dataframe thead th {\n",
       "        text-align: right;\n",
       "    }\n",
       "</style>\n",
       "<table border=\"1\" class=\"dataframe\">\n",
       "  <thead>\n",
       "    <tr style=\"text-align: right;\">\n",
       "      <th></th>\n",
       "      <th>gender</th>\n",
       "      <th>near_location</th>\n",
       "      <th>partner</th>\n",
       "      <th>promo_friends</th>\n",
       "      <th>phone</th>\n",
       "      <th>contract_period</th>\n",
       "      <th>group_visits</th>\n",
       "      <th>age</th>\n",
       "      <th>avg_additional_charges_total</th>\n",
       "      <th>month_to_end_contract</th>\n",
       "      <th>lifetime</th>\n",
       "      <th>avg_class_frequency_total</th>\n",
       "      <th>avg_class_frequency_current_month</th>\n",
       "    </tr>\n",
       "    <tr>\n",
       "      <th>churn</th>\n",
       "      <th></th>\n",
       "      <th></th>\n",
       "      <th></th>\n",
       "      <th></th>\n",
       "      <th></th>\n",
       "      <th></th>\n",
       "      <th></th>\n",
       "      <th></th>\n",
       "      <th></th>\n",
       "      <th></th>\n",
       "      <th></th>\n",
       "      <th></th>\n",
       "      <th></th>\n",
       "    </tr>\n",
       "  </thead>\n",
       "  <tbody>\n",
       "    <tr>\n",
       "      <th>0</th>\n",
       "      <td>0.510037</td>\n",
       "      <td>0.873086</td>\n",
       "      <td>0.534195</td>\n",
       "      <td>0.353522</td>\n",
       "      <td>0.903709</td>\n",
       "      <td>5.747193</td>\n",
       "      <td>0.464103</td>\n",
       "      <td>29.976523</td>\n",
       "      <td>158.445715</td>\n",
       "      <td>5.283089</td>\n",
       "      <td>4.711807</td>\n",
       "      <td>2.024876</td>\n",
       "      <td>2.027882</td>\n",
       "    </tr>\n",
       "    <tr>\n",
       "      <th>1</th>\n",
       "      <td>0.510839</td>\n",
       "      <td>0.768143</td>\n",
       "      <td>0.355325</td>\n",
       "      <td>0.183789</td>\n",
       "      <td>0.902922</td>\n",
       "      <td>1.728558</td>\n",
       "      <td>0.268615</td>\n",
       "      <td>26.989632</td>\n",
       "      <td>115.082899</td>\n",
       "      <td>1.662582</td>\n",
       "      <td>0.990575</td>\n",
       "      <td>1.474995</td>\n",
       "      <td>1.044546</td>\n",
       "    </tr>\n",
       "  </tbody>\n",
       "</table>\n",
       "</div>"
      ],
      "text/plain": [
       "         gender  near_location   partner  promo_friends     phone  \\\n",
       "churn                                                               \n",
       "0      0.510037       0.873086  0.534195       0.353522  0.903709   \n",
       "1      0.510839       0.768143  0.355325       0.183789  0.902922   \n",
       "\n",
       "       contract_period  group_visits        age  avg_additional_charges_total  \\\n",
       "churn                                                                           \n",
       "0             5.747193      0.464103  29.976523                    158.445715   \n",
       "1             1.728558      0.268615  26.989632                    115.082899   \n",
       "\n",
       "       month_to_end_contract  lifetime  avg_class_frequency_total  \\\n",
       "churn                                                               \n",
       "0                   5.283089  4.711807                   2.024876   \n",
       "1                   1.662582  0.990575                   1.474995   \n",
       "\n",
       "       avg_class_frequency_current_month  \n",
       "churn                                     \n",
       "0                               2.027882  \n",
       "1                               1.044546  "
      ]
     },
     "execution_count": 11,
     "metadata": {},
     "output_type": "execute_result"
    }
   ],
   "source": [
    "# Посмотрим средние значения для всех признаков в разрезе на тех, кто ушел в отток и кто остался\n",
    "data.groupby('churn').mean()"
   ]
  },
  {
   "cell_type": "code",
   "execution_count": 12,
   "metadata": {},
   "outputs": [
    {
     "data": {
      "image/png": "[encoded data removed]",
      "text/plain": [
       "<Figure size 1080x504 with 7 Axes>"
      ]
     },
     "metadata": {
      "needs_background": "light"
     },
     "output_type": "display_data"
    }
   ],
   "source": [
    "# Напишем код для визуализации категориальных признаков в разрезе тех, кто ушел в отток, и остался\n",
    "signs = ['gender', 'near_location', 'partner', 'promo_friends', 'phone', 'group_visits', 'contract_period']\n",
    "fig = plt.figure(figsize=(15, 7))\n",
    "fig.suptitle('Распределение категориальных признаков в разрезе тех, кто ушел в отток и тех, кто остался')\n",
    "\n",
    "for i, col in enumerate(signs):\n",
    "    plt.subplot(2, 4, i + 1)\n",
    "    sns.countplot(data=data, x=col, hue='churn', palette='spring')\n",
    "    if i == 0:\n",
    "        plt.ylabel('Количество клиентов')\n",
    "        plt.legend(title='Ушел в отток', loc='upper left', labels=['Да', 'Нет'])\n",
    "    else:\n",
    "        plt.ylabel(None)\n",
    "        plt.legend([],[], frameon=False)"
   ]
  },
  {
   "cell_type": "code",
   "execution_count": 13,
   "metadata": {},
   "outputs": [
    {
     "data": {
      "image/png": "[encoded data removed]",
      "text/plain": [
       "<Figure size 1080x504 with 6 Axes>"
      ]
     },
     "metadata": {
      "needs_background": "light"
     },
     "output_type": "display_data"
    }
   ],
   "source": [
    "# Напишем код для визуализации числовых признаков в разрезе тех, кто ушел в отток, и остался\n",
    "num_signs = ['month_to_end_contract', 'lifetime', 'age', 'avg_additional_charges_total', 'avg_class_frequency_total', 'avg_class_frequency_current_month']\n",
    "fig1 = plt.figure(figsize=(15, 7))\n",
    "fig1.suptitle('Распределение категориальных признаков в разрезе тех, кто ушел в отток и тех, кто остался')\n",
    "\n",
    "for i, col in enumerate(num_signs):\n",
    "    plt.subplot(2, 3, i + 1)\n",
    "    sns.histplot(data=data, x=col, hue='churn', element='poly', palette='spring')\n",
    "    if i == 0:\n",
    "        plt.ylabel('Количество клиентов')\n",
    "        plt.legend(title='Ушел в отток', loc='upper left', labels=['Да', 'Нет'])\n",
    "    else:\n",
    "        plt.ylabel(None)\n",
    "        plt.legend([],[], frameon=False)"
   ]
  },
  {
   "cell_type": "code",
   "execution_count": 14,
   "metadata": {},
   "outputs": [
    {
     "data": {
      "text/html": [
       "<div>\n",
       "<style scoped>\n",
       "    .dataframe tbody tr th:only-of-type {\n",
       "        vertical-align: middle;\n",
       "    }\n",
       "\n",
       "    .dataframe tbody tr th {\n",
       "        vertical-align: top;\n",
       "    }\n",
       "\n",
       "    .dataframe thead th {\n",
       "        text-align: right;\n",
       "    }\n",
       "</style>\n",
       "<table border=\"1\" class=\"dataframe\">\n",
       "  <thead>\n",
       "    <tr style=\"text-align: right;\">\n",
       "      <th></th>\n",
       "      <th>gender</th>\n",
       "      <th>near_location</th>\n",
       "      <th>partner</th>\n",
       "      <th>promo_friends</th>\n",
       "      <th>phone</th>\n",
       "      <th>contract_period</th>\n",
       "      <th>group_visits</th>\n",
       "      <th>age</th>\n",
       "      <th>avg_additional_charges_total</th>\n",
       "      <th>month_to_end_contract</th>\n",
       "      <th>lifetime</th>\n",
       "      <th>avg_class_frequency_total</th>\n",
       "      <th>avg_class_frequency_current_month</th>\n",
       "      <th>churn</th>\n",
       "    </tr>\n",
       "  </thead>\n",
       "  <tbody>\n",
       "    <tr>\n",
       "      <th>gender</th>\n",
       "      <td>1.000000</td>\n",
       "      <td>0.006699</td>\n",
       "      <td>-0.010463</td>\n",
       "      <td>-0.005033</td>\n",
       "      <td>-0.008542</td>\n",
       "      <td>0.000502</td>\n",
       "      <td>0.017879</td>\n",
       "      <td>0.013807</td>\n",
       "      <td>-0.009334</td>\n",
       "      <td>-0.001281</td>\n",
       "      <td>0.013579</td>\n",
       "      <td>0.014620</td>\n",
       "      <td>0.009156</td>\n",
       "      <td>0.000708</td>\n",
       "    </tr>\n",
       "    <tr>\n",
       "      <th>near_location</th>\n",
       "      <td>0.006699</td>\n",
       "      <td>1.000000</td>\n",
       "      <td>-0.005119</td>\n",
       "      <td>0.210964</td>\n",
       "      <td>-0.015763</td>\n",
       "      <td>0.150233</td>\n",
       "      <td>0.154728</td>\n",
       "      <td>0.058358</td>\n",
       "      <td>0.040761</td>\n",
       "      <td>0.143961</td>\n",
       "      <td>0.070921</td>\n",
       "      <td>0.043127</td>\n",
       "      <td>0.062664</td>\n",
       "      <td>-0.128098</td>\n",
       "    </tr>\n",
       "    <tr>\n",
       "      <th>partner</th>\n",
       "      <td>-0.010463</td>\n",
       "      <td>-0.005119</td>\n",
       "      <td>1.000000</td>\n",
       "      <td>0.451960</td>\n",
       "      <td>0.009970</td>\n",
       "      <td>0.306166</td>\n",
       "      <td>0.022710</td>\n",
       "      <td>0.047480</td>\n",
       "      <td>0.022941</td>\n",
       "      <td>0.294632</td>\n",
       "      <td>0.061229</td>\n",
       "      <td>0.024938</td>\n",
       "      <td>0.045561</td>\n",
       "      <td>-0.157986</td>\n",
       "    </tr>\n",
       "    <tr>\n",
       "      <th>promo_friends</th>\n",
       "      <td>-0.005033</td>\n",
       "      <td>0.210964</td>\n",
       "      <td>0.451960</td>\n",
       "      <td>1.000000</td>\n",
       "      <td>0.001982</td>\n",
       "      <td>0.244552</td>\n",
       "      <td>0.120170</td>\n",
       "      <td>0.050113</td>\n",
       "      <td>0.036898</td>\n",
       "      <td>0.239553</td>\n",
       "      <td>0.072721</td>\n",
       "      <td>0.028063</td>\n",
       "      <td>0.053768</td>\n",
       "      <td>-0.162233</td>\n",
       "    </tr>\n",
       "    <tr>\n",
       "      <th>phone</th>\n",
       "      <td>-0.008542</td>\n",
       "      <td>-0.015763</td>\n",
       "      <td>0.009970</td>\n",
       "      <td>0.001982</td>\n",
       "      <td>1.000000</td>\n",
       "      <td>-0.006893</td>\n",
       "      <td>-0.010099</td>\n",
       "      <td>-0.011403</td>\n",
       "      <td>0.009279</td>\n",
       "      <td>-0.011196</td>\n",
       "      <td>-0.018801</td>\n",
       "      <td>0.008340</td>\n",
       "      <td>0.013375</td>\n",
       "      <td>-0.001177</td>\n",
       "    </tr>\n",
       "    <tr>\n",
       "      <th>contract_period</th>\n",
       "      <td>0.000502</td>\n",
       "      <td>0.150233</td>\n",
       "      <td>0.306166</td>\n",
       "      <td>0.244552</td>\n",
       "      <td>-0.006893</td>\n",
       "      <td>1.000000</td>\n",
       "      <td>0.169991</td>\n",
       "      <td>0.138249</td>\n",
       "      <td>0.111445</td>\n",
       "      <td>0.973064</td>\n",
       "      <td>0.170725</td>\n",
       "      <td>0.096211</td>\n",
       "      <td>0.159407</td>\n",
       "      <td>-0.389984</td>\n",
       "    </tr>\n",
       "    <tr>\n",
       "      <th>group_visits</th>\n",
       "      <td>0.017879</td>\n",
       "      <td>0.154728</td>\n",
       "      <td>0.022710</td>\n",
       "      <td>0.120170</td>\n",
       "      <td>-0.010099</td>\n",
       "      <td>0.169991</td>\n",
       "      <td>1.000000</td>\n",
       "      <td>0.080934</td>\n",
       "      <td>0.032079</td>\n",
       "      <td>0.163703</td>\n",
       "      <td>0.075853</td>\n",
       "      <td>0.056695</td>\n",
       "      <td>0.075923</td>\n",
       "      <td>-0.175325</td>\n",
       "    </tr>\n",
       "    <tr>\n",
       "      <th>age</th>\n",
       "      <td>0.013807</td>\n",
       "      <td>0.058358</td>\n",
       "      <td>0.047480</td>\n",
       "      <td>0.050113</td>\n",
       "      <td>-0.011403</td>\n",
       "      <td>0.138249</td>\n",
       "      <td>0.080934</td>\n",
       "      <td>1.000000</td>\n",
       "      <td>0.080240</td>\n",
       "      <td>0.134511</td>\n",
       "      <td>0.164693</td>\n",
       "      <td>0.119953</td>\n",
       "      <td>0.183095</td>\n",
       "      <td>-0.404735</td>\n",
       "    </tr>\n",
       "    <tr>\n",
       "      <th>avg_additional_charges_total</th>\n",
       "      <td>-0.009334</td>\n",
       "      <td>0.040761</td>\n",
       "      <td>0.022941</td>\n",
       "      <td>0.036898</td>\n",
       "      <td>0.009279</td>\n",
       "      <td>0.111445</td>\n",
       "      <td>0.032079</td>\n",
       "      <td>0.080240</td>\n",
       "      <td>1.000000</td>\n",
       "      <td>0.113958</td>\n",
       "      <td>0.079028</td>\n",
       "      <td>0.044426</td>\n",
       "      <td>0.079570</td>\n",
       "      <td>-0.198697</td>\n",
       "    </tr>\n",
       "    <tr>\n",
       "      <th>month_to_end_contract</th>\n",
       "      <td>-0.001281</td>\n",
       "      <td>0.143961</td>\n",
       "      <td>0.294632</td>\n",
       "      <td>0.239553</td>\n",
       "      <td>-0.011196</td>\n",
       "      <td>0.973064</td>\n",
       "      <td>0.163703</td>\n",
       "      <td>0.134511</td>\n",
       "      <td>0.113958</td>\n",
       "      <td>1.000000</td>\n",
       "      <td>0.161078</td>\n",
       "      <td>0.085387</td>\n",
       "      <td>0.147605</td>\n",
       "      <td>-0.381393</td>\n",
       "    </tr>\n",
       "    <tr>\n",
       "      <th>lifetime</th>\n",
       "      <td>0.013579</td>\n",
       "      <td>0.070921</td>\n",
       "      <td>0.061229</td>\n",
       "      <td>0.072721</td>\n",
       "      <td>-0.018801</td>\n",
       "      <td>0.170725</td>\n",
       "      <td>0.075853</td>\n",
       "      <td>0.164693</td>\n",
       "      <td>0.079028</td>\n",
       "      <td>0.161078</td>\n",
       "      <td>1.000000</td>\n",
       "      <td>0.112338</td>\n",
       "      <td>0.181975</td>\n",
       "      <td>-0.438220</td>\n",
       "    </tr>\n",
       "    <tr>\n",
       "      <th>avg_class_frequency_total</th>\n",
       "      <td>0.014620</td>\n",
       "      <td>0.043127</td>\n",
       "      <td>0.024938</td>\n",
       "      <td>0.028063</td>\n",
       "      <td>0.008340</td>\n",
       "      <td>0.096211</td>\n",
       "      <td>0.056695</td>\n",
       "      <td>0.119953</td>\n",
       "      <td>0.044426</td>\n",
       "      <td>0.085387</td>\n",
       "      <td>0.112338</td>\n",
       "      <td>1.000000</td>\n",
       "      <td>0.952739</td>\n",
       "      <td>-0.249715</td>\n",
       "    </tr>\n",
       "    <tr>\n",
       "      <th>avg_class_frequency_current_month</th>\n",
       "      <td>0.009156</td>\n",
       "      <td>0.062664</td>\n",
       "      <td>0.045561</td>\n",
       "      <td>0.053768</td>\n",
       "      <td>0.013375</td>\n",
       "      <td>0.159407</td>\n",
       "      <td>0.075923</td>\n",
       "      <td>0.183095</td>\n",
       "      <td>0.079570</td>\n",
       "      <td>0.147605</td>\n",
       "      <td>0.181975</td>\n",
       "      <td>0.952739</td>\n",
       "      <td>1.000000</td>\n",
       "      <td>-0.412348</td>\n",
       "    </tr>\n",
       "    <tr>\n",
       "      <th>churn</th>\n",
       "      <td>0.000708</td>\n",
       "      <td>-0.128098</td>\n",
       "      <td>-0.157986</td>\n",
       "      <td>-0.162233</td>\n",
       "      <td>-0.001177</td>\n",
       "      <td>-0.389984</td>\n",
       "      <td>-0.175325</td>\n",
       "      <td>-0.404735</td>\n",
       "      <td>-0.198697</td>\n",
       "      <td>-0.381393</td>\n",
       "      <td>-0.438220</td>\n",
       "      <td>-0.249715</td>\n",
       "      <td>-0.412348</td>\n",
       "      <td>1.000000</td>\n",
       "    </tr>\n",
       "  </tbody>\n",
       "</table>\n",
       "</div>"
      ],
      "text/plain": [
       "                                     gender  near_location   partner  \\\n",
       "gender                             1.000000       0.006699 -0.010463   \n",
       "near_location                      0.006699       1.000000 -0.005119   \n",
       "partner                           -0.010463      -0.005119  1.000000   \n",
       "promo_friends                     -0.005033       0.210964  0.451960   \n",
       "phone                             -0.008542      -0.015763  0.009970   \n",
       "contract_period                    0.000502       0.150233  0.306166   \n",
       "group_visits                       0.017879       0.154728  0.022710   \n",
       "age                                0.013807       0.058358  0.047480   \n",
       "avg_additional_charges_total      -0.009334       0.040761  0.022941   \n",
       "month_to_end_contract             -0.001281       0.143961  0.294632   \n",
       "lifetime                           0.013579       0.070921  0.061229   \n",
       "avg_class_frequency_total          0.014620       0.043127  0.024938   \n",
       "avg_class_frequency_current_month  0.009156       0.062664  0.045561   \n",
       "churn                              0.000708      -0.128098 -0.157986   \n",
       "\n",
       "                                   promo_friends     phone  contract_period  \\\n",
       "gender                                 -0.005033 -0.008542         0.000502   \n",
       "near_location                           0.210964 -0.015763         0.150233   \n",
       "partner                                 0.451960  0.009970         0.306166   \n",
       "promo_friends                           1.000000  0.001982         0.244552   \n",
       "phone                                   0.001982  1.000000        -0.006893   \n",
       "contract_period                         0.244552 -0.006893         1.000000   \n",
       "group_visits                            0.120170 -0.010099         0.169991   \n",
       "age                                     0.050113 -0.011403         0.138249   \n",
       "avg_additional_charges_total            0.036898  0.009279         0.111445   \n",
       "month_to_end_contract                   0.239553 -0.011196         0.973064   \n",
       "lifetime                                0.072721 -0.018801         0.170725   \n",
       "avg_class_frequency_total               0.028063  0.008340         0.096211   \n",
       "avg_class_frequency_current_month       0.053768  0.013375         0.159407   \n",
       "churn                                  -0.162233 -0.001177        -0.389984   \n",
       "\n",
       "                                   group_visits       age  \\\n",
       "gender                                 0.017879  0.013807   \n",
       "near_location                          0.154728  0.058358   \n",
       "partner                                0.022710  0.047480   \n",
       "promo_friends                          0.120170  0.050113   \n",
       "phone                                 -0.010099 -0.011403   \n",
       "contract_period                        0.169991  0.138249   \n",
       "group_visits                           1.000000  0.080934   \n",
       "age                                    0.080934  1.000000   \n",
       "avg_additional_charges_total           0.032079  0.080240   \n",
       "month_to_end_contract                  0.163703  0.134511   \n",
       "lifetime                               0.075853  0.164693   \n",
       "avg_class_frequency_total              0.056695  0.119953   \n",
       "avg_class_frequency_current_month      0.075923  0.183095   \n",
       "churn                                 -0.175325 -0.404735   \n",
       "\n",
       "                                   avg_additional_charges_total  \\\n",
       "gender                                                -0.009334   \n",
       "near_location                                          0.040761   \n",
       "partner                                                0.022941   \n",
       "promo_friends                                          0.036898   \n",
       "phone                                                  0.009279   \n",
       "contract_period                                        0.111445   \n",
       "group_visits                                           0.032079   \n",
       "age                                                    0.080240   \n",
       "avg_additional_charges_total                           1.000000   \n",
       "month_to_end_contract                                  0.113958   \n",
       "lifetime                                               0.079028   \n",
       "avg_class_frequency_total                              0.044426   \n",
       "avg_class_frequency_current_month                      0.079570   \n",
       "churn                                                 -0.198697   \n",
       "\n",
       "                                   month_to_end_contract  lifetime  \\\n",
       "gender                                         -0.001281  0.013579   \n",
       "near_location                                   0.143961  0.070921   \n",
       "partner                                         0.294632  0.061229   \n",
       "promo_friends                                   0.239553  0.072721   \n",
       "phone                                          -0.011196 -0.018801   \n",
       "contract_period                                 0.973064  0.170725   \n",
       "group_visits                                    0.163703  0.075853   \n",
       "age                                             0.134511  0.164693   \n",
       "avg_additional_charges_total                    0.113958  0.079028   \n",
       "month_to_end_contract                           1.000000  0.161078   \n",
       "lifetime                                        0.161078  1.000000   \n",
       "avg_class_frequency_total                       0.085387  0.112338   \n",
       "avg_class_frequency_current_month               0.147605  0.181975   \n",
       "churn                                          -0.381393 -0.438220   \n",
       "\n",
       "                                   avg_class_frequency_total  \\\n",
       "gender                                              0.014620   \n",
       "near_location                                       0.043127   \n",
       "partner                                             0.024938   \n",
       "promo_friends                                       0.028063   \n",
       "phone                                               0.008340   \n",
       "contract_period                                     0.096211   \n",
       "group_visits                                        0.056695   \n",
       "age                                                 0.119953   \n",
       "avg_additional_charges_total                        0.044426   \n",
       "month_to_end_contract                               0.085387   \n",
       "lifetime                                            0.112338   \n",
       "avg_class_frequency_total                           1.000000   \n",
       "avg_class_frequency_current_month                   0.952739   \n",
       "churn                                              -0.249715   \n",
       "\n",
       "                                   avg_class_frequency_current_month     churn  \n",
       "gender                                                      0.009156  0.000708  \n",
       "near_location                                               0.062664 -0.128098  \n",
       "partner                                                     0.045561 -0.157986  \n",
       "promo_friends                                               0.053768 -0.162233  \n",
       "phone                                                       0.013375 -0.001177  \n",
       "contract_period                                             0.159407 -0.389984  \n",
       "group_visits                                                0.075923 -0.175325  \n",
       "age                                                         0.183095 -0.404735  \n",
       "avg_additional_charges_total                                0.079570 -0.198697  \n",
       "month_to_end_contract                                       0.147605 -0.381393  \n",
       "lifetime                                                    0.181975 -0.438220  \n",
       "avg_class_frequency_total                                   0.952739 -0.249715  \n",
       "avg_class_frequency_current_month                           1.000000 -0.412348  \n",
       "churn                                                      -0.412348  1.000000  "
      ]
     },
     "execution_count": 14,
     "metadata": {},
     "output_type": "execute_result"
    }
   ],
   "source": [
    "# Построим матрицу корреляций для всех признаков\n",
    "data.corr()"
   ]
  },
  {
   "cell_type": "code",
   "execution_count": 15,
   "metadata": {},
   "outputs": [
    {
     "data": {
      "image/png": "[encoded data removed]",
      "text/plain": [
       "<Figure size 720x576 with 2 Axes>"
      ]
     },
     "metadata": {
      "needs_background": "light"
     },
     "output_type": "display_data"
    }
   ],
   "source": [
    "# Визуализируем корреляционную матрицу\n",
    "plt.figure(figsize=(10, 8))\n",
    "sns.heatmap(data.corr().round(decimals=2), annot = True, fmt='.1g')\n",
    "plt.title('График матрицы корреляции для всех признаков')\n",
    "plt.show()"
   ]
  },
  {
   "cell_type": "markdown",
   "metadata": {},
   "source": [
    "**Вывод:**\n",
    "- Исходя из описательных статистик мы можем сказать, что числовые данные неоднородны, практически для всех признаков стандартное отклонение почти равно среднему, это стоит учесть при выборе метрик ML\n",
    "- Судя по среднему среди категориальных признаков и графикам, для тех, кто ушел в отток, более характерно: дальнее расстояние от фитнес-центра, отсутствие работодателя - партнера клуба (т.е. отсутствие скидки), отсутствие промо-кода от друга, относительно небольшой интерес к групповым занятиям, контракт с фитнес-центром на месяц. Судя по среднему числовых признаков и графикам, для ушедших более характерно: меньший период до конца контракта, меньший период с первого посещения, более молодая аудитория, меньшие доп. траты, меньшая частота посещений за прошедщий месяц и в целом.\n",
    "- Судя по матрице корреляций, отток имеет наиболее высокую обратную зависимость (-0,4) с такими признаками, как контрактный период, возраст, количество месяцев до конца контракта, время с момента первого обращения в фитнес-центр и средняя частота посещений в неделю за предыдущий месяц. Между признаками период контракта и период до окончания контракта коэф. корреляции равен 1, они зависят друг от друга, это может повлиять на качество ML модели."
   ]
  },
  {
   "cell_type": "markdown",
   "metadata": {},
   "source": [
    "## Построение модели прогнозирования оттока клиентов"
   ]
  },
  {
   "cell_type": "code",
   "execution_count": 16,
   "metadata": {},
   "outputs": [],
   "source": [
    "# Для прогнозирования на основе этих данных больше всего подайдут модели бинарной регрессии: логистическая регрессия, и классификатор случайный лес"
   ]
  },
  {
   "cell_type": "code",
   "execution_count": 17,
   "metadata": {},
   "outputs": [],
   "source": [
    "# Разделим датасет на признаки (X) и целевую переменную (y)\n",
    "X = data.drop('churn', axis = 1)\n",
    "y = data['churn']"
   ]
  },
  {
   "cell_type": "code",
   "execution_count": 18,
   "metadata": {},
   "outputs": [],
   "source": [
    "# Разделим модель на обучающую и валидационную выборку\n",
    "X_train, X_test, y_train, y_test = train_test_split(X, y, test_size=0.2, random_state=0)"
   ]
  },
  {
   "cell_type": "code",
   "execution_count": 19,
   "metadata": {},
   "outputs": [
    {
     "data": {
      "text/plain": [
       "StandardScaler()"
      ]
     },
     "execution_count": 19,
     "metadata": {},
     "output_type": "execute_result"
    }
   ],
   "source": [
    "# Создади модель стандартизации и обучим ее\n",
    "scaler = StandardScaler()\n",
    "scaler.fit(X_train)"
   ]
  },
  {
   "cell_type": "code",
   "execution_count": 20,
   "metadata": {},
   "outputs": [],
   "source": [
    "# Преобразуем обучающую и валидационную выборку \n",
    "X_train_st = scaler.transform(X_train)\n",
    "X_test_st = scaler.transform(X_test)"
   ]
  },
  {
   "cell_type": "code",
   "execution_count": 27,
   "metadata": {},
   "outputs": [],
   "source": [
    "# Напишем функцию для автоматизации получения прогнозов для разных моделей\n",
    "def get_predictions(model, x_train, y_train, x_test):\n",
    "    model_name = model # Создадим модель\n",
    "    model_name.fit(x_train, y_train) # Обучим модель на обучающей выборке\n",
    "    return model_name.predict(x_test) # Сделаем прогнозы на валидационной выборки"
   ]
  },
  {
   "cell_type": "code",
   "execution_count": 28,
   "metadata": {},
   "outputs": [],
   "source": [
    "# Получим прогнозы для модели логической регресиии\n",
    "lr_predictions = get_predictions(LogisticRegression(), X_train_st, y_train, X_test_st)"
   ]
  },
  {
   "cell_type": "code",
   "execution_count": 29,
   "metadata": {},
   "outputs": [],
   "source": [
    "# Получим прогнозы для модели случайного леса\n",
    "rf_predictions = get_predictions(RandomForestClassifier(random_state = 0), X_train, y_train, X_test)"
   ]
  },
  {
   "cell_type": "code",
   "execution_count": 30,
   "metadata": {},
   "outputs": [],
   "source": [
    "# Напишем функцию для подсчета метрик\n",
    "def print_all_metrics(y_true, y_pred, title):\n",
    "    print(title)\n",
    "    print('\\tAccuracy: {:.2f}'.format(accuracy_score(y_true, y_pred)))\n",
    "    print('\\tPrecision: {:.2f}'.format(precision_score(y_true, y_pred)))\n",
    "    print('\\tRecall: {:.2f}'.format(recall_score(y_true, y_pred)))"
   ]
  },
  {
   "cell_type": "code",
   "execution_count": 31,
   "metadata": {},
   "outputs": [
    {
     "name": "stdout",
     "output_type": "stream",
     "text": [
      "Метрики классификации для модели логической регрессии\n",
      "\tAccuracy: 0.92\n",
      "\tPrecision: 0.85\n",
      "\tRecall: 0.83\n"
     ]
    }
   ],
   "source": [
    "# Подсчитаем метрики для модели логической регрессии\n",
    "print_all_metrics(y_test, lr_predictions, 'Метрики классификации для модели логической регрессии')"
   ]
  },
  {
   "cell_type": "code",
   "execution_count": 32,
   "metadata": {},
   "outputs": [
    {
     "name": "stdout",
     "output_type": "stream",
     "text": [
      "Метрики классификации для случайного леса\n",
      "\tAccuracy: 0.92\n",
      "\tPrecision: 0.84\n",
      "\tRecall: 0.82\n"
     ]
    }
   ],
   "source": [
    "# Подсчитаем метрики для модели случайного леса\n",
    "print_all_metrics(y_test, rf_predictions, 'Метрики классификации для случайного леса')"
   ]
  },
  {
   "cell_type": "markdown",
   "metadata": {},
   "source": [
    "**Вывод:**\n",
    "- Судя по метрикам, модели показали одинаковую точность относительно всех классов, однако модель логической регрессии показала бОльшую точность относительно класссов по отдельности.\n",
    "- Следовательно, модель логистической регрессии показала себя лучше"
   ]
  },
  {
   "cell_type": "markdown",
   "metadata": {},
   "source": [
    "## Кластеризация клиентов"
   ]
  },
  {
   "cell_type": "code",
   "execution_count": 37,
   "metadata": {},
   "outputs": [],
   "source": [
    "# Стандартизируем признаки (X)\n",
    "sc = StandardScaler()\n",
    "X_sc = sc.fit_transform(X)"
   ]
  },
  {
   "cell_type": "code",
   "execution_count": 38,
   "metadata": {},
   "outputs": [],
   "source": [
    "# Создадим связку стандартизированных признаков, чтобы диаграмма получилась показательной, передадим параметру method значение 'ward'\n",
    "linked = linkage(X_sc, method = 'ward')"
   ]
  },
  {
   "cell_type": "code",
   "execution_count": null,
   "metadata": {},
   "outputs": [],
   "source": [
    "# Визуализируем связки в виде дендрограммы\n",
    "plt.figure(figsize=(15, 10))  \n",
    "dendrogram(linked, orientation='top')\n",
    "plt.title('Иерархическая кластеризация клиентов фитнес-центра')\n",
    "plt.show()"
   ]
  },
  {
   "cell_type": "markdown",
   "metadata": {},
   "source": [
    "Судя по дендрограмме, наиболее четко выделяются 4 кластера, однако, если внимательнее посмотреть, то можно увидеть в самом большом кластере еще 3, итого: 6"
   ]
  },
  {
   "cell_type": "code",
   "execution_count": 39,
   "metadata": {},
   "outputs": [],
   "source": [
    "# Пошагово сгруппируем объекты методом KMeans, в атрибуте укажем предполагаемое количество кластеров = 5 и зафиксируем случайное состояние алгоритма с помощью random_state\n",
    "km = KMeans(n_clusters=5, random_state=0) "
   ]
  },
  {
   "cell_type": "code",
   "execution_count": 40,
   "metadata": {},
   "outputs": [],
   "source": [
    "# Сохраним индексы предложенных алгоритмом групп \n",
    "labels = km.fit_predict(X_sc)"
   ]
  },
  {
   "cell_type": "code",
   "execution_count": 41,
   "metadata": {},
   "outputs": [],
   "source": [
    "# Добавим метки кластера в поле датасета\n",
    "data['clusters'] = labels"
   ]
  },
  {
   "cell_type": "code",
   "execution_count": 71,
   "metadata": {},
   "outputs": [
    {
     "data": {
      "text/html": [
       "<div>\n",
       "<style scoped>\n",
       "    .dataframe tbody tr th:only-of-type {\n",
       "        vertical-align: middle;\n",
       "    }\n",
       "\n",
       "    .dataframe tbody tr th {\n",
       "        vertical-align: top;\n",
       "    }\n",
       "\n",
       "    .dataframe thead th {\n",
       "        text-align: right;\n",
       "    }\n",
       "</style>\n",
       "<table border=\"1\" class=\"dataframe\">\n",
       "  <thead>\n",
       "    <tr style=\"text-align: right;\">\n",
       "      <th></th>\n",
       "      <th>gender</th>\n",
       "      <th>near_location</th>\n",
       "      <th>partner</th>\n",
       "      <th>promo_friends</th>\n",
       "      <th>phone</th>\n",
       "      <th>contract_period</th>\n",
       "      <th>group_visits</th>\n",
       "      <th>age</th>\n",
       "      <th>avg_additional_charges_total</th>\n",
       "      <th>month_to_end_contract</th>\n",
       "      <th>lifetime</th>\n",
       "      <th>avg_class_frequency_total</th>\n",
       "      <th>avg_class_frequency_current_month</th>\n",
       "      <th>churn</th>\n",
       "    </tr>\n",
       "    <tr>\n",
       "      <th>clusters</th>\n",
       "      <th></th>\n",
       "      <th></th>\n",
       "      <th></th>\n",
       "      <th></th>\n",
       "      <th></th>\n",
       "      <th></th>\n",
       "      <th></th>\n",
       "      <th></th>\n",
       "      <th></th>\n",
       "      <th></th>\n",
       "      <th></th>\n",
       "      <th></th>\n",
       "      <th></th>\n",
       "      <th></th>\n",
       "    </tr>\n",
       "  </thead>\n",
       "  <tbody>\n",
       "    <tr>\n",
       "      <th>3</th>\n",
       "      <td>0.485737</td>\n",
       "      <td>1.000000</td>\n",
       "      <td>0.350238</td>\n",
       "      <td>0.240095</td>\n",
       "      <td>1.000000</td>\n",
       "      <td>1.948494</td>\n",
       "      <td>0.341521</td>\n",
       "      <td>28.167987</td>\n",
       "      <td>131.622204</td>\n",
       "      <td>1.856577</td>\n",
       "      <td>2.440571</td>\n",
       "      <td>1.247634</td>\n",
       "      <td>1.012983</td>\n",
       "      <td>0.514263</td>\n",
       "    </tr>\n",
       "    <tr>\n",
       "      <th>2</th>\n",
       "      <td>0.495050</td>\n",
       "      <td>0.000000</td>\n",
       "      <td>0.463366</td>\n",
       "      <td>0.079208</td>\n",
       "      <td>1.000000</td>\n",
       "      <td>2.352475</td>\n",
       "      <td>0.215842</td>\n",
       "      <td>28.477228</td>\n",
       "      <td>135.457501</td>\n",
       "      <td>2.198020</td>\n",
       "      <td>2.809901</td>\n",
       "      <td>1.660461</td>\n",
       "      <td>1.477324</td>\n",
       "      <td>0.443564</td>\n",
       "    </tr>\n",
       "    <tr>\n",
       "      <th>1</th>\n",
       "      <td>0.522078</td>\n",
       "      <td>0.862338</td>\n",
       "      <td>0.470130</td>\n",
       "      <td>0.306494</td>\n",
       "      <td>0.000000</td>\n",
       "      <td>4.787013</td>\n",
       "      <td>0.425974</td>\n",
       "      <td>29.301299</td>\n",
       "      <td>143.957664</td>\n",
       "      <td>4.475325</td>\n",
       "      <td>3.924675</td>\n",
       "      <td>1.847220</td>\n",
       "      <td>1.716369</td>\n",
       "      <td>0.267532</td>\n",
       "    </tr>\n",
       "    <tr>\n",
       "      <th>4</th>\n",
       "      <td>0.559666</td>\n",
       "      <td>0.976134</td>\n",
       "      <td>0.356802</td>\n",
       "      <td>0.230310</td>\n",
       "      <td>0.998807</td>\n",
       "      <td>2.669451</td>\n",
       "      <td>0.473747</td>\n",
       "      <td>30.125298</td>\n",
       "      <td>161.657905</td>\n",
       "      <td>2.459427</td>\n",
       "      <td>4.898568</td>\n",
       "      <td>2.852002</td>\n",
       "      <td>2.850161</td>\n",
       "      <td>0.068019</td>\n",
       "    </tr>\n",
       "    <tr>\n",
       "      <th>0</th>\n",
       "      <td>0.502970</td>\n",
       "      <td>0.959406</td>\n",
       "      <td>0.783168</td>\n",
       "      <td>0.574257</td>\n",
       "      <td>1.000000</td>\n",
       "      <td>10.889109</td>\n",
       "      <td>0.542574</td>\n",
       "      <td>29.982178</td>\n",
       "      <td>160.761016</td>\n",
       "      <td>9.954455</td>\n",
       "      <td>4.736634</td>\n",
       "      <td>1.982055</td>\n",
       "      <td>1.974789</td>\n",
       "      <td>0.027723</td>\n",
       "    </tr>\n",
       "  </tbody>\n",
       "</table>\n",
       "</div>"
      ],
      "text/plain": [
       "            gender  near_location   partner  promo_friends     phone  \\\n",
       "clusters                                                               \n",
       "3         0.485737       1.000000  0.350238       0.240095  1.000000   \n",
       "2         0.495050       0.000000  0.463366       0.079208  1.000000   \n",
       "1         0.522078       0.862338  0.470130       0.306494  0.000000   \n",
       "4         0.559666       0.976134  0.356802       0.230310  0.998807   \n",
       "0         0.502970       0.959406  0.783168       0.574257  1.000000   \n",
       "\n",
       "          contract_period  group_visits        age  \\\n",
       "clusters                                             \n",
       "3                1.948494      0.341521  28.167987   \n",
       "2                2.352475      0.215842  28.477228   \n",
       "1                4.787013      0.425974  29.301299   \n",
       "4                2.669451      0.473747  30.125298   \n",
       "0               10.889109      0.542574  29.982178   \n",
       "\n",
       "          avg_additional_charges_total  month_to_end_contract  lifetime  \\\n",
       "clusters                                                                  \n",
       "3                           131.622204               1.856577  2.440571   \n",
       "2                           135.457501               2.198020  2.809901   \n",
       "1                           143.957664               4.475325  3.924675   \n",
       "4                           161.657905               2.459427  4.898568   \n",
       "0                           160.761016               9.954455  4.736634   \n",
       "\n",
       "          avg_class_frequency_total  avg_class_frequency_current_month  \\\n",
       "clusters                                                                 \n",
       "3                          1.247634                           1.012983   \n",
       "2                          1.660461                           1.477324   \n",
       "1                          1.847220                           1.716369   \n",
       "4                          2.852002                           2.850161   \n",
       "0                          1.982055                           1.974789   \n",
       "\n",
       "             churn  \n",
       "clusters            \n",
       "3         0.514263  \n",
       "2         0.443564  \n",
       "1         0.267532  \n",
       "4         0.068019  \n",
       "0         0.027723  "
      ]
     },
     "execution_count": 71,
     "metadata": {},
     "output_type": "execute_result"
    }
   ],
   "source": [
    "# Выведем статистику по средним значениям признаков по кластеру\n",
    "data.groupby('clusters').mean().sort_values(by='churn', ascending=False)"
   ]
  },
  {
   "cell_type": "code",
   "execution_count": 42,
   "metadata": {},
   "outputs": [
    {
     "data": {
      "image/png": "[encoded data removed]",
      "text/plain": [
       "<Figure size 1080x504 with 7 Axes>"
      ]
     },
     "metadata": {
      "needs_background": "light"
     },
     "output_type": "display_data"
    }
   ],
   "source": [
    "# Построим графики распределения по кластерам для категориальных признаков\n",
    "fig2 = plt.figure(figsize=(15, 7))\n",
    "fig2.suptitle('Распределение категориальных признаков в кластерном разрезе')\n",
    "\n",
    "for i, sign in enumerate(signs):\n",
    "    plt.subplot(2, 4, i + 1)\n",
    "    sns.countplot(data=data, x=sign, hue='clusters', palette='spring')\n",
    "    if i == 0:\n",
    "        plt.ylabel('Количество клиентов')\n",
    "        plt.legend(title='Кластер')\n",
    "    else:\n",
    "        plt.ylabel(None)\n",
    "        plt.legend([],[], frameon=False)"
   ]
  },
  {
   "cell_type": "code",
   "execution_count": 47,
   "metadata": {},
   "outputs": [
    {
     "data": {
      "image/png": "[encoded data removed]",
      "text/plain": [
       "<Figure size 1080x504 with 6 Axes>"
      ]
     },
     "metadata": {
      "needs_background": "light"
     },
     "output_type": "display_data"
    }
   ],
   "source": [
    "# Напишем код для визуализации числовых признаков в кластерном разрезе\n",
    "fig3 = plt.figure(figsize=(15, 7))\n",
    "fig3.suptitle('Распределение категориальных признаков в разрезе тех, кто ушел в отток и тех, кто остался')\n",
    "\n",
    "for i, col in enumerate(num_signs):\n",
    "    plt.subplot(2, 3, i + 1)\n",
    "    sns.histplot(data=data, x=col, hue='clusters', element='poly', palette='spring')\n",
    "    if i == 0:\n",
    "        plt.ylabel('Количество клиентов')\n",
    "        plt.legend(title='Кластер', labels=[1, 2, 3, 4])\n",
    "    else:\n",
    "        plt.ylabel(None)\n",
    "        plt.legend([],[], frameon=False)"
   ]
  },
  {
   "cell_type": "markdown",
   "metadata": {},
   "source": [
    "**Вывод:**\n",
    "- Самая высокая доля оттока у кластера 3 (0,51), самая низкая у кластера 0 (0,02) и 4 (0,06). Также различие этих кластеров заключается в том, что для кластера 0 значительно выше доля признаков работодатель-партнер и промо-код от друга.\n",
    "- Судя по таблице средних выделяется кластер 2 по наименьшему количеству человек, для которых расположение фитнес-центра удобно (0,0), кластер 1 выделяется по наименьшему количеству человек, указавших телефон (0,0). Для этих кластеров также характерна относительно высокая доля оттока клиентов (0,26 и 0,44 соответственно). Кластер 0 выделяется наибольшей длительностью контрактного периода и соответственно длительностью окончания этого периода. Для этого кластера характерна самая низкая доля оттока.\n",
    "- Судя по графикам, на пиковых значениях числовых признаков, как лайфтайм, период до окончания контракта, доп. траты, средняя частота посещений в целом и в месяц, по количеству лидируют кластеры 4 и 0.\n",
    "- Также по графикам видно, что в целом, самый многочисленный кластер - 3, с самой высокой доля оттока."
   ]
  },
  {
   "cell_type": "markdown",
   "metadata": {},
   "source": [
    "## Общий вывод\n",
    "\n",
    "Таким образом, исследование было выполнено в шесть этапов:\n",
    "\n",
    " 1. Обзор данных.\n",
    " 2. Предобработка данных.\n",
    " 3. Разведочный анализ данных (EDA).\n",
    " 4. Построение модели прогнозирования.\n",
    " 5. Кластеризация клиентов.\n",
    " 6. Общий вывод\n",
    " \n",
    "**Разведочный анализ данных: выводы**\n",
    "- Судя по среднему среди категориальных признаков, для тех, кто ушел в отток, более характерно: дальнее расстояние от фитнес-центра, отсутствие работодателя - партнера клуба (т.е. отсутствие скидки), отсутствие промо-кода от друга, относительно небольшой интерес к групповым занятиям, контракт с фитнес-центром на месяц. \n",
    "- Судя по среднему числовых признаков и графикам, для ушедших более характерно: меньший период до конца контракта, меньший период с первого посещения, более молодая аудитория, меньшие доп. траты, меньшая частота посещений за прошедщий месяц и в целом.\n",
    "- Судя по матрице корреляций, отток имеет наиболее высокую обратную зависимость (-0,4) с такими признаками, как контрактный период, возраст, количество месяцев до конца контракта, время с момента первого обращения в фитнес-центр (лайфтайм) и средняя частота посещений в неделю за предыдущий месяц.\n",
    "\n",
    "**Кластеризация клиентов: выводы**\n",
    "- Самая высокая доля оттока у кластера 3 (0,51), самая низкая у кластера 0 (0,02) и 4 (0,06). \n",
    "- Для кластера 3 характерен меньший контрактный период (1,9 мес.) и соответственно меньший период до окончания контракта (1,85), меньшие средние доп. траты (131), меньший лайфтайм (2,44 мес.), меньшая частота посещения в целом и в текущий месяц (1,24 и 1,01 соответственно).\n",
    "- Для кластера 4 наоборот характерны самые высокие доли по этим показателям, за исключением признаков период контракта и период до окончания контракта, которые выше всего у кластера 0. Также различие этих кластеров заключается в том, что для кластера 0 значительно выше доля признаков работодатель-партнер и промо-код от друга.\n",
    "\n",
    "**Общий вывод:**\n",
    "- Наиболее влияющими на отток можно считать признаки: контрактный период, период до окончания контракта и средняя частота посещений в неделю за предыдущий месяц. Также значимыми, но менее влияющими признаками могут быть неудобное расположение (дальнее расстояние), отсутствие работодателя партнера-клуба, отсутствие промо-кода от друга.\n",
    "- Как рекомендация, можно обратить внимание на клиентов, которые совершают больше доп. трат, наиболее часто ходят на занятия, однако не имеют скидки от работодателя-партнера и промо-кода от друга (как клиенты из кластера 4), предложить им специальное предложение, как поощрение. Также, вероятность оттока более высока у клиентов с небольшой длительностью контракта, их необходимо удержать, настроить рассылку или прозвон по окончанию контракта с целью продлить абонемент. "
   ]
  }
 ],
 "metadata": {
  "ExecuteTimeLog": [
   {
    "duration": 1267,
    "start_time": "2022-10-07T10:52:44.414Z"
   },
   {
    "duration": 67,
    "start_time": "2022-10-07T10:53:17.104Z"
   },
   {
    "duration": 21,
    "start_time": "2022-10-07T10:53:25.694Z"
   },
   {
    "duration": 11,
    "start_time": "2022-10-07T10:53:44.314Z"
   },
   {
    "duration": 7,
    "start_time": "2022-10-07T10:53:59.184Z"
   },
   {
    "duration": 1574,
    "start_time": "2022-10-07T10:54:38.714Z"
   },
   {
    "duration": 6,
    "start_time": "2022-10-07T10:54:46.205Z"
   },
   {
    "duration": 5,
    "start_time": "2022-10-07T10:56:09.049Z"
   },
   {
    "duration": 6,
    "start_time": "2022-10-07T10:57:02.476Z"
   },
   {
    "duration": 5,
    "start_time": "2022-10-07T10:57:27.017Z"
   },
   {
    "duration": 16,
    "start_time": "2022-10-07T11:15:25.045Z"
   },
   {
    "duration": 16,
    "start_time": "2022-10-07T11:16:11.834Z"
   },
   {
    "duration": 20,
    "start_time": "2022-10-07T11:16:21.805Z"
   },
   {
    "duration": 11,
    "start_time": "2022-10-07T11:23:30.023Z"
   },
   {
    "duration": 9,
    "start_time": "2022-10-07T11:23:39.864Z"
   },
   {
    "duration": 9,
    "start_time": "2022-10-07T11:23:44.335Z"
   },
   {
    "duration": 7,
    "start_time": "2022-10-07T11:24:14.055Z"
   },
   {
    "duration": 3,
    "start_time": "2022-10-07T11:27:11.244Z"
   },
   {
    "duration": 905,
    "start_time": "2022-10-07T11:29:25.146Z"
   },
   {
    "duration": 3,
    "start_time": "2022-10-07T11:29:35.384Z"
   },
   {
    "duration": 44,
    "start_time": "2022-10-07T11:29:35.391Z"
   },
   {
    "duration": 12,
    "start_time": "2022-10-07T11:29:35.438Z"
   },
   {
    "duration": 14,
    "start_time": "2022-10-07T11:29:35.452Z"
   },
   {
    "duration": 4,
    "start_time": "2022-10-07T11:29:38.784Z"
   },
   {
    "duration": 3,
    "start_time": "2022-10-07T11:29:40.914Z"
   },
   {
    "duration": 10,
    "start_time": "2022-10-07T11:29:55.615Z"
   },
   {
    "duration": 1235,
    "start_time": "2022-10-08T08:41:49.247Z"
   },
   {
    "duration": 145,
    "start_time": "2022-10-08T08:41:50.484Z"
   },
   {
    "duration": 16,
    "start_time": "2022-10-08T08:41:50.632Z"
   },
   {
    "duration": 11,
    "start_time": "2022-10-08T08:41:50.650Z"
   },
   {
    "duration": 4,
    "start_time": "2022-10-08T08:41:50.663Z"
   },
   {
    "duration": 9,
    "start_time": "2022-10-08T08:41:50.669Z"
   },
   {
    "duration": 16,
    "start_time": "2022-10-08T08:41:50.679Z"
   },
   {
    "duration": 69,
    "start_time": "2022-10-08T08:42:06.609Z"
   },
   {
    "duration": 83,
    "start_time": "2022-10-08T08:45:03.853Z"
   },
   {
    "duration": 677,
    "start_time": "2022-10-08T08:45:16.396Z"
   },
   {
    "duration": 585,
    "start_time": "2022-10-08T08:47:06.937Z"
   },
   {
    "duration": 591,
    "start_time": "2022-10-08T08:47:21.262Z"
   },
   {
    "duration": 1237,
    "start_time": "2022-10-08T08:47:49.247Z"
   },
   {
    "duration": 30,
    "start_time": "2022-10-08T08:49:38.023Z"
   },
   {
    "duration": 23,
    "start_time": "2022-10-08T09:02:22.993Z"
   },
   {
    "duration": 20,
    "start_time": "2022-10-08T09:07:06.818Z"
   },
   {
    "duration": 25,
    "start_time": "2022-10-08T09:09:00.387Z"
   },
   {
    "duration": 43,
    "start_time": "2022-10-08T09:15:18.438Z"
   },
   {
    "duration": 11,
    "start_time": "2022-10-08T10:40:38.636Z"
   },
   {
    "duration": 11,
    "start_time": "2022-10-08T10:40:56.955Z"
   },
   {
    "duration": 10,
    "start_time": "2022-10-08T10:41:09.563Z"
   },
   {
    "duration": 13,
    "start_time": "2022-10-08T10:41:29.808Z"
   },
   {
    "duration": 410,
    "start_time": "2022-10-08T10:43:39.483Z"
   },
   {
    "duration": 172,
    "start_time": "2022-10-08T10:48:42.414Z"
   },
   {
    "duration": 11,
    "start_time": "2022-10-08T10:49:07.067Z"
   },
   {
    "duration": 12,
    "start_time": "2022-10-08T10:56:25.406Z"
   },
   {
    "duration": 34,
    "start_time": "2022-10-08T11:00:24.495Z"
   },
   {
    "duration": 17,
    "start_time": "2022-10-08T11:01:40.790Z"
   },
   {
    "duration": 10,
    "start_time": "2022-10-08T11:02:20.769Z"
   },
   {
    "duration": 16,
    "start_time": "2022-10-08T11:02:45.885Z"
   },
   {
    "duration": 6,
    "start_time": "2022-10-08T11:09:46.591Z"
   },
   {
    "duration": 106,
    "start_time": "2022-10-08T11:55:00.959Z"
   },
   {
    "duration": 68,
    "start_time": "2022-10-08T11:58:29.742Z"
   },
   {
    "duration": 72,
    "start_time": "2022-10-08T11:58:38.664Z"
   },
   {
    "duration": 80,
    "start_time": "2022-10-08T11:59:10.575Z"
   },
   {
    "duration": 66,
    "start_time": "2022-10-08T11:59:48.377Z"
   },
   {
    "duration": 67,
    "start_time": "2022-10-08T11:59:55.957Z"
   },
   {
    "duration": 3,
    "start_time": "2022-10-08T12:00:06.874Z"
   },
   {
    "duration": 75,
    "start_time": "2022-10-08T12:01:28.311Z"
   },
   {
    "duration": 1228,
    "start_time": "2022-10-08T12:01:38.446Z"
   },
   {
    "duration": 191,
    "start_time": "2022-10-08T12:01:56.825Z"
   },
   {
    "duration": 3,
    "start_time": "2022-10-08T12:02:27.285Z"
   },
   {
    "duration": 167,
    "start_time": "2022-10-08T12:02:27.785Z"
   },
   {
    "duration": 5,
    "start_time": "2022-10-08T12:02:43.208Z"
   },
   {
    "duration": 179,
    "start_time": "2022-10-08T12:02:43.536Z"
   },
   {
    "duration": 3,
    "start_time": "2022-10-08T12:03:40.427Z"
   },
   {
    "duration": 253,
    "start_time": "2022-10-08T12:03:40.665Z"
   },
   {
    "duration": 3,
    "start_time": "2022-10-08T12:04:35.777Z"
   },
   {
    "duration": 877,
    "start_time": "2022-10-08T12:04:36.336Z"
   },
   {
    "duration": 4,
    "start_time": "2022-10-08T12:05:45.884Z"
   },
   {
    "duration": 1016,
    "start_time": "2022-10-08T12:05:46.341Z"
   },
   {
    "duration": 12,
    "start_time": "2022-10-08T12:06:53.256Z"
   },
   {
    "duration": 3,
    "start_time": "2022-10-08T12:06:55.823Z"
   },
   {
    "duration": 905,
    "start_time": "2022-10-08T12:06:56.366Z"
   },
   {
    "duration": 877,
    "start_time": "2022-10-08T12:10:50.156Z"
   },
   {
    "duration": 396,
    "start_time": "2022-10-08T12:12:13.471Z"
   },
   {
    "duration": 499,
    "start_time": "2022-10-08T12:12:31.834Z"
   },
   {
    "duration": 491,
    "start_time": "2022-10-08T12:12:50.269Z"
   },
   {
    "duration": 593,
    "start_time": "2022-10-08T12:13:29.471Z"
   },
   {
    "duration": 492,
    "start_time": "2022-10-08T12:14:47.424Z"
   },
   {
    "duration": 545,
    "start_time": "2022-10-08T12:14:55.913Z"
   },
   {
    "duration": 539,
    "start_time": "2022-10-08T12:15:17.271Z"
   },
   {
    "duration": 664,
    "start_time": "2022-10-08T12:15:24.010Z"
   },
   {
    "duration": 541,
    "start_time": "2022-10-08T12:15:46.781Z"
   },
   {
    "duration": 487,
    "start_time": "2022-10-08T12:16:45.079Z"
   },
   {
    "duration": 602,
    "start_time": "2022-10-08T12:16:56.855Z"
   },
   {
    "duration": 3,
    "start_time": "2022-10-08T12:17:27.467Z"
   },
   {
    "duration": 61,
    "start_time": "2022-10-08T12:17:27.472Z"
   },
   {
    "duration": 13,
    "start_time": "2022-10-08T12:17:27.535Z"
   },
   {
    "duration": 13,
    "start_time": "2022-10-08T12:17:27.551Z"
   },
   {
    "duration": 4,
    "start_time": "2022-10-08T12:17:27.566Z"
   },
   {
    "duration": 5,
    "start_time": "2022-10-08T12:17:27.572Z"
   },
   {
    "duration": 16,
    "start_time": "2022-10-08T12:17:27.580Z"
   },
   {
    "duration": 42,
    "start_time": "2022-10-08T12:17:27.598Z"
   },
   {
    "duration": 16,
    "start_time": "2022-10-08T12:17:27.641Z"
   },
   {
    "duration": 10,
    "start_time": "2022-10-08T12:17:27.659Z"
   },
   {
    "duration": 25,
    "start_time": "2022-10-08T12:17:27.670Z"
   },
   {
    "duration": 5,
    "start_time": "2022-10-08T12:17:27.700Z"
   },
   {
    "duration": 848,
    "start_time": "2022-10-08T12:17:27.706Z"
   },
   {
    "duration": 502,
    "start_time": "2022-10-08T12:17:30.282Z"
   },
   {
    "duration": 667,
    "start_time": "2022-10-08T12:20:15.705Z"
   },
   {
    "duration": 536,
    "start_time": "2022-10-08T12:20:22.130Z"
   },
   {
    "duration": 589,
    "start_time": "2022-10-08T12:20:30.247Z"
   },
   {
    "duration": 560,
    "start_time": "2022-10-08T12:21:39.494Z"
   },
   {
    "duration": 644,
    "start_time": "2022-10-08T12:22:17.762Z"
   },
   {
    "duration": 500,
    "start_time": "2022-10-08T12:22:43.790Z"
   },
   {
    "duration": 660,
    "start_time": "2022-10-08T12:23:00.716Z"
   },
   {
    "duration": 751,
    "start_time": "2022-10-08T12:23:20.559Z"
   },
   {
    "duration": 726,
    "start_time": "2022-10-08T12:23:26.209Z"
   },
   {
    "duration": 383,
    "start_time": "2022-10-08T12:24:05.958Z"
   },
   {
    "duration": 393,
    "start_time": "2022-10-08T12:24:14.461Z"
   },
   {
    "duration": 489,
    "start_time": "2022-10-08T12:24:21.800Z"
   },
   {
    "duration": 704,
    "start_time": "2022-10-08T12:24:34.654Z"
   },
   {
    "duration": 845,
    "start_time": "2022-10-08T12:24:57.782Z"
   },
   {
    "duration": 1010,
    "start_time": "2022-10-08T13:47:28.533Z"
   },
   {
    "duration": 851,
    "start_time": "2022-10-08T13:47:37.960Z"
   },
   {
    "duration": 981,
    "start_time": "2022-10-08T13:48:20.319Z"
   },
   {
    "duration": 853,
    "start_time": "2022-10-08T13:48:37.477Z"
   },
   {
    "duration": 1046,
    "start_time": "2022-10-08T13:48:50.186Z"
   },
   {
    "duration": 52,
    "start_time": "2022-10-09T09:19:13.997Z"
   },
   {
    "duration": 1271,
    "start_time": "2022-10-09T09:19:18.129Z"
   },
   {
    "duration": 83,
    "start_time": "2022-10-09T09:19:19.402Z"
   },
   {
    "duration": 12,
    "start_time": "2022-10-09T09:19:19.487Z"
   },
   {
    "duration": 10,
    "start_time": "2022-10-09T09:19:19.501Z"
   },
   {
    "duration": 3,
    "start_time": "2022-10-09T09:19:19.513Z"
   },
   {
    "duration": 5,
    "start_time": "2022-10-09T09:19:19.517Z"
   },
   {
    "duration": 13,
    "start_time": "2022-10-09T09:19:19.523Z"
   },
   {
    "duration": 24,
    "start_time": "2022-10-09T09:19:19.537Z"
   },
   {
    "duration": 13,
    "start_time": "2022-10-09T09:19:19.563Z"
   },
   {
    "duration": 9,
    "start_time": "2022-10-09T09:19:19.578Z"
   },
   {
    "duration": 8,
    "start_time": "2022-10-09T09:19:19.609Z"
   },
   {
    "duration": 5,
    "start_time": "2022-10-09T09:19:19.618Z"
   },
   {
    "duration": 768,
    "start_time": "2022-10-09T09:19:19.624Z"
   },
   {
    "duration": 799,
    "start_time": "2022-10-09T09:19:24.888Z"
   },
   {
    "duration": 4,
    "start_time": "2022-10-09T09:23:52.159Z"
   },
   {
    "duration": 176,
    "start_time": "2022-10-09T09:23:54.003Z"
   },
   {
    "duration": 4,
    "start_time": "2022-10-09T09:24:12.626Z"
   },
   {
    "duration": 104,
    "start_time": "2022-10-09T09:24:13.178Z"
   },
   {
    "duration": 4,
    "start_time": "2022-10-09T09:25:55.561Z"
   },
   {
    "duration": 105,
    "start_time": "2022-10-09T09:25:56.368Z"
   },
   {
    "duration": 107,
    "start_time": "2022-10-09T09:26:56.785Z"
   },
   {
    "duration": 4,
    "start_time": "2022-10-09T09:27:00.824Z"
   },
   {
    "duration": 882,
    "start_time": "2022-10-09T09:27:01.130Z"
   },
   {
    "duration": 3,
    "start_time": "2022-10-09T09:38:43.067Z"
   },
   {
    "duration": 110,
    "start_time": "2022-10-09T09:38:43.727Z"
   },
   {
    "duration": 3,
    "start_time": "2022-10-09T09:39:27.980Z"
   },
   {
    "duration": 737,
    "start_time": "2022-10-09T09:39:28.637Z"
   },
   {
    "duration": 48203,
    "start_time": "2022-10-09T09:39:39.277Z"
   },
   {
    "duration": 3,
    "start_time": "2022-10-09T09:40:27.482Z"
   },
   {
    "duration": 861,
    "start_time": "2022-10-09T09:40:27.487Z"
   },
   {
    "duration": 3,
    "start_time": "2022-10-09T09:41:53.355Z"
   },
   {
    "duration": 36,
    "start_time": "2022-10-09T09:41:53.360Z"
   },
   {
    "duration": 10,
    "start_time": "2022-10-09T09:41:53.398Z"
   },
   {
    "duration": 7,
    "start_time": "2022-10-09T09:41:53.410Z"
   },
   {
    "duration": 3,
    "start_time": "2022-10-09T09:41:53.419Z"
   },
   {
    "duration": 9,
    "start_time": "2022-10-09T09:41:53.424Z"
   },
   {
    "duration": 39,
    "start_time": "2022-10-09T09:41:53.435Z"
   },
   {
    "duration": 22,
    "start_time": "2022-10-09T09:41:53.475Z"
   },
   {
    "duration": 13,
    "start_time": "2022-10-09T09:41:53.499Z"
   },
   {
    "duration": 11,
    "start_time": "2022-10-09T09:41:53.515Z"
   },
   {
    "duration": 7,
    "start_time": "2022-10-09T09:41:53.527Z"
   },
   {
    "duration": 3,
    "start_time": "2022-10-09T09:41:53.536Z"
   },
   {
    "duration": 780,
    "start_time": "2022-10-09T09:41:53.540Z"
   },
   {
    "duration": 850,
    "start_time": "2022-10-09T09:41:54.322Z"
   },
   {
    "duration": 735,
    "start_time": "2022-10-09T09:41:57.749Z"
   },
   {
    "duration": 866,
    "start_time": "2022-10-09T09:42:33.857Z"
   },
   {
    "duration": 19,
    "start_time": "2022-10-09T09:51:13.379Z"
   },
   {
    "duration": 1342,
    "start_time": "2022-10-09T09:54:02.899Z"
   },
   {
    "duration": 453,
    "start_time": "2022-10-09T09:54:17.471Z"
   },
   {
    "duration": 391,
    "start_time": "2022-10-09T09:56:16.944Z"
   },
   {
    "duration": 441,
    "start_time": "2022-10-09T09:57:25.468Z"
   },
   {
    "duration": 203,
    "start_time": "2022-10-09T09:57:38.154Z"
   },
   {
    "duration": 6,
    "start_time": "2022-10-09T09:58:06.833Z"
   },
   {
    "duration": 51,
    "start_time": "2022-10-09T09:58:06.841Z"
   },
   {
    "duration": 11,
    "start_time": "2022-10-09T09:58:06.894Z"
   },
   {
    "duration": 8,
    "start_time": "2022-10-09T09:58:06.906Z"
   },
   {
    "duration": 4,
    "start_time": "2022-10-09T09:58:06.916Z"
   },
   {
    "duration": 6,
    "start_time": "2022-10-09T09:58:06.922Z"
   },
   {
    "duration": 16,
    "start_time": "2022-10-09T09:58:06.929Z"
   },
   {
    "duration": 28,
    "start_time": "2022-10-09T09:58:06.946Z"
   },
   {
    "duration": 36,
    "start_time": "2022-10-09T09:58:06.976Z"
   },
   {
    "duration": 9,
    "start_time": "2022-10-09T09:58:07.015Z"
   },
   {
    "duration": 15,
    "start_time": "2022-10-09T09:58:07.026Z"
   },
   {
    "duration": 8,
    "start_time": "2022-10-09T09:58:07.043Z"
   },
   {
    "duration": 738,
    "start_time": "2022-10-09T09:58:07.053Z"
   },
   {
    "duration": 843,
    "start_time": "2022-10-09T09:58:07.793Z"
   },
   {
    "duration": 767,
    "start_time": "2022-10-09T09:58:08.637Z"
   },
   {
    "duration": 912,
    "start_time": "2022-10-09T09:58:09.408Z"
   },
   {
    "duration": 26,
    "start_time": "2022-10-09T09:58:10.322Z"
   },
   {
    "duration": 453,
    "start_time": "2022-10-09T09:58:13.197Z"
   },
   {
    "duration": 442,
    "start_time": "2022-10-09T09:58:18.430Z"
   },
   {
    "duration": 436,
    "start_time": "2022-10-09T09:58:26.875Z"
   },
   {
    "duration": 458,
    "start_time": "2022-10-09T09:58:34.528Z"
   },
   {
    "duration": 468,
    "start_time": "2022-10-09T09:58:40.495Z"
   },
   {
    "duration": 436,
    "start_time": "2022-10-09T09:58:48.507Z"
   },
   {
    "duration": 1370,
    "start_time": "2022-10-09T09:59:22.921Z"
   },
   {
    "duration": 1221,
    "start_time": "2022-10-09T09:59:59.453Z"
   },
   {
    "duration": 1338,
    "start_time": "2022-10-09T10:01:02.149Z"
   },
   {
    "duration": 448,
    "start_time": "2022-10-09T10:01:26.769Z"
   },
   {
    "duration": 1290,
    "start_time": "2022-10-09T10:01:48.355Z"
   },
   {
    "duration": 1269,
    "start_time": "2022-10-09T10:02:19.969Z"
   },
   {
    "duration": 1255,
    "start_time": "2022-10-09T10:03:14.208Z"
   },
   {
    "duration": 837,
    "start_time": "2022-10-09T10:04:29.991Z"
   },
   {
    "duration": 5,
    "start_time": "2022-10-09T10:13:16.621Z"
   },
   {
    "duration": 1263,
    "start_time": "2022-10-10T07:49:36.533Z"
   },
   {
    "duration": 66,
    "start_time": "2022-10-10T07:49:37.798Z"
   },
   {
    "duration": 11,
    "start_time": "2022-10-10T07:49:37.865Z"
   },
   {
    "duration": 10,
    "start_time": "2022-10-10T07:49:37.877Z"
   },
   {
    "duration": 3,
    "start_time": "2022-10-10T07:49:37.888Z"
   },
   {
    "duration": 6,
    "start_time": "2022-10-10T07:49:37.893Z"
   },
   {
    "duration": 11,
    "start_time": "2022-10-10T07:49:37.901Z"
   },
   {
    "duration": 26,
    "start_time": "2022-10-10T07:49:37.914Z"
   },
   {
    "duration": 14,
    "start_time": "2022-10-10T07:49:37.942Z"
   },
   {
    "duration": 8,
    "start_time": "2022-10-10T07:49:37.958Z"
   },
   {
    "duration": 4,
    "start_time": "2022-10-10T07:49:37.968Z"
   },
   {
    "duration": 629,
    "start_time": "2022-10-10T07:49:37.973Z"
   },
   {
    "duration": 882,
    "start_time": "2022-10-10T07:49:38.609Z"
   },
   {
    "duration": 656,
    "start_time": "2022-10-10T07:49:39.493Z"
   },
   {
    "duration": 854,
    "start_time": "2022-10-10T07:49:40.151Z"
   },
   {
    "duration": 19,
    "start_time": "2022-10-10T07:49:41.008Z"
   },
   {
    "duration": 1276,
    "start_time": "2022-10-10T07:49:41.028Z"
   },
   {
    "duration": 4,
    "start_time": "2022-10-10T07:49:46.703Z"
   },
   {
    "duration": 101,
    "start_time": "2022-10-10T07:51:01.853Z"
   },
   {
    "duration": 290,
    "start_time": "2022-10-10T07:51:48.024Z"
   },
   {
    "duration": 5,
    "start_time": "2022-10-10T07:51:52.013Z"
   },
   {
    "duration": 2,
    "start_time": "2022-10-10T07:54:51.133Z"
   },
   {
    "duration": 20,
    "start_time": "2022-10-10T07:56:21.629Z"
   },
   {
    "duration": 2,
    "start_time": "2022-10-10T07:56:25.455Z"
   },
   {
    "duration": 611,
    "start_time": "2022-10-10T07:56:25.799Z"
   },
   {
    "duration": 4,
    "start_time": "2022-10-10T07:56:50.869Z"
   },
   {
    "duration": 3,
    "start_time": "2022-10-10T07:56:51.300Z"
   },
   {
    "duration": 479,
    "start_time": "2022-10-10T07:56:51.734Z"
   },
   {
    "duration": 514,
    "start_time": "2022-10-10T07:57:07.214Z"
   },
   {
    "duration": 10,
    "start_time": "2022-10-10T07:57:14.853Z"
   },
   {
    "duration": 6,
    "start_time": "2022-10-10T07:57:34.133Z"
   },
   {
    "duration": 24,
    "start_time": "2022-10-10T07:59:38.338Z"
   },
   {
    "duration": 3,
    "start_time": "2022-10-10T08:00:15.230Z"
   },
   {
    "duration": 3,
    "start_time": "2022-10-10T08:05:38.087Z"
   },
   {
    "duration": 7,
    "start_time": "2022-10-10T08:05:47.205Z"
   },
   {
    "duration": 13,
    "start_time": "2022-10-10T08:08:38.397Z"
   },
   {
    "duration": 13,
    "start_time": "2022-10-10T08:11:44.534Z"
   },
   {
    "duration": 3,
    "start_time": "2022-10-10T08:12:11.774Z"
   },
   {
    "duration": 38,
    "start_time": "2022-10-10T08:12:11.779Z"
   },
   {
    "duration": 10,
    "start_time": "2022-10-10T08:12:11.818Z"
   },
   {
    "duration": 8,
    "start_time": "2022-10-10T08:12:11.829Z"
   },
   {
    "duration": 3,
    "start_time": "2022-10-10T08:12:11.839Z"
   },
   {
    "duration": 5,
    "start_time": "2022-10-10T08:12:11.844Z"
   },
   {
    "duration": 11,
    "start_time": "2022-10-10T08:12:11.850Z"
   },
   {
    "duration": 47,
    "start_time": "2022-10-10T08:12:11.862Z"
   },
   {
    "duration": 13,
    "start_time": "2022-10-10T08:12:11.910Z"
   },
   {
    "duration": 7,
    "start_time": "2022-10-10T08:12:11.924Z"
   },
   {
    "duration": 3,
    "start_time": "2022-10-10T08:12:11.932Z"
   },
   {
    "duration": 609,
    "start_time": "2022-10-10T08:12:11.937Z"
   },
   {
    "duration": 897,
    "start_time": "2022-10-10T08:12:12.548Z"
   },
   {
    "duration": 692,
    "start_time": "2022-10-10T08:12:13.447Z"
   },
   {
    "duration": 911,
    "start_time": "2022-10-10T08:12:14.140Z"
   },
   {
    "duration": 17,
    "start_time": "2022-10-10T08:12:15.053Z"
   },
   {
    "duration": 1338,
    "start_time": "2022-10-10T08:12:15.071Z"
   },
   {
    "duration": 4,
    "start_time": "2022-10-10T08:12:16.410Z"
   },
   {
    "duration": 8,
    "start_time": "2022-10-10T08:12:16.415Z"
   },
   {
    "duration": 10,
    "start_time": "2022-10-10T08:12:16.425Z"
   },
   {
    "duration": 5,
    "start_time": "2022-10-10T08:12:16.436Z"
   },
   {
    "duration": 2,
    "start_time": "2022-10-10T08:12:16.442Z"
   },
   {
    "duration": 70,
    "start_time": "2022-10-10T08:12:16.446Z"
   },
   {
    "duration": 100,
    "start_time": "2022-10-10T08:12:16.517Z"
   },
   {
    "duration": 194,
    "start_time": "2022-10-10T08:12:16.618Z"
   },
   {
    "duration": 786,
    "start_time": "2022-10-10T08:12:16.814Z"
   },
   {
    "duration": 21,
    "start_time": "2022-10-10T08:13:04.125Z"
   },
   {
    "duration": 22,
    "start_time": "2022-10-10T08:14:10.405Z"
   },
   {
    "duration": 3,
    "start_time": "2022-10-10T08:17:16.965Z"
   },
   {
    "duration": 16,
    "start_time": "2022-10-10T08:17:42.885Z"
   },
   {
    "duration": 11,
    "start_time": "2022-10-10T08:19:09.158Z"
   },
   {
    "duration": 4,
    "start_time": "2022-10-10T08:19:44.245Z"
   },
   {
    "duration": 6,
    "start_time": "2022-10-10T08:19:51.604Z"
   },
   {
    "duration": 6,
    "start_time": "2022-10-10T08:20:46.126Z"
   },
   {
    "duration": 6,
    "start_time": "2022-10-10T08:21:39.728Z"
   },
   {
    "duration": 8,
    "start_time": "2022-10-10T08:21:40.004Z"
   },
   {
    "duration": 14,
    "start_time": "2022-10-10T08:22:01.066Z"
   },
   {
    "duration": 4,
    "start_time": "2022-10-10T08:23:31.725Z"
   },
   {
    "duration": 39,
    "start_time": "2022-10-10T08:23:31.731Z"
   },
   {
    "duration": 10,
    "start_time": "2022-10-10T08:23:31.772Z"
   },
   {
    "duration": 10,
    "start_time": "2022-10-10T08:23:31.784Z"
   },
   {
    "duration": 9,
    "start_time": "2022-10-10T08:23:31.795Z"
   },
   {
    "duration": 38,
    "start_time": "2022-10-10T08:23:31.805Z"
   },
   {
    "duration": 28,
    "start_time": "2022-10-10T08:23:31.845Z"
   },
   {
    "duration": 37,
    "start_time": "2022-10-10T08:23:31.875Z"
   },
   {
    "duration": 39,
    "start_time": "2022-10-10T08:23:31.913Z"
   },
   {
    "duration": 49,
    "start_time": "2022-10-10T08:23:31.955Z"
   },
   {
    "duration": 47,
    "start_time": "2022-10-10T08:23:32.005Z"
   },
   {
    "duration": 616,
    "start_time": "2022-10-10T08:23:32.054Z"
   },
   {
    "duration": 905,
    "start_time": "2022-10-10T08:23:32.671Z"
   },
   {
    "duration": 656,
    "start_time": "2022-10-10T08:23:33.577Z"
   },
   {
    "duration": 1023,
    "start_time": "2022-10-10T08:23:34.235Z"
   },
   {
    "duration": 19,
    "start_time": "2022-10-10T08:23:35.260Z"
   },
   {
    "duration": 1237,
    "start_time": "2022-10-10T08:23:35.280Z"
   },
   {
    "duration": 4,
    "start_time": "2022-10-10T08:23:36.519Z"
   },
   {
    "duration": 11,
    "start_time": "2022-10-10T08:23:36.525Z"
   },
   {
    "duration": 9,
    "start_time": "2022-10-10T08:23:36.537Z"
   },
   {
    "duration": 7,
    "start_time": "2022-10-10T08:23:36.547Z"
   },
   {
    "duration": 4,
    "start_time": "2022-10-10T08:23:36.555Z"
   },
   {
    "duration": 150,
    "start_time": "2022-10-10T08:23:36.560Z"
   },
   {
    "duration": 101,
    "start_time": "2022-10-10T08:23:36.711Z"
   },
   {
    "duration": 8,
    "start_time": "2022-10-10T08:23:36.814Z"
   },
   {
    "duration": 914,
    "start_time": "2022-10-10T08:23:36.824Z"
   },
   {
    "duration": 15,
    "start_time": "2022-10-10T08:23:37.739Z"
   },
   {
    "duration": 3,
    "start_time": "2022-10-10T08:23:37.757Z"
   },
   {
    "duration": 8,
    "start_time": "2022-10-10T08:23:37.761Z"
   },
   {
    "duration": 14,
    "start_time": "2022-10-10T08:23:39.213Z"
   },
   {
    "duration": 3,
    "start_time": "2022-10-10T08:29:41.965Z"
   },
   {
    "duration": 733,
    "start_time": "2022-10-10T08:29:42.685Z"
   },
   {
    "duration": 18,
    "start_time": "2022-10-10T08:29:44.527Z"
   },
   {
    "duration": 4,
    "start_time": "2022-10-10T08:29:46.245Z"
   },
   {
    "duration": 8,
    "start_time": "2022-10-10T08:29:46.885Z"
   },
   {
    "duration": 14,
    "start_time": "2022-10-10T08:29:47.725Z"
   },
   {
    "duration": 22,
    "start_time": "2022-10-10T08:33:28.085Z"
   },
   {
    "duration": 10,
    "start_time": "2022-10-10T08:33:58.206Z"
   },
   {
    "duration": 3,
    "start_time": "2022-10-10T08:45:44.775Z"
   },
   {
    "duration": 3,
    "start_time": "2022-10-10T08:46:06.766Z"
   },
   {
    "duration": 340,
    "start_time": "2022-10-10T08:46:08.655Z"
   },
   {
    "duration": 21,
    "start_time": "2022-10-10T08:46:09.166Z"
   },
   {
    "duration": 3,
    "start_time": "2022-10-10T08:46:09.721Z"
   },
   {
    "duration": 6,
    "start_time": "2022-10-10T08:46:10.236Z"
   },
   {
    "duration": 7,
    "start_time": "2022-10-10T08:46:11.005Z"
   },
   {
    "duration": 7,
    "start_time": "2022-10-10T08:47:34.177Z"
   },
   {
    "duration": 4,
    "start_time": "2022-10-10T08:50:02.845Z"
   },
   {
    "duration": 447,
    "start_time": "2022-10-10T08:51:01.171Z"
   },
   {
    "duration": 95233,
    "start_time": "2022-10-10T08:51:48.652Z"
   },
   {
    "duration": 27,
    "start_time": "2022-10-10T08:53:23.887Z"
   },
   {
    "duration": 2,
    "start_time": "2022-10-10T08:58:07.054Z"
   },
   {
    "duration": 1311,
    "start_time": "2022-10-10T09:00:21.806Z"
   },
   {
    "duration": 3,
    "start_time": "2022-10-10T09:01:11.677Z"
   },
   {
    "duration": 14,
    "start_time": "2022-10-10T09:02:05.172Z"
   },
   {
    "duration": 15,
    "start_time": "2022-10-10T09:02:10.605Z"
   },
   {
    "duration": 436,
    "start_time": "2022-10-10T09:05:03.129Z"
   },
   {
    "duration": 2,
    "start_time": "2022-10-10T09:07:25.134Z"
   },
   {
    "duration": 5,
    "start_time": "2022-10-10T09:46:24.607Z"
   },
   {
    "duration": 39,
    "start_time": "2022-10-10T09:46:24.616Z"
   },
   {
    "duration": 11,
    "start_time": "2022-10-10T09:46:24.657Z"
   },
   {
    "duration": 7,
    "start_time": "2022-10-10T09:46:24.670Z"
   },
   {
    "duration": 4,
    "start_time": "2022-10-10T09:46:24.679Z"
   },
   {
    "duration": 9,
    "start_time": "2022-10-10T09:46:24.684Z"
   },
   {
    "duration": 10,
    "start_time": "2022-10-10T09:46:24.801Z"
   },
   {
    "duration": 24,
    "start_time": "2022-10-10T09:46:24.813Z"
   },
   {
    "duration": 13,
    "start_time": "2022-10-10T09:46:24.839Z"
   },
   {
    "duration": 8,
    "start_time": "2022-10-10T09:46:24.854Z"
   },
   {
    "duration": 7,
    "start_time": "2022-10-10T09:46:24.863Z"
   },
   {
    "duration": 636,
    "start_time": "2022-10-10T09:46:24.876Z"
   },
   {
    "duration": 860,
    "start_time": "2022-10-10T09:46:25.514Z"
   },
   {
    "duration": 795,
    "start_time": "2022-10-10T09:46:26.375Z"
   },
   {
    "duration": 855,
    "start_time": "2022-10-10T09:46:27.172Z"
   },
   {
    "duration": 18,
    "start_time": "2022-10-10T09:46:28.029Z"
   },
   {
    "duration": 1308,
    "start_time": "2022-10-10T09:46:28.049Z"
   },
   {
    "duration": 3,
    "start_time": "2022-10-10T09:46:29.358Z"
   },
   {
    "duration": 6,
    "start_time": "2022-10-10T09:46:29.362Z"
   },
   {
    "duration": 23,
    "start_time": "2022-10-10T09:46:29.370Z"
   },
   {
    "duration": 7,
    "start_time": "2022-10-10T09:46:29.395Z"
   },
   {
    "duration": 17,
    "start_time": "2022-10-10T09:46:29.403Z"
   },
   {
    "duration": 3,
    "start_time": "2022-10-10T09:46:29.421Z"
   },
   {
    "duration": 90,
    "start_time": "2022-10-10T09:46:29.425Z"
   },
   {
    "duration": 8,
    "start_time": "2022-10-10T09:46:29.609Z"
   },
   {
    "duration": 196,
    "start_time": "2022-10-10T09:46:29.618Z"
   },
   {
    "duration": 347,
    "start_time": "2022-10-10T09:46:29.816Z"
   },
   {
    "duration": 22,
    "start_time": "2022-10-10T09:46:30.164Z"
   },
   {
    "duration": 3,
    "start_time": "2022-10-10T09:46:30.187Z"
   },
   {
    "duration": 18,
    "start_time": "2022-10-10T09:46:30.191Z"
   },
   {
    "duration": 10,
    "start_time": "2022-10-10T09:46:30.210Z"
   },
   {
    "duration": 14,
    "start_time": "2022-10-10T09:46:30.221Z"
   },
   {
    "duration": 428,
    "start_time": "2022-10-10T09:46:30.237Z"
   },
   {
    "duration": 94022,
    "start_time": "2022-10-10T09:46:30.667Z"
   },
   {
    "duration": 2,
    "start_time": "2022-10-10T09:48:04.691Z"
   },
   {
    "duration": 1426,
    "start_time": "2022-10-10T09:48:04.695Z"
   },
   {
    "duration": 3,
    "start_time": "2022-10-10T09:48:06.123Z"
   },
   {
    "duration": 3,
    "start_time": "2022-10-10T09:51:11.149Z"
   },
   {
    "duration": 939,
    "start_time": "2022-10-10T09:51:11.670Z"
   },
   {
    "duration": 4,
    "start_time": "2022-10-10T09:51:14.750Z"
   },
   {
    "duration": 16,
    "start_time": "2022-10-10T09:51:18.393Z"
   },
   {
    "duration": 16,
    "start_time": "2022-10-10T09:53:13.153Z"
   },
   {
    "duration": 16,
    "start_time": "2022-10-10T09:53:51.798Z"
   },
   {
    "duration": 18,
    "start_time": "2022-10-10T10:05:15.023Z"
   },
   {
    "duration": 17,
    "start_time": "2022-10-10T10:07:08.318Z"
   },
   {
    "duration": 1704,
    "start_time": "2022-10-10T10:07:48.430Z"
   },
   {
    "duration": 1733,
    "start_time": "2022-10-10T10:08:53.472Z"
   },
   {
    "duration": 15,
    "start_time": "2022-10-10T10:16:00.587Z"
   },
   {
    "duration": 12,
    "start_time": "2022-10-10T10:16:38.002Z"
   },
   {
    "duration": 13,
    "start_time": "2022-10-10T10:20:57.205Z"
   },
   {
    "duration": 9,
    "start_time": "2022-10-10T10:25:18.591Z"
   },
   {
    "duration": 9,
    "start_time": "2022-10-10T10:25:27.117Z"
   },
   {
    "duration": 248,
    "start_time": "2022-10-10T10:25:39.902Z"
   },
   {
    "duration": 359,
    "start_time": "2022-10-10T10:27:00.889Z"
   },
   {
    "duration": 294,
    "start_time": "2022-10-10T10:27:15.751Z"
   },
   {
    "duration": 299,
    "start_time": "2022-10-10T10:28:14.670Z"
   },
   {
    "duration": 562,
    "start_time": "2022-10-10T10:28:32.350Z"
   },
   {
    "duration": 532,
    "start_time": "2022-10-10T10:30:11.262Z"
   },
   {
    "duration": 576,
    "start_time": "2022-10-10T10:30:50.119Z"
   },
   {
    "duration": 10536,
    "start_time": "2022-10-10T10:31:50.709Z"
   },
   {
    "duration": 4,
    "start_time": "2022-10-10T11:04:39.725Z"
   },
   {
    "duration": 29,
    "start_time": "2022-10-10T11:04:39.747Z"
   },
   {
    "duration": 9,
    "start_time": "2022-10-10T11:04:39.778Z"
   },
   {
    "duration": 6,
    "start_time": "2022-10-10T11:04:39.789Z"
   },
   {
    "duration": 7,
    "start_time": "2022-10-10T11:04:39.797Z"
   },
   {
    "duration": 4,
    "start_time": "2022-10-10T11:04:39.805Z"
   },
   {
    "duration": 10,
    "start_time": "2022-10-10T11:04:39.842Z"
   },
   {
    "duration": 24,
    "start_time": "2022-10-10T11:04:40.053Z"
   },
   {
    "duration": 14,
    "start_time": "2022-10-10T11:04:40.079Z"
   },
   {
    "duration": 7,
    "start_time": "2022-10-10T11:04:40.100Z"
   },
   {
    "duration": 6,
    "start_time": "2022-10-10T11:04:40.108Z"
   },
   {
    "duration": 615,
    "start_time": "2022-10-10T11:04:40.115Z"
   },
   {
    "duration": 899,
    "start_time": "2022-10-10T11:04:40.731Z"
   },
   {
    "duration": 628,
    "start_time": "2022-10-10T11:04:41.633Z"
   },
   {
    "duration": 914,
    "start_time": "2022-10-10T11:04:42.262Z"
   },
   {
    "duration": 20,
    "start_time": "2022-10-10T11:04:43.178Z"
   },
   {
    "duration": 1305,
    "start_time": "2022-10-10T11:04:43.199Z"
   },
   {
    "duration": 3,
    "start_time": "2022-10-10T11:04:44.506Z"
   },
   {
    "duration": 8,
    "start_time": "2022-10-10T11:04:44.510Z"
   },
   {
    "duration": 10,
    "start_time": "2022-10-10T11:04:44.520Z"
   },
   {
    "duration": 11,
    "start_time": "2022-10-10T11:04:44.534Z"
   },
   {
    "duration": 10,
    "start_time": "2022-10-10T11:04:44.547Z"
   },
   {
    "duration": 8,
    "start_time": "2022-10-10T11:04:44.560Z"
   },
   {
    "duration": 1043,
    "start_time": "2022-10-10T11:04:44.569Z"
   },
   {
    "duration": 4,
    "start_time": "2022-10-10T11:04:45.614Z"
   },
   {
    "duration": 99,
    "start_time": "2022-10-10T11:04:45.711Z"
   },
   {
    "duration": 345,
    "start_time": "2022-10-10T11:04:45.812Z"
   },
   {
    "duration": 23,
    "start_time": "2022-10-10T11:04:46.159Z"
   },
   {
    "duration": 3,
    "start_time": "2022-10-10T11:04:46.184Z"
   },
   {
    "duration": 12,
    "start_time": "2022-10-10T11:04:46.188Z"
   },
   {
    "duration": 14,
    "start_time": "2022-10-10T11:04:46.201Z"
   },
   {
    "duration": 8,
    "start_time": "2022-10-10T11:04:46.217Z"
   },
   {
    "duration": 445,
    "start_time": "2022-10-10T11:04:52.619Z"
   },
   {
    "duration": 3,
    "start_time": "2022-10-10T11:04:57.124Z"
   },
   {
    "duration": 1101,
    "start_time": "2022-10-10T11:04:57.714Z"
   },
   {
    "duration": 3,
    "start_time": "2022-10-10T11:04:59.636Z"
   },
   {
    "duration": 17,
    "start_time": "2022-10-10T11:05:00.291Z"
   },
   {
    "duration": 11,
    "start_time": "2022-10-10T11:05:05.131Z"
   },
   {
    "duration": 594,
    "start_time": "2022-10-10T11:07:41.287Z"
   },
   {
    "duration": 17,
    "start_time": "2022-10-10T11:08:05.515Z"
   },
   {
    "duration": 45,
    "start_time": "2022-10-10T11:10:58.884Z"
   },
   {
    "duration": 1567,
    "start_time": "2022-10-10T11:11:39.034Z"
   },
   {
    "duration": 1738,
    "start_time": "2022-10-10T11:16:30.911Z"
   },
   {
    "duration": 2247,
    "start_time": "2022-10-10T11:17:06.324Z"
   },
   {
    "duration": 732,
    "start_time": "2022-10-10T11:18:32.475Z"
   },
   {
    "duration": 615,
    "start_time": "2022-10-10T11:18:42.251Z"
   },
   {
    "duration": 700,
    "start_time": "2022-10-10T11:18:57.491Z"
   },
   {
    "duration": 3285,
    "start_time": "2022-10-10T11:19:45.483Z"
   },
   {
    "duration": 671,
    "start_time": "2022-10-10T11:20:59.395Z"
   },
   {
    "duration": 4704,
    "start_time": "2022-10-10T11:22:35.596Z"
   },
   {
    "duration": 3956,
    "start_time": "2022-10-10T11:22:55.925Z"
   },
   {
    "duration": 654,
    "start_time": "2022-10-10T11:25:05.517Z"
   },
   {
    "duration": 4190,
    "start_time": "2022-10-10T11:25:22.643Z"
   },
   {
    "duration": 4304,
    "start_time": "2022-10-10T11:26:47.518Z"
   },
   {
    "duration": 12,
    "start_time": "2022-10-10T11:27:58.492Z"
   },
   {
    "duration": 4239,
    "start_time": "2022-10-10T11:29:27.877Z"
   },
   {
    "duration": 52,
    "start_time": "2022-10-10T15:18:25.084Z"
   },
   {
    "duration": 1669,
    "start_time": "2022-10-10T15:18:31.906Z"
   },
   {
    "duration": 138,
    "start_time": "2022-10-10T15:18:33.577Z"
   },
   {
    "duration": 13,
    "start_time": "2022-10-10T15:18:33.716Z"
   },
   {
    "duration": 9,
    "start_time": "2022-10-10T15:18:33.731Z"
   },
   {
    "duration": 3,
    "start_time": "2022-10-10T15:18:33.742Z"
   },
   {
    "duration": 9,
    "start_time": "2022-10-10T15:18:33.746Z"
   },
   {
    "duration": 17,
    "start_time": "2022-10-10T15:18:33.756Z"
   },
   {
    "duration": 37,
    "start_time": "2022-10-10T15:18:33.775Z"
   },
   {
    "duration": 15,
    "start_time": "2022-10-10T15:18:33.813Z"
   },
   {
    "duration": 8,
    "start_time": "2022-10-10T15:18:33.829Z"
   },
   {
    "duration": 5,
    "start_time": "2022-10-10T15:18:33.839Z"
   },
   {
    "duration": 877,
    "start_time": "2022-10-10T15:18:33.845Z"
   },
   {
    "duration": 905,
    "start_time": "2022-10-10T15:18:34.724Z"
   },
   {
    "duration": 845,
    "start_time": "2022-10-10T15:18:35.632Z"
   },
   {
    "duration": 1029,
    "start_time": "2022-10-10T15:18:36.479Z"
   },
   {
    "duration": 23,
    "start_time": "2022-10-10T15:18:37.512Z"
   },
   {
    "duration": 1420,
    "start_time": "2022-10-10T15:18:37.536Z"
   },
   {
    "duration": 2,
    "start_time": "2022-10-10T15:18:38.958Z"
   },
   {
    "duration": 7,
    "start_time": "2022-10-10T15:18:38.962Z"
   },
   {
    "duration": 16,
    "start_time": "2022-10-10T15:18:38.971Z"
   },
   {
    "duration": 21,
    "start_time": "2022-10-10T15:18:38.988Z"
   },
   {
    "duration": 18,
    "start_time": "2022-10-10T15:18:39.011Z"
   },
   {
    "duration": 18,
    "start_time": "2022-10-10T15:18:39.031Z"
   },
   {
    "duration": 264,
    "start_time": "2022-10-10T15:18:39.051Z"
   },
   {
    "duration": 104,
    "start_time": "2022-10-10T15:18:39.396Z"
   },
   {
    "duration": 15,
    "start_time": "2022-10-10T15:18:39.502Z"
   },
   {
    "duration": 502,
    "start_time": "2022-10-10T15:18:39.518Z"
   },
   {
    "duration": 27,
    "start_time": "2022-10-10T15:18:40.021Z"
   },
   {
    "duration": 3,
    "start_time": "2022-10-10T15:18:40.050Z"
   },
   {
    "duration": 15,
    "start_time": "2022-10-10T15:18:40.055Z"
   },
   {
    "duration": 28,
    "start_time": "2022-10-10T15:18:40.071Z"
   },
   {
    "duration": 18,
    "start_time": "2022-10-10T15:18:40.100Z"
   },
   {
    "duration": 598,
    "start_time": "2022-10-10T15:19:06.937Z"
   },
   {
    "duration": 3,
    "start_time": "2022-10-10T15:19:10.153Z"
   },
   {
    "duration": 925,
    "start_time": "2022-10-10T15:19:10.983Z"
   },
   {
    "duration": 8,
    "start_time": "2022-10-10T15:19:11.911Z"
   },
   {
    "duration": 18,
    "start_time": "2022-10-10T15:19:12.418Z"
   },
   {
    "duration": 4827,
    "start_time": "2022-10-10T15:19:15.593Z"
   },
   {
    "duration": 322,
    "start_time": "2022-10-10T15:19:29.734Z"
   },
   {
    "duration": 4944,
    "start_time": "2022-10-10T15:19:35.505Z"
   },
   {
    "duration": 25,
    "start_time": "2022-10-10T15:19:58.192Z"
   },
   {
    "duration": 20,
    "start_time": "2022-10-10T15:20:12.447Z"
   },
   {
    "duration": 21,
    "start_time": "2022-10-10T15:20:15.880Z"
   },
   {
    "duration": 4613,
    "start_time": "2022-10-10T15:21:04.724Z"
   },
   {
    "duration": 4640,
    "start_time": "2022-10-10T15:21:20.053Z"
   },
   {
    "duration": 5112,
    "start_time": "2022-10-10T15:21:48.975Z"
   },
   {
    "duration": 4868,
    "start_time": "2022-10-10T15:23:46.405Z"
   },
   {
    "duration": 4939,
    "start_time": "2022-10-10T15:24:38.805Z"
   },
   {
    "duration": 4772,
    "start_time": "2022-10-10T15:25:07.619Z"
   },
   {
    "duration": 5060,
    "start_time": "2022-10-10T15:29:36.545Z"
   },
   {
    "duration": 47,
    "start_time": "2022-10-10T15:29:52.994Z"
   },
   {
    "duration": 4950,
    "start_time": "2022-10-10T15:30:10.064Z"
   },
   {
    "duration": 25,
    "start_time": "2022-10-10T15:30:18.976Z"
   },
   {
    "duration": 4973,
    "start_time": "2022-10-10T15:30:38.584Z"
   },
   {
    "duration": 26,
    "start_time": "2022-10-10T15:30:59.872Z"
   },
   {
    "duration": 5174,
    "start_time": "2022-10-10T15:31:18.747Z"
   },
   {
    "duration": 21,
    "start_time": "2022-10-10T15:31:42.038Z"
   },
   {
    "duration": 4983,
    "start_time": "2022-10-10T15:32:02.565Z"
   },
   {
    "duration": 4916,
    "start_time": "2022-10-10T15:32:24.162Z"
   },
   {
    "duration": 24,
    "start_time": "2022-10-10T15:32:32.919Z"
   },
   {
    "duration": 4907,
    "start_time": "2022-10-10T15:32:53.123Z"
   },
   {
    "duration": 23,
    "start_time": "2022-10-10T15:33:16.227Z"
   },
   {
    "duration": 5064,
    "start_time": "2022-10-10T15:33:39.760Z"
   },
   {
    "duration": 23,
    "start_time": "2022-10-10T15:33:53.118Z"
   },
   {
    "duration": 4977,
    "start_time": "2022-10-10T15:34:15.710Z"
   },
   {
    "duration": 4943,
    "start_time": "2022-10-10T15:34:38.455Z"
   },
   {
    "duration": 4772,
    "start_time": "2022-10-10T15:35:05.253Z"
   },
   {
    "duration": 5140,
    "start_time": "2022-10-10T15:36:02.925Z"
   },
   {
    "duration": 5071,
    "start_time": "2022-10-10T15:36:42.149Z"
   },
   {
    "duration": 5191,
    "start_time": "2022-10-10T15:37:05.966Z"
   },
   {
    "duration": 4936,
    "start_time": "2022-10-10T15:37:51.355Z"
   },
   {
    "duration": 5005,
    "start_time": "2022-10-10T15:38:21.915Z"
   },
   {
    "duration": 5053,
    "start_time": "2022-10-10T15:39:14.206Z"
   },
   {
    "duration": 4878,
    "start_time": "2022-10-10T15:39:45.469Z"
   },
   {
    "duration": 5463,
    "start_time": "2022-10-10T15:40:08.745Z"
   },
   {
    "duration": 23,
    "start_time": "2022-10-10T15:40:46.529Z"
   },
   {
    "duration": 13,
    "start_time": "2022-10-10T15:41:25.624Z"
   },
   {
    "duration": 5070,
    "start_time": "2022-10-10T15:42:20.564Z"
   },
   {
    "duration": 5220,
    "start_time": "2022-10-10T15:42:46.266Z"
   },
   {
    "duration": 973,
    "start_time": "2022-10-10T17:15:30.559Z"
   },
   {
    "duration": 978,
    "start_time": "2022-10-10T17:15:39.063Z"
   },
   {
    "duration": 863,
    "start_time": "2022-10-10T17:15:46.893Z"
   },
   {
    "duration": 5672,
    "start_time": "2022-10-10T17:17:17.883Z"
   },
   {
    "duration": 5400,
    "start_time": "2022-10-10T17:18:18.334Z"
   },
   {
    "duration": 3472,
    "start_time": "2022-10-10T17:18:37.112Z"
   },
   {
    "duration": 4,
    "start_time": "2022-10-10T18:14:00.130Z"
   },
   {
    "duration": 46,
    "start_time": "2022-10-10T18:14:00.136Z"
   },
   {
    "duration": 10,
    "start_time": "2022-10-10T18:14:00.183Z"
   },
   {
    "duration": 22,
    "start_time": "2022-10-10T18:14:00.195Z"
   },
   {
    "duration": 16,
    "start_time": "2022-10-10T18:14:00.219Z"
   },
   {
    "duration": 8,
    "start_time": "2022-10-10T18:14:00.237Z"
   },
   {
    "duration": 16,
    "start_time": "2022-10-10T18:14:00.247Z"
   },
   {
    "duration": 37,
    "start_time": "2022-10-10T18:14:00.265Z"
   },
   {
    "duration": 19,
    "start_time": "2022-10-10T18:14:00.303Z"
   },
   {
    "duration": 7,
    "start_time": "2022-10-10T18:14:00.324Z"
   },
   {
    "duration": 6,
    "start_time": "2022-10-10T18:14:00.332Z"
   },
   {
    "duration": 776,
    "start_time": "2022-10-10T18:14:00.340Z"
   },
   {
    "duration": 1004,
    "start_time": "2022-10-10T18:14:01.119Z"
   },
   {
    "duration": 794,
    "start_time": "2022-10-10T18:14:02.127Z"
   },
   {
    "duration": 967,
    "start_time": "2022-10-10T18:14:02.923Z"
   },
   {
    "duration": 21,
    "start_time": "2022-10-10T18:14:03.895Z"
   },
   {
    "duration": 1328,
    "start_time": "2022-10-10T18:14:03.918Z"
   },
   {
    "duration": 2,
    "start_time": "2022-10-10T18:14:05.248Z"
   },
   {
    "duration": 8,
    "start_time": "2022-10-10T18:14:05.251Z"
   },
   {
    "duration": 10,
    "start_time": "2022-10-10T18:14:05.261Z"
   },
   {
    "duration": 9,
    "start_time": "2022-10-10T18:14:05.273Z"
   },
   {
    "duration": 8,
    "start_time": "2022-10-10T18:14:05.295Z"
   },
   {
    "duration": 7,
    "start_time": "2022-10-10T18:14:05.304Z"
   },
   {
    "duration": 184,
    "start_time": "2022-10-10T18:14:05.312Z"
   },
   {
    "duration": 99,
    "start_time": "2022-10-10T18:14:05.498Z"
   },
   {
    "duration": 97,
    "start_time": "2022-10-10T18:14:05.602Z"
   },
   {
    "duration": 401,
    "start_time": "2022-10-10T18:14:05.705Z"
   },
   {
    "duration": 26,
    "start_time": "2022-10-10T18:14:06.108Z"
   },
   {
    "duration": 3,
    "start_time": "2022-10-10T18:14:06.135Z"
   },
   {
    "duration": 16,
    "start_time": "2022-10-10T18:14:06.140Z"
   },
   {
    "duration": 7,
    "start_time": "2022-10-10T18:14:06.158Z"
   },
   {
    "duration": 11,
    "start_time": "2022-10-10T18:14:06.167Z"
   },
   {
    "duration": 634,
    "start_time": "2022-10-10T18:14:06.195Z"
   },
   {
    "duration": 104555,
    "start_time": "2022-10-10T18:14:06.831Z"
   },
   {
    "duration": 3,
    "start_time": "2022-10-10T18:15:51.394Z"
   },
   {
    "duration": 1097,
    "start_time": "2022-10-10T18:15:51.398Z"
   },
   {
    "duration": 6,
    "start_time": "2022-10-10T18:15:52.498Z"
   },
   {
    "duration": 43,
    "start_time": "2022-10-10T18:15:52.506Z"
   },
   {
    "duration": 4784,
    "start_time": "2022-10-10T18:15:52.551Z"
   },
   {
    "duration": 3379,
    "start_time": "2022-10-10T18:15:57.337Z"
   },
   {
    "duration": 1492,
    "start_time": "2022-10-11T11:38:51.690Z"
   },
   {
    "duration": 4,
    "start_time": "2022-10-11T11:39:55.280Z"
   },
   {
    "duration": 908,
    "start_time": "2022-10-11T11:57:46.902Z"
   },
   {
    "duration": 1058,
    "start_time": "2022-10-11T11:58:20.327Z"
   },
   {
    "duration": 1110,
    "start_time": "2022-10-11T11:58:36.794Z"
   },
   {
    "duration": 239,
    "start_time": "2022-10-11T12:01:17.171Z"
   },
   {
    "duration": 337,
    "start_time": "2022-10-11T12:01:39.769Z"
   },
   {
    "duration": 245,
    "start_time": "2022-10-11T12:01:50.908Z"
   },
   {
    "duration": 316,
    "start_time": "2022-10-11T12:02:14.481Z"
   },
   {
    "duration": 315,
    "start_time": "2022-10-11T12:02:20.090Z"
   },
   {
    "duration": 354,
    "start_time": "2022-10-11T12:03:20.683Z"
   },
   {
    "duration": 302,
    "start_time": "2022-10-11T12:03:25.006Z"
   },
   {
    "duration": 249,
    "start_time": "2022-10-11T12:04:02.535Z"
   },
   {
    "duration": 79,
    "start_time": "2022-10-11T12:07:02.208Z"
   },
   {
    "duration": 302,
    "start_time": "2022-10-11T12:07:12.907Z"
   },
   {
    "duration": 312,
    "start_time": "2022-10-11T12:07:26.279Z"
   },
   {
    "duration": 373,
    "start_time": "2022-10-11T12:08:01.449Z"
   },
   {
    "duration": 323,
    "start_time": "2022-10-11T12:08:32.204Z"
   },
   {
    "duration": 306,
    "start_time": "2022-10-11T12:08:38.622Z"
   },
   {
    "duration": 277,
    "start_time": "2022-10-11T12:08:50.792Z"
   },
   {
    "duration": 336,
    "start_time": "2022-10-11T12:08:58.483Z"
   },
   {
    "duration": 9,
    "start_time": "2022-10-11T12:09:59.043Z"
   },
   {
    "duration": 3,
    "start_time": "2022-10-11T12:10:02.967Z"
   },
   {
    "duration": 160,
    "start_time": "2022-10-11T12:10:02.972Z"
   },
   {
    "duration": 10,
    "start_time": "2022-10-11T12:10:03.134Z"
   },
   {
    "duration": 26,
    "start_time": "2022-10-11T12:10:03.146Z"
   },
   {
    "duration": 3,
    "start_time": "2022-10-11T12:10:03.175Z"
   },
   {
    "duration": 11,
    "start_time": "2022-10-11T12:10:03.179Z"
   },
   {
    "duration": 25,
    "start_time": "2022-10-11T12:10:03.192Z"
   },
   {
    "duration": 34,
    "start_time": "2022-10-11T12:10:03.218Z"
   },
   {
    "duration": 14,
    "start_time": "2022-10-11T12:10:03.253Z"
   },
   {
    "duration": 13,
    "start_time": "2022-10-11T12:10:03.268Z"
   },
   {
    "duration": 2,
    "start_time": "2022-10-11T12:10:03.283Z"
   },
   {
    "duration": 784,
    "start_time": "2022-10-11T12:10:03.287Z"
   },
   {
    "duration": 12,
    "start_time": "2022-10-11T12:10:09.250Z"
   },
   {
    "duration": 2081,
    "start_time": "2022-10-11T12:10:25.921Z"
   },
   {
    "duration": 101,
    "start_time": "2022-10-11T12:10:41.146Z"
   },
   {
    "duration": 2190,
    "start_time": "2022-10-11T12:10:48.187Z"
   },
   {
    "duration": 892,
    "start_time": "2022-10-11T12:22:32.438Z"
   },
   {
    "duration": 383,
    "start_time": "2022-10-11T12:22:54.872Z"
   },
   {
    "duration": 525,
    "start_time": "2022-10-11T12:23:03.866Z"
   },
   {
    "duration": 392,
    "start_time": "2022-10-11T12:23:14.042Z"
   },
   {
    "duration": 2680,
    "start_time": "2022-10-11T12:25:27.172Z"
   },
   {
    "duration": 2575,
    "start_time": "2022-10-11T12:26:08.151Z"
   },
   {
    "duration": 1336,
    "start_time": "2022-10-11T12:26:17.934Z"
   },
   {
    "duration": 1288,
    "start_time": "2022-10-11T12:54:58.229Z"
   },
   {
    "duration": 1650,
    "start_time": "2022-10-11T12:55:05.648Z"
   },
   {
    "duration": 1651,
    "start_time": "2022-10-11T12:55:23.649Z"
   },
   {
    "duration": 1828,
    "start_time": "2022-10-11T12:59:55.928Z"
   },
   {
    "duration": 6,
    "start_time": "2022-10-11T13:00:02.920Z"
   },
   {
    "duration": 1627,
    "start_time": "2022-10-11T13:00:08.178Z"
   },
   {
    "duration": 1807,
    "start_time": "2022-10-11T13:00:19.138Z"
   },
   {
    "duration": 1838,
    "start_time": "2022-10-11T13:01:53.311Z"
   },
   {
    "duration": 1307,
    "start_time": "2022-10-11T13:02:49.051Z"
   },
   {
    "duration": 63,
    "start_time": "2022-10-11T14:54:48.782Z"
   },
   {
    "duration": 1760,
    "start_time": "2022-10-11T14:54:52.182Z"
   },
   {
    "duration": 122,
    "start_time": "2022-10-11T14:54:53.944Z"
   },
   {
    "duration": 15,
    "start_time": "2022-10-11T14:54:54.069Z"
   },
   {
    "duration": 9,
    "start_time": "2022-10-11T14:54:54.087Z"
   },
   {
    "duration": 18,
    "start_time": "2022-10-11T14:54:54.098Z"
   },
   {
    "duration": 13,
    "start_time": "2022-10-11T14:54:54.119Z"
   },
   {
    "duration": 12,
    "start_time": "2022-10-11T14:54:54.134Z"
   },
   {
    "duration": 28,
    "start_time": "2022-10-11T14:54:54.148Z"
   },
   {
    "duration": 21,
    "start_time": "2022-10-11T14:54:54.178Z"
   },
   {
    "duration": 11,
    "start_time": "2022-10-11T14:54:54.202Z"
   },
   {
    "duration": 8,
    "start_time": "2022-10-11T14:54:54.215Z"
   },
   {
    "duration": 18,
    "start_time": "2022-10-11T14:54:57.841Z"
   },
   {
    "duration": 5,
    "start_time": "2022-10-11T14:56:52.713Z"
   },
   {
    "duration": 82,
    "start_time": "2022-10-11T14:57:10.922Z"
   },
   {
    "duration": 263,
    "start_time": "2022-10-11T14:57:43.922Z"
   },
   {
    "duration": 25,
    "start_time": "2022-10-11T14:58:52.353Z"
   },
   {
    "duration": 127,
    "start_time": "2022-10-11T15:05:35.371Z"
   },
   {
    "duration": 134,
    "start_time": "2022-10-11T15:05:48.361Z"
   },
   {
    "duration": 235,
    "start_time": "2022-10-11T15:07:09.497Z"
   },
   {
    "duration": 130,
    "start_time": "2022-10-11T15:08:45.449Z"
   },
   {
    "duration": 151,
    "start_time": "2022-10-11T15:08:53.591Z"
   },
   {
    "duration": 135,
    "start_time": "2022-10-11T15:09:08.882Z"
   },
   {
    "duration": 11,
    "start_time": "2022-10-11T15:12:54.951Z"
   },
   {
    "duration": 322,
    "start_time": "2022-10-11T15:13:08.761Z"
   },
   {
    "duration": 996,
    "start_time": "2022-10-11T15:13:28.190Z"
   },
   {
    "duration": 12,
    "start_time": "2022-10-11T15:23:21.851Z"
   },
   {
    "duration": 155,
    "start_time": "2022-10-11T15:23:52.750Z"
   },
   {
    "duration": 770,
    "start_time": "2022-10-11T15:26:27.740Z"
   },
   {
    "duration": 1141,
    "start_time": "2022-10-11T15:27:15.358Z"
   },
   {
    "duration": 732,
    "start_time": "2022-10-11T15:28:24.781Z"
   },
   {
    "duration": 1107,
    "start_time": "2022-10-11T15:31:58.631Z"
   },
   {
    "duration": 1257,
    "start_time": "2022-10-11T15:33:34.170Z"
   },
   {
    "duration": 1079,
    "start_time": "2022-10-11T15:33:47.838Z"
   },
   {
    "duration": 1177,
    "start_time": "2022-10-11T15:33:56.720Z"
   },
   {
    "duration": 3018,
    "start_time": "2022-10-11T15:41:03.840Z"
   },
   {
    "duration": 3175,
    "start_time": "2022-10-11T15:42:11.359Z"
   },
   {
    "duration": 2978,
    "start_time": "2022-10-11T15:42:29.399Z"
   },
   {
    "duration": 1117,
    "start_time": "2022-10-11T15:45:11.051Z"
   },
   {
    "duration": 789,
    "start_time": "2022-10-11T15:45:39.599Z"
   },
   {
    "duration": 3177,
    "start_time": "2022-10-11T15:46:09.360Z"
   },
   {
    "duration": 3147,
    "start_time": "2022-10-11T15:50:20.633Z"
   },
   {
    "duration": 266,
    "start_time": "2022-10-11T15:54:30.582Z"
   },
   {
    "duration": 3026,
    "start_time": "2022-10-11T15:54:40.195Z"
   },
   {
    "duration": 541,
    "start_time": "2022-10-11T15:55:21.193Z"
   },
   {
    "duration": 90,
    "start_time": "2022-10-11T15:57:29.641Z"
   },
   {
    "duration": 3150,
    "start_time": "2022-10-11T15:57:53.091Z"
   },
   {
    "duration": 545,
    "start_time": "2022-10-11T16:00:20.524Z"
   },
   {
    "duration": 647,
    "start_time": "2022-10-11T16:00:39.293Z"
   },
   {
    "duration": 579,
    "start_time": "2022-10-11T16:01:06.943Z"
   },
   {
    "duration": 3288,
    "start_time": "2022-10-11T16:01:12.674Z"
   },
   {
    "duration": 18,
    "start_time": "2022-10-11T16:09:34.395Z"
   },
   {
    "duration": 3,
    "start_time": "2022-10-11T16:17:54.767Z"
   },
   {
    "duration": 9,
    "start_time": "2022-10-11T16:19:48.427Z"
   },
   {
    "duration": 4,
    "start_time": "2022-10-11T16:19:52.865Z"
   },
   {
    "duration": 42,
    "start_time": "2022-10-11T16:19:52.874Z"
   },
   {
    "duration": 12,
    "start_time": "2022-10-11T16:19:52.919Z"
   },
   {
    "duration": 11,
    "start_time": "2022-10-11T16:19:52.932Z"
   },
   {
    "duration": 3,
    "start_time": "2022-10-11T16:19:52.945Z"
   },
   {
    "duration": 7,
    "start_time": "2022-10-11T16:19:52.950Z"
   },
   {
    "duration": 14,
    "start_time": "2022-10-11T16:19:52.958Z"
   },
   {
    "duration": 47,
    "start_time": "2022-10-11T16:19:52.974Z"
   },
   {
    "duration": 15,
    "start_time": "2022-10-11T16:19:53.023Z"
   },
   {
    "duration": 1282,
    "start_time": "2022-10-11T16:19:53.040Z"
   },
   {
    "duration": 0,
    "start_time": "2022-10-11T16:19:54.323Z"
   },
   {
    "duration": 0,
    "start_time": "2022-10-11T16:19:54.325Z"
   },
   {
    "duration": 0,
    "start_time": "2022-10-11T16:19:54.326Z"
   },
   {
    "duration": 0,
    "start_time": "2022-10-11T16:19:54.327Z"
   },
   {
    "duration": 0,
    "start_time": "2022-10-11T16:19:54.328Z"
   },
   {
    "duration": 0,
    "start_time": "2022-10-11T16:19:54.329Z"
   },
   {
    "duration": 0,
    "start_time": "2022-10-11T16:19:54.330Z"
   },
   {
    "duration": 0,
    "start_time": "2022-10-11T16:19:54.331Z"
   },
   {
    "duration": 0,
    "start_time": "2022-10-11T16:19:54.332Z"
   },
   {
    "duration": 0,
    "start_time": "2022-10-11T16:19:54.333Z"
   },
   {
    "duration": 0,
    "start_time": "2022-10-11T16:19:54.334Z"
   },
   {
    "duration": 0,
    "start_time": "2022-10-11T16:19:54.335Z"
   },
   {
    "duration": 0,
    "start_time": "2022-10-11T16:19:54.336Z"
   },
   {
    "duration": 3085,
    "start_time": "2022-10-11T16:20:10.155Z"
   },
   {
    "duration": 355,
    "start_time": "2022-10-11T16:20:13.242Z"
   },
   {
    "duration": 22,
    "start_time": "2022-10-11T16:20:13.625Z"
   },
   {
    "duration": 1440,
    "start_time": "2022-10-11T16:20:14.316Z"
   },
   {
    "duration": 3,
    "start_time": "2022-10-11T16:20:16.577Z"
   },
   {
    "duration": 5,
    "start_time": "2022-10-11T16:20:16.768Z"
   },
   {
    "duration": 5,
    "start_time": "2022-10-11T16:20:16.936Z"
   },
   {
    "duration": 7,
    "start_time": "2022-10-11T16:20:17.045Z"
   },
   {
    "duration": 7,
    "start_time": "2022-10-11T16:20:17.385Z"
   },
   {
    "duration": 2,
    "start_time": "2022-10-11T16:20:18.036Z"
   },
   {
    "duration": 712,
    "start_time": "2022-10-11T16:20:18.185Z"
   },
   {
    "duration": 4,
    "start_time": "2022-10-11T16:20:18.899Z"
   },
   {
    "duration": 3,
    "start_time": "2022-10-11T16:20:19.946Z"
   },
   {
    "duration": 250,
    "start_time": "2022-10-11T16:20:21.365Z"
   },
   {
    "duration": 4,
    "start_time": "2022-10-11T16:20:47.716Z"
   },
   {
    "duration": 314,
    "start_time": "2022-10-11T16:20:50.297Z"
   },
   {
    "duration": 3,
    "start_time": "2022-10-11T16:21:07.898Z"
   },
   {
    "duration": 324,
    "start_time": "2022-10-11T16:21:08.286Z"
   },
   {
    "duration": 26,
    "start_time": "2022-10-11T16:21:09.266Z"
   },
   {
    "duration": 3,
    "start_time": "2022-10-11T16:21:10.085Z"
   },
   {
    "duration": 10,
    "start_time": "2022-10-11T16:21:10.305Z"
   },
   {
    "duration": 317,
    "start_time": "2022-10-11T16:22:37.207Z"
   },
   {
    "duration": 7,
    "start_time": "2022-10-11T16:22:44.925Z"
   },
   {
    "duration": 4,
    "start_time": "2022-10-11T16:23:17.626Z"
   },
   {
    "duration": 37,
    "start_time": "2022-10-11T16:23:17.631Z"
   },
   {
    "duration": 11,
    "start_time": "2022-10-11T16:23:17.669Z"
   },
   {
    "duration": 9,
    "start_time": "2022-10-11T16:23:17.682Z"
   },
   {
    "duration": 5,
    "start_time": "2022-10-11T16:23:17.692Z"
   },
   {
    "duration": 10,
    "start_time": "2022-10-11T16:23:17.699Z"
   },
   {
    "duration": 14,
    "start_time": "2022-10-11T16:23:17.710Z"
   },
   {
    "duration": 26,
    "start_time": "2022-10-11T16:23:17.726Z"
   },
   {
    "duration": 15,
    "start_time": "2022-10-11T16:23:17.755Z"
   },
   {
    "duration": 1212,
    "start_time": "2022-10-11T16:23:17.772Z"
   },
   {
    "duration": 0,
    "start_time": "2022-10-11T16:23:18.986Z"
   },
   {
    "duration": 0,
    "start_time": "2022-10-11T16:23:18.994Z"
   },
   {
    "duration": 0,
    "start_time": "2022-10-11T16:23:19.000Z"
   },
   {
    "duration": 0,
    "start_time": "2022-10-11T16:23:19.002Z"
   },
   {
    "duration": 0,
    "start_time": "2022-10-11T16:23:19.003Z"
   },
   {
    "duration": 0,
    "start_time": "2022-10-11T16:23:19.004Z"
   },
   {
    "duration": 0,
    "start_time": "2022-10-11T16:23:19.005Z"
   },
   {
    "duration": 0,
    "start_time": "2022-10-11T16:23:19.006Z"
   },
   {
    "duration": 0,
    "start_time": "2022-10-11T16:23:19.007Z"
   },
   {
    "duration": 0,
    "start_time": "2022-10-11T16:23:19.008Z"
   },
   {
    "duration": 0,
    "start_time": "2022-10-11T16:23:19.009Z"
   },
   {
    "duration": 3179,
    "start_time": "2022-10-11T16:23:25.755Z"
   },
   {
    "duration": 80,
    "start_time": "2022-10-11T16:23:28.936Z"
   },
   {
    "duration": 0,
    "start_time": "2022-10-11T16:23:29.018Z"
   },
   {
    "duration": 0,
    "start_time": "2022-10-11T16:23:29.019Z"
   },
   {
    "duration": 0,
    "start_time": "2022-10-11T16:23:29.020Z"
   },
   {
    "duration": 0,
    "start_time": "2022-10-11T16:23:29.022Z"
   },
   {
    "duration": 0,
    "start_time": "2022-10-11T16:23:29.023Z"
   },
   {
    "duration": 6,
    "start_time": "2022-10-11T16:23:29.364Z"
   },
   {
    "duration": 3,
    "start_time": "2022-10-11T16:23:33.233Z"
   },
   {
    "duration": 4,
    "start_time": "2022-10-11T16:23:33.826Z"
   },
   {
    "duration": 6,
    "start_time": "2022-10-11T16:23:34.556Z"
   },
   {
    "duration": 7,
    "start_time": "2022-10-11T16:23:35.244Z"
   },
   {
    "duration": 11,
    "start_time": "2022-10-11T16:23:36.906Z"
   },
   {
    "duration": 3,
    "start_time": "2022-10-11T16:23:38.486Z"
   },
   {
    "duration": 309,
    "start_time": "2022-10-11T16:23:39.405Z"
   },
   {
    "duration": 331,
    "start_time": "2022-10-11T16:23:40.541Z"
   },
   {
    "duration": 6,
    "start_time": "2022-10-11T16:23:42.215Z"
   },
   {
    "duration": 9,
    "start_time": "2022-10-11T16:23:42.933Z"
   },
   {
    "duration": 7,
    "start_time": "2022-10-11T16:23:43.817Z"
   },
   {
    "duration": 10,
    "start_time": "2022-10-11T16:28:13.857Z"
   },
   {
    "duration": 14,
    "start_time": "2022-10-11T16:28:27.413Z"
   },
   {
    "duration": 9,
    "start_time": "2022-10-11T16:28:40.826Z"
   },
   {
    "duration": 608,
    "start_time": "2022-10-11T16:28:41.517Z"
   },
   {
    "duration": 3,
    "start_time": "2022-10-11T16:28:43.907Z"
   },
   {
    "duration": 878,
    "start_time": "2022-10-11T16:28:44.545Z"
   },
   {
    "duration": 3,
    "start_time": "2022-10-11T16:28:46.248Z"
   },
   {
    "duration": 18,
    "start_time": "2022-10-11T16:28:47.135Z"
   },
   {
    "duration": 13,
    "start_time": "2022-10-11T16:28:48.353Z"
   },
   {
    "duration": 18,
    "start_time": "2022-10-11T16:29:33.686Z"
   },
   {
    "duration": 18,
    "start_time": "2022-10-11T16:29:53.414Z"
   },
   {
    "duration": 13,
    "start_time": "2022-10-11T16:29:54.025Z"
   },
   {
    "duration": 14,
    "start_time": "2022-10-11T16:30:31.856Z"
   },
   {
    "duration": 7,
    "start_time": "2022-10-11T16:30:40.005Z"
   },
   {
    "duration": 35,
    "start_time": "2022-10-11T16:30:40.014Z"
   },
   {
    "duration": 12,
    "start_time": "2022-10-11T16:30:40.051Z"
   },
   {
    "duration": 7,
    "start_time": "2022-10-11T16:30:40.064Z"
   },
   {
    "duration": 4,
    "start_time": "2022-10-11T16:30:40.073Z"
   },
   {
    "duration": 7,
    "start_time": "2022-10-11T16:30:40.078Z"
   },
   {
    "duration": 16,
    "start_time": "2022-10-11T16:30:40.086Z"
   },
   {
    "duration": 33,
    "start_time": "2022-10-11T16:30:40.104Z"
   },
   {
    "duration": 15,
    "start_time": "2022-10-11T16:30:40.138Z"
   },
   {
    "duration": 1196,
    "start_time": "2022-10-11T16:30:40.154Z"
   },
   {
    "duration": 0,
    "start_time": "2022-10-11T16:30:41.351Z"
   },
   {
    "duration": 0,
    "start_time": "2022-10-11T16:30:41.353Z"
   },
   {
    "duration": 0,
    "start_time": "2022-10-11T16:30:41.353Z"
   },
   {
    "duration": 0,
    "start_time": "2022-10-11T16:30:41.354Z"
   },
   {
    "duration": 0,
    "start_time": "2022-10-11T16:30:41.355Z"
   },
   {
    "duration": 0,
    "start_time": "2022-10-11T16:30:41.357Z"
   },
   {
    "duration": 0,
    "start_time": "2022-10-11T16:30:41.358Z"
   },
   {
    "duration": 1,
    "start_time": "2022-10-11T16:30:41.359Z"
   },
   {
    "duration": 0,
    "start_time": "2022-10-11T16:30:41.361Z"
   },
   {
    "duration": 0,
    "start_time": "2022-10-11T16:30:41.362Z"
   },
   {
    "duration": 0,
    "start_time": "2022-10-11T16:30:41.363Z"
   },
   {
    "duration": 0,
    "start_time": "2022-10-11T16:30:41.364Z"
   },
   {
    "duration": 0,
    "start_time": "2022-10-11T16:30:41.365Z"
   },
   {
    "duration": 0,
    "start_time": "2022-10-11T16:30:41.397Z"
   },
   {
    "duration": 0,
    "start_time": "2022-10-11T16:30:41.398Z"
   },
   {
    "duration": 0,
    "start_time": "2022-10-11T16:30:41.399Z"
   },
   {
    "duration": 0,
    "start_time": "2022-10-11T16:30:41.402Z"
   },
   {
    "duration": 0,
    "start_time": "2022-10-11T16:30:41.403Z"
   },
   {
    "duration": 0,
    "start_time": "2022-10-11T16:30:41.405Z"
   },
   {
    "duration": 0,
    "start_time": "2022-10-11T16:30:41.406Z"
   },
   {
    "duration": 0,
    "start_time": "2022-10-11T16:30:41.407Z"
   },
   {
    "duration": 0,
    "start_time": "2022-10-11T16:30:41.408Z"
   },
   {
    "duration": 3300,
    "start_time": "2022-10-11T16:30:49.305Z"
   },
   {
    "duration": 78,
    "start_time": "2022-10-11T16:30:52.608Z"
   },
   {
    "duration": 0,
    "start_time": "2022-10-11T16:30:52.687Z"
   },
   {
    "duration": 0,
    "start_time": "2022-10-11T16:30:52.688Z"
   },
   {
    "duration": 0,
    "start_time": "2022-10-11T16:30:52.690Z"
   },
   {
    "duration": 0,
    "start_time": "2022-10-11T16:30:52.691Z"
   },
   {
    "duration": 0,
    "start_time": "2022-10-11T16:30:52.692Z"
   },
   {
    "duration": 0,
    "start_time": "2022-10-11T16:30:52.693Z"
   },
   {
    "duration": 8,
    "start_time": "2022-10-11T16:30:53.936Z"
   },
   {
    "duration": 5,
    "start_time": "2022-10-11T16:30:54.415Z"
   },
   {
    "duration": 155,
    "start_time": "2022-10-11T16:30:54.864Z"
   },
   {
    "duration": 325,
    "start_time": "2022-10-11T16:30:55.735Z"
   },
   {
    "duration": 4,
    "start_time": "2022-10-11T16:30:56.565Z"
   },
   {
    "duration": 7,
    "start_time": "2022-10-11T16:30:57.085Z"
   },
   {
    "duration": 8,
    "start_time": "2022-10-11T16:30:57.704Z"
   },
   {
    "duration": 9,
    "start_time": "2022-10-11T16:31:01.035Z"
   },
   {
    "duration": 634,
    "start_time": "2022-10-11T16:31:02.745Z"
   },
   {
    "duration": 3,
    "start_time": "2022-10-11T16:31:06.025Z"
   },
   {
    "duration": 1143,
    "start_time": "2022-10-11T16:31:06.656Z"
   },
   {
    "duration": 3,
    "start_time": "2022-10-11T16:31:08.785Z"
   },
   {
    "duration": 18,
    "start_time": "2022-10-11T16:31:09.423Z"
   },
   {
    "duration": 16,
    "start_time": "2022-10-11T16:31:10.084Z"
   },
   {
    "duration": 13,
    "start_time": "2022-10-11T16:32:34.127Z"
   },
   {
    "duration": 16,
    "start_time": "2022-10-11T16:33:05.445Z"
   },
   {
    "duration": 549,
    "start_time": "2022-10-11T16:34:12.785Z"
   },
   {
    "duration": 14,
    "start_time": "2022-10-11T16:35:30.243Z"
   },
   {
    "duration": 13,
    "start_time": "2022-10-11T16:37:11.265Z"
   },
   {
    "duration": 13,
    "start_time": "2022-10-11T16:37:51.735Z"
   },
   {
    "duration": 3988,
    "start_time": "2022-10-11T16:38:14.796Z"
   },
   {
    "duration": 85,
    "start_time": "2022-10-11T16:38:55.024Z"
   },
   {
    "duration": 27,
    "start_time": "2022-10-11T16:39:00.905Z"
   },
   {
    "duration": 1550,
    "start_time": "2022-10-11T16:39:02.035Z"
   },
   {
    "duration": 1511,
    "start_time": "2022-10-11T16:40:18.516Z"
   },
   {
    "duration": 1778,
    "start_time": "2022-10-11T16:41:41.784Z"
   },
   {
    "duration": 1483,
    "start_time": "2022-10-11T16:41:54.695Z"
   },
   {
    "duration": 5,
    "start_time": "2022-10-11T16:44:40.231Z"
   },
   {
    "duration": 32,
    "start_time": "2022-10-11T16:44:40.238Z"
   },
   {
    "duration": 11,
    "start_time": "2022-10-11T16:44:40.272Z"
   },
   {
    "duration": 9,
    "start_time": "2022-10-11T16:44:40.285Z"
   },
   {
    "duration": 6,
    "start_time": "2022-10-11T16:44:40.296Z"
   },
   {
    "duration": 6,
    "start_time": "2022-10-11T16:44:40.303Z"
   },
   {
    "duration": 12,
    "start_time": "2022-10-11T16:44:40.310Z"
   },
   {
    "duration": 26,
    "start_time": "2022-10-11T16:44:40.323Z"
   },
   {
    "duration": 45,
    "start_time": "2022-10-11T16:44:40.351Z"
   },
   {
    "duration": 1252,
    "start_time": "2022-10-11T16:44:40.398Z"
   },
   {
    "duration": 0,
    "start_time": "2022-10-11T16:44:41.652Z"
   },
   {
    "duration": 0,
    "start_time": "2022-10-11T16:44:41.654Z"
   },
   {
    "duration": 0,
    "start_time": "2022-10-11T16:44:41.655Z"
   },
   {
    "duration": 3094,
    "start_time": "2022-10-11T16:44:46.375Z"
   },
   {
    "duration": 99,
    "start_time": "2022-10-11T16:44:49.471Z"
   },
   {
    "duration": 0,
    "start_time": "2022-10-11T16:44:49.572Z"
   },
   {
    "duration": 1319,
    "start_time": "2022-10-11T16:44:49.825Z"
   },
   {
    "duration": 23,
    "start_time": "2022-10-11T16:44:53.715Z"
   },
   {
    "duration": 14,
    "start_time": "2022-10-11T16:52:31.935Z"
   },
   {
    "duration": 15,
    "start_time": "2022-10-11T16:57:24.143Z"
   },
   {
    "duration": 13,
    "start_time": "2022-10-11T16:57:49.665Z"
   },
   {
    "duration": 4,
    "start_time": "2022-10-11T16:58:05.182Z"
   },
   {
    "duration": 18,
    "start_time": "2022-10-11T16:58:05.824Z"
   },
   {
    "duration": 16,
    "start_time": "2022-10-11T16:58:07.754Z"
   },
   {
    "duration": 1260,
    "start_time": "2022-10-11T16:58:11.964Z"
   },
   {
    "duration": 560,
    "start_time": "2022-10-11T16:58:59.699Z"
   },
   {
    "duration": 571,
    "start_time": "2022-10-11T17:00:20.392Z"
   },
   {
    "duration": 691,
    "start_time": "2022-10-11T17:02:00.116Z"
   },
   {
    "duration": 1412,
    "start_time": "2022-10-11T18:59:25.220Z"
   },
   {
    "duration": 114,
    "start_time": "2022-10-11T18:59:26.634Z"
   },
   {
    "duration": 11,
    "start_time": "2022-10-11T18:59:26.750Z"
   },
   {
    "duration": 8,
    "start_time": "2022-10-11T18:59:26.762Z"
   },
   {
    "duration": 3,
    "start_time": "2022-10-11T18:59:26.772Z"
   },
   {
    "duration": 4,
    "start_time": "2022-10-11T18:59:26.776Z"
   },
   {
    "duration": 11,
    "start_time": "2022-10-11T18:59:26.782Z"
   },
   {
    "duration": 26,
    "start_time": "2022-10-11T18:59:26.794Z"
   },
   {
    "duration": 14,
    "start_time": "2022-10-11T18:59:26.821Z"
   },
   {
    "duration": 699,
    "start_time": "2022-10-11T18:59:29.121Z"
   },
   {
    "duration": 650,
    "start_time": "2022-10-11T18:59:38.941Z"
   },
   {
    "duration": 610,
    "start_time": "2022-10-11T19:00:00.791Z"
   },
   {
    "duration": 571,
    "start_time": "2022-10-11T19:00:13.550Z"
   },
   {
    "duration": 746,
    "start_time": "2022-10-11T19:01:05.729Z"
   },
   {
    "duration": 604,
    "start_time": "2022-10-11T19:01:22.886Z"
   },
   {
    "duration": 516,
    "start_time": "2022-10-11T19:03:34.437Z"
   },
   {
    "duration": 543,
    "start_time": "2022-10-11T19:03:49.655Z"
   },
   {
    "duration": 661,
    "start_time": "2022-10-11T19:03:56.938Z"
   },
   {
    "duration": 509,
    "start_time": "2022-10-11T19:04:04.184Z"
   },
   {
    "duration": 527,
    "start_time": "2022-10-11T19:04:19.460Z"
   },
   {
    "duration": 593,
    "start_time": "2022-10-11T19:04:23.992Z"
   },
   {
    "duration": 500,
    "start_time": "2022-10-11T19:04:27.409Z"
   },
   {
    "duration": 464,
    "start_time": "2022-10-11T19:05:57.874Z"
   },
   {
    "duration": 487,
    "start_time": "2022-10-11T19:06:35.741Z"
   },
   {
    "duration": 460,
    "start_time": "2022-10-11T19:10:32.187Z"
   },
   {
    "duration": 360,
    "start_time": "2022-10-11T19:13:57.690Z"
   },
   {
    "duration": 498,
    "start_time": "2022-10-11T19:14:22.245Z"
   },
   {
    "duration": 516,
    "start_time": "2022-10-11T19:14:29.190Z"
   },
   {
    "duration": 693,
    "start_time": "2022-10-11T19:14:36.929Z"
   },
   {
    "duration": 556,
    "start_time": "2022-10-11T19:18:03.695Z"
   },
   {
    "duration": 537,
    "start_time": "2022-10-11T19:18:48.182Z"
   },
   {
    "duration": 4,
    "start_time": "2022-10-11T19:20:52.489Z"
   },
   {
    "duration": 47,
    "start_time": "2022-10-11T19:20:52.506Z"
   },
   {
    "duration": 16,
    "start_time": "2022-10-11T19:20:52.555Z"
   },
   {
    "duration": 26,
    "start_time": "2022-10-11T19:20:52.573Z"
   },
   {
    "duration": 10,
    "start_time": "2022-10-11T19:20:52.602Z"
   },
   {
    "duration": 24,
    "start_time": "2022-10-11T19:20:52.613Z"
   },
   {
    "duration": 28,
    "start_time": "2022-10-11T19:20:52.639Z"
   },
   {
    "duration": 45,
    "start_time": "2022-10-11T19:20:52.669Z"
   },
   {
    "duration": 46,
    "start_time": "2022-10-11T19:20:52.716Z"
   },
   {
    "duration": 660,
    "start_time": "2022-10-11T19:20:52.764Z"
   },
   {
    "duration": 3037,
    "start_time": "2022-10-11T19:20:53.426Z"
   },
   {
    "duration": 1649,
    "start_time": "2022-10-12T08:47:22.474Z"
   },
   {
    "duration": 71,
    "start_time": "2022-10-14T14:13:49.698Z"
   },
   {
    "duration": 1906,
    "start_time": "2022-10-14T14:13:52.743Z"
   },
   {
    "duration": 76,
    "start_time": "2022-10-14T14:13:54.652Z"
   },
   {
    "duration": 15,
    "start_time": "2022-10-14T14:13:54.730Z"
   },
   {
    "duration": 20,
    "start_time": "2022-10-14T14:13:54.748Z"
   },
   {
    "duration": 4,
    "start_time": "2022-10-14T14:13:54.770Z"
   },
   {
    "duration": 4,
    "start_time": "2022-10-14T14:13:54.776Z"
   },
   {
    "duration": 13,
    "start_time": "2022-10-14T14:13:54.782Z"
   },
   {
    "duration": 35,
    "start_time": "2022-10-14T14:13:54.809Z"
   },
   {
    "duration": 23,
    "start_time": "2022-10-14T14:13:54.846Z"
   },
   {
    "duration": 712,
    "start_time": "2022-10-14T14:13:54.872Z"
   },
   {
    "duration": 548,
    "start_time": "2022-10-14T14:13:58.044Z"
   },
   {
    "duration": 527,
    "start_time": "2022-10-14T14:14:49.461Z"
   },
   {
    "duration": 769,
    "start_time": "2022-10-14T14:14:58.593Z"
   },
   {
    "duration": 741,
    "start_time": "2022-10-14T14:15:22.779Z"
   },
   {
    "duration": 553,
    "start_time": "2022-10-14T14:16:03.914Z"
   },
   {
    "duration": 737,
    "start_time": "2022-10-14T14:16:14.889Z"
   },
   {
    "duration": 784,
    "start_time": "2022-10-14T14:16:43.274Z"
   },
   {
    "duration": 685,
    "start_time": "2022-10-14T14:16:51.762Z"
   },
   {
    "duration": 695,
    "start_time": "2022-10-14T14:16:57.237Z"
   },
   {
    "duration": 871,
    "start_time": "2022-10-14T14:17:05.993Z"
   },
   {
    "duration": 778,
    "start_time": "2022-10-14T14:17:17.889Z"
   },
   {
    "duration": 779,
    "start_time": "2022-10-14T14:17:27.494Z"
   },
   {
    "duration": 754,
    "start_time": "2022-10-14T14:17:33.747Z"
   },
   {
    "duration": 840,
    "start_time": "2022-10-14T14:17:38.192Z"
   },
   {
    "duration": 767,
    "start_time": "2022-10-14T14:17:43.962Z"
   },
   {
    "duration": 731,
    "start_time": "2022-10-14T14:17:49.238Z"
   },
   {
    "duration": 633,
    "start_time": "2022-10-14T14:18:40.459Z"
   },
   {
    "duration": 764,
    "start_time": "2022-10-14T14:18:58.798Z"
   },
   {
    "duration": 693,
    "start_time": "2022-10-14T14:19:04.623Z"
   },
   {
    "duration": 793,
    "start_time": "2022-10-14T14:19:14.110Z"
   },
   {
    "duration": 920,
    "start_time": "2022-10-14T14:19:24.344Z"
   },
   {
    "duration": 939,
    "start_time": "2022-10-14T14:19:37.249Z"
   },
   {
    "duration": 1041,
    "start_time": "2022-10-14T14:19:43.579Z"
   },
   {
    "duration": 539,
    "start_time": "2022-10-14T14:19:53.592Z"
   },
   {
    "duration": 763,
    "start_time": "2022-10-14T14:20:01.975Z"
   },
   {
    "duration": 671,
    "start_time": "2022-10-14T14:20:10.670Z"
   },
   {
    "duration": 655,
    "start_time": "2022-10-14T14:20:20.114Z"
   },
   {
    "duration": 655,
    "start_time": "2022-10-14T14:20:28.393Z"
   },
   {
    "duration": 777,
    "start_time": "2022-10-14T14:20:43.335Z"
   },
   {
    "duration": 677,
    "start_time": "2022-10-14T14:20:52.148Z"
   },
   {
    "duration": 657,
    "start_time": "2022-10-14T14:20:57.289Z"
   },
   {
    "duration": 787,
    "start_time": "2022-10-14T14:21:06.840Z"
   },
   {
    "duration": 697,
    "start_time": "2022-10-14T14:21:14.505Z"
   },
   {
    "duration": 649,
    "start_time": "2022-10-14T14:21:19.940Z"
   },
   {
    "duration": 676,
    "start_time": "2022-10-14T14:21:24.794Z"
   },
   {
    "duration": 714,
    "start_time": "2022-10-14T14:21:29.333Z"
   },
   {
    "duration": 707,
    "start_time": "2022-10-14T14:21:41.567Z"
   },
   {
    "duration": 647,
    "start_time": "2022-10-14T14:21:47.533Z"
   },
   {
    "duration": 662,
    "start_time": "2022-10-14T14:21:54.578Z"
   },
   {
    "duration": 552,
    "start_time": "2022-10-14T14:22:31.293Z"
   },
   {
    "duration": 618,
    "start_time": "2022-10-14T14:22:38.161Z"
   },
   {
    "duration": 4,
    "start_time": "2022-10-14T14:23:38.285Z"
   },
   {
    "duration": 24,
    "start_time": "2022-10-14T14:23:38.290Z"
   },
   {
    "duration": 10,
    "start_time": "2022-10-14T14:23:38.316Z"
   },
   {
    "duration": 7,
    "start_time": "2022-10-14T14:23:38.327Z"
   },
   {
    "duration": 3,
    "start_time": "2022-10-14T14:23:38.335Z"
   },
   {
    "duration": 7,
    "start_time": "2022-10-14T14:23:38.339Z"
   },
   {
    "duration": 10,
    "start_time": "2022-10-14T14:23:38.348Z"
   },
   {
    "duration": 21,
    "start_time": "2022-10-14T14:23:38.360Z"
   },
   {
    "duration": 14,
    "start_time": "2022-10-14T14:23:38.409Z"
   },
   {
    "duration": 435,
    "start_time": "2022-10-14T14:25:43.449Z"
   },
   {
    "duration": 595,
    "start_time": "2022-10-14T14:25:59.437Z"
   },
   {
    "duration": 574,
    "start_time": "2022-10-14T14:26:18.453Z"
   },
   {
    "duration": 40,
    "start_time": "2022-10-14T14:27:47.138Z"
   },
   {
    "duration": 13,
    "start_time": "2022-10-14T14:27:53.766Z"
   },
   {
    "duration": 11,
    "start_time": "2022-10-14T14:28:00.191Z"
   },
   {
    "duration": 608,
    "start_time": "2022-10-14T14:28:42.281Z"
   },
   {
    "duration": 637,
    "start_time": "2022-10-14T14:28:55.253Z"
   },
   {
    "duration": 772,
    "start_time": "2022-10-14T14:29:00.207Z"
   },
   {
    "duration": 644,
    "start_time": "2022-10-14T14:29:10.677Z"
   },
   {
    "duration": 685,
    "start_time": "2022-10-14T14:29:23.821Z"
   },
   {
    "duration": 651,
    "start_time": "2022-10-14T14:32:28.166Z"
   },
   {
    "duration": 821,
    "start_time": "2022-10-14T14:32:43.788Z"
   },
   {
    "duration": 636,
    "start_time": "2022-10-14T14:32:51.455Z"
   },
   {
    "duration": 246,
    "start_time": "2022-10-14T14:36:54.730Z"
   },
   {
    "duration": 297,
    "start_time": "2022-10-14T14:37:08.554Z"
   },
   {
    "duration": 656,
    "start_time": "2022-10-14T14:39:34.237Z"
   },
   {
    "duration": 61,
    "start_time": "2022-10-15T12:55:07.822Z"
   },
   {
    "duration": 1715,
    "start_time": "2022-10-15T12:55:10.842Z"
   },
   {
    "duration": 148,
    "start_time": "2022-10-15T12:55:12.559Z"
   },
   {
    "duration": 13,
    "start_time": "2022-10-15T12:55:12.709Z"
   },
   {
    "duration": 12,
    "start_time": "2022-10-15T12:55:12.725Z"
   },
   {
    "duration": 5,
    "start_time": "2022-10-15T12:55:12.738Z"
   },
   {
    "duration": 6,
    "start_time": "2022-10-15T12:55:12.744Z"
   },
   {
    "duration": 24,
    "start_time": "2022-10-15T12:55:12.752Z"
   },
   {
    "duration": 38,
    "start_time": "2022-10-15T12:55:12.778Z"
   },
   {
    "duration": 17,
    "start_time": "2022-10-15T12:55:12.818Z"
   },
   {
    "duration": 764,
    "start_time": "2022-10-15T12:55:15.379Z"
   },
   {
    "duration": 3271,
    "start_time": "2022-10-15T12:58:39.442Z"
   },
   {
    "duration": 3391,
    "start_time": "2022-10-15T12:59:17.733Z"
   },
   {
    "duration": 3240,
    "start_time": "2022-10-15T13:00:01.284Z"
   },
   {
    "duration": 3765,
    "start_time": "2022-10-15T13:00:45.551Z"
   },
   {
    "duration": 3063,
    "start_time": "2022-10-15T13:01:28.954Z"
   },
   {
    "duration": 3779,
    "start_time": "2022-10-15T13:02:49.227Z"
   },
   {
    "duration": 3108,
    "start_time": "2022-10-15T13:03:25.001Z"
   },
   {
    "duration": 4,
    "start_time": "2022-10-15T13:04:34.083Z"
   },
   {
    "duration": 43,
    "start_time": "2022-10-15T13:04:34.089Z"
   },
   {
    "duration": 12,
    "start_time": "2022-10-15T13:04:34.135Z"
   },
   {
    "duration": 8,
    "start_time": "2022-10-15T13:04:34.149Z"
   },
   {
    "duration": 3,
    "start_time": "2022-10-15T13:04:34.160Z"
   },
   {
    "duration": 5,
    "start_time": "2022-10-15T13:04:34.165Z"
   },
   {
    "duration": 12,
    "start_time": "2022-10-15T13:04:34.172Z"
   },
   {
    "duration": 30,
    "start_time": "2022-10-15T13:04:34.186Z"
   },
   {
    "duration": 18,
    "start_time": "2022-10-15T13:04:34.218Z"
   },
   {
    "duration": 832,
    "start_time": "2022-10-15T13:04:34.237Z"
   },
   {
    "duration": 3158,
    "start_time": "2022-10-15T13:04:37.990Z"
   },
   {
    "duration": 3312,
    "start_time": "2022-10-15T13:05:14.547Z"
   },
   {
    "duration": 3189,
    "start_time": "2022-10-15T13:07:42.433Z"
   },
   {
    "duration": 3050,
    "start_time": "2022-10-15T13:08:21.491Z"
   },
   {
    "duration": 3282,
    "start_time": "2022-10-15T13:08:43.934Z"
   },
   {
    "duration": 3098,
    "start_time": "2022-10-15T13:09:38.842Z"
   },
   {
    "duration": 3239,
    "start_time": "2022-10-15T13:12:34.070Z"
   },
   {
    "duration": 3763,
    "start_time": "2022-10-15T13:12:43.648Z"
   },
   {
    "duration": 3842,
    "start_time": "2022-10-15T13:13:11.730Z"
   },
   {
    "duration": 4118,
    "start_time": "2022-10-15T13:13:28.310Z"
   },
   {
    "duration": 643,
    "start_time": "2022-10-15T13:13:57.228Z"
   },
   {
    "duration": 4240,
    "start_time": "2022-10-15T13:17:23.331Z"
   },
   {
    "duration": 3405,
    "start_time": "2022-10-15T13:17:41.516Z"
   },
   {
    "duration": 3578,
    "start_time": "2022-10-15T13:18:02.587Z"
   },
   {
    "duration": 3,
    "start_time": "2022-10-15T13:18:39.788Z"
   },
   {
    "duration": 10,
    "start_time": "2022-10-15T13:18:41.481Z"
   },
   {
    "duration": 9,
    "start_time": "2022-10-15T13:18:49.807Z"
   },
   {
    "duration": 4,
    "start_time": "2022-10-15T13:18:56.760Z"
   },
   {
    "duration": 44,
    "start_time": "2022-10-15T13:18:56.767Z"
   },
   {
    "duration": 11,
    "start_time": "2022-10-15T13:18:56.813Z"
   },
   {
    "duration": 28,
    "start_time": "2022-10-15T13:18:56.826Z"
   },
   {
    "duration": 12,
    "start_time": "2022-10-15T13:18:56.856Z"
   },
   {
    "duration": 24,
    "start_time": "2022-10-15T13:18:56.869Z"
   },
   {
    "duration": 14,
    "start_time": "2022-10-15T13:18:56.895Z"
   },
   {
    "duration": 26,
    "start_time": "2022-10-15T13:18:56.910Z"
   },
   {
    "duration": 15,
    "start_time": "2022-10-15T13:18:56.938Z"
   },
   {
    "duration": 698,
    "start_time": "2022-10-15T13:18:56.955Z"
   },
   {
    "duration": 3269,
    "start_time": "2022-10-15T13:18:57.655Z"
   },
   {
    "duration": 25,
    "start_time": "2022-10-15T13:19:00.926Z"
   },
   {
    "duration": 1764,
    "start_time": "2022-10-15T13:19:00.953Z"
   },
   {
    "duration": 3,
    "start_time": "2022-10-15T13:19:02.718Z"
   },
   {
    "duration": 12,
    "start_time": "2022-10-15T13:19:02.723Z"
   },
   {
    "duration": 7,
    "start_time": "2022-10-15T13:19:02.736Z"
   },
   {
    "duration": 9,
    "start_time": "2022-10-15T13:19:02.745Z"
   },
   {
    "duration": 8,
    "start_time": "2022-10-15T13:19:02.755Z"
   },
   {
    "duration": 5,
    "start_time": "2022-10-15T13:19:02.764Z"
   },
   {
    "duration": 20,
    "start_time": "2022-10-15T13:19:02.770Z"
   },
   {
    "duration": 0,
    "start_time": "2022-10-15T13:19:02.791Z"
   },
   {
    "duration": 0,
    "start_time": "2022-10-15T13:19:02.792Z"
   },
   {
    "duration": 0,
    "start_time": "2022-10-15T13:19:02.794Z"
   },
   {
    "duration": 0,
    "start_time": "2022-10-15T13:19:02.795Z"
   },
   {
    "duration": 0,
    "start_time": "2022-10-15T13:19:02.796Z"
   },
   {
    "duration": 11,
    "start_time": "2022-10-15T13:19:05.706Z"
   },
   {
    "duration": 580,
    "start_time": "2022-10-15T13:19:06.631Z"
   },
   {
    "duration": 3,
    "start_time": "2022-10-15T13:19:11.089Z"
   },
   {
    "duration": 1456,
    "start_time": "2022-10-15T13:19:11.940Z"
   },
   {
    "duration": 3,
    "start_time": "2022-10-15T13:19:14.050Z"
   },
   {
    "duration": 20,
    "start_time": "2022-10-15T13:19:14.852Z"
   },
   {
    "duration": 19,
    "start_time": "2022-10-15T13:19:16.075Z"
   },
   {
    "duration": 908,
    "start_time": "2022-10-15T13:20:33.422Z"
   },
   {
    "duration": 694,
    "start_time": "2022-10-15T13:20:57.212Z"
   },
   {
    "duration": 925,
    "start_time": "2022-10-15T13:21:59.586Z"
   },
   {
    "duration": 750,
    "start_time": "2022-10-15T13:22:22.456Z"
   },
   {
    "duration": 805,
    "start_time": "2022-10-15T13:22:58.189Z"
   },
   {
    "duration": 3426,
    "start_time": "2022-10-15T13:23:25.330Z"
   },
   {
    "duration": 1562,
    "start_time": "2022-10-25T19:48:06.875Z"
   },
   {
    "duration": 65,
    "start_time": "2022-10-25T19:48:08.439Z"
   },
   {
    "duration": 11,
    "start_time": "2022-10-25T19:48:08.505Z"
   },
   {
    "duration": 20,
    "start_time": "2022-10-25T19:48:08.518Z"
   },
   {
    "duration": 14,
    "start_time": "2022-10-25T19:48:08.540Z"
   },
   {
    "duration": 28,
    "start_time": "2022-10-25T19:48:08.556Z"
   },
   {
    "duration": 30,
    "start_time": "2022-10-25T19:48:08.586Z"
   },
   {
    "duration": 47,
    "start_time": "2022-10-25T19:48:08.618Z"
   },
   {
    "duration": 15,
    "start_time": "2022-10-25T19:48:08.667Z"
   },
   {
    "duration": 640,
    "start_time": "2022-10-25T19:48:08.685Z"
   },
   {
    "duration": 3242,
    "start_time": "2022-10-25T19:48:09.327Z"
   },
   {
    "duration": 29,
    "start_time": "2022-10-25T19:48:12.571Z"
   },
   {
    "duration": 1410,
    "start_time": "2022-10-25T19:48:12.602Z"
   },
   {
    "duration": 3,
    "start_time": "2022-10-25T19:48:14.014Z"
   },
   {
    "duration": 15,
    "start_time": "2022-10-25T19:48:14.018Z"
   },
   {
    "duration": 8,
    "start_time": "2022-10-25T19:48:14.034Z"
   },
   {
    "duration": 12,
    "start_time": "2022-10-25T19:48:14.043Z"
   },
   {
    "duration": 7,
    "start_time": "2022-10-25T19:48:14.056Z"
   },
   {
    "duration": 4,
    "start_time": "2022-10-25T19:48:14.064Z"
   },
   {
    "duration": 110,
    "start_time": "2022-10-25T19:48:14.069Z"
   },
   {
    "duration": 10,
    "start_time": "2022-10-25T19:48:25.675Z"
   },
   {
    "duration": 8,
    "start_time": "2022-10-25T19:48:54.114Z"
   },
   {
    "duration": 3,
    "start_time": "2022-10-25T19:48:55.611Z"
   },
   {
    "duration": 8,
    "start_time": "2022-10-25T19:48:55.966Z"
   },
   {
    "duration": 10,
    "start_time": "2022-10-25T19:49:07.468Z"
   },
   {
    "duration": 3,
    "start_time": "2022-10-28T19:48:58.637Z"
   },
   {
    "duration": 1608,
    "start_time": "2022-11-10T21:08:55.609Z"
   },
   {
    "duration": 154,
    "start_time": "2022-11-10T21:08:57.219Z"
   },
   {
    "duration": 14,
    "start_time": "2022-11-10T21:08:57.374Z"
   },
   {
    "duration": 13,
    "start_time": "2022-11-10T21:08:57.392Z"
   },
   {
    "duration": 4,
    "start_time": "2022-11-10T21:08:57.406Z"
   },
   {
    "duration": 7,
    "start_time": "2022-11-10T21:08:57.412Z"
   },
   {
    "duration": 14,
    "start_time": "2022-11-10T21:08:57.421Z"
   },
   {
    "duration": 59,
    "start_time": "2022-11-10T21:08:57.436Z"
   },
   {
    "duration": 17,
    "start_time": "2022-11-10T21:08:57.497Z"
   },
   {
    "duration": 705,
    "start_time": "2022-11-10T21:08:57.516Z"
   },
   {
    "duration": 1440,
    "start_time": "2022-11-10T21:08:59.335Z"
   },
   {
    "duration": 707,
    "start_time": "2022-11-10T21:10:21.195Z"
   },
   {
    "duration": 901,
    "start_time": "2022-11-10T21:11:02.469Z"
   },
   {
    "duration": 649,
    "start_time": "2022-11-10T21:11:09.746Z"
   },
   {
    "duration": 683,
    "start_time": "2022-11-10T21:11:14.914Z"
   },
   {
    "duration": 756,
    "start_time": "2022-11-10T21:11:23.162Z"
   },
   {
    "duration": 700,
    "start_time": "2022-11-10T21:11:29.699Z"
   },
   {
    "duration": 731,
    "start_time": "2022-11-10T21:11:37.204Z"
   },
   {
    "duration": 747,
    "start_time": "2022-11-10T21:11:51.010Z"
   },
   {
    "duration": 869,
    "start_time": "2022-11-10T21:11:56.600Z"
   },
   {
    "duration": 692,
    "start_time": "2022-11-10T21:12:09.732Z"
   },
   {
    "duration": 733,
    "start_time": "2022-11-10T21:12:14.671Z"
   },
   {
    "duration": 10,
    "start_time": "2022-11-11T09:55:37.051Z"
   },
   {
    "duration": 43,
    "start_time": "2022-11-11T09:55:37.538Z"
   },
   {
    "duration": 1522,
    "start_time": "2022-11-11T09:55:40.808Z"
   },
   {
    "duration": 134,
    "start_time": "2022-11-11T09:55:42.332Z"
   },
   {
    "duration": 11,
    "start_time": "2022-11-11T09:55:42.468Z"
   },
   {
    "duration": 9,
    "start_time": "2022-11-11T09:55:42.481Z"
   },
   {
    "duration": 4,
    "start_time": "2022-11-11T09:55:42.491Z"
   },
   {
    "duration": 4,
    "start_time": "2022-11-11T09:55:42.497Z"
   },
   {
    "duration": 12,
    "start_time": "2022-11-11T09:55:42.503Z"
   },
   {
    "duration": 30,
    "start_time": "2022-11-11T09:55:42.516Z"
   },
   {
    "duration": 22,
    "start_time": "2022-11-11T09:55:42.548Z"
   },
   {
    "duration": 631,
    "start_time": "2022-11-11T09:55:42.572Z"
   },
   {
    "duration": 849,
    "start_time": "2022-11-11T09:55:43.205Z"
   },
   {
    "duration": 21,
    "start_time": "2022-11-11T09:55:44.056Z"
   },
   {
    "duration": 1397,
    "start_time": "2022-11-11T09:55:44.079Z"
   },
   {
    "duration": 3,
    "start_time": "2022-11-11T09:55:45.478Z"
   },
   {
    "duration": 9,
    "start_time": "2022-11-11T09:55:45.483Z"
   },
   {
    "duration": 10,
    "start_time": "2022-11-11T09:55:45.493Z"
   },
   {
    "duration": 18,
    "start_time": "2022-11-11T09:55:45.505Z"
   },
   {
    "duration": 15,
    "start_time": "2022-11-11T09:55:45.525Z"
   },
   {
    "duration": 11,
    "start_time": "2022-11-11T09:55:45.542Z"
   },
   {
    "duration": 124,
    "start_time": "2022-11-11T09:55:50.315Z"
   },
   {
    "duration": 113,
    "start_time": "2022-11-11T09:55:57.625Z"
   },
   {
    "duration": 331,
    "start_time": "2022-11-11T09:56:30.504Z"
   },
   {
    "duration": 3,
    "start_time": "2022-11-11T09:56:34.177Z"
   },
   {
    "duration": 87,
    "start_time": "2022-11-11T09:56:35.103Z"
   },
   {
    "duration": 3,
    "start_time": "2022-11-11T09:56:56.789Z"
   },
   {
    "duration": 27,
    "start_time": "2022-11-11T09:56:57.112Z"
   },
   {
    "duration": 337,
    "start_time": "2022-11-11T09:56:57.780Z"
   },
   {
    "duration": 3,
    "start_time": "2022-11-11T09:56:59.680Z"
   },
   {
    "duration": 7,
    "start_time": "2022-11-11T09:57:00.523Z"
   },
   {
    "duration": 7,
    "start_time": "2022-11-11T09:57:05.906Z"
   },
   {
    "duration": 122,
    "start_time": "2022-11-11T09:58:31.185Z"
   },
   {
    "duration": 2,
    "start_time": "2022-11-11T10:00:38.000Z"
   },
   {
    "duration": 8,
    "start_time": "2022-11-11T10:00:38.374Z"
   },
   {
    "duration": 9,
    "start_time": "2022-11-11T10:00:38.685Z"
   },
   {
    "duration": 7,
    "start_time": "2022-11-11T10:00:52.533Z"
   },
   {
    "duration": 515,
    "start_time": "2022-11-11T10:00:52.919Z"
   },
   {
    "duration": 3,
    "start_time": "2022-11-11T10:00:56.007Z"
   },
   {
    "duration": 1296,
    "start_time": "2022-11-11T10:00:56.640Z"
   },
   {
    "duration": 4,
    "start_time": "2022-11-11T10:00:59.175Z"
   },
   {
    "duration": 656,
    "start_time": "2022-11-11T10:01:05.294Z"
   },
   {
    "duration": 3351,
    "start_time": "2022-11-11T10:01:08.273Z"
   },
   {
    "duration": 880,
    "start_time": "2022-11-11T10:01:33.966Z"
   },
   {
    "duration": 829,
    "start_time": "2022-11-11T10:01:48.357Z"
   },
   {
    "duration": 980,
    "start_time": "2022-11-11T10:02:16.745Z"
   },
   {
    "duration": 1053,
    "start_time": "2022-11-11T10:02:52.045Z"
   }
  ],
  "kernelspec": {
   "display_name": "Python 3 (ipykernel)",
   "language": "python",
   "name": "python3"
  },
  "language_info": {
   "codemirror_mode": {
    "name": "ipython",
    "version": 3
   },
   "file_extension": ".py",
   "mimetype": "text/x-python",
   "name": "python",
   "nbconvert_exporter": "python",
   "pygments_lexer": "ipython3",
   "version": "3.9.5"
  },
  "toc": {
   "base_numbering": 1,
   "nav_menu": {},
   "number_sections": true,
   "sideBar": true,
   "skip_h1_title": true,
   "title_cell": "Table of Contents",
   "title_sidebar": "Contents",
   "toc_cell": false,
   "toc_position": {},
   "toc_section_display": true,
   "toc_window_display": true
  }
 },
 "nbformat": 4,
 "nbformat_minor": 2
}
