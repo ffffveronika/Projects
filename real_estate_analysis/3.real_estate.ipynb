{
 "cells": [
  {
   "cell_type": "markdown",
   "metadata": {
    "toc": true
   },
   "source": [
    "<h1>Содержание<span class=\"tocSkip\"></span></h1>\n",
    "<div class=\"toc\"><ul class=\"toc-item\"><li><span><a href=\"#Обзор-данных\" data-toc-modified-id=\"Обзор-данных-1\"><span class=\"toc-item-num\">1&nbsp;&nbsp;</span>Обзор данных</a></span></li><li><span><a href=\"#Предобработка-данных\" data-toc-modified-id=\"Предобработка-данных-2\"><span class=\"toc-item-num\">2&nbsp;&nbsp;</span>Предобработка данных</a></span><ul class=\"toc-item\"><li><span><a href=\"#Заполнение-пропусков\" data-toc-modified-id=\"Заполнение-пропусков-2.1\"><span class=\"toc-item-num\">2.1&nbsp;&nbsp;</span>Заполнение пропусков</a></span></li><li><span><a href=\"#Изменение-типов-данных\" data-toc-modified-id=\"Изменение-типов-данных-2.2\"><span class=\"toc-item-num\">2.2&nbsp;&nbsp;</span>Изменение типов данных</a></span></li></ul></li><li><span><a href=\"#Расчёты-и-добавление-результатов-в-таблицу\" data-toc-modified-id=\"Расчёты-и-добавление-результатов-в-таблицу-3\"><span class=\"toc-item-num\">3&nbsp;&nbsp;</span>Расчёты и добавление результатов в таблицу</a></span><ul class=\"toc-item\"><li><span><a href=\"#Цена-квадратного-метра\" data-toc-modified-id=\"Цена-квадратного-метра-3.1\"><span class=\"toc-item-num\">3.1&nbsp;&nbsp;</span>Цена квадратного метра</a></span></li><li><span><a href=\"#День-недели,-месяц-и-год-публикации-объявления\" data-toc-modified-id=\"День-недели,-месяц-и-год-публикации-объявления-3.2\"><span class=\"toc-item-num\">3.2&nbsp;&nbsp;</span>День недели, месяц и год публикации объявления</a></span></li><li><span><a href=\"#Этаж-квартиры\" data-toc-modified-id=\"Этаж-квартиры-3.3\"><span class=\"toc-item-num\">3.3&nbsp;&nbsp;</span>Этаж квартиры</a></span></li><li><span><a href=\"#Соотношение-площадей\" data-toc-modified-id=\"Соотношение-площадей-3.4\"><span class=\"toc-item-num\">3.4&nbsp;&nbsp;</span>Соотношение площадей</a></span></li></ul></li><li><span><a href=\"#Исследовательский-анализ-данных\" data-toc-modified-id=\"Исследовательский-анализ-данных-4\"><span class=\"toc-item-num\">4&nbsp;&nbsp;</span>Исследовательский анализ данных</a></span><ul class=\"toc-item\"><li><span><a href=\"#Площадь,-цена,-число-комнат,-высота-потолков\" data-toc-modified-id=\"Площадь,-цена,-число-комнат,-высота-потолков-4.1\"><span class=\"toc-item-num\">4.1&nbsp;&nbsp;</span>Площадь, цена, число комнат, высота потолков</a></span></li><li><span><a href=\"#Время-продажи-квартиры\" data-toc-modified-id=\"Время-продажи-квартиры-4.2\"><span class=\"toc-item-num\">4.2&nbsp;&nbsp;</span>Время продажи квартиры</a></span></li><li><span><a href=\"#Удаление-редких-и-выбивающихся-значений\" data-toc-modified-id=\"Удаление-редких-и-выбивающихся-значений-4.3\"><span class=\"toc-item-num\">4.3&nbsp;&nbsp;</span>Удаление редких и выбивающихся значений</a></span></li><li><span><a href=\"#Изучение-факторов,-влияющих-на-стоимость-квартиры\" data-toc-modified-id=\"Изучение-факторов,-влияющих-на-стоимость-квартиры-4.4\"><span class=\"toc-item-num\">4.4&nbsp;&nbsp;</span>Изучение факторов, влияющих на стоимость квартиры</a></span></li><li><span><a href=\"#Населённые-пунктов-с-наибольшим-числом-объявлений\" data-toc-modified-id=\"Населённые-пунктов-с-наибольшим-числом-объявлений-4.5\"><span class=\"toc-item-num\">4.5&nbsp;&nbsp;</span>Населённые пунктов с наибольшим числом объявлений</a></span></li><li><span><a href=\"#Изучение-центральной-области\" data-toc-modified-id=\"Изучение-центральной-области-4.6\"><span class=\"toc-item-num\">4.6&nbsp;&nbsp;</span>Изучение центральной области</a></span></li><li><span><a href=\"#Анализ-сегмента-квартир-в-центре\" data-toc-modified-id=\"Анализ-сегмента-квартир-в-центре-4.7\"><span class=\"toc-item-num\">4.7&nbsp;&nbsp;</span>Анализ сегмента квартир в центре</a></span><ul class=\"toc-item\"><li><span><a href=\"#Площадь,-цена,-число-комнат,-высота-потолков-для-центра\" data-toc-modified-id=\"Площадь,-цена,-число-комнат,-высота-потолков-для-центра-4.7.1\"><span class=\"toc-item-num\">4.7.1&nbsp;&nbsp;</span>Площадь, цена, число комнат, высота потолков для центра</a></span></li><li><span><a href=\"#Изучение-факторов,-влияющих-на-стоимость-квартиры-в-центре\" data-toc-modified-id=\"Изучение-факторов,-влияющих-на-стоимость-квартиры-в-центре-4.7.2\"><span class=\"toc-item-num\">4.7.2&nbsp;&nbsp;</span>Изучение факторов, влияющих на стоимость квартиры в центре</a></span></li></ul></li></ul></li><li><span><a href=\"#Общий-вывод\" data-toc-modified-id=\"Общий-вывод-5\"><span class=\"toc-item-num\">5&nbsp;&nbsp;</span>Общий вывод</a></span></li></ul></div>"
   ]
  },
  {
   "cell_type": "markdown",
   "metadata": {},
   "source": [
    "# Исследование объявлений о продаже квартир\n",
    "\n",
    "**Описание исследования**\n",
    "\n",
    "Задача — установить параметры, определить рыночную стоимость объектов недвижимости \n",
    "\n",
    "**Цель исследования** — исследовать рынок недвижимости:\n",
    "* Изучить основные параметры: площадь, цена, число комнат, высота потолков\n",
    "* Изучить время продажи квартир, найти среднее\n",
    "* Изучить факторы, влияющие на рыночную стоимость недвижимости\n",
    "* Изучить сегмент квартир в центре\n",
    "\n",
    "\n",
    "**Описание даннных**\n",
    "\n",
    "Входные данные - данные сервиса Яндекc Недвижимость — архив объявлений о продаже квартир в Санкт-Петербурге и соседних населённых пунктах за несколько лет. \n",
    "\n",
    "1. airports_nearest — расстояние до ближайшего аэропорта в метрах (м)\n",
    "2. balcony — число балконов\n",
    "3. ceiling_height — высота потолков (м)\n",
    "4. cityCenters_nearest — расстояние до центра города (м)\n",
    "5. days_exposition — сколько дней было размещено объявление (от публикации до снятия)\n",
    "6. first_day_exposition — дата публикации\n",
    "7. floor — этаж\n",
    "8. floors_total — всего этажей в доме\n",
    "9. is_apartment — апартаменты (булев тип)\n",
    "10. kitchen_area — площадь кухни в квадратных метрах (м²)\n",
    "11. last_price — цена на момент снятия с публикации\n",
    "12. living_area — жилая площадь в квадратных метрах (м²)\n",
    "13. locality_name — название населённого пункта\n",
    "14. open_plan — свободная планировка (булев тип)\n",
    "15. parks_around3000 — число парков в радиусе 3 км\n",
    "16. parks_nearest — расстояние до ближайшего парка (м)\n",
    "17. ponds_around3000 — число водоёмов в радиусе 3 км\n",
    "18. ponds_nearest — расстояние до ближайшего водоёма (м)\n",
    "19. rooms — число комнат\n",
    "20. studio — квартира-студия (булев тип)\n",
    "21. total_area — площадь квартиры в квадратных метрах (м²)\n",
    "22. total_images — число фотографий квартиры в объявлении\n",
    "\n",
    "По каждой квартире на продажу доступны два вида данных. Первые вписаны пользователем, вторые получены автоматически на основе картографических данных. \n",
    "\n",
    "**Ход исследования**\n",
    "\n",
    "Перед тем, как непосредственно перейти к исследованию данных необходимо провести их обзор и предобработку и подготовку.\n",
    " \n",
    "Таким образом, исследование пройдёт в четыре этапа:\n",
    " 1. Обзор данных.\n",
    " 2. Предобработка данных.\n",
    " 3. Подготовка данных: рассчеты.\n",
    " 4. Исследовательский анализ"
   ]
  },
  {
   "cell_type": "markdown",
   "metadata": {},
   "source": [
    "## Обзор данных"
   ]
  },
  {
   "cell_type": "code",
   "execution_count": 322,
   "metadata": {},
   "outputs": [],
   "source": [
    "# Импортируем библиотеки\n",
    "import pandas as pd\n",
    "import matplotlib.pyplot as plt"
   ]
  },
  {
   "cell_type": "code",
   "execution_count": 323,
   "metadata": {},
   "outputs": [],
   "source": [
    "# Oткроем датасет\n",
    "data = pd.read_csv('/datasets/real_estate_data.csv')"
   ]
  },
  {
   "cell_type": "code",
   "execution_count": 324,
   "metadata": {},
   "outputs": [],
   "source": [
    "# Данные необходимо разделить, перезапишем переменную\n",
    "data = pd.read_csv('/datasets/real_estate_data.csv', sep='\\t')"
   ]
  },
  {
   "cell_type": "code",
   "execution_count": 325,
   "metadata": {},
   "outputs": [
    {
     "name": "stdout",
     "output_type": "stream",
     "text": [
      "<class 'pandas.core.frame.DataFrame'>\n",
      "RangeIndex: 23699 entries, 0 to 23698\n",
      "Data columns (total 22 columns):\n",
      " #   Column                Non-Null Count  Dtype  \n",
      "---  ------                --------------  -----  \n",
      " 0   total_images          23699 non-null  int64  \n",
      " 1   last_price            23699 non-null  float64\n",
      " 2   total_area            23699 non-null  float64\n",
      " 3   first_day_exposition  23699 non-null  object \n",
      " 4   rooms                 23699 non-null  int64  \n",
      " 5   ceiling_height        14504 non-null  float64\n",
      " 6   floors_total          23613 non-null  float64\n",
      " 7   living_area           21796 non-null  float64\n",
      " 8   floor                 23699 non-null  int64  \n",
      " 9   is_apartment          2775 non-null   object \n",
      " 10  studio                23699 non-null  bool   \n",
      " 11  open_plan             23699 non-null  bool   \n",
      " 12  kitchen_area          21421 non-null  float64\n",
      " 13  balcony               12180 non-null  float64\n",
      " 14  locality_name         23650 non-null  object \n",
      " 15  airports_nearest      18157 non-null  float64\n",
      " 16  cityCenters_nearest   18180 non-null  float64\n",
      " 17  parks_around3000      18181 non-null  float64\n",
      " 18  parks_nearest         8079 non-null   float64\n",
      " 19  ponds_around3000      18181 non-null  float64\n",
      " 20  ponds_nearest         9110 non-null   float64\n",
      " 21  days_exposition       20518 non-null  float64\n",
      "dtypes: bool(2), float64(14), int64(3), object(3)\n",
      "memory usage: 3.7+ MB\n"
     ]
    }
   ],
   "source": [
    "# Получим общую информацию о данных\n",
    "data.info()"
   ]
  },
  {
   "cell_type": "code",
   "execution_count": 326,
   "metadata": {},
   "outputs": [
    {
     "data": {
      "text/plain": [
       "total_images            0.000000\n",
       "last_price              0.000000\n",
       "total_area              0.000000\n",
       "first_day_exposition    0.000000\n",
       "rooms                   0.000000\n",
       "ceiling_height          0.387991\n",
       "floors_total            0.003629\n",
       "living_area             0.080299\n",
       "floor                   0.000000\n",
       "is_apartment            0.882906\n",
       "studio                  0.000000\n",
       "open_plan               0.000000\n",
       "kitchen_area            0.096122\n",
       "balcony                 0.486054\n",
       "locality_name           0.002068\n",
       "airports_nearest        0.233850\n",
       "cityCenters_nearest     0.232879\n",
       "parks_around3000        0.232837\n",
       "parks_nearest           0.659100\n",
       "ponds_around3000        0.232837\n",
       "ponds_nearest           0.615596\n",
       "days_exposition         0.134225\n",
       "dtype: float64"
      ]
     },
     "execution_count": 326,
     "metadata": {},
     "output_type": "execute_result"
    }
   ],
   "source": [
    "# Выведем долю пропусков для каждого столбца\n",
    "data.isna().sum()/len(data)"
   ]
  },
  {
   "cell_type": "markdown",
   "metadata": {},
   "source": [
    "**Вывод** \n",
    "\n",
    "- Всего в таблице 22 столбца и 23699 строк\n",
    "- В столбцах ceiling_height, floors_total, living_area, is_apartment, kitchen_area, balcony, locality_name, airports_nearest, cityCenters_nearest, parks_around3000, parks_nearest, ponds_around3000, ponds_nearest, days_exposition обнаружены пропуски\n",
    "- На первый взгляд сложно сделать какие-то выводы по природе пропусков, необходимо изучить каждый столбец по отдельности."
   ]
  },
  {
   "cell_type": "markdown",
   "metadata": {},
   "source": [
    "## Предобработка данных"
   ]
  },
  {
   "cell_type": "markdown",
   "metadata": {},
   "source": [
    "### Заполнение пропусков"
   ]
  },
  {
   "cell_type": "markdown",
   "metadata": {},
   "source": [
    "Столбцы, которые понадобятся для исследования: total_area, last_price, rooms, ceiling_height, days_exposition, cityCenters_nearest, floor, first_day_exposition, locality_name, floors_total, kitchen_area. Среди них с пропусками: ceiling_height, days_exposition, cityCenters_nearest, locality_name, kitchen_area, floors_total. В первую очередь заполним пропуски в них. "
   ]
  },
  {
   "cell_type": "code",
   "execution_count": 327,
   "metadata": {},
   "outputs": [
    {
     "data": {
      "text/plain": [
       "0     2.70\n",
       "1      NaN\n",
       "2      NaN\n",
       "3      NaN\n",
       "4     3.03\n",
       "5      NaN\n",
       "6      NaN\n",
       "7      NaN\n",
       "8      NaN\n",
       "9     2.50\n",
       "10    2.67\n",
       "11     NaN\n",
       "12     NaN\n",
       "13    2.56\n",
       "14     NaN\n",
       "15     NaN\n",
       "16    3.05\n",
       "17     NaN\n",
       "18    2.50\n",
       "19    2.75\n",
       "20    2.70\n",
       "21     NaN\n",
       "22    2.75\n",
       "23    2.60\n",
       "24     NaN\n",
       "25    2.75\n",
       "26     NaN\n",
       "27    2.60\n",
       "28    2.90\n",
       "29     NaN\n",
       "Name: ceiling_height, dtype: float64"
      ]
     },
     "execution_count": 327,
     "metadata": {},
     "output_type": "execute_result"
    }
   ],
   "source": [
    "# Изучим столбец ceiling_height\n",
    "data['ceiling_height'].head(30)"
   ]
  },
  {
   "cell_type": "markdown",
   "metadata": {},
   "source": [
    "Пропусков достаточно много, игнорировать их нельзя. Скорее всего, не у всех собственников есть данные касательно высоты потолка или они посчитали их ненужными. Лучшим способом будет замена. "
   ]
  },
  {
   "cell_type": "code",
   "execution_count": 328,
   "metadata": {},
   "outputs": [
    {
     "data": {
      "text/plain": [
       "count    14504.000000\n",
       "mean         2.771499\n",
       "std          1.261056\n",
       "min          1.000000\n",
       "25%          2.520000\n",
       "50%          2.650000\n",
       "75%          2.800000\n",
       "max        100.000000\n",
       "Name: ceiling_height, dtype: float64"
      ]
     },
     "execution_count": 328,
     "metadata": {},
     "output_type": "execute_result"
    }
   ],
   "source": [
    "# Для того, чтобы выбрать нужное значение для замены, изучим среднее, медиану и другие данные.\n",
    "data['ceiling_height'].describe()"
   ]
  },
  {
   "cell_type": "markdown",
   "metadata": {},
   "source": [
    "Как мы видим, среднее ~ 2.77, а медиана = 2.65. Логичнее выбрать медиану для замены, так как максимальное значение 100м сильно портит картину."
   ]
  },
  {
   "cell_type": "code",
   "execution_count": 329,
   "metadata": {},
   "outputs": [],
   "source": [
    "# Заменим все NaN на медианное значение\n",
    "data['ceiling_height'] = data['ceiling_height'].fillna(data['ceiling_height'].median())"
   ]
  },
  {
   "cell_type": "code",
   "execution_count": 330,
   "metadata": {},
   "outputs": [
    {
     "data": {
      "text/plain": [
       "0"
      ]
     },
     "execution_count": 330,
     "metadata": {},
     "output_type": "execute_result"
    }
   ],
   "source": [
    "# Проверим\n",
    "data['ceiling_height'].isna().sum()"
   ]
  },
  {
   "cell_type": "code",
   "execution_count": 331,
   "metadata": {},
   "outputs": [
    {
     "data": {
      "text/plain": [
       "0.13422507278788134"
      ]
     },
     "execution_count": 331,
     "metadata": {},
     "output_type": "execute_result"
    }
   ],
   "source": [
    "# Изучим столбец days_exposition\n",
    "data['days_exposition'].isna().sum()/len(data)"
   ]
  },
  {
   "cell_type": "markdown",
   "metadata": {},
   "source": [
    "Доля пропусков достаточно значительна. Так как данные о датах можно получить автоматически, пропуски вряд ли случайны, возможно они возникли потому, что объявления еще не сняты. "
   ]
  },
  {
   "cell_type": "code",
   "execution_count": 332,
   "metadata": {},
   "outputs": [
    {
     "data": {
      "text/html": [
       "<div>\n",
       "<style scoped>\n",
       "    .dataframe tbody tr th:only-of-type {\n",
       "        vertical-align: middle;\n",
       "    }\n",
       "\n",
       "    .dataframe tbody tr th {\n",
       "        vertical-align: top;\n",
       "    }\n",
       "\n",
       "    .dataframe thead th {\n",
       "        text-align: right;\n",
       "    }\n",
       "</style>\n",
       "<table border=\"1\" class=\"dataframe\">\n",
       "  <thead>\n",
       "    <tr style=\"text-align: right;\">\n",
       "      <th></th>\n",
       "      <th>total_images</th>\n",
       "      <th>last_price</th>\n",
       "      <th>total_area</th>\n",
       "      <th>first_day_exposition</th>\n",
       "      <th>rooms</th>\n",
       "      <th>ceiling_height</th>\n",
       "      <th>floors_total</th>\n",
       "      <th>living_area</th>\n",
       "      <th>floor</th>\n",
       "      <th>is_apartment</th>\n",
       "      <th>...</th>\n",
       "      <th>kitchen_area</th>\n",
       "      <th>balcony</th>\n",
       "      <th>locality_name</th>\n",
       "      <th>airports_nearest</th>\n",
       "      <th>cityCenters_nearest</th>\n",
       "      <th>parks_around3000</th>\n",
       "      <th>parks_nearest</th>\n",
       "      <th>ponds_around3000</th>\n",
       "      <th>ponds_nearest</th>\n",
       "      <th>days_exposition</th>\n",
       "    </tr>\n",
       "  </thead>\n",
       "  <tbody>\n",
       "    <tr>\n",
       "      <th>12003</th>\n",
       "      <td>10</td>\n",
       "      <td>950000.0</td>\n",
       "      <td>37.10</td>\n",
       "      <td>2019-05-03T00:00:00</td>\n",
       "      <td>1</td>\n",
       "      <td>2.65</td>\n",
       "      <td>4.0</td>\n",
       "      <td>17.0</td>\n",
       "      <td>4</td>\n",
       "      <td>False</td>\n",
       "      <td>...</td>\n",
       "      <td>8.40</td>\n",
       "      <td>2.0</td>\n",
       "      <td>деревня Курковицы</td>\n",
       "      <td>NaN</td>\n",
       "      <td>NaN</td>\n",
       "      <td>NaN</td>\n",
       "      <td>NaN</td>\n",
       "      <td>NaN</td>\n",
       "      <td>NaN</td>\n",
       "      <td>NaN</td>\n",
       "    </tr>\n",
       "    <tr>\n",
       "      <th>14246</th>\n",
       "      <td>14</td>\n",
       "      <td>6200000.0</td>\n",
       "      <td>86.20</td>\n",
       "      <td>2019-05-03T00:00:00</td>\n",
       "      <td>3</td>\n",
       "      <td>2.65</td>\n",
       "      <td>10.0</td>\n",
       "      <td>49.5</td>\n",
       "      <td>7</td>\n",
       "      <td>NaN</td>\n",
       "      <td>...</td>\n",
       "      <td>17.00</td>\n",
       "      <td>NaN</td>\n",
       "      <td>деревня Куттузи</td>\n",
       "      <td>NaN</td>\n",
       "      <td>NaN</td>\n",
       "      <td>NaN</td>\n",
       "      <td>NaN</td>\n",
       "      <td>NaN</td>\n",
       "      <td>NaN</td>\n",
       "      <td>NaN</td>\n",
       "    </tr>\n",
       "    <tr>\n",
       "      <th>3254</th>\n",
       "      <td>16</td>\n",
       "      <td>8800000.0</td>\n",
       "      <td>80.00</td>\n",
       "      <td>2019-05-03T00:00:00</td>\n",
       "      <td>3</td>\n",
       "      <td>2.80</td>\n",
       "      <td>17.0</td>\n",
       "      <td>31.0</td>\n",
       "      <td>15</td>\n",
       "      <td>NaN</td>\n",
       "      <td>...</td>\n",
       "      <td>27.00</td>\n",
       "      <td>2.0</td>\n",
       "      <td>Кудрово</td>\n",
       "      <td>NaN</td>\n",
       "      <td>NaN</td>\n",
       "      <td>NaN</td>\n",
       "      <td>NaN</td>\n",
       "      <td>NaN</td>\n",
       "      <td>NaN</td>\n",
       "      <td>NaN</td>\n",
       "    </tr>\n",
       "    <tr>\n",
       "      <th>12343</th>\n",
       "      <td>12</td>\n",
       "      <td>2890000.0</td>\n",
       "      <td>48.80</td>\n",
       "      <td>2019-05-03T00:00:00</td>\n",
       "      <td>2</td>\n",
       "      <td>2.55</td>\n",
       "      <td>5.0</td>\n",
       "      <td>29.4</td>\n",
       "      <td>1</td>\n",
       "      <td>NaN</td>\n",
       "      <td>...</td>\n",
       "      <td>7.20</td>\n",
       "      <td>NaN</td>\n",
       "      <td>городской посёлок Рощино</td>\n",
       "      <td>NaN</td>\n",
       "      <td>NaN</td>\n",
       "      <td>NaN</td>\n",
       "      <td>NaN</td>\n",
       "      <td>NaN</td>\n",
       "      <td>NaN</td>\n",
       "      <td>NaN</td>\n",
       "    </tr>\n",
       "    <tr>\n",
       "      <th>5986</th>\n",
       "      <td>0</td>\n",
       "      <td>5000000.0</td>\n",
       "      <td>48.00</td>\n",
       "      <td>2019-05-03T00:00:00</td>\n",
       "      <td>3</td>\n",
       "      <td>2.50</td>\n",
       "      <td>9.0</td>\n",
       "      <td>NaN</td>\n",
       "      <td>2</td>\n",
       "      <td>NaN</td>\n",
       "      <td>...</td>\n",
       "      <td>NaN</td>\n",
       "      <td>NaN</td>\n",
       "      <td>Санкт-Петербург</td>\n",
       "      <td>51060.0</td>\n",
       "      <td>16892.0</td>\n",
       "      <td>0.0</td>\n",
       "      <td>NaN</td>\n",
       "      <td>0.0</td>\n",
       "      <td>NaN</td>\n",
       "      <td>NaN</td>\n",
       "    </tr>\n",
       "    <tr>\n",
       "      <th>...</th>\n",
       "      <td>...</td>\n",
       "      <td>...</td>\n",
       "      <td>...</td>\n",
       "      <td>...</td>\n",
       "      <td>...</td>\n",
       "      <td>...</td>\n",
       "      <td>...</td>\n",
       "      <td>...</td>\n",
       "      <td>...</td>\n",
       "      <td>...</td>\n",
       "      <td>...</td>\n",
       "      <td>...</td>\n",
       "      <td>...</td>\n",
       "      <td>...</td>\n",
       "      <td>...</td>\n",
       "      <td>...</td>\n",
       "      <td>...</td>\n",
       "      <td>...</td>\n",
       "      <td>...</td>\n",
       "      <td>...</td>\n",
       "      <td>...</td>\n",
       "    </tr>\n",
       "    <tr>\n",
       "      <th>3486</th>\n",
       "      <td>2</td>\n",
       "      <td>14500000.0</td>\n",
       "      <td>97.40</td>\n",
       "      <td>2014-11-27T00:00:00</td>\n",
       "      <td>2</td>\n",
       "      <td>3.00</td>\n",
       "      <td>8.0</td>\n",
       "      <td>36.3</td>\n",
       "      <td>2</td>\n",
       "      <td>False</td>\n",
       "      <td>...</td>\n",
       "      <td>31.70</td>\n",
       "      <td>0.0</td>\n",
       "      <td>Санкт-Петербург</td>\n",
       "      <td>39393.0</td>\n",
       "      <td>11096.0</td>\n",
       "      <td>1.0</td>\n",
       "      <td>537.0</td>\n",
       "      <td>0.0</td>\n",
       "      <td>NaN</td>\n",
       "      <td>1078.0</td>\n",
       "    </tr>\n",
       "    <tr>\n",
       "      <th>8393</th>\n",
       "      <td>10</td>\n",
       "      <td>8037000.0</td>\n",
       "      <td>56.20</td>\n",
       "      <td>2014-11-27T00:00:00</td>\n",
       "      <td>1</td>\n",
       "      <td>2.65</td>\n",
       "      <td>5.0</td>\n",
       "      <td>24.2</td>\n",
       "      <td>5</td>\n",
       "      <td>False</td>\n",
       "      <td>...</td>\n",
       "      <td>12.90</td>\n",
       "      <td>0.0</td>\n",
       "      <td>Санкт-Петербург</td>\n",
       "      <td>36813.0</td>\n",
       "      <td>8572.0</td>\n",
       "      <td>1.0</td>\n",
       "      <td>2467.0</td>\n",
       "      <td>3.0</td>\n",
       "      <td>214.0</td>\n",
       "      <td>972.0</td>\n",
       "    </tr>\n",
       "    <tr>\n",
       "      <th>15427</th>\n",
       "      <td>2</td>\n",
       "      <td>3550000.0</td>\n",
       "      <td>34.00</td>\n",
       "      <td>2014-11-27T00:00:00</td>\n",
       "      <td>1</td>\n",
       "      <td>2.55</td>\n",
       "      <td>9.0</td>\n",
       "      <td>18.9</td>\n",
       "      <td>7</td>\n",
       "      <td>False</td>\n",
       "      <td>...</td>\n",
       "      <td>6.00</td>\n",
       "      <td>1.0</td>\n",
       "      <td>Санкт-Петербург</td>\n",
       "      <td>13430.0</td>\n",
       "      <td>14405.0</td>\n",
       "      <td>1.0</td>\n",
       "      <td>500.0</td>\n",
       "      <td>1.0</td>\n",
       "      <td>504.0</td>\n",
       "      <td>1149.0</td>\n",
       "    </tr>\n",
       "    <tr>\n",
       "      <th>15857</th>\n",
       "      <td>6</td>\n",
       "      <td>25000000.0</td>\n",
       "      <td>145.20</td>\n",
       "      <td>2014-11-27T00:00:00</td>\n",
       "      <td>3</td>\n",
       "      <td>2.65</td>\n",
       "      <td>5.0</td>\n",
       "      <td>60.7</td>\n",
       "      <td>5</td>\n",
       "      <td>NaN</td>\n",
       "      <td>...</td>\n",
       "      <td>40.20</td>\n",
       "      <td>NaN</td>\n",
       "      <td>Санкт-Петербург</td>\n",
       "      <td>36779.0</td>\n",
       "      <td>14931.0</td>\n",
       "      <td>0.0</td>\n",
       "      <td>NaN</td>\n",
       "      <td>0.0</td>\n",
       "      <td>NaN</td>\n",
       "      <td>NaN</td>\n",
       "    </tr>\n",
       "    <tr>\n",
       "      <th>16159</th>\n",
       "      <td>5</td>\n",
       "      <td>14538350.0</td>\n",
       "      <td>80.55</td>\n",
       "      <td>2014-11-27T00:00:00</td>\n",
       "      <td>2</td>\n",
       "      <td>2.80</td>\n",
       "      <td>12.0</td>\n",
       "      <td>35.0</td>\n",
       "      <td>10</td>\n",
       "      <td>False</td>\n",
       "      <td>...</td>\n",
       "      <td>16.45</td>\n",
       "      <td>2.0</td>\n",
       "      <td>Санкт-Петербург</td>\n",
       "      <td>39946.0</td>\n",
       "      <td>10720.0</td>\n",
       "      <td>1.0</td>\n",
       "      <td>2102.0</td>\n",
       "      <td>3.0</td>\n",
       "      <td>303.0</td>\n",
       "      <td>1076.0</td>\n",
       "    </tr>\n",
       "  </tbody>\n",
       "</table>\n",
       "<p>23699 rows × 22 columns</p>\n",
       "</div>"
      ],
      "text/plain": [
       "       total_images  last_price  total_area first_day_exposition  rooms  \\\n",
       "12003            10    950000.0       37.10  2019-05-03T00:00:00      1   \n",
       "14246            14   6200000.0       86.20  2019-05-03T00:00:00      3   \n",
       "3254             16   8800000.0       80.00  2019-05-03T00:00:00      3   \n",
       "12343            12   2890000.0       48.80  2019-05-03T00:00:00      2   \n",
       "5986              0   5000000.0       48.00  2019-05-03T00:00:00      3   \n",
       "...             ...         ...         ...                  ...    ...   \n",
       "3486              2  14500000.0       97.40  2014-11-27T00:00:00      2   \n",
       "8393             10   8037000.0       56.20  2014-11-27T00:00:00      1   \n",
       "15427             2   3550000.0       34.00  2014-11-27T00:00:00      1   \n",
       "15857             6  25000000.0      145.20  2014-11-27T00:00:00      3   \n",
       "16159             5  14538350.0       80.55  2014-11-27T00:00:00      2   \n",
       "\n",
       "       ceiling_height  floors_total  living_area  floor is_apartment  ...  \\\n",
       "12003            2.65           4.0         17.0      4        False  ...   \n",
       "14246            2.65          10.0         49.5      7          NaN  ...   \n",
       "3254             2.80          17.0         31.0     15          NaN  ...   \n",
       "12343            2.55           5.0         29.4      1          NaN  ...   \n",
       "5986             2.50           9.0          NaN      2          NaN  ...   \n",
       "...               ...           ...          ...    ...          ...  ...   \n",
       "3486             3.00           8.0         36.3      2        False  ...   \n",
       "8393             2.65           5.0         24.2      5        False  ...   \n",
       "15427            2.55           9.0         18.9      7        False  ...   \n",
       "15857            2.65           5.0         60.7      5          NaN  ...   \n",
       "16159            2.80          12.0         35.0     10        False  ...   \n",
       "\n",
       "       kitchen_area  balcony             locality_name  airports_nearest  \\\n",
       "12003          8.40      2.0         деревня Курковицы               NaN   \n",
       "14246         17.00      NaN           деревня Куттузи               NaN   \n",
       "3254          27.00      2.0                   Кудрово               NaN   \n",
       "12343          7.20      NaN  городской посёлок Рощино               NaN   \n",
       "5986            NaN      NaN           Санкт-Петербург           51060.0   \n",
       "...             ...      ...                       ...               ...   \n",
       "3486          31.70      0.0           Санкт-Петербург           39393.0   \n",
       "8393          12.90      0.0           Санкт-Петербург           36813.0   \n",
       "15427          6.00      1.0           Санкт-Петербург           13430.0   \n",
       "15857         40.20      NaN           Санкт-Петербург           36779.0   \n",
       "16159         16.45      2.0           Санкт-Петербург           39946.0   \n",
       "\n",
       "      cityCenters_nearest  parks_around3000  parks_nearest  ponds_around3000  \\\n",
       "12003                 NaN               NaN            NaN               NaN   \n",
       "14246                 NaN               NaN            NaN               NaN   \n",
       "3254                  NaN               NaN            NaN               NaN   \n",
       "12343                 NaN               NaN            NaN               NaN   \n",
       "5986              16892.0               0.0            NaN               0.0   \n",
       "...                   ...               ...            ...               ...   \n",
       "3486              11096.0               1.0          537.0               0.0   \n",
       "8393               8572.0               1.0         2467.0               3.0   \n",
       "15427             14405.0               1.0          500.0               1.0   \n",
       "15857             14931.0               0.0            NaN               0.0   \n",
       "16159             10720.0               1.0         2102.0               3.0   \n",
       "\n",
       "       ponds_nearest  days_exposition  \n",
       "12003            NaN              NaN  \n",
       "14246            NaN              NaN  \n",
       "3254             NaN              NaN  \n",
       "12343            NaN              NaN  \n",
       "5986             NaN              NaN  \n",
       "...              ...              ...  \n",
       "3486             NaN           1078.0  \n",
       "8393           214.0            972.0  \n",
       "15427          504.0           1149.0  \n",
       "15857            NaN              NaN  \n",
       "16159          303.0           1076.0  \n",
       "\n",
       "[23699 rows x 22 columns]"
      ]
     },
     "execution_count": 332,
     "metadata": {},
     "output_type": "execute_result"
    }
   ],
   "source": [
    "# Посмотрим, есть ли какая-то зависимость между ними и датой запуска объявления.\n",
    "data.sort_values(by='first_day_exposition', ascending=False)"
   ]
  },
  {
   "cell_type": "markdown",
   "metadata": {},
   "source": [
    "Действительно, в поздних датах практически везде пропуски, в отличие от ранних, вероятно это еще не проданная недвижимость. Лучше удалить эти строчки на этапе исследования вопроса сколько обычно занимает продажа, так как для ответа на этот вопрос нам нужна только уже проданная недвижимость, заменять пропуски средним или медианным значением нет смысла."
   ]
  },
  {
   "cell_type": "code",
   "execution_count": 333,
   "metadata": {},
   "outputs": [],
   "source": [
    "# Изучим столбец cityCenters_nearest, но прежде заменим регистр\n",
    "data = data.rename(columns={'cityCenters_nearest':'city_centers_nearest'})"
   ]
  },
  {
   "cell_type": "code",
   "execution_count": 334,
   "metadata": {},
   "outputs": [],
   "source": [
    "# Попробуем заменить пропущенные значения средним по населенному пункту\n",
    "data_mean = data.groupby('locality_name')['city_centers_nearest'].transform('mean')\n",
    "data['city_centers_nearest'] = data['city_centers_nearest'].fillna(data_mean)"
   ]
  },
  {
   "cell_type": "code",
   "execution_count": 335,
   "metadata": {},
   "outputs": [
    {
     "data": {
      "text/plain": [
       "5394"
      ]
     },
     "execution_count": 335,
     "metadata": {},
     "output_type": "execute_result"
    }
   ],
   "source": [
    "# Проверим\n",
    "data['city_centers_nearest'].isna().sum()"
   ]
  },
  {
   "cell_type": "markdown",
   "metadata": {},
   "source": [
    "Вероятно, у населенных пунктов с пропусками в принципе не указано расстояние до центра ни в одном из объявлений. Скорее всего это значит, что населенные пункты находятся слишком далеко от центра. Оставим пропуски как есть."
   ]
  },
  {
   "cell_type": "code",
   "execution_count": 336,
   "metadata": {},
   "outputs": [
    {
     "data": {
      "text/plain": [
       "49"
      ]
     },
     "execution_count": 336,
     "metadata": {},
     "output_type": "execute_result"
    }
   ],
   "source": [
    "# Изучим пропуски в столбце locality_name\n",
    "data['locality_name'].isna().sum()"
   ]
  },
  {
   "cell_type": "markdown",
   "metadata": {},
   "source": [
    "Пропусков немного, оставим как есть"
   ]
  },
  {
   "cell_type": "code",
   "execution_count": 337,
   "metadata": {},
   "outputs": [
    {
     "data": {
      "text/plain": [
       "86"
      ]
     },
     "execution_count": 337,
     "metadata": {},
     "output_type": "execute_result"
    }
   ],
   "source": [
    "# Изучим столбец floors_total\n",
    "data['floors_total'].isna().sum()"
   ]
  },
  {
   "cell_type": "code",
   "execution_count": 338,
   "metadata": {},
   "outputs": [
    {
     "data": {
      "text/plain": [
       "0.0036288450989493226"
      ]
     },
     "execution_count": 338,
     "metadata": {},
     "output_type": "execute_result"
    }
   ],
   "source": [
    "data['floors_total'].isna().sum()/len(data)"
   ]
  },
  {
   "cell_type": "code",
   "execution_count": 339,
   "metadata": {},
   "outputs": [],
   "source": [
    "# Пропусков мало, удалим их\n",
    "data = data.dropna(subset = ['floors_total'])"
   ]
  },
  {
   "cell_type": "code",
   "execution_count": 340,
   "metadata": {},
   "outputs": [
    {
     "data": {
      "text/plain": [
       "0"
      ]
     },
     "execution_count": 340,
     "metadata": {},
     "output_type": "execute_result"
    }
   ],
   "source": [
    "# Проверим\n",
    "data['floors_total'].isna().sum()"
   ]
  },
  {
   "cell_type": "code",
   "execution_count": 341,
   "metadata": {},
   "outputs": [
    {
     "data": {
      "text/plain": [
       "2231"
      ]
     },
     "execution_count": 341,
     "metadata": {},
     "output_type": "execute_result"
    }
   ],
   "source": [
    "# Изучим столбец kitchen_area\n",
    "data['kitchen_area'].isna().sum()"
   ]
  },
  {
   "cell_type": "markdown",
   "metadata": {},
   "source": [
    "Пропусков немало, возможно это связано с типом жилья, в студии как отдельного помещения кухни нет. "
   ]
  },
  {
   "cell_type": "code",
   "execution_count": 342,
   "metadata": {},
   "outputs": [
    {
     "data": {
      "text/html": [
       "<div>\n",
       "<style scoped>\n",
       "    .dataframe tbody tr th:only-of-type {\n",
       "        vertical-align: middle;\n",
       "    }\n",
       "\n",
       "    .dataframe tbody tr th {\n",
       "        vertical-align: top;\n",
       "    }\n",
       "\n",
       "    .dataframe thead th {\n",
       "        text-align: right;\n",
       "    }\n",
       "</style>\n",
       "<table border=\"1\" class=\"dataframe\">\n",
       "  <thead>\n",
       "    <tr style=\"text-align: right;\">\n",
       "      <th></th>\n",
       "      <th>kitchen_area</th>\n",
       "      <th>studio</th>\n",
       "    </tr>\n",
       "  </thead>\n",
       "  <tbody>\n",
       "    <tr>\n",
       "      <th>144</th>\n",
       "      <td>NaN</td>\n",
       "      <td>True</td>\n",
       "    </tr>\n",
       "    <tr>\n",
       "      <th>440</th>\n",
       "      <td>NaN</td>\n",
       "      <td>True</td>\n",
       "    </tr>\n",
       "    <tr>\n",
       "      <th>608</th>\n",
       "      <td>NaN</td>\n",
       "      <td>True</td>\n",
       "    </tr>\n",
       "    <tr>\n",
       "      <th>697</th>\n",
       "      <td>NaN</td>\n",
       "      <td>True</td>\n",
       "    </tr>\n",
       "    <tr>\n",
       "      <th>716</th>\n",
       "      <td>NaN</td>\n",
       "      <td>True</td>\n",
       "    </tr>\n",
       "    <tr>\n",
       "      <th>...</th>\n",
       "      <td>...</td>\n",
       "      <td>...</td>\n",
       "    </tr>\n",
       "    <tr>\n",
       "      <th>22867</th>\n",
       "      <td>NaN</td>\n",
       "      <td>True</td>\n",
       "    </tr>\n",
       "    <tr>\n",
       "      <th>22877</th>\n",
       "      <td>NaN</td>\n",
       "      <td>True</td>\n",
       "    </tr>\n",
       "    <tr>\n",
       "      <th>23210</th>\n",
       "      <td>NaN</td>\n",
       "      <td>True</td>\n",
       "    </tr>\n",
       "    <tr>\n",
       "      <th>23554</th>\n",
       "      <td>NaN</td>\n",
       "      <td>True</td>\n",
       "    </tr>\n",
       "    <tr>\n",
       "      <th>23637</th>\n",
       "      <td>NaN</td>\n",
       "      <td>True</td>\n",
       "    </tr>\n",
       "  </tbody>\n",
       "</table>\n",
       "<p>146 rows × 2 columns</p>\n",
       "</div>"
      ],
      "text/plain": [
       "       kitchen_area  studio\n",
       "144             NaN    True\n",
       "440             NaN    True\n",
       "608             NaN    True\n",
       "697             NaN    True\n",
       "716             NaN    True\n",
       "...             ...     ...\n",
       "22867           NaN    True\n",
       "22877           NaN    True\n",
       "23210           NaN    True\n",
       "23554           NaN    True\n",
       "23637           NaN    True\n",
       "\n",
       "[146 rows x 2 columns]"
      ]
     },
     "execution_count": 342,
     "metadata": {},
     "output_type": "execute_result"
    }
   ],
   "source": [
    "# Соотнесем два столбца\n",
    "data[['kitchen_area', 'studio']].query('studio == True')"
   ]
  },
  {
   "cell_type": "markdown",
   "metadata": {},
   "source": [
    "Все верно. В будущем эти данные понадобятся для нахождения отношения кухонной площади к общей, а так как в этих объявлениях кухни как таковой нет, их учитывать мы не будем, оставим как есть."
   ]
  },
  {
   "cell_type": "markdown",
   "metadata": {},
   "source": [
    "В столбцах balcony, parks_around3000, ponds_around3000 пропуски скорее всего вызваны отсутствием балконов, парков и прудов. Также в is_apartment NaN скорее всего значит, что недвижимость не является апартаментами. Произведем нужные замены. В is_apartment на False, а в остальных на 0. Далее проверим."
   ]
  },
  {
   "cell_type": "code",
   "execution_count": 343,
   "metadata": {},
   "outputs": [],
   "source": [
    "data['is_apartment'] = data['is_apartment'].fillna(False)"
   ]
  },
  {
   "cell_type": "code",
   "execution_count": 344,
   "metadata": {},
   "outputs": [
    {
     "data": {
      "text/plain": [
       "0"
      ]
     },
     "execution_count": 344,
     "metadata": {},
     "output_type": "execute_result"
    }
   ],
   "source": [
    "data['is_apartment'].isna().sum()"
   ]
  },
  {
   "cell_type": "code",
   "execution_count": 345,
   "metadata": {},
   "outputs": [],
   "source": [
    "data['balcony'] = data['balcony'].fillna(0)"
   ]
  },
  {
   "cell_type": "code",
   "execution_count": 346,
   "metadata": {},
   "outputs": [
    {
     "data": {
      "text/plain": [
       "0"
      ]
     },
     "execution_count": 346,
     "metadata": {},
     "output_type": "execute_result"
    }
   ],
   "source": [
    "data['balcony'].isna().sum()"
   ]
  },
  {
   "cell_type": "code",
   "execution_count": 347,
   "metadata": {},
   "outputs": [],
   "source": [
    "data['parks_around3000'] = data['parks_around3000'].fillna(0)"
   ]
  },
  {
   "cell_type": "code",
   "execution_count": 348,
   "metadata": {},
   "outputs": [
    {
     "data": {
      "text/plain": [
       "0"
      ]
     },
     "execution_count": 348,
     "metadata": {},
     "output_type": "execute_result"
    }
   ],
   "source": [
    "data['parks_around3000'].isna().sum()"
   ]
  },
  {
   "cell_type": "code",
   "execution_count": 349,
   "metadata": {},
   "outputs": [],
   "source": [
    "data['ponds_around3000'] = data['ponds_around3000'].fillna(0)"
   ]
  },
  {
   "cell_type": "code",
   "execution_count": 350,
   "metadata": {},
   "outputs": [
    {
     "data": {
      "text/plain": [
       "0"
      ]
     },
     "execution_count": 350,
     "metadata": {},
     "output_type": "execute_result"
    }
   ],
   "source": [
    "data['ponds_around3000'].isna().sum()"
   ]
  },
  {
   "cell_type": "markdown",
   "metadata": {},
   "source": [
    "**Вывод:** таким образом, в столбце ceiling_height пропуски были заполнены медианным значением, в столбцах days_exposition, cityCenters_nearest, locality_name, kitchen_area пропуски оставлены как есть, так как не повлияют на дальнейшее исследование. В floors_total пропуски были удалены. В столбцах  balcony, parks_around3000, ponds_around3000, is_apartment пропуски были заполнены условными бозначениями отсутсвием того или иного признака."
   ]
  },
  {
   "cell_type": "markdown",
   "metadata": {},
   "source": [
    "### Изменение типов данных"
   ]
  },
  {
   "cell_type": "code",
   "execution_count": 351,
   "metadata": {
    "scrolled": true
   },
   "outputs": [
    {
     "name": "stdout",
     "output_type": "stream",
     "text": [
      "<class 'pandas.core.frame.DataFrame'>\n",
      "Int64Index: 23613 entries, 0 to 23698\n",
      "Data columns (total 22 columns):\n",
      " #   Column                Non-Null Count  Dtype  \n",
      "---  ------                --------------  -----  \n",
      " 0   total_images          23613 non-null  int64  \n",
      " 1   last_price            23613 non-null  float64\n",
      " 2   total_area            23613 non-null  float64\n",
      " 3   first_day_exposition  23613 non-null  object \n",
      " 4   rooms                 23613 non-null  int64  \n",
      " 5   ceiling_height        23613 non-null  float64\n",
      " 6   floors_total          23613 non-null  float64\n",
      " 7   living_area           21743 non-null  float64\n",
      " 8   floor                 23613 non-null  int64  \n",
      " 9   is_apartment          23613 non-null  bool   \n",
      " 10  studio                23613 non-null  bool   \n",
      " 11  open_plan             23613 non-null  bool   \n",
      " 12  kitchen_area          21382 non-null  float64\n",
      " 13  balcony               23613 non-null  float64\n",
      " 14  locality_name         23565 non-null  object \n",
      " 15  airports_nearest      18081 non-null  float64\n",
      " 16  city_centers_nearest  18227 non-null  float64\n",
      " 17  parks_around3000      23613 non-null  float64\n",
      " 18  parks_nearest         8045 non-null   float64\n",
      " 19  ponds_around3000      23613 non-null  float64\n",
      " 20  ponds_nearest         9061 non-null   float64\n",
      " 21  days_exposition       20441 non-null  float64\n",
      "dtypes: bool(3), float64(14), int64(3), object(2)\n",
      "memory usage: 3.7+ MB\n"
     ]
    }
   ],
   "source": [
    "# Ознакомимся с данными и их типами еще раз\n",
    "data.info()"
   ]
  },
  {
   "cell_type": "markdown",
   "metadata": {},
   "source": [
    "Тип данных лучше всего поменять в столбцах total_area, last_price, balcony, parks_around3000, ponds_around3000, floors_total на int, так как нам не нужны нули после запятых и в столбцах нет пропусков. "
   ]
  },
  {
   "cell_type": "code",
   "execution_count": 352,
   "metadata": {},
   "outputs": [],
   "source": [
    "# Изменим тип данных в столбцах с помощью функции\n",
    "def astyper(col):\n",
    "    col = col.astype('int')\n",
    "    return col"
   ]
  },
  {
   "cell_type": "code",
   "execution_count": 353,
   "metadata": {},
   "outputs": [],
   "source": [
    "# Применим функцию\n",
    "data['total_area'] = astyper(data['total_area'])\n",
    "data['last_price'] = astyper(data['last_price'])\n",
    "data['balcony'] = astyper(data['balcony'])\n",
    "data['parks_around3000'] = astyper(data['parks_around3000'])\n",
    "data['ponds_around3000'] = astyper(data['ponds_around3000'])\n",
    "data['floors_total'] = astyper(data['floors_total'])"
   ]
  },
  {
   "cell_type": "code",
   "execution_count": 354,
   "metadata": {},
   "outputs": [
    {
     "name": "stdout",
     "output_type": "stream",
     "text": [
      "<class 'pandas.core.frame.DataFrame'>\n",
      "Int64Index: 23613 entries, 0 to 23698\n",
      "Data columns (total 22 columns):\n",
      " #   Column                Non-Null Count  Dtype  \n",
      "---  ------                --------------  -----  \n",
      " 0   total_images          23613 non-null  int64  \n",
      " 1   last_price            23613 non-null  int64  \n",
      " 2   total_area            23613 non-null  int64  \n",
      " 3   first_day_exposition  23613 non-null  object \n",
      " 4   rooms                 23613 non-null  int64  \n",
      " 5   ceiling_height        23613 non-null  float64\n",
      " 6   floors_total          23613 non-null  int64  \n",
      " 7   living_area           21743 non-null  float64\n",
      " 8   floor                 23613 non-null  int64  \n",
      " 9   is_apartment          23613 non-null  bool   \n",
      " 10  studio                23613 non-null  bool   \n",
      " 11  open_plan             23613 non-null  bool   \n",
      " 12  kitchen_area          21382 non-null  float64\n",
      " 13  balcony               23613 non-null  int64  \n",
      " 14  locality_name         23565 non-null  object \n",
      " 15  airports_nearest      18081 non-null  float64\n",
      " 16  city_centers_nearest  18227 non-null  float64\n",
      " 17  parks_around3000      23613 non-null  int64  \n",
      " 18  parks_nearest         8045 non-null   float64\n",
      " 19  ponds_around3000      23613 non-null  int64  \n",
      " 20  ponds_nearest         9061 non-null   float64\n",
      " 21  days_exposition       20441 non-null  float64\n",
      "dtypes: bool(3), float64(8), int64(9), object(2)\n",
      "memory usage: 3.7+ MB\n"
     ]
    }
   ],
   "source": [
    "# Проверим\n",
    "data.info()"
   ]
  },
  {
   "cell_type": "markdown",
   "metadata": {},
   "source": [
    "**Вывод:** таким образом, в столбцах total_area, last_price, balcony, parks_around3000, ponds_around3000, floors_total тип данных был изменен на int для упрощения дальнейшего исследования."
   ]
  },
  {
   "cell_type": "markdown",
   "metadata": {},
   "source": [
    "## Расчёты и добавление результатов в таблицу"
   ]
  },
  {
   "cell_type": "markdown",
   "metadata": {},
   "source": [
    "### Цена квадратного метра"
   ]
  },
  {
   "cell_type": "code",
   "execution_count": 355,
   "metadata": {},
   "outputs": [],
   "source": [
    "# Рассчитаем цену квадратного метра\n",
    "data['meter_cost'] = data['last_price']/data['total_area']"
   ]
  },
  {
   "cell_type": "code",
   "execution_count": 356,
   "metadata": {},
   "outputs": [
    {
     "data": {
      "text/html": [
       "<div>\n",
       "<style scoped>\n",
       "    .dataframe tbody tr th:only-of-type {\n",
       "        vertical-align: middle;\n",
       "    }\n",
       "\n",
       "    .dataframe tbody tr th {\n",
       "        vertical-align: top;\n",
       "    }\n",
       "\n",
       "    .dataframe thead th {\n",
       "        text-align: right;\n",
       "    }\n",
       "</style>\n",
       "<table border=\"1\" class=\"dataframe\">\n",
       "  <thead>\n",
       "    <tr style=\"text-align: right;\">\n",
       "      <th></th>\n",
       "      <th>total_images</th>\n",
       "      <th>last_price</th>\n",
       "      <th>total_area</th>\n",
       "      <th>first_day_exposition</th>\n",
       "      <th>rooms</th>\n",
       "      <th>ceiling_height</th>\n",
       "      <th>floors_total</th>\n",
       "      <th>living_area</th>\n",
       "      <th>floor</th>\n",
       "      <th>is_apartment</th>\n",
       "      <th>...</th>\n",
       "      <th>balcony</th>\n",
       "      <th>locality_name</th>\n",
       "      <th>airports_nearest</th>\n",
       "      <th>city_centers_nearest</th>\n",
       "      <th>parks_around3000</th>\n",
       "      <th>parks_nearest</th>\n",
       "      <th>ponds_around3000</th>\n",
       "      <th>ponds_nearest</th>\n",
       "      <th>days_exposition</th>\n",
       "      <th>meter_cost</th>\n",
       "    </tr>\n",
       "  </thead>\n",
       "  <tbody>\n",
       "    <tr>\n",
       "      <th>0</th>\n",
       "      <td>20</td>\n",
       "      <td>13000000</td>\n",
       "      <td>108</td>\n",
       "      <td>2019-03-07T00:00:00</td>\n",
       "      <td>3</td>\n",
       "      <td>2.70</td>\n",
       "      <td>16</td>\n",
       "      <td>51.0</td>\n",
       "      <td>8</td>\n",
       "      <td>False</td>\n",
       "      <td>...</td>\n",
       "      <td>0</td>\n",
       "      <td>Санкт-Петербург</td>\n",
       "      <td>18863.0</td>\n",
       "      <td>16028.0</td>\n",
       "      <td>1</td>\n",
       "      <td>482.0</td>\n",
       "      <td>2</td>\n",
       "      <td>755.0</td>\n",
       "      <td>NaN</td>\n",
       "      <td>120370.370370</td>\n",
       "    </tr>\n",
       "    <tr>\n",
       "      <th>1</th>\n",
       "      <td>7</td>\n",
       "      <td>3350000</td>\n",
       "      <td>40</td>\n",
       "      <td>2018-12-04T00:00:00</td>\n",
       "      <td>1</td>\n",
       "      <td>2.65</td>\n",
       "      <td>11</td>\n",
       "      <td>18.6</td>\n",
       "      <td>1</td>\n",
       "      <td>False</td>\n",
       "      <td>...</td>\n",
       "      <td>2</td>\n",
       "      <td>посёлок Шушары</td>\n",
       "      <td>12817.0</td>\n",
       "      <td>18603.0</td>\n",
       "      <td>0</td>\n",
       "      <td>NaN</td>\n",
       "      <td>0</td>\n",
       "      <td>NaN</td>\n",
       "      <td>81.0</td>\n",
       "      <td>83750.000000</td>\n",
       "    </tr>\n",
       "    <tr>\n",
       "      <th>2</th>\n",
       "      <td>10</td>\n",
       "      <td>5196000</td>\n",
       "      <td>56</td>\n",
       "      <td>2015-08-20T00:00:00</td>\n",
       "      <td>2</td>\n",
       "      <td>2.65</td>\n",
       "      <td>5</td>\n",
       "      <td>34.3</td>\n",
       "      <td>4</td>\n",
       "      <td>False</td>\n",
       "      <td>...</td>\n",
       "      <td>0</td>\n",
       "      <td>Санкт-Петербург</td>\n",
       "      <td>21741.0</td>\n",
       "      <td>13933.0</td>\n",
       "      <td>1</td>\n",
       "      <td>90.0</td>\n",
       "      <td>2</td>\n",
       "      <td>574.0</td>\n",
       "      <td>558.0</td>\n",
       "      <td>92785.714286</td>\n",
       "    </tr>\n",
       "    <tr>\n",
       "      <th>3</th>\n",
       "      <td>0</td>\n",
       "      <td>64900000</td>\n",
       "      <td>159</td>\n",
       "      <td>2015-07-24T00:00:00</td>\n",
       "      <td>3</td>\n",
       "      <td>2.65</td>\n",
       "      <td>14</td>\n",
       "      <td>NaN</td>\n",
       "      <td>9</td>\n",
       "      <td>False</td>\n",
       "      <td>...</td>\n",
       "      <td>0</td>\n",
       "      <td>Санкт-Петербург</td>\n",
       "      <td>28098.0</td>\n",
       "      <td>6800.0</td>\n",
       "      <td>2</td>\n",
       "      <td>84.0</td>\n",
       "      <td>3</td>\n",
       "      <td>234.0</td>\n",
       "      <td>424.0</td>\n",
       "      <td>408176.100629</td>\n",
       "    </tr>\n",
       "    <tr>\n",
       "      <th>4</th>\n",
       "      <td>2</td>\n",
       "      <td>10000000</td>\n",
       "      <td>100</td>\n",
       "      <td>2018-06-19T00:00:00</td>\n",
       "      <td>2</td>\n",
       "      <td>3.03</td>\n",
       "      <td>14</td>\n",
       "      <td>32.0</td>\n",
       "      <td>13</td>\n",
       "      <td>False</td>\n",
       "      <td>...</td>\n",
       "      <td>0</td>\n",
       "      <td>Санкт-Петербург</td>\n",
       "      <td>31856.0</td>\n",
       "      <td>8098.0</td>\n",
       "      <td>2</td>\n",
       "      <td>112.0</td>\n",
       "      <td>1</td>\n",
       "      <td>48.0</td>\n",
       "      <td>121.0</td>\n",
       "      <td>100000.000000</td>\n",
       "    </tr>\n",
       "  </tbody>\n",
       "</table>\n",
       "<p>5 rows × 23 columns</p>\n",
       "</div>"
      ],
      "text/plain": [
       "   total_images  last_price  total_area first_day_exposition  rooms  \\\n",
       "0            20    13000000         108  2019-03-07T00:00:00      3   \n",
       "1             7     3350000          40  2018-12-04T00:00:00      1   \n",
       "2            10     5196000          56  2015-08-20T00:00:00      2   \n",
       "3             0    64900000         159  2015-07-24T00:00:00      3   \n",
       "4             2    10000000         100  2018-06-19T00:00:00      2   \n",
       "\n",
       "   ceiling_height  floors_total  living_area  floor  is_apartment  ...  \\\n",
       "0            2.70            16         51.0      8         False  ...   \n",
       "1            2.65            11         18.6      1         False  ...   \n",
       "2            2.65             5         34.3      4         False  ...   \n",
       "3            2.65            14          NaN      9         False  ...   \n",
       "4            3.03            14         32.0     13         False  ...   \n",
       "\n",
       "   balcony    locality_name  airports_nearest  city_centers_nearest  \\\n",
       "0        0  Санкт-Петербург           18863.0               16028.0   \n",
       "1        2   посёлок Шушары           12817.0               18603.0   \n",
       "2        0  Санкт-Петербург           21741.0               13933.0   \n",
       "3        0  Санкт-Петербург           28098.0                6800.0   \n",
       "4        0  Санкт-Петербург           31856.0                8098.0   \n",
       "\n",
       "  parks_around3000  parks_nearest  ponds_around3000  ponds_nearest  \\\n",
       "0                1          482.0                 2          755.0   \n",
       "1                0            NaN                 0            NaN   \n",
       "2                1           90.0                 2          574.0   \n",
       "3                2           84.0                 3          234.0   \n",
       "4                2          112.0                 1           48.0   \n",
       "\n",
       "   days_exposition     meter_cost  \n",
       "0              NaN  120370.370370  \n",
       "1             81.0   83750.000000  \n",
       "2            558.0   92785.714286  \n",
       "3            424.0  408176.100629  \n",
       "4            121.0  100000.000000  \n",
       "\n",
       "[5 rows x 23 columns]"
      ]
     },
     "execution_count": 356,
     "metadata": {},
     "output_type": "execute_result"
    }
   ],
   "source": [
    "data.head()"
   ]
  },
  {
   "cell_type": "markdown",
   "metadata": {},
   "source": [
    "### День недели, месяц и год публикации объявления"
   ]
  },
  {
   "cell_type": "code",
   "execution_count": 357,
   "metadata": {},
   "outputs": [],
   "source": [
    "# Создадим столбец для дней недели\n",
    "data['weekday'] = pd.DatetimeIndex(data['first_day_exposition']).weekday"
   ]
  },
  {
   "cell_type": "code",
   "execution_count": 358,
   "metadata": {},
   "outputs": [
    {
     "data": {
      "text/plain": [
       "array([3, 1, 4, 0, 2, 6, 5])"
      ]
     },
     "execution_count": 358,
     "metadata": {},
     "output_type": "execute_result"
    }
   ],
   "source": [
    "# Проверим\n",
    "data['weekday'].unique()"
   ]
  },
  {
   "cell_type": "code",
   "execution_count": 359,
   "metadata": {},
   "outputs": [],
   "source": [
    "# Создадим солбец для месяца\n",
    "data['month'] = pd.DatetimeIndex(data['first_day_exposition']).month"
   ]
  },
  {
   "cell_type": "code",
   "execution_count": 360,
   "metadata": {},
   "outputs": [
    {
     "data": {
      "text/plain": [
       "array([ 3, 12,  8,  7,  6,  9, 11,  4,  5,  2,  1, 10])"
      ]
     },
     "execution_count": 360,
     "metadata": {},
     "output_type": "execute_result"
    }
   ],
   "source": [
    "# Проверим\n",
    "data['month'].unique()"
   ]
  },
  {
   "cell_type": "code",
   "execution_count": 361,
   "metadata": {},
   "outputs": [],
   "source": [
    "# Создадим солбец для года\n",
    "data['year'] = pd.DatetimeIndex(data['first_day_exposition']).year"
   ]
  },
  {
   "cell_type": "code",
   "execution_count": 362,
   "metadata": {},
   "outputs": [
    {
     "data": {
      "text/plain": [
       "array([2019, 2018, 2015, 2017, 2016, 2014])"
      ]
     },
     "execution_count": 362,
     "metadata": {},
     "output_type": "execute_result"
    }
   ],
   "source": [
    "# Проверим\n",
    "data['year'].unique()"
   ]
  },
  {
   "cell_type": "markdown",
   "metadata": {},
   "source": [
    "### Этаж квартиры"
   ]
  },
  {
   "cell_type": "code",
   "execution_count": 363,
   "metadata": {},
   "outputs": [],
   "source": [
    "# Категоризируем этажи с помощью функции\n",
    "def qualifier(row):\n",
    "    floor = row['floor']\n",
    "    floors_total = row['floors_total']\n",
    "    if floor == 1:\n",
    "        return 'первый'\n",
    "    elif floor == floors_total:\n",
    "        return 'последний'\n",
    "    else:\n",
    "        return 'другой'"
   ]
  },
  {
   "cell_type": "code",
   "execution_count": 364,
   "metadata": {},
   "outputs": [],
   "source": [
    "# Применим функцию\n",
    "data['floor_category'] = data.apply(qualifier, axis=1)"
   ]
  },
  {
   "cell_type": "code",
   "execution_count": 365,
   "metadata": {},
   "outputs": [
    {
     "data": {
      "text/plain": [
       "array(['другой', 'первый', 'последний'], dtype=object)"
      ]
     },
     "execution_count": 365,
     "metadata": {},
     "output_type": "execute_result"
    }
   ],
   "source": [
    "# Проверим\n",
    "data['floor_category'].unique()"
   ]
  },
  {
   "cell_type": "markdown",
   "metadata": {},
   "source": [
    "### Соотношение площадей"
   ]
  },
  {
   "cell_type": "code",
   "execution_count": 366,
   "metadata": {},
   "outputs": [],
   "source": [
    "# Создадим столбец с высчитанным отношением жилой площади к всей площади\n",
    "data['living_area_ratio'] = data['living_area']/data['total_area']"
   ]
  },
  {
   "cell_type": "code",
   "execution_count": 367,
   "metadata": {},
   "outputs": [],
   "source": [
    "# Создадим столбец с высчитанным отношением кухонной площади к всей площади\n",
    "data['kitchen_area_ratio'] = data['kitchen_area']/data['total_area']"
   ]
  },
  {
   "cell_type": "markdown",
   "metadata": {},
   "source": [
    "**Вывод:** \n",
    "- были рассчитаны цена квадратного метра и добавлены в столбец meter_cost, день недели, месяц и год размещения объявления добавлены в столбцы weekday, month, year\n",
    "- а также соотношение площадей рассчитаны и добавлены в столбцы living_area_ratio, kitchen_area_ratio."
   ]
  },
  {
   "cell_type": "markdown",
   "metadata": {},
   "source": [
    "## Исследовательский анализ данных"
   ]
  },
  {
   "cell_type": "markdown",
   "metadata": {},
   "source": [
    "### Площадь, цена, число комнат, высота потолков"
   ]
  },
  {
   "cell_type": "code",
   "execution_count": 368,
   "metadata": {},
   "outputs": [
    {
     "data": {
      "text/html": [
       "<div>\n",
       "<style scoped>\n",
       "    .dataframe tbody tr th:only-of-type {\n",
       "        vertical-align: middle;\n",
       "    }\n",
       "\n",
       "    .dataframe tbody tr th {\n",
       "        vertical-align: top;\n",
       "    }\n",
       "\n",
       "    .dataframe thead th {\n",
       "        text-align: right;\n",
       "    }\n",
       "</style>\n",
       "<table border=\"1\" class=\"dataframe\">\n",
       "  <thead>\n",
       "    <tr style=\"text-align: right;\">\n",
       "      <th></th>\n",
       "      <th>total_area</th>\n",
       "      <th>last_price</th>\n",
       "      <th>rooms</th>\n",
       "      <th>ceiling_height</th>\n",
       "      <th>total_images</th>\n",
       "      <th>locality_name</th>\n",
       "    </tr>\n",
       "  </thead>\n",
       "  <tbody>\n",
       "    <tr>\n",
       "      <th>19904</th>\n",
       "      <td>12</td>\n",
       "      <td>2400000</td>\n",
       "      <td>1</td>\n",
       "      <td>2.55</td>\n",
       "      <td>4</td>\n",
       "      <td>Санкт-Петербург</td>\n",
       "    </tr>\n",
       "    <tr>\n",
       "      <th>19546</th>\n",
       "      <td>13</td>\n",
       "      <td>1850000</td>\n",
       "      <td>1</td>\n",
       "      <td>3.40</td>\n",
       "      <td>3</td>\n",
       "      <td>Санкт-Петербург</td>\n",
       "    </tr>\n",
       "    <tr>\n",
       "      <th>17961</th>\n",
       "      <td>13</td>\n",
       "      <td>1400000</td>\n",
       "      <td>1</td>\n",
       "      <td>2.60</td>\n",
       "      <td>3</td>\n",
       "      <td>Санкт-Петербург</td>\n",
       "    </tr>\n",
       "    <tr>\n",
       "      <th>19558</th>\n",
       "      <td>13</td>\n",
       "      <td>1686000</td>\n",
       "      <td>1</td>\n",
       "      <td>2.65</td>\n",
       "      <td>2</td>\n",
       "      <td>Санкт-Петербург</td>\n",
       "    </tr>\n",
       "    <tr>\n",
       "      <th>19807</th>\n",
       "      <td>13</td>\n",
       "      <td>3800000</td>\n",
       "      <td>1</td>\n",
       "      <td>2.65</td>\n",
       "      <td>0</td>\n",
       "      <td>Санкт-Петербург</td>\n",
       "    </tr>\n",
       "    <tr>\n",
       "      <th>...</th>\n",
       "      <td>...</td>\n",
       "      <td>...</td>\n",
       "      <td>...</td>\n",
       "      <td>...</td>\n",
       "      <td>...</td>\n",
       "      <td>...</td>\n",
       "    </tr>\n",
       "    <tr>\n",
       "      <th>5358</th>\n",
       "      <td>590</td>\n",
       "      <td>65000000</td>\n",
       "      <td>15</td>\n",
       "      <td>3.50</td>\n",
       "      <td>20</td>\n",
       "      <td>Санкт-Петербург</td>\n",
       "    </tr>\n",
       "    <tr>\n",
       "      <th>15651</th>\n",
       "      <td>618</td>\n",
       "      <td>300000000</td>\n",
       "      <td>7</td>\n",
       "      <td>3.40</td>\n",
       "      <td>20</td>\n",
       "      <td>Санкт-Петербург</td>\n",
       "    </tr>\n",
       "    <tr>\n",
       "      <th>3117</th>\n",
       "      <td>631</td>\n",
       "      <td>140000000</td>\n",
       "      <td>7</td>\n",
       "      <td>2.65</td>\n",
       "      <td>19</td>\n",
       "      <td>Санкт-Петербург</td>\n",
       "    </tr>\n",
       "    <tr>\n",
       "      <th>12859</th>\n",
       "      <td>631</td>\n",
       "      <td>140000000</td>\n",
       "      <td>7</td>\n",
       "      <td>3.90</td>\n",
       "      <td>20</td>\n",
       "      <td>Санкт-Петербург</td>\n",
       "    </tr>\n",
       "    <tr>\n",
       "      <th>19540</th>\n",
       "      <td>900</td>\n",
       "      <td>420000000</td>\n",
       "      <td>12</td>\n",
       "      <td>2.80</td>\n",
       "      <td>8</td>\n",
       "      <td>Санкт-Петербург</td>\n",
       "    </tr>\n",
       "  </tbody>\n",
       "</table>\n",
       "<p>23613 rows × 6 columns</p>\n",
       "</div>"
      ],
      "text/plain": [
       "       total_area  last_price  rooms  ceiling_height  total_images  \\\n",
       "19904          12     2400000      1            2.55             4   \n",
       "19546          13     1850000      1            3.40             3   \n",
       "17961          13     1400000      1            2.60             3   \n",
       "19558          13     1686000      1            2.65             2   \n",
       "19807          13     3800000      1            2.65             0   \n",
       "...           ...         ...    ...             ...           ...   \n",
       "5358          590    65000000     15            3.50            20   \n",
       "15651         618   300000000      7            3.40            20   \n",
       "3117          631   140000000      7            2.65            19   \n",
       "12859         631   140000000      7            3.90            20   \n",
       "19540         900   420000000     12            2.80             8   \n",
       "\n",
       "         locality_name  \n",
       "19904  Санкт-Петербург  \n",
       "19546  Санкт-Петербург  \n",
       "17961  Санкт-Петербург  \n",
       "19558  Санкт-Петербург  \n",
       "19807  Санкт-Петербург  \n",
       "...                ...  \n",
       "5358   Санкт-Петербург  \n",
       "15651  Санкт-Петербург  \n",
       "3117   Санкт-Петербург  \n",
       "12859  Санкт-Петербург  \n",
       "19540  Санкт-Петербург  \n",
       "\n",
       "[23613 rows x 6 columns]"
      ]
     },
     "execution_count": 368,
     "metadata": {},
     "output_type": "execute_result"
    }
   ],
   "source": [
    "# Изучим столбцы total_area, last_price, rooms, ceiling_height\n",
    "data[['total_area', 'last_price', 'rooms', 'ceiling_height', 'total_images', 'locality_name']].sort_values(by='total_area')"
   ]
  },
  {
   "cell_type": "code",
   "execution_count": 369,
   "metadata": {},
   "outputs": [
    {
     "data": {
      "text/plain": [
       "19904     12\n",
       "19546     13\n",
       "17961     13\n",
       "19558     13\n",
       "19807     13\n",
       "        ... \n",
       "5358     590\n",
       "15651    618\n",
       "3117     631\n",
       "12859    631\n",
       "19540    900\n",
       "Name: total_area, Length: 23613, dtype: int64"
      ]
     },
     "execution_count": 369,
     "metadata": {},
     "output_type": "execute_result"
    }
   ],
   "source": [
    "# Изучим столбец total_area (площадь недвижмости)\n",
    "data['total_area'].sort_values()"
   ]
  },
  {
   "cell_type": "code",
   "execution_count": 370,
   "metadata": {},
   "outputs": [
    {
     "data": {
      "image/png": "[encoded data removed]",
      "text/plain": [
       "<Figure size 432x288 with 1 Axes>"
      ]
     },
     "metadata": {
      "needs_background": "light"
     },
     "output_type": "display_data"
    }
   ],
   "source": [
    "# Визуализируем распределение\n",
    "data['total_area'].hist(bins=80, range=(0, 900), color='y')\n",
    "plt.title('Распределение площади недвижимости')\n",
    "plt.ylabel('Частота')\n",
    "plt.xlabel('Площадь недвижимости')\n",
    "plt.show()"
   ]
  },
  {
   "cell_type": "code",
   "execution_count": 371,
   "metadata": {},
   "outputs": [
    {
     "data": {
      "text/plain": [
       "count    23613.000000\n",
       "mean        60.113073\n",
       "std         35.660709\n",
       "min         12.000000\n",
       "25%         40.000000\n",
       "50%         52.000000\n",
       "75%         69.000000\n",
       "max        900.000000\n",
       "Name: total_area, dtype: float64"
      ]
     },
     "execution_count": 371,
     "metadata": {},
     "output_type": "execute_result"
    }
   ],
   "source": [
    "# Найдем описательные статистики для этого столбца\n",
    "data['total_area'].describe()"
   ]
  },
  {
   "cell_type": "markdown",
   "metadata": {},
   "source": [
    "**Вывод:** \n",
    "- Недвижимость с площадью почти километр выглядит подозрительно и сильно выбивается. \n",
    "- Больше всего квартир с площадью ~50 кв.м, средняя площадь ~60м."
   ]
  },
  {
   "cell_type": "code",
   "execution_count": 372,
   "metadata": {},
   "outputs": [
    {
     "data": {
      "text/plain": [
       "8793         12190\n",
       "17456       430000\n",
       "14911       430000\n",
       "16274       440000\n",
       "17676       450000\n",
       "           ...    \n",
       "15651    300000000\n",
       "1436     330000000\n",
       "14706    401300000\n",
       "19540    420000000\n",
       "12971    763000000\n",
       "Name: last_price, Length: 23613, dtype: int64"
      ]
     },
     "execution_count": 372,
     "metadata": {},
     "output_type": "execute_result"
    }
   ],
   "source": [
    "# Изучим столбец last_price (цена)\n",
    "data['last_price'].sort_values()"
   ]
  },
  {
   "cell_type": "code",
   "execution_count": 373,
   "metadata": {},
   "outputs": [
    {
     "data": {
      "image/png": "[encoded data removed]",
      "text/plain": [
       "<Figure size 432x288 with 1 Axes>"
      ]
     },
     "metadata": {
      "needs_background": "light"
     },
     "output_type": "display_data"
    }
   ],
   "source": [
    "# Построим график\n",
    "data['last_price'].hist(bins=80, range=(0, 100000000), color='y')\n",
    "plt.title('Распределение цены недвижимости')\n",
    "plt.ylabel('Частота')\n",
    "plt.xlabel('Цена недвижимости')\n",
    "plt.show()"
   ]
  },
  {
   "cell_type": "markdown",
   "metadata": {},
   "source": [
    "**Вывод:** \n",
    "- На таблице видна подозрительно дешевая недвижимость, 109м за 12190, с этим нужно разобраться. \n",
    "- Больше всего объявлений со стоимостью около 5 миллионов"
   ]
  },
  {
   "cell_type": "code",
   "execution_count": 374,
   "metadata": {},
   "outputs": [
    {
     "data": {
      "text/plain": [
       "20082     0\n",
       "19917     0\n",
       "22573     0\n",
       "23554     0\n",
       "6225      0\n",
       "         ..\n",
       "20829    14\n",
       "866      14\n",
       "5358     15\n",
       "18848    16\n",
       "14498    19\n",
       "Name: rooms, Length: 23613, dtype: int64"
      ]
     },
     "execution_count": 374,
     "metadata": {},
     "output_type": "execute_result"
    }
   ],
   "source": [
    "# Изучим столбец rooms (количество комнат)\n",
    "data['rooms'].sort_values()"
   ]
  },
  {
   "cell_type": "code",
   "execution_count": 375,
   "metadata": {},
   "outputs": [
    {
     "data": {
      "image/png": "[encoded data removed]",
      "text/plain": [
       "<Figure size 432x288 with 1 Axes>"
      ]
     },
     "metadata": {
      "needs_background": "light"
     },
     "output_type": "display_data"
    }
   ],
   "source": [
    "# Построим график\n",
    "data['rooms'].hist(bins=80, range=(0, 19), color='y')\n",
    "plt.title('Распределение числа комнат')\n",
    "plt.ylabel('Частота')\n",
    "plt.xlabel('Число комнат в недвижимости')\n",
    "plt.show()"
   ]
  },
  {
   "cell_type": "code",
   "execution_count": 376,
   "metadata": {},
   "outputs": [
    {
     "data": {
      "text/plain": [
       "count    23613.000000\n",
       "mean         2.071147\n",
       "std          1.078380\n",
       "min          0.000000\n",
       "25%          1.000000\n",
       "50%          2.000000\n",
       "75%          3.000000\n",
       "max         19.000000\n",
       "Name: rooms, dtype: float64"
      ]
     },
     "execution_count": 376,
     "metadata": {},
     "output_type": "execute_result"
    }
   ],
   "source": [
    "# Найдем описательные статистики для этого столбца\n",
    "data['rooms'].describe()"
   ]
  },
  {
   "cell_type": "markdown",
   "metadata": {},
   "source": [
    "**Вывод:** \n",
    "- Достаточно много объявлений с нулем комнат. Такое возможно, если недвижимость - студия или возможно загородный домик, в остальных случаях значения вызывают подозрения. \n",
    "- Больше всего продаются квартир с 1 или 2 комнатами. "
   ]
  },
  {
   "cell_type": "code",
   "execution_count": 377,
   "metadata": {},
   "outputs": [
    {
     "data": {
      "text/plain": [
       "22590      1.00\n",
       "5712       1.20\n",
       "16934      1.75\n",
       "16446      2.00\n",
       "11352      2.00\n",
       "          ...  \n",
       "22938     27.00\n",
       "21377     27.50\n",
       "22336     32.00\n",
       "3148      32.00\n",
       "22869    100.00\n",
       "Name: ceiling_height, Length: 23613, dtype: float64"
      ]
     },
     "execution_count": 377,
     "metadata": {},
     "output_type": "execute_result"
    }
   ],
   "source": [
    "# Изучим столбец ceiling_height (высота потолков)\n",
    "data['ceiling_height'].sort_values()"
   ]
  },
  {
   "cell_type": "code",
   "execution_count": 378,
   "metadata": {},
   "outputs": [
    {
     "data": {
      "image/png": "[encoded data removed]",
      "text/plain": [
       "<Figure size 432x288 with 1 Axes>"
      ]
     },
     "metadata": {
      "needs_background": "light"
     },
     "output_type": "display_data"
    }
   ],
   "source": [
    "# Построим график\n",
    "data['ceiling_height'].hist(bins=80, range=(0.00, 10), color='y')\n",
    "plt.title('Распределение высоты потолков')\n",
    "plt.ylabel('Частота')\n",
    "plt.xlabel('Высота потолков')\n",
    "plt.show()"
   ]
  },
  {
   "cell_type": "code",
   "execution_count": 379,
   "metadata": {},
   "outputs": [
    {
     "data": {
      "text/plain": [
       "count    23613.000000\n",
       "mean         2.724581\n",
       "std          0.990085\n",
       "min          1.000000\n",
       "25%          2.600000\n",
       "50%          2.650000\n",
       "75%          2.700000\n",
       "max        100.000000\n",
       "Name: ceiling_height, dtype: float64"
      ]
     },
     "execution_count": 379,
     "metadata": {},
     "output_type": "execute_result"
    }
   ],
   "source": [
    "# Найдем описательные статистики для этого столбца\n",
    "data['ceiling_height'].describe()"
   ]
  },
  {
   "cell_type": "markdown",
   "metadata": {},
   "source": [
    "**Вывод:** \n",
    "- Сомнительно, что есть дома с потолками 1м или 100м, такие значения лучше удалить. \n",
    "- Также чаще всего встречаются объявления с высотой потолков ~2.65 м, средняя высота ~2.72м."
   ]
  },
  {
   "cell_type": "markdown",
   "metadata": {},
   "source": [
    "**Общий вывод:** в процессе изучения столбцов total_area, last_price, rooms, ceiling_height были обнаружены подозрительные значения, которые следует почистить. Также обнаружены характерные значения вышеперечисленных параметров для всей выборки."
   ]
  },
  {
   "cell_type": "markdown",
   "metadata": {},
   "source": [
    "### Время продажи квартиры"
   ]
  },
  {
   "cell_type": "code",
   "execution_count": 380,
   "metadata": {},
   "outputs": [
    {
     "data": {
      "text/plain": [
       "1632     1.0\n",
       "16212    2.0\n",
       "16053    2.0\n",
       "13061    2.0\n",
       "21622    3.0\n",
       "        ... \n",
       "23684    NaN\n",
       "23685    NaN\n",
       "23694    NaN\n",
       "23696    NaN\n",
       "23698    NaN\n",
       "Name: days_exposition, Length: 23613, dtype: float64"
      ]
     },
     "execution_count": 380,
     "metadata": {},
     "output_type": "execute_result"
    }
   ],
   "source": [
    "# Изучим столбец days_exposition\n",
    "data['days_exposition'].sort_values()"
   ]
  },
  {
   "cell_type": "markdown",
   "metadata": {},
   "source": [
    "В столбце достаточно много значений NaN, так как выше мы выяснили, что это скорее всего непроданные квартиры, для выявления времени продажи они нам не понадобятся. Будем использовать новую таблицу без этих значений."
   ]
  },
  {
   "cell_type": "code",
   "execution_count": 381,
   "metadata": {},
   "outputs": [
    {
     "data": {
      "text/plain": [
       "1632        1.0\n",
       "16212       2.0\n",
       "16053       2.0\n",
       "13061       2.0\n",
       "21622       3.0\n",
       "          ...  \n",
       "6691     1512.0\n",
       "1885     1513.0\n",
       "9553     1553.0\n",
       "1109     1572.0\n",
       "18843    1580.0\n",
       "Name: days_exposition, Length: 20441, dtype: float64"
      ]
     },
     "execution_count": 381,
     "metadata": {},
     "output_type": "execute_result"
    }
   ],
   "source": [
    "# Отчистим таблицу от прпусков\n",
    "data_dropna = data.dropna(subset=['days_exposition'])\n",
    "data_dropna['days_exposition'].sort_values()"
   ]
  },
  {
   "cell_type": "code",
   "execution_count": 382,
   "metadata": {},
   "outputs": [
    {
     "data": {
      "image/png": "[encoded data removed]",
      "text/plain": [
       "<Figure size 432x288 with 1 Axes>"
      ]
     },
     "metadata": {
      "needs_background": "light"
     },
     "output_type": "display_data"
    }
   ],
   "source": [
    "# Построим гистограмму\n",
    "data_dropna['days_exposition'].hist(bins=100, range=(1, 1580), color='y')\n",
    "plt.title('Распределение времени продажи квартиры')\n",
    "plt.ylabel('Частота')\n",
    "plt.xlabel('Время продажи')\n",
    "plt.show()"
   ]
  },
  {
   "cell_type": "code",
   "execution_count": 383,
   "metadata": {},
   "outputs": [
    {
     "data": {
      "text/plain": [
       "count    20441.000000\n",
       "mean       180.884839\n",
       "std        219.685543\n",
       "min          1.000000\n",
       "25%         45.000000\n",
       "50%         95.000000\n",
       "75%        232.000000\n",
       "max       1580.000000\n",
       "Name: days_exposition, dtype: float64"
      ]
     },
     "execution_count": 383,
     "metadata": {},
     "output_type": "execute_result"
    }
   ],
   "source": [
    "# Найдем описательные статистики\n",
    "data_dropna['days_exposition'].describe()"
   ]
  },
  {
   "cell_type": "markdown",
   "metadata": {},
   "source": [
    "**Вывод:** \n",
    "- Большинство значений располагается от 0 до 200, значений больше 600 очень мало, однако они доходят до 1580. Отсюда следует, что по среднему в данном случае судить не очень логично. Тогда обратимся к медиане: обычно продажа квартиры занимает примерно 95 дней. \n",
    "- Судя по графику, действительно быстрая продажа - продажа в течении 45 дней со дня выставления. А долгая продажа - продажа, длящаяся более 232 дней."
   ]
  },
  {
   "cell_type": "markdown",
   "metadata": {},
   "source": [
    "### Удаление редких и выбивающихся значений"
   ]
  },
  {
   "cell_type": "markdown",
   "metadata": {},
   "source": [
    "В пункте 4.1 мы наткнулись на выбивающиеся значения, в частности в столбцах totsl_area, last_price, rooms, ceiling_height. Избавимся от них."
   ]
  },
  {
   "cell_type": "code",
   "execution_count": 384,
   "metadata": {},
   "outputs": [],
   "source": [
    "# Удалим значение с выбивающимся размером площади\n",
    "data = data.query('total_area < 800')"
   ]
  },
  {
   "cell_type": "code",
   "execution_count": 385,
   "metadata": {},
   "outputs": [],
   "source": [
    "# Удалим значения с подозрительной ценой\n",
    "data = data.query('last_price > 12190')"
   ]
  },
  {
   "cell_type": "code",
   "execution_count": 386,
   "metadata": {},
   "outputs": [],
   "source": [
    "# Удалим значения с 0 комнат, если это не студия\n",
    "data = data.query('(rooms > 0) & (studio == False)')"
   ]
  },
  {
   "cell_type": "code",
   "execution_count": 387,
   "metadata": {},
   "outputs": [],
   "source": [
    "# Удалим значения с подозрительной высотой потолков\n",
    "data = data.query('(ceiling_height > 2.4) and (ceiling_height < 10)')"
   ]
  },
  {
   "cell_type": "code",
   "execution_count": 388,
   "metadata": {},
   "outputs": [
    {
     "name": "stdout",
     "output_type": "stream",
     "text": [
      "<class 'pandas.core.frame.DataFrame'>\n",
      "Int64Index: 23338 entries, 0 to 23698\n",
      "Data columns (total 29 columns):\n",
      " #   Column                Non-Null Count  Dtype  \n",
      "---  ------                --------------  -----  \n",
      " 0   total_images          23338 non-null  int64  \n",
      " 1   last_price            23338 non-null  int64  \n",
      " 2   total_area            23338 non-null  int64  \n",
      " 3   first_day_exposition  23338 non-null  object \n",
      " 4   rooms                 23338 non-null  int64  \n",
      " 5   ceiling_height        23338 non-null  float64\n",
      " 6   floors_total          23338 non-null  int64  \n",
      " 7   living_area           21483 non-null  float64\n",
      " 8   floor                 23338 non-null  int64  \n",
      " 9   is_apartment          23338 non-null  bool   \n",
      " 10  studio                23338 non-null  bool   \n",
      " 11  open_plan             23338 non-null  bool   \n",
      " 12  kitchen_area          21322 non-null  float64\n",
      " 13  balcony               23338 non-null  int64  \n",
      " 14  locality_name         23290 non-null  object \n",
      " 15  airports_nearest      17920 non-null  float64\n",
      " 16  city_centers_nearest  18064 non-null  float64\n",
      " 17  parks_around3000      23338 non-null  int64  \n",
      " 18  parks_nearest         7993 non-null   float64\n",
      " 19  ponds_around3000      23338 non-null  int64  \n",
      " 20  ponds_nearest         8967 non-null   float64\n",
      " 21  days_exposition       20192 non-null  float64\n",
      " 22  meter_cost            23338 non-null  float64\n",
      " 23  weekday               23338 non-null  int64  \n",
      " 24  month                 23338 non-null  int64  \n",
      " 25  year                  23338 non-null  int64  \n",
      " 26  floor_category        23338 non-null  object \n",
      " 27  living_area_ratio     21483 non-null  float64\n",
      " 28  kitchen_area_ratio    21322 non-null  float64\n",
      "dtypes: bool(3), float64(11), int64(12), object(3)\n",
      "memory usage: 4.9+ MB\n"
     ]
    }
   ],
   "source": [
    "# Проверим\n",
    "data.info()"
   ]
  },
  {
   "cell_type": "markdown",
   "metadata": {},
   "source": [
    "**Вывод:** таким образом, были выявлены и устранены значения, не соответствующие реальности, а также нарущающие однородность выборки. В частности слишком дешевая недвижимость, слишком большая по площади недвижимость, недвижимость с 0 комнат, не являющаяся студией и недвижимость с слишком низкими и высокими потолками."
   ]
  },
  {
   "cell_type": "markdown",
   "metadata": {},
   "source": [
    "### Изучение факторов, влияющих на стоимость квартиры ###"
   ]
  },
  {
   "cell_type": "markdown",
   "metadata": {},
   "source": [
    "Для количественных данных изучим коэффициент корреляции и построим диаграмму рассеяния. Для категориальных данных получим сгрупированные данные и построим столбиковую диаграмму."
   ]
  },
  {
   "cell_type": "code",
   "execution_count": 389,
   "metadata": {},
   "outputs": [
    {
     "data": {
      "text/plain": [
       "0.6423961863924301"
      ]
     },
     "execution_count": 389,
     "metadata": {},
     "output_type": "execute_result"
    }
   ],
   "source": [
    "# Изучим зависимость цены от площади\n",
    "data['last_price'].corr(data['total_area'])"
   ]
  },
  {
   "cell_type": "code",
   "execution_count": 390,
   "metadata": {},
   "outputs": [
    {
     "data": {
      "image/png": "[encoded data removed]",
      "text/plain": [
       "<Figure size 432x288 with 1 Axes>"
      ]
     },
     "metadata": {
      "needs_background": "light"
     },
     "output_type": "display_data"
    }
   ],
   "source": [
    "# Построим диаграмму рессеяния\n",
    "data.plot(x='total_area', y='last_price', kind='scatter', color='y')\n",
    "plt.title('Связь между ценой и площадью недвижимости')\n",
    "plt.ylabel('Цена')\n",
    "plt.xlabel('Площадь')\n",
    "plt.show()"
   ]
  },
  {
   "cell_type": "markdown",
   "metadata": {},
   "source": [
    "**Вывод:** \n",
    "- Коэффициент корреляции примерно равен 0,65, соотвественно прямая зависимость между площадью и ценой может быть. \n",
    "- По диаграмме рассеяния также видно, что в целом при увеличении площади увеличивается и стоимость, однако полученные результаты неоднородны и на стоимость могут также влиять другие факторы."
   ]
  },
  {
   "cell_type": "code",
   "execution_count": 391,
   "metadata": {},
   "outputs": [
    {
     "data": {
      "text/plain": [
       "0.3615175479008673"
      ]
     },
     "execution_count": 391,
     "metadata": {},
     "output_type": "execute_result"
    }
   ],
   "source": [
    "# Изучим зависимость цены от числа комнат\n",
    "data['last_price'].corr(data['rooms'])"
   ]
  },
  {
   "cell_type": "code",
   "execution_count": 392,
   "metadata": {},
   "outputs": [
    {
     "data": {
      "image/png": "[encoded data removed]",
      "text/plain": [
       "<Figure size 432x288 with 1 Axes>"
      ]
     },
     "metadata": {
      "needs_background": "light"
     },
     "output_type": "display_data"
    }
   ],
   "source": [
    "data.pivot_table(index = 'rooms', values='last_price', aggfunc ='median').plot(kind='bar', rot=0, legend=None, color='y')\n",
    "plt.title('Зависимость цены от числа комнат')\n",
    "plt.ylabel('Цена')\n",
    "plt.xlabel('Число комнат')\n",
    "plt.show()"
   ]
  },
  {
   "cell_type": "markdown",
   "metadata": {},
   "source": [
    "**Вывод:** \n",
    "- Судя по коэффициенту корреляции очевидная зависимость маловероятна, однако по графику видно, что цена растет соответственно с увеличением количества комнат и так до 7 комнат, далее цена уменьшается и снова начинает расти. \n",
    "- Можно сделать вывод, что зависимость есть, однако до определенного количества комнат. "
   ]
  },
  {
   "cell_type": "code",
   "execution_count": 393,
   "metadata": {},
   "outputs": [
    {
     "data": {
      "text/plain": [
       "-0.21223099086070002"
      ]
     },
     "execution_count": 393,
     "metadata": {},
     "output_type": "execute_result"
    }
   ],
   "source": [
    "# Изучим зависимость цены от удаленности от центра\n",
    "data['last_price'].corr(data['city_centers_nearest'])"
   ]
  },
  {
   "cell_type": "code",
   "execution_count": 394,
   "metadata": {},
   "outputs": [
    {
     "data": {
      "image/png": "[encoded data removed]",
      "text/plain": [
       "<Figure size 432x288 with 1 Axes>"
      ]
     },
     "metadata": {
      "needs_background": "light"
     },
     "output_type": "display_data"
    }
   ],
   "source": [
    "# Построим диаграмму рассеяния\n",
    "data.plot(x='city_centers_nearest', y='last_price', kind='scatter', color='y')\n",
    "plt.title('Связь между ценой и удаленностью от центра')\n",
    "plt.ylabel('Цена')\n",
    "plt.xlabel('Удаленность')\n",
    "plt.show()"
   ]
  },
  {
   "cell_type": "markdown",
   "metadata": {},
   "source": [
    "**Вывод:** судя по коэффициенту корреляции (=0,2) заметная зависимость между ценой и расстоянием от центра вряд ли есть, исходя из графика тоже."
   ]
  },
  {
   "cell_type": "code",
   "execution_count": 395,
   "metadata": {},
   "outputs": [
    {
     "data": {
      "text/html": [
       "<div>\n",
       "<style scoped>\n",
       "    .dataframe tbody tr th:only-of-type {\n",
       "        vertical-align: middle;\n",
       "    }\n",
       "\n",
       "    .dataframe tbody tr th {\n",
       "        vertical-align: top;\n",
       "    }\n",
       "\n",
       "    .dataframe thead th {\n",
       "        text-align: right;\n",
       "    }\n",
       "</style>\n",
       "<table border=\"1\" class=\"dataframe\">\n",
       "  <thead>\n",
       "    <tr style=\"text-align: right;\">\n",
       "      <th>floor_category</th>\n",
       "      <th>другой</th>\n",
       "      <th>первый</th>\n",
       "      <th>последний</th>\n",
       "    </tr>\n",
       "  </thead>\n",
       "  <tbody>\n",
       "    <tr>\n",
       "      <th>last_price</th>\n",
       "      <td>4883913</td>\n",
       "      <td>3900000</td>\n",
       "      <td>4350000</td>\n",
       "    </tr>\n",
       "  </tbody>\n",
       "</table>\n",
       "</div>"
      ],
      "text/plain": [
       "floor_category   другой   первый  последний\n",
       "last_price      4883913  3900000    4350000"
      ]
     },
     "execution_count": 395,
     "metadata": {},
     "output_type": "execute_result"
    }
   ],
   "source": [
    "# Изучим зависимость цены от того, на каком этаже расположена квартира\n",
    "data.pivot_table(columns='floor_category', values='last_price', aggfunc ='median')"
   ]
  },
  {
   "cell_type": "code",
   "execution_count": 396,
   "metadata": {},
   "outputs": [
    {
     "data": {
      "image/png": "[encoded data removed]",
      "text/plain": [
       "<Figure size 432x288 with 1 Axes>"
      ]
     },
     "metadata": {
      "needs_background": "light"
     },
     "output_type": "display_data"
    }
   ],
   "source": [
    "# Визуализируем\n",
    "data.pivot_table(columns='floor_category', values='last_price', aggfunc ='median').plot(kind='bar', rot=0)\n",
    "plt.title('Зависимость цены от этажа недвижимости')\n",
    "plt.ylabel('Цена в млн.')\n",
    "plt.show()"
   ]
  },
  {
   "cell_type": "markdown",
   "metadata": {},
   "source": [
    "**Вывод:** судя по графику, выше всего медианная цена на недвижимость не на первом и не на последнем этаже (4880000), ниже всего цена на первый этаж (3900000)."
   ]
  },
  {
   "cell_type": "code",
   "execution_count": 397,
   "metadata": {},
   "outputs": [
    {
     "data": {
      "text/html": [
       "<div>\n",
       "<style scoped>\n",
       "    .dataframe tbody tr th:only-of-type {\n",
       "        vertical-align: middle;\n",
       "    }\n",
       "\n",
       "    .dataframe tbody tr th {\n",
       "        vertical-align: top;\n",
       "    }\n",
       "\n",
       "    .dataframe thead th {\n",
       "        text-align: right;\n",
       "    }\n",
       "</style>\n",
       "<table border=\"1\" class=\"dataframe\">\n",
       "  <thead>\n",
       "    <tr style=\"text-align: right;\">\n",
       "      <th></th>\n",
       "      <th>last_price</th>\n",
       "    </tr>\n",
       "    <tr>\n",
       "      <th>weekday</th>\n",
       "      <th></th>\n",
       "    </tr>\n",
       "  </thead>\n",
       "  <tbody>\n",
       "    <tr>\n",
       "      <th>0</th>\n",
       "      <td>4680000</td>\n",
       "    </tr>\n",
       "    <tr>\n",
       "      <th>1</th>\n",
       "      <td>4750000</td>\n",
       "    </tr>\n",
       "    <tr>\n",
       "      <th>2</th>\n",
       "      <td>4700000</td>\n",
       "    </tr>\n",
       "    <tr>\n",
       "      <th>3</th>\n",
       "      <td>4690000</td>\n",
       "    </tr>\n",
       "    <tr>\n",
       "      <th>4</th>\n",
       "      <td>4600000</td>\n",
       "    </tr>\n",
       "    <tr>\n",
       "      <th>5</th>\n",
       "      <td>4600000</td>\n",
       "    </tr>\n",
       "    <tr>\n",
       "      <th>6</th>\n",
       "      <td>4550000</td>\n",
       "    </tr>\n",
       "  </tbody>\n",
       "</table>\n",
       "</div>"
      ],
      "text/plain": [
       "         last_price\n",
       "weekday            \n",
       "0           4680000\n",
       "1           4750000\n",
       "2           4700000\n",
       "3           4690000\n",
       "4           4600000\n",
       "5           4600000\n",
       "6           4550000"
      ]
     },
     "execution_count": 397,
     "metadata": {},
     "output_type": "execute_result"
    }
   ],
   "source": [
    "# Изучим зависимость цены от даты размещения объявления (дня недели)\n",
    "data.pivot_table(index='weekday', values='last_price', aggfunc ='median')"
   ]
  },
  {
   "cell_type": "code",
   "execution_count": 398,
   "metadata": {},
   "outputs": [
    {
     "data": {
      "image/png": "[encoded data removed]",
      "text/plain": [
       "<Figure size 432x288 with 1 Axes>"
      ]
     },
     "metadata": {
      "needs_background": "light"
     },
     "output_type": "display_data"
    }
   ],
   "source": [
    "# Визуализируем\n",
    "data.pivot_table(index='weekday', values='last_price', aggfunc ='median').plot(kind='bar', rot=0, color='y')\n",
    "plt.title('Зависимость цены от дня недели публикации объявления')\n",
    "plt.ylabel('Цена')\n",
    "plt.xlabel('День недели')\n",
    "plt.show()"
   ]
  },
  {
   "cell_type": "markdown",
   "metadata": {},
   "source": [
    "**Вывод:** Исходя из графика видно, что на второй день недели (по графику 1) приходится самая высокая медианная цена (4750000), а дальше она равномерно уменьшается (до 4550000), на первый взгляд можно говорить о зависимости."
   ]
  },
  {
   "cell_type": "code",
   "execution_count": 399,
   "metadata": {},
   "outputs": [
    {
     "data": {
      "text/html": [
       "<div>\n",
       "<style scoped>\n",
       "    .dataframe tbody tr th:only-of-type {\n",
       "        vertical-align: middle;\n",
       "    }\n",
       "\n",
       "    .dataframe tbody tr th {\n",
       "        vertical-align: top;\n",
       "    }\n",
       "\n",
       "    .dataframe thead th {\n",
       "        text-align: right;\n",
       "    }\n",
       "</style>\n",
       "<table border=\"1\" class=\"dataframe\">\n",
       "  <thead>\n",
       "    <tr style=\"text-align: right;\">\n",
       "      <th></th>\n",
       "      <th>last_price</th>\n",
       "    </tr>\n",
       "    <tr>\n",
       "      <th>month</th>\n",
       "      <th></th>\n",
       "    </tr>\n",
       "  </thead>\n",
       "  <tbody>\n",
       "    <tr>\n",
       "      <th>1</th>\n",
       "      <td>4600000</td>\n",
       "    </tr>\n",
       "    <tr>\n",
       "      <th>2</th>\n",
       "      <td>4657500</td>\n",
       "    </tr>\n",
       "    <tr>\n",
       "      <th>3</th>\n",
       "      <td>4700000</td>\n",
       "    </tr>\n",
       "    <tr>\n",
       "      <th>4</th>\n",
       "      <td>4800000</td>\n",
       "    </tr>\n",
       "    <tr>\n",
       "      <th>5</th>\n",
       "      <td>4560000</td>\n",
       "    </tr>\n",
       "    <tr>\n",
       "      <th>6</th>\n",
       "      <td>4400000</td>\n",
       "    </tr>\n",
       "    <tr>\n",
       "      <th>7</th>\n",
       "      <td>4677500</td>\n",
       "    </tr>\n",
       "    <tr>\n",
       "      <th>8</th>\n",
       "      <td>4600000</td>\n",
       "    </tr>\n",
       "    <tr>\n",
       "      <th>9</th>\n",
       "      <td>4700284</td>\n",
       "    </tr>\n",
       "    <tr>\n",
       "      <th>10</th>\n",
       "      <td>4600000</td>\n",
       "    </tr>\n",
       "    <tr>\n",
       "      <th>11</th>\n",
       "      <td>4700000</td>\n",
       "    </tr>\n",
       "    <tr>\n",
       "      <th>12</th>\n",
       "      <td>4700000</td>\n",
       "    </tr>\n",
       "  </tbody>\n",
       "</table>\n",
       "</div>"
      ],
      "text/plain": [
       "       last_price\n",
       "month            \n",
       "1         4600000\n",
       "2         4657500\n",
       "3         4700000\n",
       "4         4800000\n",
       "5         4560000\n",
       "6         4400000\n",
       "7         4677500\n",
       "8         4600000\n",
       "9         4700284\n",
       "10        4600000\n",
       "11        4700000\n",
       "12        4700000"
      ]
     },
     "execution_count": 399,
     "metadata": {},
     "output_type": "execute_result"
    }
   ],
   "source": [
    "# Зависимость цены от месяца размещения объявления\n",
    "data.pivot_table(index='month', values='last_price', aggfunc ='median')"
   ]
  },
  {
   "cell_type": "code",
   "execution_count": 400,
   "metadata": {},
   "outputs": [
    {
     "data": {
      "image/png": "[encoded data removed]",
      "text/plain": [
       "<Figure size 432x288 with 1 Axes>"
      ]
     },
     "metadata": {
      "needs_background": "light"
     },
     "output_type": "display_data"
    }
   ],
   "source": [
    "# Визуализируем\n",
    "data.pivot_table(index='month', values='last_price', aggfunc ='median').plot(kind='bar', rot=0, color='y')\n",
    "plt.title('Зависимость цены от месяца недели публикации объявления')\n",
    "plt.ylabel('Цена')\n",
    "plt.xlabel('Месяц')\n",
    "plt.show()"
   ]
  },
  {
   "cell_type": "markdown",
   "metadata": {},
   "source": [
    "**Вывод:** выше всего цена стоит на объявлениях, размещенных в апреле (4800000), до этого цена равномерно растет. Дальше резкий спад цены до минимальной в июне (4400000). Дальше цена различается не сильно."
   ]
  },
  {
   "cell_type": "code",
   "execution_count": 401,
   "metadata": {},
   "outputs": [
    {
     "data": {
      "text/html": [
       "<div>\n",
       "<style scoped>\n",
       "    .dataframe tbody tr th:only-of-type {\n",
       "        vertical-align: middle;\n",
       "    }\n",
       "\n",
       "    .dataframe tbody tr th {\n",
       "        vertical-align: top;\n",
       "    }\n",
       "\n",
       "    .dataframe thead th {\n",
       "        text-align: right;\n",
       "    }\n",
       "</style>\n",
       "<table border=\"1\" class=\"dataframe\">\n",
       "  <thead>\n",
       "    <tr style=\"text-align: right;\">\n",
       "      <th></th>\n",
       "      <th>last_price</th>\n",
       "    </tr>\n",
       "    <tr>\n",
       "      <th>year</th>\n",
       "      <th></th>\n",
       "    </tr>\n",
       "  </thead>\n",
       "  <tbody>\n",
       "    <tr>\n",
       "      <th>2014</th>\n",
       "      <td>7700000</td>\n",
       "    </tr>\n",
       "    <tr>\n",
       "      <th>2015</th>\n",
       "      <td>5350000</td>\n",
       "    </tr>\n",
       "    <tr>\n",
       "      <th>2016</th>\n",
       "      <td>4550000</td>\n",
       "    </tr>\n",
       "    <tr>\n",
       "      <th>2017</th>\n",
       "      <td>4500000</td>\n",
       "    </tr>\n",
       "    <tr>\n",
       "      <th>2018</th>\n",
       "      <td>4600000</td>\n",
       "    </tr>\n",
       "    <tr>\n",
       "      <th>2019</th>\n",
       "      <td>5100000</td>\n",
       "    </tr>\n",
       "  </tbody>\n",
       "</table>\n",
       "</div>"
      ],
      "text/plain": [
       "      last_price\n",
       "year            \n",
       "2014     7700000\n",
       "2015     5350000\n",
       "2016     4550000\n",
       "2017     4500000\n",
       "2018     4600000\n",
       "2019     5100000"
      ]
     },
     "execution_count": 401,
     "metadata": {},
     "output_type": "execute_result"
    }
   ],
   "source": [
    "# Зависимость цены от года размещения объявления\n",
    "data.pivot_table(index='year', values='last_price', aggfunc ='median')"
   ]
  },
  {
   "cell_type": "code",
   "execution_count": 402,
   "metadata": {},
   "outputs": [
    {
     "data": {
      "image/png": "[encoded data removed]",
      "text/plain": [
       "<Figure size 432x288 with 1 Axes>"
      ]
     },
     "metadata": {
      "needs_background": "light"
     },
     "output_type": "display_data"
    }
   ],
   "source": [
    "# Визуализируем\n",
    "data.pivot_table(index='year', values='last_price', aggfunc ='median').plot(kind='bar', rot=0, color='y')\n",
    "plt.title('Зависимость цены от года публикации объявления')\n",
    "plt.ylabel('Цена')\n",
    "plt.xlabel('Год')\n",
    "plt.show()"
   ]
  },
  {
   "cell_type": "markdown",
   "metadata": {},
   "source": [
    "**Вывод:** по графику видно, что с 2014 года (медианная цена недвижимости = 7700000) идет спад до 2017 года (4500000), дальше идет плавное повышение до 2019 (5100000)."
   ]
  },
  {
   "cell_type": "markdown",
   "metadata": {},
   "source": [
    "**Общий вывод:** в целом, можно сказать, что больше всего на стоимость недвижимости влияет ее площадь, количество комнат и этаж."
   ]
  },
  {
   "cell_type": "markdown",
   "metadata": {},
   "source": [
    "### Населённые пунктов с наибольшим числом объявлений"
   ]
  },
  {
   "cell_type": "code",
   "execution_count": 403,
   "metadata": {},
   "outputs": [
    {
     "data": {
      "text/plain": [
       "Index(['Санкт-Петербург', 'посёлок Мурино', 'посёлок Шушары', 'Всеволожск',\n",
       "       'Пушкин', 'Колпино', 'посёлок Парголово', 'Гатчина', 'деревня Кудрово',\n",
       "       'Выборг'],\n",
       "      dtype='object', name='locality_name')"
      ]
     },
     "execution_count": 403,
     "metadata": {},
     "output_type": "execute_result"
    }
   ],
   "source": [
    "# Найдем населенные пункты с наибольшем количеством объявлений\n",
    "data.value_counts('locality_name').head(10).index"
   ]
  },
  {
   "cell_type": "code",
   "execution_count": 404,
   "metadata": {
    "scrolled": true
   },
   "outputs": [],
   "source": [
    "# Рассчитаем среднюю цену метра в этих населенных пунктах\n",
    "data_top = data.pivot_table(index='locality_name', values='meter_cost', aggfunc ='mean')"
   ]
  },
  {
   "cell_type": "code",
   "execution_count": 405,
   "metadata": {},
   "outputs": [
    {
     "data": {
      "text/html": [
       "<div>\n",
       "<style scoped>\n",
       "    .dataframe tbody tr th:only-of-type {\n",
       "        vertical-align: middle;\n",
       "    }\n",
       "\n",
       "    .dataframe tbody tr th {\n",
       "        vertical-align: top;\n",
       "    }\n",
       "\n",
       "    .dataframe thead th {\n",
       "        text-align: right;\n",
       "    }\n",
       "</style>\n",
       "<table border=\"1\" class=\"dataframe\">\n",
       "  <thead>\n",
       "    <tr style=\"text-align: right;\">\n",
       "      <th></th>\n",
       "      <th>meter_cost</th>\n",
       "    </tr>\n",
       "    <tr>\n",
       "      <th>locality_name</th>\n",
       "      <th></th>\n",
       "    </tr>\n",
       "  </thead>\n",
       "  <tbody>\n",
       "    <tr>\n",
       "      <th>Всеволожск</th>\n",
       "      <td>69006.183160</td>\n",
       "    </tr>\n",
       "    <tr>\n",
       "      <th>Выборг</th>\n",
       "      <td>58393.665897</td>\n",
       "    </tr>\n",
       "    <tr>\n",
       "      <th>Гатчина</th>\n",
       "      <td>69057.254237</td>\n",
       "    </tr>\n",
       "    <tr>\n",
       "      <th>Колпино</th>\n",
       "      <td>75755.906453</td>\n",
       "    </tr>\n",
       "    <tr>\n",
       "      <th>Пушкин</th>\n",
       "      <td>103636.267126</td>\n",
       "    </tr>\n",
       "    <tr>\n",
       "      <th>Санкт-Петербург</th>\n",
       "      <td>115275.813567</td>\n",
       "    </tr>\n",
       "    <tr>\n",
       "      <th>деревня Кудрово</th>\n",
       "      <td>92787.816335</td>\n",
       "    </tr>\n",
       "    <tr>\n",
       "      <th>посёлок Мурино</th>\n",
       "      <td>85683.307122</td>\n",
       "    </tr>\n",
       "    <tr>\n",
       "      <th>посёлок Парголово</th>\n",
       "      <td>90763.511664</td>\n",
       "    </tr>\n",
       "    <tr>\n",
       "      <th>посёлок Шушары</th>\n",
       "      <td>78673.671228</td>\n",
       "    </tr>\n",
       "  </tbody>\n",
       "</table>\n",
       "</div>"
      ],
      "text/plain": [
       "                      meter_cost\n",
       "locality_name                   \n",
       "Всеволожск          69006.183160\n",
       "Выборг              58393.665897\n",
       "Гатчина             69057.254237\n",
       "Колпино             75755.906453\n",
       "Пушкин             103636.267126\n",
       "Санкт-Петербург    115275.813567\n",
       "деревня Кудрово     92787.816335\n",
       "посёлок Мурино      85683.307122\n",
       "посёлок Парголово   90763.511664\n",
       "посёлок Шушары      78673.671228"
      ]
     },
     "execution_count": 405,
     "metadata": {},
     "output_type": "execute_result"
    }
   ],
   "source": [
    "data_top = data_top.query('(locality_name == \"Санкт-Петербург\") or (locality_name == \"посёлок Мурино\") or (locality_name == \"посёлок Шушары\") or (locality_name == \"Всеволожск\") or (locality_name == \"Пушкин\") or (locality_name == \"Колпино\") or (locality_name == \"посёлок Парголово\") or (locality_name == \"Гатчина\") or (locality_name == \"деревня Кудрово\") or (locality_name == \"Выборг\")')\n",
    "data_top"
   ]
  },
  {
   "cell_type": "code",
   "execution_count": 406,
   "metadata": {},
   "outputs": [
    {
     "data": {
      "image/png": "[encoded data removed]",
      "text/plain": [
       "<Figure size 432x288 with 1 Axes>"
      ]
     },
     "metadata": {
      "needs_background": "light"
     },
     "output_type": "display_data"
    }
   ],
   "source": [
    "# Построим столбиковую диаграмму\n",
    "data_top.sort_values(by='meter_cost', ascending=False).plot(kind ='bar', rot = 75, color='y', legend=None)\n",
    "plt.title('Стоимость метра в топ-10 по количеству объявлений')\n",
    "plt.ylabel('Стоимость метра')\n",
    "plt.xlabel('Населенный пункт')\n",
    "plt.show()"
   ]
  },
  {
   "cell_type": "markdown",
   "metadata": {},
   "source": [
    "**Вывод:** наиболее высоко метр недвижимостти стоит в Санкт-Петербурге (~105135), далее идет Пушкин (100000), ниже всего стоимость метра в Выборге (58666)"
   ]
  },
  {
   "cell_type": "markdown",
   "metadata": {},
   "source": [
    "### Изучение центральной области"
   ]
  },
  {
   "cell_type": "markdown",
   "metadata": {},
   "source": [
    "Найдем центральную область Санкт-Петербурга"
   ]
  },
  {
   "cell_type": "markdown",
   "metadata": {},
   "source": [
    "Для этого создадим отдельную таблицу недвижимости Санкт-Петербурга, округлим значения в столбце city_centers_nearest и переведем метры в километры"
   ]
  },
  {
   "cell_type": "code",
   "execution_count": 407,
   "metadata": {},
   "outputs": [],
   "source": [
    "# Создадим отдельную таблицу недвижимости Санкт-Петербурга\n",
    "data_center = data.query('locality_name == \"Санкт-Петербург\"')"
   ]
  },
  {
   "cell_type": "code",
   "execution_count": 408,
   "metadata": {},
   "outputs": [],
   "source": [
    "# Округлим значения в столбце city_centers_nearest\n",
    "data_center = data_center.dropna(subset=['city_centers_nearest'])"
   ]
  },
  {
   "cell_type": "code",
   "execution_count": 409,
   "metadata": {},
   "outputs": [],
   "source": [
    "# Переведем метры в километры\n",
    "data_center['city_centers_nearest'] = astyper(data_center['city_centers_nearest']/1000)"
   ]
  },
  {
   "cell_type": "code",
   "execution_count": 410,
   "metadata": {},
   "outputs": [
    {
     "data": {
      "text/plain": [
       "city_centers_nearest\n",
       "0     11750000.0\n",
       "1     10900000.0\n",
       "2      9500000.0\n",
       "3      8540000.0\n",
       "4      9900000.0\n",
       "5      8925000.0\n",
       "6      8055000.0\n",
       "7      7525437.5\n",
       "8      6500000.0\n",
       "9      5000000.0\n",
       "10     5000000.0\n",
       "11     5000000.0\n",
       "12     5000000.0\n",
       "13     5200000.0\n",
       "14     4900000.0\n",
       "15     4850000.0\n",
       "16     4650000.0\n",
       "17     4494500.0\n",
       "18     4460000.0\n",
       "19     4500000.0\n",
       "20     6120000.0\n",
       "21     4700000.0\n",
       "22     5000000.0\n",
       "23     3950000.0\n",
       "24     3480000.0\n",
       "25     3499000.0\n",
       "26     3975000.0\n",
       "27     8300000.0\n",
       "28     4775000.0\n",
       "29     4200000.0\n",
       "Name: last_price, dtype: float64"
      ]
     },
     "execution_count": 410,
     "metadata": {},
     "output_type": "execute_result"
    }
   ],
   "source": [
    "# Найдем медианное значение цены для каждого километра\n",
    "data_center.groupby('city_centers_nearest')['last_price'].median()"
   ]
  },
  {
   "cell_type": "code",
   "execution_count": 411,
   "metadata": {},
   "outputs": [
    {
     "data": {
      "image/png": "[encoded data removed]",
      "text/plain": [
       "<Figure size 432x288 with 1 Axes>"
      ]
     },
     "metadata": {
      "needs_background": "light"
     },
     "output_type": "display_data"
    }
   ],
   "source": [
    "# Изучим зависимость цены от растояния от центра с помощью графика\n",
    "data_center.groupby('city_centers_nearest')['last_price'].median().plot(color='y')\n",
    "plt.title('Зависимость цены недвижимости Санкт-Петербурга от растояния от центра')\n",
    "plt.ylabel('Частота')\n",
    "plt.xlabel('Цена')\n",
    "plt.show()"
   ]
  },
  {
   "cell_type": "markdown",
   "metadata": {},
   "source": [
    "**Вывод:** примерно после 5 километра от центра цена сильно падает, вероятно это и есть центральная область."
   ]
  },
  {
   "cell_type": "markdown",
   "metadata": {},
   "source": [
    "### Анализ сегмента квартир в центре"
   ]
  },
  {
   "cell_type": "markdown",
   "metadata": {},
   "source": [
    "Изучим параметры: площадь, цена, число комнат, высота потолков для центральной недвижимости. Также выделим факторы, которые влияют на стоимость квартиры"
   ]
  },
  {
   "cell_type": "markdown",
   "metadata": {},
   "source": [
    "#### Площадь, цена, число комнат, высота потолков для центра"
   ]
  },
  {
   "cell_type": "code",
   "execution_count": 412,
   "metadata": {},
   "outputs": [],
   "source": [
    "# Отфильтруем таблицу с недвижимостью Санкт-Петербурга до объявлений с расстоянием до центра не больше 5 километров\n",
    "data_center = data_center.query('city_centers_nearest<=5')"
   ]
  },
  {
   "cell_type": "code",
   "execution_count": 413,
   "metadata": {},
   "outputs": [
    {
     "data": {
      "text/html": [
       "<div>\n",
       "<style scoped>\n",
       "    .dataframe tbody tr th:only-of-type {\n",
       "        vertical-align: middle;\n",
       "    }\n",
       "\n",
       "    .dataframe tbody tr th {\n",
       "        vertical-align: top;\n",
       "    }\n",
       "\n",
       "    .dataframe thead th {\n",
       "        text-align: right;\n",
       "    }\n",
       "</style>\n",
       "<table border=\"1\" class=\"dataframe\">\n",
       "  <thead>\n",
       "    <tr style=\"text-align: right;\">\n",
       "      <th></th>\n",
       "      <th>total_area</th>\n",
       "      <th>last_price</th>\n",
       "      <th>rooms</th>\n",
       "      <th>ceiling_height</th>\n",
       "    </tr>\n",
       "  </thead>\n",
       "  <tbody>\n",
       "    <tr>\n",
       "      <th>19904</th>\n",
       "      <td>12</td>\n",
       "      <td>2400000</td>\n",
       "      <td>1</td>\n",
       "      <td>2.55</td>\n",
       "    </tr>\n",
       "    <tr>\n",
       "      <th>19807</th>\n",
       "      <td>13</td>\n",
       "      <td>3800000</td>\n",
       "      <td>1</td>\n",
       "      <td>2.65</td>\n",
       "    </tr>\n",
       "    <tr>\n",
       "      <th>19546</th>\n",
       "      <td>13</td>\n",
       "      <td>1850000</td>\n",
       "      <td>1</td>\n",
       "      <td>3.40</td>\n",
       "    </tr>\n",
       "    <tr>\n",
       "      <th>19558</th>\n",
       "      <td>13</td>\n",
       "      <td>1686000</td>\n",
       "      <td>1</td>\n",
       "      <td>2.65</td>\n",
       "    </tr>\n",
       "    <tr>\n",
       "      <th>9157</th>\n",
       "      <td>17</td>\n",
       "      <td>3400000</td>\n",
       "      <td>1</td>\n",
       "      <td>2.65</td>\n",
       "    </tr>\n",
       "    <tr>\n",
       "      <th>...</th>\n",
       "      <td>...</td>\n",
       "      <td>...</td>\n",
       "      <td>...</td>\n",
       "      <td>...</td>\n",
       "    </tr>\n",
       "    <tr>\n",
       "      <th>4237</th>\n",
       "      <td>517</td>\n",
       "      <td>50000000</td>\n",
       "      <td>7</td>\n",
       "      <td>2.65</td>\n",
       "    </tr>\n",
       "    <tr>\n",
       "      <th>5358</th>\n",
       "      <td>590</td>\n",
       "      <td>65000000</td>\n",
       "      <td>15</td>\n",
       "      <td>3.50</td>\n",
       "    </tr>\n",
       "    <tr>\n",
       "      <th>15651</th>\n",
       "      <td>618</td>\n",
       "      <td>300000000</td>\n",
       "      <td>7</td>\n",
       "      <td>3.40</td>\n",
       "    </tr>\n",
       "    <tr>\n",
       "      <th>12859</th>\n",
       "      <td>631</td>\n",
       "      <td>140000000</td>\n",
       "      <td>7</td>\n",
       "      <td>3.90</td>\n",
       "    </tr>\n",
       "    <tr>\n",
       "      <th>3117</th>\n",
       "      <td>631</td>\n",
       "      <td>140000000</td>\n",
       "      <td>7</td>\n",
       "      <td>2.65</td>\n",
       "    </tr>\n",
       "  </tbody>\n",
       "</table>\n",
       "<p>2813 rows × 4 columns</p>\n",
       "</div>"
      ],
      "text/plain": [
       "       total_area  last_price  rooms  ceiling_height\n",
       "19904          12     2400000      1            2.55\n",
       "19807          13     3800000      1            2.65\n",
       "19546          13     1850000      1            3.40\n",
       "19558          13     1686000      1            2.65\n",
       "9157           17     3400000      1            2.65\n",
       "...           ...         ...    ...             ...\n",
       "4237          517    50000000      7            2.65\n",
       "5358          590    65000000     15            3.50\n",
       "15651         618   300000000      7            3.40\n",
       "12859         631   140000000      7            3.90\n",
       "3117          631   140000000      7            2.65\n",
       "\n",
       "[2813 rows x 4 columns]"
      ]
     },
     "execution_count": 413,
     "metadata": {},
     "output_type": "execute_result"
    }
   ],
   "source": [
    "# Изучим параметр площадь\n",
    "data_center[['total_area', 'last_price', 'rooms', 'ceiling_height']].sort_values(by='total_area')"
   ]
  },
  {
   "cell_type": "code",
   "execution_count": 414,
   "metadata": {},
   "outputs": [
    {
     "data": {
      "image/png": "[encoded data removed]",
      "text/plain": [
       "<Figure size 432x288 with 1 Axes>"
      ]
     },
     "metadata": {
      "needs_background": "light"
     },
     "output_type": "display_data"
    }
   ],
   "source": [
    "# Построим гистограмму\n",
    "data_center['total_area'].hist(bins=80, range=(0, 631), color='y')\n",
    "plt.title('Распределение площади недвижимости Санкт-Петербурга')\n",
    "plt.ylabel('Частота')\n",
    "plt.xlabel('Площадь')\n",
    "plt.show()"
   ]
  },
  {
   "cell_type": "code",
   "execution_count": 415,
   "metadata": {},
   "outputs": [
    {
     "data": {
      "text/plain": [
       "count    2813.000000\n",
       "mean       96.031994\n",
       "std        60.779494\n",
       "min        12.000000\n",
       "25%        60.000000\n",
       "50%        82.000000\n",
       "75%       113.000000\n",
       "max       631.000000\n",
       "Name: total_area, dtype: float64"
      ]
     },
     "execution_count": 415,
     "metadata": {},
     "output_type": "execute_result"
    }
   ],
   "source": [
    "# Найдем описательные статистики\n",
    "data_center['total_area'].describe()"
   ]
  },
  {
   "cell_type": "markdown",
   "metadata": {},
   "source": [
    "**Вывод:** по сравнению со всей выборкой, где средняя площадь недвижимости примерно равна 60м, в центральной области она составляет примерно 96м, а чаще всего встречается недвижимость с площадью около 82м, что также больше по сравнению с остальной выборкой."
   ]
  },
  {
   "cell_type": "code",
   "execution_count": 416,
   "metadata": {},
   "outputs": [
    {
     "data": {
      "text/html": [
       "<div>\n",
       "<style scoped>\n",
       "    .dataframe tbody tr th:only-of-type {\n",
       "        vertical-align: middle;\n",
       "    }\n",
       "\n",
       "    .dataframe tbody tr th {\n",
       "        vertical-align: top;\n",
       "    }\n",
       "\n",
       "    .dataframe thead th {\n",
       "        text-align: right;\n",
       "    }\n",
       "</style>\n",
       "<table border=\"1\" class=\"dataframe\">\n",
       "  <thead>\n",
       "    <tr style=\"text-align: right;\">\n",
       "      <th></th>\n",
       "      <th>total_area</th>\n",
       "      <th>last_price</th>\n",
       "      <th>rooms</th>\n",
       "      <th>ceiling_height</th>\n",
       "    </tr>\n",
       "  </thead>\n",
       "  <tbody>\n",
       "    <tr>\n",
       "      <th>23394</th>\n",
       "      <td>92</td>\n",
       "      <td>1600000</td>\n",
       "      <td>3</td>\n",
       "      <td>3.00</td>\n",
       "    </tr>\n",
       "    <tr>\n",
       "      <th>19558</th>\n",
       "      <td>13</td>\n",
       "      <td>1686000</td>\n",
       "      <td>1</td>\n",
       "      <td>2.65</td>\n",
       "    </tr>\n",
       "    <tr>\n",
       "      <th>17753</th>\n",
       "      <td>117</td>\n",
       "      <td>1800000</td>\n",
       "      <td>5</td>\n",
       "      <td>2.65</td>\n",
       "    </tr>\n",
       "    <tr>\n",
       "      <th>19546</th>\n",
       "      <td>13</td>\n",
       "      <td>1850000</td>\n",
       "      <td>1</td>\n",
       "      <td>3.40</td>\n",
       "    </tr>\n",
       "    <tr>\n",
       "      <th>10208</th>\n",
       "      <td>17</td>\n",
       "      <td>1900000</td>\n",
       "      <td>1</td>\n",
       "      <td>2.75</td>\n",
       "    </tr>\n",
       "    <tr>\n",
       "      <th>...</th>\n",
       "      <td>...</td>\n",
       "      <td>...</td>\n",
       "      <td>...</td>\n",
       "      <td>...</td>\n",
       "    </tr>\n",
       "    <tr>\n",
       "      <th>22831</th>\n",
       "      <td>187</td>\n",
       "      <td>289238400</td>\n",
       "      <td>2</td>\n",
       "      <td>3.37</td>\n",
       "    </tr>\n",
       "    <tr>\n",
       "      <th>15651</th>\n",
       "      <td>618</td>\n",
       "      <td>300000000</td>\n",
       "      <td>7</td>\n",
       "      <td>3.40</td>\n",
       "    </tr>\n",
       "    <tr>\n",
       "      <th>1436</th>\n",
       "      <td>190</td>\n",
       "      <td>330000000</td>\n",
       "      <td>3</td>\n",
       "      <td>3.50</td>\n",
       "    </tr>\n",
       "    <tr>\n",
       "      <th>14706</th>\n",
       "      <td>401</td>\n",
       "      <td>401300000</td>\n",
       "      <td>5</td>\n",
       "      <td>2.65</td>\n",
       "    </tr>\n",
       "    <tr>\n",
       "      <th>12971</th>\n",
       "      <td>400</td>\n",
       "      <td>763000000</td>\n",
       "      <td>7</td>\n",
       "      <td>2.65</td>\n",
       "    </tr>\n",
       "  </tbody>\n",
       "</table>\n",
       "<p>2813 rows × 4 columns</p>\n",
       "</div>"
      ],
      "text/plain": [
       "       total_area  last_price  rooms  ceiling_height\n",
       "23394          92     1600000      3            3.00\n",
       "19558          13     1686000      1            2.65\n",
       "17753         117     1800000      5            2.65\n",
       "19546          13     1850000      1            3.40\n",
       "10208          17     1900000      1            2.75\n",
       "...           ...         ...    ...             ...\n",
       "22831         187   289238400      2            3.37\n",
       "15651         618   300000000      7            3.40\n",
       "1436          190   330000000      3            3.50\n",
       "14706         401   401300000      5            2.65\n",
       "12971         400   763000000      7            2.65\n",
       "\n",
       "[2813 rows x 4 columns]"
      ]
     },
     "execution_count": 416,
     "metadata": {},
     "output_type": "execute_result"
    }
   ],
   "source": [
    "# Изучим параметр цена\n",
    "data_center[['total_area', 'last_price', 'rooms', 'ceiling_height']].sort_values(by='last_price')"
   ]
  },
  {
   "cell_type": "code",
   "execution_count": 417,
   "metadata": {},
   "outputs": [
    {
     "data": {
      "image/png": "[encoded data removed]",
      "text/plain": [
       "<Figure size 432x288 with 1 Axes>"
      ]
     },
     "metadata": {
      "needs_background": "light"
     },
     "output_type": "display_data"
    }
   ],
   "source": [
    "# Построим гистограмму\n",
    "data_center['last_price'].hist(bins=80, range=(0, 100000000), color='y')\n",
    "plt.title('Распределение цены недвижимости Санкт-Петербурга')\n",
    "plt.ylabel('Частота')\n",
    "plt.xlabel('Цена')\n",
    "plt.show()"
   ]
  },
  {
   "cell_type": "markdown",
   "metadata": {},
   "source": [
    "**Вывод:** судя по графику чаще всего встречаются объявления с ценой около 10 миллионов, это в два раза больше цены по всей выборке. "
   ]
  },
  {
   "cell_type": "code",
   "execution_count": 418,
   "metadata": {},
   "outputs": [
    {
     "data": {
      "text/html": [
       "<div>\n",
       "<style scoped>\n",
       "    .dataframe tbody tr th:only-of-type {\n",
       "        vertical-align: middle;\n",
       "    }\n",
       "\n",
       "    .dataframe tbody tr th {\n",
       "        vertical-align: top;\n",
       "    }\n",
       "\n",
       "    .dataframe thead th {\n",
       "        text-align: right;\n",
       "    }\n",
       "</style>\n",
       "<table border=\"1\" class=\"dataframe\">\n",
       "  <thead>\n",
       "    <tr style=\"text-align: right;\">\n",
       "      <th></th>\n",
       "      <th>total_area</th>\n",
       "      <th>last_price</th>\n",
       "      <th>rooms</th>\n",
       "      <th>ceiling_height</th>\n",
       "    </tr>\n",
       "  </thead>\n",
       "  <tbody>\n",
       "    <tr>\n",
       "      <th>6293</th>\n",
       "      <td>86</td>\n",
       "      <td>17800000</td>\n",
       "      <td>1</td>\n",
       "      <td>3.00</td>\n",
       "    </tr>\n",
       "    <tr>\n",
       "      <th>10076</th>\n",
       "      <td>25</td>\n",
       "      <td>3200000</td>\n",
       "      <td>1</td>\n",
       "      <td>3.50</td>\n",
       "    </tr>\n",
       "    <tr>\n",
       "      <th>10108</th>\n",
       "      <td>30</td>\n",
       "      <td>3700000</td>\n",
       "      <td>1</td>\n",
       "      <td>2.56</td>\n",
       "    </tr>\n",
       "    <tr>\n",
       "      <th>21387</th>\n",
       "      <td>38</td>\n",
       "      <td>4800000</td>\n",
       "      <td>1</td>\n",
       "      <td>2.65</td>\n",
       "    </tr>\n",
       "    <tr>\n",
       "      <th>2499</th>\n",
       "      <td>41</td>\n",
       "      <td>7200000</td>\n",
       "      <td>1</td>\n",
       "      <td>2.65</td>\n",
       "    </tr>\n",
       "    <tr>\n",
       "      <th>...</th>\n",
       "      <td>...</td>\n",
       "      <td>...</td>\n",
       "      <td>...</td>\n",
       "      <td>...</td>\n",
       "    </tr>\n",
       "    <tr>\n",
       "      <th>648</th>\n",
       "      <td>183</td>\n",
       "      <td>17500000</td>\n",
       "      <td>11</td>\n",
       "      <td>3.40</td>\n",
       "    </tr>\n",
       "    <tr>\n",
       "      <th>20829</th>\n",
       "      <td>245</td>\n",
       "      <td>28659000</td>\n",
       "      <td>14</td>\n",
       "      <td>2.65</td>\n",
       "    </tr>\n",
       "    <tr>\n",
       "      <th>5358</th>\n",
       "      <td>590</td>\n",
       "      <td>65000000</td>\n",
       "      <td>15</td>\n",
       "      <td>3.50</td>\n",
       "    </tr>\n",
       "    <tr>\n",
       "      <th>18848</th>\n",
       "      <td>270</td>\n",
       "      <td>28500000</td>\n",
       "      <td>16</td>\n",
       "      <td>3.00</td>\n",
       "    </tr>\n",
       "    <tr>\n",
       "      <th>14498</th>\n",
       "      <td>374</td>\n",
       "      <td>32250000</td>\n",
       "      <td>19</td>\n",
       "      <td>2.65</td>\n",
       "    </tr>\n",
       "  </tbody>\n",
       "</table>\n",
       "<p>2813 rows × 4 columns</p>\n",
       "</div>"
      ],
      "text/plain": [
       "       total_area  last_price  rooms  ceiling_height\n",
       "6293           86    17800000      1            3.00\n",
       "10076          25     3200000      1            3.50\n",
       "10108          30     3700000      1            2.56\n",
       "21387          38     4800000      1            2.65\n",
       "2499           41     7200000      1            2.65\n",
       "...           ...         ...    ...             ...\n",
       "648           183    17500000     11            3.40\n",
       "20829         245    28659000     14            2.65\n",
       "5358          590    65000000     15            3.50\n",
       "18848         270    28500000     16            3.00\n",
       "14498         374    32250000     19            2.65\n",
       "\n",
       "[2813 rows x 4 columns]"
      ]
     },
     "execution_count": 418,
     "metadata": {},
     "output_type": "execute_result"
    }
   ],
   "source": [
    "# Изучим параметр число комнат\n",
    "data_center[['total_area', 'last_price', 'rooms', 'ceiling_height']].sort_values(by='rooms')"
   ]
  },
  {
   "cell_type": "code",
   "execution_count": 419,
   "metadata": {},
   "outputs": [
    {
     "data": {
      "image/png": "[encoded data removed]",
      "text/plain": [
       "<Figure size 432x288 with 1 Axes>"
      ]
     },
     "metadata": {
      "needs_background": "light"
     },
     "output_type": "display_data"
    }
   ],
   "source": [
    "# Построим гистограмму\n",
    "data_center['rooms'].hist(bins=80, range=(0, 19), color='y')\n",
    "plt.title('Распределение числа комнат недвижимости Санкт-Петербурга')\n",
    "plt.ylabel('Частота')\n",
    "plt.xlabel('Число комнат')\n",
    "plt.show()"
   ]
  },
  {
   "cell_type": "code",
   "execution_count": 420,
   "metadata": {},
   "outputs": [
    {
     "data": {
      "text/plain": [
       "count    2813.000000\n",
       "mean        2.960896\n",
       "std         1.498660\n",
       "min         1.000000\n",
       "25%         2.000000\n",
       "50%         3.000000\n",
       "75%         4.000000\n",
       "max        19.000000\n",
       "Name: rooms, dtype: float64"
      ]
     },
     "execution_count": 420,
     "metadata": {},
     "output_type": "execute_result"
    }
   ],
   "source": [
    "# Найдем описательные статистики\n",
    "data_center['rooms'].describe()"
   ]
  },
  {
   "cell_type": "markdown",
   "metadata": {},
   "source": [
    "**Вывод:** в центре всего встречаются объявления с 3 комнатами, когда в остальной области самые частые объявления - однокомнатные квартиры."
   ]
  },
  {
   "cell_type": "code",
   "execution_count": 421,
   "metadata": {},
   "outputs": [
    {
     "data": {
      "text/html": [
       "<div>\n",
       "<style scoped>\n",
       "    .dataframe tbody tr th:only-of-type {\n",
       "        vertical-align: middle;\n",
       "    }\n",
       "\n",
       "    .dataframe tbody tr th {\n",
       "        vertical-align: top;\n",
       "    }\n",
       "\n",
       "    .dataframe thead th {\n",
       "        text-align: right;\n",
       "    }\n",
       "</style>\n",
       "<table border=\"1\" class=\"dataframe\">\n",
       "  <thead>\n",
       "    <tr style=\"text-align: right;\">\n",
       "      <th></th>\n",
       "      <th>total_area</th>\n",
       "      <th>last_price</th>\n",
       "      <th>rooms</th>\n",
       "      <th>ceiling_height</th>\n",
       "      <th>total_images</th>\n",
       "      <th>locality_name</th>\n",
       "      <th>studio</th>\n",
       "      <th>floors_total</th>\n",
       "    </tr>\n",
       "  </thead>\n",
       "  <tbody>\n",
       "    <tr>\n",
       "      <th>5941</th>\n",
       "      <td>92</td>\n",
       "      <td>6600000</td>\n",
       "      <td>3</td>\n",
       "      <td>2.45</td>\n",
       "      <td>8</td>\n",
       "      <td>Санкт-Петербург</td>\n",
       "      <td>False</td>\n",
       "      <td>7</td>\n",
       "    </tr>\n",
       "    <tr>\n",
       "      <th>987</th>\n",
       "      <td>65</td>\n",
       "      <td>7100000</td>\n",
       "      <td>4</td>\n",
       "      <td>2.46</td>\n",
       "      <td>12</td>\n",
       "      <td>Санкт-Петербург</td>\n",
       "      <td>False</td>\n",
       "      <td>5</td>\n",
       "    </tr>\n",
       "    <tr>\n",
       "      <th>21521</th>\n",
       "      <td>49</td>\n",
       "      <td>6800000</td>\n",
       "      <td>2</td>\n",
       "      <td>2.49</td>\n",
       "      <td>13</td>\n",
       "      <td>Санкт-Петербург</td>\n",
       "      <td>False</td>\n",
       "      <td>8</td>\n",
       "    </tr>\n",
       "    <tr>\n",
       "      <th>19685</th>\n",
       "      <td>44</td>\n",
       "      <td>4299000</td>\n",
       "      <td>2</td>\n",
       "      <td>2.50</td>\n",
       "      <td>10</td>\n",
       "      <td>Санкт-Петербург</td>\n",
       "      <td>False</td>\n",
       "      <td>5</td>\n",
       "    </tr>\n",
       "    <tr>\n",
       "      <th>10576</th>\n",
       "      <td>155</td>\n",
       "      <td>35000000</td>\n",
       "      <td>4</td>\n",
       "      <td>2.50</td>\n",
       "      <td>4</td>\n",
       "      <td>Санкт-Петербург</td>\n",
       "      <td>False</td>\n",
       "      <td>5</td>\n",
       "    </tr>\n",
       "    <tr>\n",
       "      <th>...</th>\n",
       "      <td>...</td>\n",
       "      <td>...</td>\n",
       "      <td>...</td>\n",
       "      <td>...</td>\n",
       "      <td>...</td>\n",
       "      <td>...</td>\n",
       "      <td>...</td>\n",
       "      <td>...</td>\n",
       "    </tr>\n",
       "    <tr>\n",
       "      <th>2802</th>\n",
       "      <td>50</td>\n",
       "      <td>14950000</td>\n",
       "      <td>2</td>\n",
       "      <td>4.80</td>\n",
       "      <td>7</td>\n",
       "      <td>Санкт-Петербург</td>\n",
       "      <td>False</td>\n",
       "      <td>3</td>\n",
       "    </tr>\n",
       "    <tr>\n",
       "      <th>21923</th>\n",
       "      <td>235</td>\n",
       "      <td>115490000</td>\n",
       "      <td>5</td>\n",
       "      <td>4.90</td>\n",
       "      <td>10</td>\n",
       "      <td>Санкт-Петербург</td>\n",
       "      <td>False</td>\n",
       "      <td>5</td>\n",
       "    </tr>\n",
       "    <tr>\n",
       "      <th>1026</th>\n",
       "      <td>310</td>\n",
       "      <td>155000000</td>\n",
       "      <td>5</td>\n",
       "      <td>5.30</td>\n",
       "      <td>20</td>\n",
       "      <td>Санкт-Петербург</td>\n",
       "      <td>False</td>\n",
       "      <td>3</td>\n",
       "    </tr>\n",
       "    <tr>\n",
       "      <th>12628</th>\n",
       "      <td>50</td>\n",
       "      <td>3900000</td>\n",
       "      <td>1</td>\n",
       "      <td>5.30</td>\n",
       "      <td>14</td>\n",
       "      <td>Санкт-Петербург</td>\n",
       "      <td>False</td>\n",
       "      <td>5</td>\n",
       "    </tr>\n",
       "    <tr>\n",
       "      <th>20264</th>\n",
       "      <td>187</td>\n",
       "      <td>119000000</td>\n",
       "      <td>4</td>\n",
       "      <td>6.00</td>\n",
       "      <td>17</td>\n",
       "      <td>Санкт-Петербург</td>\n",
       "      <td>False</td>\n",
       "      <td>7</td>\n",
       "    </tr>\n",
       "  </tbody>\n",
       "</table>\n",
       "<p>2813 rows × 8 columns</p>\n",
       "</div>"
      ],
      "text/plain": [
       "       total_area  last_price  rooms  ceiling_height  total_images  \\\n",
       "5941           92     6600000      3            2.45             8   \n",
       "987            65     7100000      4            2.46            12   \n",
       "21521          49     6800000      2            2.49            13   \n",
       "19685          44     4299000      2            2.50            10   \n",
       "10576         155    35000000      4            2.50             4   \n",
       "...           ...         ...    ...             ...           ...   \n",
       "2802           50    14950000      2            4.80             7   \n",
       "21923         235   115490000      5            4.90            10   \n",
       "1026          310   155000000      5            5.30            20   \n",
       "12628          50     3900000      1            5.30            14   \n",
       "20264         187   119000000      4            6.00            17   \n",
       "\n",
       "         locality_name  studio  floors_total  \n",
       "5941   Санкт-Петербург   False             7  \n",
       "987    Санкт-Петербург   False             5  \n",
       "21521  Санкт-Петербург   False             8  \n",
       "19685  Санкт-Петербург   False             5  \n",
       "10576  Санкт-Петербург   False             5  \n",
       "...                ...     ...           ...  \n",
       "2802   Санкт-Петербург   False             3  \n",
       "21923  Санкт-Петербург   False             5  \n",
       "1026   Санкт-Петербург   False             3  \n",
       "12628  Санкт-Петербург   False             5  \n",
       "20264  Санкт-Петербург   False             7  \n",
       "\n",
       "[2813 rows x 8 columns]"
      ]
     },
     "execution_count": 421,
     "metadata": {},
     "output_type": "execute_result"
    }
   ],
   "source": [
    "# Изучим параметр высота потолков\n",
    "data_center[['total_area', 'last_price', 'rooms', 'ceiling_height', 'total_images', 'locality_name', 'studio', 'floors_total']].sort_values(by='ceiling_height')"
   ]
  },
  {
   "cell_type": "code",
   "execution_count": 422,
   "metadata": {},
   "outputs": [
    {
     "data": {
      "image/png": "[encoded data removed]",
      "text/plain": [
       "<Figure size 432x288 with 1 Axes>"
      ]
     },
     "metadata": {
      "needs_background": "light"
     },
     "output_type": "display_data"
    }
   ],
   "source": [
    "# Построим гистограмму\n",
    "data['ceiling_height'].hist(bins=80, range=(0.00, 10), color='y')\n",
    "plt.title('Распределение высоты потолков недвижимости Санкт-Петербурга')\n",
    "plt.ylabel('Частота')\n",
    "plt.xlabel('Высота потолков')\n",
    "plt.show()"
   ]
  },
  {
   "cell_type": "code",
   "execution_count": 423,
   "metadata": {},
   "outputs": [
    {
     "data": {
      "text/plain": [
       "count    2813.000000\n",
       "mean        2.968798\n",
       "std         0.378557\n",
       "min         2.450000\n",
       "25%         2.650000\n",
       "50%         2.900000\n",
       "75%         3.200000\n",
       "max         6.000000\n",
       "Name: ceiling_height, dtype: float64"
      ]
     },
     "execution_count": 423,
     "metadata": {},
     "output_type": "execute_result"
    }
   ],
   "source": [
    "# Найдем описательные статистики\n",
    "data_center['ceiling_height'].describe()"
   ]
  },
  {
   "cell_type": "markdown",
   "metadata": {},
   "source": [
    "**Вывод:** чаще всего в центре встречаются объявления с высотой потолков 2.9м, когда в остальной области это 2.65м. Средняя высота потолков по центру примерно равна 3м, когда по остальной области это около 2.72м."
   ]
  },
  {
   "cell_type": "markdown",
   "metadata": {},
   "source": [
    "**Общий вывод:** таким образом, выставленная на продажу недвижимость в центре по всем параметрам в среднем выше, чем недвижимость, удаленная от центра."
   ]
  },
  {
   "cell_type": "markdown",
   "metadata": {},
   "source": [
    "#### Изучение факторов, влияющих на стоимость квартиры в центре"
   ]
  },
  {
   "cell_type": "markdown",
   "metadata": {},
   "source": [
    "Изучим зависимость цены от числа комнат, этажа, удалённости от центра, даты размещения объявления. Для количественных данных вычислим коэффициент корреляции и построим диаграмму рассеяния. Для категориальных данных получим сгрупированные данные и построим столбиковую диаграмму."
   ]
  },
  {
   "cell_type": "code",
   "execution_count": 424,
   "metadata": {},
   "outputs": [
    {
     "data": {
      "text/plain": [
       "0.5946093226710253"
      ]
     },
     "execution_count": 424,
     "metadata": {},
     "output_type": "execute_result"
    }
   ],
   "source": [
    "# Изучим зависимость цены от площади\n",
    "data_center['last_price'].corr(data_center['total_area'])"
   ]
  },
  {
   "cell_type": "code",
   "execution_count": 425,
   "metadata": {},
   "outputs": [
    {
     "data": {
      "image/png": "[encoded data removed]",
      "text/plain": [
       "<Figure size 432x288 with 1 Axes>"
      ]
     },
     "metadata": {
      "needs_background": "light"
     },
     "output_type": "display_data"
    }
   ],
   "source": [
    "# Визуализируем\n",
    "data_center.plot(x='total_area', y='last_price', kind='scatter', color='y')\n",
    "plt.title('Связь между ценой и площадью недвижимости Санкт-Петербурга')\n",
    "plt.ylabel('Цена')\n",
    "plt.xlabel('Площадь')\n",
    "plt.show()"
   ]
  },
  {
   "cell_type": "markdown",
   "metadata": {},
   "source": [
    "**Вывод:** несмотря на то, что коэффициент корреляции для центральной области ниже, чем для остальной, судя по графику прямая зависимость цены от площади в целом есть."
   ]
  },
  {
   "cell_type": "markdown",
   "metadata": {},
   "source": [
    "**Изучим зависимость цены от числа комнат**"
   ]
  },
  {
   "cell_type": "code",
   "execution_count": 426,
   "metadata": {},
   "outputs": [
    {
     "data": {
      "text/plain": [
       "0.2961247442675423"
      ]
     },
     "execution_count": 426,
     "metadata": {},
     "output_type": "execute_result"
    }
   ],
   "source": [
    "# Изучим зависимость цены от числа комнат\n",
    "data_center['last_price'].corr(data_center['rooms'])"
   ]
  },
  {
   "cell_type": "code",
   "execution_count": 427,
   "metadata": {},
   "outputs": [
    {
     "data": {
      "image/png": "[encoded data removed]",
      "text/plain": [
       "<Figure size 432x288 with 1 Axes>"
      ]
     },
     "metadata": {
      "needs_background": "light"
     },
     "output_type": "display_data"
    }
   ],
   "source": [
    "# Визуализируем\n",
    "data_center.pivot_table(index = 'rooms', values='last_price', aggfunc ='median').plot(kind='bar', rot=0, color='y', legend=None)\n",
    "plt.title('Зависимость цены от количества комнат недвижимости Санкт-Петебурга')\n",
    "plt.ylabel('Цена в млн.')\n",
    "plt.show()"
   ]
  },
  {
   "cell_type": "markdown",
   "metadata": {},
   "source": [
    "**Вывод:** по сравнению со всей областью, в центре коэффициент корреляции между ценой и количеством комнат еще ниже. По графику видно, что цена растет равномерно, однако резко снижается на семикомнатные квартиры и далее говорить о какой-либо тенденции сложно."
   ]
  },
  {
   "cell_type": "code",
   "execution_count": 428,
   "metadata": {},
   "outputs": [
    {
     "data": {
      "text/plain": [
       "-0.05331724474671021"
      ]
     },
     "execution_count": 428,
     "metadata": {},
     "output_type": "execute_result"
    }
   ],
   "source": [
    "# Изучим зависимость цены от удаленности от центра\n",
    "data_center['last_price'].corr(data_center['city_centers_nearest'])"
   ]
  },
  {
   "cell_type": "code",
   "execution_count": 429,
   "metadata": {},
   "outputs": [
    {
     "data": {
      "image/png": "[encoded data removed]",
      "text/plain": [
       "<Figure size 432x288 with 1 Axes>"
      ]
     },
     "metadata": {
      "needs_background": "light"
     },
     "output_type": "display_data"
    }
   ],
   "source": [
    "# Визуализиаруем\n",
    "data_center.pivot_table(index = 'city_centers_nearest', values='last_price', aggfunc ='median').plot(kind='bar', color='y', rot=0, legend=None)\n",
    "plt.title('Связь между ценой и удаленностью от центра')\n",
    "plt.ylabel('Цена')\n",
    "plt.xlabel('Удаленность от центра')\n",
    "plt.show()"
   ]
  },
  {
   "cell_type": "markdown",
   "metadata": {},
   "source": [
    "**Вывод:** коэффициент корреляции ниже, чем для всей выборки. Но на графике видно, что цена уменьшается соответственно увеличению расстояния от центра до 3 км. Можно сделать вывод, что зависимость есть, однако до определенного километра."
   ]
  },
  {
   "cell_type": "markdown",
   "metadata": {},
   "source": [
    "**Изучим зависимость цены от этажа**"
   ]
  },
  {
   "cell_type": "code",
   "execution_count": 430,
   "metadata": {},
   "outputs": [
    {
     "data": {
      "text/html": [
       "<div>\n",
       "<style scoped>\n",
       "    .dataframe tbody tr th:only-of-type {\n",
       "        vertical-align: middle;\n",
       "    }\n",
       "\n",
       "    .dataframe tbody tr th {\n",
       "        vertical-align: top;\n",
       "    }\n",
       "\n",
       "    .dataframe thead th {\n",
       "        text-align: right;\n",
       "    }\n",
       "</style>\n",
       "<table border=\"1\" class=\"dataframe\">\n",
       "  <thead>\n",
       "    <tr style=\"text-align: right;\">\n",
       "      <th>floor_category</th>\n",
       "      <th>другой</th>\n",
       "      <th>первый</th>\n",
       "      <th>последний</th>\n",
       "    </tr>\n",
       "  </thead>\n",
       "  <tbody>\n",
       "    <tr>\n",
       "      <th>last_price</th>\n",
       "      <td>9900000</td>\n",
       "      <td>6900000</td>\n",
       "      <td>9816985</td>\n",
       "    </tr>\n",
       "  </tbody>\n",
       "</table>\n",
       "</div>"
      ],
      "text/plain": [
       "floor_category   другой   первый  последний\n",
       "last_price      9900000  6900000    9816985"
      ]
     },
     "execution_count": 430,
     "metadata": {},
     "output_type": "execute_result"
    }
   ],
   "source": [
    "# Изучим зависимость цены от этажа\n",
    "data_center.pivot_table(columns='floor_category', values='last_price', aggfunc ='median')"
   ]
  },
  {
   "cell_type": "code",
   "execution_count": 431,
   "metadata": {},
   "outputs": [
    {
     "data": {
      "image/png": "[encoded data removed]",
      "text/plain": [
       "<Figure size 432x288 with 1 Axes>"
      ]
     },
     "metadata": {
      "needs_background": "light"
     },
     "output_type": "display_data"
    }
   ],
   "source": [
    "# Визуализиаруем\n",
    "data_center.pivot_table(columns='floor_category', values='last_price', aggfunc ='median').plot(kind='bar', rot=0)\n",
    "plt.title('Связь между ценой и этажем')\n",
    "plt.ylabel('Цена')\n",
    "plt.show()"
   ]
  },
  {
   "cell_type": "markdown",
   "metadata": {},
   "source": [
    "**Вывод:** по сравнению с ценой на недвижимость на разных этажах по всей области в центре цена выше примерно в два раза. Первый также является самым дешевым, а другой (не первый и не последний) самым дорогим, однако квартиры на последнем этаже в центре стоит совсем незначительно дешевле, в отличие от квартиры на последнем этаже в остальной области."
   ]
  },
  {
   "cell_type": "code",
   "execution_count": 432,
   "metadata": {},
   "outputs": [
    {
     "data": {
      "text/html": [
       "<div>\n",
       "<style scoped>\n",
       "    .dataframe tbody tr th:only-of-type {\n",
       "        vertical-align: middle;\n",
       "    }\n",
       "\n",
       "    .dataframe tbody tr th {\n",
       "        vertical-align: top;\n",
       "    }\n",
       "\n",
       "    .dataframe thead th {\n",
       "        text-align: right;\n",
       "    }\n",
       "</style>\n",
       "<table border=\"1\" class=\"dataframe\">\n",
       "  <thead>\n",
       "    <tr style=\"text-align: right;\">\n",
       "      <th></th>\n",
       "      <th>last_price</th>\n",
       "    </tr>\n",
       "    <tr>\n",
       "      <th>weekday</th>\n",
       "      <th></th>\n",
       "    </tr>\n",
       "  </thead>\n",
       "  <tbody>\n",
       "    <tr>\n",
       "      <th>0</th>\n",
       "      <td>9900000</td>\n",
       "    </tr>\n",
       "    <tr>\n",
       "      <th>1</th>\n",
       "      <td>9500000</td>\n",
       "    </tr>\n",
       "    <tr>\n",
       "      <th>2</th>\n",
       "      <td>9649000</td>\n",
       "    </tr>\n",
       "    <tr>\n",
       "      <th>3</th>\n",
       "      <td>9500000</td>\n",
       "    </tr>\n",
       "    <tr>\n",
       "      <th>4</th>\n",
       "      <td>9000000</td>\n",
       "    </tr>\n",
       "    <tr>\n",
       "      <th>5</th>\n",
       "      <td>8810000</td>\n",
       "    </tr>\n",
       "    <tr>\n",
       "      <th>6</th>\n",
       "      <td>9995000</td>\n",
       "    </tr>\n",
       "  </tbody>\n",
       "</table>\n",
       "</div>"
      ],
      "text/plain": [
       "         last_price\n",
       "weekday            \n",
       "0           9900000\n",
       "1           9500000\n",
       "2           9649000\n",
       "3           9500000\n",
       "4           9000000\n",
       "5           8810000\n",
       "6           9995000"
      ]
     },
     "execution_count": 432,
     "metadata": {},
     "output_type": "execute_result"
    }
   ],
   "source": [
    "# Изучим зависимость цены от дня недели\n",
    "data_center.pivot_table(index='weekday', values='last_price', aggfunc ='median')"
   ]
  },
  {
   "cell_type": "code",
   "execution_count": 433,
   "metadata": {},
   "outputs": [
    {
     "data": {
      "image/png": "[encoded data removed]",
      "text/plain": [
       "<Figure size 432x288 with 1 Axes>"
      ]
     },
     "metadata": {
      "needs_background": "light"
     },
     "output_type": "display_data"
    }
   ],
   "source": [
    "# Визуализиаруем\n",
    "data_center.pivot_table(index='weekday', values='last_price', aggfunc ='median').plot(kind='bar', rot=0, color='y', legend=None)\n",
    "plt.title('Связь между ценой и днем недели публикации объявления')\n",
    "plt.ylabel('Цена')\n",
    "plt.xlabel('День недели')\n",
    "plt.show()"
   ]
  },
  {
   "cell_type": "markdown",
   "metadata": {},
   "source": [
    "**Вывод:** в отличие от всей выборки, говорить о какой-либо тенденции тут сложно. Очевидной зависимости дня недели размещения недвижимости и цены нет. Самая низкая цена характерна для объявлений, размещенных в субботу (8810000), сама высокая для объявлений размещенных в воскресенье (9995000)."
   ]
  },
  {
   "cell_type": "code",
   "execution_count": 434,
   "metadata": {},
   "outputs": [
    {
     "data": {
      "text/html": [
       "<div>\n",
       "<style scoped>\n",
       "    .dataframe tbody tr th:only-of-type {\n",
       "        vertical-align: middle;\n",
       "    }\n",
       "\n",
       "    .dataframe tbody tr th {\n",
       "        vertical-align: top;\n",
       "    }\n",
       "\n",
       "    .dataframe thead th {\n",
       "        text-align: right;\n",
       "    }\n",
       "</style>\n",
       "<table border=\"1\" class=\"dataframe\">\n",
       "  <thead>\n",
       "    <tr style=\"text-align: right;\">\n",
       "      <th></th>\n",
       "      <th>last_price</th>\n",
       "    </tr>\n",
       "    <tr>\n",
       "      <th>month</th>\n",
       "      <th></th>\n",
       "    </tr>\n",
       "  </thead>\n",
       "  <tbody>\n",
       "    <tr>\n",
       "      <th>1</th>\n",
       "      <td>10550000</td>\n",
       "    </tr>\n",
       "    <tr>\n",
       "      <th>2</th>\n",
       "      <td>10000000</td>\n",
       "    </tr>\n",
       "    <tr>\n",
       "      <th>3</th>\n",
       "      <td>9600000</td>\n",
       "    </tr>\n",
       "    <tr>\n",
       "      <th>4</th>\n",
       "      <td>9325000</td>\n",
       "    </tr>\n",
       "    <tr>\n",
       "      <th>5</th>\n",
       "      <td>9300000</td>\n",
       "    </tr>\n",
       "    <tr>\n",
       "      <th>6</th>\n",
       "      <td>8675000</td>\n",
       "    </tr>\n",
       "    <tr>\n",
       "      <th>7</th>\n",
       "      <td>9500000</td>\n",
       "    </tr>\n",
       "    <tr>\n",
       "      <th>8</th>\n",
       "      <td>9200000</td>\n",
       "    </tr>\n",
       "    <tr>\n",
       "      <th>9</th>\n",
       "      <td>10000000</td>\n",
       "    </tr>\n",
       "    <tr>\n",
       "      <th>10</th>\n",
       "      <td>8990000</td>\n",
       "    </tr>\n",
       "    <tr>\n",
       "      <th>11</th>\n",
       "      <td>9500000</td>\n",
       "    </tr>\n",
       "    <tr>\n",
       "      <th>12</th>\n",
       "      <td>9000000</td>\n",
       "    </tr>\n",
       "  </tbody>\n",
       "</table>\n",
       "</div>"
      ],
      "text/plain": [
       "       last_price\n",
       "month            \n",
       "1        10550000\n",
       "2        10000000\n",
       "3         9600000\n",
       "4         9325000\n",
       "5         9300000\n",
       "6         8675000\n",
       "7         9500000\n",
       "8         9200000\n",
       "9        10000000\n",
       "10        8990000\n",
       "11        9500000\n",
       "12        9000000"
      ]
     },
     "execution_count": 434,
     "metadata": {},
     "output_type": "execute_result"
    }
   ],
   "source": [
    "# Изучим зависимость цены от дня месяца\n",
    "data_center.pivot_table(index='month', values='last_price', aggfunc ='median')"
   ]
  },
  {
   "cell_type": "code",
   "execution_count": 435,
   "metadata": {},
   "outputs": [
    {
     "data": {
      "image/png": "[encoded data removed]",
      "text/plain": [
       "<Figure size 432x288 with 1 Axes>"
      ]
     },
     "metadata": {
      "needs_background": "light"
     },
     "output_type": "display_data"
    }
   ],
   "source": [
    "# Визуализиаруем\n",
    "data_center.pivot_table(index='month', values='last_price', aggfunc ='median').plot(kind='bar', rot=0, color='y', legend=None)\n",
    "plt.title('Связь между ценой и месяцем публикации объявления')\n",
    "plt.ylabel('Цена')\n",
    "plt.xlabel('Месяц')\n",
    "plt.show()"
   ]
  },
  {
   "cell_type": "markdown",
   "metadata": {},
   "source": [
    "**Вывод:** по всей выборке выше всего цена стоит на объявлениях, размещенных в апреле (4800000), в выборке по центру выше всего цена на январских объявлениях (10550000). Дальше резкий спад цены до минимальной в июне (4400000) в обеих выборках. Далее говорить о какой-либо связи сложно."
   ]
  },
  {
   "cell_type": "markdown",
   "metadata": {},
   "source": [
    "**Изучим зависимость цены от года**"
   ]
  },
  {
   "cell_type": "code",
   "execution_count": 436,
   "metadata": {},
   "outputs": [
    {
     "data": {
      "text/html": [
       "<div>\n",
       "<style scoped>\n",
       "    .dataframe tbody tr th:only-of-type {\n",
       "        vertical-align: middle;\n",
       "    }\n",
       "\n",
       "    .dataframe tbody tr th {\n",
       "        vertical-align: top;\n",
       "    }\n",
       "\n",
       "    .dataframe thead th {\n",
       "        text-align: right;\n",
       "    }\n",
       "</style>\n",
       "<table border=\"1\" class=\"dataframe\">\n",
       "  <thead>\n",
       "    <tr style=\"text-align: right;\">\n",
       "      <th></th>\n",
       "      <th>last_price</th>\n",
       "    </tr>\n",
       "    <tr>\n",
       "      <th>year</th>\n",
       "      <th></th>\n",
       "    </tr>\n",
       "  </thead>\n",
       "  <tbody>\n",
       "    <tr>\n",
       "      <th>2014</th>\n",
       "      <td>20600000</td>\n",
       "    </tr>\n",
       "    <tr>\n",
       "      <th>2015</th>\n",
       "      <td>10600000</td>\n",
       "    </tr>\n",
       "    <tr>\n",
       "      <th>2016</th>\n",
       "      <td>9300000</td>\n",
       "    </tr>\n",
       "    <tr>\n",
       "      <th>2017</th>\n",
       "      <td>9150000</td>\n",
       "    </tr>\n",
       "    <tr>\n",
       "      <th>2018</th>\n",
       "      <td>9285000</td>\n",
       "    </tr>\n",
       "    <tr>\n",
       "      <th>2019</th>\n",
       "      <td>10000000</td>\n",
       "    </tr>\n",
       "  </tbody>\n",
       "</table>\n",
       "</div>"
      ],
      "text/plain": [
       "      last_price\n",
       "year            \n",
       "2014    20600000\n",
       "2015    10600000\n",
       "2016     9300000\n",
       "2017     9150000\n",
       "2018     9285000\n",
       "2019    10000000"
      ]
     },
     "execution_count": 436,
     "metadata": {},
     "output_type": "execute_result"
    }
   ],
   "source": [
    "# Изучим зависимость цены от года\n",
    "data_center.pivot_table(index='year', values='last_price', aggfunc ='median')"
   ]
  },
  {
   "cell_type": "code",
   "execution_count": 437,
   "metadata": {},
   "outputs": [
    {
     "data": {
      "image/png": "[encoded data removed]",
      "text/plain": [
       "<Figure size 432x288 with 1 Axes>"
      ]
     },
     "metadata": {
      "needs_background": "light"
     },
     "output_type": "display_data"
    }
   ],
   "source": [
    "# Визуализиаруем\n",
    "data_center.pivot_table(index='year', values='last_price', aggfunc ='median').plot(kind='bar', rot=0, color='y', legend=None)\n",
    "plt.title('Связь между ценой и годом публикации объявления')\n",
    "plt.ylabel('Цена')\n",
    "plt.xlabel('Год')\n",
    "plt.show()"
   ]
  },
  {
   "cell_type": "markdown",
   "metadata": {},
   "source": [
    "**Вывод:** также как и во всей области недвижимость стоила выше всего в 2014, дальше резкий спад."
   ]
  },
  {
   "cell_type": "markdown",
   "metadata": {},
   "source": [
    "**Общий вывод:** в целом, на стоимость недвижимости в центре влияют те же факторы, что и на всю недвижимость. "
   ]
  },
  {
   "cell_type": "markdown",
   "metadata": {},
   "source": [
    "## Общий вывод"
   ]
  },
  {
   "cell_type": "markdown",
   "metadata": {},
   "source": [
    "Таким образом, исследование было выполнено в четыре этапа:\n",
    "\n",
    "1. **Обзор данных.** На этом этапе были выявлены столбцы с пропусками и высказаны предположения по их природе.\n",
    "2. **Предобработка данных.** На этом этапе были заполнены пропуски, некоторые данные были приведены в нужный формат.\n",
    "3. **Подготовка данных: рассчеты**. На этом этапе были рассчитаны цена квадратного метра, соотношение площадей, категоризированы этажи, а также была разделена дата на день недели, месяц и год для дальнейшего исследования.\n",
    "4. **Исследовательский анализ.** На этом этапе были выявлены и устранены редкие и выбивающиеся значения. Проанализировано время продажи. Выделена центральная область. Для выявления зависимости для колличественных данных был рассчитан коэффициент корреляции Пирсона, для категориальных построены сводные таблиц, а также построены графики, чтобы наглядно показать есть ли зависимость между ними.\n",
    "\n",
    "**Исследовательский анализ: выводы**\n",
    "* **Изучение основных параметров: площадь, цена, число комнат, высота потолков.** Средняя площадь недвижимости равна 60м, чаще всего встречаются квартиры с площадью около 50м. Средняя цена недвижимости равна 7 миллионам, а чаще всего встречаются квартиры стоимостью в 5 миллионов. Среднее число комнат в квартирах равно 2, чаще всего встречаются однокомнатные квартиры. Средняя высота потолков примерно равна 2.7м, чаще всего встречаются квартиры с потолками 2.65м\n",
    "* **Изучение времени продажи квартир.** В среднем недвижимость продают за 180 дней, чаще всего это происходит за 95 дней. Действительно быстрая продажа - продажа в течении 45 дней со дня выставления. А долгая продажа - продажа, длящаяся более 232 дней.\n",
    "* **Изучение факторов, влияющих на рыночную стоимость недвижимости.** Больше всего на стоимость недвижимости влияет ее площадь, количество комнат и этаж.\n",
    "* **Изучение сегмента квартир в центре.** Центр города - это территория не далее 5 км от центральной точки. Средняя площадь недвижимости в центре равна 96м, чаще всего встречаются квартиры с площадью около 80м. Средняя цена недвижимости равна 13 миллионам, а чаще всего встречаются квартиры стоимостью в 10 миллионов. Среднее число комнат в квартирах равно 3, они также чаще всего встречаются. Средняя высота потолков примерно равна 3м, чаще всего встречаются квартиры с потолками 2.9м. По всем параметрам средние показатели для центральной недвижимости выше, чем для остальной. На стоимость влияют те же факторы."
   ]
  }
 ],
 "metadata": {
  "ExecuteTimeLog": [
   {
    "duration": 356,
    "start_time": "2022-03-15T08:59:10.574Z"
   },
   {
    "duration": 106,
    "start_time": "2022-03-15T09:00:31.681Z"
   },
   {
    "duration": 882,
    "start_time": "2022-03-15T09:00:38.439Z"
   },
   {
    "duration": 22,
    "start_time": "2022-03-15T09:00:44.944Z"
   },
   {
    "duration": 94,
    "start_time": "2022-03-15T10:56:52.954Z"
   },
   {
    "duration": 138,
    "start_time": "2022-03-15T10:56:58.709Z"
   },
   {
    "duration": 14,
    "start_time": "2022-03-15T10:57:45.875Z"
   },
   {
    "duration": 7,
    "start_time": "2022-03-15T11:20:49.179Z"
   },
   {
    "duration": 55,
    "start_time": "2022-03-15T11:27:12.519Z"
   },
   {
    "duration": 2144,
    "start_time": "2022-03-15T11:30:28.975Z"
   },
   {
    "duration": 57,
    "start_time": "2022-03-15T11:31:05.323Z"
   },
   {
    "duration": 69,
    "start_time": "2022-03-15T11:31:34.991Z"
   },
   {
    "duration": 8,
    "start_time": "2022-03-15T11:33:23.727Z"
   },
   {
    "duration": 9,
    "start_time": "2022-03-15T11:33:30.200Z"
   },
   {
    "duration": 14,
    "start_time": "2022-03-15T11:34:00.769Z"
   },
   {
    "duration": 79,
    "start_time": "2022-03-15T11:41:02.378Z"
   },
   {
    "duration": 8,
    "start_time": "2022-03-15T12:32:49.604Z"
   },
   {
    "duration": 337,
    "start_time": "2022-03-15T12:33:27.398Z"
   },
   {
    "duration": 324,
    "start_time": "2022-03-15T12:33:34.282Z"
   },
   {
    "duration": 5,
    "start_time": "2022-03-15T12:33:50.495Z"
   },
   {
    "duration": 16,
    "start_time": "2022-03-15T12:34:11.372Z"
   },
   {
    "duration": 5,
    "start_time": "2022-03-15T12:34:23.011Z"
   },
   {
    "duration": 373,
    "start_time": "2022-03-15T12:34:24.884Z"
   },
   {
    "duration": 88,
    "start_time": "2022-03-15T12:34:31.225Z"
   },
   {
    "duration": 12,
    "start_time": "2022-03-15T12:34:31.315Z"
   },
   {
    "duration": 150,
    "start_time": "2022-03-15T12:34:31.330Z"
   },
   {
    "duration": 15,
    "start_time": "2022-03-15T12:34:31.483Z"
   },
   {
    "duration": 8,
    "start_time": "2022-03-15T12:34:31.501Z"
   },
   {
    "duration": 42,
    "start_time": "2022-03-15T12:34:31.511Z"
   },
   {
    "duration": 4,
    "start_time": "2022-03-15T12:34:31.556Z"
   },
   {
    "duration": 356,
    "start_time": "2022-03-15T12:34:31.563Z"
   },
   {
    "duration": 15,
    "start_time": "2022-03-15T12:34:31.906Z"
   },
   {
    "duration": 350,
    "start_time": "2022-03-15T12:34:37.527Z"
   },
   {
    "duration": 4448,
    "start_time": "2022-03-15T12:34:56.309Z"
   },
   {
    "duration": 36,
    "start_time": "2022-03-15T12:35:00.724Z"
   },
   {
    "duration": 72,
    "start_time": "2022-03-15T12:35:11.431Z"
   },
   {
    "duration": 11,
    "start_time": "2022-03-15T12:35:11.506Z"
   },
   {
    "duration": 142,
    "start_time": "2022-03-15T12:35:11.520Z"
   },
   {
    "duration": 17,
    "start_time": "2022-03-15T12:35:11.665Z"
   },
   {
    "duration": 6,
    "start_time": "2022-03-15T12:35:11.684Z"
   },
   {
    "duration": 12,
    "start_time": "2022-03-15T12:35:11.692Z"
   },
   {
    "duration": 38,
    "start_time": "2022-03-15T12:35:11.706Z"
   },
   {
    "duration": 15,
    "start_time": "2022-03-15T12:35:11.747Z"
   },
   {
    "duration": 5,
    "start_time": "2022-03-15T12:35:11.764Z"
   },
   {
    "duration": 7,
    "start_time": "2022-03-15T12:37:16.840Z"
   },
   {
    "duration": 8,
    "start_time": "2022-03-15T12:38:15.246Z"
   },
   {
    "duration": 8,
    "start_time": "2022-03-15T12:38:29.394Z"
   },
   {
    "duration": 8,
    "start_time": "2022-03-15T12:38:43.660Z"
   },
   {
    "duration": 111,
    "start_time": "2022-03-15T12:46:57.414Z"
   },
   {
    "duration": 8,
    "start_time": "2022-03-15T12:48:12.772Z"
   },
   {
    "duration": 17,
    "start_time": "2022-03-15T12:48:58.670Z"
   },
   {
    "duration": 7,
    "start_time": "2022-03-15T12:49:07.156Z"
   },
   {
    "duration": 8,
    "start_time": "2022-03-15T12:49:17.963Z"
   },
   {
    "duration": 6,
    "start_time": "2022-03-15T12:49:26.896Z"
   },
   {
    "duration": 6,
    "start_time": "2022-03-15T12:49:47.685Z"
   },
   {
    "duration": 7,
    "start_time": "2022-03-15T12:51:01.929Z"
   },
   {
    "duration": 104,
    "start_time": "2022-03-15T12:52:27.807Z"
   },
   {
    "duration": 9,
    "start_time": "2022-03-15T12:53:42.548Z"
   },
   {
    "duration": 59,
    "start_time": "2022-03-15T12:54:56.856Z"
   },
   {
    "duration": 581,
    "start_time": "2022-03-17T11:47:33.281Z"
   },
   {
    "duration": 22,
    "start_time": "2022-03-17T11:47:33.864Z"
   },
   {
    "duration": 181,
    "start_time": "2022-03-17T11:47:33.888Z"
   },
   {
    "duration": 22,
    "start_time": "2022-03-17T11:47:34.071Z"
   },
   {
    "duration": 8,
    "start_time": "2022-03-17T11:47:34.096Z"
   },
   {
    "duration": 14,
    "start_time": "2022-03-17T11:47:34.106Z"
   },
   {
    "duration": 51,
    "start_time": "2022-03-17T11:47:34.122Z"
   },
   {
    "duration": 8,
    "start_time": "2022-03-17T11:47:34.175Z"
   },
   {
    "duration": 10,
    "start_time": "2022-03-17T11:47:34.185Z"
   },
   {
    "duration": 10,
    "start_time": "2022-03-17T11:47:34.197Z"
   },
   {
    "duration": 61,
    "start_time": "2022-03-17T11:47:34.208Z"
   },
   {
    "duration": 6,
    "start_time": "2022-03-17T11:47:34.271Z"
   },
   {
    "duration": 6,
    "start_time": "2022-03-17T12:21:30.828Z"
   },
   {
    "duration": 7,
    "start_time": "2022-03-17T12:21:52.825Z"
   },
   {
    "duration": 66,
    "start_time": "2022-03-17T12:30:59.097Z"
   },
   {
    "duration": 88,
    "start_time": "2022-03-17T12:33:57.135Z"
   },
   {
    "duration": 72,
    "start_time": "2022-03-17T14:33:48.451Z"
   },
   {
    "duration": 595,
    "start_time": "2022-03-17T14:33:52.903Z"
   },
   {
    "duration": 30,
    "start_time": "2022-03-17T14:33:53.502Z"
   },
   {
    "duration": 174,
    "start_time": "2022-03-17T14:33:53.534Z"
   },
   {
    "duration": 22,
    "start_time": "2022-03-17T14:33:53.711Z"
   },
   {
    "duration": 7,
    "start_time": "2022-03-17T14:33:53.735Z"
   },
   {
    "duration": 12,
    "start_time": "2022-03-17T14:33:53.768Z"
   },
   {
    "duration": 4,
    "start_time": "2022-03-17T14:33:53.783Z"
   },
   {
    "duration": 7,
    "start_time": "2022-03-17T14:33:53.789Z"
   },
   {
    "duration": 6,
    "start_time": "2022-03-17T14:33:53.799Z"
   },
   {
    "duration": 171,
    "start_time": "2022-03-17T14:33:53.809Z"
   },
   {
    "duration": 8,
    "start_time": "2022-03-17T14:33:53.982Z"
   },
   {
    "duration": 948,
    "start_time": "2022-03-17T14:37:26.656Z"
   },
   {
    "duration": 17,
    "start_time": "2022-03-17T14:38:17.532Z"
   },
   {
    "duration": 10,
    "start_time": "2022-03-17T14:44:20.812Z"
   },
   {
    "duration": 12,
    "start_time": "2022-03-17T14:45:36.591Z"
   },
   {
    "duration": 12,
    "start_time": "2022-03-17T14:45:52.103Z"
   },
   {
    "duration": 10,
    "start_time": "2022-03-17T14:45:56.631Z"
   },
   {
    "duration": 118,
    "start_time": "2022-03-17T14:46:04.731Z"
   },
   {
    "duration": 9,
    "start_time": "2022-03-17T14:46:38.898Z"
   },
   {
    "duration": 13,
    "start_time": "2022-03-17T14:47:02.214Z"
   },
   {
    "duration": 9,
    "start_time": "2022-03-17T14:49:17.472Z"
   },
   {
    "duration": 8,
    "start_time": "2022-03-17T14:53:45.664Z"
   },
   {
    "duration": 8,
    "start_time": "2022-03-17T14:53:52.955Z"
   },
   {
    "duration": 66,
    "start_time": "2022-03-17T14:54:29.733Z"
   },
   {
    "duration": 25,
    "start_time": "2022-03-17T14:54:39.861Z"
   },
   {
    "duration": 264,
    "start_time": "2022-03-17T14:55:39.223Z"
   },
   {
    "duration": 34,
    "start_time": "2022-03-17T14:55:40.752Z"
   },
   {
    "duration": 66,
    "start_time": "2022-03-17T14:55:47.403Z"
   },
   {
    "duration": 7,
    "start_time": "2022-03-17T14:56:28.293Z"
   },
   {
    "duration": 6,
    "start_time": "2022-03-17T14:56:32.262Z"
   },
   {
    "duration": 68,
    "start_time": "2022-03-17T14:56:34.914Z"
   },
   {
    "duration": 6,
    "start_time": "2022-03-17T14:57:33.731Z"
   },
   {
    "duration": 84,
    "start_time": "2022-03-17T14:57:41.013Z"
   },
   {
    "duration": 12,
    "start_time": "2022-03-17T14:57:41.100Z"
   },
   {
    "duration": 161,
    "start_time": "2022-03-17T14:57:41.114Z"
   },
   {
    "duration": 20,
    "start_time": "2022-03-17T14:57:41.278Z"
   },
   {
    "duration": 8,
    "start_time": "2022-03-17T14:57:41.300Z"
   },
   {
    "duration": 11,
    "start_time": "2022-03-17T14:57:41.310Z"
   },
   {
    "duration": 44,
    "start_time": "2022-03-17T14:57:41.323Z"
   },
   {
    "duration": 7,
    "start_time": "2022-03-17T14:57:41.369Z"
   },
   {
    "duration": 9,
    "start_time": "2022-03-17T14:57:41.378Z"
   },
   {
    "duration": 113,
    "start_time": "2022-03-17T14:57:41.390Z"
   },
   {
    "duration": 8,
    "start_time": "2022-03-17T14:57:41.505Z"
   },
   {
    "duration": 9,
    "start_time": "2022-03-17T14:57:41.515Z"
   },
   {
    "duration": 52,
    "start_time": "2022-03-17T14:57:41.526Z"
   },
   {
    "duration": 15,
    "start_time": "2022-03-17T14:57:41.580Z"
   },
   {
    "duration": 7,
    "start_time": "2022-03-17T14:57:57.029Z"
   },
   {
    "duration": 6,
    "start_time": "2022-03-17T14:58:31.697Z"
   },
   {
    "duration": 26,
    "start_time": "2022-03-17T14:58:32.461Z"
   },
   {
    "duration": 60,
    "start_time": "2022-03-17T14:59:07.471Z"
   },
   {
    "duration": 439,
    "start_time": "2022-03-18T09:11:49.476Z"
   },
   {
    "duration": 16,
    "start_time": "2022-03-18T09:11:49.917Z"
   },
   {
    "duration": 118,
    "start_time": "2022-03-18T09:11:49.934Z"
   },
   {
    "duration": 15,
    "start_time": "2022-03-18T09:11:50.054Z"
   },
   {
    "duration": 4,
    "start_time": "2022-03-18T09:11:50.071Z"
   },
   {
    "duration": 14,
    "start_time": "2022-03-18T09:11:50.077Z"
   },
   {
    "duration": 5,
    "start_time": "2022-03-18T09:11:50.092Z"
   },
   {
    "duration": 7,
    "start_time": "2022-03-18T09:11:50.101Z"
   },
   {
    "duration": 30,
    "start_time": "2022-03-18T09:11:50.110Z"
   },
   {
    "duration": 60,
    "start_time": "2022-03-18T09:11:50.142Z"
   },
   {
    "duration": 6,
    "start_time": "2022-03-18T09:11:50.203Z"
   },
   {
    "duration": 30,
    "start_time": "2022-03-18T09:11:50.211Z"
   },
   {
    "duration": 40,
    "start_time": "2022-03-18T09:11:50.243Z"
   },
   {
    "duration": 9,
    "start_time": "2022-03-18T09:11:50.285Z"
   },
   {
    "duration": 124,
    "start_time": "2022-03-18T09:11:50.295Z"
   },
   {
    "duration": 66,
    "start_time": "2022-03-18T09:22:54.544Z"
   },
   {
    "duration": 67,
    "start_time": "2022-03-18T09:23:26.378Z"
   },
   {
    "duration": 7,
    "start_time": "2022-03-18T09:23:26.447Z"
   },
   {
    "duration": 112,
    "start_time": "2022-03-18T09:23:26.456Z"
   },
   {
    "duration": 14,
    "start_time": "2022-03-18T09:23:26.570Z"
   },
   {
    "duration": 6,
    "start_time": "2022-03-18T09:23:26.586Z"
   },
   {
    "duration": 10,
    "start_time": "2022-03-18T09:23:26.594Z"
   },
   {
    "duration": 32,
    "start_time": "2022-03-18T09:23:26.607Z"
   },
   {
    "duration": 7,
    "start_time": "2022-03-18T09:23:26.641Z"
   },
   {
    "duration": 8,
    "start_time": "2022-03-18T09:23:26.649Z"
   },
   {
    "duration": 64,
    "start_time": "2022-03-18T09:23:26.659Z"
   },
   {
    "duration": 15,
    "start_time": "2022-03-18T09:23:26.725Z"
   },
   {
    "duration": 6,
    "start_time": "2022-03-18T09:23:26.742Z"
   },
   {
    "duration": 4,
    "start_time": "2022-03-18T09:24:55.822Z"
   },
   {
    "duration": 9,
    "start_time": "2022-03-18T09:25:15.640Z"
   },
   {
    "duration": 85,
    "start_time": "2022-03-18T09:26:07.989Z"
   },
   {
    "duration": 9,
    "start_time": "2022-03-18T09:26:08.076Z"
   },
   {
    "duration": 114,
    "start_time": "2022-03-18T09:26:08.086Z"
   },
   {
    "duration": 14,
    "start_time": "2022-03-18T09:26:08.202Z"
   },
   {
    "duration": 22,
    "start_time": "2022-03-18T09:26:08.218Z"
   },
   {
    "duration": 11,
    "start_time": "2022-03-18T09:26:08.242Z"
   },
   {
    "duration": 4,
    "start_time": "2022-03-18T09:26:08.255Z"
   },
   {
    "duration": 7,
    "start_time": "2022-03-18T09:26:08.260Z"
   },
   {
    "duration": 6,
    "start_time": "2022-03-18T09:26:08.269Z"
   },
   {
    "duration": 103,
    "start_time": "2022-03-18T09:26:08.278Z"
   },
   {
    "duration": 6,
    "start_time": "2022-03-18T09:26:08.382Z"
   },
   {
    "duration": 9,
    "start_time": "2022-03-18T09:26:08.389Z"
   },
   {
    "duration": 5,
    "start_time": "2022-03-18T09:26:08.400Z"
   },
   {
    "duration": 13,
    "start_time": "2022-03-18T09:26:08.407Z"
   },
   {
    "duration": 1998,
    "start_time": "2022-03-18T09:26:35.319Z"
   },
   {
    "duration": 6,
    "start_time": "2022-03-18T09:26:46.235Z"
   },
   {
    "duration": 7,
    "start_time": "2022-03-18T09:27:06.068Z"
   },
   {
    "duration": 7,
    "start_time": "2022-03-18T09:27:46.383Z"
   },
   {
    "duration": 7,
    "start_time": "2022-03-18T09:28:19.937Z"
   },
   {
    "duration": 4,
    "start_time": "2022-03-18T09:29:38.717Z"
   },
   {
    "duration": 6,
    "start_time": "2022-03-18T09:29:39.755Z"
   },
   {
    "duration": 7,
    "start_time": "2022-03-18T09:34:14.493Z"
   },
   {
    "duration": 6,
    "start_time": "2022-03-18T09:34:22.068Z"
   },
   {
    "duration": 7,
    "start_time": "2022-03-18T09:34:25.337Z"
   },
   {
    "duration": 6,
    "start_time": "2022-03-18T09:34:26.605Z"
   },
   {
    "duration": 3,
    "start_time": "2022-03-18T09:34:31.519Z"
   },
   {
    "duration": 5,
    "start_time": "2022-03-18T09:34:33.062Z"
   },
   {
    "duration": 109,
    "start_time": "2022-03-18T09:38:11.585Z"
   },
   {
    "duration": 13,
    "start_time": "2022-03-18T09:38:19.299Z"
   },
   {
    "duration": 8,
    "start_time": "2022-03-18T09:38:22.075Z"
   },
   {
    "duration": 12,
    "start_time": "2022-03-18T09:38:41.127Z"
   },
   {
    "duration": 9,
    "start_time": "2022-03-18T09:39:02.571Z"
   },
   {
    "duration": 10,
    "start_time": "2022-03-18T09:39:31.033Z"
   },
   {
    "duration": 68,
    "start_time": "2022-03-18T09:39:33.602Z"
   },
   {
    "duration": 8,
    "start_time": "2022-03-18T09:39:33.672Z"
   },
   {
    "duration": 117,
    "start_time": "2022-03-18T09:39:33.682Z"
   },
   {
    "duration": 12,
    "start_time": "2022-03-18T09:39:33.801Z"
   },
   {
    "duration": 6,
    "start_time": "2022-03-18T09:39:33.815Z"
   },
   {
    "duration": 25,
    "start_time": "2022-03-18T09:39:33.822Z"
   },
   {
    "duration": 4,
    "start_time": "2022-03-18T09:39:33.848Z"
   },
   {
    "duration": 16,
    "start_time": "2022-03-18T09:39:33.853Z"
   },
   {
    "duration": 15,
    "start_time": "2022-03-18T09:39:33.871Z"
   },
   {
    "duration": 71,
    "start_time": "2022-03-18T09:39:33.889Z"
   },
   {
    "duration": 6,
    "start_time": "2022-03-18T09:39:33.962Z"
   },
   {
    "duration": 15,
    "start_time": "2022-03-18T09:39:33.970Z"
   },
   {
    "duration": 28,
    "start_time": "2022-03-18T09:39:33.986Z"
   },
   {
    "duration": 34,
    "start_time": "2022-03-18T09:39:34.016Z"
   },
   {
    "duration": 0,
    "start_time": "2022-03-18T09:39:34.052Z"
   },
   {
    "duration": 5,
    "start_time": "2022-03-18T09:39:41.717Z"
   },
   {
    "duration": 6,
    "start_time": "2022-03-18T09:42:28.047Z"
   },
   {
    "duration": 6,
    "start_time": "2022-03-18T09:42:30.460Z"
   },
   {
    "duration": 4,
    "start_time": "2022-03-18T09:42:36.359Z"
   },
   {
    "duration": 6,
    "start_time": "2022-03-18T09:42:39.116Z"
   },
   {
    "duration": 46,
    "start_time": "2022-03-18T09:43:33.881Z"
   },
   {
    "duration": 8,
    "start_time": "2022-03-18T09:44:16.676Z"
   },
   {
    "duration": 34,
    "start_time": "2022-03-18T09:44:28.024Z"
   },
   {
    "duration": 44,
    "start_time": "2022-03-18T09:45:17.479Z"
   },
   {
    "duration": 26,
    "start_time": "2022-03-18T09:45:45.519Z"
   },
   {
    "duration": 5,
    "start_time": "2022-03-18T09:46:27.022Z"
   },
   {
    "duration": 31,
    "start_time": "2022-03-18T09:46:51.332Z"
   },
   {
    "duration": 4,
    "start_time": "2022-03-18T09:47:50.199Z"
   },
   {
    "duration": 7,
    "start_time": "2022-03-18T09:50:28.192Z"
   },
   {
    "duration": 34,
    "start_time": "2022-03-18T09:56:19.862Z"
   },
   {
    "duration": 5,
    "start_time": "2022-03-18T10:17:14.688Z"
   },
   {
    "duration": 6,
    "start_time": "2022-03-18T10:17:23.753Z"
   },
   {
    "duration": 15,
    "start_time": "2022-03-18T10:24:10.991Z"
   },
   {
    "duration": 5,
    "start_time": "2022-03-18T10:24:15.595Z"
   },
   {
    "duration": 59,
    "start_time": "2022-03-18T10:24:16.182Z"
   },
   {
    "duration": 6,
    "start_time": "2022-03-18T10:31:39.195Z"
   },
   {
    "duration": 5,
    "start_time": "2022-03-18T10:31:57.784Z"
   },
   {
    "duration": 49,
    "start_time": "2022-03-18T10:32:08.289Z"
   },
   {
    "duration": 3,
    "start_time": "2022-03-18T10:37:14.946Z"
   },
   {
    "duration": 3,
    "start_time": "2022-03-18T10:37:46.799Z"
   },
   {
    "duration": 4,
    "start_time": "2022-03-18T10:37:47.289Z"
   },
   {
    "duration": 3,
    "start_time": "2022-03-18T10:37:47.861Z"
   },
   {
    "duration": 4,
    "start_time": "2022-03-18T10:37:48.261Z"
   },
   {
    "duration": 6,
    "start_time": "2022-03-18T10:38:50.012Z"
   },
   {
    "duration": 4,
    "start_time": "2022-03-18T10:38:52.849Z"
   },
   {
    "duration": 4,
    "start_time": "2022-03-18T10:38:53.385Z"
   },
   {
    "duration": 3,
    "start_time": "2022-03-18T10:39:36.883Z"
   },
   {
    "duration": 5,
    "start_time": "2022-03-18T10:40:02.460Z"
   },
   {
    "duration": 15,
    "start_time": "2022-03-18T10:43:13.257Z"
   },
   {
    "duration": 45,
    "start_time": "2022-03-19T11:17:20.554Z"
   },
   {
    "duration": 478,
    "start_time": "2022-03-19T11:17:23.471Z"
   },
   {
    "duration": 13,
    "start_time": "2022-03-19T11:17:23.950Z"
   },
   {
    "duration": 113,
    "start_time": "2022-03-19T11:17:23.964Z"
   },
   {
    "duration": 13,
    "start_time": "2022-03-19T11:17:24.079Z"
   },
   {
    "duration": 5,
    "start_time": "2022-03-19T11:17:24.101Z"
   },
   {
    "duration": 10,
    "start_time": "2022-03-19T11:17:24.107Z"
   },
   {
    "duration": 4,
    "start_time": "2022-03-19T11:17:24.118Z"
   },
   {
    "duration": 5,
    "start_time": "2022-03-19T11:17:24.123Z"
   },
   {
    "duration": 4,
    "start_time": "2022-03-19T11:17:24.129Z"
   },
   {
    "duration": 79,
    "start_time": "2022-03-19T11:17:24.135Z"
   },
   {
    "duration": 6,
    "start_time": "2022-03-19T11:17:24.215Z"
   },
   {
    "duration": 6,
    "start_time": "2022-03-19T11:17:24.222Z"
   },
   {
    "duration": 3,
    "start_time": "2022-03-19T11:17:24.229Z"
   },
   {
    "duration": 4,
    "start_time": "2022-03-19T11:17:24.234Z"
   },
   {
    "duration": 4,
    "start_time": "2022-03-19T11:17:24.240Z"
   },
   {
    "duration": 5,
    "start_time": "2022-03-19T11:17:24.245Z"
   },
   {
    "duration": 81,
    "start_time": "2022-03-19T11:17:24.251Z"
   },
   {
    "duration": 5,
    "start_time": "2022-03-19T11:17:24.333Z"
   },
   {
    "duration": 6,
    "start_time": "2022-03-19T11:17:24.339Z"
   },
   {
    "duration": 3,
    "start_time": "2022-03-19T11:17:24.347Z"
   },
   {
    "duration": 5,
    "start_time": "2022-03-19T11:17:24.352Z"
   },
   {
    "duration": 3,
    "start_time": "2022-03-19T11:17:24.358Z"
   },
   {
    "duration": 7,
    "start_time": "2022-03-19T11:17:24.362Z"
   },
   {
    "duration": 30,
    "start_time": "2022-03-19T11:17:24.371Z"
   },
   {
    "duration": 4,
    "start_time": "2022-03-19T11:17:24.402Z"
   },
   {
    "duration": 15,
    "start_time": "2022-03-19T11:17:24.407Z"
   },
   {
    "duration": 40,
    "start_time": "2022-03-19T11:17:24.423Z"
   },
   {
    "duration": 3,
    "start_time": "2022-03-19T11:28:15.608Z"
   },
   {
    "duration": 4,
    "start_time": "2022-03-19T11:28:47.075Z"
   },
   {
    "duration": 12,
    "start_time": "2022-03-19T11:28:57.592Z"
   },
   {
    "duration": 2,
    "start_time": "2022-03-19T11:30:28.155Z"
   },
   {
    "duration": 5,
    "start_time": "2022-03-19T11:30:28.740Z"
   },
   {
    "duration": 12,
    "start_time": "2022-03-19T11:30:35.343Z"
   },
   {
    "duration": 40,
    "start_time": "2022-03-19T11:31:13.022Z"
   },
   {
    "duration": 194,
    "start_time": "2022-03-19T11:34:19.275Z"
   },
   {
    "duration": 27,
    "start_time": "2022-03-19T11:34:19.759Z"
   },
   {
    "duration": 3,
    "start_time": "2022-03-19T11:35:30.257Z"
   },
   {
    "duration": 9,
    "start_time": "2022-03-19T11:35:30.754Z"
   },
   {
    "duration": 63,
    "start_time": "2022-03-19T11:35:31.421Z"
   },
   {
    "duration": 94,
    "start_time": "2022-03-19T11:35:35.818Z"
   },
   {
    "duration": 9,
    "start_time": "2022-03-19T11:35:35.914Z"
   },
   {
    "duration": 126,
    "start_time": "2022-03-19T11:35:35.924Z"
   },
   {
    "duration": 16,
    "start_time": "2022-03-19T11:35:36.053Z"
   },
   {
    "duration": 7,
    "start_time": "2022-03-19T11:35:36.070Z"
   },
   {
    "duration": 28,
    "start_time": "2022-03-19T11:35:36.079Z"
   },
   {
    "duration": 18,
    "start_time": "2022-03-19T11:35:36.109Z"
   },
   {
    "duration": 10,
    "start_time": "2022-03-19T11:35:36.128Z"
   },
   {
    "duration": 12,
    "start_time": "2022-03-19T11:35:36.139Z"
   },
   {
    "duration": 65,
    "start_time": "2022-03-19T11:35:36.155Z"
   },
   {
    "duration": 6,
    "start_time": "2022-03-19T11:35:36.222Z"
   },
   {
    "duration": 7,
    "start_time": "2022-03-19T11:35:36.230Z"
   },
   {
    "duration": 5,
    "start_time": "2022-03-19T11:35:36.238Z"
   },
   {
    "duration": 10,
    "start_time": "2022-03-19T11:35:36.245Z"
   },
   {
    "duration": 247,
    "start_time": "2022-03-19T11:35:36.258Z"
   },
   {
    "duration": 19,
    "start_time": "2022-03-19T11:35:36.506Z"
   },
   {
    "duration": 92,
    "start_time": "2022-03-19T11:35:36.526Z"
   },
   {
    "duration": 5,
    "start_time": "2022-03-19T11:35:36.620Z"
   },
   {
    "duration": 6,
    "start_time": "2022-03-19T11:35:36.626Z"
   },
   {
    "duration": 4,
    "start_time": "2022-03-19T11:35:36.634Z"
   },
   {
    "duration": 9,
    "start_time": "2022-03-19T11:35:36.639Z"
   },
   {
    "duration": 7,
    "start_time": "2022-03-19T11:35:36.649Z"
   },
   {
    "duration": 10,
    "start_time": "2022-03-19T11:35:36.657Z"
   },
   {
    "duration": 7,
    "start_time": "2022-03-19T11:35:36.668Z"
   },
   {
    "duration": 33,
    "start_time": "2022-03-19T11:35:36.677Z"
   },
   {
    "duration": 19,
    "start_time": "2022-03-19T11:35:36.712Z"
   },
   {
    "duration": 69,
    "start_time": "2022-03-19T11:35:36.733Z"
   },
   {
    "duration": 3,
    "start_time": "2022-03-19T11:35:36.806Z"
   },
   {
    "duration": 13,
    "start_time": "2022-03-19T11:35:36.810Z"
   },
   {
    "duration": 0,
    "start_time": "2022-03-19T11:35:36.825Z"
   },
   {
    "duration": 69,
    "start_time": "2022-03-19T11:35:50.590Z"
   },
   {
    "duration": 8,
    "start_time": "2022-03-19T11:35:50.661Z"
   },
   {
    "duration": 124,
    "start_time": "2022-03-19T11:35:50.671Z"
   },
   {
    "duration": 12,
    "start_time": "2022-03-19T11:35:50.801Z"
   },
   {
    "duration": 4,
    "start_time": "2022-03-19T11:35:50.814Z"
   },
   {
    "duration": 9,
    "start_time": "2022-03-19T11:35:50.820Z"
   },
   {
    "duration": 3,
    "start_time": "2022-03-19T11:35:50.830Z"
   },
   {
    "duration": 5,
    "start_time": "2022-03-19T11:35:50.835Z"
   },
   {
    "duration": 4,
    "start_time": "2022-03-19T11:35:50.842Z"
   },
   {
    "duration": 91,
    "start_time": "2022-03-19T11:35:50.848Z"
   },
   {
    "duration": 5,
    "start_time": "2022-03-19T11:35:50.940Z"
   },
   {
    "duration": 6,
    "start_time": "2022-03-19T11:35:50.947Z"
   },
   {
    "duration": 4,
    "start_time": "2022-03-19T11:35:50.955Z"
   },
   {
    "duration": 4,
    "start_time": "2022-03-19T11:35:50.961Z"
   },
   {
    "duration": 5,
    "start_time": "2022-03-19T11:35:50.967Z"
   },
   {
    "duration": 28,
    "start_time": "2022-03-19T11:35:50.974Z"
   },
   {
    "duration": 58,
    "start_time": "2022-03-19T11:35:51.004Z"
   },
   {
    "duration": 5,
    "start_time": "2022-03-19T11:35:51.063Z"
   },
   {
    "duration": 6,
    "start_time": "2022-03-19T11:35:51.070Z"
   },
   {
    "duration": 4,
    "start_time": "2022-03-19T11:35:51.101Z"
   },
   {
    "duration": 5,
    "start_time": "2022-03-19T11:35:51.106Z"
   },
   {
    "duration": 6,
    "start_time": "2022-03-19T11:35:51.112Z"
   },
   {
    "duration": 10,
    "start_time": "2022-03-19T11:35:51.119Z"
   },
   {
    "duration": 9,
    "start_time": "2022-03-19T11:35:51.130Z"
   },
   {
    "duration": 9,
    "start_time": "2022-03-19T11:35:51.140Z"
   },
   {
    "duration": 18,
    "start_time": "2022-03-19T11:35:51.150Z"
   },
   {
    "duration": 52,
    "start_time": "2022-03-19T11:35:51.170Z"
   },
   {
    "duration": 2,
    "start_time": "2022-03-19T11:35:51.225Z"
   },
   {
    "duration": 8,
    "start_time": "2022-03-19T11:35:51.229Z"
   },
   {
    "duration": 47,
    "start_time": "2022-03-19T11:35:51.239Z"
   },
   {
    "duration": 2,
    "start_time": "2022-03-19T11:37:55.844Z"
   },
   {
    "duration": 5,
    "start_time": "2022-03-19T11:37:56.386Z"
   },
   {
    "duration": 38,
    "start_time": "2022-03-19T11:37:57.175Z"
   },
   {
    "duration": 5,
    "start_time": "2022-03-19T11:43:06.385Z"
   },
   {
    "duration": 39,
    "start_time": "2022-03-19T11:43:12.359Z"
   },
   {
    "duration": 6,
    "start_time": "2022-03-19T11:43:22.185Z"
   },
   {
    "duration": 38,
    "start_time": "2022-03-19T11:43:23.146Z"
   },
   {
    "duration": 42,
    "start_time": "2022-03-19T11:43:33.605Z"
   },
   {
    "duration": 40,
    "start_time": "2022-03-19T11:43:43.000Z"
   },
   {
    "duration": 1,
    "start_time": "2022-03-19T11:43:47.874Z"
   },
   {
    "duration": 40,
    "start_time": "2022-03-19T11:43:58.736Z"
   },
   {
    "duration": 44,
    "start_time": "2022-03-19T11:44:00.806Z"
   },
   {
    "duration": 81,
    "start_time": "2022-03-19T11:44:03.335Z"
   },
   {
    "duration": 8,
    "start_time": "2022-03-19T11:44:03.418Z"
   },
   {
    "duration": 113,
    "start_time": "2022-03-19T11:44:03.428Z"
   },
   {
    "duration": 13,
    "start_time": "2022-03-19T11:44:03.542Z"
   },
   {
    "duration": 5,
    "start_time": "2022-03-19T11:44:03.557Z"
   },
   {
    "duration": 9,
    "start_time": "2022-03-19T11:44:03.563Z"
   },
   {
    "duration": 3,
    "start_time": "2022-03-19T11:44:03.573Z"
   },
   {
    "duration": 4,
    "start_time": "2022-03-19T11:44:03.601Z"
   },
   {
    "duration": 5,
    "start_time": "2022-03-19T11:44:03.607Z"
   },
   {
    "duration": 55,
    "start_time": "2022-03-19T11:44:03.613Z"
   },
   {
    "duration": 5,
    "start_time": "2022-03-19T11:44:03.670Z"
   },
   {
    "duration": 28,
    "start_time": "2022-03-19T11:44:03.676Z"
   },
   {
    "duration": 3,
    "start_time": "2022-03-19T11:44:03.706Z"
   },
   {
    "duration": 5,
    "start_time": "2022-03-19T11:44:03.712Z"
   },
   {
    "duration": 5,
    "start_time": "2022-03-19T11:44:03.719Z"
   },
   {
    "duration": 8,
    "start_time": "2022-03-19T11:44:03.726Z"
   },
   {
    "duration": 103,
    "start_time": "2022-03-19T11:44:03.735Z"
   },
   {
    "duration": 5,
    "start_time": "2022-03-19T11:44:03.840Z"
   },
   {
    "duration": 6,
    "start_time": "2022-03-19T11:44:03.846Z"
   },
   {
    "duration": 7,
    "start_time": "2022-03-19T11:44:03.854Z"
   },
   {
    "duration": 5,
    "start_time": "2022-03-19T11:44:03.862Z"
   },
   {
    "duration": 7,
    "start_time": "2022-03-19T11:44:03.869Z"
   },
   {
    "duration": 10,
    "start_time": "2022-03-19T11:44:03.878Z"
   },
   {
    "duration": 4,
    "start_time": "2022-03-19T11:44:03.900Z"
   },
   {
    "duration": 9,
    "start_time": "2022-03-19T11:44:03.906Z"
   },
   {
    "duration": 18,
    "start_time": "2022-03-19T11:44:03.916Z"
   },
   {
    "duration": 41,
    "start_time": "2022-03-19T11:44:03.936Z"
   },
   {
    "duration": 58,
    "start_time": "2022-03-19T11:44:03.979Z"
   },
   {
    "duration": 2,
    "start_time": "2022-03-19T11:44:04.039Z"
   },
   {
    "duration": 7,
    "start_time": "2022-03-19T11:44:04.043Z"
   },
   {
    "duration": 58,
    "start_time": "2022-03-19T11:44:04.052Z"
   },
   {
    "duration": 24,
    "start_time": "2022-03-19T11:56:34.387Z"
   },
   {
    "duration": 39,
    "start_time": "2022-03-19T11:57:37.259Z"
   },
   {
    "duration": 2,
    "start_time": "2022-03-19T11:57:38.155Z"
   },
   {
    "duration": 6,
    "start_time": "2022-03-19T11:57:40.101Z"
   },
   {
    "duration": 187,
    "start_time": "2022-03-19T12:07:13.627Z"
   },
   {
    "duration": 7,
    "start_time": "2022-03-19T12:07:21.314Z"
   },
   {
    "duration": 6,
    "start_time": "2022-03-19T12:07:37.390Z"
   },
   {
    "duration": 5,
    "start_time": "2022-03-19T13:27:14.857Z"
   },
   {
    "duration": 34,
    "start_time": "2022-03-19T13:27:15.804Z"
   },
   {
    "duration": 473,
    "start_time": "2022-03-22T13:26:32.404Z"
   },
   {
    "duration": 15,
    "start_time": "2022-03-22T13:26:32.879Z"
   },
   {
    "duration": 106,
    "start_time": "2022-03-22T13:26:32.896Z"
   },
   {
    "duration": 14,
    "start_time": "2022-03-22T13:26:33.004Z"
   },
   {
    "duration": 5,
    "start_time": "2022-03-22T13:26:33.020Z"
   },
   {
    "duration": 9,
    "start_time": "2022-03-22T13:26:33.026Z"
   },
   {
    "duration": 3,
    "start_time": "2022-03-22T13:26:33.037Z"
   },
   {
    "duration": 6,
    "start_time": "2022-03-22T13:26:33.042Z"
   },
   {
    "duration": 6,
    "start_time": "2022-03-22T13:26:33.049Z"
   },
   {
    "duration": 91,
    "start_time": "2022-03-22T13:26:33.058Z"
   },
   {
    "duration": 5,
    "start_time": "2022-03-22T13:26:33.150Z"
   },
   {
    "duration": 6,
    "start_time": "2022-03-22T13:26:33.156Z"
   },
   {
    "duration": 4,
    "start_time": "2022-03-22T13:26:33.163Z"
   },
   {
    "duration": 4,
    "start_time": "2022-03-22T13:26:33.169Z"
   },
   {
    "duration": 30,
    "start_time": "2022-03-22T13:26:33.175Z"
   },
   {
    "duration": 6,
    "start_time": "2022-03-22T13:26:33.207Z"
   },
   {
    "duration": 56,
    "start_time": "2022-03-22T13:26:33.214Z"
   },
   {
    "duration": 5,
    "start_time": "2022-03-22T13:26:33.272Z"
   },
   {
    "duration": 25,
    "start_time": "2022-03-22T13:26:33.279Z"
   },
   {
    "duration": 6,
    "start_time": "2022-03-22T13:26:33.305Z"
   },
   {
    "duration": 6,
    "start_time": "2022-03-22T13:26:33.312Z"
   },
   {
    "duration": 3,
    "start_time": "2022-03-22T13:26:33.320Z"
   },
   {
    "duration": 5,
    "start_time": "2022-03-22T13:26:33.324Z"
   },
   {
    "duration": 7,
    "start_time": "2022-03-22T13:26:33.331Z"
   },
   {
    "duration": 9,
    "start_time": "2022-03-22T13:26:33.340Z"
   },
   {
    "duration": 16,
    "start_time": "2022-03-22T13:26:33.350Z"
   },
   {
    "duration": 70,
    "start_time": "2022-03-22T13:26:33.368Z"
   },
   {
    "duration": 2,
    "start_time": "2022-03-22T13:26:33.442Z"
   },
   {
    "duration": 6,
    "start_time": "2022-03-22T13:26:33.446Z"
   },
   {
    "duration": 63,
    "start_time": "2022-03-22T13:26:33.454Z"
   },
   {
    "duration": 254,
    "start_time": "2022-03-22T13:26:33.519Z"
   },
   {
    "duration": 0,
    "start_time": "2022-03-22T13:26:33.775Z"
   },
   {
    "duration": 0,
    "start_time": "2022-03-22T13:26:33.776Z"
   },
   {
    "duration": 0,
    "start_time": "2022-03-22T13:26:33.777Z"
   },
   {
    "duration": 0,
    "start_time": "2022-03-22T13:26:33.778Z"
   },
   {
    "duration": 5,
    "start_time": "2022-03-22T13:26:48.165Z"
   },
   {
    "duration": 5,
    "start_time": "2022-03-22T13:28:10.927Z"
   },
   {
    "duration": 5,
    "start_time": "2022-03-22T13:28:34.803Z"
   },
   {
    "duration": 18,
    "start_time": "2022-03-22T13:28:50.380Z"
   },
   {
    "duration": 6,
    "start_time": "2022-03-22T13:29:57.035Z"
   },
   {
    "duration": 6,
    "start_time": "2022-03-22T13:30:05.893Z"
   },
   {
    "duration": 16,
    "start_time": "2022-03-22T13:30:15.603Z"
   },
   {
    "duration": 12,
    "start_time": "2022-03-22T13:30:28.604Z"
   },
   {
    "duration": 5,
    "start_time": "2022-03-22T13:30:30.066Z"
   },
   {
    "duration": 57,
    "start_time": "2022-03-22T13:30:33.827Z"
   },
   {
    "duration": 45,
    "start_time": "2022-03-22T13:30:55.998Z"
   },
   {
    "duration": 75,
    "start_time": "2022-03-22T13:31:00.174Z"
   },
   {
    "duration": 8,
    "start_time": "2022-03-22T13:31:00.251Z"
   },
   {
    "duration": 146,
    "start_time": "2022-03-22T13:31:00.261Z"
   },
   {
    "duration": 14,
    "start_time": "2022-03-22T13:31:00.410Z"
   },
   {
    "duration": 7,
    "start_time": "2022-03-22T13:31:00.426Z"
   },
   {
    "duration": 27,
    "start_time": "2022-03-22T13:31:00.435Z"
   },
   {
    "duration": 14,
    "start_time": "2022-03-22T13:31:00.464Z"
   },
   {
    "duration": 8,
    "start_time": "2022-03-22T13:31:00.480Z"
   },
   {
    "duration": 12,
    "start_time": "2022-03-22T13:31:00.490Z"
   },
   {
    "duration": 73,
    "start_time": "2022-03-22T13:31:00.505Z"
   },
   {
    "duration": 4,
    "start_time": "2022-03-22T13:31:00.580Z"
   },
   {
    "duration": 31,
    "start_time": "2022-03-22T13:31:00.585Z"
   },
   {
    "duration": 33,
    "start_time": "2022-03-22T13:31:00.618Z"
   },
   {
    "duration": 17,
    "start_time": "2022-03-22T13:31:00.653Z"
   },
   {
    "duration": 27,
    "start_time": "2022-03-22T13:31:00.672Z"
   },
   {
    "duration": 15,
    "start_time": "2022-03-22T13:31:00.701Z"
   },
   {
    "duration": 104,
    "start_time": "2022-03-22T13:31:00.718Z"
   },
   {
    "duration": 6,
    "start_time": "2022-03-22T13:31:00.823Z"
   },
   {
    "duration": 16,
    "start_time": "2022-03-22T13:31:00.830Z"
   },
   {
    "duration": 23,
    "start_time": "2022-03-22T13:31:00.848Z"
   },
   {
    "duration": 17,
    "start_time": "2022-03-22T13:31:00.872Z"
   },
   {
    "duration": 29,
    "start_time": "2022-03-22T13:31:00.891Z"
   },
   {
    "duration": 36,
    "start_time": "2022-03-22T13:31:00.922Z"
   },
   {
    "duration": 27,
    "start_time": "2022-03-22T13:31:00.960Z"
   },
   {
    "duration": 14,
    "start_time": "2022-03-22T13:31:00.989Z"
   },
   {
    "duration": 15,
    "start_time": "2022-03-22T13:31:01.005Z"
   },
   {
    "duration": 46,
    "start_time": "2022-03-22T13:31:01.022Z"
   },
   {
    "duration": 3,
    "start_time": "2022-03-22T13:31:01.071Z"
   },
   {
    "duration": 29,
    "start_time": "2022-03-22T13:31:01.076Z"
   },
   {
    "duration": 8,
    "start_time": "2022-03-22T13:31:01.107Z"
   },
   {
    "duration": 8,
    "start_time": "2022-03-22T13:31:01.117Z"
   },
   {
    "duration": 13,
    "start_time": "2022-03-22T13:31:01.127Z"
   },
   {
    "duration": 18,
    "start_time": "2022-03-22T13:31:01.142Z"
   },
   {
    "duration": 40,
    "start_time": "2022-03-22T13:31:01.162Z"
   },
   {
    "duration": 8,
    "start_time": "2022-03-22T13:31:01.204Z"
   },
   {
    "duration": 68,
    "start_time": "2022-03-22T13:31:01.214Z"
   },
   {
    "duration": 0,
    "start_time": "2022-03-22T13:31:01.284Z"
   },
   {
    "duration": 3,
    "start_time": "2022-03-22T13:31:30.145Z"
   },
   {
    "duration": 2,
    "start_time": "2022-03-22T13:31:33.600Z"
   },
   {
    "duration": 3,
    "start_time": "2022-03-22T13:31:34.215Z"
   },
   {
    "duration": 4,
    "start_time": "2022-03-22T13:31:43.470Z"
   },
   {
    "duration": 6,
    "start_time": "2022-03-22T13:31:43.965Z"
   },
   {
    "duration": 74,
    "start_time": "2022-03-22T13:32:03.912Z"
   },
   {
    "duration": 6,
    "start_time": "2022-03-22T13:32:24.066Z"
   },
   {
    "duration": 51,
    "start_time": "2022-03-22T13:32:31.183Z"
   },
   {
    "duration": 1422,
    "start_time": "2022-03-22T13:33:00.321Z"
   },
   {
    "duration": 723,
    "start_time": "2022-03-22T13:33:37.957Z"
   },
   {
    "duration": 8,
    "start_time": "2022-03-22T13:33:38.683Z"
   },
   {
    "duration": 120,
    "start_time": "2022-03-22T13:33:38.692Z"
   },
   {
    "duration": 14,
    "start_time": "2022-03-22T13:33:38.813Z"
   },
   {
    "duration": 6,
    "start_time": "2022-03-22T13:33:38.829Z"
   },
   {
    "duration": 18,
    "start_time": "2022-03-22T13:33:38.836Z"
   },
   {
    "duration": 4,
    "start_time": "2022-03-22T13:33:38.856Z"
   },
   {
    "duration": 7,
    "start_time": "2022-03-22T13:33:38.861Z"
   },
   {
    "duration": 13,
    "start_time": "2022-03-22T13:33:38.870Z"
   },
   {
    "duration": 93,
    "start_time": "2022-03-22T13:33:38.901Z"
   },
   {
    "duration": 5,
    "start_time": "2022-03-22T13:33:38.996Z"
   },
   {
    "duration": 24,
    "start_time": "2022-03-22T13:33:39.002Z"
   },
   {
    "duration": 20,
    "start_time": "2022-03-22T13:33:39.028Z"
   },
   {
    "duration": 7,
    "start_time": "2022-03-22T13:33:39.052Z"
   },
   {
    "duration": 5,
    "start_time": "2022-03-22T13:33:39.061Z"
   },
   {
    "duration": 6,
    "start_time": "2022-03-22T13:33:39.068Z"
   },
   {
    "duration": 54,
    "start_time": "2022-03-22T13:33:39.075Z"
   },
   {
    "duration": 5,
    "start_time": "2022-03-22T13:33:39.131Z"
   },
   {
    "duration": 6,
    "start_time": "2022-03-22T13:33:39.137Z"
   },
   {
    "duration": 5,
    "start_time": "2022-03-22T13:33:39.144Z"
   },
   {
    "duration": 5,
    "start_time": "2022-03-22T13:33:39.151Z"
   },
   {
    "duration": 7,
    "start_time": "2022-03-22T13:33:39.157Z"
   },
   {
    "duration": 9,
    "start_time": "2022-03-22T13:33:39.166Z"
   },
   {
    "duration": 24,
    "start_time": "2022-03-22T13:33:39.177Z"
   },
   {
    "duration": 5,
    "start_time": "2022-03-22T13:33:39.202Z"
   },
   {
    "duration": 18,
    "start_time": "2022-03-22T13:33:39.209Z"
   },
   {
    "duration": 39,
    "start_time": "2022-03-22T13:33:39.229Z"
   },
   {
    "duration": 2,
    "start_time": "2022-03-22T13:33:39.269Z"
   },
   {
    "duration": 49,
    "start_time": "2022-03-22T13:33:39.273Z"
   },
   {
    "duration": 7,
    "start_time": "2022-03-22T13:33:39.324Z"
   },
   {
    "duration": 3,
    "start_time": "2022-03-22T13:33:39.333Z"
   },
   {
    "duration": 42,
    "start_time": "2022-03-22T13:33:39.338Z"
   },
   {
    "duration": 25,
    "start_time": "2022-03-22T13:33:39.382Z"
   },
   {
    "duration": 8,
    "start_time": "2022-03-22T13:33:39.409Z"
   },
   {
    "duration": 8,
    "start_time": "2022-03-22T13:33:39.418Z"
   },
   {
    "duration": 0,
    "start_time": "2022-03-22T13:33:39.429Z"
   },
   {
    "duration": 111,
    "start_time": "2022-03-22T13:34:10.013Z"
   },
   {
    "duration": 11,
    "start_time": "2022-03-22T13:34:10.127Z"
   },
   {
    "duration": 141,
    "start_time": "2022-03-22T13:34:10.140Z"
   },
   {
    "duration": 26,
    "start_time": "2022-03-22T13:34:10.283Z"
   },
   {
    "duration": 7,
    "start_time": "2022-03-22T13:34:10.311Z"
   },
   {
    "duration": 11,
    "start_time": "2022-03-22T13:34:10.320Z"
   },
   {
    "duration": 4,
    "start_time": "2022-03-22T13:34:10.333Z"
   },
   {
    "duration": 8,
    "start_time": "2022-03-22T13:34:10.339Z"
   },
   {
    "duration": 14,
    "start_time": "2022-03-22T13:34:10.348Z"
   },
   {
    "duration": 101,
    "start_time": "2022-03-22T13:34:10.401Z"
   },
   {
    "duration": 6,
    "start_time": "2022-03-22T13:34:10.505Z"
   },
   {
    "duration": 9,
    "start_time": "2022-03-22T13:34:10.515Z"
   },
   {
    "duration": 4,
    "start_time": "2022-03-22T13:34:10.526Z"
   },
   {
    "duration": 7,
    "start_time": "2022-03-22T13:34:10.532Z"
   },
   {
    "duration": 6,
    "start_time": "2022-03-22T13:34:10.541Z"
   },
   {
    "duration": 7,
    "start_time": "2022-03-22T13:34:10.549Z"
   },
   {
    "duration": 100,
    "start_time": "2022-03-22T13:34:10.557Z"
   },
   {
    "duration": 8,
    "start_time": "2022-03-22T13:34:10.659Z"
   },
   {
    "duration": 7,
    "start_time": "2022-03-22T13:34:10.669Z"
   },
   {
    "duration": 23,
    "start_time": "2022-03-22T13:34:10.678Z"
   },
   {
    "duration": 5,
    "start_time": "2022-03-22T13:34:10.704Z"
   },
   {
    "duration": 6,
    "start_time": "2022-03-22T13:34:10.711Z"
   },
   {
    "duration": 8,
    "start_time": "2022-03-22T13:34:10.719Z"
   },
   {
    "duration": 6,
    "start_time": "2022-03-22T13:34:10.729Z"
   },
   {
    "duration": 11,
    "start_time": "2022-03-22T13:34:10.736Z"
   },
   {
    "duration": 26,
    "start_time": "2022-03-22T13:34:10.749Z"
   },
   {
    "duration": 68,
    "start_time": "2022-03-22T13:34:10.802Z"
   },
   {
    "duration": 3,
    "start_time": "2022-03-22T13:34:10.874Z"
   },
   {
    "duration": 29,
    "start_time": "2022-03-22T13:34:10.879Z"
   },
   {
    "duration": 9,
    "start_time": "2022-03-22T13:34:10.910Z"
   },
   {
    "duration": 6,
    "start_time": "2022-03-22T13:34:10.921Z"
   },
   {
    "duration": 5386,
    "start_time": "2022-03-22T13:34:10.929Z"
   },
   {
    "duration": 0,
    "start_time": "2022-03-22T13:34:16.317Z"
   },
   {
    "duration": 0,
    "start_time": "2022-03-22T13:34:16.318Z"
   },
   {
    "duration": 0,
    "start_time": "2022-03-22T13:34:16.320Z"
   },
   {
    "duration": 0,
    "start_time": "2022-03-22T13:34:16.320Z"
   },
   {
    "duration": 0,
    "start_time": "2022-03-22T13:34:16.321Z"
   },
   {
    "duration": 76,
    "start_time": "2022-03-22T13:34:27.392Z"
   },
   {
    "duration": 8,
    "start_time": "2022-03-22T13:34:27.470Z"
   },
   {
    "duration": 180,
    "start_time": "2022-03-22T13:34:27.480Z"
   },
   {
    "duration": 18,
    "start_time": "2022-03-22T13:34:27.663Z"
   },
   {
    "duration": 19,
    "start_time": "2022-03-22T13:34:27.683Z"
   },
   {
    "duration": 9,
    "start_time": "2022-03-22T13:34:27.704Z"
   },
   {
    "duration": 33,
    "start_time": "2022-03-22T13:34:27.715Z"
   },
   {
    "duration": 9,
    "start_time": "2022-03-22T13:34:27.750Z"
   },
   {
    "duration": 4,
    "start_time": "2022-03-22T13:34:27.761Z"
   },
   {
    "duration": 79,
    "start_time": "2022-03-22T13:34:27.767Z"
   },
   {
    "duration": 6,
    "start_time": "2022-03-22T13:34:27.848Z"
   },
   {
    "duration": 6,
    "start_time": "2022-03-22T13:34:27.856Z"
   },
   {
    "duration": 4,
    "start_time": "2022-03-22T13:34:27.864Z"
   },
   {
    "duration": 7,
    "start_time": "2022-03-22T13:34:27.870Z"
   },
   {
    "duration": 5,
    "start_time": "2022-03-22T13:34:27.901Z"
   },
   {
    "duration": 5,
    "start_time": "2022-03-22T13:34:27.908Z"
   },
   {
    "duration": 55,
    "start_time": "2022-03-22T13:34:27.915Z"
   },
   {
    "duration": 5,
    "start_time": "2022-03-22T13:34:27.972Z"
   },
   {
    "duration": 28,
    "start_time": "2022-03-22T13:34:27.978Z"
   },
   {
    "duration": 4,
    "start_time": "2022-03-22T13:34:28.008Z"
   },
   {
    "duration": 5,
    "start_time": "2022-03-22T13:34:28.014Z"
   },
   {
    "duration": 5,
    "start_time": "2022-03-22T13:34:28.020Z"
   },
   {
    "duration": 9,
    "start_time": "2022-03-22T13:34:28.027Z"
   },
   {
    "duration": 9,
    "start_time": "2022-03-22T13:34:28.037Z"
   },
   {
    "duration": 7,
    "start_time": "2022-03-22T13:34:28.048Z"
   },
   {
    "duration": 16,
    "start_time": "2022-03-22T13:34:28.057Z"
   },
   {
    "duration": 68,
    "start_time": "2022-03-22T13:34:28.075Z"
   },
   {
    "duration": 4,
    "start_time": "2022-03-22T13:34:28.144Z"
   },
   {
    "duration": 6,
    "start_time": "2022-03-22T13:34:28.150Z"
   },
   {
    "duration": 6,
    "start_time": "2022-03-22T13:34:28.158Z"
   },
   {
    "duration": 5,
    "start_time": "2022-03-22T13:34:28.166Z"
   },
   {
    "duration": 28,
    "start_time": "2022-03-22T13:34:28.173Z"
   },
   {
    "duration": 44,
    "start_time": "2022-03-22T13:34:28.203Z"
   },
   {
    "duration": 23,
    "start_time": "2022-03-22T13:34:28.248Z"
   },
   {
    "duration": 32,
    "start_time": "2022-03-22T13:34:28.273Z"
   },
   {
    "duration": 8,
    "start_time": "2022-03-22T13:34:28.307Z"
   },
   {
    "duration": 0,
    "start_time": "2022-03-22T13:34:28.317Z"
   },
   {
    "duration": 100,
    "start_time": "2022-03-22T13:35:28.550Z"
   },
   {
    "duration": 9,
    "start_time": "2022-03-22T13:35:28.652Z"
   },
   {
    "duration": 121,
    "start_time": "2022-03-22T13:35:28.663Z"
   },
   {
    "duration": 23,
    "start_time": "2022-03-22T13:35:28.786Z"
   },
   {
    "duration": 5,
    "start_time": "2022-03-22T13:35:28.811Z"
   },
   {
    "duration": 22,
    "start_time": "2022-03-22T13:35:28.818Z"
   },
   {
    "duration": 20,
    "start_time": "2022-03-22T13:35:28.842Z"
   },
   {
    "duration": 19,
    "start_time": "2022-03-22T13:35:28.864Z"
   },
   {
    "duration": 13,
    "start_time": "2022-03-22T13:35:28.884Z"
   },
   {
    "duration": 57,
    "start_time": "2022-03-22T13:35:28.900Z"
   },
   {
    "duration": 4,
    "start_time": "2022-03-22T13:35:28.959Z"
   },
   {
    "duration": 21,
    "start_time": "2022-03-22T13:35:28.965Z"
   },
   {
    "duration": 8,
    "start_time": "2022-03-22T13:35:28.988Z"
   },
   {
    "duration": 12,
    "start_time": "2022-03-22T13:35:28.998Z"
   },
   {
    "duration": 13,
    "start_time": "2022-03-22T13:35:29.011Z"
   },
   {
    "duration": 23,
    "start_time": "2022-03-22T13:35:29.025Z"
   },
   {
    "duration": 57,
    "start_time": "2022-03-22T13:35:29.050Z"
   },
   {
    "duration": 5,
    "start_time": "2022-03-22T13:35:29.108Z"
   },
   {
    "duration": 7,
    "start_time": "2022-03-22T13:35:29.115Z"
   },
   {
    "duration": 6,
    "start_time": "2022-03-22T13:35:29.124Z"
   },
   {
    "duration": 6,
    "start_time": "2022-03-22T13:35:29.131Z"
   },
   {
    "duration": 8,
    "start_time": "2022-03-22T13:35:29.138Z"
   },
   {
    "duration": 10,
    "start_time": "2022-03-22T13:35:29.147Z"
   },
   {
    "duration": 8,
    "start_time": "2022-03-22T13:35:29.158Z"
   },
   {
    "duration": 10,
    "start_time": "2022-03-22T13:35:29.167Z"
   },
   {
    "duration": 37,
    "start_time": "2022-03-22T13:35:29.179Z"
   },
   {
    "duration": 57,
    "start_time": "2022-03-22T13:35:29.217Z"
   },
   {
    "duration": 3,
    "start_time": "2022-03-22T13:35:29.277Z"
   },
   {
    "duration": 6,
    "start_time": "2022-03-22T13:35:29.301Z"
   },
   {
    "duration": 5,
    "start_time": "2022-03-22T13:35:29.309Z"
   },
   {
    "duration": 5,
    "start_time": "2022-03-22T13:35:29.315Z"
   },
   {
    "duration": 9,
    "start_time": "2022-03-22T13:35:29.322Z"
   },
   {
    "duration": 71,
    "start_time": "2022-03-22T13:35:29.332Z"
   },
   {
    "duration": 33,
    "start_time": "2022-03-22T13:35:29.405Z"
   },
   {
    "duration": 10,
    "start_time": "2022-03-22T13:35:29.440Z"
   },
   {
    "duration": 7,
    "start_time": "2022-03-22T13:35:29.453Z"
   },
   {
    "duration": 17,
    "start_time": "2022-03-22T13:35:45.217Z"
   },
   {
    "duration": 703,
    "start_time": "2022-03-25T09:25:13.814Z"
   },
   {
    "duration": 23,
    "start_time": "2022-03-25T09:25:14.521Z"
   },
   {
    "duration": 172,
    "start_time": "2022-03-25T09:25:14.547Z"
   },
   {
    "duration": 20,
    "start_time": "2022-03-25T09:25:14.722Z"
   },
   {
    "duration": 31,
    "start_time": "2022-03-25T09:25:14.744Z"
   },
   {
    "duration": 13,
    "start_time": "2022-03-25T09:25:14.777Z"
   },
   {
    "duration": 5,
    "start_time": "2022-03-25T09:25:14.792Z"
   },
   {
    "duration": 9,
    "start_time": "2022-03-25T09:25:14.799Z"
   },
   {
    "duration": 10,
    "start_time": "2022-03-25T09:25:14.810Z"
   },
   {
    "duration": 132,
    "start_time": "2022-03-25T09:25:14.823Z"
   },
   {
    "duration": 19,
    "start_time": "2022-03-25T09:25:14.957Z"
   },
   {
    "duration": 8,
    "start_time": "2022-03-25T09:25:14.978Z"
   },
   {
    "duration": 10,
    "start_time": "2022-03-25T09:25:14.988Z"
   },
   {
    "duration": 10,
    "start_time": "2022-03-25T09:25:15.000Z"
   },
   {
    "duration": 28,
    "start_time": "2022-03-25T09:25:15.012Z"
   },
   {
    "duration": 18,
    "start_time": "2022-03-25T09:25:15.042Z"
   },
   {
    "duration": 153,
    "start_time": "2022-03-25T09:25:15.062Z"
   },
   {
    "duration": 9,
    "start_time": "2022-03-25T09:25:15.217Z"
   },
   {
    "duration": 10,
    "start_time": "2022-03-25T09:25:15.228Z"
   },
   {
    "duration": 8,
    "start_time": "2022-03-25T09:25:15.240Z"
   },
   {
    "duration": 26,
    "start_time": "2022-03-25T09:25:15.251Z"
   },
   {
    "duration": 5,
    "start_time": "2022-03-25T09:25:15.280Z"
   },
   {
    "duration": 7,
    "start_time": "2022-03-25T09:25:15.287Z"
   },
   {
    "duration": 4,
    "start_time": "2022-03-25T09:25:15.296Z"
   },
   {
    "duration": 7,
    "start_time": "2022-03-25T09:25:15.302Z"
   },
   {
    "duration": 22,
    "start_time": "2022-03-25T09:25:15.311Z"
   },
   {
    "duration": 65,
    "start_time": "2022-03-25T09:25:15.374Z"
   },
   {
    "duration": 3,
    "start_time": "2022-03-25T09:25:15.444Z"
   },
   {
    "duration": 29,
    "start_time": "2022-03-25T09:25:15.449Z"
   },
   {
    "duration": 6,
    "start_time": "2022-03-25T09:25:15.480Z"
   },
   {
    "duration": 7,
    "start_time": "2022-03-25T09:25:15.488Z"
   },
   {
    "duration": 5,
    "start_time": "2022-03-25T09:25:15.497Z"
   },
   {
    "duration": 20,
    "start_time": "2022-03-25T09:25:15.505Z"
   },
   {
    "duration": 48,
    "start_time": "2022-03-25T09:25:15.527Z"
   },
   {
    "duration": 7,
    "start_time": "2022-03-25T09:25:15.578Z"
   },
   {
    "duration": 6,
    "start_time": "2022-03-25T09:53:02.215Z"
   },
   {
    "duration": 4,
    "start_time": "2022-03-25T09:53:22.502Z"
   },
   {
    "duration": 67,
    "start_time": "2022-03-25T09:53:34.064Z"
   },
   {
    "duration": 5,
    "start_time": "2022-03-25T09:53:48.039Z"
   },
   {
    "duration": 65,
    "start_time": "2022-03-25T09:53:49.012Z"
   },
   {
    "duration": 619,
    "start_time": "2022-03-27T15:38:00.959Z"
   },
   {
    "duration": 23,
    "start_time": "2022-03-27T15:38:01.581Z"
   },
   {
    "duration": 171,
    "start_time": "2022-03-27T15:38:01.606Z"
   },
   {
    "duration": 22,
    "start_time": "2022-03-27T15:38:01.780Z"
   },
   {
    "duration": 16,
    "start_time": "2022-03-27T15:38:01.804Z"
   },
   {
    "duration": 45,
    "start_time": "2022-03-27T15:38:01.822Z"
   },
   {
    "duration": 9,
    "start_time": "2022-03-27T15:38:01.870Z"
   },
   {
    "duration": 9,
    "start_time": "2022-03-27T15:38:01.881Z"
   },
   {
    "duration": 9,
    "start_time": "2022-03-27T15:38:01.893Z"
   },
   {
    "duration": 126,
    "start_time": "2022-03-27T15:38:01.906Z"
   },
   {
    "duration": 8,
    "start_time": "2022-03-27T15:38:02.034Z"
   },
   {
    "duration": 26,
    "start_time": "2022-03-27T15:38:02.045Z"
   },
   {
    "duration": 7,
    "start_time": "2022-03-27T15:38:02.073Z"
   },
   {
    "duration": 7,
    "start_time": "2022-03-27T15:38:02.083Z"
   },
   {
    "duration": 12,
    "start_time": "2022-03-27T15:38:02.092Z"
   },
   {
    "duration": 11,
    "start_time": "2022-03-27T15:38:02.107Z"
   },
   {
    "duration": 146,
    "start_time": "2022-03-27T15:38:02.121Z"
   },
   {
    "duration": 9,
    "start_time": "2022-03-27T15:38:02.271Z"
   },
   {
    "duration": 8,
    "start_time": "2022-03-27T15:38:02.282Z"
   },
   {
    "duration": 6,
    "start_time": "2022-03-27T15:38:02.293Z"
   },
   {
    "duration": 8,
    "start_time": "2022-03-27T15:38:02.301Z"
   },
   {
    "duration": 55,
    "start_time": "2022-03-27T15:38:02.312Z"
   },
   {
    "duration": 7,
    "start_time": "2022-03-27T15:38:02.370Z"
   },
   {
    "duration": 7,
    "start_time": "2022-03-27T15:38:02.379Z"
   },
   {
    "duration": 8,
    "start_time": "2022-03-27T15:38:02.389Z"
   },
   {
    "duration": 69,
    "start_time": "2022-03-27T15:38:02.399Z"
   },
   {
    "duration": 66,
    "start_time": "2022-03-27T15:38:02.470Z"
   },
   {
    "duration": 3,
    "start_time": "2022-03-27T15:38:02.541Z"
   },
   {
    "duration": 7,
    "start_time": "2022-03-27T15:38:02.568Z"
   },
   {
    "duration": 8,
    "start_time": "2022-03-27T15:38:02.578Z"
   },
   {
    "duration": 8,
    "start_time": "2022-03-27T15:38:02.588Z"
   },
   {
    "duration": 6,
    "start_time": "2022-03-27T15:38:02.598Z"
   },
   {
    "duration": 76,
    "start_time": "2022-03-27T15:38:02.607Z"
   },
   {
    "duration": 18,
    "start_time": "2022-03-27T15:38:02.686Z"
   },
   {
    "duration": 20,
    "start_time": "2022-03-27T15:38:02.707Z"
   },
   {
    "duration": 9,
    "start_time": "2022-03-27T15:38:02.731Z"
   },
   {
    "duration": 86,
    "start_time": "2022-03-27T15:38:02.742Z"
   },
   {
    "duration": 5,
    "start_time": "2022-03-27T15:44:43.573Z"
   },
   {
    "duration": 8,
    "start_time": "2022-03-27T15:46:11.072Z"
   },
   {
    "duration": 8,
    "start_time": "2022-03-27T15:46:31.811Z"
   },
   {
    "duration": 174,
    "start_time": "2022-03-27T15:47:36.596Z"
   },
   {
    "duration": 8,
    "start_time": "2022-03-27T15:49:24.182Z"
   },
   {
    "duration": 8,
    "start_time": "2022-03-27T15:49:26.447Z"
   },
   {
    "duration": 1948,
    "start_time": "2022-03-27T15:50:34.639Z"
   },
   {
    "duration": 8,
    "start_time": "2022-03-27T15:50:43.441Z"
   },
   {
    "duration": 8,
    "start_time": "2022-03-27T15:50:45.089Z"
   },
   {
    "duration": 105,
    "start_time": "2022-03-27T15:57:36.363Z"
   },
   {
    "duration": 9,
    "start_time": "2022-03-27T15:58:12.180Z"
   },
   {
    "duration": 10,
    "start_time": "2022-03-27T15:58:21.583Z"
   },
   {
    "duration": 8,
    "start_time": "2022-03-27T15:58:44.650Z"
   },
   {
    "duration": 8,
    "start_time": "2022-03-27T15:58:45.288Z"
   },
   {
    "duration": 7,
    "start_time": "2022-03-27T15:58:51.848Z"
   },
   {
    "duration": 9,
    "start_time": "2022-03-27T15:58:57.427Z"
   },
   {
    "duration": 7,
    "start_time": "2022-03-27T15:58:59.927Z"
   },
   {
    "duration": 10,
    "start_time": "2022-03-27T15:59:02.472Z"
   },
   {
    "duration": 7,
    "start_time": "2022-03-27T15:59:15.785Z"
   },
   {
    "duration": 7,
    "start_time": "2022-03-27T16:00:27.425Z"
   },
   {
    "duration": 6,
    "start_time": "2022-03-27T16:01:38.411Z"
   },
   {
    "duration": 5,
    "start_time": "2022-03-27T16:02:03.796Z"
   },
   {
    "duration": 651,
    "start_time": "2022-03-27T16:13:56.175Z"
   },
   {
    "duration": 22,
    "start_time": "2022-03-27T16:13:56.829Z"
   },
   {
    "duration": 253,
    "start_time": "2022-03-27T16:13:56.854Z"
   },
   {
    "duration": 21,
    "start_time": "2022-03-27T16:13:57.109Z"
   },
   {
    "duration": 13,
    "start_time": "2022-03-27T16:13:57.133Z"
   },
   {
    "duration": 40,
    "start_time": "2022-03-27T16:13:57.149Z"
   },
   {
    "duration": 6,
    "start_time": "2022-03-27T16:13:57.192Z"
   },
   {
    "duration": 28,
    "start_time": "2022-03-27T16:13:57.201Z"
   },
   {
    "duration": 24,
    "start_time": "2022-03-27T16:13:57.232Z"
   },
   {
    "duration": 157,
    "start_time": "2022-03-27T16:13:57.258Z"
   },
   {
    "duration": 10,
    "start_time": "2022-03-27T16:13:57.419Z"
   },
   {
    "duration": 18,
    "start_time": "2022-03-27T16:13:57.431Z"
   },
   {
    "duration": 33,
    "start_time": "2022-03-27T16:13:57.451Z"
   },
   {
    "duration": 19,
    "start_time": "2022-03-27T16:13:57.490Z"
   },
   {
    "duration": 21,
    "start_time": "2022-03-27T16:13:57.512Z"
   },
   {
    "duration": 23,
    "start_time": "2022-03-27T16:13:57.535Z"
   },
   {
    "duration": 115,
    "start_time": "2022-03-27T16:13:57.561Z"
   },
   {
    "duration": 9,
    "start_time": "2022-03-27T16:13:57.679Z"
   },
   {
    "duration": 19,
    "start_time": "2022-03-27T16:13:57.691Z"
   },
   {
    "duration": 26,
    "start_time": "2022-03-27T16:13:57.713Z"
   },
   {
    "duration": 12,
    "start_time": "2022-03-27T16:13:57.741Z"
   },
   {
    "duration": 29,
    "start_time": "2022-03-27T16:13:57.756Z"
   },
   {
    "duration": 27,
    "start_time": "2022-03-27T16:13:57.788Z"
   },
   {
    "duration": 18,
    "start_time": "2022-03-27T16:13:57.817Z"
   },
   {
    "duration": 33,
    "start_time": "2022-03-27T16:13:57.837Z"
   },
   {
    "duration": 40,
    "start_time": "2022-03-27T16:13:57.872Z"
   },
   {
    "duration": 74,
    "start_time": "2022-03-27T16:13:57.914Z"
   },
   {
    "duration": 5,
    "start_time": "2022-03-27T16:13:57.991Z"
   },
   {
    "duration": 33,
    "start_time": "2022-03-27T16:13:57.998Z"
   },
   {
    "duration": 25,
    "start_time": "2022-03-27T16:13:58.034Z"
   },
   {
    "duration": 32,
    "start_time": "2022-03-27T16:13:58.062Z"
   },
   {
    "duration": 35,
    "start_time": "2022-03-27T16:13:58.096Z"
   },
   {
    "duration": 52,
    "start_time": "2022-03-27T16:13:58.133Z"
   },
   {
    "duration": 17,
    "start_time": "2022-03-27T16:13:58.188Z"
   },
   {
    "duration": 79,
    "start_time": "2022-03-27T16:13:58.207Z"
   },
   {
    "duration": 15,
    "start_time": "2022-03-27T16:13:58.289Z"
   },
   {
    "duration": 30,
    "start_time": "2022-03-27T16:13:58.306Z"
   },
   {
    "duration": 27,
    "start_time": "2022-03-27T16:13:58.339Z"
   },
   {
    "duration": 29,
    "start_time": "2022-03-27T16:13:58.368Z"
   },
   {
    "duration": 28,
    "start_time": "2022-03-27T16:13:58.400Z"
   },
   {
    "duration": 12,
    "start_time": "2022-03-27T16:13:58.433Z"
   },
   {
    "duration": 106,
    "start_time": "2022-03-27T16:13:58.447Z"
   },
   {
    "duration": 105,
    "start_time": "2022-03-27T16:14:54.629Z"
   },
   {
    "duration": 110,
    "start_time": "2022-03-27T16:15:12.602Z"
   },
   {
    "duration": 12,
    "start_time": "2022-03-27T16:15:12.714Z"
   },
   {
    "duration": 192,
    "start_time": "2022-03-27T16:15:12.728Z"
   },
   {
    "duration": 28,
    "start_time": "2022-03-27T16:15:12.923Z"
   },
   {
    "duration": 33,
    "start_time": "2022-03-27T16:15:12.953Z"
   },
   {
    "duration": 15,
    "start_time": "2022-03-27T16:15:12.989Z"
   },
   {
    "duration": 6,
    "start_time": "2022-03-27T16:15:13.007Z"
   },
   {
    "duration": 14,
    "start_time": "2022-03-27T16:15:13.015Z"
   },
   {
    "duration": 8,
    "start_time": "2022-03-27T16:15:13.032Z"
   },
   {
    "duration": 122,
    "start_time": "2022-03-27T16:15:13.045Z"
   },
   {
    "duration": 15,
    "start_time": "2022-03-27T16:15:13.170Z"
   },
   {
    "duration": 16,
    "start_time": "2022-03-27T16:15:13.189Z"
   },
   {
    "duration": 9,
    "start_time": "2022-03-27T16:15:13.208Z"
   },
   {
    "duration": 14,
    "start_time": "2022-03-27T16:15:13.220Z"
   },
   {
    "duration": 17,
    "start_time": "2022-03-27T16:15:13.236Z"
   },
   {
    "duration": 32,
    "start_time": "2022-03-27T16:15:13.255Z"
   },
   {
    "duration": 109,
    "start_time": "2022-03-27T16:15:13.290Z"
   },
   {
    "duration": 9,
    "start_time": "2022-03-27T16:15:13.401Z"
   },
   {
    "duration": 10,
    "start_time": "2022-03-27T16:15:13.412Z"
   },
   {
    "duration": 10,
    "start_time": "2022-03-27T16:15:13.425Z"
   },
   {
    "duration": 46,
    "start_time": "2022-03-27T16:15:13.437Z"
   },
   {
    "duration": 5,
    "start_time": "2022-03-27T16:15:13.485Z"
   },
   {
    "duration": 16,
    "start_time": "2022-03-27T16:15:13.493Z"
   },
   {
    "duration": 13,
    "start_time": "2022-03-27T16:15:13.511Z"
   },
   {
    "duration": 11,
    "start_time": "2022-03-27T16:15:13.527Z"
   },
   {
    "duration": 62,
    "start_time": "2022-03-27T16:15:13.540Z"
   },
   {
    "duration": 80,
    "start_time": "2022-03-27T16:15:13.605Z"
   },
   {
    "duration": 4,
    "start_time": "2022-03-27T16:15:13.691Z"
   },
   {
    "duration": 11,
    "start_time": "2022-03-27T16:15:13.697Z"
   },
   {
    "duration": 6,
    "start_time": "2022-03-27T16:15:13.711Z"
   },
   {
    "duration": 12,
    "start_time": "2022-03-27T16:15:13.720Z"
   },
   {
    "duration": 9,
    "start_time": "2022-03-27T16:15:13.736Z"
   },
   {
    "duration": 74,
    "start_time": "2022-03-27T16:15:13.749Z"
   },
   {
    "duration": 0,
    "start_time": "2022-03-27T16:15:13.826Z"
   },
   {
    "duration": 0,
    "start_time": "2022-03-27T16:15:13.829Z"
   },
   {
    "duration": 0,
    "start_time": "2022-03-27T16:15:13.831Z"
   },
   {
    "duration": 0,
    "start_time": "2022-03-27T16:15:13.833Z"
   },
   {
    "duration": 0,
    "start_time": "2022-03-27T16:15:13.836Z"
   },
   {
    "duration": 0,
    "start_time": "2022-03-27T16:15:13.840Z"
   },
   {
    "duration": 0,
    "start_time": "2022-03-27T16:15:13.843Z"
   },
   {
    "duration": 0,
    "start_time": "2022-03-27T16:15:13.845Z"
   },
   {
    "duration": 0,
    "start_time": "2022-03-27T16:15:13.847Z"
   },
   {
    "duration": 0,
    "start_time": "2022-03-27T16:15:13.849Z"
   },
   {
    "duration": 7,
    "start_time": "2022-03-27T16:19:58.890Z"
   },
   {
    "duration": 6,
    "start_time": "2022-03-27T16:20:43.324Z"
   },
   {
    "duration": 9,
    "start_time": "2022-03-27T16:20:58.323Z"
   },
   {
    "duration": 7,
    "start_time": "2022-03-27T16:21:14.784Z"
   },
   {
    "duration": 7,
    "start_time": "2022-03-27T16:21:26.162Z"
   },
   {
    "duration": 6,
    "start_time": "2022-03-27T16:21:27.219Z"
   },
   {
    "duration": 8,
    "start_time": "2022-03-27T16:21:29.512Z"
   },
   {
    "duration": 6,
    "start_time": "2022-03-27T16:21:30.072Z"
   },
   {
    "duration": 13,
    "start_time": "2022-03-27T16:23:18.166Z"
   },
   {
    "duration": 9,
    "start_time": "2022-03-27T16:23:18.942Z"
   },
   {
    "duration": 9,
    "start_time": "2022-03-27T16:24:17.828Z"
   },
   {
    "duration": 133,
    "start_time": "2022-03-27T16:24:22.884Z"
   },
   {
    "duration": 16,
    "start_time": "2022-03-27T16:24:23.021Z"
   },
   {
    "duration": 188,
    "start_time": "2022-03-27T16:24:23.040Z"
   },
   {
    "duration": 20,
    "start_time": "2022-03-27T16:24:23.231Z"
   },
   {
    "duration": 30,
    "start_time": "2022-03-27T16:24:23.255Z"
   },
   {
    "duration": 14,
    "start_time": "2022-03-27T16:24:23.289Z"
   },
   {
    "duration": 5,
    "start_time": "2022-03-27T16:24:23.306Z"
   },
   {
    "duration": 7,
    "start_time": "2022-03-27T16:24:23.314Z"
   },
   {
    "duration": 7,
    "start_time": "2022-03-27T16:24:23.323Z"
   },
   {
    "duration": 87,
    "start_time": "2022-03-27T16:24:23.384Z"
   },
   {
    "duration": 6,
    "start_time": "2022-03-27T16:24:23.485Z"
   },
   {
    "duration": 16,
    "start_time": "2022-03-27T16:24:23.494Z"
   },
   {
    "duration": 18,
    "start_time": "2022-03-27T16:24:23.512Z"
   },
   {
    "duration": 11,
    "start_time": "2022-03-27T16:24:23.535Z"
   },
   {
    "duration": 36,
    "start_time": "2022-03-27T16:24:23.549Z"
   },
   {
    "duration": 14,
    "start_time": "2022-03-27T16:24:23.588Z"
   },
   {
    "duration": 8,
    "start_time": "2022-03-27T16:24:23.605Z"
   },
   {
    "duration": 12,
    "start_time": "2022-03-27T16:24:23.616Z"
   },
   {
    "duration": 7,
    "start_time": "2022-03-27T16:24:23.631Z"
   },
   {
    "duration": 48,
    "start_time": "2022-03-27T16:24:23.640Z"
   },
   {
    "duration": 6,
    "start_time": "2022-03-27T16:24:23.690Z"
   },
   {
    "duration": 7,
    "start_time": "2022-03-27T16:24:23.699Z"
   },
   {
    "duration": 10,
    "start_time": "2022-03-27T16:24:23.708Z"
   },
   {
    "duration": 9,
    "start_time": "2022-03-27T16:24:23.720Z"
   },
   {
    "duration": 10,
    "start_time": "2022-03-27T16:24:23.732Z"
   },
   {
    "duration": 43,
    "start_time": "2022-03-27T16:24:23.744Z"
   },
   {
    "duration": 9,
    "start_time": "2022-03-27T16:24:23.790Z"
   },
   {
    "duration": 23,
    "start_time": "2022-03-27T16:24:23.801Z"
   },
   {
    "duration": 95,
    "start_time": "2022-03-27T16:24:23.826Z"
   },
   {
    "duration": 4,
    "start_time": "2022-03-27T16:24:23.923Z"
   },
   {
    "duration": 14,
    "start_time": "2022-03-27T16:24:23.929Z"
   },
   {
    "duration": 9,
    "start_time": "2022-03-27T16:24:23.945Z"
   },
   {
    "duration": 28,
    "start_time": "2022-03-27T16:24:23.956Z"
   },
   {
    "duration": 8,
    "start_time": "2022-03-27T16:24:23.986Z"
   },
   {
    "duration": 10,
    "start_time": "2022-03-27T16:24:23.997Z"
   },
   {
    "duration": 22,
    "start_time": "2022-03-27T16:24:24.010Z"
   },
   {
    "duration": 5,
    "start_time": "2022-03-27T16:24:24.035Z"
   },
   {
    "duration": 107,
    "start_time": "2022-03-27T16:24:24.043Z"
   },
   {
    "duration": 14,
    "start_time": "2022-03-27T16:24:24.153Z"
   },
   {
    "duration": 21,
    "start_time": "2022-03-27T16:24:24.169Z"
   },
   {
    "duration": 16,
    "start_time": "2022-03-27T16:24:24.196Z"
   },
   {
    "duration": 9,
    "start_time": "2022-03-27T16:24:24.215Z"
   },
   {
    "duration": 19,
    "start_time": "2022-03-27T16:24:24.226Z"
   },
   {
    "duration": 39,
    "start_time": "2022-03-27T16:24:24.247Z"
   },
   {
    "duration": 92,
    "start_time": "2022-03-27T16:24:24.288Z"
   },
   {
    "duration": 5,
    "start_time": "2022-03-27T16:27:17.582Z"
   },
   {
    "duration": 4,
    "start_time": "2022-03-27T16:27:19.720Z"
   },
   {
    "duration": 4,
    "start_time": "2022-03-27T16:27:56.846Z"
   },
   {
    "duration": 11,
    "start_time": "2022-03-27T16:29:52.178Z"
   },
   {
    "duration": 11,
    "start_time": "2022-03-27T16:30:02.252Z"
   },
   {
    "duration": 12,
    "start_time": "2022-03-27T16:30:04.128Z"
   },
   {
    "duration": 11,
    "start_time": "2022-03-27T16:30:33.525Z"
   },
   {
    "duration": 18,
    "start_time": "2022-03-27T16:31:26.272Z"
   },
   {
    "duration": 16,
    "start_time": "2022-03-27T16:32:01.094Z"
   },
   {
    "duration": 94,
    "start_time": "2022-03-27T16:32:04.903Z"
   },
   {
    "duration": 13,
    "start_time": "2022-03-27T16:32:05.000Z"
   },
   {
    "duration": 197,
    "start_time": "2022-03-27T16:32:05.015Z"
   },
   {
    "duration": 21,
    "start_time": "2022-03-27T16:32:05.215Z"
   },
   {
    "duration": 8,
    "start_time": "2022-03-27T16:32:05.238Z"
   },
   {
    "duration": 41,
    "start_time": "2022-03-27T16:32:05.248Z"
   },
   {
    "duration": 5,
    "start_time": "2022-03-27T16:32:05.292Z"
   },
   {
    "duration": 11,
    "start_time": "2022-03-27T16:32:05.300Z"
   },
   {
    "duration": 7,
    "start_time": "2022-03-27T16:32:05.313Z"
   },
   {
    "duration": 131,
    "start_time": "2022-03-27T16:32:05.324Z"
   },
   {
    "duration": 10,
    "start_time": "2022-03-27T16:32:05.457Z"
   },
   {
    "duration": 21,
    "start_time": "2022-03-27T16:32:05.470Z"
   },
   {
    "duration": 7,
    "start_time": "2022-03-27T16:32:05.494Z"
   },
   {
    "duration": 12,
    "start_time": "2022-03-27T16:32:05.503Z"
   },
   {
    "duration": 8,
    "start_time": "2022-03-27T16:32:05.517Z"
   },
   {
    "duration": 12,
    "start_time": "2022-03-27T16:32:05.527Z"
   },
   {
    "duration": 43,
    "start_time": "2022-03-27T16:32:05.541Z"
   },
   {
    "duration": 55,
    "start_time": "2022-03-27T16:32:05.587Z"
   },
   {
    "duration": 7,
    "start_time": "2022-03-27T16:32:05.645Z"
   },
   {
    "duration": 35,
    "start_time": "2022-03-27T16:32:05.654Z"
   },
   {
    "duration": 15,
    "start_time": "2022-03-27T16:32:05.691Z"
   },
   {
    "duration": 6,
    "start_time": "2022-03-27T16:32:05.709Z"
   },
   {
    "duration": 16,
    "start_time": "2022-03-27T16:32:05.717Z"
   },
   {
    "duration": 22,
    "start_time": "2022-03-27T16:32:05.735Z"
   },
   {
    "duration": 35,
    "start_time": "2022-03-27T16:32:05.759Z"
   },
   {
    "duration": 32,
    "start_time": "2022-03-27T16:32:05.797Z"
   },
   {
    "duration": 28,
    "start_time": "2022-03-27T16:32:05.832Z"
   },
   {
    "duration": 38,
    "start_time": "2022-03-27T16:32:05.866Z"
   },
   {
    "duration": 67,
    "start_time": "2022-03-27T16:32:05.907Z"
   },
   {
    "duration": 9,
    "start_time": "2022-03-27T16:32:05.976Z"
   },
   {
    "duration": 14,
    "start_time": "2022-03-27T16:32:05.987Z"
   },
   {
    "duration": 21,
    "start_time": "2022-03-27T16:32:06.004Z"
   },
   {
    "duration": 37,
    "start_time": "2022-03-27T16:32:06.027Z"
   },
   {
    "duration": 21,
    "start_time": "2022-03-27T16:32:06.067Z"
   },
   {
    "duration": 18,
    "start_time": "2022-03-27T16:32:06.090Z"
   },
   {
    "duration": 29,
    "start_time": "2022-03-27T16:32:06.111Z"
   },
   {
    "duration": 20,
    "start_time": "2022-03-27T16:32:06.142Z"
   },
   {
    "duration": 73,
    "start_time": "2022-03-27T16:32:06.165Z"
   },
   {
    "duration": 13,
    "start_time": "2022-03-27T16:32:06.240Z"
   },
   {
    "duration": 34,
    "start_time": "2022-03-27T16:32:06.255Z"
   },
   {
    "duration": 29,
    "start_time": "2022-03-27T16:32:06.291Z"
   },
   {
    "duration": 21,
    "start_time": "2022-03-27T16:32:06.323Z"
   },
   {
    "duration": 33,
    "start_time": "2022-03-27T16:32:06.346Z"
   },
   {
    "duration": 20,
    "start_time": "2022-03-27T16:32:06.381Z"
   },
   {
    "duration": 33,
    "start_time": "2022-03-27T16:32:06.404Z"
   },
   {
    "duration": 31,
    "start_time": "2022-03-27T16:32:06.439Z"
   },
   {
    "duration": 16,
    "start_time": "2022-03-27T16:34:14.216Z"
   },
   {
    "duration": 22,
    "start_time": "2022-03-27T16:35:36.169Z"
   },
   {
    "duration": 4,
    "start_time": "2022-03-27T16:36:39.370Z"
   },
   {
    "duration": 13,
    "start_time": "2022-03-27T16:36:42.204Z"
   },
   {
    "duration": 8,
    "start_time": "2022-03-27T16:36:57.299Z"
   },
   {
    "duration": 12,
    "start_time": "2022-03-27T16:37:04.505Z"
   },
   {
    "duration": 5,
    "start_time": "2022-03-27T16:37:06.516Z"
   },
   {
    "duration": 9,
    "start_time": "2022-03-27T16:37:07.060Z"
   },
   {
    "duration": 7,
    "start_time": "2022-03-27T16:37:07.520Z"
   },
   {
    "duration": 21,
    "start_time": "2022-03-27T16:37:17.750Z"
   },
   {
    "duration": 104,
    "start_time": "2022-03-27T16:40:41.574Z"
   },
   {
    "duration": 4,
    "start_time": "2022-03-27T16:40:46.940Z"
   },
   {
    "duration": 17,
    "start_time": "2022-03-27T16:40:47.537Z"
   },
   {
    "duration": 6,
    "start_time": "2022-03-27T16:42:06.342Z"
   },
   {
    "duration": 17,
    "start_time": "2022-03-27T16:42:07.676Z"
   },
   {
    "duration": 410,
    "start_time": "2022-03-27T16:43:13.635Z"
   },
   {
    "duration": 385,
    "start_time": "2022-03-27T16:43:43.611Z"
   },
   {
    "duration": 98,
    "start_time": "2022-03-27T16:44:23.391Z"
   },
   {
    "duration": 4,
    "start_time": "2022-03-27T16:45:58.593Z"
   },
   {
    "duration": 20,
    "start_time": "2022-03-27T16:48:09.485Z"
   },
   {
    "duration": 586,
    "start_time": "2022-03-27T16:48:39.084Z"
   },
   {
    "duration": 22,
    "start_time": "2022-03-27T16:48:42.304Z"
   },
   {
    "duration": 579,
    "start_time": "2022-03-27T16:49:01.219Z"
   },
   {
    "duration": 8,
    "start_time": "2022-03-27T16:49:02.387Z"
   },
   {
    "duration": 8,
    "start_time": "2022-03-27T16:49:11.744Z"
   },
   {
    "duration": 584,
    "start_time": "2022-03-27T16:50:23.079Z"
   },
   {
    "duration": 8,
    "start_time": "2022-03-27T16:50:23.667Z"
   },
   {
    "duration": 4,
    "start_time": "2022-03-27T16:54:41.382Z"
   },
   {
    "duration": 692,
    "start_time": "2022-03-27T16:55:45.691Z"
   },
   {
    "duration": 8,
    "start_time": "2022-03-27T16:55:46.387Z"
   },
   {
    "duration": 1386,
    "start_time": "2022-03-27T16:55:56.723Z"
   },
   {
    "duration": 5,
    "start_time": "2022-03-27T17:03:35.566Z"
   },
   {
    "duration": 1290,
    "start_time": "2022-03-27T17:03:38.654Z"
   },
   {
    "duration": 18,
    "start_time": "2022-03-27T17:05:50.821Z"
   },
   {
    "duration": 465,
    "start_time": "2022-03-27T17:07:30.007Z"
   },
   {
    "duration": 7,
    "start_time": "2022-03-27T17:07:31.380Z"
   },
   {
    "duration": 7,
    "start_time": "2022-03-27T17:07:33.742Z"
   },
   {
    "duration": 4,
    "start_time": "2022-03-27T17:13:12.124Z"
   },
   {
    "duration": 371,
    "start_time": "2022-03-27T17:13:12.613Z"
   },
   {
    "duration": 8,
    "start_time": "2022-03-27T17:13:13.145Z"
   },
   {
    "duration": 90,
    "start_time": "2022-03-27T17:13:17.844Z"
   },
   {
    "duration": 13,
    "start_time": "2022-03-27T17:13:17.938Z"
   },
   {
    "duration": 167,
    "start_time": "2022-03-27T17:13:17.985Z"
   },
   {
    "duration": 35,
    "start_time": "2022-03-27T17:13:18.155Z"
   },
   {
    "duration": 7,
    "start_time": "2022-03-27T17:13:18.193Z"
   },
   {
    "duration": 20,
    "start_time": "2022-03-27T17:13:18.203Z"
   },
   {
    "duration": 5,
    "start_time": "2022-03-27T17:13:18.225Z"
   },
   {
    "duration": 11,
    "start_time": "2022-03-27T17:13:18.232Z"
   },
   {
    "duration": 40,
    "start_time": "2022-03-27T17:13:18.245Z"
   },
   {
    "duration": 99,
    "start_time": "2022-03-27T17:13:18.291Z"
   },
   {
    "duration": 5,
    "start_time": "2022-03-27T17:13:18.392Z"
   },
   {
    "duration": 13,
    "start_time": "2022-03-27T17:13:18.399Z"
   },
   {
    "duration": 8,
    "start_time": "2022-03-27T17:13:18.414Z"
   },
   {
    "duration": 16,
    "start_time": "2022-03-27T17:13:18.424Z"
   },
   {
    "duration": 8,
    "start_time": "2022-03-27T17:13:18.443Z"
   },
   {
    "duration": 32,
    "start_time": "2022-03-27T17:13:18.453Z"
   },
   {
    "duration": 8,
    "start_time": "2022-03-27T17:13:18.487Z"
   },
   {
    "duration": 13,
    "start_time": "2022-03-27T17:13:18.497Z"
   },
   {
    "duration": 8,
    "start_time": "2022-03-27T17:13:18.512Z"
   },
   {
    "duration": 10,
    "start_time": "2022-03-27T17:13:18.522Z"
   },
   {
    "duration": 8,
    "start_time": "2022-03-27T17:13:18.534Z"
   },
   {
    "duration": 4,
    "start_time": "2022-03-27T17:13:18.585Z"
   },
   {
    "duration": 14,
    "start_time": "2022-03-27T17:13:18.592Z"
   },
   {
    "duration": 7,
    "start_time": "2022-03-27T17:13:18.608Z"
   },
   {
    "duration": 8,
    "start_time": "2022-03-27T17:13:18.617Z"
   },
   {
    "duration": 11,
    "start_time": "2022-03-27T17:13:18.627Z"
   },
   {
    "duration": 7,
    "start_time": "2022-03-27T17:13:18.640Z"
   },
   {
    "duration": 20,
    "start_time": "2022-03-27T17:13:18.684Z"
   },
   {
    "duration": 81,
    "start_time": "2022-03-27T17:13:18.706Z"
   },
   {
    "duration": 4,
    "start_time": "2022-03-27T17:13:18.789Z"
   },
   {
    "duration": 10,
    "start_time": "2022-03-27T17:13:18.795Z"
   },
   {
    "duration": 5,
    "start_time": "2022-03-27T17:13:18.807Z"
   },
   {
    "duration": 6,
    "start_time": "2022-03-27T17:13:18.815Z"
   },
   {
    "duration": 9,
    "start_time": "2022-03-27T17:13:18.823Z"
   },
   {
    "duration": 8,
    "start_time": "2022-03-27T17:13:18.835Z"
   },
   {
    "duration": 55,
    "start_time": "2022-03-27T17:13:18.845Z"
   },
   {
    "duration": 5,
    "start_time": "2022-03-27T17:13:18.903Z"
   },
   {
    "duration": 88,
    "start_time": "2022-03-27T17:13:18.910Z"
   },
   {
    "duration": 13,
    "start_time": "2022-03-27T17:13:19.000Z"
   },
   {
    "duration": 10,
    "start_time": "2022-03-27T17:13:19.016Z"
   },
   {
    "duration": 20,
    "start_time": "2022-03-27T17:13:19.028Z"
   },
   {
    "duration": 34,
    "start_time": "2022-03-27T17:13:19.050Z"
   },
   {
    "duration": 13,
    "start_time": "2022-03-27T17:13:19.087Z"
   },
   {
    "duration": 8,
    "start_time": "2022-03-27T17:13:19.103Z"
   },
   {
    "duration": 6,
    "start_time": "2022-03-27T17:13:19.113Z"
   },
   {
    "duration": 406,
    "start_time": "2022-03-27T17:13:19.121Z"
   },
   {
    "duration": 8,
    "start_time": "2022-03-27T17:13:19.530Z"
   },
   {
    "duration": 4,
    "start_time": "2022-03-27T17:13:37.744Z"
   },
   {
    "duration": 371,
    "start_time": "2022-03-27T17:13:38.142Z"
   },
   {
    "duration": 8,
    "start_time": "2022-03-27T17:13:38.526Z"
   },
   {
    "duration": 374,
    "start_time": "2022-03-27T17:14:23.082Z"
   },
   {
    "duration": 8,
    "start_time": "2022-03-27T17:14:23.489Z"
   },
   {
    "duration": 80,
    "start_time": "2022-03-28T08:15:36.937Z"
   },
   {
    "duration": 824,
    "start_time": "2022-03-28T08:15:41.881Z"
   },
   {
    "duration": 25,
    "start_time": "2022-03-28T08:15:42.708Z"
   },
   {
    "duration": 172,
    "start_time": "2022-03-28T08:15:42.736Z"
   },
   {
    "duration": 22,
    "start_time": "2022-03-28T08:15:42.911Z"
   },
   {
    "duration": 8,
    "start_time": "2022-03-28T08:15:42.935Z"
   },
   {
    "duration": 17,
    "start_time": "2022-03-28T08:15:42.973Z"
   },
   {
    "duration": 5,
    "start_time": "2022-03-28T08:15:42.993Z"
   },
   {
    "duration": 8,
    "start_time": "2022-03-28T08:15:43.000Z"
   },
   {
    "duration": 12,
    "start_time": "2022-03-28T08:15:43.011Z"
   },
   {
    "duration": 169,
    "start_time": "2022-03-28T08:15:43.028Z"
   },
   {
    "duration": 9,
    "start_time": "2022-03-28T08:15:43.200Z"
   },
   {
    "duration": 9,
    "start_time": "2022-03-28T08:15:43.212Z"
   },
   {
    "duration": 6,
    "start_time": "2022-03-28T08:15:43.223Z"
   },
   {
    "duration": 45,
    "start_time": "2022-03-28T08:15:43.231Z"
   },
   {
    "duration": 8,
    "start_time": "2022-03-28T08:15:43.278Z"
   },
   {
    "duration": 10,
    "start_time": "2022-03-28T08:15:43.288Z"
   },
   {
    "duration": 17,
    "start_time": "2022-03-28T08:15:43.301Z"
   },
   {
    "duration": 30,
    "start_time": "2022-03-28T08:15:43.320Z"
   },
   {
    "duration": 45,
    "start_time": "2022-03-28T08:15:43.353Z"
   },
   {
    "duration": 9,
    "start_time": "2022-03-28T08:15:43.400Z"
   },
   {
    "duration": 12,
    "start_time": "2022-03-28T08:15:43.412Z"
   },
   {
    "duration": 5,
    "start_time": "2022-03-28T08:15:43.428Z"
   },
   {
    "duration": 11,
    "start_time": "2022-03-28T08:15:43.435Z"
   },
   {
    "duration": 37,
    "start_time": "2022-03-28T08:15:43.449Z"
   },
   {
    "duration": 8,
    "start_time": "2022-03-28T08:15:43.489Z"
   },
   {
    "duration": 27,
    "start_time": "2022-03-28T08:15:43.499Z"
   },
   {
    "duration": 10,
    "start_time": "2022-03-28T08:15:43.528Z"
   },
   {
    "duration": 20,
    "start_time": "2022-03-28T08:15:43.546Z"
   },
   {
    "duration": 82,
    "start_time": "2022-03-28T08:15:43.574Z"
   },
   {
    "duration": 21,
    "start_time": "2022-03-28T08:15:43.658Z"
   },
   {
    "duration": 12,
    "start_time": "2022-03-28T08:15:43.682Z"
   },
   {
    "duration": 7,
    "start_time": "2022-03-28T08:15:43.696Z"
   },
   {
    "duration": 6,
    "start_time": "2022-03-28T08:15:43.705Z"
   },
   {
    "duration": 5,
    "start_time": "2022-03-28T08:15:43.714Z"
   },
   {
    "duration": 6,
    "start_time": "2022-03-28T08:15:43.722Z"
   },
   {
    "duration": 21,
    "start_time": "2022-03-28T08:15:43.774Z"
   },
   {
    "duration": 6,
    "start_time": "2022-03-28T08:15:43.796Z"
   },
   {
    "duration": 97,
    "start_time": "2022-03-28T08:15:43.804Z"
   },
   {
    "duration": 12,
    "start_time": "2022-03-28T08:15:43.903Z"
   },
   {
    "duration": 12,
    "start_time": "2022-03-28T08:15:43.918Z"
   },
   {
    "duration": 19,
    "start_time": "2022-03-28T08:15:43.933Z"
   },
   {
    "duration": 26,
    "start_time": "2022-03-28T08:15:43.955Z"
   },
   {
    "duration": 16,
    "start_time": "2022-03-28T08:15:43.983Z"
   },
   {
    "duration": 14,
    "start_time": "2022-03-28T08:15:44.002Z"
   },
   {
    "duration": 9,
    "start_time": "2022-03-28T08:15:44.019Z"
   },
   {
    "duration": 654,
    "start_time": "2022-03-28T08:15:44.031Z"
   },
   {
    "duration": 9,
    "start_time": "2022-03-28T08:15:44.688Z"
   },
   {
    "duration": 6,
    "start_time": "2022-03-28T08:15:44.699Z"
   },
   {
    "duration": 10,
    "start_time": "2022-03-28T08:15:44.707Z"
   },
   {
    "duration": 8,
    "start_time": "2022-03-28T08:16:17.590Z"
   },
   {
    "duration": 69,
    "start_time": "2022-03-28T09:25:22.771Z"
   },
   {
    "duration": 618,
    "start_time": "2022-03-28T09:25:26.272Z"
   },
   {
    "duration": 21,
    "start_time": "2022-03-28T09:25:26.893Z"
   },
   {
    "duration": 163,
    "start_time": "2022-03-28T09:25:26.916Z"
   },
   {
    "duration": 21,
    "start_time": "2022-03-28T09:25:27.082Z"
   },
   {
    "duration": 7,
    "start_time": "2022-03-28T09:25:27.105Z"
   },
   {
    "duration": 13,
    "start_time": "2022-03-28T09:25:27.114Z"
   },
   {
    "duration": 45,
    "start_time": "2022-03-28T09:25:27.129Z"
   },
   {
    "duration": 6,
    "start_time": "2022-03-28T09:25:27.176Z"
   },
   {
    "duration": 8,
    "start_time": "2022-03-28T09:25:27.184Z"
   },
   {
    "duration": 112,
    "start_time": "2022-03-28T09:25:27.196Z"
   },
   {
    "duration": 7,
    "start_time": "2022-03-28T09:25:27.310Z"
   },
   {
    "duration": 9,
    "start_time": "2022-03-28T09:25:27.320Z"
   },
   {
    "duration": 8,
    "start_time": "2022-03-28T09:25:27.331Z"
   },
   {
    "duration": 35,
    "start_time": "2022-03-28T09:25:27.342Z"
   },
   {
    "duration": 9,
    "start_time": "2022-03-28T09:25:27.379Z"
   },
   {
    "duration": 9,
    "start_time": "2022-03-28T09:25:27.391Z"
   },
   {
    "duration": 7,
    "start_time": "2022-03-28T09:25:27.402Z"
   },
   {
    "duration": 16,
    "start_time": "2022-03-28T09:25:27.411Z"
   },
   {
    "duration": 47,
    "start_time": "2022-03-28T09:25:27.429Z"
   },
   {
    "duration": 10,
    "start_time": "2022-03-28T09:25:27.478Z"
   },
   {
    "duration": 10,
    "start_time": "2022-03-28T09:25:27.490Z"
   },
   {
    "duration": 8,
    "start_time": "2022-03-28T09:25:27.502Z"
   },
   {
    "duration": 10,
    "start_time": "2022-03-28T09:25:27.512Z"
   },
   {
    "duration": 8,
    "start_time": "2022-03-28T09:25:27.525Z"
   },
   {
    "duration": 45,
    "start_time": "2022-03-28T09:25:27.535Z"
   },
   {
    "duration": 11,
    "start_time": "2022-03-28T09:25:27.582Z"
   },
   {
    "duration": 10,
    "start_time": "2022-03-28T09:25:27.594Z"
   },
   {
    "duration": 19,
    "start_time": "2022-03-28T09:25:27.609Z"
   },
   {
    "duration": 101,
    "start_time": "2022-03-28T09:25:27.630Z"
   },
   {
    "duration": 4,
    "start_time": "2022-03-28T09:25:27.733Z"
   },
   {
    "duration": 14,
    "start_time": "2022-03-28T09:25:27.739Z"
   },
   {
    "duration": 24,
    "start_time": "2022-03-28T09:25:27.755Z"
   },
   {
    "duration": 15,
    "start_time": "2022-03-28T09:25:27.781Z"
   },
   {
    "duration": 10,
    "start_time": "2022-03-28T09:25:27.798Z"
   },
   {
    "duration": 8,
    "start_time": "2022-03-28T09:25:27.810Z"
   },
   {
    "duration": 21,
    "start_time": "2022-03-28T09:25:27.820Z"
   },
   {
    "duration": 6,
    "start_time": "2022-03-28T09:25:27.843Z"
   },
   {
    "duration": 76,
    "start_time": "2022-03-28T09:25:27.875Z"
   },
   {
    "duration": 26,
    "start_time": "2022-03-28T09:25:27.953Z"
   },
   {
    "duration": 7,
    "start_time": "2022-03-28T09:25:27.981Z"
   },
   {
    "duration": 15,
    "start_time": "2022-03-28T09:25:27.990Z"
   },
   {
    "duration": 6,
    "start_time": "2022-03-28T09:25:28.007Z"
   },
   {
    "duration": 15,
    "start_time": "2022-03-28T09:25:28.015Z"
   },
   {
    "duration": 47,
    "start_time": "2022-03-28T09:25:28.032Z"
   },
   {
    "duration": 8,
    "start_time": "2022-03-28T09:25:28.081Z"
   },
   {
    "duration": 409,
    "start_time": "2022-03-28T09:25:28.091Z"
   },
   {
    "duration": 7,
    "start_time": "2022-03-28T09:25:28.502Z"
   },
   {
    "duration": 8,
    "start_time": "2022-03-28T09:25:28.511Z"
   },
   {
    "duration": 12,
    "start_time": "2022-03-28T09:25:28.521Z"
   },
   {
    "duration": 8,
    "start_time": "2022-03-28T09:25:28.535Z"
   },
   {
    "duration": 7,
    "start_time": "2022-03-28T09:25:28.574Z"
   },
   {
    "duration": 17,
    "start_time": "2022-03-28T09:30:04.217Z"
   },
   {
    "duration": 18,
    "start_time": "2022-03-28T09:30:55.082Z"
   },
   {
    "duration": 801,
    "start_time": "2022-03-28T09:34:36.895Z"
   },
   {
    "duration": 239,
    "start_time": "2022-03-28T09:34:45.134Z"
   },
   {
    "duration": 508,
    "start_time": "2022-03-28T09:35:31.123Z"
   },
   {
    "duration": 339,
    "start_time": "2022-03-28T09:35:40.806Z"
   },
   {
    "duration": 405,
    "start_time": "2022-03-28T09:35:45.376Z"
   },
   {
    "duration": 403,
    "start_time": "2022-03-28T09:36:32.311Z"
   },
   {
    "duration": 392,
    "start_time": "2022-03-28T09:36:45.308Z"
   },
   {
    "duration": 231,
    "start_time": "2022-03-28T09:36:52.042Z"
   },
   {
    "duration": 380,
    "start_time": "2022-03-28T09:37:04.487Z"
   },
   {
    "duration": 2235,
    "start_time": "2022-03-28T09:37:55.077Z"
   },
   {
    "duration": 404,
    "start_time": "2022-03-28T09:38:07.035Z"
   },
   {
    "duration": 674,
    "start_time": "2022-03-28T09:38:15.686Z"
   },
   {
    "duration": 294,
    "start_time": "2022-03-28T09:39:23.522Z"
   },
   {
    "duration": 268,
    "start_time": "2022-03-28T09:39:35.244Z"
   },
   {
    "duration": 220,
    "start_time": "2022-03-28T09:39:42.489Z"
   },
   {
    "duration": 610,
    "start_time": "2022-03-28T09:40:20.333Z"
   },
   {
    "duration": 182,
    "start_time": "2022-03-28T09:45:48.301Z"
   },
   {
    "duration": 299,
    "start_time": "2022-03-28T09:45:57.981Z"
   },
   {
    "duration": 12,
    "start_time": "2022-03-28T09:51:25.588Z"
   },
   {
    "duration": 11,
    "start_time": "2022-03-28T09:52:56.674Z"
   },
   {
    "duration": 24,
    "start_time": "2022-03-28T09:53:00.615Z"
   },
   {
    "duration": 300,
    "start_time": "2022-03-28T09:53:12.552Z"
   },
   {
    "duration": 293,
    "start_time": "2022-03-28T09:53:20.640Z"
   },
   {
    "duration": 11,
    "start_time": "2022-03-28T09:54:40.100Z"
   },
   {
    "duration": 738,
    "start_time": "2022-03-28T09:55:31.229Z"
   },
   {
    "duration": 273,
    "start_time": "2022-03-28T09:57:55.094Z"
   },
   {
    "duration": 392,
    "start_time": "2022-03-28T09:58:00.245Z"
   },
   {
    "duration": 9,
    "start_time": "2022-03-28T09:58:29.736Z"
   },
   {
    "duration": 311,
    "start_time": "2022-03-28T09:59:02.082Z"
   },
   {
    "duration": 416,
    "start_time": "2022-03-28T09:59:12.980Z"
   },
   {
    "duration": 395,
    "start_time": "2022-03-28T09:59:31.408Z"
   },
   {
    "duration": 10,
    "start_time": "2022-03-28T10:00:38.552Z"
   },
   {
    "duration": 394,
    "start_time": "2022-03-28T10:00:47.897Z"
   },
   {
    "duration": 740,
    "start_time": "2022-03-28T10:00:57.147Z"
   },
   {
    "duration": 261,
    "start_time": "2022-03-28T10:01:04.501Z"
   },
   {
    "duration": 418,
    "start_time": "2022-03-28T10:01:09.328Z"
   },
   {
    "duration": 389,
    "start_time": "2022-03-28T10:01:52.367Z"
   },
   {
    "duration": 291,
    "start_time": "2022-03-28T10:02:02.571Z"
   },
   {
    "duration": 345,
    "start_time": "2022-03-28T10:02:27.715Z"
   },
   {
    "duration": 467,
    "start_time": "2022-03-28T10:02:55.091Z"
   },
   {
    "duration": 364,
    "start_time": "2022-03-28T10:03:18.367Z"
   },
   {
    "duration": 377,
    "start_time": "2022-03-28T10:03:48.388Z"
   },
   {
    "duration": 10,
    "start_time": "2022-03-28T10:04:03.249Z"
   },
   {
    "duration": 540,
    "start_time": "2022-03-28T10:04:05.880Z"
   },
   {
    "duration": 12,
    "start_time": "2022-03-28T10:11:49.856Z"
   },
   {
    "duration": 14,
    "start_time": "2022-03-28T10:15:52.107Z"
   },
   {
    "duration": 10,
    "start_time": "2022-03-28T10:16:17.373Z"
   },
   {
    "duration": 14,
    "start_time": "2022-03-28T10:18:31.858Z"
   },
   {
    "duration": 54,
    "start_time": "2022-03-28T10:19:30.507Z"
   },
   {
    "duration": 12,
    "start_time": "2022-03-28T10:19:34.497Z"
   },
   {
    "duration": 11,
    "start_time": "2022-03-28T10:19:34.972Z"
   },
   {
    "duration": 8,
    "start_time": "2022-03-28T10:20:35.246Z"
   },
   {
    "duration": 78,
    "start_time": "2022-03-28T10:21:19.365Z"
   },
   {
    "duration": 12,
    "start_time": "2022-03-28T10:21:19.446Z"
   },
   {
    "duration": 165,
    "start_time": "2022-03-28T10:21:19.461Z"
   },
   {
    "duration": 21,
    "start_time": "2022-03-28T10:21:20.227Z"
   },
   {
    "duration": 7,
    "start_time": "2022-03-28T10:21:20.251Z"
   },
   {
    "duration": 18,
    "start_time": "2022-03-28T10:21:20.260Z"
   },
   {
    "duration": 5,
    "start_time": "2022-03-28T10:21:20.299Z"
   },
   {
    "duration": 7,
    "start_time": "2022-03-28T10:21:20.307Z"
   },
   {
    "duration": 7,
    "start_time": "2022-03-28T10:21:20.316Z"
   },
   {
    "duration": 97,
    "start_time": "2022-03-28T10:21:20.325Z"
   },
   {
    "duration": 5,
    "start_time": "2022-03-28T10:21:20.425Z"
   },
   {
    "duration": 16,
    "start_time": "2022-03-28T10:21:20.432Z"
   },
   {
    "duration": 24,
    "start_time": "2022-03-28T10:21:20.450Z"
   },
   {
    "duration": 9,
    "start_time": "2022-03-28T10:21:20.476Z"
   },
   {
    "duration": 9,
    "start_time": "2022-03-28T10:21:20.487Z"
   },
   {
    "duration": 9,
    "start_time": "2022-03-28T10:21:20.499Z"
   },
   {
    "duration": 7,
    "start_time": "2022-03-28T10:21:20.510Z"
   },
   {
    "duration": 60,
    "start_time": "2022-03-28T10:21:20.519Z"
   },
   {
    "duration": 7,
    "start_time": "2022-03-28T10:21:20.582Z"
   },
   {
    "duration": 8,
    "start_time": "2022-03-28T10:21:20.597Z"
   },
   {
    "duration": 9,
    "start_time": "2022-03-28T10:21:20.608Z"
   },
   {
    "duration": 6,
    "start_time": "2022-03-28T10:21:20.619Z"
   },
   {
    "duration": 49,
    "start_time": "2022-03-28T10:21:20.627Z"
   },
   {
    "duration": 8,
    "start_time": "2022-03-28T10:21:20.678Z"
   },
   {
    "duration": 8,
    "start_time": "2022-03-28T10:21:20.689Z"
   },
   {
    "duration": 6,
    "start_time": "2022-03-28T10:21:20.699Z"
   },
   {
    "duration": 8,
    "start_time": "2022-03-28T10:21:20.707Z"
   },
   {
    "duration": 58,
    "start_time": "2022-03-28T10:21:20.717Z"
   },
   {
    "duration": 61,
    "start_time": "2022-03-28T10:21:20.778Z"
   },
   {
    "duration": 4,
    "start_time": "2022-03-28T10:21:20.841Z"
   },
   {
    "duration": 32,
    "start_time": "2022-03-28T10:21:20.847Z"
   },
   {
    "duration": 7,
    "start_time": "2022-03-28T10:21:20.881Z"
   },
   {
    "duration": 8,
    "start_time": "2022-03-28T10:21:20.890Z"
   },
   {
    "duration": 5,
    "start_time": "2022-03-28T10:21:20.901Z"
   },
   {
    "duration": 7,
    "start_time": "2022-03-28T10:21:20.908Z"
   },
   {
    "duration": 8,
    "start_time": "2022-03-28T10:21:20.917Z"
   },
   {
    "duration": 54,
    "start_time": "2022-03-28T10:21:20.927Z"
   },
   {
    "duration": 6,
    "start_time": "2022-03-28T10:21:20.983Z"
   },
   {
    "duration": 84,
    "start_time": "2022-03-28T10:21:20.991Z"
   },
   {
    "duration": 13,
    "start_time": "2022-03-28T10:21:21.077Z"
   },
   {
    "duration": 7,
    "start_time": "2022-03-28T10:21:21.093Z"
   },
   {
    "duration": 15,
    "start_time": "2022-03-28T10:21:21.102Z"
   },
   {
    "duration": 6,
    "start_time": "2022-03-28T10:21:21.119Z"
   },
   {
    "duration": 58,
    "start_time": "2022-03-28T10:21:21.127Z"
   },
   {
    "duration": 6,
    "start_time": "2022-03-28T10:21:21.187Z"
   },
   {
    "duration": 7,
    "start_time": "2022-03-28T10:21:21.195Z"
   },
   {
    "duration": 408,
    "start_time": "2022-03-28T10:21:21.208Z"
   },
   {
    "duration": 7,
    "start_time": "2022-03-28T10:21:21.619Z"
   },
   {
    "duration": 9,
    "start_time": "2022-03-28T10:21:21.629Z"
   },
   {
    "duration": 15,
    "start_time": "2022-03-28T10:21:21.641Z"
   },
   {
    "duration": 16,
    "start_time": "2022-03-28T10:21:21.658Z"
   },
   {
    "duration": 12,
    "start_time": "2022-03-28T10:21:21.677Z"
   },
   {
    "duration": 14,
    "start_time": "2022-03-28T10:21:21.691Z"
   },
   {
    "duration": 389,
    "start_time": "2022-03-28T10:21:21.707Z"
   },
   {
    "duration": 11,
    "start_time": "2022-03-28T10:21:22.098Z"
   },
   {
    "duration": 426,
    "start_time": "2022-03-28T10:21:22.112Z"
   },
   {
    "duration": 10,
    "start_time": "2022-03-28T10:21:22.541Z"
   },
   {
    "duration": 390,
    "start_time": "2022-03-28T10:21:22.573Z"
   },
   {
    "duration": 14,
    "start_time": "2022-03-28T10:21:22.967Z"
   },
   {
    "duration": 385,
    "start_time": "2022-03-28T10:21:22.984Z"
   },
   {
    "duration": 10,
    "start_time": "2022-03-28T10:21:23.374Z"
   },
   {
    "duration": 14,
    "start_time": "2022-03-28T10:21:23.387Z"
   },
   {
    "duration": 10,
    "start_time": "2022-03-28T10:21:23.404Z"
   },
   {
    "duration": 6,
    "start_time": "2022-03-28T10:21:23.416Z"
   },
   {
    "duration": 6,
    "start_time": "2022-03-28T10:23:14.518Z"
   },
   {
    "duration": 354,
    "start_time": "2022-03-28T10:25:43.835Z"
   },
   {
    "duration": 15,
    "start_time": "2022-03-28T10:27:08.437Z"
   },
   {
    "duration": 389,
    "start_time": "2022-03-28T10:31:22.459Z"
   },
   {
    "duration": 12,
    "start_time": "2022-03-28T10:43:15.797Z"
   },
   {
    "duration": 9,
    "start_time": "2022-03-28T10:43:56.489Z"
   },
   {
    "duration": 71,
    "start_time": "2022-03-28T16:02:59.682Z"
   },
   {
    "duration": 661,
    "start_time": "2022-03-28T16:03:03.277Z"
   },
   {
    "duration": 22,
    "start_time": "2022-03-28T16:03:03.940Z"
   },
   {
    "duration": 168,
    "start_time": "2022-03-28T16:03:03.964Z"
   },
   {
    "duration": 21,
    "start_time": "2022-03-28T16:03:04.135Z"
   },
   {
    "duration": 28,
    "start_time": "2022-03-28T16:03:04.158Z"
   },
   {
    "duration": 15,
    "start_time": "2022-03-28T16:03:04.189Z"
   },
   {
    "duration": 6,
    "start_time": "2022-03-28T16:03:04.207Z"
   },
   {
    "duration": 8,
    "start_time": "2022-03-28T16:03:04.216Z"
   },
   {
    "duration": 56,
    "start_time": "2022-03-28T16:03:04.227Z"
   },
   {
    "duration": 145,
    "start_time": "2022-03-28T16:03:04.288Z"
   },
   {
    "duration": 10,
    "start_time": "2022-03-28T16:03:04.435Z"
   },
   {
    "duration": 13,
    "start_time": "2022-03-28T16:03:04.447Z"
   },
   {
    "duration": 10,
    "start_time": "2022-03-28T16:03:04.483Z"
   },
   {
    "duration": 14,
    "start_time": "2022-03-28T16:03:04.496Z"
   },
   {
    "duration": 15,
    "start_time": "2022-03-28T16:03:04.513Z"
   },
   {
    "duration": 10,
    "start_time": "2022-03-28T16:03:04.531Z"
   },
   {
    "duration": 10,
    "start_time": "2022-03-28T16:03:04.544Z"
   },
   {
    "duration": 44,
    "start_time": "2022-03-28T16:03:04.556Z"
   },
   {
    "duration": 9,
    "start_time": "2022-03-28T16:03:04.602Z"
   },
   {
    "duration": 13,
    "start_time": "2022-03-28T16:03:04.614Z"
   },
   {
    "duration": 10,
    "start_time": "2022-03-28T16:03:04.630Z"
   },
   {
    "duration": 41,
    "start_time": "2022-03-28T16:03:04.643Z"
   },
   {
    "duration": 7,
    "start_time": "2022-03-28T16:03:04.686Z"
   },
   {
    "duration": 12,
    "start_time": "2022-03-28T16:03:04.695Z"
   },
   {
    "duration": 10,
    "start_time": "2022-03-28T16:03:04.709Z"
   },
   {
    "duration": 13,
    "start_time": "2022-03-28T16:03:04.721Z"
   },
   {
    "duration": 63,
    "start_time": "2022-03-28T16:03:04.737Z"
   },
   {
    "duration": 31,
    "start_time": "2022-03-28T16:03:04.807Z"
   },
   {
    "duration": 90,
    "start_time": "2022-03-28T16:03:04.840Z"
   },
   {
    "duration": 4,
    "start_time": "2022-03-28T16:03:04.933Z"
   },
   {
    "duration": 12,
    "start_time": "2022-03-28T16:03:04.939Z"
   },
   {
    "duration": 31,
    "start_time": "2022-03-28T16:03:04.953Z"
   },
   {
    "duration": 5,
    "start_time": "2022-03-28T16:03:04.986Z"
   },
   {
    "duration": 27,
    "start_time": "2022-03-28T16:03:04.993Z"
   },
   {
    "duration": 19,
    "start_time": "2022-03-28T16:03:05.023Z"
   },
   {
    "duration": 58,
    "start_time": "2022-03-28T16:03:05.045Z"
   },
   {
    "duration": 41,
    "start_time": "2022-03-28T16:03:05.106Z"
   },
   {
    "duration": 12,
    "start_time": "2022-03-28T16:03:05.149Z"
   },
   {
    "duration": 132,
    "start_time": "2022-03-28T16:03:05.164Z"
   },
   {
    "duration": 20,
    "start_time": "2022-03-28T16:03:05.299Z"
   },
   {
    "duration": 29,
    "start_time": "2022-03-28T16:03:05.322Z"
   },
   {
    "duration": 42,
    "start_time": "2022-03-28T16:03:05.354Z"
   },
   {
    "duration": 19,
    "start_time": "2022-03-28T16:03:05.399Z"
   },
   {
    "duration": 52,
    "start_time": "2022-03-28T16:03:05.421Z"
   },
   {
    "duration": 32,
    "start_time": "2022-03-28T16:03:05.475Z"
   },
   {
    "duration": 20,
    "start_time": "2022-03-28T16:03:05.509Z"
   },
   {
    "duration": 581,
    "start_time": "2022-03-28T16:03:05.531Z"
   },
   {
    "duration": 9,
    "start_time": "2022-03-28T16:03:06.115Z"
   },
   {
    "duration": 14,
    "start_time": "2022-03-28T16:03:06.126Z"
   },
   {
    "duration": 17,
    "start_time": "2022-03-28T16:03:06.142Z"
   },
   {
    "duration": 23,
    "start_time": "2022-03-28T16:03:06.162Z"
   },
   {
    "duration": 16,
    "start_time": "2022-03-28T16:03:06.188Z"
   },
   {
    "duration": 85,
    "start_time": "2022-03-28T16:03:06.206Z"
   },
   {
    "duration": 1348,
    "start_time": "2022-03-28T16:03:06.294Z"
   },
   {
    "duration": 12,
    "start_time": "2022-03-28T16:03:07.645Z"
   },
   {
    "duration": 532,
    "start_time": "2022-03-28T16:03:07.660Z"
   },
   {
    "duration": 11,
    "start_time": "2022-03-28T16:03:08.194Z"
   },
   {
    "duration": 442,
    "start_time": "2022-03-28T16:03:08.208Z"
   },
   {
    "duration": 10,
    "start_time": "2022-03-28T16:03:08.652Z"
   },
   {
    "duration": 382,
    "start_time": "2022-03-28T16:03:08.664Z"
   },
   {
    "duration": 12,
    "start_time": "2022-03-28T16:03:09.048Z"
   },
   {
    "duration": 32,
    "start_time": "2022-03-28T16:03:09.062Z"
   },
   {
    "duration": 18,
    "start_time": "2022-03-28T16:03:09.096Z"
   },
   {
    "duration": 543,
    "start_time": "2022-03-28T16:03:09.117Z"
   },
   {
    "duration": 25,
    "start_time": "2022-03-28T16:03:09.662Z"
   },
   {
    "duration": 91,
    "start_time": "2022-03-28T16:06:22.769Z"
   },
   {
    "duration": 20,
    "start_time": "2022-03-28T16:16:38.059Z"
   },
   {
    "duration": 70,
    "start_time": "2022-03-29T09:33:32.808Z"
   },
   {
    "duration": 649,
    "start_time": "2022-03-29T09:33:35.272Z"
   },
   {
    "duration": 26,
    "start_time": "2022-03-29T09:33:35.924Z"
   },
   {
    "duration": 168,
    "start_time": "2022-03-29T09:33:35.952Z"
   },
   {
    "duration": 31,
    "start_time": "2022-03-29T09:33:36.123Z"
   },
   {
    "duration": 58,
    "start_time": "2022-03-29T09:33:36.157Z"
   },
   {
    "duration": 15,
    "start_time": "2022-03-29T09:33:36.217Z"
   },
   {
    "duration": 6,
    "start_time": "2022-03-29T09:33:36.235Z"
   },
   {
    "duration": 10,
    "start_time": "2022-03-29T09:33:36.243Z"
   },
   {
    "duration": 11,
    "start_time": "2022-03-29T09:33:36.254Z"
   },
   {
    "duration": 108,
    "start_time": "2022-03-29T09:33:36.269Z"
   },
   {
    "duration": 8,
    "start_time": "2022-03-29T09:33:36.379Z"
   },
   {
    "duration": 8,
    "start_time": "2022-03-29T09:33:36.389Z"
   },
   {
    "duration": 10,
    "start_time": "2022-03-29T09:33:36.400Z"
   },
   {
    "duration": 33,
    "start_time": "2022-03-29T09:33:36.414Z"
   },
   {
    "duration": 15,
    "start_time": "2022-03-29T09:33:36.449Z"
   },
   {
    "duration": 13,
    "start_time": "2022-03-29T09:33:36.471Z"
   },
   {
    "duration": 13,
    "start_time": "2022-03-29T09:33:36.487Z"
   },
   {
    "duration": 41,
    "start_time": "2022-03-29T09:33:36.502Z"
   },
   {
    "duration": 8,
    "start_time": "2022-03-29T09:33:36.546Z"
   },
   {
    "duration": 7,
    "start_time": "2022-03-29T09:33:36.556Z"
   },
   {
    "duration": 8,
    "start_time": "2022-03-29T09:33:36.565Z"
   },
   {
    "duration": 6,
    "start_time": "2022-03-29T09:33:36.575Z"
   },
   {
    "duration": 8,
    "start_time": "2022-03-29T09:33:36.584Z"
   },
   {
    "duration": 50,
    "start_time": "2022-03-29T09:33:36.594Z"
   },
   {
    "duration": 5,
    "start_time": "2022-03-29T09:33:36.646Z"
   },
   {
    "duration": 10,
    "start_time": "2022-03-29T09:33:36.653Z"
   },
   {
    "duration": 5,
    "start_time": "2022-03-29T09:33:36.665Z"
   },
   {
    "duration": 5,
    "start_time": "2022-03-29T09:33:36.676Z"
   },
   {
    "duration": 61,
    "start_time": "2022-03-29T09:33:36.683Z"
   },
   {
    "duration": 70,
    "start_time": "2022-03-29T09:33:36.747Z"
   },
   {
    "duration": 24,
    "start_time": "2022-03-29T09:33:36.820Z"
   },
   {
    "duration": 7,
    "start_time": "2022-03-29T09:33:36.846Z"
   },
   {
    "duration": 8,
    "start_time": "2022-03-29T09:33:36.855Z"
   },
   {
    "duration": 9,
    "start_time": "2022-03-29T09:33:36.866Z"
   },
   {
    "duration": 5,
    "start_time": "2022-03-29T09:33:36.877Z"
   },
   {
    "duration": 6,
    "start_time": "2022-03-29T09:33:36.885Z"
   },
   {
    "duration": 51,
    "start_time": "2022-03-29T09:33:36.892Z"
   },
   {
    "duration": 23,
    "start_time": "2022-03-29T09:33:36.945Z"
   },
   {
    "duration": 5,
    "start_time": "2022-03-29T09:33:36.970Z"
   },
   {
    "duration": 95,
    "start_time": "2022-03-29T09:33:36.977Z"
   },
   {
    "duration": 13,
    "start_time": "2022-03-29T09:33:37.074Z"
   },
   {
    "duration": 9,
    "start_time": "2022-03-29T09:33:37.089Z"
   },
   {
    "duration": 17,
    "start_time": "2022-03-29T09:33:37.100Z"
   },
   {
    "duration": 6,
    "start_time": "2022-03-29T09:33:37.143Z"
   },
   {
    "duration": 16,
    "start_time": "2022-03-29T09:33:37.151Z"
   },
   {
    "duration": 5,
    "start_time": "2022-03-29T09:33:37.170Z"
   },
   {
    "duration": 4,
    "start_time": "2022-03-29T09:33:37.177Z"
   },
   {
    "duration": 471,
    "start_time": "2022-03-29T09:33:37.183Z"
   },
   {
    "duration": 9,
    "start_time": "2022-03-29T09:33:37.657Z"
   },
   {
    "duration": 7,
    "start_time": "2022-03-29T09:33:37.668Z"
   },
   {
    "duration": 8,
    "start_time": "2022-03-29T09:33:37.677Z"
   },
   {
    "duration": 5,
    "start_time": "2022-03-29T09:33:37.687Z"
   },
   {
    "duration": 8,
    "start_time": "2022-03-29T09:33:37.694Z"
   },
   {
    "duration": 59,
    "start_time": "2022-03-29T09:33:37.703Z"
   },
   {
    "duration": 981,
    "start_time": "2022-03-29T09:33:37.764Z"
   },
   {
    "duration": 11,
    "start_time": "2022-03-29T09:33:38.748Z"
   },
   {
    "duration": 389,
    "start_time": "2022-03-29T09:33:38.761Z"
   },
   {
    "duration": 9,
    "start_time": "2022-03-29T09:33:39.152Z"
   },
   {
    "duration": 449,
    "start_time": "2022-03-29T09:33:39.164Z"
   },
   {
    "duration": 10,
    "start_time": "2022-03-29T09:33:39.615Z"
   },
   {
    "duration": 367,
    "start_time": "2022-03-29T09:33:39.644Z"
   },
   {
    "duration": 11,
    "start_time": "2022-03-29T09:33:40.014Z"
   },
   {
    "duration": 28,
    "start_time": "2022-03-29T09:33:40.027Z"
   },
   {
    "duration": 10,
    "start_time": "2022-03-29T09:33:40.057Z"
   },
   {
    "duration": 402,
    "start_time": "2022-03-29T09:33:40.069Z"
   },
   {
    "duration": 11,
    "start_time": "2022-03-29T09:33:40.473Z"
   },
   {
    "duration": 18,
    "start_time": "2022-03-29T09:35:44.349Z"
   },
   {
    "duration": 56,
    "start_time": "2022-03-29T09:36:39.447Z"
   },
   {
    "duration": 77,
    "start_time": "2022-03-29T09:38:16.484Z"
   },
   {
    "duration": 17,
    "start_time": "2022-03-29T09:38:36.891Z"
   },
   {
    "duration": 6,
    "start_time": "2022-03-29T09:41:29.018Z"
   },
   {
    "duration": 5,
    "start_time": "2022-03-29T09:41:30.992Z"
   },
   {
    "duration": 21,
    "start_time": "2022-03-29T09:42:53.475Z"
   },
   {
    "duration": 27,
    "start_time": "2022-03-29T09:44:24.214Z"
   },
   {
    "duration": 25,
    "start_time": "2022-03-29T09:51:53.126Z"
   },
   {
    "duration": 27,
    "start_time": "2022-03-29T09:53:56.254Z"
   },
   {
    "duration": 27,
    "start_time": "2022-03-29T09:54:32.249Z"
   },
   {
    "duration": 26,
    "start_time": "2022-03-29T09:55:01.958Z"
   },
   {
    "duration": 46,
    "start_time": "2022-03-29T12:12:10.081Z"
   },
   {
    "duration": 457,
    "start_time": "2022-03-29T12:12:13.036Z"
   },
   {
    "duration": 14,
    "start_time": "2022-03-29T12:12:13.495Z"
   },
   {
    "duration": 118,
    "start_time": "2022-03-29T12:12:13.511Z"
   },
   {
    "duration": 14,
    "start_time": "2022-03-29T12:12:13.631Z"
   },
   {
    "duration": 4,
    "start_time": "2022-03-29T12:12:13.648Z"
   },
   {
    "duration": 10,
    "start_time": "2022-03-29T12:12:13.654Z"
   },
   {
    "duration": 4,
    "start_time": "2022-03-29T12:12:13.666Z"
   },
   {
    "duration": 34,
    "start_time": "2022-03-29T12:12:13.671Z"
   },
   {
    "duration": 5,
    "start_time": "2022-03-29T12:12:13.707Z"
   },
   {
    "duration": 63,
    "start_time": "2022-03-29T12:12:13.713Z"
   },
   {
    "duration": 26,
    "start_time": "2022-03-29T12:12:13.778Z"
   },
   {
    "duration": 7,
    "start_time": "2022-03-29T12:12:13.806Z"
   },
   {
    "duration": 3,
    "start_time": "2022-03-29T12:12:13.815Z"
   },
   {
    "duration": 4,
    "start_time": "2022-03-29T12:12:13.822Z"
   },
   {
    "duration": 6,
    "start_time": "2022-03-29T12:12:13.828Z"
   },
   {
    "duration": 6,
    "start_time": "2022-03-29T12:12:13.835Z"
   },
   {
    "duration": 5,
    "start_time": "2022-03-29T12:12:13.843Z"
   },
   {
    "duration": 55,
    "start_time": "2022-03-29T12:12:13.850Z"
   },
   {
    "duration": 6,
    "start_time": "2022-03-29T12:12:13.907Z"
   },
   {
    "duration": 6,
    "start_time": "2022-03-29T12:12:13.915Z"
   },
   {
    "duration": 13,
    "start_time": "2022-03-29T12:12:13.923Z"
   },
   {
    "duration": 7,
    "start_time": "2022-03-29T12:12:13.938Z"
   },
   {
    "duration": 5,
    "start_time": "2022-03-29T12:12:13.946Z"
   },
   {
    "duration": 6,
    "start_time": "2022-03-29T12:12:13.953Z"
   },
   {
    "duration": 42,
    "start_time": "2022-03-29T12:12:13.960Z"
   },
   {
    "duration": 4,
    "start_time": "2022-03-29T12:12:14.004Z"
   },
   {
    "duration": 6,
    "start_time": "2022-03-29T12:12:14.009Z"
   },
   {
    "duration": 5,
    "start_time": "2022-03-29T12:12:14.017Z"
   },
   {
    "duration": 7,
    "start_time": "2022-03-29T12:12:14.024Z"
   },
   {
    "duration": 27,
    "start_time": "2022-03-29T12:12:14.032Z"
   },
   {
    "duration": 64,
    "start_time": "2022-03-29T12:12:14.060Z"
   },
   {
    "duration": 3,
    "start_time": "2022-03-29T12:12:14.126Z"
   },
   {
    "duration": 19,
    "start_time": "2022-03-29T12:12:14.130Z"
   },
   {
    "duration": 14,
    "start_time": "2022-03-29T12:12:14.150Z"
   },
   {
    "duration": 12,
    "start_time": "2022-03-29T12:12:14.165Z"
   },
   {
    "duration": 16,
    "start_time": "2022-03-29T12:12:14.179Z"
   },
   {
    "duration": 9,
    "start_time": "2022-03-29T12:12:14.197Z"
   },
   {
    "duration": 15,
    "start_time": "2022-03-29T12:12:14.208Z"
   },
   {
    "duration": 31,
    "start_time": "2022-03-29T12:12:14.225Z"
   },
   {
    "duration": 14,
    "start_time": "2022-03-29T12:12:14.258Z"
   },
   {
    "duration": 60,
    "start_time": "2022-03-29T12:12:14.277Z"
   },
   {
    "duration": 9,
    "start_time": "2022-03-29T12:12:14.338Z"
   },
   {
    "duration": 15,
    "start_time": "2022-03-29T12:12:14.349Z"
   },
   {
    "duration": 15,
    "start_time": "2022-03-29T12:12:14.366Z"
   },
   {
    "duration": 14,
    "start_time": "2022-03-29T12:12:14.383Z"
   },
   {
    "duration": 21,
    "start_time": "2022-03-29T12:12:14.401Z"
   },
   {
    "duration": 9,
    "start_time": "2022-03-29T12:12:14.424Z"
   },
   {
    "duration": 11,
    "start_time": "2022-03-29T12:12:14.435Z"
   },
   {
    "duration": 243,
    "start_time": "2022-03-29T12:12:14.448Z"
   },
   {
    "duration": 5,
    "start_time": "2022-03-29T12:12:14.692Z"
   },
   {
    "duration": 4,
    "start_time": "2022-03-29T12:12:14.701Z"
   },
   {
    "duration": 7,
    "start_time": "2022-03-29T12:12:14.706Z"
   },
   {
    "duration": 5,
    "start_time": "2022-03-29T12:12:14.714Z"
   },
   {
    "duration": 8,
    "start_time": "2022-03-29T12:12:14.720Z"
   },
   {
    "duration": 23,
    "start_time": "2022-03-29T12:12:14.729Z"
   },
   {
    "duration": 665,
    "start_time": "2022-03-29T12:12:14.754Z"
   },
   {
    "duration": 7,
    "start_time": "2022-03-29T12:12:15.421Z"
   },
   {
    "duration": 18,
    "start_time": "2022-03-29T12:12:15.430Z"
   },
   {
    "duration": 229,
    "start_time": "2022-03-29T12:12:15.449Z"
   },
   {
    "duration": 7,
    "start_time": "2022-03-29T12:12:15.680Z"
   },
   {
    "duration": 29,
    "start_time": "2022-03-29T12:12:15.688Z"
   },
   {
    "duration": 266,
    "start_time": "2022-03-29T12:12:15.719Z"
   },
   {
    "duration": 16,
    "start_time": "2022-03-29T12:12:15.986Z"
   },
   {
    "duration": 220,
    "start_time": "2022-03-29T12:12:16.003Z"
   },
   {
    "duration": 8,
    "start_time": "2022-03-29T12:12:16.225Z"
   },
   {
    "duration": 9,
    "start_time": "2022-03-29T12:12:16.235Z"
   },
   {
    "duration": 7,
    "start_time": "2022-03-29T12:12:16.245Z"
   },
   {
    "duration": 247,
    "start_time": "2022-03-29T12:12:16.254Z"
   },
   {
    "duration": 9,
    "start_time": "2022-03-29T12:12:16.503Z"
   },
   {
    "duration": 17,
    "start_time": "2022-03-29T12:13:06.508Z"
   },
   {
    "duration": 87,
    "start_time": "2022-03-29T12:15:27.847Z"
   },
   {
    "duration": 9,
    "start_time": "2022-03-29T12:15:27.936Z"
   },
   {
    "duration": 156,
    "start_time": "2022-03-29T12:15:27.946Z"
   },
   {
    "duration": 17,
    "start_time": "2022-03-29T12:15:28.104Z"
   },
   {
    "duration": 5,
    "start_time": "2022-03-29T12:15:28.122Z"
   },
   {
    "duration": 9,
    "start_time": "2022-03-29T12:15:28.129Z"
   },
   {
    "duration": 4,
    "start_time": "2022-03-29T12:15:28.139Z"
   },
   {
    "duration": 5,
    "start_time": "2022-03-29T12:15:28.144Z"
   },
   {
    "duration": 8,
    "start_time": "2022-03-29T12:15:28.150Z"
   },
   {
    "duration": 97,
    "start_time": "2022-03-29T12:15:28.161Z"
   },
   {
    "duration": 6,
    "start_time": "2022-03-29T12:15:28.259Z"
   },
   {
    "duration": 7,
    "start_time": "2022-03-29T12:15:28.267Z"
   },
   {
    "duration": 4,
    "start_time": "2022-03-29T12:15:28.275Z"
   },
   {
    "duration": 21,
    "start_time": "2022-03-29T12:15:28.281Z"
   },
   {
    "duration": 6,
    "start_time": "2022-03-29T12:15:28.304Z"
   },
   {
    "duration": 5,
    "start_time": "2022-03-29T12:15:28.312Z"
   },
   {
    "duration": 10,
    "start_time": "2022-03-29T12:15:28.319Z"
   },
   {
    "duration": 13,
    "start_time": "2022-03-29T12:15:28.330Z"
   },
   {
    "duration": 5,
    "start_time": "2022-03-29T12:15:28.345Z"
   },
   {
    "duration": 8,
    "start_time": "2022-03-29T12:15:28.352Z"
   },
   {
    "duration": 40,
    "start_time": "2022-03-29T12:15:28.362Z"
   },
   {
    "duration": 5,
    "start_time": "2022-03-29T12:15:28.404Z"
   },
   {
    "duration": 7,
    "start_time": "2022-03-29T12:15:28.411Z"
   },
   {
    "duration": 9,
    "start_time": "2022-03-29T12:15:28.420Z"
   },
   {
    "duration": 10,
    "start_time": "2022-03-29T12:15:28.430Z"
   },
   {
    "duration": 7,
    "start_time": "2022-03-29T12:15:28.442Z"
   },
   {
    "duration": 9,
    "start_time": "2022-03-29T12:15:28.451Z"
   },
   {
    "duration": 6,
    "start_time": "2022-03-29T12:15:28.463Z"
   },
   {
    "duration": 10,
    "start_time": "2022-03-29T12:15:28.471Z"
   },
   {
    "duration": 24,
    "start_time": "2022-03-29T12:15:28.483Z"
   },
   {
    "duration": 38,
    "start_time": "2022-03-29T12:15:28.508Z"
   },
   {
    "duration": 3,
    "start_time": "2022-03-29T12:15:28.548Z"
   },
   {
    "duration": 7,
    "start_time": "2022-03-29T12:15:28.552Z"
   },
   {
    "duration": 9,
    "start_time": "2022-03-29T12:15:28.560Z"
   },
   {
    "duration": 8,
    "start_time": "2022-03-29T12:15:28.570Z"
   },
   {
    "duration": 25,
    "start_time": "2022-03-29T12:15:28.579Z"
   },
   {
    "duration": 6,
    "start_time": "2022-03-29T12:15:28.605Z"
   },
   {
    "duration": 9,
    "start_time": "2022-03-29T12:15:28.613Z"
   },
   {
    "duration": 17,
    "start_time": "2022-03-29T12:15:28.624Z"
   },
   {
    "duration": 4,
    "start_time": "2022-03-29T12:15:28.643Z"
   },
   {
    "duration": 59,
    "start_time": "2022-03-29T12:15:28.648Z"
   },
   {
    "duration": 10,
    "start_time": "2022-03-29T12:15:28.708Z"
   },
   {
    "duration": 6,
    "start_time": "2022-03-29T12:15:28.719Z"
   },
   {
    "duration": 11,
    "start_time": "2022-03-29T12:15:28.726Z"
   },
   {
    "duration": 5,
    "start_time": "2022-03-29T12:15:28.738Z"
   },
   {
    "duration": 14,
    "start_time": "2022-03-29T12:15:28.744Z"
   },
   {
    "duration": 5,
    "start_time": "2022-03-29T12:15:28.760Z"
   },
   {
    "duration": 36,
    "start_time": "2022-03-29T12:15:28.766Z"
   },
   {
    "duration": 229,
    "start_time": "2022-03-29T12:15:28.804Z"
   },
   {
    "duration": 5,
    "start_time": "2022-03-29T12:15:29.035Z"
   },
   {
    "duration": 4,
    "start_time": "2022-03-29T12:15:29.042Z"
   },
   {
    "duration": 8,
    "start_time": "2022-03-29T12:15:29.048Z"
   },
   {
    "duration": 7,
    "start_time": "2022-03-29T12:15:29.057Z"
   },
   {
    "duration": 8,
    "start_time": "2022-03-29T12:15:29.065Z"
   },
   {
    "duration": 41,
    "start_time": "2022-03-29T12:15:29.075Z"
   },
   {
    "duration": 192,
    "start_time": "2022-03-29T12:15:29.117Z"
   },
   {
    "duration": 7,
    "start_time": "2022-03-29T12:15:29.311Z"
   },
   {
    "duration": 15,
    "start_time": "2022-03-29T12:15:29.320Z"
   },
   {
    "duration": 240,
    "start_time": "2022-03-29T12:15:29.337Z"
   },
   {
    "duration": 6,
    "start_time": "2022-03-29T12:15:29.579Z"
   },
   {
    "duration": 28,
    "start_time": "2022-03-29T12:15:29.586Z"
   },
   {
    "duration": 293,
    "start_time": "2022-03-29T12:15:29.615Z"
   },
   {
    "duration": 6,
    "start_time": "2022-03-29T12:15:29.910Z"
   },
   {
    "duration": 207,
    "start_time": "2022-03-29T12:15:29.918Z"
   },
   {
    "duration": 8,
    "start_time": "2022-03-29T12:15:30.126Z"
   },
   {
    "duration": 9,
    "start_time": "2022-03-29T12:15:30.135Z"
   },
   {
    "duration": 7,
    "start_time": "2022-03-29T12:15:30.145Z"
   },
   {
    "duration": 256,
    "start_time": "2022-03-29T12:15:30.154Z"
   },
   {
    "duration": 9,
    "start_time": "2022-03-29T12:15:30.413Z"
   },
   {
    "duration": 18,
    "start_time": "2022-03-29T12:20:57.068Z"
   },
   {
    "duration": 10,
    "start_time": "2022-03-29T12:28:29.640Z"
   },
   {
    "duration": 192,
    "start_time": "2022-03-29T12:31:20.747Z"
   },
   {
    "duration": 180,
    "start_time": "2022-03-29T12:31:33.216Z"
   },
   {
    "duration": 14,
    "start_time": "2022-03-29T12:31:46.045Z"
   },
   {
    "duration": 210,
    "start_time": "2022-03-29T12:34:14.202Z"
   },
   {
    "duration": 10,
    "start_time": "2022-03-29T12:37:33.196Z"
   },
   {
    "duration": 13,
    "start_time": "2022-03-29T12:38:01.816Z"
   },
   {
    "duration": 191,
    "start_time": "2022-03-29T12:45:06.278Z"
   },
   {
    "duration": 6,
    "start_time": "2022-03-29T13:03:14.684Z"
   },
   {
    "duration": 199,
    "start_time": "2022-03-29T13:03:46.168Z"
   },
   {
    "duration": 5,
    "start_time": "2022-03-29T13:03:51.384Z"
   },
   {
    "duration": 6,
    "start_time": "2022-03-29T13:04:26.837Z"
   },
   {
    "duration": 16,
    "start_time": "2022-03-29T13:09:56.515Z"
   },
   {
    "duration": 15,
    "start_time": "2022-03-29T13:12:22.208Z"
   },
   {
    "duration": 15,
    "start_time": "2022-03-29T13:12:39.645Z"
   },
   {
    "duration": 46,
    "start_time": "2022-03-31T08:32:29.259Z"
   },
   {
    "duration": 477,
    "start_time": "2022-03-31T08:32:31.843Z"
   },
   {
    "duration": 15,
    "start_time": "2022-03-31T08:32:32.322Z"
   },
   {
    "duration": 122,
    "start_time": "2022-03-31T08:32:32.339Z"
   },
   {
    "duration": 13,
    "start_time": "2022-03-31T08:32:32.463Z"
   },
   {
    "duration": 5,
    "start_time": "2022-03-31T08:32:32.478Z"
   },
   {
    "duration": 12,
    "start_time": "2022-03-31T08:32:32.485Z"
   },
   {
    "duration": 3,
    "start_time": "2022-03-31T08:32:32.498Z"
   },
   {
    "duration": 6,
    "start_time": "2022-03-31T08:32:32.503Z"
   },
   {
    "duration": 30,
    "start_time": "2022-03-31T08:32:32.510Z"
   },
   {
    "duration": 64,
    "start_time": "2022-03-31T08:32:32.542Z"
   },
   {
    "duration": 6,
    "start_time": "2022-03-31T08:32:32.608Z"
   },
   {
    "duration": 23,
    "start_time": "2022-03-31T08:32:32.615Z"
   },
   {
    "duration": 8,
    "start_time": "2022-03-31T08:32:32.640Z"
   },
   {
    "duration": 7,
    "start_time": "2022-03-31T08:32:32.651Z"
   },
   {
    "duration": 13,
    "start_time": "2022-03-31T08:32:32.660Z"
   },
   {
    "duration": 16,
    "start_time": "2022-03-31T08:32:32.675Z"
   },
   {
    "duration": 10,
    "start_time": "2022-03-31T08:32:32.692Z"
   },
   {
    "duration": 11,
    "start_time": "2022-03-31T08:32:32.703Z"
   },
   {
    "duration": 4,
    "start_time": "2022-03-31T08:32:32.716Z"
   },
   {
    "duration": 4,
    "start_time": "2022-03-31T08:32:32.738Z"
   },
   {
    "duration": 26,
    "start_time": "2022-03-31T08:32:32.744Z"
   },
   {
    "duration": 7,
    "start_time": "2022-03-31T08:32:32.771Z"
   },
   {
    "duration": 7,
    "start_time": "2022-03-31T08:32:32.779Z"
   },
   {
    "duration": 8,
    "start_time": "2022-03-31T08:32:32.787Z"
   },
   {
    "duration": 8,
    "start_time": "2022-03-31T08:32:32.796Z"
   },
   {
    "duration": 5,
    "start_time": "2022-03-31T08:32:32.806Z"
   },
   {
    "duration": 9,
    "start_time": "2022-03-31T08:32:32.812Z"
   },
   {
    "duration": 5,
    "start_time": "2022-03-31T08:32:32.823Z"
   },
   {
    "duration": 4,
    "start_time": "2022-03-31T08:32:32.838Z"
   },
   {
    "duration": 19,
    "start_time": "2022-03-31T08:32:32.844Z"
   },
   {
    "duration": 44,
    "start_time": "2022-03-31T08:32:32.865Z"
   },
   {
    "duration": 3,
    "start_time": "2022-03-31T08:32:32.911Z"
   },
   {
    "duration": 27,
    "start_time": "2022-03-31T08:32:32.915Z"
   },
   {
    "duration": 6,
    "start_time": "2022-03-31T08:32:32.943Z"
   },
   {
    "duration": 7,
    "start_time": "2022-03-31T08:32:32.951Z"
   },
   {
    "duration": 5,
    "start_time": "2022-03-31T08:32:32.959Z"
   },
   {
    "duration": 6,
    "start_time": "2022-03-31T08:32:32.966Z"
   },
   {
    "duration": 5,
    "start_time": "2022-03-31T08:32:32.973Z"
   },
   {
    "duration": 21,
    "start_time": "2022-03-31T08:32:32.980Z"
   },
   {
    "duration": 35,
    "start_time": "2022-03-31T08:32:33.003Z"
   },
   {
    "duration": 48,
    "start_time": "2022-03-31T08:32:33.044Z"
   },
   {
    "duration": 10,
    "start_time": "2022-03-31T08:32:33.094Z"
   },
   {
    "duration": 8,
    "start_time": "2022-03-31T08:32:33.106Z"
   },
   {
    "duration": 29,
    "start_time": "2022-03-31T08:32:33.115Z"
   },
   {
    "duration": 7,
    "start_time": "2022-03-31T08:32:33.145Z"
   },
   {
    "duration": 11,
    "start_time": "2022-03-31T08:32:33.153Z"
   },
   {
    "duration": 4,
    "start_time": "2022-03-31T08:32:33.166Z"
   },
   {
    "duration": 4,
    "start_time": "2022-03-31T08:32:33.172Z"
   },
   {
    "duration": 233,
    "start_time": "2022-03-31T08:32:33.178Z"
   },
   {
    "duration": 5,
    "start_time": "2022-03-31T08:32:33.413Z"
   },
   {
    "duration": 10,
    "start_time": "2022-03-31T08:32:33.420Z"
   },
   {
    "duration": 9,
    "start_time": "2022-03-31T08:32:33.437Z"
   },
   {
    "duration": 10,
    "start_time": "2022-03-31T08:32:33.447Z"
   },
   {
    "duration": 11,
    "start_time": "2022-03-31T08:32:33.459Z"
   },
   {
    "duration": 18,
    "start_time": "2022-03-31T08:32:33.472Z"
   },
   {
    "duration": 615,
    "start_time": "2022-03-31T08:32:33.492Z"
   },
   {
    "duration": 8,
    "start_time": "2022-03-31T08:32:34.109Z"
   },
   {
    "duration": 30,
    "start_time": "2022-03-31T08:32:34.118Z"
   },
   {
    "duration": 235,
    "start_time": "2022-03-31T08:32:34.149Z"
   },
   {
    "duration": 7,
    "start_time": "2022-03-31T08:32:34.386Z"
   },
   {
    "duration": 21,
    "start_time": "2022-03-31T08:32:34.394Z"
   },
   {
    "duration": 294,
    "start_time": "2022-03-31T08:32:34.417Z"
   },
   {
    "duration": 7,
    "start_time": "2022-03-31T08:32:34.713Z"
   },
   {
    "duration": 32,
    "start_time": "2022-03-31T08:32:34.722Z"
   },
   {
    "duration": 219,
    "start_time": "2022-03-31T08:32:34.756Z"
   },
   {
    "duration": 8,
    "start_time": "2022-03-31T08:32:34.976Z"
   },
   {
    "duration": 9,
    "start_time": "2022-03-31T08:32:34.985Z"
   },
   {
    "duration": 11,
    "start_time": "2022-03-31T08:32:34.995Z"
   },
   {
    "duration": 254,
    "start_time": "2022-03-31T08:32:35.008Z"
   },
   {
    "duration": 10,
    "start_time": "2022-03-31T08:32:35.263Z"
   },
   {
    "duration": 12,
    "start_time": "2022-03-31T08:32:35.274Z"
   },
   {
    "duration": 10,
    "start_time": "2022-03-31T08:32:35.288Z"
   },
   {
    "duration": 14,
    "start_time": "2022-03-31T08:32:35.300Z"
   },
   {
    "duration": 35,
    "start_time": "2022-03-31T08:32:35.315Z"
   },
   {
    "duration": 5,
    "start_time": "2022-03-31T08:32:35.351Z"
   },
   {
    "duration": 6,
    "start_time": "2022-03-31T08:32:35.358Z"
   },
   {
    "duration": 7,
    "start_time": "2022-03-31T08:32:35.366Z"
   },
   {
    "duration": 17,
    "start_time": "2022-03-31T08:32:35.375Z"
   },
   {
    "duration": 531,
    "start_time": "2022-03-31T08:32:35.394Z"
   },
   {
    "duration": 8,
    "start_time": "2022-03-31T08:33:16.272Z"
   },
   {
    "duration": 14,
    "start_time": "2022-03-31T08:33:24.212Z"
   },
   {
    "duration": 14,
    "start_time": "2022-03-31T08:34:30.932Z"
   },
   {
    "duration": 15,
    "start_time": "2022-03-31T08:34:46.043Z"
   },
   {
    "duration": 14,
    "start_time": "2022-03-31T08:34:59.111Z"
   },
   {
    "duration": 20,
    "start_time": "2022-03-31T08:35:34.042Z"
   },
   {
    "duration": 15,
    "start_time": "2022-03-31T08:35:41.645Z"
   },
   {
    "duration": 3,
    "start_time": "2022-03-31T08:45:58.540Z"
   },
   {
    "duration": 10,
    "start_time": "2022-03-31T08:46:44.909Z"
   },
   {
    "duration": 704,
    "start_time": "2022-03-31T08:46:54.409Z"
   },
   {
    "duration": 140,
    "start_time": "2022-03-31T08:48:24.489Z"
   },
   {
    "duration": 147,
    "start_time": "2022-03-31T08:48:37.368Z"
   },
   {
    "duration": 224,
    "start_time": "2022-03-31T08:50:39.800Z"
   },
   {
    "duration": 17,
    "start_time": "2022-03-31T08:51:03.221Z"
   },
   {
    "duration": 130,
    "start_time": "2022-03-31T08:51:56.530Z"
   },
   {
    "duration": 131,
    "start_time": "2022-03-31T08:53:00.252Z"
   },
   {
    "duration": 127,
    "start_time": "2022-03-31T08:53:06.281Z"
   },
   {
    "duration": 148,
    "start_time": "2022-03-31T08:54:04.733Z"
   },
   {
    "duration": 185,
    "start_time": "2022-03-31T08:54:39.161Z"
   },
   {
    "duration": 13,
    "start_time": "2022-03-31T08:55:29.470Z"
   },
   {
    "duration": 139,
    "start_time": "2022-03-31T08:55:43.452Z"
   },
   {
    "duration": 159,
    "start_time": "2022-03-31T08:55:57.441Z"
   },
   {
    "duration": 140,
    "start_time": "2022-03-31T08:56:05.611Z"
   },
   {
    "duration": 14,
    "start_time": "2022-03-31T08:56:15.682Z"
   },
   {
    "duration": 14,
    "start_time": "2022-03-31T08:56:24.150Z"
   },
   {
    "duration": 197,
    "start_time": "2022-03-31T09:02:26.623Z"
   },
   {
    "duration": 152,
    "start_time": "2022-03-31T09:02:42.731Z"
   },
   {
    "duration": 186,
    "start_time": "2022-03-31T09:05:33.441Z"
   },
   {
    "duration": 279,
    "start_time": "2022-03-31T09:11:52.062Z"
   },
   {
    "duration": 141,
    "start_time": "2022-03-31T09:12:29.843Z"
   },
   {
    "duration": 63,
    "start_time": "2022-03-31T09:21:07.395Z"
   },
   {
    "duration": 57,
    "start_time": "2022-03-31T09:21:07.618Z"
   },
   {
    "duration": 102,
    "start_time": "2022-03-31T09:21:07.812Z"
   },
   {
    "duration": 12,
    "start_time": "2022-03-31T09:21:07.951Z"
   },
   {
    "duration": 8,
    "start_time": "2022-03-31T09:21:07.981Z"
   },
   {
    "duration": 8,
    "start_time": "2022-03-31T09:21:08.040Z"
   },
   {
    "duration": 4,
    "start_time": "2022-03-31T09:21:08.065Z"
   },
   {
    "duration": 9,
    "start_time": "2022-03-31T09:21:08.088Z"
   },
   {
    "duration": 9,
    "start_time": "2022-03-31T09:21:08.187Z"
   },
   {
    "duration": 64,
    "start_time": "2022-03-31T09:21:08.282Z"
   },
   {
    "duration": 12,
    "start_time": "2022-03-31T09:21:08.366Z"
   },
   {
    "duration": 9,
    "start_time": "2022-03-31T09:21:08.395Z"
   },
   {
    "duration": 10,
    "start_time": "2022-03-31T09:21:08.428Z"
   },
   {
    "duration": 6,
    "start_time": "2022-03-31T09:21:08.458Z"
   },
   {
    "duration": 7,
    "start_time": "2022-03-31T09:21:08.480Z"
   },
   {
    "duration": 5,
    "start_time": "2022-03-31T09:21:08.501Z"
   },
   {
    "duration": 8,
    "start_time": "2022-03-31T09:21:08.560Z"
   },
   {
    "duration": 8,
    "start_time": "2022-03-31T09:21:08.586Z"
   },
   {
    "duration": 5,
    "start_time": "2022-03-31T09:21:08.640Z"
   },
   {
    "duration": 11,
    "start_time": "2022-03-31T09:21:08.669Z"
   },
   {
    "duration": 34,
    "start_time": "2022-03-31T09:21:08.715Z"
   },
   {
    "duration": 7,
    "start_time": "2022-03-31T09:21:08.770Z"
   },
   {
    "duration": 10,
    "start_time": "2022-03-31T09:21:08.796Z"
   },
   {
    "duration": 4,
    "start_time": "2022-03-31T09:21:08.839Z"
   },
   {
    "duration": 4,
    "start_time": "2022-03-31T09:21:08.868Z"
   },
   {
    "duration": 5,
    "start_time": "2022-03-31T09:21:08.887Z"
   },
   {
    "duration": 5,
    "start_time": "2022-03-31T09:21:08.938Z"
   },
   {
    "duration": 5,
    "start_time": "2022-03-31T09:21:08.959Z"
   },
   {
    "duration": 6,
    "start_time": "2022-03-31T09:21:08.989Z"
   },
   {
    "duration": 12,
    "start_time": "2022-03-31T09:21:09.081Z"
   },
   {
    "duration": 40,
    "start_time": "2022-03-31T09:21:09.163Z"
   },
   {
    "duration": 4,
    "start_time": "2022-03-31T09:21:09.237Z"
   },
   {
    "duration": 6,
    "start_time": "2022-03-31T09:21:09.260Z"
   },
   {
    "duration": 25,
    "start_time": "2022-03-31T09:21:09.287Z"
   },
   {
    "duration": 7,
    "start_time": "2022-03-31T09:21:09.334Z"
   },
   {
    "duration": 12,
    "start_time": "2022-03-31T09:21:09.364Z"
   },
   {
    "duration": 6,
    "start_time": "2022-03-31T09:21:09.397Z"
   },
   {
    "duration": 12,
    "start_time": "2022-03-31T09:21:09.427Z"
   },
   {
    "duration": 13,
    "start_time": "2022-03-31T09:21:09.477Z"
   },
   {
    "duration": 11,
    "start_time": "2022-03-31T09:21:09.550Z"
   },
   {
    "duration": 49,
    "start_time": "2022-03-31T09:21:09.626Z"
   },
   {
    "duration": 11,
    "start_time": "2022-03-31T09:21:09.704Z"
   },
   {
    "duration": 22,
    "start_time": "2022-03-31T09:21:09.757Z"
   },
   {
    "duration": 14,
    "start_time": "2022-03-31T09:21:09.803Z"
   },
   {
    "duration": 8,
    "start_time": "2022-03-31T09:21:09.842Z"
   },
   {
    "duration": 14,
    "start_time": "2022-03-31T09:21:09.885Z"
   },
   {
    "duration": 12,
    "start_time": "2022-03-31T09:21:09.922Z"
   },
   {
    "duration": 9,
    "start_time": "2022-03-31T09:21:10.153Z"
   },
   {
    "duration": 212,
    "start_time": "2022-03-31T09:21:10.389Z"
   },
   {
    "duration": 18,
    "start_time": "2022-03-31T09:21:10.619Z"
   },
   {
    "duration": 5,
    "start_time": "2022-03-31T09:21:10.661Z"
   },
   {
    "duration": 12,
    "start_time": "2022-03-31T09:21:10.687Z"
   },
   {
    "duration": 22,
    "start_time": "2022-03-31T09:21:10.717Z"
   },
   {
    "duration": 8,
    "start_time": "2022-03-31T09:21:10.771Z"
   },
   {
    "duration": 17,
    "start_time": "2022-03-31T09:21:11.038Z"
   },
   {
    "duration": 217,
    "start_time": "2022-03-31T09:21:11.288Z"
   },
   {
    "duration": 7,
    "start_time": "2022-03-31T09:21:11.547Z"
   },
   {
    "duration": 18,
    "start_time": "2022-03-31T09:21:11.840Z"
   },
   {
    "duration": 244,
    "start_time": "2022-03-31T09:21:12.124Z"
   },
   {
    "duration": 12,
    "start_time": "2022-03-31T09:21:12.399Z"
   },
   {
    "duration": 19,
    "start_time": "2022-03-31T09:21:12.700Z"
   },
   {
    "duration": 253,
    "start_time": "2022-03-31T09:21:12.987Z"
   },
   {
    "duration": 21,
    "start_time": "2022-03-31T09:21:13.272Z"
   },
   {
    "duration": 26,
    "start_time": "2022-03-31T09:21:13.556Z"
   },
   {
    "duration": 223,
    "start_time": "2022-03-31T09:21:13.837Z"
   },
   {
    "duration": 17,
    "start_time": "2022-03-31T09:21:14.089Z"
   },
   {
    "duration": 15,
    "start_time": "2022-03-31T09:21:14.145Z"
   },
   {
    "duration": 17,
    "start_time": "2022-03-31T09:21:14.398Z"
   },
   {
    "duration": 230,
    "start_time": "2022-03-31T09:21:14.686Z"
   },
   {
    "duration": 15,
    "start_time": "2022-03-31T09:21:14.971Z"
   },
   {
    "duration": 23,
    "start_time": "2022-03-31T09:21:15.042Z"
   },
   {
    "duration": 24,
    "start_time": "2022-03-31T09:21:15.124Z"
   },
   {
    "duration": 17,
    "start_time": "2022-03-31T09:21:15.183Z"
   },
   {
    "duration": 17,
    "start_time": "2022-03-31T09:21:15.235Z"
   },
   {
    "duration": 6,
    "start_time": "2022-03-31T09:21:15.457Z"
   },
   {
    "duration": 188,
    "start_time": "2022-03-31T09:21:15.687Z"
   },
   {
    "duration": 62,
    "start_time": "2022-03-31T09:33:35.087Z"
   },
   {
    "duration": 10,
    "start_time": "2022-03-31T09:33:35.776Z"
   },
   {
    "duration": 893,
    "start_time": "2022-03-31T09:33:35.824Z"
   },
   {
    "duration": 16,
    "start_time": "2022-03-31T09:33:36.967Z"
   },
   {
    "duration": 12,
    "start_time": "2022-03-31T09:33:37.001Z"
   },
   {
    "duration": 17,
    "start_time": "2022-03-31T09:33:37.044Z"
   },
   {
    "duration": 4,
    "start_time": "2022-03-31T09:33:37.075Z"
   },
   {
    "duration": 9,
    "start_time": "2022-03-31T09:33:37.089Z"
   },
   {
    "duration": 29,
    "start_time": "2022-03-31T09:33:37.110Z"
   },
   {
    "duration": 59,
    "start_time": "2022-03-31T09:33:37.147Z"
   },
   {
    "duration": 4,
    "start_time": "2022-03-31T09:33:37.284Z"
   },
   {
    "duration": 11,
    "start_time": "2022-03-31T09:33:37.300Z"
   },
   {
    "duration": 10,
    "start_time": "2022-03-31T09:33:37.328Z"
   },
   {
    "duration": 7,
    "start_time": "2022-03-31T09:33:37.346Z"
   },
   {
    "duration": 8,
    "start_time": "2022-03-31T09:33:37.370Z"
   },
   {
    "duration": 7,
    "start_time": "2022-03-31T09:33:37.388Z"
   },
   {
    "duration": 8,
    "start_time": "2022-03-31T09:33:37.403Z"
   },
   {
    "duration": 9,
    "start_time": "2022-03-31T09:33:37.437Z"
   },
   {
    "duration": 5,
    "start_time": "2022-03-31T09:33:37.455Z"
   },
   {
    "duration": 6,
    "start_time": "2022-03-31T09:33:37.468Z"
   },
   {
    "duration": 14,
    "start_time": "2022-03-31T09:33:37.482Z"
   },
   {
    "duration": 5,
    "start_time": "2022-03-31T09:33:37.546Z"
   },
   {
    "duration": 8,
    "start_time": "2022-03-31T09:33:37.562Z"
   },
   {
    "duration": 7,
    "start_time": "2022-03-31T09:33:37.580Z"
   },
   {
    "duration": 8,
    "start_time": "2022-03-31T09:33:37.596Z"
   },
   {
    "duration": 23,
    "start_time": "2022-03-31T09:33:37.616Z"
   },
   {
    "duration": 10,
    "start_time": "2022-03-31T09:33:37.650Z"
   },
   {
    "duration": 6,
    "start_time": "2022-03-31T09:33:37.672Z"
   },
   {
    "duration": 8,
    "start_time": "2022-03-31T09:33:37.690Z"
   },
   {
    "duration": 36,
    "start_time": "2022-03-31T09:33:37.711Z"
   },
   {
    "duration": 41,
    "start_time": "2022-03-31T09:33:37.764Z"
   },
   {
    "duration": 3,
    "start_time": "2022-03-31T09:33:37.872Z"
   },
   {
    "duration": 9,
    "start_time": "2022-03-31T09:33:37.884Z"
   },
   {
    "duration": 8,
    "start_time": "2022-03-31T09:33:37.909Z"
   },
   {
    "duration": 8,
    "start_time": "2022-03-31T09:33:37.941Z"
   },
   {
    "duration": 9,
    "start_time": "2022-03-31T09:33:37.961Z"
   },
   {
    "duration": 8,
    "start_time": "2022-03-31T09:33:37.982Z"
   },
   {
    "duration": 8,
    "start_time": "2022-03-31T09:33:38.000Z"
   },
   {
    "duration": 31,
    "start_time": "2022-03-31T09:33:38.018Z"
   },
   {
    "duration": 5,
    "start_time": "2022-03-31T09:33:38.067Z"
   },
   {
    "duration": 61,
    "start_time": "2022-03-31T09:33:38.089Z"
   },
   {
    "duration": 9,
    "start_time": "2022-03-31T09:33:38.194Z"
   },
   {
    "duration": 6,
    "start_time": "2022-03-31T09:33:38.240Z"
   },
   {
    "duration": 11,
    "start_time": "2022-03-31T09:33:38.258Z"
   },
   {
    "duration": 4,
    "start_time": "2022-03-31T09:33:38.282Z"
   },
   {
    "duration": 44,
    "start_time": "2022-03-31T09:33:38.295Z"
   },
   {
    "duration": 10,
    "start_time": "2022-03-31T09:33:38.351Z"
   },
   {
    "duration": 5,
    "start_time": "2022-03-31T09:33:38.370Z"
   },
   {
    "duration": 807,
    "start_time": "2022-03-31T09:33:38.384Z"
   },
   {
    "duration": 6,
    "start_time": "2022-03-31T09:33:39.400Z"
   },
   {
    "duration": 10,
    "start_time": "2022-03-31T09:33:39.439Z"
   },
   {
    "duration": 19,
    "start_time": "2022-03-31T09:33:39.485Z"
   },
   {
    "duration": 22,
    "start_time": "2022-03-31T09:33:39.532Z"
   },
   {
    "duration": 28,
    "start_time": "2022-03-31T09:33:39.569Z"
   },
   {
    "duration": 32,
    "start_time": "2022-03-31T09:33:39.623Z"
   },
   {
    "duration": 206,
    "start_time": "2022-03-31T09:33:39.676Z"
   },
   {
    "duration": 7,
    "start_time": "2022-03-31T09:33:40.103Z"
   },
   {
    "duration": 32,
    "start_time": "2022-03-31T09:33:40.131Z"
   },
   {
    "duration": 234,
    "start_time": "2022-03-31T09:33:40.183Z"
   },
   {
    "duration": 6,
    "start_time": "2022-03-31T09:33:40.661Z"
   },
   {
    "duration": 23,
    "start_time": "2022-03-31T09:33:40.699Z"
   },
   {
    "duration": 226,
    "start_time": "2022-03-31T09:33:40.754Z"
   },
   {
    "duration": 7,
    "start_time": "2022-03-31T09:33:41.206Z"
   },
   {
    "duration": 86,
    "start_time": "2022-03-31T09:33:41.225Z"
   },
   {
    "duration": 220,
    "start_time": "2022-03-31T09:33:41.447Z"
   },
   {
    "duration": 9,
    "start_time": "2022-03-31T09:33:41.894Z"
   },
   {
    "duration": 266,
    "start_time": "2022-03-31T09:33:41.920Z"
   },
   {
    "duration": 32,
    "start_time": "2022-03-31T09:33:42.223Z"
   },
   {
    "duration": 230,
    "start_time": "2022-03-31T09:33:42.265Z"
   },
   {
    "duration": 10,
    "start_time": "2022-03-31T09:33:42.740Z"
   },
   {
    "duration": 51,
    "start_time": "2022-03-31T09:33:42.762Z"
   },
   {
    "duration": 11,
    "start_time": "2022-03-31T09:33:43.166Z"
   },
   {
    "duration": 8,
    "start_time": "2022-03-31T09:33:43.208Z"
   },
   {
    "duration": 15,
    "start_time": "2022-03-31T09:33:43.231Z"
   },
   {
    "duration": 4,
    "start_time": "2022-03-31T09:33:43.262Z"
   },
   {
    "duration": 969,
    "start_time": "2022-03-31T09:33:43.279Z"
   },
   {
    "duration": 6,
    "start_time": "2022-03-31T09:33:44.461Z"
   },
   {
    "duration": 513,
    "start_time": "2022-03-31T09:37:38.131Z"
   },
   {
    "duration": 15,
    "start_time": "2022-03-31T09:37:38.647Z"
   },
   {
    "duration": 120,
    "start_time": "2022-03-31T09:37:38.663Z"
   },
   {
    "duration": 15,
    "start_time": "2022-03-31T09:37:38.785Z"
   },
   {
    "duration": 5,
    "start_time": "2022-03-31T09:37:38.801Z"
   },
   {
    "duration": 31,
    "start_time": "2022-03-31T09:37:38.808Z"
   },
   {
    "duration": 5,
    "start_time": "2022-03-31T09:37:38.840Z"
   },
   {
    "duration": 12,
    "start_time": "2022-03-31T09:37:38.846Z"
   },
   {
    "duration": 14,
    "start_time": "2022-03-31T09:37:38.859Z"
   },
   {
    "duration": 69,
    "start_time": "2022-03-31T09:37:38.876Z"
   },
   {
    "duration": 6,
    "start_time": "2022-03-31T09:37:38.946Z"
   },
   {
    "duration": 9,
    "start_time": "2022-03-31T09:37:38.953Z"
   },
   {
    "duration": 17,
    "start_time": "2022-03-31T09:37:38.964Z"
   },
   {
    "duration": 22,
    "start_time": "2022-03-31T09:37:38.983Z"
   },
   {
    "duration": 11,
    "start_time": "2022-03-31T09:37:39.007Z"
   },
   {
    "duration": 14,
    "start_time": "2022-03-31T09:37:39.019Z"
   },
   {
    "duration": 18,
    "start_time": "2022-03-31T09:37:39.035Z"
   },
   {
    "duration": 17,
    "start_time": "2022-03-31T09:37:39.055Z"
   },
   {
    "duration": 7,
    "start_time": "2022-03-31T09:37:39.074Z"
   },
   {
    "duration": 10,
    "start_time": "2022-03-31T09:37:39.083Z"
   },
   {
    "duration": 25,
    "start_time": "2022-03-31T09:37:39.095Z"
   },
   {
    "duration": 12,
    "start_time": "2022-03-31T09:37:39.122Z"
   },
   {
    "duration": 24,
    "start_time": "2022-03-31T09:37:39.136Z"
   },
   {
    "duration": 8,
    "start_time": "2022-03-31T09:37:39.162Z"
   },
   {
    "duration": 15,
    "start_time": "2022-03-31T09:37:39.172Z"
   },
   {
    "duration": 18,
    "start_time": "2022-03-31T09:37:39.189Z"
   },
   {
    "duration": 17,
    "start_time": "2022-03-31T09:37:39.209Z"
   },
   {
    "duration": 4,
    "start_time": "2022-03-31T09:37:39.231Z"
   },
   {
    "duration": 6,
    "start_time": "2022-03-31T09:37:39.237Z"
   },
   {
    "duration": 23,
    "start_time": "2022-03-31T09:37:39.245Z"
   },
   {
    "duration": 47,
    "start_time": "2022-03-31T09:37:39.270Z"
   },
   {
    "duration": 3,
    "start_time": "2022-03-31T09:37:39.319Z"
   },
   {
    "duration": 7,
    "start_time": "2022-03-31T09:37:39.337Z"
   },
   {
    "duration": 6,
    "start_time": "2022-03-31T09:37:39.345Z"
   },
   {
    "duration": 5,
    "start_time": "2022-03-31T09:37:39.353Z"
   },
   {
    "duration": 16,
    "start_time": "2022-03-31T09:37:39.359Z"
   },
   {
    "duration": 11,
    "start_time": "2022-03-31T09:37:39.377Z"
   },
   {
    "duration": 13,
    "start_time": "2022-03-31T09:37:39.389Z"
   },
   {
    "duration": 25,
    "start_time": "2022-03-31T09:37:39.403Z"
   },
   {
    "duration": 4,
    "start_time": "2022-03-31T09:37:39.430Z"
   },
   {
    "duration": 65,
    "start_time": "2022-03-31T09:37:39.437Z"
   },
   {
    "duration": 10,
    "start_time": "2022-03-31T09:37:39.504Z"
   },
   {
    "duration": 7,
    "start_time": "2022-03-31T09:37:39.516Z"
   },
   {
    "duration": 20,
    "start_time": "2022-03-31T09:37:39.525Z"
   },
   {
    "duration": 12,
    "start_time": "2022-03-31T09:37:39.547Z"
   },
   {
    "duration": 24,
    "start_time": "2022-03-31T09:37:39.560Z"
   },
   {
    "duration": 9,
    "start_time": "2022-03-31T09:37:39.586Z"
   },
   {
    "duration": 14,
    "start_time": "2022-03-31T09:37:39.596Z"
   },
   {
    "duration": 222,
    "start_time": "2022-03-31T09:37:39.612Z"
   },
   {
    "duration": 6,
    "start_time": "2022-03-31T09:37:39.836Z"
   },
   {
    "duration": 13,
    "start_time": "2022-03-31T09:37:39.844Z"
   },
   {
    "duration": 25,
    "start_time": "2022-03-31T09:37:39.859Z"
   },
   {
    "duration": 17,
    "start_time": "2022-03-31T09:37:39.886Z"
   },
   {
    "duration": 24,
    "start_time": "2022-03-31T09:37:39.905Z"
   },
   {
    "duration": 20,
    "start_time": "2022-03-31T09:37:39.930Z"
   },
   {
    "duration": 464,
    "start_time": "2022-03-31T09:37:39.952Z"
   },
   {
    "duration": 19,
    "start_time": "2022-03-31T09:37:40.419Z"
   },
   {
    "duration": 18,
    "start_time": "2022-03-31T09:37:40.440Z"
   },
   {
    "duration": 226,
    "start_time": "2022-03-31T09:37:40.460Z"
   },
   {
    "duration": 6,
    "start_time": "2022-03-31T09:37:40.687Z"
   },
   {
    "duration": 19,
    "start_time": "2022-03-31T09:37:40.695Z"
   },
   {
    "duration": 287,
    "start_time": "2022-03-31T09:37:40.715Z"
   },
   {
    "duration": 8,
    "start_time": "2022-03-31T09:37:41.004Z"
   },
   {
    "duration": 38,
    "start_time": "2022-03-31T09:37:41.013Z"
   },
   {
    "duration": 226,
    "start_time": "2022-03-31T09:37:41.052Z"
   },
   {
    "duration": 7,
    "start_time": "2022-03-31T09:37:41.280Z"
   },
   {
    "duration": 10,
    "start_time": "2022-03-31T09:37:41.289Z"
   },
   {
    "duration": 7,
    "start_time": "2022-03-31T09:37:41.300Z"
   },
   {
    "duration": 235,
    "start_time": "2022-03-31T09:37:41.309Z"
   },
   {
    "duration": 9,
    "start_time": "2022-03-31T09:37:41.545Z"
   },
   {
    "duration": 17,
    "start_time": "2022-03-31T09:37:41.555Z"
   },
   {
    "duration": 11,
    "start_time": "2022-03-31T09:37:41.574Z"
   },
   {
    "duration": 8,
    "start_time": "2022-03-31T09:37:41.587Z"
   },
   {
    "duration": 17,
    "start_time": "2022-03-31T09:37:41.596Z"
   },
   {
    "duration": 6,
    "start_time": "2022-03-31T09:37:41.637Z"
   },
   {
    "duration": 180,
    "start_time": "2022-03-31T09:37:41.644Z"
   },
   {
    "duration": 12,
    "start_time": "2022-03-31T09:37:41.826Z"
   },
   {
    "duration": 443,
    "start_time": "2022-03-31T10:36:22.427Z"
   },
   {
    "duration": 13,
    "start_time": "2022-03-31T10:36:22.872Z"
   },
   {
    "duration": 95,
    "start_time": "2022-03-31T10:36:22.887Z"
   },
   {
    "duration": 12,
    "start_time": "2022-03-31T10:36:22.984Z"
   },
   {
    "duration": 4,
    "start_time": "2022-03-31T10:36:22.997Z"
   },
   {
    "duration": 8,
    "start_time": "2022-03-31T10:36:23.003Z"
   },
   {
    "duration": 3,
    "start_time": "2022-03-31T10:36:23.013Z"
   },
   {
    "duration": 5,
    "start_time": "2022-03-31T10:36:23.018Z"
   },
   {
    "duration": 5,
    "start_time": "2022-03-31T10:36:23.024Z"
   },
   {
    "duration": 82,
    "start_time": "2022-03-31T10:36:23.032Z"
   },
   {
    "duration": 5,
    "start_time": "2022-03-31T10:36:23.115Z"
   },
   {
    "duration": 5,
    "start_time": "2022-03-31T10:36:23.121Z"
   },
   {
    "duration": 6,
    "start_time": "2022-03-31T10:36:23.127Z"
   },
   {
    "duration": 5,
    "start_time": "2022-03-31T10:36:23.134Z"
   },
   {
    "duration": 6,
    "start_time": "2022-03-31T10:36:23.140Z"
   },
   {
    "duration": 4,
    "start_time": "2022-03-31T10:36:23.147Z"
   },
   {
    "duration": 28,
    "start_time": "2022-03-31T10:36:23.153Z"
   },
   {
    "duration": 9,
    "start_time": "2022-03-31T10:36:23.182Z"
   },
   {
    "duration": 4,
    "start_time": "2022-03-31T10:36:23.192Z"
   },
   {
    "duration": 5,
    "start_time": "2022-03-31T10:36:23.197Z"
   },
   {
    "duration": 11,
    "start_time": "2022-03-31T10:36:23.204Z"
   },
   {
    "duration": 5,
    "start_time": "2022-03-31T10:36:23.216Z"
   },
   {
    "duration": 7,
    "start_time": "2022-03-31T10:36:23.222Z"
   },
   {
    "duration": 4,
    "start_time": "2022-03-31T10:36:23.230Z"
   },
   {
    "duration": 5,
    "start_time": "2022-03-31T10:36:23.236Z"
   },
   {
    "duration": 39,
    "start_time": "2022-03-31T10:36:23.242Z"
   },
   {
    "duration": 4,
    "start_time": "2022-03-31T10:36:23.283Z"
   },
   {
    "duration": 5,
    "start_time": "2022-03-31T10:36:23.291Z"
   },
   {
    "duration": 6,
    "start_time": "2022-03-31T10:36:23.297Z"
   },
   {
    "duration": 12,
    "start_time": "2022-03-31T10:36:23.304Z"
   },
   {
    "duration": 37,
    "start_time": "2022-03-31T10:36:23.317Z"
   },
   {
    "duration": 3,
    "start_time": "2022-03-31T10:36:23.355Z"
   },
   {
    "duration": 5,
    "start_time": "2022-03-31T10:36:23.380Z"
   },
   {
    "duration": 4,
    "start_time": "2022-03-31T10:36:23.386Z"
   },
   {
    "duration": 4,
    "start_time": "2022-03-31T10:36:23.391Z"
   },
   {
    "duration": 5,
    "start_time": "2022-03-31T10:36:23.396Z"
   },
   {
    "duration": 5,
    "start_time": "2022-03-31T10:36:23.402Z"
   },
   {
    "duration": 5,
    "start_time": "2022-03-31T10:36:23.408Z"
   },
   {
    "duration": 14,
    "start_time": "2022-03-31T10:36:23.414Z"
   },
   {
    "duration": 3,
    "start_time": "2022-03-31T10:36:23.429Z"
   },
   {
    "duration": 66,
    "start_time": "2022-03-31T10:36:23.433Z"
   },
   {
    "duration": 8,
    "start_time": "2022-03-31T10:36:23.500Z"
   },
   {
    "duration": 11,
    "start_time": "2022-03-31T10:36:23.509Z"
   },
   {
    "duration": 15,
    "start_time": "2022-03-31T10:36:23.521Z"
   },
   {
    "duration": 4,
    "start_time": "2022-03-31T10:36:23.537Z"
   },
   {
    "duration": 9,
    "start_time": "2022-03-31T10:36:23.543Z"
   },
   {
    "duration": 3,
    "start_time": "2022-03-31T10:36:23.554Z"
   },
   {
    "duration": 22,
    "start_time": "2022-03-31T10:36:23.559Z"
   },
   {
    "duration": 203,
    "start_time": "2022-03-31T10:36:23.582Z"
   },
   {
    "duration": 5,
    "start_time": "2022-03-31T10:36:23.787Z"
   },
   {
    "duration": 5,
    "start_time": "2022-03-31T10:36:23.793Z"
   },
   {
    "duration": 12,
    "start_time": "2022-03-31T10:36:23.799Z"
   },
   {
    "duration": 6,
    "start_time": "2022-03-31T10:36:23.812Z"
   },
   {
    "duration": 6,
    "start_time": "2022-03-31T10:36:23.819Z"
   },
   {
    "duration": 16,
    "start_time": "2022-03-31T10:36:23.826Z"
   },
   {
    "duration": 698,
    "start_time": "2022-03-31T10:36:23.843Z"
   },
   {
    "duration": 7,
    "start_time": "2022-03-31T10:36:24.543Z"
   },
   {
    "duration": 29,
    "start_time": "2022-03-31T10:36:24.552Z"
   },
   {
    "duration": 202,
    "start_time": "2022-03-31T10:36:24.583Z"
   },
   {
    "duration": 6,
    "start_time": "2022-03-31T10:36:24.787Z"
   },
   {
    "duration": 16,
    "start_time": "2022-03-31T10:36:24.794Z"
   },
   {
    "duration": 251,
    "start_time": "2022-03-31T10:36:24.812Z"
   },
   {
    "duration": 7,
    "start_time": "2022-03-31T10:36:25.064Z"
   },
   {
    "duration": 17,
    "start_time": "2022-03-31T10:36:25.080Z"
   },
   {
    "duration": 192,
    "start_time": "2022-03-31T10:36:25.098Z"
   },
   {
    "duration": 6,
    "start_time": "2022-03-31T10:36:25.292Z"
   },
   {
    "duration": 11,
    "start_time": "2022-03-31T10:36:25.299Z"
   },
   {
    "duration": 6,
    "start_time": "2022-03-31T10:36:25.311Z"
   },
   {
    "duration": 211,
    "start_time": "2022-03-31T10:36:25.319Z"
   },
   {
    "duration": 7,
    "start_time": "2022-03-31T10:36:25.532Z"
   },
   {
    "duration": 9,
    "start_time": "2022-03-31T10:36:25.541Z"
   },
   {
    "duration": 10,
    "start_time": "2022-03-31T10:36:25.551Z"
   },
   {
    "duration": 24,
    "start_time": "2022-03-31T10:36:25.563Z"
   },
   {
    "duration": 14,
    "start_time": "2022-03-31T10:36:25.588Z"
   },
   {
    "duration": 4,
    "start_time": "2022-03-31T10:36:25.603Z"
   },
   {
    "duration": 175,
    "start_time": "2022-03-31T10:36:25.609Z"
   },
   {
    "duration": 5,
    "start_time": "2022-03-31T10:36:25.786Z"
   },
   {
    "duration": 227,
    "start_time": "2022-03-31T10:36:25.793Z"
   },
   {
    "duration": 5,
    "start_time": "2022-03-31T10:36:26.021Z"
   },
   {
    "duration": 14,
    "start_time": "2022-03-31T10:36:26.028Z"
   },
   {
    "duration": 130,
    "start_time": "2022-03-31T10:36:26.044Z"
   },
   {
    "duration": 12,
    "start_time": "2022-03-31T10:36:26.180Z"
   },
   {
    "duration": 129,
    "start_time": "2022-03-31T10:36:26.193Z"
   },
   {
    "duration": 12,
    "start_time": "2022-03-31T10:36:26.323Z"
   },
   {
    "duration": 146,
    "start_time": "2022-03-31T10:36:26.336Z"
   },
   {
    "duration": 11,
    "start_time": "2022-03-31T10:36:26.484Z"
   },
   {
    "duration": 185,
    "start_time": "2022-03-31T10:36:26.496Z"
   },
   {
    "duration": 56,
    "start_time": "2022-03-31T10:44:25.188Z"
   },
   {
    "duration": 0,
    "start_time": "2022-03-31T10:44:28.644Z"
   },
   {
    "duration": 0,
    "start_time": "2022-03-31T10:44:28.646Z"
   },
   {
    "duration": 0,
    "start_time": "2022-03-31T10:44:28.648Z"
   },
   {
    "duration": 0,
    "start_time": "2022-03-31T10:44:28.650Z"
   },
   {
    "duration": 0,
    "start_time": "2022-03-31T10:44:28.651Z"
   },
   {
    "duration": 0,
    "start_time": "2022-03-31T10:44:28.653Z"
   },
   {
    "duration": 0,
    "start_time": "2022-03-31T10:44:28.655Z"
   },
   {
    "duration": 0,
    "start_time": "2022-03-31T10:44:28.657Z"
   },
   {
    "duration": 0,
    "start_time": "2022-03-31T10:44:28.659Z"
   },
   {
    "duration": 0,
    "start_time": "2022-03-31T10:44:28.661Z"
   },
   {
    "duration": 0,
    "start_time": "2022-03-31T10:44:28.663Z"
   },
   {
    "duration": 0,
    "start_time": "2022-03-31T10:44:28.665Z"
   },
   {
    "duration": 0,
    "start_time": "2022-03-31T10:44:28.666Z"
   },
   {
    "duration": 0,
    "start_time": "2022-03-31T10:44:28.668Z"
   },
   {
    "duration": 0,
    "start_time": "2022-03-31T10:44:28.670Z"
   },
   {
    "duration": 0,
    "start_time": "2022-03-31T10:44:28.672Z"
   },
   {
    "duration": 0,
    "start_time": "2022-03-31T10:44:28.674Z"
   },
   {
    "duration": 0,
    "start_time": "2022-03-31T10:44:28.675Z"
   },
   {
    "duration": 0,
    "start_time": "2022-03-31T10:44:28.677Z"
   },
   {
    "duration": 0,
    "start_time": "2022-03-31T10:44:28.679Z"
   },
   {
    "duration": 0,
    "start_time": "2022-03-31T10:44:28.681Z"
   },
   {
    "duration": 0,
    "start_time": "2022-03-31T10:44:28.682Z"
   },
   {
    "duration": 0,
    "start_time": "2022-03-31T10:44:28.684Z"
   },
   {
    "duration": 0,
    "start_time": "2022-03-31T10:44:28.686Z"
   },
   {
    "duration": 0,
    "start_time": "2022-03-31T10:44:28.688Z"
   },
   {
    "duration": 0,
    "start_time": "2022-03-31T10:44:28.691Z"
   },
   {
    "duration": 0,
    "start_time": "2022-03-31T10:44:28.693Z"
   },
   {
    "duration": 0,
    "start_time": "2022-03-31T10:44:28.695Z"
   },
   {
    "duration": 0,
    "start_time": "2022-03-31T10:44:28.698Z"
   },
   {
    "duration": 0,
    "start_time": "2022-03-31T10:44:28.700Z"
   },
   {
    "duration": 0,
    "start_time": "2022-03-31T10:44:28.703Z"
   },
   {
    "duration": 0,
    "start_time": "2022-03-31T10:44:28.705Z"
   },
   {
    "duration": 0,
    "start_time": "2022-03-31T10:44:28.708Z"
   },
   {
    "duration": 0,
    "start_time": "2022-03-31T10:44:28.710Z"
   },
   {
    "duration": 0,
    "start_time": "2022-03-31T10:44:28.713Z"
   },
   {
    "duration": 0,
    "start_time": "2022-03-31T10:44:28.715Z"
   },
   {
    "duration": 0,
    "start_time": "2022-03-31T10:44:28.718Z"
   },
   {
    "duration": 0,
    "start_time": "2022-03-31T10:44:28.720Z"
   },
   {
    "duration": 0,
    "start_time": "2022-03-31T10:44:28.783Z"
   },
   {
    "duration": 0,
    "start_time": "2022-03-31T10:44:28.785Z"
   },
   {
    "duration": 0,
    "start_time": "2022-03-31T10:44:28.788Z"
   },
   {
    "duration": 0,
    "start_time": "2022-03-31T10:44:28.790Z"
   },
   {
    "duration": 0,
    "start_time": "2022-03-31T10:44:28.793Z"
   },
   {
    "duration": 0,
    "start_time": "2022-03-31T10:44:28.795Z"
   },
   {
    "duration": 0,
    "start_time": "2022-03-31T10:44:28.798Z"
   },
   {
    "duration": 0,
    "start_time": "2022-03-31T10:44:28.800Z"
   },
   {
    "duration": 0,
    "start_time": "2022-03-31T10:44:28.803Z"
   },
   {
    "duration": 0,
    "start_time": "2022-03-31T10:44:28.805Z"
   },
   {
    "duration": 0,
    "start_time": "2022-03-31T10:44:28.807Z"
   },
   {
    "duration": 0,
    "start_time": "2022-03-31T10:44:28.809Z"
   },
   {
    "duration": 0,
    "start_time": "2022-03-31T10:44:28.811Z"
   },
   {
    "duration": 0,
    "start_time": "2022-03-31T10:44:28.813Z"
   },
   {
    "duration": 0,
    "start_time": "2022-03-31T10:44:28.815Z"
   },
   {
    "duration": 0,
    "start_time": "2022-03-31T10:44:28.880Z"
   },
   {
    "duration": 0,
    "start_time": "2022-03-31T10:44:28.882Z"
   },
   {
    "duration": 0,
    "start_time": "2022-03-31T10:44:28.884Z"
   },
   {
    "duration": 0,
    "start_time": "2022-03-31T10:44:28.886Z"
   },
   {
    "duration": 0,
    "start_time": "2022-03-31T10:44:28.888Z"
   },
   {
    "duration": 0,
    "start_time": "2022-03-31T10:44:28.890Z"
   },
   {
    "duration": 0,
    "start_time": "2022-03-31T10:44:28.892Z"
   },
   {
    "duration": 0,
    "start_time": "2022-03-31T10:44:28.894Z"
   },
   {
    "duration": 0,
    "start_time": "2022-03-31T10:44:28.896Z"
   },
   {
    "duration": 0,
    "start_time": "2022-03-31T10:44:28.898Z"
   },
   {
    "duration": 0,
    "start_time": "2022-03-31T10:44:28.900Z"
   },
   {
    "duration": 0,
    "start_time": "2022-03-31T10:44:28.901Z"
   },
   {
    "duration": 0,
    "start_time": "2022-03-31T10:44:28.903Z"
   },
   {
    "duration": 0,
    "start_time": "2022-03-31T10:44:28.905Z"
   },
   {
    "duration": 0,
    "start_time": "2022-03-31T10:44:28.907Z"
   },
   {
    "duration": 0,
    "start_time": "2022-03-31T10:44:28.909Z"
   },
   {
    "duration": 0,
    "start_time": "2022-03-31T10:44:28.911Z"
   },
   {
    "duration": 0,
    "start_time": "2022-03-31T10:44:28.914Z"
   },
   {
    "duration": 0,
    "start_time": "2022-03-31T10:44:28.915Z"
   },
   {
    "duration": 0,
    "start_time": "2022-03-31T10:44:28.917Z"
   },
   {
    "duration": 0,
    "start_time": "2022-03-31T10:44:28.919Z"
   },
   {
    "duration": 0,
    "start_time": "2022-03-31T10:44:28.982Z"
   },
   {
    "duration": 0,
    "start_time": "2022-03-31T10:44:28.984Z"
   },
   {
    "duration": 0,
    "start_time": "2022-03-31T10:44:28.986Z"
   },
   {
    "duration": 0,
    "start_time": "2022-03-31T10:44:28.988Z"
   },
   {
    "duration": 0,
    "start_time": "2022-03-31T10:44:28.990Z"
   },
   {
    "duration": 0,
    "start_time": "2022-03-31T10:44:28.991Z"
   },
   {
    "duration": 0,
    "start_time": "2022-03-31T10:44:28.993Z"
   },
   {
    "duration": 0,
    "start_time": "2022-03-31T10:44:28.995Z"
   },
   {
    "duration": 0,
    "start_time": "2022-03-31T10:44:28.999Z"
   },
   {
    "duration": 0,
    "start_time": "2022-03-31T10:44:29.000Z"
   },
   {
    "duration": 0,
    "start_time": "2022-03-31T10:44:29.001Z"
   },
   {
    "duration": 0,
    "start_time": "2022-03-31T10:44:29.002Z"
   },
   {
    "duration": 0,
    "start_time": "2022-03-31T10:44:29.003Z"
   },
   {
    "duration": 69,
    "start_time": "2022-03-31T10:44:41.691Z"
   },
   {
    "duration": 7,
    "start_time": "2022-03-31T10:44:42.780Z"
   },
   {
    "duration": 104,
    "start_time": "2022-03-31T10:44:47.053Z"
   },
   {
    "duration": 15,
    "start_time": "2022-03-31T10:44:51.212Z"
   },
   {
    "duration": 67,
    "start_time": "2022-03-31T10:44:53.087Z"
   },
   {
    "duration": 8,
    "start_time": "2022-03-31T10:44:53.156Z"
   },
   {
    "duration": 125,
    "start_time": "2022-03-31T10:44:53.166Z"
   },
   {
    "duration": 12,
    "start_time": "2022-03-31T10:44:53.293Z"
   },
   {
    "duration": 9,
    "start_time": "2022-03-31T10:44:53.306Z"
   },
   {
    "duration": 36,
    "start_time": "2022-03-31T10:44:53.316Z"
   },
   {
    "duration": 30,
    "start_time": "2022-03-31T10:44:53.353Z"
   },
   {
    "duration": 24,
    "start_time": "2022-03-31T10:44:53.384Z"
   },
   {
    "duration": 33,
    "start_time": "2022-03-31T10:44:53.409Z"
   },
   {
    "duration": 57,
    "start_time": "2022-03-31T10:44:53.445Z"
   },
   {
    "duration": 4,
    "start_time": "2022-03-31T10:44:53.503Z"
   },
   {
    "duration": 16,
    "start_time": "2022-03-31T10:44:53.508Z"
   },
   {
    "duration": 10,
    "start_time": "2022-03-31T10:44:53.526Z"
   },
   {
    "duration": 18,
    "start_time": "2022-03-31T10:44:53.537Z"
   },
   {
    "duration": 23,
    "start_time": "2022-03-31T10:44:53.556Z"
   },
   {
    "duration": 17,
    "start_time": "2022-03-31T10:44:53.580Z"
   },
   {
    "duration": 14,
    "start_time": "2022-03-31T10:44:53.598Z"
   },
   {
    "duration": 16,
    "start_time": "2022-03-31T10:44:53.613Z"
   },
   {
    "duration": 4,
    "start_time": "2022-03-31T10:44:53.631Z"
   },
   {
    "duration": 8,
    "start_time": "2022-03-31T10:44:53.637Z"
   },
   {
    "duration": 29,
    "start_time": "2022-03-31T10:44:53.647Z"
   },
   {
    "duration": 6,
    "start_time": "2022-03-31T10:44:53.678Z"
   },
   {
    "duration": 16,
    "start_time": "2022-03-31T10:44:53.686Z"
   },
   {
    "duration": 10,
    "start_time": "2022-03-31T10:44:53.703Z"
   },
   {
    "duration": 20,
    "start_time": "2022-03-31T10:44:53.715Z"
   },
   {
    "duration": 9,
    "start_time": "2022-03-31T10:44:53.736Z"
   },
   {
    "duration": 25,
    "start_time": "2022-03-31T10:44:53.747Z"
   },
   {
    "duration": 6,
    "start_time": "2022-03-31T10:44:53.776Z"
   },
   {
    "duration": 7,
    "start_time": "2022-03-31T10:44:53.784Z"
   },
   {
    "duration": 28,
    "start_time": "2022-03-31T10:44:53.793Z"
   },
   {
    "duration": 33,
    "start_time": "2022-03-31T10:44:53.823Z"
   },
   {
    "duration": 3,
    "start_time": "2022-03-31T10:44:53.857Z"
   },
   {
    "duration": 13,
    "start_time": "2022-03-31T10:44:53.861Z"
   },
   {
    "duration": 4,
    "start_time": "2022-03-31T10:44:53.880Z"
   },
   {
    "duration": 26,
    "start_time": "2022-03-31T10:44:53.886Z"
   },
   {
    "duration": 12,
    "start_time": "2022-03-31T10:44:53.913Z"
   },
   {
    "duration": 20,
    "start_time": "2022-03-31T10:44:53.926Z"
   },
   {
    "duration": 33,
    "start_time": "2022-03-31T10:44:53.948Z"
   },
   {
    "duration": 26,
    "start_time": "2022-03-31T10:44:53.982Z"
   },
   {
    "duration": 12,
    "start_time": "2022-03-31T10:44:54.009Z"
   },
   {
    "duration": 49,
    "start_time": "2022-03-31T10:44:54.023Z"
   },
   {
    "duration": 9,
    "start_time": "2022-03-31T10:44:54.074Z"
   },
   {
    "duration": 16,
    "start_time": "2022-03-31T10:44:54.084Z"
   },
   {
    "duration": 14,
    "start_time": "2022-03-31T10:44:54.101Z"
   },
   {
    "duration": 21,
    "start_time": "2022-03-31T10:44:54.116Z"
   },
   {
    "duration": 23,
    "start_time": "2022-03-31T10:44:54.138Z"
   },
   {
    "duration": 20,
    "start_time": "2022-03-31T10:44:54.162Z"
   },
   {
    "duration": 27,
    "start_time": "2022-03-31T10:44:54.183Z"
   },
   {
    "duration": 207,
    "start_time": "2022-03-31T10:44:54.211Z"
   },
   {
    "duration": 5,
    "start_time": "2022-03-31T10:44:54.420Z"
   },
   {
    "duration": 6,
    "start_time": "2022-03-31T10:44:54.426Z"
   },
   {
    "duration": 7,
    "start_time": "2022-03-31T10:44:54.433Z"
   },
   {
    "duration": 6,
    "start_time": "2022-03-31T10:44:54.441Z"
   },
   {
    "duration": 6,
    "start_time": "2022-03-31T10:44:54.448Z"
   },
   {
    "duration": 40,
    "start_time": "2022-03-31T10:44:54.456Z"
   },
   {
    "duration": 186,
    "start_time": "2022-03-31T10:44:54.497Z"
   },
   {
    "duration": 7,
    "start_time": "2022-03-31T10:44:54.684Z"
   },
   {
    "duration": 18,
    "start_time": "2022-03-31T10:44:54.692Z"
   },
   {
    "duration": 219,
    "start_time": "2022-03-31T10:44:54.711Z"
   },
   {
    "duration": 6,
    "start_time": "2022-03-31T10:44:54.931Z"
   },
   {
    "duration": 16,
    "start_time": "2022-03-31T10:44:54.939Z"
   },
   {
    "duration": 225,
    "start_time": "2022-03-31T10:44:54.956Z"
   },
   {
    "duration": 6,
    "start_time": "2022-03-31T10:44:55.182Z"
   },
   {
    "duration": 16,
    "start_time": "2022-03-31T10:44:55.190Z"
   },
   {
    "duration": 212,
    "start_time": "2022-03-31T10:44:55.208Z"
   },
   {
    "duration": 7,
    "start_time": "2022-03-31T10:44:55.421Z"
   },
   {
    "duration": 9,
    "start_time": "2022-03-31T10:44:55.429Z"
   },
   {
    "duration": 6,
    "start_time": "2022-03-31T10:44:55.440Z"
   },
   {
    "duration": 237,
    "start_time": "2022-03-31T10:44:55.447Z"
   },
   {
    "duration": 9,
    "start_time": "2022-03-31T10:44:55.685Z"
   },
   {
    "duration": 12,
    "start_time": "2022-03-31T10:44:55.695Z"
   },
   {
    "duration": 9,
    "start_time": "2022-03-31T10:44:55.709Z"
   },
   {
    "duration": 9,
    "start_time": "2022-03-31T10:44:55.719Z"
   },
   {
    "duration": 13,
    "start_time": "2022-03-31T10:44:55.730Z"
   },
   {
    "duration": 37,
    "start_time": "2022-03-31T10:44:55.745Z"
   },
   {
    "duration": 164,
    "start_time": "2022-03-31T10:44:55.784Z"
   },
   {
    "duration": 5,
    "start_time": "2022-03-31T10:44:55.949Z"
   },
   {
    "duration": 178,
    "start_time": "2022-03-31T10:48:34.927Z"
   },
   {
    "duration": 14,
    "start_time": "2022-03-31T10:48:35.106Z"
   },
   {
    "duration": 136,
    "start_time": "2022-03-31T10:48:35.125Z"
   },
   {
    "duration": 24,
    "start_time": "2022-03-31T10:48:35.264Z"
   },
   {
    "duration": 134,
    "start_time": "2022-03-31T10:48:35.291Z"
   },
   {
    "duration": 12,
    "start_time": "2022-03-31T10:48:35.426Z"
   },
   {
    "duration": 155,
    "start_time": "2022-03-31T10:48:35.439Z"
   },
   {
    "duration": 11,
    "start_time": "2022-03-31T10:48:35.595Z"
   },
   {
    "duration": 144,
    "start_time": "2022-03-31T10:48:35.608Z"
   },
   {
    "duration": 90,
    "start_time": "2022-03-31T11:33:48.918Z"
   },
   {
    "duration": 7,
    "start_time": "2022-03-31T11:33:49.010Z"
   },
   {
    "duration": 360,
    "start_time": "2022-03-31T11:33:49.019Z"
   },
   {
    "duration": 14,
    "start_time": "2022-03-31T11:33:49.381Z"
   },
   {
    "duration": 5,
    "start_time": "2022-03-31T11:33:49.397Z"
   },
   {
    "duration": 9,
    "start_time": "2022-03-31T11:33:49.404Z"
   },
   {
    "duration": 7,
    "start_time": "2022-03-31T11:33:49.414Z"
   },
   {
    "duration": 6,
    "start_time": "2022-03-31T11:33:49.422Z"
   },
   {
    "duration": 6,
    "start_time": "2022-03-31T11:33:49.430Z"
   },
   {
    "duration": 52,
    "start_time": "2022-03-31T11:33:49.481Z"
   },
   {
    "duration": 4,
    "start_time": "2022-03-31T11:33:49.535Z"
   },
   {
    "duration": 7,
    "start_time": "2022-03-31T11:33:49.541Z"
   },
   {
    "duration": 32,
    "start_time": "2022-03-31T11:33:49.550Z"
   },
   {
    "duration": 9,
    "start_time": "2022-03-31T11:33:49.584Z"
   },
   {
    "duration": 8,
    "start_time": "2022-03-31T11:33:49.594Z"
   },
   {
    "duration": 5,
    "start_time": "2022-03-31T11:33:49.603Z"
   },
   {
    "duration": 5,
    "start_time": "2022-03-31T11:33:49.609Z"
   },
   {
    "duration": 11,
    "start_time": "2022-03-31T11:33:49.615Z"
   },
   {
    "duration": 5,
    "start_time": "2022-03-31T11:33:49.627Z"
   },
   {
    "duration": 14,
    "start_time": "2022-03-31T11:33:49.633Z"
   },
   {
    "duration": 37,
    "start_time": "2022-03-31T11:33:49.649Z"
   },
   {
    "duration": 6,
    "start_time": "2022-03-31T11:33:49.687Z"
   },
   {
    "duration": 6,
    "start_time": "2022-03-31T11:33:49.694Z"
   },
   {
    "duration": 4,
    "start_time": "2022-03-31T11:33:49.701Z"
   },
   {
    "duration": 7,
    "start_time": "2022-03-31T11:33:49.707Z"
   },
   {
    "duration": 4,
    "start_time": "2022-03-31T11:33:49.715Z"
   },
   {
    "duration": 8,
    "start_time": "2022-03-31T11:33:49.721Z"
   },
   {
    "duration": 4,
    "start_time": "2022-03-31T11:33:49.734Z"
   },
   {
    "duration": 5,
    "start_time": "2022-03-31T11:33:49.739Z"
   },
   {
    "duration": 47,
    "start_time": "2022-03-31T11:33:49.745Z"
   },
   {
    "duration": 46,
    "start_time": "2022-03-31T11:33:49.793Z"
   },
   {
    "duration": 89,
    "start_time": "2022-03-31T11:33:49.841Z"
   },
   {
    "duration": 25,
    "start_time": "2022-03-31T11:33:49.932Z"
   },
   {
    "duration": 4,
    "start_time": "2022-03-31T11:33:49.959Z"
   },
   {
    "duration": 9,
    "start_time": "2022-03-31T11:33:49.964Z"
   },
   {
    "duration": 6,
    "start_time": "2022-03-31T11:33:49.975Z"
   },
   {
    "duration": 4,
    "start_time": "2022-03-31T11:33:49.982Z"
   },
   {
    "duration": 8,
    "start_time": "2022-03-31T11:33:49.988Z"
   },
   {
    "duration": 14,
    "start_time": "2022-03-31T11:33:49.997Z"
   },
   {
    "duration": 3,
    "start_time": "2022-03-31T11:33:50.013Z"
   },
   {
    "duration": 45,
    "start_time": "2022-03-31T11:33:50.018Z"
   },
   {
    "duration": 9,
    "start_time": "2022-03-31T11:33:50.080Z"
   },
   {
    "duration": 5,
    "start_time": "2022-03-31T11:33:50.091Z"
   },
   {
    "duration": 12,
    "start_time": "2022-03-31T11:33:50.098Z"
   },
   {
    "duration": 4,
    "start_time": "2022-03-31T11:33:50.111Z"
   },
   {
    "duration": 11,
    "start_time": "2022-03-31T11:33:50.117Z"
   },
   {
    "duration": 6,
    "start_time": "2022-03-31T11:33:50.129Z"
   },
   {
    "duration": 3,
    "start_time": "2022-03-31T11:33:50.137Z"
   },
   {
    "duration": 514,
    "start_time": "2022-03-31T11:33:50.141Z"
   },
   {
    "duration": 6,
    "start_time": "2022-03-31T11:33:50.656Z"
   },
   {
    "duration": 196,
    "start_time": "2022-03-31T11:33:50.663Z"
   },
   {
    "duration": 7,
    "start_time": "2022-03-31T11:33:50.861Z"
   },
   {
    "duration": 5,
    "start_time": "2022-03-31T11:33:50.870Z"
   },
   {
    "duration": 8,
    "start_time": "2022-03-31T11:33:50.876Z"
   },
   {
    "duration": 17,
    "start_time": "2022-03-31T11:33:50.886Z"
   },
   {
    "duration": 198,
    "start_time": "2022-03-31T11:33:50.905Z"
   },
   {
    "duration": 8,
    "start_time": "2022-03-31T11:33:51.105Z"
   },
   {
    "duration": 17,
    "start_time": "2022-03-31T11:33:51.115Z"
   },
   {
    "duration": 232,
    "start_time": "2022-03-31T11:33:51.134Z"
   },
   {
    "duration": 18,
    "start_time": "2022-03-31T11:33:51.368Z"
   },
   {
    "duration": 16,
    "start_time": "2022-03-31T11:33:51.388Z"
   },
   {
    "duration": 220,
    "start_time": "2022-03-31T11:33:51.406Z"
   },
   {
    "duration": 6,
    "start_time": "2022-03-31T11:33:51.627Z"
   },
   {
    "duration": 34,
    "start_time": "2022-03-31T11:33:51.635Z"
   },
   {
    "duration": 194,
    "start_time": "2022-03-31T11:33:51.670Z"
   },
   {
    "duration": 16,
    "start_time": "2022-03-31T11:33:51.865Z"
   },
   {
    "duration": 19,
    "start_time": "2022-03-31T11:33:51.883Z"
   },
   {
    "duration": 19,
    "start_time": "2022-03-31T11:33:51.904Z"
   },
   {
    "duration": 212,
    "start_time": "2022-03-31T11:33:51.925Z"
   },
   {
    "duration": 9,
    "start_time": "2022-03-31T11:33:52.139Z"
   },
   {
    "duration": 31,
    "start_time": "2022-03-31T11:33:52.150Z"
   },
   {
    "duration": 24,
    "start_time": "2022-03-31T11:33:52.183Z"
   },
   {
    "duration": 12,
    "start_time": "2022-03-31T11:33:52.208Z"
   },
   {
    "duration": 26,
    "start_time": "2022-03-31T11:33:52.221Z"
   },
   {
    "duration": 4,
    "start_time": "2022-03-31T11:33:52.249Z"
   },
   {
    "duration": 508,
    "start_time": "2022-03-31T11:33:52.254Z"
   },
   {
    "duration": 5,
    "start_time": "2022-03-31T11:33:52.764Z"
   },
   {
    "duration": 226,
    "start_time": "2022-03-31T11:33:52.771Z"
   },
   {
    "duration": 176,
    "start_time": "2022-03-31T11:33:52.998Z"
   },
   {
    "duration": 18,
    "start_time": "2022-03-31T11:33:53.175Z"
   },
   {
    "duration": 133,
    "start_time": "2022-03-31T11:33:53.195Z"
   },
   {
    "duration": 11,
    "start_time": "2022-03-31T11:33:53.333Z"
   },
   {
    "duration": 123,
    "start_time": "2022-03-31T11:33:53.346Z"
   },
   {
    "duration": 18,
    "start_time": "2022-03-31T11:33:53.471Z"
   },
   {
    "duration": 149,
    "start_time": "2022-03-31T11:33:53.491Z"
   },
   {
    "duration": 11,
    "start_time": "2022-03-31T11:33:53.642Z"
   },
   {
    "duration": 145,
    "start_time": "2022-03-31T11:33:53.655Z"
   },
   {
    "duration": 314,
    "start_time": "2022-03-31T11:51:41.442Z"
   },
   {
    "duration": 15,
    "start_time": "2022-03-31T12:28:40.934Z"
   },
   {
    "duration": 120,
    "start_time": "2022-03-31T12:30:08.412Z"
   },
   {
    "duration": 9,
    "start_time": "2022-03-31T12:30:09.477Z"
   },
   {
    "duration": 10,
    "start_time": "2022-03-31T12:30:10.579Z"
   },
   {
    "duration": 45,
    "start_time": "2022-03-31T12:45:18.119Z"
   },
   {
    "duration": 426,
    "start_time": "2022-03-31T12:45:21.441Z"
   },
   {
    "duration": 19,
    "start_time": "2022-03-31T12:45:21.869Z"
   },
   {
    "duration": 128,
    "start_time": "2022-03-31T12:45:21.890Z"
   },
   {
    "duration": 15,
    "start_time": "2022-03-31T12:45:22.021Z"
   },
   {
    "duration": 5,
    "start_time": "2022-03-31T12:45:22.038Z"
   },
   {
    "duration": 41,
    "start_time": "2022-03-31T12:45:22.045Z"
   },
   {
    "duration": 5,
    "start_time": "2022-03-31T12:45:22.087Z"
   },
   {
    "duration": 6,
    "start_time": "2022-03-31T12:45:22.093Z"
   },
   {
    "duration": 5,
    "start_time": "2022-03-31T12:45:22.100Z"
   },
   {
    "duration": 94,
    "start_time": "2022-03-31T12:45:22.109Z"
   },
   {
    "duration": 5,
    "start_time": "2022-03-31T12:45:22.205Z"
   },
   {
    "duration": 13,
    "start_time": "2022-03-31T12:45:22.211Z"
   },
   {
    "duration": 5,
    "start_time": "2022-03-31T12:45:22.226Z"
   },
   {
    "duration": 7,
    "start_time": "2022-03-31T12:45:22.232Z"
   },
   {
    "duration": 6,
    "start_time": "2022-03-31T12:45:22.241Z"
   },
   {
    "duration": 6,
    "start_time": "2022-03-31T12:45:22.248Z"
   },
   {
    "duration": 29,
    "start_time": "2022-03-31T12:45:22.255Z"
   },
   {
    "duration": 12,
    "start_time": "2022-03-31T12:45:22.285Z"
   },
   {
    "duration": 9,
    "start_time": "2022-03-31T12:45:22.298Z"
   },
   {
    "duration": 5,
    "start_time": "2022-03-31T12:45:22.309Z"
   },
   {
    "duration": 12,
    "start_time": "2022-03-31T12:45:22.316Z"
   },
   {
    "duration": 6,
    "start_time": "2022-03-31T12:45:22.329Z"
   },
   {
    "duration": 9,
    "start_time": "2022-03-31T12:45:22.336Z"
   },
   {
    "duration": 6,
    "start_time": "2022-03-31T12:45:22.346Z"
   },
   {
    "duration": 7,
    "start_time": "2022-03-31T12:45:22.353Z"
   },
   {
    "duration": 3,
    "start_time": "2022-03-31T12:45:22.381Z"
   },
   {
    "duration": 7,
    "start_time": "2022-03-31T12:45:22.385Z"
   },
   {
    "duration": 3,
    "start_time": "2022-03-31T12:45:22.396Z"
   },
   {
    "duration": 6,
    "start_time": "2022-03-31T12:45:22.400Z"
   },
   {
    "duration": 13,
    "start_time": "2022-03-31T12:45:22.408Z"
   },
   {
    "duration": 66,
    "start_time": "2022-03-31T12:45:22.423Z"
   },
   {
    "duration": 2,
    "start_time": "2022-03-31T12:45:22.491Z"
   },
   {
    "duration": 7,
    "start_time": "2022-03-31T12:45:22.495Z"
   },
   {
    "duration": 9,
    "start_time": "2022-03-31T12:45:22.503Z"
   },
   {
    "duration": 6,
    "start_time": "2022-03-31T12:45:22.513Z"
   },
   {
    "duration": 7,
    "start_time": "2022-03-31T12:45:22.520Z"
   },
   {
    "duration": 9,
    "start_time": "2022-03-31T12:45:22.528Z"
   },
   {
    "duration": 5,
    "start_time": "2022-03-31T12:45:22.538Z"
   },
   {
    "duration": 17,
    "start_time": "2022-03-31T12:45:22.545Z"
   },
   {
    "duration": 3,
    "start_time": "2022-03-31T12:45:22.581Z"
   },
   {
    "duration": 48,
    "start_time": "2022-03-31T12:45:22.586Z"
   },
   {
    "duration": 9,
    "start_time": "2022-03-31T12:45:22.635Z"
   },
   {
    "duration": 6,
    "start_time": "2022-03-31T12:45:22.645Z"
   },
   {
    "duration": 12,
    "start_time": "2022-03-31T12:45:22.653Z"
   },
   {
    "duration": 17,
    "start_time": "2022-03-31T12:45:22.666Z"
   },
   {
    "duration": 10,
    "start_time": "2022-03-31T12:45:22.684Z"
   },
   {
    "duration": 4,
    "start_time": "2022-03-31T12:45:22.695Z"
   },
   {
    "duration": 6,
    "start_time": "2022-03-31T12:45:22.700Z"
   },
   {
    "duration": 229,
    "start_time": "2022-03-31T12:45:22.708Z"
   },
   {
    "duration": 5,
    "start_time": "2022-03-31T12:45:22.938Z"
   },
   {
    "duration": 6,
    "start_time": "2022-03-31T12:45:22.944Z"
   },
   {
    "duration": 9,
    "start_time": "2022-03-31T12:45:22.952Z"
   },
   {
    "duration": 5,
    "start_time": "2022-03-31T12:45:22.962Z"
   },
   {
    "duration": 5,
    "start_time": "2022-03-31T12:45:22.980Z"
   },
   {
    "duration": 20,
    "start_time": "2022-03-31T12:45:22.986Z"
   },
   {
    "duration": 449,
    "start_time": "2022-03-31T12:45:23.007Z"
   },
   {
    "duration": 8,
    "start_time": "2022-03-31T12:45:23.458Z"
   },
   {
    "duration": 31,
    "start_time": "2022-03-31T12:45:23.468Z"
   },
   {
    "duration": 291,
    "start_time": "2022-03-31T12:45:23.501Z"
   },
   {
    "duration": 6,
    "start_time": "2022-03-31T12:45:23.795Z"
   },
   {
    "duration": 21,
    "start_time": "2022-03-31T12:45:23.803Z"
   },
   {
    "duration": 351,
    "start_time": "2022-03-31T12:45:23.826Z"
   },
   {
    "duration": 8,
    "start_time": "2022-03-31T12:45:24.181Z"
   },
   {
    "duration": 21,
    "start_time": "2022-03-31T12:45:24.191Z"
   },
   {
    "duration": 287,
    "start_time": "2022-03-31T12:45:24.214Z"
   },
   {
    "duration": 8,
    "start_time": "2022-03-31T12:45:24.503Z"
   },
   {
    "duration": 10,
    "start_time": "2022-03-31T12:45:24.512Z"
   },
   {
    "duration": 7,
    "start_time": "2022-03-31T12:45:24.524Z"
   },
   {
    "duration": 219,
    "start_time": "2022-03-31T12:45:24.533Z"
   },
   {
    "duration": 9,
    "start_time": "2022-03-31T12:45:24.754Z"
   },
   {
    "duration": 22,
    "start_time": "2022-03-31T12:45:24.764Z"
   },
   {
    "duration": 9,
    "start_time": "2022-03-31T12:45:24.788Z"
   },
   {
    "duration": 9,
    "start_time": "2022-03-31T12:45:24.799Z"
   },
   {
    "duration": 9,
    "start_time": "2022-03-31T12:45:24.809Z"
   },
   {
    "duration": 14,
    "start_time": "2022-03-31T12:45:24.820Z"
   },
   {
    "duration": 5,
    "start_time": "2022-03-31T12:45:24.835Z"
   },
   {
    "duration": 204,
    "start_time": "2022-03-31T12:45:24.845Z"
   },
   {
    "duration": 5,
    "start_time": "2022-03-31T12:45:25.050Z"
   },
   {
    "duration": 6,
    "start_time": "2022-03-31T12:45:25.057Z"
   },
   {
    "duration": 172,
    "start_time": "2022-03-31T12:45:25.065Z"
   },
   {
    "duration": 14,
    "start_time": "2022-03-31T12:45:25.238Z"
   },
   {
    "duration": 129,
    "start_time": "2022-03-31T12:45:25.253Z"
   },
   {
    "duration": 11,
    "start_time": "2022-03-31T12:45:25.384Z"
   },
   {
    "duration": 129,
    "start_time": "2022-03-31T12:45:25.397Z"
   },
   {
    "duration": 11,
    "start_time": "2022-03-31T12:45:25.528Z"
   },
   {
    "duration": 154,
    "start_time": "2022-03-31T12:45:25.541Z"
   },
   {
    "duration": 11,
    "start_time": "2022-03-31T12:45:25.697Z"
   },
   {
    "duration": 200,
    "start_time": "2022-03-31T12:45:25.709Z"
   },
   {
    "duration": 4,
    "start_time": "2022-03-31T12:45:25.911Z"
   },
   {
    "duration": 9,
    "start_time": "2022-03-31T12:47:03.830Z"
   },
   {
    "duration": 8,
    "start_time": "2022-03-31T12:47:10.698Z"
   },
   {
    "duration": 36,
    "start_time": "2022-03-31T12:47:47.995Z"
   },
   {
    "duration": 8,
    "start_time": "2022-03-31T12:48:28.946Z"
   },
   {
    "duration": 8,
    "start_time": "2022-03-31T12:48:35.725Z"
   },
   {
    "duration": 68,
    "start_time": "2022-03-31T12:54:44.503Z"
   },
   {
    "duration": 7,
    "start_time": "2022-03-31T12:54:44.573Z"
   },
   {
    "duration": 116,
    "start_time": "2022-03-31T12:54:44.581Z"
   },
   {
    "duration": 13,
    "start_time": "2022-03-31T12:54:44.699Z"
   },
   {
    "duration": 5,
    "start_time": "2022-03-31T12:54:44.714Z"
   },
   {
    "duration": 11,
    "start_time": "2022-03-31T12:54:44.720Z"
   },
   {
    "duration": 3,
    "start_time": "2022-03-31T12:54:44.733Z"
   },
   {
    "duration": 6,
    "start_time": "2022-03-31T12:54:44.737Z"
   },
   {
    "duration": 4,
    "start_time": "2022-03-31T12:54:44.782Z"
   },
   {
    "duration": 58,
    "start_time": "2022-03-31T12:54:44.788Z"
   },
   {
    "duration": 5,
    "start_time": "2022-03-31T12:54:44.848Z"
   },
   {
    "duration": 6,
    "start_time": "2022-03-31T12:54:44.881Z"
   },
   {
    "duration": 5,
    "start_time": "2022-03-31T12:54:44.889Z"
   },
   {
    "duration": 6,
    "start_time": "2022-03-31T12:54:44.895Z"
   },
   {
    "duration": 6,
    "start_time": "2022-03-31T12:54:44.903Z"
   },
   {
    "duration": 5,
    "start_time": "2022-03-31T12:54:44.911Z"
   },
   {
    "duration": 5,
    "start_time": "2022-03-31T12:54:44.917Z"
   },
   {
    "duration": 9,
    "start_time": "2022-03-31T12:54:44.923Z"
   },
   {
    "duration": 4,
    "start_time": "2022-03-31T12:54:44.933Z"
   },
   {
    "duration": 45,
    "start_time": "2022-03-31T12:54:44.938Z"
   },
   {
    "duration": 17,
    "start_time": "2022-03-31T12:54:44.984Z"
   },
   {
    "duration": 12,
    "start_time": "2022-03-31T12:54:45.002Z"
   },
   {
    "duration": 14,
    "start_time": "2022-03-31T12:54:45.015Z"
   },
   {
    "duration": 7,
    "start_time": "2022-03-31T12:54:45.030Z"
   },
   {
    "duration": 8,
    "start_time": "2022-03-31T12:54:45.038Z"
   },
   {
    "duration": 9,
    "start_time": "2022-03-31T12:54:45.047Z"
   },
   {
    "duration": 8,
    "start_time": "2022-03-31T12:54:45.058Z"
   },
   {
    "duration": 10,
    "start_time": "2022-03-31T12:54:45.070Z"
   },
   {
    "duration": 15,
    "start_time": "2022-03-31T12:54:45.081Z"
   },
   {
    "duration": 12,
    "start_time": "2022-03-31T12:54:45.098Z"
   },
   {
    "duration": 34,
    "start_time": "2022-03-31T12:54:45.111Z"
   },
   {
    "duration": 3,
    "start_time": "2022-03-31T12:54:45.146Z"
   },
   {
    "duration": 6,
    "start_time": "2022-03-31T12:54:45.150Z"
   },
   {
    "duration": 7,
    "start_time": "2022-03-31T12:54:45.157Z"
   },
   {
    "duration": 17,
    "start_time": "2022-03-31T12:54:45.165Z"
   },
   {
    "duration": 4,
    "start_time": "2022-03-31T12:54:45.183Z"
   },
   {
    "duration": 7,
    "start_time": "2022-03-31T12:54:45.189Z"
   },
   {
    "duration": 14,
    "start_time": "2022-03-31T12:54:45.197Z"
   },
   {
    "duration": 22,
    "start_time": "2022-03-31T12:54:45.212Z"
   },
   {
    "duration": 5,
    "start_time": "2022-03-31T12:54:45.235Z"
   },
   {
    "duration": 48,
    "start_time": "2022-03-31T12:54:45.241Z"
   },
   {
    "duration": 8,
    "start_time": "2022-03-31T12:54:45.290Z"
   },
   {
    "duration": 14,
    "start_time": "2022-03-31T12:54:45.299Z"
   },
   {
    "duration": 17,
    "start_time": "2022-03-31T12:54:45.315Z"
   },
   {
    "duration": 21,
    "start_time": "2022-03-31T12:54:45.333Z"
   },
   {
    "duration": 23,
    "start_time": "2022-03-31T12:54:45.355Z"
   },
   {
    "duration": 13,
    "start_time": "2022-03-31T12:54:45.380Z"
   },
   {
    "duration": 24,
    "start_time": "2022-03-31T12:54:45.395Z"
   },
   {
    "duration": 208,
    "start_time": "2022-03-31T12:54:45.421Z"
   },
   {
    "duration": 5,
    "start_time": "2022-03-31T12:54:45.630Z"
   },
   {
    "duration": 19,
    "start_time": "2022-03-31T12:54:45.637Z"
   },
   {
    "duration": 6,
    "start_time": "2022-03-31T12:54:45.657Z"
   },
   {
    "duration": 9,
    "start_time": "2022-03-31T12:54:45.665Z"
   },
   {
    "duration": 17,
    "start_time": "2022-03-31T12:54:45.675Z"
   },
   {
    "duration": 28,
    "start_time": "2022-03-31T12:54:45.693Z"
   },
   {
    "duration": 164,
    "start_time": "2022-03-31T12:54:45.723Z"
   },
   {
    "duration": 7,
    "start_time": "2022-03-31T12:54:45.889Z"
   },
   {
    "duration": 20,
    "start_time": "2022-03-31T12:54:45.897Z"
   },
   {
    "duration": 202,
    "start_time": "2022-03-31T12:54:45.918Z"
   },
   {
    "duration": 6,
    "start_time": "2022-03-31T12:54:46.122Z"
   },
   {
    "duration": 24,
    "start_time": "2022-03-31T12:54:46.130Z"
   },
   {
    "duration": 205,
    "start_time": "2022-03-31T12:54:46.156Z"
   },
   {
    "duration": 7,
    "start_time": "2022-03-31T12:54:46.363Z"
   },
   {
    "duration": 17,
    "start_time": "2022-03-31T12:54:46.381Z"
   },
   {
    "duration": 194,
    "start_time": "2022-03-31T12:54:46.399Z"
   },
   {
    "duration": 8,
    "start_time": "2022-03-31T12:54:46.595Z"
   },
   {
    "duration": 11,
    "start_time": "2022-03-31T12:54:46.605Z"
   },
   {
    "duration": 6,
    "start_time": "2022-03-31T12:54:46.618Z"
   },
   {
    "duration": 214,
    "start_time": "2022-03-31T12:54:46.626Z"
   },
   {
    "duration": 8,
    "start_time": "2022-03-31T12:54:46.841Z"
   },
   {
    "duration": 19,
    "start_time": "2022-03-31T12:54:46.850Z"
   },
   {
    "duration": 86,
    "start_time": "2022-03-31T12:54:46.870Z"
   },
   {
    "duration": 9,
    "start_time": "2022-03-31T12:54:46.957Z"
   },
   {
    "duration": 19,
    "start_time": "2022-03-31T12:54:46.967Z"
   },
   {
    "duration": 19,
    "start_time": "2022-03-31T12:54:46.987Z"
   },
   {
    "duration": 6,
    "start_time": "2022-03-31T12:54:47.008Z"
   },
   {
    "duration": 173,
    "start_time": "2022-03-31T12:54:47.015Z"
   },
   {
    "duration": 5,
    "start_time": "2022-03-31T12:54:47.190Z"
   },
   {
    "duration": 7,
    "start_time": "2022-03-31T12:54:47.196Z"
   },
   {
    "duration": 172,
    "start_time": "2022-03-31T12:54:47.204Z"
   },
   {
    "duration": 14,
    "start_time": "2022-03-31T12:54:47.380Z"
   },
   {
    "duration": 128,
    "start_time": "2022-03-31T12:54:47.399Z"
   },
   {
    "duration": 11,
    "start_time": "2022-03-31T12:54:47.529Z"
   },
   {
    "duration": 128,
    "start_time": "2022-03-31T12:54:47.542Z"
   },
   {
    "duration": 14,
    "start_time": "2022-03-31T12:54:47.680Z"
   },
   {
    "duration": 157,
    "start_time": "2022-03-31T12:54:47.695Z"
   },
   {
    "duration": 12,
    "start_time": "2022-03-31T12:54:47.853Z"
   },
   {
    "duration": 132,
    "start_time": "2022-03-31T12:54:47.866Z"
   },
   {
    "duration": 7,
    "start_time": "2022-03-31T12:54:48.000Z"
   },
   {
    "duration": 6,
    "start_time": "2022-03-31T12:54:48.008Z"
   },
   {
    "duration": 3,
    "start_time": "2022-03-31T12:55:00.364Z"
   },
   {
    "duration": 3,
    "start_time": "2022-03-31T12:55:11.211Z"
   },
   {
    "duration": 3,
    "start_time": "2022-03-31T12:55:12.178Z"
   },
   {
    "duration": 5,
    "start_time": "2022-03-31T12:56:46.739Z"
   },
   {
    "duration": 5,
    "start_time": "2022-03-31T12:58:01.615Z"
   },
   {
    "duration": 9,
    "start_time": "2022-03-31T13:01:14.032Z"
   },
   {
    "duration": 9,
    "start_time": "2022-03-31T13:01:19.159Z"
   },
   {
    "duration": 8,
    "start_time": "2022-03-31T13:01:49.233Z"
   },
   {
    "duration": 5,
    "start_time": "2022-03-31T13:01:54.155Z"
   },
   {
    "duration": 647,
    "start_time": "2022-03-31T14:39:17.100Z"
   },
   {
    "duration": 30,
    "start_time": "2022-03-31T14:39:17.750Z"
   },
   {
    "duration": 170,
    "start_time": "2022-03-31T14:39:17.782Z"
   },
   {
    "duration": 30,
    "start_time": "2022-03-31T14:39:17.956Z"
   },
   {
    "duration": 7,
    "start_time": "2022-03-31T14:39:17.989Z"
   },
   {
    "duration": 12,
    "start_time": "2022-03-31T14:39:17.998Z"
   },
   {
    "duration": 5,
    "start_time": "2022-03-31T14:39:18.012Z"
   },
   {
    "duration": 6,
    "start_time": "2022-03-31T14:39:18.020Z"
   },
   {
    "duration": 50,
    "start_time": "2022-03-31T14:39:18.028Z"
   },
   {
    "duration": 110,
    "start_time": "2022-03-31T14:39:18.082Z"
   },
   {
    "duration": 10,
    "start_time": "2022-03-31T14:39:18.195Z"
   },
   {
    "duration": 8,
    "start_time": "2022-03-31T14:39:18.206Z"
   },
   {
    "duration": 6,
    "start_time": "2022-03-31T14:39:18.216Z"
   },
   {
    "duration": 6,
    "start_time": "2022-03-31T14:39:18.224Z"
   },
   {
    "duration": 45,
    "start_time": "2022-03-31T14:39:18.232Z"
   },
   {
    "duration": 8,
    "start_time": "2022-03-31T14:39:18.279Z"
   },
   {
    "duration": 5,
    "start_time": "2022-03-31T14:39:18.290Z"
   },
   {
    "duration": 16,
    "start_time": "2022-03-31T14:39:18.298Z"
   },
   {
    "duration": 7,
    "start_time": "2022-03-31T14:39:18.316Z"
   },
   {
    "duration": 50,
    "start_time": "2022-03-31T14:39:18.325Z"
   },
   {
    "duration": 20,
    "start_time": "2022-03-31T14:39:18.377Z"
   },
   {
    "duration": 8,
    "start_time": "2022-03-31T14:39:18.399Z"
   },
   {
    "duration": 9,
    "start_time": "2022-03-31T14:39:18.408Z"
   },
   {
    "duration": 8,
    "start_time": "2022-03-31T14:39:18.419Z"
   },
   {
    "duration": 9,
    "start_time": "2022-03-31T14:39:18.430Z"
   },
   {
    "duration": 6,
    "start_time": "2022-03-31T14:39:18.474Z"
   },
   {
    "duration": 8,
    "start_time": "2022-03-31T14:39:18.482Z"
   },
   {
    "duration": 4,
    "start_time": "2022-03-31T14:39:18.499Z"
   },
   {
    "duration": 7,
    "start_time": "2022-03-31T14:39:18.506Z"
   },
   {
    "duration": 73,
    "start_time": "2022-03-31T14:39:18.515Z"
   },
   {
    "duration": 65,
    "start_time": "2022-03-31T14:39:18.591Z"
   },
   {
    "duration": 4,
    "start_time": "2022-03-31T14:39:18.674Z"
   },
   {
    "duration": 11,
    "start_time": "2022-03-31T14:39:18.680Z"
   },
   {
    "duration": 6,
    "start_time": "2022-03-31T14:39:18.693Z"
   },
   {
    "duration": 7,
    "start_time": "2022-03-31T14:39:18.701Z"
   },
   {
    "duration": 10,
    "start_time": "2022-03-31T14:39:18.710Z"
   },
   {
    "duration": 13,
    "start_time": "2022-03-31T14:39:18.722Z"
   },
   {
    "duration": 37,
    "start_time": "2022-03-31T14:39:18.737Z"
   },
   {
    "duration": 21,
    "start_time": "2022-03-31T14:39:18.776Z"
   },
   {
    "duration": 4,
    "start_time": "2022-03-31T14:39:18.799Z"
   },
   {
    "duration": 96,
    "start_time": "2022-03-31T14:39:18.805Z"
   },
   {
    "duration": 14,
    "start_time": "2022-03-31T14:39:18.903Z"
   },
   {
    "duration": 6,
    "start_time": "2022-03-31T14:39:18.919Z"
   },
   {
    "duration": 15,
    "start_time": "2022-03-31T14:39:18.927Z"
   },
   {
    "duration": 30,
    "start_time": "2022-03-31T14:39:18.945Z"
   },
   {
    "duration": 14,
    "start_time": "2022-03-31T14:39:18.977Z"
   },
   {
    "duration": 5,
    "start_time": "2022-03-31T14:39:18.993Z"
   },
   {
    "duration": 6,
    "start_time": "2022-03-31T14:39:19.000Z"
   },
   {
    "duration": 405,
    "start_time": "2022-03-31T14:39:19.007Z"
   },
   {
    "duration": 7,
    "start_time": "2022-03-31T14:39:19.414Z"
   },
   {
    "duration": 7,
    "start_time": "2022-03-31T14:39:19.423Z"
   },
   {
    "duration": 8,
    "start_time": "2022-03-31T14:39:19.432Z"
   },
   {
    "duration": 33,
    "start_time": "2022-03-31T14:39:19.441Z"
   },
   {
    "duration": 7,
    "start_time": "2022-03-31T14:39:19.476Z"
   },
   {
    "duration": 25,
    "start_time": "2022-03-31T14:39:19.485Z"
   },
   {
    "duration": 940,
    "start_time": "2022-03-31T14:39:19.512Z"
   },
   {
    "duration": 24,
    "start_time": "2022-03-31T14:39:20.454Z"
   },
   {
    "duration": 25,
    "start_time": "2022-03-31T14:39:20.480Z"
   },
   {
    "duration": 441,
    "start_time": "2022-03-31T14:39:20.507Z"
   },
   {
    "duration": 9,
    "start_time": "2022-03-31T14:39:20.950Z"
   },
   {
    "duration": 29,
    "start_time": "2022-03-31T14:39:20.974Z"
   },
   {
    "duration": 379,
    "start_time": "2022-03-31T14:39:21.005Z"
   },
   {
    "duration": 11,
    "start_time": "2022-03-31T14:39:21.386Z"
   },
   {
    "duration": 33,
    "start_time": "2022-03-31T14:39:21.399Z"
   },
   {
    "duration": 378,
    "start_time": "2022-03-31T14:39:21.435Z"
   },
   {
    "duration": 10,
    "start_time": "2022-03-31T14:39:21.816Z"
   },
   {
    "duration": 14,
    "start_time": "2022-03-31T14:39:21.828Z"
   },
   {
    "duration": 35,
    "start_time": "2022-03-31T14:39:21.844Z"
   },
   {
    "duration": 388,
    "start_time": "2022-03-31T14:39:21.882Z"
   },
   {
    "duration": 13,
    "start_time": "2022-03-31T14:39:22.274Z"
   },
   {
    "duration": 16,
    "start_time": "2022-03-31T14:39:22.289Z"
   },
   {
    "duration": 16,
    "start_time": "2022-03-31T14:39:22.307Z"
   },
   {
    "duration": 48,
    "start_time": "2022-03-31T14:39:22.326Z"
   },
   {
    "duration": 12,
    "start_time": "2022-03-31T14:39:22.377Z"
   },
   {
    "duration": 22,
    "start_time": "2022-03-31T14:39:22.391Z"
   },
   {
    "duration": 7,
    "start_time": "2022-03-31T14:39:22.415Z"
   },
   {
    "duration": 317,
    "start_time": "2022-03-31T14:39:22.424Z"
   },
   {
    "duration": 7,
    "start_time": "2022-03-31T14:39:22.743Z"
   },
   {
    "duration": 25,
    "start_time": "2022-03-31T14:39:22.752Z"
   },
   {
    "duration": 284,
    "start_time": "2022-03-31T14:39:22.779Z"
   },
   {
    "duration": 26,
    "start_time": "2022-03-31T14:39:23.065Z"
   },
   {
    "duration": 232,
    "start_time": "2022-03-31T14:39:23.099Z"
   },
   {
    "duration": 18,
    "start_time": "2022-03-31T14:39:23.334Z"
   },
   {
    "duration": 239,
    "start_time": "2022-03-31T14:39:23.354Z"
   },
   {
    "duration": 19,
    "start_time": "2022-03-31T14:39:23.595Z"
   },
   {
    "duration": 344,
    "start_time": "2022-03-31T14:39:23.616Z"
   },
   {
    "duration": 24,
    "start_time": "2022-03-31T14:39:23.962Z"
   },
   {
    "duration": 237,
    "start_time": "2022-03-31T14:39:23.988Z"
   },
   {
    "duration": 8,
    "start_time": "2022-03-31T14:39:24.227Z"
   },
   {
    "duration": 9,
    "start_time": "2022-03-31T14:39:24.237Z"
   },
   {
    "duration": 101,
    "start_time": "2022-03-31T14:39:24.248Z"
   },
   {
    "duration": 183,
    "start_time": "2022-03-31T14:40:04.878Z"
   },
   {
    "duration": 8,
    "start_time": "2022-03-31T14:42:00.836Z"
   },
   {
    "duration": 10,
    "start_time": "2022-03-31T14:42:06.718Z"
   },
   {
    "duration": 8,
    "start_time": "2022-03-31T14:42:12.461Z"
   },
   {
    "duration": 129,
    "start_time": "2022-03-31T14:42:13.007Z"
   },
   {
    "duration": 114,
    "start_time": "2022-03-31T14:42:32.527Z"
   },
   {
    "duration": 45,
    "start_time": "2022-03-31T14:43:28.126Z"
   },
   {
    "duration": 12,
    "start_time": "2022-03-31T14:51:24.294Z"
   },
   {
    "duration": 17,
    "start_time": "2022-03-31T14:56:43.098Z"
   },
   {
    "duration": 4,
    "start_time": "2022-03-31T14:56:47.663Z"
   },
   {
    "duration": 8,
    "start_time": "2022-03-31T14:58:17.094Z"
   },
   {
    "duration": 10,
    "start_time": "2022-03-31T14:58:52.827Z"
   },
   {
    "duration": 8,
    "start_time": "2022-03-31T14:58:56.287Z"
   },
   {
    "duration": 1676,
    "start_time": "2022-03-31T14:59:17.541Z"
   },
   {
    "duration": 21,
    "start_time": "2022-03-31T15:00:02.414Z"
   },
   {
    "duration": 8,
    "start_time": "2022-03-31T15:00:32.320Z"
   },
   {
    "duration": 10,
    "start_time": "2022-03-31T15:00:35.660Z"
   },
   {
    "duration": 5,
    "start_time": "2022-03-31T15:02:18.112Z"
   },
   {
    "duration": 22,
    "start_time": "2022-03-31T15:02:25.066Z"
   },
   {
    "duration": 4,
    "start_time": "2022-03-31T15:02:36.597Z"
   },
   {
    "duration": 4,
    "start_time": "2022-03-31T15:02:43.776Z"
   },
   {
    "duration": 8,
    "start_time": "2022-03-31T15:02:44.804Z"
   },
   {
    "duration": 17,
    "start_time": "2022-03-31T15:02:45.269Z"
   },
   {
    "duration": 13,
    "start_time": "2022-03-31T15:02:56.367Z"
   },
   {
    "duration": 13,
    "start_time": "2022-03-31T15:03:12.603Z"
   },
   {
    "duration": 155,
    "start_time": "2022-03-31T15:03:39.746Z"
   },
   {
    "duration": 14,
    "start_time": "2022-03-31T15:03:50.752Z"
   },
   {
    "duration": 9,
    "start_time": "2022-03-31T15:04:30.680Z"
   },
   {
    "duration": 13,
    "start_time": "2022-03-31T15:45:04.845Z"
   },
   {
    "duration": 22,
    "start_time": "2022-03-31T15:48:37.548Z"
   },
   {
    "duration": 20,
    "start_time": "2022-03-31T15:49:14.692Z"
   },
   {
    "duration": 23,
    "start_time": "2022-03-31T15:50:25.172Z"
   },
   {
    "duration": 15,
    "start_time": "2022-03-31T15:50:40.262Z"
   },
   {
    "duration": 10,
    "start_time": "2022-03-31T15:53:08.384Z"
   },
   {
    "duration": 10,
    "start_time": "2022-03-31T15:53:29.013Z"
   },
   {
    "duration": 15,
    "start_time": "2022-03-31T15:53:56.035Z"
   },
   {
    "duration": 10,
    "start_time": "2022-03-31T15:53:59.676Z"
   },
   {
    "duration": 145,
    "start_time": "2022-04-01T07:33:59.570Z"
   },
   {
    "duration": 64,
    "start_time": "2022-04-01T07:36:38.907Z"
   },
   {
    "duration": 549,
    "start_time": "2022-04-01T07:36:59.796Z"
   },
   {
    "duration": 16,
    "start_time": "2022-04-01T07:37:00.347Z"
   },
   {
    "duration": 116,
    "start_time": "2022-04-01T07:37:00.365Z"
   },
   {
    "duration": 26,
    "start_time": "2022-04-01T07:37:00.483Z"
   },
   {
    "duration": 6,
    "start_time": "2022-04-01T07:37:00.511Z"
   },
   {
    "duration": 24,
    "start_time": "2022-04-01T07:37:00.518Z"
   },
   {
    "duration": 23,
    "start_time": "2022-04-01T07:37:00.544Z"
   },
   {
    "duration": 18,
    "start_time": "2022-04-01T07:37:00.569Z"
   },
   {
    "duration": 19,
    "start_time": "2022-04-01T07:37:00.588Z"
   },
   {
    "duration": 66,
    "start_time": "2022-04-01T07:37:00.610Z"
   },
   {
    "duration": 6,
    "start_time": "2022-04-01T07:37:00.677Z"
   },
   {
    "duration": 24,
    "start_time": "2022-04-01T07:37:00.685Z"
   },
   {
    "duration": 16,
    "start_time": "2022-04-01T07:37:00.711Z"
   },
   {
    "duration": 11,
    "start_time": "2022-04-01T07:37:00.729Z"
   },
   {
    "duration": 15,
    "start_time": "2022-04-01T07:37:00.741Z"
   },
   {
    "duration": 11,
    "start_time": "2022-04-01T07:37:00.757Z"
   },
   {
    "duration": 6,
    "start_time": "2022-04-01T07:37:00.770Z"
   },
   {
    "duration": 12,
    "start_time": "2022-04-01T07:37:00.778Z"
   },
   {
    "duration": 5,
    "start_time": "2022-04-01T07:37:00.792Z"
   },
   {
    "duration": 10,
    "start_time": "2022-04-01T07:37:00.799Z"
   },
   {
    "duration": 13,
    "start_time": "2022-04-01T07:37:00.811Z"
   },
   {
    "duration": 5,
    "start_time": "2022-04-01T07:37:00.825Z"
   },
   {
    "duration": 7,
    "start_time": "2022-04-01T07:37:00.832Z"
   },
   {
    "duration": 5,
    "start_time": "2022-04-01T07:37:00.840Z"
   },
   {
    "duration": 11,
    "start_time": "2022-04-01T07:37:00.847Z"
   },
   {
    "duration": 6,
    "start_time": "2022-04-01T07:37:00.859Z"
   },
   {
    "duration": 6,
    "start_time": "2022-04-01T07:37:00.866Z"
   },
   {
    "duration": 35,
    "start_time": "2022-04-01T07:37:00.876Z"
   },
   {
    "duration": 6,
    "start_time": "2022-04-01T07:37:00.913Z"
   },
   {
    "duration": 15,
    "start_time": "2022-04-01T07:37:00.920Z"
   },
   {
    "duration": 44,
    "start_time": "2022-04-01T07:37:00.937Z"
   },
   {
    "duration": 2,
    "start_time": "2022-04-01T07:37:00.982Z"
   },
   {
    "duration": 6,
    "start_time": "2022-04-01T07:37:01.008Z"
   },
   {
    "duration": 9,
    "start_time": "2022-04-01T07:37:01.015Z"
   },
   {
    "duration": 6,
    "start_time": "2022-04-01T07:37:01.026Z"
   },
   {
    "duration": 8,
    "start_time": "2022-04-01T07:37:01.033Z"
   },
   {
    "duration": 16,
    "start_time": "2022-04-01T07:37:01.042Z"
   },
   {
    "duration": 5,
    "start_time": "2022-04-01T07:37:01.059Z"
   },
   {
    "duration": 19,
    "start_time": "2022-04-01T07:37:01.066Z"
   },
   {
    "duration": 3,
    "start_time": "2022-04-01T07:37:01.087Z"
   },
   {
    "duration": 54,
    "start_time": "2022-04-01T07:37:01.092Z"
   },
   {
    "duration": 8,
    "start_time": "2022-04-01T07:37:01.148Z"
   },
   {
    "duration": 9,
    "start_time": "2022-04-01T07:37:01.158Z"
   },
   {
    "duration": 21,
    "start_time": "2022-04-01T07:37:01.169Z"
   },
   {
    "duration": 9,
    "start_time": "2022-04-01T07:37:01.192Z"
   },
   {
    "duration": 9,
    "start_time": "2022-04-01T07:37:01.209Z"
   },
   {
    "duration": 5,
    "start_time": "2022-04-01T07:37:01.219Z"
   },
   {
    "duration": 6,
    "start_time": "2022-04-01T07:37:01.226Z"
   },
   {
    "duration": 238,
    "start_time": "2022-04-01T07:37:01.234Z"
   },
   {
    "duration": 5,
    "start_time": "2022-04-01T07:37:01.474Z"
   },
   {
    "duration": 6,
    "start_time": "2022-04-01T07:37:01.480Z"
   },
   {
    "duration": 12,
    "start_time": "2022-04-01T07:37:01.488Z"
   },
   {
    "duration": 8,
    "start_time": "2022-04-01T07:37:01.509Z"
   },
   {
    "duration": 9,
    "start_time": "2022-04-01T07:37:01.519Z"
   },
   {
    "duration": 23,
    "start_time": "2022-04-01T07:37:01.530Z"
   },
   {
    "duration": 633,
    "start_time": "2022-04-01T07:37:01.555Z"
   },
   {
    "duration": 8,
    "start_time": "2022-04-01T07:37:02.190Z"
   },
   {
    "duration": 18,
    "start_time": "2022-04-01T07:37:02.209Z"
   },
   {
    "duration": 247,
    "start_time": "2022-04-01T07:37:02.229Z"
   },
   {
    "duration": 6,
    "start_time": "2022-04-01T07:37:02.478Z"
   },
   {
    "duration": 32,
    "start_time": "2022-04-01T07:37:02.485Z"
   },
   {
    "duration": 295,
    "start_time": "2022-04-01T07:37:02.518Z"
   },
   {
    "duration": 8,
    "start_time": "2022-04-01T07:37:02.815Z"
   },
   {
    "duration": 28,
    "start_time": "2022-04-01T07:37:02.825Z"
   },
   {
    "duration": 242,
    "start_time": "2022-04-01T07:37:02.855Z"
   },
   {
    "duration": 13,
    "start_time": "2022-04-01T07:37:03.098Z"
   },
   {
    "duration": 10,
    "start_time": "2022-04-01T07:37:03.113Z"
   },
   {
    "duration": 7,
    "start_time": "2022-04-01T07:37:03.125Z"
   },
   {
    "duration": 258,
    "start_time": "2022-04-01T07:37:03.134Z"
   },
   {
    "duration": 18,
    "start_time": "2022-04-01T07:37:03.394Z"
   },
   {
    "duration": 11,
    "start_time": "2022-04-01T07:37:03.414Z"
   },
   {
    "duration": 11,
    "start_time": "2022-04-01T07:37:03.426Z"
   },
   {
    "duration": 10,
    "start_time": "2022-04-01T07:37:03.439Z"
   },
   {
    "duration": 10,
    "start_time": "2022-04-01T07:37:03.450Z"
   },
   {
    "duration": 15,
    "start_time": "2022-04-01T07:37:03.462Z"
   },
   {
    "duration": 5,
    "start_time": "2022-04-01T07:37:03.509Z"
   },
   {
    "duration": 203,
    "start_time": "2022-04-01T07:37:03.516Z"
   },
   {
    "duration": 6,
    "start_time": "2022-04-01T07:37:03.720Z"
   },
   {
    "duration": 5,
    "start_time": "2022-04-01T07:37:03.727Z"
   },
   {
    "duration": 208,
    "start_time": "2022-04-01T07:37:03.734Z"
   },
   {
    "duration": 15,
    "start_time": "2022-04-01T07:37:03.944Z"
   },
   {
    "duration": 153,
    "start_time": "2022-04-01T07:37:03.964Z"
   },
   {
    "duration": 12,
    "start_time": "2022-04-01T07:37:04.119Z"
   },
   {
    "duration": 149,
    "start_time": "2022-04-01T07:37:04.133Z"
   },
   {
    "duration": 27,
    "start_time": "2022-04-01T07:37:04.283Z"
   },
   {
    "duration": 175,
    "start_time": "2022-04-01T07:37:04.312Z"
   },
   {
    "duration": 22,
    "start_time": "2022-04-01T07:37:04.488Z"
   },
   {
    "duration": 227,
    "start_time": "2022-04-01T07:37:04.512Z"
   },
   {
    "duration": 9,
    "start_time": "2022-04-01T07:37:04.740Z"
   },
   {
    "duration": 13,
    "start_time": "2022-04-01T07:37:04.750Z"
   },
   {
    "duration": 107,
    "start_time": "2022-04-01T07:37:04.765Z"
   },
   {
    "duration": 10,
    "start_time": "2022-04-01T07:37:16.739Z"
   },
   {
    "duration": 7,
    "start_time": "2022-04-01T07:37:33.623Z"
   },
   {
    "duration": 13,
    "start_time": "2022-04-01T07:38:11.996Z"
   },
   {
    "duration": 9,
    "start_time": "2022-04-01T07:38:12.425Z"
   },
   {
    "duration": 8,
    "start_time": "2022-04-01T07:38:12.913Z"
   },
   {
    "duration": 10,
    "start_time": "2022-04-01T07:38:26.123Z"
   },
   {
    "duration": 10,
    "start_time": "2022-04-01T07:38:26.577Z"
   },
   {
    "duration": 9,
    "start_time": "2022-04-01T07:38:26.979Z"
   },
   {
    "duration": 170,
    "start_time": "2022-04-01T07:39:09.928Z"
   },
   {
    "duration": 177,
    "start_time": "2022-04-01T07:40:36.998Z"
   },
   {
    "duration": 184,
    "start_time": "2022-04-01T07:40:51.050Z"
   },
   {
    "duration": 178,
    "start_time": "2022-04-01T07:41:03.036Z"
   },
   {
    "duration": 181,
    "start_time": "2022-04-01T07:41:17.698Z"
   },
   {
    "duration": 168,
    "start_time": "2022-04-01T07:41:22.524Z"
   },
   {
    "duration": 168,
    "start_time": "2022-04-01T07:41:35.364Z"
   },
   {
    "duration": 175,
    "start_time": "2022-04-01T07:41:44.875Z"
   },
   {
    "duration": 173,
    "start_time": "2022-04-01T07:41:54.180Z"
   },
   {
    "duration": 169,
    "start_time": "2022-04-01T07:43:24.940Z"
   },
   {
    "duration": 13,
    "start_time": "2022-04-01T07:43:42.820Z"
   },
   {
    "duration": 8,
    "start_time": "2022-04-01T07:47:50.300Z"
   },
   {
    "duration": 72,
    "start_time": "2022-04-01T07:49:50.141Z"
   },
   {
    "duration": 45,
    "start_time": "2022-04-01T07:50:00.906Z"
   },
   {
    "duration": 13,
    "start_time": "2022-04-01T08:05:56.300Z"
   },
   {
    "duration": 11,
    "start_time": "2022-04-01T08:06:20.310Z"
   },
   {
    "duration": 8,
    "start_time": "2022-04-01T08:07:03.582Z"
   },
   {
    "duration": 14,
    "start_time": "2022-04-01T08:08:32.327Z"
   },
   {
    "duration": 8,
    "start_time": "2022-04-01T08:09:11.293Z"
   },
   {
    "duration": 4,
    "start_time": "2022-04-01T08:09:15.422Z"
   },
   {
    "duration": 3,
    "start_time": "2022-04-01T08:10:03.854Z"
   },
   {
    "duration": 9,
    "start_time": "2022-04-01T08:10:13.085Z"
   },
   {
    "duration": 4,
    "start_time": "2022-04-01T08:12:40.881Z"
   },
   {
    "duration": 3,
    "start_time": "2022-04-01T08:12:41.779Z"
   },
   {
    "duration": 10,
    "start_time": "2022-04-01T08:12:42.252Z"
   },
   {
    "duration": 4,
    "start_time": "2022-04-01T08:13:42.100Z"
   },
   {
    "duration": 11,
    "start_time": "2022-04-01T08:14:19.177Z"
   },
   {
    "duration": 4,
    "start_time": "2022-04-01T08:16:00.543Z"
   },
   {
    "duration": 4,
    "start_time": "2022-04-01T08:16:01.133Z"
   },
   {
    "duration": 8,
    "start_time": "2022-04-01T08:16:01.639Z"
   },
   {
    "duration": 3,
    "start_time": "2022-04-01T08:16:22.737Z"
   },
   {
    "duration": 4,
    "start_time": "2022-04-01T08:16:23.242Z"
   },
   {
    "duration": 8,
    "start_time": "2022-04-01T08:16:23.613Z"
   },
   {
    "duration": 3,
    "start_time": "2022-04-01T08:16:26.773Z"
   },
   {
    "duration": 3,
    "start_time": "2022-04-01T08:16:27.300Z"
   },
   {
    "duration": 8,
    "start_time": "2022-04-01T08:16:27.805Z"
   },
   {
    "duration": 6,
    "start_time": "2022-04-01T08:16:40.662Z"
   },
   {
    "duration": 7,
    "start_time": "2022-04-01T08:16:46.465Z"
   },
   {
    "duration": 72,
    "start_time": "2022-04-01T08:16:50.314Z"
   },
   {
    "duration": 21,
    "start_time": "2022-04-01T08:16:50.388Z"
   },
   {
    "duration": 134,
    "start_time": "2022-04-01T08:16:50.410Z"
   },
   {
    "duration": 16,
    "start_time": "2022-04-01T08:16:50.546Z"
   },
   {
    "duration": 6,
    "start_time": "2022-04-01T08:16:50.563Z"
   },
   {
    "duration": 11,
    "start_time": "2022-04-01T08:16:50.608Z"
   },
   {
    "duration": 5,
    "start_time": "2022-04-01T08:16:50.620Z"
   },
   {
    "duration": 7,
    "start_time": "2022-04-01T08:16:50.626Z"
   },
   {
    "duration": 6,
    "start_time": "2022-04-01T08:16:50.635Z"
   },
   {
    "duration": 105,
    "start_time": "2022-04-01T08:16:50.644Z"
   },
   {
    "duration": 6,
    "start_time": "2022-04-01T08:16:50.751Z"
   },
   {
    "duration": 8,
    "start_time": "2022-04-01T08:16:50.758Z"
   },
   {
    "duration": 10,
    "start_time": "2022-04-01T08:16:50.768Z"
   },
   {
    "duration": 30,
    "start_time": "2022-04-01T08:16:50.780Z"
   },
   {
    "duration": 9,
    "start_time": "2022-04-01T08:16:50.812Z"
   },
   {
    "duration": 10,
    "start_time": "2022-04-01T08:16:50.823Z"
   },
   {
    "duration": 7,
    "start_time": "2022-04-01T08:16:50.834Z"
   },
   {
    "duration": 12,
    "start_time": "2022-04-01T08:16:50.842Z"
   },
   {
    "duration": 5,
    "start_time": "2022-04-01T08:16:50.856Z"
   },
   {
    "duration": 7,
    "start_time": "2022-04-01T08:16:50.863Z"
   },
   {
    "duration": 44,
    "start_time": "2022-04-01T08:16:50.871Z"
   },
   {
    "duration": 9,
    "start_time": "2022-04-01T08:16:50.916Z"
   },
   {
    "duration": 11,
    "start_time": "2022-04-01T08:16:50.927Z"
   },
   {
    "duration": 8,
    "start_time": "2022-04-01T08:16:50.939Z"
   },
   {
    "duration": 8,
    "start_time": "2022-04-01T08:16:50.949Z"
   },
   {
    "duration": 6,
    "start_time": "2022-04-01T08:16:50.959Z"
   },
   {
    "duration": 11,
    "start_time": "2022-04-01T08:16:50.966Z"
   },
   {
    "duration": 4,
    "start_time": "2022-04-01T08:16:50.983Z"
   },
   {
    "duration": 24,
    "start_time": "2022-04-01T08:16:50.988Z"
   },
   {
    "duration": 20,
    "start_time": "2022-04-01T08:16:51.014Z"
   },
   {
    "duration": 41,
    "start_time": "2022-04-01T08:16:51.036Z"
   },
   {
    "duration": 3,
    "start_time": "2022-04-01T08:16:51.080Z"
   },
   {
    "duration": 5,
    "start_time": "2022-04-01T08:16:51.109Z"
   },
   {
    "duration": 9,
    "start_time": "2022-04-01T08:16:51.116Z"
   },
   {
    "duration": 6,
    "start_time": "2022-04-01T08:16:51.127Z"
   },
   {
    "duration": 11,
    "start_time": "2022-04-01T08:16:51.135Z"
   },
   {
    "duration": 6,
    "start_time": "2022-04-01T08:16:51.147Z"
   },
   {
    "duration": 9,
    "start_time": "2022-04-01T08:16:51.154Z"
   },
   {
    "duration": 17,
    "start_time": "2022-04-01T08:16:51.165Z"
   },
   {
    "duration": 26,
    "start_time": "2022-04-01T08:16:51.183Z"
   },
   {
    "duration": 47,
    "start_time": "2022-04-01T08:16:51.211Z"
   },
   {
    "duration": 10,
    "start_time": "2022-04-01T08:16:51.259Z"
   },
   {
    "duration": 6,
    "start_time": "2022-04-01T08:16:51.271Z"
   },
   {
    "duration": 39,
    "start_time": "2022-04-01T08:16:51.278Z"
   },
   {
    "duration": 6,
    "start_time": "2022-04-01T08:16:51.319Z"
   },
   {
    "duration": 15,
    "start_time": "2022-04-01T08:16:51.326Z"
   },
   {
    "duration": 5,
    "start_time": "2022-04-01T08:16:51.342Z"
   },
   {
    "duration": 5,
    "start_time": "2022-04-01T08:16:51.348Z"
   },
   {
    "duration": 271,
    "start_time": "2022-04-01T08:16:51.355Z"
   },
   {
    "duration": 5,
    "start_time": "2022-04-01T08:16:51.628Z"
   },
   {
    "duration": 9,
    "start_time": "2022-04-01T08:16:51.634Z"
   },
   {
    "duration": 7,
    "start_time": "2022-04-01T08:16:51.645Z"
   },
   {
    "duration": 4,
    "start_time": "2022-04-01T08:16:51.654Z"
   },
   {
    "duration": 8,
    "start_time": "2022-04-01T08:16:51.660Z"
   },
   {
    "duration": 53,
    "start_time": "2022-04-01T08:16:51.670Z"
   },
   {
    "duration": 311,
    "start_time": "2022-04-01T08:16:51.724Z"
   },
   {
    "duration": 7,
    "start_time": "2022-04-01T08:16:52.037Z"
   },
   {
    "duration": 17,
    "start_time": "2022-04-01T08:16:52.045Z"
   },
   {
    "duration": 276,
    "start_time": "2022-04-01T08:16:52.064Z"
   },
   {
    "duration": 6,
    "start_time": "2022-04-01T08:16:52.342Z"
   },
   {
    "duration": 15,
    "start_time": "2022-04-01T08:16:52.349Z"
   },
   {
    "duration": 239,
    "start_time": "2022-04-01T08:16:52.366Z"
   },
   {
    "duration": 7,
    "start_time": "2022-04-01T08:16:52.609Z"
   },
   {
    "duration": 17,
    "start_time": "2022-04-01T08:16:52.618Z"
   },
   {
    "duration": 249,
    "start_time": "2022-04-01T08:16:52.637Z"
   },
   {
    "duration": 9,
    "start_time": "2022-04-01T08:16:52.888Z"
   },
   {
    "duration": 19,
    "start_time": "2022-04-01T08:16:52.899Z"
   },
   {
    "duration": 9,
    "start_time": "2022-04-01T08:16:52.920Z"
   },
   {
    "duration": 251,
    "start_time": "2022-04-01T08:16:52.930Z"
   },
   {
    "duration": 9,
    "start_time": "2022-04-01T08:16:53.183Z"
   },
   {
    "duration": 23,
    "start_time": "2022-04-01T08:16:53.193Z"
   },
   {
    "duration": 11,
    "start_time": "2022-04-01T08:16:53.218Z"
   },
   {
    "duration": 8,
    "start_time": "2022-04-01T08:16:53.231Z"
   },
   {
    "duration": 8,
    "start_time": "2022-04-01T08:16:53.241Z"
   },
   {
    "duration": 16,
    "start_time": "2022-04-01T08:16:53.250Z"
   },
   {
    "duration": 5,
    "start_time": "2022-04-01T08:16:53.267Z"
   },
   {
    "duration": 194,
    "start_time": "2022-04-01T08:16:53.310Z"
   },
   {
    "duration": 8,
    "start_time": "2022-04-01T08:16:53.505Z"
   },
   {
    "duration": 7,
    "start_time": "2022-04-01T08:16:53.514Z"
   },
   {
    "duration": 207,
    "start_time": "2022-04-01T08:16:53.523Z"
   },
   {
    "duration": 16,
    "start_time": "2022-04-01T08:16:53.732Z"
   },
   {
    "duration": 255,
    "start_time": "2022-04-01T08:16:53.754Z"
   },
   {
    "duration": 12,
    "start_time": "2022-04-01T08:16:54.010Z"
   },
   {
    "duration": 153,
    "start_time": "2022-04-01T08:16:54.024Z"
   },
   {
    "duration": 13,
    "start_time": "2022-04-01T08:16:54.178Z"
   },
   {
    "duration": 195,
    "start_time": "2022-04-01T08:16:54.192Z"
   },
   {
    "duration": 22,
    "start_time": "2022-04-01T08:16:54.389Z"
   },
   {
    "duration": 156,
    "start_time": "2022-04-01T08:16:54.412Z"
   },
   {
    "duration": 8,
    "start_time": "2022-04-01T08:16:54.569Z"
   },
   {
    "duration": 11,
    "start_time": "2022-04-01T08:16:54.578Z"
   },
   {
    "duration": 26,
    "start_time": "2022-04-01T08:16:54.591Z"
   },
   {
    "duration": 198,
    "start_time": "2022-04-01T08:16:54.619Z"
   },
   {
    "duration": 11,
    "start_time": "2022-04-01T08:16:54.819Z"
   },
   {
    "duration": 10,
    "start_time": "2022-04-01T08:16:54.832Z"
   },
   {
    "duration": 36,
    "start_time": "2022-04-01T08:16:54.844Z"
   },
   {
    "duration": 5,
    "start_time": "2022-04-01T08:16:54.908Z"
   },
   {
    "duration": 7,
    "start_time": "2022-04-01T08:16:54.915Z"
   },
   {
    "duration": 10,
    "start_time": "2022-04-01T08:16:54.924Z"
   },
   {
    "duration": 175,
    "start_time": "2022-04-01T08:16:54.936Z"
   },
   {
    "duration": 69,
    "start_time": "2022-04-01T08:17:17.173Z"
   },
   {
    "duration": 8,
    "start_time": "2022-04-01T08:17:17.244Z"
   },
   {
    "duration": 133,
    "start_time": "2022-04-01T08:17:17.254Z"
   },
   {
    "duration": 14,
    "start_time": "2022-04-01T08:17:17.410Z"
   },
   {
    "duration": 5,
    "start_time": "2022-04-01T08:17:17.426Z"
   },
   {
    "duration": 16,
    "start_time": "2022-04-01T08:17:17.433Z"
   },
   {
    "duration": 3,
    "start_time": "2022-04-01T08:17:17.451Z"
   },
   {
    "duration": 5,
    "start_time": "2022-04-01T08:17:17.456Z"
   },
   {
    "duration": 5,
    "start_time": "2022-04-01T08:17:17.463Z"
   },
   {
    "duration": 62,
    "start_time": "2022-04-01T08:17:17.508Z"
   },
   {
    "duration": 5,
    "start_time": "2022-04-01T08:17:17.571Z"
   },
   {
    "duration": 31,
    "start_time": "2022-04-01T08:17:17.578Z"
   },
   {
    "duration": 6,
    "start_time": "2022-04-01T08:17:17.611Z"
   },
   {
    "duration": 5,
    "start_time": "2022-04-01T08:17:17.619Z"
   },
   {
    "duration": 6,
    "start_time": "2022-04-01T08:17:17.626Z"
   },
   {
    "duration": 6,
    "start_time": "2022-04-01T08:17:17.633Z"
   },
   {
    "duration": 6,
    "start_time": "2022-04-01T08:17:17.641Z"
   },
   {
    "duration": 10,
    "start_time": "2022-04-01T08:17:17.649Z"
   },
   {
    "duration": 5,
    "start_time": "2022-04-01T08:17:17.661Z"
   },
   {
    "duration": 6,
    "start_time": "2022-04-01T08:17:17.708Z"
   },
   {
    "duration": 16,
    "start_time": "2022-04-01T08:17:17.715Z"
   },
   {
    "duration": 6,
    "start_time": "2022-04-01T08:17:17.732Z"
   },
   {
    "duration": 6,
    "start_time": "2022-04-01T08:17:17.740Z"
   },
   {
    "duration": 6,
    "start_time": "2022-04-01T08:17:17.748Z"
   },
   {
    "duration": 7,
    "start_time": "2022-04-01T08:17:17.755Z"
   },
   {
    "duration": 5,
    "start_time": "2022-04-01T08:17:17.763Z"
   },
   {
    "duration": 40,
    "start_time": "2022-04-01T08:17:17.769Z"
   },
   {
    "duration": 4,
    "start_time": "2022-04-01T08:17:17.814Z"
   },
   {
    "duration": 7,
    "start_time": "2022-04-01T08:17:17.819Z"
   },
   {
    "duration": 16,
    "start_time": "2022-04-01T08:17:17.828Z"
   },
   {
    "duration": 63,
    "start_time": "2022-04-01T08:17:17.846Z"
   },
   {
    "duration": 3,
    "start_time": "2022-04-01T08:17:17.911Z"
   },
   {
    "duration": 9,
    "start_time": "2022-04-01T08:17:17.915Z"
   },
   {
    "duration": 5,
    "start_time": "2022-04-01T08:17:17.925Z"
   },
   {
    "duration": 5,
    "start_time": "2022-04-01T08:17:17.932Z"
   },
   {
    "duration": 4,
    "start_time": "2022-04-01T08:17:17.939Z"
   },
   {
    "duration": 5,
    "start_time": "2022-04-01T08:17:17.944Z"
   },
   {
    "duration": 4,
    "start_time": "2022-04-01T08:17:17.951Z"
   },
   {
    "duration": 56,
    "start_time": "2022-04-01T08:17:17.956Z"
   },
   {
    "duration": 4,
    "start_time": "2022-04-01T08:17:18.014Z"
   },
   {
    "duration": 56,
    "start_time": "2022-04-01T08:17:18.020Z"
   },
   {
    "duration": 9,
    "start_time": "2022-04-01T08:17:18.078Z"
   },
   {
    "duration": 21,
    "start_time": "2022-04-01T08:17:18.089Z"
   },
   {
    "duration": 13,
    "start_time": "2022-04-01T08:17:18.111Z"
   },
   {
    "duration": 5,
    "start_time": "2022-04-01T08:17:18.125Z"
   },
   {
    "duration": 12,
    "start_time": "2022-04-01T08:17:18.131Z"
   },
   {
    "duration": 5,
    "start_time": "2022-04-01T08:17:18.145Z"
   },
   {
    "duration": 8,
    "start_time": "2022-04-01T08:17:18.152Z"
   },
   {
    "duration": 246,
    "start_time": "2022-04-01T08:17:18.162Z"
   },
   {
    "duration": 5,
    "start_time": "2022-04-01T08:17:18.410Z"
   },
   {
    "duration": 6,
    "start_time": "2022-04-01T08:17:18.417Z"
   },
   {
    "duration": 11,
    "start_time": "2022-04-01T08:17:18.424Z"
   },
   {
    "duration": 7,
    "start_time": "2022-04-01T08:17:18.437Z"
   },
   {
    "duration": 7,
    "start_time": "2022-04-01T08:17:18.445Z"
   },
   {
    "duration": 22,
    "start_time": "2022-04-01T08:17:18.454Z"
   },
   {
    "duration": 248,
    "start_time": "2022-04-01T08:17:18.477Z"
   },
   {
    "duration": 8,
    "start_time": "2022-04-01T08:17:18.727Z"
   },
   {
    "duration": 18,
    "start_time": "2022-04-01T08:17:18.736Z"
   },
   {
    "duration": 266,
    "start_time": "2022-04-01T08:17:18.756Z"
   },
   {
    "duration": 8,
    "start_time": "2022-04-01T08:17:19.023Z"
   },
   {
    "duration": 19,
    "start_time": "2022-04-01T08:17:19.032Z"
   },
   {
    "duration": 264,
    "start_time": "2022-04-01T08:17:19.053Z"
   },
   {
    "duration": 7,
    "start_time": "2022-04-01T08:17:19.319Z"
   },
   {
    "duration": 18,
    "start_time": "2022-04-01T08:17:19.328Z"
   },
   {
    "duration": 254,
    "start_time": "2022-04-01T08:17:19.348Z"
   },
   {
    "duration": 9,
    "start_time": "2022-04-01T08:17:19.603Z"
   },
   {
    "duration": 9,
    "start_time": "2022-04-01T08:17:19.613Z"
   },
   {
    "duration": 7,
    "start_time": "2022-04-01T08:17:19.624Z"
   },
   {
    "duration": 395,
    "start_time": "2022-04-01T08:17:19.632Z"
   },
   {
    "duration": 10,
    "start_time": "2022-04-01T08:17:20.029Z"
   },
   {
    "duration": 9,
    "start_time": "2022-04-01T08:17:20.040Z"
   },
   {
    "duration": 13,
    "start_time": "2022-04-01T08:17:20.051Z"
   },
   {
    "duration": 10,
    "start_time": "2022-04-01T08:17:20.066Z"
   },
   {
    "duration": 34,
    "start_time": "2022-04-01T08:17:20.078Z"
   },
   {
    "duration": 16,
    "start_time": "2022-04-01T08:17:20.114Z"
   },
   {
    "duration": 5,
    "start_time": "2022-04-01T08:17:20.132Z"
   },
   {
    "duration": 218,
    "start_time": "2022-04-01T08:17:20.139Z"
   },
   {
    "duration": 6,
    "start_time": "2022-04-01T08:17:20.359Z"
   },
   {
    "duration": 7,
    "start_time": "2022-04-01T08:17:20.366Z"
   },
   {
    "duration": 216,
    "start_time": "2022-04-01T08:17:20.375Z"
   },
   {
    "duration": 25,
    "start_time": "2022-04-01T08:17:20.593Z"
   },
   {
    "duration": 156,
    "start_time": "2022-04-01T08:17:20.624Z"
   },
   {
    "duration": 14,
    "start_time": "2022-04-01T08:17:20.782Z"
   },
   {
    "duration": 162,
    "start_time": "2022-04-01T08:17:20.797Z"
   },
   {
    "duration": 13,
    "start_time": "2022-04-01T08:17:20.961Z"
   },
   {
    "duration": 196,
    "start_time": "2022-04-01T08:17:20.975Z"
   },
   {
    "duration": 14,
    "start_time": "2022-04-01T08:17:21.172Z"
   },
   {
    "duration": 175,
    "start_time": "2022-04-01T08:17:21.188Z"
   },
   {
    "duration": 8,
    "start_time": "2022-04-01T08:17:21.365Z"
   },
   {
    "duration": 10,
    "start_time": "2022-04-01T08:17:21.374Z"
   },
   {
    "duration": 30,
    "start_time": "2022-04-01T08:17:21.386Z"
   },
   {
    "duration": 190,
    "start_time": "2022-04-01T08:17:21.418Z"
   },
   {
    "duration": 10,
    "start_time": "2022-04-01T08:17:21.610Z"
   },
   {
    "duration": 10,
    "start_time": "2022-04-01T08:17:21.622Z"
   },
   {
    "duration": 36,
    "start_time": "2022-04-01T08:17:21.634Z"
   },
   {
    "duration": 5,
    "start_time": "2022-04-01T08:17:21.671Z"
   },
   {
    "duration": 34,
    "start_time": "2022-04-01T08:17:21.677Z"
   },
   {
    "duration": 8,
    "start_time": "2022-04-01T08:17:21.713Z"
   },
   {
    "duration": 212,
    "start_time": "2022-04-01T08:17:21.723Z"
   },
   {
    "duration": 6,
    "start_time": "2022-04-01T08:18:08.513Z"
   },
   {
    "duration": 10,
    "start_time": "2022-04-01T08:18:25.867Z"
   },
   {
    "duration": 10,
    "start_time": "2022-04-01T08:18:40.586Z"
   },
   {
    "duration": 175,
    "start_time": "2022-04-01T08:19:09.184Z"
   },
   {
    "duration": 5,
    "start_time": "2022-04-01T08:20:37.411Z"
   },
   {
    "duration": 6,
    "start_time": "2022-04-01T08:20:42.627Z"
   },
   {
    "duration": 10,
    "start_time": "2022-04-01T08:20:59.364Z"
   },
   {
    "duration": 72,
    "start_time": "2022-04-01T08:21:11.104Z"
   },
   {
    "duration": 8,
    "start_time": "2022-04-01T08:21:11.178Z"
   },
   {
    "duration": 147,
    "start_time": "2022-04-01T08:21:11.188Z"
   },
   {
    "duration": 15,
    "start_time": "2022-04-01T08:21:11.337Z"
   },
   {
    "duration": 5,
    "start_time": "2022-04-01T08:21:11.354Z"
   },
   {
    "duration": 11,
    "start_time": "2022-04-01T08:21:11.361Z"
   },
   {
    "duration": 37,
    "start_time": "2022-04-01T08:21:11.373Z"
   },
   {
    "duration": 5,
    "start_time": "2022-04-01T08:21:11.412Z"
   },
   {
    "duration": 5,
    "start_time": "2022-04-01T08:21:11.419Z"
   },
   {
    "duration": 95,
    "start_time": "2022-04-01T08:21:11.426Z"
   },
   {
    "duration": 4,
    "start_time": "2022-04-01T08:21:11.523Z"
   },
   {
    "duration": 7,
    "start_time": "2022-04-01T08:21:11.528Z"
   },
   {
    "duration": 6,
    "start_time": "2022-04-01T08:21:11.537Z"
   },
   {
    "duration": 5,
    "start_time": "2022-04-01T08:21:11.544Z"
   },
   {
    "duration": 5,
    "start_time": "2022-04-01T08:21:11.551Z"
   },
   {
    "duration": 6,
    "start_time": "2022-04-01T08:21:11.557Z"
   },
   {
    "duration": 46,
    "start_time": "2022-04-01T08:21:11.564Z"
   },
   {
    "duration": 7,
    "start_time": "2022-04-01T08:21:11.612Z"
   },
   {
    "duration": 5,
    "start_time": "2022-04-01T08:21:11.621Z"
   },
   {
    "duration": 5,
    "start_time": "2022-04-01T08:21:11.627Z"
   },
   {
    "duration": 13,
    "start_time": "2022-04-01T08:21:11.633Z"
   },
   {
    "duration": 5,
    "start_time": "2022-04-01T08:21:11.648Z"
   },
   {
    "duration": 8,
    "start_time": "2022-04-01T08:21:11.655Z"
   },
   {
    "duration": 4,
    "start_time": "2022-04-01T08:21:11.664Z"
   },
   {
    "duration": 40,
    "start_time": "2022-04-01T08:21:11.670Z"
   },
   {
    "duration": 5,
    "start_time": "2022-04-01T08:21:11.712Z"
   },
   {
    "duration": 8,
    "start_time": "2022-04-01T08:21:11.718Z"
   },
   {
    "duration": 3,
    "start_time": "2022-04-01T08:21:11.731Z"
   },
   {
    "duration": 6,
    "start_time": "2022-04-01T08:21:11.736Z"
   },
   {
    "duration": 14,
    "start_time": "2022-04-01T08:21:11.744Z"
   },
   {
    "duration": 80,
    "start_time": "2022-04-01T08:21:11.760Z"
   },
   {
    "duration": 2,
    "start_time": "2022-04-01T08:21:11.842Z"
   },
   {
    "duration": 9,
    "start_time": "2022-04-01T08:21:11.846Z"
   },
   {
    "duration": 7,
    "start_time": "2022-04-01T08:21:11.856Z"
   },
   {
    "duration": 8,
    "start_time": "2022-04-01T08:21:11.864Z"
   },
   {
    "duration": 8,
    "start_time": "2022-04-01T08:21:11.873Z"
   },
   {
    "duration": 26,
    "start_time": "2022-04-01T08:21:11.883Z"
   },
   {
    "duration": 4,
    "start_time": "2022-04-01T08:21:11.911Z"
   },
   {
    "duration": 16,
    "start_time": "2022-04-01T08:21:11.916Z"
   },
   {
    "duration": 4,
    "start_time": "2022-04-01T08:21:11.934Z"
   },
   {
    "duration": 46,
    "start_time": "2022-04-01T08:21:11.940Z"
   },
   {
    "duration": 10,
    "start_time": "2022-04-01T08:21:12.008Z"
   },
   {
    "duration": 5,
    "start_time": "2022-04-01T08:21:12.020Z"
   },
   {
    "duration": 9,
    "start_time": "2022-04-01T08:21:12.027Z"
   },
   {
    "duration": 9,
    "start_time": "2022-04-01T08:21:12.038Z"
   },
   {
    "duration": 11,
    "start_time": "2022-04-01T08:21:12.048Z"
   },
   {
    "duration": 5,
    "start_time": "2022-04-01T08:21:12.061Z"
   },
   {
    "duration": 5,
    "start_time": "2022-04-01T08:21:12.067Z"
   },
   {
    "duration": 229,
    "start_time": "2022-04-01T08:21:12.108Z"
   },
   {
    "duration": 6,
    "start_time": "2022-04-01T08:21:12.339Z"
   },
   {
    "duration": 6,
    "start_time": "2022-04-01T08:21:12.346Z"
   },
   {
    "duration": 10,
    "start_time": "2022-04-01T08:21:12.354Z"
   },
   {
    "duration": 4,
    "start_time": "2022-04-01T08:21:12.366Z"
   },
   {
    "duration": 6,
    "start_time": "2022-04-01T08:21:12.372Z"
   },
   {
    "duration": 42,
    "start_time": "2022-04-01T08:21:12.380Z"
   },
   {
    "duration": 227,
    "start_time": "2022-04-01T08:21:12.424Z"
   },
   {
    "duration": 7,
    "start_time": "2022-04-01T08:21:12.653Z"
   },
   {
    "duration": 25,
    "start_time": "2022-04-01T08:21:12.662Z"
   },
   {
    "duration": 262,
    "start_time": "2022-04-01T08:21:12.708Z"
   },
   {
    "duration": 7,
    "start_time": "2022-04-01T08:21:12.973Z"
   },
   {
    "duration": 37,
    "start_time": "2022-04-01T08:21:12.982Z"
   },
   {
    "duration": 258,
    "start_time": "2022-04-01T08:21:13.021Z"
   },
   {
    "duration": 9,
    "start_time": "2022-04-01T08:21:13.281Z"
   },
   {
    "duration": 32,
    "start_time": "2022-04-01T08:21:13.292Z"
   },
   {
    "duration": 249,
    "start_time": "2022-04-01T08:21:13.326Z"
   },
   {
    "duration": 9,
    "start_time": "2022-04-01T08:21:13.577Z"
   },
   {
    "duration": 23,
    "start_time": "2022-04-01T08:21:13.588Z"
   },
   {
    "duration": 9,
    "start_time": "2022-04-01T08:21:13.613Z"
   },
   {
    "duration": 427,
    "start_time": "2022-04-01T08:21:13.623Z"
   },
   {
    "duration": 9,
    "start_time": "2022-04-01T08:21:14.052Z"
   },
   {
    "duration": 8,
    "start_time": "2022-04-01T08:21:14.063Z"
   },
   {
    "duration": 9,
    "start_time": "2022-04-01T08:21:14.073Z"
   },
   {
    "duration": 31,
    "start_time": "2022-04-01T08:21:14.083Z"
   },
   {
    "duration": 9,
    "start_time": "2022-04-01T08:21:14.116Z"
   },
   {
    "duration": 16,
    "start_time": "2022-04-01T08:21:14.126Z"
   },
   {
    "duration": 5,
    "start_time": "2022-04-01T08:21:14.144Z"
   },
   {
    "duration": 227,
    "start_time": "2022-04-01T08:21:14.150Z"
   },
   {
    "duration": 5,
    "start_time": "2022-04-01T08:21:14.379Z"
   },
   {
    "duration": 24,
    "start_time": "2022-04-01T08:21:14.386Z"
   },
   {
    "duration": 207,
    "start_time": "2022-04-01T08:21:14.412Z"
   },
   {
    "duration": 16,
    "start_time": "2022-04-01T08:21:14.621Z"
   },
   {
    "duration": 166,
    "start_time": "2022-04-01T08:21:14.643Z"
   },
   {
    "duration": 14,
    "start_time": "2022-04-01T08:21:14.810Z"
   },
   {
    "duration": 168,
    "start_time": "2022-04-01T08:21:14.826Z"
   },
   {
    "duration": 19,
    "start_time": "2022-04-01T08:21:14.996Z"
   },
   {
    "duration": 196,
    "start_time": "2022-04-01T08:21:15.017Z"
   },
   {
    "duration": 14,
    "start_time": "2022-04-01T08:21:15.215Z"
   },
   {
    "duration": 179,
    "start_time": "2022-04-01T08:21:15.231Z"
   },
   {
    "duration": 8,
    "start_time": "2022-04-01T08:21:15.412Z"
   },
   {
    "duration": 11,
    "start_time": "2022-04-01T08:21:15.422Z"
   },
   {
    "duration": 14,
    "start_time": "2022-04-01T08:21:15.435Z"
   },
   {
    "duration": 215,
    "start_time": "2022-04-01T08:21:15.450Z"
   },
   {
    "duration": 11,
    "start_time": "2022-04-01T08:21:15.666Z"
   },
   {
    "duration": 12,
    "start_time": "2022-04-01T08:21:15.678Z"
   },
   {
    "duration": 18,
    "start_time": "2022-04-01T08:21:15.692Z"
   },
   {
    "duration": 6,
    "start_time": "2022-04-01T08:21:15.712Z"
   },
   {
    "duration": 7,
    "start_time": "2022-04-01T08:21:15.720Z"
   },
   {
    "duration": 154,
    "start_time": "2022-04-01T08:21:15.729Z"
   },
   {
    "duration": 123,
    "start_time": "2022-04-01T08:21:41.532Z"
   },
   {
    "duration": 8,
    "start_time": "2022-04-01T08:23:58.227Z"
   },
   {
    "duration": 70,
    "start_time": "2022-04-01T08:24:08.792Z"
   },
   {
    "duration": 9,
    "start_time": "2022-04-01T08:24:08.864Z"
   },
   {
    "duration": 154,
    "start_time": "2022-04-01T08:24:08.875Z"
   },
   {
    "duration": 15,
    "start_time": "2022-04-01T08:24:09.032Z"
   },
   {
    "duration": 6,
    "start_time": "2022-04-01T08:24:09.049Z"
   },
   {
    "duration": 11,
    "start_time": "2022-04-01T08:24:09.057Z"
   },
   {
    "duration": 40,
    "start_time": "2022-04-01T08:24:09.070Z"
   },
   {
    "duration": 7,
    "start_time": "2022-04-01T08:24:09.112Z"
   },
   {
    "duration": 5,
    "start_time": "2022-04-01T08:24:09.121Z"
   },
   {
    "duration": 88,
    "start_time": "2022-04-01T08:24:09.129Z"
   },
   {
    "duration": 4,
    "start_time": "2022-04-01T08:24:09.219Z"
   },
   {
    "duration": 7,
    "start_time": "2022-04-01T08:24:09.225Z"
   },
   {
    "duration": 4,
    "start_time": "2022-04-01T08:24:09.234Z"
   },
   {
    "duration": 5,
    "start_time": "2022-04-01T08:24:09.239Z"
   },
   {
    "duration": 6,
    "start_time": "2022-04-01T08:24:09.246Z"
   },
   {
    "duration": 5,
    "start_time": "2022-04-01T08:24:09.254Z"
   },
   {
    "duration": 5,
    "start_time": "2022-04-01T08:24:09.261Z"
   },
   {
    "duration": 7,
    "start_time": "2022-04-01T08:24:09.309Z"
   },
   {
    "duration": 8,
    "start_time": "2022-04-01T08:24:09.318Z"
   },
   {
    "duration": 5,
    "start_time": "2022-04-01T08:24:09.327Z"
   },
   {
    "duration": 21,
    "start_time": "2022-04-01T08:24:09.333Z"
   },
   {
    "duration": 6,
    "start_time": "2022-04-01T08:24:09.355Z"
   },
   {
    "duration": 7,
    "start_time": "2022-04-01T08:24:09.362Z"
   },
   {
    "duration": 5,
    "start_time": "2022-04-01T08:24:09.370Z"
   },
   {
    "duration": 33,
    "start_time": "2022-04-01T08:24:09.376Z"
   },
   {
    "duration": 3,
    "start_time": "2022-04-01T08:24:09.411Z"
   },
   {
    "duration": 10,
    "start_time": "2022-04-01T08:24:09.416Z"
   },
   {
    "duration": 4,
    "start_time": "2022-04-01T08:24:09.430Z"
   },
   {
    "duration": 6,
    "start_time": "2022-04-01T08:24:09.436Z"
   },
   {
    "duration": 16,
    "start_time": "2022-04-01T08:24:09.443Z"
   },
   {
    "duration": 69,
    "start_time": "2022-04-01T08:24:09.461Z"
   },
   {
    "duration": 3,
    "start_time": "2022-04-01T08:24:09.532Z"
   },
   {
    "duration": 7,
    "start_time": "2022-04-01T08:24:09.536Z"
   },
   {
    "duration": 4,
    "start_time": "2022-04-01T08:24:09.545Z"
   },
   {
    "duration": 4,
    "start_time": "2022-04-01T08:24:09.551Z"
   },
   {
    "duration": 4,
    "start_time": "2022-04-01T08:24:09.557Z"
   },
   {
    "duration": 6,
    "start_time": "2022-04-01T08:24:09.562Z"
   },
   {
    "duration": 6,
    "start_time": "2022-04-01T08:24:09.569Z"
   },
   {
    "duration": 45,
    "start_time": "2022-04-01T08:24:09.577Z"
   },
   {
    "duration": 4,
    "start_time": "2022-04-01T08:24:09.624Z"
   },
   {
    "duration": 46,
    "start_time": "2022-04-01T08:24:09.629Z"
   },
   {
    "duration": 32,
    "start_time": "2022-04-01T08:24:09.677Z"
   },
   {
    "duration": 6,
    "start_time": "2022-04-01T08:24:09.711Z"
   },
   {
    "duration": 12,
    "start_time": "2022-04-01T08:24:09.719Z"
   },
   {
    "duration": 5,
    "start_time": "2022-04-01T08:24:09.733Z"
   },
   {
    "duration": 14,
    "start_time": "2022-04-01T08:24:09.740Z"
   },
   {
    "duration": 5,
    "start_time": "2022-04-01T08:24:09.756Z"
   },
   {
    "duration": 3,
    "start_time": "2022-04-01T08:24:09.763Z"
   },
   {
    "duration": 263,
    "start_time": "2022-04-01T08:24:09.768Z"
   },
   {
    "duration": 5,
    "start_time": "2022-04-01T08:24:10.033Z"
   },
   {
    "duration": 13,
    "start_time": "2022-04-01T08:24:10.040Z"
   },
   {
    "duration": 15,
    "start_time": "2022-04-01T08:24:10.055Z"
   },
   {
    "duration": 11,
    "start_time": "2022-04-01T08:24:10.072Z"
   },
   {
    "duration": 16,
    "start_time": "2022-04-01T08:24:10.085Z"
   },
   {
    "duration": 19,
    "start_time": "2022-04-01T08:24:10.103Z"
   },
   {
    "duration": 219,
    "start_time": "2022-04-01T08:24:10.123Z"
   },
   {
    "duration": 7,
    "start_time": "2022-04-01T08:24:10.344Z"
   },
   {
    "duration": 17,
    "start_time": "2022-04-01T08:24:10.352Z"
   },
   {
    "duration": 263,
    "start_time": "2022-04-01T08:24:10.371Z"
   },
   {
    "duration": 7,
    "start_time": "2022-04-01T08:24:10.635Z"
   },
   {
    "duration": 18,
    "start_time": "2022-04-01T08:24:10.644Z"
   },
   {
    "duration": 260,
    "start_time": "2022-04-01T08:24:10.664Z"
   },
   {
    "duration": 7,
    "start_time": "2022-04-01T08:24:10.926Z"
   },
   {
    "duration": 19,
    "start_time": "2022-04-01T08:24:10.934Z"
   },
   {
    "duration": 254,
    "start_time": "2022-04-01T08:24:10.955Z"
   },
   {
    "duration": 8,
    "start_time": "2022-04-01T08:24:11.210Z"
   },
   {
    "duration": 9,
    "start_time": "2022-04-01T08:24:11.219Z"
   },
   {
    "duration": 7,
    "start_time": "2022-04-01T08:24:11.230Z"
   },
   {
    "duration": 457,
    "start_time": "2022-04-01T08:24:11.239Z"
   },
   {
    "duration": 18,
    "start_time": "2022-04-01T08:24:11.697Z"
   },
   {
    "duration": 9,
    "start_time": "2022-04-01T08:24:11.716Z"
   },
   {
    "duration": 13,
    "start_time": "2022-04-01T08:24:11.726Z"
   },
   {
    "duration": 9,
    "start_time": "2022-04-01T08:24:11.741Z"
   },
   {
    "duration": 9,
    "start_time": "2022-04-01T08:24:11.752Z"
   },
   {
    "duration": 15,
    "start_time": "2022-04-01T08:24:11.763Z"
   },
   {
    "duration": 5,
    "start_time": "2022-04-01T08:24:11.809Z"
   },
   {
    "duration": 209,
    "start_time": "2022-04-01T08:24:11.816Z"
   },
   {
    "duration": 5,
    "start_time": "2022-04-01T08:24:12.027Z"
   },
   {
    "duration": 5,
    "start_time": "2022-04-01T08:24:12.034Z"
   },
   {
    "duration": 213,
    "start_time": "2022-04-01T08:24:12.041Z"
   },
   {
    "duration": 15,
    "start_time": "2022-04-01T08:24:12.256Z"
   },
   {
    "duration": 158,
    "start_time": "2022-04-01T08:24:12.277Z"
   },
   {
    "duration": 13,
    "start_time": "2022-04-01T08:24:12.437Z"
   },
   {
    "duration": 161,
    "start_time": "2022-04-01T08:24:12.452Z"
   },
   {
    "duration": 13,
    "start_time": "2022-04-01T08:24:12.615Z"
   },
   {
    "duration": 188,
    "start_time": "2022-04-01T08:24:12.630Z"
   },
   {
    "duration": 12,
    "start_time": "2022-04-01T08:24:12.820Z"
   },
   {
    "duration": 174,
    "start_time": "2022-04-01T08:24:12.834Z"
   },
   {
    "duration": 8,
    "start_time": "2022-04-01T08:24:13.010Z"
   },
   {
    "duration": 11,
    "start_time": "2022-04-01T08:24:13.020Z"
   },
   {
    "duration": 13,
    "start_time": "2022-04-01T08:24:13.033Z"
   },
   {
    "duration": 206,
    "start_time": "2022-04-01T08:24:13.048Z"
   },
   {
    "duration": 11,
    "start_time": "2022-04-01T08:24:13.256Z"
   },
   {
    "duration": 13,
    "start_time": "2022-04-01T08:24:13.268Z"
   },
   {
    "duration": 6,
    "start_time": "2022-04-01T08:24:13.283Z"
   },
   {
    "duration": 10,
    "start_time": "2022-04-01T08:24:13.310Z"
   },
   {
    "duration": 150,
    "start_time": "2022-04-01T08:24:13.322Z"
   },
   {
    "duration": 142,
    "start_time": "2022-04-01T08:25:33.210Z"
   },
   {
    "duration": 8,
    "start_time": "2022-04-01T08:25:44.597Z"
   },
   {
    "duration": 9,
    "start_time": "2022-04-01T08:26:10.205Z"
   },
   {
    "duration": 124,
    "start_time": "2022-04-01T08:26:16.738Z"
   },
   {
    "duration": 7,
    "start_time": "2022-04-01T08:36:20.447Z"
   },
   {
    "duration": 10,
    "start_time": "2022-04-01T08:36:28.008Z"
   },
   {
    "duration": 7,
    "start_time": "2022-04-01T08:41:30.731Z"
   },
   {
    "duration": 7,
    "start_time": "2022-04-01T08:42:48.768Z"
   },
   {
    "duration": 12,
    "start_time": "2022-04-01T08:44:00.789Z"
   },
   {
    "duration": 211,
    "start_time": "2022-04-01T08:45:18.888Z"
   },
   {
    "duration": 14,
    "start_time": "2022-04-01T08:46:10.750Z"
   },
   {
    "duration": 232,
    "start_time": "2022-04-01T08:47:09.976Z"
   },
   {
    "duration": 212,
    "start_time": "2022-04-01T08:47:32.259Z"
   },
   {
    "duration": 228,
    "start_time": "2022-04-01T08:47:36.082Z"
   },
   {
    "duration": 212,
    "start_time": "2022-04-01T08:47:57.459Z"
   },
   {
    "duration": 211,
    "start_time": "2022-04-01T08:48:23.061Z"
   },
   {
    "duration": 225,
    "start_time": "2022-04-01T08:48:35.423Z"
   },
   {
    "duration": 412,
    "start_time": "2022-04-01T08:48:50.580Z"
   },
   {
    "duration": 226,
    "start_time": "2022-04-01T08:48:55.029Z"
   },
   {
    "duration": 222,
    "start_time": "2022-04-01T08:48:59.847Z"
   },
   {
    "duration": 66,
    "start_time": "2022-04-01T08:51:12.062Z"
   },
   {
    "duration": 10,
    "start_time": "2022-04-01T08:51:16.908Z"
   },
   {
    "duration": 211,
    "start_time": "2022-04-01T08:52:33.979Z"
   },
   {
    "duration": 10,
    "start_time": "2022-04-01T08:53:07.702Z"
   },
   {
    "duration": 238,
    "start_time": "2022-04-01T08:55:49.133Z"
   },
   {
    "duration": 217,
    "start_time": "2022-04-01T08:55:55.640Z"
   },
   {
    "duration": 9,
    "start_time": "2022-04-01T08:56:33.172Z"
   },
   {
    "duration": 9,
    "start_time": "2022-04-01T08:59:41.201Z"
   },
   {
    "duration": 9,
    "start_time": "2022-04-01T09:01:47.368Z"
   },
   {
    "duration": 8,
    "start_time": "2022-04-01T09:08:24.973Z"
   },
   {
    "duration": 12,
    "start_time": "2022-04-01T09:12:10.830Z"
   },
   {
    "duration": 206,
    "start_time": "2022-04-01T09:12:56.409Z"
   },
   {
    "duration": 9,
    "start_time": "2022-04-01T09:13:11.932Z"
   },
   {
    "duration": 20,
    "start_time": "2022-04-01T09:16:13.902Z"
   },
   {
    "duration": 201,
    "start_time": "2022-04-01T09:17:00.990Z"
   },
   {
    "duration": 9,
    "start_time": "2022-04-01T09:18:13.042Z"
   },
   {
    "duration": 6,
    "start_time": "2022-04-01T09:30:33.609Z"
   },
   {
    "duration": 149,
    "start_time": "2022-04-01T09:31:59.332Z"
   },
   {
    "duration": 5,
    "start_time": "2022-04-01T09:37:39.417Z"
   },
   {
    "duration": 213,
    "start_time": "2022-04-01T09:38:23.758Z"
   },
   {
    "duration": 67,
    "start_time": "2022-04-01T09:43:21.852Z"
   },
   {
    "duration": 10,
    "start_time": "2022-04-01T09:43:21.944Z"
   },
   {
    "duration": 115,
    "start_time": "2022-04-01T09:43:22.229Z"
   },
   {
    "duration": 40,
    "start_time": "2022-04-01T09:43:22.381Z"
   },
   {
    "duration": 72,
    "start_time": "2022-04-01T10:36:21.986Z"
   },
   {
    "duration": 8,
    "start_time": "2022-04-01T10:36:22.060Z"
   },
   {
    "duration": 145,
    "start_time": "2022-04-01T10:36:22.070Z"
   },
   {
    "duration": 15,
    "start_time": "2022-04-01T10:36:22.217Z"
   },
   {
    "duration": 5,
    "start_time": "2022-04-01T10:36:22.234Z"
   },
   {
    "duration": 11,
    "start_time": "2022-04-01T10:36:22.241Z"
   },
   {
    "duration": 7,
    "start_time": "2022-04-01T10:36:22.253Z"
   },
   {
    "duration": 48,
    "start_time": "2022-04-01T10:36:22.262Z"
   },
   {
    "duration": 5,
    "start_time": "2022-04-01T10:36:22.312Z"
   },
   {
    "duration": 90,
    "start_time": "2022-04-01T10:36:22.320Z"
   },
   {
    "duration": 3,
    "start_time": "2022-04-01T10:36:22.412Z"
   },
   {
    "duration": 10,
    "start_time": "2022-04-01T10:36:22.417Z"
   },
   {
    "duration": 4,
    "start_time": "2022-04-01T10:36:22.429Z"
   },
   {
    "duration": 16,
    "start_time": "2022-04-01T10:36:22.435Z"
   },
   {
    "duration": 13,
    "start_time": "2022-04-01T10:36:22.452Z"
   },
   {
    "duration": 8,
    "start_time": "2022-04-01T10:36:22.466Z"
   },
   {
    "duration": 36,
    "start_time": "2022-04-01T10:36:22.476Z"
   },
   {
    "duration": 8,
    "start_time": "2022-04-01T10:36:22.514Z"
   },
   {
    "duration": 6,
    "start_time": "2022-04-01T10:36:22.523Z"
   },
   {
    "duration": 8,
    "start_time": "2022-04-01T10:36:22.530Z"
   },
   {
    "duration": 14,
    "start_time": "2022-04-01T10:36:22.540Z"
   },
   {
    "duration": 5,
    "start_time": "2022-04-01T10:36:22.556Z"
   },
   {
    "duration": 48,
    "start_time": "2022-04-01T10:36:22.563Z"
   },
   {
    "duration": 8,
    "start_time": "2022-04-01T10:36:22.613Z"
   },
   {
    "duration": 8,
    "start_time": "2022-04-01T10:36:22.623Z"
   },
   {
    "duration": 4,
    "start_time": "2022-04-01T10:36:22.632Z"
   },
   {
    "duration": 10,
    "start_time": "2022-04-01T10:36:22.637Z"
   },
   {
    "duration": 4,
    "start_time": "2022-04-01T10:36:22.652Z"
   },
   {
    "duration": 6,
    "start_time": "2022-04-01T10:36:22.657Z"
   },
   {
    "duration": 14,
    "start_time": "2022-04-01T10:36:22.710Z"
   },
   {
    "duration": 41,
    "start_time": "2022-04-01T10:36:22.726Z"
   },
   {
    "duration": 3,
    "start_time": "2022-04-01T10:36:22.769Z"
   },
   {
    "duration": 35,
    "start_time": "2022-04-01T10:36:22.773Z"
   },
   {
    "duration": 5,
    "start_time": "2022-04-01T10:36:22.810Z"
   },
   {
    "duration": 6,
    "start_time": "2022-04-01T10:36:22.816Z"
   },
   {
    "duration": 7,
    "start_time": "2022-04-01T10:36:22.823Z"
   },
   {
    "duration": 7,
    "start_time": "2022-04-01T10:36:22.831Z"
   },
   {
    "duration": 5,
    "start_time": "2022-04-01T10:36:22.840Z"
   },
   {
    "duration": 18,
    "start_time": "2022-04-01T10:36:22.847Z"
   },
   {
    "duration": 4,
    "start_time": "2022-04-01T10:36:22.866Z"
   },
   {
    "duration": 75,
    "start_time": "2022-04-01T10:36:22.871Z"
   },
   {
    "duration": 9,
    "start_time": "2022-04-01T10:36:22.948Z"
   },
   {
    "duration": 5,
    "start_time": "2022-04-01T10:36:22.958Z"
   },
   {
    "duration": 13,
    "start_time": "2022-04-01T10:36:22.964Z"
   },
   {
    "duration": 31,
    "start_time": "2022-04-01T10:36:22.979Z"
   },
   {
    "duration": 13,
    "start_time": "2022-04-01T10:36:23.011Z"
   },
   {
    "duration": 6,
    "start_time": "2022-04-01T10:36:23.025Z"
   },
   {
    "duration": 5,
    "start_time": "2022-04-01T10:36:23.033Z"
   },
   {
    "duration": 251,
    "start_time": "2022-04-01T10:36:23.039Z"
   },
   {
    "duration": 6,
    "start_time": "2022-04-01T10:36:23.292Z"
   },
   {
    "duration": 12,
    "start_time": "2022-04-01T10:36:23.299Z"
   },
   {
    "duration": 8,
    "start_time": "2022-04-01T10:36:23.313Z"
   },
   {
    "duration": 8,
    "start_time": "2022-04-01T10:36:23.322Z"
   },
   {
    "duration": 8,
    "start_time": "2022-04-01T10:36:23.332Z"
   },
   {
    "duration": 21,
    "start_time": "2022-04-01T10:36:23.342Z"
   },
   {
    "duration": 7,
    "start_time": "2022-04-01T10:36:23.364Z"
   },
   {
    "duration": 226,
    "start_time": "2022-04-01T10:36:23.409Z"
   },
   {
    "duration": 9,
    "start_time": "2022-04-01T10:36:23.637Z"
   },
   {
    "duration": 7,
    "start_time": "2022-04-01T10:36:23.647Z"
   },
   {
    "duration": 16,
    "start_time": "2022-04-01T10:36:23.656Z"
   },
   {
    "duration": 252,
    "start_time": "2022-04-01T10:36:23.674Z"
   },
   {
    "duration": 6,
    "start_time": "2022-04-01T10:36:23.927Z"
   },
   {
    "duration": 18,
    "start_time": "2022-04-01T10:36:23.935Z"
   },
   {
    "duration": 255,
    "start_time": "2022-04-01T10:36:23.955Z"
   },
   {
    "duration": 10,
    "start_time": "2022-04-01T10:36:24.212Z"
   },
   {
    "duration": 8,
    "start_time": "2022-04-01T10:36:24.224Z"
   },
   {
    "duration": 18,
    "start_time": "2022-04-01T10:36:24.234Z"
   },
   {
    "duration": 256,
    "start_time": "2022-04-01T10:36:24.254Z"
   },
   {
    "duration": 10,
    "start_time": "2022-04-01T10:36:24.512Z"
   },
   {
    "duration": 8,
    "start_time": "2022-04-01T10:36:24.525Z"
   },
   {
    "duration": 9,
    "start_time": "2022-04-01T10:36:24.535Z"
   },
   {
    "duration": 9,
    "start_time": "2022-04-01T10:36:24.545Z"
   },
   {
    "duration": 277,
    "start_time": "2022-04-01T10:36:24.556Z"
   },
   {
    "duration": 11,
    "start_time": "2022-04-01T10:36:24.835Z"
   },
   {
    "duration": 10,
    "start_time": "2022-04-01T10:36:24.848Z"
   },
   {
    "duration": 13,
    "start_time": "2022-04-01T10:36:24.859Z"
   },
   {
    "duration": 11,
    "start_time": "2022-04-01T10:36:24.908Z"
   },
   {
    "duration": 9,
    "start_time": "2022-04-01T10:36:24.921Z"
   },
   {
    "duration": 15,
    "start_time": "2022-04-01T10:36:24.932Z"
   },
   {
    "duration": 6,
    "start_time": "2022-04-01T10:36:24.949Z"
   },
   {
    "duration": 224,
    "start_time": "2022-04-01T10:36:24.956Z"
   },
   {
    "duration": 5,
    "start_time": "2022-04-01T10:36:25.187Z"
   },
   {
    "duration": 5,
    "start_time": "2022-04-01T10:36:25.209Z"
   },
   {
    "duration": 201,
    "start_time": "2022-04-01T10:36:25.216Z"
   },
   {
    "duration": 14,
    "start_time": "2022-04-01T10:36:25.418Z"
   },
   {
    "duration": 153,
    "start_time": "2022-04-01T10:36:25.433Z"
   },
   {
    "duration": 22,
    "start_time": "2022-04-01T10:36:25.587Z"
   },
   {
    "duration": 143,
    "start_time": "2022-04-01T10:36:25.611Z"
   },
   {
    "duration": 13,
    "start_time": "2022-04-01T10:36:25.755Z"
   },
   {
    "duration": 182,
    "start_time": "2022-04-01T10:36:25.770Z"
   },
   {
    "duration": 11,
    "start_time": "2022-04-01T10:36:25.954Z"
   },
   {
    "duration": 165,
    "start_time": "2022-04-01T10:36:25.967Z"
   },
   {
    "duration": 9,
    "start_time": "2022-04-01T10:36:26.133Z"
   },
   {
    "duration": 26,
    "start_time": "2022-04-01T10:36:26.143Z"
   },
   {
    "duration": 13,
    "start_time": "2022-04-01T10:36:26.171Z"
   },
   {
    "duration": 195,
    "start_time": "2022-04-01T10:36:26.186Z"
   },
   {
    "duration": 9,
    "start_time": "2022-04-01T10:36:26.383Z"
   },
   {
    "duration": 20,
    "start_time": "2022-04-01T10:36:26.394Z"
   },
   {
    "duration": 4,
    "start_time": "2022-04-01T10:36:26.416Z"
   },
   {
    "duration": 9,
    "start_time": "2022-04-01T10:36:26.421Z"
   },
   {
    "duration": 145,
    "start_time": "2022-04-01T10:36:26.431Z"
   },
   {
    "duration": 10,
    "start_time": "2022-04-01T10:36:26.578Z"
   },
   {
    "duration": 27,
    "start_time": "2022-04-01T10:36:26.590Z"
   },
   {
    "duration": 227,
    "start_time": "2022-04-01T10:36:26.619Z"
   },
   {
    "duration": 9,
    "start_time": "2022-04-01T10:36:26.848Z"
   },
   {
    "duration": 13,
    "start_time": "2022-04-01T10:36:26.859Z"
   },
   {
    "duration": 263,
    "start_time": "2022-04-01T10:36:26.874Z"
   },
   {
    "duration": 15,
    "start_time": "2022-04-01T10:36:27.138Z"
   },
   {
    "duration": 242,
    "start_time": "2022-04-01T10:36:27.154Z"
   },
   {
    "duration": 11,
    "start_time": "2022-04-01T10:36:27.398Z"
   },
   {
    "duration": 14,
    "start_time": "2022-04-01T10:36:27.411Z"
   },
   {
    "duration": 224,
    "start_time": "2022-04-01T10:36:27.426Z"
   },
   {
    "duration": 8,
    "start_time": "2022-04-01T10:36:27.651Z"
   },
   {
    "duration": 9,
    "start_time": "2022-04-01T10:36:27.660Z"
   },
   {
    "duration": 165,
    "start_time": "2022-04-01T10:36:27.671Z"
   },
   {
    "duration": 5,
    "start_time": "2022-04-01T10:36:27.838Z"
   },
   {
    "duration": 6,
    "start_time": "2022-04-01T10:37:18.646Z"
   },
   {
    "duration": 14,
    "start_time": "2022-04-01T10:39:32.157Z"
   },
   {
    "duration": 145,
    "start_time": "2022-04-01T10:40:08.858Z"
   },
   {
    "duration": 12,
    "start_time": "2022-04-01T10:41:09.504Z"
   },
   {
    "duration": 147,
    "start_time": "2022-04-01T10:41:44.498Z"
   },
   {
    "duration": 14,
    "start_time": "2022-04-01T10:42:33.744Z"
   },
   {
    "duration": 174,
    "start_time": "2022-04-01T10:43:10.025Z"
   },
   {
    "duration": 13,
    "start_time": "2022-04-01T10:45:19.521Z"
   },
   {
    "duration": 146,
    "start_time": "2022-04-01T10:46:36.204Z"
   },
   {
    "duration": 6,
    "start_time": "2022-04-01T10:48:09.852Z"
   },
   {
    "duration": 143,
    "start_time": "2022-04-01T10:48:59.603Z"
   },
   {
    "duration": 12,
    "start_time": "2022-04-01T10:50:53.943Z"
   },
   {
    "duration": 154,
    "start_time": "2022-04-01T10:51:14.113Z"
   },
   {
    "duration": 147,
    "start_time": "2022-04-01T10:51:26.883Z"
   },
   {
    "duration": 179,
    "start_time": "2022-04-01T10:52:03.103Z"
   },
   {
    "duration": 178,
    "start_time": "2022-04-01T10:52:43.694Z"
   },
   {
    "duration": 10,
    "start_time": "2022-04-01T12:04:47.549Z"
   },
   {
    "duration": 15,
    "start_time": "2022-04-01T12:04:48.671Z"
   },
   {
    "duration": 65,
    "start_time": "2022-04-01T12:05:04.486Z"
   },
   {
    "duration": 8,
    "start_time": "2022-04-01T12:05:04.553Z"
   },
   {
    "duration": 123,
    "start_time": "2022-04-01T12:05:04.562Z"
   },
   {
    "duration": 31,
    "start_time": "2022-04-01T12:05:04.687Z"
   },
   {
    "duration": 5,
    "start_time": "2022-04-01T12:05:04.720Z"
   },
   {
    "duration": 11,
    "start_time": "2022-04-01T12:05:04.726Z"
   },
   {
    "duration": 4,
    "start_time": "2022-04-01T12:05:04.739Z"
   },
   {
    "duration": 9,
    "start_time": "2022-04-01T12:05:04.745Z"
   },
   {
    "duration": 6,
    "start_time": "2022-04-01T12:05:04.755Z"
   },
   {
    "duration": 97,
    "start_time": "2022-04-01T12:05:04.764Z"
   },
   {
    "duration": 4,
    "start_time": "2022-04-01T12:05:04.863Z"
   },
   {
    "duration": 9,
    "start_time": "2022-04-01T12:05:04.868Z"
   },
   {
    "duration": 4,
    "start_time": "2022-04-01T12:05:04.879Z"
   },
   {
    "duration": 5,
    "start_time": "2022-04-01T12:05:04.909Z"
   },
   {
    "duration": 6,
    "start_time": "2022-04-01T12:05:04.916Z"
   },
   {
    "duration": 5,
    "start_time": "2022-04-01T12:05:04.924Z"
   },
   {
    "duration": 5,
    "start_time": "2022-04-01T12:05:04.930Z"
   },
   {
    "duration": 10,
    "start_time": "2022-04-01T12:05:04.936Z"
   },
   {
    "duration": 4,
    "start_time": "2022-04-01T12:05:04.948Z"
   },
   {
    "duration": 5,
    "start_time": "2022-04-01T12:05:04.953Z"
   },
   {
    "duration": 54,
    "start_time": "2022-04-01T12:05:04.960Z"
   },
   {
    "duration": 8,
    "start_time": "2022-04-01T12:05:05.016Z"
   },
   {
    "duration": 11,
    "start_time": "2022-04-01T12:05:05.026Z"
   },
   {
    "duration": 8,
    "start_time": "2022-04-01T12:05:05.038Z"
   },
   {
    "duration": 13,
    "start_time": "2022-04-01T12:05:05.048Z"
   },
   {
    "duration": 5,
    "start_time": "2022-04-01T12:05:05.063Z"
   },
   {
    "duration": 5,
    "start_time": "2022-04-01T12:05:05.069Z"
   },
   {
    "duration": 4,
    "start_time": "2022-04-01T12:05:05.078Z"
   },
   {
    "duration": 27,
    "start_time": "2022-04-01T12:05:05.084Z"
   },
   {
    "duration": 13,
    "start_time": "2022-04-01T12:05:05.113Z"
   },
   {
    "duration": 39,
    "start_time": "2022-04-01T12:05:05.127Z"
   },
   {
    "duration": 3,
    "start_time": "2022-04-01T12:05:05.168Z"
   },
   {
    "duration": 37,
    "start_time": "2022-04-01T12:05:05.172Z"
   },
   {
    "duration": 4,
    "start_time": "2022-04-01T12:05:05.211Z"
   },
   {
    "duration": 9,
    "start_time": "2022-04-01T12:05:05.217Z"
   },
   {
    "duration": 5,
    "start_time": "2022-04-01T12:05:05.228Z"
   },
   {
    "duration": 4,
    "start_time": "2022-04-01T12:05:05.234Z"
   },
   {
    "duration": 5,
    "start_time": "2022-04-01T12:05:05.240Z"
   },
   {
    "duration": 15,
    "start_time": "2022-04-01T12:05:05.246Z"
   },
   {
    "duration": 4,
    "start_time": "2022-04-01T12:05:05.262Z"
   },
   {
    "duration": 81,
    "start_time": "2022-04-01T12:05:05.267Z"
   },
   {
    "duration": 9,
    "start_time": "2022-04-01T12:05:05.350Z"
   },
   {
    "duration": 4,
    "start_time": "2022-04-01T12:05:05.361Z"
   },
   {
    "duration": 11,
    "start_time": "2022-04-01T12:05:05.366Z"
   },
   {
    "duration": 31,
    "start_time": "2022-04-01T12:05:05.378Z"
   },
   {
    "duration": 8,
    "start_time": "2022-04-01T12:05:05.411Z"
   },
   {
    "duration": 4,
    "start_time": "2022-04-01T12:05:05.421Z"
   },
   {
    "duration": 6,
    "start_time": "2022-04-01T12:05:05.426Z"
   },
   {
    "duration": 240,
    "start_time": "2022-04-01T12:05:05.434Z"
   },
   {
    "duration": 5,
    "start_time": "2022-04-01T12:05:05.676Z"
   },
   {
    "duration": 7,
    "start_time": "2022-04-01T12:05:05.682Z"
   },
   {
    "duration": 19,
    "start_time": "2022-04-01T12:05:05.691Z"
   },
   {
    "duration": 12,
    "start_time": "2022-04-01T12:05:05.712Z"
   },
   {
    "duration": 6,
    "start_time": "2022-04-01T12:05:05.726Z"
   },
   {
    "duration": 18,
    "start_time": "2022-04-01T12:05:05.736Z"
   },
   {
    "duration": 6,
    "start_time": "2022-04-01T12:05:05.756Z"
   },
   {
    "duration": 232,
    "start_time": "2022-04-01T12:05:05.764Z"
   },
   {
    "duration": 9,
    "start_time": "2022-04-01T12:05:06.008Z"
   },
   {
    "duration": 7,
    "start_time": "2022-04-01T12:05:06.019Z"
   },
   {
    "duration": 19,
    "start_time": "2022-04-01T12:05:06.028Z"
   },
   {
    "duration": 241,
    "start_time": "2022-04-01T12:05:06.049Z"
   },
   {
    "duration": 6,
    "start_time": "2022-04-01T12:05:06.292Z"
   },
   {
    "duration": 19,
    "start_time": "2022-04-01T12:05:06.309Z"
   },
   {
    "duration": 237,
    "start_time": "2022-04-01T12:05:06.329Z"
   },
   {
    "duration": 8,
    "start_time": "2022-04-01T12:05:06.568Z"
   },
   {
    "duration": 7,
    "start_time": "2022-04-01T12:05:06.577Z"
   },
   {
    "duration": 40,
    "start_time": "2022-04-01T12:05:06.585Z"
   },
   {
    "duration": 226,
    "start_time": "2022-04-01T12:05:06.626Z"
   },
   {
    "duration": 8,
    "start_time": "2022-04-01T12:05:06.854Z"
   },
   {
    "duration": 7,
    "start_time": "2022-04-01T12:05:06.864Z"
   },
   {
    "duration": 7,
    "start_time": "2022-04-01T12:05:06.873Z"
   },
   {
    "duration": 33,
    "start_time": "2022-04-01T12:05:06.882Z"
   },
   {
    "duration": 279,
    "start_time": "2022-04-01T12:05:06.917Z"
   },
   {
    "duration": 18,
    "start_time": "2022-04-01T12:05:07.197Z"
   },
   {
    "duration": 10,
    "start_time": "2022-04-01T12:05:07.220Z"
   },
   {
    "duration": 22,
    "start_time": "2022-04-01T12:05:07.231Z"
   },
   {
    "duration": 10,
    "start_time": "2022-04-01T12:05:07.254Z"
   },
   {
    "duration": 24,
    "start_time": "2022-04-01T12:05:07.266Z"
   },
   {
    "duration": 21,
    "start_time": "2022-04-01T12:05:07.292Z"
   },
   {
    "duration": 13,
    "start_time": "2022-04-01T12:05:07.314Z"
   },
   {
    "duration": 206,
    "start_time": "2022-04-01T12:05:07.329Z"
   },
   {
    "duration": 5,
    "start_time": "2022-04-01T12:05:07.537Z"
   },
   {
    "duration": 207,
    "start_time": "2022-04-01T12:05:07.543Z"
   },
   {
    "duration": 5,
    "start_time": "2022-04-01T12:05:07.752Z"
   },
   {
    "duration": 213,
    "start_time": "2022-04-01T12:05:07.759Z"
   },
   {
    "duration": 15,
    "start_time": "2022-04-01T12:05:07.974Z"
   },
   {
    "duration": 157,
    "start_time": "2022-04-01T12:05:07.991Z"
   },
   {
    "duration": 13,
    "start_time": "2022-04-01T12:05:08.149Z"
   },
   {
    "duration": 162,
    "start_time": "2022-04-01T12:05:08.163Z"
   },
   {
    "duration": 13,
    "start_time": "2022-04-01T12:05:08.327Z"
   },
   {
    "duration": 188,
    "start_time": "2022-04-01T12:05:08.342Z"
   },
   {
    "duration": 11,
    "start_time": "2022-04-01T12:05:08.532Z"
   },
   {
    "duration": 170,
    "start_time": "2022-04-01T12:05:08.545Z"
   },
   {
    "duration": 8,
    "start_time": "2022-04-01T12:05:08.717Z"
   },
   {
    "duration": 12,
    "start_time": "2022-04-01T12:05:08.727Z"
   },
   {
    "duration": 14,
    "start_time": "2022-04-01T12:05:08.741Z"
   },
   {
    "duration": 205,
    "start_time": "2022-04-01T12:05:08.757Z"
   },
   {
    "duration": 10,
    "start_time": "2022-04-01T12:05:08.964Z"
   },
   {
    "duration": 9,
    "start_time": "2022-04-01T12:05:08.976Z"
   },
   {
    "duration": 24,
    "start_time": "2022-04-01T12:05:08.987Z"
   },
   {
    "duration": 8,
    "start_time": "2022-04-01T12:05:09.013Z"
   },
   {
    "duration": 144,
    "start_time": "2022-04-01T12:05:09.023Z"
   },
   {
    "duration": 9,
    "start_time": "2022-04-01T12:05:09.169Z"
   },
   {
    "duration": 34,
    "start_time": "2022-04-01T12:05:09.180Z"
   },
   {
    "duration": 226,
    "start_time": "2022-04-01T12:05:09.215Z"
   },
   {
    "duration": 8,
    "start_time": "2022-04-01T12:05:09.443Z"
   },
   {
    "duration": 13,
    "start_time": "2022-04-01T12:05:09.452Z"
   },
   {
    "duration": 242,
    "start_time": "2022-04-01T12:05:09.467Z"
   },
   {
    "duration": 13,
    "start_time": "2022-04-01T12:05:09.710Z"
   },
   {
    "duration": 234,
    "start_time": "2022-04-01T12:05:09.724Z"
   },
   {
    "duration": 8,
    "start_time": "2022-04-01T12:05:09.960Z"
   },
   {
    "duration": 17,
    "start_time": "2022-04-01T12:05:09.970Z"
   },
   {
    "duration": 2008,
    "start_time": "2022-04-01T12:05:10.008Z"
   },
   {
    "duration": 10,
    "start_time": "2022-04-01T12:05:12.018Z"
   },
   {
    "duration": 5,
    "start_time": "2022-04-01T12:05:12.030Z"
   },
   {
    "duration": 182,
    "start_time": "2022-04-01T12:05:12.037Z"
   },
   {
    "duration": 6,
    "start_time": "2022-04-01T12:05:12.221Z"
   },
   {
    "duration": 214,
    "start_time": "2022-04-01T12:05:12.229Z"
   },
   {
    "duration": 8,
    "start_time": "2022-04-01T12:05:12.445Z"
   },
   {
    "duration": 173,
    "start_time": "2022-04-01T12:05:12.454Z"
   },
   {
    "duration": 14,
    "start_time": "2022-04-01T12:05:12.629Z"
   },
   {
    "duration": 166,
    "start_time": "2022-04-01T12:05:12.644Z"
   },
   {
    "duration": 13,
    "start_time": "2022-04-01T12:05:12.816Z"
   },
   {
    "duration": 221,
    "start_time": "2022-04-01T12:05:12.831Z"
   },
   {
    "duration": 14,
    "start_time": "2022-04-01T12:05:13.054Z"
   },
   {
    "duration": 183,
    "start_time": "2022-04-01T12:05:13.070Z"
   },
   {
    "duration": 14,
    "start_time": "2022-04-01T12:05:13.255Z"
   },
   {
    "duration": 187,
    "start_time": "2022-04-01T12:05:13.271Z"
   },
   {
    "duration": 4,
    "start_time": "2022-04-01T12:06:33.435Z"
   },
   {
    "duration": 446,
    "start_time": "2022-05-04T10:48:18.021Z"
   },
   {
    "duration": 12,
    "start_time": "2022-05-04T10:48:18.469Z"
   },
   {
    "duration": 106,
    "start_time": "2022-05-04T10:48:18.483Z"
   },
   {
    "duration": 14,
    "start_time": "2022-05-04T10:48:18.600Z"
   },
   {
    "duration": 5,
    "start_time": "2022-05-04T10:48:18.615Z"
   },
   {
    "duration": 10,
    "start_time": "2022-05-04T10:48:18.622Z"
   },
   {
    "duration": 3,
    "start_time": "2022-05-04T10:48:18.634Z"
   },
   {
    "duration": 6,
    "start_time": "2022-05-04T10:48:18.638Z"
   },
   {
    "duration": 5,
    "start_time": "2022-05-04T10:48:18.645Z"
   },
   {
    "duration": 93,
    "start_time": "2022-05-04T10:48:18.652Z"
   },
   {
    "duration": 4,
    "start_time": "2022-05-04T10:48:18.747Z"
   },
   {
    "duration": 6,
    "start_time": "2022-05-04T10:48:18.753Z"
   },
   {
    "duration": 7,
    "start_time": "2022-05-04T10:48:18.760Z"
   },
   {
    "duration": 6,
    "start_time": "2022-05-04T10:48:18.768Z"
   },
   {
    "duration": 25,
    "start_time": "2022-05-04T10:48:18.776Z"
   },
   {
    "duration": 5,
    "start_time": "2022-05-04T10:48:18.803Z"
   },
   {
    "duration": 4,
    "start_time": "2022-05-04T10:48:18.810Z"
   },
   {
    "duration": 9,
    "start_time": "2022-05-04T10:48:18.816Z"
   },
   {
    "duration": 4,
    "start_time": "2022-05-04T10:48:18.827Z"
   },
   {
    "duration": 5,
    "start_time": "2022-05-04T10:48:18.832Z"
   },
   {
    "duration": 11,
    "start_time": "2022-05-04T10:48:18.838Z"
   },
   {
    "duration": 9,
    "start_time": "2022-05-04T10:48:18.850Z"
   },
   {
    "duration": 41,
    "start_time": "2022-05-04T10:48:18.860Z"
   },
   {
    "duration": 9,
    "start_time": "2022-05-04T10:48:18.903Z"
   },
   {
    "duration": 6,
    "start_time": "2022-05-04T10:48:18.913Z"
   },
   {
    "duration": 5,
    "start_time": "2022-05-04T10:48:18.920Z"
   },
   {
    "duration": 7,
    "start_time": "2022-05-04T10:48:18.926Z"
   },
   {
    "duration": 3,
    "start_time": "2022-05-04T10:48:18.938Z"
   },
   {
    "duration": 5,
    "start_time": "2022-05-04T10:48:18.943Z"
   },
   {
    "duration": 13,
    "start_time": "2022-05-04T10:48:18.950Z"
   },
   {
    "duration": 70,
    "start_time": "2022-05-04T10:48:18.965Z"
   },
   {
    "duration": 2,
    "start_time": "2022-05-04T10:48:19.037Z"
   },
   {
    "duration": 8,
    "start_time": "2022-05-04T10:48:19.041Z"
   },
   {
    "duration": 5,
    "start_time": "2022-05-04T10:48:19.050Z"
   },
   {
    "duration": 5,
    "start_time": "2022-05-04T10:48:19.056Z"
   },
   {
    "duration": 5,
    "start_time": "2022-05-04T10:48:19.062Z"
   },
   {
    "duration": 36,
    "start_time": "2022-05-04T10:48:19.068Z"
   },
   {
    "duration": 4,
    "start_time": "2022-05-04T10:48:19.106Z"
   },
   {
    "duration": 14,
    "start_time": "2022-05-04T10:48:19.112Z"
   },
   {
    "duration": 3,
    "start_time": "2022-05-04T10:48:19.127Z"
   },
   {
    "duration": 44,
    "start_time": "2022-05-04T10:48:19.131Z"
   },
   {
    "duration": 24,
    "start_time": "2022-05-04T10:48:19.176Z"
   },
   {
    "duration": 3,
    "start_time": "2022-05-04T10:48:19.202Z"
   },
   {
    "duration": 10,
    "start_time": "2022-05-04T10:48:19.207Z"
   },
   {
    "duration": 4,
    "start_time": "2022-05-04T10:48:19.218Z"
   },
   {
    "duration": 9,
    "start_time": "2022-05-04T10:48:19.224Z"
   },
   {
    "duration": 4,
    "start_time": "2022-05-04T10:48:19.234Z"
   },
   {
    "duration": 8,
    "start_time": "2022-05-04T10:48:19.239Z"
   },
   {
    "duration": 220,
    "start_time": "2022-05-04T10:48:19.249Z"
   },
   {
    "duration": 5,
    "start_time": "2022-05-04T10:48:19.470Z"
   },
   {
    "duration": 6,
    "start_time": "2022-05-04T10:48:19.477Z"
   },
   {
    "duration": 16,
    "start_time": "2022-05-04T10:48:19.485Z"
   },
   {
    "duration": 12,
    "start_time": "2022-05-04T10:48:19.502Z"
   },
   {
    "duration": 7,
    "start_time": "2022-05-04T10:48:19.515Z"
   },
   {
    "duration": 17,
    "start_time": "2022-05-04T10:48:19.524Z"
   },
   {
    "duration": 6,
    "start_time": "2022-05-04T10:48:19.542Z"
   },
   {
    "duration": 439,
    "start_time": "2022-05-04T10:48:19.549Z"
   },
   {
    "duration": 12,
    "start_time": "2022-05-04T10:48:19.989Z"
   },
   {
    "duration": 6,
    "start_time": "2022-05-04T10:48:20.003Z"
   },
   {
    "duration": 16,
    "start_time": "2022-05-04T10:48:20.011Z"
   },
   {
    "duration": 187,
    "start_time": "2022-05-04T10:48:20.028Z"
   },
   {
    "duration": 6,
    "start_time": "2022-05-04T10:48:20.216Z"
   },
   {
    "duration": 18,
    "start_time": "2022-05-04T10:48:20.223Z"
   },
   {
    "duration": 253,
    "start_time": "2022-05-04T10:48:20.243Z"
   },
   {
    "duration": 7,
    "start_time": "2022-05-04T10:48:20.500Z"
   },
   {
    "duration": 11,
    "start_time": "2022-05-04T10:48:20.508Z"
   },
   {
    "duration": 16,
    "start_time": "2022-05-04T10:48:20.521Z"
   },
   {
    "duration": 191,
    "start_time": "2022-05-04T10:48:20.538Z"
   },
   {
    "duration": 7,
    "start_time": "2022-05-04T10:48:20.730Z"
   },
   {
    "duration": 6,
    "start_time": "2022-05-04T10:48:20.739Z"
   },
   {
    "duration": 7,
    "start_time": "2022-05-04T10:48:20.746Z"
   },
   {
    "duration": 6,
    "start_time": "2022-05-04T10:48:20.755Z"
   },
   {
    "duration": 226,
    "start_time": "2022-05-04T10:48:20.763Z"
   },
   {
    "duration": 15,
    "start_time": "2022-05-04T10:48:20.990Z"
   },
   {
    "duration": 9,
    "start_time": "2022-05-04T10:48:21.007Z"
   },
   {
    "duration": 9,
    "start_time": "2022-05-04T10:48:21.018Z"
   },
   {
    "duration": 13,
    "start_time": "2022-05-04T10:48:21.029Z"
   },
   {
    "duration": 10,
    "start_time": "2022-05-04T10:48:21.044Z"
   },
   {
    "duration": 16,
    "start_time": "2022-05-04T10:48:21.055Z"
   },
   {
    "duration": 31,
    "start_time": "2022-05-04T10:48:21.072Z"
   },
   {
    "duration": 172,
    "start_time": "2022-05-04T10:48:21.104Z"
   },
   {
    "duration": 4,
    "start_time": "2022-05-04T10:48:21.282Z"
   },
   {
    "duration": 161,
    "start_time": "2022-05-04T10:48:21.288Z"
   },
   {
    "duration": 5,
    "start_time": "2022-05-04T10:48:21.450Z"
   },
   {
    "duration": 164,
    "start_time": "2022-05-04T10:48:21.456Z"
   },
   {
    "duration": 12,
    "start_time": "2022-05-04T10:48:21.622Z"
   },
   {
    "duration": 126,
    "start_time": "2022-05-04T10:48:21.636Z"
   },
   {
    "duration": 11,
    "start_time": "2022-05-04T10:48:21.764Z"
   },
   {
    "duration": 126,
    "start_time": "2022-05-04T10:48:21.777Z"
   },
   {
    "duration": 15,
    "start_time": "2022-05-04T10:48:21.904Z"
   },
   {
    "duration": 321,
    "start_time": "2022-05-04T10:48:21.921Z"
   },
   {
    "duration": 16,
    "start_time": "2022-05-04T10:48:22.244Z"
   },
   {
    "duration": 210,
    "start_time": "2022-05-04T10:48:22.262Z"
   },
   {
    "duration": 9,
    "start_time": "2022-05-04T10:48:22.474Z"
   },
   {
    "duration": 25,
    "start_time": "2022-05-04T10:48:22.485Z"
   },
   {
    "duration": 106,
    "start_time": "2022-05-04T10:48:22.512Z"
   },
   {
    "duration": 0,
    "start_time": "2022-05-04T10:48:22.620Z"
   },
   {
    "duration": 0,
    "start_time": "2022-05-04T10:48:22.622Z"
   },
   {
    "duration": 0,
    "start_time": "2022-05-04T10:48:22.623Z"
   },
   {
    "duration": 1,
    "start_time": "2022-05-04T10:48:22.624Z"
   },
   {
    "duration": 0,
    "start_time": "2022-05-04T10:48:22.626Z"
   },
   {
    "duration": 0,
    "start_time": "2022-05-04T10:48:22.629Z"
   },
   {
    "duration": 0,
    "start_time": "2022-05-04T10:48:22.631Z"
   },
   {
    "duration": 0,
    "start_time": "2022-05-04T10:48:22.633Z"
   },
   {
    "duration": 0,
    "start_time": "2022-05-04T10:48:22.633Z"
   },
   {
    "duration": 0,
    "start_time": "2022-05-04T10:48:22.634Z"
   },
   {
    "duration": 0,
    "start_time": "2022-05-04T10:48:22.635Z"
   },
   {
    "duration": 0,
    "start_time": "2022-05-04T10:48:22.636Z"
   },
   {
    "duration": 0,
    "start_time": "2022-05-04T10:48:22.638Z"
   },
   {
    "duration": 1,
    "start_time": "2022-05-04T10:48:22.638Z"
   },
   {
    "duration": 0,
    "start_time": "2022-05-04T10:48:22.640Z"
   },
   {
    "duration": 0,
    "start_time": "2022-05-04T10:48:22.641Z"
   },
   {
    "duration": 0,
    "start_time": "2022-05-04T10:48:22.642Z"
   },
   {
    "duration": 0,
    "start_time": "2022-05-04T10:48:22.643Z"
   },
   {
    "duration": 0,
    "start_time": "2022-05-04T10:48:22.644Z"
   },
   {
    "duration": 0,
    "start_time": "2022-05-04T10:48:22.645Z"
   },
   {
    "duration": 0,
    "start_time": "2022-05-04T10:48:22.647Z"
   },
   {
    "duration": 0,
    "start_time": "2022-05-04T10:48:22.648Z"
   },
   {
    "duration": 0,
    "start_time": "2022-05-04T10:48:22.648Z"
   },
   {
    "duration": 0,
    "start_time": "2022-05-04T10:48:22.649Z"
   },
   {
    "duration": 0,
    "start_time": "2022-05-04T10:48:22.650Z"
   },
   {
    "duration": 0,
    "start_time": "2022-05-04T10:48:22.700Z"
   },
   {
    "duration": 0,
    "start_time": "2022-05-04T10:48:22.701Z"
   },
   {
    "duration": 0,
    "start_time": "2022-05-04T10:48:22.702Z"
   },
   {
    "duration": 0,
    "start_time": "2022-05-04T10:48:22.703Z"
   },
   {
    "duration": 0,
    "start_time": "2022-05-04T10:48:22.704Z"
   },
   {
    "duration": 0,
    "start_time": "2022-05-04T10:48:22.705Z"
   },
   {
    "duration": 0,
    "start_time": "2022-05-04T10:48:22.706Z"
   },
   {
    "duration": 53,
    "start_time": "2022-11-10T20:49:49.844Z"
   },
   {
    "duration": 1027,
    "start_time": "2022-11-10T20:49:53.443Z"
   },
   {
    "duration": 81,
    "start_time": "2022-11-10T20:49:54.472Z"
   },
   {
    "duration": 33,
    "start_time": "2022-11-10T20:51:24.418Z"
   },
   {
    "duration": 44,
    "start_time": "2022-11-10T20:51:34.953Z"
   },
   {
    "duration": 11,
    "start_time": "2022-11-10T20:51:41.021Z"
   },
   {
    "duration": 812,
    "start_time": "2022-11-11T15:31:16.054Z"
   },
   {
    "duration": 75,
    "start_time": "2022-11-11T15:31:16.868Z"
   },
   {
    "duration": 23,
    "start_time": "2022-11-11T15:31:16.945Z"
   },
   {
    "duration": 14,
    "start_time": "2022-11-11T15:31:16.970Z"
   },
   {
    "duration": 10,
    "start_time": "2022-11-11T15:31:16.986Z"
   },
   {
    "duration": 18,
    "start_time": "2022-11-11T15:31:16.998Z"
   },
   {
    "duration": 16,
    "start_time": "2022-11-11T15:31:17.017Z"
   },
   {
    "duration": 31,
    "start_time": "2022-11-11T15:31:17.034Z"
   },
   {
    "duration": 8,
    "start_time": "2022-11-11T15:31:17.067Z"
   },
   {
    "duration": 74,
    "start_time": "2022-11-11T15:31:17.077Z"
   },
   {
    "duration": 7,
    "start_time": "2022-11-11T15:31:17.153Z"
   },
   {
    "duration": 20,
    "start_time": "2022-11-11T15:31:17.162Z"
   },
   {
    "duration": 7,
    "start_time": "2022-11-11T15:31:17.184Z"
   },
   {
    "duration": 7,
    "start_time": "2022-11-11T15:31:17.192Z"
   },
   {
    "duration": 8,
    "start_time": "2022-11-11T15:31:17.201Z"
   },
   {
    "duration": 11,
    "start_time": "2022-11-11T15:31:17.210Z"
   },
   {
    "duration": 42,
    "start_time": "2022-11-11T15:31:17.222Z"
   },
   {
    "duration": 4,
    "start_time": "2022-11-11T15:31:17.266Z"
   },
   {
    "duration": 4,
    "start_time": "2022-11-11T15:31:17.272Z"
   },
   {
    "duration": 15,
    "start_time": "2022-11-11T15:31:17.278Z"
   },
   {
    "duration": 12,
    "start_time": "2022-11-11T15:31:17.294Z"
   },
   {
    "duration": 7,
    "start_time": "2022-11-11T15:31:17.308Z"
   },
   {
    "duration": 9,
    "start_time": "2022-11-11T15:31:17.317Z"
   },
   {
    "duration": 39,
    "start_time": "2022-11-11T15:31:17.328Z"
   },
   {
    "duration": 13,
    "start_time": "2022-11-11T15:31:17.368Z"
   },
   {
    "duration": 8,
    "start_time": "2022-11-11T15:31:17.383Z"
   },
   {
    "duration": 10,
    "start_time": "2022-11-11T15:31:17.392Z"
   },
   {
    "duration": 20,
    "start_time": "2022-11-11T15:31:17.405Z"
   },
   {
    "duration": 54,
    "start_time": "2022-11-11T15:31:17.426Z"
   },
   {
    "duration": 49,
    "start_time": "2022-11-11T15:31:17.482Z"
   },
   {
    "duration": 48,
    "start_time": "2022-11-11T15:31:17.533Z"
   },
   {
    "duration": 17,
    "start_time": "2022-11-11T15:31:17.583Z"
   },
   {
    "duration": 4,
    "start_time": "2022-11-11T15:31:17.602Z"
   },
   {
    "duration": 37,
    "start_time": "2022-11-11T15:31:17.608Z"
   },
   {
    "duration": 16,
    "start_time": "2022-11-11T15:31:17.646Z"
   },
   {
    "duration": 20,
    "start_time": "2022-11-11T15:31:17.664Z"
   },
   {
    "duration": 17,
    "start_time": "2022-11-11T15:31:17.686Z"
   },
   {
    "duration": 13,
    "start_time": "2022-11-11T15:31:17.704Z"
   },
   {
    "duration": 54,
    "start_time": "2022-11-11T15:31:17.718Z"
   },
   {
    "duration": 31,
    "start_time": "2022-11-11T15:31:17.773Z"
   },
   {
    "duration": 5,
    "start_time": "2022-11-11T15:31:17.806Z"
   },
   {
    "duration": 312,
    "start_time": "2022-11-11T15:31:17.812Z"
   },
   {
    "duration": 11,
    "start_time": "2022-11-11T15:31:18.125Z"
   },
   {
    "duration": 52,
    "start_time": "2022-11-11T15:31:18.138Z"
   },
   {
    "duration": 38,
    "start_time": "2022-11-11T15:31:18.191Z"
   },
   {
    "duration": 85,
    "start_time": "2022-11-11T15:31:18.231Z"
   },
   {
    "duration": 13,
    "start_time": "2022-11-11T15:31:18.317Z"
   },
   {
    "duration": 607,
    "start_time": "2022-11-11T15:31:20.062Z"
   },
   {
    "duration": 242,
    "start_time": "2022-11-11T15:31:33.626Z"
   },
   {
    "duration": 338,
    "start_time": "2022-11-11T15:32:26.522Z"
   },
   {
    "duration": 4,
    "start_time": "2022-11-11T15:33:39.642Z"
   },
   {
    "duration": 81,
    "start_time": "2022-11-11T15:33:40.187Z"
   },
   {
    "duration": 829,
    "start_time": "2022-11-11T15:33:53.642Z"
   },
   {
    "duration": 3,
    "start_time": "2022-11-11T15:34:04.884Z"
   },
   {
    "duration": 111,
    "start_time": "2022-11-11T15:34:04.889Z"
   },
   {
    "duration": 99,
    "start_time": "2022-11-11T15:34:05.002Z"
   },
   {
    "duration": 45,
    "start_time": "2022-11-11T15:34:05.103Z"
   },
   {
    "duration": 32,
    "start_time": "2022-11-11T15:34:05.157Z"
   },
   {
    "duration": 15,
    "start_time": "2022-11-11T15:34:05.192Z"
   },
   {
    "duration": 24,
    "start_time": "2022-11-11T15:34:05.209Z"
   },
   {
    "duration": 13,
    "start_time": "2022-11-11T15:34:05.246Z"
   },
   {
    "duration": 23,
    "start_time": "2022-11-11T15:34:05.261Z"
   },
   {
    "duration": 22,
    "start_time": "2022-11-11T15:34:05.286Z"
   },
   {
    "duration": 83,
    "start_time": "2022-11-11T15:34:05.312Z"
   },
   {
    "duration": 3,
    "start_time": "2022-11-11T15:34:05.397Z"
   },
   {
    "duration": 24,
    "start_time": "2022-11-11T15:34:05.402Z"
   },
   {
    "duration": 29,
    "start_time": "2022-11-11T15:34:05.427Z"
   },
   {
    "duration": 27,
    "start_time": "2022-11-11T15:34:05.458Z"
   },
   {
    "duration": 29,
    "start_time": "2022-11-11T15:34:05.487Z"
   },
   {
    "duration": 45,
    "start_time": "2022-11-11T15:34:05.517Z"
   },
   {
    "duration": 34,
    "start_time": "2022-11-11T15:34:05.564Z"
   },
   {
    "duration": 13,
    "start_time": "2022-11-11T15:34:05.600Z"
   },
   {
    "duration": 9,
    "start_time": "2022-11-11T15:34:05.614Z"
   },
   {
    "duration": 39,
    "start_time": "2022-11-11T15:34:05.624Z"
   },
   {
    "duration": 8,
    "start_time": "2022-11-11T15:34:05.664Z"
   },
   {
    "duration": 14,
    "start_time": "2022-11-11T15:34:05.673Z"
   },
   {
    "duration": 6,
    "start_time": "2022-11-11T15:34:05.688Z"
   },
   {
    "duration": 12,
    "start_time": "2022-11-11T15:34:05.696Z"
   },
   {
    "duration": 11,
    "start_time": "2022-11-11T15:34:05.709Z"
   },
   {
    "duration": 14,
    "start_time": "2022-11-11T15:34:05.722Z"
   },
   {
    "duration": 17,
    "start_time": "2022-11-11T15:34:05.737Z"
   },
   {
    "duration": 10,
    "start_time": "2022-11-11T15:34:05.757Z"
   },
   {
    "duration": 18,
    "start_time": "2022-11-11T15:34:05.768Z"
   },
   {
    "duration": 3,
    "start_time": "2022-11-11T15:34:05.787Z"
   },
   {
    "duration": 15,
    "start_time": "2022-11-11T15:34:05.792Z"
   },
   {
    "duration": 25,
    "start_time": "2022-11-11T15:34:05.808Z"
   },
   {
    "duration": 24,
    "start_time": "2022-11-11T15:34:05.836Z"
   },
   {
    "duration": 34,
    "start_time": "2022-11-11T15:34:05.862Z"
   },
   {
    "duration": 9,
    "start_time": "2022-11-11T15:34:05.898Z"
   },
   {
    "duration": 6,
    "start_time": "2022-11-11T15:34:05.908Z"
   },
   {
    "duration": 27,
    "start_time": "2022-11-11T15:34:05.916Z"
   },
   {
    "duration": 9,
    "start_time": "2022-11-11T15:34:05.950Z"
   },
   {
    "duration": 14,
    "start_time": "2022-11-11T15:34:05.960Z"
   },
   {
    "duration": 6,
    "start_time": "2022-11-11T15:34:05.976Z"
   },
   {
    "duration": 11,
    "start_time": "2022-11-11T15:34:05.983Z"
   },
   {
    "duration": 252,
    "start_time": "2022-11-11T15:34:05.995Z"
   },
   {
    "duration": 6,
    "start_time": "2022-11-11T15:34:06.249Z"
   },
   {
    "duration": 12,
    "start_time": "2022-11-11T15:34:06.256Z"
   },
   {
    "duration": 9,
    "start_time": "2022-11-11T15:34:06.269Z"
   },
   {
    "duration": 21,
    "start_time": "2022-11-11T15:34:06.280Z"
   },
   {
    "duration": 7,
    "start_time": "2022-11-11T15:34:06.302Z"
   },
   {
    "duration": 201,
    "start_time": "2022-11-11T15:34:08.698Z"
   },
   {
    "duration": 220,
    "start_time": "2022-11-11T15:34:21.583Z"
   },
   {
    "duration": 200,
    "start_time": "2022-11-11T15:35:47.368Z"
   },
   {
    "duration": 230,
    "start_time": "2022-11-11T15:37:30.120Z"
   },
   {
    "duration": 272,
    "start_time": "2022-11-11T15:39:24.812Z"
   },
   {
    "duration": 8,
    "start_time": "2022-11-11T15:42:33.613Z"
   },
   {
    "duration": 2,
    "start_time": "2022-11-11T15:45:46.442Z"
   },
   {
    "duration": 94,
    "start_time": "2022-11-11T15:45:46.446Z"
   },
   {
    "duration": 64,
    "start_time": "2022-11-11T15:45:46.542Z"
   },
   {
    "duration": 33,
    "start_time": "2022-11-11T15:45:46.607Z"
   },
   {
    "duration": 7,
    "start_time": "2022-11-11T15:45:46.642Z"
   },
   {
    "duration": 16,
    "start_time": "2022-11-11T15:45:46.650Z"
   },
   {
    "duration": 32,
    "start_time": "2022-11-11T15:45:46.668Z"
   },
   {
    "duration": 14,
    "start_time": "2022-11-11T15:45:46.702Z"
   },
   {
    "duration": 18,
    "start_time": "2022-11-11T15:45:46.719Z"
   },
   {
    "duration": 7,
    "start_time": "2022-11-11T15:45:46.738Z"
   },
   {
    "duration": 128,
    "start_time": "2022-11-11T15:45:46.747Z"
   },
   {
    "duration": 4,
    "start_time": "2022-11-11T15:45:46.877Z"
   },
   {
    "duration": 10,
    "start_time": "2022-11-11T15:45:46.882Z"
   },
   {
    "duration": 8,
    "start_time": "2022-11-11T15:45:46.894Z"
   },
   {
    "duration": 8,
    "start_time": "2022-11-11T15:45:46.904Z"
   },
   {
    "duration": 8,
    "start_time": "2022-11-11T15:45:46.929Z"
   },
   {
    "duration": 11,
    "start_time": "2022-11-11T15:45:46.938Z"
   },
   {
    "duration": 9,
    "start_time": "2022-11-11T15:45:46.950Z"
   },
   {
    "duration": 5,
    "start_time": "2022-11-11T15:45:46.961Z"
   },
   {
    "duration": 4,
    "start_time": "2022-11-11T15:45:46.968Z"
   },
   {
    "duration": 23,
    "start_time": "2022-11-11T15:45:46.973Z"
   },
   {
    "duration": 10,
    "start_time": "2022-11-11T15:45:46.997Z"
   },
   {
    "duration": 6,
    "start_time": "2022-11-11T15:45:47.009Z"
   },
   {
    "duration": 10,
    "start_time": "2022-11-11T15:45:47.019Z"
   },
   {
    "duration": 6,
    "start_time": "2022-11-11T15:45:47.031Z"
   },
   {
    "duration": 5,
    "start_time": "2022-11-11T15:45:47.038Z"
   },
   {
    "duration": 6,
    "start_time": "2022-11-11T15:45:47.045Z"
   },
   {
    "duration": 9,
    "start_time": "2022-11-11T15:45:47.053Z"
   },
   {
    "duration": 13,
    "start_time": "2022-11-11T15:45:47.063Z"
   },
   {
    "duration": 15,
    "start_time": "2022-11-11T15:45:47.077Z"
   },
   {
    "duration": 2,
    "start_time": "2022-11-11T15:45:47.094Z"
   },
   {
    "duration": 32,
    "start_time": "2022-11-11T15:45:47.098Z"
   },
   {
    "duration": 14,
    "start_time": "2022-11-11T15:45:47.131Z"
   },
   {
    "duration": 3,
    "start_time": "2022-11-11T15:45:47.146Z"
   },
   {
    "duration": 32,
    "start_time": "2022-11-11T15:45:47.151Z"
   },
   {
    "duration": 19,
    "start_time": "2022-11-11T15:45:47.184Z"
   },
   {
    "duration": 6,
    "start_time": "2022-11-11T15:45:47.205Z"
   },
   {
    "duration": 30,
    "start_time": "2022-11-11T15:45:47.212Z"
   },
   {
    "duration": 12,
    "start_time": "2022-11-11T15:45:47.243Z"
   },
   {
    "duration": 11,
    "start_time": "2022-11-11T15:45:47.257Z"
   },
   {
    "duration": 15,
    "start_time": "2022-11-11T15:45:47.270Z"
   },
   {
    "duration": 6,
    "start_time": "2022-11-11T15:45:47.286Z"
   },
   {
    "duration": 207,
    "start_time": "2022-11-11T15:45:47.293Z"
   },
   {
    "duration": 5,
    "start_time": "2022-11-11T15:45:47.501Z"
   },
   {
    "duration": 9,
    "start_time": "2022-11-11T15:45:47.507Z"
   },
   {
    "duration": 17,
    "start_time": "2022-11-11T15:45:47.517Z"
   },
   {
    "duration": 16,
    "start_time": "2022-11-11T15:45:47.536Z"
   },
   {
    "duration": 5,
    "start_time": "2022-11-11T15:45:47.554Z"
   },
   {
    "duration": 199,
    "start_time": "2022-11-11T15:45:47.560Z"
   },
   {
    "duration": 8,
    "start_time": "2022-11-11T15:45:47.760Z"
   },
   {
    "duration": 7,
    "start_time": "2022-11-11T15:45:47.769Z"
   },
   {
    "duration": 207,
    "start_time": "2022-11-11T15:45:47.777Z"
   },
   {
    "duration": 5,
    "start_time": "2022-11-11T15:45:47.986Z"
   },
   {
    "duration": 223,
    "start_time": "2022-11-11T15:45:47.992Z"
   },
   {
    "duration": 20,
    "start_time": "2022-11-11T15:45:48.217Z"
   },
   {
    "duration": 8,
    "start_time": "2022-11-11T15:45:48.239Z"
   },
   {
    "duration": 231,
    "start_time": "2022-11-11T15:45:48.249Z"
   },
   {
    "duration": 8,
    "start_time": "2022-11-11T15:45:48.482Z"
   },
   {
    "duration": 7,
    "start_time": "2022-11-11T15:45:48.491Z"
   },
   {
    "duration": 11,
    "start_time": "2022-11-11T15:45:48.500Z"
   },
   {
    "duration": 237,
    "start_time": "2022-11-11T15:45:48.512Z"
   },
   {
    "duration": 8,
    "start_time": "2022-11-11T15:45:48.750Z"
   },
   {
    "duration": 12,
    "start_time": "2022-11-11T15:45:48.759Z"
   },
   {
    "duration": 15,
    "start_time": "2022-11-11T15:45:48.772Z"
   },
   {
    "duration": 14,
    "start_time": "2022-11-11T15:45:48.788Z"
   },
   {
    "duration": 8,
    "start_time": "2022-11-11T15:45:48.803Z"
   },
   {
    "duration": 22,
    "start_time": "2022-11-11T15:45:48.813Z"
   },
   {
    "duration": 5,
    "start_time": "2022-11-11T15:45:48.836Z"
   },
   {
    "duration": 191,
    "start_time": "2022-11-11T15:45:48.845Z"
   },
   {
    "duration": 5,
    "start_time": "2022-11-11T15:45:49.038Z"
   },
   {
    "duration": 212,
    "start_time": "2022-11-11T15:45:51.012Z"
   },
   {
    "duration": 163,
    "start_time": "2022-11-11T15:47:17.658Z"
   },
   {
    "duration": 161,
    "start_time": "2022-11-11T15:48:17.855Z"
   },
   {
    "duration": 167,
    "start_time": "2022-11-11T15:49:52.265Z"
   },
   {
    "duration": 124,
    "start_time": "2022-11-11T15:51:56.766Z"
   },
   {
    "duration": 154,
    "start_time": "2022-11-11T15:53:33.225Z"
   },
   {
    "duration": 174,
    "start_time": "2022-11-11T15:54:20.897Z"
   },
   {
    "duration": 140,
    "start_time": "2022-11-11T15:55:29.107Z"
   },
   {
    "duration": 8,
    "start_time": "2022-11-11T15:55:58.599Z"
   },
   {
    "duration": 3,
    "start_time": "2022-11-11T15:57:19.104Z"
   },
   {
    "duration": 106,
    "start_time": "2022-11-11T15:57:19.110Z"
   },
   {
    "duration": 76,
    "start_time": "2022-11-11T15:57:19.219Z"
   },
   {
    "duration": 33,
    "start_time": "2022-11-11T15:57:19.297Z"
   },
   {
    "duration": 9,
    "start_time": "2022-11-11T15:57:19.332Z"
   },
   {
    "duration": 20,
    "start_time": "2022-11-11T15:57:19.343Z"
   },
   {
    "duration": 18,
    "start_time": "2022-11-11T15:57:19.364Z"
   },
   {
    "duration": 13,
    "start_time": "2022-11-11T15:57:19.384Z"
   },
   {
    "duration": 25,
    "start_time": "2022-11-11T15:57:19.399Z"
   },
   {
    "duration": 21,
    "start_time": "2022-11-11T15:57:19.426Z"
   },
   {
    "duration": 60,
    "start_time": "2022-11-11T15:57:19.450Z"
   },
   {
    "duration": 5,
    "start_time": "2022-11-11T15:57:19.512Z"
   },
   {
    "duration": 15,
    "start_time": "2022-11-11T15:57:19.519Z"
   },
   {
    "duration": 6,
    "start_time": "2022-11-11T15:57:19.536Z"
   },
   {
    "duration": 18,
    "start_time": "2022-11-11T15:57:19.544Z"
   },
   {
    "duration": 17,
    "start_time": "2022-11-11T15:57:19.564Z"
   },
   {
    "duration": 18,
    "start_time": "2022-11-11T15:57:19.582Z"
   },
   {
    "duration": 14,
    "start_time": "2022-11-11T15:57:19.601Z"
   },
   {
    "duration": 7,
    "start_time": "2022-11-11T15:57:19.616Z"
   },
   {
    "duration": 9,
    "start_time": "2022-11-11T15:57:19.624Z"
   },
   {
    "duration": 19,
    "start_time": "2022-11-11T15:57:19.634Z"
   },
   {
    "duration": 7,
    "start_time": "2022-11-11T15:57:19.654Z"
   },
   {
    "duration": 11,
    "start_time": "2022-11-11T15:57:19.663Z"
   },
   {
    "duration": 17,
    "start_time": "2022-11-11T15:57:19.675Z"
   },
   {
    "duration": 32,
    "start_time": "2022-11-11T15:57:19.693Z"
   },
   {
    "duration": 11,
    "start_time": "2022-11-11T15:57:19.726Z"
   },
   {
    "duration": 20,
    "start_time": "2022-11-11T15:57:19.739Z"
   },
   {
    "duration": 32,
    "start_time": "2022-11-11T15:57:19.760Z"
   },
   {
    "duration": 5,
    "start_time": "2022-11-11T15:57:19.796Z"
   },
   {
    "duration": 17,
    "start_time": "2022-11-11T15:57:19.802Z"
   },
   {
    "duration": 2,
    "start_time": "2022-11-11T15:57:19.821Z"
   },
   {
    "duration": 16,
    "start_time": "2022-11-11T15:57:19.825Z"
   },
   {
    "duration": 13,
    "start_time": "2022-11-11T15:57:19.843Z"
   },
   {
    "duration": 3,
    "start_time": "2022-11-11T15:57:19.857Z"
   },
   {
    "duration": 26,
    "start_time": "2022-11-11T15:57:19.862Z"
   },
   {
    "duration": 9,
    "start_time": "2022-11-11T15:57:19.890Z"
   },
   {
    "duration": 5,
    "start_time": "2022-11-11T15:57:19.901Z"
   },
   {
    "duration": 28,
    "start_time": "2022-11-11T15:57:19.907Z"
   },
   {
    "duration": 6,
    "start_time": "2022-11-11T15:57:19.937Z"
   },
   {
    "duration": 17,
    "start_time": "2022-11-11T15:57:19.944Z"
   },
   {
    "duration": 15,
    "start_time": "2022-11-11T15:57:19.962Z"
   },
   {
    "duration": 18,
    "start_time": "2022-11-11T15:57:19.978Z"
   },
   {
    "duration": 216,
    "start_time": "2022-11-11T15:57:19.998Z"
   },
   {
    "duration": 5,
    "start_time": "2022-11-11T15:57:20.216Z"
   },
   {
    "duration": 4,
    "start_time": "2022-11-11T15:57:20.229Z"
   },
   {
    "duration": 7,
    "start_time": "2022-11-11T15:57:20.235Z"
   },
   {
    "duration": 19,
    "start_time": "2022-11-11T15:57:20.243Z"
   },
   {
    "duration": 6,
    "start_time": "2022-11-11T15:57:20.263Z"
   },
   {
    "duration": 251,
    "start_time": "2022-11-11T15:57:20.271Z"
   },
   {
    "duration": 12,
    "start_time": "2022-11-11T15:57:20.524Z"
   },
   {
    "duration": 9,
    "start_time": "2022-11-11T15:57:20.538Z"
   },
   {
    "duration": 300,
    "start_time": "2022-11-11T15:57:20.549Z"
   },
   {
    "duration": 7,
    "start_time": "2022-11-11T15:57:20.851Z"
   },
   {
    "duration": 257,
    "start_time": "2022-11-11T15:57:20.859Z"
   },
   {
    "duration": 17,
    "start_time": "2022-11-11T15:57:21.118Z"
   },
   {
    "duration": 18,
    "start_time": "2022-11-11T15:57:21.137Z"
   },
   {
    "duration": 236,
    "start_time": "2022-11-11T15:57:21.156Z"
   },
   {
    "duration": 10,
    "start_time": "2022-11-11T15:57:21.394Z"
   },
   {
    "duration": 7,
    "start_time": "2022-11-11T15:57:21.406Z"
   },
   {
    "duration": 12,
    "start_time": "2022-11-11T15:57:21.430Z"
   },
   {
    "duration": 256,
    "start_time": "2022-11-11T15:57:21.444Z"
   },
   {
    "duration": 9,
    "start_time": "2022-11-11T15:57:21.702Z"
   },
   {
    "duration": 20,
    "start_time": "2022-11-11T15:57:21.713Z"
   },
   {
    "duration": 10,
    "start_time": "2022-11-11T15:57:21.735Z"
   },
   {
    "duration": 10,
    "start_time": "2022-11-11T15:57:21.747Z"
   },
   {
    "duration": 13,
    "start_time": "2022-11-11T15:57:21.759Z"
   },
   {
    "duration": 17,
    "start_time": "2022-11-11T15:57:21.774Z"
   },
   {
    "duration": 5,
    "start_time": "2022-11-11T15:57:21.793Z"
   },
   {
    "duration": 214,
    "start_time": "2022-11-11T15:57:21.799Z"
   },
   {
    "duration": 15,
    "start_time": "2022-11-11T15:57:22.015Z"
   },
   {
    "duration": 202,
    "start_time": "2022-11-11T15:57:22.032Z"
   },
   {
    "duration": 6,
    "start_time": "2022-11-11T15:57:22.236Z"
   },
   {
    "duration": 200,
    "start_time": "2022-11-11T15:57:22.244Z"
   },
   {
    "duration": 15,
    "start_time": "2022-11-11T15:57:22.445Z"
   },
   {
    "duration": 150,
    "start_time": "2022-11-11T15:57:22.461Z"
   },
   {
    "duration": 20,
    "start_time": "2022-11-11T15:57:22.613Z"
   },
   {
    "duration": 262,
    "start_time": "2022-11-11T15:57:22.635Z"
   },
   {
    "duration": 12,
    "start_time": "2022-11-11T15:57:22.899Z"
   },
   {
    "duration": 185,
    "start_time": "2022-11-11T15:57:22.912Z"
   },
   {
    "duration": 14,
    "start_time": "2022-11-11T15:57:23.098Z"
   },
   {
    "duration": 167,
    "start_time": "2022-11-11T15:57:23.113Z"
   },
   {
    "duration": 8,
    "start_time": "2022-11-11T15:57:23.286Z"
   },
   {
    "duration": 13,
    "start_time": "2022-11-11T15:57:23.295Z"
   },
   {
    "duration": 7,
    "start_time": "2022-11-11T15:57:24.756Z"
   },
   {
    "duration": 34,
    "start_time": "2022-11-11T15:57:53.451Z"
   },
   {
    "duration": 15,
    "start_time": "2022-11-11T15:58:14.700Z"
   },
   {
    "duration": 11,
    "start_time": "2022-11-11T15:58:25.247Z"
   },
   {
    "duration": 13,
    "start_time": "2022-11-11T15:58:26.348Z"
   },
   {
    "duration": 183,
    "start_time": "2022-11-11T15:58:40.918Z"
   },
   {
    "duration": 163,
    "start_time": "2022-11-11T16:00:14.132Z"
   },
   {
    "duration": 8,
    "start_time": "2022-11-11T16:00:43.585Z"
   },
   {
    "duration": 9,
    "start_time": "2022-11-11T16:00:50.800Z"
   },
   {
    "duration": 169,
    "start_time": "2022-11-11T16:01:05.764Z"
   },
   {
    "duration": 8,
    "start_time": "2022-11-11T16:16:57.914Z"
   },
   {
    "duration": 8,
    "start_time": "2022-11-11T16:16:58.558Z"
   },
   {
    "duration": 5,
    "start_time": "2022-11-11T16:16:59.013Z"
   },
   {
    "duration": 10,
    "start_time": "2022-11-11T16:16:59.391Z"
   },
   {
    "duration": 125,
    "start_time": "2022-11-11T16:16:59.746Z"
   },
   {
    "duration": 133,
    "start_time": "2022-11-11T16:18:33.467Z"
   },
   {
    "duration": 9,
    "start_time": "2022-11-11T16:19:27.127Z"
   },
   {
    "duration": 19,
    "start_time": "2022-11-11T16:19:28.011Z"
   },
   {
    "duration": 253,
    "start_time": "2022-11-11T16:19:41.582Z"
   },
   {
    "duration": 295,
    "start_time": "2022-11-11T16:20:31.509Z"
   },
   {
    "duration": 10,
    "start_time": "2022-11-11T16:21:47.960Z"
   },
   {
    "duration": 15,
    "start_time": "2022-11-11T16:21:49.062Z"
   },
   {
    "duration": 213,
    "start_time": "2022-11-11T16:21:49.614Z"
   },
   {
    "duration": 12,
    "start_time": "2022-11-11T16:23:04.472Z"
   },
   {
    "duration": 294,
    "start_time": "2022-11-11T16:23:04.884Z"
   },
   {
    "duration": 8,
    "start_time": "2022-11-11T16:23:07.439Z"
   },
   {
    "duration": 16,
    "start_time": "2022-11-11T16:24:15.963Z"
   },
   {
    "duration": 237,
    "start_time": "2022-11-11T16:24:16.246Z"
   },
   {
    "duration": 9,
    "start_time": "2022-11-11T16:24:19.167Z"
   },
   {
    "duration": 4,
    "start_time": "2022-11-11T16:25:06.286Z"
   },
   {
    "duration": 145,
    "start_time": "2022-11-11T16:25:07.670Z"
   },
   {
    "duration": 153,
    "start_time": "2022-11-11T16:26:06.338Z"
   },
   {
    "duration": 172,
    "start_time": "2022-11-11T16:27:45.674Z"
   },
   {
    "duration": 5,
    "start_time": "2022-11-11T16:27:48.437Z"
   },
   {
    "duration": 170,
    "start_time": "2022-11-11T16:27:49.369Z"
   },
   {
    "duration": 239,
    "start_time": "2022-11-11T16:28:08.394Z"
   },
   {
    "duration": 133,
    "start_time": "2022-11-11T16:30:11.798Z"
   },
   {
    "duration": 5,
    "start_time": "2022-11-11T16:30:13.422Z"
   },
   {
    "duration": 122,
    "start_time": "2022-11-11T16:30:26.809Z"
   },
   {
    "duration": 115,
    "start_time": "2022-11-11T16:31:47.725Z"
   },
   {
    "duration": 142,
    "start_time": "2022-11-11T16:31:59.335Z"
   },
   {
    "duration": 13,
    "start_time": "2022-11-11T16:32:01.998Z"
   },
   {
    "duration": 171,
    "start_time": "2022-11-11T16:33:04.709Z"
   },
   {
    "duration": 135,
    "start_time": "2022-11-11T16:33:14.380Z"
   },
   {
    "duration": 147,
    "start_time": "2022-11-11T16:33:19.392Z"
   },
   {
    "duration": 151,
    "start_time": "2022-11-11T16:33:48.540Z"
   },
   {
    "duration": 152,
    "start_time": "2022-11-11T16:34:27.997Z"
   },
   {
    "duration": 12,
    "start_time": "2022-11-11T16:36:04.679Z"
   },
   {
    "duration": 126,
    "start_time": "2022-11-11T16:36:05.590Z"
   },
   {
    "duration": 13,
    "start_time": "2022-11-11T16:37:13.713Z"
   },
   {
    "duration": 247,
    "start_time": "2022-11-11T16:37:13.989Z"
   },
   {
    "duration": 184,
    "start_time": "2022-11-11T16:37:24.419Z"
   },
   {
    "duration": 4,
    "start_time": "2022-11-11T16:37:49.101Z"
   },
   {
    "duration": 83,
    "start_time": "2022-11-11T16:37:49.107Z"
   },
   {
    "duration": 69,
    "start_time": "2022-11-11T16:37:49.192Z"
   },
   {
    "duration": 13,
    "start_time": "2022-11-11T16:37:49.262Z"
   },
   {
    "duration": 11,
    "start_time": "2022-11-11T16:37:49.278Z"
   },
   {
    "duration": 6,
    "start_time": "2022-11-11T16:37:50.144Z"
   },
   {
    "duration": 13,
    "start_time": "2022-11-11T16:37:50.152Z"
   },
   {
    "duration": 5,
    "start_time": "2022-11-11T16:37:50.166Z"
   },
   {
    "duration": 9,
    "start_time": "2022-11-11T16:37:50.172Z"
   },
   {
    "duration": 7,
    "start_time": "2022-11-11T16:37:50.183Z"
   },
   {
    "duration": 88,
    "start_time": "2022-11-11T16:37:50.191Z"
   },
   {
    "duration": 4,
    "start_time": "2022-11-11T16:37:50.280Z"
   },
   {
    "duration": 8,
    "start_time": "2022-11-11T16:37:50.286Z"
   },
   {
    "duration": 10,
    "start_time": "2022-11-11T16:37:50.296Z"
   },
   {
    "duration": 26,
    "start_time": "2022-11-11T16:37:50.308Z"
   },
   {
    "duration": 11,
    "start_time": "2022-11-11T16:37:50.336Z"
   },
   {
    "duration": 7,
    "start_time": "2022-11-11T16:37:50.349Z"
   },
   {
    "duration": 7,
    "start_time": "2022-11-11T16:37:50.358Z"
   },
   {
    "duration": 6,
    "start_time": "2022-11-11T16:37:50.369Z"
   },
   {
    "duration": 10,
    "start_time": "2022-11-11T16:37:50.376Z"
   },
   {
    "duration": 15,
    "start_time": "2022-11-11T16:37:50.388Z"
   },
   {
    "duration": 5,
    "start_time": "2022-11-11T16:37:50.405Z"
   },
   {
    "duration": 5,
    "start_time": "2022-11-11T16:37:50.430Z"
   },
   {
    "duration": 8,
    "start_time": "2022-11-11T16:37:50.436Z"
   },
   {
    "duration": 9,
    "start_time": "2022-11-11T16:37:50.445Z"
   },
   {
    "duration": 9,
    "start_time": "2022-11-11T16:37:50.455Z"
   },
   {
    "duration": 8,
    "start_time": "2022-11-11T16:37:50.466Z"
   },
   {
    "duration": 9,
    "start_time": "2022-11-11T16:37:50.476Z"
   },
   {
    "duration": 11,
    "start_time": "2022-11-11T16:37:50.487Z"
   },
   {
    "duration": 32,
    "start_time": "2022-11-11T16:37:50.499Z"
   },
   {
    "duration": 3,
    "start_time": "2022-11-11T16:37:50.533Z"
   },
   {
    "duration": 16,
    "start_time": "2022-11-11T16:37:50.538Z"
   },
   {
    "duration": 17,
    "start_time": "2022-11-11T16:37:50.555Z"
   },
   {
    "duration": 4,
    "start_time": "2022-11-11T16:37:50.574Z"
   },
   {
    "duration": 58,
    "start_time": "2022-11-11T16:37:50.580Z"
   },
   {
    "duration": 14,
    "start_time": "2022-11-11T16:37:50.640Z"
   },
   {
    "duration": 16,
    "start_time": "2022-11-11T16:37:50.655Z"
   },
   {
    "duration": 17,
    "start_time": "2022-11-11T16:37:50.673Z"
   },
   {
    "duration": 21,
    "start_time": "2022-11-11T16:37:50.692Z"
   },
   {
    "duration": 18,
    "start_time": "2022-11-11T16:37:50.715Z"
   },
   {
    "duration": 23,
    "start_time": "2022-11-11T16:37:50.734Z"
   },
   {
    "duration": 5,
    "start_time": "2022-11-11T16:37:50.758Z"
   },
   {
    "duration": 216,
    "start_time": "2022-11-11T16:37:50.765Z"
   },
   {
    "duration": 5,
    "start_time": "2022-11-11T16:37:50.983Z"
   },
   {
    "duration": 7,
    "start_time": "2022-11-11T16:37:50.990Z"
   },
   {
    "duration": 7,
    "start_time": "2022-11-11T16:37:51.002Z"
   },
   {
    "duration": 41,
    "start_time": "2022-11-11T16:37:51.011Z"
   },
   {
    "duration": 9,
    "start_time": "2022-11-11T16:37:51.054Z"
   },
   {
    "duration": 269,
    "start_time": "2022-11-11T16:37:51.065Z"
   },
   {
    "duration": 10,
    "start_time": "2022-11-11T16:37:51.335Z"
   },
   {
    "duration": 10,
    "start_time": "2022-11-11T16:37:51.346Z"
   },
   {
    "duration": 236,
    "start_time": "2022-11-11T16:37:51.358Z"
   },
   {
    "duration": 6,
    "start_time": "2022-11-11T16:37:51.596Z"
   },
   {
    "duration": 256,
    "start_time": "2022-11-11T16:37:51.603Z"
   },
   {
    "duration": 9,
    "start_time": "2022-11-11T16:37:51.861Z"
   },
   {
    "duration": 7,
    "start_time": "2022-11-11T16:37:51.872Z"
   },
   {
    "duration": 241,
    "start_time": "2022-11-11T16:37:51.881Z"
   },
   {
    "duration": 10,
    "start_time": "2022-11-11T16:37:52.130Z"
   },
   {
    "duration": 9,
    "start_time": "2022-11-11T16:37:52.142Z"
   },
   {
    "duration": 16,
    "start_time": "2022-11-11T16:37:52.152Z"
   },
   {
    "duration": 404,
    "start_time": "2022-11-11T16:37:52.170Z"
   },
   {
    "duration": 10,
    "start_time": "2022-11-11T16:37:52.576Z"
   },
   {
    "duration": 11,
    "start_time": "2022-11-11T16:37:52.588Z"
   },
   {
    "duration": 31,
    "start_time": "2022-11-11T16:37:52.601Z"
   },
   {
    "duration": 12,
    "start_time": "2022-11-11T16:37:52.635Z"
   },
   {
    "duration": 13,
    "start_time": "2022-11-11T16:37:52.649Z"
   },
   {
    "duration": 21,
    "start_time": "2022-11-11T16:37:52.664Z"
   },
   {
    "duration": 5,
    "start_time": "2022-11-11T16:37:52.687Z"
   },
   {
    "duration": 236,
    "start_time": "2022-11-11T16:37:52.694Z"
   },
   {
    "duration": 6,
    "start_time": "2022-11-11T16:37:52.931Z"
   },
   {
    "duration": 201,
    "start_time": "2022-11-11T16:37:52.939Z"
   },
   {
    "duration": 6,
    "start_time": "2022-11-11T16:37:53.143Z"
   },
   {
    "duration": 209,
    "start_time": "2022-11-11T16:37:53.151Z"
   },
   {
    "duration": 15,
    "start_time": "2022-11-11T16:37:53.361Z"
   },
   {
    "duration": 169,
    "start_time": "2022-11-11T16:37:53.378Z"
   },
   {
    "duration": 16,
    "start_time": "2022-11-11T16:37:53.549Z"
   },
   {
    "duration": 159,
    "start_time": "2022-11-11T16:37:53.567Z"
   },
   {
    "duration": 17,
    "start_time": "2022-11-11T16:37:53.731Z"
   },
   {
    "duration": 200,
    "start_time": "2022-11-11T16:37:53.750Z"
   },
   {
    "duration": 12,
    "start_time": "2022-11-11T16:37:53.952Z"
   },
   {
    "duration": 172,
    "start_time": "2022-11-11T16:37:53.966Z"
   },
   {
    "duration": 8,
    "start_time": "2022-11-11T16:37:54.140Z"
   },
   {
    "duration": 11,
    "start_time": "2022-11-11T16:37:54.149Z"
   },
   {
    "duration": 13,
    "start_time": "2022-11-11T16:37:54.162Z"
   },
   {
    "duration": 190,
    "start_time": "2022-11-11T16:37:54.177Z"
   },
   {
    "duration": 8,
    "start_time": "2022-11-11T16:37:54.369Z"
   },
   {
    "duration": 14,
    "start_time": "2022-11-11T16:37:54.379Z"
   },
   {
    "duration": 11,
    "start_time": "2022-11-11T16:37:54.394Z"
   },
   {
    "duration": 24,
    "start_time": "2022-11-11T16:37:54.406Z"
   },
   {
    "duration": 177,
    "start_time": "2022-11-11T16:37:54.431Z"
   },
   {
    "duration": 21,
    "start_time": "2022-11-11T16:37:54.610Z"
   },
   {
    "duration": 11,
    "start_time": "2022-11-11T16:37:54.633Z"
   },
   {
    "duration": 385,
    "start_time": "2022-11-11T16:37:54.646Z"
   },
   {
    "duration": 12,
    "start_time": "2022-11-11T16:37:55.033Z"
   },
   {
    "duration": 25,
    "start_time": "2022-11-11T16:37:55.047Z"
   },
   {
    "duration": 246,
    "start_time": "2022-11-11T16:37:55.074Z"
   },
   {
    "duration": 12,
    "start_time": "2022-11-11T16:37:55.321Z"
   },
   {
    "duration": 245,
    "start_time": "2022-11-11T16:37:55.335Z"
   },
   {
    "duration": 8,
    "start_time": "2022-11-11T16:37:55.581Z"
   },
   {
    "duration": 20,
    "start_time": "2022-11-11T16:37:55.590Z"
   },
   {
    "duration": 242,
    "start_time": "2022-11-11T16:37:55.612Z"
   },
   {
    "duration": 9,
    "start_time": "2022-11-11T16:37:55.856Z"
   },
   {
    "duration": 6,
    "start_time": "2022-11-11T16:37:55.866Z"
   },
   {
    "duration": 180,
    "start_time": "2022-11-11T16:37:55.873Z"
   },
   {
    "duration": 5,
    "start_time": "2022-11-11T16:37:56.055Z"
   },
   {
    "duration": 187,
    "start_time": "2022-11-11T16:37:56.061Z"
   },
   {
    "duration": 5,
    "start_time": "2022-11-11T16:37:56.250Z"
   },
   {
    "duration": 148,
    "start_time": "2022-11-11T16:37:56.257Z"
   },
   {
    "duration": 18,
    "start_time": "2022-11-11T16:37:56.406Z"
   },
   {
    "duration": 147,
    "start_time": "2022-11-11T16:37:56.426Z"
   },
   {
    "duration": 12,
    "start_time": "2022-11-11T16:37:56.575Z"
   },
   {
    "duration": 237,
    "start_time": "2022-11-11T16:37:56.589Z"
   },
   {
    "duration": 12,
    "start_time": "2022-11-11T16:37:56.828Z"
   },
   {
    "duration": 158,
    "start_time": "2022-11-11T16:37:56.842Z"
   },
   {
    "duration": 23,
    "start_time": "2022-11-11T16:37:57.001Z"
   },
   {
    "duration": 150,
    "start_time": "2022-11-11T16:37:57.026Z"
   }
  ],
  "kernelspec": {
   "display_name": "Python 3 (ipykernel)",
   "language": "python",
   "name": "python3"
  },
  "language_info": {
   "codemirror_mode": {
    "name": "ipython",
    "version": 3
   },
   "file_extension": ".py",
   "mimetype": "text/x-python",
   "name": "python",
   "nbconvert_exporter": "python",
   "pygments_lexer": "ipython3",
   "version": "3.9.5"
  },
  "toc": {
   "base_numbering": 1,
   "nav_menu": {},
   "number_sections": true,
   "sideBar": true,
   "skip_h1_title": true,
   "title_cell": "Содержание",
   "title_sidebar": "Contents",
   "toc_cell": true,
   "toc_position": {},
   "toc_section_display": true,
   "toc_window_display": true
  }
 },
 "nbformat": 4,
 "nbformat_minor": 4
}
