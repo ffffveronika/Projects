{
 "cells": [
  {
   "cell_type": "markdown",
   "metadata": {},
   "source": [
    "# Рынок заведений общественного питания Москвы"
   ]
  },
  {
   "cell_type": "markdown",
   "metadata": {},
   "source": [
    "**Описание исследования**\n",
    "\n",
    "Заказчик - небольшое кафе в Москве, где вместо официантов роботы. Необходимо подготовить исследование рынка заведений общественного питания Москвы для инвесторов.\n",
    "\n",
    "**Цель исследования** - изучить факторы, влияющие на долгосрочный спрос, дать рекомендации о виде заведения, количестве посадочных мест, а также районе расположения.\n",
    "\n",
    "**Описание данных**\n",
    "\n",
    "Входные данные - открытые данные о заведениях общественного питания в Москве:\n",
    "\n",
    "Таблица rest_data:\n",
    "1. id — идентификатор объекта;\n",
    "2. object_name — название объекта общественного питания;\n",
    "3. chain — сетевой ресторан;\n",
    "4. object_type — тип объекта общественного питания;\n",
    "5. address — адрес;\n",
    "6. number — количество посадочных мест.\n",
    "\n",
    "**Ход исследования**\n",
    " \n",
    "Перед тем, как непосредственно перейти к анализу данных необходимо провести обзор данных и их предобработку.\n",
    " \n",
    "Таким образом, исследование пройдёт в четыре этапа:\n",
    " 1. Обзор данных.\n",
    " 2. Исследовательский анализ данных.\n",
    " 3. Презентация."
   ]
  },
  {
   "cell_type": "markdown",
   "metadata": {},
   "source": [
    "## Обзор данных"
   ]
  },
  {
   "cell_type": "code",
   "execution_count": 281,
   "metadata": {},
   "outputs": [],
   "source": [
    "# Импортируем необходимые библиотеки\n",
    "import pandas as pd\n",
    "import numpy as np\n",
    "import matplotlib.pyplot as plt\n",
    "import seaborn as sns\n",
    "import plotly\n",
    "import plotly.graph_objs as go\n",
    "from io import BytesIO\n",
    "import requests\n",
    "import warnings\n",
    "warnings.filterwarnings('ignore')"
   ]
  },
  {
   "cell_type": "code",
   "execution_count": 282,
   "metadata": {},
   "outputs": [],
   "source": [
    "# Откроем датасет\n",
    "data = pd.read_csv('/datasets/rest_data.csv')"
   ]
  },
  {
   "cell_type": "code",
   "execution_count": 283,
   "metadata": {},
   "outputs": [
    {
     "name": "stdout",
     "output_type": "stream",
     "text": [
      "<class 'pandas.core.frame.DataFrame'>\n",
      "RangeIndex: 15366 entries, 0 to 15365\n",
      "Data columns (total 6 columns):\n",
      " #   Column       Non-Null Count  Dtype \n",
      "---  ------       --------------  ----- \n",
      " 0   id           15366 non-null  int64 \n",
      " 1   object_name  15366 non-null  object\n",
      " 2   chain        15366 non-null  object\n",
      " 3   object_type  15366 non-null  object\n",
      " 4   address      15366 non-null  object\n",
      " 5   number       15366 non-null  int64 \n",
      "dtypes: int64(2), object(4)\n",
      "memory usage: 720.4+ KB\n"
     ]
    }
   ],
   "source": [
    "# Получим общую информацию о данных\n",
    "data.info()"
   ]
  },
  {
   "cell_type": "code",
   "execution_count": 284,
   "metadata": {},
   "outputs": [
    {
     "data": {
      "text/plain": [
       "0"
      ]
     },
     "execution_count": 284,
     "metadata": {},
     "output_type": "execute_result"
    }
   ],
   "source": [
    "# Проверим на наличие дубликатов\n",
    "data.duplicated().sum()"
   ]
  },
  {
   "cell_type": "code",
   "execution_count": 285,
   "metadata": {},
   "outputs": [
    {
     "data": {
      "text/plain": [
       "array(['СМЕТАНА', 'Родник', 'Кафе «Академия»', ..., 'Бар Мята Lounge',\n",
       "       'Мята Lounge Октябрьская', 'Кальянная «Мята Lounge»'], dtype=object)"
      ]
     },
     "execution_count": 285,
     "metadata": {},
     "output_type": "execute_result"
    }
   ],
   "source": [
    "# Проверим данные на наличие неявных дубликатов в столбце object_name\n",
    "data['object_name'].unique()"
   ]
  },
  {
   "cell_type": "code",
   "execution_count": 286,
   "metadata": {},
   "outputs": [
    {
     "data": {
      "text/plain": [
       "82"
      ]
     },
     "execution_count": 286,
     "metadata": {},
     "output_type": "execute_result"
    }
   ],
   "source": [
    "# Проверим данные на наличие неполных дубликатов, уберем столбец id\n",
    "data[['object_name', 'chain', 'object_type', 'address', 'number']].duplicated().sum()"
   ]
  },
  {
   "cell_type": "code",
   "execution_count": 287,
   "metadata": {},
   "outputs": [
    {
     "data": {
      "text/html": [
       "<div>\n",
       "<style scoped>\n",
       "    .dataframe tbody tr th:only-of-type {\n",
       "        vertical-align: middle;\n",
       "    }\n",
       "\n",
       "    .dataframe tbody tr th {\n",
       "        vertical-align: top;\n",
       "    }\n",
       "\n",
       "    .dataframe thead th {\n",
       "        text-align: right;\n",
       "    }\n",
       "</style>\n",
       "<table border=\"1\" class=\"dataframe\">\n",
       "  <thead>\n",
       "    <tr style=\"text-align: right;\">\n",
       "      <th></th>\n",
       "      <th>object_name</th>\n",
       "      <th>chain</th>\n",
       "      <th>object_type</th>\n",
       "      <th>address</th>\n",
       "      <th>number</th>\n",
       "    </tr>\n",
       "  </thead>\n",
       "  <tbody>\n",
       "    <tr>\n",
       "      <th>2374</th>\n",
       "      <td>КОМБИНАТ ПИТАНИЯ МГТУ ИМ.Н.Э.БАУМАНА</td>\n",
       "      <td>нет</td>\n",
       "      <td>столовая</td>\n",
       "      <td>город Москва, 2-я Бауманская улица, дом 5, стр...</td>\n",
       "      <td>100</td>\n",
       "    </tr>\n",
       "    <tr>\n",
       "      <th>2381</th>\n",
       "      <td>КОМБИНАТ ПИТАНИЯ МГТУ ИМ.Н.Э.БАУМАНА</td>\n",
       "      <td>нет</td>\n",
       "      <td>столовая</td>\n",
       "      <td>город Москва, 2-я Бауманская улица, дом 5, стр...</td>\n",
       "      <td>100</td>\n",
       "    </tr>\n",
       "    <tr>\n",
       "      <th>2869</th>\n",
       "      <td>LALTRO BOSCO</td>\n",
       "      <td>нет</td>\n",
       "      <td>ресторан</td>\n",
       "      <td>город Москва, улица Петровка, дом 10</td>\n",
       "      <td>145</td>\n",
       "    </tr>\n",
       "    <tr>\n",
       "      <th>3480</th>\n",
       "      <td>Буфет Мади</td>\n",
       "      <td>нет</td>\n",
       "      <td>буфет</td>\n",
       "      <td>город Москва, Ленинградский проспект, дом 64</td>\n",
       "      <td>40</td>\n",
       "    </tr>\n",
       "    <tr>\n",
       "      <th>3481</th>\n",
       "      <td>Буфет Мади</td>\n",
       "      <td>нет</td>\n",
       "      <td>буфет</td>\n",
       "      <td>город Москва, Ленинградский проспект, дом 64</td>\n",
       "      <td>40</td>\n",
       "    </tr>\n",
       "    <tr>\n",
       "      <th>4430</th>\n",
       "      <td>СТОЛОВАЯ ГБОУ города Москвы № 384</td>\n",
       "      <td>нет</td>\n",
       "      <td>буфет</td>\n",
       "      <td>город Москва, Беловежская улица, дом 67</td>\n",
       "      <td>100</td>\n",
       "    </tr>\n",
       "    <tr>\n",
       "      <th>4431</th>\n",
       "      <td>СТОЛОВАЯ ГБОУ города Москвы № 384</td>\n",
       "      <td>нет</td>\n",
       "      <td>буфет</td>\n",
       "      <td>город Москва, Беловежская улица, дом 67</td>\n",
       "      <td>100</td>\n",
       "    </tr>\n",
       "    <tr>\n",
       "      <th>4536</th>\n",
       "      <td>Столовая «Комбинат питания КОСМОС»</td>\n",
       "      <td>нет</td>\n",
       "      <td>столовая</td>\n",
       "      <td>город Москва, Новозаводская улица, дом 12/11</td>\n",
       "      <td>15</td>\n",
       "    </tr>\n",
       "    <tr>\n",
       "      <th>4537</th>\n",
       "      <td>Столовая «Комбинат питания КОСМОС»</td>\n",
       "      <td>нет</td>\n",
       "      <td>столовая</td>\n",
       "      <td>город Москва, Новозаводская улица, дом 12/11</td>\n",
       "      <td>15</td>\n",
       "    </tr>\n",
       "    <tr>\n",
       "      <th>5058</th>\n",
       "      <td>LIFT</td>\n",
       "      <td>нет</td>\n",
       "      <td>кафе</td>\n",
       "      <td>город Москва, Багратионовский проезд, дом 7, к...</td>\n",
       "      <td>20</td>\n",
       "    </tr>\n",
       "    <tr>\n",
       "      <th>5059</th>\n",
       "      <td>LIFT</td>\n",
       "      <td>нет</td>\n",
       "      <td>кафе</td>\n",
       "      <td>город Москва, Багратионовский проезд, дом 7, к...</td>\n",
       "      <td>20</td>\n",
       "    </tr>\n",
       "    <tr>\n",
       "      <th>5067</th>\n",
       "      <td>LIFT</td>\n",
       "      <td>нет</td>\n",
       "      <td>кафе</td>\n",
       "      <td>город Москва, Багратионовский проезд, дом 7, к...</td>\n",
       "      <td>10</td>\n",
       "    </tr>\n",
       "    <tr>\n",
       "      <th>5069</th>\n",
       "      <td>LIFT</td>\n",
       "      <td>нет</td>\n",
       "      <td>кафе</td>\n",
       "      <td>город Москва, Багратионовский проезд, дом 7, к...</td>\n",
       "      <td>10</td>\n",
       "    </tr>\n",
       "    <tr>\n",
       "      <th>5146</th>\n",
       "      <td>Кафе при АЗС</td>\n",
       "      <td>нет</td>\n",
       "      <td>кафе</td>\n",
       "      <td>город Москва, Огородный проезд, дом 7, строение 1</td>\n",
       "      <td>0</td>\n",
       "    </tr>\n",
       "    <tr>\n",
       "      <th>5147</th>\n",
       "      <td>Кафе при АЗС</td>\n",
       "      <td>нет</td>\n",
       "      <td>кафе</td>\n",
       "      <td>город Москва, Огородный проезд, дом 7, строение 1</td>\n",
       "      <td>0</td>\n",
       "    </tr>\n",
       "    <tr>\n",
       "      <th>5183</th>\n",
       "      <td>Кафе</td>\n",
       "      <td>нет</td>\n",
       "      <td>кафе</td>\n",
       "      <td>город Москва, 1-я Останкинская улица, дом 55</td>\n",
       "      <td>20</td>\n",
       "    </tr>\n",
       "    <tr>\n",
       "      <th>5184</th>\n",
       "      <td>Кафе</td>\n",
       "      <td>нет</td>\n",
       "      <td>кафе</td>\n",
       "      <td>город Москва, 1-я Останкинская улица, дом 55</td>\n",
       "      <td>10</td>\n",
       "    </tr>\n",
       "    <tr>\n",
       "      <th>5185</th>\n",
       "      <td>Кафе</td>\n",
       "      <td>нет</td>\n",
       "      <td>кафе</td>\n",
       "      <td>город Москва, 1-я Останкинская улица, дом 55</td>\n",
       "      <td>20</td>\n",
       "    </tr>\n",
       "    <tr>\n",
       "      <th>5186</th>\n",
       "      <td>Кафе</td>\n",
       "      <td>нет</td>\n",
       "      <td>кафе</td>\n",
       "      <td>город Москва, 1-я Останкинская улица, дом 55</td>\n",
       "      <td>10</td>\n",
       "    </tr>\n",
       "    <tr>\n",
       "      <th>5187</th>\n",
       "      <td>Кафе</td>\n",
       "      <td>нет</td>\n",
       "      <td>кафе</td>\n",
       "      <td>город Москва, 1-я Останкинская улица, дом 55</td>\n",
       "      <td>5</td>\n",
       "    </tr>\n",
       "  </tbody>\n",
       "</table>\n",
       "</div>"
      ],
      "text/plain": [
       "                               object_name chain object_type  \\\n",
       "2374  КОМБИНАТ ПИТАНИЯ МГТУ ИМ.Н.Э.БАУМАНА   нет    столовая   \n",
       "2381  КОМБИНАТ ПИТАНИЯ МГТУ ИМ.Н.Э.БАУМАНА   нет    столовая   \n",
       "2869                          LALTRO BOSCO   нет    ресторан   \n",
       "3480                            Буфет Мади   нет       буфет   \n",
       "3481                            Буфет Мади   нет       буфет   \n",
       "4430     СТОЛОВАЯ ГБОУ города Москвы № 384   нет       буфет   \n",
       "4431     СТОЛОВАЯ ГБОУ города Москвы № 384   нет       буфет   \n",
       "4536    Столовая «Комбинат питания КОСМОС»   нет    столовая   \n",
       "4537    Столовая «Комбинат питания КОСМОС»   нет    столовая   \n",
       "5058                                  LIFT   нет        кафе   \n",
       "5059                                  LIFT   нет        кафе   \n",
       "5067                                  LIFT   нет        кафе   \n",
       "5069                                  LIFT   нет        кафе   \n",
       "5146                          Кафе при АЗС   нет        кафе   \n",
       "5147                          Кафе при АЗС   нет        кафе   \n",
       "5183                                  Кафе   нет        кафе   \n",
       "5184                                  Кафе   нет        кафе   \n",
       "5185                                  Кафе   нет        кафе   \n",
       "5186                                  Кафе   нет        кафе   \n",
       "5187                                  Кафе   нет        кафе   \n",
       "\n",
       "                                                address  number  \n",
       "2374  город Москва, 2-я Бауманская улица, дом 5, стр...     100  \n",
       "2381  город Москва, 2-я Бауманская улица, дом 5, стр...     100  \n",
       "2869               город Москва, улица Петровка, дом 10     145  \n",
       "3480       город Москва, Ленинградский проспект, дом 64      40  \n",
       "3481       город Москва, Ленинградский проспект, дом 64      40  \n",
       "4430            город Москва, Беловежская улица, дом 67     100  \n",
       "4431            город Москва, Беловежская улица, дом 67     100  \n",
       "4536       город Москва, Новозаводская улица, дом 12/11      15  \n",
       "4537       город Москва, Новозаводская улица, дом 12/11      15  \n",
       "5058  город Москва, Багратионовский проезд, дом 7, к...      20  \n",
       "5059  город Москва, Багратионовский проезд, дом 7, к...      20  \n",
       "5067  город Москва, Багратионовский проезд, дом 7, к...      10  \n",
       "5069  город Москва, Багратионовский проезд, дом 7, к...      10  \n",
       "5146  город Москва, Огородный проезд, дом 7, строение 1       0  \n",
       "5147  город Москва, Огородный проезд, дом 7, строение 1       0  \n",
       "5183       город Москва, 1-я Останкинская улица, дом 55      20  \n",
       "5184       город Москва, 1-я Останкинская улица, дом 55      10  \n",
       "5185       город Москва, 1-я Останкинская улица, дом 55      20  \n",
       "5186       город Москва, 1-я Останкинская улица, дом 55      10  \n",
       "5187       город Москва, 1-я Останкинская улица, дом 55       5  "
      ]
     },
     "execution_count": 287,
     "metadata": {},
     "output_type": "execute_result"
    }
   ],
   "source": [
    "# Изучим неполные дубликаты\n",
    "data_id = data[['object_name', 'chain', 'object_type', 'address', 'number']]\n",
    "data_id[data_id.duplicated(keep=False)].head(20)"
   ]
  },
  {
   "cell_type": "markdown",
   "metadata": {},
   "source": [
    "**Вывод:**\n",
    "- Всего в таблице 6 столбцов и 15366 строк\n",
    "- Пропуски в таблице не найдены\n",
    "- Полные дубликаты в таблице не найдены, в столбце object_name есть много неявных дубликатов\n",
    "- Также в таблице найдено 82 неполных дубликата. Так как маловероятно, что в одном месте может быть два идентичных заведения, дубликаты необходимо удалить\n",
    "- Тип у данных верный"
   ]
  },
  {
   "cell_type": "markdown",
   "metadata": {},
   "source": [
    "## Предобработка данных"
   ]
  },
  {
   "cell_type": "code",
   "execution_count": 288,
   "metadata": {},
   "outputs": [
    {
     "data": {
      "text/plain": [
       "724"
      ]
     },
     "execution_count": 288,
     "metadata": {},
     "output_type": "execute_result"
    }
   ],
   "source": [
    "# Посчитаем кол-во уникальных названий несетевых заведений\n",
    "len(data.query('chain == \"да\"')['object_name'].unique())"
   ]
  },
  {
   "cell_type": "code",
   "execution_count": 289,
   "metadata": {},
   "outputs": [],
   "source": [
    "# Удалим часть неявных дубликатов приведением названий к нижнему регистру\n",
    "data['object_name'] = data['object_name'].str.lower()"
   ]
  },
  {
   "cell_type": "code",
   "execution_count": 290,
   "metadata": {},
   "outputs": [],
   "source": [
    "# Заменим названия популярных сетей в столбце object_name с помощью функции, чтобы сократить число неявных дубликатов\n",
    "def replace_name(i):\n",
    "    if 'subway' in i or 'сабве' in i:\n",
    "        return 'subway'\n",
    "    if 'шоколадница' in i:\n",
    "        return 'шоколадница'\n",
    "    if 'макдоналдс' in i or \"macdonald's\" in i or 'macdonalds' in i:\n",
    "        return 'макдоналдс'\n",
    "    if 'бургер кинг' in i or 'burger king' in i:\n",
    "        return 'бургер кинг'\n",
    "    if 'kfc' in i or 'кфс' in i:\n",
    "        return 'kfc'\n",
    "    if 'мята lounge' in i or 'мята лаун' in i:\n",
    "        return 'мята lounge'\n",
    "    if 'старбакс' in i or 'starbucks' in i:\n",
    "        return 'starbucks'\n",
    "    if 'му-му' in i:\n",
    "        return 'му-му'\n",
    "    if 'кофе хаус' in i:\n",
    "        return 'кофе хаус'\n",
    "    if 'милти' in i:\n",
    "        return 'милти'\n",
    "    else:\n",
    "        return i"
   ]
  },
  {
   "cell_type": "code",
   "execution_count": 291,
   "metadata": {},
   "outputs": [],
   "source": [
    "# Применим написанную функцию для замены названий\n",
    "data['object_name'] = data['object_name'].apply(replace_name)"
   ]
  },
  {
   "cell_type": "code",
   "execution_count": 292,
   "metadata": {
    "scrolled": true
   },
   "outputs": [
    {
     "data": {
      "text/plain": [
       "507"
      ]
     },
     "execution_count": 292,
     "metadata": {},
     "output_type": "execute_result"
    }
   ],
   "source": [
    "# Для проверки посчитаем кол-во оставшихся уникальных названий\n",
    "len(data.query('chain == \"да\"')['object_name'].unique())"
   ]
  },
  {
   "cell_type": "code",
   "execution_count": 293,
   "metadata": {},
   "outputs": [],
   "source": [
    "# Удалим неполные дубликаты\n",
    "data = data.drop_duplicates(subset=['object_name', 'chain', 'object_type', 'address', 'number'])"
   ]
  },
  {
   "cell_type": "code",
   "execution_count": 294,
   "metadata": {},
   "outputs": [
    {
     "name": "stdout",
     "output_type": "stream",
     "text": [
      "<class 'pandas.core.frame.DataFrame'>\n",
      "Int64Index: 15281 entries, 0 to 15365\n",
      "Data columns (total 6 columns):\n",
      " #   Column       Non-Null Count  Dtype \n",
      "---  ------       --------------  ----- \n",
      " 0   id           15281 non-null  int64 \n",
      " 1   object_name  15281 non-null  object\n",
      " 2   chain        15281 non-null  object\n",
      " 3   object_type  15281 non-null  object\n",
      " 4   address      15281 non-null  object\n",
      " 5   number       15281 non-null  int64 \n",
      "dtypes: int64(2), object(4)\n",
      "memory usage: 835.7+ KB\n"
     ]
    }
   ],
   "source": [
    "# Проверим\n",
    "data.info()"
   ]
  },
  {
   "cell_type": "markdown",
   "metadata": {},
   "source": [
    "**Вывод:**\n",
    "\n",
    "Таким образом, было сокращено кол-во неявных дубликатов, а также были удалены неполные дубликаты."
   ]
  },
  {
   "cell_type": "markdown",
   "metadata": {},
   "source": [
    "## Исследовательский анализ данных"
   ]
  },
  {
   "cell_type": "markdown",
   "metadata": {},
   "source": [
    "### Соотношение видов объектов общественного питания по количеству"
   ]
  },
  {
   "cell_type": "code",
   "execution_count": 295,
   "metadata": {},
   "outputs": [],
   "source": [
    "# Настроим повторяющиеся параметры для будущих графиков\n",
    "plt.style.use('seaborn-whitegrid')\n",
    "color = sns.color_palette(\"flare\")\n",
    "\n",
    "# Сократим названия некоторых видов заведений для простоты графиков\n",
    "data['object_type'] = data['object_type'].replace('предприятие быстрого обслуживания', 'ПБО')\n",
    "data['object_type'] = data['object_type'].replace('магазин (отдел кулинарии)', 'магазин')"
   ]
  },
  {
   "cell_type": "code",
   "execution_count": 296,
   "metadata": {},
   "outputs": [
    {
     "data": {
      "text/html": [
       "<div>\n",
       "<style scoped>\n",
       "    .dataframe tbody tr th:only-of-type {\n",
       "        vertical-align: middle;\n",
       "    }\n",
       "\n",
       "    .dataframe tbody tr th {\n",
       "        vertical-align: top;\n",
       "    }\n",
       "\n",
       "    .dataframe thead th {\n",
       "        text-align: right;\n",
       "    }\n",
       "</style>\n",
       "<table border=\"1\" class=\"dataframe\">\n",
       "  <thead>\n",
       "    <tr style=\"text-align: right;\">\n",
       "      <th></th>\n",
       "      <th>id</th>\n",
       "    </tr>\n",
       "    <tr>\n",
       "      <th>object_type</th>\n",
       "      <th></th>\n",
       "    </tr>\n",
       "  </thead>\n",
       "  <tbody>\n",
       "    <tr>\n",
       "      <th>кафе</th>\n",
       "      <td>6071</td>\n",
       "    </tr>\n",
       "    <tr>\n",
       "      <th>столовая</th>\n",
       "      <td>2584</td>\n",
       "    </tr>\n",
       "    <tr>\n",
       "      <th>ресторан</th>\n",
       "      <td>2282</td>\n",
       "    </tr>\n",
       "    <tr>\n",
       "      <th>ПБО</th>\n",
       "      <td>1897</td>\n",
       "    </tr>\n",
       "    <tr>\n",
       "      <th>бар</th>\n",
       "      <td>855</td>\n",
       "    </tr>\n",
       "    <tr>\n",
       "      <th>буфет</th>\n",
       "      <td>576</td>\n",
       "    </tr>\n",
       "    <tr>\n",
       "      <th>кафетерий</th>\n",
       "      <td>395</td>\n",
       "    </tr>\n",
       "    <tr>\n",
       "      <th>закусочная</th>\n",
       "      <td>348</td>\n",
       "    </tr>\n",
       "    <tr>\n",
       "      <th>магазин</th>\n",
       "      <td>273</td>\n",
       "    </tr>\n",
       "  </tbody>\n",
       "</table>\n",
       "</div>"
      ],
      "text/plain": [
       "               id\n",
       "object_type      \n",
       "кафе         6071\n",
       "столовая     2584\n",
       "ресторан     2282\n",
       "ПБО          1897\n",
       "бар           855\n",
       "буфет         576\n",
       "кафетерий     395\n",
       "закусочная    348\n",
       "магазин       273"
      ]
     },
     "execution_count": 296,
     "metadata": {},
     "output_type": "execute_result"
    }
   ],
   "source": [
    "# Сгрупируем данные по виду объектов общественного питания и отсортируем по возрастанию\n",
    "types = data.groupby('object_type').agg({'id': 'nunique'}).sort_values(by='id', ascending = False)\n",
    "types"
   ]
  },
  {
   "cell_type": "code",
   "execution_count": 297,
   "metadata": {
    "scrolled": true
   },
   "outputs": [
    {
     "data": {
      "image/png": "[encoded data removed]",
      "text/plain": [
       "<Figure size 432x288 with 1 Axes>"
      ]
     },
     "metadata": {},
     "output_type": "display_data"
    }
   ],
   "source": [
    "# Построим график\n",
    "ax = types.plot.bar(color=color, legend=None)\n",
    "ax.set_title('Соотношение видов объектов общественного питания по количеству')\n",
    "ax.set_xlabel(' ')\n",
    "ax.set_ylabel('Количество')\n",
    "plt.xticks(rotation=45)\n",
    "plt.show()"
   ]
  },
  {
   "cell_type": "markdown",
   "metadata": {},
   "source": [
    "**Вывод:**\n",
    "\n",
    "- Топ-3 самых многочисленных видов заведений: кафе (6099), столовая (2587), ресторан (2285)\n",
    "- Топ-3 самых немногочисленных: магазин (отдел кулинарии) (273), закусочная (360), кафетерий (398)\n",
    "- Возможно это объясняется тем, что на кафе и столовые больше всего спроса, однако лучше проверить это еще и на срезе данных."
   ]
  },
  {
   "cell_type": "markdown",
   "metadata": {},
   "source": [
    "### Соотношение сетевых и несетевых заведений по количеству"
   ]
  },
  {
   "cell_type": "code",
   "execution_count": 298,
   "metadata": {},
   "outputs": [
    {
     "data": {
      "text/html": [
       "<div>\n",
       "<style scoped>\n",
       "    .dataframe tbody tr th:only-of-type {\n",
       "        vertical-align: middle;\n",
       "    }\n",
       "\n",
       "    .dataframe tbody tr th {\n",
       "        vertical-align: top;\n",
       "    }\n",
       "\n",
       "    .dataframe thead th {\n",
       "        text-align: right;\n",
       "    }\n",
       "</style>\n",
       "<table border=\"1\" class=\"dataframe\">\n",
       "  <thead>\n",
       "    <tr style=\"text-align: right;\">\n",
       "      <th></th>\n",
       "      <th>id</th>\n",
       "    </tr>\n",
       "    <tr>\n",
       "      <th>chain</th>\n",
       "      <th></th>\n",
       "    </tr>\n",
       "  </thead>\n",
       "  <tbody>\n",
       "    <tr>\n",
       "      <th>нет</th>\n",
       "      <td>12317</td>\n",
       "    </tr>\n",
       "    <tr>\n",
       "      <th>да</th>\n",
       "      <td>2964</td>\n",
       "    </tr>\n",
       "  </tbody>\n",
       "</table>\n",
       "</div>"
      ],
      "text/plain": [
       "          id\n",
       "chain       \n",
       "нет    12317\n",
       "да      2964"
      ]
     },
     "execution_count": 298,
     "metadata": {},
     "output_type": "execute_result"
    }
   ],
   "source": [
    "# Сгрупируем данные по признаку сети и отсортируем по возрастанию\n",
    "chains = data.groupby('chain').agg({'id': 'nunique'}).sort_values(by='id', ascending=False)\n",
    "chains"
   ]
  },
  {
   "cell_type": "code",
   "execution_count": 299,
   "metadata": {
    "scrolled": true
   },
   "outputs": [
    {
     "data": {
      "image/png": "[encoded data removed]",
      "text/plain": [
       "<Figure size 432x288 with 1 Axes>"
      ]
     },
     "metadata": {},
     "output_type": "display_data"
    }
   ],
   "source": [
    "# Построим график\n",
    "chains.plot.pie(subplots=True, ylabel=\" \", legend=None, colors=color, autopct='%1.0f%%', labels=['сетевое', 'несетевое'], explode = (0, 0.1))\n",
    "plt.title('Соотношение сетевых и несетевых заведений по количеству')\n",
    "plt.show()"
   ]
  },
  {
   "cell_type": "markdown",
   "metadata": {},
   "source": [
    "**Вывод:**\n",
    "\n",
    "Несетевых заведений (12398) гораздо больше сетевых (2968). Это может говорить нам о том, что несетевым заведениям лучше удается закрепиться на рынке."
   ]
  },
  {
   "cell_type": "markdown",
   "metadata": {},
   "source": [
    "### Сетевые и несетевые заведения в разбивке по виду"
   ]
  },
  {
   "cell_type": "code",
   "execution_count": 300,
   "metadata": {},
   "outputs": [],
   "source": [
    "types = types.reset_index().sort_values('object_type')"
   ]
  },
  {
   "cell_type": "code",
   "execution_count": 301,
   "metadata": {},
   "outputs": [],
   "source": [
    "# Найдем количество сетевых заведений по виду\n",
    "chain_pc = data.pivot_table(index='object_type', columns='chain', values='id', aggfunc='nunique').reset_index()"
   ]
  },
  {
   "cell_type": "code",
   "execution_count": 302,
   "metadata": {},
   "outputs": [],
   "source": [
    "# Дадим колонкам удобные названия\n",
    "chain_pc.columns = ['object_type', 'chain', 'not_chain']"
   ]
  },
  {
   "cell_type": "code",
   "execution_count": 303,
   "metadata": {},
   "outputs": [],
   "source": [
    "# Посчитаем количество всех заведений одного вида\n",
    "chain_pc['total'] = chain_pc['chain'] + chain_pc['not_chain']"
   ]
  },
  {
   "cell_type": "code",
   "execution_count": 304,
   "metadata": {},
   "outputs": [],
   "source": [
    "# Посчитаем долю сетевых заведений от каждого вида\n",
    "chain_pc['share_chain'] = chain_pc['chain']/chain_pc['total']"
   ]
  },
  {
   "cell_type": "code",
   "execution_count": 305,
   "metadata": {},
   "outputs": [],
   "source": [
    "# Посчитаем долю несетевых заведений от каждого вида\n",
    "chain_pc['share_not_chain'] = chain_pc['not_chain']/chain_pc['total']"
   ]
  },
  {
   "cell_type": "code",
   "execution_count": 306,
   "metadata": {},
   "outputs": [
    {
     "data": {
      "image/png": "[encoded data removed]",
      "text/plain": [
       "<Figure size 432x288 with 1 Axes>"
      ]
     },
     "metadata": {},
     "output_type": "display_data"
    }
   ],
   "source": [
    "# Построим график\n",
    "ax1 = plt.bar('object_type', 'share_chain', data=chain_pc.sort_values(by='share_chain', ascending=False), color='khaki')\n",
    "plt.title('Соотношение сетевых заведений по количеству')\n",
    "plt.ylabel('Количество')\n",
    "plt.xticks(rotation=45)\n",
    "plt.show()"
   ]
  },
  {
   "cell_type": "code",
   "execution_count": 307,
   "metadata": {},
   "outputs": [
    {
     "data": {
      "image/png": "[encoded data removed]",
      "text/plain": [
       "<Figure size 432x288 with 1 Axes>"
      ]
     },
     "metadata": {},
     "output_type": "display_data"
    }
   ],
   "source": [
    "# Построим график\n",
    "ax2 = plt.bar('object_type', 'share_not_chain', data=chain_pc.sort_values(by='share_not_chain', ascending=False), color=color[0])\n",
    "plt.title('Соотношение несетевых заведений по количеству')\n",
    "plt.ylabel('Количество')\n",
    "plt.xticks(rotation=45)\n",
    "plt.show()"
   ]
  },
  {
   "cell_type": "markdown",
   "metadata": {},
   "source": [
    "**Вывод:**\n",
    "- Для сетевых заведений характерно большее распространение предприятий быстрого обслуживания (41% от всех ПБО), магазинов (28% от всех магазинов), ресторанов (23% от всех ресторанов)\n",
    "- Для несетевых заведений характерно большее распространение столовых (99% от всех столовых), буфетов (98% от всех буфетов), баров (95% от всех баров)"
   ]
  },
  {
   "cell_type": "markdown",
   "metadata": {},
   "source": [
    "### Анализ характеристик сетевых заведений"
   ]
  },
  {
   "cell_type": "code",
   "execution_count": 308,
   "metadata": {},
   "outputs": [],
   "source": [
    "# Сгруппируем данные по названию сети и посчитаем медианное кол-во мест\n",
    "charact = data.query('chain == \"да\"').groupby('object_name').agg({'id':'count', 'number':'median'})"
   ]
  },
  {
   "cell_type": "code",
   "execution_count": 309,
   "metadata": {},
   "outputs": [
    {
     "data": {
      "image/png": "[encoded data removed]",
      "text/plain": [
       "<Figure size 432x288 with 2 Axes>"
      ]
     },
     "metadata": {},
     "output_type": "display_data"
    }
   ],
   "source": [
    "# Построим график\n",
    "ax3 = plt.scatter(charact['id'], charact['number'], c=charact['number'], vmin=0, vmax=350, s=40, cmap=\"flare\")\n",
    "plt.colorbar(ax3)\n",
    "plt.title('Распределение количества посадочных мест по заведениям')\n",
    "plt.xlabel('Количество заведений')\n",
    "plt.ylabel('Количество посадочных мест')\n",
    "plt.show()"
   ]
  },
  {
   "cell_type": "markdown",
   "metadata": {},
   "source": [
    "**Вывод:**\n",
    "\n",
    "- В основном, для сетей характерно не более 25 заведений, однако есть выбросы до 200.\n",
    "- Чаще всего, количество посадочных мест в сетях варьируется от 0 до 150. Есть значения, достигающие отметку в 300 мест.\n",
    "- Из этого следует, что для маленьких сетей больше характерно небольшое количество заведений (от 1 до 25) с различным количеством посадочных мест (от 0 до 300). Для крупных же характерно большое количество заведений с количеством мест, не превышающим сто."
   ]
  },
  {
   "cell_type": "markdown",
   "metadata": {},
   "source": [
    "### Среднее количество посадочных мест для каждого вида объекта общественного питания"
   ]
  },
  {
   "cell_type": "code",
   "execution_count": 310,
   "metadata": {},
   "outputs": [
    {
     "data": {
      "text/html": [
       "<div>\n",
       "<style scoped>\n",
       "    .dataframe tbody tr th:only-of-type {\n",
       "        vertical-align: middle;\n",
       "    }\n",
       "\n",
       "    .dataframe tbody tr th {\n",
       "        vertical-align: top;\n",
       "    }\n",
       "\n",
       "    .dataframe thead th {\n",
       "        text-align: right;\n",
       "    }\n",
       "</style>\n",
       "<table border=\"1\" class=\"dataframe\">\n",
       "  <thead>\n",
       "    <tr style=\"text-align: right;\">\n",
       "      <th></th>\n",
       "      <th>number</th>\n",
       "    </tr>\n",
       "    <tr>\n",
       "      <th>object_type</th>\n",
       "      <th></th>\n",
       "    </tr>\n",
       "  </thead>\n",
       "  <tbody>\n",
       "    <tr>\n",
       "      <th>столовая</th>\n",
       "      <td>103</td>\n",
       "    </tr>\n",
       "    <tr>\n",
       "      <th>ресторан</th>\n",
       "      <td>80</td>\n",
       "    </tr>\n",
       "    <tr>\n",
       "      <th>бар</th>\n",
       "      <td>35</td>\n",
       "    </tr>\n",
       "    <tr>\n",
       "      <th>буфет</th>\n",
       "      <td>32</td>\n",
       "    </tr>\n",
       "    <tr>\n",
       "      <th>кафе</th>\n",
       "      <td>30</td>\n",
       "    </tr>\n",
       "    <tr>\n",
       "      <th>ПБО</th>\n",
       "      <td>6</td>\n",
       "    </tr>\n",
       "    <tr>\n",
       "      <th>кафетерий</th>\n",
       "      <td>6</td>\n",
       "    </tr>\n",
       "    <tr>\n",
       "      <th>закусочная</th>\n",
       "      <td>0</td>\n",
       "    </tr>\n",
       "    <tr>\n",
       "      <th>магазин</th>\n",
       "      <td>0</td>\n",
       "    </tr>\n",
       "  </tbody>\n",
       "</table>\n",
       "</div>"
      ],
      "text/plain": [
       "             number\n",
       "object_type        \n",
       "столовая        103\n",
       "ресторан         80\n",
       "бар              35\n",
       "буфет            32\n",
       "кафе             30\n",
       "ПБО               6\n",
       "кафетерий         6\n",
       "закусочная        0\n",
       "магазин           0"
      ]
     },
     "execution_count": 310,
     "metadata": {},
     "output_type": "execute_result"
    }
   ],
   "source": [
    "# Сгруппируем данные и получим среднее количество мест для \n",
    "seat = data.groupby('object_type').agg({'number': 'median'}).sort_values(by='number', ascending=False)\n",
    "seat"
   ]
  },
  {
   "cell_type": "code",
   "execution_count": 311,
   "metadata": {},
   "outputs": [
    {
     "data": {
      "image/png": "[encoded data removed]",
      "text/plain": [
       "<Figure size 432x288 with 1 Axes>"
      ]
     },
     "metadata": {},
     "output_type": "display_data"
    }
   ],
   "source": [
    "# Построим график\n",
    "ax4 = seat.plot.bar(color=color, legend=None)\n",
    "ax4.set_title('Среднее количество посадочных мест для каждого вида заведения')\n",
    "ax4.set_xlabel(' ')\n",
    "ax4.set_ylabel('Количество')\n",
    "plt.xticks(rotation=45)\n",
    "plt.show()"
   ]
  },
  {
   "cell_type": "markdown",
   "metadata": {},
   "source": [
    "**Вывод:**\n",
    "\n",
    "Судя по медианному значению, больше всего посадочных мест у столовых (103), меньше всего у магазина (0). Это объясняется тем, что столовые изначально рассчитаны на большое количество посетителей, и из-за невысоких цен имеют соответсвующий спрос. Магазины же в принципе не предполагают долгое нахождение в них посетителей."
   ]
  },
  {
   "cell_type": "markdown",
   "metadata": {},
   "source": [
    "### Анализ расположения заведений общественного питания"
   ]
  },
  {
   "cell_type": "code",
   "execution_count": 312,
   "metadata": {},
   "outputs": [],
   "source": [
    "# Напишем функцию для отделения улицы\n",
    "street_def = ['улица', 'проезд', 'бульвар', 'шоссе', 'переулок', 'проспект', 'площадь', 'аллея', 'деревня', 'квартал', 'микрорайон', 'мост', 'набережная', 'парк', 'посёлок', 'проектируемый проезд', 'просек', 'тупик', 'линия', 'километр', 'поселение', 'территория', 'город зеленоград']\n",
    "\n",
    "def get_street(row):\n",
    "    for e in row.split(','):\n",
    "        for i in street_def:\n",
    "            if i in e.lower():\n",
    "                return e"
   ]
  },
  {
   "cell_type": "code",
   "execution_count": 313,
   "metadata": {},
   "outputs": [],
   "source": [
    "# Применим функцию к датафрейму и запишем результат в отдельный столбец\n",
    "data['street'] = data['address'].apply(get_street)\n",
    "data['street'] = data['street'].str.strip()"
   ]
  },
  {
   "cell_type": "code",
   "execution_count": 314,
   "metadata": {},
   "outputs": [
    {
     "data": {
      "text/plain": [
       "0"
      ]
     },
     "execution_count": 314,
     "metadata": {},
     "output_type": "execute_result"
    }
   ],
   "source": [
    "# Посчитаем количество пропусков\n",
    "data['street'].isna().sum()"
   ]
  },
  {
   "cell_type": "code",
   "execution_count": 315,
   "metadata": {},
   "outputs": [],
   "source": [
    "# Найдем топ-10 улиц с наибольшим количеством заведений общественного питания\n",
    "streets_max = data.groupby('street').agg({'id':'nunique'}).sort_values(by='id', ascending=False).head(10)\n",
    "streets_max"
   ]
  },
  {
   "cell_type": "code",
   "execution_count": 241,
   "metadata": {},
   "outputs": [],
   "source": [
    "# Загрузим дополнительные данные об районах Москвы\n",
    "spreadsheet_id = '11ngkcwzyPTZzE0iMbYZNnXhkNgq8M1f38ZqCkYaqiYg'\n",
    "file_name = 'https://docs.google.com/spreadsheets/d/{}/export?format=csv'.format(spreadsheet_id)\n",
    "r = requests.get(file_name)\n",
    "areas = pd.read_csv(BytesIO(r.content))"
   ]
  },
  {
   "cell_type": "code",
   "execution_count": 318,
   "metadata": {},
   "outputs": [
    {
     "data": {
      "text/html": [
       "<div>\n",
       "<style scoped>\n",
       "    .dataframe tbody tr th:only-of-type {\n",
       "        vertical-align: middle;\n",
       "    }\n",
       "\n",
       "    .dataframe tbody tr th {\n",
       "        vertical-align: top;\n",
       "    }\n",
       "\n",
       "    .dataframe thead th {\n",
       "        text-align: right;\n",
       "    }\n",
       "</style>\n",
       "<table border=\"1\" class=\"dataframe\">\n",
       "  <thead>\n",
       "    <tr style=\"text-align: right;\">\n",
       "      <th></th>\n",
       "      <th>id</th>\n",
       "      <th>streetname</th>\n",
       "      <th>areaid</th>\n",
       "      <th>okrug</th>\n",
       "      <th>area</th>\n",
       "    </tr>\n",
       "  </thead>\n",
       "  <tbody>\n",
       "    <tr>\n",
       "      <th>0</th>\n",
       "      <td>232</td>\n",
       "      <td>город Зеленоград</td>\n",
       "      <td>51</td>\n",
       "      <td>Зеленоград</td>\n",
       "      <td>Район Крюково</td>\n",
       "    </tr>\n",
       "    <tr>\n",
       "      <th>1</th>\n",
       "      <td>232</td>\n",
       "      <td>город Зеленоград</td>\n",
       "      <td>52</td>\n",
       "      <td>Зеленоград</td>\n",
       "      <td>Район Матушкино-Савелки</td>\n",
       "    </tr>\n",
       "    <tr>\n",
       "      <th>2</th>\n",
       "      <td>232</td>\n",
       "      <td>город Зеленоград</td>\n",
       "      <td>53</td>\n",
       "      <td>Зеленоград</td>\n",
       "      <td>Панфиловский район</td>\n",
       "    </tr>\n",
       "    <tr>\n",
       "      <th>3</th>\n",
       "      <td>203</td>\n",
       "      <td>проспект Мира</td>\n",
       "      <td>70</td>\n",
       "      <td>СВАО</td>\n",
       "      <td>Алексеевский район</td>\n",
       "    </tr>\n",
       "    <tr>\n",
       "      <th>4</th>\n",
       "      <td>203</td>\n",
       "      <td>проспект Мира</td>\n",
       "      <td>86</td>\n",
       "      <td>СВАО</td>\n",
       "      <td>Ярославский Район</td>\n",
       "    </tr>\n",
       "  </tbody>\n",
       "</table>\n",
       "</div>"
      ],
      "text/plain": [
       "    id        streetname  areaid       okrug                     area\n",
       "0  232  город Зеленоград      51  Зеленоград            Район Крюково\n",
       "1  232  город Зеленоград      52  Зеленоград  Район Матушкино-Савелки\n",
       "2  232  город Зеленоград      53  Зеленоград       Панфиловский район\n",
       "3  203     проспект Мира      70        СВАО       Алексеевский район\n",
       "4  203     проспект Мира      86        СВАО        Ярославский Район"
      ]
     },
     "execution_count": 318,
     "metadata": {},
     "output_type": "execute_result"
    }
   ],
   "source": [
    "# Соеденим по названию улицы встроенные данные и получим информаю о районах\n",
    "streets_max = streets_max.merge(areas, left_on='street', right_on='streetname')\n",
    "streets_max.head()"
   ]
  },
  {
   "cell_type": "code",
   "execution_count": 319,
   "metadata": {},
   "outputs": [
    {
     "data": {
      "image/png": "[encoded data removed]",
      "text/plain": [
       "<Figure size 432x288 with 1 Axes>"
      ]
     },
     "metadata": {},
     "output_type": "display_data"
    }
   ],
   "source": [
    "# Построим график\n",
    "ax5 = streets_max.groupby('streetname')['area'].count().sort_values(ascending=False).plot.barh(color=color[0])\n",
    "plt.title('Распределение количества районов на улицу')\n",
    "plt.xlabel('Количество')\n",
    "plt.ylabel(' ')\n",
    "plt.show()"
   ]
  },
  {
   "cell_type": "code",
   "execution_count": 321,
   "metadata": {},
   "outputs": [
    {
     "data": {
      "text/html": [
       "<div>\n",
       "<style scoped>\n",
       "    .dataframe tbody tr th:only-of-type {\n",
       "        vertical-align: middle;\n",
       "    }\n",
       "\n",
       "    .dataframe tbody tr th {\n",
       "        vertical-align: top;\n",
       "    }\n",
       "\n",
       "    .dataframe thead th {\n",
       "        text-align: right;\n",
       "    }\n",
       "</style>\n",
       "<table border=\"1\" class=\"dataframe\">\n",
       "  <thead>\n",
       "    <tr style=\"text-align: right;\">\n",
       "      <th></th>\n",
       "      <th>id</th>\n",
       "    </tr>\n",
       "    <tr>\n",
       "      <th>street</th>\n",
       "      <th></th>\n",
       "    </tr>\n",
       "  </thead>\n",
       "  <tbody>\n",
       "    <tr>\n",
       "      <th>1-й Балтийский переулок</th>\n",
       "      <td>1</td>\n",
       "    </tr>\n",
       "    <tr>\n",
       "      <th>1-й Басманный переулок</th>\n",
       "      <td>1</td>\n",
       "    </tr>\n",
       "    <tr>\n",
       "      <th>1-й Ботанический проезд</th>\n",
       "      <td>1</td>\n",
       "    </tr>\n",
       "    <tr>\n",
       "      <th>1-й Вешняковский проезд</th>\n",
       "      <td>1</td>\n",
       "    </tr>\n",
       "    <tr>\n",
       "      <th>1-й Голутвинский переулок</th>\n",
       "      <td>1</td>\n",
       "    </tr>\n",
       "  </tbody>\n",
       "</table>\n",
       "</div>"
      ],
      "text/plain": [
       "                           id\n",
       "street                       \n",
       "1-й Балтийский переулок     1\n",
       "1-й Басманный переулок      1\n",
       "1-й Ботанический проезд     1\n",
       "1-й Вешняковский проезд     1\n",
       "1-й Голутвинский переулок   1"
      ]
     },
     "execution_count": 321,
     "metadata": {},
     "output_type": "execute_result"
    }
   ],
   "source": [
    "# Найдем улицы с одним заведением общественного питания\n",
    "streets_min = data.groupby('street').agg({'id':'nunique'}).query('id == 1')\n",
    "streets_min.head()"
   ]
  },
  {
   "cell_type": "code",
   "execution_count": 196,
   "metadata": {},
   "outputs": [],
   "source": [
    "# Аналогично соеденим по названию улицы встроенные данные и получим информаю о районах\n",
    "streets_min = streets_min.merge(areas, left_on='street', right_on='streetname')"
   ]
  },
  {
   "cell_type": "code",
   "execution_count": 197,
   "metadata": {},
   "outputs": [
    {
     "data": {
      "text/html": [
       "<div>\n",
       "<style scoped>\n",
       "    .dataframe tbody tr th:only-of-type {\n",
       "        vertical-align: middle;\n",
       "    }\n",
       "\n",
       "    .dataframe tbody tr th {\n",
       "        vertical-align: top;\n",
       "    }\n",
       "\n",
       "    .dataframe thead th {\n",
       "        text-align: right;\n",
       "    }\n",
       "</style>\n",
       "<table border=\"1\" class=\"dataframe\">\n",
       "  <thead>\n",
       "    <tr style=\"text-align: right;\">\n",
       "      <th></th>\n",
       "      <th>streetname</th>\n",
       "    </tr>\n",
       "    <tr>\n",
       "      <th>area</th>\n",
       "      <th></th>\n",
       "    </tr>\n",
       "  </thead>\n",
       "  <tbody>\n",
       "    <tr>\n",
       "      <th>Таганский район</th>\n",
       "      <td>27</td>\n",
       "    </tr>\n",
       "    <tr>\n",
       "      <th>Район Хамовники</th>\n",
       "      <td>26</td>\n",
       "    </tr>\n",
       "    <tr>\n",
       "      <th>Басманный район</th>\n",
       "      <td>25</td>\n",
       "    </tr>\n",
       "    <tr>\n",
       "      <th>Пресненский район</th>\n",
       "      <td>20</td>\n",
       "    </tr>\n",
       "    <tr>\n",
       "      <th>Тверской район</th>\n",
       "      <td>20</td>\n",
       "    </tr>\n",
       "    <tr>\n",
       "      <th>Район Арбат</th>\n",
       "      <td>18</td>\n",
       "    </tr>\n",
       "    <tr>\n",
       "      <th>Район Марьина роща</th>\n",
       "      <td>18</td>\n",
       "    </tr>\n",
       "    <tr>\n",
       "      <th>Мещанский район</th>\n",
       "      <td>15</td>\n",
       "    </tr>\n",
       "    <tr>\n",
       "      <th>Район Сокольники</th>\n",
       "      <td>15</td>\n",
       "    </tr>\n",
       "    <tr>\n",
       "      <th>Район Замоскворечье</th>\n",
       "      <td>14</td>\n",
       "    </tr>\n",
       "  </tbody>\n",
       "</table>\n",
       "</div>"
      ],
      "text/plain": [
       "                     streetname\n",
       "area                           \n",
       "Таганский район              27\n",
       "Район Хамовники              26\n",
       "Басманный район              25\n",
       "Пресненский район            20\n",
       "Тверской район               20\n",
       "Район Арбат                  18\n",
       "Район Марьина роща           18\n",
       "Мещанский район              15\n",
       "Район Сокольники             15\n",
       "Район Замоскворечье          14"
      ]
     },
     "execution_count": 197,
     "metadata": {},
     "output_type": "execute_result"
    }
   ],
   "source": [
    "# Сгруппируем данные и найдем районы, где больше всего улиц с одним заведением\n",
    "streets_min.groupby('area').agg({'streetname':'count'}).sort_values(by='streetname', ascending=False).head(10)"
   ]
  },
  {
   "cell_type": "code",
   "execution_count": 198,
   "metadata": {},
   "outputs": [
    {
     "data": {
      "image/png": "[encoded data removed]",
      "text/plain": [
       "<Figure size 432x288 with 1 Axes>"
      ]
     },
     "metadata": {},
     "output_type": "display_data"
    }
   ],
   "source": [
    "# Построим график\n",
    "ax6 = streets_min.groupby('area').agg({'streetname':'count'}).sort_values(by='streetname', ascending=False).head(10).plot.barh(legend=None, color=color[3])\n",
    "plt.title('Распределение количества заведений по районам')\n",
    "plt.xlabel('Количество')\n",
    "plt.ylabel(' ')\n",
    "plt.show()"
   ]
  },
  {
   "cell_type": "code",
   "execution_count": 199,
   "metadata": {},
   "outputs": [
    {
     "data": {
      "text/html": [
       "<div>\n",
       "<style scoped>\n",
       "    .dataframe tbody tr th:only-of-type {\n",
       "        vertical-align: middle;\n",
       "    }\n",
       "\n",
       "    .dataframe tbody tr th {\n",
       "        vertical-align: top;\n",
       "    }\n",
       "\n",
       "    .dataframe thead th {\n",
       "        text-align: right;\n",
       "    }\n",
       "</style>\n",
       "<table border=\"1\" class=\"dataframe\">\n",
       "  <thead>\n",
       "    <tr style=\"text-align: right;\">\n",
       "      <th></th>\n",
       "      <th>streetname</th>\n",
       "    </tr>\n",
       "    <tr>\n",
       "      <th>okrug</th>\n",
       "      <th></th>\n",
       "    </tr>\n",
       "  </thead>\n",
       "  <tbody>\n",
       "    <tr>\n",
       "      <th>ЦАО</th>\n",
       "      <td>173</td>\n",
       "    </tr>\n",
       "    <tr>\n",
       "      <th>СВАО</th>\n",
       "      <td>65</td>\n",
       "    </tr>\n",
       "    <tr>\n",
       "      <th>ВАО</th>\n",
       "      <td>64</td>\n",
       "    </tr>\n",
       "    <tr>\n",
       "      <th>ЮВАО</th>\n",
       "      <td>52</td>\n",
       "    </tr>\n",
       "    <tr>\n",
       "      <th>САО</th>\n",
       "      <td>50</td>\n",
       "    </tr>\n",
       "    <tr>\n",
       "      <th>ЗАО</th>\n",
       "      <td>45</td>\n",
       "    </tr>\n",
       "    <tr>\n",
       "      <th>ЮАО</th>\n",
       "      <td>28</td>\n",
       "    </tr>\n",
       "    <tr>\n",
       "      <th>СЗАО</th>\n",
       "      <td>27</td>\n",
       "    </tr>\n",
       "    <tr>\n",
       "      <th>ЮЗАО</th>\n",
       "      <td>27</td>\n",
       "    </tr>\n",
       "    <tr>\n",
       "      <th>Зеленоград</th>\n",
       "      <td>2</td>\n",
       "    </tr>\n",
       "  </tbody>\n",
       "</table>\n",
       "</div>"
      ],
      "text/plain": [
       "            streetname\n",
       "okrug                 \n",
       "ЦАО                173\n",
       "СВАО                65\n",
       "ВАО                 64\n",
       "ЮВАО                52\n",
       "САО                 50\n",
       "ЗАО                 45\n",
       "ЮАО                 28\n",
       "СЗАО                27\n",
       "ЮЗАО                27\n",
       "Зеленоград           2"
      ]
     },
     "execution_count": 199,
     "metadata": {},
     "output_type": "execute_result"
    }
   ],
   "source": [
    "# На первый взгляд больше всего таких районов в центре, проверим, сгруппируя данные по округу\n",
    "streets_min.groupby('okrug').agg({'streetname':'nunique'}).sort_values(by='streetname', ascending=False)"
   ]
  },
  {
   "cell_type": "markdown",
   "metadata": {},
   "source": [
    "**Вывод:**\n",
    "- Исходя из данных, мы видим, что одной улице может соответствовать от 1 до 8 районов, это значит, что на некоторых улицах много заведений из-за их большого размера, а не выгодного расположения. Улицы же которым соответствуют 1-2 района (Пресненская набережная, кутузовский проспект) вероятно действительно коммерчески более удобны. \n",
    "- Большинство заведений находятся в районе Крюково (232), так как в г. Зеленоград нет обозначений улиц, соотвественно при выделении улиц он является самым большим по площади и таким образом по количеству заведений. Вторым районом по количеству заведений является Алексеевский район (203). На заключительной позиции - Район Дорогомилово (114). В целом, большинство заведений находятся в ЗАО.\n",
    "- Улицы с одним заведениям преимущественно небольшие. Топ-5 районов по количеству таковых: Таганский район (27), Район Хамовники (26), Басманный район (25), Пресненский район (20), Тверской район\t(20). В целом, большинство улиц находятся в ЦАО (173).\n",
    "- Вероятно, на количество заведений внутри Москвы влияет не столько близость к центру, сколько длина/размер улицы."
   ]
  },
  {
   "cell_type": "markdown",
   "metadata": {},
   "source": [
    "## Презентация"
   ]
  },
  {
   "cell_type": "markdown",
   "metadata": {},
   "source": [
    "Презентация: https://disk.yandex.ru/i/yHRZn-92IY2zxw"
   ]
  },
  {
   "cell_type": "markdown",
   "metadata": {},
   "source": [
    "## Общий вывод:\n",
    "\n",
    "Таким образом, исследование было выполнено в четыре этапа:\n",
    "\n",
    "1. Обзор данных. На этом этапе был распакован датасет, изучен на предмет пропусков и аномалий.\n",
    "2. Предобработка данных. На данном этапе данные были приведены к одному виду: удалены неявные и неполные дубликаты.\n",
    "3. Анализ данных. На этом этапе были изучены основные характеристики заведений общественного питания: расположение, количество посадочных мест, количество видов объектов, количество сетевых и несетевых заведений.\n",
    "4. Презентация. На этом этапе была подготовлена презентация результатов исследования.\n",
    "\n",
    "**Анализ данных: выводы**\n",
    "- Топ-3 самых многочисленных видов заведений: кафе (6099), столовая (2587), ресторан (2285). Топ-3 самых немногочисленных: магазин (отдел кулинарии) (273), закусочная (360), кафетерий (398)\n",
    "- Несетевых заведений (12398) гораздо больше сетевых (2968).\n",
    "- Для сетевых заведений характерно большее распространение предприятий быстрого обслуживания (41% от всех ПБО), магазинов (28% от всех магазинов), ресторанов (23% от всех ресторанов)\n",
    "- Для несетевых заведений характерно большее распространение столовых (99% от всех столовых), буфетов (98% от всех буфетов), баров (95% от всех баров)\n",
    "- Для маленьких сетей характерно небольшое количество заведений (от 1 до 25) с различным количеством посадочных мест (от 0 до 300). Для крупных же характерно большое количество заведений с количеством мест, не превышающим ста.\n",
    "- Топ-5 районов по количеству заведений на улице: Район Крюково (232), Алексеевский район (203), Академический район (182), Район Аэропорт (172), Пресненский район (167).\n",
    "- Топ-5 районов по количеству улиц с одним заведением: Таганский район (27), Район Хамовники (26), Басманный район (25), Пресненский район (20), Тверской район\t(20). В целом, большинство улиц находятся в ЦАО (173).\n",
    "\n",
    "**Рекомендации:**\n",
    "\n",
    "- Судя по формату заведения - наиболеее подходящим видом будет кафе. Роботы - новвоведение, которое больше заинтересует обеспеченную молодежь - основных посетителей кафе, нежели посетителей столовых и ресторанов, которых приходят туда за низкими ценами и быстрой подачей или напротив за классической изысканной кухней. Также, судя по данным, доля кафе среди сетевых заведений составляет пости 50 процентов, что может говорить о том, что таким заведениям удается лучше закрепиться на рынке. \n",
    "- Исходя из полученных данных, количество мест в кафе может разниться. Однако, если брать во внимание специфику заведения, то лучше ограничиться посадкой в 30-40 мест, что характерно для кафе и удобно с точки зрения обслуживания роботами. Также для сохранения эксклюзивности заведения рекомендуется открывать не более 5-10 кафе.\n",
    "- Наиболее удачным местом расположения будут центральные районы и районы в пределах или рядом с ТТК (пресненский район, алексеевский район), так как в центре большой поток туристов и отдыхающих. А за кольцом и в пределах ТТК ниже стоимость аренды, но все еще высокая транспортная доступность. \n",
    "- Окупаемость и развитие сети будет зависить от руководства и выбранной экономической модели, однако если придерживаться рекомендаций вероятно кафе сможет занять свою нишу."
   ]
  }
 ],
 "metadata": {
  "ExecuteTimeLog": [
   {
    "duration": 1544,
    "start_time": "2022-07-15T12:22:51.760Z"
   },
   {
    "duration": 2,
    "start_time": "2022-07-15T12:23:01.191Z"
   },
   {
    "duration": 124,
    "start_time": "2022-07-15T12:25:25.106Z"
   },
   {
    "duration": 19,
    "start_time": "2022-07-15T12:25:40.865Z"
   },
   {
    "duration": 20,
    "start_time": "2022-07-15T12:26:06.769Z"
   },
   {
    "duration": 21,
    "start_time": "2022-07-15T12:26:38.641Z"
   },
   {
    "duration": 17,
    "start_time": "2022-07-15T12:27:56.041Z"
   },
   {
    "duration": 11,
    "start_time": "2022-07-15T12:33:26.534Z"
   },
   {
    "duration": 8,
    "start_time": "2022-07-15T12:33:37.738Z"
   },
   {
    "duration": 8,
    "start_time": "2022-07-15T12:34:05.864Z"
   },
   {
    "duration": 106,
    "start_time": "2022-07-15T12:35:43.389Z"
   },
   {
    "duration": 31,
    "start_time": "2022-07-15T12:35:48.153Z"
   },
   {
    "duration": 164,
    "start_time": "2022-07-15T12:36:08.518Z"
   },
   {
    "duration": 12,
    "start_time": "2022-07-15T12:36:17.334Z"
   },
   {
    "duration": 17,
    "start_time": "2022-07-15T12:37:04.897Z"
   },
   {
    "duration": 15,
    "start_time": "2022-07-15T12:37:38.815Z"
   },
   {
    "duration": 8,
    "start_time": "2022-07-15T12:38:02.573Z"
   },
   {
    "duration": 13,
    "start_time": "2022-07-15T12:38:07.953Z"
   },
   {
    "duration": 1661,
    "start_time": "2022-07-15T12:38:42.798Z"
   },
   {
    "duration": 1249,
    "start_time": "2022-07-15T12:39:54.832Z"
   },
   {
    "duration": 8614,
    "start_time": "2022-07-15T12:40:11.679Z"
   },
   {
    "duration": 18,
    "start_time": "2022-07-15T12:41:20.312Z"
   },
   {
    "duration": 13,
    "start_time": "2022-07-15T12:41:55.912Z"
   },
   {
    "duration": 116,
    "start_time": "2022-07-15T12:42:19.629Z"
   },
   {
    "duration": 98,
    "start_time": "2022-07-15T12:45:03.732Z"
   },
   {
    "duration": 219,
    "start_time": "2022-07-15T12:45:26.501Z"
   },
   {
    "duration": 10,
    "start_time": "2022-07-15T12:47:36.185Z"
   },
   {
    "duration": 11,
    "start_time": "2022-07-15T12:47:40.404Z"
   },
   {
    "duration": 18,
    "start_time": "2022-07-15T12:48:13.961Z"
   },
   {
    "duration": 27,
    "start_time": "2022-07-15T12:48:20.809Z"
   },
   {
    "duration": 17,
    "start_time": "2022-07-15T12:48:43.633Z"
   },
   {
    "duration": 11,
    "start_time": "2022-07-15T12:48:59.437Z"
   },
   {
    "duration": 15,
    "start_time": "2022-07-15T12:49:08.787Z"
   },
   {
    "duration": 16,
    "start_time": "2022-07-15T12:50:53.873Z"
   },
   {
    "duration": 11,
    "start_time": "2022-07-15T12:51:01.957Z"
   },
   {
    "duration": 13,
    "start_time": "2022-07-15T12:51:27.494Z"
   },
   {
    "duration": 157,
    "start_time": "2022-07-15T12:51:45.785Z"
   },
   {
    "duration": 165,
    "start_time": "2022-07-15T12:52:05.982Z"
   },
   {
    "duration": 164,
    "start_time": "2022-07-15T12:53:23.365Z"
   },
   {
    "duration": 126,
    "start_time": "2022-07-15T12:53:43.228Z"
   },
   {
    "duration": 176,
    "start_time": "2022-07-15T12:53:50.380Z"
   },
   {
    "duration": 205,
    "start_time": "2022-07-15T12:54:03.718Z"
   },
   {
    "duration": 371,
    "start_time": "2022-07-15T12:54:16.479Z"
   },
   {
    "duration": 154,
    "start_time": "2022-07-15T12:55:14.786Z"
   },
   {
    "duration": 144,
    "start_time": "2022-07-15T12:55:21.120Z"
   },
   {
    "duration": 155,
    "start_time": "2022-07-15T12:55:42.560Z"
   },
   {
    "duration": 83,
    "start_time": "2022-07-15T12:55:58.518Z"
   },
   {
    "duration": 194,
    "start_time": "2022-07-15T12:56:25.257Z"
   },
   {
    "duration": 32,
    "start_time": "2022-07-15T12:56:35.873Z"
   },
   {
    "duration": 120,
    "start_time": "2022-07-15T12:56:57.917Z"
   },
   {
    "duration": 20,
    "start_time": "2022-07-15T12:57:08.197Z"
   },
   {
    "duration": 21,
    "start_time": "2022-07-15T12:59:31.869Z"
   },
   {
    "duration": 10,
    "start_time": "2022-07-15T12:59:47.441Z"
   },
   {
    "duration": 161,
    "start_time": "2022-07-15T12:59:57.881Z"
   },
   {
    "duration": 154,
    "start_time": "2022-07-15T13:00:13.885Z"
   },
   {
    "duration": 220,
    "start_time": "2022-07-15T13:00:26.604Z"
   },
   {
    "duration": 13,
    "start_time": "2022-07-15T13:00:50.946Z"
   },
   {
    "duration": 14,
    "start_time": "2022-07-15T13:02:48.151Z"
   },
   {
    "duration": 98,
    "start_time": "2022-07-15T13:03:22.614Z"
   },
   {
    "duration": 131,
    "start_time": "2022-07-15T13:03:40.138Z"
   },
   {
    "duration": 17,
    "start_time": "2022-07-15T13:03:52.649Z"
   },
   {
    "duration": 12,
    "start_time": "2022-07-15T13:04:20.103Z"
   },
   {
    "duration": 23,
    "start_time": "2022-07-15T13:04:25.389Z"
   },
   {
    "duration": 21,
    "start_time": "2022-07-15T13:05:24.470Z"
   },
   {
    "duration": 99,
    "start_time": "2022-07-15T13:05:36.547Z"
   },
   {
    "duration": 20,
    "start_time": "2022-07-15T13:05:42.262Z"
   },
   {
    "duration": 170,
    "start_time": "2022-07-15T13:05:51.652Z"
   },
   {
    "duration": 235,
    "start_time": "2022-07-15T13:06:18.742Z"
   },
   {
    "duration": 150,
    "start_time": "2022-07-15T13:06:45.417Z"
   },
   {
    "duration": 158,
    "start_time": "2022-07-15T13:07:40.895Z"
   },
   {
    "duration": 126,
    "start_time": "2022-07-15T13:07:45.698Z"
   },
   {
    "duration": 157,
    "start_time": "2022-07-15T13:07:54.022Z"
   },
   {
    "duration": 168,
    "start_time": "2022-07-15T13:08:04.168Z"
   },
   {
    "duration": 239,
    "start_time": "2022-07-15T13:08:16.686Z"
   },
   {
    "duration": 16,
    "start_time": "2022-07-15T13:10:21.130Z"
   },
   {
    "duration": 195,
    "start_time": "2022-07-15T13:10:43.595Z"
   },
   {
    "duration": 21,
    "start_time": "2022-07-15T13:11:32.803Z"
   },
   {
    "duration": 139,
    "start_time": "2022-07-15T13:11:42.903Z"
   },
   {
    "duration": 175,
    "start_time": "2022-07-15T13:12:14.328Z"
   },
   {
    "duration": 13,
    "start_time": "2022-07-15T13:15:32.617Z"
   },
   {
    "duration": 13,
    "start_time": "2022-07-15T13:15:59.008Z"
   },
   {
    "duration": 9,
    "start_time": "2022-07-15T13:16:15.395Z"
   },
   {
    "duration": 14,
    "start_time": "2022-07-15T13:16:20.080Z"
   },
   {
    "duration": 9,
    "start_time": "2022-07-15T13:16:34.062Z"
   },
   {
    "duration": 117,
    "start_time": "2022-07-15T13:16:37.945Z"
   },
   {
    "duration": 18,
    "start_time": "2022-07-15T13:20:02.981Z"
   },
   {
    "duration": 27,
    "start_time": "2022-07-15T13:20:09.907Z"
   },
   {
    "duration": 32,
    "start_time": "2022-07-15T13:20:45.331Z"
   },
   {
    "duration": 25,
    "start_time": "2022-07-15T13:21:00.527Z"
   },
   {
    "duration": 20,
    "start_time": "2022-07-15T13:21:12.340Z"
   },
   {
    "duration": 44,
    "start_time": "2022-07-16T10:08:28.541Z"
   },
   {
    "duration": 1316,
    "start_time": "2022-07-16T10:08:32.152Z"
   },
   {
    "duration": 254,
    "start_time": "2022-07-16T10:08:33.470Z"
   },
   {
    "duration": 14,
    "start_time": "2022-07-16T10:08:33.726Z"
   },
   {
    "duration": 20,
    "start_time": "2022-07-16T10:08:33.742Z"
   },
   {
    "duration": 14,
    "start_time": "2022-07-16T10:08:33.764Z"
   },
   {
    "duration": 820,
    "start_time": "2022-07-16T10:08:33.779Z"
   },
   {
    "duration": 0,
    "start_time": "2022-07-16T10:08:34.600Z"
   },
   {
    "duration": 0,
    "start_time": "2022-07-16T10:08:34.601Z"
   },
   {
    "duration": 0,
    "start_time": "2022-07-16T10:08:34.603Z"
   },
   {
    "duration": 0,
    "start_time": "2022-07-16T10:08:34.604Z"
   },
   {
    "duration": 189,
    "start_time": "2022-07-16T10:08:50.610Z"
   },
   {
    "duration": 11,
    "start_time": "2022-07-16T10:08:53.838Z"
   },
   {
    "duration": 110,
    "start_time": "2022-07-16T10:08:55.481Z"
   },
   {
    "duration": 15,
    "start_time": "2022-07-16T10:08:58.272Z"
   },
   {
    "duration": 20,
    "start_time": "2022-07-16T10:09:15.547Z"
   },
   {
    "duration": 15,
    "start_time": "2022-07-16T10:09:48.877Z"
   },
   {
    "duration": 12,
    "start_time": "2022-07-16T10:27:04.828Z"
   },
   {
    "duration": 14,
    "start_time": "2022-07-16T10:27:26.188Z"
   },
   {
    "duration": 17,
    "start_time": "2022-07-16T10:27:45.765Z"
   },
   {
    "duration": 12,
    "start_time": "2022-07-16T10:37:33.801Z"
   },
   {
    "duration": 17,
    "start_time": "2022-07-16T10:40:59.180Z"
   },
   {
    "duration": 14,
    "start_time": "2022-07-16T10:41:27.333Z"
   },
   {
    "duration": 16,
    "start_time": "2022-07-16T10:42:16.912Z"
   },
   {
    "duration": 5,
    "start_time": "2022-07-16T10:43:53.306Z"
   },
   {
    "duration": 13,
    "start_time": "2022-07-16T10:46:56.256Z"
   },
   {
    "duration": 9,
    "start_time": "2022-07-16T10:47:03.308Z"
   },
   {
    "duration": 16,
    "start_time": "2022-07-16T10:47:57.875Z"
   },
   {
    "duration": 20,
    "start_time": "2022-07-16T10:52:48.951Z"
   },
   {
    "duration": 14,
    "start_time": "2022-07-16T10:53:09.837Z"
   },
   {
    "duration": 11,
    "start_time": "2022-07-16T10:53:19.239Z"
   },
   {
    "duration": 13,
    "start_time": "2022-07-16T11:01:02.233Z"
   },
   {
    "duration": 14,
    "start_time": "2022-07-16T11:04:41.110Z"
   },
   {
    "duration": 53,
    "start_time": "2022-07-16T11:06:43.176Z"
   },
   {
    "duration": 3,
    "start_time": "2022-07-16T11:07:16.915Z"
   },
   {
    "duration": 77,
    "start_time": "2022-07-16T11:07:19.373Z"
   },
   {
    "duration": 62,
    "start_time": "2022-07-16T11:07:24.043Z"
   },
   {
    "duration": 68,
    "start_time": "2022-07-16T11:10:01.995Z"
   },
   {
    "duration": 62,
    "start_time": "2022-07-16T11:10:25.891Z"
   },
   {
    "duration": 58,
    "start_time": "2022-07-16T11:10:37.357Z"
   },
   {
    "duration": 59,
    "start_time": "2022-07-16T11:10:42.637Z"
   },
   {
    "duration": 55,
    "start_time": "2022-07-16T11:11:09.365Z"
   },
   {
    "duration": 54,
    "start_time": "2022-07-16T11:11:13.909Z"
   },
   {
    "duration": 53,
    "start_time": "2022-07-16T11:11:18.798Z"
   },
   {
    "duration": 4,
    "start_time": "2022-07-16T11:13:40.614Z"
   },
   {
    "duration": 91,
    "start_time": "2022-07-16T11:13:41.032Z"
   },
   {
    "duration": 49,
    "start_time": "2022-07-16T11:16:13.743Z"
   },
   {
    "duration": 9,
    "start_time": "2022-07-16T11:16:19.245Z"
   },
   {
    "duration": 9,
    "start_time": "2022-07-16T11:16:26.109Z"
   },
   {
    "duration": 11,
    "start_time": "2022-07-16T11:16:32.047Z"
   },
   {
    "duration": 7,
    "start_time": "2022-07-16T11:18:25.744Z"
   },
   {
    "duration": 10,
    "start_time": "2022-07-16T11:20:43.810Z"
   },
   {
    "duration": 59,
    "start_time": "2022-07-16T11:21:00.449Z"
   },
   {
    "duration": 19,
    "start_time": "2022-07-16T11:21:14.800Z"
   },
   {
    "duration": 3,
    "start_time": "2022-07-16T11:22:34.077Z"
   },
   {
    "duration": 89,
    "start_time": "2022-07-16T11:22:34.557Z"
   },
   {
    "duration": 18,
    "start_time": "2022-07-16T11:22:35.258Z"
   },
   {
    "duration": 17,
    "start_time": "2022-07-16T11:23:03.452Z"
   },
   {
    "duration": 4,
    "start_time": "2022-07-16T11:23:18.311Z"
   },
   {
    "duration": 97,
    "start_time": "2022-07-16T11:23:18.683Z"
   },
   {
    "duration": 17,
    "start_time": "2022-07-16T11:23:19.689Z"
   },
   {
    "duration": 92,
    "start_time": "2022-07-16T11:26:06.103Z"
   },
   {
    "duration": 5,
    "start_time": "2022-07-16T11:26:06.848Z"
   },
   {
    "duration": 10,
    "start_time": "2022-07-16T11:27:43.762Z"
   },
   {
    "duration": 11,
    "start_time": "2022-07-16T11:28:38.263Z"
   },
   {
    "duration": 14,
    "start_time": "2022-07-16T11:28:43.811Z"
   },
   {
    "duration": 14,
    "start_time": "2022-07-16T11:29:01.877Z"
   },
   {
    "duration": 15,
    "start_time": "2022-07-16T11:29:15.560Z"
   },
   {
    "duration": 14,
    "start_time": "2022-07-16T11:29:20.457Z"
   },
   {
    "duration": 11,
    "start_time": "2022-07-16T11:31:44.287Z"
   },
   {
    "duration": 13,
    "start_time": "2022-07-16T11:31:49.964Z"
   },
   {
    "duration": 17,
    "start_time": "2022-07-16T11:31:56.046Z"
   },
   {
    "duration": 157,
    "start_time": "2022-07-16T11:50:37.555Z"
   },
   {
    "duration": 11,
    "start_time": "2022-07-16T11:50:56.598Z"
   },
   {
    "duration": 8,
    "start_time": "2022-07-16T11:51:24.027Z"
   },
   {
    "duration": 156,
    "start_time": "2022-07-16T11:51:31.319Z"
   },
   {
    "duration": 10,
    "start_time": "2022-07-16T11:52:01.408Z"
   },
   {
    "duration": 131,
    "start_time": "2022-07-16T11:52:08.548Z"
   },
   {
    "duration": 115,
    "start_time": "2022-07-16T11:52:20.830Z"
   },
   {
    "duration": 136,
    "start_time": "2022-07-16T11:52:34.644Z"
   },
   {
    "duration": 116,
    "start_time": "2022-07-16T11:52:42.193Z"
   },
   {
    "duration": 200,
    "start_time": "2022-07-16T11:52:46.721Z"
   },
   {
    "duration": 124,
    "start_time": "2022-07-16T11:53:05.623Z"
   },
   {
    "duration": 130,
    "start_time": "2022-07-16T11:53:30.363Z"
   },
   {
    "duration": 140,
    "start_time": "2022-07-16T11:56:03.295Z"
   },
   {
    "duration": 9,
    "start_time": "2022-07-16T12:47:52.973Z"
   },
   {
    "duration": 148,
    "start_time": "2022-07-16T12:51:00.663Z"
   },
   {
    "duration": 137,
    "start_time": "2022-07-16T12:51:07.547Z"
   },
   {
    "duration": 197,
    "start_time": "2022-07-16T12:51:21.255Z"
   },
   {
    "duration": 4,
    "start_time": "2022-07-16T12:52:01.859Z"
   },
   {
    "duration": 11,
    "start_time": "2022-07-16T12:53:44.256Z"
   },
   {
    "duration": 5,
    "start_time": "2022-07-16T12:53:49.449Z"
   },
   {
    "duration": 4,
    "start_time": "2022-07-16T12:53:52.829Z"
   },
   {
    "duration": 14,
    "start_time": "2022-07-16T12:53:53.267Z"
   },
   {
    "duration": 166,
    "start_time": "2022-07-16T12:53:53.758Z"
   },
   {
    "duration": 151,
    "start_time": "2022-07-16T12:54:08.974Z"
   },
   {
    "duration": 4,
    "start_time": "2022-07-16T12:54:45.035Z"
   },
   {
    "duration": 201,
    "start_time": "2022-07-16T12:54:45.739Z"
   },
   {
    "duration": 40,
    "start_time": "2022-07-16T12:55:18.450Z"
   },
   {
    "duration": 4,
    "start_time": "2022-07-16T12:55:42.058Z"
   },
   {
    "duration": 5,
    "start_time": "2022-07-16T12:55:57.597Z"
   },
   {
    "duration": 198,
    "start_time": "2022-07-16T12:56:00.382Z"
   },
   {
    "duration": 206,
    "start_time": "2022-07-16T12:56:22.838Z"
   },
   {
    "duration": 15,
    "start_time": "2022-07-16T12:56:31.974Z"
   },
   {
    "duration": 190,
    "start_time": "2022-07-16T12:56:32.379Z"
   },
   {
    "duration": 129,
    "start_time": "2022-07-16T12:56:59.929Z"
   },
   {
    "duration": 225,
    "start_time": "2022-07-16T12:57:04.237Z"
   },
   {
    "duration": 148,
    "start_time": "2022-07-16T13:02:39.212Z"
   },
   {
    "duration": 158,
    "start_time": "2022-07-16T13:02:47.876Z"
   },
   {
    "duration": 185,
    "start_time": "2022-07-16T13:02:55.299Z"
   },
   {
    "duration": 142,
    "start_time": "2022-07-16T13:03:01.401Z"
   },
   {
    "duration": 6,
    "start_time": "2022-07-16T13:04:32.257Z"
   },
   {
    "duration": 6,
    "start_time": "2022-07-16T13:04:34.346Z"
   },
   {
    "duration": 151,
    "start_time": "2022-07-16T13:05:04.707Z"
   },
   {
    "duration": 154,
    "start_time": "2022-07-16T13:05:15.006Z"
   },
   {
    "duration": 157,
    "start_time": "2022-07-16T13:05:23.702Z"
   },
   {
    "duration": 156,
    "start_time": "2022-07-16T13:06:35.763Z"
   },
   {
    "duration": 145,
    "start_time": "2022-07-16T13:07:42.722Z"
   },
   {
    "duration": 6,
    "start_time": "2022-07-16T13:09:40.711Z"
   },
   {
    "duration": 195,
    "start_time": "2022-07-16T13:09:41.187Z"
   },
   {
    "duration": 150,
    "start_time": "2022-07-16T13:09:43.748Z"
   },
   {
    "duration": 5,
    "start_time": "2022-07-16T13:10:18.401Z"
   },
   {
    "duration": 204,
    "start_time": "2022-07-16T13:10:18.868Z"
   },
   {
    "duration": 161,
    "start_time": "2022-07-16T13:10:21.182Z"
   },
   {
    "duration": 5,
    "start_time": "2022-07-16T13:10:37.187Z"
   },
   {
    "duration": 187,
    "start_time": "2022-07-16T13:10:37.622Z"
   },
   {
    "duration": 211,
    "start_time": "2022-07-16T13:10:46.885Z"
   },
   {
    "duration": 8,
    "start_time": "2022-07-16T13:12:13.618Z"
   },
   {
    "duration": 307,
    "start_time": "2022-07-16T13:12:14.008Z"
   },
   {
    "duration": 155,
    "start_time": "2022-07-16T13:12:18.458Z"
   },
   {
    "duration": 15,
    "start_time": "2022-07-16T13:12:45.678Z"
   },
   {
    "duration": 4,
    "start_time": "2022-07-16T13:12:51.415Z"
   },
   {
    "duration": 5,
    "start_time": "2022-07-16T13:13:02.781Z"
   },
   {
    "duration": 211,
    "start_time": "2022-07-16T13:13:03.410Z"
   },
   {
    "duration": 4,
    "start_time": "2022-07-16T13:13:14.021Z"
   },
   {
    "duration": 228,
    "start_time": "2022-07-16T13:13:14.561Z"
   },
   {
    "duration": 12,
    "start_time": "2022-07-16T13:13:16.202Z"
   },
   {
    "duration": 183,
    "start_time": "2022-07-16T13:13:16.613Z"
   },
   {
    "duration": 153,
    "start_time": "2022-07-16T13:15:25.988Z"
   },
   {
    "duration": 142,
    "start_time": "2022-07-16T13:15:33.180Z"
   },
   {
    "duration": 253,
    "start_time": "2022-07-16T13:16:58.026Z"
   },
   {
    "duration": 145,
    "start_time": "2022-07-16T13:17:07.654Z"
   },
   {
    "duration": 195,
    "start_time": "2022-07-16T13:19:05.647Z"
   },
   {
    "duration": 141,
    "start_time": "2022-07-16T13:19:54.206Z"
   },
   {
    "duration": 192,
    "start_time": "2022-07-16T13:20:01.495Z"
   },
   {
    "duration": 210,
    "start_time": "2022-07-16T13:20:15.600Z"
   },
   {
    "duration": 257,
    "start_time": "2022-07-16T13:54:33.978Z"
   },
   {
    "duration": 14,
    "start_time": "2022-07-16T13:55:03.241Z"
   },
   {
    "duration": 177,
    "start_time": "2022-07-16T13:55:11.523Z"
   },
   {
    "duration": 17,
    "start_time": "2022-07-16T13:55:29.225Z"
   },
   {
    "duration": 201,
    "start_time": "2022-07-16T13:55:38.785Z"
   },
   {
    "duration": 163,
    "start_time": "2022-07-16T13:55:59.196Z"
   },
   {
    "duration": 170,
    "start_time": "2022-07-16T13:56:03.187Z"
   },
   {
    "duration": 178,
    "start_time": "2022-07-16T13:56:50.523Z"
   },
   {
    "duration": 177,
    "start_time": "2022-07-16T13:56:55.448Z"
   },
   {
    "duration": 202,
    "start_time": "2022-07-16T13:57:14.373Z"
   },
   {
    "duration": 199,
    "start_time": "2022-07-16T13:57:18.640Z"
   },
   {
    "duration": 199,
    "start_time": "2022-07-16T13:58:11.515Z"
   },
   {
    "duration": 182,
    "start_time": "2022-07-16T13:58:34.874Z"
   },
   {
    "duration": 197,
    "start_time": "2022-07-16T14:00:35.110Z"
   },
   {
    "duration": 190,
    "start_time": "2022-07-16T14:01:18.486Z"
   },
   {
    "duration": 300,
    "start_time": "2022-07-16T14:01:23.300Z"
   },
   {
    "duration": 191,
    "start_time": "2022-07-16T14:01:29.713Z"
   },
   {
    "duration": 207,
    "start_time": "2022-07-16T14:01:35.123Z"
   },
   {
    "duration": 182,
    "start_time": "2022-07-16T14:03:51.719Z"
   },
   {
    "duration": 182,
    "start_time": "2022-07-16T14:04:02.924Z"
   },
   {
    "duration": 175,
    "start_time": "2022-07-16T14:04:11.446Z"
   },
   {
    "duration": 7,
    "start_time": "2022-07-16T14:08:17.674Z"
   },
   {
    "duration": 188,
    "start_time": "2022-07-16T14:08:18.174Z"
   },
   {
    "duration": 4,
    "start_time": "2022-07-16T14:08:37.790Z"
   },
   {
    "duration": 203,
    "start_time": "2022-07-16T14:08:38.122Z"
   },
   {
    "duration": 4,
    "start_time": "2022-07-16T14:08:59.388Z"
   },
   {
    "duration": 199,
    "start_time": "2022-07-16T14:09:00.049Z"
   },
   {
    "duration": 5,
    "start_time": "2022-07-16T14:09:45.293Z"
   },
   {
    "duration": 184,
    "start_time": "2022-07-16T14:09:46.044Z"
   },
   {
    "duration": 9,
    "start_time": "2022-07-16T14:09:50.670Z"
   },
   {
    "duration": 207,
    "start_time": "2022-07-16T14:09:51.044Z"
   },
   {
    "duration": 5,
    "start_time": "2022-07-16T14:10:46.727Z"
   },
   {
    "duration": 190,
    "start_time": "2022-07-16T14:10:48.279Z"
   },
   {
    "duration": 5,
    "start_time": "2022-07-16T14:10:53.504Z"
   },
   {
    "duration": 190,
    "start_time": "2022-07-16T14:10:54.090Z"
   },
   {
    "duration": 11,
    "start_time": "2022-07-16T14:11:39.634Z"
   },
   {
    "duration": 165,
    "start_time": "2022-07-16T14:11:42.545Z"
   },
   {
    "duration": 75,
    "start_time": "2022-07-16T14:12:48.483Z"
   },
   {
    "duration": 8,
    "start_time": "2022-07-16T14:13:54.473Z"
   },
   {
    "duration": 331,
    "start_time": "2022-07-16T14:13:54.900Z"
   },
   {
    "duration": 11,
    "start_time": "2022-07-16T14:13:57.519Z"
   },
   {
    "duration": 100,
    "start_time": "2022-07-16T14:13:58.024Z"
   },
   {
    "duration": 4,
    "start_time": "2022-07-16T14:14:34.950Z"
   },
   {
    "duration": 198,
    "start_time": "2022-07-16T14:14:35.323Z"
   },
   {
    "duration": 12,
    "start_time": "2022-07-16T14:14:37.361Z"
   },
   {
    "duration": 84,
    "start_time": "2022-07-16T14:14:37.924Z"
   },
   {
    "duration": 13,
    "start_time": "2022-07-16T14:14:43.415Z"
   },
   {
    "duration": 218,
    "start_time": "2022-07-16T14:14:43.895Z"
   },
   {
    "duration": 204,
    "start_time": "2022-07-16T14:15:03.744Z"
   },
   {
    "duration": 190,
    "start_time": "2022-07-16T14:15:31.451Z"
   },
   {
    "duration": 191,
    "start_time": "2022-07-16T14:15:49.866Z"
   },
   {
    "duration": 182,
    "start_time": "2022-07-16T14:15:58.207Z"
   },
   {
    "duration": 177,
    "start_time": "2022-07-16T14:16:35.770Z"
   },
   {
    "duration": 194,
    "start_time": "2022-07-16T14:16:55.293Z"
   },
   {
    "duration": 196,
    "start_time": "2022-07-16T14:17:00.962Z"
   },
   {
    "duration": 197,
    "start_time": "2022-07-16T14:17:07.858Z"
   },
   {
    "duration": 157,
    "start_time": "2022-07-16T14:17:11.473Z"
   },
   {
    "duration": 184,
    "start_time": "2022-07-16T14:17:14.399Z"
   },
   {
    "duration": 10,
    "start_time": "2022-07-16T14:18:57.170Z"
   },
   {
    "duration": 9,
    "start_time": "2022-07-16T14:18:59.338Z"
   },
   {
    "duration": 220,
    "start_time": "2022-07-16T14:18:59.685Z"
   },
   {
    "duration": 199,
    "start_time": "2022-07-16T14:19:03.823Z"
   },
   {
    "duration": 313,
    "start_time": "2022-07-16T14:20:10.223Z"
   },
   {
    "duration": 193,
    "start_time": "2022-07-16T14:20:15.644Z"
   },
   {
    "duration": 177,
    "start_time": "2022-07-16T14:22:02.600Z"
   },
   {
    "duration": 181,
    "start_time": "2022-07-16T14:23:57.008Z"
   },
   {
    "duration": 221,
    "start_time": "2022-07-16T14:24:05.670Z"
   },
   {
    "duration": 186,
    "start_time": "2022-07-16T14:24:11.943Z"
   },
   {
    "duration": 180,
    "start_time": "2022-07-16T14:24:25.258Z"
   },
   {
    "duration": 5,
    "start_time": "2022-07-16T14:26:27.861Z"
   },
   {
    "duration": 30,
    "start_time": "2022-07-16T14:26:27.868Z"
   },
   {
    "duration": 0,
    "start_time": "2022-07-16T14:26:27.900Z"
   },
   {
    "duration": 0,
    "start_time": "2022-07-16T14:26:27.902Z"
   },
   {
    "duration": 0,
    "start_time": "2022-07-16T14:26:27.902Z"
   },
   {
    "duration": 0,
    "start_time": "2022-07-16T14:26:27.904Z"
   },
   {
    "duration": 0,
    "start_time": "2022-07-16T14:26:27.905Z"
   },
   {
    "duration": 0,
    "start_time": "2022-07-16T14:26:27.906Z"
   },
   {
    "duration": 12,
    "start_time": "2022-07-16T14:26:50.450Z"
   },
   {
    "duration": 3,
    "start_time": "2022-07-16T14:26:51.355Z"
   },
   {
    "duration": 163,
    "start_time": "2022-07-16T14:26:51.841Z"
   },
   {
    "duration": 200,
    "start_time": "2022-07-16T14:27:17.569Z"
   },
   {
    "duration": 228,
    "start_time": "2022-07-16T14:27:28.674Z"
   },
   {
    "duration": 11,
    "start_time": "2022-07-16T14:27:40.605Z"
   },
   {
    "duration": 13,
    "start_time": "2022-07-16T14:27:47.097Z"
   },
   {
    "duration": 4,
    "start_time": "2022-07-16T14:27:47.412Z"
   },
   {
    "duration": 188,
    "start_time": "2022-07-16T14:27:48.101Z"
   },
   {
    "duration": 2410,
    "start_time": "2022-07-16T14:28:39.509Z"
   },
   {
    "duration": 11,
    "start_time": "2022-07-16T14:28:42.042Z"
   },
   {
    "duration": 4,
    "start_time": "2022-07-16T14:28:55.846Z"
   },
   {
    "duration": 259,
    "start_time": "2022-07-16T14:28:56.177Z"
   },
   {
    "duration": 188,
    "start_time": "2022-07-16T14:29:07.989Z"
   },
   {
    "duration": 218,
    "start_time": "2022-07-16T14:29:32.456Z"
   },
   {
    "duration": 263,
    "start_time": "2022-07-16T14:29:56.309Z"
   },
   {
    "duration": 194,
    "start_time": "2022-07-16T14:31:55.341Z"
   },
   {
    "duration": 219,
    "start_time": "2022-07-16T14:32:01.077Z"
   },
   {
    "duration": 195,
    "start_time": "2022-07-16T14:32:19.367Z"
   },
   {
    "duration": 206,
    "start_time": "2022-07-16T14:32:48.489Z"
   },
   {
    "duration": 209,
    "start_time": "2022-07-16T14:33:04.606Z"
   },
   {
    "duration": 280,
    "start_time": "2022-07-16T14:33:16.417Z"
   },
   {
    "duration": 231,
    "start_time": "2022-07-16T14:34:05.786Z"
   },
   {
    "duration": 20,
    "start_time": "2022-07-16T14:35:36.588Z"
   },
   {
    "duration": 207,
    "start_time": "2022-07-16T14:35:41.181Z"
   },
   {
    "duration": 262,
    "start_time": "2022-07-16T14:36:02.846Z"
   },
   {
    "duration": 13,
    "start_time": "2022-07-16T14:36:08.289Z"
   },
   {
    "duration": 10,
    "start_time": "2022-07-16T14:36:16.965Z"
   },
   {
    "duration": 12,
    "start_time": "2022-07-16T14:36:20.618Z"
   },
   {
    "duration": 11,
    "start_time": "2022-07-16T14:36:25.380Z"
   },
   {
    "duration": 10,
    "start_time": "2022-07-16T14:36:29.222Z"
   },
   {
    "duration": 11,
    "start_time": "2022-07-16T14:36:35.117Z"
   },
   {
    "duration": 12,
    "start_time": "2022-07-16T14:36:38.894Z"
   },
   {
    "duration": 13,
    "start_time": "2022-07-16T14:36:40.703Z"
   },
   {
    "duration": 13,
    "start_time": "2022-07-16T14:36:48.755Z"
   },
   {
    "duration": 14,
    "start_time": "2022-07-16T14:36:49.421Z"
   },
   {
    "duration": 14,
    "start_time": "2022-07-16T14:36:51.666Z"
   },
   {
    "duration": 180,
    "start_time": "2022-07-16T14:36:53.474Z"
   },
   {
    "duration": 10,
    "start_time": "2022-07-16T14:36:53.811Z"
   },
   {
    "duration": 4,
    "start_time": "2022-07-16T14:36:58.314Z"
   },
   {
    "duration": 176,
    "start_time": "2022-07-16T14:36:58.791Z"
   },
   {
    "duration": 13,
    "start_time": "2022-07-16T14:37:00.559Z"
   },
   {
    "duration": 11,
    "start_time": "2022-07-16T14:37:09.498Z"
   },
   {
    "duration": 3,
    "start_time": "2022-07-16T14:37:11.872Z"
   },
   {
    "duration": 75,
    "start_time": "2022-07-16T14:37:11.877Z"
   },
   {
    "duration": 12,
    "start_time": "2022-07-16T14:37:11.954Z"
   },
   {
    "duration": 24,
    "start_time": "2022-07-16T14:37:11.969Z"
   },
   {
    "duration": 10,
    "start_time": "2022-07-16T14:37:11.995Z"
   },
   {
    "duration": 12,
    "start_time": "2022-07-16T14:37:12.007Z"
   },
   {
    "duration": 4,
    "start_time": "2022-07-16T14:37:12.020Z"
   },
   {
    "duration": 331,
    "start_time": "2022-07-16T14:37:12.026Z"
   },
   {
    "duration": 185,
    "start_time": "2022-07-16T14:37:12.360Z"
   },
   {
    "duration": 182,
    "start_time": "2022-07-16T14:37:21.673Z"
   },
   {
    "duration": 185,
    "start_time": "2022-07-16T14:37:47.361Z"
   },
   {
    "duration": 3,
    "start_time": "2022-07-16T14:37:50.140Z"
   },
   {
    "duration": 97,
    "start_time": "2022-07-16T14:37:50.146Z"
   },
   {
    "duration": 17,
    "start_time": "2022-07-16T14:37:50.246Z"
   },
   {
    "duration": 25,
    "start_time": "2022-07-16T14:37:50.265Z"
   },
   {
    "duration": 14,
    "start_time": "2022-07-16T14:37:50.293Z"
   },
   {
    "duration": 13,
    "start_time": "2022-07-16T14:37:50.309Z"
   },
   {
    "duration": 2,
    "start_time": "2022-07-16T14:37:50.324Z"
   },
   {
    "duration": 213,
    "start_time": "2022-07-16T14:37:50.328Z"
   },
   {
    "duration": 179,
    "start_time": "2022-07-16T14:37:53.306Z"
   },
   {
    "duration": 3,
    "start_time": "2022-07-16T14:38:05.097Z"
   },
   {
    "duration": 89,
    "start_time": "2022-07-16T14:38:05.103Z"
   },
   {
    "duration": 13,
    "start_time": "2022-07-16T14:38:05.194Z"
   },
   {
    "duration": 39,
    "start_time": "2022-07-16T14:38:05.209Z"
   },
   {
    "duration": 28,
    "start_time": "2022-07-16T14:38:05.250Z"
   },
   {
    "duration": 35,
    "start_time": "2022-07-16T14:38:05.280Z"
   },
   {
    "duration": 9,
    "start_time": "2022-07-16T14:38:05.317Z"
   },
   {
    "duration": 4,
    "start_time": "2022-07-16T14:38:06.272Z"
   },
   {
    "duration": 185,
    "start_time": "2022-07-16T14:38:06.714Z"
   },
   {
    "duration": 188,
    "start_time": "2022-07-16T14:38:09.582Z"
   },
   {
    "duration": 3,
    "start_time": "2022-07-16T14:38:17.838Z"
   },
   {
    "duration": 75,
    "start_time": "2022-07-16T14:38:17.844Z"
   },
   {
    "duration": 13,
    "start_time": "2022-07-16T14:38:17.921Z"
   },
   {
    "duration": 20,
    "start_time": "2022-07-16T14:38:17.936Z"
   },
   {
    "duration": 11,
    "start_time": "2022-07-16T14:38:17.958Z"
   },
   {
    "duration": 14,
    "start_time": "2022-07-16T14:38:17.971Z"
   },
   {
    "duration": 34,
    "start_time": "2022-07-16T14:38:17.986Z"
   },
   {
    "duration": 199,
    "start_time": "2022-07-16T14:38:18.022Z"
   },
   {
    "duration": 179,
    "start_time": "2022-07-16T14:38:20.246Z"
   },
   {
    "duration": 6,
    "start_time": "2022-07-16T15:43:13.910Z"
   },
   {
    "duration": 169,
    "start_time": "2022-07-16T15:45:58.187Z"
   },
   {
    "duration": 186,
    "start_time": "2022-07-16T15:46:45.226Z"
   },
   {
    "duration": 13,
    "start_time": "2022-07-16T15:47:02.020Z"
   },
   {
    "duration": 4,
    "start_time": "2022-07-16T15:47:05.524Z"
   },
   {
    "duration": 94,
    "start_time": "2022-07-16T15:47:05.529Z"
   },
   {
    "duration": 14,
    "start_time": "2022-07-16T15:47:05.626Z"
   },
   {
    "duration": 53,
    "start_time": "2022-07-16T15:47:05.641Z"
   },
   {
    "duration": 45,
    "start_time": "2022-07-16T15:47:05.697Z"
   },
   {
    "duration": 32,
    "start_time": "2022-07-16T15:47:05.744Z"
   },
   {
    "duration": 51,
    "start_time": "2022-07-16T15:47:05.780Z"
   },
   {
    "duration": 170,
    "start_time": "2022-07-16T15:47:07.077Z"
   },
   {
    "duration": 214,
    "start_time": "2022-07-16T15:47:28.389Z"
   },
   {
    "duration": 196,
    "start_time": "2022-07-16T15:47:33.039Z"
   },
   {
    "duration": 337,
    "start_time": "2022-07-16T15:47:33.482Z"
   },
   {
    "duration": 7,
    "start_time": "2022-07-16T15:47:41.286Z"
   },
   {
    "duration": 179,
    "start_time": "2022-07-16T15:47:41.680Z"
   },
   {
    "duration": 187,
    "start_time": "2022-07-16T15:47:42.392Z"
   },
   {
    "duration": 9,
    "start_time": "2022-07-16T15:47:48.089Z"
   },
   {
    "duration": 100,
    "start_time": "2022-07-16T15:47:48.102Z"
   },
   {
    "duration": 14,
    "start_time": "2022-07-16T15:47:48.206Z"
   },
   {
    "duration": 48,
    "start_time": "2022-07-16T15:47:48.223Z"
   },
   {
    "duration": 28,
    "start_time": "2022-07-16T15:47:48.275Z"
   },
   {
    "duration": 23,
    "start_time": "2022-07-16T15:47:48.307Z"
   },
   {
    "duration": 3,
    "start_time": "2022-07-16T15:47:48.332Z"
   },
   {
    "duration": 8,
    "start_time": "2022-07-16T15:47:49.983Z"
   },
   {
    "duration": 214,
    "start_time": "2022-07-16T15:47:50.500Z"
   },
   {
    "duration": 212,
    "start_time": "2022-07-16T15:47:52.299Z"
   },
   {
    "duration": 215,
    "start_time": "2022-07-16T15:48:44.713Z"
   },
   {
    "duration": 278,
    "start_time": "2022-07-16T15:49:32.796Z"
   },
   {
    "duration": 269,
    "start_time": "2022-07-16T15:49:42.925Z"
   },
   {
    "duration": 6,
    "start_time": "2022-07-16T15:49:45.564Z"
   },
   {
    "duration": 106,
    "start_time": "2022-07-16T15:49:45.576Z"
   },
   {
    "duration": 17,
    "start_time": "2022-07-16T15:49:45.686Z"
   },
   {
    "duration": 23,
    "start_time": "2022-07-16T15:49:45.705Z"
   },
   {
    "duration": 44,
    "start_time": "2022-07-16T15:49:45.730Z"
   },
   {
    "duration": 17,
    "start_time": "2022-07-16T15:49:45.786Z"
   },
   {
    "duration": 4,
    "start_time": "2022-07-16T15:49:45.804Z"
   },
   {
    "duration": 10,
    "start_time": "2022-07-16T15:49:47.863Z"
   },
   {
    "duration": 293,
    "start_time": "2022-07-16T15:49:48.485Z"
   },
   {
    "duration": 226,
    "start_time": "2022-07-16T15:49:49.519Z"
   },
   {
    "duration": 207,
    "start_time": "2022-07-16T15:50:06.545Z"
   },
   {
    "duration": 158,
    "start_time": "2022-07-16T15:50:41.773Z"
   },
   {
    "duration": 173,
    "start_time": "2022-07-16T15:50:50.757Z"
   },
   {
    "duration": 168,
    "start_time": "2022-07-16T15:50:53.461Z"
   },
   {
    "duration": 187,
    "start_time": "2022-07-16T15:51:17.602Z"
   },
   {
    "duration": 191,
    "start_time": "2022-07-16T15:51:40.979Z"
   },
   {
    "duration": 175,
    "start_time": "2022-07-16T15:51:49.084Z"
   },
   {
    "duration": 220,
    "start_time": "2022-07-16T15:52:16.205Z"
   },
   {
    "duration": 13,
    "start_time": "2022-07-16T15:53:02.306Z"
   },
   {
    "duration": 3,
    "start_time": "2022-07-16T15:53:07.480Z"
   },
   {
    "duration": 101,
    "start_time": "2022-07-16T15:53:07.485Z"
   },
   {
    "duration": 15,
    "start_time": "2022-07-16T15:53:07.588Z"
   },
   {
    "duration": 21,
    "start_time": "2022-07-16T15:53:07.605Z"
   },
   {
    "duration": 36,
    "start_time": "2022-07-16T15:53:07.628Z"
   },
   {
    "duration": 16,
    "start_time": "2022-07-16T15:53:07.666Z"
   },
   {
    "duration": 17,
    "start_time": "2022-07-16T15:53:07.684Z"
   },
   {
    "duration": 357,
    "start_time": "2022-07-16T15:53:07.702Z"
   },
   {
    "duration": 187,
    "start_time": "2022-07-16T15:53:08.061Z"
   },
   {
    "duration": 203,
    "start_time": "2022-07-16T15:53:19.875Z"
   },
   {
    "duration": 265,
    "start_time": "2022-07-16T15:53:28.191Z"
   },
   {
    "duration": 17,
    "start_time": "2022-07-16T15:53:39.185Z"
   },
   {
    "duration": 245,
    "start_time": "2022-07-16T15:53:56.181Z"
   },
   {
    "duration": 44,
    "start_time": "2022-07-17T11:10:30.946Z"
   },
   {
    "duration": 1211,
    "start_time": "2022-07-17T11:10:34.112Z"
   },
   {
    "duration": 271,
    "start_time": "2022-07-17T11:10:35.326Z"
   },
   {
    "duration": 13,
    "start_time": "2022-07-17T11:10:35.598Z"
   },
   {
    "duration": 17,
    "start_time": "2022-07-17T11:10:35.613Z"
   },
   {
    "duration": 9,
    "start_time": "2022-07-17T11:10:35.631Z"
   },
   {
    "duration": 13,
    "start_time": "2022-07-17T11:10:35.641Z"
   },
   {
    "duration": 4,
    "start_time": "2022-07-17T11:10:35.655Z"
   },
   {
    "duration": 190,
    "start_time": "2022-07-17T11:10:35.661Z"
   },
   {
    "duration": 111,
    "start_time": "2022-07-17T11:10:35.852Z"
   },
   {
    "duration": 114,
    "start_time": "2022-07-17T11:10:48.182Z"
   },
   {
    "duration": 62,
    "start_time": "2022-07-17T11:12:59.126Z"
   },
   {
    "duration": 151,
    "start_time": "2022-07-17T11:13:16.893Z"
   },
   {
    "duration": 151,
    "start_time": "2022-07-17T11:13:27.210Z"
   },
   {
    "duration": 79,
    "start_time": "2022-07-17T11:15:18.682Z"
   },
   {
    "duration": 3,
    "start_time": "2022-07-17T11:15:26.579Z"
   },
   {
    "duration": 69,
    "start_time": "2022-07-17T11:15:26.584Z"
   },
   {
    "duration": 13,
    "start_time": "2022-07-17T11:15:26.654Z"
   },
   {
    "duration": 20,
    "start_time": "2022-07-17T11:15:26.669Z"
   },
   {
    "duration": 11,
    "start_time": "2022-07-17T11:15:26.690Z"
   },
   {
    "duration": 13,
    "start_time": "2022-07-17T11:15:26.703Z"
   },
   {
    "duration": 7,
    "start_time": "2022-07-17T11:15:26.718Z"
   },
   {
    "duration": 154,
    "start_time": "2022-07-17T11:15:28.786Z"
   },
   {
    "duration": 190,
    "start_time": "2022-07-17T11:15:38.205Z"
   },
   {
    "duration": 16,
    "start_time": "2022-07-17T11:16:06.802Z"
   },
   {
    "duration": 18,
    "start_time": "2022-07-17T11:16:11.706Z"
   },
   {
    "duration": 240,
    "start_time": "2022-07-17T11:16:17.081Z"
   },
   {
    "duration": 240,
    "start_time": "2022-07-17T11:39:30.012Z"
   },
   {
    "duration": 3,
    "start_time": "2022-07-17T11:39:33.876Z"
   },
   {
    "duration": 81,
    "start_time": "2022-07-17T11:39:33.881Z"
   },
   {
    "duration": 12,
    "start_time": "2022-07-17T11:39:33.964Z"
   },
   {
    "duration": 17,
    "start_time": "2022-07-17T11:39:33.977Z"
   },
   {
    "duration": 16,
    "start_time": "2022-07-17T11:39:33.997Z"
   },
   {
    "duration": 21,
    "start_time": "2022-07-17T11:39:34.015Z"
   },
   {
    "duration": 8,
    "start_time": "2022-07-17T11:39:34.038Z"
   },
   {
    "duration": 5,
    "start_time": "2022-07-17T11:39:35.473Z"
   },
   {
    "duration": 161,
    "start_time": "2022-07-17T11:39:36.611Z"
   },
   {
    "duration": 162,
    "start_time": "2022-07-17T11:40:18.471Z"
   },
   {
    "duration": 143,
    "start_time": "2022-07-17T11:40:30.765Z"
   },
   {
    "duration": 161,
    "start_time": "2022-07-17T11:40:47.076Z"
   },
   {
    "duration": 150,
    "start_time": "2022-07-17T11:42:37.162Z"
   },
   {
    "duration": 145,
    "start_time": "2022-07-17T11:42:47.494Z"
   },
   {
    "duration": 3,
    "start_time": "2022-07-17T11:44:36.023Z"
   },
   {
    "duration": 140,
    "start_time": "2022-07-17T11:44:36.361Z"
   },
   {
    "duration": 10,
    "start_time": "2022-07-17T11:44:40.768Z"
   },
   {
    "duration": 72,
    "start_time": "2022-07-17T11:44:41.312Z"
   },
   {
    "duration": 114,
    "start_time": "2022-07-17T11:47:21.849Z"
   },
   {
    "duration": 78,
    "start_time": "2022-07-17T11:50:27.114Z"
   },
   {
    "duration": 150,
    "start_time": "2022-07-17T11:52:09.221Z"
   },
   {
    "duration": 134,
    "start_time": "2022-07-17T11:52:25.406Z"
   },
   {
    "duration": 76,
    "start_time": "2022-07-17T11:54:22.324Z"
   },
   {
    "duration": 135,
    "start_time": "2022-07-17T11:54:34.834Z"
   },
   {
    "duration": 93,
    "start_time": "2022-07-17T11:55:00.668Z"
   },
   {
    "duration": 84,
    "start_time": "2022-07-17T11:56:13.129Z"
   },
   {
    "duration": 9,
    "start_time": "2022-07-17T11:57:19.304Z"
   },
   {
    "duration": 3,
    "start_time": "2022-07-17T11:57:25.816Z"
   },
   {
    "duration": 66,
    "start_time": "2022-07-17T11:57:25.821Z"
   },
   {
    "duration": 13,
    "start_time": "2022-07-17T11:57:25.889Z"
   },
   {
    "duration": 18,
    "start_time": "2022-07-17T11:57:25.904Z"
   },
   {
    "duration": 11,
    "start_time": "2022-07-17T11:57:25.924Z"
   },
   {
    "duration": 11,
    "start_time": "2022-07-17T11:57:25.937Z"
   },
   {
    "duration": 4,
    "start_time": "2022-07-17T11:57:25.950Z"
   },
   {
    "duration": 182,
    "start_time": "2022-07-17T11:57:25.955Z"
   },
   {
    "duration": 12,
    "start_time": "2022-07-17T11:57:26.138Z"
   },
   {
    "duration": 97,
    "start_time": "2022-07-17T11:57:26.151Z"
   },
   {
    "duration": 14,
    "start_time": "2022-07-17T11:57:26.249Z"
   },
   {
    "duration": 175,
    "start_time": "2022-07-17T11:57:26.265Z"
   },
   {
    "duration": 15,
    "start_time": "2022-07-17T11:57:26.444Z"
   },
   {
    "duration": 162,
    "start_time": "2022-07-17T11:57:26.461Z"
   },
   {
    "duration": 16,
    "start_time": "2022-07-17T11:57:26.625Z"
   },
   {
    "duration": 6,
    "start_time": "2022-07-17T11:57:26.642Z"
   },
   {
    "duration": 153,
    "start_time": "2022-07-17T11:57:26.650Z"
   },
   {
    "duration": 14,
    "start_time": "2022-07-17T11:57:26.804Z"
   },
   {
    "duration": 4,
    "start_time": "2022-07-17T11:57:26.819Z"
   },
   {
    "duration": 111,
    "start_time": "2022-07-17T11:57:26.825Z"
   },
   {
    "duration": 4,
    "start_time": "2022-07-17T11:57:26.938Z"
   },
   {
    "duration": 22,
    "start_time": "2022-07-17T11:57:26.944Z"
   },
   {
    "duration": 141,
    "start_time": "2022-07-17T11:59:02.657Z"
   },
   {
    "duration": 147,
    "start_time": "2022-07-17T11:59:09.621Z"
   },
   {
    "duration": 19,
    "start_time": "2022-07-17T12:00:17.121Z"
   },
   {
    "duration": 13,
    "start_time": "2022-07-17T12:01:34.994Z"
   },
   {
    "duration": 18,
    "start_time": "2022-07-17T12:01:41.380Z"
   },
   {
    "duration": 240,
    "start_time": "2022-07-17T12:05:01.010Z"
   },
   {
    "duration": 145,
    "start_time": "2022-07-17T12:05:07.928Z"
   },
   {
    "duration": 257,
    "start_time": "2022-07-17T12:30:28.007Z"
   },
   {
    "duration": 271,
    "start_time": "2022-07-17T14:24:53.015Z"
   },
   {
    "duration": 48,
    "start_time": "2022-07-18T14:57:00.088Z"
   },
   {
    "duration": 5,
    "start_time": "2022-07-18T14:57:25.208Z"
   },
   {
    "duration": 1395,
    "start_time": "2022-07-18T14:57:30.009Z"
   },
   {
    "duration": 112,
    "start_time": "2022-07-18T14:57:31.406Z"
   },
   {
    "duration": 15,
    "start_time": "2022-07-18T14:57:31.520Z"
   },
   {
    "duration": 28,
    "start_time": "2022-07-18T14:57:31.537Z"
   },
   {
    "duration": 12,
    "start_time": "2022-07-18T14:57:31.568Z"
   },
   {
    "duration": 23,
    "start_time": "2022-07-18T14:57:31.582Z"
   },
   {
    "duration": 4,
    "start_time": "2022-07-18T14:57:31.607Z"
   },
   {
    "duration": 181,
    "start_time": "2022-07-18T14:57:31.613Z"
   },
   {
    "duration": 16,
    "start_time": "2022-07-18T14:57:31.796Z"
   },
   {
    "duration": 14,
    "start_time": "2022-07-18T14:57:31.813Z"
   },
   {
    "duration": 111,
    "start_time": "2022-07-18T14:57:31.828Z"
   },
   {
    "duration": 15,
    "start_time": "2022-07-18T14:57:31.941Z"
   },
   {
    "duration": 234,
    "start_time": "2022-07-18T14:57:31.958Z"
   },
   {
    "duration": 0,
    "start_time": "2022-07-18T14:57:32.194Z"
   },
   {
    "duration": 0,
    "start_time": "2022-07-18T14:57:32.195Z"
   },
   {
    "duration": 0,
    "start_time": "2022-07-18T14:57:32.204Z"
   },
   {
    "duration": 0,
    "start_time": "2022-07-18T14:57:32.205Z"
   },
   {
    "duration": 0,
    "start_time": "2022-07-18T14:57:32.206Z"
   },
   {
    "duration": 0,
    "start_time": "2022-07-18T14:57:32.207Z"
   },
   {
    "duration": 0,
    "start_time": "2022-07-18T14:57:32.208Z"
   },
   {
    "duration": 0,
    "start_time": "2022-07-18T14:57:32.209Z"
   },
   {
    "duration": 0,
    "start_time": "2022-07-18T14:57:32.210Z"
   },
   {
    "duration": 148,
    "start_time": "2022-07-18T14:59:05.888Z"
   },
   {
    "duration": 143,
    "start_time": "2022-07-18T15:05:12.447Z"
   },
   {
    "duration": 14,
    "start_time": "2022-07-18T15:05:22.568Z"
   },
   {
    "duration": 273,
    "start_time": "2022-07-18T15:05:23.208Z"
   },
   {
    "duration": 105,
    "start_time": "2022-07-18T15:11:18.488Z"
   },
   {
    "duration": 167,
    "start_time": "2022-07-18T15:13:15.850Z"
   },
   {
    "duration": 136,
    "start_time": "2022-07-18T15:16:02.048Z"
   },
   {
    "duration": 135,
    "start_time": "2022-07-18T15:19:12.929Z"
   },
   {
    "duration": 108,
    "start_time": "2022-07-18T15:21:00.239Z"
   },
   {
    "duration": 86,
    "start_time": "2022-07-18T15:21:24.368Z"
   },
   {
    "duration": 14,
    "start_time": "2022-07-18T15:21:46.289Z"
   },
   {
    "duration": 3,
    "start_time": "2022-07-18T15:21:51.690Z"
   },
   {
    "duration": 66,
    "start_time": "2022-07-18T15:21:51.695Z"
   },
   {
    "duration": 13,
    "start_time": "2022-07-18T15:21:51.762Z"
   },
   {
    "duration": 20,
    "start_time": "2022-07-18T15:21:51.777Z"
   },
   {
    "duration": 11,
    "start_time": "2022-07-18T15:21:51.799Z"
   },
   {
    "duration": 14,
    "start_time": "2022-07-18T15:21:51.812Z"
   },
   {
    "duration": 4,
    "start_time": "2022-07-18T15:21:51.827Z"
   },
   {
    "duration": 174,
    "start_time": "2022-07-18T15:21:51.833Z"
   },
   {
    "duration": 11,
    "start_time": "2022-07-18T15:21:52.010Z"
   },
   {
    "duration": 105,
    "start_time": "2022-07-18T15:21:52.023Z"
   },
   {
    "duration": 14,
    "start_time": "2022-07-18T15:21:52.130Z"
   },
   {
    "duration": 15,
    "start_time": "2022-07-18T15:21:54.209Z"
   },
   {
    "duration": 14,
    "start_time": "2022-07-18T15:22:06.767Z"
   },
   {
    "duration": 3,
    "start_time": "2022-07-18T15:22:14.168Z"
   },
   {
    "duration": 68,
    "start_time": "2022-07-18T15:22:14.173Z"
   },
   {
    "duration": 13,
    "start_time": "2022-07-18T15:22:14.243Z"
   },
   {
    "duration": 16,
    "start_time": "2022-07-18T15:22:14.258Z"
   },
   {
    "duration": 30,
    "start_time": "2022-07-18T15:22:14.276Z"
   },
   {
    "duration": 12,
    "start_time": "2022-07-18T15:22:14.307Z"
   },
   {
    "duration": 3,
    "start_time": "2022-07-18T15:22:14.321Z"
   },
   {
    "duration": 168,
    "start_time": "2022-07-18T15:22:14.326Z"
   },
   {
    "duration": 15,
    "start_time": "2022-07-18T15:22:14.495Z"
   },
   {
    "duration": 78,
    "start_time": "2022-07-18T15:22:14.512Z"
   },
   {
    "duration": 13,
    "start_time": "2022-07-18T15:22:14.603Z"
   },
   {
    "duration": 15,
    "start_time": "2022-07-18T15:22:14.617Z"
   },
   {
    "duration": 144,
    "start_time": "2022-07-18T15:22:17.039Z"
   },
   {
    "duration": 143,
    "start_time": "2022-07-18T15:22:29.608Z"
   },
   {
    "duration": 136,
    "start_time": "2022-07-18T15:22:37.968Z"
   },
   {
    "duration": 12,
    "start_time": "2022-07-18T15:22:49.568Z"
   },
   {
    "duration": 11,
    "start_time": "2022-07-18T15:22:56.087Z"
   },
   {
    "duration": 3,
    "start_time": "2022-07-18T15:22:58.456Z"
   },
   {
    "duration": 67,
    "start_time": "2022-07-18T15:22:58.461Z"
   },
   {
    "duration": 12,
    "start_time": "2022-07-18T15:22:58.529Z"
   },
   {
    "duration": 18,
    "start_time": "2022-07-18T15:22:58.543Z"
   },
   {
    "duration": 10,
    "start_time": "2022-07-18T15:22:58.563Z"
   },
   {
    "duration": 30,
    "start_time": "2022-07-18T15:22:58.575Z"
   },
   {
    "duration": 4,
    "start_time": "2022-07-18T15:22:58.607Z"
   },
   {
    "duration": 248,
    "start_time": "2022-07-18T15:22:58.613Z"
   },
   {
    "duration": 11,
    "start_time": "2022-07-18T15:22:58.863Z"
   },
   {
    "duration": 109,
    "start_time": "2022-07-18T15:22:58.875Z"
   },
   {
    "duration": 25,
    "start_time": "2022-07-18T15:22:58.986Z"
   },
   {
    "duration": 12,
    "start_time": "2022-07-18T15:23:00.448Z"
   },
   {
    "duration": 13,
    "start_time": "2022-07-18T15:23:04.079Z"
   },
   {
    "duration": 4,
    "start_time": "2022-07-18T15:23:06.455Z"
   },
   {
    "duration": 74,
    "start_time": "2022-07-18T15:23:06.461Z"
   },
   {
    "duration": 18,
    "start_time": "2022-07-18T15:23:06.537Z"
   },
   {
    "duration": 32,
    "start_time": "2022-07-18T15:23:06.558Z"
   },
   {
    "duration": 18,
    "start_time": "2022-07-18T15:23:06.592Z"
   },
   {
    "duration": 14,
    "start_time": "2022-07-18T15:23:06.613Z"
   },
   {
    "duration": 10,
    "start_time": "2022-07-18T15:23:06.629Z"
   },
   {
    "duration": 178,
    "start_time": "2022-07-18T15:23:06.641Z"
   },
   {
    "duration": 10,
    "start_time": "2022-07-18T15:23:06.821Z"
   },
   {
    "duration": 88,
    "start_time": "2022-07-18T15:23:06.833Z"
   },
   {
    "duration": 12,
    "start_time": "2022-07-18T15:23:06.923Z"
   },
   {
    "duration": 13,
    "start_time": "2022-07-18T15:23:07.807Z"
   },
   {
    "duration": 4,
    "start_time": "2022-07-18T15:23:10.377Z"
   },
   {
    "duration": 67,
    "start_time": "2022-07-18T15:23:10.383Z"
   },
   {
    "duration": 13,
    "start_time": "2022-07-18T15:23:10.452Z"
   },
   {
    "duration": 26,
    "start_time": "2022-07-18T15:23:10.466Z"
   },
   {
    "duration": 14,
    "start_time": "2022-07-18T15:23:10.494Z"
   },
   {
    "duration": 23,
    "start_time": "2022-07-18T15:23:10.509Z"
   },
   {
    "duration": 23,
    "start_time": "2022-07-18T15:23:10.534Z"
   },
   {
    "duration": 168,
    "start_time": "2022-07-18T15:23:10.559Z"
   },
   {
    "duration": 12,
    "start_time": "2022-07-18T15:23:10.728Z"
   },
   {
    "duration": 90,
    "start_time": "2022-07-18T15:23:10.741Z"
   },
   {
    "duration": 11,
    "start_time": "2022-07-18T15:23:10.833Z"
   },
   {
    "duration": 15,
    "start_time": "2022-07-18T15:23:10.845Z"
   },
   {
    "duration": 151,
    "start_time": "2022-07-18T15:23:13.087Z"
   },
   {
    "duration": 141,
    "start_time": "2022-07-18T15:23:33.806Z"
   },
   {
    "duration": 164,
    "start_time": "2022-07-18T15:24:25.887Z"
   },
   {
    "duration": 12,
    "start_time": "2022-07-18T15:24:50.727Z"
   },
   {
    "duration": 3,
    "start_time": "2022-07-18T15:24:53.966Z"
   },
   {
    "duration": 84,
    "start_time": "2022-07-18T15:24:53.971Z"
   },
   {
    "duration": 13,
    "start_time": "2022-07-18T15:24:54.057Z"
   },
   {
    "duration": 26,
    "start_time": "2022-07-18T15:24:54.072Z"
   },
   {
    "duration": 12,
    "start_time": "2022-07-18T15:24:54.100Z"
   },
   {
    "duration": 31,
    "start_time": "2022-07-18T15:24:54.114Z"
   },
   {
    "duration": 17,
    "start_time": "2022-07-18T15:24:54.147Z"
   },
   {
    "duration": 173,
    "start_time": "2022-07-18T15:24:54.166Z"
   },
   {
    "duration": 11,
    "start_time": "2022-07-18T15:24:54.342Z"
   },
   {
    "duration": 116,
    "start_time": "2022-07-18T15:24:54.356Z"
   },
   {
    "duration": 14,
    "start_time": "2022-07-18T15:24:54.474Z"
   },
   {
    "duration": 23,
    "start_time": "2022-07-18T15:24:54.490Z"
   },
   {
    "duration": 258,
    "start_time": "2022-07-18T15:24:56.318Z"
   },
   {
    "duration": 158,
    "start_time": "2022-07-18T15:25:06.278Z"
   },
   {
    "duration": 171,
    "start_time": "2022-07-18T15:25:33.567Z"
   },
   {
    "duration": 16,
    "start_time": "2022-07-18T15:25:46.497Z"
   },
   {
    "duration": 3,
    "start_time": "2022-07-18T15:25:50.551Z"
   },
   {
    "duration": 72,
    "start_time": "2022-07-18T15:25:50.555Z"
   },
   {
    "duration": 18,
    "start_time": "2022-07-18T15:25:50.629Z"
   },
   {
    "duration": 23,
    "start_time": "2022-07-18T15:25:50.649Z"
   },
   {
    "duration": 11,
    "start_time": "2022-07-18T15:25:50.673Z"
   },
   {
    "duration": 21,
    "start_time": "2022-07-18T15:25:50.685Z"
   },
   {
    "duration": 3,
    "start_time": "2022-07-18T15:25:50.708Z"
   },
   {
    "duration": 158,
    "start_time": "2022-07-18T15:25:50.713Z"
   },
   {
    "duration": 11,
    "start_time": "2022-07-18T15:25:50.873Z"
   },
   {
    "duration": 89,
    "start_time": "2022-07-18T15:25:50.885Z"
   },
   {
    "duration": 12,
    "start_time": "2022-07-18T15:25:50.976Z"
   },
   {
    "duration": 18,
    "start_time": "2022-07-18T15:25:50.990Z"
   },
   {
    "duration": 15,
    "start_time": "2022-07-18T15:25:52.128Z"
   },
   {
    "duration": 162,
    "start_time": "2022-07-18T15:25:52.847Z"
   },
   {
    "duration": 160,
    "start_time": "2022-07-18T15:26:04.446Z"
   },
   {
    "duration": 162,
    "start_time": "2022-07-18T15:26:32.766Z"
   },
   {
    "duration": 12,
    "start_time": "2022-07-18T15:26:45.167Z"
   },
   {
    "duration": 3,
    "start_time": "2022-07-18T15:26:47.806Z"
   },
   {
    "duration": 66,
    "start_time": "2022-07-18T15:26:47.810Z"
   },
   {
    "duration": 11,
    "start_time": "2022-07-18T15:26:47.878Z"
   },
   {
    "duration": 19,
    "start_time": "2022-07-18T15:26:47.891Z"
   },
   {
    "duration": 10,
    "start_time": "2022-07-18T15:26:47.912Z"
   },
   {
    "duration": 11,
    "start_time": "2022-07-18T15:26:47.924Z"
   },
   {
    "duration": 4,
    "start_time": "2022-07-18T15:26:47.937Z"
   },
   {
    "duration": 171,
    "start_time": "2022-07-18T15:26:47.942Z"
   },
   {
    "duration": 11,
    "start_time": "2022-07-18T15:26:48.115Z"
   },
   {
    "duration": 107,
    "start_time": "2022-07-18T15:26:48.127Z"
   },
   {
    "duration": 13,
    "start_time": "2022-07-18T15:26:48.235Z"
   },
   {
    "duration": 17,
    "start_time": "2022-07-18T15:26:48.249Z"
   },
   {
    "duration": 14,
    "start_time": "2022-07-18T15:26:49.842Z"
   },
   {
    "duration": 169,
    "start_time": "2022-07-18T15:26:50.807Z"
   },
   {
    "duration": 286,
    "start_time": "2022-07-18T15:27:46.518Z"
   },
   {
    "duration": 11,
    "start_time": "2022-07-18T15:29:11.486Z"
   },
   {
    "duration": 103,
    "start_time": "2022-07-18T15:29:25.886Z"
   },
   {
    "duration": 4,
    "start_time": "2022-07-18T15:29:29.117Z"
   },
   {
    "duration": 68,
    "start_time": "2022-07-18T15:29:29.126Z"
   },
   {
    "duration": 14,
    "start_time": "2022-07-18T15:29:29.196Z"
   },
   {
    "duration": 20,
    "start_time": "2022-07-18T15:29:29.211Z"
   },
   {
    "duration": 13,
    "start_time": "2022-07-18T15:29:29.232Z"
   },
   {
    "duration": 15,
    "start_time": "2022-07-18T15:29:29.247Z"
   },
   {
    "duration": 4,
    "start_time": "2022-07-18T15:29:29.264Z"
   },
   {
    "duration": 4,
    "start_time": "2022-07-18T15:29:30.334Z"
   },
   {
    "duration": 103,
    "start_time": "2022-07-18T15:29:31.126Z"
   },
   {
    "duration": 148,
    "start_time": "2022-07-18T15:29:41.286Z"
   },
   {
    "duration": 188,
    "start_time": "2022-07-18T15:31:06.487Z"
   },
   {
    "duration": 15,
    "start_time": "2022-07-18T15:31:14.045Z"
   },
   {
    "duration": 184,
    "start_time": "2022-07-18T15:31:38.926Z"
   },
   {
    "duration": 14,
    "start_time": "2022-07-18T15:32:09.663Z"
   },
   {
    "duration": 4,
    "start_time": "2022-07-18T15:32:17.405Z"
   },
   {
    "duration": 80,
    "start_time": "2022-07-18T15:32:17.412Z"
   },
   {
    "duration": 13,
    "start_time": "2022-07-18T15:32:17.494Z"
   },
   {
    "duration": 21,
    "start_time": "2022-07-18T15:32:17.509Z"
   },
   {
    "duration": 12,
    "start_time": "2022-07-18T15:32:17.532Z"
   },
   {
    "duration": 14,
    "start_time": "2022-07-18T15:32:17.546Z"
   },
   {
    "duration": 5,
    "start_time": "2022-07-18T15:32:17.562Z"
   },
   {
    "duration": 211,
    "start_time": "2022-07-18T15:32:17.569Z"
   },
   {
    "duration": 0,
    "start_time": "2022-07-18T15:32:17.783Z"
   },
   {
    "duration": 0,
    "start_time": "2022-07-18T15:32:17.785Z"
   },
   {
    "duration": 0,
    "start_time": "2022-07-18T15:32:17.787Z"
   },
   {
    "duration": 0,
    "start_time": "2022-07-18T15:32:17.789Z"
   },
   {
    "duration": 0,
    "start_time": "2022-07-18T15:32:17.805Z"
   },
   {
    "duration": 165,
    "start_time": "2022-07-18T15:33:29.046Z"
   },
   {
    "duration": 4,
    "start_time": "2022-07-18T15:34:06.846Z"
   },
   {
    "duration": 152,
    "start_time": "2022-07-18T15:34:07.285Z"
   },
   {
    "duration": 5,
    "start_time": "2022-07-18T15:34:39.126Z"
   },
   {
    "duration": 13,
    "start_time": "2022-07-18T15:34:39.453Z"
   },
   {
    "duration": 3,
    "start_time": "2022-07-18T15:34:42.845Z"
   },
   {
    "duration": 76,
    "start_time": "2022-07-18T15:34:42.851Z"
   },
   {
    "duration": 16,
    "start_time": "2022-07-18T15:34:42.929Z"
   },
   {
    "duration": 22,
    "start_time": "2022-07-18T15:34:42.947Z"
   },
   {
    "duration": 34,
    "start_time": "2022-07-18T15:34:42.972Z"
   },
   {
    "duration": 14,
    "start_time": "2022-07-18T15:34:43.008Z"
   },
   {
    "duration": 5,
    "start_time": "2022-07-18T15:34:43.024Z"
   },
   {
    "duration": 5,
    "start_time": "2022-07-18T15:34:44.614Z"
   },
   {
    "duration": 174,
    "start_time": "2022-07-18T15:34:45.005Z"
   },
   {
    "duration": 11,
    "start_time": "2022-07-18T15:35:53.874Z"
   },
   {
    "duration": 90,
    "start_time": "2022-07-18T15:35:53.887Z"
   },
   {
    "duration": 13,
    "start_time": "2022-07-18T15:36:02.526Z"
   },
   {
    "duration": 21,
    "start_time": "2022-07-18T15:36:03.365Z"
   },
   {
    "duration": 295,
    "start_time": "2022-07-18T15:36:03.846Z"
   },
   {
    "duration": 140,
    "start_time": "2022-07-18T15:36:04.646Z"
   },
   {
    "duration": 178,
    "start_time": "2022-07-18T15:38:29.013Z"
   },
   {
    "duration": 214,
    "start_time": "2022-07-18T15:38:56.525Z"
   },
   {
    "duration": 15,
    "start_time": "2022-07-18T15:39:44.126Z"
   },
   {
    "duration": 4,
    "start_time": "2022-07-18T15:39:47.846Z"
   },
   {
    "duration": 87,
    "start_time": "2022-07-18T15:39:47.851Z"
   },
   {
    "duration": 12,
    "start_time": "2022-07-18T15:39:47.940Z"
   },
   {
    "duration": 17,
    "start_time": "2022-07-18T15:39:47.953Z"
   },
   {
    "duration": 11,
    "start_time": "2022-07-18T15:39:47.972Z"
   },
   {
    "duration": 13,
    "start_time": "2022-07-18T15:39:48.004Z"
   },
   {
    "duration": 5,
    "start_time": "2022-07-18T15:39:48.018Z"
   },
   {
    "duration": 188,
    "start_time": "2022-07-18T15:39:48.024Z"
   },
   {
    "duration": 11,
    "start_time": "2022-07-18T15:39:48.214Z"
   },
   {
    "duration": 97,
    "start_time": "2022-07-18T15:39:48.226Z"
   },
   {
    "duration": 12,
    "start_time": "2022-07-18T15:39:48.325Z"
   },
   {
    "duration": 14,
    "start_time": "2022-07-18T15:39:48.339Z"
   },
   {
    "duration": 15,
    "start_time": "2022-07-18T15:39:49.678Z"
   },
   {
    "duration": 197,
    "start_time": "2022-07-18T15:39:50.109Z"
   },
   {
    "duration": 182,
    "start_time": "2022-07-18T15:40:36.844Z"
   },
   {
    "duration": 175,
    "start_time": "2022-07-18T15:41:59.364Z"
   },
   {
    "duration": 12,
    "start_time": "2022-07-18T15:42:28.732Z"
   },
   {
    "duration": 3,
    "start_time": "2022-07-18T15:42:31.524Z"
   },
   {
    "duration": 70,
    "start_time": "2022-07-18T15:42:31.528Z"
   },
   {
    "duration": 13,
    "start_time": "2022-07-18T15:42:31.600Z"
   },
   {
    "duration": 19,
    "start_time": "2022-07-18T15:42:31.614Z"
   },
   {
    "duration": 12,
    "start_time": "2022-07-18T15:42:31.634Z"
   },
   {
    "duration": 18,
    "start_time": "2022-07-18T15:42:31.648Z"
   },
   {
    "duration": 4,
    "start_time": "2022-07-18T15:42:31.668Z"
   },
   {
    "duration": 178,
    "start_time": "2022-07-18T15:42:31.674Z"
   },
   {
    "duration": 11,
    "start_time": "2022-07-18T15:42:31.854Z"
   },
   {
    "duration": 106,
    "start_time": "2022-07-18T15:42:31.867Z"
   },
   {
    "duration": 12,
    "start_time": "2022-07-18T15:42:31.974Z"
   },
   {
    "duration": 22,
    "start_time": "2022-07-18T15:42:31.988Z"
   },
   {
    "duration": 278,
    "start_time": "2022-07-18T15:42:32.012Z"
   },
   {
    "duration": 18,
    "start_time": "2022-07-18T15:42:54.515Z"
   },
   {
    "duration": 7,
    "start_time": "2022-07-18T15:43:31.715Z"
   },
   {
    "duration": 138,
    "start_time": "2022-07-18T15:43:32.412Z"
   },
   {
    "duration": 4,
    "start_time": "2022-07-18T15:44:30.333Z"
   },
   {
    "duration": 161,
    "start_time": "2022-07-18T15:44:30.965Z"
   },
   {
    "duration": 3,
    "start_time": "2022-07-18T15:44:57.637Z"
   },
   {
    "duration": 66,
    "start_time": "2022-07-18T15:44:57.645Z"
   },
   {
    "duration": 12,
    "start_time": "2022-07-18T15:44:57.713Z"
   },
   {
    "duration": 23,
    "start_time": "2022-07-18T15:44:57.727Z"
   },
   {
    "duration": 11,
    "start_time": "2022-07-18T15:44:57.751Z"
   },
   {
    "duration": 13,
    "start_time": "2022-07-18T15:44:57.765Z"
   },
   {
    "duration": 4,
    "start_time": "2022-07-18T15:44:57.779Z"
   },
   {
    "duration": 169,
    "start_time": "2022-07-18T15:44:57.784Z"
   },
   {
    "duration": 11,
    "start_time": "2022-07-18T15:44:57.954Z"
   },
   {
    "duration": 98,
    "start_time": "2022-07-18T15:44:57.967Z"
   },
   {
    "duration": 12,
    "start_time": "2022-07-18T15:44:58.067Z"
   },
   {
    "duration": 30,
    "start_time": "2022-07-18T15:44:58.081Z"
   },
   {
    "duration": 185,
    "start_time": "2022-07-18T15:44:58.112Z"
   },
   {
    "duration": 18,
    "start_time": "2022-07-18T15:44:58.303Z"
   },
   {
    "duration": 6,
    "start_time": "2022-07-18T15:44:58.323Z"
   },
   {
    "duration": 162,
    "start_time": "2022-07-18T15:44:58.331Z"
   },
   {
    "duration": 4,
    "start_time": "2022-07-18T15:44:58.495Z"
   },
   {
    "duration": 92,
    "start_time": "2022-07-18T15:44:58.504Z"
   },
   {
    "duration": 5,
    "start_time": "2022-07-18T15:44:58.603Z"
   },
   {
    "duration": 32,
    "start_time": "2022-07-18T15:44:58.609Z"
   },
   {
    "duration": 145,
    "start_time": "2022-07-18T15:46:18.044Z"
   },
   {
    "duration": 2,
    "start_time": "2022-07-18T15:46:26.285Z"
   },
   {
    "duration": 66,
    "start_time": "2022-07-18T15:46:26.289Z"
   },
   {
    "duration": 13,
    "start_time": "2022-07-18T15:46:26.357Z"
   },
   {
    "duration": 17,
    "start_time": "2022-07-18T15:46:26.372Z"
   },
   {
    "duration": 14,
    "start_time": "2022-07-18T15:46:26.391Z"
   },
   {
    "duration": 12,
    "start_time": "2022-07-18T15:46:26.406Z"
   },
   {
    "duration": 4,
    "start_time": "2022-07-18T15:46:26.419Z"
   },
   {
    "duration": 151,
    "start_time": "2022-07-18T15:46:28.333Z"
   },
   {
    "duration": 5,
    "start_time": "2022-07-18T15:47:06.284Z"
   },
   {
    "duration": 123,
    "start_time": "2022-07-18T15:47:06.726Z"
   },
   {
    "duration": 4,
    "start_time": "2022-07-18T15:47:16.155Z"
   },
   {
    "duration": 188,
    "start_time": "2022-07-18T15:47:16.637Z"
   },
   {
    "duration": 5,
    "start_time": "2022-07-18T15:47:23.140Z"
   },
   {
    "duration": 277,
    "start_time": "2022-07-18T15:47:23.485Z"
   },
   {
    "duration": 6,
    "start_time": "2022-07-18T15:48:11.136Z"
   },
   {
    "duration": 174,
    "start_time": "2022-07-18T15:48:11.404Z"
   },
   {
    "duration": 14,
    "start_time": "2022-07-18T15:48:16.164Z"
   },
   {
    "duration": 117,
    "start_time": "2022-07-18T15:48:16.755Z"
   },
   {
    "duration": 16,
    "start_time": "2022-07-18T15:48:22.772Z"
   },
   {
    "duration": 17,
    "start_time": "2022-07-18T15:48:24.484Z"
   },
   {
    "duration": 228,
    "start_time": "2022-07-18T15:48:25.204Z"
   },
   {
    "duration": 128,
    "start_time": "2022-07-18T15:48:56.205Z"
   },
   {
    "duration": 3,
    "start_time": "2022-07-18T15:48:59.286Z"
   },
   {
    "duration": 78,
    "start_time": "2022-07-18T15:48:59.291Z"
   },
   {
    "duration": 13,
    "start_time": "2022-07-18T15:48:59.371Z"
   },
   {
    "duration": 23,
    "start_time": "2022-07-18T15:48:59.386Z"
   },
   {
    "duration": 12,
    "start_time": "2022-07-18T15:48:59.411Z"
   },
   {
    "duration": 17,
    "start_time": "2022-07-18T15:48:59.425Z"
   },
   {
    "duration": 5,
    "start_time": "2022-07-18T15:48:59.444Z"
   },
   {
    "duration": 191,
    "start_time": "2022-07-18T15:48:59.451Z"
   },
   {
    "duration": 12,
    "start_time": "2022-07-18T15:48:59.644Z"
   },
   {
    "duration": 110,
    "start_time": "2022-07-18T15:48:59.658Z"
   },
   {
    "duration": 14,
    "start_time": "2022-07-18T15:48:59.770Z"
   },
   {
    "duration": 28,
    "start_time": "2022-07-18T15:48:59.786Z"
   },
   {
    "duration": 118,
    "start_time": "2022-07-18T15:48:59.816Z"
   },
   {
    "duration": 107,
    "start_time": "2022-07-18T15:49:00.564Z"
   },
   {
    "duration": 195,
    "start_time": "2022-07-18T15:49:15.052Z"
   },
   {
    "duration": 14,
    "start_time": "2022-07-18T15:50:25.542Z"
   },
   {
    "duration": 4,
    "start_time": "2022-07-18T15:50:28.497Z"
   },
   {
    "duration": 76,
    "start_time": "2022-07-18T15:50:28.502Z"
   },
   {
    "duration": 14,
    "start_time": "2022-07-18T15:50:28.580Z"
   },
   {
    "duration": 25,
    "start_time": "2022-07-18T15:50:28.596Z"
   },
   {
    "duration": 13,
    "start_time": "2022-07-18T15:50:28.623Z"
   },
   {
    "duration": 17,
    "start_time": "2022-07-18T15:50:28.638Z"
   },
   {
    "duration": 3,
    "start_time": "2022-07-18T15:50:28.657Z"
   },
   {
    "duration": 194,
    "start_time": "2022-07-18T15:50:28.662Z"
   },
   {
    "duration": 12,
    "start_time": "2022-07-18T15:50:28.858Z"
   },
   {
    "duration": 114,
    "start_time": "2022-07-18T15:50:28.871Z"
   },
   {
    "duration": 22,
    "start_time": "2022-07-18T15:50:28.987Z"
   },
   {
    "duration": 18,
    "start_time": "2022-07-18T15:50:29.010Z"
   },
   {
    "duration": 320,
    "start_time": "2022-07-18T15:50:29.030Z"
   },
   {
    "duration": 196,
    "start_time": "2022-07-18T15:51:27.924Z"
   },
   {
    "duration": 184,
    "start_time": "2022-07-18T15:51:50.084Z"
   },
   {
    "duration": 4,
    "start_time": "2022-07-18T16:00:06.652Z"
   },
   {
    "duration": 5,
    "start_time": "2022-07-18T16:07:19.991Z"
   },
   {
    "duration": 10,
    "start_time": "2022-07-18T16:07:30.552Z"
   },
   {
    "duration": 81,
    "start_time": "2022-07-18T16:10:51.230Z"
   },
   {
    "duration": 11,
    "start_time": "2022-07-18T16:11:46.113Z"
   },
   {
    "duration": 4,
    "start_time": "2022-07-18T16:13:39.910Z"
   },
   {
    "duration": 183,
    "start_time": "2022-07-18T16:13:46.392Z"
   },
   {
    "duration": 11,
    "start_time": "2022-07-18T16:14:40.863Z"
   },
   {
    "duration": 13,
    "start_time": "2022-07-18T16:14:47.144Z"
   },
   {
    "duration": 11,
    "start_time": "2022-07-18T16:15:21.631Z"
   },
   {
    "duration": 10,
    "start_time": "2022-07-18T16:15:22.583Z"
   },
   {
    "duration": 13,
    "start_time": "2022-07-18T16:17:42.031Z"
   },
   {
    "duration": 21,
    "start_time": "2022-07-18T16:18:05.271Z"
   },
   {
    "duration": 12,
    "start_time": "2022-07-18T16:18:13.391Z"
   },
   {
    "duration": 7,
    "start_time": "2022-07-18T16:20:10.831Z"
   },
   {
    "duration": 16,
    "start_time": "2022-07-18T16:21:14.950Z"
   },
   {
    "duration": 18,
    "start_time": "2022-07-18T16:22:13.951Z"
   },
   {
    "duration": 15,
    "start_time": "2022-07-18T16:22:19.871Z"
   },
   {
    "duration": 17,
    "start_time": "2022-07-18T16:22:24.591Z"
   },
   {
    "duration": 18,
    "start_time": "2022-07-18T16:22:38.951Z"
   },
   {
    "duration": 17,
    "start_time": "2022-07-18T16:23:18.310Z"
   },
   {
    "duration": 15,
    "start_time": "2022-07-18T16:23:18.823Z"
   },
   {
    "duration": 16,
    "start_time": "2022-07-18T16:23:25.351Z"
   },
   {
    "duration": 17,
    "start_time": "2022-07-18T16:23:31.718Z"
   },
   {
    "duration": 1165,
    "start_time": "2022-07-18T16:25:56.314Z"
   },
   {
    "duration": 1233,
    "start_time": "2022-07-18T16:26:08.671Z"
   },
   {
    "duration": 11,
    "start_time": "2022-07-18T16:26:18.312Z"
   },
   {
    "duration": 1219,
    "start_time": "2022-07-18T16:26:18.912Z"
   },
   {
    "duration": 21,
    "start_time": "2022-07-18T16:26:28.790Z"
   },
   {
    "duration": 16,
    "start_time": "2022-07-18T16:26:55.551Z"
   },
   {
    "duration": 14,
    "start_time": "2022-07-18T16:29:42.350Z"
   },
   {
    "duration": 13,
    "start_time": "2022-07-18T16:29:48.671Z"
   },
   {
    "duration": 18,
    "start_time": "2022-07-18T16:31:06.434Z"
   },
   {
    "duration": 132,
    "start_time": "2022-07-18T16:31:19.632Z"
   },
   {
    "duration": 128,
    "start_time": "2022-07-18T16:33:26.353Z"
   },
   {
    "duration": 15,
    "start_time": "2022-07-18T16:33:52.833Z"
   },
   {
    "duration": 16,
    "start_time": "2022-07-18T16:34:45.634Z"
   },
   {
    "duration": 14,
    "start_time": "2022-07-18T16:35:19.122Z"
   },
   {
    "duration": 3,
    "start_time": "2022-07-18T16:35:36.274Z"
   },
   {
    "duration": 72,
    "start_time": "2022-07-18T16:35:36.282Z"
   },
   {
    "duration": 11,
    "start_time": "2022-07-18T16:35:36.356Z"
   },
   {
    "duration": 19,
    "start_time": "2022-07-18T16:35:36.369Z"
   },
   {
    "duration": 21,
    "start_time": "2022-07-18T16:35:36.390Z"
   },
   {
    "duration": 11,
    "start_time": "2022-07-18T16:35:36.414Z"
   },
   {
    "duration": 4,
    "start_time": "2022-07-18T16:35:36.426Z"
   },
   {
    "duration": 207,
    "start_time": "2022-07-18T16:35:36.431Z"
   },
   {
    "duration": 14,
    "start_time": "2022-07-18T16:35:36.640Z"
   },
   {
    "duration": 111,
    "start_time": "2022-07-18T16:35:36.656Z"
   },
   {
    "duration": 12,
    "start_time": "2022-07-18T16:35:36.769Z"
   },
   {
    "duration": 27,
    "start_time": "2022-07-18T16:35:36.783Z"
   },
   {
    "duration": 272,
    "start_time": "2022-07-18T16:35:36.811Z"
   },
   {
    "duration": 25,
    "start_time": "2022-07-18T16:35:37.084Z"
   },
   {
    "duration": 6,
    "start_time": "2022-07-18T16:35:37.112Z"
   },
   {
    "duration": 158,
    "start_time": "2022-07-18T16:35:37.120Z"
   },
   {
    "duration": 4,
    "start_time": "2022-07-18T16:35:37.279Z"
   },
   {
    "duration": 105,
    "start_time": "2022-07-18T16:35:37.285Z"
   },
   {
    "duration": 4,
    "start_time": "2022-07-18T16:35:37.392Z"
   },
   {
    "duration": 19,
    "start_time": "2022-07-18T16:35:37.403Z"
   },
   {
    "duration": 10,
    "start_time": "2022-07-18T16:35:37.424Z"
   },
   {
    "duration": 15,
    "start_time": "2022-07-18T16:35:37.436Z"
   },
   {
    "duration": 20,
    "start_time": "2022-07-18T16:35:38.954Z"
   },
   {
    "duration": 4,
    "start_time": "2022-07-18T16:45:47.678Z"
   },
   {
    "duration": 1575,
    "start_time": "2022-07-19T09:18:12.401Z"
   },
   {
    "duration": 153,
    "start_time": "2022-07-19T09:18:13.979Z"
   },
   {
    "duration": 29,
    "start_time": "2022-07-19T09:18:14.133Z"
   },
   {
    "duration": 30,
    "start_time": "2022-07-19T09:18:14.164Z"
   },
   {
    "duration": 20,
    "start_time": "2022-07-19T09:18:14.196Z"
   },
   {
    "duration": 45,
    "start_time": "2022-07-19T09:18:14.227Z"
   },
   {
    "duration": 6,
    "start_time": "2022-07-19T09:18:14.274Z"
   },
   {
    "duration": 252,
    "start_time": "2022-07-19T09:18:14.282Z"
   },
   {
    "duration": 14,
    "start_time": "2022-07-19T09:18:14.536Z"
   },
   {
    "duration": 107,
    "start_time": "2022-07-19T09:18:14.552Z"
   },
   {
    "duration": 14,
    "start_time": "2022-07-19T09:18:14.661Z"
   },
   {
    "duration": 16,
    "start_time": "2022-07-19T09:18:14.676Z"
   },
   {
    "duration": 295,
    "start_time": "2022-07-19T09:18:16.349Z"
   },
   {
    "duration": 258,
    "start_time": "2022-07-19T09:21:01.533Z"
   },
   {
    "duration": 223,
    "start_time": "2022-07-19T09:21:11.280Z"
   },
   {
    "duration": 126,
    "start_time": "2022-07-19T09:23:52.769Z"
   },
   {
    "duration": 22,
    "start_time": "2022-07-19T09:29:41.760Z"
   },
   {
    "duration": 26,
    "start_time": "2022-07-19T09:30:39.001Z"
   },
   {
    "duration": 9,
    "start_time": "2022-07-19T09:32:01.407Z"
   },
   {
    "duration": 9,
    "start_time": "2022-07-19T09:32:12.532Z"
   },
   {
    "duration": 3,
    "start_time": "2022-07-19T09:54:47.701Z"
   },
   {
    "duration": 97,
    "start_time": "2022-07-19T09:54:47.710Z"
   },
   {
    "duration": 29,
    "start_time": "2022-07-19T09:54:47.811Z"
   },
   {
    "duration": 24,
    "start_time": "2022-07-19T09:54:47.849Z"
   },
   {
    "duration": 13,
    "start_time": "2022-07-19T09:54:47.875Z"
   },
   {
    "duration": 45,
    "start_time": "2022-07-19T09:54:47.891Z"
   },
   {
    "duration": 4,
    "start_time": "2022-07-19T09:54:47.939Z"
   },
   {
    "duration": 181,
    "start_time": "2022-07-19T09:54:47.944Z"
   },
   {
    "duration": 14,
    "start_time": "2022-07-19T09:54:48.127Z"
   },
   {
    "duration": 110,
    "start_time": "2022-07-19T09:54:48.142Z"
   },
   {
    "duration": 19,
    "start_time": "2022-07-19T09:54:48.253Z"
   },
   {
    "duration": 24,
    "start_time": "2022-07-19T09:54:48.274Z"
   },
   {
    "duration": 299,
    "start_time": "2022-07-19T09:54:48.300Z"
   },
   {
    "duration": 9,
    "start_time": "2022-07-19T09:54:48.601Z"
   },
   {
    "duration": 92,
    "start_time": "2022-07-19T09:54:48.613Z"
   },
   {
    "duration": 0,
    "start_time": "2022-07-19T09:54:48.706Z"
   },
   {
    "duration": 0,
    "start_time": "2022-07-19T09:54:48.708Z"
   },
   {
    "duration": 0,
    "start_time": "2022-07-19T09:54:48.709Z"
   },
   {
    "duration": 0,
    "start_time": "2022-07-19T09:54:48.711Z"
   },
   {
    "duration": 0,
    "start_time": "2022-07-19T09:54:48.715Z"
   },
   {
    "duration": 0,
    "start_time": "2022-07-19T09:54:48.716Z"
   },
   {
    "duration": 0,
    "start_time": "2022-07-19T09:54:48.717Z"
   },
   {
    "duration": 0,
    "start_time": "2022-07-19T09:54:48.718Z"
   },
   {
    "duration": 17,
    "start_time": "2022-07-19T09:55:05.357Z"
   },
   {
    "duration": 172,
    "start_time": "2022-07-19T09:55:46.306Z"
   },
   {
    "duration": 157,
    "start_time": "2022-07-19T09:56:13.709Z"
   },
   {
    "duration": 160,
    "start_time": "2022-07-19T09:56:28.467Z"
   },
   {
    "duration": 1323,
    "start_time": "2022-07-20T13:37:54.566Z"
   },
   {
    "duration": 233,
    "start_time": "2022-07-20T13:37:55.892Z"
   },
   {
    "duration": 15,
    "start_time": "2022-07-20T13:37:56.126Z"
   },
   {
    "duration": 18,
    "start_time": "2022-07-20T13:37:56.142Z"
   },
   {
    "duration": 10,
    "start_time": "2022-07-20T13:37:56.162Z"
   },
   {
    "duration": 18,
    "start_time": "2022-07-20T13:37:56.173Z"
   },
   {
    "duration": 5,
    "start_time": "2022-07-20T13:37:56.201Z"
   },
   {
    "duration": 172,
    "start_time": "2022-07-20T13:37:56.207Z"
   },
   {
    "duration": 20,
    "start_time": "2022-07-20T13:37:56.381Z"
   },
   {
    "duration": 83,
    "start_time": "2022-07-20T13:37:56.403Z"
   },
   {
    "duration": 24,
    "start_time": "2022-07-20T13:37:56.488Z"
   },
   {
    "duration": 15,
    "start_time": "2022-07-20T13:37:56.513Z"
   },
   {
    "duration": 186,
    "start_time": "2022-07-20T13:37:56.529Z"
   },
   {
    "duration": 15,
    "start_time": "2022-07-20T13:37:56.717Z"
   },
   {
    "duration": 215,
    "start_time": "2022-07-20T13:37:56.733Z"
   },
   {
    "duration": 0,
    "start_time": "2022-07-20T13:37:56.950Z"
   },
   {
    "duration": 0,
    "start_time": "2022-07-20T13:37:56.951Z"
   },
   {
    "duration": 0,
    "start_time": "2022-07-20T13:37:56.952Z"
   },
   {
    "duration": 0,
    "start_time": "2022-07-20T13:37:56.953Z"
   },
   {
    "duration": 0,
    "start_time": "2022-07-20T13:37:56.954Z"
   },
   {
    "duration": 0,
    "start_time": "2022-07-20T13:37:56.955Z"
   },
   {
    "duration": 0,
    "start_time": "2022-07-20T13:37:56.956Z"
   },
   {
    "duration": 0,
    "start_time": "2022-07-20T13:37:56.957Z"
   },
   {
    "duration": 0,
    "start_time": "2022-07-20T13:37:56.958Z"
   },
   {
    "duration": 50,
    "start_time": "2022-07-20T13:38:32.602Z"
   },
   {
    "duration": 10,
    "start_time": "2022-07-20T13:38:37.746Z"
   },
   {
    "duration": 9,
    "start_time": "2022-07-20T13:39:32.315Z"
   },
   {
    "duration": 3,
    "start_time": "2022-07-20T13:54:48.980Z"
   },
   {
    "duration": 75,
    "start_time": "2022-07-20T13:54:48.986Z"
   },
   {
    "duration": 12,
    "start_time": "2022-07-20T13:54:49.063Z"
   },
   {
    "duration": 21,
    "start_time": "2022-07-20T13:54:49.076Z"
   },
   {
    "duration": 10,
    "start_time": "2022-07-20T13:54:49.099Z"
   },
   {
    "duration": 14,
    "start_time": "2022-07-20T13:54:49.110Z"
   },
   {
    "duration": 3,
    "start_time": "2022-07-20T13:54:49.126Z"
   },
   {
    "duration": 156,
    "start_time": "2022-07-20T13:54:49.130Z"
   },
   {
    "duration": 17,
    "start_time": "2022-07-20T13:54:49.288Z"
   },
   {
    "duration": 94,
    "start_time": "2022-07-20T13:54:49.307Z"
   },
   {
    "duration": 11,
    "start_time": "2022-07-20T13:54:49.403Z"
   },
   {
    "duration": 14,
    "start_time": "2022-07-20T13:54:49.416Z"
   },
   {
    "duration": 187,
    "start_time": "2022-07-20T13:54:49.431Z"
   },
   {
    "duration": 14,
    "start_time": "2022-07-20T13:54:49.620Z"
   },
   {
    "duration": 54,
    "start_time": "2022-07-20T13:54:53.159Z"
   },
   {
    "duration": 11,
    "start_time": "2022-07-20T13:55:28.466Z"
   },
   {
    "duration": 169,
    "start_time": "2022-07-20T13:55:34.308Z"
   },
   {
    "duration": 104,
    "start_time": "2022-07-20T13:56:02.467Z"
   },
   {
    "duration": 112,
    "start_time": "2022-07-20T14:00:31.753Z"
   },
   {
    "duration": 3,
    "start_time": "2022-07-20T14:51:13.065Z"
   },
   {
    "duration": 64,
    "start_time": "2022-07-20T14:51:13.161Z"
   },
   {
    "duration": 12,
    "start_time": "2022-07-20T14:51:13.227Z"
   },
   {
    "duration": 19,
    "start_time": "2022-07-20T14:51:13.283Z"
   },
   {
    "duration": 12,
    "start_time": "2022-07-20T14:51:13.361Z"
   },
   {
    "duration": 11,
    "start_time": "2022-07-20T14:51:41.669Z"
   },
   {
    "duration": 3,
    "start_time": "2022-07-20T14:51:42.950Z"
   },
   {
    "duration": 152,
    "start_time": "2022-07-20T14:51:42.955Z"
   },
   {
    "duration": 11,
    "start_time": "2022-07-20T14:51:43.108Z"
   },
   {
    "duration": 99,
    "start_time": "2022-07-20T14:51:43.121Z"
   },
   {
    "duration": 12,
    "start_time": "2022-07-20T14:51:43.222Z"
   },
   {
    "duration": 18,
    "start_time": "2022-07-20T14:51:43.236Z"
   },
   {
    "duration": 271,
    "start_time": "2022-07-20T14:51:43.256Z"
   },
   {
    "duration": 14,
    "start_time": "2022-07-20T14:51:43.529Z"
   },
   {
    "duration": 81,
    "start_time": "2022-07-20T14:51:43.545Z"
   },
   {
    "duration": 0,
    "start_time": "2022-07-20T14:51:43.627Z"
   },
   {
    "duration": 0,
    "start_time": "2022-07-20T14:51:43.628Z"
   },
   {
    "duration": 0,
    "start_time": "2022-07-20T14:51:43.629Z"
   },
   {
    "duration": 0,
    "start_time": "2022-07-20T14:51:43.630Z"
   },
   {
    "duration": 0,
    "start_time": "2022-07-20T14:51:43.631Z"
   },
   {
    "duration": 0,
    "start_time": "2022-07-20T14:51:43.632Z"
   },
   {
    "duration": 0,
    "start_time": "2022-07-20T14:51:43.633Z"
   },
   {
    "duration": 0,
    "start_time": "2022-07-20T14:51:43.635Z"
   },
   {
    "duration": 0,
    "start_time": "2022-07-20T14:51:43.636Z"
   },
   {
    "duration": 1248,
    "start_time": "2022-07-21T09:41:53.523Z"
   },
   {
    "duration": 143,
    "start_time": "2022-07-21T09:41:54.773Z"
   },
   {
    "duration": 13,
    "start_time": "2022-07-21T09:41:54.918Z"
   },
   {
    "duration": 28,
    "start_time": "2022-07-21T09:41:54.933Z"
   },
   {
    "duration": 13,
    "start_time": "2022-07-21T09:41:54.963Z"
   },
   {
    "duration": 13,
    "start_time": "2022-07-21T09:41:54.978Z"
   },
   {
    "duration": 33,
    "start_time": "2022-07-21T09:41:54.993Z"
   },
   {
    "duration": 205,
    "start_time": "2022-07-21T09:41:55.028Z"
   },
   {
    "duration": 11,
    "start_time": "2022-07-21T09:41:55.235Z"
   },
   {
    "duration": 102,
    "start_time": "2022-07-21T09:41:55.248Z"
   },
   {
    "duration": 11,
    "start_time": "2022-07-21T09:41:55.352Z"
   },
   {
    "duration": 33,
    "start_time": "2022-07-21T09:41:55.364Z"
   },
   {
    "duration": 173,
    "start_time": "2022-07-21T09:41:55.399Z"
   },
   {
    "duration": 13,
    "start_time": "2022-07-21T09:41:55.574Z"
   },
   {
    "duration": 185,
    "start_time": "2022-07-21T09:41:55.602Z"
   },
   {
    "duration": 0,
    "start_time": "2022-07-21T09:41:55.788Z"
   },
   {
    "duration": 0,
    "start_time": "2022-07-21T09:41:55.790Z"
   },
   {
    "duration": 0,
    "start_time": "2022-07-21T09:41:55.791Z"
   },
   {
    "duration": 0,
    "start_time": "2022-07-21T09:41:55.792Z"
   },
   {
    "duration": 0,
    "start_time": "2022-07-21T09:41:55.793Z"
   },
   {
    "duration": 0,
    "start_time": "2022-07-21T09:41:55.794Z"
   },
   {
    "duration": 0,
    "start_time": "2022-07-21T09:41:55.795Z"
   },
   {
    "duration": 0,
    "start_time": "2022-07-21T09:41:55.797Z"
   },
   {
    "duration": 0,
    "start_time": "2022-07-21T09:41:55.798Z"
   },
   {
    "duration": 9,
    "start_time": "2022-07-21T09:42:23.163Z"
   },
   {
    "duration": 106,
    "start_time": "2022-07-21T09:46:12.924Z"
   },
   {
    "duration": 2,
    "start_time": "2022-07-21T09:50:28.928Z"
   },
   {
    "duration": 63,
    "start_time": "2022-07-21T09:50:28.932Z"
   },
   {
    "duration": 22,
    "start_time": "2022-07-21T09:50:28.997Z"
   },
   {
    "duration": 21,
    "start_time": "2022-07-21T09:50:29.020Z"
   },
   {
    "duration": 10,
    "start_time": "2022-07-21T09:50:29.043Z"
   },
   {
    "duration": 10,
    "start_time": "2022-07-21T09:50:29.054Z"
   },
   {
    "duration": 3,
    "start_time": "2022-07-21T09:50:29.066Z"
   },
   {
    "duration": 148,
    "start_time": "2022-07-21T09:50:29.071Z"
   },
   {
    "duration": 10,
    "start_time": "2022-07-21T09:50:29.220Z"
   },
   {
    "duration": 90,
    "start_time": "2022-07-21T09:50:29.232Z"
   },
   {
    "duration": 11,
    "start_time": "2022-07-21T09:50:29.324Z"
   },
   {
    "duration": 12,
    "start_time": "2022-07-21T09:50:29.337Z"
   },
   {
    "duration": 181,
    "start_time": "2022-07-21T09:50:29.351Z"
   },
   {
    "duration": 14,
    "start_time": "2022-07-21T09:50:29.535Z"
   },
   {
    "duration": 100,
    "start_time": "2022-07-21T09:50:36.880Z"
   },
   {
    "duration": 175,
    "start_time": "2022-07-21T09:53:24.978Z"
   },
   {
    "duration": 157,
    "start_time": "2022-07-21T09:54:24.006Z"
   },
   {
    "duration": 103,
    "start_time": "2022-07-21T09:57:13.352Z"
   },
   {
    "duration": 118,
    "start_time": "2022-07-21T09:57:56.393Z"
   },
   {
    "duration": 161,
    "start_time": "2022-07-21T09:58:24.194Z"
   },
   {
    "duration": 110,
    "start_time": "2022-07-21T09:59:15.276Z"
   },
   {
    "duration": 156,
    "start_time": "2022-07-21T09:59:44.483Z"
   },
   {
    "duration": 164,
    "start_time": "2022-07-21T10:00:01.476Z"
   },
   {
    "duration": 160,
    "start_time": "2022-07-21T10:00:15.955Z"
   },
   {
    "duration": 206,
    "start_time": "2022-07-21T10:01:36.276Z"
   },
   {
    "duration": 208,
    "start_time": "2022-07-21T10:01:51.645Z"
   },
   {
    "duration": 203,
    "start_time": "2022-07-21T10:02:24.796Z"
   },
   {
    "duration": 293,
    "start_time": "2022-07-21T10:03:09.958Z"
   },
   {
    "duration": 256,
    "start_time": "2022-07-21T10:09:04.404Z"
   },
   {
    "duration": 232,
    "start_time": "2022-07-21T10:09:17.608Z"
   },
   {
    "duration": 213,
    "start_time": "2022-07-21T10:10:32.227Z"
   },
   {
    "duration": 10,
    "start_time": "2022-07-21T10:10:43.921Z"
   },
   {
    "duration": 224,
    "start_time": "2022-07-21T10:12:49.440Z"
   },
   {
    "duration": 217,
    "start_time": "2022-07-21T10:13:02.081Z"
   },
   {
    "duration": 242,
    "start_time": "2022-07-21T10:15:31.681Z"
   },
   {
    "duration": 238,
    "start_time": "2022-07-21T10:16:42.481Z"
   },
   {
    "duration": 7,
    "start_time": "2022-07-21T10:25:01.362Z"
   },
   {
    "duration": 163,
    "start_time": "2022-07-21T10:25:01.691Z"
   },
   {
    "duration": 4,
    "start_time": "2022-07-21T10:25:16.139Z"
   },
   {
    "duration": 138,
    "start_time": "2022-07-21T10:25:16.527Z"
   },
   {
    "duration": 11,
    "start_time": "2022-07-21T10:25:17.802Z"
   },
   {
    "duration": 25,
    "start_time": "2022-07-21T10:25:18.602Z"
   },
   {
    "duration": 5,
    "start_time": "2022-07-21T10:25:21.362Z"
   },
   {
    "duration": 221,
    "start_time": "2022-07-21T10:25:21.731Z"
   },
   {
    "duration": 30,
    "start_time": "2022-07-21T10:25:22.140Z"
   },
   {
    "duration": 33,
    "start_time": "2022-07-21T10:28:40.623Z"
   },
   {
    "duration": 12,
    "start_time": "2022-07-21T10:28:54.043Z"
   },
   {
    "duration": 18,
    "start_time": "2022-07-21T10:29:09.174Z"
   },
   {
    "duration": 22,
    "start_time": "2022-07-21T10:32:02.684Z"
   },
   {
    "duration": 10,
    "start_time": "2022-07-21T10:35:25.065Z"
   },
   {
    "duration": 17,
    "start_time": "2022-07-21T10:35:52.829Z"
   },
   {
    "duration": 36,
    "start_time": "2022-07-21T10:36:16.050Z"
   },
   {
    "duration": 22,
    "start_time": "2022-07-21T10:37:01.577Z"
   },
   {
    "duration": 21,
    "start_time": "2022-07-21T10:39:01.255Z"
   },
   {
    "duration": 31,
    "start_time": "2022-07-21T10:39:07.753Z"
   },
   {
    "duration": 57,
    "start_time": "2022-07-21T10:39:13.597Z"
   },
   {
    "duration": 60,
    "start_time": "2022-07-21T10:39:25.094Z"
   },
   {
    "duration": 1256,
    "start_time": "2022-07-21T10:40:29.421Z"
   },
   {
    "duration": 46,
    "start_time": "2022-07-23T12:20:15.095Z"
   },
   {
    "duration": 1304,
    "start_time": "2022-07-23T12:20:22.010Z"
   },
   {
    "duration": 232,
    "start_time": "2022-07-23T12:20:23.317Z"
   },
   {
    "duration": 14,
    "start_time": "2022-07-23T12:20:23.551Z"
   },
   {
    "duration": 21,
    "start_time": "2022-07-23T12:20:23.567Z"
   },
   {
    "duration": 14,
    "start_time": "2022-07-23T12:20:23.590Z"
   },
   {
    "duration": 5,
    "start_time": "2022-07-23T12:20:23.606Z"
   },
   {
    "duration": 175,
    "start_time": "2022-07-23T12:20:23.624Z"
   },
   {
    "duration": 10,
    "start_time": "2022-07-23T12:20:23.800Z"
   },
   {
    "duration": 92,
    "start_time": "2022-07-23T12:20:23.812Z"
   },
   {
    "duration": 24,
    "start_time": "2022-07-23T12:20:23.907Z"
   },
   {
    "duration": 15,
    "start_time": "2022-07-23T12:20:23.933Z"
   },
   {
    "duration": 143,
    "start_time": "2022-07-23T12:20:25.773Z"
   },
   {
    "duration": 135,
    "start_time": "2022-07-23T12:20:49.679Z"
   },
   {
    "duration": 202,
    "start_time": "2022-07-23T12:24:11.208Z"
   },
   {
    "duration": 147,
    "start_time": "2022-07-23T12:24:35.178Z"
   },
   {
    "duration": 149,
    "start_time": "2022-07-23T12:24:45.448Z"
   },
   {
    "duration": 216,
    "start_time": "2022-07-23T12:25:12.210Z"
   },
   {
    "duration": 146,
    "start_time": "2022-07-23T12:25:17.649Z"
   },
   {
    "duration": 6,
    "start_time": "2022-07-23T12:31:49.548Z"
   },
   {
    "duration": 12,
    "start_time": "2022-07-23T12:32:18.109Z"
   },
   {
    "duration": 12,
    "start_time": "2022-07-23T12:32:32.073Z"
   },
   {
    "duration": 11,
    "start_time": "2022-07-23T12:32:38.579Z"
   },
   {
    "duration": 3,
    "start_time": "2022-07-23T12:32:50.804Z"
   },
   {
    "duration": 68,
    "start_time": "2022-07-23T12:32:50.809Z"
   },
   {
    "duration": 13,
    "start_time": "2022-07-23T12:32:50.878Z"
   },
   {
    "duration": 22,
    "start_time": "2022-07-23T12:32:50.893Z"
   },
   {
    "duration": 6,
    "start_time": "2022-07-23T12:32:52.591Z"
   },
   {
    "duration": 12,
    "start_time": "2022-07-23T12:32:54.770Z"
   },
   {
    "duration": 11,
    "start_time": "2022-07-23T12:33:17.505Z"
   },
   {
    "duration": 12,
    "start_time": "2022-07-23T12:33:20.973Z"
   },
   {
    "duration": 12,
    "start_time": "2022-07-23T12:33:21.630Z"
   },
   {
    "duration": 3,
    "start_time": "2022-07-23T12:33:25.882Z"
   },
   {
    "duration": 72,
    "start_time": "2022-07-23T12:33:25.887Z"
   },
   {
    "duration": 12,
    "start_time": "2022-07-23T12:33:25.961Z"
   },
   {
    "duration": 23,
    "start_time": "2022-07-23T12:33:25.975Z"
   },
   {
    "duration": 6,
    "start_time": "2022-07-23T12:33:27.607Z"
   },
   {
    "duration": 12,
    "start_time": "2022-07-23T12:33:29.932Z"
   },
   {
    "duration": 7,
    "start_time": "2022-07-23T12:35:40.062Z"
   },
   {
    "duration": 11,
    "start_time": "2022-07-23T12:35:40.782Z"
   },
   {
    "duration": 142,
    "start_time": "2022-07-23T12:35:42.203Z"
   },
   {
    "duration": 145,
    "start_time": "2022-07-23T12:35:55.639Z"
   },
   {
    "duration": 142,
    "start_time": "2022-07-23T12:36:10.701Z"
   },
   {
    "duration": 137,
    "start_time": "2022-07-23T12:36:16.689Z"
   },
   {
    "duration": 146,
    "start_time": "2022-07-23T12:36:30.793Z"
   },
   {
    "duration": 157,
    "start_time": "2022-07-23T12:36:59.079Z"
   },
   {
    "duration": 152,
    "start_time": "2022-07-23T12:37:52.232Z"
   },
   {
    "duration": 157,
    "start_time": "2022-07-23T12:37:58.167Z"
   },
   {
    "duration": 148,
    "start_time": "2022-07-23T12:38:03.277Z"
   },
   {
    "duration": 235,
    "start_time": "2022-07-23T12:38:43.840Z"
   },
   {
    "duration": 144,
    "start_time": "2022-07-23T12:40:00.937Z"
   },
   {
    "duration": 140,
    "start_time": "2022-07-23T12:40:12.767Z"
   },
   {
    "duration": 14,
    "start_time": "2022-07-23T12:40:37.775Z"
   },
   {
    "duration": 15,
    "start_time": "2022-07-23T12:40:38.540Z"
   },
   {
    "duration": 143,
    "start_time": "2022-07-23T12:40:55.205Z"
   },
   {
    "duration": 142,
    "start_time": "2022-07-23T12:40:59.071Z"
   },
   {
    "duration": 145,
    "start_time": "2022-07-23T12:41:15.955Z"
   },
   {
    "duration": 161,
    "start_time": "2022-07-23T12:43:30.012Z"
   },
   {
    "duration": 14,
    "start_time": "2022-07-23T12:43:31.171Z"
   },
   {
    "duration": 142,
    "start_time": "2022-07-23T12:43:48.175Z"
   },
   {
    "duration": 129,
    "start_time": "2022-07-23T12:43:56.796Z"
   },
   {
    "duration": 135,
    "start_time": "2022-07-23T12:44:02.351Z"
   },
   {
    "duration": 9,
    "start_time": "2022-07-23T12:44:42.940Z"
   },
   {
    "duration": 6,
    "start_time": "2022-07-23T12:44:47.492Z"
   },
   {
    "duration": 252,
    "start_time": "2022-07-23T12:44:47.701Z"
   },
   {
    "duration": 9,
    "start_time": "2022-07-23T12:45:02.252Z"
   },
   {
    "duration": 7,
    "start_time": "2022-07-23T12:45:05.176Z"
   },
   {
    "duration": 231,
    "start_time": "2022-07-23T12:45:05.565Z"
   },
   {
    "duration": 138,
    "start_time": "2022-07-23T12:45:10.334Z"
   },
   {
    "duration": 3,
    "start_time": "2022-07-23T12:45:29.197Z"
   },
   {
    "duration": 90,
    "start_time": "2022-07-23T12:45:29.202Z"
   },
   {
    "duration": 13,
    "start_time": "2022-07-23T12:45:29.294Z"
   },
   {
    "duration": 26,
    "start_time": "2022-07-23T12:45:29.309Z"
   },
   {
    "duration": 6,
    "start_time": "2022-07-23T12:45:29.337Z"
   },
   {
    "duration": 29,
    "start_time": "2022-07-23T12:45:29.345Z"
   },
   {
    "duration": 147,
    "start_time": "2022-07-23T12:45:29.376Z"
   },
   {
    "duration": 11,
    "start_time": "2022-07-23T12:45:29.525Z"
   },
   {
    "duration": 103,
    "start_time": "2022-07-23T12:45:29.539Z"
   },
   {
    "duration": 13,
    "start_time": "2022-07-23T12:45:29.644Z"
   },
   {
    "duration": 165,
    "start_time": "2022-07-23T12:45:29.658Z"
   },
   {
    "duration": 15,
    "start_time": "2022-07-23T12:45:29.825Z"
   },
   {
    "duration": 149,
    "start_time": "2022-07-23T12:45:29.842Z"
   },
   {
    "duration": 6,
    "start_time": "2022-07-23T12:45:29.992Z"
   },
   {
    "duration": 254,
    "start_time": "2022-07-23T12:45:30.001Z"
   },
   {
    "duration": 8,
    "start_time": "2022-07-23T12:45:30.256Z"
   },
   {
    "duration": 170,
    "start_time": "2022-07-23T12:45:30.265Z"
   },
   {
    "duration": 3,
    "start_time": "2022-07-23T12:45:30.437Z"
   },
   {
    "duration": 106,
    "start_time": "2022-07-23T12:45:30.444Z"
   },
   {
    "duration": 5,
    "start_time": "2022-07-23T12:45:30.551Z"
   },
   {
    "duration": 30,
    "start_time": "2022-07-23T12:45:30.558Z"
   },
   {
    "duration": 5,
    "start_time": "2022-07-23T12:45:30.590Z"
   },
   {
    "duration": 281,
    "start_time": "2022-07-23T12:45:30.596Z"
   },
   {
    "duration": 18,
    "start_time": "2022-07-23T12:45:30.880Z"
   },
   {
    "duration": 245,
    "start_time": "2022-07-23T12:48:46.798Z"
   },
   {
    "duration": 270,
    "start_time": "2022-07-23T12:49:05.423Z"
   },
   {
    "duration": 152,
    "start_time": "2022-07-23T12:49:13.767Z"
   },
   {
    "duration": 173,
    "start_time": "2022-07-23T12:49:38.891Z"
   },
   {
    "duration": 143,
    "start_time": "2022-07-23T12:50:03.050Z"
   },
   {
    "duration": 78,
    "start_time": "2022-07-23T12:50:25.855Z"
   },
   {
    "duration": 88,
    "start_time": "2022-07-23T12:50:33.741Z"
   },
   {
    "duration": 84,
    "start_time": "2022-07-23T12:50:47.514Z"
   },
   {
    "duration": 101,
    "start_time": "2022-07-23T12:51:02.440Z"
   },
   {
    "duration": 90,
    "start_time": "2022-07-23T12:51:32.355Z"
   },
   {
    "duration": 81,
    "start_time": "2022-07-23T12:51:43.390Z"
   },
   {
    "duration": 162,
    "start_time": "2022-07-23T12:52:10.285Z"
   },
   {
    "duration": 143,
    "start_time": "2022-07-23T12:52:28.272Z"
   },
   {
    "duration": 138,
    "start_time": "2022-07-23T12:52:58.546Z"
   },
   {
    "duration": 142,
    "start_time": "2022-07-23T12:53:22.458Z"
   },
   {
    "duration": 218,
    "start_time": "2022-07-23T12:53:44.375Z"
   },
   {
    "duration": 225,
    "start_time": "2022-07-23T12:54:15.653Z"
   },
   {
    "duration": 214,
    "start_time": "2022-07-23T12:54:21.308Z"
   },
   {
    "duration": 8,
    "start_time": "2022-07-23T12:54:29.343Z"
   },
   {
    "duration": 215,
    "start_time": "2022-07-23T12:54:29.755Z"
   },
   {
    "duration": 4,
    "start_time": "2022-07-23T12:54:32.624Z"
   },
   {
    "duration": 77,
    "start_time": "2022-07-23T12:54:32.630Z"
   },
   {
    "duration": 13,
    "start_time": "2022-07-23T12:54:32.708Z"
   },
   {
    "duration": 22,
    "start_time": "2022-07-23T12:54:32.723Z"
   },
   {
    "duration": 6,
    "start_time": "2022-07-23T12:54:32.747Z"
   },
   {
    "duration": 17,
    "start_time": "2022-07-23T12:54:32.755Z"
   },
   {
    "duration": 145,
    "start_time": "2022-07-23T12:54:32.773Z"
   },
   {
    "duration": 11,
    "start_time": "2022-07-23T12:54:32.923Z"
   },
   {
    "duration": 93,
    "start_time": "2022-07-23T12:54:32.936Z"
   },
   {
    "duration": 14,
    "start_time": "2022-07-23T12:54:33.031Z"
   },
   {
    "duration": 164,
    "start_time": "2022-07-23T12:54:33.047Z"
   },
   {
    "duration": 22,
    "start_time": "2022-07-23T12:54:33.212Z"
   },
   {
    "duration": 143,
    "start_time": "2022-07-23T12:54:33.235Z"
   },
   {
    "duration": 6,
    "start_time": "2022-07-23T12:54:33.379Z"
   },
   {
    "duration": 221,
    "start_time": "2022-07-23T12:54:35.144Z"
   },
   {
    "duration": 322,
    "start_time": "2022-07-23T12:54:58.775Z"
   },
   {
    "duration": 339,
    "start_time": "2022-07-23T12:55:18.280Z"
   },
   {
    "duration": 237,
    "start_time": "2022-07-23T12:55:29.975Z"
   },
   {
    "duration": 115,
    "start_time": "2022-07-23T12:56:04.581Z"
   },
   {
    "duration": 264,
    "start_time": "2022-07-23T12:56:11.477Z"
   },
   {
    "duration": 139,
    "start_time": "2022-07-23T12:56:58.034Z"
   },
   {
    "duration": 143,
    "start_time": "2022-07-23T12:57:13.903Z"
   },
   {
    "duration": 4,
    "start_time": "2022-07-23T12:57:22.250Z"
   },
   {
    "duration": 89,
    "start_time": "2022-07-23T12:57:22.255Z"
   },
   {
    "duration": 13,
    "start_time": "2022-07-23T12:57:22.346Z"
   },
   {
    "duration": 27,
    "start_time": "2022-07-23T12:57:22.361Z"
   },
   {
    "duration": 6,
    "start_time": "2022-07-23T12:57:22.390Z"
   },
   {
    "duration": 28,
    "start_time": "2022-07-23T12:57:22.398Z"
   },
   {
    "duration": 150,
    "start_time": "2022-07-23T12:57:22.428Z"
   },
   {
    "duration": 10,
    "start_time": "2022-07-23T12:57:22.580Z"
   },
   {
    "duration": 97,
    "start_time": "2022-07-23T12:57:22.593Z"
   },
   {
    "duration": 12,
    "start_time": "2022-07-23T12:57:22.692Z"
   },
   {
    "duration": 161,
    "start_time": "2022-07-23T12:57:22.706Z"
   },
   {
    "duration": 15,
    "start_time": "2022-07-23T12:57:22.869Z"
   },
   {
    "duration": 146,
    "start_time": "2022-07-23T12:57:22.886Z"
   },
   {
    "duration": 7,
    "start_time": "2022-07-23T12:57:23.034Z"
   },
   {
    "duration": 240,
    "start_time": "2022-07-23T12:57:23.042Z"
   },
   {
    "duration": 7,
    "start_time": "2022-07-23T12:57:23.284Z"
   },
   {
    "duration": 257,
    "start_time": "2022-07-23T12:57:23.292Z"
   },
   {
    "duration": 3,
    "start_time": "2022-07-23T12:57:23.551Z"
   },
   {
    "duration": 105,
    "start_time": "2022-07-23T12:57:23.556Z"
   },
   {
    "duration": 5,
    "start_time": "2022-07-23T12:57:23.663Z"
   },
   {
    "duration": 20,
    "start_time": "2022-07-23T12:57:23.669Z"
   },
   {
    "duration": 4,
    "start_time": "2022-07-23T12:57:23.690Z"
   },
   {
    "duration": 15,
    "start_time": "2022-07-23T12:57:25.191Z"
   },
   {
    "duration": 153,
    "start_time": "2022-07-23T13:02:07.585Z"
   },
   {
    "duration": 78,
    "start_time": "2022-07-23T13:02:34.882Z"
   },
   {
    "duration": 77,
    "start_time": "2022-07-23T13:02:45.751Z"
   },
   {
    "duration": 161,
    "start_time": "2022-07-23T13:02:56.745Z"
   },
   {
    "duration": 143,
    "start_time": "2022-07-23T13:03:21.511Z"
   },
   {
    "duration": 177,
    "start_time": "2022-07-23T13:04:03.888Z"
   },
   {
    "duration": 161,
    "start_time": "2022-07-23T13:04:16.762Z"
   },
   {
    "duration": 166,
    "start_time": "2022-07-23T13:04:25.951Z"
   },
   {
    "duration": 174,
    "start_time": "2022-07-23T13:06:34.614Z"
   },
   {
    "duration": 225,
    "start_time": "2022-07-23T13:06:57.207Z"
   },
   {
    "duration": 183,
    "start_time": "2022-07-23T13:07:03.505Z"
   },
   {
    "duration": 150,
    "start_time": "2022-07-23T13:07:50.286Z"
   },
   {
    "duration": 258,
    "start_time": "2022-07-23T13:08:15.825Z"
   },
   {
    "duration": 150,
    "start_time": "2022-07-23T13:09:01.266Z"
   },
   {
    "duration": 18,
    "start_time": "2022-07-23T13:09:01.419Z"
   },
   {
    "duration": 13,
    "start_time": "2022-07-23T13:18:06.127Z"
   },
   {
    "duration": 14,
    "start_time": "2022-07-23T13:18:15.218Z"
   },
   {
    "duration": 1187,
    "start_time": "2022-07-24T12:27:09.167Z"
   },
   {
    "duration": 74,
    "start_time": "2022-07-24T12:27:10.357Z"
   },
   {
    "duration": 16,
    "start_time": "2022-07-24T12:27:10.437Z"
   },
   {
    "duration": 20,
    "start_time": "2022-07-24T12:27:10.456Z"
   },
   {
    "duration": 9,
    "start_time": "2022-07-24T12:27:10.478Z"
   },
   {
    "duration": 17,
    "start_time": "2022-07-24T12:27:10.489Z"
   },
   {
    "duration": 192,
    "start_time": "2022-07-24T12:27:10.526Z"
   },
   {
    "duration": 19,
    "start_time": "2022-07-24T12:27:10.721Z"
   },
   {
    "duration": 98,
    "start_time": "2022-07-24T12:27:10.745Z"
   },
   {
    "duration": 13,
    "start_time": "2022-07-24T12:27:10.846Z"
   },
   {
    "duration": 187,
    "start_time": "2022-07-24T12:27:10.861Z"
   },
   {
    "duration": 17,
    "start_time": "2022-07-24T12:27:11.050Z"
   },
   {
    "duration": 184,
    "start_time": "2022-07-24T12:27:11.068Z"
   },
   {
    "duration": 7,
    "start_time": "2022-07-24T12:27:11.254Z"
   },
   {
    "duration": 254,
    "start_time": "2022-07-24T12:27:11.262Z"
   },
   {
    "duration": 18,
    "start_time": "2022-07-24T12:27:11.517Z"
   },
   {
    "duration": 156,
    "start_time": "2022-07-24T12:27:11.541Z"
   },
   {
    "duration": 4,
    "start_time": "2022-07-24T12:27:11.699Z"
   },
   {
    "duration": 150,
    "start_time": "2022-07-24T12:27:11.704Z"
   },
   {
    "duration": 5,
    "start_time": "2022-07-24T12:27:11.856Z"
   },
   {
    "duration": 37,
    "start_time": "2022-07-24T12:27:11.863Z"
   },
   {
    "duration": 10,
    "start_time": "2022-07-24T12:27:11.902Z"
   },
   {
    "duration": 230,
    "start_time": "2022-07-24T12:27:11.913Z"
   },
   {
    "duration": 18,
    "start_time": "2022-07-24T12:27:12.144Z"
   },
   {
    "duration": 48,
    "start_time": "2022-07-25T10:15:49.554Z"
   },
   {
    "duration": 1461,
    "start_time": "2022-07-25T10:15:55.615Z"
   },
   {
    "duration": 253,
    "start_time": "2022-07-25T10:15:57.079Z"
   },
   {
    "duration": 15,
    "start_time": "2022-07-25T10:15:57.334Z"
   },
   {
    "duration": 29,
    "start_time": "2022-07-25T10:15:57.351Z"
   },
   {
    "duration": 8,
    "start_time": "2022-07-25T10:15:58.925Z"
   },
   {
    "duration": 26,
    "start_time": "2022-07-25T10:19:11.486Z"
   },
   {
    "duration": 20,
    "start_time": "2022-07-25T10:19:30.933Z"
   },
   {
    "duration": 26,
    "start_time": "2022-07-25T10:43:37.631Z"
   },
   {
    "duration": 28,
    "start_time": "2022-07-25T10:48:10.482Z"
   },
   {
    "duration": 24,
    "start_time": "2022-07-25T10:48:37.270Z"
   },
   {
    "duration": 20,
    "start_time": "2022-07-25T10:48:42.581Z"
   },
   {
    "duration": 88,
    "start_time": "2022-07-25T10:50:08.567Z"
   },
   {
    "duration": 26,
    "start_time": "2022-07-25T10:51:13.694Z"
   },
   {
    "duration": 24,
    "start_time": "2022-07-25T10:52:13.764Z"
   },
   {
    "duration": 36,
    "start_time": "2022-07-25T10:55:31.238Z"
   },
   {
    "duration": 12,
    "start_time": "2022-07-25T11:03:36.246Z"
   },
   {
    "duration": 9,
    "start_time": "2022-07-25T11:03:41.068Z"
   },
   {
    "duration": 9,
    "start_time": "2022-07-25T11:15:45.610Z"
   },
   {
    "duration": 3,
    "start_time": "2022-07-25T11:16:41.544Z"
   },
   {
    "duration": 4,
    "start_time": "2022-07-25T11:17:00.514Z"
   },
   {
    "duration": 51,
    "start_time": "2022-07-25T11:17:43.720Z"
   },
   {
    "duration": 8,
    "start_time": "2022-07-25T11:17:54.795Z"
   },
   {
    "duration": 1397,
    "start_time": "2022-07-25T11:19:41.349Z"
   },
   {
    "duration": 0,
    "start_time": "2022-07-25T11:19:42.748Z"
   },
   {
    "duration": 58,
    "start_time": "2022-07-25T11:19:58.973Z"
   },
   {
    "duration": 6,
    "start_time": "2022-07-25T11:20:00.044Z"
   },
   {
    "duration": 30,
    "start_time": "2022-07-25T11:20:07.805Z"
   },
   {
    "duration": 23,
    "start_time": "2022-07-25T11:29:07.243Z"
   },
   {
    "duration": 46,
    "start_time": "2022-07-25T11:29:14.213Z"
   },
   {
    "duration": 39,
    "start_time": "2022-07-25T11:33:46.848Z"
   },
   {
    "duration": 47,
    "start_time": "2022-07-25T13:43:55.807Z"
   },
   {
    "duration": 1287,
    "start_time": "2022-07-25T13:43:59.525Z"
   },
   {
    "duration": 219,
    "start_time": "2022-07-25T13:44:00.815Z"
   },
   {
    "duration": 20,
    "start_time": "2022-07-25T13:44:01.037Z"
   },
   {
    "duration": 42,
    "start_time": "2022-07-25T13:44:01.059Z"
   },
   {
    "duration": 22,
    "start_time": "2022-07-25T13:44:01.104Z"
   },
   {
    "duration": 45,
    "start_time": "2022-07-25T13:44:01.128Z"
   },
   {
    "duration": 47,
    "start_time": "2022-07-25T13:44:01.175Z"
   },
   {
    "duration": 30,
    "start_time": "2022-07-25T13:44:01.224Z"
   },
   {
    "duration": 35,
    "start_time": "2022-07-25T13:44:01.256Z"
   },
   {
    "duration": 54,
    "start_time": "2022-07-25T13:44:01.292Z"
   },
   {
    "duration": 0,
    "start_time": "2022-07-25T13:44:01.348Z"
   },
   {
    "duration": 0,
    "start_time": "2022-07-25T13:44:01.349Z"
   },
   {
    "duration": 0,
    "start_time": "2022-07-25T13:44:01.351Z"
   },
   {
    "duration": 0,
    "start_time": "2022-07-25T13:44:01.352Z"
   },
   {
    "duration": 0,
    "start_time": "2022-07-25T13:44:01.353Z"
   },
   {
    "duration": 0,
    "start_time": "2022-07-25T13:44:01.354Z"
   },
   {
    "duration": 0,
    "start_time": "2022-07-25T13:44:01.355Z"
   },
   {
    "duration": 0,
    "start_time": "2022-07-25T13:44:01.356Z"
   },
   {
    "duration": 16,
    "start_time": "2022-07-25T13:44:16.035Z"
   },
   {
    "duration": 9,
    "start_time": "2022-07-25T13:44:17.198Z"
   },
   {
    "duration": 12,
    "start_time": "2022-07-25T13:44:17.558Z"
   },
   {
    "duration": 184,
    "start_time": "2022-07-25T13:44:18.046Z"
   },
   {
    "duration": 15,
    "start_time": "2022-07-25T13:44:20.216Z"
   },
   {
    "duration": 80,
    "start_time": "2022-07-25T13:44:20.707Z"
   },
   {
    "duration": 13,
    "start_time": "2022-07-25T13:44:23.378Z"
   },
   {
    "duration": 155,
    "start_time": "2022-07-25T13:44:24.019Z"
   },
   {
    "duration": 144,
    "start_time": "2022-07-25T13:44:25.703Z"
   },
   {
    "duration": 146,
    "start_time": "2022-07-25T13:45:56.071Z"
   },
   {
    "duration": 144,
    "start_time": "2022-07-25T13:46:07.258Z"
   },
   {
    "duration": 3,
    "start_time": "2022-07-25T13:52:46.740Z"
   },
   {
    "duration": 9,
    "start_time": "2022-07-25T13:52:58.927Z"
   },
   {
    "duration": 9,
    "start_time": "2022-07-25T13:53:03.199Z"
   },
   {
    "duration": 152,
    "start_time": "2022-07-25T13:53:19.240Z"
   },
   {
    "duration": 79,
    "start_time": "2022-07-25T13:53:48.909Z"
   },
   {
    "duration": 153,
    "start_time": "2022-07-25T13:54:00.067Z"
   },
   {
    "duration": 246,
    "start_time": "2022-07-25T13:54:05.897Z"
   },
   {
    "duration": 13,
    "start_time": "2022-07-25T13:56:25.366Z"
   },
   {
    "duration": 140,
    "start_time": "2022-07-25T13:57:17.717Z"
   },
   {
    "duration": 11,
    "start_time": "2022-07-25T13:57:19.467Z"
   },
   {
    "duration": 20834,
    "start_time": "2022-07-25T13:57:35.507Z"
   },
   {
    "duration": 147,
    "start_time": "2022-07-25T13:58:48.109Z"
   },
   {
    "duration": 170,
    "start_time": "2022-07-25T13:59:21.488Z"
   },
   {
    "duration": 149,
    "start_time": "2022-07-25T13:59:25.519Z"
   },
   {
    "duration": 766,
    "start_time": "2022-07-25T13:59:28.229Z"
   },
   {
    "duration": 0,
    "start_time": "2022-07-25T13:59:28.997Z"
   },
   {
    "duration": 4,
    "start_time": "2022-07-25T13:59:39.167Z"
   },
   {
    "duration": 82,
    "start_time": "2022-07-25T13:59:39.176Z"
   },
   {
    "duration": 12,
    "start_time": "2022-07-25T13:59:39.260Z"
   },
   {
    "duration": 31,
    "start_time": "2022-07-25T13:59:39.273Z"
   },
   {
    "duration": 13,
    "start_time": "2022-07-25T13:59:39.305Z"
   },
   {
    "duration": 45,
    "start_time": "2022-07-25T13:59:39.320Z"
   },
   {
    "duration": 33,
    "start_time": "2022-07-25T13:59:39.367Z"
   },
   {
    "duration": 17,
    "start_time": "2022-07-25T13:59:39.402Z"
   },
   {
    "duration": 20,
    "start_time": "2022-07-25T13:59:39.420Z"
   },
   {
    "duration": 68,
    "start_time": "2022-07-25T13:59:39.442Z"
   },
   {
    "duration": 32,
    "start_time": "2022-07-25T13:59:39.512Z"
   },
   {
    "duration": 36,
    "start_time": "2022-07-25T13:59:39.546Z"
   },
   {
    "duration": 179,
    "start_time": "2022-07-25T13:59:39.584Z"
   },
   {
    "duration": 11,
    "start_time": "2022-07-25T13:59:39.765Z"
   },
   {
    "duration": 154,
    "start_time": "2022-07-25T13:59:39.779Z"
   },
   {
    "duration": 9,
    "start_time": "2022-07-25T13:59:39.936Z"
   },
   {
    "duration": 41,
    "start_time": "2022-07-25T13:59:39.947Z"
   },
   {
    "duration": 13,
    "start_time": "2022-07-25T13:59:42.957Z"
   },
   {
    "duration": 2351,
    "start_time": "2022-07-25T13:59:58.796Z"
   },
   {
    "duration": 6,
    "start_time": "2022-07-25T14:00:13.751Z"
   },
   {
    "duration": 1005,
    "start_time": "2022-07-25T14:00:40.337Z"
   },
   {
    "duration": 3,
    "start_time": "2022-07-25T14:00:55.291Z"
   },
   {
    "duration": 81,
    "start_time": "2022-07-25T14:00:55.296Z"
   },
   {
    "duration": 14,
    "start_time": "2022-07-25T14:00:55.378Z"
   },
   {
    "duration": 30,
    "start_time": "2022-07-25T14:00:55.394Z"
   },
   {
    "duration": 7,
    "start_time": "2022-07-25T14:00:55.426Z"
   },
   {
    "duration": 36,
    "start_time": "2022-07-25T14:00:55.434Z"
   },
   {
    "duration": 26,
    "start_time": "2022-07-25T14:00:55.472Z"
   },
   {
    "duration": 10,
    "start_time": "2022-07-25T14:00:55.500Z"
   },
   {
    "duration": 16,
    "start_time": "2022-07-25T14:00:55.512Z"
   },
   {
    "duration": 36,
    "start_time": "2022-07-25T14:00:55.529Z"
   },
   {
    "duration": 16,
    "start_time": "2022-07-25T14:00:55.567Z"
   },
   {
    "duration": 20,
    "start_time": "2022-07-25T14:00:55.584Z"
   },
   {
    "duration": 156,
    "start_time": "2022-07-25T14:00:55.606Z"
   },
   {
    "duration": 12,
    "start_time": "2022-07-25T14:00:55.764Z"
   },
   {
    "duration": 95,
    "start_time": "2022-07-25T14:00:55.778Z"
   },
   {
    "duration": 8,
    "start_time": "2022-07-25T14:00:55.875Z"
   },
   {
    "duration": 25,
    "start_time": "2022-07-25T14:00:55.885Z"
   },
   {
    "duration": 136,
    "start_time": "2022-07-25T14:00:57.758Z"
   },
   {
    "duration": 11,
    "start_time": "2022-07-25T14:01:26.227Z"
   },
   {
    "duration": 9,
    "start_time": "2022-07-25T14:01:53.721Z"
   },
   {
    "duration": 151,
    "start_time": "2022-07-25T14:03:07.997Z"
   },
   {
    "duration": 145,
    "start_time": "2022-07-25T14:04:24.921Z"
   },
   {
    "duration": 139,
    "start_time": "2022-07-25T14:04:32.227Z"
   },
   {
    "duration": 10,
    "start_time": "2022-07-25T14:04:38.508Z"
   },
   {
    "duration": 77,
    "start_time": "2022-07-25T14:04:38.526Z"
   },
   {
    "duration": 23,
    "start_time": "2022-07-25T14:04:38.605Z"
   },
   {
    "duration": 17,
    "start_time": "2022-07-25T14:04:38.630Z"
   },
   {
    "duration": 6,
    "start_time": "2022-07-25T14:04:38.649Z"
   },
   {
    "duration": 19,
    "start_time": "2022-07-25T14:04:38.656Z"
   },
   {
    "duration": 50,
    "start_time": "2022-07-25T14:04:38.677Z"
   },
   {
    "duration": 7,
    "start_time": "2022-07-25T14:04:38.729Z"
   },
   {
    "duration": 17,
    "start_time": "2022-07-25T14:04:38.739Z"
   },
   {
    "duration": 26,
    "start_time": "2022-07-25T14:04:38.758Z"
   },
   {
    "duration": 6,
    "start_time": "2022-07-25T14:04:38.788Z"
   },
   {
    "duration": 28,
    "start_time": "2022-07-25T14:04:38.796Z"
   },
   {
    "duration": 176,
    "start_time": "2022-07-25T14:04:38.826Z"
   },
   {
    "duration": 28,
    "start_time": "2022-07-25T14:04:39.004Z"
   },
   {
    "duration": 96,
    "start_time": "2022-07-25T14:04:39.035Z"
   },
   {
    "duration": 12,
    "start_time": "2022-07-25T14:04:39.134Z"
   },
   {
    "duration": 10,
    "start_time": "2022-07-25T14:04:39.147Z"
   },
   {
    "duration": 168,
    "start_time": "2022-07-25T14:04:39.159Z"
   },
   {
    "duration": 15,
    "start_time": "2022-07-25T14:04:39.329Z"
   },
   {
    "duration": 18,
    "start_time": "2022-07-25T14:04:39.346Z"
   },
   {
    "duration": 136,
    "start_time": "2022-07-25T14:04:41.149Z"
   },
   {
    "duration": 246,
    "start_time": "2022-07-25T14:04:52.068Z"
   },
   {
    "duration": 3,
    "start_time": "2022-07-25T14:04:55.777Z"
   },
   {
    "duration": 77,
    "start_time": "2022-07-25T14:04:55.782Z"
   },
   {
    "duration": 12,
    "start_time": "2022-07-25T14:04:55.861Z"
   },
   {
    "duration": 22,
    "start_time": "2022-07-25T14:04:55.875Z"
   },
   {
    "duration": 13,
    "start_time": "2022-07-25T14:04:55.899Z"
   },
   {
    "duration": 21,
    "start_time": "2022-07-25T14:04:55.913Z"
   },
   {
    "duration": 22,
    "start_time": "2022-07-25T14:04:55.936Z"
   },
   {
    "duration": 5,
    "start_time": "2022-07-25T14:04:55.959Z"
   },
   {
    "duration": 5,
    "start_time": "2022-07-25T14:04:55.966Z"
   },
   {
    "duration": 37,
    "start_time": "2022-07-25T14:04:55.973Z"
   },
   {
    "duration": 10,
    "start_time": "2022-07-25T14:04:56.012Z"
   },
   {
    "duration": 25,
    "start_time": "2022-07-25T14:04:56.024Z"
   },
   {
    "duration": 159,
    "start_time": "2022-07-25T14:04:56.053Z"
   },
   {
    "duration": 11,
    "start_time": "2022-07-25T14:04:56.213Z"
   },
   {
    "duration": 93,
    "start_time": "2022-07-25T14:04:56.226Z"
   },
   {
    "duration": 9,
    "start_time": "2022-07-25T14:04:56.321Z"
   },
   {
    "duration": 12,
    "start_time": "2022-07-25T14:04:56.332Z"
   },
   {
    "duration": 8,
    "start_time": "2022-07-25T14:04:57.847Z"
   },
   {
    "duration": 165,
    "start_time": "2022-07-25T14:04:58.600Z"
   },
   {
    "duration": 14,
    "start_time": "2022-07-25T14:05:10.722Z"
   },
   {
    "duration": 9,
    "start_time": "2022-07-25T14:05:11.295Z"
   },
   {
    "duration": 165,
    "start_time": "2022-07-25T14:05:12.027Z"
   },
   {
    "duration": 155,
    "start_time": "2022-07-25T14:05:56.427Z"
   },
   {
    "duration": 152,
    "start_time": "2022-07-25T14:06:08.107Z"
   },
   {
    "duration": 1328,
    "start_time": "2022-07-25T14:06:12.580Z"
   },
   {
    "duration": 3,
    "start_time": "2022-07-25T14:06:25.389Z"
   },
   {
    "duration": 86,
    "start_time": "2022-07-25T14:06:25.397Z"
   },
   {
    "duration": 12,
    "start_time": "2022-07-25T14:06:25.485Z"
   },
   {
    "duration": 33,
    "start_time": "2022-07-25T14:06:25.499Z"
   },
   {
    "duration": 7,
    "start_time": "2022-07-25T14:06:25.533Z"
   },
   {
    "duration": 29,
    "start_time": "2022-07-25T14:06:25.542Z"
   },
   {
    "duration": 47,
    "start_time": "2022-07-25T14:06:25.573Z"
   },
   {
    "duration": 27,
    "start_time": "2022-07-25T14:06:25.623Z"
   },
   {
    "duration": 23,
    "start_time": "2022-07-25T14:06:25.652Z"
   },
   {
    "duration": 42,
    "start_time": "2022-07-25T14:06:25.676Z"
   },
   {
    "duration": 21,
    "start_time": "2022-07-25T14:06:25.720Z"
   },
   {
    "duration": 31,
    "start_time": "2022-07-25T14:06:25.742Z"
   },
   {
    "duration": 170,
    "start_time": "2022-07-25T14:06:25.774Z"
   },
   {
    "duration": 12,
    "start_time": "2022-07-25T14:06:25.946Z"
   },
   {
    "duration": 109,
    "start_time": "2022-07-25T14:06:25.962Z"
   },
   {
    "duration": 9,
    "start_time": "2022-07-25T14:06:26.072Z"
   },
   {
    "duration": 38,
    "start_time": "2022-07-25T14:06:26.082Z"
   },
   {
    "duration": 156,
    "start_time": "2022-07-25T14:06:26.123Z"
   },
   {
    "duration": 11,
    "start_time": "2022-07-25T14:06:26.281Z"
   },
   {
    "duration": 28,
    "start_time": "2022-07-25T14:06:26.293Z"
   },
   {
    "duration": 165,
    "start_time": "2022-07-25T14:06:28.067Z"
   },
   {
    "duration": 10,
    "start_time": "2022-07-25T14:07:30.117Z"
   },
   {
    "duration": 234,
    "start_time": "2022-07-25T14:07:31.130Z"
   },
   {
    "duration": 11,
    "start_time": "2022-07-25T14:07:49.585Z"
   },
   {
    "duration": 1368,
    "start_time": "2022-07-25T14:12:11.199Z"
   },
   {
    "duration": 3,
    "start_time": "2022-07-25T14:12:16.258Z"
   },
   {
    "duration": 84,
    "start_time": "2022-07-25T14:12:16.263Z"
   },
   {
    "duration": 13,
    "start_time": "2022-07-25T14:12:16.348Z"
   },
   {
    "duration": 30,
    "start_time": "2022-07-25T14:12:16.363Z"
   },
   {
    "duration": 6,
    "start_time": "2022-07-25T14:12:16.395Z"
   },
   {
    "duration": 36,
    "start_time": "2022-07-25T14:12:16.402Z"
   },
   {
    "duration": 21,
    "start_time": "2022-07-25T14:12:16.440Z"
   },
   {
    "duration": 4,
    "start_time": "2022-07-25T14:12:16.463Z"
   },
   {
    "duration": 5,
    "start_time": "2022-07-25T14:12:16.469Z"
   },
   {
    "duration": 21,
    "start_time": "2022-07-25T14:12:16.476Z"
   },
   {
    "duration": 7,
    "start_time": "2022-07-25T14:12:16.518Z"
   },
   {
    "duration": 21,
    "start_time": "2022-07-25T14:12:16.527Z"
   },
   {
    "duration": 152,
    "start_time": "2022-07-25T14:12:16.550Z"
   },
   {
    "duration": 19,
    "start_time": "2022-07-25T14:12:16.714Z"
   },
   {
    "duration": 94,
    "start_time": "2022-07-25T14:12:16.735Z"
   },
   {
    "duration": 9,
    "start_time": "2022-07-25T14:12:16.832Z"
   },
   {
    "duration": 12,
    "start_time": "2022-07-25T14:12:16.842Z"
   },
   {
    "duration": 146,
    "start_time": "2022-07-25T14:12:16.855Z"
   },
   {
    "duration": 21,
    "start_time": "2022-07-25T14:12:17.002Z"
   },
   {
    "duration": 12,
    "start_time": "2022-07-25T14:12:17.024Z"
   },
   {
    "duration": 164,
    "start_time": "2022-07-25T14:12:17.037Z"
   },
   {
    "duration": 19,
    "start_time": "2022-07-25T14:12:17.203Z"
   },
   {
    "duration": 257,
    "start_time": "2022-07-25T14:12:17.224Z"
   },
   {
    "duration": 11,
    "start_time": "2022-07-25T14:12:17.483Z"
   },
   {
    "duration": 163,
    "start_time": "2022-07-25T14:12:17.495Z"
   },
   {
    "duration": 3,
    "start_time": "2022-07-25T14:12:17.660Z"
   },
   {
    "duration": 108,
    "start_time": "2022-07-25T14:12:17.665Z"
   },
   {
    "duration": 6,
    "start_time": "2022-07-25T14:12:17.774Z"
   },
   {
    "duration": 17,
    "start_time": "2022-07-25T14:12:19.537Z"
   },
   {
    "duration": 24,
    "start_time": "2022-07-25T14:12:58.497Z"
   },
   {
    "duration": 5,
    "start_time": "2022-07-25T14:15:31.830Z"
   },
   {
    "duration": 120,
    "start_time": "2022-07-25T14:15:32.312Z"
   },
   {
    "duration": 6,
    "start_time": "2022-07-25T14:15:32.757Z"
   },
   {
    "duration": 15,
    "start_time": "2022-07-25T14:15:33.631Z"
   },
   {
    "duration": 4,
    "start_time": "2022-07-25T14:15:54.727Z"
   },
   {
    "duration": 106,
    "start_time": "2022-07-25T14:15:55.158Z"
   },
   {
    "duration": 8,
    "start_time": "2022-07-25T14:15:55.609Z"
   },
   {
    "duration": 14,
    "start_time": "2022-07-25T14:15:56.927Z"
   },
   {
    "duration": 223,
    "start_time": "2022-07-25T14:26:54.993Z"
   },
   {
    "duration": 170,
    "start_time": "2022-07-25T14:27:55.967Z"
   },
   {
    "duration": 4,
    "start_time": "2022-07-25T14:28:00.907Z"
   },
   {
    "duration": 90,
    "start_time": "2022-07-25T14:28:00.919Z"
   },
   {
    "duration": 19,
    "start_time": "2022-07-25T14:28:01.016Z"
   },
   {
    "duration": 27,
    "start_time": "2022-07-25T14:28:01.037Z"
   },
   {
    "duration": 27,
    "start_time": "2022-07-25T14:28:01.066Z"
   },
   {
    "duration": 53,
    "start_time": "2022-07-25T14:28:01.096Z"
   },
   {
    "duration": 29,
    "start_time": "2022-07-25T14:28:01.151Z"
   },
   {
    "duration": 52,
    "start_time": "2022-07-25T14:28:01.182Z"
   },
   {
    "duration": 44,
    "start_time": "2022-07-25T14:28:01.236Z"
   },
   {
    "duration": 74,
    "start_time": "2022-07-25T14:28:01.281Z"
   },
   {
    "duration": 11,
    "start_time": "2022-07-25T14:28:01.356Z"
   },
   {
    "duration": 22,
    "start_time": "2022-07-25T14:28:01.369Z"
   },
   {
    "duration": 254,
    "start_time": "2022-07-25T14:28:01.393Z"
   },
   {
    "duration": 16,
    "start_time": "2022-07-25T14:28:01.649Z"
   },
   {
    "duration": 166,
    "start_time": "2022-07-25T14:28:01.671Z"
   },
   {
    "duration": 10,
    "start_time": "2022-07-25T14:28:01.839Z"
   },
   {
    "duration": 28,
    "start_time": "2022-07-25T14:28:01.850Z"
   },
   {
    "duration": 164,
    "start_time": "2022-07-25T14:28:01.880Z"
   },
   {
    "duration": 12,
    "start_time": "2022-07-25T14:28:02.046Z"
   },
   {
    "duration": 18,
    "start_time": "2022-07-25T14:28:02.060Z"
   },
   {
    "duration": 173,
    "start_time": "2022-07-25T14:28:02.080Z"
   },
   {
    "duration": 6,
    "start_time": "2022-07-25T14:28:02.255Z"
   },
   {
    "duration": 361,
    "start_time": "2022-07-25T14:28:02.263Z"
   },
   {
    "duration": 12,
    "start_time": "2022-07-25T14:28:02.627Z"
   },
   {
    "duration": 154,
    "start_time": "2022-07-25T14:28:02.641Z"
   },
   {
    "duration": 4,
    "start_time": "2022-07-25T14:28:02.797Z"
   },
   {
    "duration": 117,
    "start_time": "2022-07-25T14:28:02.809Z"
   },
   {
    "duration": 6,
    "start_time": "2022-07-25T14:28:02.928Z"
   },
   {
    "duration": 34,
    "start_time": "2022-07-25T14:28:02.936Z"
   },
   {
    "duration": 24,
    "start_time": "2022-07-25T14:28:02.971Z"
   },
   {
    "duration": 4,
    "start_time": "2022-07-25T14:28:02.997Z"
   },
   {
    "duration": 250,
    "start_time": "2022-07-25T14:28:04.795Z"
   },
   {
    "duration": 221,
    "start_time": "2022-07-25T14:28:06.241Z"
   },
   {
    "duration": 166,
    "start_time": "2022-07-25T14:29:09.235Z"
   },
   {
    "duration": 26,
    "start_time": "2022-07-25T14:34:28.508Z"
   },
   {
    "duration": 22,
    "start_time": "2022-07-25T14:34:40.857Z"
   },
   {
    "duration": 196,
    "start_time": "2022-07-25T14:35:11.451Z"
   },
   {
    "duration": 8,
    "start_time": "2022-07-25T14:35:42.737Z"
   },
   {
    "duration": 15,
    "start_time": "2022-07-25T14:35:52.889Z"
   },
   {
    "duration": 5,
    "start_time": "2022-07-25T14:35:58.079Z"
   },
   {
    "duration": 86,
    "start_time": "2022-07-25T14:35:58.089Z"
   },
   {
    "duration": 14,
    "start_time": "2022-07-25T14:35:58.178Z"
   },
   {
    "duration": 38,
    "start_time": "2022-07-25T14:35:58.194Z"
   },
   {
    "duration": 19,
    "start_time": "2022-07-25T14:35:58.233Z"
   },
   {
    "duration": 41,
    "start_time": "2022-07-25T14:35:58.254Z"
   },
   {
    "duration": 26,
    "start_time": "2022-07-25T14:35:58.296Z"
   },
   {
    "duration": 19,
    "start_time": "2022-07-25T14:35:58.324Z"
   },
   {
    "duration": 6,
    "start_time": "2022-07-25T14:35:58.344Z"
   },
   {
    "duration": 43,
    "start_time": "2022-07-25T14:35:58.352Z"
   },
   {
    "duration": 8,
    "start_time": "2022-07-25T14:35:58.397Z"
   },
   {
    "duration": 40,
    "start_time": "2022-07-25T14:35:58.406Z"
   },
   {
    "duration": 153,
    "start_time": "2022-07-25T14:35:58.448Z"
   },
   {
    "duration": 23,
    "start_time": "2022-07-25T14:35:58.603Z"
   },
   {
    "duration": 98,
    "start_time": "2022-07-25T14:35:58.630Z"
   },
   {
    "duration": 11,
    "start_time": "2022-07-25T14:35:58.730Z"
   },
   {
    "duration": 10,
    "start_time": "2022-07-25T14:35:58.742Z"
   },
   {
    "duration": 177,
    "start_time": "2022-07-25T14:35:58.753Z"
   },
   {
    "duration": 13,
    "start_time": "2022-07-25T14:35:58.932Z"
   },
   {
    "duration": 11,
    "start_time": "2022-07-25T14:35:58.947Z"
   },
   {
    "duration": 189,
    "start_time": "2022-07-25T14:35:58.960Z"
   },
   {
    "duration": 7,
    "start_time": "2022-07-25T14:35:59.151Z"
   },
   {
    "duration": 287,
    "start_time": "2022-07-25T14:35:59.160Z"
   },
   {
    "duration": 15,
    "start_time": "2022-07-25T14:35:59.449Z"
   },
   {
    "duration": 174,
    "start_time": "2022-07-25T14:35:59.466Z"
   },
   {
    "duration": 5,
    "start_time": "2022-07-25T14:35:59.642Z"
   },
   {
    "duration": 120,
    "start_time": "2022-07-25T14:35:59.649Z"
   },
   {
    "duration": 5,
    "start_time": "2022-07-25T14:35:59.771Z"
   },
   {
    "duration": 25,
    "start_time": "2022-07-25T14:35:59.778Z"
   },
   {
    "duration": 37,
    "start_time": "2022-07-25T14:35:59.805Z"
   },
   {
    "duration": 5,
    "start_time": "2022-07-25T14:35:59.844Z"
   },
   {
    "duration": 31,
    "start_time": "2022-07-25T14:35:59.851Z"
   },
   {
    "duration": 188,
    "start_time": "2022-07-25T14:35:59.884Z"
   },
   {
    "duration": 27,
    "start_time": "2022-07-25T14:36:01.167Z"
   },
   {
    "duration": 18,
    "start_time": "2022-07-25T14:43:17.906Z"
   },
   {
    "duration": 18,
    "start_time": "2022-07-25T14:43:18.526Z"
   },
   {
    "duration": 31,
    "start_time": "2022-07-25T14:44:11.056Z"
   },
   {
    "duration": 41,
    "start_time": "2022-07-25T14:45:06.605Z"
   },
   {
    "duration": 14,
    "start_time": "2022-07-25T14:45:50.893Z"
   },
   {
    "duration": 21,
    "start_time": "2022-07-25T14:46:01.996Z"
   },
   {
    "duration": 4,
    "start_time": "2022-07-25T14:46:05.555Z"
   },
   {
    "duration": 78,
    "start_time": "2022-07-25T14:46:05.561Z"
   },
   {
    "duration": 17,
    "start_time": "2022-07-25T14:46:05.641Z"
   },
   {
    "duration": 28,
    "start_time": "2022-07-25T14:46:05.660Z"
   },
   {
    "duration": 23,
    "start_time": "2022-07-25T14:46:05.690Z"
   },
   {
    "duration": 22,
    "start_time": "2022-07-25T14:46:05.715Z"
   },
   {
    "duration": 26,
    "start_time": "2022-07-25T14:46:05.739Z"
   },
   {
    "duration": 6,
    "start_time": "2022-07-25T14:46:05.767Z"
   },
   {
    "duration": 40,
    "start_time": "2022-07-25T14:46:05.774Z"
   },
   {
    "duration": 38,
    "start_time": "2022-07-25T14:46:05.818Z"
   },
   {
    "duration": 10,
    "start_time": "2022-07-25T14:46:05.858Z"
   },
   {
    "duration": 26,
    "start_time": "2022-07-25T14:46:05.871Z"
   },
   {
    "duration": 240,
    "start_time": "2022-07-25T14:46:05.898Z"
   },
   {
    "duration": 16,
    "start_time": "2022-07-25T14:46:06.140Z"
   },
   {
    "duration": 232,
    "start_time": "2022-07-25T14:46:06.158Z"
   },
   {
    "duration": 18,
    "start_time": "2022-07-25T14:46:06.392Z"
   },
   {
    "duration": 22,
    "start_time": "2022-07-25T14:46:06.412Z"
   },
   {
    "duration": 163,
    "start_time": "2022-07-25T14:46:06.436Z"
   },
   {
    "duration": 22,
    "start_time": "2022-07-25T14:46:06.600Z"
   },
   {
    "duration": 14,
    "start_time": "2022-07-25T14:46:06.624Z"
   },
   {
    "duration": 173,
    "start_time": "2022-07-25T14:46:06.640Z"
   },
   {
    "duration": 7,
    "start_time": "2022-07-25T14:46:06.819Z"
   },
   {
    "duration": 263,
    "start_time": "2022-07-25T14:46:06.828Z"
   },
   {
    "duration": 21,
    "start_time": "2022-07-25T14:46:07.092Z"
   },
   {
    "duration": 182,
    "start_time": "2022-07-25T14:46:07.115Z"
   },
   {
    "duration": 15,
    "start_time": "2022-07-25T14:46:07.299Z"
   },
   {
    "duration": 118,
    "start_time": "2022-07-25T14:46:07.316Z"
   },
   {
    "duration": 7,
    "start_time": "2022-07-25T14:46:07.437Z"
   },
   {
    "duration": 25,
    "start_time": "2022-07-25T14:46:07.445Z"
   },
   {
    "duration": 15,
    "start_time": "2022-07-25T14:46:07.472Z"
   },
   {
    "duration": 5,
    "start_time": "2022-07-25T14:46:07.489Z"
   },
   {
    "duration": 22,
    "start_time": "2022-07-25T14:46:07.511Z"
   },
   {
    "duration": 207,
    "start_time": "2022-07-25T14:46:07.536Z"
   },
   {
    "duration": 25,
    "start_time": "2022-07-25T14:46:07.745Z"
   },
   {
    "duration": 15,
    "start_time": "2022-07-25T14:46:07.772Z"
   },
   {
    "duration": 20,
    "start_time": "2022-07-25T14:47:38.216Z"
   },
   {
    "duration": 30,
    "start_time": "2022-07-25T14:48:03.007Z"
   },
   {
    "duration": 11,
    "start_time": "2022-07-25T14:49:33.026Z"
   },
   {
    "duration": 19,
    "start_time": "2022-07-25T14:49:46.905Z"
   },
   {
    "duration": 14,
    "start_time": "2022-07-25T14:49:58.094Z"
   },
   {
    "duration": 11,
    "start_time": "2022-07-25T14:50:09.847Z"
   },
   {
    "duration": 10,
    "start_time": "2022-07-25T14:50:56.493Z"
   },
   {
    "duration": 31,
    "start_time": "2022-07-25T14:51:23.895Z"
   },
   {
    "duration": 18,
    "start_time": "2022-07-25T14:51:26.118Z"
   },
   {
    "duration": 19,
    "start_time": "2022-07-25T14:51:29.320Z"
   },
   {
    "duration": 7,
    "start_time": "2022-07-25T14:51:29.734Z"
   },
   {
    "duration": 73,
    "start_time": "2022-07-25T14:53:10.884Z"
   },
   {
    "duration": 10,
    "start_time": "2022-07-25T14:53:17.027Z"
   },
   {
    "duration": 17,
    "start_time": "2022-07-25T14:57:58.725Z"
   },
   {
    "duration": 73,
    "start_time": "2022-07-25T15:02:01.487Z"
   },
   {
    "duration": 6,
    "start_time": "2022-07-25T15:02:11.843Z"
   },
   {
    "duration": 15,
    "start_time": "2022-07-25T15:02:18.868Z"
   },
   {
    "duration": 14,
    "start_time": "2022-07-25T15:11:16.422Z"
   },
   {
    "duration": 5,
    "start_time": "2022-07-25T15:11:25.604Z"
   },
   {
    "duration": 93,
    "start_time": "2022-07-25T15:11:25.620Z"
   },
   {
    "duration": 16,
    "start_time": "2022-07-25T15:11:25.715Z"
   },
   {
    "duration": 21,
    "start_time": "2022-07-25T15:11:25.733Z"
   },
   {
    "duration": 7,
    "start_time": "2022-07-25T15:11:25.756Z"
   },
   {
    "duration": 38,
    "start_time": "2022-07-25T15:11:25.766Z"
   },
   {
    "duration": 28,
    "start_time": "2022-07-25T15:11:25.815Z"
   },
   {
    "duration": 5,
    "start_time": "2022-07-25T15:11:25.845Z"
   },
   {
    "duration": 5,
    "start_time": "2022-07-25T15:11:25.852Z"
   },
   {
    "duration": 20,
    "start_time": "2022-07-25T15:11:25.858Z"
   },
   {
    "duration": 43,
    "start_time": "2022-07-25T15:11:25.880Z"
   },
   {
    "duration": 20,
    "start_time": "2022-07-25T15:11:25.925Z"
   },
   {
    "duration": 182,
    "start_time": "2022-07-25T15:11:25.948Z"
   },
   {
    "duration": 14,
    "start_time": "2022-07-25T15:11:26.132Z"
   },
   {
    "duration": 111,
    "start_time": "2022-07-25T15:11:26.150Z"
   },
   {
    "duration": 11,
    "start_time": "2022-07-25T15:11:26.263Z"
   },
   {
    "duration": 12,
    "start_time": "2022-07-25T15:11:26.277Z"
   },
   {
    "duration": 176,
    "start_time": "2022-07-25T15:11:26.291Z"
   },
   {
    "duration": 11,
    "start_time": "2022-07-25T15:11:26.468Z"
   },
   {
    "duration": 8,
    "start_time": "2022-07-25T15:11:26.481Z"
   },
   {
    "duration": 185,
    "start_time": "2022-07-25T15:11:26.491Z"
   },
   {
    "duration": 6,
    "start_time": "2022-07-25T15:11:26.678Z"
   },
   {
    "duration": 262,
    "start_time": "2022-07-25T15:11:26.686Z"
   },
   {
    "duration": 12,
    "start_time": "2022-07-25T15:11:26.951Z"
   },
   {
    "duration": 183,
    "start_time": "2022-07-25T15:11:26.965Z"
   },
   {
    "duration": 5,
    "start_time": "2022-07-25T15:11:27.152Z"
   },
   {
    "duration": 133,
    "start_time": "2022-07-25T15:11:27.160Z"
   },
   {
    "duration": 6,
    "start_time": "2022-07-25T15:11:27.295Z"
   },
   {
    "duration": 50,
    "start_time": "2022-07-25T15:11:27.309Z"
   },
   {
    "duration": 29,
    "start_time": "2022-07-25T15:11:27.361Z"
   },
   {
    "duration": 249,
    "start_time": "2022-07-25T15:11:27.392Z"
   },
   {
    "duration": 14,
    "start_time": "2022-07-25T15:11:27.643Z"
   },
   {
    "duration": 36,
    "start_time": "2022-07-25T15:11:27.658Z"
   },
   {
    "duration": 43,
    "start_time": "2022-07-25T15:11:27.696Z"
   },
   {
    "duration": 152,
    "start_time": "2022-07-25T15:11:27.742Z"
   },
   {
    "duration": 18,
    "start_time": "2022-07-25T15:11:27.896Z"
   },
   {
    "duration": 28,
    "start_time": "2022-07-25T15:11:27.919Z"
   },
   {
    "duration": 39,
    "start_time": "2022-07-25T15:11:27.949Z"
   },
   {
    "duration": 1350,
    "start_time": "2022-07-25T15:15:34.074Z"
   },
   {
    "duration": 3,
    "start_time": "2022-07-25T15:15:40.055Z"
   },
   {
    "duration": 92,
    "start_time": "2022-07-25T15:15:40.065Z"
   },
   {
    "duration": 16,
    "start_time": "2022-07-25T15:15:40.160Z"
   },
   {
    "duration": 23,
    "start_time": "2022-07-25T15:15:40.178Z"
   },
   {
    "duration": 10,
    "start_time": "2022-07-25T15:15:40.216Z"
   },
   {
    "duration": 21,
    "start_time": "2022-07-25T15:15:40.230Z"
   },
   {
    "duration": 70,
    "start_time": "2022-07-25T15:15:40.253Z"
   },
   {
    "duration": 8,
    "start_time": "2022-07-25T15:15:40.325Z"
   },
   {
    "duration": 5,
    "start_time": "2022-07-25T15:15:40.335Z"
   },
   {
    "duration": 32,
    "start_time": "2022-07-25T15:15:40.342Z"
   },
   {
    "duration": 10,
    "start_time": "2022-07-25T15:15:40.377Z"
   },
   {
    "duration": 36,
    "start_time": "2022-07-25T15:15:40.389Z"
   },
   {
    "duration": 200,
    "start_time": "2022-07-25T15:15:40.427Z"
   },
   {
    "duration": 15,
    "start_time": "2022-07-25T15:15:40.629Z"
   },
   {
    "duration": 137,
    "start_time": "2022-07-25T15:15:40.648Z"
   },
   {
    "duration": 11,
    "start_time": "2022-07-25T15:15:40.787Z"
   },
   {
    "duration": 39,
    "start_time": "2022-07-25T15:15:40.800Z"
   },
   {
    "duration": 195,
    "start_time": "2022-07-25T15:15:40.841Z"
   },
   {
    "duration": 17,
    "start_time": "2022-07-25T15:15:41.039Z"
   },
   {
    "duration": 13,
    "start_time": "2022-07-25T15:15:41.058Z"
   },
   {
    "duration": 183,
    "start_time": "2022-07-25T15:15:43.696Z"
   },
   {
    "duration": 8,
    "start_time": "2022-07-25T15:26:11.857Z"
   },
   {
    "duration": 16,
    "start_time": "2022-07-25T15:26:19.931Z"
   },
   {
    "duration": 17,
    "start_time": "2022-07-25T15:26:56.609Z"
   },
   {
    "duration": 20,
    "start_time": "2022-07-25T15:27:00.909Z"
   },
   {
    "duration": 17,
    "start_time": "2022-07-25T15:27:55.749Z"
   },
   {
    "duration": 21,
    "start_time": "2022-07-25T15:27:59.648Z"
   },
   {
    "duration": 13,
    "start_time": "2022-07-25T15:28:04.638Z"
   },
   {
    "duration": 12,
    "start_time": "2022-07-25T15:28:08.349Z"
   },
   {
    "duration": 12,
    "start_time": "2022-07-25T15:28:08.658Z"
   },
   {
    "duration": 13,
    "start_time": "2022-07-25T15:28:22.077Z"
   },
   {
    "duration": 16,
    "start_time": "2022-07-25T15:28:29.396Z"
   },
   {
    "duration": 11,
    "start_time": "2022-07-25T15:28:49.756Z"
   },
   {
    "duration": 12,
    "start_time": "2022-07-25T15:28:55.449Z"
   },
   {
    "duration": 11,
    "start_time": "2022-07-25T15:28:59.140Z"
   },
   {
    "duration": 7,
    "start_time": "2022-07-25T15:37:09.959Z"
   },
   {
    "duration": 8,
    "start_time": "2022-07-25T15:37:17.181Z"
   },
   {
    "duration": 7,
    "start_time": "2022-07-25T15:45:48.429Z"
   },
   {
    "duration": 10,
    "start_time": "2022-07-25T15:46:04.122Z"
   },
   {
    "duration": 84,
    "start_time": "2022-07-25T15:48:59.340Z"
   },
   {
    "duration": 4,
    "start_time": "2022-07-25T15:49:08.441Z"
   },
   {
    "duration": 8,
    "start_time": "2022-07-25T15:49:39.759Z"
   },
   {
    "duration": 9,
    "start_time": "2022-07-25T15:50:18.490Z"
   },
   {
    "duration": 5,
    "start_time": "2022-07-25T15:50:43.290Z"
   },
   {
    "duration": 6,
    "start_time": "2022-07-25T15:50:43.780Z"
   },
   {
    "duration": 8,
    "start_time": "2022-07-25T15:50:47.129Z"
   },
   {
    "duration": 5,
    "start_time": "2022-07-25T15:52:31.230Z"
   },
   {
    "duration": 6,
    "start_time": "2022-07-25T15:52:31.752Z"
   },
   {
    "duration": 7,
    "start_time": "2022-07-25T15:52:32.283Z"
   },
   {
    "duration": 6,
    "start_time": "2022-07-25T15:53:00.768Z"
   },
   {
    "duration": 6,
    "start_time": "2022-07-25T15:53:01.671Z"
   },
   {
    "duration": 4,
    "start_time": "2022-07-25T15:54:00.240Z"
   },
   {
    "duration": 235,
    "start_time": "2022-07-25T15:54:00.940Z"
   },
   {
    "duration": 7,
    "start_time": "2022-07-25T15:54:01.490Z"
   },
   {
    "duration": 4,
    "start_time": "2022-07-25T15:54:17.721Z"
   },
   {
    "duration": 75,
    "start_time": "2022-07-25T15:54:17.728Z"
   },
   {
    "duration": 26,
    "start_time": "2022-07-25T15:54:17.805Z"
   },
   {
    "duration": 54,
    "start_time": "2022-07-25T15:54:17.833Z"
   },
   {
    "duration": 9,
    "start_time": "2022-07-25T15:54:17.890Z"
   },
   {
    "duration": 42,
    "start_time": "2022-07-25T15:54:17.902Z"
   },
   {
    "duration": 24,
    "start_time": "2022-07-25T15:54:17.946Z"
   },
   {
    "duration": 11,
    "start_time": "2022-07-25T15:54:17.972Z"
   },
   {
    "duration": 15,
    "start_time": "2022-07-25T15:54:17.985Z"
   },
   {
    "duration": 26,
    "start_time": "2022-07-25T15:54:18.002Z"
   },
   {
    "duration": 9,
    "start_time": "2022-07-25T15:54:19.530Z"
   },
   {
    "duration": 8,
    "start_time": "2022-07-25T15:54:20.648Z"
   },
   {
    "duration": 10,
    "start_time": "2022-07-25T15:54:34.349Z"
   },
   {
    "duration": 14,
    "start_time": "2022-07-25T15:58:09.527Z"
   },
   {
    "duration": 7,
    "start_time": "2022-07-25T15:58:13.929Z"
   },
   {
    "duration": 6,
    "start_time": "2022-07-25T15:58:33.357Z"
   },
   {
    "duration": 9,
    "start_time": "2022-07-25T15:58:44.930Z"
   },
   {
    "duration": 10,
    "start_time": "2022-07-25T15:58:52.570Z"
   },
   {
    "duration": 6,
    "start_time": "2022-07-25T15:59:35.001Z"
   },
   {
    "duration": 8,
    "start_time": "2022-07-25T16:00:15.225Z"
   },
   {
    "duration": 17,
    "start_time": "2022-07-25T16:00:45.224Z"
   },
   {
    "duration": 23,
    "start_time": "2022-07-25T16:00:56.309Z"
   },
   {
    "duration": 7,
    "start_time": "2022-07-25T16:00:56.730Z"
   },
   {
    "duration": 7,
    "start_time": "2022-07-25T16:01:01.370Z"
   },
   {
    "duration": 13,
    "start_time": "2022-07-25T16:01:01.820Z"
   },
   {
    "duration": 5,
    "start_time": "2022-07-25T16:01:02.369Z"
   },
   {
    "duration": 17,
    "start_time": "2022-07-25T16:01:02.949Z"
   },
   {
    "duration": 8,
    "start_time": "2022-07-25T16:01:03.469Z"
   },
   {
    "duration": 24,
    "start_time": "2022-07-25T16:01:38.612Z"
   },
   {
    "duration": 13,
    "start_time": "2022-07-25T16:01:49.159Z"
   },
   {
    "duration": 1488,
    "start_time": "2022-07-26T10:52:48.792Z"
   },
   {
    "duration": 620,
    "start_time": "2022-07-26T10:52:50.283Z"
   },
   {
    "duration": 16,
    "start_time": "2022-07-26T10:52:50.904Z"
   },
   {
    "duration": 33,
    "start_time": "2022-07-26T10:52:50.923Z"
   },
   {
    "duration": 9,
    "start_time": "2022-07-26T10:52:50.958Z"
   },
   {
    "duration": 19,
    "start_time": "2022-07-26T10:52:50.969Z"
   },
   {
    "duration": 54,
    "start_time": "2022-07-26T10:52:50.990Z"
   },
   {
    "duration": 11,
    "start_time": "2022-07-26T10:52:51.047Z"
   },
   {
    "duration": 21,
    "start_time": "2022-07-26T10:52:51.060Z"
   },
   {
    "duration": 7,
    "start_time": "2022-07-26T10:52:51.084Z"
   },
   {
    "duration": 27,
    "start_time": "2022-07-26T10:52:51.096Z"
   },
   {
    "duration": 124,
    "start_time": "2022-07-26T10:52:53.403Z"
   },
   {
    "duration": 9,
    "start_time": "2022-07-26T10:53:21.155Z"
   },
   {
    "duration": 12,
    "start_time": "2022-07-26T10:54:04.607Z"
   },
   {
    "duration": 5,
    "start_time": "2022-07-26T10:56:39.389Z"
   },
   {
    "duration": 88,
    "start_time": "2022-07-26T10:56:39.396Z"
   },
   {
    "duration": 14,
    "start_time": "2022-07-26T10:56:39.486Z"
   },
   {
    "duration": 21,
    "start_time": "2022-07-26T10:56:39.502Z"
   },
   {
    "duration": 10,
    "start_time": "2022-07-26T10:56:39.536Z"
   },
   {
    "duration": 32,
    "start_time": "2022-07-26T10:56:39.548Z"
   },
   {
    "duration": 24,
    "start_time": "2022-07-26T10:56:39.582Z"
   },
   {
    "duration": 30,
    "start_time": "2022-07-26T10:56:39.608Z"
   },
   {
    "duration": 22,
    "start_time": "2022-07-26T10:56:39.640Z"
   },
   {
    "duration": 6,
    "start_time": "2022-07-26T10:56:39.664Z"
   },
   {
    "duration": 23,
    "start_time": "2022-07-26T10:56:39.672Z"
   },
   {
    "duration": 10,
    "start_time": "2022-07-26T10:56:39.697Z"
   },
   {
    "duration": 24,
    "start_time": "2022-07-26T10:56:46.660Z"
   },
   {
    "duration": 13,
    "start_time": "2022-07-26T10:57:04.656Z"
   },
   {
    "duration": 17,
    "start_time": "2022-07-26T11:11:40.405Z"
   },
   {
    "duration": 10,
    "start_time": "2022-07-26T11:12:40.562Z"
   },
   {
    "duration": 28,
    "start_time": "2022-07-26T11:13:28.450Z"
   },
   {
    "duration": 12,
    "start_time": "2022-07-26T11:13:28.882Z"
   },
   {
    "duration": 19,
    "start_time": "2022-07-26T11:14:14.848Z"
   },
   {
    "duration": 8,
    "start_time": "2022-07-26T11:14:33.284Z"
   },
   {
    "duration": 14,
    "start_time": "2022-07-26T11:14:41.424Z"
   },
   {
    "duration": 10,
    "start_time": "2022-07-26T11:15:22.967Z"
   },
   {
    "duration": 10,
    "start_time": "2022-07-26T11:15:23.712Z"
   },
   {
    "duration": 9,
    "start_time": "2022-07-26T11:15:39.786Z"
   },
   {
    "duration": 11,
    "start_time": "2022-07-26T11:15:40.866Z"
   },
   {
    "duration": 10,
    "start_time": "2022-07-26T11:16:19.216Z"
   },
   {
    "duration": 10,
    "start_time": "2022-07-26T11:16:21.562Z"
   },
   {
    "duration": 5,
    "start_time": "2022-07-26T11:16:57.355Z"
   },
   {
    "duration": 213,
    "start_time": "2022-07-26T11:18:40.862Z"
   },
   {
    "duration": 222,
    "start_time": "2022-07-26T11:19:40.534Z"
   },
   {
    "duration": 219,
    "start_time": "2022-07-26T11:20:21.890Z"
   },
   {
    "duration": 216,
    "start_time": "2022-07-26T11:20:57.160Z"
   },
   {
    "duration": 243,
    "start_time": "2022-07-26T11:21:08.518Z"
   },
   {
    "duration": 9,
    "start_time": "2022-07-26T13:58:55.978Z"
   },
   {
    "duration": 56,
    "start_time": "2022-07-26T13:58:56.394Z"
   },
   {
    "duration": 1383,
    "start_time": "2022-07-26T13:59:01.753Z"
   },
   {
    "duration": 245,
    "start_time": "2022-07-26T13:59:03.139Z"
   },
   {
    "duration": 18,
    "start_time": "2022-07-26T13:59:03.386Z"
   },
   {
    "duration": 35,
    "start_time": "2022-07-26T13:59:03.407Z"
   },
   {
    "duration": 7,
    "start_time": "2022-07-26T13:59:03.443Z"
   },
   {
    "duration": 18,
    "start_time": "2022-07-26T13:59:03.451Z"
   },
   {
    "duration": 23,
    "start_time": "2022-07-26T13:59:03.470Z"
   },
   {
    "duration": 31,
    "start_time": "2022-07-26T13:59:03.495Z"
   },
   {
    "duration": 17,
    "start_time": "2022-07-26T13:59:03.528Z"
   },
   {
    "duration": 12,
    "start_time": "2022-07-26T13:59:03.548Z"
   },
   {
    "duration": 21,
    "start_time": "2022-07-26T13:59:03.562Z"
   },
   {
    "duration": 10,
    "start_time": "2022-07-26T13:59:03.585Z"
   },
   {
    "duration": 22,
    "start_time": "2022-07-26T13:59:03.596Z"
   },
   {
    "duration": 12,
    "start_time": "2022-07-26T13:59:03.620Z"
   },
   {
    "duration": 14,
    "start_time": "2022-07-26T13:59:03.633Z"
   },
   {
    "duration": 20,
    "start_time": "2022-07-26T13:59:03.648Z"
   },
   {
    "duration": 164,
    "start_time": "2022-07-26T13:59:03.670Z"
   },
   {
    "duration": 12,
    "start_time": "2022-07-26T13:59:03.835Z"
   },
   {
    "duration": 102,
    "start_time": "2022-07-26T13:59:03.849Z"
   },
   {
    "duration": 72,
    "start_time": "2022-07-26T13:59:03.952Z"
   },
   {
    "duration": 0,
    "start_time": "2022-07-26T13:59:04.026Z"
   },
   {
    "duration": 0,
    "start_time": "2022-07-26T13:59:04.027Z"
   },
   {
    "duration": 0,
    "start_time": "2022-07-26T13:59:04.029Z"
   },
   {
    "duration": 0,
    "start_time": "2022-07-26T13:59:04.029Z"
   },
   {
    "duration": 0,
    "start_time": "2022-07-26T13:59:04.031Z"
   },
   {
    "duration": 0,
    "start_time": "2022-07-26T13:59:04.032Z"
   },
   {
    "duration": 0,
    "start_time": "2022-07-26T13:59:04.033Z"
   },
   {
    "duration": 0,
    "start_time": "2022-07-26T13:59:04.035Z"
   },
   {
    "duration": 0,
    "start_time": "2022-07-26T13:59:04.037Z"
   },
   {
    "duration": 0,
    "start_time": "2022-07-26T13:59:04.039Z"
   },
   {
    "duration": 0,
    "start_time": "2022-07-26T13:59:04.040Z"
   },
   {
    "duration": 0,
    "start_time": "2022-07-26T13:59:04.042Z"
   },
   {
    "duration": 12,
    "start_time": "2022-07-26T14:00:09.733Z"
   },
   {
    "duration": 10,
    "start_time": "2022-07-26T14:00:22.040Z"
   },
   {
    "duration": 9,
    "start_time": "2022-07-26T14:00:23.032Z"
   },
   {
    "duration": 140,
    "start_time": "2022-07-26T14:00:26.199Z"
   },
   {
    "duration": 12,
    "start_time": "2022-07-26T14:00:26.700Z"
   },
   {
    "duration": 8,
    "start_time": "2022-07-26T14:00:27.179Z"
   },
   {
    "duration": 190,
    "start_time": "2022-07-26T14:00:27.687Z"
   },
   {
    "duration": 9,
    "start_time": "2022-07-26T14:00:29.556Z"
   },
   {
    "duration": 222,
    "start_time": "2022-07-26T14:00:30.302Z"
   },
   {
    "duration": 10,
    "start_time": "2022-07-26T14:00:32.560Z"
   },
   {
    "duration": 152,
    "start_time": "2022-07-26T14:00:33.152Z"
   },
   {
    "duration": 3,
    "start_time": "2022-07-26T14:00:35.558Z"
   },
   {
    "duration": 101,
    "start_time": "2022-07-26T14:00:36.349Z"
   },
   {
    "duration": 5,
    "start_time": "2022-07-26T14:00:37.815Z"
   },
   {
    "duration": 3,
    "start_time": "2022-07-26T14:01:23.321Z"
   },
   {
    "duration": 107,
    "start_time": "2022-07-26T14:01:23.754Z"
   },
   {
    "duration": 6,
    "start_time": "2022-07-26T14:01:24.280Z"
   },
   {
    "duration": 12,
    "start_time": "2022-07-26T14:01:32.863Z"
   },
   {
    "duration": 16,
    "start_time": "2022-07-26T14:01:40.711Z"
   },
   {
    "duration": 181,
    "start_time": "2022-07-26T14:09:09.496Z"
   },
   {
    "duration": 155,
    "start_time": "2022-07-26T14:09:10.015Z"
   },
   {
    "duration": 15,
    "start_time": "2022-07-26T14:11:00.440Z"
   },
   {
    "duration": 5,
    "start_time": "2022-07-26T14:11:30.573Z"
   },
   {
    "duration": 11,
    "start_time": "2022-07-26T14:11:38.247Z"
   },
   {
    "duration": 21,
    "start_time": "2022-07-26T14:11:54.697Z"
   },
   {
    "duration": 13,
    "start_time": "2022-07-26T14:12:02.709Z"
   },
   {
    "duration": 10,
    "start_time": "2022-07-26T14:12:36.505Z"
   },
   {
    "duration": 124,
    "start_time": "2022-07-26T14:15:03.203Z"
   },
   {
    "duration": 119,
    "start_time": "2022-07-26T14:15:16.451Z"
   },
   {
    "duration": 210,
    "start_time": "2022-07-26T14:15:43.061Z"
   },
   {
    "duration": 129,
    "start_time": "2022-07-26T14:15:55.958Z"
   },
   {
    "duration": 124,
    "start_time": "2022-07-26T14:16:05.685Z"
   },
   {
    "duration": 122,
    "start_time": "2022-07-26T14:16:20.615Z"
   },
   {
    "duration": 135,
    "start_time": "2022-07-26T14:16:33.700Z"
   },
   {
    "duration": 131,
    "start_time": "2022-07-26T14:16:41.001Z"
   },
   {
    "duration": 145,
    "start_time": "2022-07-26T14:16:46.259Z"
   },
   {
    "duration": 136,
    "start_time": "2022-07-26T14:17:03.820Z"
   },
   {
    "duration": 141,
    "start_time": "2022-07-26T14:17:08.017Z"
   },
   {
    "duration": 141,
    "start_time": "2022-07-26T14:17:32.605Z"
   },
   {
    "duration": 12,
    "start_time": "2022-07-26T14:17:52.791Z"
   },
   {
    "duration": 6,
    "start_time": "2022-07-26T14:18:03.516Z"
   },
   {
    "duration": 11,
    "start_time": "2022-07-26T14:18:23.085Z"
   },
   {
    "duration": 134,
    "start_time": "2022-07-26T14:19:44.111Z"
   },
   {
    "duration": 139,
    "start_time": "2022-07-26T14:19:48.015Z"
   },
   {
    "duration": 1018,
    "start_time": "2022-07-26T14:20:00.818Z"
   },
   {
    "duration": 3,
    "start_time": "2022-07-26T14:20:13.716Z"
   },
   {
    "duration": 73,
    "start_time": "2022-07-26T14:20:13.721Z"
   },
   {
    "duration": 13,
    "start_time": "2022-07-26T14:20:13.796Z"
   },
   {
    "duration": 28,
    "start_time": "2022-07-26T14:20:13.811Z"
   },
   {
    "duration": 6,
    "start_time": "2022-07-26T14:20:13.840Z"
   },
   {
    "duration": 21,
    "start_time": "2022-07-26T14:20:13.847Z"
   },
   {
    "duration": 22,
    "start_time": "2022-07-26T14:20:13.869Z"
   },
   {
    "duration": 119,
    "start_time": "2022-07-26T14:20:13.893Z"
   },
   {
    "duration": 14,
    "start_time": "2022-07-26T14:20:14.014Z"
   },
   {
    "duration": 8,
    "start_time": "2022-07-26T14:20:14.030Z"
   },
   {
    "duration": 24,
    "start_time": "2022-07-26T14:20:14.040Z"
   },
   {
    "duration": 20,
    "start_time": "2022-07-26T14:20:14.066Z"
   },
   {
    "duration": 20,
    "start_time": "2022-07-26T14:20:14.090Z"
   },
   {
    "duration": 16,
    "start_time": "2022-07-26T14:20:14.112Z"
   },
   {
    "duration": 7,
    "start_time": "2022-07-26T14:20:14.129Z"
   },
   {
    "duration": 19,
    "start_time": "2022-07-26T14:20:14.137Z"
   },
   {
    "duration": 152,
    "start_time": "2022-07-26T14:20:14.158Z"
   },
   {
    "duration": 20,
    "start_time": "2022-07-26T14:20:14.312Z"
   },
   {
    "duration": 105,
    "start_time": "2022-07-26T14:20:14.334Z"
   },
   {
    "duration": 9,
    "start_time": "2022-07-26T14:20:14.441Z"
   },
   {
    "duration": 9,
    "start_time": "2022-07-26T14:20:14.451Z"
   },
   {
    "duration": 162,
    "start_time": "2022-07-26T14:20:14.462Z"
   },
   {
    "duration": 12,
    "start_time": "2022-07-26T14:20:14.625Z"
   },
   {
    "duration": 15,
    "start_time": "2022-07-26T14:20:14.640Z"
   },
   {
    "duration": 173,
    "start_time": "2022-07-26T14:20:14.658Z"
   },
   {
    "duration": 9,
    "start_time": "2022-07-26T14:20:14.833Z"
   },
   {
    "duration": 217,
    "start_time": "2022-07-26T14:20:14.844Z"
   },
   {
    "duration": 10,
    "start_time": "2022-07-26T14:20:15.063Z"
   },
   {
    "duration": 149,
    "start_time": "2022-07-26T14:20:15.075Z"
   },
   {
    "duration": 4,
    "start_time": "2022-07-26T14:20:15.225Z"
   },
   {
    "duration": 105,
    "start_time": "2022-07-26T14:20:15.231Z"
   },
   {
    "duration": 5,
    "start_time": "2022-07-26T14:20:15.337Z"
   },
   {
    "duration": 25,
    "start_time": "2022-07-26T14:20:15.344Z"
   },
   {
    "duration": 225,
    "start_time": "2022-07-26T14:20:15.370Z"
   },
   {
    "duration": 6,
    "start_time": "2022-07-26T14:20:15.597Z"
   },
   {
    "duration": 13,
    "start_time": "2022-07-26T14:20:15.605Z"
   },
   {
    "duration": 132,
    "start_time": "2022-07-26T14:20:15.621Z"
   },
   {
    "duration": 12,
    "start_time": "2022-07-26T14:20:15.754Z"
   },
   {
    "duration": 6,
    "start_time": "2022-07-26T14:20:15.767Z"
   },
   {
    "duration": 1036,
    "start_time": "2022-07-26T14:20:29.972Z"
   },
   {
    "duration": 3,
    "start_time": "2022-07-26T14:20:49.609Z"
   },
   {
    "duration": 74,
    "start_time": "2022-07-26T14:20:49.613Z"
   },
   {
    "duration": 13,
    "start_time": "2022-07-26T14:20:49.689Z"
   },
   {
    "duration": 28,
    "start_time": "2022-07-26T14:20:49.704Z"
   },
   {
    "duration": 7,
    "start_time": "2022-07-26T14:20:49.733Z"
   },
   {
    "duration": 19,
    "start_time": "2022-07-26T14:20:49.741Z"
   },
   {
    "duration": 22,
    "start_time": "2022-07-26T14:20:49.761Z"
   },
   {
    "duration": 7,
    "start_time": "2022-07-26T14:20:49.785Z"
   },
   {
    "duration": 42,
    "start_time": "2022-07-26T14:20:49.795Z"
   },
   {
    "duration": 7,
    "start_time": "2022-07-26T14:20:49.838Z"
   },
   {
    "duration": 27,
    "start_time": "2022-07-26T14:20:49.846Z"
   },
   {
    "duration": 8,
    "start_time": "2022-07-26T14:20:49.875Z"
   },
   {
    "duration": 19,
    "start_time": "2022-07-26T14:20:49.885Z"
   },
   {
    "duration": 24,
    "start_time": "2022-07-26T14:20:49.905Z"
   },
   {
    "duration": 15,
    "start_time": "2022-07-26T14:20:49.930Z"
   },
   {
    "duration": 16,
    "start_time": "2022-07-26T14:20:49.946Z"
   },
   {
    "duration": 162,
    "start_time": "2022-07-26T14:20:49.963Z"
   },
   {
    "duration": 11,
    "start_time": "2022-07-26T14:20:50.126Z"
   },
   {
    "duration": 104,
    "start_time": "2022-07-26T14:20:50.139Z"
   },
   {
    "duration": 9,
    "start_time": "2022-07-26T14:20:50.245Z"
   },
   {
    "duration": 11,
    "start_time": "2022-07-26T14:20:50.255Z"
   },
   {
    "duration": 153,
    "start_time": "2022-07-26T14:20:50.268Z"
   },
   {
    "duration": 11,
    "start_time": "2022-07-26T14:20:50.424Z"
   },
   {
    "duration": 9,
    "start_time": "2022-07-26T14:20:50.438Z"
   },
   {
    "duration": 147,
    "start_time": "2022-07-26T14:20:52.877Z"
   },
   {
    "duration": 981,
    "start_time": "2022-07-26T14:21:27.388Z"
   },
   {
    "duration": 4,
    "start_time": "2022-07-26T14:21:31.399Z"
   },
   {
    "duration": 84,
    "start_time": "2022-07-26T14:21:31.405Z"
   },
   {
    "duration": 15,
    "start_time": "2022-07-26T14:21:31.491Z"
   },
   {
    "duration": 31,
    "start_time": "2022-07-26T14:21:31.508Z"
   },
   {
    "duration": 8,
    "start_time": "2022-07-26T14:21:31.542Z"
   },
   {
    "duration": 40,
    "start_time": "2022-07-26T14:21:31.552Z"
   },
   {
    "duration": 31,
    "start_time": "2022-07-26T14:21:31.593Z"
   },
   {
    "duration": 9,
    "start_time": "2022-07-26T14:21:31.626Z"
   },
   {
    "duration": 24,
    "start_time": "2022-07-26T14:21:31.636Z"
   },
   {
    "duration": 100,
    "start_time": "2022-07-26T14:21:31.662Z"
   },
   {
    "duration": 39,
    "start_time": "2022-07-26T14:21:31.765Z"
   },
   {
    "duration": 19,
    "start_time": "2022-07-26T14:21:31.805Z"
   },
   {
    "duration": 33,
    "start_time": "2022-07-26T14:21:31.826Z"
   },
   {
    "duration": 14,
    "start_time": "2022-07-26T14:21:31.861Z"
   },
   {
    "duration": 22,
    "start_time": "2022-07-26T14:21:31.877Z"
   },
   {
    "duration": 19,
    "start_time": "2022-07-26T14:21:31.902Z"
   },
   {
    "duration": 156,
    "start_time": "2022-07-26T14:21:31.922Z"
   },
   {
    "duration": 10,
    "start_time": "2022-07-26T14:21:32.080Z"
   },
   {
    "duration": 97,
    "start_time": "2022-07-26T14:21:32.092Z"
   },
   {
    "duration": 8,
    "start_time": "2022-07-26T14:21:32.191Z"
   },
   {
    "duration": 10,
    "start_time": "2022-07-26T14:21:32.200Z"
   },
   {
    "duration": 145,
    "start_time": "2022-07-26T14:21:32.224Z"
   },
   {
    "duration": 11,
    "start_time": "2022-07-26T14:21:32.370Z"
   },
   {
    "duration": 26,
    "start_time": "2022-07-26T14:21:32.383Z"
   },
   {
    "duration": 157,
    "start_time": "2022-07-26T14:21:34.551Z"
   },
   {
    "duration": 182,
    "start_time": "2022-07-26T14:29:57.885Z"
   },
   {
    "duration": 191,
    "start_time": "2022-07-26T14:30:22.471Z"
   },
   {
    "duration": 180,
    "start_time": "2022-07-26T14:30:42.721Z"
   },
   {
    "duration": 10,
    "start_time": "2022-07-26T14:58:10.344Z"
   },
   {
    "duration": 866,
    "start_time": "2022-07-26T15:03:05.477Z"
   },
   {
    "duration": 3,
    "start_time": "2022-07-26T15:03:09.233Z"
   },
   {
    "duration": 66,
    "start_time": "2022-07-26T15:03:09.241Z"
   },
   {
    "duration": 13,
    "start_time": "2022-07-26T15:03:09.309Z"
   },
   {
    "duration": 32,
    "start_time": "2022-07-26T15:03:09.325Z"
   },
   {
    "duration": 6,
    "start_time": "2022-07-26T15:03:09.359Z"
   },
   {
    "duration": 25,
    "start_time": "2022-07-26T15:03:09.367Z"
   },
   {
    "duration": 38,
    "start_time": "2022-07-26T15:03:09.394Z"
   },
   {
    "duration": 7,
    "start_time": "2022-07-26T15:03:09.434Z"
   },
   {
    "duration": 13,
    "start_time": "2022-07-26T15:03:09.442Z"
   },
   {
    "duration": 10,
    "start_time": "2022-07-26T15:03:09.456Z"
   },
   {
    "duration": 21,
    "start_time": "2022-07-26T15:03:09.469Z"
   },
   {
    "duration": 39,
    "start_time": "2022-07-26T15:03:09.491Z"
   },
   {
    "duration": 34,
    "start_time": "2022-07-26T15:03:09.531Z"
   },
   {
    "duration": 13,
    "start_time": "2022-07-26T15:03:09.567Z"
   },
   {
    "duration": 5,
    "start_time": "2022-07-26T15:03:09.583Z"
   },
   {
    "duration": 13,
    "start_time": "2022-07-26T15:03:09.590Z"
   },
   {
    "duration": 152,
    "start_time": "2022-07-26T15:03:09.624Z"
   },
   {
    "duration": 11,
    "start_time": "2022-07-26T15:03:09.778Z"
   },
   {
    "duration": 102,
    "start_time": "2022-07-26T15:03:09.791Z"
   },
   {
    "duration": 29,
    "start_time": "2022-07-26T15:03:09.895Z"
   },
   {
    "duration": 7,
    "start_time": "2022-07-26T15:03:09.926Z"
   },
   {
    "duration": 136,
    "start_time": "2022-07-26T15:03:12.072Z"
   },
   {
    "duration": 11,
    "start_time": "2022-07-26T15:03:37.952Z"
   },
   {
    "duration": 8,
    "start_time": "2022-07-26T15:03:38.447Z"
   },
   {
    "duration": 138,
    "start_time": "2022-07-26T15:03:39.106Z"
   },
   {
    "duration": 304,
    "start_time": "2022-07-26T15:04:03.631Z"
   },
   {
    "duration": 183,
    "start_time": "2022-07-26T15:05:06.156Z"
   },
   {
    "duration": 226,
    "start_time": "2022-07-26T15:05:17.174Z"
   },
   {
    "duration": 128,
    "start_time": "2022-07-26T15:05:30.444Z"
   },
   {
    "duration": 153,
    "start_time": "2022-07-26T15:05:47.433Z"
   },
   {
    "duration": 3,
    "start_time": "2022-07-26T15:06:00.679Z"
   },
   {
    "duration": 80,
    "start_time": "2022-07-26T15:06:00.684Z"
   },
   {
    "duration": 13,
    "start_time": "2022-07-26T15:06:00.765Z"
   },
   {
    "duration": 47,
    "start_time": "2022-07-26T15:06:00.780Z"
   },
   {
    "duration": 6,
    "start_time": "2022-07-26T15:06:00.829Z"
   },
   {
    "duration": 27,
    "start_time": "2022-07-26T15:06:00.836Z"
   },
   {
    "duration": 33,
    "start_time": "2022-07-26T15:06:00.865Z"
   },
   {
    "duration": 7,
    "start_time": "2022-07-26T15:06:00.899Z"
   },
   {
    "duration": 51,
    "start_time": "2022-07-26T15:06:00.907Z"
   },
   {
    "duration": 36,
    "start_time": "2022-07-26T15:06:00.960Z"
   },
   {
    "duration": 37,
    "start_time": "2022-07-26T15:06:00.999Z"
   },
   {
    "duration": 46,
    "start_time": "2022-07-26T15:06:01.038Z"
   },
   {
    "duration": 65,
    "start_time": "2022-07-26T15:06:01.086Z"
   },
   {
    "duration": 37,
    "start_time": "2022-07-26T15:06:01.153Z"
   },
   {
    "duration": 16,
    "start_time": "2022-07-26T15:06:01.192Z"
   },
   {
    "duration": 35,
    "start_time": "2022-07-26T15:06:01.211Z"
   },
   {
    "duration": 166,
    "start_time": "2022-07-26T15:06:01.249Z"
   },
   {
    "duration": 12,
    "start_time": "2022-07-26T15:06:01.424Z"
   },
   {
    "duration": 111,
    "start_time": "2022-07-26T15:06:01.438Z"
   },
   {
    "duration": 11,
    "start_time": "2022-07-26T15:06:01.551Z"
   },
   {
    "duration": 74,
    "start_time": "2022-07-26T15:06:01.564Z"
   },
   {
    "duration": 163,
    "start_time": "2022-07-26T15:06:01.639Z"
   },
   {
    "duration": 11,
    "start_time": "2022-07-26T15:06:01.804Z"
   },
   {
    "duration": 23,
    "start_time": "2022-07-26T15:06:01.825Z"
   },
   {
    "duration": 183,
    "start_time": "2022-07-26T15:06:01.851Z"
   },
   {
    "duration": 12,
    "start_time": "2022-07-26T15:06:02.036Z"
   },
   {
    "duration": 256,
    "start_time": "2022-07-26T15:06:02.049Z"
   },
   {
    "duration": 18,
    "start_time": "2022-07-26T15:06:02.307Z"
   },
   {
    "duration": 166,
    "start_time": "2022-07-26T15:06:02.328Z"
   },
   {
    "duration": 4,
    "start_time": "2022-07-26T15:06:02.495Z"
   },
   {
    "duration": 167,
    "start_time": "2022-07-26T15:06:02.501Z"
   },
   {
    "duration": 4,
    "start_time": "2022-07-26T15:06:02.670Z"
   },
   {
    "duration": 18,
    "start_time": "2022-07-26T15:06:02.676Z"
   },
   {
    "duration": 176,
    "start_time": "2022-07-26T15:06:02.696Z"
   },
   {
    "duration": 6,
    "start_time": "2022-07-26T15:06:02.874Z"
   },
   {
    "duration": 18,
    "start_time": "2022-07-26T15:06:02.882Z"
   },
   {
    "duration": 238,
    "start_time": "2022-07-26T15:06:08.053Z"
   },
   {
    "duration": 135,
    "start_time": "2022-07-26T15:07:06.504Z"
   },
   {
    "duration": 2425,
    "start_time": "2022-07-26T15:07:47.183Z"
   },
   {
    "duration": 2083,
    "start_time": "2022-07-26T15:09:41.288Z"
   },
   {
    "duration": 171,
    "start_time": "2022-07-26T15:10:16.903Z"
   },
   {
    "duration": 160,
    "start_time": "2022-07-26T15:10:46.013Z"
   },
   {
    "duration": 154,
    "start_time": "2022-07-26T15:10:50.925Z"
   },
   {
    "duration": 167,
    "start_time": "2022-07-26T15:10:55.564Z"
   },
   {
    "duration": 172,
    "start_time": "2022-07-26T15:10:59.226Z"
   },
   {
    "duration": 14,
    "start_time": "2022-07-26T15:11:09.832Z"
   },
   {
    "duration": 156,
    "start_time": "2022-07-26T15:11:16.557Z"
   },
   {
    "duration": 153,
    "start_time": "2022-07-26T15:11:36.433Z"
   },
   {
    "duration": 156,
    "start_time": "2022-07-26T15:12:00.858Z"
   },
   {
    "duration": 1359,
    "start_time": "2022-07-28T02:26:44.362Z"
   },
   {
    "duration": 243,
    "start_time": "2022-07-28T02:26:45.725Z"
   },
   {
    "duration": 20,
    "start_time": "2022-07-28T02:26:45.970Z"
   },
   {
    "duration": 28,
    "start_time": "2022-07-28T02:26:45.993Z"
   },
   {
    "duration": 9,
    "start_time": "2022-07-28T02:26:46.024Z"
   },
   {
    "duration": 25,
    "start_time": "2022-07-28T02:26:46.035Z"
   },
   {
    "duration": 26,
    "start_time": "2022-07-28T02:26:46.063Z"
   },
   {
    "duration": 37,
    "start_time": "2022-07-28T02:26:46.091Z"
   },
   {
    "duration": 10,
    "start_time": "2022-07-28T02:26:46.130Z"
   },
   {
    "duration": 7,
    "start_time": "2022-07-28T02:26:46.143Z"
   },
   {
    "duration": 21,
    "start_time": "2022-07-28T02:26:46.151Z"
   },
   {
    "duration": 9,
    "start_time": "2022-07-28T02:26:46.174Z"
   },
   {
    "duration": 17,
    "start_time": "2022-07-28T02:26:46.184Z"
   },
   {
    "duration": 13,
    "start_time": "2022-07-28T02:26:46.224Z"
   },
   {
    "duration": 8,
    "start_time": "2022-07-28T02:26:46.239Z"
   },
   {
    "duration": 18,
    "start_time": "2022-07-28T02:26:46.249Z"
   },
   {
    "duration": 178,
    "start_time": "2022-07-28T02:26:46.269Z"
   },
   {
    "duration": 12,
    "start_time": "2022-07-28T02:26:46.448Z"
   },
   {
    "duration": 96,
    "start_time": "2022-07-28T02:26:46.462Z"
   },
   {
    "duration": 13,
    "start_time": "2022-07-28T02:26:46.560Z"
   },
   {
    "duration": 13,
    "start_time": "2022-07-28T02:26:46.575Z"
   },
   {
    "duration": 158,
    "start_time": "2022-07-28T02:26:46.590Z"
   },
   {
    "duration": 12,
    "start_time": "2022-07-28T02:26:46.749Z"
   },
   {
    "duration": 9,
    "start_time": "2022-07-28T02:26:46.762Z"
   },
   {
    "duration": 178,
    "start_time": "2022-07-28T02:26:46.773Z"
   },
   {
    "duration": 13,
    "start_time": "2022-07-28T02:26:46.952Z"
   },
   {
    "duration": 224,
    "start_time": "2022-07-28T02:26:46.967Z"
   },
   {
    "duration": 15,
    "start_time": "2022-07-28T02:26:47.195Z"
   },
   {
    "duration": 194,
    "start_time": "2022-07-28T02:26:47.213Z"
   },
   {
    "duration": 15,
    "start_time": "2022-07-28T02:26:47.409Z"
   },
   {
    "duration": 107,
    "start_time": "2022-07-28T02:26:47.426Z"
   },
   {
    "duration": 5,
    "start_time": "2022-07-28T02:26:47.535Z"
   },
   {
    "duration": 18,
    "start_time": "2022-07-28T02:26:47.542Z"
   },
   {
    "duration": 320,
    "start_time": "2022-07-28T02:26:47.561Z"
   },
   {
    "duration": 8,
    "start_time": "2022-07-28T02:26:47.883Z"
   },
   {
    "duration": 15,
    "start_time": "2022-07-28T02:26:47.893Z"
   },
   {
    "duration": 149,
    "start_time": "2022-07-28T02:26:47.910Z"
   },
   {
    "duration": 14,
    "start_time": "2022-07-28T02:26:48.061Z"
   },
   {
    "duration": 5,
    "start_time": "2022-07-28T02:26:48.077Z"
   },
   {
    "duration": 13,
    "start_time": "2022-07-28T02:26:48.084Z"
   },
   {
    "duration": 179,
    "start_time": "2022-07-28T02:26:48.098Z"
   },
   {
    "duration": 10,
    "start_time": "2022-07-28T02:26:48.279Z"
   },
   {
    "duration": 1234,
    "start_time": "2022-07-29T01:28:53.433Z"
   },
   {
    "duration": 218,
    "start_time": "2022-07-29T01:28:54.670Z"
   },
   {
    "duration": 20,
    "start_time": "2022-07-29T01:28:54.890Z"
   },
   {
    "duration": 21,
    "start_time": "2022-07-29T01:28:54.912Z"
   },
   {
    "duration": 5,
    "start_time": "2022-07-29T01:28:54.935Z"
   },
   {
    "duration": 32,
    "start_time": "2022-07-29T01:28:54.942Z"
   },
   {
    "duration": 26,
    "start_time": "2022-07-29T01:28:54.976Z"
   },
   {
    "duration": 19,
    "start_time": "2022-07-29T01:28:55.004Z"
   },
   {
    "duration": 26,
    "start_time": "2022-07-29T01:28:55.024Z"
   },
   {
    "duration": 11,
    "start_time": "2022-07-29T01:28:55.052Z"
   },
   {
    "duration": 40,
    "start_time": "2022-07-29T01:28:55.064Z"
   },
   {
    "duration": 31,
    "start_time": "2022-07-29T01:28:55.106Z"
   },
   {
    "duration": 20,
    "start_time": "2022-07-29T01:28:55.139Z"
   },
   {
    "duration": 21,
    "start_time": "2022-07-29T01:28:55.161Z"
   },
   {
    "duration": 27,
    "start_time": "2022-07-29T01:28:55.184Z"
   },
   {
    "duration": 46,
    "start_time": "2022-07-29T01:28:55.212Z"
   },
   {
    "duration": 155,
    "start_time": "2022-07-29T01:28:55.259Z"
   },
   {
    "duration": 11,
    "start_time": "2022-07-29T01:28:55.415Z"
   },
   {
    "duration": 96,
    "start_time": "2022-07-29T01:28:55.427Z"
   },
   {
    "duration": 9,
    "start_time": "2022-07-29T01:28:55.525Z"
   },
   {
    "duration": 25,
    "start_time": "2022-07-29T01:28:55.536Z"
   },
   {
    "duration": 145,
    "start_time": "2022-07-29T01:28:55.563Z"
   },
   {
    "duration": 11,
    "start_time": "2022-07-29T01:28:55.709Z"
   },
   {
    "duration": 24,
    "start_time": "2022-07-29T01:28:55.722Z"
   },
   {
    "duration": 147,
    "start_time": "2022-07-29T01:28:55.748Z"
   },
   {
    "duration": 10,
    "start_time": "2022-07-29T01:28:55.897Z"
   },
   {
    "duration": 188,
    "start_time": "2022-07-29T01:28:55.908Z"
   },
   {
    "duration": 10,
    "start_time": "2022-07-29T01:28:56.099Z"
   },
   {
    "duration": 143,
    "start_time": "2022-07-29T01:28:56.110Z"
   },
   {
    "duration": 3,
    "start_time": "2022-07-29T01:28:56.255Z"
   },
   {
    "duration": 119,
    "start_time": "2022-07-29T01:28:56.260Z"
   },
   {
    "duration": 4,
    "start_time": "2022-07-29T01:28:56.381Z"
   },
   {
    "duration": 27,
    "start_time": "2022-07-29T01:28:56.387Z"
   },
   {
    "duration": 238,
    "start_time": "2022-07-29T01:28:56.416Z"
   },
   {
    "duration": 7,
    "start_time": "2022-07-29T01:28:56.655Z"
   },
   {
    "duration": 18,
    "start_time": "2022-07-29T01:28:56.664Z"
   },
   {
    "duration": 146,
    "start_time": "2022-07-29T01:28:56.684Z"
   },
   {
    "duration": 12,
    "start_time": "2022-07-29T01:28:56.832Z"
   },
   {
    "duration": 12,
    "start_time": "2022-07-29T01:28:56.846Z"
   },
   {
    "duration": 16,
    "start_time": "2022-07-29T01:28:56.860Z"
   },
   {
    "duration": 163,
    "start_time": "2022-07-29T01:28:56.878Z"
   },
   {
    "duration": 9,
    "start_time": "2022-07-29T01:28:57.043Z"
   },
   {
    "duration": 99,
    "start_time": "2022-07-29T02:59:56.890Z"
   },
   {
    "duration": 1048,
    "start_time": "2022-07-29T03:00:35.013Z"
   },
   {
    "duration": 59,
    "start_time": "2022-07-29T03:00:36.064Z"
   },
   {
    "duration": 12,
    "start_time": "2022-07-29T03:00:36.125Z"
   },
   {
    "duration": 18,
    "start_time": "2022-07-29T03:00:36.139Z"
   },
   {
    "duration": 5,
    "start_time": "2022-07-29T03:00:36.159Z"
   },
   {
    "duration": 21,
    "start_time": "2022-07-29T03:00:36.165Z"
   },
   {
    "duration": 20,
    "start_time": "2022-07-29T03:00:36.187Z"
   },
   {
    "duration": 7,
    "start_time": "2022-07-29T03:00:36.208Z"
   },
   {
    "duration": 12,
    "start_time": "2022-07-29T03:00:36.217Z"
   },
   {
    "duration": 5,
    "start_time": "2022-07-29T03:00:36.232Z"
   },
   {
    "duration": 41,
    "start_time": "2022-07-29T03:00:36.238Z"
   },
   {
    "duration": 8,
    "start_time": "2022-07-29T03:00:36.280Z"
   },
   {
    "duration": 15,
    "start_time": "2022-07-29T03:00:36.290Z"
   },
   {
    "duration": 12,
    "start_time": "2022-07-29T03:00:36.306Z"
   },
   {
    "duration": 8,
    "start_time": "2022-07-29T03:00:36.319Z"
   },
   {
    "duration": 15,
    "start_time": "2022-07-29T03:00:36.329Z"
   },
   {
    "duration": 173,
    "start_time": "2022-07-29T03:00:36.345Z"
   },
   {
    "duration": 12,
    "start_time": "2022-07-29T03:00:36.519Z"
   },
   {
    "duration": 90,
    "start_time": "2022-07-29T03:00:36.533Z"
   },
   {
    "duration": 8,
    "start_time": "2022-07-29T03:00:36.624Z"
   },
   {
    "duration": 10,
    "start_time": "2022-07-29T03:00:36.633Z"
   },
   {
    "duration": 132,
    "start_time": "2022-07-29T03:00:36.645Z"
   },
   {
    "duration": 10,
    "start_time": "2022-07-29T03:00:36.779Z"
   },
   {
    "duration": 8,
    "start_time": "2022-07-29T03:00:36.791Z"
   },
   {
    "duration": 154,
    "start_time": "2022-07-29T03:00:36.801Z"
   },
   {
    "duration": 17,
    "start_time": "2022-07-29T03:00:36.957Z"
   },
   {
    "duration": 181,
    "start_time": "2022-07-29T03:00:36.975Z"
   },
   {
    "duration": 17,
    "start_time": "2022-07-29T03:00:37.158Z"
   },
   {
    "duration": 141,
    "start_time": "2022-07-29T03:00:37.176Z"
   },
   {
    "duration": 4,
    "start_time": "2022-07-29T03:00:37.318Z"
   },
   {
    "duration": 101,
    "start_time": "2022-07-29T03:00:37.323Z"
   },
   {
    "duration": 4,
    "start_time": "2022-07-29T03:00:37.425Z"
   },
   {
    "duration": 14,
    "start_time": "2022-07-29T03:00:37.431Z"
   },
   {
    "duration": 217,
    "start_time": "2022-07-29T03:00:37.447Z"
   },
   {
    "duration": 6,
    "start_time": "2022-07-29T03:00:37.666Z"
   },
   {
    "duration": 13,
    "start_time": "2022-07-29T03:00:37.673Z"
   },
   {
    "duration": 12,
    "start_time": "2022-07-29T03:00:37.687Z"
   },
   {
    "duration": 129,
    "start_time": "2022-07-29T03:00:37.701Z"
   },
   {
    "duration": 13,
    "start_time": "2022-07-29T03:00:37.832Z"
   },
   {
    "duration": 6,
    "start_time": "2022-07-29T03:00:37.847Z"
   },
   {
    "duration": 10,
    "start_time": "2022-07-29T03:00:37.872Z"
   },
   {
    "duration": 150,
    "start_time": "2022-07-29T03:00:37.884Z"
   },
   {
    "duration": 10,
    "start_time": "2022-07-29T03:00:38.036Z"
   },
   {
    "duration": 1239,
    "start_time": "2022-07-29T13:33:04.495Z"
   },
   {
    "duration": 227,
    "start_time": "2022-07-29T13:33:05.737Z"
   },
   {
    "duration": 16,
    "start_time": "2022-07-29T13:33:05.965Z"
   },
   {
    "duration": 42,
    "start_time": "2022-07-29T13:33:05.983Z"
   },
   {
    "duration": 5,
    "start_time": "2022-07-29T13:33:06.027Z"
   },
   {
    "duration": 30,
    "start_time": "2022-07-29T13:33:06.033Z"
   },
   {
    "duration": 28,
    "start_time": "2022-07-29T13:33:06.064Z"
   },
   {
    "duration": 17,
    "start_time": "2022-07-29T13:33:06.094Z"
   },
   {
    "duration": 15,
    "start_time": "2022-07-29T13:33:06.112Z"
   },
   {
    "duration": 10,
    "start_time": "2022-07-29T13:33:06.130Z"
   },
   {
    "duration": 34,
    "start_time": "2022-07-29T13:33:06.141Z"
   },
   {
    "duration": 7,
    "start_time": "2022-07-29T13:33:06.176Z"
   },
   {
    "duration": 14,
    "start_time": "2022-07-29T13:33:06.185Z"
   },
   {
    "duration": 12,
    "start_time": "2022-07-29T13:33:06.201Z"
   },
   {
    "duration": 7,
    "start_time": "2022-07-29T13:33:06.215Z"
   },
   {
    "duration": 17,
    "start_time": "2022-07-29T13:33:06.224Z"
   },
   {
    "duration": 166,
    "start_time": "2022-07-29T13:33:06.242Z"
   },
   {
    "duration": 11,
    "start_time": "2022-07-29T13:33:06.409Z"
   },
   {
    "duration": 92,
    "start_time": "2022-07-29T13:33:06.421Z"
   },
   {
    "duration": 22,
    "start_time": "2022-07-29T13:33:06.515Z"
   },
   {
    "duration": 8,
    "start_time": "2022-07-29T13:33:06.538Z"
   },
   {
    "duration": 142,
    "start_time": "2022-07-29T13:33:06.548Z"
   },
   {
    "duration": 11,
    "start_time": "2022-07-29T13:33:06.692Z"
   },
   {
    "duration": 8,
    "start_time": "2022-07-29T13:33:06.704Z"
   },
   {
    "duration": 161,
    "start_time": "2022-07-29T13:33:06.714Z"
   },
   {
    "duration": 10,
    "start_time": "2022-07-29T13:33:06.876Z"
   },
   {
    "duration": 194,
    "start_time": "2022-07-29T13:33:06.888Z"
   },
   {
    "duration": 10,
    "start_time": "2022-07-29T13:33:07.085Z"
   },
   {
    "duration": 162,
    "start_time": "2022-07-29T13:33:07.096Z"
   },
   {
    "duration": 4,
    "start_time": "2022-07-29T13:33:07.259Z"
   },
   {
    "duration": 103,
    "start_time": "2022-07-29T13:33:07.265Z"
   },
   {
    "duration": 6,
    "start_time": "2022-07-29T13:33:07.370Z"
   },
   {
    "duration": 18,
    "start_time": "2022-07-29T13:33:07.378Z"
   },
   {
    "duration": 196,
    "start_time": "2022-07-29T13:33:07.397Z"
   },
   {
    "duration": 7,
    "start_time": "2022-07-29T13:33:07.595Z"
   },
   {
    "duration": 18,
    "start_time": "2022-07-29T13:33:07.604Z"
   },
   {
    "duration": 141,
    "start_time": "2022-07-29T13:33:07.624Z"
   },
   {
    "duration": 12,
    "start_time": "2022-07-29T13:33:07.766Z"
   },
   {
    "duration": 5,
    "start_time": "2022-07-29T13:33:07.779Z"
   },
   {
    "duration": 8,
    "start_time": "2022-07-29T13:33:07.786Z"
   },
   {
    "duration": 177,
    "start_time": "2022-07-29T13:33:07.795Z"
   },
   {
    "duration": 10,
    "start_time": "2022-07-29T13:33:07.973Z"
   },
   {
    "duration": 15,
    "start_time": "2022-07-29T13:33:30.441Z"
   },
   {
    "duration": 11,
    "start_time": "2022-07-29T13:34:20.562Z"
   },
   {
    "duration": 12,
    "start_time": "2022-07-29T13:34:20.990Z"
   },
   {
    "duration": 12,
    "start_time": "2022-07-29T13:34:46.823Z"
   },
   {
    "duration": 6,
    "start_time": "2022-07-29T13:35:05.185Z"
   },
   {
    "duration": 9,
    "start_time": "2022-07-29T13:35:36.772Z"
   },
   {
    "duration": 9,
    "start_time": "2022-07-29T13:37:17.643Z"
   },
   {
    "duration": 215,
    "start_time": "2022-07-29T13:37:23.569Z"
   },
   {
    "duration": 983,
    "start_time": "2022-07-29T13:38:00.577Z"
   },
   {
    "duration": 1609,
    "start_time": "2022-07-29T13:38:22.444Z"
   },
   {
    "duration": 4,
    "start_time": "2022-07-29T13:38:27.253Z"
   },
   {
    "duration": 75,
    "start_time": "2022-07-29T13:38:27.259Z"
   },
   {
    "duration": 13,
    "start_time": "2022-07-29T13:38:27.336Z"
   },
   {
    "duration": 29,
    "start_time": "2022-07-29T13:38:27.351Z"
   },
   {
    "duration": 6,
    "start_time": "2022-07-29T13:38:27.383Z"
   },
   {
    "duration": 18,
    "start_time": "2022-07-29T13:38:27.390Z"
   },
   {
    "duration": 37,
    "start_time": "2022-07-29T13:38:27.410Z"
   },
   {
    "duration": 10,
    "start_time": "2022-07-29T13:38:27.449Z"
   },
   {
    "duration": 14,
    "start_time": "2022-07-29T13:38:27.461Z"
   },
   {
    "duration": 5,
    "start_time": "2022-07-29T13:38:27.476Z"
   },
   {
    "duration": 17,
    "start_time": "2022-07-29T13:38:27.525Z"
   },
   {
    "duration": 9,
    "start_time": "2022-07-29T13:38:27.545Z"
   },
   {
    "duration": 16,
    "start_time": "2022-07-29T13:38:27.556Z"
   },
   {
    "duration": 13,
    "start_time": "2022-07-29T13:38:27.573Z"
   },
   {
    "duration": 7,
    "start_time": "2022-07-29T13:38:27.588Z"
   },
   {
    "duration": 40,
    "start_time": "2022-07-29T13:38:27.597Z"
   },
   {
    "duration": 157,
    "start_time": "2022-07-29T13:38:27.639Z"
   },
   {
    "duration": 12,
    "start_time": "2022-07-29T13:38:27.797Z"
   },
   {
    "duration": 93,
    "start_time": "2022-07-29T13:38:27.810Z"
   },
   {
    "duration": 8,
    "start_time": "2022-07-29T13:38:27.905Z"
   },
   {
    "duration": 24,
    "start_time": "2022-07-29T13:38:27.915Z"
   },
   {
    "duration": 9,
    "start_time": "2022-07-29T13:38:31.859Z"
   },
   {
    "duration": 149,
    "start_time": "2022-07-29T13:38:44.990Z"
   },
   {
    "duration": 7,
    "start_time": "2022-07-29T13:39:07.367Z"
   },
   {
    "duration": 9,
    "start_time": "2022-07-29T13:39:27.908Z"
   },
   {
    "duration": 11,
    "start_time": "2022-07-29T13:39:28.510Z"
   },
   {
    "duration": 11,
    "start_time": "2022-07-29T13:39:29.271Z"
   },
   {
    "duration": 13,
    "start_time": "2022-07-29T13:40:22.314Z"
   },
   {
    "duration": 9,
    "start_time": "2022-07-29T13:40:30.723Z"
   },
   {
    "duration": 19,
    "start_time": "2022-07-29T13:40:49.660Z"
   },
   {
    "duration": 4,
    "start_time": "2022-07-29T13:41:01.991Z"
   },
   {
    "duration": 9,
    "start_time": "2022-07-29T13:41:02.179Z"
   },
   {
    "duration": 11,
    "start_time": "2022-07-29T13:41:02.756Z"
   },
   {
    "duration": 1105,
    "start_time": "2022-07-29T13:41:03.386Z"
   },
   {
    "duration": 10,
    "start_time": "2022-07-29T13:41:14.356Z"
   },
   {
    "duration": 8,
    "start_time": "2022-07-29T13:41:33.657Z"
   },
   {
    "duration": 12,
    "start_time": "2022-07-29T13:42:00.665Z"
   },
   {
    "duration": 14,
    "start_time": "2022-07-29T13:43:16.680Z"
   },
   {
    "duration": 12,
    "start_time": "2022-07-29T13:43:30.356Z"
   },
   {
    "duration": 16,
    "start_time": "2022-07-29T13:43:54.423Z"
   },
   {
    "duration": 8,
    "start_time": "2022-07-29T13:44:31.153Z"
   },
   {
    "duration": 153,
    "start_time": "2022-07-29T13:44:31.772Z"
   },
   {
    "duration": 5,
    "start_time": "2022-07-29T13:45:00.278Z"
   },
   {
    "duration": 11,
    "start_time": "2022-07-29T13:45:38.713Z"
   },
   {
    "duration": 4,
    "start_time": "2022-07-29T13:45:48.542Z"
   },
   {
    "duration": 86,
    "start_time": "2022-07-29T13:45:48.549Z"
   },
   {
    "duration": 13,
    "start_time": "2022-07-29T13:45:48.636Z"
   },
   {
    "duration": 28,
    "start_time": "2022-07-29T13:45:48.651Z"
   },
   {
    "duration": 9,
    "start_time": "2022-07-29T13:45:48.680Z"
   },
   {
    "duration": 34,
    "start_time": "2022-07-29T13:45:48.691Z"
   },
   {
    "duration": 34,
    "start_time": "2022-07-29T13:45:48.726Z"
   },
   {
    "duration": 25,
    "start_time": "2022-07-29T13:45:48.762Z"
   },
   {
    "duration": 23,
    "start_time": "2022-07-29T13:45:48.789Z"
   },
   {
    "duration": 10,
    "start_time": "2022-07-29T13:45:48.814Z"
   },
   {
    "duration": 42,
    "start_time": "2022-07-29T13:45:48.826Z"
   },
   {
    "duration": 11,
    "start_time": "2022-07-29T13:45:48.871Z"
   },
   {
    "duration": 53,
    "start_time": "2022-07-29T13:45:48.884Z"
   },
   {
    "duration": 36,
    "start_time": "2022-07-29T13:45:48.939Z"
   },
   {
    "duration": 15,
    "start_time": "2022-07-29T13:45:48.977Z"
   },
   {
    "duration": 44,
    "start_time": "2022-07-29T13:45:48.995Z"
   },
   {
    "duration": 216,
    "start_time": "2022-07-29T13:45:49.042Z"
   },
   {
    "duration": 15,
    "start_time": "2022-07-29T13:45:49.260Z"
   },
   {
    "duration": 106,
    "start_time": "2022-07-29T13:45:49.277Z"
   },
   {
    "duration": 9,
    "start_time": "2022-07-29T13:45:49.385Z"
   },
   {
    "duration": 34,
    "start_time": "2022-07-29T13:45:49.396Z"
   },
   {
    "duration": 31,
    "start_time": "2022-07-29T13:45:49.432Z"
   },
   {
    "duration": 884,
    "start_time": "2022-07-29T13:45:51.353Z"
   },
   {
    "duration": 11,
    "start_time": "2022-07-29T13:46:04.221Z"
   },
   {
    "duration": 9,
    "start_time": "2022-07-29T13:46:12.207Z"
   },
   {
    "duration": 8,
    "start_time": "2022-07-29T13:46:12.661Z"
   },
   {
    "duration": 10,
    "start_time": "2022-07-29T13:46:13.279Z"
   },
   {
    "duration": 9,
    "start_time": "2022-07-29T13:46:13.871Z"
   },
   {
    "duration": 13,
    "start_time": "2022-07-29T13:46:50.977Z"
   },
   {
    "duration": 4,
    "start_time": "2022-07-29T13:47:43.908Z"
   },
   {
    "duration": 71,
    "start_time": "2022-07-29T13:47:43.913Z"
   },
   {
    "duration": 12,
    "start_time": "2022-07-29T13:47:43.985Z"
   },
   {
    "duration": 19,
    "start_time": "2022-07-29T13:47:43.999Z"
   },
   {
    "duration": 22,
    "start_time": "2022-07-29T13:47:44.020Z"
   },
   {
    "duration": 16,
    "start_time": "2022-07-29T13:47:44.044Z"
   },
   {
    "duration": 23,
    "start_time": "2022-07-29T13:47:44.062Z"
   },
   {
    "duration": 7,
    "start_time": "2022-07-29T13:47:44.087Z"
   },
   {
    "duration": 42,
    "start_time": "2022-07-29T13:47:44.095Z"
   },
   {
    "duration": 6,
    "start_time": "2022-07-29T13:47:44.139Z"
   },
   {
    "duration": 19,
    "start_time": "2022-07-29T13:47:44.146Z"
   },
   {
    "duration": 7,
    "start_time": "2022-07-29T13:47:44.167Z"
   },
   {
    "duration": 20,
    "start_time": "2022-07-29T13:47:44.175Z"
   },
   {
    "duration": 12,
    "start_time": "2022-07-29T13:47:44.196Z"
   },
   {
    "duration": 27,
    "start_time": "2022-07-29T13:47:44.210Z"
   },
   {
    "duration": 11,
    "start_time": "2022-07-29T13:47:44.239Z"
   },
   {
    "duration": 163,
    "start_time": "2022-07-29T13:47:44.252Z"
   },
   {
    "duration": 10,
    "start_time": "2022-07-29T13:47:44.416Z"
   },
   {
    "duration": 78,
    "start_time": "2022-07-29T13:47:44.436Z"
   },
   {
    "duration": 7,
    "start_time": "2022-07-29T13:47:44.516Z"
   },
   {
    "duration": 8,
    "start_time": "2022-07-29T13:47:44.537Z"
   },
   {
    "duration": 10,
    "start_time": "2022-07-29T13:47:44.546Z"
   },
   {
    "duration": 8,
    "start_time": "2022-07-29T13:47:44.557Z"
   },
   {
    "duration": 967,
    "start_time": "2022-07-29T13:47:44.567Z"
   },
   {
    "duration": 0,
    "start_time": "2022-07-29T13:47:45.536Z"
   },
   {
    "duration": 0,
    "start_time": "2022-07-29T13:47:45.538Z"
   },
   {
    "duration": 0,
    "start_time": "2022-07-29T13:47:45.539Z"
   },
   {
    "duration": 0,
    "start_time": "2022-07-29T13:47:45.541Z"
   },
   {
    "duration": 0,
    "start_time": "2022-07-29T13:47:45.542Z"
   },
   {
    "duration": 0,
    "start_time": "2022-07-29T13:47:45.544Z"
   },
   {
    "duration": 0,
    "start_time": "2022-07-29T13:47:45.545Z"
   },
   {
    "duration": 0,
    "start_time": "2022-07-29T13:47:45.547Z"
   },
   {
    "duration": 0,
    "start_time": "2022-07-29T13:47:45.548Z"
   },
   {
    "duration": 0,
    "start_time": "2022-07-29T13:47:45.550Z"
   },
   {
    "duration": 0,
    "start_time": "2022-07-29T13:47:45.551Z"
   },
   {
    "duration": 12,
    "start_time": "2022-07-29T13:48:37.175Z"
   },
   {
    "duration": 4,
    "start_time": "2022-07-29T13:48:41.914Z"
   },
   {
    "duration": 95,
    "start_time": "2022-07-29T13:48:42.448Z"
   },
   {
    "duration": 5,
    "start_time": "2022-07-29T13:48:42.955Z"
   },
   {
    "duration": 15,
    "start_time": "2022-07-29T13:48:44.584Z"
   },
   {
    "duration": 208,
    "start_time": "2022-07-29T13:48:46.149Z"
   },
   {
    "duration": 16,
    "start_time": "2022-07-29T13:48:47.085Z"
   },
   {
    "duration": 9,
    "start_time": "2022-07-29T13:53:46.941Z"
   },
   {
    "duration": 14,
    "start_time": "2022-07-29T13:53:56.818Z"
   },
   {
    "duration": 12,
    "start_time": "2022-07-29T13:54:11.260Z"
   },
   {
    "duration": 11,
    "start_time": "2022-07-29T13:54:15.118Z"
   },
   {
    "duration": 8,
    "start_time": "2022-07-29T13:54:15.721Z"
   },
   {
    "duration": 14,
    "start_time": "2022-07-29T13:54:55.439Z"
   },
   {
    "duration": 9,
    "start_time": "2022-07-29T13:55:06.642Z"
   },
   {
    "duration": 6,
    "start_time": "2022-07-29T13:55:15.140Z"
   },
   {
    "duration": 11,
    "start_time": "2022-07-29T13:55:16.038Z"
   },
   {
    "duration": 11,
    "start_time": "2022-07-29T13:55:16.517Z"
   },
   {
    "duration": 9,
    "start_time": "2022-07-29T13:55:17.723Z"
   },
   {
    "duration": 9,
    "start_time": "2022-07-29T13:55:21.782Z"
   },
   {
    "duration": 7,
    "start_time": "2022-07-29T13:55:36.039Z"
   },
   {
    "duration": 4,
    "start_time": "2022-07-29T13:55:40.819Z"
   },
   {
    "duration": 91,
    "start_time": "2022-07-29T13:55:40.826Z"
   },
   {
    "duration": 13,
    "start_time": "2022-07-29T13:55:40.918Z"
   },
   {
    "duration": 22,
    "start_time": "2022-07-29T13:55:40.934Z"
   },
   {
    "duration": 14,
    "start_time": "2022-07-29T13:55:40.958Z"
   },
   {
    "duration": 26,
    "start_time": "2022-07-29T13:55:40.974Z"
   },
   {
    "duration": 31,
    "start_time": "2022-07-29T13:55:41.002Z"
   },
   {
    "duration": 17,
    "start_time": "2022-07-29T13:55:41.034Z"
   },
   {
    "duration": 24,
    "start_time": "2022-07-29T13:55:41.053Z"
   },
   {
    "duration": 13,
    "start_time": "2022-07-29T13:55:41.079Z"
   },
   {
    "duration": 28,
    "start_time": "2022-07-29T13:55:41.093Z"
   },
   {
    "duration": 7,
    "start_time": "2022-07-29T13:55:41.122Z"
   },
   {
    "duration": 49,
    "start_time": "2022-07-29T13:55:41.130Z"
   },
   {
    "duration": 24,
    "start_time": "2022-07-29T13:55:41.180Z"
   },
   {
    "duration": 28,
    "start_time": "2022-07-29T13:55:41.205Z"
   },
   {
    "duration": 37,
    "start_time": "2022-07-29T13:55:41.234Z"
   },
   {
    "duration": 146,
    "start_time": "2022-07-29T13:55:41.273Z"
   },
   {
    "duration": 21,
    "start_time": "2022-07-29T13:55:41.421Z"
   },
   {
    "duration": 81,
    "start_time": "2022-07-29T13:55:41.443Z"
   },
   {
    "duration": 6,
    "start_time": "2022-07-29T13:55:43.517Z"
   },
   {
    "duration": 13,
    "start_time": "2022-07-29T13:55:44.681Z"
   },
   {
    "duration": 10,
    "start_time": "2022-07-29T13:55:45.213Z"
   },
   {
    "duration": 7,
    "start_time": "2022-07-29T13:55:46.121Z"
   },
   {
    "duration": 10,
    "start_time": "2022-07-29T13:59:01.273Z"
   },
   {
    "duration": 3,
    "start_time": "2022-07-29T13:59:09.549Z"
   },
   {
    "duration": 10,
    "start_time": "2022-07-29T13:59:25.820Z"
   },
   {
    "duration": 10,
    "start_time": "2022-07-29T14:00:27.564Z"
   },
   {
    "duration": 12,
    "start_time": "2022-07-29T14:04:17.789Z"
   },
   {
    "duration": 10,
    "start_time": "2022-07-29T14:04:28.100Z"
   },
   {
    "duration": 3,
    "start_time": "2022-07-29T14:04:36.357Z"
   },
   {
    "duration": 96,
    "start_time": "2022-07-29T14:04:36.362Z"
   },
   {
    "duration": 13,
    "start_time": "2022-07-29T14:04:36.460Z"
   },
   {
    "duration": 23,
    "start_time": "2022-07-29T14:04:36.475Z"
   },
   {
    "duration": 7,
    "start_time": "2022-07-29T14:04:36.500Z"
   },
   {
    "duration": 32,
    "start_time": "2022-07-29T14:04:36.508Z"
   },
   {
    "duration": 23,
    "start_time": "2022-07-29T14:04:36.542Z"
   },
   {
    "duration": 8,
    "start_time": "2022-07-29T14:04:36.567Z"
   },
   {
    "duration": 11,
    "start_time": "2022-07-29T14:04:36.576Z"
   },
   {
    "duration": 4,
    "start_time": "2022-07-29T14:04:36.589Z"
   },
   {
    "duration": 50,
    "start_time": "2022-07-29T14:04:36.595Z"
   },
   {
    "duration": 9,
    "start_time": "2022-07-29T14:04:36.647Z"
   },
   {
    "duration": 16,
    "start_time": "2022-07-29T14:04:36.659Z"
   },
   {
    "duration": 12,
    "start_time": "2022-07-29T14:04:36.677Z"
   },
   {
    "duration": 6,
    "start_time": "2022-07-29T14:04:36.691Z"
   },
   {
    "duration": 41,
    "start_time": "2022-07-29T14:04:36.699Z"
   },
   {
    "duration": 152,
    "start_time": "2022-07-29T14:04:36.742Z"
   },
   {
    "duration": 11,
    "start_time": "2022-07-29T14:04:36.895Z"
   },
   {
    "duration": 186,
    "start_time": "2022-07-29T14:04:36.907Z"
   },
   {
    "duration": 9,
    "start_time": "2022-07-29T14:04:42.657Z"
   },
   {
    "duration": 5,
    "start_time": "2022-07-29T14:04:56.121Z"
   },
   {
    "duration": 14,
    "start_time": "2022-07-29T14:05:26.820Z"
   },
   {
    "duration": 9,
    "start_time": "2022-07-29T14:06:23.526Z"
   },
   {
    "duration": 11,
    "start_time": "2022-07-29T14:06:37.977Z"
   },
   {
    "duration": 3,
    "start_time": "2022-07-29T14:06:45.524Z"
   },
   {
    "duration": 66,
    "start_time": "2022-07-29T14:06:45.529Z"
   },
   {
    "duration": 13,
    "start_time": "2022-07-29T14:06:45.597Z"
   },
   {
    "duration": 29,
    "start_time": "2022-07-29T14:06:45.611Z"
   },
   {
    "duration": 5,
    "start_time": "2022-07-29T14:06:45.642Z"
   },
   {
    "duration": 16,
    "start_time": "2022-07-29T14:06:45.649Z"
   },
   {
    "duration": 21,
    "start_time": "2022-07-29T14:06:45.666Z"
   },
   {
    "duration": 7,
    "start_time": "2022-07-29T14:06:45.689Z"
   },
   {
    "duration": 12,
    "start_time": "2022-07-29T14:06:45.697Z"
   },
   {
    "duration": 28,
    "start_time": "2022-07-29T14:06:45.711Z"
   },
   {
    "duration": 24,
    "start_time": "2022-07-29T14:06:45.741Z"
   },
   {
    "duration": 8,
    "start_time": "2022-07-29T14:06:45.766Z"
   },
   {
    "duration": 16,
    "start_time": "2022-07-29T14:06:45.775Z"
   },
   {
    "duration": 12,
    "start_time": "2022-07-29T14:06:45.793Z"
   },
   {
    "duration": 7,
    "start_time": "2022-07-29T14:06:45.807Z"
   },
   {
    "duration": 11,
    "start_time": "2022-07-29T14:06:45.837Z"
   },
   {
    "duration": 155,
    "start_time": "2022-07-29T14:06:45.850Z"
   },
   {
    "duration": 11,
    "start_time": "2022-07-29T14:06:46.007Z"
   },
   {
    "duration": 91,
    "start_time": "2022-07-29T14:06:46.019Z"
   },
   {
    "duration": 5,
    "start_time": "2022-07-29T14:06:46.111Z"
   },
   {
    "duration": 21,
    "start_time": "2022-07-29T14:06:46.117Z"
   },
   {
    "duration": 9,
    "start_time": "2022-07-29T14:06:46.140Z"
   },
   {
    "duration": 10,
    "start_time": "2022-07-29T14:06:48.465Z"
   },
   {
    "duration": 161,
    "start_time": "2022-07-29T14:06:55.881Z"
   },
   {
    "duration": 725,
    "start_time": "2022-07-29T14:07:46.355Z"
   },
   {
    "duration": 645,
    "start_time": "2022-07-29T14:08:01.598Z"
   },
   {
    "duration": 3,
    "start_time": "2022-07-29T14:08:12.564Z"
   },
   {
    "duration": 92,
    "start_time": "2022-07-29T14:08:12.569Z"
   },
   {
    "duration": 12,
    "start_time": "2022-07-29T14:08:12.662Z"
   },
   {
    "duration": 37,
    "start_time": "2022-07-29T14:08:12.676Z"
   },
   {
    "duration": 6,
    "start_time": "2022-07-29T14:08:12.716Z"
   },
   {
    "duration": 32,
    "start_time": "2022-07-29T14:08:12.724Z"
   },
   {
    "duration": 26,
    "start_time": "2022-07-29T14:08:12.757Z"
   },
   {
    "duration": 7,
    "start_time": "2022-07-29T14:08:12.785Z"
   },
   {
    "duration": 27,
    "start_time": "2022-07-29T14:08:12.793Z"
   },
   {
    "duration": 18,
    "start_time": "2022-07-29T14:08:12.822Z"
   },
   {
    "duration": 37,
    "start_time": "2022-07-29T14:08:12.841Z"
   },
   {
    "duration": 35,
    "start_time": "2022-07-29T14:08:12.880Z"
   },
   {
    "duration": 34,
    "start_time": "2022-07-29T14:08:12.917Z"
   },
   {
    "duration": 19,
    "start_time": "2022-07-29T14:08:12.954Z"
   },
   {
    "duration": 19,
    "start_time": "2022-07-29T14:08:12.975Z"
   },
   {
    "duration": 23,
    "start_time": "2022-07-29T14:08:12.996Z"
   },
   {
    "duration": 149,
    "start_time": "2022-07-29T14:08:13.021Z"
   },
   {
    "duration": 11,
    "start_time": "2022-07-29T14:08:13.172Z"
   },
   {
    "duration": 95,
    "start_time": "2022-07-29T14:08:13.185Z"
   },
   {
    "duration": 5,
    "start_time": "2022-07-29T14:08:13.282Z"
   },
   {
    "duration": 21,
    "start_time": "2022-07-29T14:08:13.288Z"
   },
   {
    "duration": 22,
    "start_time": "2022-07-29T14:08:13.311Z"
   },
   {
    "duration": 15,
    "start_time": "2022-07-29T14:08:13.334Z"
   },
   {
    "duration": 89,
    "start_time": "2022-07-29T14:08:16.144Z"
   },
   {
    "duration": 127,
    "start_time": "2022-07-29T14:08:25.102Z"
   },
   {
    "duration": 10,
    "start_time": "2022-07-29T14:08:47.440Z"
   },
   {
    "duration": 9,
    "start_time": "2022-07-29T14:10:10.575Z"
   },
   {
    "duration": 11,
    "start_time": "2022-07-29T14:10:33.022Z"
   },
   {
    "duration": 9,
    "start_time": "2022-07-29T14:10:48.250Z"
   },
   {
    "duration": 14,
    "start_time": "2022-07-29T14:11:46.889Z"
   },
   {
    "duration": 9,
    "start_time": "2022-07-29T14:14:18.210Z"
   },
   {
    "duration": 9,
    "start_time": "2022-07-29T14:14:28.750Z"
   },
   {
    "duration": 9,
    "start_time": "2022-07-29T14:15:21.277Z"
   },
   {
    "duration": 9,
    "start_time": "2022-07-29T14:15:59.473Z"
   },
   {
    "duration": 17,
    "start_time": "2022-07-29T14:16:06.567Z"
   },
   {
    "duration": 9,
    "start_time": "2022-07-29T14:16:07.017Z"
   },
   {
    "duration": 9,
    "start_time": "2022-07-29T14:16:35.920Z"
   },
   {
    "duration": 141,
    "start_time": "2022-07-29T14:18:48.020Z"
   },
   {
    "duration": 138,
    "start_time": "2022-07-29T14:18:59.654Z"
   },
   {
    "duration": 145,
    "start_time": "2022-07-29T14:19:13.070Z"
   },
   {
    "duration": 133,
    "start_time": "2022-07-29T14:20:35.583Z"
   },
   {
    "duration": 179,
    "start_time": "2022-07-29T14:22:25.685Z"
   },
   {
    "duration": 143,
    "start_time": "2022-07-29T14:22:33.930Z"
   },
   {
    "duration": 148,
    "start_time": "2022-07-29T14:22:41.515Z"
   },
   {
    "duration": 1260,
    "start_time": "2022-07-30T09:52:36.598Z"
   },
   {
    "duration": 251,
    "start_time": "2022-07-30T09:52:37.863Z"
   },
   {
    "duration": 15,
    "start_time": "2022-07-30T09:52:38.116Z"
   },
   {
    "duration": 24,
    "start_time": "2022-07-30T09:52:38.133Z"
   },
   {
    "duration": 7,
    "start_time": "2022-07-30T09:52:38.159Z"
   },
   {
    "duration": 23,
    "start_time": "2022-07-30T09:52:38.171Z"
   },
   {
    "duration": 21,
    "start_time": "2022-07-30T09:52:38.196Z"
   },
   {
    "duration": 30,
    "start_time": "2022-07-30T09:52:38.219Z"
   },
   {
    "duration": 36,
    "start_time": "2022-07-30T09:52:38.251Z"
   },
   {
    "duration": 27,
    "start_time": "2022-07-30T09:52:38.290Z"
   },
   {
    "duration": 40,
    "start_time": "2022-07-30T09:52:38.318Z"
   },
   {
    "duration": 39,
    "start_time": "2022-07-30T09:52:38.360Z"
   },
   {
    "duration": 39,
    "start_time": "2022-07-30T09:52:38.402Z"
   },
   {
    "duration": 38,
    "start_time": "2022-07-30T09:52:38.443Z"
   },
   {
    "duration": 22,
    "start_time": "2022-07-30T09:52:38.483Z"
   },
   {
    "duration": 66,
    "start_time": "2022-07-30T09:52:38.507Z"
   },
   {
    "duration": 163,
    "start_time": "2022-07-30T09:52:38.574Z"
   },
   {
    "duration": 10,
    "start_time": "2022-07-30T09:52:38.739Z"
   },
   {
    "duration": 130,
    "start_time": "2022-07-30T09:52:38.751Z"
   },
   {
    "duration": 9,
    "start_time": "2022-07-30T09:52:38.883Z"
   },
   {
    "duration": 44,
    "start_time": "2022-07-30T09:52:38.894Z"
   },
   {
    "duration": 13,
    "start_time": "2022-07-30T09:52:38.940Z"
   },
   {
    "duration": 182,
    "start_time": "2022-07-30T09:52:38.955Z"
   },
   {
    "duration": 14,
    "start_time": "2022-07-30T09:52:39.139Z"
   },
   {
    "duration": 21,
    "start_time": "2022-07-30T09:52:39.155Z"
   },
   {
    "duration": 163,
    "start_time": "2022-07-30T09:52:39.178Z"
   },
   {
    "duration": 9,
    "start_time": "2022-07-30T09:52:39.343Z"
   },
   {
    "duration": 212,
    "start_time": "2022-07-30T09:52:39.362Z"
   },
   {
    "duration": 11,
    "start_time": "2022-07-30T09:52:39.576Z"
   },
   {
    "duration": 151,
    "start_time": "2022-07-30T09:52:39.588Z"
   },
   {
    "duration": 4,
    "start_time": "2022-07-30T09:52:39.741Z"
   },
   {
    "duration": 119,
    "start_time": "2022-07-30T09:52:39.746Z"
   },
   {
    "duration": 7,
    "start_time": "2022-07-30T09:52:39.867Z"
   },
   {
    "duration": 33,
    "start_time": "2022-07-30T09:52:39.879Z"
   },
   {
    "duration": 257,
    "start_time": "2022-07-30T09:52:39.914Z"
   },
   {
    "duration": 17,
    "start_time": "2022-07-30T09:52:40.173Z"
   },
   {
    "duration": 357,
    "start_time": "2022-07-30T09:52:40.192Z"
   },
   {
    "duration": 24,
    "start_time": "2022-07-30T09:52:40.551Z"
   },
   {
    "duration": 28,
    "start_time": "2022-07-30T09:52:40.577Z"
   },
   {
    "duration": 16,
    "start_time": "2022-07-30T09:52:40.607Z"
   },
   {
    "duration": 253,
    "start_time": "2022-07-30T09:52:40.625Z"
   },
   {
    "duration": 10,
    "start_time": "2022-07-30T09:52:40.880Z"
   },
   {
    "duration": 5,
    "start_time": "2022-07-30T09:53:40.683Z"
   },
   {
    "duration": 17,
    "start_time": "2022-07-30T09:53:41.293Z"
   },
   {
    "duration": 17,
    "start_time": "2022-07-30T09:53:57.228Z"
   },
   {
    "duration": 15,
    "start_time": "2022-07-30T09:54:05.579Z"
   },
   {
    "duration": 905,
    "start_time": "2022-07-30T09:54:08.230Z"
   },
   {
    "duration": 9,
    "start_time": "2022-07-30T09:54:25.257Z"
   },
   {
    "duration": 90,
    "start_time": "2022-07-30T09:54:25.268Z"
   },
   {
    "duration": 19,
    "start_time": "2022-07-30T09:54:25.360Z"
   },
   {
    "duration": 30,
    "start_time": "2022-07-30T09:54:25.382Z"
   },
   {
    "duration": 7,
    "start_time": "2022-07-30T09:54:25.414Z"
   },
   {
    "duration": 15,
    "start_time": "2022-07-30T09:54:25.423Z"
   },
   {
    "duration": 50,
    "start_time": "2022-07-30T09:54:25.440Z"
   },
   {
    "duration": 8,
    "start_time": "2022-07-30T09:54:25.492Z"
   },
   {
    "duration": 12,
    "start_time": "2022-07-30T09:54:25.502Z"
   },
   {
    "duration": 6,
    "start_time": "2022-07-30T09:54:25.515Z"
   },
   {
    "duration": 18,
    "start_time": "2022-07-30T09:54:25.523Z"
   },
   {
    "duration": 24,
    "start_time": "2022-07-30T09:54:25.543Z"
   },
   {
    "duration": 33,
    "start_time": "2022-07-30T09:54:25.570Z"
   },
   {
    "duration": 16,
    "start_time": "2022-07-30T09:54:25.605Z"
   },
   {
    "duration": 8,
    "start_time": "2022-07-30T09:54:25.623Z"
   },
   {
    "duration": 15,
    "start_time": "2022-07-30T09:54:25.633Z"
   },
   {
    "duration": 154,
    "start_time": "2022-07-30T09:54:25.661Z"
   },
   {
    "duration": 11,
    "start_time": "2022-07-30T09:54:25.817Z"
   },
   {
    "duration": 113,
    "start_time": "2022-07-30T09:54:25.829Z"
   },
   {
    "duration": 4,
    "start_time": "2022-07-30T09:54:25.943Z"
   },
   {
    "duration": 25,
    "start_time": "2022-07-30T09:54:25.948Z"
   },
   {
    "duration": 11,
    "start_time": "2022-07-30T09:54:25.976Z"
   },
   {
    "duration": 153,
    "start_time": "2022-07-30T09:54:25.988Z"
   },
   {
    "duration": 11,
    "start_time": "2022-07-30T09:54:26.144Z"
   },
   {
    "duration": 11,
    "start_time": "2022-07-30T09:54:26.162Z"
   },
   {
    "duration": 10,
    "start_time": "2022-07-30T09:54:33.834Z"
   },
   {
    "duration": 14,
    "start_time": "2022-07-30T09:54:36.391Z"
   },
   {
    "duration": 12,
    "start_time": "2022-07-30T09:54:36.793Z"
   },
   {
    "duration": 154,
    "start_time": "2022-07-30T09:54:37.858Z"
   },
   {
    "duration": 5,
    "start_time": "2022-07-30T09:54:42.319Z"
   },
   {
    "duration": 11,
    "start_time": "2022-07-30T09:54:42.816Z"
   },
   {
    "duration": 10,
    "start_time": "2022-07-30T09:54:43.296Z"
   },
   {
    "duration": 167,
    "start_time": "2022-07-30T09:55:10.038Z"
   },
   {
    "duration": 13,
    "start_time": "2022-07-30T09:55:16.856Z"
   },
   {
    "duration": 16,
    "start_time": "2022-07-30T09:55:17.652Z"
   },
   {
    "duration": 11,
    "start_time": "2022-07-30T09:55:33.777Z"
   },
   {
    "duration": 144,
    "start_time": "2022-07-30T09:55:34.238Z"
   },
   {
    "duration": 1350,
    "start_time": "2022-07-31T01:47:20.830Z"
   },
   {
    "duration": 275,
    "start_time": "2022-07-31T01:47:22.183Z"
   },
   {
    "duration": 14,
    "start_time": "2022-07-31T01:47:22.459Z"
   },
   {
    "duration": 44,
    "start_time": "2022-07-31T01:47:22.475Z"
   },
   {
    "duration": 6,
    "start_time": "2022-07-31T01:47:22.520Z"
   },
   {
    "duration": 18,
    "start_time": "2022-07-31T01:47:22.527Z"
   },
   {
    "duration": 24,
    "start_time": "2022-07-31T01:47:22.547Z"
   },
   {
    "duration": 10,
    "start_time": "2022-07-31T01:47:22.573Z"
   },
   {
    "duration": 10,
    "start_time": "2022-07-31T01:47:22.584Z"
   },
   {
    "duration": 15,
    "start_time": "2022-07-31T01:47:22.597Z"
   },
   {
    "duration": 39,
    "start_time": "2022-07-31T01:47:22.613Z"
   },
   {
    "duration": 8,
    "start_time": "2022-07-31T01:47:22.654Z"
   },
   {
    "duration": 44,
    "start_time": "2022-07-31T01:47:22.663Z"
   },
   {
    "duration": 14,
    "start_time": "2022-07-31T01:47:22.708Z"
   },
   {
    "duration": 14,
    "start_time": "2022-07-31T01:47:22.724Z"
   },
   {
    "duration": 32,
    "start_time": "2022-07-31T01:47:22.740Z"
   },
   {
    "duration": 171,
    "start_time": "2022-07-31T01:47:22.774Z"
   },
   {
    "duration": 10,
    "start_time": "2022-07-31T01:47:22.947Z"
   },
   {
    "duration": 112,
    "start_time": "2022-07-31T01:47:22.958Z"
   },
   {
    "duration": 6,
    "start_time": "2022-07-31T01:47:23.072Z"
   },
   {
    "duration": 31,
    "start_time": "2022-07-31T01:47:23.080Z"
   },
   {
    "duration": 23,
    "start_time": "2022-07-31T01:47:23.113Z"
   },
   {
    "duration": 35,
    "start_time": "2022-07-31T01:47:23.138Z"
   },
   {
    "duration": 15,
    "start_time": "2022-07-31T01:47:23.176Z"
   },
   {
    "duration": 150,
    "start_time": "2022-07-31T01:47:23.193Z"
   },
   {
    "duration": 145,
    "start_time": "2022-07-31T01:47:23.344Z"
   },
   {
    "duration": 10,
    "start_time": "2022-07-31T01:47:23.490Z"
   },
   {
    "duration": 177,
    "start_time": "2022-07-31T01:47:23.503Z"
   },
   {
    "duration": 12,
    "start_time": "2022-07-31T01:47:23.682Z"
   },
   {
    "duration": 145,
    "start_time": "2022-07-31T01:47:23.696Z"
   },
   {
    "duration": 3,
    "start_time": "2022-07-31T01:47:23.843Z"
   },
   {
    "duration": 114,
    "start_time": "2022-07-31T01:47:23.848Z"
   },
   {
    "duration": 4,
    "start_time": "2022-07-31T01:47:23.964Z"
   },
   {
    "duration": 43,
    "start_time": "2022-07-31T01:47:23.970Z"
   },
   {
    "duration": 238,
    "start_time": "2022-07-31T01:47:24.015Z"
   },
   {
    "duration": 14,
    "start_time": "2022-07-31T01:47:24.254Z"
   },
   {
    "duration": 392,
    "start_time": "2022-07-31T01:47:24.269Z"
   },
   {
    "duration": 15,
    "start_time": "2022-07-31T01:47:24.663Z"
   },
   {
    "duration": 18,
    "start_time": "2022-07-31T01:47:24.681Z"
   },
   {
    "duration": 11,
    "start_time": "2022-07-31T01:47:24.701Z"
   },
   {
    "duration": 150,
    "start_time": "2022-07-31T01:47:24.713Z"
   },
   {
    "duration": 16,
    "start_time": "2022-07-31T01:47:24.865Z"
   },
   {
    "duration": 1036,
    "start_time": "2022-07-31T04:10:07.418Z"
   },
   {
    "duration": 63,
    "start_time": "2022-07-31T04:10:08.457Z"
   },
   {
    "duration": 14,
    "start_time": "2022-07-31T04:10:08.521Z"
   },
   {
    "duration": 21,
    "start_time": "2022-07-31T04:10:08.537Z"
   },
   {
    "duration": 6,
    "start_time": "2022-07-31T04:10:08.559Z"
   },
   {
    "duration": 17,
    "start_time": "2022-07-31T04:10:08.573Z"
   },
   {
    "duration": 22,
    "start_time": "2022-07-31T04:10:08.591Z"
   },
   {
    "duration": 7,
    "start_time": "2022-07-31T04:10:08.615Z"
   },
   {
    "duration": 10,
    "start_time": "2022-07-31T04:10:08.624Z"
   },
   {
    "duration": 36,
    "start_time": "2022-07-31T04:10:08.637Z"
   },
   {
    "duration": 19,
    "start_time": "2022-07-31T04:10:08.675Z"
   },
   {
    "duration": 8,
    "start_time": "2022-07-31T04:10:08.695Z"
   },
   {
    "duration": 15,
    "start_time": "2022-07-31T04:10:08.705Z"
   },
   {
    "duration": 14,
    "start_time": "2022-07-31T04:10:08.721Z"
   },
   {
    "duration": 38,
    "start_time": "2022-07-31T04:10:08.737Z"
   },
   {
    "duration": 13,
    "start_time": "2022-07-31T04:10:08.777Z"
   },
   {
    "duration": 166,
    "start_time": "2022-07-31T04:10:08.791Z"
   },
   {
    "duration": 17,
    "start_time": "2022-07-31T04:10:08.959Z"
   },
   {
    "duration": 77,
    "start_time": "2022-07-31T04:10:08.978Z"
   },
   {
    "duration": 16,
    "start_time": "2022-07-31T04:10:09.057Z"
   },
   {
    "duration": 9,
    "start_time": "2022-07-31T04:10:09.074Z"
   },
   {
    "duration": 10,
    "start_time": "2022-07-31T04:10:09.084Z"
   },
   {
    "duration": 15,
    "start_time": "2022-07-31T04:10:09.096Z"
   },
   {
    "duration": 12,
    "start_time": "2022-07-31T04:10:09.114Z"
   },
   {
    "duration": 148,
    "start_time": "2022-07-31T04:10:09.128Z"
   },
   {
    "duration": 132,
    "start_time": "2022-07-31T04:10:09.278Z"
   },
   {
    "duration": 9,
    "start_time": "2022-07-31T04:10:09.411Z"
   },
   {
    "duration": 167,
    "start_time": "2022-07-31T04:10:09.422Z"
   },
   {
    "duration": 10,
    "start_time": "2022-07-31T04:10:09.590Z"
   },
   {
    "duration": 130,
    "start_time": "2022-07-31T04:10:09.601Z"
   },
   {
    "duration": 3,
    "start_time": "2022-07-31T04:10:09.733Z"
   },
   {
    "duration": 99,
    "start_time": "2022-07-31T04:10:09.737Z"
   },
   {
    "duration": 4,
    "start_time": "2022-07-31T04:10:09.838Z"
   },
   {
    "duration": 28,
    "start_time": "2022-07-31T04:10:09.843Z"
   },
   {
    "duration": 202,
    "start_time": "2022-07-31T04:10:09.873Z"
   },
   {
    "duration": 13,
    "start_time": "2022-07-31T04:10:10.077Z"
   },
   {
    "duration": 298,
    "start_time": "2022-07-31T04:10:10.092Z"
   },
   {
    "duration": 11,
    "start_time": "2022-07-31T04:10:10.392Z"
   },
   {
    "duration": 5,
    "start_time": "2022-07-31T04:10:10.404Z"
   },
   {
    "duration": 8,
    "start_time": "2022-07-31T04:10:10.410Z"
   },
   {
    "duration": 223,
    "start_time": "2022-07-31T04:10:10.419Z"
   },
   {
    "duration": 10,
    "start_time": "2022-07-31T04:10:10.644Z"
   },
   {
    "duration": 7,
    "start_time": "2022-07-31T04:52:35.241Z"
   },
   {
    "duration": 5,
    "start_time": "2022-07-31T04:54:36.799Z"
   },
   {
    "duration": 7,
    "start_time": "2022-07-31T04:56:28.995Z"
   },
   {
    "duration": 22,
    "start_time": "2022-07-31T05:07:20.966Z"
   },
   {
    "duration": 19,
    "start_time": "2022-07-31T05:07:35.335Z"
   },
   {
    "duration": 17,
    "start_time": "2022-07-31T05:07:52.013Z"
   },
   {
    "duration": 16,
    "start_time": "2022-07-31T05:08:03.806Z"
   },
   {
    "duration": 20,
    "start_time": "2022-07-31T05:08:07.606Z"
   },
   {
    "duration": 21,
    "start_time": "2022-07-31T05:10:42.145Z"
   },
   {
    "duration": 21,
    "start_time": "2022-07-31T05:10:50.449Z"
   },
   {
    "duration": 22,
    "start_time": "2022-07-31T05:11:05.043Z"
   },
   {
    "duration": 23,
    "start_time": "2022-07-31T05:11:29.659Z"
   },
   {
    "duration": 19,
    "start_time": "2022-07-31T05:14:48.618Z"
   },
   {
    "duration": 20,
    "start_time": "2022-07-31T05:15:57.063Z"
   },
   {
    "duration": 20,
    "start_time": "2022-07-31T05:16:16.626Z"
   },
   {
    "duration": 21,
    "start_time": "2022-07-31T05:16:45.790Z"
   },
   {
    "duration": 115,
    "start_time": "2022-07-31T05:17:07.965Z"
   },
   {
    "duration": 19,
    "start_time": "2022-07-31T05:17:11.174Z"
   },
   {
    "duration": 16,
    "start_time": "2022-07-31T05:17:34.028Z"
   },
   {
    "duration": 29,
    "start_time": "2022-07-31T05:17:39.828Z"
   },
   {
    "duration": 23,
    "start_time": "2022-07-31T05:18:26.979Z"
   },
   {
    "duration": 1403,
    "start_time": "2022-07-31T15:07:27.576Z"
   },
   {
    "duration": 230,
    "start_time": "2022-07-31T15:07:28.982Z"
   },
   {
    "duration": 13,
    "start_time": "2022-07-31T15:07:29.214Z"
   },
   {
    "duration": 21,
    "start_time": "2022-07-31T15:07:29.229Z"
   },
   {
    "duration": 6,
    "start_time": "2022-07-31T15:07:29.252Z"
   },
   {
    "duration": 16,
    "start_time": "2022-07-31T15:07:29.259Z"
   },
   {
    "duration": 38,
    "start_time": "2022-07-31T15:07:29.277Z"
   },
   {
    "duration": 8,
    "start_time": "2022-07-31T15:07:29.316Z"
   },
   {
    "duration": 11,
    "start_time": "2022-07-31T15:07:29.326Z"
   },
   {
    "duration": 4,
    "start_time": "2022-07-31T15:07:29.339Z"
   },
   {
    "duration": 19,
    "start_time": "2022-07-31T15:07:29.345Z"
   },
   {
    "duration": 33,
    "start_time": "2022-07-31T15:07:29.365Z"
   },
   {
    "duration": 16,
    "start_time": "2022-07-31T15:07:29.400Z"
   },
   {
    "duration": 11,
    "start_time": "2022-07-31T15:07:29.417Z"
   },
   {
    "duration": 8,
    "start_time": "2022-07-31T15:07:29.430Z"
   },
   {
    "duration": 21,
    "start_time": "2022-07-31T15:07:29.439Z"
   },
   {
    "duration": 169,
    "start_time": "2022-07-31T15:07:29.461Z"
   },
   {
    "duration": 11,
    "start_time": "2022-07-31T15:07:29.632Z"
   },
   {
    "duration": 88,
    "start_time": "2022-07-31T15:07:29.644Z"
   },
   {
    "duration": 4,
    "start_time": "2022-07-31T15:07:29.734Z"
   },
   {
    "duration": 13,
    "start_time": "2022-07-31T15:07:29.740Z"
   },
   {
    "duration": 22,
    "start_time": "2022-07-31T15:07:29.754Z"
   },
   {
    "duration": 27,
    "start_time": "2022-07-31T15:07:29.779Z"
   },
   {
    "duration": 10,
    "start_time": "2022-07-31T15:07:29.808Z"
   },
   {
    "duration": 140,
    "start_time": "2022-07-31T15:07:29.820Z"
   },
   {
    "duration": 149,
    "start_time": "2022-07-31T15:07:29.962Z"
   },
   {
    "duration": 9,
    "start_time": "2022-07-31T15:07:30.113Z"
   },
   {
    "duration": 192,
    "start_time": "2022-07-31T15:07:30.125Z"
   },
   {
    "duration": 11,
    "start_time": "2022-07-31T15:07:30.318Z"
   },
   {
    "duration": 149,
    "start_time": "2022-07-31T15:07:30.330Z"
   },
   {
    "duration": 3,
    "start_time": "2022-07-31T15:07:30.481Z"
   },
   {
    "duration": 143,
    "start_time": "2022-07-31T15:07:30.486Z"
   },
   {
    "duration": 5,
    "start_time": "2022-07-31T15:07:30.631Z"
   },
   {
    "duration": 37,
    "start_time": "2022-07-31T15:07:30.638Z"
   },
   {
    "duration": 189,
    "start_time": "2022-07-31T15:07:30.677Z"
   },
   {
    "duration": 15,
    "start_time": "2022-07-31T15:07:30.867Z"
   },
   {
    "duration": 175,
    "start_time": "2022-07-31T15:07:32.972Z"
   },
   {
    "duration": 105,
    "start_time": "2022-07-31T15:09:25.716Z"
   },
   {
    "duration": 3,
    "start_time": "2022-07-31T15:09:31.340Z"
   },
   {
    "duration": 74,
    "start_time": "2022-07-31T15:09:31.345Z"
   },
   {
    "duration": 11,
    "start_time": "2022-07-31T15:09:31.421Z"
   },
   {
    "duration": 29,
    "start_time": "2022-07-31T15:09:31.434Z"
   },
   {
    "duration": 5,
    "start_time": "2022-07-31T15:09:31.465Z"
   },
   {
    "duration": 29,
    "start_time": "2022-07-31T15:09:31.472Z"
   },
   {
    "duration": 22,
    "start_time": "2022-07-31T15:09:31.503Z"
   },
   {
    "duration": 7,
    "start_time": "2022-07-31T15:09:31.527Z"
   },
   {
    "duration": 9,
    "start_time": "2022-07-31T15:09:31.536Z"
   },
   {
    "duration": 14,
    "start_time": "2022-07-31T15:09:31.547Z"
   },
   {
    "duration": 38,
    "start_time": "2022-07-31T15:09:31.563Z"
   },
   {
    "duration": 7,
    "start_time": "2022-07-31T15:09:31.603Z"
   },
   {
    "duration": 27,
    "start_time": "2022-07-31T15:09:31.612Z"
   },
   {
    "duration": 12,
    "start_time": "2022-07-31T15:09:31.641Z"
   },
   {
    "duration": 8,
    "start_time": "2022-07-31T15:09:31.655Z"
   },
   {
    "duration": 17,
    "start_time": "2022-07-31T15:09:31.665Z"
   },
   {
    "duration": 146,
    "start_time": "2022-07-31T15:09:31.684Z"
   },
   {
    "duration": 11,
    "start_time": "2022-07-31T15:09:31.831Z"
   },
   {
    "duration": 147,
    "start_time": "2022-07-31T15:09:31.843Z"
   },
   {
    "duration": 5,
    "start_time": "2022-07-31T15:09:31.997Z"
   },
   {
    "duration": 29,
    "start_time": "2022-07-31T15:09:32.004Z"
   },
   {
    "duration": 10,
    "start_time": "2022-07-31T15:09:32.035Z"
   },
   {
    "duration": 23,
    "start_time": "2022-07-31T15:09:32.047Z"
   },
   {
    "duration": 10,
    "start_time": "2022-07-31T15:09:32.074Z"
   },
   {
    "duration": 138,
    "start_time": "2022-07-31T15:09:32.086Z"
   },
   {
    "duration": 142,
    "start_time": "2022-07-31T15:09:32.226Z"
   },
   {
    "duration": 9,
    "start_time": "2022-07-31T15:09:32.369Z"
   },
   {
    "duration": 179,
    "start_time": "2022-07-31T15:09:32.379Z"
   },
   {
    "duration": 10,
    "start_time": "2022-07-31T15:09:32.559Z"
   },
   {
    "duration": 148,
    "start_time": "2022-07-31T15:09:32.571Z"
   },
   {
    "duration": 3,
    "start_time": "2022-07-31T15:09:32.721Z"
   },
   {
    "duration": 98,
    "start_time": "2022-07-31T15:09:32.726Z"
   },
   {
    "duration": 4,
    "start_time": "2022-07-31T15:09:32.826Z"
   },
   {
    "duration": 16,
    "start_time": "2022-07-31T15:09:32.832Z"
   },
   {
    "duration": 239,
    "start_time": "2022-07-31T15:09:32.850Z"
   },
   {
    "duration": 15,
    "start_time": "2022-07-31T15:09:33.090Z"
   },
   {
    "duration": 9,
    "start_time": "2022-07-31T15:09:33.106Z"
   },
   {
    "duration": 0,
    "start_time": "2022-07-31T15:09:33.116Z"
   },
   {
    "duration": 0,
    "start_time": "2022-07-31T15:09:33.117Z"
   },
   {
    "duration": 0,
    "start_time": "2022-07-31T15:09:33.118Z"
   },
   {
    "duration": 0,
    "start_time": "2022-07-31T15:09:33.119Z"
   },
   {
    "duration": 0,
    "start_time": "2022-07-31T15:09:33.120Z"
   },
   {
    "duration": 154,
    "start_time": "2022-07-31T15:09:53.840Z"
   },
   {
    "duration": 156,
    "start_time": "2022-07-31T15:10:23.583Z"
   },
   {
    "duration": 164,
    "start_time": "2022-07-31T15:10:30.684Z"
   },
   {
    "duration": 153,
    "start_time": "2022-07-31T15:10:36.983Z"
   },
   {
    "duration": 159,
    "start_time": "2022-07-31T15:10:52.482Z"
   },
   {
    "duration": 13,
    "start_time": "2022-07-31T15:10:54.827Z"
   },
   {
    "duration": 6,
    "start_time": "2022-07-31T15:10:56.091Z"
   },
   {
    "duration": 9,
    "start_time": "2022-07-31T15:10:56.515Z"
   },
   {
    "duration": 150,
    "start_time": "2022-07-31T15:10:56.991Z"
   },
   {
    "duration": 311,
    "start_time": "2022-07-31T15:15:53.362Z"
   },
   {
    "duration": 196,
    "start_time": "2022-07-31T15:16:00.258Z"
   },
   {
    "duration": 194,
    "start_time": "2022-07-31T15:16:11.441Z"
   },
   {
    "duration": 192,
    "start_time": "2022-07-31T15:16:21.809Z"
   },
   {
    "duration": 189,
    "start_time": "2022-07-31T15:16:31.555Z"
   },
   {
    "duration": 197,
    "start_time": "2022-07-31T15:16:35.220Z"
   },
   {
    "duration": 312,
    "start_time": "2022-07-31T15:17:26.093Z"
   },
   {
    "duration": 311,
    "start_time": "2022-07-31T15:17:31.650Z"
   },
   {
    "duration": 244,
    "start_time": "2022-07-31T15:17:53.048Z"
   },
   {
    "duration": 10,
    "start_time": "2022-07-31T15:24:21.349Z"
   },
   {
    "duration": 239,
    "start_time": "2022-07-31T15:24:36.570Z"
   },
   {
    "duration": 179,
    "start_time": "2022-07-31T15:24:54.857Z"
   },
   {
    "duration": 151,
    "start_time": "2022-07-31T15:25:21.319Z"
   },
   {
    "duration": 128,
    "start_time": "2022-07-31T15:25:33.314Z"
   },
   {
    "duration": 142,
    "start_time": "2022-07-31T15:25:49.208Z"
   },
   {
    "duration": 152,
    "start_time": "2022-07-31T15:26:19.802Z"
   },
   {
    "duration": 131,
    "start_time": "2022-07-31T15:26:28.216Z"
   },
   {
    "duration": 136,
    "start_time": "2022-07-31T15:31:44.310Z"
   },
   {
    "duration": 24,
    "start_time": "2022-07-31T15:33:28.562Z"
   },
   {
    "duration": 21,
    "start_time": "2022-07-31T15:33:37.506Z"
   },
   {
    "duration": 21,
    "start_time": "2022-07-31T15:34:44.572Z"
   },
   {
    "duration": 3,
    "start_time": "2022-07-31T15:35:20.612Z"
   },
   {
    "duration": 3,
    "start_time": "2022-07-31T15:35:43.101Z"
   },
   {
    "duration": 8,
    "start_time": "2022-07-31T15:36:16.052Z"
   },
   {
    "duration": 835,
    "start_time": "2022-07-31T15:38:22.603Z"
   },
   {
    "duration": 9,
    "start_time": "2022-07-31T15:38:27.946Z"
   },
   {
    "duration": 962,
    "start_time": "2022-07-31T15:38:28.711Z"
   },
   {
    "duration": 9,
    "start_time": "2022-07-31T15:38:46.094Z"
   },
   {
    "duration": 6,
    "start_time": "2022-07-31T15:39:03.473Z"
   },
   {
    "duration": 5,
    "start_time": "2022-07-31T15:39:37.044Z"
   },
   {
    "duration": 4,
    "start_time": "2022-07-31T15:41:21.126Z"
   },
   {
    "duration": 11,
    "start_time": "2022-07-31T15:42:10.043Z"
   },
   {
    "duration": 136,
    "start_time": "2022-07-31T15:43:40.760Z"
   },
   {
    "duration": 151,
    "start_time": "2022-07-31T15:44:38.857Z"
   },
   {
    "duration": 3,
    "start_time": "2022-07-31T15:44:48.520Z"
   },
   {
    "duration": 3,
    "start_time": "2022-07-31T15:44:48.958Z"
   },
   {
    "duration": 133,
    "start_time": "2022-07-31T15:45:18.682Z"
   },
   {
    "duration": 1133,
    "start_time": "2022-08-01T13:58:26.247Z"
   },
   {
    "duration": 496,
    "start_time": "2022-08-01T13:58:27.382Z"
   },
   {
    "duration": 14,
    "start_time": "2022-08-01T13:58:27.880Z"
   },
   {
    "duration": 20,
    "start_time": "2022-08-01T13:58:27.896Z"
   },
   {
    "duration": 5,
    "start_time": "2022-08-01T13:58:27.918Z"
   },
   {
    "duration": 18,
    "start_time": "2022-08-01T13:58:27.925Z"
   },
   {
    "duration": 24,
    "start_time": "2022-08-01T13:58:27.944Z"
   },
   {
    "duration": 10,
    "start_time": "2022-08-01T13:58:27.997Z"
   },
   {
    "duration": 12,
    "start_time": "2022-08-01T13:58:28.009Z"
   },
   {
    "duration": 4,
    "start_time": "2022-08-01T13:58:28.023Z"
   },
   {
    "duration": 19,
    "start_time": "2022-08-01T13:58:28.029Z"
   },
   {
    "duration": 7,
    "start_time": "2022-08-01T13:58:28.050Z"
   },
   {
    "duration": 45,
    "start_time": "2022-08-01T13:58:28.059Z"
   },
   {
    "duration": 12,
    "start_time": "2022-08-01T13:58:28.107Z"
   },
   {
    "duration": 11,
    "start_time": "2022-08-01T13:58:28.120Z"
   },
   {
    "duration": 16,
    "start_time": "2022-08-01T13:58:28.133Z"
   },
   {
    "duration": 182,
    "start_time": "2022-08-01T13:58:28.151Z"
   },
   {
    "duration": 11,
    "start_time": "2022-08-01T13:58:28.335Z"
   },
   {
    "duration": 103,
    "start_time": "2022-08-01T13:58:28.347Z"
   },
   {
    "duration": 5,
    "start_time": "2022-08-01T13:58:28.451Z"
   },
   {
    "duration": 23,
    "start_time": "2022-08-01T13:58:28.457Z"
   },
   {
    "duration": 16,
    "start_time": "2022-08-01T13:58:28.482Z"
   },
   {
    "duration": 5,
    "start_time": "2022-08-01T13:58:28.500Z"
   },
   {
    "duration": 10,
    "start_time": "2022-08-01T13:58:28.506Z"
   },
   {
    "duration": 5,
    "start_time": "2022-08-01T13:58:28.518Z"
   },
   {
    "duration": 163,
    "start_time": "2022-08-01T13:58:28.525Z"
   },
   {
    "duration": 143,
    "start_time": "2022-08-01T13:58:28.690Z"
   },
   {
    "duration": 10,
    "start_time": "2022-08-01T13:58:28.834Z"
   },
   {
    "duration": 196,
    "start_time": "2022-08-01T13:58:28.845Z"
   },
   {
    "duration": 11,
    "start_time": "2022-08-01T13:58:29.043Z"
   },
   {
    "duration": 173,
    "start_time": "2022-08-01T13:58:29.057Z"
   },
   {
    "duration": 3,
    "start_time": "2022-08-01T13:58:29.232Z"
   },
   {
    "duration": 186,
    "start_time": "2022-08-01T13:58:29.237Z"
   },
   {
    "duration": 7,
    "start_time": "2022-08-01T13:58:29.424Z"
   },
   {
    "duration": 25,
    "start_time": "2022-08-01T13:58:29.433Z"
   },
   {
    "duration": 235,
    "start_time": "2022-08-01T13:58:29.460Z"
   },
   {
    "duration": 17,
    "start_time": "2022-08-01T13:58:29.697Z"
   },
   {
    "duration": 184,
    "start_time": "2022-08-01T13:58:29.716Z"
   },
   {
    "duration": 12,
    "start_time": "2022-08-01T13:58:29.902Z"
   },
   {
    "duration": 7,
    "start_time": "2022-08-01T13:58:29.916Z"
   },
   {
    "duration": 13,
    "start_time": "2022-08-01T13:58:29.928Z"
   },
   {
    "duration": 246,
    "start_time": "2022-08-01T13:58:29.943Z"
   },
   {
    "duration": 14,
    "start_time": "2022-08-01T13:58:30.191Z"
   },
   {
    "duration": 48,
    "start_time": "2022-11-11T10:42:02.104Z"
   },
   {
    "duration": 1059,
    "start_time": "2022-11-11T10:42:09.749Z"
   },
   {
    "duration": 245,
    "start_time": "2022-11-11T10:42:10.810Z"
   },
   {
    "duration": 12,
    "start_time": "2022-11-11T10:42:11.056Z"
   },
   {
    "duration": 18,
    "start_time": "2022-11-11T10:42:11.070Z"
   },
   {
    "duration": 5,
    "start_time": "2022-11-11T10:42:11.089Z"
   },
   {
    "duration": 17,
    "start_time": "2022-11-11T10:42:11.095Z"
   },
   {
    "duration": 30,
    "start_time": "2022-11-11T10:42:11.114Z"
   },
   {
    "duration": 7,
    "start_time": "2022-11-11T10:42:11.145Z"
   },
   {
    "duration": 10,
    "start_time": "2022-11-11T10:42:11.153Z"
   },
   {
    "duration": 4,
    "start_time": "2022-11-11T10:42:11.166Z"
   },
   {
    "duration": 18,
    "start_time": "2022-11-11T10:42:11.171Z"
   },
   {
    "duration": 7,
    "start_time": "2022-11-11T10:42:11.190Z"
   },
   {
    "duration": 43,
    "start_time": "2022-11-11T10:42:11.198Z"
   },
   {
    "duration": 12,
    "start_time": "2022-11-11T10:42:11.243Z"
   },
   {
    "duration": 11,
    "start_time": "2022-11-11T10:42:11.256Z"
   },
   {
    "duration": 13,
    "start_time": "2022-11-11T10:42:11.268Z"
   },
   {
    "duration": 177,
    "start_time": "2022-11-11T10:42:11.282Z"
   },
   {
    "duration": 12,
    "start_time": "2022-11-11T10:42:11.460Z"
   },
   {
    "duration": 97,
    "start_time": "2022-11-11T10:42:11.473Z"
   },
   {
    "duration": 5,
    "start_time": "2022-11-11T10:42:11.571Z"
   },
   {
    "duration": 25,
    "start_time": "2022-11-11T10:42:11.577Z"
   },
   {
    "duration": 3,
    "start_time": "2022-11-11T10:42:11.604Z"
   },
   {
    "duration": 6,
    "start_time": "2022-11-11T10:42:11.608Z"
   },
   {
    "duration": 17,
    "start_time": "2022-11-11T10:42:11.616Z"
   },
   {
    "duration": 7,
    "start_time": "2022-11-11T10:42:11.635Z"
   },
   {
    "duration": 167,
    "start_time": "2022-11-11T10:42:11.644Z"
   },
   {
    "duration": 146,
    "start_time": "2022-11-11T10:42:11.813Z"
   },
   {
    "duration": 9,
    "start_time": "2022-11-11T10:42:11.963Z"
   },
   {
    "duration": 214,
    "start_time": "2022-11-11T10:42:11.973Z"
   },
   {
    "duration": 11,
    "start_time": "2022-11-11T10:42:12.188Z"
   },
   {
    "duration": 146,
    "start_time": "2022-11-11T10:42:12.200Z"
   },
   {
    "duration": 3,
    "start_time": "2022-11-11T10:42:12.348Z"
   },
   {
    "duration": 103,
    "start_time": "2022-11-11T10:42:12.353Z"
   },
   {
    "duration": 5,
    "start_time": "2022-11-11T10:42:12.458Z"
   },
   {
    "duration": 18,
    "start_time": "2022-11-11T10:42:12.465Z"
   },
   {
    "duration": 199,
    "start_time": "2022-11-11T10:42:12.485Z"
   },
   {
    "duration": 0,
    "start_time": "2022-11-11T10:42:12.686Z"
   },
   {
    "duration": 0,
    "start_time": "2022-11-11T10:42:12.687Z"
   },
   {
    "duration": 0,
    "start_time": "2022-11-11T10:42:12.688Z"
   },
   {
    "duration": 0,
    "start_time": "2022-11-11T10:42:12.689Z"
   },
   {
    "duration": 0,
    "start_time": "2022-11-11T10:42:12.690Z"
   },
   {
    "duration": 0,
    "start_time": "2022-11-11T10:42:12.691Z"
   },
   {
    "duration": 0,
    "start_time": "2022-11-11T10:42:12.692Z"
   },
   {
    "duration": 3,
    "start_time": "2022-11-11T10:51:27.285Z"
   },
   {
    "duration": 84,
    "start_time": "2022-11-11T10:51:27.290Z"
   },
   {
    "duration": 14,
    "start_time": "2022-11-11T10:51:27.375Z"
   },
   {
    "duration": 46,
    "start_time": "2022-11-11T10:51:27.391Z"
   },
   {
    "duration": 6,
    "start_time": "2022-11-11T10:51:27.439Z"
   },
   {
    "duration": 23,
    "start_time": "2022-11-11T10:51:27.447Z"
   },
   {
    "duration": 27,
    "start_time": "2022-11-11T10:51:27.472Z"
   },
   {
    "duration": 34,
    "start_time": "2022-11-11T10:51:27.501Z"
   },
   {
    "duration": 18,
    "start_time": "2022-11-11T10:51:27.539Z"
   },
   {
    "duration": 8,
    "start_time": "2022-11-11T10:51:27.559Z"
   },
   {
    "duration": 39,
    "start_time": "2022-11-11T10:51:27.569Z"
   },
   {
    "duration": 28,
    "start_time": "2022-11-11T10:51:27.611Z"
   },
   {
    "duration": 36,
    "start_time": "2022-11-11T10:51:27.642Z"
   },
   {
    "duration": 14,
    "start_time": "2022-11-11T10:51:27.680Z"
   },
   {
    "duration": 12,
    "start_time": "2022-11-11T10:51:27.696Z"
   },
   {
    "duration": 28,
    "start_time": "2022-11-11T10:51:27.710Z"
   },
   {
    "duration": 167,
    "start_time": "2022-11-11T10:51:27.740Z"
   },
   {
    "duration": 24,
    "start_time": "2022-11-11T10:51:27.909Z"
   },
   {
    "duration": 98,
    "start_time": "2022-11-11T10:51:27.935Z"
   },
   {
    "duration": 7,
    "start_time": "2022-11-11T10:51:28.034Z"
   },
   {
    "duration": 23,
    "start_time": "2022-11-11T10:51:28.043Z"
   },
   {
    "duration": 4,
    "start_time": "2022-11-11T10:51:28.068Z"
   },
   {
    "duration": 21,
    "start_time": "2022-11-11T10:51:28.074Z"
   },
   {
    "duration": 10,
    "start_time": "2022-11-11T10:51:28.100Z"
   },
   {
    "duration": 18,
    "start_time": "2022-11-11T10:51:28.112Z"
   },
   {
    "duration": 243,
    "start_time": "2022-11-11T10:51:28.137Z"
   },
   {
    "duration": 151,
    "start_time": "2022-11-11T10:51:28.382Z"
   },
   {
    "duration": 10,
    "start_time": "2022-11-11T10:51:28.535Z"
   },
   {
    "duration": 226,
    "start_time": "2022-11-11T10:51:28.547Z"
   },
   {
    "duration": 12,
    "start_time": "2022-11-11T10:51:28.775Z"
   },
   {
    "duration": 167,
    "start_time": "2022-11-11T10:51:28.789Z"
   },
   {
    "duration": 4,
    "start_time": "2022-11-11T10:51:28.958Z"
   },
   {
    "duration": 114,
    "start_time": "2022-11-11T10:51:28.964Z"
   },
   {
    "duration": 6,
    "start_time": "2022-11-11T10:51:29.080Z"
   },
   {
    "duration": 23,
    "start_time": "2022-11-11T10:51:29.088Z"
   },
   {
    "duration": 121,
    "start_time": "2022-11-11T10:51:29.113Z"
   },
   {
    "duration": 0,
    "start_time": "2022-11-11T10:51:29.236Z"
   },
   {
    "duration": 0,
    "start_time": "2022-11-11T10:51:29.237Z"
   },
   {
    "duration": 0,
    "start_time": "2022-11-11T10:51:29.238Z"
   },
   {
    "duration": 0,
    "start_time": "2022-11-11T10:51:29.239Z"
   },
   {
    "duration": 0,
    "start_time": "2022-11-11T10:51:29.240Z"
   },
   {
    "duration": 0,
    "start_time": "2022-11-11T10:51:29.242Z"
   },
   {
    "duration": 0,
    "start_time": "2022-11-11T10:51:29.243Z"
   },
   {
    "duration": 1614,
    "start_time": "2022-11-11T10:54:14.771Z"
   },
   {
    "duration": 168,
    "start_time": "2022-11-11T10:56:35.750Z"
   },
   {
    "duration": 1980,
    "start_time": "2022-11-11T11:18:45.378Z"
   },
   {
    "duration": 3,
    "start_time": "2022-11-11T11:19:50.420Z"
   },
   {
    "duration": 1929,
    "start_time": "2022-11-11T11:19:56.065Z"
   },
   {
    "duration": 2020,
    "start_time": "2022-11-11T11:20:57.814Z"
   },
   {
    "duration": 21,
    "start_time": "2022-11-11T11:21:03.324Z"
   },
   {
    "duration": 27,
    "start_time": "2022-11-11T11:22:05.933Z"
   },
   {
    "duration": 15,
    "start_time": "2022-11-11T11:22:56.873Z"
   },
   {
    "duration": 15,
    "start_time": "2022-11-11T11:23:08.973Z"
   },
   {
    "duration": 1965,
    "start_time": "2022-11-11T11:23:39.886Z"
   },
   {
    "duration": 1946,
    "start_time": "2022-11-11T11:23:44.195Z"
   },
   {
    "duration": 1918,
    "start_time": "2022-11-11T11:23:55.945Z"
   },
   {
    "duration": 12,
    "start_time": "2022-11-11T11:24:14.633Z"
   },
   {
    "duration": 16,
    "start_time": "2022-11-11T11:24:21.315Z"
   },
   {
    "duration": 2704,
    "start_time": "2022-11-11T11:24:34.138Z"
   },
   {
    "duration": 2231,
    "start_time": "2022-11-11T11:24:41.333Z"
   },
   {
    "duration": 47,
    "start_time": "2022-11-11T11:27:13.011Z"
   },
   {
    "duration": 2894,
    "start_time": "2022-11-11T11:27:18.080Z"
   },
   {
    "duration": 2023,
    "start_time": "2022-11-11T11:27:27.536Z"
   },
   {
    "duration": 1700,
    "start_time": "2022-11-11T11:27:39.030Z"
   },
   {
    "duration": 2185,
    "start_time": "2022-11-11T11:27:43.878Z"
   },
   {
    "duration": 18,
    "start_time": "2022-11-11T11:27:46.065Z"
   },
   {
    "duration": 1928,
    "start_time": "2022-11-11T11:28:56.755Z"
   },
   {
    "duration": 1806,
    "start_time": "2022-11-11T11:29:04.084Z"
   },
   {
    "duration": 1787,
    "start_time": "2022-11-11T11:29:09.921Z"
   },
   {
    "duration": 25,
    "start_time": "2022-11-11T11:29:11.710Z"
   },
   {
    "duration": 4,
    "start_time": "2022-11-11T11:29:35.828Z"
   },
   {
    "duration": 74,
    "start_time": "2022-11-11T11:29:35.834Z"
   },
   {
    "duration": 13,
    "start_time": "2022-11-11T11:29:35.910Z"
   },
   {
    "duration": 27,
    "start_time": "2022-11-11T11:29:35.930Z"
   },
   {
    "duration": 6,
    "start_time": "2022-11-11T11:29:35.958Z"
   },
   {
    "duration": 29,
    "start_time": "2022-11-11T11:29:35.966Z"
   },
   {
    "duration": 35,
    "start_time": "2022-11-11T11:29:35.996Z"
   },
   {
    "duration": 8,
    "start_time": "2022-11-11T11:29:36.032Z"
   },
   {
    "duration": 13,
    "start_time": "2022-11-11T11:29:36.043Z"
   },
   {
    "duration": 11,
    "start_time": "2022-11-11T11:29:36.057Z"
   },
   {
    "duration": 20,
    "start_time": "2022-11-11T11:29:36.070Z"
   },
   {
    "duration": 9,
    "start_time": "2022-11-11T11:29:36.091Z"
   },
   {
    "duration": 38,
    "start_time": "2022-11-11T11:29:36.101Z"
   },
   {
    "duration": 12,
    "start_time": "2022-11-11T11:29:36.141Z"
   },
   {
    "duration": 6,
    "start_time": "2022-11-11T11:29:36.155Z"
   },
   {
    "duration": 19,
    "start_time": "2022-11-11T11:29:36.163Z"
   },
   {
    "duration": 166,
    "start_time": "2022-11-11T11:29:36.184Z"
   },
   {
    "duration": 11,
    "start_time": "2022-11-11T11:29:36.352Z"
   },
   {
    "duration": 109,
    "start_time": "2022-11-11T11:29:36.365Z"
   },
   {
    "duration": 6,
    "start_time": "2022-11-11T11:29:36.476Z"
   },
   {
    "duration": 20,
    "start_time": "2022-11-11T11:29:36.484Z"
   },
   {
    "duration": 3,
    "start_time": "2022-11-11T11:29:36.506Z"
   },
   {
    "duration": 4,
    "start_time": "2022-11-11T11:29:36.530Z"
   },
   {
    "duration": 5,
    "start_time": "2022-11-11T11:29:36.537Z"
   },
   {
    "duration": 13,
    "start_time": "2022-11-11T11:29:36.543Z"
   },
   {
    "duration": 172,
    "start_time": "2022-11-11T11:29:36.558Z"
   },
   {
    "duration": 143,
    "start_time": "2022-11-11T11:29:36.731Z"
   },
   {
    "duration": 10,
    "start_time": "2022-11-11T11:29:36.875Z"
   },
   {
    "duration": 185,
    "start_time": "2022-11-11T11:29:36.886Z"
   },
   {
    "duration": 12,
    "start_time": "2022-11-11T11:29:37.073Z"
   },
   {
    "duration": 171,
    "start_time": "2022-11-11T11:29:37.087Z"
   },
   {
    "duration": 5,
    "start_time": "2022-11-11T11:29:37.260Z"
   },
   {
    "duration": 140,
    "start_time": "2022-11-11T11:29:37.266Z"
   },
   {
    "duration": 14,
    "start_time": "2022-11-11T11:29:38.702Z"
   },
   {
    "duration": 2244,
    "start_time": "2022-11-11T11:30:45.658Z"
   },
   {
    "duration": 11,
    "start_time": "2022-11-11T11:30:47.904Z"
   },
   {
    "duration": 13,
    "start_time": "2022-11-11T11:31:56.915Z"
   },
   {
    "duration": 889,
    "start_time": "2022-11-11T11:35:18.306Z"
   },
   {
    "duration": 845,
    "start_time": "2022-11-11T11:35:25.846Z"
   },
   {
    "duration": 5,
    "start_time": "2022-11-11T11:35:33.526Z"
   },
   {
    "duration": 12,
    "start_time": "2022-11-11T11:35:35.534Z"
   },
   {
    "duration": 257,
    "start_time": "2022-11-11T11:35:37.075Z"
   },
   {
    "duration": 148,
    "start_time": "2022-11-11T11:35:38.603Z"
   },
   {
    "duration": 10,
    "start_time": "2022-11-11T11:35:46.262Z"
   },
   {
    "duration": 7,
    "start_time": "2022-11-11T11:35:47.209Z"
   },
   {
    "duration": 11,
    "start_time": "2022-11-11T11:35:47.959Z"
   },
   {
    "duration": 150,
    "start_time": "2022-11-11T11:35:51.444Z"
   },
   {
    "duration": 9,
    "start_time": "2022-11-11T11:35:52.235Z"
   },
   {
    "duration": 13,
    "start_time": "2022-11-11T11:36:30.301Z"
   },
   {
    "duration": 12,
    "start_time": "2022-11-11T11:36:56.571Z"
   },
   {
    "duration": 9,
    "start_time": "2022-11-11T11:36:58.567Z"
   },
   {
    "duration": 781,
    "start_time": "2022-11-11T11:36:58.917Z"
   },
   {
    "duration": 14,
    "start_time": "2022-11-11T11:36:59.700Z"
   },
   {
    "duration": 11,
    "start_time": "2022-11-11T11:37:10.169Z"
   },
   {
    "duration": 3,
    "start_time": "2022-11-11T11:37:27.843Z"
   },
   {
    "duration": 70,
    "start_time": "2022-11-11T11:37:27.848Z"
   },
   {
    "duration": 17,
    "start_time": "2022-11-11T11:37:27.920Z"
   },
   {
    "duration": 22,
    "start_time": "2022-11-11T11:37:27.939Z"
   },
   {
    "duration": 6,
    "start_time": "2022-11-11T11:37:27.963Z"
   },
   {
    "duration": 22,
    "start_time": "2022-11-11T11:37:27.971Z"
   },
   {
    "duration": 47,
    "start_time": "2022-11-11T11:37:27.995Z"
   },
   {
    "duration": 8,
    "start_time": "2022-11-11T11:37:28.044Z"
   },
   {
    "duration": 15,
    "start_time": "2022-11-11T11:37:28.054Z"
   },
   {
    "duration": 7,
    "start_time": "2022-11-11T11:37:28.073Z"
   },
   {
    "duration": 19,
    "start_time": "2022-11-11T11:37:28.082Z"
   },
   {
    "duration": 32,
    "start_time": "2022-11-11T11:37:28.103Z"
   },
   {
    "duration": 14,
    "start_time": "2022-11-11T11:37:28.136Z"
   },
   {
    "duration": 11,
    "start_time": "2022-11-11T11:37:28.152Z"
   },
   {
    "duration": 13,
    "start_time": "2022-11-11T11:37:28.165Z"
   },
   {
    "duration": 14,
    "start_time": "2022-11-11T11:37:28.180Z"
   },
   {
    "duration": 161,
    "start_time": "2022-11-11T11:37:28.195Z"
   },
   {
    "duration": 13,
    "start_time": "2022-11-11T11:37:28.358Z"
   },
   {
    "duration": 102,
    "start_time": "2022-11-11T11:37:28.373Z"
   },
   {
    "duration": 5,
    "start_time": "2022-11-11T11:37:28.477Z"
   },
   {
    "duration": 25,
    "start_time": "2022-11-11T11:37:28.484Z"
   },
   {
    "duration": 3,
    "start_time": "2022-11-11T11:37:28.512Z"
   },
   {
    "duration": 8,
    "start_time": "2022-11-11T11:37:28.530Z"
   },
   {
    "duration": 22,
    "start_time": "2022-11-11T11:37:28.540Z"
   },
   {
    "duration": 22,
    "start_time": "2022-11-11T11:37:28.564Z"
   },
   {
    "duration": 168,
    "start_time": "2022-11-11T11:37:28.588Z"
   },
   {
    "duration": 142,
    "start_time": "2022-11-11T11:37:28.758Z"
   },
   {
    "duration": 11,
    "start_time": "2022-11-11T11:37:28.903Z"
   },
   {
    "duration": 196,
    "start_time": "2022-11-11T11:37:28.916Z"
   },
   {
    "duration": 18,
    "start_time": "2022-11-11T11:37:29.113Z"
   },
   {
    "duration": 132,
    "start_time": "2022-11-11T11:37:29.132Z"
   },
   {
    "duration": 4,
    "start_time": "2022-11-11T11:37:29.266Z"
   },
   {
    "duration": 106,
    "start_time": "2022-11-11T11:37:29.271Z"
   },
   {
    "duration": 13,
    "start_time": "2022-11-11T11:37:29.379Z"
   },
   {
    "duration": 10,
    "start_time": "2022-11-11T11:37:29.393Z"
   },
   {
    "duration": 13,
    "start_time": "2022-11-11T11:37:29.404Z"
   },
   {
    "duration": 712,
    "start_time": "2022-11-11T11:37:29.419Z"
   },
   {
    "duration": 15,
    "start_time": "2022-11-11T11:37:30.133Z"
   },
   {
    "duration": 28,
    "start_time": "2022-11-11T11:37:30.150Z"
   },
   {
    "duration": 165,
    "start_time": "2022-11-11T11:37:30.179Z"
   },
   {
    "duration": 13,
    "start_time": "2022-11-11T11:37:30.346Z"
   },
   {
    "duration": 25,
    "start_time": "2022-11-11T11:37:30.360Z"
   },
   {
    "duration": 27,
    "start_time": "2022-11-11T11:37:30.387Z"
   },
   {
    "duration": 201,
    "start_time": "2022-11-11T11:37:30.416Z"
   },
   {
    "duration": 16,
    "start_time": "2022-11-11T11:37:30.619Z"
   },
   {
    "duration": 14,
    "start_time": "2022-11-11T11:38:45.022Z"
   },
   {
    "duration": 14,
    "start_time": "2022-11-11T11:38:51.100Z"
   },
   {
    "duration": 861,
    "start_time": "2022-11-11T11:38:51.426Z"
   },
   {
    "duration": 12,
    "start_time": "2022-11-11T11:38:52.290Z"
   },
   {
    "duration": 13,
    "start_time": "2022-11-11T11:39:53.704Z"
   },
   {
    "duration": 4,
    "start_time": "2022-11-11T11:40:03.337Z"
   },
   {
    "duration": 79,
    "start_time": "2022-11-11T11:40:03.343Z"
   },
   {
    "duration": 15,
    "start_time": "2022-11-11T11:40:03.423Z"
   },
   {
    "duration": 21,
    "start_time": "2022-11-11T11:40:03.441Z"
   },
   {
    "duration": 11,
    "start_time": "2022-11-11T11:40:03.466Z"
   },
   {
    "duration": 19,
    "start_time": "2022-11-11T11:40:03.479Z"
   },
   {
    "duration": 52,
    "start_time": "2022-11-11T11:40:03.500Z"
   },
   {
    "duration": 10,
    "start_time": "2022-11-11T11:40:03.554Z"
   },
   {
    "duration": 34,
    "start_time": "2022-11-11T11:40:03.566Z"
   },
   {
    "duration": 11,
    "start_time": "2022-11-11T11:40:03.602Z"
   },
   {
    "duration": 53,
    "start_time": "2022-11-11T11:40:03.615Z"
   },
   {
    "duration": 13,
    "start_time": "2022-11-11T11:40:03.670Z"
   },
   {
    "duration": 30,
    "start_time": "2022-11-11T11:40:03.686Z"
   },
   {
    "duration": 15,
    "start_time": "2022-11-11T11:40:03.718Z"
   },
   {
    "duration": 17,
    "start_time": "2022-11-11T11:40:03.734Z"
   },
   {
    "duration": 20,
    "start_time": "2022-11-11T11:40:03.753Z"
   },
   {
    "duration": 197,
    "start_time": "2022-11-11T11:40:03.775Z"
   },
   {
    "duration": 12,
    "start_time": "2022-11-11T11:40:03.974Z"
   },
   {
    "duration": 210,
    "start_time": "2022-11-11T11:40:03.987Z"
   },
   {
    "duration": 5,
    "start_time": "2022-11-11T11:40:04.198Z"
   },
   {
    "duration": 31,
    "start_time": "2022-11-11T11:40:04.205Z"
   },
   {
    "duration": 2,
    "start_time": "2022-11-11T11:40:04.239Z"
   },
   {
    "duration": 19,
    "start_time": "2022-11-11T11:40:04.243Z"
   },
   {
    "duration": 11,
    "start_time": "2022-11-11T11:40:04.264Z"
   },
   {
    "duration": 10,
    "start_time": "2022-11-11T11:40:04.276Z"
   },
   {
    "duration": 154,
    "start_time": "2022-11-11T11:40:04.287Z"
   },
   {
    "duration": 151,
    "start_time": "2022-11-11T11:40:04.443Z"
   },
   {
    "duration": 10,
    "start_time": "2022-11-11T11:40:04.595Z"
   },
   {
    "duration": 212,
    "start_time": "2022-11-11T11:40:04.607Z"
   },
   {
    "duration": 13,
    "start_time": "2022-11-11T11:40:04.829Z"
   },
   {
    "duration": 194,
    "start_time": "2022-11-11T11:40:04.844Z"
   },
   {
    "duration": 6,
    "start_time": "2022-11-11T11:40:05.040Z"
   },
   {
    "duration": 118,
    "start_time": "2022-11-11T11:40:05.048Z"
   },
   {
    "duration": 15,
    "start_time": "2022-11-11T11:40:05.168Z"
   },
   {
    "duration": 5,
    "start_time": "2022-11-11T11:40:05.185Z"
   },
   {
    "duration": 20,
    "start_time": "2022-11-11T11:40:05.191Z"
   },
   {
    "duration": 1013,
    "start_time": "2022-11-11T11:40:05.231Z"
   },
   {
    "duration": 12,
    "start_time": "2022-11-11T11:40:06.245Z"
   },
   {
    "duration": 19,
    "start_time": "2022-11-11T11:40:06.258Z"
   },
   {
    "duration": 3,
    "start_time": "2022-11-11T11:40:16.137Z"
   },
   {
    "duration": 71,
    "start_time": "2022-11-11T11:40:16.143Z"
   },
   {
    "duration": 14,
    "start_time": "2022-11-11T11:40:16.217Z"
   },
   {
    "duration": 20,
    "start_time": "2022-11-11T11:40:16.234Z"
   },
   {
    "duration": 6,
    "start_time": "2022-11-11T11:40:16.255Z"
   },
   {
    "duration": 19,
    "start_time": "2022-11-11T11:40:16.263Z"
   },
   {
    "duration": 55,
    "start_time": "2022-11-11T11:40:16.284Z"
   },
   {
    "duration": 9,
    "start_time": "2022-11-11T11:40:16.341Z"
   },
   {
    "duration": 30,
    "start_time": "2022-11-11T11:40:16.352Z"
   },
   {
    "duration": 7,
    "start_time": "2022-11-11T11:40:16.385Z"
   },
   {
    "duration": 41,
    "start_time": "2022-11-11T11:40:16.394Z"
   },
   {
    "duration": 10,
    "start_time": "2022-11-11T11:40:16.437Z"
   },
   {
    "duration": 21,
    "start_time": "2022-11-11T11:40:16.449Z"
   },
   {
    "duration": 27,
    "start_time": "2022-11-11T11:40:16.472Z"
   },
   {
    "duration": 7,
    "start_time": "2022-11-11T11:40:16.501Z"
   },
   {
    "duration": 24,
    "start_time": "2022-11-11T11:40:16.510Z"
   },
   {
    "duration": 151,
    "start_time": "2022-11-11T11:40:16.536Z"
   },
   {
    "duration": 12,
    "start_time": "2022-11-11T11:40:16.689Z"
   },
   {
    "duration": 100,
    "start_time": "2022-11-11T11:40:16.703Z"
   },
   {
    "duration": 5,
    "start_time": "2022-11-11T11:40:16.804Z"
   },
   {
    "duration": 33,
    "start_time": "2022-11-11T11:40:16.810Z"
   },
   {
    "duration": 3,
    "start_time": "2022-11-11T11:40:16.844Z"
   },
   {
    "duration": 10,
    "start_time": "2022-11-11T11:40:16.848Z"
   },
   {
    "duration": 13,
    "start_time": "2022-11-11T11:40:16.859Z"
   },
   {
    "duration": 11,
    "start_time": "2022-11-11T11:40:16.873Z"
   },
   {
    "duration": 160,
    "start_time": "2022-11-11T11:40:16.886Z"
   },
   {
    "duration": 158,
    "start_time": "2022-11-11T11:40:17.048Z"
   },
   {
    "duration": 20,
    "start_time": "2022-11-11T11:40:17.210Z"
   },
   {
    "duration": 215,
    "start_time": "2022-11-11T11:40:17.231Z"
   },
   {
    "duration": 12,
    "start_time": "2022-11-11T11:40:17.448Z"
   },
   {
    "duration": 178,
    "start_time": "2022-11-11T11:40:17.462Z"
   },
   {
    "duration": 5,
    "start_time": "2022-11-11T11:40:17.641Z"
   },
   {
    "duration": 118,
    "start_time": "2022-11-11T11:40:17.647Z"
   },
   {
    "duration": 18,
    "start_time": "2022-11-11T11:40:17.767Z"
   },
   {
    "duration": 13,
    "start_time": "2022-11-11T11:40:17.787Z"
   },
   {
    "duration": 35,
    "start_time": "2022-11-11T11:40:17.802Z"
   },
   {
    "duration": 16,
    "start_time": "2022-11-11T11:40:19.752Z"
   },
   {
    "duration": 4,
    "start_time": "2022-11-11T11:40:29.483Z"
   },
   {
    "duration": 69,
    "start_time": "2022-11-11T11:40:29.489Z"
   },
   {
    "duration": 13,
    "start_time": "2022-11-11T11:40:29.560Z"
   },
   {
    "duration": 21,
    "start_time": "2022-11-11T11:40:29.575Z"
   },
   {
    "duration": 5,
    "start_time": "2022-11-11T11:40:29.598Z"
   },
   {
    "duration": 15,
    "start_time": "2022-11-11T11:40:29.630Z"
   },
   {
    "duration": 24,
    "start_time": "2022-11-11T11:40:29.646Z"
   },
   {
    "duration": 8,
    "start_time": "2022-11-11T11:40:29.671Z"
   },
   {
    "duration": 16,
    "start_time": "2022-11-11T11:40:29.680Z"
   },
   {
    "duration": 119,
    "start_time": "2022-11-11T11:40:29.698Z"
   },
   {
    "duration": 47,
    "start_time": "2022-11-11T11:40:29.818Z"
   },
   {
    "duration": 26,
    "start_time": "2022-11-11T11:40:29.867Z"
   },
   {
    "duration": 24,
    "start_time": "2022-11-11T11:40:29.897Z"
   },
   {
    "duration": 19,
    "start_time": "2022-11-11T11:40:29.923Z"
   },
   {
    "duration": 8,
    "start_time": "2022-11-11T11:40:29.945Z"
   },
   {
    "duration": 28,
    "start_time": "2022-11-11T11:40:29.954Z"
   },
   {
    "duration": 193,
    "start_time": "2022-11-11T11:40:29.984Z"
   },
   {
    "duration": 11,
    "start_time": "2022-11-11T11:40:30.179Z"
   },
   {
    "duration": 108,
    "start_time": "2022-11-11T11:40:30.192Z"
   },
   {
    "duration": 5,
    "start_time": "2022-11-11T11:40:30.302Z"
   },
   {
    "duration": 37,
    "start_time": "2022-11-11T11:40:30.308Z"
   },
   {
    "duration": 9,
    "start_time": "2022-11-11T11:40:30.347Z"
   },
   {
    "duration": 44,
    "start_time": "2022-11-11T11:40:30.357Z"
   },
   {
    "duration": 60,
    "start_time": "2022-11-11T11:40:30.403Z"
   },
   {
    "duration": 48,
    "start_time": "2022-11-11T11:40:30.465Z"
   },
   {
    "duration": 218,
    "start_time": "2022-11-11T11:40:30.515Z"
   },
   {
    "duration": 162,
    "start_time": "2022-11-11T11:40:30.735Z"
   },
   {
    "duration": 11,
    "start_time": "2022-11-11T11:40:30.899Z"
   },
   {
    "duration": 286,
    "start_time": "2022-11-11T11:40:30.912Z"
   },
   {
    "duration": 11,
    "start_time": "2022-11-11T11:40:31.199Z"
   },
   {
    "duration": 201,
    "start_time": "2022-11-11T11:40:31.211Z"
   },
   {
    "duration": 4,
    "start_time": "2022-11-11T11:40:31.413Z"
   },
   {
    "duration": 137,
    "start_time": "2022-11-11T11:40:31.419Z"
   },
   {
    "duration": 6,
    "start_time": "2022-11-11T11:40:31.558Z"
   },
   {
    "duration": 25,
    "start_time": "2022-11-11T11:40:31.566Z"
   },
   {
    "duration": 16,
    "start_time": "2022-11-11T11:40:33.202Z"
   },
   {
    "duration": 7,
    "start_time": "2022-11-11T11:40:54.288Z"
   },
   {
    "duration": 16,
    "start_time": "2022-11-11T11:41:17.860Z"
   },
   {
    "duration": 178,
    "start_time": "2022-11-11T11:41:18.974Z"
   },
   {
    "duration": 17,
    "start_time": "2022-11-11T11:41:32.359Z"
   },
   {
    "duration": 16,
    "start_time": "2022-11-11T11:41:39.395Z"
   }
  ],
  "kernelspec": {
   "display_name": "Python 3 (ipykernel)",
   "language": "python",
   "name": "python3"
  },
  "language_info": {
   "codemirror_mode": {
    "name": "ipython",
    "version": 3
   },
   "file_extension": ".py",
   "mimetype": "text/x-python",
   "name": "python",
   "nbconvert_exporter": "python",
   "pygments_lexer": "ipython3",
   "version": "3.9.5"
  },
  "toc": {
   "base_numbering": 1,
   "nav_menu": {},
   "number_sections": true,
   "sideBar": true,
   "skip_h1_title": true,
   "title_cell": "Table of Contents",
   "title_sidebar": "Contents",
   "toc_cell": false,
   "toc_position": {},
   "toc_section_display": true,
   "toc_window_display": false
  }
 },
 "nbformat": 4,
 "nbformat_minor": 2
}
