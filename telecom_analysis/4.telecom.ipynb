{
 "cells": [
  {
   "cell_type": "markdown",
   "metadata": {},
   "source": [
    "# Определение перспективного тарифа для телеком-компании\n",
    "\n",
    "**Описание исследования**\n",
    "\n",
    "Необходимо сделать предварительный анализ тарифов на небольшой выборке клиентов «Мегалайн». Проанализировать их поведение и сделать вывод — какой тариф лучше.\n",
    " \n",
    "\n",
    "**Цель исследования** — проверить гипотезы:\n",
    "* Средняя выручка пользователей тарифов «Ультра» и «Смарт» различаются\n",
    "* Средняя выручка пользователей из Москвы отличается от выручки пользователей из других регионов.\n",
    "\n",
    "\n",
    "**Описание даннных**\n",
    "\n",
    "Входные данные - данные 500 пользователей «Мегалайна»: 5 таблиц с информацией о звонках, пользователях, трафике, кол-ве сообщений и их тарифах.\n",
    "\n",
    "Таблица users (информация о пользователях):\n",
    "1. user_id — уникальный идентификатор пользователя\n",
    "2. first_name — имя пользователя\n",
    "3. last_name — фамилия пользователя\n",
    "4. age — возраст пользователя (годы)\n",
    "5. reg_date — дата подключения тарифа (день, месяц, год)\n",
    "6. churn_date — дата прекращения пользования тарифом (если значение пропущено, то тариф ещё действовал на момент выгрузки данных)\n",
    "7. city — город проживания пользователя\n",
    "8. tariff — название тарифного плана\n",
    "9. Таблица calls (информация о звонках):\n",
    "10. id — уникальный номер звонка\n",
    "11. call_date — дата звонка\n",
    "12. duration — длительность звонка в минутах\n",
    "13. user_id — идентификатор пользователя, сделавшего звонок\n",
    "\n",
    "Таблица messages (информация о сообщениях):\n",
    "1. id — уникальный номер сообщения\n",
    "2. message_date — дата сообщения\n",
    "3. user_id — идентификатор пользователя, отправившего сообщение\n",
    "\n",
    "Таблица internet (информация об интернет-сессиях):\n",
    "1. id — уникальный номер сессии\n",
    "2. mb_used — объём потраченного за сессию интернет-трафика (в мегабайтах)\n",
    "3. session_date — дата интернет-сессии\n",
    "4. user_id — идентификатор пользователя\n",
    "\n",
    "Таблица tariffs (информация о тарифах):\n",
    "1. tariff_name — название тарифа\n",
    "2. rub_monthly_fee — ежемесячная абонентская плата в рублях\n",
    "3. minutes_included — количество минут разговора в месяц, включённых в абонентскую плату\n",
    "4. messages_included — количество сообщений в месяц, включённых в абонентскую плату\n",
    "5. mb_per_month_included — объём интернет-трафика, включённого в абонентскую плату (в мегабайтах)\n",
    "6. rub_per_minute — стоимость минуты разговора сверх тарифного пакета (например, если в тарифе 100 минут разговора в месяц, то со 101 минуты будет взиматься плата)\n",
    "7. rub_per_message — стоимость отправки сообщения сверх тарифного пакета\n",
    "8. rub_per_gb — стоимость дополнительного гигабайта интернет-трафика сверх тарифного пакета (1 гигабайт = 1024 мегабайта)\n",
    "\n",
    "\n",
    "**Ход исследования**\n",
    "\n",
    "Перед тем, как непосредственно перейти к проверке гипотез необходимо провести их обзор, предобработку, подготовку и анализ.\n",
    " \n",
    "Таким образом, исследование пройдёт в пять этапов:\n",
    " 1. Обзор данных.\n",
    " 2. Предобработка данных.\n",
    " 3. Подготовка данных: рассчеты.\n",
    " 4. Исследовательский анализ\n",
    " 5. Проверка гипотез"
   ]
  },
  {
   "cell_type": "markdown",
   "metadata": {},
   "source": [
    "## Изучение данных из файла"
   ]
  },
  {
   "cell_type": "code",
   "execution_count": 1,
   "metadata": {},
   "outputs": [],
   "source": [
    "# Импортируем необходимые библиотеки\n",
    "import pandas as pd\n",
    "import numpy as np\n",
    "import matplotlib.pyplot as plt\n",
    "import seaborn as sns\n",
    "from scipy import stats as st"
   ]
  },
  {
   "cell_type": "code",
   "execution_count": 2,
   "metadata": {},
   "outputs": [
    {
     "data": {
      "text/html": [
       "<div>\n",
       "<style scoped>\n",
       "    .dataframe tbody tr th:only-of-type {\n",
       "        vertical-align: middle;\n",
       "    }\n",
       "\n",
       "    .dataframe tbody tr th {\n",
       "        vertical-align: top;\n",
       "    }\n",
       "\n",
       "    .dataframe thead th {\n",
       "        text-align: right;\n",
       "    }\n",
       "</style>\n",
       "<table border=\"1\" class=\"dataframe\">\n",
       "  <thead>\n",
       "    <tr style=\"text-align: right;\">\n",
       "      <th></th>\n",
       "      <th>id</th>\n",
       "      <th>call_date</th>\n",
       "      <th>duration</th>\n",
       "      <th>user_id</th>\n",
       "    </tr>\n",
       "  </thead>\n",
       "  <tbody>\n",
       "    <tr>\n",
       "      <th>0</th>\n",
       "      <td>1000_0</td>\n",
       "      <td>2018-07-25</td>\n",
       "      <td>0.00</td>\n",
       "      <td>1000</td>\n",
       "    </tr>\n",
       "    <tr>\n",
       "      <th>57375</th>\n",
       "      <td>1145_206</td>\n",
       "      <td>2018-07-06</td>\n",
       "      <td>0.00</td>\n",
       "      <td>1145</td>\n",
       "    </tr>\n",
       "    <tr>\n",
       "      <th>57380</th>\n",
       "      <td>1145_211</td>\n",
       "      <td>2018-09-25</td>\n",
       "      <td>0.00</td>\n",
       "      <td>1145</td>\n",
       "    </tr>\n",
       "    <tr>\n",
       "      <th>57381</th>\n",
       "      <td>1145_212</td>\n",
       "      <td>2018-04-23</td>\n",
       "      <td>0.00</td>\n",
       "      <td>1145</td>\n",
       "    </tr>\n",
       "    <tr>\n",
       "      <th>157627</th>\n",
       "      <td>1391_108</td>\n",
       "      <td>2018-11-28</td>\n",
       "      <td>0.00</td>\n",
       "      <td>1391</td>\n",
       "    </tr>\n",
       "    <tr>\n",
       "      <th>...</th>\n",
       "      <td>...</td>\n",
       "      <td>...</td>\n",
       "      <td>...</td>\n",
       "      <td>...</td>\n",
       "    </tr>\n",
       "    <tr>\n",
       "      <th>60889</th>\n",
       "      <td>1153_135</td>\n",
       "      <td>2018-11-16</td>\n",
       "      <td>35.95</td>\n",
       "      <td>1153</td>\n",
       "    </tr>\n",
       "    <tr>\n",
       "      <th>39777</th>\n",
       "      <td>1099_150</td>\n",
       "      <td>2018-08-14</td>\n",
       "      <td>36.12</td>\n",
       "      <td>1099</td>\n",
       "    </tr>\n",
       "    <tr>\n",
       "      <th>5865</th>\n",
       "      <td>1017_61</td>\n",
       "      <td>2018-11-13</td>\n",
       "      <td>36.47</td>\n",
       "      <td>1017</td>\n",
       "    </tr>\n",
       "    <tr>\n",
       "      <th>178737</th>\n",
       "      <td>1446_22</td>\n",
       "      <td>2018-11-07</td>\n",
       "      <td>37.35</td>\n",
       "      <td>1446</td>\n",
       "    </tr>\n",
       "    <tr>\n",
       "      <th>95088</th>\n",
       "      <td>1241_44</td>\n",
       "      <td>2018-09-06</td>\n",
       "      <td>38.00</td>\n",
       "      <td>1241</td>\n",
       "    </tr>\n",
       "  </tbody>\n",
       "</table>\n",
       "<p>202607 rows × 4 columns</p>\n",
       "</div>"
      ],
      "text/plain": [
       "              id   call_date  duration  user_id\n",
       "0         1000_0  2018-07-25      0.00     1000\n",
       "57375   1145_206  2018-07-06      0.00     1145\n",
       "57380   1145_211  2018-09-25      0.00     1145\n",
       "57381   1145_212  2018-04-23      0.00     1145\n",
       "157627  1391_108  2018-11-28      0.00     1391\n",
       "...          ...         ...       ...      ...\n",
       "60889   1153_135  2018-11-16     35.95     1153\n",
       "39777   1099_150  2018-08-14     36.12     1099\n",
       "5865     1017_61  2018-11-13     36.47     1017\n",
       "178737   1446_22  2018-11-07     37.35     1446\n",
       "95088    1241_44  2018-09-06     38.00     1241\n",
       "\n",
       "[202607 rows x 4 columns]"
      ]
     },
     "execution_count": 2,
     "metadata": {},
     "output_type": "execute_result"
    }
   ],
   "source": [
    "# Откроем датасет calls\n",
    "data_calls = pd.read_csv('/datasets/calls.csv')\n",
    "data_calls.sort_values(by='duration')"
   ]
  },
  {
   "cell_type": "code",
   "execution_count": 3,
   "metadata": {},
   "outputs": [
    {
     "name": "stdout",
     "output_type": "stream",
     "text": [
      "<class 'pandas.core.frame.DataFrame'>\n",
      "RangeIndex: 202607 entries, 0 to 202606\n",
      "Data columns (total 4 columns):\n",
      " #   Column     Non-Null Count   Dtype  \n",
      "---  ------     --------------   -----  \n",
      " 0   id         202607 non-null  object \n",
      " 1   call_date  202607 non-null  object \n",
      " 2   duration   202607 non-null  float64\n",
      " 3   user_id    202607 non-null  int64  \n",
      "dtypes: float64(1), int64(1), object(2)\n",
      "memory usage: 6.2+ MB\n"
     ]
    }
   ],
   "source": [
    "# Получим общую информацию\n",
    "data_calls.info()"
   ]
  },
  {
   "cell_type": "code",
   "execution_count": 4,
   "metadata": {},
   "outputs": [
    {
     "data": {
      "text/plain": [
       "492"
      ]
     },
     "execution_count": 4,
     "metadata": {},
     "output_type": "execute_result"
    }
   ],
   "source": [
    "# Посчитаем кол-во пользователей\n",
    "len(data_calls['user_id'].unique())"
   ]
  },
  {
   "cell_type": "code",
   "execution_count": 5,
   "metadata": {},
   "outputs": [
    {
     "data": {
      "text/html": [
       "<div>\n",
       "<style scoped>\n",
       "    .dataframe tbody tr th:only-of-type {\n",
       "        vertical-align: middle;\n",
       "    }\n",
       "\n",
       "    .dataframe tbody tr th {\n",
       "        vertical-align: top;\n",
       "    }\n",
       "\n",
       "    .dataframe thead th {\n",
       "        text-align: right;\n",
       "    }\n",
       "</style>\n",
       "<table border=\"1\" class=\"dataframe\">\n",
       "  <thead>\n",
       "    <tr style=\"text-align: right;\">\n",
       "      <th></th>\n",
       "      <th>Unnamed: 0</th>\n",
       "      <th>id</th>\n",
       "      <th>mb_used</th>\n",
       "      <th>session_date</th>\n",
       "      <th>user_id</th>\n",
       "    </tr>\n",
       "  </thead>\n",
       "  <tbody>\n",
       "    <tr>\n",
       "      <th>116616</th>\n",
       "      <td>116616</td>\n",
       "      <td>1393_102</td>\n",
       "      <td>0.00</td>\n",
       "      <td>2018-06-03</td>\n",
       "      <td>1393</td>\n",
       "    </tr>\n",
       "    <tr>\n",
       "      <th>53410</th>\n",
       "      <td>53410</td>\n",
       "      <td>1179_272</td>\n",
       "      <td>0.00</td>\n",
       "      <td>2018-08-11</td>\n",
       "      <td>1179</td>\n",
       "    </tr>\n",
       "    <tr>\n",
       "      <th>104303</th>\n",
       "      <td>104303</td>\n",
       "      <td>1353_239</td>\n",
       "      <td>0.00</td>\n",
       "      <td>2018-10-26</td>\n",
       "      <td>1353</td>\n",
       "    </tr>\n",
       "    <tr>\n",
       "      <th>19438</th>\n",
       "      <td>19438</td>\n",
       "      <td>1065_583</td>\n",
       "      <td>0.00</td>\n",
       "      <td>2018-03-26</td>\n",
       "      <td>1065</td>\n",
       "    </tr>\n",
       "    <tr>\n",
       "      <th>19437</th>\n",
       "      <td>19437</td>\n",
       "      <td>1065_582</td>\n",
       "      <td>0.00</td>\n",
       "      <td>2018-07-14</td>\n",
       "      <td>1065</td>\n",
       "    </tr>\n",
       "    <tr>\n",
       "      <th>...</th>\n",
       "      <td>...</td>\n",
       "      <td>...</td>\n",
       "      <td>...</td>\n",
       "      <td>...</td>\n",
       "      <td>...</td>\n",
       "    </tr>\n",
       "    <tr>\n",
       "      <th>140299</th>\n",
       "      <td>140299</td>\n",
       "      <td>1471_182</td>\n",
       "      <td>1623.92</td>\n",
       "      <td>2018-07-29</td>\n",
       "      <td>1471</td>\n",
       "    </tr>\n",
       "    <tr>\n",
       "      <th>103480</th>\n",
       "      <td>103480</td>\n",
       "      <td>1348_138</td>\n",
       "      <td>1651.25</td>\n",
       "      <td>2018-10-31</td>\n",
       "      <td>1348</td>\n",
       "    </tr>\n",
       "    <tr>\n",
       "      <th>7063</th>\n",
       "      <td>7063</td>\n",
       "      <td>1024_118</td>\n",
       "      <td>1651.55</td>\n",
       "      <td>2018-11-15</td>\n",
       "      <td>1024</td>\n",
       "    </tr>\n",
       "    <tr>\n",
       "      <th>119156</th>\n",
       "      <td>119156</td>\n",
       "      <td>1402_191</td>\n",
       "      <td>1702.75</td>\n",
       "      <td>2018-10-26</td>\n",
       "      <td>1402</td>\n",
       "    </tr>\n",
       "    <tr>\n",
       "      <th>137493</th>\n",
       "      <td>137493</td>\n",
       "      <td>1461_9</td>\n",
       "      <td>1724.83</td>\n",
       "      <td>2018-11-28</td>\n",
       "      <td>1461</td>\n",
       "    </tr>\n",
       "  </tbody>\n",
       "</table>\n",
       "<p>149396 rows × 5 columns</p>\n",
       "</div>"
      ],
      "text/plain": [
       "        Unnamed: 0        id  mb_used session_date  user_id\n",
       "116616      116616  1393_102     0.00   2018-06-03     1393\n",
       "53410        53410  1179_272     0.00   2018-08-11     1179\n",
       "104303      104303  1353_239     0.00   2018-10-26     1353\n",
       "19438        19438  1065_583     0.00   2018-03-26     1065\n",
       "19437        19437  1065_582     0.00   2018-07-14     1065\n",
       "...            ...       ...      ...          ...      ...\n",
       "140299      140299  1471_182  1623.92   2018-07-29     1471\n",
       "103480      103480  1348_138  1651.25   2018-10-31     1348\n",
       "7063          7063  1024_118  1651.55   2018-11-15     1024\n",
       "119156      119156  1402_191  1702.75   2018-10-26     1402\n",
       "137493      137493    1461_9  1724.83   2018-11-28     1461\n",
       "\n",
       "[149396 rows x 5 columns]"
      ]
     },
     "execution_count": 5,
     "metadata": {},
     "output_type": "execute_result"
    }
   ],
   "source": [
    "# Откроем датасет internet\n",
    "data_internet = pd.read_csv('/datasets/internet.csv')\n",
    "data_internet.sort_values(by='mb_used')"
   ]
  },
  {
   "cell_type": "code",
   "execution_count": 6,
   "metadata": {},
   "outputs": [
    {
     "name": "stdout",
     "output_type": "stream",
     "text": [
      "<class 'pandas.core.frame.DataFrame'>\n",
      "RangeIndex: 149396 entries, 0 to 149395\n",
      "Data columns (total 5 columns):\n",
      " #   Column        Non-Null Count   Dtype  \n",
      "---  ------        --------------   -----  \n",
      " 0   Unnamed: 0    149396 non-null  int64  \n",
      " 1   id            149396 non-null  object \n",
      " 2   mb_used       149396 non-null  float64\n",
      " 3   session_date  149396 non-null  object \n",
      " 4   user_id       149396 non-null  int64  \n",
      "dtypes: float64(1), int64(2), object(2)\n",
      "memory usage: 5.7+ MB\n"
     ]
    }
   ],
   "source": [
    "# Получим общую информацию\n",
    "data_internet.info()"
   ]
  },
  {
   "cell_type": "code",
   "execution_count": 7,
   "metadata": {},
   "outputs": [
    {
     "data": {
      "text/plain": [
       "497"
      ]
     },
     "execution_count": 7,
     "metadata": {},
     "output_type": "execute_result"
    }
   ],
   "source": [
    "# Посчитаем кол-во пользователей\n",
    "len(data_internet['user_id'].unique())"
   ]
  },
  {
   "cell_type": "code",
   "execution_count": 8,
   "metadata": {},
   "outputs": [
    {
     "data": {
      "text/html": [
       "<div>\n",
       "<style scoped>\n",
       "    .dataframe tbody tr th:only-of-type {\n",
       "        vertical-align: middle;\n",
       "    }\n",
       "\n",
       "    .dataframe tbody tr th {\n",
       "        vertical-align: top;\n",
       "    }\n",
       "\n",
       "    .dataframe thead th {\n",
       "        text-align: right;\n",
       "    }\n",
       "</style>\n",
       "<table border=\"1\" class=\"dataframe\">\n",
       "  <thead>\n",
       "    <tr style=\"text-align: right;\">\n",
       "      <th></th>\n",
       "      <th>id</th>\n",
       "      <th>message_date</th>\n",
       "      <th>user_id</th>\n",
       "    </tr>\n",
       "  </thead>\n",
       "  <tbody>\n",
       "    <tr>\n",
       "      <th>0</th>\n",
       "      <td>1000_0</td>\n",
       "      <td>2018-06-27</td>\n",
       "      <td>1000</td>\n",
       "    </tr>\n",
       "    <tr>\n",
       "      <th>1</th>\n",
       "      <td>1000_1</td>\n",
       "      <td>2018-10-08</td>\n",
       "      <td>1000</td>\n",
       "    </tr>\n",
       "    <tr>\n",
       "      <th>2</th>\n",
       "      <td>1000_2</td>\n",
       "      <td>2018-08-04</td>\n",
       "      <td>1000</td>\n",
       "    </tr>\n",
       "    <tr>\n",
       "      <th>3</th>\n",
       "      <td>1000_3</td>\n",
       "      <td>2018-06-16</td>\n",
       "      <td>1000</td>\n",
       "    </tr>\n",
       "    <tr>\n",
       "      <th>4</th>\n",
       "      <td>1000_4</td>\n",
       "      <td>2018-12-05</td>\n",
       "      <td>1000</td>\n",
       "    </tr>\n",
       "    <tr>\n",
       "      <th>5</th>\n",
       "      <td>1000_5</td>\n",
       "      <td>2018-06-20</td>\n",
       "      <td>1000</td>\n",
       "    </tr>\n",
       "    <tr>\n",
       "      <th>6</th>\n",
       "      <td>1000_6</td>\n",
       "      <td>2018-11-19</td>\n",
       "      <td>1000</td>\n",
       "    </tr>\n",
       "    <tr>\n",
       "      <th>7</th>\n",
       "      <td>1000_7</td>\n",
       "      <td>2018-10-29</td>\n",
       "      <td>1000</td>\n",
       "    </tr>\n",
       "    <tr>\n",
       "      <th>8</th>\n",
       "      <td>1000_8</td>\n",
       "      <td>2018-06-25</td>\n",
       "      <td>1000</td>\n",
       "    </tr>\n",
       "    <tr>\n",
       "      <th>9</th>\n",
       "      <td>1000_9</td>\n",
       "      <td>2018-12-18</td>\n",
       "      <td>1000</td>\n",
       "    </tr>\n",
       "    <tr>\n",
       "      <th>10</th>\n",
       "      <td>1000_10</td>\n",
       "      <td>2018-05-30</td>\n",
       "      <td>1000</td>\n",
       "    </tr>\n",
       "    <tr>\n",
       "      <th>11</th>\n",
       "      <td>1000_11</td>\n",
       "      <td>2018-07-06</td>\n",
       "      <td>1000</td>\n",
       "    </tr>\n",
       "    <tr>\n",
       "      <th>12</th>\n",
       "      <td>1000_12</td>\n",
       "      <td>2018-08-20</td>\n",
       "      <td>1000</td>\n",
       "    </tr>\n",
       "    <tr>\n",
       "      <th>13</th>\n",
       "      <td>1000_13</td>\n",
       "      <td>2018-10-30</td>\n",
       "      <td>1000</td>\n",
       "    </tr>\n",
       "    <tr>\n",
       "      <th>14</th>\n",
       "      <td>1000_14</td>\n",
       "      <td>2018-09-14</td>\n",
       "      <td>1000</td>\n",
       "    </tr>\n",
       "    <tr>\n",
       "      <th>15</th>\n",
       "      <td>1000_15</td>\n",
       "      <td>2018-08-28</td>\n",
       "      <td>1000</td>\n",
       "    </tr>\n",
       "    <tr>\n",
       "      <th>16</th>\n",
       "      <td>1000_16</td>\n",
       "      <td>2018-06-25</td>\n",
       "      <td>1000</td>\n",
       "    </tr>\n",
       "    <tr>\n",
       "      <th>17</th>\n",
       "      <td>1000_17</td>\n",
       "      <td>2018-06-29</td>\n",
       "      <td>1000</td>\n",
       "    </tr>\n",
       "    <tr>\n",
       "      <th>18</th>\n",
       "      <td>1000_18</td>\n",
       "      <td>2018-07-07</td>\n",
       "      <td>1000</td>\n",
       "    </tr>\n",
       "    <tr>\n",
       "      <th>19</th>\n",
       "      <td>1000_19</td>\n",
       "      <td>2018-05-29</td>\n",
       "      <td>1000</td>\n",
       "    </tr>\n",
       "  </tbody>\n",
       "</table>\n",
       "</div>"
      ],
      "text/plain": [
       "         id message_date  user_id\n",
       "0    1000_0   2018-06-27     1000\n",
       "1    1000_1   2018-10-08     1000\n",
       "2    1000_2   2018-08-04     1000\n",
       "3    1000_3   2018-06-16     1000\n",
       "4    1000_4   2018-12-05     1000\n",
       "5    1000_5   2018-06-20     1000\n",
       "6    1000_6   2018-11-19     1000\n",
       "7    1000_7   2018-10-29     1000\n",
       "8    1000_8   2018-06-25     1000\n",
       "9    1000_9   2018-12-18     1000\n",
       "10  1000_10   2018-05-30     1000\n",
       "11  1000_11   2018-07-06     1000\n",
       "12  1000_12   2018-08-20     1000\n",
       "13  1000_13   2018-10-30     1000\n",
       "14  1000_14   2018-09-14     1000\n",
       "15  1000_15   2018-08-28     1000\n",
       "16  1000_16   2018-06-25     1000\n",
       "17  1000_17   2018-06-29     1000\n",
       "18  1000_18   2018-07-07     1000\n",
       "19  1000_19   2018-05-29     1000"
      ]
     },
     "execution_count": 8,
     "metadata": {},
     "output_type": "execute_result"
    }
   ],
   "source": [
    "# Откроем датасет messages\n",
    "data_messages = pd.read_csv('/datasets/messages.csv')\n",
    "data_messages.head(20)"
   ]
  },
  {
   "cell_type": "code",
   "execution_count": 9,
   "metadata": {},
   "outputs": [
    {
     "name": "stdout",
     "output_type": "stream",
     "text": [
      "<class 'pandas.core.frame.DataFrame'>\n",
      "RangeIndex: 123036 entries, 0 to 123035\n",
      "Data columns (total 3 columns):\n",
      " #   Column        Non-Null Count   Dtype \n",
      "---  ------        --------------   ----- \n",
      " 0   id            123036 non-null  object\n",
      " 1   message_date  123036 non-null  object\n",
      " 2   user_id       123036 non-null  int64 \n",
      "dtypes: int64(1), object(2)\n",
      "memory usage: 2.8+ MB\n"
     ]
    }
   ],
   "source": [
    "# Получим общую информацию\n",
    "data_messages.info()"
   ]
  },
  {
   "cell_type": "code",
   "execution_count": 10,
   "metadata": {},
   "outputs": [
    {
     "data": {
      "text/plain": [
       "426"
      ]
     },
     "execution_count": 10,
     "metadata": {},
     "output_type": "execute_result"
    }
   ],
   "source": [
    "# Посчитаем кол-во пользователей\n",
    "len(data_messages['user_id'].unique())"
   ]
  },
  {
   "cell_type": "code",
   "execution_count": 11,
   "metadata": {},
   "outputs": [
    {
     "data": {
      "text/html": [
       "<div>\n",
       "<style scoped>\n",
       "    .dataframe tbody tr th:only-of-type {\n",
       "        vertical-align: middle;\n",
       "    }\n",
       "\n",
       "    .dataframe tbody tr th {\n",
       "        vertical-align: top;\n",
       "    }\n",
       "\n",
       "    .dataframe thead th {\n",
       "        text-align: right;\n",
       "    }\n",
       "</style>\n",
       "<table border=\"1\" class=\"dataframe\">\n",
       "  <thead>\n",
       "    <tr style=\"text-align: right;\">\n",
       "      <th></th>\n",
       "      <th>messages_included</th>\n",
       "      <th>mb_per_month_included</th>\n",
       "      <th>minutes_included</th>\n",
       "      <th>rub_monthly_fee</th>\n",
       "      <th>rub_per_gb</th>\n",
       "      <th>rub_per_message</th>\n",
       "      <th>rub_per_minute</th>\n",
       "      <th>tariff_name</th>\n",
       "    </tr>\n",
       "  </thead>\n",
       "  <tbody>\n",
       "    <tr>\n",
       "      <th>0</th>\n",
       "      <td>50</td>\n",
       "      <td>15360</td>\n",
       "      <td>500</td>\n",
       "      <td>550</td>\n",
       "      <td>200</td>\n",
       "      <td>3</td>\n",
       "      <td>3</td>\n",
       "      <td>smart</td>\n",
       "    </tr>\n",
       "    <tr>\n",
       "      <th>1</th>\n",
       "      <td>1000</td>\n",
       "      <td>30720</td>\n",
       "      <td>3000</td>\n",
       "      <td>1950</td>\n",
       "      <td>150</td>\n",
       "      <td>1</td>\n",
       "      <td>1</td>\n",
       "      <td>ultra</td>\n",
       "    </tr>\n",
       "  </tbody>\n",
       "</table>\n",
       "</div>"
      ],
      "text/plain": [
       "   messages_included  mb_per_month_included  minutes_included  \\\n",
       "0                 50                  15360               500   \n",
       "1               1000                  30720              3000   \n",
       "\n",
       "   rub_monthly_fee  rub_per_gb  rub_per_message  rub_per_minute tariff_name  \n",
       "0              550         200                3               3       smart  \n",
       "1             1950         150                1               1       ultra  "
      ]
     },
     "execution_count": 11,
     "metadata": {},
     "output_type": "execute_result"
    }
   ],
   "source": [
    "# Откроем датасет tariffs\n",
    "data_tariffs = pd.read_csv('/datasets/tariffs.csv')\n",
    "data_tariffs"
   ]
  },
  {
   "cell_type": "code",
   "execution_count": 12,
   "metadata": {
    "scrolled": false
   },
   "outputs": [
    {
     "data": {
      "text/html": [
       "<div>\n",
       "<style scoped>\n",
       "    .dataframe tbody tr th:only-of-type {\n",
       "        vertical-align: middle;\n",
       "    }\n",
       "\n",
       "    .dataframe tbody tr th {\n",
       "        vertical-align: top;\n",
       "    }\n",
       "\n",
       "    .dataframe thead th {\n",
       "        text-align: right;\n",
       "    }\n",
       "</style>\n",
       "<table border=\"1\" class=\"dataframe\">\n",
       "  <thead>\n",
       "    <tr style=\"text-align: right;\">\n",
       "      <th></th>\n",
       "      <th>user_id</th>\n",
       "      <th>age</th>\n",
       "      <th>churn_date</th>\n",
       "      <th>city</th>\n",
       "      <th>first_name</th>\n",
       "      <th>last_name</th>\n",
       "      <th>reg_date</th>\n",
       "      <th>tariff</th>\n",
       "    </tr>\n",
       "  </thead>\n",
       "  <tbody>\n",
       "    <tr>\n",
       "      <th>77</th>\n",
       "      <td>1077</td>\n",
       "      <td>18</td>\n",
       "      <td>NaN</td>\n",
       "      <td>Москва</td>\n",
       "      <td>Марица</td>\n",
       "      <td>Кольцова</td>\n",
       "      <td>2018-10-23</td>\n",
       "      <td>smart</td>\n",
       "    </tr>\n",
       "    <tr>\n",
       "      <th>204</th>\n",
       "      <td>1204</td>\n",
       "      <td>18</td>\n",
       "      <td>NaN</td>\n",
       "      <td>Москва</td>\n",
       "      <td>Мирослава</td>\n",
       "      <td>Лазарева</td>\n",
       "      <td>2018-01-04</td>\n",
       "      <td>smart</td>\n",
       "    </tr>\n",
       "    <tr>\n",
       "      <th>270</th>\n",
       "      <td>1270</td>\n",
       "      <td>18</td>\n",
       "      <td>NaN</td>\n",
       "      <td>Нижневартовск</td>\n",
       "      <td>Мальвина</td>\n",
       "      <td>Вешнякова</td>\n",
       "      <td>2018-07-01</td>\n",
       "      <td>ultra</td>\n",
       "    </tr>\n",
       "    <tr>\n",
       "      <th>268</th>\n",
       "      <td>1268</td>\n",
       "      <td>18</td>\n",
       "      <td>NaN</td>\n",
       "      <td>Москва</td>\n",
       "      <td>Трофим</td>\n",
       "      <td>Трошин</td>\n",
       "      <td>2018-05-28</td>\n",
       "      <td>smart</td>\n",
       "    </tr>\n",
       "    <tr>\n",
       "      <th>473</th>\n",
       "      <td>1473</td>\n",
       "      <td>18</td>\n",
       "      <td>NaN</td>\n",
       "      <td>Красноярск</td>\n",
       "      <td>Николай</td>\n",
       "      <td>Лебедев</td>\n",
       "      <td>2018-08-05</td>\n",
       "      <td>ultra</td>\n",
       "    </tr>\n",
       "    <tr>\n",
       "      <th>...</th>\n",
       "      <td>...</td>\n",
       "      <td>...</td>\n",
       "      <td>...</td>\n",
       "      <td>...</td>\n",
       "      <td>...</td>\n",
       "      <td>...</td>\n",
       "      <td>...</td>\n",
       "      <td>...</td>\n",
       "    </tr>\n",
       "    <tr>\n",
       "      <th>254</th>\n",
       "      <td>1254</td>\n",
       "      <td>75</td>\n",
       "      <td>2018-08-17</td>\n",
       "      <td>Москва</td>\n",
       "      <td>Александра</td>\n",
       "      <td>Сухарева</td>\n",
       "      <td>2018-01-04</td>\n",
       "      <td>ultra</td>\n",
       "    </tr>\n",
       "    <tr>\n",
       "      <th>436</th>\n",
       "      <td>1436</td>\n",
       "      <td>75</td>\n",
       "      <td>NaN</td>\n",
       "      <td>Москва</td>\n",
       "      <td>Радим</td>\n",
       "      <td>Ерофеев</td>\n",
       "      <td>2018-04-04</td>\n",
       "      <td>ultra</td>\n",
       "    </tr>\n",
       "    <tr>\n",
       "      <th>478</th>\n",
       "      <td>1478</td>\n",
       "      <td>75</td>\n",
       "      <td>NaN</td>\n",
       "      <td>Грозный</td>\n",
       "      <td>Таира</td>\n",
       "      <td>Константинова</td>\n",
       "      <td>2018-07-16</td>\n",
       "      <td>smart</td>\n",
       "    </tr>\n",
       "    <tr>\n",
       "      <th>177</th>\n",
       "      <td>1177</td>\n",
       "      <td>75</td>\n",
       "      <td>NaN</td>\n",
       "      <td>Новосибирск</td>\n",
       "      <td>Лолита</td>\n",
       "      <td>Аничкина</td>\n",
       "      <td>2018-06-19</td>\n",
       "      <td>smart</td>\n",
       "    </tr>\n",
       "    <tr>\n",
       "      <th>219</th>\n",
       "      <td>1219</td>\n",
       "      <td>75</td>\n",
       "      <td>NaN</td>\n",
       "      <td>Киров</td>\n",
       "      <td>Кузьма</td>\n",
       "      <td>Некрасов</td>\n",
       "      <td>2018-01-21</td>\n",
       "      <td>smart</td>\n",
       "    </tr>\n",
       "  </tbody>\n",
       "</table>\n",
       "<p>500 rows × 8 columns</p>\n",
       "</div>"
      ],
      "text/plain": [
       "     user_id  age  churn_date           city  first_name      last_name  \\\n",
       "77      1077   18         NaN         Москва      Марица       Кольцова   \n",
       "204     1204   18         NaN         Москва   Мирослава       Лазарева   \n",
       "270     1270   18         NaN  Нижневартовск    Мальвина      Вешнякова   \n",
       "268     1268   18         NaN         Москва      Трофим         Трошин   \n",
       "473     1473   18         NaN     Красноярск     Николай        Лебедев   \n",
       "..       ...  ...         ...            ...         ...            ...   \n",
       "254     1254   75  2018-08-17         Москва  Александра       Сухарева   \n",
       "436     1436   75         NaN         Москва       Радим        Ерофеев   \n",
       "478     1478   75         NaN        Грозный       Таира  Константинова   \n",
       "177     1177   75         NaN    Новосибирск      Лолита       Аничкина   \n",
       "219     1219   75         NaN          Киров      Кузьма       Некрасов   \n",
       "\n",
       "       reg_date tariff  \n",
       "77   2018-10-23  smart  \n",
       "204  2018-01-04  smart  \n",
       "270  2018-07-01  ultra  \n",
       "268  2018-05-28  smart  \n",
       "473  2018-08-05  ultra  \n",
       "..          ...    ...  \n",
       "254  2018-01-04  ultra  \n",
       "436  2018-04-04  ultra  \n",
       "478  2018-07-16  smart  \n",
       "177  2018-06-19  smart  \n",
       "219  2018-01-21  smart  \n",
       "\n",
       "[500 rows x 8 columns]"
      ]
     },
     "execution_count": 12,
     "metadata": {},
     "output_type": "execute_result"
    }
   ],
   "source": [
    "# Откроем датасет users\n",
    "data_users = pd.read_csv('/datasets/users.csv')\n",
    "data_users.sort_values(by='age')"
   ]
  },
  {
   "cell_type": "code",
   "execution_count": 13,
   "metadata": {},
   "outputs": [
    {
     "name": "stdout",
     "output_type": "stream",
     "text": [
      "<class 'pandas.core.frame.DataFrame'>\n",
      "RangeIndex: 500 entries, 0 to 499\n",
      "Data columns (total 8 columns):\n",
      " #   Column      Non-Null Count  Dtype \n",
      "---  ------      --------------  ----- \n",
      " 0   user_id     500 non-null    int64 \n",
      " 1   age         500 non-null    int64 \n",
      " 2   churn_date  38 non-null     object\n",
      " 3   city        500 non-null    object\n",
      " 4   first_name  500 non-null    object\n",
      " 5   last_name   500 non-null    object\n",
      " 6   reg_date    500 non-null    object\n",
      " 7   tariff      500 non-null    object\n",
      "dtypes: int64(2), object(6)\n",
      "memory usage: 31.4+ KB\n"
     ]
    }
   ],
   "source": [
    "# Получим общую информацию\n",
    "data_users.info()"
   ]
  },
  {
   "cell_type": "markdown",
   "metadata": {},
   "source": [
    "**Вывод:** \n",
    "- Ни в одной таблице пропусков нет, кроме таблицы data_users в столбце churn_date, однако они не являются ошибкой, это значит, что пользователь не прекращал пользоваться тарифом. \n",
    "- В таблице data_internet имеется столбец Unnamed: 0, дублирующий индексацию, от него можно избавится. \n",
    "- Так как \"Мегалайн\" округляет секунды до минут в столбце duration в таблице data_calls можно изменить тип данных на int и округлить в большую сторону. \n",
    "- Также для экономии памяти в некоторых столбцах можно изменить тип данных с float64 на float32. \n",
    "- Что касается количества пользователей, то оно неодинаково, однако это вряд ли может быть ошибкой. Скорее всего в таблицах нет данных об пользователях, если они не совершали звонки, не писали сообщения или не выходили в интернет. Это надо будет учесть в дальнейшем. \n",
    "- Подозрительных количественных значений обнаружено не было."
   ]
  },
  {
   "cell_type": "markdown",
   "metadata": {},
   "source": [
    "## Предобработка данных"
   ]
  },
  {
   "cell_type": "markdown",
   "metadata": {},
   "source": [
    "### Устранение ошибок"
   ]
  },
  {
   "cell_type": "code",
   "execution_count": 14,
   "metadata": {},
   "outputs": [
    {
     "data": {
      "text/html": [
       "<div>\n",
       "<style scoped>\n",
       "    .dataframe tbody tr th:only-of-type {\n",
       "        vertical-align: middle;\n",
       "    }\n",
       "\n",
       "    .dataframe tbody tr th {\n",
       "        vertical-align: top;\n",
       "    }\n",
       "\n",
       "    .dataframe thead th {\n",
       "        text-align: right;\n",
       "    }\n",
       "</style>\n",
       "<table border=\"1\" class=\"dataframe\">\n",
       "  <thead>\n",
       "    <tr style=\"text-align: right;\">\n",
       "      <th></th>\n",
       "      <th>id</th>\n",
       "      <th>mb_used</th>\n",
       "      <th>session_date</th>\n",
       "      <th>user_id</th>\n",
       "    </tr>\n",
       "  </thead>\n",
       "  <tbody>\n",
       "    <tr>\n",
       "      <th>0</th>\n",
       "      <td>1000_0</td>\n",
       "      <td>112.95</td>\n",
       "      <td>2018-11-25</td>\n",
       "      <td>1000</td>\n",
       "    </tr>\n",
       "    <tr>\n",
       "      <th>1</th>\n",
       "      <td>1000_1</td>\n",
       "      <td>1052.81</td>\n",
       "      <td>2018-09-07</td>\n",
       "      <td>1000</td>\n",
       "    </tr>\n",
       "    <tr>\n",
       "      <th>2</th>\n",
       "      <td>1000_2</td>\n",
       "      <td>1197.26</td>\n",
       "      <td>2018-06-25</td>\n",
       "      <td>1000</td>\n",
       "    </tr>\n",
       "    <tr>\n",
       "      <th>3</th>\n",
       "      <td>1000_3</td>\n",
       "      <td>550.27</td>\n",
       "      <td>2018-08-22</td>\n",
       "      <td>1000</td>\n",
       "    </tr>\n",
       "    <tr>\n",
       "      <th>4</th>\n",
       "      <td>1000_4</td>\n",
       "      <td>302.56</td>\n",
       "      <td>2018-09-24</td>\n",
       "      <td>1000</td>\n",
       "    </tr>\n",
       "    <tr>\n",
       "      <th>...</th>\n",
       "      <td>...</td>\n",
       "      <td>...</td>\n",
       "      <td>...</td>\n",
       "      <td>...</td>\n",
       "    </tr>\n",
       "    <tr>\n",
       "      <th>149391</th>\n",
       "      <td>1499_152</td>\n",
       "      <td>318.90</td>\n",
       "      <td>2018-10-03</td>\n",
       "      <td>1499</td>\n",
       "    </tr>\n",
       "    <tr>\n",
       "      <th>149392</th>\n",
       "      <td>1499_153</td>\n",
       "      <td>490.13</td>\n",
       "      <td>2018-12-14</td>\n",
       "      <td>1499</td>\n",
       "    </tr>\n",
       "    <tr>\n",
       "      <th>149393</th>\n",
       "      <td>1499_154</td>\n",
       "      <td>0.00</td>\n",
       "      <td>2018-10-27</td>\n",
       "      <td>1499</td>\n",
       "    </tr>\n",
       "    <tr>\n",
       "      <th>149394</th>\n",
       "      <td>1499_155</td>\n",
       "      <td>1246.32</td>\n",
       "      <td>2018-11-26</td>\n",
       "      <td>1499</td>\n",
       "    </tr>\n",
       "    <tr>\n",
       "      <th>149395</th>\n",
       "      <td>1499_156</td>\n",
       "      <td>544.37</td>\n",
       "      <td>2018-10-26</td>\n",
       "      <td>1499</td>\n",
       "    </tr>\n",
       "  </tbody>\n",
       "</table>\n",
       "<p>149396 rows × 4 columns</p>\n",
       "</div>"
      ],
      "text/plain": [
       "              id  mb_used session_date  user_id\n",
       "0         1000_0   112.95   2018-11-25     1000\n",
       "1         1000_1  1052.81   2018-09-07     1000\n",
       "2         1000_2  1197.26   2018-06-25     1000\n",
       "3         1000_3   550.27   2018-08-22     1000\n",
       "4         1000_4   302.56   2018-09-24     1000\n",
       "...          ...      ...          ...      ...\n",
       "149391  1499_152   318.90   2018-10-03     1499\n",
       "149392  1499_153   490.13   2018-12-14     1499\n",
       "149393  1499_154     0.00   2018-10-27     1499\n",
       "149394  1499_155  1246.32   2018-11-26     1499\n",
       "149395  1499_156   544.37   2018-10-26     1499\n",
       "\n",
       "[149396 rows x 4 columns]"
      ]
     },
     "execution_count": 14,
     "metadata": {},
     "output_type": "execute_result"
    }
   ],
   "source": [
    "# Избавимся от столбца Unnamed: 0 в таблице data_internet\n",
    "data_internet = data_internet.drop(columns='Unnamed: 0')\n",
    "data_internet"
   ]
  },
  {
   "cell_type": "markdown",
   "metadata": {},
   "source": [
    "### Изменение типов данных"
   ]
  },
  {
   "cell_type": "code",
   "execution_count": 15,
   "metadata": {},
   "outputs": [
    {
     "data": {
      "text/html": [
       "<div>\n",
       "<style scoped>\n",
       "    .dataframe tbody tr th:only-of-type {\n",
       "        vertical-align: middle;\n",
       "    }\n",
       "\n",
       "    .dataframe tbody tr th {\n",
       "        vertical-align: top;\n",
       "    }\n",
       "\n",
       "    .dataframe thead th {\n",
       "        text-align: right;\n",
       "    }\n",
       "</style>\n",
       "<table border=\"1\" class=\"dataframe\">\n",
       "  <thead>\n",
       "    <tr style=\"text-align: right;\">\n",
       "      <th></th>\n",
       "      <th>id</th>\n",
       "      <th>call_date</th>\n",
       "      <th>duration</th>\n",
       "      <th>user_id</th>\n",
       "    </tr>\n",
       "  </thead>\n",
       "  <tbody>\n",
       "    <tr>\n",
       "      <th>0</th>\n",
       "      <td>1000_0</td>\n",
       "      <td>2018-07-25</td>\n",
       "      <td>0.0</td>\n",
       "      <td>1000</td>\n",
       "    </tr>\n",
       "    <tr>\n",
       "      <th>1</th>\n",
       "      <td>1000_1</td>\n",
       "      <td>2018-08-17</td>\n",
       "      <td>0.0</td>\n",
       "      <td>1000</td>\n",
       "    </tr>\n",
       "    <tr>\n",
       "      <th>2</th>\n",
       "      <td>1000_2</td>\n",
       "      <td>2018-06-11</td>\n",
       "      <td>3.0</td>\n",
       "      <td>1000</td>\n",
       "    </tr>\n",
       "    <tr>\n",
       "      <th>3</th>\n",
       "      <td>1000_3</td>\n",
       "      <td>2018-09-21</td>\n",
       "      <td>14.0</td>\n",
       "      <td>1000</td>\n",
       "    </tr>\n",
       "    <tr>\n",
       "      <th>4</th>\n",
       "      <td>1000_4</td>\n",
       "      <td>2018-12-15</td>\n",
       "      <td>6.0</td>\n",
       "      <td>1000</td>\n",
       "    </tr>\n",
       "    <tr>\n",
       "      <th>...</th>\n",
       "      <td>...</td>\n",
       "      <td>...</td>\n",
       "      <td>...</td>\n",
       "      <td>...</td>\n",
       "    </tr>\n",
       "    <tr>\n",
       "      <th>202602</th>\n",
       "      <td>1499_215</td>\n",
       "      <td>2018-12-26</td>\n",
       "      <td>1.0</td>\n",
       "      <td>1499</td>\n",
       "    </tr>\n",
       "    <tr>\n",
       "      <th>202603</th>\n",
       "      <td>1499_216</td>\n",
       "      <td>2018-10-18</td>\n",
       "      <td>19.0</td>\n",
       "      <td>1499</td>\n",
       "    </tr>\n",
       "    <tr>\n",
       "      <th>202604</th>\n",
       "      <td>1499_217</td>\n",
       "      <td>2018-11-10</td>\n",
       "      <td>11.0</td>\n",
       "      <td>1499</td>\n",
       "    </tr>\n",
       "    <tr>\n",
       "      <th>202605</th>\n",
       "      <td>1499_218</td>\n",
       "      <td>2018-10-06</td>\n",
       "      <td>5.0</td>\n",
       "      <td>1499</td>\n",
       "    </tr>\n",
       "    <tr>\n",
       "      <th>202606</th>\n",
       "      <td>1499_219</td>\n",
       "      <td>2018-12-14</td>\n",
       "      <td>20.0</td>\n",
       "      <td>1499</td>\n",
       "    </tr>\n",
       "  </tbody>\n",
       "</table>\n",
       "<p>202607 rows × 4 columns</p>\n",
       "</div>"
      ],
      "text/plain": [
       "              id   call_date  duration  user_id\n",
       "0         1000_0  2018-07-25       0.0     1000\n",
       "1         1000_1  2018-08-17       0.0     1000\n",
       "2         1000_2  2018-06-11       3.0     1000\n",
       "3         1000_3  2018-09-21      14.0     1000\n",
       "4         1000_4  2018-12-15       6.0     1000\n",
       "...          ...         ...       ...      ...\n",
       "202602  1499_215  2018-12-26       1.0     1499\n",
       "202603  1499_216  2018-10-18      19.0     1499\n",
       "202604  1499_217  2018-11-10      11.0     1499\n",
       "202605  1499_218  2018-10-06       5.0     1499\n",
       "202606  1499_219  2018-12-14      20.0     1499\n",
       "\n",
       "[202607 rows x 4 columns]"
      ]
     },
     "execution_count": 15,
     "metadata": {},
     "output_type": "execute_result"
    }
   ],
   "source": [
    "# Округлим данные в большую сторону и проверим\n",
    "data_calls['duration'] = np.ceil(data_calls['duration'])\n",
    "data_calls"
   ]
  },
  {
   "cell_type": "code",
   "execution_count": 16,
   "metadata": {},
   "outputs": [
    {
     "name": "stdout",
     "output_type": "stream",
     "text": [
      "<class 'pandas.core.frame.DataFrame'>\n",
      "RangeIndex: 202607 entries, 0 to 202606\n",
      "Data columns (total 4 columns):\n",
      " #   Column     Non-Null Count   Dtype \n",
      "---  ------     --------------   ----- \n",
      " 0   id         202607 non-null  object\n",
      " 1   call_date  202607 non-null  object\n",
      " 2   duration   202607 non-null  int64 \n",
      " 3   user_id    202607 non-null  int64 \n",
      "dtypes: int64(2), object(2)\n",
      "memory usage: 6.2+ MB\n"
     ]
    }
   ],
   "source": [
    "# Изменим тип данных на int\n",
    "data_calls['duration'] = data_calls['duration'].astype('int')\n",
    "data_calls.info()"
   ]
  },
  {
   "cell_type": "code",
   "execution_count": 17,
   "metadata": {
    "scrolled": true
   },
   "outputs": [
    {
     "name": "stdout",
     "output_type": "stream",
     "text": [
      "<class 'pandas.core.frame.DataFrame'>\n",
      "RangeIndex: 149396 entries, 0 to 149395\n",
      "Data columns (total 4 columns):\n",
      " #   Column        Non-Null Count   Dtype  \n",
      "---  ------        --------------   -----  \n",
      " 0   id            149396 non-null  object \n",
      " 1   mb_used       149396 non-null  float32\n",
      " 2   session_date  149396 non-null  object \n",
      " 3   user_id       149396 non-null  int64  \n",
      "dtypes: float32(1), int64(1), object(2)\n",
      "memory usage: 4.0+ MB\n"
     ]
    }
   ],
   "source": [
    "# Изменим тип данных в столбце mb_used таблицы data_internet на float32 и проверим\n",
    "data_internet['mb_used'] = data_internet['mb_used'].astype('float32')\n",
    "data_internet.info()"
   ]
  },
  {
   "cell_type": "markdown",
   "metadata": {},
   "source": [
    "**Вывод:** таким образом, была удалена ненужная информация, данные преобразованы в необходимые типы"
   ]
  },
  {
   "cell_type": "markdown",
   "metadata": {},
   "source": [
    "## Подготовка данных: расчёты"
   ]
  },
  {
   "cell_type": "markdown",
   "metadata": {},
   "source": [
    "### Количество сделанных звонков и израсходованных минут разговора по месяцам"
   ]
  },
  {
   "cell_type": "markdown",
   "metadata": {},
   "source": [
    "Для рассчета количества сделанных звонков и израсходованных минут разговора по месяцам нам понадобится добавить отдельную колонку с информацией о месяце в таблицу data_calls"
   ]
  },
  {
   "cell_type": "code",
   "execution_count": 18,
   "metadata": {},
   "outputs": [
    {
     "data": {
      "text/html": [
       "<div>\n",
       "<style scoped>\n",
       "    .dataframe tbody tr th:only-of-type {\n",
       "        vertical-align: middle;\n",
       "    }\n",
       "\n",
       "    .dataframe tbody tr th {\n",
       "        vertical-align: top;\n",
       "    }\n",
       "\n",
       "    .dataframe thead th {\n",
       "        text-align: right;\n",
       "    }\n",
       "</style>\n",
       "<table border=\"1\" class=\"dataframe\">\n",
       "  <thead>\n",
       "    <tr style=\"text-align: right;\">\n",
       "      <th></th>\n",
       "      <th>id</th>\n",
       "      <th>call_date</th>\n",
       "      <th>duration</th>\n",
       "      <th>user_id</th>\n",
       "      <th>month</th>\n",
       "    </tr>\n",
       "  </thead>\n",
       "  <tbody>\n",
       "    <tr>\n",
       "      <th>0</th>\n",
       "      <td>1000_0</td>\n",
       "      <td>2018-07-25</td>\n",
       "      <td>0</td>\n",
       "      <td>1000</td>\n",
       "      <td>7</td>\n",
       "    </tr>\n",
       "    <tr>\n",
       "      <th>1</th>\n",
       "      <td>1000_1</td>\n",
       "      <td>2018-08-17</td>\n",
       "      <td>0</td>\n",
       "      <td>1000</td>\n",
       "      <td>8</td>\n",
       "    </tr>\n",
       "    <tr>\n",
       "      <th>2</th>\n",
       "      <td>1000_2</td>\n",
       "      <td>2018-06-11</td>\n",
       "      <td>3</td>\n",
       "      <td>1000</td>\n",
       "      <td>6</td>\n",
       "    </tr>\n",
       "    <tr>\n",
       "      <th>3</th>\n",
       "      <td>1000_3</td>\n",
       "      <td>2018-09-21</td>\n",
       "      <td>14</td>\n",
       "      <td>1000</td>\n",
       "      <td>9</td>\n",
       "    </tr>\n",
       "    <tr>\n",
       "      <th>4</th>\n",
       "      <td>1000_4</td>\n",
       "      <td>2018-12-15</td>\n",
       "      <td>6</td>\n",
       "      <td>1000</td>\n",
       "      <td>12</td>\n",
       "    </tr>\n",
       "    <tr>\n",
       "      <th>...</th>\n",
       "      <td>...</td>\n",
       "      <td>...</td>\n",
       "      <td>...</td>\n",
       "      <td>...</td>\n",
       "      <td>...</td>\n",
       "    </tr>\n",
       "    <tr>\n",
       "      <th>202602</th>\n",
       "      <td>1499_215</td>\n",
       "      <td>2018-12-26</td>\n",
       "      <td>1</td>\n",
       "      <td>1499</td>\n",
       "      <td>12</td>\n",
       "    </tr>\n",
       "    <tr>\n",
       "      <th>202603</th>\n",
       "      <td>1499_216</td>\n",
       "      <td>2018-10-18</td>\n",
       "      <td>19</td>\n",
       "      <td>1499</td>\n",
       "      <td>10</td>\n",
       "    </tr>\n",
       "    <tr>\n",
       "      <th>202604</th>\n",
       "      <td>1499_217</td>\n",
       "      <td>2018-11-10</td>\n",
       "      <td>11</td>\n",
       "      <td>1499</td>\n",
       "      <td>11</td>\n",
       "    </tr>\n",
       "    <tr>\n",
       "      <th>202605</th>\n",
       "      <td>1499_218</td>\n",
       "      <td>2018-10-06</td>\n",
       "      <td>5</td>\n",
       "      <td>1499</td>\n",
       "      <td>10</td>\n",
       "    </tr>\n",
       "    <tr>\n",
       "      <th>202606</th>\n",
       "      <td>1499_219</td>\n",
       "      <td>2018-12-14</td>\n",
       "      <td>20</td>\n",
       "      <td>1499</td>\n",
       "      <td>12</td>\n",
       "    </tr>\n",
       "  </tbody>\n",
       "</table>\n",
       "<p>202607 rows × 5 columns</p>\n",
       "</div>"
      ],
      "text/plain": [
       "              id   call_date  duration  user_id  month\n",
       "0         1000_0  2018-07-25         0     1000      7\n",
       "1         1000_1  2018-08-17         0     1000      8\n",
       "2         1000_2  2018-06-11         3     1000      6\n",
       "3         1000_3  2018-09-21        14     1000      9\n",
       "4         1000_4  2018-12-15         6     1000     12\n",
       "...          ...         ...       ...      ...    ...\n",
       "202602  1499_215  2018-12-26         1     1499     12\n",
       "202603  1499_216  2018-10-18        19     1499     10\n",
       "202604  1499_217  2018-11-10        11     1499     11\n",
       "202605  1499_218  2018-10-06         5     1499     10\n",
       "202606  1499_219  2018-12-14        20     1499     12\n",
       "\n",
       "[202607 rows x 5 columns]"
      ]
     },
     "execution_count": 18,
     "metadata": {},
     "output_type": "execute_result"
    }
   ],
   "source": [
    "# Так как в таблице даны данные за один год можно использовать метод DatetimeIndex, применим его\n",
    "data_calls['month'] = pd.DatetimeIndex(data_calls['call_date']).month\n",
    "data_calls"
   ]
  },
  {
   "cell_type": "code",
   "execution_count": 19,
   "metadata": {},
   "outputs": [
    {
     "data": {
      "text/plain": [
       "array([ 7,  8,  6,  9, 12, 11, 10,  5,  3,  4,  1,  2])"
      ]
     },
     "execution_count": 19,
     "metadata": {},
     "output_type": "execute_result"
    }
   ],
   "source": [
    "# Проверим\n",
    "data_calls['month'].unique()"
   ]
  },
  {
   "cell_type": "code",
   "execution_count": 20,
   "metadata": {
    "scrolled": true
   },
   "outputs": [
    {
     "data": {
      "text/html": [
       "<div>\n",
       "<style scoped>\n",
       "    .dataframe tbody tr th:only-of-type {\n",
       "        vertical-align: middle;\n",
       "    }\n",
       "\n",
       "    .dataframe tbody tr th {\n",
       "        vertical-align: top;\n",
       "    }\n",
       "\n",
       "    .dataframe thead tr th {\n",
       "        text-align: left;\n",
       "    }\n",
       "\n",
       "    .dataframe thead tr:last-of-type th {\n",
       "        text-align: right;\n",
       "    }\n",
       "</style>\n",
       "<table border=\"1\" class=\"dataframe\">\n",
       "  <thead>\n",
       "    <tr>\n",
       "      <th></th>\n",
       "      <th></th>\n",
       "      <th>sum</th>\n",
       "      <th>count</th>\n",
       "    </tr>\n",
       "    <tr>\n",
       "      <th></th>\n",
       "      <th></th>\n",
       "      <th>duration</th>\n",
       "      <th>duration</th>\n",
       "    </tr>\n",
       "    <tr>\n",
       "      <th>user_id</th>\n",
       "      <th>month</th>\n",
       "      <th></th>\n",
       "      <th></th>\n",
       "    </tr>\n",
       "  </thead>\n",
       "  <tbody>\n",
       "    <tr>\n",
       "      <th rowspan=\"5\" valign=\"top\">1000</th>\n",
       "      <th>5</th>\n",
       "      <td>159</td>\n",
       "      <td>22</td>\n",
       "    </tr>\n",
       "    <tr>\n",
       "      <th>6</th>\n",
       "      <td>172</td>\n",
       "      <td>43</td>\n",
       "    </tr>\n",
       "    <tr>\n",
       "      <th>7</th>\n",
       "      <td>340</td>\n",
       "      <td>47</td>\n",
       "    </tr>\n",
       "    <tr>\n",
       "      <th>8</th>\n",
       "      <td>408</td>\n",
       "      <td>52</td>\n",
       "    </tr>\n",
       "    <tr>\n",
       "      <th>9</th>\n",
       "      <td>466</td>\n",
       "      <td>58</td>\n",
       "    </tr>\n",
       "    <tr>\n",
       "      <th>...</th>\n",
       "      <th>...</th>\n",
       "      <td>...</td>\n",
       "      <td>...</td>\n",
       "    </tr>\n",
       "    <tr>\n",
       "      <th>1498</th>\n",
       "      <th>10</th>\n",
       "      <td>247</td>\n",
       "      <td>41</td>\n",
       "    </tr>\n",
       "    <tr>\n",
       "      <th rowspan=\"4\" valign=\"top\">1499</th>\n",
       "      <th>9</th>\n",
       "      <td>70</td>\n",
       "      <td>9</td>\n",
       "    </tr>\n",
       "    <tr>\n",
       "      <th>10</th>\n",
       "      <td>449</td>\n",
       "      <td>68</td>\n",
       "    </tr>\n",
       "    <tr>\n",
       "      <th>11</th>\n",
       "      <td>612</td>\n",
       "      <td>74</td>\n",
       "    </tr>\n",
       "    <tr>\n",
       "      <th>12</th>\n",
       "      <td>492</td>\n",
       "      <td>69</td>\n",
       "    </tr>\n",
       "  </tbody>\n",
       "</table>\n",
       "<p>3174 rows × 2 columns</p>\n",
       "</div>"
      ],
      "text/plain": [
       "                   sum    count\n",
       "              duration duration\n",
       "user_id month                  \n",
       "1000    5          159       22\n",
       "        6          172       43\n",
       "        7          340       47\n",
       "        8          408       52\n",
       "        9          466       58\n",
       "...                ...      ...\n",
       "1498    10         247       41\n",
       "1499    9           70        9\n",
       "        10         449       68\n",
       "        11         612       74\n",
       "        12         492       69\n",
       "\n",
       "[3174 rows x 2 columns]"
      ]
     },
     "execution_count": 20,
     "metadata": {},
     "output_type": "execute_result"
    }
   ],
   "source": [
    "# Теперь у нас достаточно данных для группировки по месяцам с помощью сводных таблиц\n",
    "data_calls_pivot = data_calls.pivot_table(index=['user_id','month'], values='duration', aggfunc=['sum', 'count'])\n",
    "data_calls_pivot"
   ]
  },
  {
   "cell_type": "code",
   "execution_count": 21,
   "metadata": {
    "scrolled": true
   },
   "outputs": [
    {
     "data": {
      "text/html": [
       "<div>\n",
       "<style scoped>\n",
       "    .dataframe tbody tr th:only-of-type {\n",
       "        vertical-align: middle;\n",
       "    }\n",
       "\n",
       "    .dataframe tbody tr th {\n",
       "        vertical-align: top;\n",
       "    }\n",
       "\n",
       "    .dataframe thead th {\n",
       "        text-align: right;\n",
       "    }\n",
       "</style>\n",
       "<table border=\"1\" class=\"dataframe\">\n",
       "  <thead>\n",
       "    <tr style=\"text-align: right;\">\n",
       "      <th></th>\n",
       "      <th></th>\n",
       "      <th>call_duration</th>\n",
       "      <th>calls_count</th>\n",
       "    </tr>\n",
       "    <tr>\n",
       "      <th>user_id</th>\n",
       "      <th>month</th>\n",
       "      <th></th>\n",
       "      <th></th>\n",
       "    </tr>\n",
       "  </thead>\n",
       "  <tbody>\n",
       "    <tr>\n",
       "      <th rowspan=\"5\" valign=\"top\">1000</th>\n",
       "      <th>5</th>\n",
       "      <td>159</td>\n",
       "      <td>22</td>\n",
       "    </tr>\n",
       "    <tr>\n",
       "      <th>6</th>\n",
       "      <td>172</td>\n",
       "      <td>43</td>\n",
       "    </tr>\n",
       "    <tr>\n",
       "      <th>7</th>\n",
       "      <td>340</td>\n",
       "      <td>47</td>\n",
       "    </tr>\n",
       "    <tr>\n",
       "      <th>8</th>\n",
       "      <td>408</td>\n",
       "      <td>52</td>\n",
       "    </tr>\n",
       "    <tr>\n",
       "      <th>9</th>\n",
       "      <td>466</td>\n",
       "      <td>58</td>\n",
       "    </tr>\n",
       "    <tr>\n",
       "      <th>...</th>\n",
       "      <th>...</th>\n",
       "      <td>...</td>\n",
       "      <td>...</td>\n",
       "    </tr>\n",
       "    <tr>\n",
       "      <th>1498</th>\n",
       "      <th>10</th>\n",
       "      <td>247</td>\n",
       "      <td>41</td>\n",
       "    </tr>\n",
       "    <tr>\n",
       "      <th rowspan=\"4\" valign=\"top\">1499</th>\n",
       "      <th>9</th>\n",
       "      <td>70</td>\n",
       "      <td>9</td>\n",
       "    </tr>\n",
       "    <tr>\n",
       "      <th>10</th>\n",
       "      <td>449</td>\n",
       "      <td>68</td>\n",
       "    </tr>\n",
       "    <tr>\n",
       "      <th>11</th>\n",
       "      <td>612</td>\n",
       "      <td>74</td>\n",
       "    </tr>\n",
       "    <tr>\n",
       "      <th>12</th>\n",
       "      <td>492</td>\n",
       "      <td>69</td>\n",
       "    </tr>\n",
       "  </tbody>\n",
       "</table>\n",
       "<p>3174 rows × 2 columns</p>\n",
       "</div>"
      ],
      "text/plain": [
       "               call_duration  calls_count\n",
       "user_id month                            \n",
       "1000    5                159           22\n",
       "        6                172           43\n",
       "        7                340           47\n",
       "        8                408           52\n",
       "        9                466           58\n",
       "...                      ...          ...\n",
       "1498    10               247           41\n",
       "1499    9                 70            9\n",
       "        10               449           68\n",
       "        11               612           74\n",
       "        12               492           69\n",
       "\n",
       "[3174 rows x 2 columns]"
      ]
     },
     "execution_count": 21,
     "metadata": {},
     "output_type": "execute_result"
    }
   ],
   "source": [
    "# Изменим название столбцоы\n",
    "data_calls_pivot.columns=['call_duration', 'calls_count']\n",
    "data_calls_pivot"
   ]
  },
  {
   "cell_type": "markdown",
   "metadata": {},
   "source": [
    "Все в порядке, можно перейти к следующим расчетам"
   ]
  },
  {
   "cell_type": "markdown",
   "metadata": {},
   "source": [
    "### Количество отправленных сообщений по месяцам"
   ]
  },
  {
   "cell_type": "markdown",
   "metadata": {},
   "source": [
    "Для рассчета количества отправленных сообщений по месяцам также создадим отдельный столбец с номером месяца в таблице data_messages с помощью DatetimeIndex"
   ]
  },
  {
   "cell_type": "code",
   "execution_count": 22,
   "metadata": {},
   "outputs": [
    {
     "data": {
      "text/html": [
       "<div>\n",
       "<style scoped>\n",
       "    .dataframe tbody tr th:only-of-type {\n",
       "        vertical-align: middle;\n",
       "    }\n",
       "\n",
       "    .dataframe tbody tr th {\n",
       "        vertical-align: top;\n",
       "    }\n",
       "\n",
       "    .dataframe thead th {\n",
       "        text-align: right;\n",
       "    }\n",
       "</style>\n",
       "<table border=\"1\" class=\"dataframe\">\n",
       "  <thead>\n",
       "    <tr style=\"text-align: right;\">\n",
       "      <th></th>\n",
       "      <th>id</th>\n",
       "      <th>message_date</th>\n",
       "      <th>user_id</th>\n",
       "      <th>month</th>\n",
       "    </tr>\n",
       "  </thead>\n",
       "  <tbody>\n",
       "    <tr>\n",
       "      <th>0</th>\n",
       "      <td>1000_0</td>\n",
       "      <td>2018-06-27</td>\n",
       "      <td>1000</td>\n",
       "      <td>6</td>\n",
       "    </tr>\n",
       "    <tr>\n",
       "      <th>1</th>\n",
       "      <td>1000_1</td>\n",
       "      <td>2018-10-08</td>\n",
       "      <td>1000</td>\n",
       "      <td>10</td>\n",
       "    </tr>\n",
       "    <tr>\n",
       "      <th>2</th>\n",
       "      <td>1000_2</td>\n",
       "      <td>2018-08-04</td>\n",
       "      <td>1000</td>\n",
       "      <td>8</td>\n",
       "    </tr>\n",
       "    <tr>\n",
       "      <th>3</th>\n",
       "      <td>1000_3</td>\n",
       "      <td>2018-06-16</td>\n",
       "      <td>1000</td>\n",
       "      <td>6</td>\n",
       "    </tr>\n",
       "    <tr>\n",
       "      <th>4</th>\n",
       "      <td>1000_4</td>\n",
       "      <td>2018-12-05</td>\n",
       "      <td>1000</td>\n",
       "      <td>12</td>\n",
       "    </tr>\n",
       "    <tr>\n",
       "      <th>...</th>\n",
       "      <td>...</td>\n",
       "      <td>...</td>\n",
       "      <td>...</td>\n",
       "      <td>...</td>\n",
       "    </tr>\n",
       "    <tr>\n",
       "      <th>123031</th>\n",
       "      <td>1499_179</td>\n",
       "      <td>2018-12-12</td>\n",
       "      <td>1499</td>\n",
       "      <td>12</td>\n",
       "    </tr>\n",
       "    <tr>\n",
       "      <th>123032</th>\n",
       "      <td>1499_180</td>\n",
       "      <td>2018-09-28</td>\n",
       "      <td>1499</td>\n",
       "      <td>9</td>\n",
       "    </tr>\n",
       "    <tr>\n",
       "      <th>123033</th>\n",
       "      <td>1499_181</td>\n",
       "      <td>2018-09-27</td>\n",
       "      <td>1499</td>\n",
       "      <td>9</td>\n",
       "    </tr>\n",
       "    <tr>\n",
       "      <th>123034</th>\n",
       "      <td>1499_182</td>\n",
       "      <td>2018-11-15</td>\n",
       "      <td>1499</td>\n",
       "      <td>11</td>\n",
       "    </tr>\n",
       "    <tr>\n",
       "      <th>123035</th>\n",
       "      <td>1499_183</td>\n",
       "      <td>2018-11-16</td>\n",
       "      <td>1499</td>\n",
       "      <td>11</td>\n",
       "    </tr>\n",
       "  </tbody>\n",
       "</table>\n",
       "<p>123036 rows × 4 columns</p>\n",
       "</div>"
      ],
      "text/plain": [
       "              id message_date  user_id  month\n",
       "0         1000_0   2018-06-27     1000      6\n",
       "1         1000_1   2018-10-08     1000     10\n",
       "2         1000_2   2018-08-04     1000      8\n",
       "3         1000_3   2018-06-16     1000      6\n",
       "4         1000_4   2018-12-05     1000     12\n",
       "...          ...          ...      ...    ...\n",
       "123031  1499_179   2018-12-12     1499     12\n",
       "123032  1499_180   2018-09-28     1499      9\n",
       "123033  1499_181   2018-09-27     1499      9\n",
       "123034  1499_182   2018-11-15     1499     11\n",
       "123035  1499_183   2018-11-16     1499     11\n",
       "\n",
       "[123036 rows x 4 columns]"
      ]
     },
     "execution_count": 22,
     "metadata": {},
     "output_type": "execute_result"
    }
   ],
   "source": [
    "data_messages['month'] = pd.DatetimeIndex(data_messages['message_date']).month\n",
    "data_messages"
   ]
  },
  {
   "cell_type": "code",
   "execution_count": 23,
   "metadata": {},
   "outputs": [
    {
     "data": {
      "text/plain": [
       "array([ 6, 10,  8, 12, 11,  5,  7,  9,  3,  4,  2,  1])"
      ]
     },
     "execution_count": 23,
     "metadata": {},
     "output_type": "execute_result"
    }
   ],
   "source": [
    "# проверим\n",
    "data_messages['month'].unique()"
   ]
  },
  {
   "cell_type": "code",
   "execution_count": 24,
   "metadata": {
    "scrolled": true
   },
   "outputs": [
    {
     "data": {
      "text/html": [
       "<div>\n",
       "<style scoped>\n",
       "    .dataframe tbody tr th:only-of-type {\n",
       "        vertical-align: middle;\n",
       "    }\n",
       "\n",
       "    .dataframe tbody tr th {\n",
       "        vertical-align: top;\n",
       "    }\n",
       "\n",
       "    .dataframe thead th {\n",
       "        text-align: right;\n",
       "    }\n",
       "</style>\n",
       "<table border=\"1\" class=\"dataframe\">\n",
       "  <thead>\n",
       "    <tr style=\"text-align: right;\">\n",
       "      <th></th>\n",
       "      <th></th>\n",
       "      <th>id</th>\n",
       "    </tr>\n",
       "    <tr>\n",
       "      <th>user_id</th>\n",
       "      <th>month</th>\n",
       "      <th></th>\n",
       "    </tr>\n",
       "  </thead>\n",
       "  <tbody>\n",
       "    <tr>\n",
       "      <th rowspan=\"5\" valign=\"top\">1000</th>\n",
       "      <th>5</th>\n",
       "      <td>22</td>\n",
       "    </tr>\n",
       "    <tr>\n",
       "      <th>6</th>\n",
       "      <td>60</td>\n",
       "    </tr>\n",
       "    <tr>\n",
       "      <th>7</th>\n",
       "      <td>75</td>\n",
       "    </tr>\n",
       "    <tr>\n",
       "      <th>8</th>\n",
       "      <td>81</td>\n",
       "    </tr>\n",
       "    <tr>\n",
       "      <th>9</th>\n",
       "      <td>57</td>\n",
       "    </tr>\n",
       "    <tr>\n",
       "      <th>...</th>\n",
       "      <th>...</th>\n",
       "      <td>...</td>\n",
       "    </tr>\n",
       "    <tr>\n",
       "      <th>1498</th>\n",
       "      <th>10</th>\n",
       "      <td>42</td>\n",
       "    </tr>\n",
       "    <tr>\n",
       "      <th rowspan=\"4\" valign=\"top\">1499</th>\n",
       "      <th>9</th>\n",
       "      <td>11</td>\n",
       "    </tr>\n",
       "    <tr>\n",
       "      <th>10</th>\n",
       "      <td>48</td>\n",
       "    </tr>\n",
       "    <tr>\n",
       "      <th>11</th>\n",
       "      <td>59</td>\n",
       "    </tr>\n",
       "    <tr>\n",
       "      <th>12</th>\n",
       "      <td>66</td>\n",
       "    </tr>\n",
       "  </tbody>\n",
       "</table>\n",
       "<p>2717 rows × 1 columns</p>\n",
       "</div>"
      ],
      "text/plain": [
       "               id\n",
       "user_id month    \n",
       "1000    5      22\n",
       "        6      60\n",
       "        7      75\n",
       "        8      81\n",
       "        9      57\n",
       "...            ..\n",
       "1498    10     42\n",
       "1499    9      11\n",
       "        10     48\n",
       "        11     59\n",
       "        12     66\n",
       "\n",
       "[2717 rows x 1 columns]"
      ]
     },
     "execution_count": 24,
     "metadata": {},
     "output_type": "execute_result"
    }
   ],
   "source": [
    "# Сгруппируем данные по месяцам и найдем количество отправленных сообщений для каждого пользователя\n",
    "data_messages_pivot = data_messages.pivot_table(index=['user_id','month'], values='id', aggfunc='count')\n",
    "data_messages_pivot"
   ]
  },
  {
   "cell_type": "markdown",
   "metadata": {},
   "source": [
    "Все в порядке, можно перейти к следующим расчетам"
   ]
  },
  {
   "cell_type": "markdown",
   "metadata": {},
   "source": [
    "### Объем израсходованного интернет-трафика по месяцам"
   ]
  },
  {
   "cell_type": "markdown",
   "metadata": {},
   "source": [
    "Для рассчета объема израсходованного интернет-трафика по месяцам также создадим отдельный столбец с номером месяца в таблице data_internet с помощью DatetimeIndex"
   ]
  },
  {
   "cell_type": "code",
   "execution_count": 25,
   "metadata": {},
   "outputs": [
    {
     "data": {
      "text/html": [
       "<div>\n",
       "<style scoped>\n",
       "    .dataframe tbody tr th:only-of-type {\n",
       "        vertical-align: middle;\n",
       "    }\n",
       "\n",
       "    .dataframe tbody tr th {\n",
       "        vertical-align: top;\n",
       "    }\n",
       "\n",
       "    .dataframe thead th {\n",
       "        text-align: right;\n",
       "    }\n",
       "</style>\n",
       "<table border=\"1\" class=\"dataframe\">\n",
       "  <thead>\n",
       "    <tr style=\"text-align: right;\">\n",
       "      <th></th>\n",
       "      <th>id</th>\n",
       "      <th>mb_used</th>\n",
       "      <th>session_date</th>\n",
       "      <th>user_id</th>\n",
       "      <th>month</th>\n",
       "    </tr>\n",
       "  </thead>\n",
       "  <tbody>\n",
       "    <tr>\n",
       "      <th>0</th>\n",
       "      <td>1000_0</td>\n",
       "      <td>112.949997</td>\n",
       "      <td>2018-11-25</td>\n",
       "      <td>1000</td>\n",
       "      <td>11</td>\n",
       "    </tr>\n",
       "    <tr>\n",
       "      <th>1</th>\n",
       "      <td>1000_1</td>\n",
       "      <td>1052.810059</td>\n",
       "      <td>2018-09-07</td>\n",
       "      <td>1000</td>\n",
       "      <td>9</td>\n",
       "    </tr>\n",
       "    <tr>\n",
       "      <th>2</th>\n",
       "      <td>1000_2</td>\n",
       "      <td>1197.260010</td>\n",
       "      <td>2018-06-25</td>\n",
       "      <td>1000</td>\n",
       "      <td>6</td>\n",
       "    </tr>\n",
       "    <tr>\n",
       "      <th>3</th>\n",
       "      <td>1000_3</td>\n",
       "      <td>550.270020</td>\n",
       "      <td>2018-08-22</td>\n",
       "      <td>1000</td>\n",
       "      <td>8</td>\n",
       "    </tr>\n",
       "    <tr>\n",
       "      <th>4</th>\n",
       "      <td>1000_4</td>\n",
       "      <td>302.559998</td>\n",
       "      <td>2018-09-24</td>\n",
       "      <td>1000</td>\n",
       "      <td>9</td>\n",
       "    </tr>\n",
       "    <tr>\n",
       "      <th>...</th>\n",
       "      <td>...</td>\n",
       "      <td>...</td>\n",
       "      <td>...</td>\n",
       "      <td>...</td>\n",
       "      <td>...</td>\n",
       "    </tr>\n",
       "    <tr>\n",
       "      <th>149391</th>\n",
       "      <td>1499_152</td>\n",
       "      <td>318.899994</td>\n",
       "      <td>2018-10-03</td>\n",
       "      <td>1499</td>\n",
       "      <td>10</td>\n",
       "    </tr>\n",
       "    <tr>\n",
       "      <th>149392</th>\n",
       "      <td>1499_153</td>\n",
       "      <td>490.130005</td>\n",
       "      <td>2018-12-14</td>\n",
       "      <td>1499</td>\n",
       "      <td>12</td>\n",
       "    </tr>\n",
       "    <tr>\n",
       "      <th>149393</th>\n",
       "      <td>1499_154</td>\n",
       "      <td>0.000000</td>\n",
       "      <td>2018-10-27</td>\n",
       "      <td>1499</td>\n",
       "      <td>10</td>\n",
       "    </tr>\n",
       "    <tr>\n",
       "      <th>149394</th>\n",
       "      <td>1499_155</td>\n",
       "      <td>1246.319946</td>\n",
       "      <td>2018-11-26</td>\n",
       "      <td>1499</td>\n",
       "      <td>11</td>\n",
       "    </tr>\n",
       "    <tr>\n",
       "      <th>149395</th>\n",
       "      <td>1499_156</td>\n",
       "      <td>544.369995</td>\n",
       "      <td>2018-10-26</td>\n",
       "      <td>1499</td>\n",
       "      <td>10</td>\n",
       "    </tr>\n",
       "  </tbody>\n",
       "</table>\n",
       "<p>149396 rows × 5 columns</p>\n",
       "</div>"
      ],
      "text/plain": [
       "              id      mb_used session_date  user_id  month\n",
       "0         1000_0   112.949997   2018-11-25     1000     11\n",
       "1         1000_1  1052.810059   2018-09-07     1000      9\n",
       "2         1000_2  1197.260010   2018-06-25     1000      6\n",
       "3         1000_3   550.270020   2018-08-22     1000      8\n",
       "4         1000_4   302.559998   2018-09-24     1000      9\n",
       "...          ...          ...          ...      ...    ...\n",
       "149391  1499_152   318.899994   2018-10-03     1499     10\n",
       "149392  1499_153   490.130005   2018-12-14     1499     12\n",
       "149393  1499_154     0.000000   2018-10-27     1499     10\n",
       "149394  1499_155  1246.319946   2018-11-26     1499     11\n",
       "149395  1499_156   544.369995   2018-10-26     1499     10\n",
       "\n",
       "[149396 rows x 5 columns]"
      ]
     },
     "execution_count": 25,
     "metadata": {},
     "output_type": "execute_result"
    }
   ],
   "source": [
    "data_internet['month'] = pd.DatetimeIndex(data_internet['session_date']).month\n",
    "data_internet"
   ]
  },
  {
   "cell_type": "code",
   "execution_count": 26,
   "metadata": {},
   "outputs": [
    {
     "data": {
      "text/plain": [
       "array([11,  9,  6,  8, 10,  7, 12,  5,  2,  3,  4,  1])"
      ]
     },
     "execution_count": 26,
     "metadata": {},
     "output_type": "execute_result"
    }
   ],
   "source": [
    "# проверим\n",
    "data_internet['month'].unique()"
   ]
  },
  {
   "cell_type": "code",
   "execution_count": 27,
   "metadata": {},
   "outputs": [
    {
     "data": {
      "text/html": [
       "<div>\n",
       "<style scoped>\n",
       "    .dataframe tbody tr th:only-of-type {\n",
       "        vertical-align: middle;\n",
       "    }\n",
       "\n",
       "    .dataframe tbody tr th {\n",
       "        vertical-align: top;\n",
       "    }\n",
       "\n",
       "    .dataframe thead th {\n",
       "        text-align: right;\n",
       "    }\n",
       "</style>\n",
       "<table border=\"1\" class=\"dataframe\">\n",
       "  <thead>\n",
       "    <tr style=\"text-align: right;\">\n",
       "      <th></th>\n",
       "      <th></th>\n",
       "      <th>mb_used</th>\n",
       "    </tr>\n",
       "    <tr>\n",
       "      <th>user_id</th>\n",
       "      <th>month</th>\n",
       "      <th></th>\n",
       "    </tr>\n",
       "  </thead>\n",
       "  <tbody>\n",
       "    <tr>\n",
       "      <th rowspan=\"5\" valign=\"top\">1000</th>\n",
       "      <th>5</th>\n",
       "      <td>2253.489990</td>\n",
       "    </tr>\n",
       "    <tr>\n",
       "      <th>6</th>\n",
       "      <td>23233.769531</td>\n",
       "    </tr>\n",
       "    <tr>\n",
       "      <th>7</th>\n",
       "      <td>14003.639648</td>\n",
       "    </tr>\n",
       "    <tr>\n",
       "      <th>8</th>\n",
       "      <td>14055.929688</td>\n",
       "    </tr>\n",
       "    <tr>\n",
       "      <th>9</th>\n",
       "      <td>14568.910156</td>\n",
       "    </tr>\n",
       "    <tr>\n",
       "      <th>...</th>\n",
       "      <th>...</th>\n",
       "      <td>...</td>\n",
       "    </tr>\n",
       "    <tr>\n",
       "      <th>1498</th>\n",
       "      <th>10</th>\n",
       "      <td>20579.359375</td>\n",
       "    </tr>\n",
       "    <tr>\n",
       "      <th rowspan=\"4\" valign=\"top\">1499</th>\n",
       "      <th>9</th>\n",
       "      <td>1845.750000</td>\n",
       "    </tr>\n",
       "    <tr>\n",
       "      <th>10</th>\n",
       "      <td>17788.509766</td>\n",
       "    </tr>\n",
       "    <tr>\n",
       "      <th>11</th>\n",
       "      <td>17963.310547</td>\n",
       "    </tr>\n",
       "    <tr>\n",
       "      <th>12</th>\n",
       "      <td>13055.580078</td>\n",
       "    </tr>\n",
       "  </tbody>\n",
       "</table>\n",
       "<p>3203 rows × 1 columns</p>\n",
       "</div>"
      ],
      "text/plain": [
       "                    mb_used\n",
       "user_id month              \n",
       "1000    5       2253.489990\n",
       "        6      23233.769531\n",
       "        7      14003.639648\n",
       "        8      14055.929688\n",
       "        9      14568.910156\n",
       "...                     ...\n",
       "1498    10     20579.359375\n",
       "1499    9       1845.750000\n",
       "        10     17788.509766\n",
       "        11     17963.310547\n",
       "        12     13055.580078\n",
       "\n",
       "[3203 rows x 1 columns]"
      ]
     },
     "execution_count": 27,
     "metadata": {},
     "output_type": "execute_result"
    }
   ],
   "source": [
    "# Сгруппируем данные по месяцам\n",
    "data_internet_pivot = data_internet.pivot_table(index=['user_id','month'], values='mb_used', aggfunc='sum')\n",
    "data_internet_pivot"
   ]
  },
  {
   "cell_type": "code",
   "execution_count": 28,
   "metadata": {},
   "outputs": [
    {
     "data": {
      "text/html": [
       "<div>\n",
       "<style scoped>\n",
       "    .dataframe tbody tr th:only-of-type {\n",
       "        vertical-align: middle;\n",
       "    }\n",
       "\n",
       "    .dataframe tbody tr th {\n",
       "        vertical-align: top;\n",
       "    }\n",
       "\n",
       "    .dataframe thead th {\n",
       "        text-align: right;\n",
       "    }\n",
       "</style>\n",
       "<table border=\"1\" class=\"dataframe\">\n",
       "  <thead>\n",
       "    <tr style=\"text-align: right;\">\n",
       "      <th></th>\n",
       "      <th></th>\n",
       "      <th>mb_used</th>\n",
       "    </tr>\n",
       "    <tr>\n",
       "      <th>user_id</th>\n",
       "      <th>month</th>\n",
       "      <th></th>\n",
       "    </tr>\n",
       "  </thead>\n",
       "  <tbody>\n",
       "    <tr>\n",
       "      <th rowspan=\"5\" valign=\"top\">1000</th>\n",
       "      <th>5</th>\n",
       "      <td>2.200674</td>\n",
       "    </tr>\n",
       "    <tr>\n",
       "      <th>6</th>\n",
       "      <td>22.689228</td>\n",
       "    </tr>\n",
       "    <tr>\n",
       "      <th>7</th>\n",
       "      <td>13.675429</td>\n",
       "    </tr>\n",
       "    <tr>\n",
       "      <th>8</th>\n",
       "      <td>13.726494</td>\n",
       "    </tr>\n",
       "    <tr>\n",
       "      <th>9</th>\n",
       "      <td>14.227451</td>\n",
       "    </tr>\n",
       "    <tr>\n",
       "      <th>...</th>\n",
       "      <th>...</th>\n",
       "      <td>...</td>\n",
       "    </tr>\n",
       "    <tr>\n",
       "      <th>1498</th>\n",
       "      <th>10</th>\n",
       "      <td>20.097031</td>\n",
       "    </tr>\n",
       "    <tr>\n",
       "      <th rowspan=\"4\" valign=\"top\">1499</th>\n",
       "      <th>9</th>\n",
       "      <td>1.802490</td>\n",
       "    </tr>\n",
       "    <tr>\n",
       "      <th>10</th>\n",
       "      <td>17.371592</td>\n",
       "    </tr>\n",
       "    <tr>\n",
       "      <th>11</th>\n",
       "      <td>17.542295</td>\n",
       "    </tr>\n",
       "    <tr>\n",
       "      <th>12</th>\n",
       "      <td>12.749590</td>\n",
       "    </tr>\n",
       "  </tbody>\n",
       "</table>\n",
       "<p>3203 rows × 1 columns</p>\n",
       "</div>"
      ],
      "text/plain": [
       "                 mb_used\n",
       "user_id month           \n",
       "1000    5       2.200674\n",
       "        6      22.689228\n",
       "        7      13.675429\n",
       "        8      13.726494\n",
       "        9      14.227451\n",
       "...                  ...\n",
       "1498    10     20.097031\n",
       "1499    9       1.802490\n",
       "        10     17.371592\n",
       "        11     17.542295\n",
       "        12     12.749590\n",
       "\n",
       "[3203 rows x 1 columns]"
      ]
     },
     "execution_count": 28,
     "metadata": {},
     "output_type": "execute_result"
    }
   ],
   "source": [
    "# Так как \"Мегалайн\" откругляет итоговый траффик мегабайт до целого числа гигабайт, нам необходимо сделать тоже самое\n",
    "data_internet_pivot = data_internet_pivot/1024\n",
    "data_internet_pivot"
   ]
  },
  {
   "cell_type": "code",
   "execution_count": 29,
   "metadata": {},
   "outputs": [
    {
     "data": {
      "text/html": [
       "<div>\n",
       "<style scoped>\n",
       "    .dataframe tbody tr th:only-of-type {\n",
       "        vertical-align: middle;\n",
       "    }\n",
       "\n",
       "    .dataframe tbody tr th {\n",
       "        vertical-align: top;\n",
       "    }\n",
       "\n",
       "    .dataframe thead th {\n",
       "        text-align: right;\n",
       "    }\n",
       "</style>\n",
       "<table border=\"1\" class=\"dataframe\">\n",
       "  <thead>\n",
       "    <tr style=\"text-align: right;\">\n",
       "      <th></th>\n",
       "      <th></th>\n",
       "      <th>mb_used</th>\n",
       "    </tr>\n",
       "    <tr>\n",
       "      <th>user_id</th>\n",
       "      <th>month</th>\n",
       "      <th></th>\n",
       "    </tr>\n",
       "  </thead>\n",
       "  <tbody>\n",
       "    <tr>\n",
       "      <th rowspan=\"5\" valign=\"top\">1000</th>\n",
       "      <th>5</th>\n",
       "      <td>3.0</td>\n",
       "    </tr>\n",
       "    <tr>\n",
       "      <th>6</th>\n",
       "      <td>23.0</td>\n",
       "    </tr>\n",
       "    <tr>\n",
       "      <th>7</th>\n",
       "      <td>14.0</td>\n",
       "    </tr>\n",
       "    <tr>\n",
       "      <th>8</th>\n",
       "      <td>14.0</td>\n",
       "    </tr>\n",
       "    <tr>\n",
       "      <th>9</th>\n",
       "      <td>15.0</td>\n",
       "    </tr>\n",
       "    <tr>\n",
       "      <th>...</th>\n",
       "      <th>...</th>\n",
       "      <td>...</td>\n",
       "    </tr>\n",
       "    <tr>\n",
       "      <th>1498</th>\n",
       "      <th>10</th>\n",
       "      <td>21.0</td>\n",
       "    </tr>\n",
       "    <tr>\n",
       "      <th rowspan=\"4\" valign=\"top\">1499</th>\n",
       "      <th>9</th>\n",
       "      <td>2.0</td>\n",
       "    </tr>\n",
       "    <tr>\n",
       "      <th>10</th>\n",
       "      <td>18.0</td>\n",
       "    </tr>\n",
       "    <tr>\n",
       "      <th>11</th>\n",
       "      <td>18.0</td>\n",
       "    </tr>\n",
       "    <tr>\n",
       "      <th>12</th>\n",
       "      <td>13.0</td>\n",
       "    </tr>\n",
       "  </tbody>\n",
       "</table>\n",
       "<p>3203 rows × 1 columns</p>\n",
       "</div>"
      ],
      "text/plain": [
       "               mb_used\n",
       "user_id month         \n",
       "1000    5          3.0\n",
       "        6         23.0\n",
       "        7         14.0\n",
       "        8         14.0\n",
       "        9         15.0\n",
       "...                ...\n",
       "1498    10        21.0\n",
       "1499    9          2.0\n",
       "        10        18.0\n",
       "        11        18.0\n",
       "        12        13.0\n",
       "\n",
       "[3203 rows x 1 columns]"
      ]
     },
     "execution_count": 29,
     "metadata": {},
     "output_type": "execute_result"
    }
   ],
   "source": [
    "data_internet_pivot = np.ceil(data_internet_pivot)\n",
    "data_internet_pivot"
   ]
  },
  {
   "cell_type": "code",
   "execution_count": 30,
   "metadata": {},
   "outputs": [],
   "source": [
    "# Изменим название столбца mb_used на gb_used\n",
    "data_internet_pivot = data_internet_pivot.rename(columns={'mb_used': 'gb_used'})"
   ]
  },
  {
   "cell_type": "markdown",
   "metadata": {},
   "source": [
    "### Помесячная выручка с каждого пользователя"
   ]
  },
  {
   "cell_type": "code",
   "execution_count": 31,
   "metadata": {
    "scrolled": false
   },
   "outputs": [
    {
     "data": {
      "text/html": [
       "<div>\n",
       "<style scoped>\n",
       "    .dataframe tbody tr th:only-of-type {\n",
       "        vertical-align: middle;\n",
       "    }\n",
       "\n",
       "    .dataframe tbody tr th {\n",
       "        vertical-align: top;\n",
       "    }\n",
       "\n",
       "    .dataframe thead th {\n",
       "        text-align: right;\n",
       "    }\n",
       "</style>\n",
       "<table border=\"1\" class=\"dataframe\">\n",
       "  <thead>\n",
       "    <tr style=\"text-align: right;\">\n",
       "      <th></th>\n",
       "      <th></th>\n",
       "      <th>call_duration</th>\n",
       "      <th>calls_count</th>\n",
       "      <th>gb_used</th>\n",
       "    </tr>\n",
       "    <tr>\n",
       "      <th>user_id</th>\n",
       "      <th>month</th>\n",
       "      <th></th>\n",
       "      <th></th>\n",
       "      <th></th>\n",
       "    </tr>\n",
       "  </thead>\n",
       "  <tbody>\n",
       "    <tr>\n",
       "      <th rowspan=\"5\" valign=\"top\">1000</th>\n",
       "      <th>5</th>\n",
       "      <td>159.0</td>\n",
       "      <td>22.0</td>\n",
       "      <td>3.0</td>\n",
       "    </tr>\n",
       "    <tr>\n",
       "      <th>6</th>\n",
       "      <td>172.0</td>\n",
       "      <td>43.0</td>\n",
       "      <td>23.0</td>\n",
       "    </tr>\n",
       "    <tr>\n",
       "      <th>7</th>\n",
       "      <td>340.0</td>\n",
       "      <td>47.0</td>\n",
       "      <td>14.0</td>\n",
       "    </tr>\n",
       "    <tr>\n",
       "      <th>8</th>\n",
       "      <td>408.0</td>\n",
       "      <td>52.0</td>\n",
       "      <td>14.0</td>\n",
       "    </tr>\n",
       "    <tr>\n",
       "      <th>9</th>\n",
       "      <td>466.0</td>\n",
       "      <td>58.0</td>\n",
       "      <td>15.0</td>\n",
       "    </tr>\n",
       "    <tr>\n",
       "      <th>...</th>\n",
       "      <th>...</th>\n",
       "      <td>...</td>\n",
       "      <td>...</td>\n",
       "      <td>...</td>\n",
       "    </tr>\n",
       "    <tr>\n",
       "      <th rowspan=\"5\" valign=\"top\">1489</th>\n",
       "      <th>8</th>\n",
       "      <td>NaN</td>\n",
       "      <td>NaN</td>\n",
       "      <td>11.0</td>\n",
       "    </tr>\n",
       "    <tr>\n",
       "      <th>9</th>\n",
       "      <td>NaN</td>\n",
       "      <td>NaN</td>\n",
       "      <td>17.0</td>\n",
       "    </tr>\n",
       "    <tr>\n",
       "      <th>10</th>\n",
       "      <td>NaN</td>\n",
       "      <td>NaN</td>\n",
       "      <td>20.0</td>\n",
       "    </tr>\n",
       "    <tr>\n",
       "      <th>11</th>\n",
       "      <td>NaN</td>\n",
       "      <td>NaN</td>\n",
       "      <td>18.0</td>\n",
       "    </tr>\n",
       "    <tr>\n",
       "      <th>12</th>\n",
       "      <td>NaN</td>\n",
       "      <td>NaN</td>\n",
       "      <td>17.0</td>\n",
       "    </tr>\n",
       "  </tbody>\n",
       "</table>\n",
       "<p>3214 rows × 3 columns</p>\n",
       "</div>"
      ],
      "text/plain": [
       "               call_duration  calls_count  gb_used\n",
       "user_id month                                     \n",
       "1000    5              159.0         22.0      3.0\n",
       "        6              172.0         43.0     23.0\n",
       "        7              340.0         47.0     14.0\n",
       "        8              408.0         52.0     14.0\n",
       "        9              466.0         58.0     15.0\n",
       "...                      ...          ...      ...\n",
       "1489    8                NaN          NaN     11.0\n",
       "        9                NaN          NaN     17.0\n",
       "        10               NaN          NaN     20.0\n",
       "        11               NaN          NaN     18.0\n",
       "        12               NaN          NaN     17.0\n",
       "\n",
       "[3214 rows x 3 columns]"
      ]
     },
     "execution_count": 31,
     "metadata": {},
     "output_type": "execute_result"
    }
   ],
   "source": [
    "# Объединим все таблицы\n",
    "data_final = data_calls_pivot.merge(data_internet_pivot, on=('user_id','month'), how='outer')\n",
    "data_final"
   ]
  },
  {
   "cell_type": "code",
   "execution_count": 32,
   "metadata": {
    "scrolled": true
   },
   "outputs": [],
   "source": [
    "# Добавим информацию о тарифах\n",
    "data_final = data_final.merge(data_messages_pivot, on=('user_id','month'), how='outer')"
   ]
  },
  {
   "cell_type": "code",
   "execution_count": 33,
   "metadata": {},
   "outputs": [],
   "source": [
    "# Чтобы добавить в получившуюся таблицу названия тарифов, надо перевести индексы\n",
    "data_final = data_final.reset_index()"
   ]
  },
  {
   "cell_type": "code",
   "execution_count": 34,
   "metadata": {
    "scrolled": true
   },
   "outputs": [],
   "source": [
    "# Подготовим таблицу data_users к объединению, оставив только информацию об id, тарифе и городе проживания. Также переведем индексы\n",
    "data_users = data_users[['user_id', 'tariff', 'city']].reset_index()"
   ]
  },
  {
   "cell_type": "code",
   "execution_count": 35,
   "metadata": {},
   "outputs": [],
   "source": [
    "# Подготовим таблицу data_tariffs к объединению, изменив название для общего столбца\n",
    "data_tariffs = data_tariffs.rename(columns={'tariff_name': 'tariff'})"
   ]
  },
  {
   "cell_type": "code",
   "execution_count": 36,
   "metadata": {
    "scrolled": false
   },
   "outputs": [
    {
     "data": {
      "text/html": [
       "<div>\n",
       "<style scoped>\n",
       "    .dataframe tbody tr th:only-of-type {\n",
       "        vertical-align: middle;\n",
       "    }\n",
       "\n",
       "    .dataframe tbody tr th {\n",
       "        vertical-align: top;\n",
       "    }\n",
       "\n",
       "    .dataframe thead th {\n",
       "        text-align: right;\n",
       "    }\n",
       "</style>\n",
       "<table border=\"1\" class=\"dataframe\">\n",
       "  <thead>\n",
       "    <tr style=\"text-align: right;\">\n",
       "      <th></th>\n",
       "      <th>user_id</th>\n",
       "      <th>month</th>\n",
       "      <th>call_duration</th>\n",
       "      <th>calls_count</th>\n",
       "      <th>gb_used</th>\n",
       "      <th>id</th>\n",
       "      <th>index</th>\n",
       "      <th>tariff</th>\n",
       "      <th>city</th>\n",
       "      <th>messages_included</th>\n",
       "      <th>mb_per_month_included</th>\n",
       "      <th>minutes_included</th>\n",
       "      <th>rub_monthly_fee</th>\n",
       "      <th>rub_per_gb</th>\n",
       "      <th>rub_per_message</th>\n",
       "      <th>rub_per_minute</th>\n",
       "    </tr>\n",
       "  </thead>\n",
       "  <tbody>\n",
       "    <tr>\n",
       "      <th>0</th>\n",
       "      <td>1000</td>\n",
       "      <td>5.0</td>\n",
       "      <td>159.0</td>\n",
       "      <td>22.0</td>\n",
       "      <td>3.0</td>\n",
       "      <td>22.0</td>\n",
       "      <td>0</td>\n",
       "      <td>ultra</td>\n",
       "      <td>Краснодар</td>\n",
       "      <td>1000</td>\n",
       "      <td>30720</td>\n",
       "      <td>3000</td>\n",
       "      <td>1950</td>\n",
       "      <td>150</td>\n",
       "      <td>1</td>\n",
       "      <td>1</td>\n",
       "    </tr>\n",
       "    <tr>\n",
       "      <th>1</th>\n",
       "      <td>1000</td>\n",
       "      <td>6.0</td>\n",
       "      <td>172.0</td>\n",
       "      <td>43.0</td>\n",
       "      <td>23.0</td>\n",
       "      <td>60.0</td>\n",
       "      <td>0</td>\n",
       "      <td>ultra</td>\n",
       "      <td>Краснодар</td>\n",
       "      <td>1000</td>\n",
       "      <td>30720</td>\n",
       "      <td>3000</td>\n",
       "      <td>1950</td>\n",
       "      <td>150</td>\n",
       "      <td>1</td>\n",
       "      <td>1</td>\n",
       "    </tr>\n",
       "    <tr>\n",
       "      <th>2</th>\n",
       "      <td>1000</td>\n",
       "      <td>7.0</td>\n",
       "      <td>340.0</td>\n",
       "      <td>47.0</td>\n",
       "      <td>14.0</td>\n",
       "      <td>75.0</td>\n",
       "      <td>0</td>\n",
       "      <td>ultra</td>\n",
       "      <td>Краснодар</td>\n",
       "      <td>1000</td>\n",
       "      <td>30720</td>\n",
       "      <td>3000</td>\n",
       "      <td>1950</td>\n",
       "      <td>150</td>\n",
       "      <td>1</td>\n",
       "      <td>1</td>\n",
       "    </tr>\n",
       "    <tr>\n",
       "      <th>3</th>\n",
       "      <td>1000</td>\n",
       "      <td>8.0</td>\n",
       "      <td>408.0</td>\n",
       "      <td>52.0</td>\n",
       "      <td>14.0</td>\n",
       "      <td>81.0</td>\n",
       "      <td>0</td>\n",
       "      <td>ultra</td>\n",
       "      <td>Краснодар</td>\n",
       "      <td>1000</td>\n",
       "      <td>30720</td>\n",
       "      <td>3000</td>\n",
       "      <td>1950</td>\n",
       "      <td>150</td>\n",
       "      <td>1</td>\n",
       "      <td>1</td>\n",
       "    </tr>\n",
       "    <tr>\n",
       "      <th>4</th>\n",
       "      <td>1000</td>\n",
       "      <td>9.0</td>\n",
       "      <td>466.0</td>\n",
       "      <td>58.0</td>\n",
       "      <td>15.0</td>\n",
       "      <td>57.0</td>\n",
       "      <td>0</td>\n",
       "      <td>ultra</td>\n",
       "      <td>Краснодар</td>\n",
       "      <td>1000</td>\n",
       "      <td>30720</td>\n",
       "      <td>3000</td>\n",
       "      <td>1950</td>\n",
       "      <td>150</td>\n",
       "      <td>1</td>\n",
       "      <td>1</td>\n",
       "    </tr>\n",
       "    <tr>\n",
       "      <th>...</th>\n",
       "      <td>...</td>\n",
       "      <td>...</td>\n",
       "      <td>...</td>\n",
       "      <td>...</td>\n",
       "      <td>...</td>\n",
       "      <td>...</td>\n",
       "      <td>...</td>\n",
       "      <td>...</td>\n",
       "      <td>...</td>\n",
       "      <td>...</td>\n",
       "      <td>...</td>\n",
       "      <td>...</td>\n",
       "      <td>...</td>\n",
       "      <td>...</td>\n",
       "      <td>...</td>\n",
       "      <td>...</td>\n",
       "    </tr>\n",
       "    <tr>\n",
       "      <th>3211</th>\n",
       "      <td>1489</td>\n",
       "      <td>9.0</td>\n",
       "      <td>NaN</td>\n",
       "      <td>NaN</td>\n",
       "      <td>17.0</td>\n",
       "      <td>32.0</td>\n",
       "      <td>489</td>\n",
       "      <td>smart</td>\n",
       "      <td>Санкт-Петербург</td>\n",
       "      <td>50</td>\n",
       "      <td>15360</td>\n",
       "      <td>500</td>\n",
       "      <td>550</td>\n",
       "      <td>200</td>\n",
       "      <td>3</td>\n",
       "      <td>3</td>\n",
       "    </tr>\n",
       "    <tr>\n",
       "      <th>3212</th>\n",
       "      <td>1489</td>\n",
       "      <td>10.0</td>\n",
       "      <td>NaN</td>\n",
       "      <td>NaN</td>\n",
       "      <td>20.0</td>\n",
       "      <td>21.0</td>\n",
       "      <td>489</td>\n",
       "      <td>smart</td>\n",
       "      <td>Санкт-Петербург</td>\n",
       "      <td>50</td>\n",
       "      <td>15360</td>\n",
       "      <td>500</td>\n",
       "      <td>550</td>\n",
       "      <td>200</td>\n",
       "      <td>3</td>\n",
       "      <td>3</td>\n",
       "    </tr>\n",
       "    <tr>\n",
       "      <th>3213</th>\n",
       "      <td>1489</td>\n",
       "      <td>11.0</td>\n",
       "      <td>NaN</td>\n",
       "      <td>NaN</td>\n",
       "      <td>18.0</td>\n",
       "      <td>20.0</td>\n",
       "      <td>489</td>\n",
       "      <td>smart</td>\n",
       "      <td>Санкт-Петербург</td>\n",
       "      <td>50</td>\n",
       "      <td>15360</td>\n",
       "      <td>500</td>\n",
       "      <td>550</td>\n",
       "      <td>200</td>\n",
       "      <td>3</td>\n",
       "      <td>3</td>\n",
       "    </tr>\n",
       "    <tr>\n",
       "      <th>3214</th>\n",
       "      <td>1489</td>\n",
       "      <td>12.0</td>\n",
       "      <td>NaN</td>\n",
       "      <td>NaN</td>\n",
       "      <td>17.0</td>\n",
       "      <td>35.0</td>\n",
       "      <td>489</td>\n",
       "      <td>smart</td>\n",
       "      <td>Санкт-Петербург</td>\n",
       "      <td>50</td>\n",
       "      <td>15360</td>\n",
       "      <td>500</td>\n",
       "      <td>550</td>\n",
       "      <td>200</td>\n",
       "      <td>3</td>\n",
       "      <td>3</td>\n",
       "    </tr>\n",
       "    <tr>\n",
       "      <th>3215</th>\n",
       "      <td>1371</td>\n",
       "      <td>NaN</td>\n",
       "      <td>NaN</td>\n",
       "      <td>NaN</td>\n",
       "      <td>NaN</td>\n",
       "      <td>NaN</td>\n",
       "      <td>371</td>\n",
       "      <td>smart</td>\n",
       "      <td>Омск</td>\n",
       "      <td>50</td>\n",
       "      <td>15360</td>\n",
       "      <td>500</td>\n",
       "      <td>550</td>\n",
       "      <td>200</td>\n",
       "      <td>3</td>\n",
       "      <td>3</td>\n",
       "    </tr>\n",
       "  </tbody>\n",
       "</table>\n",
       "<p>3216 rows × 16 columns</p>\n",
       "</div>"
      ],
      "text/plain": [
       "      user_id  month  call_duration  calls_count  gb_used    id  index tariff  \\\n",
       "0        1000    5.0          159.0         22.0      3.0  22.0      0  ultra   \n",
       "1        1000    6.0          172.0         43.0     23.0  60.0      0  ultra   \n",
       "2        1000    7.0          340.0         47.0     14.0  75.0      0  ultra   \n",
       "3        1000    8.0          408.0         52.0     14.0  81.0      0  ultra   \n",
       "4        1000    9.0          466.0         58.0     15.0  57.0      0  ultra   \n",
       "...       ...    ...            ...          ...      ...   ...    ...    ...   \n",
       "3211     1489    9.0            NaN          NaN     17.0  32.0    489  smart   \n",
       "3212     1489   10.0            NaN          NaN     20.0  21.0    489  smart   \n",
       "3213     1489   11.0            NaN          NaN     18.0  20.0    489  smart   \n",
       "3214     1489   12.0            NaN          NaN     17.0  35.0    489  smart   \n",
       "3215     1371    NaN            NaN          NaN      NaN   NaN    371  smart   \n",
       "\n",
       "                 city  messages_included  mb_per_month_included  \\\n",
       "0           Краснодар               1000                  30720   \n",
       "1           Краснодар               1000                  30720   \n",
       "2           Краснодар               1000                  30720   \n",
       "3           Краснодар               1000                  30720   \n",
       "4           Краснодар               1000                  30720   \n",
       "...               ...                ...                    ...   \n",
       "3211  Санкт-Петербург                 50                  15360   \n",
       "3212  Санкт-Петербург                 50                  15360   \n",
       "3213  Санкт-Петербург                 50                  15360   \n",
       "3214  Санкт-Петербург                 50                  15360   \n",
       "3215             Омск                 50                  15360   \n",
       "\n",
       "      minutes_included  rub_monthly_fee  rub_per_gb  rub_per_message  \\\n",
       "0                 3000             1950         150                1   \n",
       "1                 3000             1950         150                1   \n",
       "2                 3000             1950         150                1   \n",
       "3                 3000             1950         150                1   \n",
       "4                 3000             1950         150                1   \n",
       "...                ...              ...         ...              ...   \n",
       "3211               500              550         200                3   \n",
       "3212               500              550         200                3   \n",
       "3213               500              550         200                3   \n",
       "3214               500              550         200                3   \n",
       "3215               500              550         200                3   \n",
       "\n",
       "      rub_per_minute  \n",
       "0                  1  \n",
       "1                  1  \n",
       "2                  1  \n",
       "3                  1  \n",
       "4                  1  \n",
       "...              ...  \n",
       "3211               3  \n",
       "3212               3  \n",
       "3213               3  \n",
       "3214               3  \n",
       "3215               3  \n",
       "\n",
       "[3216 rows x 16 columns]"
      ]
     },
     "execution_count": 36,
     "metadata": {},
     "output_type": "execute_result"
    }
   ],
   "source": [
    "# Объединим таблицы\n",
    "data_final = data_final.merge(data_users, on='user_id', how='outer')\n",
    "data_final = data_final.merge(data_tariffs, on='tariff', how='outer')\n",
    "data_final"
   ]
  },
  {
   "cell_type": "code",
   "execution_count": 37,
   "metadata": {
    "scrolled": false
   },
   "outputs": [],
   "source": [
    "# Заменим NaN на 0, так как пропуски значат то, что человек не делал звонки, не отправлял сообщения, не тратил трафик\n",
    "data_final = data_final.fillna(0)"
   ]
  },
  {
   "cell_type": "code",
   "execution_count": 38,
   "metadata": {},
   "outputs": [],
   "source": [
    "# Приведем числовые обозначения месяцев к целому виду\n",
    "data_final['month'] = data_final['month'].astype('int')"
   ]
  },
  {
   "cell_type": "code",
   "execution_count": 39,
   "metadata": {
    "scrolled": true
   },
   "outputs": [],
   "source": [
    "# С помощью метода np.where найдем помесячную выручку со звонков\n",
    "data_final['calls_revenue'] = np.where(data_final['call_duration'] > data_final['minutes_included'], data_final['call_duration'] - data_final['minutes_included'], 0)"
   ]
  },
  {
   "cell_type": "code",
   "execution_count": 40,
   "metadata": {},
   "outputs": [],
   "source": [
    "# Аналогично найдем выручку с сообщений, данные сохраним в столбце messages_revenue\n",
    "data_final['messages_revenue'] = np.where(data_final['id'] > data_final['messages_included'], data_final['id'] - data_final['messages_included']* data_final['rub_per_message'], 0)"
   ]
  },
  {
   "cell_type": "code",
   "execution_count": 41,
   "metadata": {
    "scrolled": false
   },
   "outputs": [
    {
     "data": {
      "text/html": [
       "<div>\n",
       "<style scoped>\n",
       "    .dataframe tbody tr th:only-of-type {\n",
       "        vertical-align: middle;\n",
       "    }\n",
       "\n",
       "    .dataframe tbody tr th {\n",
       "        vertical-align: top;\n",
       "    }\n",
       "\n",
       "    .dataframe thead th {\n",
       "        text-align: right;\n",
       "    }\n",
       "</style>\n",
       "<table border=\"1\" class=\"dataframe\">\n",
       "  <thead>\n",
       "    <tr style=\"text-align: right;\">\n",
       "      <th></th>\n",
       "      <th>user_id</th>\n",
       "      <th>month</th>\n",
       "      <th>call_duration</th>\n",
       "      <th>calls_count</th>\n",
       "      <th>gb_used</th>\n",
       "      <th>id</th>\n",
       "      <th>index</th>\n",
       "      <th>tariff</th>\n",
       "      <th>city</th>\n",
       "      <th>messages_included</th>\n",
       "      <th>mb_per_month_included</th>\n",
       "      <th>minutes_included</th>\n",
       "      <th>rub_monthly_fee</th>\n",
       "      <th>rub_per_gb</th>\n",
       "      <th>rub_per_message</th>\n",
       "      <th>rub_per_minute</th>\n",
       "      <th>calls_revenue</th>\n",
       "      <th>messages_revenue</th>\n",
       "      <th>internet_revenue</th>\n",
       "    </tr>\n",
       "  </thead>\n",
       "  <tbody>\n",
       "    <tr>\n",
       "      <th>0</th>\n",
       "      <td>1000</td>\n",
       "      <td>5</td>\n",
       "      <td>159.0</td>\n",
       "      <td>22.0</td>\n",
       "      <td>3.0</td>\n",
       "      <td>22.0</td>\n",
       "      <td>0</td>\n",
       "      <td>ultra</td>\n",
       "      <td>Краснодар</td>\n",
       "      <td>1000</td>\n",
       "      <td>30720</td>\n",
       "      <td>3000</td>\n",
       "      <td>1950</td>\n",
       "      <td>150</td>\n",
       "      <td>1</td>\n",
       "      <td>1</td>\n",
       "      <td>0.0</td>\n",
       "      <td>0.0</td>\n",
       "      <td>0.0</td>\n",
       "    </tr>\n",
       "    <tr>\n",
       "      <th>1</th>\n",
       "      <td>1000</td>\n",
       "      <td>6</td>\n",
       "      <td>172.0</td>\n",
       "      <td>43.0</td>\n",
       "      <td>23.0</td>\n",
       "      <td>60.0</td>\n",
       "      <td>0</td>\n",
       "      <td>ultra</td>\n",
       "      <td>Краснодар</td>\n",
       "      <td>1000</td>\n",
       "      <td>30720</td>\n",
       "      <td>3000</td>\n",
       "      <td>1950</td>\n",
       "      <td>150</td>\n",
       "      <td>1</td>\n",
       "      <td>1</td>\n",
       "      <td>0.0</td>\n",
       "      <td>0.0</td>\n",
       "      <td>0.0</td>\n",
       "    </tr>\n",
       "    <tr>\n",
       "      <th>2</th>\n",
       "      <td>1000</td>\n",
       "      <td>7</td>\n",
       "      <td>340.0</td>\n",
       "      <td>47.0</td>\n",
       "      <td>14.0</td>\n",
       "      <td>75.0</td>\n",
       "      <td>0</td>\n",
       "      <td>ultra</td>\n",
       "      <td>Краснодар</td>\n",
       "      <td>1000</td>\n",
       "      <td>30720</td>\n",
       "      <td>3000</td>\n",
       "      <td>1950</td>\n",
       "      <td>150</td>\n",
       "      <td>1</td>\n",
       "      <td>1</td>\n",
       "      <td>0.0</td>\n",
       "      <td>0.0</td>\n",
       "      <td>0.0</td>\n",
       "    </tr>\n",
       "    <tr>\n",
       "      <th>3</th>\n",
       "      <td>1000</td>\n",
       "      <td>8</td>\n",
       "      <td>408.0</td>\n",
       "      <td>52.0</td>\n",
       "      <td>14.0</td>\n",
       "      <td>81.0</td>\n",
       "      <td>0</td>\n",
       "      <td>ultra</td>\n",
       "      <td>Краснодар</td>\n",
       "      <td>1000</td>\n",
       "      <td>30720</td>\n",
       "      <td>3000</td>\n",
       "      <td>1950</td>\n",
       "      <td>150</td>\n",
       "      <td>1</td>\n",
       "      <td>1</td>\n",
       "      <td>0.0</td>\n",
       "      <td>0.0</td>\n",
       "      <td>0.0</td>\n",
       "    </tr>\n",
       "    <tr>\n",
       "      <th>4</th>\n",
       "      <td>1000</td>\n",
       "      <td>9</td>\n",
       "      <td>466.0</td>\n",
       "      <td>58.0</td>\n",
       "      <td>15.0</td>\n",
       "      <td>57.0</td>\n",
       "      <td>0</td>\n",
       "      <td>ultra</td>\n",
       "      <td>Краснодар</td>\n",
       "      <td>1000</td>\n",
       "      <td>30720</td>\n",
       "      <td>3000</td>\n",
       "      <td>1950</td>\n",
       "      <td>150</td>\n",
       "      <td>1</td>\n",
       "      <td>1</td>\n",
       "      <td>0.0</td>\n",
       "      <td>0.0</td>\n",
       "      <td>0.0</td>\n",
       "    </tr>\n",
       "    <tr>\n",
       "      <th>...</th>\n",
       "      <td>...</td>\n",
       "      <td>...</td>\n",
       "      <td>...</td>\n",
       "      <td>...</td>\n",
       "      <td>...</td>\n",
       "      <td>...</td>\n",
       "      <td>...</td>\n",
       "      <td>...</td>\n",
       "      <td>...</td>\n",
       "      <td>...</td>\n",
       "      <td>...</td>\n",
       "      <td>...</td>\n",
       "      <td>...</td>\n",
       "      <td>...</td>\n",
       "      <td>...</td>\n",
       "      <td>...</td>\n",
       "      <td>...</td>\n",
       "      <td>...</td>\n",
       "      <td>...</td>\n",
       "    </tr>\n",
       "    <tr>\n",
       "      <th>3211</th>\n",
       "      <td>1489</td>\n",
       "      <td>9</td>\n",
       "      <td>0.0</td>\n",
       "      <td>0.0</td>\n",
       "      <td>17.0</td>\n",
       "      <td>32.0</td>\n",
       "      <td>489</td>\n",
       "      <td>smart</td>\n",
       "      <td>Санкт-Петербург</td>\n",
       "      <td>50</td>\n",
       "      <td>15360</td>\n",
       "      <td>500</td>\n",
       "      <td>550</td>\n",
       "      <td>200</td>\n",
       "      <td>3</td>\n",
       "      <td>3</td>\n",
       "      <td>0.0</td>\n",
       "      <td>0.0</td>\n",
       "      <td>400.0</td>\n",
       "    </tr>\n",
       "    <tr>\n",
       "      <th>3212</th>\n",
       "      <td>1489</td>\n",
       "      <td>10</td>\n",
       "      <td>0.0</td>\n",
       "      <td>0.0</td>\n",
       "      <td>20.0</td>\n",
       "      <td>21.0</td>\n",
       "      <td>489</td>\n",
       "      <td>smart</td>\n",
       "      <td>Санкт-Петербург</td>\n",
       "      <td>50</td>\n",
       "      <td>15360</td>\n",
       "      <td>500</td>\n",
       "      <td>550</td>\n",
       "      <td>200</td>\n",
       "      <td>3</td>\n",
       "      <td>3</td>\n",
       "      <td>0.0</td>\n",
       "      <td>0.0</td>\n",
       "      <td>1000.0</td>\n",
       "    </tr>\n",
       "    <tr>\n",
       "      <th>3213</th>\n",
       "      <td>1489</td>\n",
       "      <td>11</td>\n",
       "      <td>0.0</td>\n",
       "      <td>0.0</td>\n",
       "      <td>18.0</td>\n",
       "      <td>20.0</td>\n",
       "      <td>489</td>\n",
       "      <td>smart</td>\n",
       "      <td>Санкт-Петербург</td>\n",
       "      <td>50</td>\n",
       "      <td>15360</td>\n",
       "      <td>500</td>\n",
       "      <td>550</td>\n",
       "      <td>200</td>\n",
       "      <td>3</td>\n",
       "      <td>3</td>\n",
       "      <td>0.0</td>\n",
       "      <td>0.0</td>\n",
       "      <td>600.0</td>\n",
       "    </tr>\n",
       "    <tr>\n",
       "      <th>3214</th>\n",
       "      <td>1489</td>\n",
       "      <td>12</td>\n",
       "      <td>0.0</td>\n",
       "      <td>0.0</td>\n",
       "      <td>17.0</td>\n",
       "      <td>35.0</td>\n",
       "      <td>489</td>\n",
       "      <td>smart</td>\n",
       "      <td>Санкт-Петербург</td>\n",
       "      <td>50</td>\n",
       "      <td>15360</td>\n",
       "      <td>500</td>\n",
       "      <td>550</td>\n",
       "      <td>200</td>\n",
       "      <td>3</td>\n",
       "      <td>3</td>\n",
       "      <td>0.0</td>\n",
       "      <td>0.0</td>\n",
       "      <td>400.0</td>\n",
       "    </tr>\n",
       "    <tr>\n",
       "      <th>3215</th>\n",
       "      <td>1371</td>\n",
       "      <td>0</td>\n",
       "      <td>0.0</td>\n",
       "      <td>0.0</td>\n",
       "      <td>0.0</td>\n",
       "      <td>0.0</td>\n",
       "      <td>371</td>\n",
       "      <td>smart</td>\n",
       "      <td>Омск</td>\n",
       "      <td>50</td>\n",
       "      <td>15360</td>\n",
       "      <td>500</td>\n",
       "      <td>550</td>\n",
       "      <td>200</td>\n",
       "      <td>3</td>\n",
       "      <td>3</td>\n",
       "      <td>0.0</td>\n",
       "      <td>0.0</td>\n",
       "      <td>0.0</td>\n",
       "    </tr>\n",
       "  </tbody>\n",
       "</table>\n",
       "<p>3216 rows × 19 columns</p>\n",
       "</div>"
      ],
      "text/plain": [
       "      user_id  month  call_duration  calls_count  gb_used    id  index tariff  \\\n",
       "0        1000      5          159.0         22.0      3.0  22.0      0  ultra   \n",
       "1        1000      6          172.0         43.0     23.0  60.0      0  ultra   \n",
       "2        1000      7          340.0         47.0     14.0  75.0      0  ultra   \n",
       "3        1000      8          408.0         52.0     14.0  81.0      0  ultra   \n",
       "4        1000      9          466.0         58.0     15.0  57.0      0  ultra   \n",
       "...       ...    ...            ...          ...      ...   ...    ...    ...   \n",
       "3211     1489      9            0.0          0.0     17.0  32.0    489  smart   \n",
       "3212     1489     10            0.0          0.0     20.0  21.0    489  smart   \n",
       "3213     1489     11            0.0          0.0     18.0  20.0    489  smart   \n",
       "3214     1489     12            0.0          0.0     17.0  35.0    489  smart   \n",
       "3215     1371      0            0.0          0.0      0.0   0.0    371  smart   \n",
       "\n",
       "                 city  messages_included  mb_per_month_included  \\\n",
       "0           Краснодар               1000                  30720   \n",
       "1           Краснодар               1000                  30720   \n",
       "2           Краснодар               1000                  30720   \n",
       "3           Краснодар               1000                  30720   \n",
       "4           Краснодар               1000                  30720   \n",
       "...               ...                ...                    ...   \n",
       "3211  Санкт-Петербург                 50                  15360   \n",
       "3212  Санкт-Петербург                 50                  15360   \n",
       "3213  Санкт-Петербург                 50                  15360   \n",
       "3214  Санкт-Петербург                 50                  15360   \n",
       "3215             Омск                 50                  15360   \n",
       "\n",
       "      minutes_included  rub_monthly_fee  rub_per_gb  rub_per_message  \\\n",
       "0                 3000             1950         150                1   \n",
       "1                 3000             1950         150                1   \n",
       "2                 3000             1950         150                1   \n",
       "3                 3000             1950         150                1   \n",
       "4                 3000             1950         150                1   \n",
       "...                ...              ...         ...              ...   \n",
       "3211               500              550         200                3   \n",
       "3212               500              550         200                3   \n",
       "3213               500              550         200                3   \n",
       "3214               500              550         200                3   \n",
       "3215               500              550         200                3   \n",
       "\n",
       "      rub_per_minute  calls_revenue  messages_revenue  internet_revenue  \n",
       "0                  1            0.0               0.0               0.0  \n",
       "1                  1            0.0               0.0               0.0  \n",
       "2                  1            0.0               0.0               0.0  \n",
       "3                  1            0.0               0.0               0.0  \n",
       "4                  1            0.0               0.0               0.0  \n",
       "...              ...            ...               ...               ...  \n",
       "3211               3            0.0               0.0             400.0  \n",
       "3212               3            0.0               0.0            1000.0  \n",
       "3213               3            0.0               0.0             600.0  \n",
       "3214               3            0.0               0.0             400.0  \n",
       "3215               3            0.0               0.0               0.0  \n",
       "\n",
       "[3216 rows x 19 columns]"
      ]
     },
     "execution_count": 41,
     "metadata": {},
     "output_type": "execute_result"
    }
   ],
   "source": [
    "# Аналогично найдем выручку с интернета, данные сохраним в столбце internet_revenue\n",
    "data_final['internet_revenue'] = np.where(data_final['gb_used'] > data_final['mb_per_month_included']/1024, (data_final['gb_used'] - data_final['mb_per_month_included']/1024) * data_final['rub_per_gb'], 0)\n",
    "data_final"
   ]
  },
  {
   "cell_type": "code",
   "execution_count": 42,
   "metadata": {
    "scrolled": false
   },
   "outputs": [
    {
     "data": {
      "text/html": [
       "<div>\n",
       "<style scoped>\n",
       "    .dataframe tbody tr th:only-of-type {\n",
       "        vertical-align: middle;\n",
       "    }\n",
       "\n",
       "    .dataframe tbody tr th {\n",
       "        vertical-align: top;\n",
       "    }\n",
       "\n",
       "    .dataframe thead th {\n",
       "        text-align: right;\n",
       "    }\n",
       "</style>\n",
       "<table border=\"1\" class=\"dataframe\">\n",
       "  <thead>\n",
       "    <tr style=\"text-align: right;\">\n",
       "      <th></th>\n",
       "      <th>user_id</th>\n",
       "      <th>month</th>\n",
       "      <th>call_duration</th>\n",
       "      <th>calls_count</th>\n",
       "      <th>gb_used</th>\n",
       "      <th>id</th>\n",
       "      <th>index</th>\n",
       "      <th>tariff</th>\n",
       "      <th>city</th>\n",
       "      <th>messages_included</th>\n",
       "      <th>mb_per_month_included</th>\n",
       "      <th>minutes_included</th>\n",
       "      <th>rub_monthly_fee</th>\n",
       "      <th>rub_per_gb</th>\n",
       "      <th>rub_per_message</th>\n",
       "      <th>rub_per_minute</th>\n",
       "      <th>calls_revenue</th>\n",
       "      <th>messages_revenue</th>\n",
       "      <th>internet_revenue</th>\n",
       "      <th>total_income</th>\n",
       "    </tr>\n",
       "  </thead>\n",
       "  <tbody>\n",
       "    <tr>\n",
       "      <th>0</th>\n",
       "      <td>1000</td>\n",
       "      <td>5</td>\n",
       "      <td>159.0</td>\n",
       "      <td>22.0</td>\n",
       "      <td>3.0</td>\n",
       "      <td>22.0</td>\n",
       "      <td>0</td>\n",
       "      <td>ultra</td>\n",
       "      <td>Краснодар</td>\n",
       "      <td>1000</td>\n",
       "      <td>30720</td>\n",
       "      <td>3000</td>\n",
       "      <td>1950</td>\n",
       "      <td>150</td>\n",
       "      <td>1</td>\n",
       "      <td>1</td>\n",
       "      <td>0.0</td>\n",
       "      <td>0.0</td>\n",
       "      <td>0.0</td>\n",
       "      <td>1950.0</td>\n",
       "    </tr>\n",
       "    <tr>\n",
       "      <th>1</th>\n",
       "      <td>1000</td>\n",
       "      <td>6</td>\n",
       "      <td>172.0</td>\n",
       "      <td>43.0</td>\n",
       "      <td>23.0</td>\n",
       "      <td>60.0</td>\n",
       "      <td>0</td>\n",
       "      <td>ultra</td>\n",
       "      <td>Краснодар</td>\n",
       "      <td>1000</td>\n",
       "      <td>30720</td>\n",
       "      <td>3000</td>\n",
       "      <td>1950</td>\n",
       "      <td>150</td>\n",
       "      <td>1</td>\n",
       "      <td>1</td>\n",
       "      <td>0.0</td>\n",
       "      <td>0.0</td>\n",
       "      <td>0.0</td>\n",
       "      <td>1950.0</td>\n",
       "    </tr>\n",
       "    <tr>\n",
       "      <th>2</th>\n",
       "      <td>1000</td>\n",
       "      <td>7</td>\n",
       "      <td>340.0</td>\n",
       "      <td>47.0</td>\n",
       "      <td>14.0</td>\n",
       "      <td>75.0</td>\n",
       "      <td>0</td>\n",
       "      <td>ultra</td>\n",
       "      <td>Краснодар</td>\n",
       "      <td>1000</td>\n",
       "      <td>30720</td>\n",
       "      <td>3000</td>\n",
       "      <td>1950</td>\n",
       "      <td>150</td>\n",
       "      <td>1</td>\n",
       "      <td>1</td>\n",
       "      <td>0.0</td>\n",
       "      <td>0.0</td>\n",
       "      <td>0.0</td>\n",
       "      <td>1950.0</td>\n",
       "    </tr>\n",
       "    <tr>\n",
       "      <th>3</th>\n",
       "      <td>1000</td>\n",
       "      <td>8</td>\n",
       "      <td>408.0</td>\n",
       "      <td>52.0</td>\n",
       "      <td>14.0</td>\n",
       "      <td>81.0</td>\n",
       "      <td>0</td>\n",
       "      <td>ultra</td>\n",
       "      <td>Краснодар</td>\n",
       "      <td>1000</td>\n",
       "      <td>30720</td>\n",
       "      <td>3000</td>\n",
       "      <td>1950</td>\n",
       "      <td>150</td>\n",
       "      <td>1</td>\n",
       "      <td>1</td>\n",
       "      <td>0.0</td>\n",
       "      <td>0.0</td>\n",
       "      <td>0.0</td>\n",
       "      <td>1950.0</td>\n",
       "    </tr>\n",
       "    <tr>\n",
       "      <th>4</th>\n",
       "      <td>1000</td>\n",
       "      <td>9</td>\n",
       "      <td>466.0</td>\n",
       "      <td>58.0</td>\n",
       "      <td>15.0</td>\n",
       "      <td>57.0</td>\n",
       "      <td>0</td>\n",
       "      <td>ultra</td>\n",
       "      <td>Краснодар</td>\n",
       "      <td>1000</td>\n",
       "      <td>30720</td>\n",
       "      <td>3000</td>\n",
       "      <td>1950</td>\n",
       "      <td>150</td>\n",
       "      <td>1</td>\n",
       "      <td>1</td>\n",
       "      <td>0.0</td>\n",
       "      <td>0.0</td>\n",
       "      <td>0.0</td>\n",
       "      <td>1950.0</td>\n",
       "    </tr>\n",
       "    <tr>\n",
       "      <th>...</th>\n",
       "      <td>...</td>\n",
       "      <td>...</td>\n",
       "      <td>...</td>\n",
       "      <td>...</td>\n",
       "      <td>...</td>\n",
       "      <td>...</td>\n",
       "      <td>...</td>\n",
       "      <td>...</td>\n",
       "      <td>...</td>\n",
       "      <td>...</td>\n",
       "      <td>...</td>\n",
       "      <td>...</td>\n",
       "      <td>...</td>\n",
       "      <td>...</td>\n",
       "      <td>...</td>\n",
       "      <td>...</td>\n",
       "      <td>...</td>\n",
       "      <td>...</td>\n",
       "      <td>...</td>\n",
       "      <td>...</td>\n",
       "    </tr>\n",
       "    <tr>\n",
       "      <th>3211</th>\n",
       "      <td>1489</td>\n",
       "      <td>9</td>\n",
       "      <td>0.0</td>\n",
       "      <td>0.0</td>\n",
       "      <td>17.0</td>\n",
       "      <td>32.0</td>\n",
       "      <td>489</td>\n",
       "      <td>smart</td>\n",
       "      <td>Санкт-Петербург</td>\n",
       "      <td>50</td>\n",
       "      <td>15360</td>\n",
       "      <td>500</td>\n",
       "      <td>550</td>\n",
       "      <td>200</td>\n",
       "      <td>3</td>\n",
       "      <td>3</td>\n",
       "      <td>0.0</td>\n",
       "      <td>0.0</td>\n",
       "      <td>400.0</td>\n",
       "      <td>950.0</td>\n",
       "    </tr>\n",
       "    <tr>\n",
       "      <th>3212</th>\n",
       "      <td>1489</td>\n",
       "      <td>10</td>\n",
       "      <td>0.0</td>\n",
       "      <td>0.0</td>\n",
       "      <td>20.0</td>\n",
       "      <td>21.0</td>\n",
       "      <td>489</td>\n",
       "      <td>smart</td>\n",
       "      <td>Санкт-Петербург</td>\n",
       "      <td>50</td>\n",
       "      <td>15360</td>\n",
       "      <td>500</td>\n",
       "      <td>550</td>\n",
       "      <td>200</td>\n",
       "      <td>3</td>\n",
       "      <td>3</td>\n",
       "      <td>0.0</td>\n",
       "      <td>0.0</td>\n",
       "      <td>1000.0</td>\n",
       "      <td>1550.0</td>\n",
       "    </tr>\n",
       "    <tr>\n",
       "      <th>3213</th>\n",
       "      <td>1489</td>\n",
       "      <td>11</td>\n",
       "      <td>0.0</td>\n",
       "      <td>0.0</td>\n",
       "      <td>18.0</td>\n",
       "      <td>20.0</td>\n",
       "      <td>489</td>\n",
       "      <td>smart</td>\n",
       "      <td>Санкт-Петербург</td>\n",
       "      <td>50</td>\n",
       "      <td>15360</td>\n",
       "      <td>500</td>\n",
       "      <td>550</td>\n",
       "      <td>200</td>\n",
       "      <td>3</td>\n",
       "      <td>3</td>\n",
       "      <td>0.0</td>\n",
       "      <td>0.0</td>\n",
       "      <td>600.0</td>\n",
       "      <td>1150.0</td>\n",
       "    </tr>\n",
       "    <tr>\n",
       "      <th>3214</th>\n",
       "      <td>1489</td>\n",
       "      <td>12</td>\n",
       "      <td>0.0</td>\n",
       "      <td>0.0</td>\n",
       "      <td>17.0</td>\n",
       "      <td>35.0</td>\n",
       "      <td>489</td>\n",
       "      <td>smart</td>\n",
       "      <td>Санкт-Петербург</td>\n",
       "      <td>50</td>\n",
       "      <td>15360</td>\n",
       "      <td>500</td>\n",
       "      <td>550</td>\n",
       "      <td>200</td>\n",
       "      <td>3</td>\n",
       "      <td>3</td>\n",
       "      <td>0.0</td>\n",
       "      <td>0.0</td>\n",
       "      <td>400.0</td>\n",
       "      <td>950.0</td>\n",
       "    </tr>\n",
       "    <tr>\n",
       "      <th>3215</th>\n",
       "      <td>1371</td>\n",
       "      <td>0</td>\n",
       "      <td>0.0</td>\n",
       "      <td>0.0</td>\n",
       "      <td>0.0</td>\n",
       "      <td>0.0</td>\n",
       "      <td>371</td>\n",
       "      <td>smart</td>\n",
       "      <td>Омск</td>\n",
       "      <td>50</td>\n",
       "      <td>15360</td>\n",
       "      <td>500</td>\n",
       "      <td>550</td>\n",
       "      <td>200</td>\n",
       "      <td>3</td>\n",
       "      <td>3</td>\n",
       "      <td>0.0</td>\n",
       "      <td>0.0</td>\n",
       "      <td>0.0</td>\n",
       "      <td>550.0</td>\n",
       "    </tr>\n",
       "  </tbody>\n",
       "</table>\n",
       "<p>3216 rows × 20 columns</p>\n",
       "</div>"
      ],
      "text/plain": [
       "      user_id  month  call_duration  calls_count  gb_used    id  index tariff  \\\n",
       "0        1000      5          159.0         22.0      3.0  22.0      0  ultra   \n",
       "1        1000      6          172.0         43.0     23.0  60.0      0  ultra   \n",
       "2        1000      7          340.0         47.0     14.0  75.0      0  ultra   \n",
       "3        1000      8          408.0         52.0     14.0  81.0      0  ultra   \n",
       "4        1000      9          466.0         58.0     15.0  57.0      0  ultra   \n",
       "...       ...    ...            ...          ...      ...   ...    ...    ...   \n",
       "3211     1489      9            0.0          0.0     17.0  32.0    489  smart   \n",
       "3212     1489     10            0.0          0.0     20.0  21.0    489  smart   \n",
       "3213     1489     11            0.0          0.0     18.0  20.0    489  smart   \n",
       "3214     1489     12            0.0          0.0     17.0  35.0    489  smart   \n",
       "3215     1371      0            0.0          0.0      0.0   0.0    371  smart   \n",
       "\n",
       "                 city  messages_included  mb_per_month_included  \\\n",
       "0           Краснодар               1000                  30720   \n",
       "1           Краснодар               1000                  30720   \n",
       "2           Краснодар               1000                  30720   \n",
       "3           Краснодар               1000                  30720   \n",
       "4           Краснодар               1000                  30720   \n",
       "...               ...                ...                    ...   \n",
       "3211  Санкт-Петербург                 50                  15360   \n",
       "3212  Санкт-Петербург                 50                  15360   \n",
       "3213  Санкт-Петербург                 50                  15360   \n",
       "3214  Санкт-Петербург                 50                  15360   \n",
       "3215             Омск                 50                  15360   \n",
       "\n",
       "      minutes_included  rub_monthly_fee  rub_per_gb  rub_per_message  \\\n",
       "0                 3000             1950         150                1   \n",
       "1                 3000             1950         150                1   \n",
       "2                 3000             1950         150                1   \n",
       "3                 3000             1950         150                1   \n",
       "4                 3000             1950         150                1   \n",
       "...                ...              ...         ...              ...   \n",
       "3211               500              550         200                3   \n",
       "3212               500              550         200                3   \n",
       "3213               500              550         200                3   \n",
       "3214               500              550         200                3   \n",
       "3215               500              550         200                3   \n",
       "\n",
       "      rub_per_minute  calls_revenue  messages_revenue  internet_revenue  \\\n",
       "0                  1            0.0               0.0               0.0   \n",
       "1                  1            0.0               0.0               0.0   \n",
       "2                  1            0.0               0.0               0.0   \n",
       "3                  1            0.0               0.0               0.0   \n",
       "4                  1            0.0               0.0               0.0   \n",
       "...              ...            ...               ...               ...   \n",
       "3211               3            0.0               0.0             400.0   \n",
       "3212               3            0.0               0.0            1000.0   \n",
       "3213               3            0.0               0.0             600.0   \n",
       "3214               3            0.0               0.0             400.0   \n",
       "3215               3            0.0               0.0               0.0   \n",
       "\n",
       "      total_income  \n",
       "0           1950.0  \n",
       "1           1950.0  \n",
       "2           1950.0  \n",
       "3           1950.0  \n",
       "4           1950.0  \n",
       "...            ...  \n",
       "3211         950.0  \n",
       "3212        1550.0  \n",
       "3213        1150.0  \n",
       "3214         950.0  \n",
       "3215         550.0  \n",
       "\n",
       "[3216 rows x 20 columns]"
      ]
     },
     "execution_count": 42,
     "metadata": {},
     "output_type": "execute_result"
    }
   ],
   "source": [
    "# Суммируем значения столбцов calls_revenue, messages_revenue, internet_revenue и rub_monthly_fee для того чтобы подсчитать общую выручку\n",
    "data_final['total_income'] = (data_final[['calls_revenue', 'messages_revenue', 'internet_revenue']].sum(axis=1))+data_final['rub_monthly_fee']\n",
    "data_final"
   ]
  },
  {
   "cell_type": "markdown",
   "metadata": {},
   "source": [
    "**Вывод:** таким образом, было посчитано количество звонков и минут, количество отправленных сообщений и объем израсходованного трафика для каждого пользователя по месяцам. Далее была рассчитана помесячная выручка аналогично с каждого пользователя."
   ]
  },
  {
   "cell_type": "markdown",
   "metadata": {},
   "source": [
    "## Исследовательский анализ данных"
   ]
  },
  {
   "cell_type": "markdown",
   "metadata": {},
   "source": [
    "### Исследование длительности звонков"
   ]
  },
  {
   "cell_type": "markdown",
   "metadata": {},
   "source": [
    "Посчитаем среднюю длительность звонков, дисперсию и стандартное отклонение по месяцам для разных тарифов с помощью сводных таблиц. Перезапишем неиспользуемую переменную data_calls_pivot для экономии памяти."
   ]
  },
  {
   "cell_type": "code",
   "execution_count": 43,
   "metadata": {
    "scrolled": false
   },
   "outputs": [
    {
     "data": {
      "text/html": [
       "<div>\n",
       "<style scoped>\n",
       "    .dataframe tbody tr th:only-of-type {\n",
       "        vertical-align: middle;\n",
       "    }\n",
       "\n",
       "    .dataframe tbody tr th {\n",
       "        vertical-align: top;\n",
       "    }\n",
       "\n",
       "    .dataframe thead tr th {\n",
       "        text-align: left;\n",
       "    }\n",
       "\n",
       "    .dataframe thead tr:last-of-type th {\n",
       "        text-align: right;\n",
       "    }\n",
       "</style>\n",
       "<table border=\"1\" class=\"dataframe\">\n",
       "  <thead>\n",
       "    <tr>\n",
       "      <th></th>\n",
       "      <th colspan=\"2\" halign=\"left\">mean</th>\n",
       "      <th colspan=\"2\" halign=\"left\">std</th>\n",
       "      <th colspan=\"2\" halign=\"left\">var</th>\n",
       "    </tr>\n",
       "    <tr>\n",
       "      <th>tariff</th>\n",
       "      <th>smart</th>\n",
       "      <th>ultra</th>\n",
       "      <th>smart</th>\n",
       "      <th>ultra</th>\n",
       "      <th>smart</th>\n",
       "      <th>ultra</th>\n",
       "    </tr>\n",
       "    <tr>\n",
       "      <th>month</th>\n",
       "      <th></th>\n",
       "      <th></th>\n",
       "      <th></th>\n",
       "      <th></th>\n",
       "      <th></th>\n",
       "      <th></th>\n",
       "    </tr>\n",
       "  </thead>\n",
       "  <tbody>\n",
       "    <tr>\n",
       "      <th>1</th>\n",
       "      <td>203.852941</td>\n",
       "      <td>428.111111</td>\n",
       "      <td>154.231454</td>\n",
       "      <td>269.757968</td>\n",
       "      <td>23787.341355</td>\n",
       "      <td>72769.361111</td>\n",
       "    </tr>\n",
       "    <tr>\n",
       "      <th>2</th>\n",
       "      <td>298.689655</td>\n",
       "      <td>297.125000</td>\n",
       "      <td>190.820041</td>\n",
       "      <td>296.512528</td>\n",
       "      <td>36412.287961</td>\n",
       "      <td>87919.679348</td>\n",
       "    </tr>\n",
       "    <tr>\n",
       "      <th>3</th>\n",
       "      <td>390.051948</td>\n",
       "      <td>489.648649</td>\n",
       "      <td>191.893604</td>\n",
       "      <td>333.743765</td>\n",
       "      <td>36823.155161</td>\n",
       "      <td>111384.900901</td>\n",
       "    </tr>\n",
       "    <tr>\n",
       "      <th>4</th>\n",
       "      <td>367.133929</td>\n",
       "      <td>458.018182</td>\n",
       "      <td>186.489161</td>\n",
       "      <td>267.682405</td>\n",
       "      <td>34778.207127</td>\n",
       "      <td>71653.870034</td>\n",
       "    </tr>\n",
       "    <tr>\n",
       "      <th>5</th>\n",
       "      <td>387.361702</td>\n",
       "      <td>510.328358</td>\n",
       "      <td>186.601343</td>\n",
       "      <td>289.603511</td>\n",
       "      <td>34820.061094</td>\n",
       "      <td>83870.193578</td>\n",
       "    </tr>\n",
       "    <tr>\n",
       "      <th>6</th>\n",
       "      <td>395.640244</td>\n",
       "      <td>479.702381</td>\n",
       "      <td>175.336587</td>\n",
       "      <td>302.549081</td>\n",
       "      <td>30742.918861</td>\n",
       "      <td>91535.946500</td>\n",
       "    </tr>\n",
       "    <tr>\n",
       "      <th>7</th>\n",
       "      <td>408.353234</td>\n",
       "      <td>545.791209</td>\n",
       "      <td>179.583601</td>\n",
       "      <td>307.119322</td>\n",
       "      <td>32250.269602</td>\n",
       "      <td>94322.278144</td>\n",
       "    </tr>\n",
       "    <tr>\n",
       "      <th>8</th>\n",
       "      <td>421.468085</td>\n",
       "      <td>510.775701</td>\n",
       "      <td>186.530382</td>\n",
       "      <td>312.980026</td>\n",
       "      <td>34793.583379</td>\n",
       "      <td>97956.496385</td>\n",
       "    </tr>\n",
       "    <tr>\n",
       "      <th>9</th>\n",
       "      <td>428.611538</td>\n",
       "      <td>539.443478</td>\n",
       "      <td>183.126576</td>\n",
       "      <td>325.141162</td>\n",
       "      <td>33535.342723</td>\n",
       "      <td>105716.775286</td>\n",
       "    </tr>\n",
       "    <tr>\n",
       "      <th>10</th>\n",
       "      <td>426.136054</td>\n",
       "      <td>558.081301</td>\n",
       "      <td>188.128510</td>\n",
       "      <td>326.289110</td>\n",
       "      <td>35392.336375</td>\n",
       "      <td>106464.583500</td>\n",
       "    </tr>\n",
       "    <tr>\n",
       "      <th>11</th>\n",
       "      <td>435.265823</td>\n",
       "      <td>541.380597</td>\n",
       "      <td>177.778618</td>\n",
       "      <td>310.757232</td>\n",
       "      <td>31605.237050</td>\n",
       "      <td>96570.057064</td>\n",
       "    </tr>\n",
       "    <tr>\n",
       "      <th>12</th>\n",
       "      <td>478.560831</td>\n",
       "      <td>592.805755</td>\n",
       "      <td>199.245131</td>\n",
       "      <td>342.456321</td>\n",
       "      <td>39698.622033</td>\n",
       "      <td>117276.331561</td>\n",
       "    </tr>\n",
       "  </tbody>\n",
       "</table>\n",
       "</div>"
      ],
      "text/plain": [
       "              mean                     std                       var  \\\n",
       "tariff       smart       ultra       smart       ultra         smart   \n",
       "month                                                                  \n",
       "1       203.852941  428.111111  154.231454  269.757968  23787.341355   \n",
       "2       298.689655  297.125000  190.820041  296.512528  36412.287961   \n",
       "3       390.051948  489.648649  191.893604  333.743765  36823.155161   \n",
       "4       367.133929  458.018182  186.489161  267.682405  34778.207127   \n",
       "5       387.361702  510.328358  186.601343  289.603511  34820.061094   \n",
       "6       395.640244  479.702381  175.336587  302.549081  30742.918861   \n",
       "7       408.353234  545.791209  179.583601  307.119322  32250.269602   \n",
       "8       421.468085  510.775701  186.530382  312.980026  34793.583379   \n",
       "9       428.611538  539.443478  183.126576  325.141162  33535.342723   \n",
       "10      426.136054  558.081301  188.128510  326.289110  35392.336375   \n",
       "11      435.265823  541.380597  177.778618  310.757232  31605.237050   \n",
       "12      478.560831  592.805755  199.245131  342.456321  39698.622033   \n",
       "\n",
       "                       \n",
       "tariff          ultra  \n",
       "month                  \n",
       "1        72769.361111  \n",
       "2        87919.679348  \n",
       "3       111384.900901  \n",
       "4        71653.870034  \n",
       "5        83870.193578  \n",
       "6        91535.946500  \n",
       "7        94322.278144  \n",
       "8        97956.496385  \n",
       "9       105716.775286  \n",
       "10      106464.583500  \n",
       "11       96570.057064  \n",
       "12      117276.331561  "
      ]
     },
     "execution_count": 43,
     "metadata": {},
     "output_type": "execute_result"
    }
   ],
   "source": [
    "data_calls_pivot = data_final.pivot_table(index='month', columns='tariff', values='call_duration', aggfunc=('mean', 'std', 'var')).query('month != 0')\n",
    "data_calls_pivot"
   ]
  },
  {
   "cell_type": "code",
   "execution_count": 44,
   "metadata": {},
   "outputs": [
    {
     "data": {
      "image/png": "[encoded data removed]",
      "text/plain": [
       "<Figure size 432x288 with 1 Axes>"
      ]
     },
     "metadata": {
      "needs_background": "light"
     },
     "output_type": "display_data"
    }
   ],
   "source": [
    "# Построим гистограмму с длительностью звонков в месяц для разных тарифов\n",
    "sns.histplot(data=data_final, x='call_duration', hue = 'tariff').set(ylabel='частота', xlabel='длительность', title='Распределение длительности звонков по тарифам')\n",
    "plt.show()"
   ]
  },
  {
   "cell_type": "markdown",
   "metadata": {},
   "source": [
    "**Вывод:** \n",
    "- Судя по таблице, пользователи тарифа Ultra в среднем разговаривают дольше, чем пользователи тарифа Smart.\n",
    "- Стандартное отклонение достаточно высокое для обоих тарифов, что может говорить о большом разбросе данных.\n",
    "- Пользователи обоих тарифов в среднем не переходят порог бесплатного лимита, однако судя по стандартному отклонению и значениях, близких к порогу, для пользователей тарифа Smart более характерно переплачивание.\n",
    "- На гистограмме также видно, что звонки пользователей тарифа Ultra длятся значительно дольше.\n",
    "- Распределения похожи на нормальные."
   ]
  },
  {
   "cell_type": "markdown",
   "metadata": {},
   "source": [
    "### Исследование количества отправленных сообщений"
   ]
  },
  {
   "cell_type": "markdown",
   "metadata": {},
   "source": [
    "Посчитаем среднее количество отправленных сообщений, дисперсию и стандартное отклонение по месяцам для разных тарифов с помощью сводных таблиц. Перезапишем неиспользуемую переменную data_messages_pivot для экономии памяти."
   ]
  },
  {
   "cell_type": "code",
   "execution_count": 45,
   "metadata": {},
   "outputs": [
    {
     "data": {
      "text/html": [
       "<div>\n",
       "<style scoped>\n",
       "    .dataframe tbody tr th:only-of-type {\n",
       "        vertical-align: middle;\n",
       "    }\n",
       "\n",
       "    .dataframe tbody tr th {\n",
       "        vertical-align: top;\n",
       "    }\n",
       "\n",
       "    .dataframe thead tr th {\n",
       "        text-align: left;\n",
       "    }\n",
       "\n",
       "    .dataframe thead tr:last-of-type th {\n",
       "        text-align: right;\n",
       "    }\n",
       "</style>\n",
       "<table border=\"1\" class=\"dataframe\">\n",
       "  <thead>\n",
       "    <tr>\n",
       "      <th></th>\n",
       "      <th colspan=\"2\" halign=\"left\">mean</th>\n",
       "      <th colspan=\"2\" halign=\"left\">std</th>\n",
       "      <th colspan=\"2\" halign=\"left\">var</th>\n",
       "    </tr>\n",
       "    <tr>\n",
       "      <th>tariff</th>\n",
       "      <th>smart</th>\n",
       "      <th>ultra</th>\n",
       "      <th>smart</th>\n",
       "      <th>ultra</th>\n",
       "      <th>smart</th>\n",
       "      <th>ultra</th>\n",
       "    </tr>\n",
       "    <tr>\n",
       "      <th>month</th>\n",
       "      <th></th>\n",
       "      <th></th>\n",
       "      <th></th>\n",
       "      <th></th>\n",
       "      <th></th>\n",
       "      <th></th>\n",
       "    </tr>\n",
       "  </thead>\n",
       "  <tbody>\n",
       "    <tr>\n",
       "      <th>1</th>\n",
       "      <td>18.235294</td>\n",
       "      <td>33.777778</td>\n",
       "      <td>16.197753</td>\n",
       "      <td>30.670742</td>\n",
       "      <td>262.367201</td>\n",
       "      <td>940.694444</td>\n",
       "    </tr>\n",
       "    <tr>\n",
       "      <th>2</th>\n",
       "      <td>24.086207</td>\n",
       "      <td>21.958333</td>\n",
       "      <td>21.750809</td>\n",
       "      <td>26.773574</td>\n",
       "      <td>473.097701</td>\n",
       "      <td>716.824275</td>\n",
       "    </tr>\n",
       "    <tr>\n",
       "      <th>3</th>\n",
       "      <td>31.857143</td>\n",
       "      <td>32.297297</td>\n",
       "      <td>26.804710</td>\n",
       "      <td>41.621886</td>\n",
       "      <td>718.492481</td>\n",
       "      <td>1732.381381</td>\n",
       "    </tr>\n",
       "    <tr>\n",
       "      <th>4</th>\n",
       "      <td>30.741071</td>\n",
       "      <td>31.563636</td>\n",
       "      <td>24.538532</td>\n",
       "      <td>37.513831</td>\n",
       "      <td>602.139559</td>\n",
       "      <td>1407.287542</td>\n",
       "    </tr>\n",
       "    <tr>\n",
       "      <th>5</th>\n",
       "      <td>33.773050</td>\n",
       "      <td>37.850746</td>\n",
       "      <td>27.036845</td>\n",
       "      <td>40.306874</td>\n",
       "      <td>730.990983</td>\n",
       "      <td>1624.644052</td>\n",
       "    </tr>\n",
       "    <tr>\n",
       "      <th>6</th>\n",
       "      <td>33.402439</td>\n",
       "      <td>41.726190</td>\n",
       "      <td>28.404337</td>\n",
       "      <td>44.567899</td>\n",
       "      <td>806.806374</td>\n",
       "      <td>1986.297619</td>\n",
       "    </tr>\n",
       "    <tr>\n",
       "      <th>7</th>\n",
       "      <td>33.751244</td>\n",
       "      <td>49.846154</td>\n",
       "      <td>28.282288</td>\n",
       "      <td>48.703621</td>\n",
       "      <td>799.887811</td>\n",
       "      <td>2372.042735</td>\n",
       "    </tr>\n",
       "    <tr>\n",
       "      <th>8</th>\n",
       "      <td>33.638298</td>\n",
       "      <td>48.439252</td>\n",
       "      <td>28.952677</td>\n",
       "      <td>46.601923</td>\n",
       "      <td>838.257501</td>\n",
       "      <td>2171.739199</td>\n",
       "    </tr>\n",
       "    <tr>\n",
       "      <th>9</th>\n",
       "      <td>33.638462</td>\n",
       "      <td>52.286957</td>\n",
       "      <td>28.117927</td>\n",
       "      <td>46.398874</td>\n",
       "      <td>790.617820</td>\n",
       "      <td>2152.855530</td>\n",
       "    </tr>\n",
       "    <tr>\n",
       "      <th>10</th>\n",
       "      <td>33.765306</td>\n",
       "      <td>58.430894</td>\n",
       "      <td>28.567673</td>\n",
       "      <td>51.934398</td>\n",
       "      <td>816.111966</td>\n",
       "      <td>2697.181661</td>\n",
       "    </tr>\n",
       "    <tr>\n",
       "      <th>11</th>\n",
       "      <td>34.075949</td>\n",
       "      <td>55.791045</td>\n",
       "      <td>28.389031</td>\n",
       "      <td>49.768951</td>\n",
       "      <td>805.937071</td>\n",
       "      <td>2476.948491</td>\n",
       "    </tr>\n",
       "    <tr>\n",
       "      <th>12</th>\n",
       "      <td>35.994065</td>\n",
       "      <td>60.611511</td>\n",
       "      <td>30.576990</td>\n",
       "      <td>51.787821</td>\n",
       "      <td>934.952346</td>\n",
       "      <td>2681.978417</td>\n",
       "    </tr>\n",
       "  </tbody>\n",
       "</table>\n",
       "</div>"
      ],
      "text/plain": [
       "             mean                   std                    var             \n",
       "tariff      smart      ultra      smart      ultra       smart        ultra\n",
       "month                                                                      \n",
       "1       18.235294  33.777778  16.197753  30.670742  262.367201   940.694444\n",
       "2       24.086207  21.958333  21.750809  26.773574  473.097701   716.824275\n",
       "3       31.857143  32.297297  26.804710  41.621886  718.492481  1732.381381\n",
       "4       30.741071  31.563636  24.538532  37.513831  602.139559  1407.287542\n",
       "5       33.773050  37.850746  27.036845  40.306874  730.990983  1624.644052\n",
       "6       33.402439  41.726190  28.404337  44.567899  806.806374  1986.297619\n",
       "7       33.751244  49.846154  28.282288  48.703621  799.887811  2372.042735\n",
       "8       33.638298  48.439252  28.952677  46.601923  838.257501  2171.739199\n",
       "9       33.638462  52.286957  28.117927  46.398874  790.617820  2152.855530\n",
       "10      33.765306  58.430894  28.567673  51.934398  816.111966  2697.181661\n",
       "11      34.075949  55.791045  28.389031  49.768951  805.937071  2476.948491\n",
       "12      35.994065  60.611511  30.576990  51.787821  934.952346  2681.978417"
      ]
     },
     "execution_count": 45,
     "metadata": {},
     "output_type": "execute_result"
    }
   ],
   "source": [
    "data_messages_pivot = data_final.pivot_table(index='month', columns='tariff', values='id', aggfunc=('mean', 'std', 'var')).query('month != 0')\n",
    "data_messages_pivot"
   ]
  },
  {
   "cell_type": "code",
   "execution_count": 46,
   "metadata": {},
   "outputs": [
    {
     "data": {
      "image/png": "[encoded data removed]",
      "text/plain": [
       "<Figure size 432x288 with 1 Axes>"
      ]
     },
     "metadata": {
      "needs_background": "light"
     },
     "output_type": "display_data"
    }
   ],
   "source": [
    "# Построим гистограмму со среднем количеством отправленных сообщений в месяц для разных тарифов\n",
    "sns.histplot(data=data_final, x='id', hue = 'tariff').set(ylabel='частота', xlabel='количество', title='Распределение количества отправленных сообщений по тарифам')\n",
    "plt.show()"
   ]
  },
  {
   "cell_type": "markdown",
   "metadata": {},
   "source": [
    "**Вывод:** \n",
    "- Судя по таблице пользователи тарифа Ultra в среднем отправляют больше сообщений, чем пользователи тарифа Smart. \n",
    "- Стандартное отклонение достаточно высокое для обоих тарифов, что может говорить о большом разбросе данных.\n",
    "- Пользователи обоих тарифов в среднем не переходят порог бесплатного лимита. Судя по стандартному отклонению и значениях, близких к порогу, для пользователей тарифа Smart более характерно переплачивание, для пользователей тарифа Ultra оно не вероятно (исходя из закона трех сигм).\n",
    "- На гистограмме также видно, что количество сообщений пользователей тарифа Ultra больше, однако посылают они их не так часто, как пользователи тарифа Smart, у которых более однородная статистика.\n",
    "- Распределение данных обоих тарифов не похоже на нормальное. Вероятно, это можно обьяснить небольшим количеством наблюдений из-за снижения актуальности сообщений."
   ]
  },
  {
   "cell_type": "markdown",
   "metadata": {},
   "source": [
    "### Исследование израсходованного интернет-трафика"
   ]
  },
  {
   "cell_type": "markdown",
   "metadata": {},
   "source": [
    "Посчитаем среднее количество израсходованных гигобайт, дисперсию и стандартное отклонение по месяцам для разных тарифов с помощью сводных таблиц. Перезапишем неиспользуемую переменную data_internet_pivot для экономии памяти."
   ]
  },
  {
   "cell_type": "code",
   "execution_count": 47,
   "metadata": {},
   "outputs": [
    {
     "data": {
      "text/html": [
       "<div>\n",
       "<style scoped>\n",
       "    .dataframe tbody tr th:only-of-type {\n",
       "        vertical-align: middle;\n",
       "    }\n",
       "\n",
       "    .dataframe tbody tr th {\n",
       "        vertical-align: top;\n",
       "    }\n",
       "\n",
       "    .dataframe thead tr th {\n",
       "        text-align: left;\n",
       "    }\n",
       "\n",
       "    .dataframe thead tr:last-of-type th {\n",
       "        text-align: right;\n",
       "    }\n",
       "</style>\n",
       "<table border=\"1\" class=\"dataframe\">\n",
       "  <thead>\n",
       "    <tr>\n",
       "      <th></th>\n",
       "      <th colspan=\"2\" halign=\"left\">mean</th>\n",
       "      <th colspan=\"2\" halign=\"left\">std</th>\n",
       "      <th colspan=\"2\" halign=\"left\">var</th>\n",
       "    </tr>\n",
       "    <tr>\n",
       "      <th>tariff</th>\n",
       "      <th>smart</th>\n",
       "      <th>ultra</th>\n",
       "      <th>smart</th>\n",
       "      <th>ultra</th>\n",
       "      <th>smart</th>\n",
       "      <th>ultra</th>\n",
       "    </tr>\n",
       "    <tr>\n",
       "      <th>month</th>\n",
       "      <th></th>\n",
       "      <th></th>\n",
       "      <th></th>\n",
       "      <th></th>\n",
       "      <th></th>\n",
       "      <th></th>\n",
       "    </tr>\n",
       "  </thead>\n",
       "  <tbody>\n",
       "    <tr>\n",
       "      <th>1</th>\n",
       "      <td>8.735294</td>\n",
       "      <td>13.222222</td>\n",
       "      <td>6.277950</td>\n",
       "      <td>6.666667</td>\n",
       "      <td>39.412655</td>\n",
       "      <td>44.444443</td>\n",
       "    </tr>\n",
       "    <tr>\n",
       "      <th>2</th>\n",
       "      <td>11.844828</td>\n",
       "      <td>12.000000</td>\n",
       "      <td>6.095157</td>\n",
       "      <td>10.446551</td>\n",
       "      <td>37.150936</td>\n",
       "      <td>109.130432</td>\n",
       "    </tr>\n",
       "    <tr>\n",
       "      <th>3</th>\n",
       "      <td>15.233767</td>\n",
       "      <td>17.648649</td>\n",
       "      <td>5.705252</td>\n",
       "      <td>10.693238</td>\n",
       "      <td>32.549896</td>\n",
       "      <td>114.345345</td>\n",
       "    </tr>\n",
       "    <tr>\n",
       "      <th>4</th>\n",
       "      <td>13.625000</td>\n",
       "      <td>16.963636</td>\n",
       "      <td>5.594600</td>\n",
       "      <td>9.457436</td>\n",
       "      <td>31.299549</td>\n",
       "      <td>89.443100</td>\n",
       "    </tr>\n",
       "    <tr>\n",
       "      <th>5</th>\n",
       "      <td>15.907802</td>\n",
       "      <td>19.373135</td>\n",
       "      <td>5.862594</td>\n",
       "      <td>9.779130</td>\n",
       "      <td>34.370010</td>\n",
       "      <td>95.631386</td>\n",
       "    </tr>\n",
       "    <tr>\n",
       "      <th>6</th>\n",
       "      <td>15.951220</td>\n",
       "      <td>18.940475</td>\n",
       "      <td>5.649046</td>\n",
       "      <td>9.077114</td>\n",
       "      <td>31.911716</td>\n",
       "      <td>82.394005</td>\n",
       "    </tr>\n",
       "    <tr>\n",
       "      <th>7</th>\n",
       "      <td>15.875622</td>\n",
       "      <td>20.505495</td>\n",
       "      <td>5.780956</td>\n",
       "      <td>9.819905</td>\n",
       "      <td>33.419453</td>\n",
       "      <td>96.430527</td>\n",
       "    </tr>\n",
       "    <tr>\n",
       "      <th>8</th>\n",
       "      <td>16.736170</td>\n",
       "      <td>19.598131</td>\n",
       "      <td>5.480986</td>\n",
       "      <td>10.254184</td>\n",
       "      <td>30.041208</td>\n",
       "      <td>105.148300</td>\n",
       "    </tr>\n",
       "    <tr>\n",
       "      <th>9</th>\n",
       "      <td>16.392307</td>\n",
       "      <td>19.243479</td>\n",
       "      <td>5.087643</td>\n",
       "      <td>9.287410</td>\n",
       "      <td>25.884111</td>\n",
       "      <td>86.255989</td>\n",
       "    </tr>\n",
       "    <tr>\n",
       "      <th>10</th>\n",
       "      <td>16.880953</td>\n",
       "      <td>20.065041</td>\n",
       "      <td>5.735594</td>\n",
       "      <td>9.552907</td>\n",
       "      <td>32.897041</td>\n",
       "      <td>91.258034</td>\n",
       "    </tr>\n",
       "    <tr>\n",
       "      <th>11</th>\n",
       "      <td>17.000000</td>\n",
       "      <td>19.805969</td>\n",
       "      <td>5.213535</td>\n",
       "      <td>9.684867</td>\n",
       "      <td>27.180952</td>\n",
       "      <td>93.796654</td>\n",
       "    </tr>\n",
       "    <tr>\n",
       "      <th>12</th>\n",
       "      <td>18.201780</td>\n",
       "      <td>21.741007</td>\n",
       "      <td>5.457705</td>\n",
       "      <td>10.160550</td>\n",
       "      <td>29.786545</td>\n",
       "      <td>103.236786</td>\n",
       "    </tr>\n",
       "  </tbody>\n",
       "</table>\n",
       "</div>"
      ],
      "text/plain": [
       "             mean                  std                   var            \n",
       "tariff      smart      ultra     smart      ultra      smart       ultra\n",
       "month                                                                   \n",
       "1        8.735294  13.222222  6.277950   6.666667  39.412655   44.444443\n",
       "2       11.844828  12.000000  6.095157  10.446551  37.150936  109.130432\n",
       "3       15.233767  17.648649  5.705252  10.693238  32.549896  114.345345\n",
       "4       13.625000  16.963636  5.594600   9.457436  31.299549   89.443100\n",
       "5       15.907802  19.373135  5.862594   9.779130  34.370010   95.631386\n",
       "6       15.951220  18.940475  5.649046   9.077114  31.911716   82.394005\n",
       "7       15.875622  20.505495  5.780956   9.819905  33.419453   96.430527\n",
       "8       16.736170  19.598131  5.480986  10.254184  30.041208  105.148300\n",
       "9       16.392307  19.243479  5.087643   9.287410  25.884111   86.255989\n",
       "10      16.880953  20.065041  5.735594   9.552907  32.897041   91.258034\n",
       "11      17.000000  19.805969  5.213535   9.684867  27.180952   93.796654\n",
       "12      18.201780  21.741007  5.457705  10.160550  29.786545  103.236786"
      ]
     },
     "execution_count": 47,
     "metadata": {},
     "output_type": "execute_result"
    }
   ],
   "source": [
    "data_internet_pivot = data_final.pivot_table(index='month', columns='tariff', values='gb_used', aggfunc=('mean', 'std', 'var')).query('month != 0')\n",
    "data_internet_pivot"
   ]
  },
  {
   "cell_type": "code",
   "execution_count": 48,
   "metadata": {},
   "outputs": [
    {
     "data": {
      "image/png": "[encoded data removed]",
      "text/plain": [
       "<Figure size 432x288 with 1 Axes>"
      ]
     },
     "metadata": {
      "needs_background": "light"
     },
     "output_type": "display_data"
    }
   ],
   "source": [
    "# Построим гистограмму с количеством израсходованных гб в месяц для разных тарифов\n",
    "sns.histplot(data=data_final, x='gb_used', hue = 'tariff').set(ylabel='частота', xlabel='количество', title='Распределение количества отправленных сообщений по тарифам')\n",
    "plt.show()"
   ]
  },
  {
   "cell_type": "markdown",
   "metadata": {},
   "source": [
    "**Вывод:** \n",
    "- Судя по таблице, пользователи тарифа Ultra в среднем пользуются интернетом больше, чем пользователи тарифа Smart.\n",
    "- Стандартное отклонение относительно среднее для обоих тарифов, что может говорить об умеренном разбросе данных.\n",
    "- Пользователи тарифа Smart в среднем переходят порог бесплатного лимита или близки к нему, для пользователей тарифа Ultra это не характерно, однако судя по стандартному отклонению и для них вероятно переплачивание.\n",
    "- На гистограмме также видно, что количество израсходованных гб для тарифа Ultra больше.\n",
    "- Распределения похожи на нормальные."
   ]
  },
  {
   "cell_type": "markdown",
   "metadata": {},
   "source": [
    "## Проверка гипотез"
   ]
  },
  {
   "cell_type": "markdown",
   "metadata": {},
   "source": [
    "### Гипотеза: средняя выручка пользователей тарифов «Ультра» и «Смарт» различаются"
   ]
  },
  {
   "cell_type": "markdown",
   "metadata": {},
   "source": [
    "Сформулируем нулевую и альтернативную гипотезы. Нулевая гипотеза - консервативная гипотеза: \n",
    "- H0 = средняя выручка пользователей тарифов «Ультра» и «Смарт» равна. \n",
    "- Н1 = средняя выручка пользователей тарифов «Ультра» и «Смарт» различается."
   ]
  },
  {
   "cell_type": "markdown",
   "metadata": {},
   "source": [
    "Чтобы проверить эту гипотезу нам надо сравнить средние двух выборок. Для проверки статистической значимости результатов используют метод scipy.stats.ttest_ind(). Подготовим данные."
   ]
  },
  {
   "cell_type": "code",
   "execution_count": 49,
   "metadata": {},
   "outputs": [],
   "source": [
    "data_ultra = data_final.query('tariff == \"ultra\"')\n",
    "data_ultra = data_ultra['total_income']"
   ]
  },
  {
   "cell_type": "code",
   "execution_count": 50,
   "metadata": {
    "scrolled": true
   },
   "outputs": [
    {
     "data": {
      "text/plain": [
       "986"
      ]
     },
     "execution_count": 50,
     "metadata": {},
     "output_type": "execute_result"
    }
   ],
   "source": [
    "len(data_ultra)"
   ]
  },
  {
   "cell_type": "code",
   "execution_count": 51,
   "metadata": {},
   "outputs": [],
   "source": [
    "data_smart = data_final.query('tariff == \"smart\"')\n",
    "data_smart = data_smart['total_income']"
   ]
  },
  {
   "cell_type": "code",
   "execution_count": 52,
   "metadata": {},
   "outputs": [
    {
     "data": {
      "text/plain": [
       "2230"
      ]
     },
     "execution_count": 52,
     "metadata": {},
     "output_type": "execute_result"
    }
   ],
   "source": [
    "len(data_smart)"
   ]
  },
  {
   "cell_type": "markdown",
   "metadata": {},
   "source": [
    "Несмотря на то, что выборки не одного размера, они достаточно большие, так что мы можем предположить, что их дисперсии примерно равны и оставить параметр equal_var=True. Пороговое значение alpha принято считать равным 0.05"
   ]
  },
  {
   "cell_type": "code",
   "execution_count": 53,
   "metadata": {},
   "outputs": [
    {
     "data": {
      "text/plain": [
       "True"
      ]
     },
     "execution_count": 53,
     "metadata": {},
     "output_type": "execute_result"
    }
   ],
   "source": [
    "# Проверим нулевую гипотезу\n",
    "alpha = 0.05\n",
    "st.ttest_ind(data_ultra, data_smart).pvalue < alpha"
   ]
  },
  {
   "cell_type": "markdown",
   "metadata": {},
   "source": [
    "P-value меньше значения alpha: отвергаем нулевую гипотезу"
   ]
  },
  {
   "cell_type": "code",
   "execution_count": 54,
   "metadata": {},
   "outputs": [
    {
     "data": {
      "image/png": "[encoded data removed]",
      "text/plain": [
       "<Figure size 432x288 with 1 Axes>"
      ]
     },
     "metadata": {
      "needs_background": "light"
     },
     "output_type": "display_data"
    }
   ],
   "source": [
    "# Для наглядности построим график обеих выборок\n",
    "data_smart.plot(kind='hist', bins=20, alpha=0.5)\n",
    "data_ultra.plot(kind='hist', bins=20, alpha=0.5).set(ylabel='частота', xlabel='средняя выручка', title='Распределние выручки для разных тарифов')\n",
    "plt.legend(['smart', 'ultra'])\n",
    "plt.show()"
   ]
  },
  {
   "cell_type": "code",
   "execution_count": 55,
   "metadata": {},
   "outputs": [
    {
     "data": {
      "text/plain": [
       "2070.030425963489"
      ]
     },
     "execution_count": 55,
     "metadata": {},
     "output_type": "execute_result"
    }
   ],
   "source": [
    "# Дополнительно посчитаем среднюю выручку с каждого пользователя тарифа ultra в месяц\n",
    "data_ultra.mean()"
   ]
  },
  {
   "cell_type": "code",
   "execution_count": 56,
   "metadata": {},
   "outputs": [
    {
     "data": {
      "text/plain": [
       "308434.53346855985"
      ]
     },
     "execution_count": 56,
     "metadata": {},
     "output_type": "execute_result"
    }
   ],
   "source": [
    "# Посчитаем среднюю выручку в месяц в целом по тарифу ultra\n",
    "data_ultra.mean()*len(data_final.query('tariff == \"ultra\"').groupby('user_id')['total_income'].mean())"
   ]
  },
  {
   "cell_type": "code",
   "execution_count": 57,
   "metadata": {},
   "outputs": [
    {
     "data": {
      "text/plain": [
       "1169.5816143497757"
      ]
     },
     "execution_count": 57,
     "metadata": {},
     "output_type": "execute_result"
    }
   ],
   "source": [
    "# Посчитаем среднюю выручку с каждого пользователя тарифа smart в месяц\n",
    "data_smart.mean()"
   ]
  },
  {
   "cell_type": "code",
   "execution_count": 58,
   "metadata": {},
   "outputs": [
    {
     "data": {
      "text/plain": [
       "410523.1466367713"
      ]
     },
     "execution_count": 58,
     "metadata": {},
     "output_type": "execute_result"
    }
   ],
   "source": [
    "# Посчитаем среднюю выручку в месяц в целом по тарифу smart\n",
    "data_smart.mean()*len(data_final.query('tariff == \"smart\"').groupby('user_id')['total_income'].mean())"
   ]
  },
  {
   "cell_type": "markdown",
   "metadata": {},
   "source": [
    "**Вывод:** \n",
    "- таким образом, гипотезу о равенстве двух средних мы не можем принять, следовательно **гипотезу** о том, что средняя выручка пользователей тарифов «Ультра» и «Смарт» различается, **мы отклонить не можем**\n",
    "- судя по полученным числам, средняя выручка с пользователя тарифа Ultra выше, однако пользователей тарифа Smart значительно больше и среднемесячная выручка с них также больше."
   ]
  },
  {
   "cell_type": "markdown",
   "metadata": {},
   "source": [
    "### Гипотеза: средняя выручка пользователей из Москвы отличается от выручки пользователей из других регионов"
   ]
  },
  {
   "cell_type": "markdown",
   "metadata": {},
   "source": [
    "Сформулируем нулевую и альтернативную гипотезы. Нулевая гипотеза - консервативная гипотеза: \n",
    "- H0 = средняя выручка пользователей из Москвы равна выручке пользователей из других регионов\n",
    "- Н1 = средняя выручка пользователей из Москвы отличается от выручки пользователей из других регионов"
   ]
  },
  {
   "cell_type": "markdown",
   "metadata": {},
   "source": [
    "Чтобы проверить эту гипотезу нам надо сравнить средние двух выборок. Для проверки статистической значимости результатов используют метод scipy.stats.ttest_ind(). Подготовим данные."
   ]
  },
  {
   "cell_type": "code",
   "execution_count": 59,
   "metadata": {},
   "outputs": [],
   "source": [
    "data_moscow = data_final.query('city == \"Москва\"')\n",
    "data_moscow = data_moscow['total_income']"
   ]
  },
  {
   "cell_type": "code",
   "execution_count": 60,
   "metadata": {},
   "outputs": [
    {
     "data": {
      "text/plain": [
       "611"
      ]
     },
     "execution_count": 60,
     "metadata": {},
     "output_type": "execute_result"
    }
   ],
   "source": [
    "len(data_moscow)"
   ]
  },
  {
   "cell_type": "code",
   "execution_count": 61,
   "metadata": {},
   "outputs": [],
   "source": [
    "data_not_moscow = data_final.query('city != \"Москва\"')\n",
    "data_not_moscow = data_not_moscow['total_income']"
   ]
  },
  {
   "cell_type": "code",
   "execution_count": 62,
   "metadata": {},
   "outputs": [
    {
     "data": {
      "text/plain": [
       "2605"
      ]
     },
     "execution_count": 62,
     "metadata": {},
     "output_type": "execute_result"
    }
   ],
   "source": [
    "len(data_not_moscow)"
   ]
  },
  {
   "cell_type": "markdown",
   "metadata": {},
   "source": [
    "Несмотря на то, что выборки не одного размера, они достаточно большие, так что мы можем предположить, что их дисперсии примерно равны и оставить параметр equal_var=True. Пороговое значение alpha принято считать равным 0.05."
   ]
  },
  {
   "cell_type": "code",
   "execution_count": 63,
   "metadata": {},
   "outputs": [
    {
     "data": {
      "text/plain": [
       "False"
      ]
     },
     "execution_count": 63,
     "metadata": {},
     "output_type": "execute_result"
    }
   ],
   "source": [
    "# Проверим нулевую гипотезу:\n",
    "alpha = 0.05\n",
    "st.ttest_ind(data_moscow, data_not_moscow).pvalue < alpha"
   ]
  },
  {
   "cell_type": "markdown",
   "metadata": {},
   "source": [
    "P-value больше значения alpha: мы не можем отклонить нулевую гипотезу"
   ]
  },
  {
   "cell_type": "code",
   "execution_count": 64,
   "metadata": {
    "scrolled": true
   },
   "outputs": [
    {
     "data": {
      "image/png": "[encoded data removed]",
      "text/plain": [
       "<Figure size 432x288 with 1 Axes>"
      ]
     },
     "metadata": {
      "needs_background": "light"
     },
     "output_type": "display_data"
    }
   ],
   "source": [
    "# Для наглядности построим график для обеих выборок\n",
    "data_moscow.plot(kind='hist', bins=15, alpha=0.5)\n",
    "data_not_moscow.plot(kind='hist', bins=15, alpha=0.5).set(ylabel='частота', xlabel='средняя выручка', title='Распределение выручки для Москвы и остальных регионов')\n",
    "plt.legend(['Из Москвы', 'Не из Москвы'])\n",
    "plt.show()"
   ]
  },
  {
   "cell_type": "markdown",
   "metadata": {},
   "source": [
    "**Вывод:** таким образом, мы не можем опровергнуть гипотезу о равенстве двух средних, следовательно мы **не можем подтвердить гипотезу** о том, что средняя выручка пользователей из Москвы и из других регионов различается. Однако по графику заметно, что выручка пользователей не из Москвы сильно отличается."
   ]
  },
  {
   "cell_type": "markdown",
   "metadata": {},
   "source": [
    "## Общий вывод"
   ]
  },
  {
   "cell_type": "markdown",
   "metadata": {},
   "source": [
    "Таким образом, исследование было выполнено в пять этапов:\n",
    "\n",
    "1. **Обзор данных.** На этом этапе были изучены 4 таблицы на предмет пропусков и аномалий.\n",
    "2. **Предобработка данных.** На данном этапе были устранены аномалии и изменены типы данных на нужные.\n",
    "3. **Подготовка данных: рассчеты.** На этом этапе были посчитано помесячное количество звонков, количество отправленных сообщений, объем израсходованного интернет-трафика. Исходя из этих данных была посчитана помесячная выручка с каждого пользователя.\n",
    "4. **Исследовательский анализ**. На этом этапе было проанализированно поведение клиентов \"Мегалайн\", посчитаны среднее, дисперсия и стандартное отлонение.\n",
    "5. **Проверка гипотез.** На этом этапе гипотезы были проверены на статистическую значимость и сделаны выводы.\n",
    "\n",
    "**Исследовательский анализ: выводы**\n",
    "- **Исследование длительности звонков:** пользователи тарифа Ultra в среднем разговаривают дольше, чем пользователи тарифа Smart. Пользователи обоих тарифов в среднем не переходят порог бесплатного лимита, однако судя по стандартному отклонению и значениях, близких к порогу, для пользователей тарифа Smart более характерно переплачивание.\n",
    "- **Исследование количества отправленных сообщений:** пользователи тарифа Ultra в среднем отправляют больше сообщений, чем пользователи тарифа Smart. Пользователи обоих тарифов в среднем не переходят порог бесплатного лимита. Судя по стандартному отклонению и значениях, близких к порогу, для пользователей тарифа Smart более характерно переплачивание, для пользователей тарифа Ultra оно не вероятно (исходя из закона трех сигм).\n",
    "- **Исследование израсходованного интернет-трафика:** пользователи тарифа Ultra в среднем пользуются интернетом больше, чем пользователи тарифа Smart. Пользователи тарифа Smart в среднем переходят порог бесплатного лимита или близки к нему, для пользователей тарифа Ultra это не характерно, однако судя по стандартному отклонению и для них вероятно переплачивание.\n",
    "\n",
    "**Проверка гипотез: выводы**\n",
    "1. Гипотеза: средняя выручка пользователей тарифов «Ультра» и «Смарт» различаются - не отклонена.\n",
    "2. Гипотеза: средняя выручка пользователей из Москвы отличается от выручки пользователей из других регионов - не была подтверждена.\n",
    "\n",
    "**Вывод:** судя по графику средней помесячной выручки с каждого пользователя smart и ultra, а также средней выручки в месяц в целом с обоих тарифов (Ultra ~ 308000 руб., Smart ~ 410000 руб.) и учитывая сильную разницу в количестве пользователей обоих тарифов (пользователей тарифа Smart гораздо больше), можно сделать вывод, что тариф Smart является более прибыльным тарифом."
   ]
  }
 ],
 "metadata": {
  "ExecuteTimeLog": [
   {
    "duration": 8237,
    "start_time": "2022-04-13T15:25:31.827Z"
   },
   {
    "duration": 393,
    "start_time": "2022-04-13T15:54:20.348Z"
   },
   {
    "duration": 67,
    "start_time": "2022-04-13T16:00:21.836Z"
   },
   {
    "duration": 513,
    "start_time": "2022-04-14T14:21:26.354Z"
   },
   {
    "duration": 68,
    "start_time": "2022-04-14T14:21:26.869Z"
   },
   {
    "duration": 37,
    "start_time": "2022-04-14T14:22:18.560Z"
   },
   {
    "duration": 220,
    "start_time": "2022-04-14T14:24:22.766Z"
   },
   {
    "duration": 3,
    "start_time": "2022-04-14T14:31:51.467Z"
   },
   {
    "duration": 512,
    "start_time": "2022-04-14T14:31:52.821Z"
   },
   {
    "duration": 238,
    "start_time": "2022-04-14T14:32:13.471Z"
   },
   {
    "duration": 181,
    "start_time": "2022-04-14T14:33:17.633Z"
   },
   {
    "duration": 177,
    "start_time": "2022-04-14T14:33:24.605Z"
   },
   {
    "duration": 748,
    "start_time": "2022-04-14T14:34:03.773Z"
   },
   {
    "duration": 46,
    "start_time": "2022-04-14T14:34:43.870Z"
   },
   {
    "duration": 195,
    "start_time": "2022-04-14T14:35:01.460Z"
   },
   {
    "duration": 4,
    "start_time": "2022-04-14T15:13:40.818Z"
   },
   {
    "duration": 203,
    "start_time": "2022-04-14T15:13:40.825Z"
   },
   {
    "duration": 170,
    "start_time": "2022-04-14T15:13:41.030Z"
   },
   {
    "duration": 122,
    "start_time": "2022-04-14T15:13:41.203Z"
   },
   {
    "duration": 24,
    "start_time": "2022-04-14T15:13:41.328Z"
   },
   {
    "duration": 218,
    "start_time": "2022-04-14T15:14:06.248Z"
   },
   {
    "duration": 194,
    "start_time": "2022-04-14T15:14:48.691Z"
   },
   {
    "duration": 121,
    "start_time": "2022-04-14T15:15:13.094Z"
   },
   {
    "duration": 29,
    "start_time": "2022-04-14T15:15:54.048Z"
   },
   {
    "duration": 43,
    "start_time": "2022-04-14T15:16:04.769Z"
   },
   {
    "duration": 34,
    "start_time": "2022-04-14T15:19:04.152Z"
   },
   {
    "duration": 30,
    "start_time": "2022-04-14T15:19:31.503Z"
   },
   {
    "duration": 25,
    "start_time": "2022-04-14T15:19:51.773Z"
   },
   {
    "duration": 16,
    "start_time": "2022-04-14T15:20:16.692Z"
   },
   {
    "duration": 446,
    "start_time": "2022-04-15T08:01:13.316Z"
   },
   {
    "duration": 204,
    "start_time": "2022-04-15T08:01:13.765Z"
   },
   {
    "duration": 38,
    "start_time": "2022-04-15T08:01:13.971Z"
   },
   {
    "duration": 100,
    "start_time": "2022-04-15T08:01:14.012Z"
   },
   {
    "duration": 0,
    "start_time": "2022-04-15T08:01:14.115Z"
   },
   {
    "duration": 0,
    "start_time": "2022-04-15T08:01:14.117Z"
   },
   {
    "duration": 0,
    "start_time": "2022-04-15T08:01:14.118Z"
   },
   {
    "duration": 0,
    "start_time": "2022-04-15T08:01:14.120Z"
   },
   {
    "duration": 0,
    "start_time": "2022-04-15T08:01:14.122Z"
   },
   {
    "duration": 0,
    "start_time": "2022-04-15T08:01:14.123Z"
   },
   {
    "duration": 0,
    "start_time": "2022-04-15T08:01:14.125Z"
   },
   {
    "duration": 12,
    "start_time": "2022-04-15T08:01:24.257Z"
   },
   {
    "duration": 7,
    "start_time": "2022-04-15T08:01:40.453Z"
   },
   {
    "duration": 10,
    "start_time": "2022-04-15T08:02:16.443Z"
   },
   {
    "duration": 6,
    "start_time": "2022-04-15T08:06:41.060Z"
   },
   {
    "duration": 3,
    "start_time": "2022-04-15T08:06:56.572Z"
   },
   {
    "duration": 203,
    "start_time": "2022-04-15T08:06:56.578Z"
   },
   {
    "duration": 32,
    "start_time": "2022-04-15T08:06:56.783Z"
   },
   {
    "duration": 7,
    "start_time": "2022-04-15T08:06:56.818Z"
   },
   {
    "duration": 291,
    "start_time": "2022-04-15T08:06:56.828Z"
   },
   {
    "duration": 27,
    "start_time": "2022-04-15T08:06:57.121Z"
   },
   {
    "duration": 122,
    "start_time": "2022-04-15T08:06:57.150Z"
   },
   {
    "duration": 29,
    "start_time": "2022-04-15T08:06:57.274Z"
   },
   {
    "duration": 20,
    "start_time": "2022-04-15T08:06:57.306Z"
   },
   {
    "duration": 30,
    "start_time": "2022-04-15T08:06:57.329Z"
   },
   {
    "duration": 32,
    "start_time": "2022-04-15T08:06:57.362Z"
   },
   {
    "duration": 6,
    "start_time": "2022-04-15T08:07:19.785Z"
   },
   {
    "duration": 5,
    "start_time": "2022-04-15T08:08:06.351Z"
   },
   {
    "duration": 11,
    "start_time": "2022-04-15T08:23:53.129Z"
   },
   {
    "duration": 23,
    "start_time": "2022-04-15T08:24:03.957Z"
   },
   {
    "duration": 17,
    "start_time": "2022-04-15T08:24:19.795Z"
   },
   {
    "duration": 17,
    "start_time": "2022-04-15T08:30:41.667Z"
   },
   {
    "duration": 8,
    "start_time": "2022-04-15T08:37:58.503Z"
   },
   {
    "duration": 17,
    "start_time": "2022-04-15T08:38:09.918Z"
   },
   {
    "duration": 15,
    "start_time": "2022-04-15T08:38:23.781Z"
   },
   {
    "duration": 16,
    "start_time": "2022-04-15T08:38:35.544Z"
   },
   {
    "duration": 3,
    "start_time": "2022-04-15T08:38:43.148Z"
   },
   {
    "duration": 202,
    "start_time": "2022-04-15T08:38:43.157Z"
   },
   {
    "duration": 47,
    "start_time": "2022-04-15T08:38:43.363Z"
   },
   {
    "duration": 6,
    "start_time": "2022-04-15T08:38:43.412Z"
   },
   {
    "duration": 178,
    "start_time": "2022-04-15T08:38:43.421Z"
   },
   {
    "duration": 29,
    "start_time": "2022-04-15T08:38:43.601Z"
   },
   {
    "duration": 6,
    "start_time": "2022-04-15T08:38:43.633Z"
   },
   {
    "duration": 138,
    "start_time": "2022-04-15T08:38:43.641Z"
   },
   {
    "duration": 25,
    "start_time": "2022-04-15T08:38:43.782Z"
   },
   {
    "duration": 7,
    "start_time": "2022-04-15T08:38:43.809Z"
   },
   {
    "duration": 20,
    "start_time": "2022-04-15T08:38:43.819Z"
   },
   {
    "duration": 56,
    "start_time": "2022-04-15T08:38:43.841Z"
   },
   {
    "duration": 17,
    "start_time": "2022-04-15T08:38:43.900Z"
   },
   {
    "duration": 18,
    "start_time": "2022-04-15T08:38:43.919Z"
   },
   {
    "duration": 16,
    "start_time": "2022-04-15T08:39:04.107Z"
   },
   {
    "duration": 4,
    "start_time": "2022-04-15T08:41:52.044Z"
   },
   {
    "duration": 13,
    "start_time": "2022-04-15T08:42:23.538Z"
   },
   {
    "duration": 4,
    "start_time": "2022-04-15T08:42:41.040Z"
   },
   {
    "duration": 16,
    "start_time": "2022-04-15T08:42:41.574Z"
   },
   {
    "duration": 3,
    "start_time": "2022-04-15T08:42:48.128Z"
   },
   {
    "duration": 230,
    "start_time": "2022-04-15T08:42:48.134Z"
   },
   {
    "duration": 34,
    "start_time": "2022-04-15T08:42:48.381Z"
   },
   {
    "duration": 7,
    "start_time": "2022-04-15T08:42:48.418Z"
   },
   {
    "duration": 207,
    "start_time": "2022-04-15T08:42:48.428Z"
   },
   {
    "duration": 44,
    "start_time": "2022-04-15T08:42:48.638Z"
   },
   {
    "duration": 6,
    "start_time": "2022-04-15T08:42:48.685Z"
   },
   {
    "duration": 175,
    "start_time": "2022-04-15T08:42:48.694Z"
   },
   {
    "duration": 34,
    "start_time": "2022-04-15T08:42:48.871Z"
   },
   {
    "duration": 5,
    "start_time": "2022-04-15T08:42:48.908Z"
   },
   {
    "duration": 23,
    "start_time": "2022-04-15T08:42:48.917Z"
   },
   {
    "duration": 65,
    "start_time": "2022-04-15T08:42:48.942Z"
   },
   {
    "duration": 20,
    "start_time": "2022-04-15T08:42:49.009Z"
   },
   {
    "duration": 9,
    "start_time": "2022-04-15T08:42:49.031Z"
   },
   {
    "duration": 40,
    "start_time": "2022-04-15T08:42:49.043Z"
   },
   {
    "duration": 14,
    "start_time": "2022-04-15T08:42:49.086Z"
   },
   {
    "duration": 5,
    "start_time": "2022-04-15T08:44:10.766Z"
   },
   {
    "duration": 295,
    "start_time": "2022-04-15T08:44:10.777Z"
   },
   {
    "duration": 53,
    "start_time": "2022-04-15T08:44:11.083Z"
   },
   {
    "duration": 9,
    "start_time": "2022-04-15T08:44:11.138Z"
   },
   {
    "duration": 220,
    "start_time": "2022-04-15T08:44:11.150Z"
   },
   {
    "duration": 38,
    "start_time": "2022-04-15T08:44:11.373Z"
   },
   {
    "duration": 7,
    "start_time": "2022-04-15T08:44:11.413Z"
   },
   {
    "duration": 139,
    "start_time": "2022-04-15T08:44:11.422Z"
   },
   {
    "duration": 38,
    "start_time": "2022-04-15T08:44:11.564Z"
   },
   {
    "duration": 7,
    "start_time": "2022-04-15T08:44:11.604Z"
   },
   {
    "duration": 19,
    "start_time": "2022-04-15T08:44:11.617Z"
   },
   {
    "duration": 68,
    "start_time": "2022-04-15T08:44:11.639Z"
   },
   {
    "duration": 15,
    "start_time": "2022-04-15T08:44:11.710Z"
   },
   {
    "duration": 7,
    "start_time": "2022-04-15T08:44:11.728Z"
   },
   {
    "duration": 43,
    "start_time": "2022-04-15T08:44:11.738Z"
   },
   {
    "duration": 18,
    "start_time": "2022-04-15T08:44:11.784Z"
   },
   {
    "duration": 10,
    "start_time": "2022-04-15T08:46:36.402Z"
   },
   {
    "duration": 18,
    "start_time": "2022-04-15T08:46:50.324Z"
   },
   {
    "duration": 5,
    "start_time": "2022-04-15T08:49:31.190Z"
   },
   {
    "duration": 30,
    "start_time": "2022-04-15T08:49:40.609Z"
   },
   {
    "duration": 36,
    "start_time": "2022-04-15T08:51:42.081Z"
   },
   {
    "duration": 187,
    "start_time": "2022-04-15T08:55:04.806Z"
   },
   {
    "duration": 261,
    "start_time": "2022-04-15T08:55:32.242Z"
   },
   {
    "duration": 131,
    "start_time": "2022-04-15T08:57:05.689Z"
   },
   {
    "duration": 208,
    "start_time": "2022-04-15T08:57:49.719Z"
   },
   {
    "duration": 55,
    "start_time": "2022-04-15T08:59:13.414Z"
   },
   {
    "duration": 4,
    "start_time": "2022-04-15T09:01:04.354Z"
   },
   {
    "duration": 240,
    "start_time": "2022-04-15T09:01:04.804Z"
   },
   {
    "duration": 34,
    "start_time": "2022-04-15T09:01:05.441Z"
   },
   {
    "duration": 7,
    "start_time": "2022-04-15T09:01:06.432Z"
   },
   {
    "duration": 197,
    "start_time": "2022-04-15T09:01:06.657Z"
   },
   {
    "duration": 43,
    "start_time": "2022-04-15T09:01:06.858Z"
   },
   {
    "duration": 8,
    "start_time": "2022-04-15T09:01:07.333Z"
   },
   {
    "duration": 114,
    "start_time": "2022-04-15T09:01:07.362Z"
   },
   {
    "duration": 1940,
    "start_time": "2022-04-15T09:07:21.982Z"
   },
   {
    "duration": 68,
    "start_time": "2022-04-15T09:08:01.118Z"
   },
   {
    "duration": 74,
    "start_time": "2022-04-15T09:08:08.333Z"
   },
   {
    "duration": 45,
    "start_time": "2022-04-16T10:04:14.951Z"
   },
   {
    "duration": 408,
    "start_time": "2022-04-16T10:04:21.575Z"
   },
   {
    "duration": 188,
    "start_time": "2022-04-16T10:04:21.985Z"
   },
   {
    "duration": 22,
    "start_time": "2022-04-16T10:04:22.175Z"
   },
   {
    "duration": 5,
    "start_time": "2022-04-16T10:04:22.200Z"
   },
   {
    "duration": 146,
    "start_time": "2022-04-16T10:04:22.206Z"
   },
   {
    "duration": 18,
    "start_time": "2022-04-16T10:04:22.354Z"
   },
   {
    "duration": 4,
    "start_time": "2022-04-16T10:04:22.373Z"
   },
   {
    "duration": 91,
    "start_time": "2022-04-16T10:04:22.378Z"
   },
   {
    "duration": 17,
    "start_time": "2022-04-16T10:04:22.471Z"
   },
   {
    "duration": 5,
    "start_time": "2022-04-16T10:04:22.501Z"
   },
   {
    "duration": 20,
    "start_time": "2022-04-16T10:04:22.508Z"
   },
   {
    "duration": 44,
    "start_time": "2022-04-16T10:04:22.529Z"
   },
   {
    "duration": 9,
    "start_time": "2022-04-16T10:04:22.575Z"
   },
   {
    "duration": 15,
    "start_time": "2022-04-16T10:04:22.585Z"
   },
   {
    "duration": 23,
    "start_time": "2022-04-16T10:04:22.602Z"
   },
   {
    "duration": 19,
    "start_time": "2022-04-16T10:04:22.627Z"
   },
   {
    "duration": 61,
    "start_time": "2022-04-16T10:04:22.648Z"
   },
   {
    "duration": 54,
    "start_time": "2022-04-16T10:04:31.833Z"
   },
   {
    "duration": 59,
    "start_time": "2022-04-16T10:13:55.464Z"
   },
   {
    "duration": 29,
    "start_time": "2022-04-16T10:14:16.291Z"
   },
   {
    "duration": 2,
    "start_time": "2022-04-16T10:14:54.081Z"
   },
   {
    "duration": 183,
    "start_time": "2022-04-16T10:14:54.085Z"
   },
   {
    "duration": 32,
    "start_time": "2022-04-16T10:14:54.270Z"
   },
   {
    "duration": 4,
    "start_time": "2022-04-16T10:14:54.304Z"
   },
   {
    "duration": 151,
    "start_time": "2022-04-16T10:14:54.310Z"
   },
   {
    "duration": 20,
    "start_time": "2022-04-16T10:14:54.462Z"
   },
   {
    "duration": 18,
    "start_time": "2022-04-16T10:14:54.483Z"
   },
   {
    "duration": 91,
    "start_time": "2022-04-16T10:14:54.502Z"
   },
   {
    "duration": 17,
    "start_time": "2022-04-16T10:14:54.594Z"
   },
   {
    "duration": 4,
    "start_time": "2022-04-16T10:14:54.612Z"
   },
   {
    "duration": 19,
    "start_time": "2022-04-16T10:14:54.618Z"
   },
   {
    "duration": 65,
    "start_time": "2022-04-16T10:14:54.638Z"
   },
   {
    "duration": 9,
    "start_time": "2022-04-16T10:14:54.704Z"
   },
   {
    "duration": 16,
    "start_time": "2022-04-16T10:14:54.714Z"
   },
   {
    "duration": 23,
    "start_time": "2022-04-16T10:14:54.731Z"
   },
   {
    "duration": 19,
    "start_time": "2022-04-16T10:14:54.755Z"
   },
   {
    "duration": 82,
    "start_time": "2022-04-16T10:14:54.775Z"
   },
   {
    "duration": 42,
    "start_time": "2022-04-16T10:14:54.859Z"
   },
   {
    "duration": 8,
    "start_time": "2022-04-16T10:15:50.209Z"
   },
   {
    "duration": 9,
    "start_time": "2022-04-16T10:15:56.743Z"
   },
   {
    "duration": 2,
    "start_time": "2022-04-16T10:16:07.306Z"
   },
   {
    "duration": 168,
    "start_time": "2022-04-16T10:16:07.310Z"
   },
   {
    "duration": 27,
    "start_time": "2022-04-16T10:16:07.480Z"
   },
   {
    "duration": 5,
    "start_time": "2022-04-16T10:16:07.509Z"
   },
   {
    "duration": 149,
    "start_time": "2022-04-16T10:16:07.515Z"
   },
   {
    "duration": 19,
    "start_time": "2022-04-16T10:16:07.666Z"
   },
   {
    "duration": 13,
    "start_time": "2022-04-16T10:16:07.687Z"
   },
   {
    "duration": 84,
    "start_time": "2022-04-16T10:16:07.702Z"
   },
   {
    "duration": 18,
    "start_time": "2022-04-16T10:16:07.788Z"
   },
   {
    "duration": 4,
    "start_time": "2022-04-16T10:16:07.807Z"
   },
   {
    "duration": 22,
    "start_time": "2022-04-16T10:16:07.813Z"
   },
   {
    "duration": 45,
    "start_time": "2022-04-16T10:16:07.836Z"
   },
   {
    "duration": 9,
    "start_time": "2022-04-16T10:16:07.882Z"
   },
   {
    "duration": 11,
    "start_time": "2022-04-16T10:16:07.893Z"
   },
   {
    "duration": 22,
    "start_time": "2022-04-16T10:16:07.906Z"
   },
   {
    "duration": 19,
    "start_time": "2022-04-16T10:16:07.929Z"
   },
   {
    "duration": 73,
    "start_time": "2022-04-16T10:16:07.950Z"
   },
   {
    "duration": 64,
    "start_time": "2022-04-16T10:16:08.024Z"
   },
   {
    "duration": 2,
    "start_time": "2022-04-16T10:17:49.972Z"
   },
   {
    "duration": 175,
    "start_time": "2022-04-16T10:17:49.975Z"
   },
   {
    "duration": 22,
    "start_time": "2022-04-16T10:17:50.152Z"
   },
   {
    "duration": 4,
    "start_time": "2022-04-16T10:17:50.175Z"
   },
   {
    "duration": 157,
    "start_time": "2022-04-16T10:17:50.181Z"
   },
   {
    "duration": 19,
    "start_time": "2022-04-16T10:17:50.339Z"
   },
   {
    "duration": 4,
    "start_time": "2022-04-16T10:17:50.360Z"
   },
   {
    "duration": 99,
    "start_time": "2022-04-16T10:17:50.365Z"
   },
   {
    "duration": 16,
    "start_time": "2022-04-16T10:17:50.465Z"
   },
   {
    "duration": 18,
    "start_time": "2022-04-16T10:17:50.483Z"
   },
   {
    "duration": 20,
    "start_time": "2022-04-16T10:17:50.503Z"
   },
   {
    "duration": 46,
    "start_time": "2022-04-16T10:17:50.525Z"
   },
   {
    "duration": 10,
    "start_time": "2022-04-16T10:17:50.572Z"
   },
   {
    "duration": 15,
    "start_time": "2022-04-16T10:17:50.583Z"
   },
   {
    "duration": 24,
    "start_time": "2022-04-16T10:17:50.599Z"
   },
   {
    "duration": 22,
    "start_time": "2022-04-16T10:17:50.624Z"
   },
   {
    "duration": 70,
    "start_time": "2022-04-16T10:17:50.647Z"
   },
   {
    "duration": 15,
    "start_time": "2022-04-16T10:17:50.718Z"
   },
   {
    "duration": 76,
    "start_time": "2022-04-16T10:17:50.734Z"
   },
   {
    "duration": 14,
    "start_time": "2022-04-16T10:18:33.798Z"
   },
   {
    "duration": 2,
    "start_time": "2022-04-16T10:18:41.651Z"
   },
   {
    "duration": 188,
    "start_time": "2022-04-16T10:18:41.655Z"
   },
   {
    "duration": 22,
    "start_time": "2022-04-16T10:18:41.844Z"
   },
   {
    "duration": 4,
    "start_time": "2022-04-16T10:18:41.868Z"
   },
   {
    "duration": 158,
    "start_time": "2022-04-16T10:18:41.874Z"
   },
   {
    "duration": 19,
    "start_time": "2022-04-16T10:18:42.034Z"
   },
   {
    "duration": 4,
    "start_time": "2022-04-16T10:18:42.054Z"
   },
   {
    "duration": 91,
    "start_time": "2022-04-16T10:18:42.059Z"
   },
   {
    "duration": 17,
    "start_time": "2022-04-16T10:18:42.152Z"
   },
   {
    "duration": 4,
    "start_time": "2022-04-16T10:18:42.170Z"
   },
   {
    "duration": 29,
    "start_time": "2022-04-16T10:18:42.176Z"
   },
   {
    "duration": 45,
    "start_time": "2022-04-16T10:18:42.206Z"
   },
   {
    "duration": 9,
    "start_time": "2022-04-16T10:18:42.252Z"
   },
   {
    "duration": 15,
    "start_time": "2022-04-16T10:18:42.262Z"
   },
   {
    "duration": 22,
    "start_time": "2022-04-16T10:18:42.279Z"
   },
   {
    "duration": 19,
    "start_time": "2022-04-16T10:18:42.303Z"
   },
   {
    "duration": 49,
    "start_time": "2022-04-16T10:18:42.323Z"
   },
   {
    "duration": 31,
    "start_time": "2022-04-16T10:18:42.374Z"
   },
   {
    "duration": 65,
    "start_time": "2022-04-16T10:18:42.406Z"
   },
   {
    "duration": 3,
    "start_time": "2022-04-16T10:19:11.061Z"
   },
   {
    "duration": 177,
    "start_time": "2022-04-16T10:19:11.065Z"
   },
   {
    "duration": 23,
    "start_time": "2022-04-16T10:19:11.244Z"
   },
   {
    "duration": 4,
    "start_time": "2022-04-16T10:19:11.268Z"
   },
   {
    "duration": 151,
    "start_time": "2022-04-16T10:19:11.274Z"
   },
   {
    "duration": 18,
    "start_time": "2022-04-16T10:19:11.426Z"
   },
   {
    "duration": 4,
    "start_time": "2022-04-16T10:19:11.446Z"
   },
   {
    "duration": 93,
    "start_time": "2022-04-16T10:19:11.451Z"
   },
   {
    "duration": 16,
    "start_time": "2022-04-16T10:19:11.546Z"
   },
   {
    "duration": 3,
    "start_time": "2022-04-16T10:19:11.564Z"
   },
   {
    "duration": 19,
    "start_time": "2022-04-16T10:19:11.569Z"
   },
   {
    "duration": 44,
    "start_time": "2022-04-16T10:19:11.590Z"
   },
   {
    "duration": 9,
    "start_time": "2022-04-16T10:19:11.635Z"
   },
   {
    "duration": 12,
    "start_time": "2022-04-16T10:19:11.646Z"
   },
   {
    "duration": 23,
    "start_time": "2022-04-16T10:19:11.660Z"
   },
   {
    "duration": 24,
    "start_time": "2022-04-16T10:19:11.685Z"
   },
   {
    "duration": 60,
    "start_time": "2022-04-16T10:19:11.711Z"
   },
   {
    "duration": 35,
    "start_time": "2022-04-16T10:19:11.773Z"
   },
   {
    "duration": 44,
    "start_time": "2022-04-16T10:19:11.810Z"
   },
   {
    "duration": 61,
    "start_time": "2022-04-16T10:20:14.308Z"
   },
   {
    "duration": 65,
    "start_time": "2022-04-16T10:23:01.832Z"
   },
   {
    "duration": 3,
    "start_time": "2022-04-16T10:27:18.636Z"
   },
   {
    "duration": 36,
    "start_time": "2022-04-16T10:27:28.224Z"
   },
   {
    "duration": 3,
    "start_time": "2022-04-16T10:29:52.864Z"
   },
   {
    "duration": 20,
    "start_time": "2022-04-16T10:30:26.054Z"
   },
   {
    "duration": 38,
    "start_time": "2022-04-16T10:35:05.221Z"
   },
   {
    "duration": 8,
    "start_time": "2022-04-16T10:37:55.557Z"
   },
   {
    "duration": 7,
    "start_time": "2022-04-16T10:38:02.016Z"
   },
   {
    "duration": 42,
    "start_time": "2022-04-16T10:38:08.378Z"
   },
   {
    "duration": 252,
    "start_time": "2022-04-16T10:38:50.758Z"
   },
   {
    "duration": 18,
    "start_time": "2022-04-16T10:39:28.683Z"
   },
   {
    "duration": 12,
    "start_time": "2022-04-16T10:40:40.809Z"
   },
   {
    "duration": 186,
    "start_time": "2022-04-16T10:41:02.305Z"
   },
   {
    "duration": 203,
    "start_time": "2022-04-16T10:41:15.762Z"
   },
   {
    "duration": 43,
    "start_time": "2022-04-16T10:41:21.107Z"
   },
   {
    "duration": 69,
    "start_time": "2022-04-16T10:44:08.554Z"
   },
   {
    "duration": 43,
    "start_time": "2022-04-16T10:46:50.800Z"
   },
   {
    "duration": 22,
    "start_time": "2022-04-16T10:49:02.103Z"
   },
   {
    "duration": 4,
    "start_time": "2022-04-16T10:52:07.848Z"
   },
   {
    "duration": 22,
    "start_time": "2022-04-16T10:52:12.066Z"
   },
   {
    "duration": 23,
    "start_time": "2022-04-16T10:53:26.681Z"
   },
   {
    "duration": 23,
    "start_time": "2022-04-16T10:53:31.917Z"
   },
   {
    "duration": 15,
    "start_time": "2022-04-16T10:53:55.061Z"
   },
   {
    "duration": 14,
    "start_time": "2022-04-16T10:54:01.676Z"
   },
   {
    "duration": 21,
    "start_time": "2022-04-16T10:54:55.614Z"
   },
   {
    "duration": 21,
    "start_time": "2022-04-16T10:55:12.409Z"
   },
   {
    "duration": 3,
    "start_time": "2022-04-16T10:55:19.351Z"
   },
   {
    "duration": 258,
    "start_time": "2022-04-16T10:55:19.356Z"
   },
   {
    "duration": 39,
    "start_time": "2022-04-16T10:55:19.616Z"
   },
   {
    "duration": 7,
    "start_time": "2022-04-16T10:55:19.658Z"
   },
   {
    "duration": 264,
    "start_time": "2022-04-16T10:55:19.666Z"
   },
   {
    "duration": 20,
    "start_time": "2022-04-16T10:55:19.932Z"
   },
   {
    "duration": 5,
    "start_time": "2022-04-16T10:55:19.953Z"
   },
   {
    "duration": 104,
    "start_time": "2022-04-16T10:55:19.959Z"
   },
   {
    "duration": 18,
    "start_time": "2022-04-16T10:55:20.065Z"
   },
   {
    "duration": 16,
    "start_time": "2022-04-16T10:55:20.085Z"
   },
   {
    "duration": 24,
    "start_time": "2022-04-16T10:55:20.102Z"
   },
   {
    "duration": 40,
    "start_time": "2022-04-16T10:55:20.128Z"
   },
   {
    "duration": 14,
    "start_time": "2022-04-16T10:55:20.171Z"
   },
   {
    "duration": 19,
    "start_time": "2022-04-16T10:55:20.186Z"
   },
   {
    "duration": 45,
    "start_time": "2022-04-16T10:55:20.207Z"
   },
   {
    "duration": 46,
    "start_time": "2022-04-16T10:55:20.254Z"
   },
   {
    "duration": 100,
    "start_time": "2022-04-16T10:55:20.302Z"
   },
   {
    "duration": 116,
    "start_time": "2022-04-16T10:55:20.404Z"
   },
   {
    "duration": 17,
    "start_time": "2022-04-16T10:55:20.523Z"
   },
   {
    "duration": 71,
    "start_time": "2022-04-16T10:55:20.543Z"
   },
   {
    "duration": 34,
    "start_time": "2022-04-16T10:55:20.616Z"
   },
   {
    "duration": 74,
    "start_time": "2022-04-16T10:55:20.652Z"
   },
   {
    "duration": 36,
    "start_time": "2022-04-16T10:55:20.728Z"
   },
   {
    "duration": 34,
    "start_time": "2022-04-16T10:55:20.767Z"
   },
   {
    "duration": 12,
    "start_time": "2022-04-16T10:55:20.803Z"
   },
   {
    "duration": 49,
    "start_time": "2022-04-16T10:55:20.816Z"
   },
   {
    "duration": 52,
    "start_time": "2022-04-16T10:55:20.867Z"
   },
   {
    "duration": 16,
    "start_time": "2022-04-16T10:55:20.920Z"
   },
   {
    "duration": 22,
    "start_time": "2022-04-16T10:55:20.938Z"
   },
   {
    "duration": 52,
    "start_time": "2022-04-16T10:55:20.962Z"
   },
   {
    "duration": 19,
    "start_time": "2022-04-16T10:55:33.628Z"
   },
   {
    "duration": 3,
    "start_time": "2022-04-16T10:55:37.675Z"
   },
   {
    "duration": 186,
    "start_time": "2022-04-16T10:55:37.679Z"
   },
   {
    "duration": 34,
    "start_time": "2022-04-16T10:55:37.867Z"
   },
   {
    "duration": 5,
    "start_time": "2022-04-16T10:55:37.903Z"
   },
   {
    "duration": 154,
    "start_time": "2022-04-16T10:55:37.911Z"
   },
   {
    "duration": 21,
    "start_time": "2022-04-16T10:55:38.067Z"
   },
   {
    "duration": 5,
    "start_time": "2022-04-16T10:55:38.100Z"
   },
   {
    "duration": 88,
    "start_time": "2022-04-16T10:55:38.107Z"
   },
   {
    "duration": 18,
    "start_time": "2022-04-16T10:55:38.202Z"
   },
   {
    "duration": 4,
    "start_time": "2022-04-16T10:55:38.222Z"
   },
   {
    "duration": 22,
    "start_time": "2022-04-16T10:55:38.228Z"
   },
   {
    "duration": 35,
    "start_time": "2022-04-16T10:55:38.252Z"
   },
   {
    "duration": 12,
    "start_time": "2022-04-16T10:55:38.288Z"
   },
   {
    "duration": 16,
    "start_time": "2022-04-16T10:55:38.302Z"
   },
   {
    "duration": 44,
    "start_time": "2022-04-16T10:55:38.320Z"
   },
   {
    "duration": 58,
    "start_time": "2022-04-16T10:55:38.366Z"
   },
   {
    "duration": 100,
    "start_time": "2022-04-16T10:55:38.425Z"
   },
   {
    "duration": 120,
    "start_time": "2022-04-16T10:55:38.527Z"
   },
   {
    "duration": 17,
    "start_time": "2022-04-16T10:55:38.650Z"
   },
   {
    "duration": 46,
    "start_time": "2022-04-16T10:55:38.669Z"
   },
   {
    "duration": 67,
    "start_time": "2022-04-16T10:55:38.716Z"
   },
   {
    "duration": 34,
    "start_time": "2022-04-16T10:55:38.800Z"
   },
   {
    "duration": 36,
    "start_time": "2022-04-16T10:55:38.836Z"
   },
   {
    "duration": 39,
    "start_time": "2022-04-16T10:55:38.875Z"
   },
   {
    "duration": 11,
    "start_time": "2022-04-16T10:55:38.915Z"
   },
   {
    "duration": 46,
    "start_time": "2022-04-16T10:55:38.927Z"
   },
   {
    "duration": 50,
    "start_time": "2022-04-16T10:55:38.975Z"
   },
   {
    "duration": 14,
    "start_time": "2022-04-16T10:55:39.026Z"
   },
   {
    "duration": 15,
    "start_time": "2022-04-16T10:55:39.042Z"
   },
   {
    "duration": 42,
    "start_time": "2022-04-16T10:55:39.059Z"
   },
   {
    "duration": 3,
    "start_time": "2022-04-16T10:55:48.839Z"
   },
   {
    "duration": 304,
    "start_time": "2022-04-16T10:55:48.844Z"
   },
   {
    "duration": 53,
    "start_time": "2022-04-16T10:55:49.151Z"
   },
   {
    "duration": 7,
    "start_time": "2022-04-16T10:55:49.206Z"
   },
   {
    "duration": 260,
    "start_time": "2022-04-16T10:55:49.216Z"
   },
   {
    "duration": 46,
    "start_time": "2022-04-16T10:55:49.478Z"
   },
   {
    "duration": 7,
    "start_time": "2022-04-16T10:55:49.526Z"
   },
   {
    "duration": 146,
    "start_time": "2022-04-16T10:55:49.535Z"
   },
   {
    "duration": 29,
    "start_time": "2022-04-16T10:55:49.683Z"
   },
   {
    "duration": 6,
    "start_time": "2022-04-16T10:55:49.714Z"
   },
   {
    "duration": 22,
    "start_time": "2022-04-16T10:55:49.724Z"
   },
   {
    "duration": 43,
    "start_time": "2022-04-16T10:55:49.748Z"
   },
   {
    "duration": 13,
    "start_time": "2022-04-16T10:55:49.793Z"
   },
   {
    "duration": 16,
    "start_time": "2022-04-16T10:55:49.807Z"
   },
   {
    "duration": 46,
    "start_time": "2022-04-16T10:55:49.825Z"
   },
   {
    "duration": 57,
    "start_time": "2022-04-16T10:55:49.874Z"
   },
   {
    "duration": 101,
    "start_time": "2022-04-16T10:55:49.933Z"
   },
   {
    "duration": 116,
    "start_time": "2022-04-16T10:55:50.036Z"
   },
   {
    "duration": 17,
    "start_time": "2022-04-16T10:55:50.154Z"
   },
   {
    "duration": 68,
    "start_time": "2022-04-16T10:55:50.173Z"
   },
   {
    "duration": 35,
    "start_time": "2022-04-16T10:55:50.243Z"
   },
   {
    "duration": 74,
    "start_time": "2022-04-16T10:55:50.280Z"
   },
   {
    "duration": 73,
    "start_time": "2022-04-16T10:55:50.356Z"
   },
   {
    "duration": 30,
    "start_time": "2022-04-16T10:55:50.431Z"
   },
   {
    "duration": 16,
    "start_time": "2022-04-16T10:55:50.463Z"
   },
   {
    "duration": 90,
    "start_time": "2022-04-16T10:55:50.480Z"
   },
   {
    "duration": 58,
    "start_time": "2022-04-16T10:55:50.572Z"
   },
   {
    "duration": 21,
    "start_time": "2022-04-16T10:55:50.632Z"
   },
   {
    "duration": 14,
    "start_time": "2022-04-16T10:55:50.657Z"
   },
   {
    "duration": 39,
    "start_time": "2022-04-16T10:55:50.672Z"
   },
   {
    "duration": 2,
    "start_time": "2022-04-16T10:57:17.029Z"
   },
   {
    "duration": 7,
    "start_time": "2022-04-16T10:57:34.795Z"
   },
   {
    "duration": 8,
    "start_time": "2022-04-16T11:08:57.164Z"
   },
   {
    "duration": 368,
    "start_time": "2022-04-17T10:07:02.797Z"
   },
   {
    "duration": 393,
    "start_time": "2022-04-17T10:07:05.922Z"
   },
   {
    "duration": 7,
    "start_time": "2022-04-17T10:07:06.319Z"
   },
   {
    "duration": 297,
    "start_time": "2022-04-17T10:07:06.328Z"
   },
   {
    "duration": 55,
    "start_time": "2022-04-17T10:07:06.628Z"
   },
   {
    "duration": 9,
    "start_time": "2022-04-17T10:07:06.686Z"
   },
   {
    "duration": 267,
    "start_time": "2022-04-17T10:07:06.698Z"
   },
   {
    "duration": 29,
    "start_time": "2022-04-17T10:07:06.967Z"
   },
   {
    "duration": 31,
    "start_time": "2022-04-17T10:07:06.999Z"
   },
   {
    "duration": 139,
    "start_time": "2022-04-17T10:07:07.033Z"
   },
   {
    "duration": 28,
    "start_time": "2022-04-17T10:07:07.176Z"
   },
   {
    "duration": 8,
    "start_time": "2022-04-17T10:07:07.223Z"
   },
   {
    "duration": 21,
    "start_time": "2022-04-17T10:07:07.234Z"
   },
   {
    "duration": 47,
    "start_time": "2022-04-17T10:07:07.257Z"
   },
   {
    "duration": 38,
    "start_time": "2022-04-17T10:07:07.307Z"
   },
   {
    "duration": 22,
    "start_time": "2022-04-17T10:07:07.347Z"
   },
   {
    "duration": 60,
    "start_time": "2022-04-17T10:07:07.371Z"
   },
   {
    "duration": 29,
    "start_time": "2022-04-17T10:07:07.433Z"
   },
   {
    "duration": 100,
    "start_time": "2022-04-17T10:07:07.464Z"
   },
   {
    "duration": 144,
    "start_time": "2022-04-17T10:07:07.566Z"
   },
   {
    "duration": 28,
    "start_time": "2022-04-17T10:07:07.712Z"
   },
   {
    "duration": 57,
    "start_time": "2022-04-17T10:07:07.742Z"
   },
   {
    "duration": 55,
    "start_time": "2022-04-17T10:07:07.801Z"
   },
   {
    "duration": 79,
    "start_time": "2022-04-17T10:07:07.858Z"
   },
   {
    "duration": 63,
    "start_time": "2022-04-17T10:07:07.939Z"
   },
   {
    "duration": 43,
    "start_time": "2022-04-17T10:07:08.004Z"
   },
   {
    "duration": 20,
    "start_time": "2022-04-17T10:07:08.049Z"
   },
   {
    "duration": 96,
    "start_time": "2022-04-17T10:07:08.071Z"
   },
   {
    "duration": 70,
    "start_time": "2022-04-17T10:07:08.171Z"
   },
   {
    "duration": 27,
    "start_time": "2022-04-17T10:07:08.244Z"
   },
   {
    "duration": 50,
    "start_time": "2022-04-17T10:07:08.273Z"
   },
   {
    "duration": 24,
    "start_time": "2022-04-17T10:07:08.326Z"
   },
   {
    "duration": 123,
    "start_time": "2022-04-17T10:07:08.353Z"
   },
   {
    "duration": 19,
    "start_time": "2022-04-17T10:07:42.378Z"
   },
   {
    "duration": 32,
    "start_time": "2022-04-17T10:08:22.041Z"
   },
   {
    "duration": 4,
    "start_time": "2022-04-17T10:09:36.185Z"
   },
   {
    "duration": 18,
    "start_time": "2022-04-17T10:10:07.545Z"
   },
   {
    "duration": 85,
    "start_time": "2022-04-17T10:11:03.136Z"
   },
   {
    "duration": 118,
    "start_time": "2022-04-17T10:12:36.796Z"
   },
   {
    "duration": 10,
    "start_time": "2022-04-17T10:19:09.041Z"
   },
   {
    "duration": 10,
    "start_time": "2022-04-17T10:19:26.057Z"
   },
   {
    "duration": 5,
    "start_time": "2022-04-17T10:19:30.705Z"
   },
   {
    "duration": 21,
    "start_time": "2022-04-17T10:19:30.714Z"
   },
   {
    "duration": 411,
    "start_time": "2022-04-17T10:19:30.738Z"
   },
   {
    "duration": 54,
    "start_time": "2022-04-17T10:19:31.153Z"
   },
   {
    "duration": 9,
    "start_time": "2022-04-17T10:19:31.226Z"
   },
   {
    "duration": 354,
    "start_time": "2022-04-17T10:19:31.238Z"
   },
   {
    "duration": 51,
    "start_time": "2022-04-17T10:19:31.595Z"
   },
   {
    "duration": 8,
    "start_time": "2022-04-17T10:19:31.649Z"
   },
   {
    "duration": 152,
    "start_time": "2022-04-17T10:19:31.660Z"
   },
   {
    "duration": 32,
    "start_time": "2022-04-17T10:19:31.814Z"
   },
   {
    "duration": 8,
    "start_time": "2022-04-17T10:19:31.849Z"
   },
   {
    "duration": 32,
    "start_time": "2022-04-17T10:19:31.860Z"
   },
   {
    "duration": 51,
    "start_time": "2022-04-17T10:19:31.894Z"
   },
   {
    "duration": 19,
    "start_time": "2022-04-17T10:19:31.948Z"
   },
   {
    "duration": 36,
    "start_time": "2022-04-17T10:19:31.970Z"
   },
   {
    "duration": 50,
    "start_time": "2022-04-17T10:19:32.009Z"
   },
   {
    "duration": 63,
    "start_time": "2022-04-17T10:19:32.062Z"
   },
   {
    "duration": 97,
    "start_time": "2022-04-17T10:19:32.128Z"
   },
   {
    "duration": 123,
    "start_time": "2022-04-17T10:19:32.227Z"
   },
   {
    "duration": 21,
    "start_time": "2022-04-17T10:19:32.353Z"
   },
   {
    "duration": 92,
    "start_time": "2022-04-17T10:19:32.377Z"
   },
   {
    "duration": 36,
    "start_time": "2022-04-17T10:19:32.472Z"
   },
   {
    "duration": 55,
    "start_time": "2022-04-17T10:19:32.525Z"
   },
   {
    "duration": 81,
    "start_time": "2022-04-17T10:19:32.585Z"
   },
   {
    "duration": 31,
    "start_time": "2022-04-17T10:19:32.668Z"
   },
   {
    "duration": 36,
    "start_time": "2022-04-17T10:19:32.702Z"
   },
   {
    "duration": 86,
    "start_time": "2022-04-17T10:19:32.740Z"
   },
   {
    "duration": 49,
    "start_time": "2022-04-17T10:19:32.828Z"
   },
   {
    "duration": 46,
    "start_time": "2022-04-17T10:19:32.880Z"
   },
   {
    "duration": 25,
    "start_time": "2022-04-17T10:19:32.929Z"
   },
   {
    "duration": 13,
    "start_time": "2022-04-17T10:19:32.956Z"
   },
   {
    "duration": 56,
    "start_time": "2022-04-17T10:19:32.971Z"
   },
   {
    "duration": 27,
    "start_time": "2022-04-17T10:19:33.030Z"
   },
   {
    "duration": 27,
    "start_time": "2022-04-17T10:19:33.060Z"
   },
   {
    "duration": 6,
    "start_time": "2022-04-17T10:19:52.084Z"
   },
   {
    "duration": 48,
    "start_time": "2022-04-17T10:20:06.791Z"
   },
   {
    "duration": 20,
    "start_time": "2022-04-17T10:25:39.775Z"
   },
   {
    "duration": 45,
    "start_time": "2022-04-17T10:25:51.767Z"
   },
   {
    "duration": 52,
    "start_time": "2022-04-17T10:26:28.766Z"
   },
   {
    "duration": 4,
    "start_time": "2022-04-17T10:29:28.665Z"
   },
   {
    "duration": 10,
    "start_time": "2022-04-17T10:29:28.673Z"
   },
   {
    "duration": 411,
    "start_time": "2022-04-17T10:29:28.686Z"
   },
   {
    "duration": 64,
    "start_time": "2022-04-17T10:29:29.102Z"
   },
   {
    "duration": 9,
    "start_time": "2022-04-17T10:29:29.169Z"
   },
   {
    "duration": 363,
    "start_time": "2022-04-17T10:29:29.181Z"
   },
   {
    "duration": 48,
    "start_time": "2022-04-17T10:29:29.547Z"
   },
   {
    "duration": 32,
    "start_time": "2022-04-17T10:29:29.598Z"
   },
   {
    "duration": 204,
    "start_time": "2022-04-17T10:29:29.635Z"
   },
   {
    "duration": 25,
    "start_time": "2022-04-17T10:29:29.842Z"
   },
   {
    "duration": 6,
    "start_time": "2022-04-17T10:29:29.870Z"
   },
   {
    "duration": 46,
    "start_time": "2022-04-17T10:29:29.879Z"
   },
   {
    "duration": 33,
    "start_time": "2022-04-17T10:29:29.927Z"
   },
   {
    "duration": 17,
    "start_time": "2022-04-17T10:29:29.962Z"
   },
   {
    "duration": 42,
    "start_time": "2022-04-17T10:29:29.981Z"
   },
   {
    "duration": 35,
    "start_time": "2022-04-17T10:29:30.026Z"
   },
   {
    "duration": 31,
    "start_time": "2022-04-17T10:29:30.064Z"
   },
   {
    "duration": 96,
    "start_time": "2022-04-17T10:29:30.125Z"
   },
   {
    "duration": 216,
    "start_time": "2022-04-17T10:29:30.223Z"
   },
   {
    "duration": 20,
    "start_time": "2022-04-17T10:29:30.441Z"
   },
   {
    "duration": 73,
    "start_time": "2022-04-17T10:29:30.464Z"
   },
   {
    "duration": 59,
    "start_time": "2022-04-17T10:29:30.539Z"
   },
   {
    "duration": 123,
    "start_time": "2022-04-17T10:29:30.601Z"
   },
   {
    "duration": 106,
    "start_time": "2022-04-17T10:29:30.731Z"
   },
   {
    "duration": 50,
    "start_time": "2022-04-17T10:29:30.840Z"
   },
   {
    "duration": 49,
    "start_time": "2022-04-17T10:29:30.893Z"
   },
   {
    "duration": 126,
    "start_time": "2022-04-17T10:29:30.945Z"
   },
   {
    "duration": 95,
    "start_time": "2022-04-17T10:29:31.074Z"
   },
   {
    "duration": 41,
    "start_time": "2022-04-17T10:29:31.172Z"
   },
   {
    "duration": 40,
    "start_time": "2022-04-17T10:29:31.226Z"
   },
   {
    "duration": 5,
    "start_time": "2022-04-17T10:29:31.268Z"
   },
   {
    "duration": 64,
    "start_time": "2022-04-17T10:29:31.275Z"
   },
   {
    "duration": 20,
    "start_time": "2022-04-17T10:29:31.342Z"
   },
   {
    "duration": 19,
    "start_time": "2022-04-17T10:29:31.365Z"
   },
   {
    "duration": 88,
    "start_time": "2022-04-17T10:29:31.387Z"
   },
   {
    "duration": 56,
    "start_time": "2022-04-17T10:29:43.304Z"
   },
   {
    "duration": 4,
    "start_time": "2022-04-17T10:30:13.083Z"
   },
   {
    "duration": 37,
    "start_time": "2022-04-17T10:30:13.089Z"
   },
   {
    "duration": 272,
    "start_time": "2022-04-17T10:30:13.128Z"
   },
   {
    "duration": 41,
    "start_time": "2022-04-17T10:30:13.403Z"
   },
   {
    "duration": 7,
    "start_time": "2022-04-17T10:30:13.446Z"
   },
   {
    "duration": 250,
    "start_time": "2022-04-17T10:30:13.456Z"
   },
   {
    "duration": 37,
    "start_time": "2022-04-17T10:30:13.708Z"
   },
   {
    "duration": 9,
    "start_time": "2022-04-17T10:30:13.748Z"
   },
   {
    "duration": 148,
    "start_time": "2022-04-17T10:30:13.761Z"
   },
   {
    "duration": 25,
    "start_time": "2022-04-17T10:30:13.911Z"
   },
   {
    "duration": 16,
    "start_time": "2022-04-17T10:30:13.938Z"
   },
   {
    "duration": 28,
    "start_time": "2022-04-17T10:30:13.956Z"
   },
   {
    "duration": 38,
    "start_time": "2022-04-17T10:30:13.986Z"
   },
   {
    "duration": 17,
    "start_time": "2022-04-17T10:30:14.027Z"
   },
   {
    "duration": 33,
    "start_time": "2022-04-17T10:30:14.047Z"
   },
   {
    "duration": 55,
    "start_time": "2022-04-17T10:30:14.082Z"
   },
   {
    "duration": 31,
    "start_time": "2022-04-17T10:30:14.140Z"
   },
   {
    "duration": 104,
    "start_time": "2022-04-17T10:30:14.173Z"
   },
   {
    "duration": 130,
    "start_time": "2022-04-17T10:30:14.279Z"
   },
   {
    "duration": 28,
    "start_time": "2022-04-17T10:30:14.411Z"
   },
   {
    "duration": 61,
    "start_time": "2022-04-17T10:30:14.442Z"
   },
   {
    "duration": 74,
    "start_time": "2022-04-17T10:30:14.505Z"
   },
   {
    "duration": 73,
    "start_time": "2022-04-17T10:30:14.581Z"
   },
   {
    "duration": 78,
    "start_time": "2022-04-17T10:30:14.659Z"
   },
   {
    "duration": 32,
    "start_time": "2022-04-17T10:30:14.739Z"
   },
   {
    "duration": 31,
    "start_time": "2022-04-17T10:30:14.773Z"
   },
   {
    "duration": 93,
    "start_time": "2022-04-17T10:30:14.806Z"
   },
   {
    "duration": 57,
    "start_time": "2022-04-17T10:30:14.901Z"
   },
   {
    "duration": 28,
    "start_time": "2022-04-17T10:30:14.960Z"
   },
   {
    "duration": 50,
    "start_time": "2022-04-17T10:30:14.990Z"
   },
   {
    "duration": 17,
    "start_time": "2022-04-17T10:30:15.043Z"
   },
   {
    "duration": 58,
    "start_time": "2022-04-17T10:30:15.062Z"
   },
   {
    "duration": 45,
    "start_time": "2022-04-17T10:30:15.122Z"
   },
   {
    "duration": 30,
    "start_time": "2022-04-17T10:30:15.169Z"
   },
   {
    "duration": 79,
    "start_time": "2022-04-17T10:30:15.202Z"
   },
   {
    "duration": 58,
    "start_time": "2022-04-17T10:31:39.155Z"
   },
   {
    "duration": 110,
    "start_time": "2022-04-17T10:50:31.328Z"
   },
   {
    "duration": 103,
    "start_time": "2022-04-17T10:50:49.929Z"
   },
   {
    "duration": 118,
    "start_time": "2022-04-17T10:51:36.625Z"
   },
   {
    "duration": 5,
    "start_time": "2022-04-17T10:52:09.620Z"
   },
   {
    "duration": 1594,
    "start_time": "2022-04-17T10:53:19.248Z"
   },
   {
    "duration": 1840,
    "start_time": "2022-04-17T10:53:40.514Z"
   },
   {
    "duration": 1523,
    "start_time": "2022-04-17T10:54:13.472Z"
   },
   {
    "duration": 1735,
    "start_time": "2022-04-17T10:54:44.717Z"
   },
   {
    "duration": 4,
    "start_time": "2022-04-17T10:54:54.140Z"
   },
   {
    "duration": 18,
    "start_time": "2022-04-17T10:54:54.146Z"
   },
   {
    "duration": 282,
    "start_time": "2022-04-17T10:54:54.167Z"
   },
   {
    "duration": 73,
    "start_time": "2022-04-17T10:54:54.452Z"
   },
   {
    "duration": 7,
    "start_time": "2022-04-17T10:54:54.529Z"
   },
   {
    "duration": 244,
    "start_time": "2022-04-17T10:54:54.538Z"
   },
   {
    "duration": 44,
    "start_time": "2022-04-17T10:54:54.784Z"
   },
   {
    "duration": 8,
    "start_time": "2022-04-17T10:54:54.830Z"
   },
   {
    "duration": 149,
    "start_time": "2022-04-17T10:54:54.840Z"
   },
   {
    "duration": 43,
    "start_time": "2022-04-17T10:54:54.991Z"
   },
   {
    "duration": 7,
    "start_time": "2022-04-17T10:54:55.038Z"
   },
   {
    "duration": 57,
    "start_time": "2022-04-17T10:54:55.047Z"
   },
   {
    "duration": 34,
    "start_time": "2022-04-17T10:54:55.125Z"
   },
   {
    "duration": 16,
    "start_time": "2022-04-17T10:54:55.162Z"
   },
   {
    "duration": 43,
    "start_time": "2022-04-17T10:54:55.180Z"
   },
   {
    "duration": 38,
    "start_time": "2022-04-17T10:54:55.226Z"
   },
   {
    "duration": 63,
    "start_time": "2022-04-17T10:54:55.266Z"
   },
   {
    "duration": 102,
    "start_time": "2022-04-17T10:54:55.332Z"
   },
   {
    "duration": 130,
    "start_time": "2022-04-17T10:54:55.437Z"
   },
   {
    "duration": 20,
    "start_time": "2022-04-17T10:54:55.570Z"
   },
   {
    "duration": 80,
    "start_time": "2022-04-17T10:54:55.592Z"
   },
   {
    "duration": 51,
    "start_time": "2022-04-17T10:54:55.675Z"
   },
   {
    "duration": 56,
    "start_time": "2022-04-17T10:54:55.728Z"
   },
   {
    "duration": 84,
    "start_time": "2022-04-17T10:54:55.786Z"
   },
   {
    "duration": 35,
    "start_time": "2022-04-17T10:54:55.873Z"
   },
   {
    "duration": 19,
    "start_time": "2022-04-17T10:54:55.925Z"
   },
   {
    "duration": 83,
    "start_time": "2022-04-17T10:54:55.946Z"
   },
   {
    "duration": 48,
    "start_time": "2022-04-17T10:54:56.031Z"
   },
   {
    "duration": 52,
    "start_time": "2022-04-17T10:54:56.084Z"
   },
   {
    "duration": 28,
    "start_time": "2022-04-17T10:54:56.138Z"
   },
   {
    "duration": 6,
    "start_time": "2022-04-17T10:54:56.168Z"
   },
   {
    "duration": 56,
    "start_time": "2022-04-17T10:54:56.177Z"
   },
   {
    "duration": 18,
    "start_time": "2022-04-17T10:54:56.235Z"
   },
   {
    "duration": 17,
    "start_time": "2022-04-17T10:54:56.255Z"
   },
   {
    "duration": 87,
    "start_time": "2022-04-17T10:54:56.275Z"
   },
   {
    "duration": 16,
    "start_time": "2022-04-17T10:54:56.364Z"
   },
   {
    "duration": 5,
    "start_time": "2022-04-17T10:55:59.923Z"
   },
   {
    "duration": 22,
    "start_time": "2022-04-17T10:56:01.803Z"
   },
   {
    "duration": 66,
    "start_time": "2022-04-17T10:59:40.535Z"
   },
   {
    "duration": 18,
    "start_time": "2022-04-17T10:59:48.031Z"
   },
   {
    "duration": 20,
    "start_time": "2022-04-17T10:59:58.440Z"
   },
   {
    "duration": 15,
    "start_time": "2022-04-17T11:00:43.055Z"
   },
   {
    "duration": 20,
    "start_time": "2022-04-17T11:01:01.212Z"
   },
   {
    "duration": 53,
    "start_time": "2022-04-17T11:01:13.925Z"
   },
   {
    "duration": 41,
    "start_time": "2022-04-17T11:01:38.206Z"
   },
   {
    "duration": 34,
    "start_time": "2022-04-17T11:02:12.746Z"
   },
   {
    "duration": 19,
    "start_time": "2022-04-17T11:02:33.483Z"
   },
   {
    "duration": 27,
    "start_time": "2022-04-17T11:02:40.215Z"
   },
   {
    "duration": 27,
    "start_time": "2022-04-17T11:02:45.004Z"
   },
   {
    "duration": 19,
    "start_time": "2022-04-17T11:02:54.005Z"
   },
   {
    "duration": 25,
    "start_time": "2022-04-17T11:03:00.806Z"
   },
   {
    "duration": 26,
    "start_time": "2022-04-17T11:04:11.628Z"
   },
   {
    "duration": 114,
    "start_time": "2022-04-17T11:05:37.578Z"
   },
   {
    "duration": 17,
    "start_time": "2022-04-17T11:05:48.353Z"
   },
   {
    "duration": 24,
    "start_time": "2022-04-17T11:05:59.438Z"
   },
   {
    "duration": 18,
    "start_time": "2022-04-17T11:08:10.836Z"
   },
   {
    "duration": 16,
    "start_time": "2022-04-17T11:08:25.736Z"
   },
   {
    "duration": 17,
    "start_time": "2022-04-17T11:09:16.858Z"
   },
   {
    "duration": 17,
    "start_time": "2022-04-17T11:09:37.301Z"
   },
   {
    "duration": 16,
    "start_time": "2022-04-17T11:10:01.024Z"
   },
   {
    "duration": 4,
    "start_time": "2022-04-17T11:11:14.461Z"
   },
   {
    "duration": 7,
    "start_time": "2022-04-17T11:11:14.467Z"
   },
   {
    "duration": 255,
    "start_time": "2022-04-17T11:11:14.476Z"
   },
   {
    "duration": 61,
    "start_time": "2022-04-17T11:11:14.735Z"
   },
   {
    "duration": 28,
    "start_time": "2022-04-17T11:11:14.799Z"
   },
   {
    "duration": 239,
    "start_time": "2022-04-17T11:11:14.830Z"
   },
   {
    "duration": 29,
    "start_time": "2022-04-17T11:11:15.071Z"
   },
   {
    "duration": 28,
    "start_time": "2022-04-17T11:11:15.102Z"
   },
   {
    "duration": 134,
    "start_time": "2022-04-17T11:11:15.132Z"
   },
   {
    "duration": 27,
    "start_time": "2022-04-17T11:11:15.269Z"
   },
   {
    "duration": 26,
    "start_time": "2022-04-17T11:11:15.298Z"
   },
   {
    "duration": 19,
    "start_time": "2022-04-17T11:11:15.327Z"
   },
   {
    "duration": 33,
    "start_time": "2022-04-17T11:11:15.348Z"
   },
   {
    "duration": 15,
    "start_time": "2022-04-17T11:11:15.383Z"
   },
   {
    "duration": 37,
    "start_time": "2022-04-17T11:11:15.400Z"
   },
   {
    "duration": 37,
    "start_time": "2022-04-17T11:11:15.439Z"
   },
   {
    "duration": 64,
    "start_time": "2022-04-17T11:11:15.478Z"
   },
   {
    "duration": 93,
    "start_time": "2022-04-17T11:11:15.544Z"
   },
   {
    "duration": 69,
    "start_time": "2022-04-17T11:11:15.639Z"
   },
   {
    "duration": 78,
    "start_time": "2022-04-17T11:11:15.710Z"
   },
   {
    "duration": 62,
    "start_time": "2022-04-17T11:11:15.791Z"
   },
   {
    "duration": 95,
    "start_time": "2022-04-17T11:11:15.856Z"
   },
   {
    "duration": 39,
    "start_time": "2022-04-17T11:11:15.954Z"
   },
   {
    "duration": 36,
    "start_time": "2022-04-17T11:11:15.995Z"
   },
   {
    "duration": 20,
    "start_time": "2022-04-17T11:11:16.033Z"
   },
   {
    "duration": 16,
    "start_time": "2022-04-17T11:11:16.055Z"
   },
   {
    "duration": 13,
    "start_time": "2022-04-17T11:11:16.073Z"
   },
   {
    "duration": 15,
    "start_time": "2022-04-17T11:11:16.123Z"
   },
   {
    "duration": 2052,
    "start_time": "2022-04-17T11:11:16.141Z"
   },
   {
    "duration": 4,
    "start_time": "2022-04-17T11:11:32.211Z"
   },
   {
    "duration": 14,
    "start_time": "2022-04-17T11:11:32.218Z"
   },
   {
    "duration": 272,
    "start_time": "2022-04-17T11:11:32.235Z"
   },
   {
    "duration": 41,
    "start_time": "2022-04-17T11:11:32.510Z"
   },
   {
    "duration": 6,
    "start_time": "2022-04-17T11:11:32.554Z"
   },
   {
    "duration": 242,
    "start_time": "2022-04-17T11:11:32.563Z"
   },
   {
    "duration": 38,
    "start_time": "2022-04-17T11:11:32.807Z"
   },
   {
    "duration": 9,
    "start_time": "2022-04-17T11:11:32.848Z"
   },
   {
    "duration": 149,
    "start_time": "2022-04-17T11:11:32.862Z"
   },
   {
    "duration": 35,
    "start_time": "2022-04-17T11:11:33.014Z"
   },
   {
    "duration": 8,
    "start_time": "2022-04-17T11:11:33.051Z"
   },
   {
    "duration": 24,
    "start_time": "2022-04-17T11:11:33.061Z"
   },
   {
    "duration": 50,
    "start_time": "2022-04-17T11:11:33.087Z"
   },
   {
    "duration": 15,
    "start_time": "2022-04-17T11:11:33.139Z"
   },
   {
    "duration": 22,
    "start_time": "2022-04-17T11:11:33.156Z"
   },
   {
    "duration": 60,
    "start_time": "2022-04-17T11:11:33.180Z"
   },
   {
    "duration": 29,
    "start_time": "2022-04-17T11:11:33.242Z"
   },
   {
    "duration": 104,
    "start_time": "2022-04-17T11:11:33.273Z"
   },
   {
    "duration": 82,
    "start_time": "2022-04-17T11:11:33.379Z"
   },
   {
    "duration": 68,
    "start_time": "2022-04-17T11:11:33.463Z"
   },
   {
    "duration": 41,
    "start_time": "2022-04-17T11:11:33.533Z"
   },
   {
    "duration": 85,
    "start_time": "2022-04-17T11:11:33.576Z"
   },
   {
    "duration": 34,
    "start_time": "2022-04-17T11:11:33.663Z"
   },
   {
    "duration": 37,
    "start_time": "2022-04-17T11:11:33.701Z"
   },
   {
    "duration": 27,
    "start_time": "2022-04-17T11:11:33.740Z"
   },
   {
    "duration": 23,
    "start_time": "2022-04-17T11:11:33.769Z"
   },
   {
    "duration": 38,
    "start_time": "2022-04-17T11:11:33.794Z"
   },
   {
    "duration": 35,
    "start_time": "2022-04-17T11:11:33.834Z"
   },
   {
    "duration": 1703,
    "start_time": "2022-04-17T11:11:33.871Z"
   },
   {
    "duration": 33,
    "start_time": "2022-04-17T11:14:17.725Z"
   },
   {
    "duration": 41,
    "start_time": "2022-04-17T11:16:18.564Z"
   },
   {
    "duration": 27,
    "start_time": "2022-04-17T11:17:58.210Z"
   },
   {
    "duration": 23,
    "start_time": "2022-04-17T11:20:30.829Z"
   },
   {
    "duration": 25,
    "start_time": "2022-04-17T11:20:39.921Z"
   },
   {
    "duration": 4,
    "start_time": "2022-04-17T11:20:49.939Z"
   },
   {
    "duration": 11,
    "start_time": "2022-04-17T11:20:49.945Z"
   },
   {
    "duration": 288,
    "start_time": "2022-04-17T11:20:49.959Z"
   },
   {
    "duration": 36,
    "start_time": "2022-04-17T11:20:50.251Z"
   },
   {
    "duration": 40,
    "start_time": "2022-04-17T11:20:50.290Z"
   },
   {
    "duration": 241,
    "start_time": "2022-04-17T11:20:50.332Z"
   },
   {
    "duration": 30,
    "start_time": "2022-04-17T11:20:50.575Z"
   },
   {
    "duration": 21,
    "start_time": "2022-04-17T11:20:50.607Z"
   },
   {
    "duration": 149,
    "start_time": "2022-04-17T11:20:50.632Z"
   },
   {
    "duration": 27,
    "start_time": "2022-04-17T11:20:50.783Z"
   },
   {
    "duration": 7,
    "start_time": "2022-04-17T11:20:50.824Z"
   },
   {
    "duration": 21,
    "start_time": "2022-04-17T11:20:50.834Z"
   },
   {
    "duration": 35,
    "start_time": "2022-04-17T11:20:50.857Z"
   },
   {
    "duration": 40,
    "start_time": "2022-04-17T11:20:50.894Z"
   },
   {
    "duration": 22,
    "start_time": "2022-04-17T11:20:50.936Z"
   },
   {
    "duration": 35,
    "start_time": "2022-04-17T11:20:50.960Z"
   },
   {
    "duration": 55,
    "start_time": "2022-04-17T11:20:50.996Z"
   },
   {
    "duration": 102,
    "start_time": "2022-04-17T11:20:51.053Z"
   },
   {
    "duration": 82,
    "start_time": "2022-04-17T11:20:51.157Z"
   },
   {
    "duration": 58,
    "start_time": "2022-04-17T11:20:51.241Z"
   },
   {
    "duration": 62,
    "start_time": "2022-04-17T11:20:51.302Z"
   },
   {
    "duration": 90,
    "start_time": "2022-04-17T11:20:51.367Z"
   },
   {
    "duration": 38,
    "start_time": "2022-04-17T11:20:51.459Z"
   },
   {
    "duration": 19,
    "start_time": "2022-04-17T11:20:51.524Z"
   },
   {
    "duration": 19,
    "start_time": "2022-04-17T11:20:51.545Z"
   },
   {
    "duration": 16,
    "start_time": "2022-04-17T11:20:51.566Z"
   },
   {
    "duration": 51,
    "start_time": "2022-04-17T11:20:51.584Z"
   },
   {
    "duration": 38,
    "start_time": "2022-04-17T11:20:51.637Z"
   },
   {
    "duration": 52,
    "start_time": "2022-04-17T11:20:51.677Z"
   },
   {
    "duration": 24,
    "start_time": "2022-04-17T11:20:51.731Z"
   },
   {
    "duration": 1685,
    "start_time": "2022-04-17T11:20:51.757Z"
   },
   {
    "duration": 120,
    "start_time": "2022-04-17T11:26:11.024Z"
   },
   {
    "duration": 5,
    "start_time": "2022-04-17T11:28:12.049Z"
   },
   {
    "duration": 14,
    "start_time": "2022-04-17T11:30:11.039Z"
   },
   {
    "duration": 6,
    "start_time": "2022-04-17T11:35:20.501Z"
   },
   {
    "duration": 32,
    "start_time": "2022-04-17T11:35:21.526Z"
   },
   {
    "duration": 4,
    "start_time": "2022-04-17T11:35:28.012Z"
   },
   {
    "duration": 6,
    "start_time": "2022-04-17T11:35:28.019Z"
   },
   {
    "duration": 280,
    "start_time": "2022-04-17T11:35:28.027Z"
   },
   {
    "duration": 46,
    "start_time": "2022-04-17T11:35:28.311Z"
   },
   {
    "duration": 6,
    "start_time": "2022-04-17T11:35:28.360Z"
   },
   {
    "duration": 232,
    "start_time": "2022-04-17T11:35:28.368Z"
   },
   {
    "duration": 36,
    "start_time": "2022-04-17T11:35:28.602Z"
   },
   {
    "duration": 7,
    "start_time": "2022-04-17T11:35:28.641Z"
   },
   {
    "duration": 145,
    "start_time": "2022-04-17T11:35:28.651Z"
   },
   {
    "duration": 37,
    "start_time": "2022-04-17T11:35:28.799Z"
   },
   {
    "duration": 6,
    "start_time": "2022-04-17T11:35:28.838Z"
   },
   {
    "duration": 24,
    "start_time": "2022-04-17T11:35:28.846Z"
   },
   {
    "duration": 53,
    "start_time": "2022-04-17T11:35:28.873Z"
   },
   {
    "duration": 15,
    "start_time": "2022-04-17T11:35:28.928Z"
   },
   {
    "duration": 16,
    "start_time": "2022-04-17T11:35:28.946Z"
   },
   {
    "duration": 64,
    "start_time": "2022-04-17T11:35:28.965Z"
   },
   {
    "duration": 32,
    "start_time": "2022-04-17T11:35:29.031Z"
   },
   {
    "duration": 106,
    "start_time": "2022-04-17T11:35:29.065Z"
   },
   {
    "duration": 86,
    "start_time": "2022-04-17T11:35:29.173Z"
   },
   {
    "duration": 67,
    "start_time": "2022-04-17T11:35:29.262Z"
   },
   {
    "duration": 41,
    "start_time": "2022-04-17T11:35:29.332Z"
   },
   {
    "duration": 86,
    "start_time": "2022-04-17T11:35:29.375Z"
   },
   {
    "duration": 37,
    "start_time": "2022-04-17T11:35:29.464Z"
   },
   {
    "duration": 20,
    "start_time": "2022-04-17T11:35:29.526Z"
   },
   {
    "duration": 25,
    "start_time": "2022-04-17T11:35:29.549Z"
   },
   {
    "duration": 48,
    "start_time": "2022-04-17T11:35:29.577Z"
   },
   {
    "duration": 9,
    "start_time": "2022-04-17T11:35:29.628Z"
   },
   {
    "duration": 34,
    "start_time": "2022-04-17T11:35:29.639Z"
   },
   {
    "duration": 62,
    "start_time": "2022-04-17T11:35:29.675Z"
   },
   {
    "duration": 23,
    "start_time": "2022-04-17T11:35:29.740Z"
   },
   {
    "duration": 5,
    "start_time": "2022-04-17T11:35:29.765Z"
   },
   {
    "duration": 22,
    "start_time": "2022-04-17T11:35:29.773Z"
   },
   {
    "duration": 24,
    "start_time": "2022-04-17T11:36:05.313Z"
   },
   {
    "duration": 25,
    "start_time": "2022-04-17T11:36:53.410Z"
   },
   {
    "duration": 4,
    "start_time": "2022-04-17T11:37:43.114Z"
   },
   {
    "duration": 17,
    "start_time": "2022-04-17T11:37:53.237Z"
   },
   {
    "duration": 30,
    "start_time": "2022-04-17T11:38:02.715Z"
   },
   {
    "duration": 32,
    "start_time": "2022-04-17T11:38:05.734Z"
   },
   {
    "duration": 26,
    "start_time": "2022-04-17T11:38:22.843Z"
   },
   {
    "duration": 6,
    "start_time": "2022-04-17T11:38:54.161Z"
   },
   {
    "duration": 13,
    "start_time": "2022-04-17T11:38:54.648Z"
   },
   {
    "duration": 13,
    "start_time": "2022-04-17T11:39:06.577Z"
   },
   {
    "duration": 1745,
    "start_time": "2022-04-17T11:39:15.944Z"
   },
   {
    "duration": 3,
    "start_time": "2022-04-17T11:39:49.227Z"
   },
   {
    "duration": 6,
    "start_time": "2022-04-17T11:39:49.233Z"
   },
   {
    "duration": 305,
    "start_time": "2022-04-17T11:39:49.242Z"
   },
   {
    "duration": 74,
    "start_time": "2022-04-17T11:39:49.552Z"
   },
   {
    "duration": 9,
    "start_time": "2022-04-17T11:39:49.629Z"
   },
   {
    "duration": 361,
    "start_time": "2022-04-17T11:39:49.641Z"
   },
   {
    "duration": 58,
    "start_time": "2022-04-17T11:39:50.005Z"
   },
   {
    "duration": 9,
    "start_time": "2022-04-17T11:39:50.066Z"
   },
   {
    "duration": 197,
    "start_time": "2022-04-17T11:39:50.081Z"
   },
   {
    "duration": 26,
    "start_time": "2022-04-17T11:39:50.280Z"
   },
   {
    "duration": 20,
    "start_time": "2022-04-17T11:39:50.309Z"
   },
   {
    "duration": 24,
    "start_time": "2022-04-17T11:39:50.331Z"
   },
   {
    "duration": 35,
    "start_time": "2022-04-17T11:39:50.357Z"
   },
   {
    "duration": 33,
    "start_time": "2022-04-17T11:39:50.394Z"
   },
   {
    "duration": 23,
    "start_time": "2022-04-17T11:39:50.429Z"
   },
   {
    "duration": 36,
    "start_time": "2022-04-17T11:39:50.454Z"
   },
   {
    "duration": 61,
    "start_time": "2022-04-17T11:39:50.492Z"
   },
   {
    "duration": 97,
    "start_time": "2022-04-17T11:39:50.556Z"
   },
   {
    "duration": 83,
    "start_time": "2022-04-17T11:39:50.655Z"
   },
   {
    "duration": 65,
    "start_time": "2022-04-17T11:39:50.741Z"
   },
   {
    "duration": 42,
    "start_time": "2022-04-17T11:39:50.824Z"
   },
   {
    "duration": 89,
    "start_time": "2022-04-17T11:39:50.868Z"
   },
   {
    "duration": 37,
    "start_time": "2022-04-17T11:39:50.960Z"
   },
   {
    "duration": 23,
    "start_time": "2022-04-17T11:39:51.024Z"
   },
   {
    "duration": 28,
    "start_time": "2022-04-17T11:39:51.050Z"
   },
   {
    "duration": 45,
    "start_time": "2022-04-17T11:39:51.081Z"
   },
   {
    "duration": 22,
    "start_time": "2022-04-17T11:39:51.129Z"
   },
   {
    "duration": 32,
    "start_time": "2022-04-17T11:39:51.154Z"
   },
   {
    "duration": 61,
    "start_time": "2022-04-17T11:39:51.188Z"
   },
   {
    "duration": 24,
    "start_time": "2022-04-17T11:39:51.251Z"
   },
   {
    "duration": 6,
    "start_time": "2022-04-17T11:39:51.277Z"
   },
   {
    "duration": 2547,
    "start_time": "2022-04-17T11:39:51.285Z"
   },
   {
    "duration": 21,
    "start_time": "2022-04-17T11:51:44.129Z"
   },
   {
    "duration": 17,
    "start_time": "2022-04-17T11:52:25.400Z"
   },
   {
    "duration": 31,
    "start_time": "2022-04-17T11:53:13.302Z"
   },
   {
    "duration": 6,
    "start_time": "2022-04-17T11:55:50.865Z"
   },
   {
    "duration": 25,
    "start_time": "2022-04-17T11:55:51.400Z"
   },
   {
    "duration": 4,
    "start_time": "2022-04-17T11:56:41.013Z"
   },
   {
    "duration": 1670,
    "start_time": "2022-04-17T11:56:42.150Z"
   },
   {
    "duration": 17,
    "start_time": "2022-04-17T12:00:37.705Z"
   },
   {
    "duration": 17,
    "start_time": "2022-04-17T12:00:46.933Z"
   },
   {
    "duration": 4,
    "start_time": "2022-04-17T12:01:01.243Z"
   },
   {
    "duration": 10,
    "start_time": "2022-04-17T12:01:01.250Z"
   },
   {
    "duration": 370,
    "start_time": "2022-04-17T12:01:01.262Z"
   },
   {
    "duration": 33,
    "start_time": "2022-04-17T12:01:01.635Z"
   },
   {
    "duration": 21,
    "start_time": "2022-04-17T12:01:01.670Z"
   },
   {
    "duration": 330,
    "start_time": "2022-04-17T12:01:01.694Z"
   },
   {
    "duration": 40,
    "start_time": "2022-04-17T12:01:02.026Z"
   },
   {
    "duration": 16,
    "start_time": "2022-04-17T12:01:02.068Z"
   },
   {
    "duration": 140,
    "start_time": "2022-04-17T12:01:02.088Z"
   },
   {
    "duration": 25,
    "start_time": "2022-04-17T12:01:02.230Z"
   },
   {
    "duration": 7,
    "start_time": "2022-04-17T12:01:02.258Z"
   },
   {
    "duration": 21,
    "start_time": "2022-04-17T12:01:02.267Z"
   },
   {
    "duration": 56,
    "start_time": "2022-04-17T12:01:02.290Z"
   },
   {
    "duration": 15,
    "start_time": "2022-04-17T12:01:02.348Z"
   },
   {
    "duration": 23,
    "start_time": "2022-04-17T12:01:02.365Z"
   },
   {
    "duration": 69,
    "start_time": "2022-04-17T12:01:02.390Z"
   },
   {
    "duration": 30,
    "start_time": "2022-04-17T12:01:02.461Z"
   },
   {
    "duration": 107,
    "start_time": "2022-04-17T12:01:02.493Z"
   },
   {
    "duration": 87,
    "start_time": "2022-04-17T12:01:02.602Z"
   },
   {
    "duration": 75,
    "start_time": "2022-04-17T12:01:02.691Z"
   },
   {
    "duration": 58,
    "start_time": "2022-04-17T12:01:02.768Z"
   },
   {
    "duration": 70,
    "start_time": "2022-04-17T12:01:02.828Z"
   },
   {
    "duration": 61,
    "start_time": "2022-04-17T12:01:02.900Z"
   },
   {
    "duration": 18,
    "start_time": "2022-04-17T12:01:02.966Z"
   },
   {
    "duration": 48,
    "start_time": "2022-04-17T12:01:02.986Z"
   },
   {
    "duration": 22,
    "start_time": "2022-04-17T12:01:03.036Z"
   },
   {
    "duration": 28,
    "start_time": "2022-04-17T12:01:03.060Z"
   },
   {
    "duration": 50,
    "start_time": "2022-04-17T12:01:03.091Z"
   },
   {
    "duration": 31,
    "start_time": "2022-04-17T12:01:03.144Z"
   },
   {
    "duration": 50,
    "start_time": "2022-04-17T12:01:03.177Z"
   },
   {
    "duration": 7,
    "start_time": "2022-04-17T12:01:03.230Z"
   },
   {
    "duration": 21,
    "start_time": "2022-04-17T12:01:03.240Z"
   },
   {
    "duration": 0,
    "start_time": "2022-04-17T12:01:03.263Z"
   },
   {
    "duration": 0,
    "start_time": "2022-04-17T12:01:03.265Z"
   },
   {
    "duration": 5,
    "start_time": "2022-04-17T15:01:45.859Z"
   },
   {
    "duration": 19,
    "start_time": "2022-04-17T15:01:46.344Z"
   },
   {
    "duration": 6,
    "start_time": "2022-04-17T15:04:25.169Z"
   },
   {
    "duration": 1646,
    "start_time": "2022-04-17T15:04:25.696Z"
   },
   {
    "duration": 493,
    "start_time": "2022-04-19T08:16:20.031Z"
   },
   {
    "duration": 4,
    "start_time": "2022-04-19T08:16:20.527Z"
   },
   {
    "duration": 366,
    "start_time": "2022-04-19T08:16:20.533Z"
   },
   {
    "duration": 50,
    "start_time": "2022-04-19T08:16:20.902Z"
   },
   {
    "duration": 31,
    "start_time": "2022-04-19T08:16:20.955Z"
   },
   {
    "duration": 239,
    "start_time": "2022-04-19T08:16:20.989Z"
   },
   {
    "duration": 28,
    "start_time": "2022-04-19T08:16:21.230Z"
   },
   {
    "duration": 29,
    "start_time": "2022-04-19T08:16:21.260Z"
   },
   {
    "duration": 130,
    "start_time": "2022-04-19T08:16:21.292Z"
   },
   {
    "duration": 25,
    "start_time": "2022-04-19T08:16:21.426Z"
   },
   {
    "duration": 35,
    "start_time": "2022-04-19T08:16:21.453Z"
   },
   {
    "duration": 20,
    "start_time": "2022-04-19T08:16:21.493Z"
   },
   {
    "duration": 32,
    "start_time": "2022-04-19T08:16:21.515Z"
   },
   {
    "duration": 14,
    "start_time": "2022-04-19T08:16:21.549Z"
   },
   {
    "duration": 34,
    "start_time": "2022-04-19T08:16:21.565Z"
   },
   {
    "duration": 35,
    "start_time": "2022-04-19T08:16:21.602Z"
   },
   {
    "duration": 57,
    "start_time": "2022-04-19T08:16:21.640Z"
   },
   {
    "duration": 98,
    "start_time": "2022-04-19T08:16:21.699Z"
   },
   {
    "duration": 102,
    "start_time": "2022-04-19T08:16:21.799Z"
   },
   {
    "duration": 55,
    "start_time": "2022-04-19T08:16:21.902Z"
   },
   {
    "duration": 66,
    "start_time": "2022-04-19T08:16:21.959Z"
   },
   {
    "duration": 86,
    "start_time": "2022-04-19T08:16:22.027Z"
   },
   {
    "duration": 40,
    "start_time": "2022-04-19T08:16:22.114Z"
   },
   {
    "duration": 39,
    "start_time": "2022-04-19T08:16:22.156Z"
   },
   {
    "duration": 23,
    "start_time": "2022-04-19T08:16:22.198Z"
   },
   {
    "duration": 17,
    "start_time": "2022-04-19T08:16:22.223Z"
   },
   {
    "duration": 57,
    "start_time": "2022-04-19T08:16:22.242Z"
   },
   {
    "duration": 32,
    "start_time": "2022-04-19T08:16:22.304Z"
   },
   {
    "duration": 58,
    "start_time": "2022-04-19T08:16:22.338Z"
   },
   {
    "duration": 24,
    "start_time": "2022-04-19T08:16:22.398Z"
   },
   {
    "duration": 6,
    "start_time": "2022-04-19T08:16:22.424Z"
   },
   {
    "duration": 181,
    "start_time": "2022-04-19T08:16:22.432Z"
   },
   {
    "duration": 0,
    "start_time": "2022-04-19T08:16:22.615Z"
   },
   {
    "duration": 0,
    "start_time": "2022-04-19T08:16:22.617Z"
   },
   {
    "duration": 9,
    "start_time": "2022-04-19T08:16:34.976Z"
   },
   {
    "duration": 1712,
    "start_time": "2022-04-19T08:16:35.388Z"
   },
   {
    "duration": 38,
    "start_time": "2022-04-19T08:22:32.253Z"
   },
   {
    "duration": 3,
    "start_time": "2022-04-19T08:23:55.722Z"
   },
   {
    "duration": 6,
    "start_time": "2022-04-19T08:23:55.736Z"
   },
   {
    "duration": 284,
    "start_time": "2022-04-19T08:23:55.744Z"
   },
   {
    "duration": 36,
    "start_time": "2022-04-19T08:23:56.030Z"
   },
   {
    "duration": 8,
    "start_time": "2022-04-19T08:23:56.087Z"
   },
   {
    "duration": 243,
    "start_time": "2022-04-19T08:23:56.099Z"
   },
   {
    "duration": 39,
    "start_time": "2022-04-19T08:23:56.344Z"
   },
   {
    "duration": 11,
    "start_time": "2022-04-19T08:23:56.385Z"
   },
   {
    "duration": 141,
    "start_time": "2022-04-19T08:23:56.399Z"
   },
   {
    "duration": 25,
    "start_time": "2022-04-19T08:23:56.543Z"
   },
   {
    "duration": 35,
    "start_time": "2022-04-19T08:23:56.570Z"
   },
   {
    "duration": 20,
    "start_time": "2022-04-19T08:23:56.611Z"
   },
   {
    "duration": 32,
    "start_time": "2022-04-19T08:23:56.633Z"
   },
   {
    "duration": 20,
    "start_time": "2022-04-19T08:23:56.667Z"
   },
   {
    "duration": 26,
    "start_time": "2022-04-19T08:23:56.690Z"
   },
   {
    "duration": 35,
    "start_time": "2022-04-19T08:23:56.718Z"
   },
   {
    "duration": 60,
    "start_time": "2022-04-19T08:23:56.755Z"
   },
   {
    "duration": 97,
    "start_time": "2022-04-19T08:23:56.817Z"
   },
   {
    "duration": 90,
    "start_time": "2022-04-19T08:23:56.916Z"
   },
   {
    "duration": 55,
    "start_time": "2022-04-19T08:23:57.008Z"
   },
   {
    "duration": 60,
    "start_time": "2022-04-19T08:23:57.065Z"
   },
   {
    "duration": 85,
    "start_time": "2022-04-19T08:23:57.127Z"
   },
   {
    "duration": 35,
    "start_time": "2022-04-19T08:23:57.214Z"
   },
   {
    "duration": 41,
    "start_time": "2022-04-19T08:23:57.251Z"
   },
   {
    "duration": 27,
    "start_time": "2022-04-19T08:23:57.294Z"
   },
   {
    "duration": 17,
    "start_time": "2022-04-19T08:23:57.324Z"
   },
   {
    "duration": 41,
    "start_time": "2022-04-19T08:23:57.343Z"
   },
   {
    "duration": 38,
    "start_time": "2022-04-19T08:23:57.387Z"
   },
   {
    "duration": 15,
    "start_time": "2022-04-19T08:23:57.428Z"
   },
   {
    "duration": 59,
    "start_time": "2022-04-19T08:23:57.449Z"
   },
   {
    "duration": 5,
    "start_time": "2022-04-19T08:23:57.510Z"
   },
   {
    "duration": 7,
    "start_time": "2022-04-19T08:23:57.517Z"
   },
   {
    "duration": 21,
    "start_time": "2022-04-19T08:23:57.526Z"
   },
   {
    "duration": 30,
    "start_time": "2022-04-19T08:24:21.517Z"
   },
   {
    "duration": 19,
    "start_time": "2022-04-19T08:27:35.329Z"
   },
   {
    "duration": 28,
    "start_time": "2022-04-19T08:28:35.418Z"
   },
   {
    "duration": 21,
    "start_time": "2022-04-19T08:30:58.814Z"
   },
   {
    "duration": 101,
    "start_time": "2022-04-19T08:32:22.058Z"
   },
   {
    "duration": 6,
    "start_time": "2022-04-19T08:32:52.783Z"
   },
   {
    "duration": 19,
    "start_time": "2022-04-19T08:32:59.995Z"
   },
   {
    "duration": 11,
    "start_time": "2022-04-19T08:34:35.955Z"
   },
   {
    "duration": 33,
    "start_time": "2022-04-19T08:34:42.719Z"
   },
   {
    "duration": 3,
    "start_time": "2022-04-19T08:35:00.638Z"
   },
   {
    "duration": 13,
    "start_time": "2022-04-19T08:35:00.644Z"
   },
   {
    "duration": 313,
    "start_time": "2022-04-19T08:35:00.660Z"
   },
   {
    "duration": 44,
    "start_time": "2022-04-19T08:35:00.976Z"
   },
   {
    "duration": 24,
    "start_time": "2022-04-19T08:35:01.023Z"
   },
   {
    "duration": 233,
    "start_time": "2022-04-19T08:35:01.050Z"
   },
   {
    "duration": 32,
    "start_time": "2022-04-19T08:35:01.285Z"
   },
   {
    "duration": 6,
    "start_time": "2022-04-19T08:35:01.319Z"
   },
   {
    "duration": 269,
    "start_time": "2022-04-19T08:35:01.327Z"
   },
   {
    "duration": 29,
    "start_time": "2022-04-19T08:35:01.598Z"
   },
   {
    "duration": 6,
    "start_time": "2022-04-19T08:35:01.631Z"
   },
   {
    "duration": 53,
    "start_time": "2022-04-19T08:35:01.639Z"
   },
   {
    "duration": 34,
    "start_time": "2022-04-19T08:35:01.694Z"
   },
   {
    "duration": 19,
    "start_time": "2022-04-19T08:35:01.731Z"
   },
   {
    "duration": 47,
    "start_time": "2022-04-19T08:35:01.752Z"
   },
   {
    "duration": 34,
    "start_time": "2022-04-19T08:35:01.801Z"
   },
   {
    "duration": 58,
    "start_time": "2022-04-19T08:35:01.837Z"
   },
   {
    "duration": 97,
    "start_time": "2022-04-19T08:35:01.898Z"
   },
   {
    "duration": 101,
    "start_time": "2022-04-19T08:35:01.997Z"
   },
   {
    "duration": 24,
    "start_time": "2022-04-19T08:35:02.100Z"
   },
   {
    "duration": 116,
    "start_time": "2022-04-19T08:35:02.126Z"
   },
   {
    "duration": 67,
    "start_time": "2022-04-19T08:35:02.245Z"
   },
   {
    "duration": 118,
    "start_time": "2022-04-19T08:35:02.315Z"
   },
   {
    "duration": 64,
    "start_time": "2022-04-19T08:35:02.435Z"
   },
   {
    "duration": 21,
    "start_time": "2022-04-19T08:35:02.502Z"
   },
   {
    "duration": 25,
    "start_time": "2022-04-19T08:35:02.525Z"
   },
   {
    "duration": 43,
    "start_time": "2022-04-19T08:35:02.552Z"
   },
   {
    "duration": 38,
    "start_time": "2022-04-19T08:35:02.597Z"
   },
   {
    "duration": 44,
    "start_time": "2022-04-19T08:35:02.640Z"
   },
   {
    "duration": 21,
    "start_time": "2022-04-19T08:35:02.687Z"
   },
   {
    "duration": 18,
    "start_time": "2022-04-19T08:35:02.710Z"
   },
   {
    "duration": 16,
    "start_time": "2022-04-19T08:35:02.730Z"
   },
   {
    "duration": 58,
    "start_time": "2022-04-19T08:35:02.748Z"
   },
   {
    "duration": 5,
    "start_time": "2022-04-19T08:35:02.808Z"
   },
   {
    "duration": 25,
    "start_time": "2022-04-19T08:35:02.815Z"
   },
   {
    "duration": 3,
    "start_time": "2022-04-19T08:35:36.500Z"
   },
   {
    "duration": 8,
    "start_time": "2022-04-19T08:35:36.506Z"
   },
   {
    "duration": 269,
    "start_time": "2022-04-19T08:35:36.517Z"
   },
   {
    "duration": 31,
    "start_time": "2022-04-19T08:35:36.788Z"
   },
   {
    "duration": 6,
    "start_time": "2022-04-19T08:35:36.822Z"
   },
   {
    "duration": 240,
    "start_time": "2022-04-19T08:35:36.830Z"
   },
   {
    "duration": 33,
    "start_time": "2022-04-19T08:35:37.072Z"
   },
   {
    "duration": 7,
    "start_time": "2022-04-19T08:35:37.107Z"
   },
   {
    "duration": 143,
    "start_time": "2022-04-19T08:35:37.116Z"
   },
   {
    "duration": 31,
    "start_time": "2022-04-19T08:35:37.261Z"
   },
   {
    "duration": 5,
    "start_time": "2022-04-19T08:35:37.297Z"
   },
   {
    "duration": 22,
    "start_time": "2022-04-19T08:35:37.304Z"
   },
   {
    "duration": 32,
    "start_time": "2022-04-19T08:35:37.328Z"
   },
   {
    "duration": 32,
    "start_time": "2022-04-19T08:35:37.362Z"
   },
   {
    "duration": 18,
    "start_time": "2022-04-19T08:35:37.397Z"
   },
   {
    "duration": 76,
    "start_time": "2022-04-19T08:35:37.418Z"
   },
   {
    "duration": 44,
    "start_time": "2022-04-19T08:35:37.497Z"
   },
   {
    "duration": 158,
    "start_time": "2022-04-19T08:35:37.543Z"
   },
   {
    "duration": 109,
    "start_time": "2022-04-19T08:35:37.703Z"
   },
   {
    "duration": 24,
    "start_time": "2022-04-19T08:35:37.815Z"
   },
   {
    "duration": 112,
    "start_time": "2022-04-19T08:35:37.841Z"
   },
   {
    "duration": 68,
    "start_time": "2022-04-19T08:35:37.955Z"
   },
   {
    "duration": 122,
    "start_time": "2022-04-19T08:35:38.025Z"
   },
   {
    "duration": 63,
    "start_time": "2022-04-19T08:35:38.150Z"
   },
   {
    "duration": 16,
    "start_time": "2022-04-19T08:35:38.215Z"
   },
   {
    "duration": 18,
    "start_time": "2022-04-19T08:35:38.233Z"
   },
   {
    "duration": 38,
    "start_time": "2022-04-19T08:35:38.253Z"
   },
   {
    "duration": 28,
    "start_time": "2022-04-19T08:35:38.293Z"
   },
   {
    "duration": 11,
    "start_time": "2022-04-19T08:35:38.325Z"
   },
   {
    "duration": 52,
    "start_time": "2022-04-19T08:35:38.338Z"
   },
   {
    "duration": 17,
    "start_time": "2022-04-19T08:35:38.392Z"
   },
   {
    "duration": 33,
    "start_time": "2022-04-19T08:35:38.411Z"
   },
   {
    "duration": 50,
    "start_time": "2022-04-19T08:35:38.446Z"
   },
   {
    "duration": 5,
    "start_time": "2022-04-19T08:35:38.498Z"
   },
   {
    "duration": 28,
    "start_time": "2022-04-19T08:35:38.505Z"
   },
   {
    "duration": 20,
    "start_time": "2022-04-19T08:40:17.976Z"
   },
   {
    "duration": 6,
    "start_time": "2022-04-19T08:43:21.259Z"
   },
   {
    "duration": 2168,
    "start_time": "2022-04-19T08:43:21.752Z"
   },
   {
    "duration": 17,
    "start_time": "2022-04-19T08:43:37.636Z"
   },
   {
    "duration": 16,
    "start_time": "2022-04-19T08:52:50.074Z"
   },
   {
    "duration": 4,
    "start_time": "2022-04-19T08:54:25.319Z"
   },
   {
    "duration": 22,
    "start_time": "2022-04-19T08:55:01.821Z"
   },
   {
    "duration": 18,
    "start_time": "2022-04-19T08:55:37.609Z"
   },
   {
    "duration": 22,
    "start_time": "2022-04-19T08:55:43.232Z"
   },
   {
    "duration": 3,
    "start_time": "2022-04-19T08:55:45.155Z"
   },
   {
    "duration": 7,
    "start_time": "2022-04-19T08:55:45.160Z"
   },
   {
    "duration": 367,
    "start_time": "2022-04-19T08:55:45.170Z"
   },
   {
    "duration": 56,
    "start_time": "2022-04-19T08:55:45.539Z"
   },
   {
    "duration": 6,
    "start_time": "2022-04-19T08:55:45.598Z"
   },
   {
    "duration": 286,
    "start_time": "2022-04-19T08:55:45.606Z"
   },
   {
    "duration": 32,
    "start_time": "2022-04-19T08:55:45.894Z"
   },
   {
    "duration": 6,
    "start_time": "2022-04-19T08:55:45.928Z"
   },
   {
    "duration": 157,
    "start_time": "2022-04-19T08:55:45.936Z"
   },
   {
    "duration": 26,
    "start_time": "2022-04-19T08:55:46.095Z"
   },
   {
    "duration": 6,
    "start_time": "2022-04-19T08:55:46.125Z"
   },
   {
    "duration": 24,
    "start_time": "2022-04-19T08:55:46.133Z"
   },
   {
    "duration": 48,
    "start_time": "2022-04-19T08:55:46.159Z"
   },
   {
    "duration": 20,
    "start_time": "2022-04-19T08:55:46.209Z"
   },
   {
    "duration": 21,
    "start_time": "2022-04-19T08:55:46.231Z"
   },
   {
    "duration": 41,
    "start_time": "2022-04-19T08:55:46.281Z"
   },
   {
    "duration": 30,
    "start_time": "2022-04-19T08:55:46.324Z"
   },
   {
    "duration": 109,
    "start_time": "2022-04-19T08:55:46.356Z"
   },
   {
    "duration": 86,
    "start_time": "2022-04-19T08:55:46.468Z"
   },
   {
    "duration": 34,
    "start_time": "2022-04-19T08:55:46.556Z"
   },
   {
    "duration": 63,
    "start_time": "2022-04-19T08:55:46.592Z"
   },
   {
    "duration": 63,
    "start_time": "2022-04-19T08:55:46.657Z"
   },
   {
    "duration": 89,
    "start_time": "2022-04-19T08:55:46.722Z"
   },
   {
    "duration": 36,
    "start_time": "2022-04-19T08:55:46.813Z"
   },
   {
    "duration": 48,
    "start_time": "2022-04-19T08:55:46.852Z"
   },
   {
    "duration": 22,
    "start_time": "2022-04-19T08:55:46.907Z"
   },
   {
    "duration": 20,
    "start_time": "2022-04-19T08:55:46.932Z"
   },
   {
    "duration": 61,
    "start_time": "2022-04-19T08:55:46.954Z"
   },
   {
    "duration": 13,
    "start_time": "2022-04-19T08:55:47.019Z"
   },
   {
    "duration": 22,
    "start_time": "2022-04-19T08:55:47.034Z"
   },
   {
    "duration": 41,
    "start_time": "2022-04-19T08:55:47.059Z"
   },
   {
    "duration": 15,
    "start_time": "2022-04-19T08:55:47.102Z"
   },
   {
    "duration": 25,
    "start_time": "2022-04-19T08:55:47.119Z"
   },
   {
    "duration": 0,
    "start_time": "2022-04-19T08:55:47.146Z"
   },
   {
    "duration": 0,
    "start_time": "2022-04-19T08:55:47.148Z"
   },
   {
    "duration": 0,
    "start_time": "2022-04-19T08:55:47.149Z"
   },
   {
    "duration": 0,
    "start_time": "2022-04-19T08:55:47.182Z"
   },
   {
    "duration": 10,
    "start_time": "2022-04-19T08:57:49.918Z"
   },
   {
    "duration": 4,
    "start_time": "2022-04-19T08:57:54.419Z"
   },
   {
    "duration": 14,
    "start_time": "2022-04-19T08:57:55.336Z"
   },
   {
    "duration": 23,
    "start_time": "2022-04-19T08:57:59.145Z"
   },
   {
    "duration": 4,
    "start_time": "2022-04-19T08:58:09.691Z"
   },
   {
    "duration": 10,
    "start_time": "2022-04-19T08:58:09.701Z"
   },
   {
    "duration": 280,
    "start_time": "2022-04-19T08:58:09.713Z"
   },
   {
    "duration": 35,
    "start_time": "2022-04-19T08:58:09.996Z"
   },
   {
    "duration": 7,
    "start_time": "2022-04-19T08:58:10.033Z"
   },
   {
    "duration": 258,
    "start_time": "2022-04-19T08:58:10.044Z"
   },
   {
    "duration": 27,
    "start_time": "2022-04-19T08:58:10.305Z"
   },
   {
    "duration": 7,
    "start_time": "2022-04-19T08:58:10.334Z"
   },
   {
    "duration": 149,
    "start_time": "2022-04-19T08:58:10.343Z"
   },
   {
    "duration": 27,
    "start_time": "2022-04-19T08:58:10.494Z"
   },
   {
    "duration": 6,
    "start_time": "2022-04-19T08:58:10.523Z"
   },
   {
    "duration": 20,
    "start_time": "2022-04-19T08:58:10.532Z"
   },
   {
    "duration": 39,
    "start_time": "2022-04-19T08:58:10.584Z"
   },
   {
    "duration": 16,
    "start_time": "2022-04-19T08:58:10.626Z"
   },
   {
    "duration": 22,
    "start_time": "2022-04-19T08:58:10.647Z"
   },
   {
    "duration": 53,
    "start_time": "2022-04-19T08:58:10.671Z"
   },
   {
    "duration": 33,
    "start_time": "2022-04-19T08:58:10.726Z"
   },
   {
    "duration": 110,
    "start_time": "2022-04-19T08:58:10.761Z"
   },
   {
    "duration": 69,
    "start_time": "2022-04-19T08:58:10.881Z"
   },
   {
    "duration": 42,
    "start_time": "2022-04-19T08:58:10.952Z"
   },
   {
    "duration": 60,
    "start_time": "2022-04-19T08:58:10.996Z"
   },
   {
    "duration": 61,
    "start_time": "2022-04-19T08:58:11.058Z"
   },
   {
    "duration": 98,
    "start_time": "2022-04-19T08:58:11.121Z"
   },
   {
    "duration": 47,
    "start_time": "2022-04-19T08:58:11.222Z"
   },
   {
    "duration": 21,
    "start_time": "2022-04-19T08:58:11.281Z"
   },
   {
    "duration": 24,
    "start_time": "2022-04-19T08:58:11.304Z"
   },
   {
    "duration": 15,
    "start_time": "2022-04-19T08:58:11.331Z"
   },
   {
    "duration": 60,
    "start_time": "2022-04-19T08:58:11.349Z"
   },
   {
    "duration": 12,
    "start_time": "2022-04-19T08:58:11.412Z"
   },
   {
    "duration": 23,
    "start_time": "2022-04-19T08:58:11.426Z"
   },
   {
    "duration": 47,
    "start_time": "2022-04-19T08:58:11.451Z"
   },
   {
    "duration": 7,
    "start_time": "2022-04-19T08:58:11.500Z"
   },
   {
    "duration": 15,
    "start_time": "2022-04-19T08:58:11.509Z"
   },
   {
    "duration": 17,
    "start_time": "2022-04-19T08:58:11.526Z"
   },
   {
    "duration": 65,
    "start_time": "2022-04-19T08:58:11.545Z"
   },
   {
    "duration": 4,
    "start_time": "2022-04-19T08:58:11.613Z"
   },
   {
    "duration": 2113,
    "start_time": "2022-04-19T08:58:11.619Z"
   },
   {
    "duration": 0,
    "start_time": "2022-04-19T08:58:13.735Z"
   },
   {
    "duration": 26,
    "start_time": "2022-04-19T08:58:28.322Z"
   },
   {
    "duration": 4,
    "start_time": "2022-04-19T08:58:35.856Z"
   },
   {
    "duration": 7,
    "start_time": "2022-04-19T08:58:35.863Z"
   },
   {
    "duration": 390,
    "start_time": "2022-04-19T08:58:35.873Z"
   },
   {
    "duration": 60,
    "start_time": "2022-04-19T08:58:36.266Z"
   },
   {
    "duration": 7,
    "start_time": "2022-04-19T08:58:36.330Z"
   },
   {
    "duration": 268,
    "start_time": "2022-04-19T08:58:36.339Z"
   },
   {
    "duration": 33,
    "start_time": "2022-04-19T08:58:36.611Z"
   },
   {
    "duration": 9,
    "start_time": "2022-04-19T08:58:36.647Z"
   },
   {
    "duration": 165,
    "start_time": "2022-04-19T08:58:36.659Z"
   },
   {
    "duration": 30,
    "start_time": "2022-04-19T08:58:36.828Z"
   },
   {
    "duration": 25,
    "start_time": "2022-04-19T08:58:36.861Z"
   },
   {
    "duration": 66,
    "start_time": "2022-04-19T08:58:36.888Z"
   },
   {
    "duration": 51,
    "start_time": "2022-04-19T08:58:36.956Z"
   },
   {
    "duration": 19,
    "start_time": "2022-04-19T08:58:37.010Z"
   },
   {
    "duration": 29,
    "start_time": "2022-04-19T08:58:37.031Z"
   },
   {
    "duration": 63,
    "start_time": "2022-04-19T08:58:37.063Z"
   },
   {
    "duration": 31,
    "start_time": "2022-04-19T08:58:37.128Z"
   },
   {
    "duration": 107,
    "start_time": "2022-04-19T08:58:37.183Z"
   },
   {
    "duration": 73,
    "start_time": "2022-04-19T08:58:37.294Z"
   },
   {
    "duration": 24,
    "start_time": "2022-04-19T08:58:37.381Z"
   },
   {
    "duration": 69,
    "start_time": "2022-04-19T08:58:37.409Z"
   },
   {
    "duration": 51,
    "start_time": "2022-04-19T08:58:37.485Z"
   },
   {
    "duration": 117,
    "start_time": "2022-04-19T08:58:37.540Z"
   },
   {
    "duration": 63,
    "start_time": "2022-04-19T08:58:37.660Z"
   },
   {
    "duration": 18,
    "start_time": "2022-04-19T08:58:37.728Z"
   },
   {
    "duration": 48,
    "start_time": "2022-04-19T08:58:37.749Z"
   },
   {
    "duration": 21,
    "start_time": "2022-04-19T08:58:37.799Z"
   },
   {
    "duration": 32,
    "start_time": "2022-04-19T08:58:37.823Z"
   },
   {
    "duration": 40,
    "start_time": "2022-04-19T08:58:37.857Z"
   },
   {
    "duration": 25,
    "start_time": "2022-04-19T08:58:37.900Z"
   },
   {
    "duration": 17,
    "start_time": "2022-04-19T08:58:37.929Z"
   },
   {
    "duration": 6,
    "start_time": "2022-04-19T08:58:37.949Z"
   },
   {
    "duration": 44,
    "start_time": "2022-04-19T08:58:37.957Z"
   },
   {
    "duration": 57,
    "start_time": "2022-04-19T08:58:38.003Z"
   },
   {
    "duration": 56,
    "start_time": "2022-04-19T08:58:38.063Z"
   },
   {
    "duration": 5,
    "start_time": "2022-04-19T08:58:38.122Z"
   },
   {
    "duration": 1935,
    "start_time": "2022-04-19T08:58:38.131Z"
   },
   {
    "duration": 0,
    "start_time": "2022-04-19T08:58:40.069Z"
   },
   {
    "duration": 8,
    "start_time": "2022-04-19T08:59:42.722Z"
   },
   {
    "duration": 7,
    "start_time": "2022-04-19T08:59:42.733Z"
   },
   {
    "duration": 316,
    "start_time": "2022-04-19T08:59:42.742Z"
   },
   {
    "duration": 61,
    "start_time": "2022-04-19T08:59:43.062Z"
   },
   {
    "duration": 14,
    "start_time": "2022-04-19T08:59:43.126Z"
   },
   {
    "duration": 279,
    "start_time": "2022-04-19T08:59:43.142Z"
   },
   {
    "duration": 31,
    "start_time": "2022-04-19T08:59:43.424Z"
   },
   {
    "duration": 7,
    "start_time": "2022-04-19T08:59:43.457Z"
   },
   {
    "duration": 156,
    "start_time": "2022-04-19T08:59:43.497Z"
   },
   {
    "duration": 41,
    "start_time": "2022-04-19T08:59:43.656Z"
   },
   {
    "duration": 31,
    "start_time": "2022-04-19T08:59:43.700Z"
   },
   {
    "duration": 25,
    "start_time": "2022-04-19T08:59:43.733Z"
   },
   {
    "duration": 54,
    "start_time": "2022-04-19T08:59:43.760Z"
   },
   {
    "duration": 20,
    "start_time": "2022-04-19T08:59:43.817Z"
   },
   {
    "duration": 22,
    "start_time": "2022-04-19T08:59:43.840Z"
   },
   {
    "duration": 69,
    "start_time": "2022-04-19T08:59:43.864Z"
   },
   {
    "duration": 52,
    "start_time": "2022-04-19T08:59:43.936Z"
   },
   {
    "duration": 142,
    "start_time": "2022-04-19T08:59:43.990Z"
   },
   {
    "duration": 108,
    "start_time": "2022-04-19T08:59:44.135Z"
   },
   {
    "duration": 44,
    "start_time": "2022-04-19T08:59:44.246Z"
   },
   {
    "duration": 104,
    "start_time": "2022-04-19T08:59:44.295Z"
   },
   {
    "duration": 55,
    "start_time": "2022-04-19T08:59:44.402Z"
   },
   {
    "duration": 107,
    "start_time": "2022-04-19T08:59:44.460Z"
   },
   {
    "duration": 49,
    "start_time": "2022-04-19T08:59:44.589Z"
   },
   {
    "duration": 17,
    "start_time": "2022-04-19T08:59:44.640Z"
   },
   {
    "duration": 44,
    "start_time": "2022-04-19T08:59:44.659Z"
   },
   {
    "duration": 28,
    "start_time": "2022-04-19T08:59:44.706Z"
   },
   {
    "duration": 29,
    "start_time": "2022-04-19T08:59:44.736Z"
   },
   {
    "duration": 42,
    "start_time": "2022-04-19T08:59:44.767Z"
   },
   {
    "duration": 52,
    "start_time": "2022-04-19T08:59:44.812Z"
   },
   {
    "duration": 31,
    "start_time": "2022-04-19T08:59:44.866Z"
   },
   {
    "duration": 37,
    "start_time": "2022-04-19T08:59:44.899Z"
   },
   {
    "duration": 54,
    "start_time": "2022-04-19T08:59:44.939Z"
   },
   {
    "duration": 42,
    "start_time": "2022-04-19T08:59:44.995Z"
   },
   {
    "duration": 5,
    "start_time": "2022-04-19T08:59:45.040Z"
   },
   {
    "duration": 2281,
    "start_time": "2022-04-19T08:59:45.047Z"
   },
   {
    "duration": 0,
    "start_time": "2022-04-19T08:59:47.331Z"
   },
   {
    "duration": 5,
    "start_time": "2022-04-19T09:02:23.859Z"
   },
   {
    "duration": 7,
    "start_time": "2022-04-19T09:03:57.715Z"
   },
   {
    "duration": 14,
    "start_time": "2022-04-19T09:04:17.344Z"
   },
   {
    "duration": 6,
    "start_time": "2022-04-19T09:04:42.917Z"
   },
   {
    "duration": 11,
    "start_time": "2022-04-19T09:04:59.848Z"
   },
   {
    "duration": 10,
    "start_time": "2022-04-19T09:05:05.345Z"
   },
   {
    "duration": 35,
    "start_time": "2022-04-19T09:05:11.328Z"
   },
   {
    "duration": 35,
    "start_time": "2022-04-19T09:06:06.410Z"
   },
   {
    "duration": 34,
    "start_time": "2022-04-19T09:06:15.928Z"
   },
   {
    "duration": 5,
    "start_time": "2022-04-19T09:09:59.021Z"
   },
   {
    "duration": 51,
    "start_time": "2022-04-19T09:12:32.147Z"
   },
   {
    "duration": 115,
    "start_time": "2022-04-19T09:13:16.293Z"
   },
   {
    "duration": 104,
    "start_time": "2022-04-19T12:16:14.504Z"
   },
   {
    "duration": 667,
    "start_time": "2022-04-19T12:16:18.309Z"
   },
   {
    "duration": 7,
    "start_time": "2022-04-19T12:16:18.984Z"
   },
   {
    "duration": 412,
    "start_time": "2022-04-19T12:16:18.999Z"
   },
   {
    "duration": 84,
    "start_time": "2022-04-19T12:16:19.414Z"
   },
   {
    "duration": 9,
    "start_time": "2022-04-19T12:16:19.502Z"
   },
   {
    "duration": 387,
    "start_time": "2022-04-19T12:16:19.513Z"
   },
   {
    "duration": 45,
    "start_time": "2022-04-19T12:16:19.903Z"
   },
   {
    "duration": 46,
    "start_time": "2022-04-19T12:16:19.951Z"
   },
   {
    "duration": 191,
    "start_time": "2022-04-19T12:16:20.000Z"
   },
   {
    "duration": 31,
    "start_time": "2022-04-19T12:16:20.197Z"
   },
   {
    "duration": 69,
    "start_time": "2022-04-19T12:16:20.230Z"
   },
   {
    "duration": 47,
    "start_time": "2022-04-19T12:16:20.301Z"
   },
   {
    "duration": 94,
    "start_time": "2022-04-19T12:16:20.352Z"
   },
   {
    "duration": 47,
    "start_time": "2022-04-19T12:16:20.460Z"
   },
   {
    "duration": 84,
    "start_time": "2022-04-19T12:16:20.509Z"
   },
   {
    "duration": 59,
    "start_time": "2022-04-19T12:16:20.596Z"
   },
   {
    "duration": 63,
    "start_time": "2022-04-19T12:16:20.658Z"
   },
   {
    "duration": 144,
    "start_time": "2022-04-19T12:16:20.724Z"
   },
   {
    "duration": 129,
    "start_time": "2022-04-19T12:16:20.871Z"
   },
   {
    "duration": 25,
    "start_time": "2022-04-19T12:16:21.003Z"
   },
   {
    "duration": 119,
    "start_time": "2022-04-19T12:16:21.031Z"
   },
   {
    "duration": 80,
    "start_time": "2022-04-19T12:16:21.157Z"
   },
   {
    "duration": 111,
    "start_time": "2022-04-19T12:16:21.242Z"
   },
   {
    "duration": 65,
    "start_time": "2022-04-19T12:16:21.363Z"
   },
   {
    "duration": 35,
    "start_time": "2022-04-19T12:16:21.432Z"
   },
   {
    "duration": 41,
    "start_time": "2022-04-19T12:16:21.473Z"
   },
   {
    "duration": 80,
    "start_time": "2022-04-19T12:16:21.517Z"
   },
   {
    "duration": 74,
    "start_time": "2022-04-19T12:16:21.600Z"
   },
   {
    "duration": 0,
    "start_time": "2022-04-19T12:16:21.681Z"
   },
   {
    "duration": 0,
    "start_time": "2022-04-19T12:16:21.683Z"
   },
   {
    "duration": 0,
    "start_time": "2022-04-19T12:16:21.685Z"
   },
   {
    "duration": 0,
    "start_time": "2022-04-19T12:16:21.687Z"
   },
   {
    "duration": 0,
    "start_time": "2022-04-19T12:16:21.689Z"
   },
   {
    "duration": 0,
    "start_time": "2022-04-19T12:16:21.692Z"
   },
   {
    "duration": 1,
    "start_time": "2022-04-19T12:16:21.693Z"
   },
   {
    "duration": 0,
    "start_time": "2022-04-19T12:16:21.696Z"
   },
   {
    "duration": 0,
    "start_time": "2022-04-19T12:16:21.698Z"
   },
   {
    "duration": 0,
    "start_time": "2022-04-19T12:16:21.700Z"
   },
   {
    "duration": 0,
    "start_time": "2022-04-19T12:16:21.701Z"
   },
   {
    "duration": 13,
    "start_time": "2022-04-19T12:16:54.843Z"
   },
   {
    "duration": 4,
    "start_time": "2022-04-19T12:17:10.215Z"
   },
   {
    "duration": 45,
    "start_time": "2022-04-19T12:17:10.222Z"
   },
   {
    "duration": 335,
    "start_time": "2022-04-19T12:17:10.269Z"
   },
   {
    "duration": 49,
    "start_time": "2022-04-19T12:17:10.607Z"
   },
   {
    "duration": 28,
    "start_time": "2022-04-19T12:17:10.659Z"
   },
   {
    "duration": 282,
    "start_time": "2022-04-19T12:17:10.690Z"
   },
   {
    "duration": 36,
    "start_time": "2022-04-19T12:17:10.976Z"
   },
   {
    "duration": 16,
    "start_time": "2022-04-19T12:17:11.015Z"
   },
   {
    "duration": 246,
    "start_time": "2022-04-19T12:17:11.039Z"
   },
   {
    "duration": 42,
    "start_time": "2022-04-19T12:17:11.288Z"
   },
   {
    "duration": 9,
    "start_time": "2022-04-19T12:17:11.334Z"
   },
   {
    "duration": 39,
    "start_time": "2022-04-19T12:17:11.346Z"
   },
   {
    "duration": 47,
    "start_time": "2022-04-19T12:17:11.392Z"
   },
   {
    "duration": 27,
    "start_time": "2022-04-19T12:17:11.448Z"
   },
   {
    "duration": 24,
    "start_time": "2022-04-19T12:17:11.479Z"
   },
   {
    "duration": 76,
    "start_time": "2022-04-19T12:17:11.505Z"
   },
   {
    "duration": 30,
    "start_time": "2022-04-19T12:17:11.585Z"
   },
   {
    "duration": 140,
    "start_time": "2022-04-19T12:17:11.617Z"
   },
   {
    "duration": 111,
    "start_time": "2022-04-19T12:17:11.760Z"
   },
   {
    "duration": 22,
    "start_time": "2022-04-19T12:17:11.873Z"
   },
   {
    "duration": 90,
    "start_time": "2022-04-19T12:17:11.898Z"
   },
   {
    "duration": 72,
    "start_time": "2022-04-19T12:17:11.991Z"
   },
   {
    "duration": 92,
    "start_time": "2022-04-19T12:17:12.070Z"
   },
   {
    "duration": 40,
    "start_time": "2022-04-19T12:17:12.167Z"
   },
   {
    "duration": 36,
    "start_time": "2022-04-19T12:17:12.209Z"
   },
   {
    "duration": 51,
    "start_time": "2022-04-19T12:17:12.248Z"
   },
   {
    "duration": 24,
    "start_time": "2022-04-19T12:17:12.302Z"
   },
   {
    "duration": 54,
    "start_time": "2022-04-19T12:17:12.332Z"
   },
   {
    "duration": 43,
    "start_time": "2022-04-19T12:17:12.390Z"
   },
   {
    "duration": 14,
    "start_time": "2022-04-19T12:17:12.436Z"
   },
   {
    "duration": 45,
    "start_time": "2022-04-19T12:17:12.454Z"
   },
   {
    "duration": 27,
    "start_time": "2022-04-19T12:17:12.501Z"
   },
   {
    "duration": 35,
    "start_time": "2022-04-19T12:17:12.531Z"
   },
   {
    "duration": 68,
    "start_time": "2022-04-19T12:17:12.570Z"
   },
   {
    "duration": 9,
    "start_time": "2022-04-19T12:17:12.642Z"
   },
   {
    "duration": 57,
    "start_time": "2022-04-19T12:17:12.654Z"
   },
   {
    "duration": 51,
    "start_time": "2022-04-19T12:17:12.716Z"
   },
   {
    "duration": 19,
    "start_time": "2022-04-19T12:17:12.769Z"
   },
   {
    "duration": 9,
    "start_time": "2022-04-19T12:17:12.791Z"
   },
   {
    "duration": 8,
    "start_time": "2022-04-19T12:22:25.587Z"
   },
   {
    "duration": 6,
    "start_time": "2022-04-19T12:22:41.024Z"
   },
   {
    "duration": 6,
    "start_time": "2022-04-19T12:22:59.895Z"
   },
   {
    "duration": 52,
    "start_time": "2022-04-19T12:23:01.059Z"
   },
   {
    "duration": 17,
    "start_time": "2022-04-19T12:25:03.560Z"
   },
   {
    "duration": 10,
    "start_time": "2022-04-19T12:28:15.859Z"
   },
   {
    "duration": 19,
    "start_time": "2022-04-19T12:28:57.216Z"
   },
   {
    "duration": 70,
    "start_time": "2022-04-19T12:29:05.973Z"
   },
   {
    "duration": 42,
    "start_time": "2022-04-19T12:30:40.979Z"
   },
   {
    "duration": 20,
    "start_time": "2022-04-19T12:31:18.116Z"
   },
   {
    "duration": 5,
    "start_time": "2022-04-19T12:33:21.008Z"
   },
   {
    "duration": 45,
    "start_time": "2022-04-19T12:33:29.554Z"
   },
   {
    "duration": 57,
    "start_time": "2022-04-20T14:27:21.299Z"
   },
   {
    "duration": 415,
    "start_time": "2022-04-20T14:27:25.018Z"
   },
   {
    "duration": 3,
    "start_time": "2022-04-20T14:27:25.435Z"
   },
   {
    "duration": 227,
    "start_time": "2022-04-20T14:27:25.440Z"
   },
   {
    "duration": 49,
    "start_time": "2022-04-20T14:27:25.669Z"
   },
   {
    "duration": 8,
    "start_time": "2022-04-20T14:27:25.721Z"
   },
   {
    "duration": 184,
    "start_time": "2022-04-20T14:27:25.730Z"
   },
   {
    "duration": 32,
    "start_time": "2022-04-20T14:27:25.918Z"
   },
   {
    "duration": 7,
    "start_time": "2022-04-20T14:27:25.952Z"
   },
   {
    "duration": 113,
    "start_time": "2022-04-20T14:27:25.960Z"
   },
   {
    "duration": 34,
    "start_time": "2022-04-20T14:27:26.075Z"
   },
   {
    "duration": 6,
    "start_time": "2022-04-20T14:27:26.112Z"
   },
   {
    "duration": 15,
    "start_time": "2022-04-20T14:27:26.121Z"
   },
   {
    "duration": 29,
    "start_time": "2022-04-20T14:27:26.138Z"
   },
   {
    "duration": 12,
    "start_time": "2022-04-20T14:27:26.170Z"
   },
   {
    "duration": 39,
    "start_time": "2022-04-20T14:27:26.183Z"
   },
   {
    "duration": 29,
    "start_time": "2022-04-20T14:27:26.223Z"
   },
   {
    "duration": 23,
    "start_time": "2022-04-20T14:27:26.254Z"
   },
   {
    "duration": 102,
    "start_time": "2022-04-20T14:27:26.279Z"
   },
   {
    "duration": 79,
    "start_time": "2022-04-20T14:27:26.383Z"
   },
   {
    "duration": 15,
    "start_time": "2022-04-20T14:27:26.465Z"
   },
   {
    "duration": 75,
    "start_time": "2022-04-20T14:27:26.482Z"
   },
   {
    "duration": 34,
    "start_time": "2022-04-20T14:27:26.558Z"
   },
   {
    "duration": 66,
    "start_time": "2022-04-20T14:27:26.594Z"
   },
   {
    "duration": 30,
    "start_time": "2022-04-20T14:27:26.662Z"
   },
   {
    "duration": 35,
    "start_time": "2022-04-20T14:27:26.693Z"
   },
   {
    "duration": 12,
    "start_time": "2022-04-20T14:27:26.730Z"
   },
   {
    "duration": 11,
    "start_time": "2022-04-20T14:27:26.744Z"
   },
   {
    "duration": 3,
    "start_time": "2022-04-20T14:27:26.756Z"
   },
   {
    "duration": 54,
    "start_time": "2022-04-20T14:27:26.761Z"
   },
   {
    "duration": 11,
    "start_time": "2022-04-20T14:27:26.817Z"
   },
   {
    "duration": 17,
    "start_time": "2022-04-20T14:27:26.830Z"
   },
   {
    "duration": 12,
    "start_time": "2022-04-20T14:27:26.848Z"
   },
   {
    "duration": 4,
    "start_time": "2022-04-20T14:27:26.862Z"
   },
   {
    "duration": 67,
    "start_time": "2022-04-20T14:27:26.868Z"
   },
   {
    "duration": 4,
    "start_time": "2022-04-20T14:27:26.936Z"
   },
   {
    "duration": 5,
    "start_time": "2022-04-20T14:27:26.942Z"
   },
   {
    "duration": 8,
    "start_time": "2022-04-20T14:27:26.948Z"
   },
   {
    "duration": 58,
    "start_time": "2022-04-20T14:27:26.958Z"
   },
   {
    "duration": 29,
    "start_time": "2022-04-20T14:27:27.021Z"
   },
   {
    "duration": 13,
    "start_time": "2022-04-20T14:27:27.051Z"
   },
   {
    "duration": 24,
    "start_time": "2022-04-20T14:27:42.459Z"
   },
   {
    "duration": 47,
    "start_time": "2022-04-20T14:29:01.209Z"
   },
   {
    "duration": 22,
    "start_time": "2022-04-20T14:29:24.455Z"
   },
   {
    "duration": 21,
    "start_time": "2022-04-20T14:32:01.830Z"
   },
   {
    "duration": 4,
    "start_time": "2022-04-20T14:32:11.460Z"
   },
   {
    "duration": 4,
    "start_time": "2022-04-20T14:32:11.466Z"
   },
   {
    "duration": 221,
    "start_time": "2022-04-20T14:32:11.472Z"
   },
   {
    "duration": 40,
    "start_time": "2022-04-20T14:32:11.695Z"
   },
   {
    "duration": 5,
    "start_time": "2022-04-20T14:32:11.738Z"
   },
   {
    "duration": 201,
    "start_time": "2022-04-20T14:32:11.746Z"
   },
   {
    "duration": 23,
    "start_time": "2022-04-20T14:32:11.949Z"
   },
   {
    "duration": 11,
    "start_time": "2022-04-20T14:32:11.974Z"
   },
   {
    "duration": 127,
    "start_time": "2022-04-20T14:32:11.987Z"
   },
   {
    "duration": 26,
    "start_time": "2022-04-20T14:32:12.116Z"
   },
   {
    "duration": 5,
    "start_time": "2022-04-20T14:32:12.144Z"
   },
   {
    "duration": 22,
    "start_time": "2022-04-20T14:32:12.151Z"
   },
   {
    "duration": 39,
    "start_time": "2022-04-20T14:32:12.175Z"
   },
   {
    "duration": 17,
    "start_time": "2022-04-20T14:32:12.218Z"
   },
   {
    "duration": 19,
    "start_time": "2022-04-20T14:32:12.237Z"
   },
   {
    "duration": 28,
    "start_time": "2022-04-20T14:32:12.258Z"
   },
   {
    "duration": 49,
    "start_time": "2022-04-20T14:32:12.289Z"
   },
   {
    "duration": 76,
    "start_time": "2022-04-20T14:32:12.340Z"
   },
   {
    "duration": 51,
    "start_time": "2022-04-20T14:32:12.418Z"
   },
   {
    "duration": 14,
    "start_time": "2022-04-20T14:32:12.471Z"
   },
   {
    "duration": 54,
    "start_time": "2022-04-20T14:32:12.510Z"
   },
   {
    "duration": 51,
    "start_time": "2022-04-20T14:32:12.566Z"
   },
   {
    "duration": 51,
    "start_time": "2022-04-20T14:32:12.619Z"
   },
   {
    "duration": 45,
    "start_time": "2022-04-20T14:32:12.671Z"
   },
   {
    "duration": 14,
    "start_time": "2022-04-20T14:32:12.718Z"
   },
   {
    "duration": 16,
    "start_time": "2022-04-20T14:32:12.734Z"
   },
   {
    "duration": 14,
    "start_time": "2022-04-20T14:32:12.752Z"
   },
   {
    "duration": 5,
    "start_time": "2022-04-20T14:32:12.768Z"
   },
   {
    "duration": 57,
    "start_time": "2022-04-20T14:32:12.775Z"
   },
   {
    "duration": 10,
    "start_time": "2022-04-20T14:32:12.834Z"
   },
   {
    "duration": 15,
    "start_time": "2022-04-20T14:32:12.846Z"
   },
   {
    "duration": 12,
    "start_time": "2022-04-20T14:32:12.863Z"
   },
   {
    "duration": 33,
    "start_time": "2022-04-20T14:32:12.877Z"
   },
   {
    "duration": 25,
    "start_time": "2022-04-20T14:32:12.912Z"
   },
   {
    "duration": 0,
    "start_time": "2022-04-20T14:32:12.938Z"
   },
   {
    "duration": 0,
    "start_time": "2022-04-20T14:32:12.940Z"
   },
   {
    "duration": 0,
    "start_time": "2022-04-20T14:32:12.941Z"
   },
   {
    "duration": 0,
    "start_time": "2022-04-20T14:32:12.942Z"
   },
   {
    "duration": 0,
    "start_time": "2022-04-20T14:32:12.943Z"
   },
   {
    "duration": 0,
    "start_time": "2022-04-20T14:32:12.944Z"
   },
   {
    "duration": 3,
    "start_time": "2022-04-20T14:32:18.236Z"
   },
   {
    "duration": 5,
    "start_time": "2022-04-20T14:32:18.241Z"
   },
   {
    "duration": 229,
    "start_time": "2022-04-20T14:32:18.248Z"
   },
   {
    "duration": 41,
    "start_time": "2022-04-20T14:32:18.480Z"
   },
   {
    "duration": 6,
    "start_time": "2022-04-20T14:32:18.524Z"
   },
   {
    "duration": 179,
    "start_time": "2022-04-20T14:32:18.532Z"
   },
   {
    "duration": 29,
    "start_time": "2022-04-20T14:32:18.712Z"
   },
   {
    "duration": 6,
    "start_time": "2022-04-20T14:32:18.742Z"
   },
   {
    "duration": 120,
    "start_time": "2022-04-20T14:32:18.750Z"
   },
   {
    "duration": 21,
    "start_time": "2022-04-20T14:32:18.871Z"
   },
   {
    "duration": 6,
    "start_time": "2022-04-20T14:32:18.912Z"
   },
   {
    "duration": 20,
    "start_time": "2022-04-20T14:32:18.922Z"
   },
   {
    "duration": 38,
    "start_time": "2022-04-20T14:32:18.944Z"
   },
   {
    "duration": 12,
    "start_time": "2022-04-20T14:32:18.984Z"
   },
   {
    "duration": 31,
    "start_time": "2022-04-20T14:32:18.998Z"
   },
   {
    "duration": 40,
    "start_time": "2022-04-20T14:32:19.031Z"
   },
   {
    "duration": 55,
    "start_time": "2022-04-20T14:32:19.074Z"
   },
   {
    "duration": 97,
    "start_time": "2022-04-20T14:32:19.131Z"
   },
   {
    "duration": 48,
    "start_time": "2022-04-20T14:32:19.230Z"
   },
   {
    "duration": 41,
    "start_time": "2022-04-20T14:32:19.280Z"
   },
   {
    "duration": 52,
    "start_time": "2022-04-20T14:32:19.323Z"
   },
   {
    "duration": 49,
    "start_time": "2022-04-20T14:32:19.378Z"
   },
   {
    "duration": 50,
    "start_time": "2022-04-20T14:32:19.429Z"
   },
   {
    "duration": 49,
    "start_time": "2022-04-20T14:32:19.483Z"
   },
   {
    "duration": 13,
    "start_time": "2022-04-20T14:32:19.534Z"
   },
   {
    "duration": 14,
    "start_time": "2022-04-20T14:32:19.548Z"
   },
   {
    "duration": 15,
    "start_time": "2022-04-20T14:32:19.563Z"
   },
   {
    "duration": 32,
    "start_time": "2022-04-20T14:32:19.580Z"
   },
   {
    "duration": 31,
    "start_time": "2022-04-20T14:32:19.616Z"
   },
   {
    "duration": 13,
    "start_time": "2022-04-20T14:32:19.649Z"
   },
   {
    "duration": 16,
    "start_time": "2022-04-20T14:32:19.664Z"
   },
   {
    "duration": 38,
    "start_time": "2022-04-20T14:32:19.682Z"
   },
   {
    "duration": 4,
    "start_time": "2022-04-20T14:32:19.723Z"
   },
   {
    "duration": 25,
    "start_time": "2022-04-20T14:32:19.729Z"
   },
   {
    "duration": 0,
    "start_time": "2022-04-20T14:32:19.756Z"
   },
   {
    "duration": 0,
    "start_time": "2022-04-20T14:32:19.757Z"
   },
   {
    "duration": 0,
    "start_time": "2022-04-20T14:32:19.759Z"
   },
   {
    "duration": 0,
    "start_time": "2022-04-20T14:32:19.760Z"
   },
   {
    "duration": 0,
    "start_time": "2022-04-20T14:32:19.761Z"
   },
   {
    "duration": 0,
    "start_time": "2022-04-20T14:32:19.762Z"
   },
   {
    "duration": 20,
    "start_time": "2022-04-20T14:32:26.572Z"
   },
   {
    "duration": 15,
    "start_time": "2022-04-20T14:32:41.287Z"
   },
   {
    "duration": 263,
    "start_time": "2022-04-20T14:34:37.898Z"
   },
   {
    "duration": 2,
    "start_time": "2022-04-20T14:34:45.580Z"
   },
   {
    "duration": 4,
    "start_time": "2022-04-20T14:34:45.584Z"
   },
   {
    "duration": 210,
    "start_time": "2022-04-20T14:34:45.591Z"
   },
   {
    "duration": 39,
    "start_time": "2022-04-20T14:34:45.802Z"
   },
   {
    "duration": 5,
    "start_time": "2022-04-20T14:34:45.843Z"
   },
   {
    "duration": 184,
    "start_time": "2022-04-20T14:34:45.850Z"
   },
   {
    "duration": 22,
    "start_time": "2022-04-20T14:34:46.036Z"
   },
   {
    "duration": 5,
    "start_time": "2022-04-20T14:34:46.060Z"
   },
   {
    "duration": 112,
    "start_time": "2022-04-20T14:34:46.067Z"
   },
   {
    "duration": 33,
    "start_time": "2022-04-20T14:34:46.183Z"
   },
   {
    "duration": 7,
    "start_time": "2022-04-20T14:34:46.218Z"
   },
   {
    "duration": 15,
    "start_time": "2022-04-20T14:34:46.227Z"
   },
   {
    "duration": 32,
    "start_time": "2022-04-20T14:34:46.244Z"
   },
   {
    "duration": 14,
    "start_time": "2022-04-20T14:34:46.278Z"
   },
   {
    "duration": 34,
    "start_time": "2022-04-20T14:34:46.293Z"
   },
   {
    "duration": 26,
    "start_time": "2022-04-20T14:34:46.329Z"
   },
   {
    "duration": 22,
    "start_time": "2022-04-20T14:34:46.357Z"
   },
   {
    "duration": 91,
    "start_time": "2022-04-20T14:34:46.381Z"
   },
   {
    "duration": 71,
    "start_time": "2022-04-20T14:34:46.475Z"
   },
   {
    "duration": 13,
    "start_time": "2022-04-20T14:34:46.548Z"
   },
   {
    "duration": 65,
    "start_time": "2022-04-20T14:34:46.563Z"
   },
   {
    "duration": 28,
    "start_time": "2022-04-20T14:34:46.629Z"
   },
   {
    "duration": 66,
    "start_time": "2022-04-20T14:34:46.659Z"
   },
   {
    "duration": 24,
    "start_time": "2022-04-20T14:34:46.727Z"
   },
   {
    "duration": 10,
    "start_time": "2022-04-20T14:34:46.754Z"
   },
   {
    "duration": 12,
    "start_time": "2022-04-20T14:34:46.766Z"
   },
   {
    "duration": 44,
    "start_time": "2022-04-20T14:34:46.780Z"
   },
   {
    "duration": 4,
    "start_time": "2022-04-20T14:34:46.826Z"
   },
   {
    "duration": 22,
    "start_time": "2022-04-20T14:34:46.831Z"
   },
   {
    "duration": 9,
    "start_time": "2022-04-20T14:34:46.854Z"
   },
   {
    "duration": 49,
    "start_time": "2022-04-20T14:34:46.865Z"
   },
   {
    "duration": 14,
    "start_time": "2022-04-20T14:34:46.916Z"
   },
   {
    "duration": 4,
    "start_time": "2022-04-20T14:34:46.931Z"
   },
   {
    "duration": 36,
    "start_time": "2022-04-20T14:34:46.937Z"
   },
   {
    "duration": 339,
    "start_time": "2022-04-20T14:34:46.975Z"
   },
   {
    "duration": 0,
    "start_time": "2022-04-20T14:34:47.316Z"
   },
   {
    "duration": 0,
    "start_time": "2022-04-20T14:34:47.317Z"
   },
   {
    "duration": 0,
    "start_time": "2022-04-20T14:34:47.319Z"
   },
   {
    "duration": 0,
    "start_time": "2022-04-20T14:34:47.320Z"
   },
   {
    "duration": 0,
    "start_time": "2022-04-20T14:34:47.321Z"
   },
   {
    "duration": 5,
    "start_time": "2022-04-20T14:35:09.752Z"
   },
   {
    "duration": 6,
    "start_time": "2022-04-20T14:35:14.679Z"
   },
   {
    "duration": 5,
    "start_time": "2022-04-20T14:35:15.655Z"
   },
   {
    "duration": 35,
    "start_time": "2022-04-20T14:35:16.450Z"
   },
   {
    "duration": 28,
    "start_time": "2022-04-20T14:35:25.624Z"
   },
   {
    "duration": 29,
    "start_time": "2022-04-20T14:35:42.209Z"
   },
   {
    "duration": 5,
    "start_time": "2022-04-20T14:37:28.724Z"
   },
   {
    "duration": 24,
    "start_time": "2022-04-20T14:37:33.249Z"
   },
   {
    "duration": 30,
    "start_time": "2022-04-20T14:39:11.096Z"
   },
   {
    "duration": 24,
    "start_time": "2022-04-20T14:39:26.230Z"
   },
   {
    "duration": 7,
    "start_time": "2022-04-20T14:42:40.990Z"
   },
   {
    "duration": 8,
    "start_time": "2022-04-20T14:43:23.598Z"
   },
   {
    "duration": 7,
    "start_time": "2022-04-20T14:45:03.119Z"
   },
   {
    "duration": 12,
    "start_time": "2022-04-20T14:45:41.216Z"
   },
   {
    "duration": 869,
    "start_time": "2022-04-20T14:48:03.411Z"
   },
   {
    "duration": 140,
    "start_time": "2022-04-20T14:48:36.423Z"
   },
   {
    "duration": 78,
    "start_time": "2022-04-20T14:48:44.109Z"
   },
   {
    "duration": 60,
    "start_time": "2022-04-20T14:48:56.998Z"
   },
   {
    "duration": 28,
    "start_time": "2022-04-20T14:50:16.665Z"
   },
   {
    "duration": 20,
    "start_time": "2022-04-20T14:50:48.335Z"
   },
   {
    "duration": 27,
    "start_time": "2022-04-20T14:52:15.215Z"
   },
   {
    "duration": 18,
    "start_time": "2022-04-20T14:53:57.842Z"
   },
   {
    "duration": 57,
    "start_time": "2022-04-20T14:54:05.727Z"
   },
   {
    "duration": 60,
    "start_time": "2022-04-20T14:54:16.409Z"
   },
   {
    "duration": 26,
    "start_time": "2022-04-20T14:54:22.387Z"
   },
   {
    "duration": 24,
    "start_time": "2022-04-20T14:54:54.529Z"
   },
   {
    "duration": 6,
    "start_time": "2022-04-20T14:55:11.648Z"
   },
   {
    "duration": 9,
    "start_time": "2022-04-20T14:55:37.486Z"
   },
   {
    "duration": 6,
    "start_time": "2022-04-20T14:55:48.433Z"
   },
   {
    "duration": 25,
    "start_time": "2022-04-20T14:59:13.827Z"
   },
   {
    "duration": 19,
    "start_time": "2022-04-20T14:59:28.482Z"
   },
   {
    "duration": 10,
    "start_time": "2022-04-20T15:01:02.353Z"
   },
   {
    "duration": 30,
    "start_time": "2022-04-20T15:03:36.906Z"
   },
   {
    "duration": 32,
    "start_time": "2022-04-20T15:03:50.963Z"
   },
   {
    "duration": 1366,
    "start_time": "2022-04-20T15:05:07.280Z"
   },
   {
    "duration": 78,
    "start_time": "2022-04-20T15:05:31.473Z"
   },
   {
    "duration": 5,
    "start_time": "2022-04-20T15:05:40.602Z"
   },
   {
    "duration": 15,
    "start_time": "2022-04-20T15:05:41.200Z"
   },
   {
    "duration": 10,
    "start_time": "2022-04-20T15:05:41.486Z"
   },
   {
    "duration": 4,
    "start_time": "2022-04-20T15:05:44.288Z"
   },
   {
    "duration": 48,
    "start_time": "2022-04-20T15:05:50.685Z"
   },
   {
    "duration": 33,
    "start_time": "2022-04-20T15:06:30.424Z"
   },
   {
    "duration": 30,
    "start_time": "2022-04-20T15:07:07.038Z"
   },
   {
    "duration": 11,
    "start_time": "2022-04-20T15:08:52.049Z"
   },
   {
    "duration": 1034,
    "start_time": "2022-04-20T15:08:58.244Z"
   },
   {
    "duration": 18,
    "start_time": "2022-04-20T15:11:42.767Z"
   },
   {
    "duration": 610,
    "start_time": "2022-04-20T15:12:14.743Z"
   },
   {
    "duration": 162,
    "start_time": "2022-04-20T15:12:51.935Z"
   },
   {
    "duration": 144,
    "start_time": "2022-04-20T15:13:24.549Z"
   },
   {
    "duration": 319,
    "start_time": "2022-04-20T15:13:41.476Z"
   },
   {
    "duration": 254,
    "start_time": "2022-04-20T15:13:51.426Z"
   },
   {
    "duration": 184,
    "start_time": "2022-04-20T15:13:57.135Z"
   },
   {
    "duration": 204,
    "start_time": "2022-04-20T15:16:21.029Z"
   },
   {
    "duration": 150,
    "start_time": "2022-04-20T15:16:26.855Z"
   },
   {
    "duration": 1111,
    "start_time": "2022-04-20T15:19:47.312Z"
   },
   {
    "duration": 525,
    "start_time": "2022-04-20T15:21:26.833Z"
   },
   {
    "duration": 220,
    "start_time": "2022-04-20T15:23:28.749Z"
   },
   {
    "duration": 21,
    "start_time": "2022-04-20T15:25:37.790Z"
   },
   {
    "duration": 28,
    "start_time": "2022-04-20T15:26:02.475Z"
   },
   {
    "duration": 172,
    "start_time": "2022-04-20T15:26:17.387Z"
   },
   {
    "duration": 1766,
    "start_time": "2022-04-20T15:28:42.381Z"
   },
   {
    "duration": 742,
    "start_time": "2022-04-20T15:29:08.358Z"
   },
   {
    "duration": 20,
    "start_time": "2022-04-20T15:30:33.911Z"
   },
   {
    "duration": 11,
    "start_time": "2022-04-20T15:33:22.130Z"
   },
   {
    "duration": 880,
    "start_time": "2022-04-20T15:33:30.630Z"
   },
   {
    "duration": 3,
    "start_time": "2022-04-20T16:31:08.280Z"
   },
   {
    "duration": 10,
    "start_time": "2022-04-20T16:36:04.070Z"
   },
   {
    "duration": 109,
    "start_time": "2022-04-20T16:36:54.399Z"
   },
   {
    "duration": 114,
    "start_time": "2022-04-20T16:37:05.567Z"
   },
   {
    "duration": 8,
    "start_time": "2022-04-20T16:37:16.934Z"
   },
   {
    "duration": 131,
    "start_time": "2022-04-20T16:37:47.355Z"
   },
   {
    "duration": 172,
    "start_time": "2022-04-20T16:38:02.178Z"
   },
   {
    "duration": 144,
    "start_time": "2022-04-20T16:38:12.167Z"
   },
   {
    "duration": 202,
    "start_time": "2022-04-20T16:38:18.958Z"
   },
   {
    "duration": 196,
    "start_time": "2022-04-20T16:38:30.197Z"
   },
   {
    "duration": 194,
    "start_time": "2022-04-20T16:39:02.177Z"
   },
   {
    "duration": 199,
    "start_time": "2022-04-20T16:39:16.115Z"
   },
   {
    "duration": 186,
    "start_time": "2022-04-20T16:40:35.706Z"
   },
   {
    "duration": 182,
    "start_time": "2022-04-20T16:41:58.116Z"
   },
   {
    "duration": 2,
    "start_time": "2022-04-20T16:42:21.824Z"
   },
   {
    "duration": 3,
    "start_time": "2022-04-20T16:42:25.418Z"
   },
   {
    "duration": 198,
    "start_time": "2022-04-20T16:42:26.330Z"
   },
   {
    "duration": 191,
    "start_time": "2022-04-20T16:42:41.413Z"
   },
   {
    "duration": 343,
    "start_time": "2022-04-20T16:43:33.989Z"
   },
   {
    "duration": 179,
    "start_time": "2022-04-20T16:43:40.412Z"
   },
   {
    "duration": 185,
    "start_time": "2022-04-20T16:44:40.464Z"
   },
   {
    "duration": 216,
    "start_time": "2022-04-20T16:45:17.383Z"
   },
   {
    "duration": 231,
    "start_time": "2022-04-20T16:46:07.448Z"
   },
   {
    "duration": 4,
    "start_time": "2022-04-20T16:46:17.001Z"
   },
   {
    "duration": 203,
    "start_time": "2022-04-20T16:46:49.583Z"
   },
   {
    "duration": 203,
    "start_time": "2022-04-20T16:47:01.659Z"
   },
   {
    "duration": 212,
    "start_time": "2022-04-20T16:47:22.321Z"
   },
   {
    "duration": 34,
    "start_time": "2022-04-20T17:00:06.508Z"
   },
   {
    "duration": 1033,
    "start_time": "2022-04-20T17:02:51.024Z"
   },
   {
    "duration": 4,
    "start_time": "2022-04-20T17:03:03.532Z"
   },
   {
    "duration": 222,
    "start_time": "2022-04-20T17:03:04.298Z"
   },
   {
    "duration": 264,
    "start_time": "2022-04-20T17:03:17.031Z"
   },
   {
    "duration": 188,
    "start_time": "2022-04-20T17:03:27.434Z"
   },
   {
    "duration": 198,
    "start_time": "2022-04-20T17:03:35.141Z"
   },
   {
    "duration": 35,
    "start_time": "2022-04-20T17:13:01.332Z"
   },
   {
    "duration": 4,
    "start_time": "2022-04-20T17:21:14.528Z"
   },
   {
    "duration": 208,
    "start_time": "2022-04-20T17:23:13.255Z"
   },
   {
    "duration": 72,
    "start_time": "2022-04-21T14:30:49.066Z"
   },
   {
    "duration": 505,
    "start_time": "2022-04-21T14:30:51.606Z"
   },
   {
    "duration": 4,
    "start_time": "2022-04-21T14:30:52.113Z"
   },
   {
    "duration": 617,
    "start_time": "2022-04-21T14:30:52.119Z"
   },
   {
    "duration": 277,
    "start_time": "2022-04-21T14:30:52.739Z"
   },
   {
    "duration": 47,
    "start_time": "2022-04-21T14:30:53.018Z"
   },
   {
    "duration": 8,
    "start_time": "2022-04-21T14:30:53.067Z"
   },
   {
    "duration": 253,
    "start_time": "2022-04-21T14:30:53.077Z"
   },
   {
    "duration": 37,
    "start_time": "2022-04-21T14:30:53.333Z"
   },
   {
    "duration": 7,
    "start_time": "2022-04-21T14:30:53.372Z"
   },
   {
    "duration": 223,
    "start_time": "2022-04-21T14:30:53.385Z"
   },
   {
    "duration": 46,
    "start_time": "2022-04-21T14:30:53.610Z"
   },
   {
    "duration": 8,
    "start_time": "2022-04-21T14:30:53.659Z"
   },
   {
    "duration": 25,
    "start_time": "2022-04-21T14:30:53.670Z"
   },
   {
    "duration": 32,
    "start_time": "2022-04-21T14:30:53.698Z"
   },
   {
    "duration": 32,
    "start_time": "2022-04-21T14:30:53.732Z"
   },
   {
    "duration": 19,
    "start_time": "2022-04-21T14:30:53.767Z"
   },
   {
    "duration": 78,
    "start_time": "2022-04-21T14:30:53.789Z"
   },
   {
    "duration": 36,
    "start_time": "2022-04-21T14:30:53.870Z"
   },
   {
    "duration": 98,
    "start_time": "2022-04-21T14:30:53.909Z"
   },
   {
    "duration": 110,
    "start_time": "2022-04-21T14:30:54.009Z"
   },
   {
    "duration": 32,
    "start_time": "2022-04-21T14:30:54.121Z"
   },
   {
    "duration": 56,
    "start_time": "2022-04-21T14:30:54.155Z"
   },
   {
    "duration": 71,
    "start_time": "2022-04-21T14:30:54.213Z"
   },
   {
    "duration": 85,
    "start_time": "2022-04-21T14:30:54.286Z"
   },
   {
    "duration": 41,
    "start_time": "2022-04-21T14:30:54.373Z"
   },
   {
    "duration": 38,
    "start_time": "2022-04-21T14:30:54.417Z"
   },
   {
    "duration": 18,
    "start_time": "2022-04-21T14:30:54.457Z"
   },
   {
    "duration": 18,
    "start_time": "2022-04-21T14:30:54.480Z"
   },
   {
    "duration": 8,
    "start_time": "2022-04-21T14:30:54.500Z"
   },
   {
    "duration": 82,
    "start_time": "2022-04-21T14:30:54.512Z"
   },
   {
    "duration": 13,
    "start_time": "2022-04-21T14:30:54.596Z"
   },
   {
    "duration": 48,
    "start_time": "2022-04-21T14:30:54.612Z"
   },
   {
    "duration": 17,
    "start_time": "2022-04-21T14:30:54.663Z"
   },
   {
    "duration": 7,
    "start_time": "2022-04-21T14:30:54.683Z"
   },
   {
    "duration": 96,
    "start_time": "2022-04-21T14:30:54.692Z"
   },
   {
    "duration": 7,
    "start_time": "2022-04-21T14:30:54.791Z"
   },
   {
    "duration": 7,
    "start_time": "2022-04-21T14:30:54.800Z"
   },
   {
    "duration": 9,
    "start_time": "2022-04-21T14:30:54.809Z"
   },
   {
    "duration": 34,
    "start_time": "2022-04-21T14:30:54.821Z"
   },
   {
    "duration": 42,
    "start_time": "2022-04-21T14:30:54.858Z"
   },
   {
    "duration": 62,
    "start_time": "2022-04-21T14:30:54.903Z"
   },
   {
    "duration": 42,
    "start_time": "2022-04-21T14:30:54.968Z"
   },
   {
    "duration": 5,
    "start_time": "2022-04-21T14:30:55.012Z"
   },
   {
    "duration": 391,
    "start_time": "2022-04-21T14:30:55.019Z"
   },
   {
    "duration": 49,
    "start_time": "2022-04-21T14:30:55.412Z"
   },
   {
    "duration": 4,
    "start_time": "2022-04-21T14:30:55.463Z"
   },
   {
    "duration": 327,
    "start_time": "2022-04-21T14:30:55.470Z"
   },
   {
    "duration": 59,
    "start_time": "2022-04-21T14:30:55.799Z"
   },
   {
    "duration": 5,
    "start_time": "2022-04-21T14:30:55.860Z"
   },
   {
    "duration": 493,
    "start_time": "2022-04-21T14:30:55.867Z"
   },
   {
    "duration": 37,
    "start_time": "2022-04-21T14:30:56.362Z"
   },
   {
    "duration": 18,
    "start_time": "2022-04-21T14:39:21.880Z"
   },
   {
    "duration": 28,
    "start_time": "2022-04-21T14:44:21.427Z"
   },
   {
    "duration": 6,
    "start_time": "2022-04-21T14:50:49.310Z"
   },
   {
    "duration": 14,
    "start_time": "2022-04-21T14:52:50.872Z"
   },
   {
    "duration": 215,
    "start_time": "2022-04-21T14:53:05.770Z"
   },
   {
    "duration": 206,
    "start_time": "2022-04-21T14:54:30.276Z"
   },
   {
    "duration": 9,
    "start_time": "2022-04-21T14:55:02.510Z"
   },
   {
    "duration": 272,
    "start_time": "2022-04-21T14:55:12.290Z"
   },
   {
    "duration": 9,
    "start_time": "2022-04-21T14:56:03.546Z"
   },
   {
    "duration": 12,
    "start_time": "2022-04-21T14:57:25.250Z"
   },
   {
    "duration": 10,
    "start_time": "2022-04-21T14:57:37.113Z"
   },
   {
    "duration": 9,
    "start_time": "2022-04-21T14:57:53.665Z"
   },
   {
    "duration": 9,
    "start_time": "2022-04-21T15:16:47.325Z"
   },
   {
    "duration": 53,
    "start_time": "2022-04-21T15:21:46.945Z"
   },
   {
    "duration": 546,
    "start_time": "2022-04-21T15:22:32.399Z"
   },
   {
    "duration": 79,
    "start_time": "2022-04-21T15:22:39.451Z"
   },
   {
    "duration": 14,
    "start_time": "2022-04-21T15:29:05.187Z"
   },
   {
    "duration": 5,
    "start_time": "2022-04-21T15:29:09.543Z"
   },
   {
    "duration": 14,
    "start_time": "2022-04-21T15:29:09.552Z"
   },
   {
    "duration": 7,
    "start_time": "2022-04-21T15:29:09.569Z"
   },
   {
    "duration": 11,
    "start_time": "2022-04-21T15:29:09.580Z"
   },
   {
    "duration": 340,
    "start_time": "2022-04-21T15:29:09.593Z"
   },
   {
    "duration": 44,
    "start_time": "2022-04-21T15:29:09.936Z"
   },
   {
    "duration": 8,
    "start_time": "2022-04-21T15:29:09.983Z"
   },
   {
    "duration": 262,
    "start_time": "2022-04-21T15:29:09.994Z"
   },
   {
    "duration": 38,
    "start_time": "2022-04-21T15:29:10.260Z"
   },
   {
    "duration": 22,
    "start_time": "2022-04-21T15:29:10.303Z"
   },
   {
    "duration": 156,
    "start_time": "2022-04-21T15:29:10.328Z"
   },
   {
    "duration": 27,
    "start_time": "2022-04-21T15:29:10.488Z"
   },
   {
    "duration": 15,
    "start_time": "2022-04-21T15:29:10.518Z"
   },
   {
    "duration": 38,
    "start_time": "2022-04-21T15:29:10.536Z"
   },
   {
    "duration": 43,
    "start_time": "2022-04-21T15:29:10.576Z"
   },
   {
    "duration": 16,
    "start_time": "2022-04-21T15:29:10.622Z"
   },
   {
    "duration": 53,
    "start_time": "2022-04-21T15:29:10.654Z"
   },
   {
    "duration": 59,
    "start_time": "2022-04-21T15:29:10.709Z"
   },
   {
    "duration": 38,
    "start_time": "2022-04-21T15:29:10.771Z"
   },
   {
    "duration": 91,
    "start_time": "2022-04-21T15:29:10.812Z"
   },
   {
    "duration": 82,
    "start_time": "2022-04-21T15:29:10.906Z"
   },
   {
    "duration": 18,
    "start_time": "2022-04-21T15:29:10.992Z"
   },
   {
    "duration": 84,
    "start_time": "2022-04-21T15:29:11.013Z"
   },
   {
    "duration": 71,
    "start_time": "2022-04-21T15:29:11.099Z"
   },
   {
    "duration": 118,
    "start_time": "2022-04-21T15:29:11.173Z"
   },
   {
    "duration": 64,
    "start_time": "2022-04-21T15:29:11.294Z"
   },
   {
    "duration": 19,
    "start_time": "2022-04-21T15:29:11.360Z"
   },
   {
    "duration": 30,
    "start_time": "2022-04-21T15:29:11.385Z"
   },
   {
    "duration": 44,
    "start_time": "2022-04-21T15:29:11.418Z"
   },
   {
    "duration": 46,
    "start_time": "2022-04-21T15:29:11.465Z"
   },
   {
    "duration": 65,
    "start_time": "2022-04-21T15:29:11.514Z"
   },
   {
    "duration": 29,
    "start_time": "2022-04-21T15:29:11.581Z"
   },
   {
    "duration": 42,
    "start_time": "2022-04-21T15:29:11.613Z"
   },
   {
    "duration": 27,
    "start_time": "2022-04-21T15:29:11.657Z"
   },
   {
    "duration": 23,
    "start_time": "2022-04-21T15:29:11.686Z"
   },
   {
    "duration": 103,
    "start_time": "2022-04-21T15:29:11.712Z"
   },
   {
    "duration": 6,
    "start_time": "2022-04-21T15:29:11.817Z"
   },
   {
    "duration": 36,
    "start_time": "2022-04-21T15:29:11.826Z"
   },
   {
    "duration": 33,
    "start_time": "2022-04-21T15:29:11.865Z"
   },
   {
    "duration": 34,
    "start_time": "2022-04-21T15:29:11.901Z"
   },
   {
    "duration": 53,
    "start_time": "2022-04-21T15:29:11.938Z"
   },
   {
    "duration": 44,
    "start_time": "2022-04-21T15:29:11.994Z"
   },
   {
    "duration": 49,
    "start_time": "2022-04-21T15:29:12.041Z"
   },
   {
    "duration": 10,
    "start_time": "2022-04-21T15:29:12.093Z"
   },
   {
    "duration": 465,
    "start_time": "2022-04-21T15:29:12.105Z"
   },
   {
    "duration": 43,
    "start_time": "2022-04-21T15:29:12.573Z"
   },
   {
    "duration": 4,
    "start_time": "2022-04-21T15:29:12.619Z"
   },
   {
    "duration": 412,
    "start_time": "2022-04-21T15:29:12.653Z"
   },
   {
    "duration": 46,
    "start_time": "2022-04-21T15:29:13.068Z"
   },
   {
    "duration": 6,
    "start_time": "2022-04-21T15:29:13.116Z"
   },
   {
    "duration": 352,
    "start_time": "2022-04-21T15:29:13.124Z"
   },
   {
    "duration": 12,
    "start_time": "2022-04-21T15:29:13.478Z"
   },
   {
    "duration": 33,
    "start_time": "2022-04-21T15:29:13.492Z"
   },
   {
    "duration": 40,
    "start_time": "2022-04-21T15:29:13.528Z"
   },
   {
    "duration": 32,
    "start_time": "2022-04-21T15:29:13.571Z"
   },
   {
    "duration": 31,
    "start_time": "2022-04-21T15:29:13.605Z"
   },
   {
    "duration": 13,
    "start_time": "2022-04-21T15:29:35.947Z"
   },
   {
    "duration": 7,
    "start_time": "2022-04-21T15:30:00.903Z"
   },
   {
    "duration": 15,
    "start_time": "2022-04-21T15:30:20.110Z"
   },
   {
    "duration": 16,
    "start_time": "2022-04-21T15:30:43.077Z"
   },
   {
    "duration": 6,
    "start_time": "2022-04-21T15:31:04.122Z"
   },
   {
    "duration": 7,
    "start_time": "2022-04-21T15:31:33.573Z"
   },
   {
    "duration": 6,
    "start_time": "2022-04-21T15:37:47.297Z"
   },
   {
    "duration": 6,
    "start_time": "2022-04-21T15:37:58.423Z"
   },
   {
    "duration": 18,
    "start_time": "2022-04-21T15:43:19.112Z"
   },
   {
    "duration": 4,
    "start_time": "2022-04-21T15:43:27.484Z"
   },
   {
    "duration": 5,
    "start_time": "2022-04-21T15:43:27.492Z"
   },
   {
    "duration": 5,
    "start_time": "2022-04-21T15:43:27.499Z"
   },
   {
    "duration": 5,
    "start_time": "2022-04-21T15:43:27.507Z"
   },
   {
    "duration": 282,
    "start_time": "2022-04-21T15:43:27.514Z"
   },
   {
    "duration": 33,
    "start_time": "2022-04-21T15:43:27.798Z"
   },
   {
    "duration": 24,
    "start_time": "2022-04-21T15:43:27.833Z"
   },
   {
    "duration": 311,
    "start_time": "2022-04-21T15:43:27.860Z"
   },
   {
    "duration": 31,
    "start_time": "2022-04-21T15:43:28.177Z"
   },
   {
    "duration": 11,
    "start_time": "2022-04-21T15:43:28.211Z"
   },
   {
    "duration": 156,
    "start_time": "2022-04-21T15:43:28.224Z"
   },
   {
    "duration": 24,
    "start_time": "2022-04-21T15:43:28.382Z"
   },
   {
    "duration": 15,
    "start_time": "2022-04-21T15:43:28.409Z"
   },
   {
    "duration": 40,
    "start_time": "2022-04-21T15:43:28.426Z"
   },
   {
    "duration": 44,
    "start_time": "2022-04-21T15:43:28.468Z"
   },
   {
    "duration": 16,
    "start_time": "2022-04-21T15:43:28.514Z"
   },
   {
    "duration": 31,
    "start_time": "2022-04-21T15:43:28.532Z"
   },
   {
    "duration": 39,
    "start_time": "2022-04-21T15:43:28.565Z"
   },
   {
    "duration": 47,
    "start_time": "2022-04-21T15:43:28.607Z"
   },
   {
    "duration": 96,
    "start_time": "2022-04-21T15:43:28.657Z"
   },
   {
    "duration": 69,
    "start_time": "2022-04-21T15:43:28.755Z"
   },
   {
    "duration": 42,
    "start_time": "2022-04-21T15:43:28.826Z"
   },
   {
    "duration": 63,
    "start_time": "2022-04-21T15:43:28.871Z"
   },
   {
    "duration": 55,
    "start_time": "2022-04-21T15:43:28.939Z"
   },
   {
    "duration": 90,
    "start_time": "2022-04-21T15:43:28.997Z"
   },
   {
    "duration": 36,
    "start_time": "2022-04-21T15:43:29.090Z"
   },
   {
    "duration": 41,
    "start_time": "2022-04-21T15:43:29.129Z"
   },
   {
    "duration": 18,
    "start_time": "2022-04-21T15:43:29.174Z"
   },
   {
    "duration": 24,
    "start_time": "2022-04-21T15:43:29.195Z"
   },
   {
    "duration": 32,
    "start_time": "2022-04-21T15:43:29.222Z"
   },
   {
    "duration": 29,
    "start_time": "2022-04-21T15:43:29.258Z"
   },
   {
    "duration": 12,
    "start_time": "2022-04-21T15:43:29.289Z"
   },
   {
    "duration": 20,
    "start_time": "2022-04-21T15:43:29.304Z"
   },
   {
    "duration": 20,
    "start_time": "2022-04-21T15:43:29.355Z"
   },
   {
    "duration": 5,
    "start_time": "2022-04-21T15:43:29.377Z"
   },
   {
    "duration": 44,
    "start_time": "2022-04-21T15:43:29.385Z"
   },
   {
    "duration": 9,
    "start_time": "2022-04-21T15:43:29.452Z"
   },
   {
    "duration": 15,
    "start_time": "2022-04-21T15:43:29.463Z"
   },
   {
    "duration": 7,
    "start_time": "2022-04-21T15:43:29.480Z"
   },
   {
    "duration": 8,
    "start_time": "2022-04-21T15:43:29.489Z"
   },
   {
    "duration": 73,
    "start_time": "2022-04-21T15:43:29.499Z"
   },
   {
    "duration": 40,
    "start_time": "2022-04-21T15:43:29.574Z"
   },
   {
    "duration": 61,
    "start_time": "2022-04-21T15:43:29.616Z"
   },
   {
    "duration": 4,
    "start_time": "2022-04-21T15:43:29.679Z"
   },
   {
    "duration": 354,
    "start_time": "2022-04-21T15:43:29.685Z"
   },
   {
    "duration": 53,
    "start_time": "2022-04-21T15:43:30.041Z"
   },
   {
    "duration": 4,
    "start_time": "2022-04-21T15:43:30.096Z"
   },
   {
    "duration": 342,
    "start_time": "2022-04-21T15:43:30.103Z"
   },
   {
    "duration": 42,
    "start_time": "2022-04-21T15:43:30.451Z"
   },
   {
    "duration": 5,
    "start_time": "2022-04-21T15:43:30.495Z"
   },
   {
    "duration": 345,
    "start_time": "2022-04-21T15:43:30.502Z"
   },
   {
    "duration": 11,
    "start_time": "2022-04-21T15:43:30.852Z"
   },
   {
    "duration": 32,
    "start_time": "2022-04-21T15:43:30.865Z"
   },
   {
    "duration": 12,
    "start_time": "2022-04-21T15:43:30.899Z"
   },
   {
    "duration": 23,
    "start_time": "2022-04-21T15:43:30.914Z"
   },
   {
    "duration": 41,
    "start_time": "2022-04-21T15:43:30.939Z"
   },
   {
    "duration": 63,
    "start_time": "2022-04-21T15:43:30.983Z"
   },
   {
    "duration": 14,
    "start_time": "2022-04-21T15:44:53.444Z"
   },
   {
    "duration": 6,
    "start_time": "2022-04-21T15:45:18.486Z"
   },
   {
    "duration": 14,
    "start_time": "2022-04-21T15:45:39.952Z"
   },
   {
    "duration": 5,
    "start_time": "2022-04-21T15:45:50.192Z"
   },
   {
    "duration": 7,
    "start_time": "2022-04-21T15:46:38.582Z"
   },
   {
    "duration": 6,
    "start_time": "2022-04-21T15:46:58.097Z"
   },
   {
    "duration": 8,
    "start_time": "2022-04-21T15:47:08.466Z"
   },
   {
    "duration": 182,
    "start_time": "2022-04-21T15:49:40.454Z"
   },
   {
    "duration": 385,
    "start_time": "2022-04-21T15:54:17.145Z"
   },
   {
    "duration": 315,
    "start_time": "2022-04-21T15:55:31.587Z"
   },
   {
    "duration": 307,
    "start_time": "2022-04-21T15:55:55.488Z"
   },
   {
    "duration": 333,
    "start_time": "2022-04-21T15:56:01.537Z"
   },
   {
    "duration": 285,
    "start_time": "2022-04-21T15:56:16.415Z"
   },
   {
    "duration": 570,
    "start_time": "2022-04-21T15:56:35.934Z"
   },
   {
    "duration": 284,
    "start_time": "2022-04-21T15:56:42.913Z"
   },
   {
    "duration": 123,
    "start_time": "2022-04-21T15:57:29.073Z"
   },
   {
    "duration": 553,
    "start_time": "2022-04-22T06:48:29.384Z"
   },
   {
    "duration": 4,
    "start_time": "2022-04-22T06:48:29.939Z"
   },
   {
    "duration": 684,
    "start_time": "2022-04-22T06:48:29.944Z"
   },
   {
    "duration": 704,
    "start_time": "2022-04-22T06:48:30.631Z"
   },
   {
    "duration": 321,
    "start_time": "2022-04-22T06:48:31.339Z"
   },
   {
    "duration": 50,
    "start_time": "2022-04-22T06:48:31.663Z"
   },
   {
    "duration": 7,
    "start_time": "2022-04-22T06:48:31.716Z"
   },
   {
    "duration": 267,
    "start_time": "2022-04-22T06:48:31.726Z"
   },
   {
    "duration": 38,
    "start_time": "2022-04-22T06:48:31.995Z"
   },
   {
    "duration": 7,
    "start_time": "2022-04-22T06:48:32.035Z"
   },
   {
    "duration": 155,
    "start_time": "2022-04-22T06:48:32.044Z"
   },
   {
    "duration": 32,
    "start_time": "2022-04-22T06:48:32.202Z"
   },
   {
    "duration": 11,
    "start_time": "2022-04-22T06:48:32.237Z"
   },
   {
    "duration": 30,
    "start_time": "2022-04-22T06:48:32.253Z"
   },
   {
    "duration": 38,
    "start_time": "2022-04-22T06:48:32.285Z"
   },
   {
    "duration": 16,
    "start_time": "2022-04-22T06:48:32.325Z"
   },
   {
    "duration": 22,
    "start_time": "2022-04-22T06:48:32.344Z"
   },
   {
    "duration": 64,
    "start_time": "2022-04-22T06:48:32.369Z"
   },
   {
    "duration": 24,
    "start_time": "2022-04-22T06:48:32.435Z"
   },
   {
    "duration": 77,
    "start_time": "2022-04-22T06:48:32.461Z"
   },
   {
    "duration": 78,
    "start_time": "2022-04-22T06:48:32.539Z"
   },
   {
    "duration": 12,
    "start_time": "2022-04-22T06:48:32.619Z"
   },
   {
    "duration": 43,
    "start_time": "2022-04-22T06:48:32.632Z"
   },
   {
    "duration": 47,
    "start_time": "2022-04-22T06:48:32.677Z"
   },
   {
    "duration": 48,
    "start_time": "2022-04-22T06:48:32.725Z"
   },
   {
    "duration": 27,
    "start_time": "2022-04-22T06:48:32.792Z"
   },
   {
    "duration": 10,
    "start_time": "2022-04-22T06:48:32.821Z"
   },
   {
    "duration": 15,
    "start_time": "2022-04-22T06:48:32.833Z"
   },
   {
    "duration": 13,
    "start_time": "2022-04-22T06:48:32.849Z"
   },
   {
    "duration": 29,
    "start_time": "2022-04-22T06:48:32.863Z"
   },
   {
    "duration": 20,
    "start_time": "2022-04-22T06:48:32.894Z"
   },
   {
    "duration": 8,
    "start_time": "2022-04-22T06:48:32.916Z"
   },
   {
    "duration": 15,
    "start_time": "2022-04-22T06:48:32.926Z"
   },
   {
    "duration": 12,
    "start_time": "2022-04-22T06:48:32.942Z"
   },
   {
    "duration": 37,
    "start_time": "2022-04-22T06:48:32.956Z"
   },
   {
    "duration": 29,
    "start_time": "2022-04-22T06:48:32.994Z"
   },
   {
    "duration": 4,
    "start_time": "2022-04-22T06:48:33.025Z"
   },
   {
    "duration": 5,
    "start_time": "2022-04-22T06:48:33.030Z"
   },
   {
    "duration": 9,
    "start_time": "2022-04-22T06:48:33.036Z"
   },
   {
    "duration": 7,
    "start_time": "2022-04-22T06:48:33.046Z"
   },
   {
    "duration": 52,
    "start_time": "2022-04-22T06:48:33.057Z"
   },
   {
    "duration": 27,
    "start_time": "2022-04-22T06:48:33.110Z"
   },
   {
    "duration": 28,
    "start_time": "2022-04-22T06:48:33.138Z"
   },
   {
    "duration": 26,
    "start_time": "2022-04-22T06:48:33.167Z"
   },
   {
    "duration": 216,
    "start_time": "2022-04-22T06:48:33.194Z"
   },
   {
    "duration": 29,
    "start_time": "2022-04-22T06:48:33.411Z"
   },
   {
    "duration": 4,
    "start_time": "2022-04-22T06:48:33.441Z"
   },
   {
    "duration": 201,
    "start_time": "2022-04-22T06:48:33.447Z"
   },
   {
    "duration": 28,
    "start_time": "2022-04-22T06:48:33.650Z"
   },
   {
    "duration": 14,
    "start_time": "2022-04-22T06:48:33.679Z"
   },
   {
    "duration": 208,
    "start_time": "2022-04-22T06:48:33.694Z"
   },
   {
    "duration": 10,
    "start_time": "2022-04-22T06:48:33.904Z"
   },
   {
    "duration": 6,
    "start_time": "2022-04-22T06:48:33.916Z"
   },
   {
    "duration": 9,
    "start_time": "2022-04-22T06:48:33.924Z"
   },
   {
    "duration": 5,
    "start_time": "2022-04-22T06:48:33.935Z"
   },
   {
    "duration": 9,
    "start_time": "2022-04-22T06:48:33.942Z"
   },
   {
    "duration": 294,
    "start_time": "2022-04-22T06:48:33.953Z"
   },
   {
    "duration": 11,
    "start_time": "2022-04-22T06:48:34.249Z"
   },
   {
    "duration": 9,
    "start_time": "2022-04-22T06:48:34.262Z"
   },
   {
    "duration": 23,
    "start_time": "2022-04-22T06:48:34.273Z"
   },
   {
    "duration": 5,
    "start_time": "2022-04-22T06:48:34.298Z"
   },
   {
    "duration": 9,
    "start_time": "2022-04-22T06:48:34.304Z"
   },
   {
    "duration": 156,
    "start_time": "2022-04-22T06:49:35.026Z"
   },
   {
    "duration": 166,
    "start_time": "2022-04-22T06:49:42.191Z"
   },
   {
    "duration": 176,
    "start_time": "2022-04-22T06:50:27.011Z"
   },
   {
    "duration": 148,
    "start_time": "2022-04-22T06:51:11.777Z"
   },
   {
    "duration": 187,
    "start_time": "2022-04-22T06:51:19.778Z"
   },
   {
    "duration": 256,
    "start_time": "2022-04-22T06:52:13.555Z"
   },
   {
    "duration": 233,
    "start_time": "2022-04-22T06:52:23.040Z"
   },
   {
    "duration": 165,
    "start_time": "2022-04-22T06:52:28.894Z"
   },
   {
    "duration": 3,
    "start_time": "2022-04-22T06:56:02.549Z"
   },
   {
    "duration": 12,
    "start_time": "2022-04-22T06:56:02.554Z"
   },
   {
    "duration": 4,
    "start_time": "2022-04-22T06:56:02.568Z"
   },
   {
    "duration": 11,
    "start_time": "2022-04-22T06:56:02.574Z"
   },
   {
    "duration": 207,
    "start_time": "2022-04-22T06:56:02.587Z"
   },
   {
    "duration": 26,
    "start_time": "2022-04-22T06:56:02.796Z"
   },
   {
    "duration": 9,
    "start_time": "2022-04-22T06:56:02.824Z"
   },
   {
    "duration": 184,
    "start_time": "2022-04-22T06:56:02.835Z"
   },
   {
    "duration": 23,
    "start_time": "2022-04-22T06:56:03.020Z"
   },
   {
    "duration": 5,
    "start_time": "2022-04-22T06:56:03.044Z"
   },
   {
    "duration": 113,
    "start_time": "2022-04-22T06:56:03.052Z"
   },
   {
    "duration": 36,
    "start_time": "2022-04-22T06:56:03.167Z"
   },
   {
    "duration": 5,
    "start_time": "2022-04-22T06:56:03.205Z"
   },
   {
    "duration": 22,
    "start_time": "2022-04-22T06:56:03.211Z"
   },
   {
    "duration": 35,
    "start_time": "2022-04-22T06:56:03.235Z"
   },
   {
    "duration": 20,
    "start_time": "2022-04-22T06:56:03.272Z"
   },
   {
    "duration": 12,
    "start_time": "2022-04-22T06:56:03.294Z"
   },
   {
    "duration": 30,
    "start_time": "2022-04-22T06:56:03.308Z"
   },
   {
    "duration": 22,
    "start_time": "2022-04-22T06:56:03.340Z"
   },
   {
    "duration": 88,
    "start_time": "2022-04-22T06:56:03.364Z"
   },
   {
    "duration": 63,
    "start_time": "2022-04-22T06:56:03.453Z"
   },
   {
    "duration": 14,
    "start_time": "2022-04-22T06:56:03.517Z"
   },
   {
    "duration": 62,
    "start_time": "2022-04-22T06:56:03.532Z"
   },
   {
    "duration": 30,
    "start_time": "2022-04-22T06:56:03.595Z"
   },
   {
    "duration": 67,
    "start_time": "2022-04-22T06:56:03.627Z"
   },
   {
    "duration": 25,
    "start_time": "2022-04-22T06:56:03.696Z"
   },
   {
    "duration": 11,
    "start_time": "2022-04-22T06:56:03.723Z"
   },
   {
    "duration": 12,
    "start_time": "2022-04-22T06:56:03.736Z"
   },
   {
    "duration": 46,
    "start_time": "2022-04-22T06:56:03.753Z"
   },
   {
    "duration": 5,
    "start_time": "2022-04-22T06:56:03.800Z"
   },
   {
    "duration": 21,
    "start_time": "2022-04-22T06:56:03.806Z"
   },
   {
    "duration": 8,
    "start_time": "2022-04-22T06:56:03.829Z"
   },
   {
    "duration": 35,
    "start_time": "2022-04-22T06:56:03.839Z"
   },
   {
    "duration": 21,
    "start_time": "2022-04-22T06:56:03.875Z"
   },
   {
    "duration": 3,
    "start_time": "2022-04-22T06:56:03.898Z"
   },
   {
    "duration": 38,
    "start_time": "2022-04-22T06:56:03.903Z"
   },
   {
    "duration": 4,
    "start_time": "2022-04-22T06:56:03.943Z"
   },
   {
    "duration": 10,
    "start_time": "2022-04-22T06:56:03.949Z"
   },
   {
    "duration": 10,
    "start_time": "2022-04-22T06:56:03.961Z"
   },
   {
    "duration": 22,
    "start_time": "2022-04-22T06:56:03.973Z"
   },
   {
    "duration": 39,
    "start_time": "2022-04-22T06:56:03.996Z"
   },
   {
    "duration": 28,
    "start_time": "2022-04-22T06:56:04.037Z"
   },
   {
    "duration": 37,
    "start_time": "2022-04-22T06:56:04.066Z"
   },
   {
    "duration": 3,
    "start_time": "2022-04-22T06:56:04.105Z"
   },
   {
    "duration": 218,
    "start_time": "2022-04-22T06:56:04.109Z"
   },
   {
    "duration": 26,
    "start_time": "2022-04-22T06:56:04.329Z"
   },
   {
    "duration": 3,
    "start_time": "2022-04-22T06:56:04.356Z"
   },
   {
    "duration": 205,
    "start_time": "2022-04-22T06:56:04.361Z"
   },
   {
    "duration": 36,
    "start_time": "2022-04-22T06:56:04.567Z"
   },
   {
    "duration": 3,
    "start_time": "2022-04-22T06:56:04.605Z"
   },
   {
    "duration": 207,
    "start_time": "2022-04-22T06:56:04.609Z"
   },
   {
    "duration": 8,
    "start_time": "2022-04-22T06:56:04.818Z"
   },
   {
    "duration": 36,
    "start_time": "2022-04-22T06:56:04.827Z"
   },
   {
    "duration": 22,
    "start_time": "2022-04-22T06:56:04.865Z"
   },
   {
    "duration": 12,
    "start_time": "2022-04-22T06:56:04.889Z"
   },
   {
    "duration": 31,
    "start_time": "2022-04-22T06:56:04.903Z"
   },
   {
    "duration": 167,
    "start_time": "2022-04-22T06:56:04.936Z"
   },
   {
    "duration": 7,
    "start_time": "2022-04-22T06:56:05.104Z"
   },
   {
    "duration": 6,
    "start_time": "2022-04-22T06:56:05.113Z"
   },
   {
    "duration": 7,
    "start_time": "2022-04-22T06:56:05.121Z"
   },
   {
    "duration": 3,
    "start_time": "2022-04-22T06:56:05.130Z"
   },
   {
    "duration": 6,
    "start_time": "2022-04-22T06:56:05.135Z"
   },
   {
    "duration": 238,
    "start_time": "2022-04-22T06:56:05.143Z"
   },
   {
    "duration": 8,
    "start_time": "2022-04-22T07:00:40.726Z"
   },
   {
    "duration": 173,
    "start_time": "2022-04-22T07:01:30.353Z"
   },
   {
    "duration": 159,
    "start_time": "2022-04-22T07:02:41.233Z"
   },
   {
    "duration": 186,
    "start_time": "2022-04-22T07:03:00.053Z"
   },
   {
    "duration": 233,
    "start_time": "2022-04-22T07:06:01.394Z"
   },
   {
    "duration": 15,
    "start_time": "2022-04-22T07:09:07.036Z"
   },
   {
    "duration": 18,
    "start_time": "2022-04-22T07:11:44.182Z"
   },
   {
    "duration": 18,
    "start_time": "2022-04-22T07:12:13.342Z"
   },
   {
    "duration": 268,
    "start_time": "2022-04-22T07:12:24.778Z"
   },
   {
    "duration": 202,
    "start_time": "2022-04-22T07:12:36.560Z"
   },
   {
    "duration": 199,
    "start_time": "2022-04-22T07:12:45.138Z"
   },
   {
    "duration": 186,
    "start_time": "2022-04-22T07:13:23.296Z"
   },
   {
    "duration": 186,
    "start_time": "2022-04-22T07:15:15.957Z"
   },
   {
    "duration": 99,
    "start_time": "2022-04-22T07:15:45.205Z"
   },
   {
    "duration": 184,
    "start_time": "2022-04-22T07:15:53.376Z"
   },
   {
    "duration": 3,
    "start_time": "2022-04-22T07:20:27.748Z"
   },
   {
    "duration": 9,
    "start_time": "2022-04-22T07:20:33.872Z"
   },
   {
    "duration": 9,
    "start_time": "2022-04-22T07:20:39.384Z"
   },
   {
    "duration": 11,
    "start_time": "2022-04-22T07:21:10.621Z"
   },
   {
    "duration": 6,
    "start_time": "2022-04-22T07:21:22.300Z"
   },
   {
    "duration": 4,
    "start_time": "2022-04-22T07:21:28.992Z"
   },
   {
    "duration": 4,
    "start_time": "2022-04-22T07:21:28.998Z"
   },
   {
    "duration": 6,
    "start_time": "2022-04-22T07:21:29.004Z"
   },
   {
    "duration": 6,
    "start_time": "2022-04-22T07:21:29.012Z"
   },
   {
    "duration": 309,
    "start_time": "2022-04-22T07:21:29.020Z"
   },
   {
    "duration": 30,
    "start_time": "2022-04-22T07:21:29.332Z"
   },
   {
    "duration": 6,
    "start_time": "2022-04-22T07:21:29.364Z"
   },
   {
    "duration": 180,
    "start_time": "2022-04-22T07:21:29.393Z"
   },
   {
    "duration": 28,
    "start_time": "2022-04-22T07:21:29.575Z"
   },
   {
    "duration": 7,
    "start_time": "2022-04-22T07:21:29.604Z"
   },
   {
    "duration": 124,
    "start_time": "2022-04-22T07:21:29.613Z"
   },
   {
    "duration": 20,
    "start_time": "2022-04-22T07:21:29.741Z"
   },
   {
    "duration": 17,
    "start_time": "2022-04-22T07:21:29.762Z"
   },
   {
    "duration": 21,
    "start_time": "2022-04-22T07:21:29.781Z"
   },
   {
    "duration": 27,
    "start_time": "2022-04-22T07:21:29.804Z"
   },
   {
    "duration": 10,
    "start_time": "2022-04-22T07:21:29.833Z"
   },
   {
    "duration": 17,
    "start_time": "2022-04-22T07:21:29.845Z"
   },
   {
    "duration": 32,
    "start_time": "2022-04-22T07:21:29.864Z"
   },
   {
    "duration": 29,
    "start_time": "2022-04-22T07:21:29.898Z"
   },
   {
    "duration": 24,
    "start_time": "2022-04-22T07:21:29.928Z"
   },
   {
    "duration": 85,
    "start_time": "2022-04-22T07:21:29.954Z"
   },
   {
    "duration": 76,
    "start_time": "2022-04-22T07:21:30.041Z"
   },
   {
    "duration": 16,
    "start_time": "2022-04-22T07:21:30.119Z"
   },
   {
    "duration": 64,
    "start_time": "2022-04-22T07:21:30.137Z"
   },
   {
    "duration": 33,
    "start_time": "2022-04-22T07:21:30.203Z"
   },
   {
    "duration": 69,
    "start_time": "2022-04-22T07:21:30.238Z"
   },
   {
    "duration": 27,
    "start_time": "2022-04-22T07:21:30.309Z"
   },
   {
    "duration": 13,
    "start_time": "2022-04-22T07:21:30.338Z"
   },
   {
    "duration": 41,
    "start_time": "2022-04-22T07:21:30.353Z"
   },
   {
    "duration": 14,
    "start_time": "2022-04-22T07:21:30.398Z"
   },
   {
    "duration": 15,
    "start_time": "2022-04-22T07:21:30.414Z"
   },
   {
    "duration": 29,
    "start_time": "2022-04-22T07:21:30.432Z"
   },
   {
    "duration": 14,
    "start_time": "2022-04-22T07:21:30.463Z"
   },
   {
    "duration": 27,
    "start_time": "2022-04-22T07:21:30.479Z"
   },
   {
    "duration": 19,
    "start_time": "2022-04-22T07:21:30.509Z"
   },
   {
    "duration": 20,
    "start_time": "2022-04-22T07:21:30.531Z"
   },
   {
    "duration": 38,
    "start_time": "2022-04-22T07:21:30.553Z"
   },
   {
    "duration": 7,
    "start_time": "2022-04-22T07:21:30.593Z"
   },
   {
    "duration": 5,
    "start_time": "2022-04-22T07:21:30.602Z"
   },
   {
    "duration": 13,
    "start_time": "2022-04-22T07:21:30.610Z"
   },
   {
    "duration": 41,
    "start_time": "2022-04-22T07:21:30.626Z"
   },
   {
    "duration": 82,
    "start_time": "2022-04-22T07:21:30.669Z"
   },
   {
    "duration": 49,
    "start_time": "2022-04-22T07:21:30.752Z"
   },
   {
    "duration": 31,
    "start_time": "2022-04-22T07:21:30.802Z"
   },
   {
    "duration": 4,
    "start_time": "2022-04-22T07:21:30.835Z"
   },
   {
    "duration": 231,
    "start_time": "2022-04-22T07:21:30.840Z"
   },
   {
    "duration": 35,
    "start_time": "2022-04-22T07:21:31.073Z"
   },
   {
    "duration": 4,
    "start_time": "2022-04-22T07:21:31.110Z"
   },
   {
    "duration": 221,
    "start_time": "2022-04-22T07:21:31.116Z"
   },
   {
    "duration": 30,
    "start_time": "2022-04-22T07:21:31.339Z"
   },
   {
    "duration": 4,
    "start_time": "2022-04-22T07:21:31.371Z"
   },
   {
    "duration": 223,
    "start_time": "2022-04-22T07:21:31.376Z"
   },
   {
    "duration": 8,
    "start_time": "2022-04-22T07:21:31.601Z"
   },
   {
    "duration": 8,
    "start_time": "2022-04-22T07:21:31.611Z"
   },
   {
    "duration": 10,
    "start_time": "2022-04-22T07:21:31.622Z"
   },
   {
    "duration": 5,
    "start_time": "2022-04-22T07:21:31.635Z"
   },
   {
    "duration": 8,
    "start_time": "2022-04-22T07:21:31.642Z"
   },
   {
    "duration": 1044,
    "start_time": "2022-04-22T07:21:31.652Z"
   },
   {
    "duration": 9,
    "start_time": "2022-04-22T07:21:32.699Z"
   },
   {
    "duration": 8,
    "start_time": "2022-04-22T07:21:32.711Z"
   },
   {
    "duration": 9,
    "start_time": "2022-04-22T07:21:32.721Z"
   },
   {
    "duration": 6,
    "start_time": "2022-04-22T07:21:32.732Z"
   },
   {
    "duration": 5,
    "start_time": "2022-04-22T07:21:32.793Z"
   },
   {
    "duration": 406,
    "start_time": "2022-04-22T07:21:32.800Z"
   },
   {
    "duration": 3,
    "start_time": "2022-04-22T07:21:55.370Z"
   },
   {
    "duration": 3,
    "start_time": "2022-04-22T07:21:55.377Z"
   },
   {
    "duration": 3,
    "start_time": "2022-04-22T07:21:55.385Z"
   },
   {
    "duration": 7,
    "start_time": "2022-04-22T07:21:55.389Z"
   },
   {
    "duration": 195,
    "start_time": "2022-04-22T07:21:55.398Z"
   },
   {
    "duration": 28,
    "start_time": "2022-04-22T07:21:55.597Z"
   },
   {
    "duration": 7,
    "start_time": "2022-04-22T07:21:55.627Z"
   },
   {
    "duration": 197,
    "start_time": "2022-04-22T07:21:55.636Z"
   },
   {
    "duration": 24,
    "start_time": "2022-04-22T07:21:55.835Z"
   },
   {
    "duration": 6,
    "start_time": "2022-04-22T07:21:55.861Z"
   },
   {
    "duration": 108,
    "start_time": "2022-04-22T07:21:55.869Z"
   },
   {
    "duration": 31,
    "start_time": "2022-04-22T07:21:55.980Z"
   },
   {
    "duration": 5,
    "start_time": "2022-04-22T07:21:56.013Z"
   },
   {
    "duration": 17,
    "start_time": "2022-04-22T07:21:56.020Z"
   },
   {
    "duration": 27,
    "start_time": "2022-04-22T07:21:56.039Z"
   },
   {
    "duration": 29,
    "start_time": "2022-04-22T07:21:56.068Z"
   },
   {
    "duration": 9,
    "start_time": "2022-04-22T07:22:00.672Z"
   },
   {
    "duration": 17,
    "start_time": "2022-04-22T07:22:10.121Z"
   },
   {
    "duration": 3,
    "start_time": "2022-04-22T07:22:22.423Z"
   },
   {
    "duration": 6,
    "start_time": "2022-04-22T07:22:22.428Z"
   },
   {
    "duration": 5,
    "start_time": "2022-04-22T07:22:22.436Z"
   },
   {
    "duration": 6,
    "start_time": "2022-04-22T07:22:22.443Z"
   },
   {
    "duration": 218,
    "start_time": "2022-04-22T07:22:22.452Z"
   },
   {
    "duration": 46,
    "start_time": "2022-04-22T07:22:22.671Z"
   },
   {
    "duration": 5,
    "start_time": "2022-04-22T07:22:22.719Z"
   },
   {
    "duration": 223,
    "start_time": "2022-04-22T07:22:22.726Z"
   },
   {
    "duration": 24,
    "start_time": "2022-04-22T07:22:22.951Z"
   },
   {
    "duration": 19,
    "start_time": "2022-04-22T07:22:22.977Z"
   },
   {
    "duration": 113,
    "start_time": "2022-04-22T07:22:23.001Z"
   },
   {
    "duration": 22,
    "start_time": "2022-04-22T07:22:23.115Z"
   },
   {
    "duration": 6,
    "start_time": "2022-04-22T07:22:23.139Z"
   },
   {
    "duration": 15,
    "start_time": "2022-04-22T07:22:23.147Z"
   },
   {
    "duration": 44,
    "start_time": "2022-04-22T07:22:23.164Z"
   },
   {
    "duration": 11,
    "start_time": "2022-04-22T07:22:23.210Z"
   },
   {
    "duration": 23,
    "start_time": "2022-04-22T07:22:23.222Z"
   },
   {
    "duration": 16,
    "start_time": "2022-04-22T07:22:23.246Z"
   },
   {
    "duration": 51,
    "start_time": "2022-04-22T07:22:23.264Z"
   },
   {
    "duration": 24,
    "start_time": "2022-04-22T07:22:23.317Z"
   },
   {
    "duration": 77,
    "start_time": "2022-04-22T07:22:23.342Z"
   },
   {
    "duration": 50,
    "start_time": "2022-04-22T07:22:23.421Z"
   },
   {
    "duration": 31,
    "start_time": "2022-04-22T07:22:23.473Z"
   },
   {
    "duration": 46,
    "start_time": "2022-04-22T07:22:23.506Z"
   },
   {
    "duration": 53,
    "start_time": "2022-04-22T07:22:23.553Z"
   },
   {
    "duration": 50,
    "start_time": "2022-04-22T07:22:23.608Z"
   },
   {
    "duration": 42,
    "start_time": "2022-04-22T07:22:23.660Z"
   },
   {
    "duration": 12,
    "start_time": "2022-04-22T07:22:23.706Z"
   },
   {
    "duration": 18,
    "start_time": "2022-04-22T07:22:23.720Z"
   },
   {
    "duration": 12,
    "start_time": "2022-04-22T07:22:23.740Z"
   },
   {
    "duration": 7,
    "start_time": "2022-04-22T07:22:23.753Z"
   },
   {
    "duration": 56,
    "start_time": "2022-04-22T07:22:23.762Z"
   },
   {
    "duration": 14,
    "start_time": "2022-04-22T07:22:23.821Z"
   },
   {
    "duration": 17,
    "start_time": "2022-04-22T07:22:23.837Z"
   },
   {
    "duration": 12,
    "start_time": "2022-04-22T07:22:23.855Z"
   },
   {
    "duration": 5,
    "start_time": "2022-04-22T07:22:23.893Z"
   },
   {
    "duration": 46,
    "start_time": "2022-04-22T07:22:23.901Z"
   },
   {
    "duration": 4,
    "start_time": "2022-04-22T07:22:23.949Z"
   },
   {
    "duration": 8,
    "start_time": "2022-04-22T07:22:23.954Z"
   },
   {
    "duration": 6,
    "start_time": "2022-04-22T07:22:23.963Z"
   },
   {
    "duration": 7,
    "start_time": "2022-04-22T07:22:23.992Z"
   },
   {
    "duration": 45,
    "start_time": "2022-04-22T07:22:24.001Z"
   },
   {
    "duration": 47,
    "start_time": "2022-04-22T07:22:24.049Z"
   },
   {
    "duration": 30,
    "start_time": "2022-04-22T07:22:24.099Z"
   },
   {
    "duration": 4,
    "start_time": "2022-04-22T07:22:24.131Z"
   },
   {
    "duration": 290,
    "start_time": "2022-04-22T07:22:24.137Z"
   },
   {
    "duration": 32,
    "start_time": "2022-04-22T07:22:24.429Z"
   },
   {
    "duration": 3,
    "start_time": "2022-04-22T07:22:24.463Z"
   },
   {
    "duration": 227,
    "start_time": "2022-04-22T07:22:24.468Z"
   },
   {
    "duration": 42,
    "start_time": "2022-04-22T07:22:24.698Z"
   },
   {
    "duration": 4,
    "start_time": "2022-04-22T07:22:24.742Z"
   },
   {
    "duration": 454,
    "start_time": "2022-04-22T07:22:24.748Z"
   },
   {
    "duration": 12,
    "start_time": "2022-04-22T07:22:25.204Z"
   },
   {
    "duration": 11,
    "start_time": "2022-04-22T07:22:25.218Z"
   },
   {
    "duration": 62,
    "start_time": "2022-04-22T07:22:25.231Z"
   },
   {
    "duration": 4,
    "start_time": "2022-04-22T07:22:25.296Z"
   },
   {
    "duration": 10,
    "start_time": "2022-04-22T07:22:25.302Z"
   },
   {
    "duration": 407,
    "start_time": "2022-04-22T07:22:25.314Z"
   },
   {
    "duration": 7,
    "start_time": "2022-04-22T07:22:25.723Z"
   },
   {
    "duration": 62,
    "start_time": "2022-04-22T07:22:25.732Z"
   },
   {
    "duration": 18,
    "start_time": "2022-04-22T07:22:25.796Z"
   },
   {
    "duration": 17,
    "start_time": "2022-04-22T07:22:25.816Z"
   },
   {
    "duration": 14,
    "start_time": "2022-04-22T07:22:25.835Z"
   },
   {
    "duration": 444,
    "start_time": "2022-04-22T07:22:25.851Z"
   },
   {
    "duration": 2478,
    "start_time": "2022-04-22T07:27:25.828Z"
   },
   {
    "duration": 3,
    "start_time": "2022-04-22T07:27:34.689Z"
   },
   {
    "duration": 7,
    "start_time": "2022-04-22T07:27:34.695Z"
   },
   {
    "duration": 5,
    "start_time": "2022-04-22T07:27:34.704Z"
   },
   {
    "duration": 4,
    "start_time": "2022-04-22T07:27:34.710Z"
   },
   {
    "duration": 234,
    "start_time": "2022-04-22T07:27:34.715Z"
   },
   {
    "duration": 53,
    "start_time": "2022-04-22T07:27:34.952Z"
   },
   {
    "duration": 7,
    "start_time": "2022-04-22T07:27:35.008Z"
   },
   {
    "duration": 189,
    "start_time": "2022-04-22T07:27:35.017Z"
   },
   {
    "duration": 24,
    "start_time": "2022-04-22T07:27:35.209Z"
   },
   {
    "duration": 5,
    "start_time": "2022-04-22T07:27:35.235Z"
   },
   {
    "duration": 115,
    "start_time": "2022-04-22T07:27:35.242Z"
   },
   {
    "duration": 23,
    "start_time": "2022-04-22T07:27:35.359Z"
   },
   {
    "duration": 6,
    "start_time": "2022-04-22T07:27:35.393Z"
   },
   {
    "duration": 19,
    "start_time": "2022-04-22T07:27:35.405Z"
   },
   {
    "duration": 35,
    "start_time": "2022-04-22T07:27:35.426Z"
   },
   {
    "duration": 15,
    "start_time": "2022-04-22T07:27:35.463Z"
   },
   {
    "duration": 24,
    "start_time": "2022-04-22T07:27:35.493Z"
   },
   {
    "duration": 139,
    "start_time": "2022-04-22T07:27:35.520Z"
   },
   {
    "duration": 0,
    "start_time": "2022-04-22T07:27:35.662Z"
   },
   {
    "duration": 0,
    "start_time": "2022-04-22T07:27:35.664Z"
   },
   {
    "duration": 0,
    "start_time": "2022-04-22T07:27:35.665Z"
   },
   {
    "duration": 0,
    "start_time": "2022-04-22T07:27:35.666Z"
   },
   {
    "duration": 0,
    "start_time": "2022-04-22T07:27:35.667Z"
   },
   {
    "duration": 0,
    "start_time": "2022-04-22T07:27:35.669Z"
   },
   {
    "duration": 0,
    "start_time": "2022-04-22T07:27:35.670Z"
   },
   {
    "duration": 0,
    "start_time": "2022-04-22T07:27:35.671Z"
   },
   {
    "duration": 0,
    "start_time": "2022-04-22T07:27:35.672Z"
   },
   {
    "duration": 0,
    "start_time": "2022-04-22T07:27:35.673Z"
   },
   {
    "duration": 0,
    "start_time": "2022-04-22T07:27:35.674Z"
   },
   {
    "duration": 0,
    "start_time": "2022-04-22T07:27:35.675Z"
   },
   {
    "duration": 0,
    "start_time": "2022-04-22T07:27:35.675Z"
   },
   {
    "duration": 0,
    "start_time": "2022-04-22T07:27:35.677Z"
   },
   {
    "duration": 0,
    "start_time": "2022-04-22T07:27:35.677Z"
   },
   {
    "duration": 0,
    "start_time": "2022-04-22T07:27:35.678Z"
   },
   {
    "duration": 0,
    "start_time": "2022-04-22T07:27:35.679Z"
   },
   {
    "duration": 0,
    "start_time": "2022-04-22T07:27:35.681Z"
   },
   {
    "duration": 0,
    "start_time": "2022-04-22T07:27:35.682Z"
   },
   {
    "duration": 0,
    "start_time": "2022-04-22T07:27:35.682Z"
   },
   {
    "duration": 0,
    "start_time": "2022-04-22T07:27:35.683Z"
   },
   {
    "duration": 0,
    "start_time": "2022-04-22T07:27:35.684Z"
   },
   {
    "duration": 0,
    "start_time": "2022-04-22T07:27:35.685Z"
   },
   {
    "duration": 0,
    "start_time": "2022-04-22T07:27:35.686Z"
   },
   {
    "duration": 0,
    "start_time": "2022-04-22T07:27:35.687Z"
   },
   {
    "duration": 0,
    "start_time": "2022-04-22T07:27:35.688Z"
   },
   {
    "duration": 0,
    "start_time": "2022-04-22T07:27:35.689Z"
   },
   {
    "duration": 0,
    "start_time": "2022-04-22T07:27:35.690Z"
   },
   {
    "duration": 0,
    "start_time": "2022-04-22T07:27:35.691Z"
   },
   {
    "duration": 0,
    "start_time": "2022-04-22T07:27:35.692Z"
   },
   {
    "duration": 0,
    "start_time": "2022-04-22T07:27:35.693Z"
   },
   {
    "duration": 0,
    "start_time": "2022-04-22T07:27:35.693Z"
   },
   {
    "duration": 0,
    "start_time": "2022-04-22T07:27:35.694Z"
   },
   {
    "duration": 0,
    "start_time": "2022-04-22T07:27:35.695Z"
   },
   {
    "duration": 0,
    "start_time": "2022-04-22T07:27:35.696Z"
   },
   {
    "duration": 0,
    "start_time": "2022-04-22T07:27:35.697Z"
   },
   {
    "duration": 0,
    "start_time": "2022-04-22T07:27:35.698Z"
   },
   {
    "duration": 0,
    "start_time": "2022-04-22T07:27:35.699Z"
   },
   {
    "duration": 0,
    "start_time": "2022-04-22T07:27:35.700Z"
   },
   {
    "duration": 0,
    "start_time": "2022-04-22T07:27:35.701Z"
   },
   {
    "duration": 0,
    "start_time": "2022-04-22T07:27:35.702Z"
   },
   {
    "duration": 0,
    "start_time": "2022-04-22T07:27:35.703Z"
   },
   {
    "duration": 0,
    "start_time": "2022-04-22T07:27:35.704Z"
   },
   {
    "duration": 0,
    "start_time": "2022-04-22T07:27:35.705Z"
   },
   {
    "duration": 0,
    "start_time": "2022-04-22T07:27:35.706Z"
   },
   {
    "duration": 1,
    "start_time": "2022-04-22T07:27:35.706Z"
   },
   {
    "duration": 0,
    "start_time": "2022-04-22T07:27:35.707Z"
   },
   {
    "duration": 0,
    "start_time": "2022-04-22T07:27:35.708Z"
   },
   {
    "duration": 2,
    "start_time": "2022-04-22T07:27:45.405Z"
   },
   {
    "duration": 6,
    "start_time": "2022-04-22T07:27:45.409Z"
   },
   {
    "duration": 5,
    "start_time": "2022-04-22T07:27:45.417Z"
   },
   {
    "duration": 4,
    "start_time": "2022-04-22T07:27:45.424Z"
   },
   {
    "duration": 214,
    "start_time": "2022-04-22T07:27:45.431Z"
   },
   {
    "duration": 27,
    "start_time": "2022-04-22T07:27:45.647Z"
   },
   {
    "duration": 6,
    "start_time": "2022-04-22T07:27:45.693Z"
   },
   {
    "duration": 185,
    "start_time": "2022-04-22T07:27:45.700Z"
   },
   {
    "duration": 25,
    "start_time": "2022-04-22T07:27:45.888Z"
   },
   {
    "duration": 5,
    "start_time": "2022-04-22T07:27:45.915Z"
   },
   {
    "duration": 118,
    "start_time": "2022-04-22T07:27:45.922Z"
   },
   {
    "duration": 22,
    "start_time": "2022-04-22T07:27:46.041Z"
   },
   {
    "duration": 5,
    "start_time": "2022-04-22T07:27:46.066Z"
   },
   {
    "duration": 17,
    "start_time": "2022-04-22T07:27:46.093Z"
   },
   {
    "duration": 28,
    "start_time": "2022-04-22T07:27:46.112Z"
   },
   {
    "duration": 10,
    "start_time": "2022-04-22T07:27:46.143Z"
   },
   {
    "duration": 19,
    "start_time": "2022-04-22T07:27:46.155Z"
   },
   {
    "duration": 146,
    "start_time": "2022-04-22T07:27:46.176Z"
   },
   {
    "duration": 0,
    "start_time": "2022-04-22T07:27:46.326Z"
   },
   {
    "duration": 0,
    "start_time": "2022-04-22T07:27:46.327Z"
   },
   {
    "duration": 0,
    "start_time": "2022-04-22T07:27:46.329Z"
   },
   {
    "duration": 0,
    "start_time": "2022-04-22T07:27:46.330Z"
   },
   {
    "duration": 0,
    "start_time": "2022-04-22T07:27:46.332Z"
   },
   {
    "duration": 0,
    "start_time": "2022-04-22T07:27:46.333Z"
   },
   {
    "duration": 0,
    "start_time": "2022-04-22T07:27:46.335Z"
   },
   {
    "duration": 0,
    "start_time": "2022-04-22T07:27:46.336Z"
   },
   {
    "duration": 0,
    "start_time": "2022-04-22T07:27:46.338Z"
   },
   {
    "duration": 0,
    "start_time": "2022-04-22T07:27:46.340Z"
   },
   {
    "duration": 0,
    "start_time": "2022-04-22T07:27:46.341Z"
   },
   {
    "duration": 0,
    "start_time": "2022-04-22T07:27:46.342Z"
   },
   {
    "duration": 0,
    "start_time": "2022-04-22T07:27:46.344Z"
   },
   {
    "duration": 0,
    "start_time": "2022-04-22T07:27:46.346Z"
   },
   {
    "duration": 0,
    "start_time": "2022-04-22T07:27:46.347Z"
   },
   {
    "duration": 0,
    "start_time": "2022-04-22T07:27:46.349Z"
   },
   {
    "duration": 0,
    "start_time": "2022-04-22T07:27:46.350Z"
   },
   {
    "duration": 0,
    "start_time": "2022-04-22T07:27:46.352Z"
   },
   {
    "duration": 0,
    "start_time": "2022-04-22T07:27:46.354Z"
   },
   {
    "duration": 0,
    "start_time": "2022-04-22T07:27:46.355Z"
   },
   {
    "duration": 0,
    "start_time": "2022-04-22T07:27:46.357Z"
   },
   {
    "duration": 0,
    "start_time": "2022-04-22T07:27:46.359Z"
   },
   {
    "duration": 0,
    "start_time": "2022-04-22T07:27:46.360Z"
   },
   {
    "duration": 0,
    "start_time": "2022-04-22T07:27:46.362Z"
   },
   {
    "duration": 0,
    "start_time": "2022-04-22T07:27:46.393Z"
   },
   {
    "duration": 0,
    "start_time": "2022-04-22T07:27:46.395Z"
   },
   {
    "duration": 0,
    "start_time": "2022-04-22T07:27:46.396Z"
   },
   {
    "duration": 0,
    "start_time": "2022-04-22T07:27:46.398Z"
   },
   {
    "duration": 0,
    "start_time": "2022-04-22T07:27:46.399Z"
   },
   {
    "duration": 0,
    "start_time": "2022-04-22T07:27:46.401Z"
   },
   {
    "duration": 0,
    "start_time": "2022-04-22T07:27:46.403Z"
   },
   {
    "duration": 0,
    "start_time": "2022-04-22T07:27:46.404Z"
   },
   {
    "duration": 0,
    "start_time": "2022-04-22T07:27:46.406Z"
   },
   {
    "duration": 0,
    "start_time": "2022-04-22T07:27:46.408Z"
   },
   {
    "duration": 0,
    "start_time": "2022-04-22T07:27:46.409Z"
   },
   {
    "duration": 0,
    "start_time": "2022-04-22T07:27:46.411Z"
   },
   {
    "duration": 0,
    "start_time": "2022-04-22T07:27:46.412Z"
   },
   {
    "duration": 0,
    "start_time": "2022-04-22T07:27:46.414Z"
   },
   {
    "duration": 0,
    "start_time": "2022-04-22T07:27:46.415Z"
   },
   {
    "duration": 0,
    "start_time": "2022-04-22T07:27:46.417Z"
   },
   {
    "duration": 0,
    "start_time": "2022-04-22T07:27:46.418Z"
   },
   {
    "duration": 0,
    "start_time": "2022-04-22T07:27:46.420Z"
   },
   {
    "duration": 0,
    "start_time": "2022-04-22T07:27:46.421Z"
   },
   {
    "duration": 0,
    "start_time": "2022-04-22T07:27:46.422Z"
   },
   {
    "duration": 0,
    "start_time": "2022-04-22T07:27:46.424Z"
   },
   {
    "duration": 0,
    "start_time": "2022-04-22T07:27:46.425Z"
   },
   {
    "duration": 0,
    "start_time": "2022-04-22T07:27:46.427Z"
   },
   {
    "duration": 0,
    "start_time": "2022-04-22T07:27:46.429Z"
   },
   {
    "duration": 3,
    "start_time": "2022-04-22T07:28:11.858Z"
   },
   {
    "duration": 6,
    "start_time": "2022-04-22T07:28:11.862Z"
   },
   {
    "duration": 4,
    "start_time": "2022-04-22T07:28:11.870Z"
   },
   {
    "duration": 4,
    "start_time": "2022-04-22T07:28:11.876Z"
   },
   {
    "duration": 229,
    "start_time": "2022-04-22T07:28:11.883Z"
   },
   {
    "duration": 25,
    "start_time": "2022-04-22T07:28:12.114Z"
   },
   {
    "duration": 5,
    "start_time": "2022-04-22T07:28:12.140Z"
   },
   {
    "duration": 175,
    "start_time": "2022-04-22T07:28:12.146Z"
   },
   {
    "duration": 22,
    "start_time": "2022-04-22T07:28:12.323Z"
   },
   {
    "duration": 5,
    "start_time": "2022-04-22T07:28:12.348Z"
   },
   {
    "duration": 116,
    "start_time": "2022-04-22T07:28:12.354Z"
   },
   {
    "duration": 25,
    "start_time": "2022-04-22T07:28:12.471Z"
   },
   {
    "duration": 4,
    "start_time": "2022-04-22T07:28:12.498Z"
   },
   {
    "duration": 16,
    "start_time": "2022-04-22T07:28:12.504Z"
   },
   {
    "duration": 26,
    "start_time": "2022-04-22T07:28:12.521Z"
   },
   {
    "duration": 10,
    "start_time": "2022-04-22T07:28:12.549Z"
   },
   {
    "duration": 40,
    "start_time": "2022-04-22T07:28:12.560Z"
   },
   {
    "duration": 12,
    "start_time": "2022-04-22T07:28:12.601Z"
   },
   {
    "duration": 26,
    "start_time": "2022-04-22T07:28:12.615Z"
   },
   {
    "duration": 22,
    "start_time": "2022-04-22T07:28:12.642Z"
   },
   {
    "duration": 82,
    "start_time": "2022-04-22T07:28:12.665Z"
   },
   {
    "duration": 4,
    "start_time": "2022-04-22T07:28:12.749Z"
   },
   {
    "duration": 64,
    "start_time": "2022-04-22T07:28:12.755Z"
   },
   {
    "duration": 13,
    "start_time": "2022-04-22T07:28:12.823Z"
   },
   {
    "duration": 63,
    "start_time": "2022-04-22T07:28:12.838Z"
   },
   {
    "duration": 30,
    "start_time": "2022-04-22T07:28:12.903Z"
   },
   {
    "duration": 70,
    "start_time": "2022-04-22T07:28:12.935Z"
   },
   {
    "duration": 25,
    "start_time": "2022-04-22T07:28:13.007Z"
   },
   {
    "duration": 12,
    "start_time": "2022-04-22T07:28:13.034Z"
   },
   {
    "duration": 13,
    "start_time": "2022-04-22T07:28:13.048Z"
   },
   {
    "duration": 39,
    "start_time": "2022-04-22T07:28:13.062Z"
   },
   {
    "duration": 5,
    "start_time": "2022-04-22T07:28:13.103Z"
   },
   {
    "duration": 20,
    "start_time": "2022-04-22T07:28:13.109Z"
   },
   {
    "duration": 9,
    "start_time": "2022-04-22T07:28:13.131Z"
   },
   {
    "duration": 17,
    "start_time": "2022-04-22T07:28:13.142Z"
   },
   {
    "duration": 45,
    "start_time": "2022-04-22T07:28:13.162Z"
   },
   {
    "duration": 8,
    "start_time": "2022-04-22T07:28:13.209Z"
   },
   {
    "duration": 42,
    "start_time": "2022-04-22T07:28:13.219Z"
   },
   {
    "duration": 31,
    "start_time": "2022-04-22T07:28:13.263Z"
   },
   {
    "duration": 5,
    "start_time": "2022-04-22T07:28:13.296Z"
   },
   {
    "duration": 6,
    "start_time": "2022-04-22T07:28:13.304Z"
   },
   {
    "duration": 7,
    "start_time": "2022-04-22T07:28:13.312Z"
   },
   {
    "duration": 46,
    "start_time": "2022-04-22T07:28:13.320Z"
   },
   {
    "duration": 60,
    "start_time": "2022-04-22T07:28:13.369Z"
   },
   {
    "duration": 30,
    "start_time": "2022-04-22T07:28:13.431Z"
   },
   {
    "duration": 4,
    "start_time": "2022-04-22T07:28:13.462Z"
   },
   {
    "duration": 226,
    "start_time": "2022-04-22T07:28:13.468Z"
   },
   {
    "duration": 28,
    "start_time": "2022-04-22T07:28:13.696Z"
   },
   {
    "duration": 3,
    "start_time": "2022-04-22T07:28:13.726Z"
   },
   {
    "duration": 199,
    "start_time": "2022-04-22T07:28:13.731Z"
   },
   {
    "duration": 26,
    "start_time": "2022-04-22T07:28:13.932Z"
   },
   {
    "duration": 4,
    "start_time": "2022-04-22T07:28:13.960Z"
   },
   {
    "duration": 209,
    "start_time": "2022-04-22T07:28:13.965Z"
   },
   {
    "duration": 17,
    "start_time": "2022-04-22T07:28:14.176Z"
   },
   {
    "duration": 6,
    "start_time": "2022-04-22T07:28:14.195Z"
   },
   {
    "duration": 7,
    "start_time": "2022-04-22T07:28:14.203Z"
   },
   {
    "duration": 6,
    "start_time": "2022-04-22T07:28:14.212Z"
   },
   {
    "duration": 9,
    "start_time": "2022-04-22T07:28:14.220Z"
   },
   {
    "duration": 301,
    "start_time": "2022-04-22T07:28:14.231Z"
   },
   {
    "duration": 10,
    "start_time": "2022-04-22T07:28:14.534Z"
   },
   {
    "duration": 7,
    "start_time": "2022-04-22T07:28:14.547Z"
   },
   {
    "duration": 9,
    "start_time": "2022-04-22T07:28:14.556Z"
   },
   {
    "duration": 27,
    "start_time": "2022-04-22T07:28:14.568Z"
   },
   {
    "duration": 7,
    "start_time": "2022-04-22T07:28:14.597Z"
   },
   {
    "duration": 331,
    "start_time": "2022-04-22T07:28:14.606Z"
   },
   {
    "duration": 2532,
    "start_time": "2022-04-22T07:29:51.617Z"
   },
   {
    "duration": 3,
    "start_time": "2022-04-22T07:31:31.680Z"
   },
   {
    "duration": 17,
    "start_time": "2022-04-22T07:31:31.686Z"
   },
   {
    "duration": 5,
    "start_time": "2022-04-22T07:31:31.705Z"
   },
   {
    "duration": 9,
    "start_time": "2022-04-22T07:31:31.712Z"
   },
   {
    "duration": 240,
    "start_time": "2022-04-22T07:31:31.723Z"
   },
   {
    "duration": 48,
    "start_time": "2022-04-22T07:31:31.965Z"
   },
   {
    "duration": 7,
    "start_time": "2022-04-22T07:31:32.015Z"
   },
   {
    "duration": 189,
    "start_time": "2022-04-22T07:31:32.025Z"
   },
   {
    "duration": 25,
    "start_time": "2022-04-22T07:31:32.218Z"
   },
   {
    "duration": 12,
    "start_time": "2022-04-22T07:31:32.245Z"
   },
   {
    "duration": 161,
    "start_time": "2022-04-22T07:31:32.259Z"
   },
   {
    "duration": 33,
    "start_time": "2022-04-22T07:31:32.422Z"
   },
   {
    "duration": 12,
    "start_time": "2022-04-22T07:31:32.456Z"
   },
   {
    "duration": 29,
    "start_time": "2022-04-22T07:31:32.469Z"
   },
   {
    "duration": 27,
    "start_time": "2022-04-22T07:31:32.500Z"
   },
   {
    "duration": 13,
    "start_time": "2022-04-22T07:31:32.529Z"
   },
   {
    "duration": 33,
    "start_time": "2022-04-22T07:31:32.544Z"
   },
   {
    "duration": 38,
    "start_time": "2022-04-22T07:31:32.579Z"
   },
   {
    "duration": 53,
    "start_time": "2022-04-22T07:31:32.619Z"
   },
   {
    "duration": 24,
    "start_time": "2022-04-22T07:31:32.674Z"
   },
   {
    "duration": 94,
    "start_time": "2022-04-22T07:31:32.700Z"
   },
   {
    "duration": 5,
    "start_time": "2022-04-22T07:31:32.796Z"
   },
   {
    "duration": 67,
    "start_time": "2022-04-22T07:31:32.802Z"
   },
   {
    "duration": 19,
    "start_time": "2022-04-22T07:31:32.874Z"
   },
   {
    "duration": 54,
    "start_time": "2022-04-22T07:31:32.895Z"
   },
   {
    "duration": 5,
    "start_time": "2022-04-22T07:31:32.952Z"
   },
   {
    "duration": 50,
    "start_time": "2022-04-22T07:31:32.958Z"
   },
   {
    "duration": 89,
    "start_time": "2022-04-22T07:31:33.011Z"
   },
   {
    "duration": 6,
    "start_time": "2022-04-22T07:31:33.102Z"
   },
   {
    "duration": 50,
    "start_time": "2022-04-22T07:31:33.110Z"
   },
   {
    "duration": 17,
    "start_time": "2022-04-22T07:31:33.161Z"
   },
   {
    "duration": 56,
    "start_time": "2022-04-22T07:31:33.180Z"
   },
   {
    "duration": 28,
    "start_time": "2022-04-22T07:31:33.238Z"
   },
   {
    "duration": 36,
    "start_time": "2022-04-22T07:31:33.268Z"
   },
   {
    "duration": 13,
    "start_time": "2022-04-22T07:31:33.306Z"
   },
   {
    "duration": 26,
    "start_time": "2022-04-22T07:31:33.321Z"
   },
   {
    "duration": 18,
    "start_time": "2022-04-22T07:31:33.350Z"
   },
   {
    "duration": 29,
    "start_time": "2022-04-22T07:31:33.370Z"
   },
   {
    "duration": 45,
    "start_time": "2022-04-22T07:31:33.401Z"
   },
   {
    "duration": 6,
    "start_time": "2022-04-22T07:31:33.448Z"
   },
   {
    "duration": 19,
    "start_time": "2022-04-22T07:31:33.456Z"
   },
   {
    "duration": 46,
    "start_time": "2022-04-22T07:31:33.477Z"
   },
   {
    "duration": 19,
    "start_time": "2022-04-22T07:31:33.525Z"
   },
   {
    "duration": 63,
    "start_time": "2022-04-22T07:31:33.546Z"
   },
   {
    "duration": 46,
    "start_time": "2022-04-22T07:31:33.611Z"
   },
   {
    "duration": 61,
    "start_time": "2022-04-22T07:31:33.659Z"
   },
   {
    "duration": 4,
    "start_time": "2022-04-22T07:31:33.722Z"
   },
   {
    "duration": 392,
    "start_time": "2022-04-22T07:31:33.728Z"
   },
   {
    "duration": 49,
    "start_time": "2022-04-22T07:31:34.122Z"
   },
   {
    "duration": 21,
    "start_time": "2022-04-22T07:31:34.173Z"
   },
   {
    "duration": 207,
    "start_time": "2022-04-22T07:31:34.197Z"
   },
   {
    "duration": 32,
    "start_time": "2022-04-22T07:31:34.406Z"
   },
   {
    "duration": 5,
    "start_time": "2022-04-22T07:31:34.440Z"
   },
   {
    "duration": 227,
    "start_time": "2022-04-22T07:31:34.446Z"
   },
   {
    "duration": 18,
    "start_time": "2022-04-22T07:31:34.676Z"
   },
   {
    "duration": 6,
    "start_time": "2022-04-22T07:31:34.696Z"
   },
   {
    "duration": 17,
    "start_time": "2022-04-22T07:31:34.703Z"
   },
   {
    "duration": 14,
    "start_time": "2022-04-22T07:31:34.721Z"
   },
   {
    "duration": 33,
    "start_time": "2022-04-22T07:31:34.738Z"
   },
   {
    "duration": 211,
    "start_time": "2022-04-22T07:31:34.774Z"
   },
   {
    "duration": 8,
    "start_time": "2022-04-22T07:31:34.987Z"
   },
   {
    "duration": 20,
    "start_time": "2022-04-22T07:31:34.997Z"
   },
   {
    "duration": 29,
    "start_time": "2022-04-22T07:31:35.019Z"
   },
   {
    "duration": 17,
    "start_time": "2022-04-22T07:31:35.051Z"
   },
   {
    "duration": 15,
    "start_time": "2022-04-22T07:31:35.070Z"
   },
   {
    "duration": 213,
    "start_time": "2022-04-22T07:31:35.087Z"
   },
   {
    "duration": 4,
    "start_time": "2022-04-22T07:47:37.975Z"
   },
   {
    "duration": 4,
    "start_time": "2022-04-22T07:47:53.827Z"
   },
   {
    "duration": 3,
    "start_time": "2022-04-22T08:10:45.841Z"
   },
   {
    "duration": 194,
    "start_time": "2022-04-22T08:11:02.836Z"
   },
   {
    "duration": 5,
    "start_time": "2022-04-22T08:14:32.501Z"
   },
   {
    "duration": 6,
    "start_time": "2022-04-22T08:14:57.700Z"
   },
   {
    "duration": 3,
    "start_time": "2022-04-22T08:21:09.716Z"
   },
   {
    "duration": 235,
    "start_time": "2022-04-22T08:21:09.721Z"
   },
   {
    "duration": 34,
    "start_time": "2022-04-22T08:21:09.958Z"
   },
   {
    "duration": 4,
    "start_time": "2022-04-22T08:21:09.995Z"
   },
   {
    "duration": 184,
    "start_time": "2022-04-22T08:21:10.001Z"
   },
   {
    "duration": 22,
    "start_time": "2022-04-22T08:21:10.186Z"
   },
   {
    "duration": 5,
    "start_time": "2022-04-22T08:21:10.210Z"
   },
   {
    "duration": 120,
    "start_time": "2022-04-22T08:21:10.216Z"
   },
   {
    "duration": 20,
    "start_time": "2022-04-22T08:21:10.339Z"
   },
   {
    "duration": 4,
    "start_time": "2022-04-22T08:21:10.361Z"
   },
   {
    "duration": 34,
    "start_time": "2022-04-22T08:21:10.367Z"
   },
   {
    "duration": 26,
    "start_time": "2022-04-22T08:21:10.403Z"
   },
   {
    "duration": 11,
    "start_time": "2022-04-22T08:21:10.431Z"
   },
   {
    "duration": 19,
    "start_time": "2022-04-22T08:21:10.444Z"
   },
   {
    "duration": 30,
    "start_time": "2022-04-22T08:21:10.465Z"
   },
   {
    "duration": 28,
    "start_time": "2022-04-22T08:21:10.497Z"
   },
   {
    "duration": 23,
    "start_time": "2022-04-22T08:21:10.527Z"
   },
   {
    "duration": 82,
    "start_time": "2022-04-22T08:21:10.551Z"
   },
   {
    "duration": 5,
    "start_time": "2022-04-22T08:21:10.634Z"
   },
   {
    "duration": 70,
    "start_time": "2022-04-22T08:21:10.641Z"
   },
   {
    "duration": 14,
    "start_time": "2022-04-22T08:21:10.712Z"
   },
   {
    "duration": 53,
    "start_time": "2022-04-22T08:21:10.727Z"
   },
   {
    "duration": 13,
    "start_time": "2022-04-22T08:21:10.782Z"
   },
   {
    "duration": 31,
    "start_time": "2022-04-22T08:21:10.799Z"
   },
   {
    "duration": 70,
    "start_time": "2022-04-22T08:21:10.832Z"
   },
   {
    "duration": 4,
    "start_time": "2022-04-22T08:21:10.904Z"
   },
   {
    "duration": 25,
    "start_time": "2022-04-22T08:21:10.910Z"
   },
   {
    "duration": 11,
    "start_time": "2022-04-22T08:21:10.937Z"
   },
   {
    "duration": 43,
    "start_time": "2022-04-22T08:21:10.949Z"
   },
   {
    "duration": 4,
    "start_time": "2022-04-22T08:21:10.994Z"
   },
   {
    "duration": 23,
    "start_time": "2022-04-22T08:21:10.999Z"
   },
   {
    "duration": 9,
    "start_time": "2022-04-22T08:21:11.024Z"
   },
   {
    "duration": 17,
    "start_time": "2022-04-22T08:21:11.035Z"
   },
   {
    "duration": 44,
    "start_time": "2022-04-22T08:21:11.054Z"
   },
   {
    "duration": 6,
    "start_time": "2022-04-22T08:21:11.099Z"
   },
   {
    "duration": 30,
    "start_time": "2022-04-22T08:21:11.106Z"
   },
   {
    "duration": 4,
    "start_time": "2022-04-22T08:21:11.138Z"
   },
   {
    "duration": 4,
    "start_time": "2022-04-22T08:21:11.143Z"
   },
   {
    "duration": 6,
    "start_time": "2022-04-22T08:21:11.148Z"
   },
   {
    "duration": 6,
    "start_time": "2022-04-22T08:21:11.194Z"
   },
   {
    "duration": 28,
    "start_time": "2022-04-22T08:21:11.202Z"
   },
   {
    "duration": 26,
    "start_time": "2022-04-22T08:21:11.232Z"
   },
   {
    "duration": 54,
    "start_time": "2022-04-22T08:21:11.260Z"
   },
   {
    "duration": 4,
    "start_time": "2022-04-22T08:21:11.316Z"
   },
   {
    "duration": 219,
    "start_time": "2022-04-22T08:21:11.321Z"
   },
   {
    "duration": 29,
    "start_time": "2022-04-22T08:21:11.542Z"
   },
   {
    "duration": 18,
    "start_time": "2022-04-22T08:21:11.573Z"
   },
   {
    "duration": 210,
    "start_time": "2022-04-22T08:21:11.593Z"
   },
   {
    "duration": 33,
    "start_time": "2022-04-22T08:21:11.806Z"
   },
   {
    "duration": 5,
    "start_time": "2022-04-22T08:21:11.841Z"
   },
   {
    "duration": 220,
    "start_time": "2022-04-22T08:21:11.848Z"
   },
   {
    "duration": 8,
    "start_time": "2022-04-22T08:21:12.070Z"
   },
   {
    "duration": 15,
    "start_time": "2022-04-22T08:21:12.080Z"
   },
   {
    "duration": 5,
    "start_time": "2022-04-22T08:21:12.097Z"
   },
   {
    "duration": 6,
    "start_time": "2022-04-22T08:21:12.104Z"
   },
   {
    "duration": 8,
    "start_time": "2022-04-22T08:21:12.112Z"
   },
   {
    "duration": 6,
    "start_time": "2022-04-22T08:21:12.122Z"
   },
   {
    "duration": 5,
    "start_time": "2022-04-22T08:21:12.130Z"
   },
   {
    "duration": 11,
    "start_time": "2022-04-22T08:21:12.137Z"
   },
   {
    "duration": 9,
    "start_time": "2022-04-22T08:21:12.150Z"
   },
   {
    "duration": 208,
    "start_time": "2022-04-22T08:21:12.194Z"
   },
   {
    "duration": 7,
    "start_time": "2022-04-22T08:21:12.404Z"
   },
   {
    "duration": 12,
    "start_time": "2022-04-22T08:21:12.413Z"
   },
   {
    "duration": 8,
    "start_time": "2022-04-22T08:21:12.427Z"
   },
   {
    "duration": 5,
    "start_time": "2022-04-22T08:21:12.436Z"
   },
   {
    "duration": 6,
    "start_time": "2022-04-22T08:21:12.443Z"
   },
   {
    "duration": 225,
    "start_time": "2022-04-22T08:21:12.450Z"
   },
   {
    "duration": 1141,
    "start_time": "2022-04-29T12:33:57.926Z"
   },
   {
    "duration": 252,
    "start_time": "2022-04-29T12:33:59.069Z"
   },
   {
    "duration": 24,
    "start_time": "2022-04-29T12:34:00.652Z"
   },
   {
    "duration": 5,
    "start_time": "2022-04-29T12:34:01.912Z"
   },
   {
    "duration": 405,
    "start_time": "2022-04-29T12:34:02.565Z"
   },
   {
    "duration": 19,
    "start_time": "2022-04-29T12:34:03.856Z"
   },
   {
    "duration": 5,
    "start_time": "2022-04-29T12:34:04.831Z"
   },
   {
    "duration": 120,
    "start_time": "2022-04-29T12:34:05.336Z"
   },
   {
    "duration": 5,
    "start_time": "2022-04-29T12:34:30.501Z"
   },
   {
    "duration": 88,
    "start_time": "2022-04-29T12:34:31.109Z"
   },
   {
    "duration": 18,
    "start_time": "2022-04-29T12:34:32.245Z"
   },
   {
    "duration": 5,
    "start_time": "2022-04-29T12:34:33.221Z"
   },
   {
    "duration": 22,
    "start_time": "2022-04-29T12:34:34.345Z"
   },
   {
    "duration": 41,
    "start_time": "2022-04-29T12:34:35.759Z"
   },
   {
    "duration": 23,
    "start_time": "2022-04-29T12:34:38.186Z"
   },
   {
    "duration": 12,
    "start_time": "2022-04-29T12:34:38.752Z"
   },
   {
    "duration": 14,
    "start_time": "2022-04-29T12:37:43.889Z"
   },
   {
    "duration": 23,
    "start_time": "2022-04-29T12:38:15.067Z"
   },
   {
    "duration": 57,
    "start_time": "2022-04-29T12:39:02.123Z"
   },
   {
    "duration": 87,
    "start_time": "2022-04-29T12:41:09.637Z"
   },
   {
    "duration": 67,
    "start_time": "2022-04-29T12:41:11.291Z"
   },
   {
    "duration": 12,
    "start_time": "2022-04-29T12:41:13.307Z"
   },
   {
    "duration": 38,
    "start_time": "2022-04-29T12:41:17.706Z"
   },
   {
    "duration": 5,
    "start_time": "2022-04-29T12:41:18.458Z"
   },
   {
    "duration": 48,
    "start_time": "2022-04-29T12:41:39.475Z"
   },
   {
    "duration": 5,
    "start_time": "2022-04-29T12:41:40.789Z"
   },
   {
    "duration": 31,
    "start_time": "2022-04-29T12:41:41.802Z"
   },
   {
    "duration": 3,
    "start_time": "2022-04-29T12:43:32.291Z"
   },
   {
    "duration": 17,
    "start_time": "2022-04-29T12:43:35.531Z"
   },
   {
    "duration": 10,
    "start_time": "2022-04-29T12:43:38.763Z"
   },
   {
    "duration": 20,
    "start_time": "2022-04-29T12:43:40.366Z"
   },
   {
    "duration": 8,
    "start_time": "2022-04-29T12:43:41.932Z"
   },
   {
    "duration": 1145,
    "start_time": "2022-04-29T12:43:48.497Z"
   },
   {
    "duration": 179,
    "start_time": "2022-04-29T12:43:49.644Z"
   },
   {
    "duration": 23,
    "start_time": "2022-04-29T12:43:49.824Z"
   },
   {
    "duration": 20,
    "start_time": "2022-04-29T12:43:49.849Z"
   },
   {
    "duration": 174,
    "start_time": "2022-04-29T12:43:49.870Z"
   },
   {
    "duration": 18,
    "start_time": "2022-04-29T12:43:50.046Z"
   },
   {
    "duration": 14,
    "start_time": "2022-04-29T12:43:50.066Z"
   },
   {
    "duration": 96,
    "start_time": "2022-04-29T12:43:50.082Z"
   },
   {
    "duration": 16,
    "start_time": "2022-04-29T12:43:50.180Z"
   },
   {
    "duration": 13,
    "start_time": "2022-04-29T12:43:50.198Z"
   },
   {
    "duration": 39,
    "start_time": "2022-04-29T12:43:50.213Z"
   },
   {
    "duration": 28,
    "start_time": "2022-04-29T12:43:50.254Z"
   },
   {
    "duration": 19,
    "start_time": "2022-04-29T12:43:50.283Z"
   },
   {
    "duration": 52,
    "start_time": "2022-04-29T12:43:50.304Z"
   },
   {
    "duration": 22,
    "start_time": "2022-04-29T12:43:50.358Z"
   },
   {
    "duration": 40,
    "start_time": "2022-04-29T12:43:50.381Z"
   },
   {
    "duration": 20,
    "start_time": "2022-04-29T12:43:50.423Z"
   },
   {
    "duration": 63,
    "start_time": "2022-04-29T12:43:50.445Z"
   },
   {
    "duration": 15,
    "start_time": "2022-04-29T12:43:50.510Z"
   },
   {
    "duration": 63,
    "start_time": "2022-04-29T12:43:50.526Z"
   },
   {
    "duration": 12,
    "start_time": "2022-04-29T12:43:50.590Z"
   },
   {
    "duration": 56,
    "start_time": "2022-04-29T12:43:50.604Z"
   },
   {
    "duration": 5,
    "start_time": "2022-04-29T12:43:50.661Z"
   },
   {
    "duration": 42,
    "start_time": "2022-04-29T12:43:50.667Z"
   },
   {
    "duration": 56,
    "start_time": "2022-04-29T12:43:50.711Z"
   },
   {
    "duration": 5,
    "start_time": "2022-04-29T12:43:50.768Z"
   },
   {
    "duration": 32,
    "start_time": "2022-04-29T12:43:50.774Z"
   },
   {
    "duration": 12,
    "start_time": "2022-04-29T12:43:50.825Z"
   },
   {
    "duration": 39,
    "start_time": "2022-04-29T12:43:50.839Z"
   },
   {
    "duration": 14,
    "start_time": "2022-04-29T12:43:50.880Z"
   },
   {
    "duration": 40,
    "start_time": "2022-04-29T12:43:50.896Z"
   },
   {
    "duration": 10,
    "start_time": "2022-04-29T12:43:50.938Z"
   },
   {
    "duration": 11,
    "start_time": "2022-04-29T12:43:52.888Z"
   },
   {
    "duration": 16,
    "start_time": "2022-04-29T12:43:54.360Z"
   },
   {
    "duration": 12,
    "start_time": "2022-04-29T12:43:59.297Z"
   },
   {
    "duration": 3,
    "start_time": "2022-04-29T12:44:40.025Z"
   },
   {
    "duration": 31,
    "start_time": "2022-04-29T12:44:40.713Z"
   },
   {
    "duration": 97,
    "start_time": "2022-04-29T12:45:25.482Z"
   },
   {
    "duration": 4,
    "start_time": "2022-04-29T12:45:29.451Z"
   },
   {
    "duration": 4,
    "start_time": "2022-04-29T12:45:30.498Z"
   },
   {
    "duration": 5,
    "start_time": "2022-04-29T12:45:32.553Z"
   },
   {
    "duration": 1953,
    "start_time": "2022-04-29T12:45:36.972Z"
   },
   {
    "duration": 0,
    "start_time": "2022-04-29T12:45:38.927Z"
   },
   {
    "duration": 11,
    "start_time": "2022-04-29T12:45:39.274Z"
   },
   {
    "duration": 1100,
    "start_time": "2022-04-29T12:45:46.202Z"
   },
   {
    "duration": 181,
    "start_time": "2022-04-29T12:45:47.304Z"
   },
   {
    "duration": 24,
    "start_time": "2022-04-29T12:45:47.487Z"
   },
   {
    "duration": 6,
    "start_time": "2022-04-29T12:45:47.523Z"
   },
   {
    "duration": 165,
    "start_time": "2022-04-29T12:45:47.531Z"
   },
   {
    "duration": 26,
    "start_time": "2022-04-29T12:45:47.698Z"
   },
   {
    "duration": 5,
    "start_time": "2022-04-29T12:45:47.725Z"
   },
   {
    "duration": 95,
    "start_time": "2022-04-29T12:45:47.731Z"
   },
   {
    "duration": 19,
    "start_time": "2022-04-29T12:45:47.828Z"
   },
   {
    "duration": 5,
    "start_time": "2022-04-29T12:45:47.849Z"
   },
   {
    "duration": 18,
    "start_time": "2022-04-29T12:45:47.855Z"
   },
   {
    "duration": 25,
    "start_time": "2022-04-29T12:45:47.874Z"
   },
   {
    "duration": 26,
    "start_time": "2022-04-29T12:45:47.901Z"
   },
   {
    "duration": 18,
    "start_time": "2022-04-29T12:45:47.932Z"
   },
   {
    "duration": 13,
    "start_time": "2022-04-29T12:45:47.952Z"
   },
   {
    "duration": 57,
    "start_time": "2022-04-29T12:45:47.966Z"
   },
   {
    "duration": 20,
    "start_time": "2022-04-29T12:45:48.025Z"
   },
   {
    "duration": 56,
    "start_time": "2022-04-29T12:45:48.047Z"
   },
   {
    "duration": 5,
    "start_time": "2022-04-29T12:45:48.124Z"
   },
   {
    "duration": 63,
    "start_time": "2022-04-29T12:45:48.130Z"
   },
   {
    "duration": 29,
    "start_time": "2022-04-29T12:45:48.195Z"
   },
   {
    "duration": 44,
    "start_time": "2022-04-29T12:45:48.226Z"
   },
   {
    "duration": 5,
    "start_time": "2022-04-29T12:45:48.271Z"
   },
   {
    "duration": 48,
    "start_time": "2022-04-29T12:45:48.277Z"
   },
   {
    "duration": 73,
    "start_time": "2022-04-29T12:45:48.327Z"
   },
   {
    "duration": 21,
    "start_time": "2022-04-29T12:45:48.402Z"
   },
   {
    "duration": 36,
    "start_time": "2022-04-29T12:45:48.426Z"
   },
   {
    "duration": 15,
    "start_time": "2022-04-29T12:45:48.465Z"
   },
   {
    "duration": 26,
    "start_time": "2022-04-29T12:45:48.481Z"
   },
   {
    "duration": 4,
    "start_time": "2022-04-29T12:45:48.524Z"
   },
   {
    "duration": 27,
    "start_time": "2022-04-29T12:45:48.530Z"
   },
   {
    "duration": 18,
    "start_time": "2022-04-29T12:45:48.559Z"
   },
   {
    "duration": 16,
    "start_time": "2022-04-29T12:45:48.578Z"
   },
   {
    "duration": 14,
    "start_time": "2022-04-29T12:45:48.596Z"
   },
   {
    "duration": 18,
    "start_time": "2022-04-29T12:45:48.612Z"
   },
   {
    "duration": 37,
    "start_time": "2022-04-29T12:45:48.632Z"
   },
   {
    "duration": 5,
    "start_time": "2022-04-29T12:45:48.671Z"
   },
   {
    "duration": 12,
    "start_time": "2022-04-29T12:45:48.678Z"
   },
   {
    "duration": 18,
    "start_time": "2022-04-29T12:45:48.692Z"
   },
   {
    "duration": 39,
    "start_time": "2022-04-29T12:45:48.712Z"
   },
   {
    "duration": 34,
    "start_time": "2022-04-29T12:45:48.756Z"
   },
   {
    "duration": 36,
    "start_time": "2022-04-29T12:45:48.792Z"
   },
   {
    "duration": 14,
    "start_time": "2022-04-29T12:45:51.434Z"
   },
   {
    "duration": 3,
    "start_time": "2022-04-29T12:45:54.351Z"
   },
   {
    "duration": 104,
    "start_time": "2022-04-29T12:45:54.962Z"
   },
   {
    "duration": 5,
    "start_time": "2022-04-29T12:46:01.537Z"
   },
   {
    "duration": 59,
    "start_time": "2022-04-29T12:46:02.377Z"
   },
   {
    "duration": 8,
    "start_time": "2022-04-29T12:46:04.598Z"
   },
   {
    "duration": 4,
    "start_time": "2022-04-29T12:46:05.839Z"
   },
   {
    "duration": 2853,
    "start_time": "2022-04-29T12:46:06.479Z"
   },
   {
    "duration": 2434,
    "start_time": "2022-04-29T12:46:15.582Z"
   },
   {
    "duration": 0,
    "start_time": "2022-04-29T12:46:18.018Z"
   },
   {
    "duration": 1465,
    "start_time": "2022-04-29T12:46:25.002Z"
   },
   {
    "duration": 265,
    "start_time": "2022-04-29T12:46:26.470Z"
   },
   {
    "duration": 28,
    "start_time": "2022-04-29T12:46:26.737Z"
   },
   {
    "duration": 6,
    "start_time": "2022-04-29T12:46:26.767Z"
   },
   {
    "duration": 255,
    "start_time": "2022-04-29T12:46:26.775Z"
   },
   {
    "duration": 22,
    "start_time": "2022-04-29T12:46:27.031Z"
   },
   {
    "duration": 6,
    "start_time": "2022-04-29T12:46:27.054Z"
   },
   {
    "duration": 149,
    "start_time": "2022-04-29T12:46:27.062Z"
   },
   {
    "duration": 28,
    "start_time": "2022-04-29T12:46:27.214Z"
   },
   {
    "duration": 6,
    "start_time": "2022-04-29T12:46:27.246Z"
   },
   {
    "duration": 28,
    "start_time": "2022-04-29T12:46:27.254Z"
   },
   {
    "duration": 45,
    "start_time": "2022-04-29T12:46:27.284Z"
   },
   {
    "duration": 17,
    "start_time": "2022-04-29T12:46:27.331Z"
   },
   {
    "duration": 24,
    "start_time": "2022-04-29T12:46:27.350Z"
   },
   {
    "duration": 13,
    "start_time": "2022-04-29T12:46:27.376Z"
   },
   {
    "duration": 55,
    "start_time": "2022-04-29T12:46:27.391Z"
   },
   {
    "duration": 20,
    "start_time": "2022-04-29T12:46:27.449Z"
   },
   {
    "duration": 71,
    "start_time": "2022-04-29T12:46:27.470Z"
   },
   {
    "duration": 7,
    "start_time": "2022-04-29T12:46:27.543Z"
   },
   {
    "duration": 77,
    "start_time": "2022-04-29T12:46:27.552Z"
   },
   {
    "duration": 15,
    "start_time": "2022-04-29T12:46:27.631Z"
   },
   {
    "duration": 42,
    "start_time": "2022-04-29T12:46:27.648Z"
   },
   {
    "duration": 6,
    "start_time": "2022-04-29T12:46:27.692Z"
   },
   {
    "duration": 47,
    "start_time": "2022-04-29T12:46:27.724Z"
   },
   {
    "duration": 62,
    "start_time": "2022-04-29T12:46:27.773Z"
   },
   {
    "duration": 8,
    "start_time": "2022-04-29T12:46:27.837Z"
   },
   {
    "duration": 35,
    "start_time": "2022-04-29T12:46:27.847Z"
   },
   {
    "duration": 38,
    "start_time": "2022-04-29T12:46:27.886Z"
   },
   {
    "duration": 14,
    "start_time": "2022-04-29T12:46:27.926Z"
   },
   {
    "duration": 26,
    "start_time": "2022-04-29T12:46:27.942Z"
   },
   {
    "duration": 27,
    "start_time": "2022-04-29T12:46:27.969Z"
   },
   {
    "duration": 9,
    "start_time": "2022-04-29T12:46:27.998Z"
   },
   {
    "duration": 16,
    "start_time": "2022-04-29T12:46:28.008Z"
   },
   {
    "duration": 13,
    "start_time": "2022-04-29T12:46:28.026Z"
   },
   {
    "duration": 8,
    "start_time": "2022-04-29T12:46:28.041Z"
   },
   {
    "duration": 32,
    "start_time": "2022-04-29T12:46:28.050Z"
   },
   {
    "duration": 4,
    "start_time": "2022-04-29T12:46:28.084Z"
   },
   {
    "duration": 22,
    "start_time": "2022-04-29T12:46:36.112Z"
   },
   {
    "duration": 3,
    "start_time": "2022-04-29T12:46:48.392Z"
   },
   {
    "duration": 4,
    "start_time": "2022-04-29T12:46:49.463Z"
   },
   {
    "duration": 5,
    "start_time": "2022-04-29T12:46:51.162Z"
   },
   {
    "duration": 44,
    "start_time": "2022-04-29T12:46:52.662Z"
   },
   {
    "duration": 27,
    "start_time": "2022-04-29T12:47:01.321Z"
   },
   {
    "duration": 28,
    "start_time": "2022-04-29T12:52:19.546Z"
   },
   {
    "duration": 4,
    "start_time": "2022-04-29T12:53:03.683Z"
   },
   {
    "duration": 206,
    "start_time": "2022-04-29T12:53:04.715Z"
   },
   {
    "duration": 181,
    "start_time": "2022-04-29T13:40:49.360Z"
   },
   {
    "duration": 188,
    "start_time": "2022-04-29T13:40:52.138Z"
   },
   {
    "duration": 181,
    "start_time": "2022-04-29T13:40:54.184Z"
   },
   {
    "duration": 3,
    "start_time": "2022-04-29T13:40:56.952Z"
   },
   {
    "duration": 175,
    "start_time": "2022-04-29T13:40:57.442Z"
   },
   {
    "duration": 29,
    "start_time": "2022-04-29T13:43:20.300Z"
   },
   {
    "duration": 4,
    "start_time": "2022-04-29T13:43:32.780Z"
   },
   {
    "duration": 217,
    "start_time": "2022-04-29T13:43:33.195Z"
   },
   {
    "duration": 27,
    "start_time": "2022-04-29T13:43:55.236Z"
   },
   {
    "duration": 25,
    "start_time": "2022-04-29T13:45:17.781Z"
   },
   {
    "duration": 8,
    "start_time": "2022-04-29T13:46:14.658Z"
   },
   {
    "duration": 6,
    "start_time": "2022-04-29T13:46:33.918Z"
   },
   {
    "duration": 4,
    "start_time": "2022-04-29T13:46:34.174Z"
   },
   {
    "duration": 7,
    "start_time": "2022-04-29T13:46:34.413Z"
   },
   {
    "duration": 3,
    "start_time": "2022-04-29T13:46:34.902Z"
   },
   {
    "duration": 5,
    "start_time": "2022-04-29T13:46:42.011Z"
   },
   {
    "duration": 6,
    "start_time": "2022-04-29T13:47:01.675Z"
   },
   {
    "duration": 7,
    "start_time": "2022-04-29T13:47:12.198Z"
   },
   {
    "duration": 4,
    "start_time": "2022-04-29T13:47:12.734Z"
   },
   {
    "duration": 6,
    "start_time": "2022-04-29T13:47:13.180Z"
   },
   {
    "duration": 5,
    "start_time": "2022-04-29T13:49:19.015Z"
   },
   {
    "duration": 195,
    "start_time": "2022-04-29T13:49:26.368Z"
   },
   {
    "duration": 5,
    "start_time": "2022-04-29T13:49:26.871Z"
   },
   {
    "duration": 4,
    "start_time": "2022-04-29T13:49:27.176Z"
   },
   {
    "duration": 4,
    "start_time": "2022-04-29T13:49:28.190Z"
   },
   {
    "duration": 4,
    "start_time": "2022-04-29T13:49:28.581Z"
   },
   {
    "duration": 70,
    "start_time": "2022-04-29T16:46:10.441Z"
   },
   {
    "duration": 1999,
    "start_time": "2022-04-29T16:46:13.084Z"
   },
   {
    "duration": 250,
    "start_time": "2022-04-29T16:46:15.085Z"
   },
   {
    "duration": 30,
    "start_time": "2022-04-29T16:46:15.337Z"
   },
   {
    "duration": 11,
    "start_time": "2022-04-29T16:46:15.370Z"
   },
   {
    "duration": 202,
    "start_time": "2022-04-29T16:46:15.383Z"
   },
   {
    "duration": 26,
    "start_time": "2022-04-29T16:46:15.587Z"
   },
   {
    "duration": 5,
    "start_time": "2022-04-29T16:46:15.614Z"
   },
   {
    "duration": 119,
    "start_time": "2022-04-29T16:46:15.621Z"
   },
   {
    "duration": 46,
    "start_time": "2022-04-29T16:46:15.742Z"
   },
   {
    "duration": 10,
    "start_time": "2022-04-29T16:46:15.793Z"
   },
   {
    "duration": 14,
    "start_time": "2022-04-29T16:46:15.805Z"
   },
   {
    "duration": 26,
    "start_time": "2022-04-29T16:46:15.821Z"
   },
   {
    "duration": 17,
    "start_time": "2022-04-29T16:46:15.857Z"
   },
   {
    "duration": 29,
    "start_time": "2022-04-29T16:46:15.877Z"
   },
   {
    "duration": 15,
    "start_time": "2022-04-29T16:46:15.908Z"
   },
   {
    "duration": 63,
    "start_time": "2022-04-29T16:46:15.925Z"
   },
   {
    "duration": 23,
    "start_time": "2022-04-29T16:46:15.989Z"
   },
   {
    "duration": 94,
    "start_time": "2022-04-29T16:46:16.014Z"
   },
   {
    "duration": 6,
    "start_time": "2022-04-29T16:46:16.110Z"
   },
   {
    "duration": 104,
    "start_time": "2022-04-29T16:46:16.117Z"
   },
   {
    "duration": 12,
    "start_time": "2022-04-29T16:46:16.222Z"
   },
   {
    "duration": 59,
    "start_time": "2022-04-29T16:46:16.236Z"
   },
   {
    "duration": 6,
    "start_time": "2022-04-29T16:46:16.297Z"
   },
   {
    "duration": 65,
    "start_time": "2022-04-29T16:46:16.305Z"
   },
   {
    "duration": 61,
    "start_time": "2022-04-29T16:46:16.375Z"
   },
   {
    "duration": 5,
    "start_time": "2022-04-29T16:46:16.438Z"
   },
   {
    "duration": 43,
    "start_time": "2022-04-29T16:46:16.457Z"
   },
   {
    "duration": 13,
    "start_time": "2022-04-29T16:46:16.505Z"
   },
   {
    "duration": 40,
    "start_time": "2022-04-29T16:46:16.520Z"
   },
   {
    "duration": 4,
    "start_time": "2022-04-29T16:46:16.562Z"
   },
   {
    "duration": 40,
    "start_time": "2022-04-29T16:46:16.567Z"
   },
   {
    "duration": 10,
    "start_time": "2022-04-29T16:46:16.609Z"
   },
   {
    "duration": 14,
    "start_time": "2022-04-29T16:46:16.621Z"
   },
   {
    "duration": 31,
    "start_time": "2022-04-29T16:46:16.636Z"
   },
   {
    "duration": 4,
    "start_time": "2022-04-29T16:46:16.670Z"
   },
   {
    "duration": 40,
    "start_time": "2022-04-29T16:46:16.677Z"
   },
   {
    "duration": 4,
    "start_time": "2022-04-29T16:46:16.719Z"
   },
   {
    "duration": 43,
    "start_time": "2022-04-29T16:46:16.725Z"
   },
   {
    "duration": 6,
    "start_time": "2022-04-29T16:46:16.770Z"
   },
   {
    "duration": 13,
    "start_time": "2022-04-29T16:46:16.778Z"
   },
   {
    "duration": 11,
    "start_time": "2022-04-29T16:46:16.792Z"
   },
   {
    "duration": 26,
    "start_time": "2022-04-29T16:46:16.805Z"
   },
   {
    "duration": 42,
    "start_time": "2022-04-29T16:46:16.832Z"
   },
   {
    "duration": 38,
    "start_time": "2022-04-29T16:46:16.878Z"
   },
   {
    "duration": 4,
    "start_time": "2022-04-29T16:46:16.917Z"
   },
   {
    "duration": 17,
    "start_time": "2022-04-29T16:46:16.922Z"
   },
   {
    "duration": 243,
    "start_time": "2022-04-29T16:46:16.940Z"
   },
   {
    "duration": 29,
    "start_time": "2022-04-29T16:46:17.185Z"
   },
   {
    "duration": 3,
    "start_time": "2022-04-29T16:46:17.216Z"
   },
   {
    "duration": 274,
    "start_time": "2022-04-29T16:46:17.220Z"
   },
   {
    "duration": 37,
    "start_time": "2022-04-29T16:46:17.496Z"
   },
   {
    "duration": 21,
    "start_time": "2022-04-29T16:46:17.535Z"
   },
   {
    "duration": 242,
    "start_time": "2022-04-29T16:46:17.558Z"
   },
   {
    "duration": 9,
    "start_time": "2022-04-29T16:46:17.802Z"
   },
   {
    "duration": 6,
    "start_time": "2022-04-29T16:46:17.813Z"
   },
   {
    "duration": 8,
    "start_time": "2022-04-29T16:46:17.821Z"
   },
   {
    "duration": 30,
    "start_time": "2022-04-29T16:46:17.831Z"
   },
   {
    "duration": 18,
    "start_time": "2022-04-29T16:46:17.863Z"
   },
   {
    "duration": 191,
    "start_time": "2022-04-29T16:46:17.883Z"
   },
   {
    "duration": 5,
    "start_time": "2022-04-29T16:46:18.079Z"
   },
   {
    "duration": 9,
    "start_time": "2022-04-29T16:46:18.086Z"
   },
   {
    "duration": 9,
    "start_time": "2022-04-29T16:46:18.097Z"
   },
   {
    "duration": 8,
    "start_time": "2022-04-29T16:46:18.107Z"
   },
   {
    "duration": 9,
    "start_time": "2022-04-29T16:46:18.117Z"
   },
   {
    "duration": 7,
    "start_time": "2022-04-29T16:46:18.127Z"
   },
   {
    "duration": 19,
    "start_time": "2022-04-29T16:46:18.156Z"
   },
   {
    "duration": 911,
    "start_time": "2022-04-29T16:46:18.177Z"
   },
   {
    "duration": 11,
    "start_time": "2022-04-29T16:46:19.089Z"
   },
   {
    "duration": 214,
    "start_time": "2022-04-29T16:46:19.103Z"
   },
   {
    "duration": 5,
    "start_time": "2022-04-29T16:51:37.987Z"
   },
   {
    "duration": 11,
    "start_time": "2022-04-29T16:51:41.490Z"
   },
   {
    "duration": 2504,
    "start_time": "2022-04-29T16:52:21.450Z"
   },
   {
    "duration": 294,
    "start_time": "2022-04-29T16:52:39.633Z"
   },
   {
    "duration": 4,
    "start_time": "2022-04-29T16:53:24.904Z"
   },
   {
    "duration": 10,
    "start_time": "2022-04-29T16:53:26.023Z"
   },
   {
    "duration": 428,
    "start_time": "2022-04-29T16:53:28.431Z"
   },
   {
    "duration": 335,
    "start_time": "2022-04-29T16:53:55.501Z"
   },
   {
    "duration": 316,
    "start_time": "2022-04-29T16:54:14.176Z"
   },
   {
    "duration": 15,
    "start_time": "2022-04-29T16:59:43.073Z"
   },
   {
    "duration": 12,
    "start_time": "2022-04-29T16:59:49.421Z"
   },
   {
    "duration": 4,
    "start_time": "2022-04-29T16:59:57.281Z"
   },
   {
    "duration": 5,
    "start_time": "2022-04-29T16:59:59.376Z"
   },
   {
    "duration": 350,
    "start_time": "2022-04-29T17:00:11.791Z"
   },
   {
    "duration": 285,
    "start_time": "2022-04-29T17:00:25.948Z"
   },
   {
    "duration": 5,
    "start_time": "2022-04-29T17:00:33.961Z"
   },
   {
    "duration": 4,
    "start_time": "2022-04-29T17:00:44.890Z"
   },
   {
    "duration": 10,
    "start_time": "2022-04-29T17:00:45.341Z"
   },
   {
    "duration": 159,
    "start_time": "2022-04-29T17:00:47.724Z"
   },
   {
    "duration": 6,
    "start_time": "2022-04-29T17:01:34.057Z"
   },
   {
    "duration": 10,
    "start_time": "2022-04-29T17:01:40.137Z"
   },
   {
    "duration": 7,
    "start_time": "2022-04-29T17:02:13.662Z"
   },
   {
    "duration": 134,
    "start_time": "2022-04-29T17:02:21.236Z"
   },
   {
    "duration": 367,
    "start_time": "2022-04-29T17:02:31.777Z"
   },
   {
    "duration": 134,
    "start_time": "2022-04-29T17:04:51.969Z"
   },
   {
    "duration": 100,
    "start_time": "2022-04-29T17:07:07.382Z"
   },
   {
    "duration": 7,
    "start_time": "2022-04-29T17:13:42.164Z"
   },
   {
    "duration": 6,
    "start_time": "2022-04-29T17:13:50.630Z"
   },
   {
    "duration": 100,
    "start_time": "2022-04-29T17:13:51.087Z"
   },
   {
    "duration": 47,
    "start_time": "2022-05-01T10:17:24.147Z"
   },
   {
    "duration": 1588,
    "start_time": "2022-05-01T10:17:27.663Z"
   },
   {
    "duration": 250,
    "start_time": "2022-05-01T10:17:29.253Z"
   },
   {
    "duration": 26,
    "start_time": "2022-05-01T10:17:29.505Z"
   },
   {
    "duration": 7,
    "start_time": "2022-05-01T10:17:29.533Z"
   },
   {
    "duration": 256,
    "start_time": "2022-05-01T10:17:29.542Z"
   },
   {
    "duration": 23,
    "start_time": "2022-05-01T10:17:29.800Z"
   },
   {
    "duration": 7,
    "start_time": "2022-05-01T10:17:29.825Z"
   },
   {
    "duration": 99,
    "start_time": "2022-05-01T10:17:29.833Z"
   },
   {
    "duration": 17,
    "start_time": "2022-05-01T10:17:29.934Z"
   },
   {
    "duration": 6,
    "start_time": "2022-05-01T10:17:29.954Z"
   },
   {
    "duration": 20,
    "start_time": "2022-05-01T10:17:29.961Z"
   },
   {
    "duration": 33,
    "start_time": "2022-05-01T10:17:29.983Z"
   },
   {
    "duration": 14,
    "start_time": "2022-05-01T10:17:30.018Z"
   },
   {
    "duration": 33,
    "start_time": "2022-05-01T10:17:30.034Z"
   },
   {
    "duration": 18,
    "start_time": "2022-05-01T10:17:30.069Z"
   },
   {
    "duration": 25,
    "start_time": "2022-05-01T10:17:30.089Z"
   },
   {
    "duration": 23,
    "start_time": "2022-05-01T10:17:30.116Z"
   },
   {
    "duration": 63,
    "start_time": "2022-05-01T10:17:30.141Z"
   },
   {
    "duration": 17,
    "start_time": "2022-05-01T10:17:30.206Z"
   },
   {
    "duration": 59,
    "start_time": "2022-05-01T10:17:30.225Z"
   },
   {
    "duration": 11,
    "start_time": "2022-05-01T10:17:30.285Z"
   },
   {
    "duration": 50,
    "start_time": "2022-05-01T10:17:30.297Z"
   },
   {
    "duration": 5,
    "start_time": "2022-05-01T10:17:30.349Z"
   },
   {
    "duration": 30,
    "start_time": "2022-05-01T10:17:30.356Z"
   },
   {
    "duration": 67,
    "start_time": "2022-05-01T10:17:30.388Z"
   },
   {
    "duration": 5,
    "start_time": "2022-05-01T10:17:30.457Z"
   },
   {
    "duration": 36,
    "start_time": "2022-05-01T10:17:30.464Z"
   },
   {
    "duration": 25,
    "start_time": "2022-05-01T10:17:30.504Z"
   },
   {
    "duration": 27,
    "start_time": "2022-05-01T10:17:30.531Z"
   },
   {
    "duration": 33,
    "start_time": "2022-05-01T10:17:30.560Z"
   },
   {
    "duration": 33,
    "start_time": "2022-05-01T10:17:30.595Z"
   },
   {
    "duration": 16,
    "start_time": "2022-05-01T10:17:30.629Z"
   },
   {
    "duration": 22,
    "start_time": "2022-05-01T10:17:30.647Z"
   },
   {
    "duration": 12,
    "start_time": "2022-05-01T10:17:30.671Z"
   },
   {
    "duration": 11,
    "start_time": "2022-05-01T10:17:30.685Z"
   },
   {
    "duration": 37,
    "start_time": "2022-05-01T10:17:30.698Z"
   },
   {
    "duration": 4,
    "start_time": "2022-05-01T10:17:30.737Z"
   },
   {
    "duration": 27,
    "start_time": "2022-05-01T10:17:30.743Z"
   },
   {
    "duration": 10,
    "start_time": "2022-05-01T10:17:30.771Z"
   },
   {
    "duration": 15,
    "start_time": "2022-05-01T10:17:30.782Z"
   },
   {
    "duration": 22,
    "start_time": "2022-05-01T10:17:30.799Z"
   },
   {
    "duration": 43,
    "start_time": "2022-05-01T10:17:30.823Z"
   },
   {
    "duration": 26,
    "start_time": "2022-05-01T10:17:30.868Z"
   },
   {
    "duration": 31,
    "start_time": "2022-05-01T10:17:30.896Z"
   },
   {
    "duration": 6,
    "start_time": "2022-05-01T10:17:30.929Z"
   },
   {
    "duration": 17,
    "start_time": "2022-05-01T10:17:30.937Z"
   },
   {
    "duration": 317,
    "start_time": "2022-05-01T10:17:30.956Z"
   },
   {
    "duration": 27,
    "start_time": "2022-05-01T10:17:31.275Z"
   },
   {
    "duration": 16,
    "start_time": "2022-05-01T10:17:31.303Z"
   },
   {
    "duration": 191,
    "start_time": "2022-05-01T10:17:31.324Z"
   },
   {
    "duration": 32,
    "start_time": "2022-05-01T10:17:31.517Z"
   },
   {
    "duration": 13,
    "start_time": "2022-05-01T10:17:31.550Z"
   },
   {
    "duration": 176,
    "start_time": "2022-05-01T10:17:31.565Z"
   },
   {
    "duration": 7,
    "start_time": "2022-05-01T10:17:31.743Z"
   },
   {
    "duration": 22,
    "start_time": "2022-05-01T10:17:31.752Z"
   },
   {
    "duration": 12,
    "start_time": "2022-05-01T10:17:31.776Z"
   },
   {
    "duration": 13,
    "start_time": "2022-05-01T10:17:31.789Z"
   },
   {
    "duration": 6,
    "start_time": "2022-05-01T10:17:31.803Z"
   },
   {
    "duration": 170,
    "start_time": "2022-05-01T10:17:31.811Z"
   },
   {
    "duration": 3,
    "start_time": "2022-05-01T10:17:31.983Z"
   },
   {
    "duration": 13,
    "start_time": "2022-05-01T10:17:31.988Z"
   },
   {
    "duration": 10,
    "start_time": "2022-05-01T10:17:32.003Z"
   },
   {
    "duration": 10,
    "start_time": "2022-05-01T10:17:32.015Z"
   },
   {
    "duration": 34,
    "start_time": "2022-05-01T10:17:32.027Z"
   },
   {
    "duration": 40,
    "start_time": "2022-05-01T10:17:32.062Z"
   },
   {
    "duration": 14,
    "start_time": "2022-05-01T10:17:32.103Z"
   },
   {
    "duration": 6,
    "start_time": "2022-05-01T10:17:32.118Z"
   },
   {
    "duration": 5,
    "start_time": "2022-05-01T10:17:32.126Z"
   },
   {
    "duration": 191,
    "start_time": "2022-05-01T10:17:32.132Z"
   },
   {
    "duration": 4,
    "start_time": "2022-05-01T10:19:28.309Z"
   },
   {
    "duration": 6,
    "start_time": "2022-05-01T10:19:35.132Z"
   },
   {
    "duration": 59,
    "start_time": "2022-05-01T10:20:14.802Z"
   },
   {
    "duration": 3,
    "start_time": "2022-05-01T10:20:22.798Z"
   },
   {
    "duration": 199,
    "start_time": "2022-05-01T10:20:22.804Z"
   },
   {
    "duration": 38,
    "start_time": "2022-05-01T10:20:23.005Z"
   },
   {
    "duration": 4,
    "start_time": "2022-05-01T10:20:23.045Z"
   },
   {
    "duration": 175,
    "start_time": "2022-05-01T10:20:23.052Z"
   },
   {
    "duration": 20,
    "start_time": "2022-05-01T10:20:23.229Z"
   },
   {
    "duration": 5,
    "start_time": "2022-05-01T10:20:23.250Z"
   },
   {
    "duration": 106,
    "start_time": "2022-05-01T10:20:23.257Z"
   },
   {
    "duration": 16,
    "start_time": "2022-05-01T10:20:23.364Z"
   },
   {
    "duration": 4,
    "start_time": "2022-05-01T10:20:23.382Z"
   },
   {
    "duration": 24,
    "start_time": "2022-05-01T10:20:23.389Z"
   },
   {
    "duration": 23,
    "start_time": "2022-05-01T10:20:23.415Z"
   },
   {
    "duration": 9,
    "start_time": "2022-05-01T10:20:23.440Z"
   },
   {
    "duration": 26,
    "start_time": "2022-05-01T10:20:23.451Z"
   },
   {
    "duration": 11,
    "start_time": "2022-05-01T10:20:23.479Z"
   },
   {
    "duration": 43,
    "start_time": "2022-05-01T10:20:23.491Z"
   },
   {
    "duration": 18,
    "start_time": "2022-05-01T10:20:23.535Z"
   },
   {
    "duration": 71,
    "start_time": "2022-05-01T10:20:23.554Z"
   },
   {
    "duration": 6,
    "start_time": "2022-05-01T10:20:23.627Z"
   },
   {
    "duration": 48,
    "start_time": "2022-05-01T10:20:23.635Z"
   },
   {
    "duration": 13,
    "start_time": "2022-05-01T10:20:23.684Z"
   },
   {
    "duration": 63,
    "start_time": "2022-05-01T10:20:23.698Z"
   },
   {
    "duration": 5,
    "start_time": "2022-05-01T10:20:23.763Z"
   },
   {
    "duration": 28,
    "start_time": "2022-05-01T10:20:23.769Z"
   },
   {
    "duration": 68,
    "start_time": "2022-05-01T10:20:23.799Z"
   },
   {
    "duration": 6,
    "start_time": "2022-05-01T10:20:23.869Z"
   },
   {
    "duration": 46,
    "start_time": "2022-05-01T10:20:23.877Z"
   },
   {
    "duration": 13,
    "start_time": "2022-05-01T10:20:23.925Z"
   },
   {
    "duration": 11,
    "start_time": "2022-05-01T10:20:23.942Z"
   },
   {
    "duration": 4,
    "start_time": "2022-05-01T10:20:23.955Z"
   },
   {
    "duration": 27,
    "start_time": "2022-05-01T10:20:23.961Z"
   },
   {
    "duration": 40,
    "start_time": "2022-05-01T10:20:23.990Z"
   },
   {
    "duration": 21,
    "start_time": "2022-05-01T10:20:24.033Z"
   },
   {
    "duration": 13,
    "start_time": "2022-05-01T10:20:24.056Z"
   },
   {
    "duration": 3,
    "start_time": "2022-05-01T10:20:24.071Z"
   },
   {
    "duration": 54,
    "start_time": "2022-05-01T10:20:24.076Z"
   },
   {
    "duration": 5,
    "start_time": "2022-05-01T10:20:24.132Z"
   },
   {
    "duration": 21,
    "start_time": "2022-05-01T10:20:24.138Z"
   },
   {
    "duration": 4,
    "start_time": "2022-05-01T10:20:24.161Z"
   },
   {
    "duration": 6,
    "start_time": "2022-05-01T10:20:24.167Z"
   },
   {
    "duration": 9,
    "start_time": "2022-05-01T10:20:24.175Z"
   },
   {
    "duration": 52,
    "start_time": "2022-05-01T10:20:24.186Z"
   },
   {
    "duration": 25,
    "start_time": "2022-05-01T10:20:24.240Z"
   },
   {
    "duration": 25,
    "start_time": "2022-05-01T10:20:24.267Z"
   },
   {
    "duration": 5,
    "start_time": "2022-05-01T10:20:24.293Z"
   },
   {
    "duration": 11,
    "start_time": "2022-05-01T10:20:24.324Z"
   },
   {
    "duration": 0,
    "start_time": "2022-05-01T10:20:24.337Z"
   },
   {
    "duration": 0,
    "start_time": "2022-05-01T10:20:24.338Z"
   },
   {
    "duration": 0,
    "start_time": "2022-05-01T10:20:24.339Z"
   },
   {
    "duration": 0,
    "start_time": "2022-05-01T10:20:24.340Z"
   },
   {
    "duration": 0,
    "start_time": "2022-05-01T10:20:24.341Z"
   },
   {
    "duration": 0,
    "start_time": "2022-05-01T10:20:24.342Z"
   },
   {
    "duration": 0,
    "start_time": "2022-05-01T10:20:24.343Z"
   },
   {
    "duration": 0,
    "start_time": "2022-05-01T10:20:24.344Z"
   },
   {
    "duration": 0,
    "start_time": "2022-05-01T10:20:24.346Z"
   },
   {
    "duration": 0,
    "start_time": "2022-05-01T10:20:24.346Z"
   },
   {
    "duration": 0,
    "start_time": "2022-05-01T10:20:24.347Z"
   },
   {
    "duration": 0,
    "start_time": "2022-05-01T10:20:24.348Z"
   },
   {
    "duration": 0,
    "start_time": "2022-05-01T10:20:24.349Z"
   },
   {
    "duration": 0,
    "start_time": "2022-05-01T10:20:24.350Z"
   },
   {
    "duration": 0,
    "start_time": "2022-05-01T10:20:24.351Z"
   },
   {
    "duration": 0,
    "start_time": "2022-05-01T10:20:24.352Z"
   },
   {
    "duration": 0,
    "start_time": "2022-05-01T10:20:24.353Z"
   },
   {
    "duration": 0,
    "start_time": "2022-05-01T10:20:24.354Z"
   },
   {
    "duration": 0,
    "start_time": "2022-05-01T10:20:24.355Z"
   },
   {
    "duration": 0,
    "start_time": "2022-05-01T10:20:24.356Z"
   },
   {
    "duration": 0,
    "start_time": "2022-05-01T10:20:24.357Z"
   },
   {
    "duration": 0,
    "start_time": "2022-05-01T10:20:24.358Z"
   },
   {
    "duration": 0,
    "start_time": "2022-05-01T10:20:24.359Z"
   },
   {
    "duration": 0,
    "start_time": "2022-05-01T10:20:24.360Z"
   },
   {
    "duration": 0,
    "start_time": "2022-05-01T10:20:24.361Z"
   },
   {
    "duration": 6,
    "start_time": "2022-05-01T10:20:55.689Z"
   },
   {
    "duration": 10,
    "start_time": "2022-05-01T10:20:57.524Z"
   },
   {
    "duration": 4,
    "start_time": "2022-05-01T10:21:07.508Z"
   },
   {
    "duration": 9,
    "start_time": "2022-05-01T10:21:08.057Z"
   },
   {
    "duration": 265,
    "start_time": "2022-05-01T10:22:54.560Z"
   },
   {
    "duration": 8,
    "start_time": "2022-05-01T10:22:57.267Z"
   },
   {
    "duration": 13,
    "start_time": "2022-05-01T10:22:57.277Z"
   },
   {
    "duration": 471,
    "start_time": "2022-05-01T10:22:58.001Z"
   },
   {
    "duration": 11,
    "start_time": "2022-05-01T10:23:14.056Z"
   },
   {
    "duration": 10,
    "start_time": "2022-05-01T10:23:26.024Z"
   },
   {
    "duration": 13,
    "start_time": "2022-05-01T10:23:34.990Z"
   },
   {
    "duration": 9,
    "start_time": "2022-05-01T10:23:39.613Z"
   },
   {
    "duration": 2,
    "start_time": "2022-05-01T10:23:51.250Z"
   },
   {
    "duration": 227,
    "start_time": "2022-05-01T10:23:51.255Z"
   },
   {
    "duration": 49,
    "start_time": "2022-05-01T10:23:51.484Z"
   },
   {
    "duration": 7,
    "start_time": "2022-05-01T10:23:51.535Z"
   },
   {
    "duration": 179,
    "start_time": "2022-05-01T10:23:51.545Z"
   },
   {
    "duration": 31,
    "start_time": "2022-05-01T10:23:51.726Z"
   },
   {
    "duration": 6,
    "start_time": "2022-05-01T10:23:51.759Z"
   },
   {
    "duration": 138,
    "start_time": "2022-05-01T10:23:51.767Z"
   },
   {
    "duration": 23,
    "start_time": "2022-05-01T10:23:51.907Z"
   },
   {
    "duration": 4,
    "start_time": "2022-05-01T10:23:51.932Z"
   },
   {
    "duration": 14,
    "start_time": "2022-05-01T10:23:51.939Z"
   },
   {
    "duration": 23,
    "start_time": "2022-05-01T10:23:51.955Z"
   },
   {
    "duration": 10,
    "start_time": "2022-05-01T10:23:51.979Z"
   },
   {
    "duration": 38,
    "start_time": "2022-05-01T10:23:51.991Z"
   },
   {
    "duration": 12,
    "start_time": "2022-05-01T10:23:52.030Z"
   },
   {
    "duration": 22,
    "start_time": "2022-05-01T10:23:52.044Z"
   },
   {
    "duration": 19,
    "start_time": "2022-05-01T10:23:52.067Z"
   },
   {
    "duration": 82,
    "start_time": "2022-05-01T10:23:52.087Z"
   },
   {
    "duration": 6,
    "start_time": "2022-05-01T10:23:52.172Z"
   },
   {
    "duration": 69,
    "start_time": "2022-05-01T10:23:52.180Z"
   },
   {
    "duration": 12,
    "start_time": "2022-05-01T10:23:52.251Z"
   },
   {
    "duration": 40,
    "start_time": "2022-05-01T10:23:52.265Z"
   },
   {
    "duration": 5,
    "start_time": "2022-05-01T10:23:52.323Z"
   },
   {
    "duration": 30,
    "start_time": "2022-05-01T10:23:52.330Z"
   },
   {
    "duration": 68,
    "start_time": "2022-05-01T10:23:52.362Z"
   },
   {
    "duration": 5,
    "start_time": "2022-05-01T10:23:52.432Z"
   },
   {
    "duration": 25,
    "start_time": "2022-05-01T10:23:52.438Z"
   },
   {
    "duration": 12,
    "start_time": "2022-05-01T10:23:52.464Z"
   },
   {
    "duration": 45,
    "start_time": "2022-05-01T10:23:52.479Z"
   },
   {
    "duration": 4,
    "start_time": "2022-05-01T10:23:52.525Z"
   },
   {
    "duration": 23,
    "start_time": "2022-05-01T10:23:52.530Z"
   },
   {
    "duration": 9,
    "start_time": "2022-05-01T10:23:52.555Z"
   },
   {
    "duration": 15,
    "start_time": "2022-05-01T10:23:52.565Z"
   },
   {
    "duration": 42,
    "start_time": "2022-05-01T10:23:52.582Z"
   },
   {
    "duration": 3,
    "start_time": "2022-05-01T10:23:52.626Z"
   },
   {
    "duration": 32,
    "start_time": "2022-05-01T10:23:52.631Z"
   },
   {
    "duration": 4,
    "start_time": "2022-05-01T10:23:52.664Z"
   },
   {
    "duration": 21,
    "start_time": "2022-05-01T10:23:52.670Z"
   },
   {
    "duration": 32,
    "start_time": "2022-05-01T10:23:52.692Z"
   },
   {
    "duration": 6,
    "start_time": "2022-05-01T10:23:52.726Z"
   },
   {
    "duration": 6,
    "start_time": "2022-05-01T10:23:52.734Z"
   },
   {
    "duration": 30,
    "start_time": "2022-05-01T10:23:52.741Z"
   },
   {
    "duration": 26,
    "start_time": "2022-05-01T10:23:52.773Z"
   },
   {
    "duration": 47,
    "start_time": "2022-05-01T10:23:52.801Z"
   },
   {
    "duration": 4,
    "start_time": "2022-05-01T10:23:52.849Z"
   },
   {
    "duration": 11,
    "start_time": "2022-05-01T10:23:52.855Z"
   },
   {
    "duration": 0,
    "start_time": "2022-05-01T10:23:52.868Z"
   },
   {
    "duration": 0,
    "start_time": "2022-05-01T10:23:52.869Z"
   },
   {
    "duration": 0,
    "start_time": "2022-05-01T10:23:52.870Z"
   },
   {
    "duration": 0,
    "start_time": "2022-05-01T10:23:52.871Z"
   },
   {
    "duration": 0,
    "start_time": "2022-05-01T10:23:52.872Z"
   },
   {
    "duration": 0,
    "start_time": "2022-05-01T10:23:52.872Z"
   },
   {
    "duration": 0,
    "start_time": "2022-05-01T10:23:52.873Z"
   },
   {
    "duration": 0,
    "start_time": "2022-05-01T10:23:52.874Z"
   },
   {
    "duration": 0,
    "start_time": "2022-05-01T10:23:52.875Z"
   },
   {
    "duration": 0,
    "start_time": "2022-05-01T10:23:52.876Z"
   },
   {
    "duration": 0,
    "start_time": "2022-05-01T10:23:52.877Z"
   },
   {
    "duration": 0,
    "start_time": "2022-05-01T10:23:52.878Z"
   },
   {
    "duration": 0,
    "start_time": "2022-05-01T10:23:52.879Z"
   },
   {
    "duration": 0,
    "start_time": "2022-05-01T10:23:52.880Z"
   },
   {
    "duration": 0,
    "start_time": "2022-05-01T10:23:52.881Z"
   },
   {
    "duration": 0,
    "start_time": "2022-05-01T10:23:52.882Z"
   },
   {
    "duration": 0,
    "start_time": "2022-05-01T10:23:52.883Z"
   },
   {
    "duration": 0,
    "start_time": "2022-05-01T10:23:52.923Z"
   },
   {
    "duration": 0,
    "start_time": "2022-05-01T10:23:52.924Z"
   },
   {
    "duration": 0,
    "start_time": "2022-05-01T10:23:52.925Z"
   },
   {
    "duration": 0,
    "start_time": "2022-05-01T10:23:52.926Z"
   },
   {
    "duration": 0,
    "start_time": "2022-05-01T10:23:52.928Z"
   },
   {
    "duration": 0,
    "start_time": "2022-05-01T10:23:52.929Z"
   },
   {
    "duration": 0,
    "start_time": "2022-05-01T10:23:52.930Z"
   },
   {
    "duration": 0,
    "start_time": "2022-05-01T10:23:52.931Z"
   },
   {
    "duration": 8,
    "start_time": "2022-05-01T10:24:53.812Z"
   },
   {
    "duration": 16,
    "start_time": "2022-05-01T10:26:13.191Z"
   },
   {
    "duration": 14,
    "start_time": "2022-05-01T10:26:24.773Z"
   },
   {
    "duration": 13,
    "start_time": "2022-05-01T10:27:38.663Z"
   },
   {
    "duration": 26,
    "start_time": "2022-05-01T10:29:16.822Z"
   },
   {
    "duration": 4,
    "start_time": "2022-05-01T10:29:54.170Z"
   },
   {
    "duration": 2167,
    "start_time": "2022-05-01T10:30:24.463Z"
   },
   {
    "duration": 274,
    "start_time": "2022-05-01T10:31:52.429Z"
   },
   {
    "duration": 282,
    "start_time": "2022-05-01T10:32:09.092Z"
   },
   {
    "duration": 284,
    "start_time": "2022-05-01T10:32:46.107Z"
   },
   {
    "duration": 299,
    "start_time": "2022-05-01T10:33:07.625Z"
   },
   {
    "duration": 291,
    "start_time": "2022-05-01T10:34:14.473Z"
   },
   {
    "duration": 1865,
    "start_time": "2022-05-01T14:47:15.264Z"
   },
   {
    "duration": 262,
    "start_time": "2022-05-01T14:47:17.132Z"
   },
   {
    "duration": 35,
    "start_time": "2022-05-01T14:47:17.397Z"
   },
   {
    "duration": 11,
    "start_time": "2022-05-01T14:47:17.436Z"
   },
   {
    "duration": 246,
    "start_time": "2022-05-01T14:47:17.450Z"
   },
   {
    "duration": 30,
    "start_time": "2022-05-01T14:47:17.698Z"
   },
   {
    "duration": 8,
    "start_time": "2022-05-01T14:47:17.731Z"
   },
   {
    "duration": 152,
    "start_time": "2022-05-01T14:47:17.742Z"
   },
   {
    "duration": 26,
    "start_time": "2022-05-01T14:47:17.896Z"
   },
   {
    "duration": 6,
    "start_time": "2022-05-01T14:47:17.926Z"
   },
   {
    "duration": 32,
    "start_time": "2022-05-01T14:47:17.934Z"
   },
   {
    "duration": 45,
    "start_time": "2022-05-01T14:47:17.968Z"
   },
   {
    "duration": 15,
    "start_time": "2022-05-01T14:47:18.016Z"
   },
   {
    "duration": 33,
    "start_time": "2022-05-01T14:47:18.033Z"
   },
   {
    "duration": 39,
    "start_time": "2022-05-01T14:47:18.068Z"
   },
   {
    "duration": 35,
    "start_time": "2022-05-01T14:47:18.110Z"
   },
   {
    "duration": 56,
    "start_time": "2022-05-01T14:47:18.148Z"
   },
   {
    "duration": 98,
    "start_time": "2022-05-01T14:47:18.206Z"
   },
   {
    "duration": 9,
    "start_time": "2022-05-01T14:47:18.307Z"
   },
   {
    "duration": 110,
    "start_time": "2022-05-01T14:47:18.319Z"
   },
   {
    "duration": 21,
    "start_time": "2022-05-01T14:47:18.433Z"
   },
   {
    "duration": 80,
    "start_time": "2022-05-01T14:47:18.457Z"
   },
   {
    "duration": 8,
    "start_time": "2022-05-01T14:47:18.540Z"
   },
   {
    "duration": 79,
    "start_time": "2022-05-01T14:47:18.551Z"
   },
   {
    "duration": 83,
    "start_time": "2022-05-01T14:47:18.633Z"
   },
   {
    "duration": 8,
    "start_time": "2022-05-01T14:47:18.720Z"
   },
   {
    "duration": 66,
    "start_time": "2022-05-01T14:47:18.731Z"
   },
   {
    "duration": 17,
    "start_time": "2022-05-01T14:47:18.803Z"
   },
   {
    "duration": 23,
    "start_time": "2022-05-01T14:47:18.822Z"
   },
   {
    "duration": 8,
    "start_time": "2022-05-01T14:47:18.847Z"
   },
   {
    "duration": 64,
    "start_time": "2022-05-01T14:47:18.857Z"
   },
   {
    "duration": 16,
    "start_time": "2022-05-01T14:47:18.923Z"
   },
   {
    "duration": 55,
    "start_time": "2022-05-01T14:47:18.941Z"
   },
   {
    "duration": 18,
    "start_time": "2022-05-01T14:47:18.998Z"
   },
   {
    "duration": 10,
    "start_time": "2022-05-01T14:47:19.018Z"
   },
   {
    "duration": 75,
    "start_time": "2022-05-01T14:47:19.030Z"
   },
   {
    "duration": 7,
    "start_time": "2022-05-01T14:47:19.107Z"
   },
   {
    "duration": 33,
    "start_time": "2022-05-01T14:47:19.116Z"
   },
   {
    "duration": 12,
    "start_time": "2022-05-01T14:47:19.151Z"
   },
   {
    "duration": 6,
    "start_time": "2022-05-01T14:47:19.194Z"
   },
   {
    "duration": 8,
    "start_time": "2022-05-01T14:47:19.203Z"
   },
   {
    "duration": 81,
    "start_time": "2022-05-01T14:47:19.214Z"
   },
   {
    "duration": 42,
    "start_time": "2022-05-01T14:47:19.297Z"
   },
   {
    "duration": 71,
    "start_time": "2022-05-01T14:47:19.341Z"
   },
   {
    "duration": 5,
    "start_time": "2022-05-01T14:47:19.415Z"
   },
   {
    "duration": 932,
    "start_time": "2022-05-01T14:47:19.423Z"
   },
   {
    "duration": 13,
    "start_time": "2022-05-01T14:47:20.358Z"
   },
   {
    "duration": 29,
    "start_time": "2022-05-01T14:47:20.374Z"
   },
   {
    "duration": 559,
    "start_time": "2022-05-01T14:47:20.406Z"
   },
   {
    "duration": 52,
    "start_time": "2022-05-01T14:47:20.967Z"
   },
   {
    "duration": 5,
    "start_time": "2022-05-01T14:47:21.021Z"
   },
   {
    "duration": 328,
    "start_time": "2022-05-01T14:47:21.028Z"
   },
   {
    "duration": 64,
    "start_time": "2022-05-01T14:47:21.358Z"
   },
   {
    "duration": 6,
    "start_time": "2022-05-01T14:47:21.425Z"
   },
   {
    "duration": 416,
    "start_time": "2022-05-01T14:47:21.434Z"
   },
   {
    "duration": 12,
    "start_time": "2022-05-01T14:47:21.852Z"
   },
   {
    "duration": 28,
    "start_time": "2022-05-01T14:47:21.867Z"
   },
   {
    "duration": 14,
    "start_time": "2022-05-01T14:47:21.897Z"
   },
   {
    "duration": 8,
    "start_time": "2022-05-01T14:47:21.913Z"
   },
   {
    "duration": 13,
    "start_time": "2022-05-01T14:47:21.923Z"
   },
   {
    "duration": 590,
    "start_time": "2022-05-01T14:47:21.939Z"
   },
   {
    "duration": 7,
    "start_time": "2022-05-01T14:47:22.532Z"
   },
   {
    "duration": 10,
    "start_time": "2022-05-01T14:47:22.542Z"
   },
   {
    "duration": 11,
    "start_time": "2022-05-01T14:47:22.554Z"
   },
   {
    "duration": 7,
    "start_time": "2022-05-01T14:47:22.595Z"
   },
   {
    "duration": 11,
    "start_time": "2022-05-01T14:47:22.605Z"
   },
   {
    "duration": 14,
    "start_time": "2022-05-01T14:47:22.619Z"
   },
   {
    "duration": 16,
    "start_time": "2022-05-01T14:47:22.636Z"
   },
   {
    "duration": 43,
    "start_time": "2022-05-01T14:47:22.655Z"
   },
   {
    "duration": 10,
    "start_time": "2022-05-01T14:47:22.701Z"
   },
   {
    "duration": 340,
    "start_time": "2022-05-01T14:47:22.714Z"
   },
   {
    "duration": 6,
    "start_time": "2022-05-01T14:47:58.091Z"
   },
   {
    "duration": 607,
    "start_time": "2022-05-01T14:47:59.144Z"
   },
   {
    "duration": 156,
    "start_time": "2022-05-01T14:48:36.125Z"
   },
   {
    "duration": 19,
    "start_time": "2022-05-01T14:48:50.692Z"
   },
   {
    "duration": 17,
    "start_time": "2022-05-01T14:50:39.429Z"
   },
   {
    "duration": 459,
    "start_time": "2022-05-01T14:50:56.068Z"
   },
   {
    "duration": 812,
    "start_time": "2022-05-01T14:56:34.809Z"
   },
   {
    "duration": 454,
    "start_time": "2022-05-01T14:57:03.448Z"
   },
   {
    "duration": 532,
    "start_time": "2022-05-01T14:59:28.810Z"
   },
   {
    "duration": 197,
    "start_time": "2022-05-01T15:00:06.941Z"
   },
   {
    "duration": 835,
    "start_time": "2022-05-01T15:00:14.785Z"
   },
   {
    "duration": 461,
    "start_time": "2022-05-01T15:00:45.226Z"
   },
   {
    "duration": 480,
    "start_time": "2022-05-01T15:02:04.133Z"
   },
   {
    "duration": 205,
    "start_time": "2022-05-01T15:03:36.780Z"
   },
   {
    "duration": 489,
    "start_time": "2022-05-01T15:03:46.905Z"
   },
   {
    "duration": 460,
    "start_time": "2022-05-01T15:06:33.846Z"
   },
   {
    "duration": 518,
    "start_time": "2022-05-01T15:08:49.126Z"
   },
   {
    "duration": 12,
    "start_time": "2022-05-01T15:09:11.421Z"
   },
   {
    "duration": 473,
    "start_time": "2022-05-01T15:09:24.108Z"
   },
   {
    "duration": 489,
    "start_time": "2022-05-01T15:11:52.789Z"
   },
   {
    "duration": 5,
    "start_time": "2022-05-01T16:20:14.226Z"
   },
   {
    "duration": 289,
    "start_time": "2022-05-01T16:20:14.239Z"
   },
   {
    "duration": 34,
    "start_time": "2022-05-01T16:20:14.531Z"
   },
   {
    "duration": 7,
    "start_time": "2022-05-01T16:20:14.593Z"
   },
   {
    "duration": 222,
    "start_time": "2022-05-01T16:20:14.603Z"
   },
   {
    "duration": 28,
    "start_time": "2022-05-01T16:20:14.827Z"
   },
   {
    "duration": 7,
    "start_time": "2022-05-01T16:20:14.857Z"
   },
   {
    "duration": 140,
    "start_time": "2022-05-01T16:20:14.866Z"
   },
   {
    "duration": 25,
    "start_time": "2022-05-01T16:20:15.008Z"
   },
   {
    "duration": 41,
    "start_time": "2022-05-01T16:20:15.035Z"
   },
   {
    "duration": 27,
    "start_time": "2022-05-01T16:20:15.079Z"
   },
   {
    "duration": 49,
    "start_time": "2022-05-01T16:20:15.108Z"
   },
   {
    "duration": 15,
    "start_time": "2022-05-01T16:20:15.159Z"
   },
   {
    "duration": 28,
    "start_time": "2022-05-01T16:20:15.176Z"
   },
   {
    "duration": 17,
    "start_time": "2022-05-01T16:20:15.205Z"
   },
   {
    "duration": 33,
    "start_time": "2022-05-01T16:20:15.224Z"
   },
   {
    "duration": 57,
    "start_time": "2022-05-01T16:20:15.259Z"
   },
   {
    "duration": 99,
    "start_time": "2022-05-01T16:20:15.318Z"
   },
   {
    "duration": 7,
    "start_time": "2022-05-01T16:20:15.420Z"
   },
   {
    "duration": 94,
    "start_time": "2022-05-01T16:20:15.429Z"
   },
   {
    "duration": 23,
    "start_time": "2022-05-01T16:20:15.526Z"
   },
   {
    "duration": 74,
    "start_time": "2022-05-01T16:20:15.552Z"
   },
   {
    "duration": 6,
    "start_time": "2022-05-01T16:20:15.629Z"
   },
   {
    "duration": 64,
    "start_time": "2022-05-01T16:20:15.637Z"
   },
   {
    "duration": 66,
    "start_time": "2022-05-01T16:20:15.703Z"
   },
   {
    "duration": 22,
    "start_time": "2022-05-01T16:20:15.771Z"
   },
   {
    "duration": 39,
    "start_time": "2022-05-01T16:20:15.795Z"
   },
   {
    "duration": 16,
    "start_time": "2022-05-01T16:20:15.836Z"
   },
   {
    "duration": 46,
    "start_time": "2022-05-01T16:20:15.858Z"
   },
   {
    "duration": 7,
    "start_time": "2022-05-01T16:20:15.906Z"
   },
   {
    "duration": 31,
    "start_time": "2022-05-01T16:20:15.915Z"
   },
   {
    "duration": 13,
    "start_time": "2022-05-01T16:20:15.948Z"
   },
   {
    "duration": 23,
    "start_time": "2022-05-01T16:20:15.993Z"
   },
   {
    "duration": 20,
    "start_time": "2022-05-01T16:20:16.019Z"
   },
   {
    "duration": 8,
    "start_time": "2022-05-01T16:20:16.041Z"
   },
   {
    "duration": 78,
    "start_time": "2022-05-01T16:20:16.051Z"
   },
   {
    "duration": 8,
    "start_time": "2022-05-01T16:20:16.132Z"
   },
   {
    "duration": 56,
    "start_time": "2022-05-01T16:20:16.143Z"
   },
   {
    "duration": 11,
    "start_time": "2022-05-01T16:20:16.202Z"
   },
   {
    "duration": 11,
    "start_time": "2022-05-01T16:20:16.215Z"
   },
   {
    "duration": 13,
    "start_time": "2022-05-01T16:20:16.229Z"
   },
   {
    "duration": 92,
    "start_time": "2022-05-01T16:20:16.245Z"
   },
   {
    "duration": 66,
    "start_time": "2022-05-01T16:20:16.340Z"
   },
   {
    "duration": 41,
    "start_time": "2022-05-01T16:20:16.408Z"
   },
   {
    "duration": 466,
    "start_time": "2022-05-01T16:20:16.451Z"
   },
   {
    "duration": 38,
    "start_time": "2022-05-01T16:20:16.920Z"
   },
   {
    "duration": 424,
    "start_time": "2022-05-01T16:20:16.960Z"
   },
   {
    "duration": 50,
    "start_time": "2022-05-01T16:20:17.387Z"
   },
   {
    "duration": 500,
    "start_time": "2022-05-01T16:20:17.440Z"
   },
   {
    "duration": 11,
    "start_time": "2022-05-01T16:20:17.943Z"
   },
   {
    "duration": 10,
    "start_time": "2022-05-01T16:20:17.956Z"
   },
   {
    "duration": 31,
    "start_time": "2022-05-01T16:20:17.968Z"
   },
   {
    "duration": 6,
    "start_time": "2022-05-01T16:20:18.002Z"
   },
   {
    "duration": 8,
    "start_time": "2022-05-01T16:20:18.010Z"
   },
   {
    "duration": 455,
    "start_time": "2022-05-01T16:20:18.021Z"
   },
   {
    "duration": 5,
    "start_time": "2022-05-01T16:20:18.479Z"
   },
   {
    "duration": 6,
    "start_time": "2022-05-01T16:20:18.493Z"
   },
   {
    "duration": 8,
    "start_time": "2022-05-01T16:20:18.501Z"
   },
   {
    "duration": 9,
    "start_time": "2022-05-01T16:20:18.511Z"
   },
   {
    "duration": 13,
    "start_time": "2022-05-01T16:20:18.522Z"
   },
   {
    "duration": 11,
    "start_time": "2022-05-01T16:20:18.537Z"
   },
   {
    "duration": 44,
    "start_time": "2022-05-01T16:20:18.550Z"
   },
   {
    "duration": 5,
    "start_time": "2022-05-01T16:20:18.597Z"
   },
   {
    "duration": 12,
    "start_time": "2022-05-01T16:20:18.604Z"
   },
   {
    "duration": 302,
    "start_time": "2022-05-01T16:20:18.618Z"
   },
   {
    "duration": 8,
    "start_time": "2022-05-01T16:27:07.687Z"
   },
   {
    "duration": 5,
    "start_time": "2022-05-01T16:27:08.172Z"
   },
   {
    "duration": 8,
    "start_time": "2022-05-01T16:27:13.585Z"
   },
   {
    "duration": 6,
    "start_time": "2022-05-01T16:27:14.146Z"
   },
   {
    "duration": 222,
    "start_time": "2022-05-01T16:27:21.653Z"
   },
   {
    "duration": 8,
    "start_time": "2022-05-01T16:28:11.638Z"
   },
   {
    "duration": 3348,
    "start_time": "2022-05-01T16:28:36.244Z"
   },
   {
    "duration": 43,
    "start_time": "2022-05-01T16:28:59.253Z"
   },
   {
    "duration": 5,
    "start_time": "2022-05-01T16:29:27.518Z"
   },
   {
    "duration": 246,
    "start_time": "2022-05-01T16:29:27.531Z"
   },
   {
    "duration": 42,
    "start_time": "2022-05-01T16:29:27.779Z"
   },
   {
    "duration": 6,
    "start_time": "2022-05-01T16:29:27.823Z"
   },
   {
    "duration": 244,
    "start_time": "2022-05-01T16:29:27.832Z"
   },
   {
    "duration": 40,
    "start_time": "2022-05-01T16:29:28.078Z"
   },
   {
    "duration": 9,
    "start_time": "2022-05-01T16:29:28.121Z"
   },
   {
    "duration": 143,
    "start_time": "2022-05-01T16:29:28.132Z"
   },
   {
    "duration": 32,
    "start_time": "2022-05-01T16:29:28.278Z"
   },
   {
    "duration": 8,
    "start_time": "2022-05-01T16:29:28.312Z"
   },
   {
    "duration": 25,
    "start_time": "2022-05-01T16:29:28.326Z"
   },
   {
    "duration": 55,
    "start_time": "2022-05-01T16:29:28.353Z"
   },
   {
    "duration": 15,
    "start_time": "2022-05-01T16:29:28.410Z"
   },
   {
    "duration": 30,
    "start_time": "2022-05-01T16:29:28.427Z"
   },
   {
    "duration": 40,
    "start_time": "2022-05-01T16:29:28.459Z"
   },
   {
    "duration": 39,
    "start_time": "2022-05-01T16:29:28.501Z"
   },
   {
    "duration": 51,
    "start_time": "2022-05-01T16:29:28.542Z"
   },
   {
    "duration": 76,
    "start_time": "2022-05-01T16:29:28.595Z"
   },
   {
    "duration": 23,
    "start_time": "2022-05-01T16:29:28.673Z"
   },
   {
    "duration": 69,
    "start_time": "2022-05-01T16:29:28.698Z"
   },
   {
    "duration": 39,
    "start_time": "2022-05-01T16:29:28.770Z"
   },
   {
    "duration": 59,
    "start_time": "2022-05-01T16:29:28.811Z"
   },
   {
    "duration": 23,
    "start_time": "2022-05-01T16:29:28.872Z"
   },
   {
    "duration": 44,
    "start_time": "2022-05-01T16:29:28.897Z"
   },
   {
    "duration": 82,
    "start_time": "2022-05-01T16:29:28.943Z"
   },
   {
    "duration": 7,
    "start_time": "2022-05-01T16:29:29.027Z"
   },
   {
    "duration": 67,
    "start_time": "2022-05-01T16:29:29.036Z"
   },
   {
    "duration": 20,
    "start_time": "2022-05-01T16:29:29.105Z"
   },
   {
    "duration": 20,
    "start_time": "2022-05-01T16:29:29.132Z"
   },
   {
    "duration": 39,
    "start_time": "2022-05-01T16:29:29.154Z"
   },
   {
    "duration": 32,
    "start_time": "2022-05-01T16:29:29.196Z"
   },
   {
    "duration": 14,
    "start_time": "2022-05-01T16:29:29.230Z"
   },
   {
    "duration": 59,
    "start_time": "2022-05-01T16:29:29.246Z"
   },
   {
    "duration": 20,
    "start_time": "2022-05-01T16:29:29.307Z"
   },
   {
    "duration": 5,
    "start_time": "2022-05-01T16:29:29.329Z"
   },
   {
    "duration": 75,
    "start_time": "2022-05-01T16:29:29.336Z"
   },
   {
    "duration": 7,
    "start_time": "2022-05-01T16:29:29.413Z"
   },
   {
    "duration": 39,
    "start_time": "2022-05-01T16:29:29.423Z"
   },
   {
    "duration": 29,
    "start_time": "2022-05-01T16:29:29.465Z"
   },
   {
    "duration": 7,
    "start_time": "2022-05-01T16:29:29.496Z"
   },
   {
    "duration": 9,
    "start_time": "2022-05-01T16:29:29.505Z"
   },
   {
    "duration": 45,
    "start_time": "2022-05-01T16:29:29.516Z"
   },
   {
    "duration": 64,
    "start_time": "2022-05-01T16:29:29.563Z"
   },
   {
    "duration": 67,
    "start_time": "2022-05-01T16:29:29.630Z"
   },
   {
    "duration": 486,
    "start_time": "2022-05-01T16:29:29.700Z"
   },
   {
    "duration": 43,
    "start_time": "2022-05-01T16:29:30.193Z"
   },
   {
    "duration": 432,
    "start_time": "2022-05-01T16:29:30.238Z"
   },
   {
    "duration": 59,
    "start_time": "2022-05-01T16:29:30.673Z"
   },
   {
    "duration": 490,
    "start_time": "2022-05-01T16:29:30.735Z"
   },
   {
    "duration": 43,
    "start_time": "2022-05-01T16:29:31.227Z"
   },
   {
    "duration": 23,
    "start_time": "2022-05-01T16:29:31.273Z"
   },
   {
    "duration": 16,
    "start_time": "2022-05-01T16:29:31.298Z"
   },
   {
    "duration": 17,
    "start_time": "2022-05-01T16:29:31.317Z"
   },
   {
    "duration": 3430,
    "start_time": "2022-05-01T16:29:31.337Z"
   },
   {
    "duration": 0,
    "start_time": "2022-05-01T16:29:34.769Z"
   },
   {
    "duration": 0,
    "start_time": "2022-05-01T16:29:34.771Z"
   },
   {
    "duration": 0,
    "start_time": "2022-05-01T16:29:34.773Z"
   },
   {
    "duration": 0,
    "start_time": "2022-05-01T16:29:34.774Z"
   },
   {
    "duration": 0,
    "start_time": "2022-05-01T16:29:34.776Z"
   },
   {
    "duration": 0,
    "start_time": "2022-05-01T16:29:34.777Z"
   },
   {
    "duration": 0,
    "start_time": "2022-05-01T16:29:34.779Z"
   },
   {
    "duration": 0,
    "start_time": "2022-05-01T16:29:34.780Z"
   },
   {
    "duration": 0,
    "start_time": "2022-05-01T16:29:34.782Z"
   },
   {
    "duration": 0,
    "start_time": "2022-05-01T16:29:34.783Z"
   },
   {
    "duration": 0,
    "start_time": "2022-05-01T16:29:34.785Z"
   },
   {
    "duration": 3767,
    "start_time": "2022-05-01T16:29:59.741Z"
   },
   {
    "duration": 9,
    "start_time": "2022-05-01T16:30:11.480Z"
   },
   {
    "duration": 2433,
    "start_time": "2022-05-01T16:30:19.206Z"
   },
   {
    "duration": 10,
    "start_time": "2022-05-01T16:30:57.087Z"
   },
   {
    "duration": 6,
    "start_time": "2022-05-01T16:31:05.567Z"
   },
   {
    "duration": 277,
    "start_time": "2022-05-01T16:31:50.332Z"
   },
   {
    "duration": 20,
    "start_time": "2022-05-01T16:33:30.726Z"
   },
   {
    "duration": 6,
    "start_time": "2022-05-01T16:35:00.825Z"
   },
   {
    "duration": 6,
    "start_time": "2022-05-01T16:35:02.160Z"
   },
   {
    "duration": 6,
    "start_time": "2022-05-01T16:35:03.283Z"
   },
   {
    "duration": 7,
    "start_time": "2022-05-01T16:35:06.612Z"
   },
   {
    "duration": 6,
    "start_time": "2022-05-01T16:36:41.822Z"
   },
   {
    "duration": 7,
    "start_time": "2022-05-01T16:36:51.901Z"
   },
   {
    "duration": 7,
    "start_time": "2022-05-01T16:37:26.699Z"
   },
   {
    "duration": 39,
    "start_time": "2022-05-01T16:37:55.891Z"
   },
   {
    "duration": 13,
    "start_time": "2022-05-01T16:43:44.689Z"
   },
   {
    "duration": 14,
    "start_time": "2022-05-01T16:44:08.866Z"
   },
   {
    "duration": 13,
    "start_time": "2022-05-01T16:47:04.399Z"
   },
   {
    "duration": 13,
    "start_time": "2022-05-01T16:47:29.646Z"
   },
   {
    "duration": 13,
    "start_time": "2022-05-01T16:47:55.333Z"
   },
   {
    "duration": 6,
    "start_time": "2022-05-01T16:48:24.277Z"
   },
   {
    "duration": 12,
    "start_time": "2022-05-01T16:48:32.811Z"
   },
   {
    "duration": 14,
    "start_time": "2022-05-01T16:49:00.382Z"
   },
   {
    "duration": 304,
    "start_time": "2022-05-01T16:54:25.476Z"
   },
   {
    "duration": 287,
    "start_time": "2022-05-01T16:55:56.048Z"
   },
   {
    "duration": 608,
    "start_time": "2022-05-01T16:56:26.861Z"
   },
   {
    "duration": 465,
    "start_time": "2022-05-01T16:56:39.497Z"
   },
   {
    "duration": 664,
    "start_time": "2022-05-01T17:31:16.733Z"
   },
   {
    "duration": 42,
    "start_time": "2022-05-01T17:32:18.643Z"
   },
   {
    "duration": 4,
    "start_time": "2022-05-01T17:33:11.379Z"
   },
   {
    "duration": 245,
    "start_time": "2022-05-01T17:33:11.396Z"
   },
   {
    "duration": 31,
    "start_time": "2022-05-01T17:33:11.643Z"
   },
   {
    "duration": 19,
    "start_time": "2022-05-01T17:33:11.676Z"
   },
   {
    "duration": 237,
    "start_time": "2022-05-01T17:33:11.698Z"
   },
   {
    "duration": 27,
    "start_time": "2022-05-01T17:33:11.937Z"
   },
   {
    "duration": 6,
    "start_time": "2022-05-01T17:33:11.967Z"
   },
   {
    "duration": 118,
    "start_time": "2022-05-01T17:33:11.994Z"
   },
   {
    "duration": 24,
    "start_time": "2022-05-01T17:33:12.115Z"
   },
   {
    "duration": 7,
    "start_time": "2022-05-01T17:33:12.141Z"
   },
   {
    "duration": 44,
    "start_time": "2022-05-01T17:33:12.153Z"
   },
   {
    "duration": 43,
    "start_time": "2022-05-01T17:33:12.199Z"
   },
   {
    "duration": 15,
    "start_time": "2022-05-01T17:33:12.244Z"
   },
   {
    "duration": 26,
    "start_time": "2022-05-01T17:33:12.261Z"
   },
   {
    "duration": 15,
    "start_time": "2022-05-01T17:33:12.293Z"
   },
   {
    "duration": 34,
    "start_time": "2022-05-01T17:33:12.310Z"
   },
   {
    "duration": 58,
    "start_time": "2022-05-01T17:33:12.346Z"
   },
   {
    "duration": 88,
    "start_time": "2022-05-01T17:33:12.406Z"
   },
   {
    "duration": 7,
    "start_time": "2022-05-01T17:33:12.496Z"
   },
   {
    "duration": 64,
    "start_time": "2022-05-01T17:33:12.505Z"
   },
   {
    "duration": 39,
    "start_time": "2022-05-01T17:33:12.571Z"
   },
   {
    "duration": 54,
    "start_time": "2022-05-01T17:33:12.612Z"
   },
   {
    "duration": 7,
    "start_time": "2022-05-01T17:33:12.692Z"
   },
   {
    "duration": 42,
    "start_time": "2022-05-01T17:33:12.701Z"
   },
   {
    "duration": 90,
    "start_time": "2022-05-01T17:33:12.745Z"
   },
   {
    "duration": 7,
    "start_time": "2022-05-01T17:33:12.837Z"
   },
   {
    "duration": 63,
    "start_time": "2022-05-01T17:33:12.846Z"
   },
   {
    "duration": 17,
    "start_time": "2022-05-01T17:33:12.911Z"
   },
   {
    "duration": 17,
    "start_time": "2022-05-01T17:33:12.934Z"
   },
   {
    "duration": 4,
    "start_time": "2022-05-01T17:33:12.953Z"
   },
   {
    "duration": 57,
    "start_time": "2022-05-01T17:33:12.959Z"
   },
   {
    "duration": 12,
    "start_time": "2022-05-01T17:33:13.018Z"
   },
   {
    "duration": 24,
    "start_time": "2022-05-01T17:33:13.032Z"
   },
   {
    "duration": 49,
    "start_time": "2022-05-01T17:33:13.058Z"
   },
   {
    "duration": 7,
    "start_time": "2022-05-01T17:33:13.109Z"
   },
   {
    "duration": 45,
    "start_time": "2022-05-01T17:33:13.118Z"
   },
   {
    "duration": 31,
    "start_time": "2022-05-01T17:33:13.165Z"
   },
   {
    "duration": 37,
    "start_time": "2022-05-01T17:33:13.198Z"
   },
   {
    "duration": 7,
    "start_time": "2022-05-01T17:33:13.237Z"
   },
   {
    "duration": 8,
    "start_time": "2022-05-01T17:33:13.246Z"
   },
   {
    "duration": 10,
    "start_time": "2022-05-01T17:33:13.256Z"
   },
   {
    "duration": 43,
    "start_time": "2022-05-01T17:33:13.293Z"
   },
   {
    "duration": 60,
    "start_time": "2022-05-01T17:33:13.338Z"
   },
   {
    "duration": 40,
    "start_time": "2022-05-01T17:33:13.401Z"
   },
   {
    "duration": 483,
    "start_time": "2022-05-01T17:33:13.444Z"
   },
   {
    "duration": 42,
    "start_time": "2022-05-01T17:33:13.930Z"
   },
   {
    "duration": 421,
    "start_time": "2022-05-01T17:33:13.974Z"
   },
   {
    "duration": 47,
    "start_time": "2022-05-01T17:33:14.397Z"
   },
   {
    "duration": 501,
    "start_time": "2022-05-01T17:33:14.446Z"
   },
   {
    "duration": 9,
    "start_time": "2022-05-01T17:33:14.950Z"
   },
   {
    "duration": 10,
    "start_time": "2022-05-01T17:33:14.961Z"
   },
   {
    "duration": 29,
    "start_time": "2022-05-01T17:33:14.973Z"
   },
   {
    "duration": 15,
    "start_time": "2022-05-01T17:33:15.004Z"
   },
   {
    "duration": 19,
    "start_time": "2022-05-01T17:33:15.021Z"
   },
   {
    "duration": 421,
    "start_time": "2022-05-01T17:33:15.043Z"
   },
   {
    "duration": 8,
    "start_time": "2022-05-01T17:33:15.467Z"
   },
   {
    "duration": 17,
    "start_time": "2022-05-01T17:33:15.477Z"
   },
   {
    "duration": 16,
    "start_time": "2022-05-01T17:33:15.497Z"
   },
   {
    "duration": 6,
    "start_time": "2022-05-01T17:33:15.516Z"
   },
   {
    "duration": 12,
    "start_time": "2022-05-01T17:33:15.524Z"
   },
   {
    "duration": 58,
    "start_time": "2022-05-01T17:33:15.538Z"
   },
   {
    "duration": 7,
    "start_time": "2022-05-01T17:33:15.598Z"
   },
   {
    "duration": 15,
    "start_time": "2022-05-01T17:33:15.607Z"
   },
   {
    "duration": 8,
    "start_time": "2022-05-01T17:33:15.624Z"
   },
   {
    "duration": 8,
    "start_time": "2022-05-01T17:33:15.635Z"
   },
   {
    "duration": 341,
    "start_time": "2022-05-01T17:33:15.645Z"
   },
   {
    "duration": 523,
    "start_time": "2022-05-01T17:35:04.834Z"
   },
   {
    "duration": 294,
    "start_time": "2022-05-01T17:35:15.605Z"
   },
   {
    "duration": 1156,
    "start_time": "2022-11-11T15:03:54.174Z"
   },
   {
    "duration": 585,
    "start_time": "2022-11-11T15:03:55.333Z"
   },
   {
    "duration": 34,
    "start_time": "2022-11-11T15:03:55.920Z"
   },
   {
    "duration": 11,
    "start_time": "2022-11-11T15:03:55.956Z"
   },
   {
    "duration": 387,
    "start_time": "2022-11-11T15:03:55.970Z"
   },
   {
    "duration": 18,
    "start_time": "2022-11-11T15:03:56.359Z"
   },
   {
    "duration": 8,
    "start_time": "2022-11-11T15:03:56.379Z"
   },
   {
    "duration": 308,
    "start_time": "2022-11-11T15:03:56.388Z"
   },
   {
    "duration": 17,
    "start_time": "2022-11-11T15:03:56.698Z"
   },
   {
    "duration": 4,
    "start_time": "2022-11-11T15:03:56.717Z"
   },
   {
    "duration": 75,
    "start_time": "2022-11-11T15:03:56.733Z"
   },
   {
    "duration": 78,
    "start_time": "2022-11-11T15:03:56.810Z"
   },
   {
    "duration": 11,
    "start_time": "2022-11-11T15:03:56.889Z"
   },
   {
    "duration": 20,
    "start_time": "2022-11-11T15:03:56.902Z"
   },
   {
    "duration": 32,
    "start_time": "2022-11-11T15:03:56.924Z"
   },
   {
    "duration": 23,
    "start_time": "2022-11-11T15:03:56.958Z"
   },
   {
    "duration": 21,
    "start_time": "2022-11-11T15:03:56.982Z"
   },
   {
    "duration": 64,
    "start_time": "2022-11-11T15:03:57.005Z"
   },
   {
    "duration": 5,
    "start_time": "2022-11-11T15:03:57.071Z"
   },
   {
    "duration": 85,
    "start_time": "2022-11-11T15:03:57.078Z"
   },
   {
    "duration": 13,
    "start_time": "2022-11-11T15:03:57.165Z"
   },
   {
    "duration": 67,
    "start_time": "2022-11-11T15:03:57.179Z"
   },
   {
    "duration": 5,
    "start_time": "2022-11-11T15:03:57.249Z"
   },
   {
    "duration": 33,
    "start_time": "2022-11-11T15:03:57.256Z"
   },
   {
    "duration": 62,
    "start_time": "2022-11-11T15:03:57.291Z"
   },
   {
    "duration": 5,
    "start_time": "2022-11-11T15:03:57.356Z"
   },
   {
    "duration": 26,
    "start_time": "2022-11-11T15:03:57.363Z"
   },
   {
    "duration": 12,
    "start_time": "2022-11-11T15:03:57.391Z"
   },
   {
    "duration": 43,
    "start_time": "2022-11-11T15:03:57.404Z"
   },
   {
    "duration": 5,
    "start_time": "2022-11-11T15:03:57.450Z"
   },
   {
    "duration": 25,
    "start_time": "2022-11-11T15:03:57.458Z"
   },
   {
    "duration": 13,
    "start_time": "2022-11-11T15:03:57.485Z"
   },
   {
    "duration": 5,
    "start_time": "2022-11-11T15:03:57.500Z"
   },
   {
    "duration": 42,
    "start_time": "2022-11-11T15:03:57.507Z"
   },
   {
    "duration": 5,
    "start_time": "2022-11-11T15:03:57.552Z"
   },
   {
    "duration": 36,
    "start_time": "2022-11-11T15:03:57.560Z"
   },
   {
    "duration": 4,
    "start_time": "2022-11-11T15:03:57.598Z"
   },
   {
    "duration": 5,
    "start_time": "2022-11-11T15:03:57.603Z"
   },
   {
    "duration": 7,
    "start_time": "2022-11-11T15:03:57.610Z"
   },
   {
    "duration": 9,
    "start_time": "2022-11-11T15:03:57.618Z"
   },
   {
    "duration": 38,
    "start_time": "2022-11-11T15:03:57.632Z"
   },
   {
    "duration": 26,
    "start_time": "2022-11-11T15:03:57.671Z"
   },
   {
    "duration": 44,
    "start_time": "2022-11-11T15:03:57.699Z"
   },
   {
    "duration": 330,
    "start_time": "2022-11-11T15:03:57.745Z"
   },
   {
    "duration": 31,
    "start_time": "2022-11-11T15:03:58.077Z"
   },
   {
    "duration": 301,
    "start_time": "2022-11-11T15:03:58.109Z"
   },
   {
    "duration": 43,
    "start_time": "2022-11-11T15:03:58.412Z"
   },
   {
    "duration": 356,
    "start_time": "2022-11-11T15:03:58.456Z"
   },
   {
    "duration": 18,
    "start_time": "2022-11-11T15:03:58.813Z"
   },
   {
    "duration": 14,
    "start_time": "2022-11-11T15:03:58.842Z"
   },
   {
    "duration": 8,
    "start_time": "2022-11-11T15:03:58.857Z"
   },
   {
    "duration": 9,
    "start_time": "2022-11-11T15:03:58.866Z"
   },
   {
    "duration": 8,
    "start_time": "2022-11-11T15:03:58.876Z"
   },
   {
    "duration": 219,
    "start_time": "2022-11-11T15:03:58.885Z"
   },
   {
    "duration": 5,
    "start_time": "2022-11-11T15:03:59.105Z"
   },
   {
    "duration": 35,
    "start_time": "2022-11-11T15:03:59.111Z"
   },
   {
    "duration": 4,
    "start_time": "2022-11-11T15:03:59.148Z"
   },
   {
    "duration": 11,
    "start_time": "2022-11-11T15:03:59.154Z"
   },
   {
    "duration": 7,
    "start_time": "2022-11-11T15:03:59.166Z"
   },
   {
    "duration": 8,
    "start_time": "2022-11-11T15:03:59.175Z"
   },
   {
    "duration": 12,
    "start_time": "2022-11-11T15:03:59.184Z"
   },
   {
    "duration": 8,
    "start_time": "2022-11-11T15:03:59.198Z"
   },
   {
    "duration": 8,
    "start_time": "2022-11-11T15:03:59.208Z"
   },
   {
    "duration": 331,
    "start_time": "2022-11-11T15:03:59.218Z"
   }
  ],
  "kernelspec": {
   "display_name": "Python 3 (ipykernel)",
   "language": "python",
   "name": "python3"
  },
  "language_info": {
   "codemirror_mode": {
    "name": "ipython",
    "version": 3
   },
   "file_extension": ".py",
   "mimetype": "text/x-python",
   "name": "python",
   "nbconvert_exporter": "python",
   "pygments_lexer": "ipython3",
   "version": "3.9.5"
  },
  "toc": {
   "base_numbering": 1,
   "nav_menu": {},
   "number_sections": true,
   "sideBar": true,
   "skip_h1_title": true,
   "title_cell": "Table of Contents",
   "title_sidebar": "Contents",
   "toc_cell": false,
   "toc_position": {},
   "toc_section_display": true,
   "toc_window_display": true
  }
 },
 "nbformat": 4,
 "nbformat_minor": 2
}
