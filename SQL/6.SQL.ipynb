{
 "cells": [
  {
   "cell_type": "markdown",
   "metadata": {},
   "source": [
    "# Анализ базы данных книг"
   ]
  },
  {
   "cell_type": "markdown",
   "metadata": {},
   "source": [
    "**Описание исследования**\n",
    "\n",
    "Заказчик - сервис для чтения книг по подписке\n",
    "\n",
    "Цель - выделить преимущества сервиса для формулирования ценностного предложения\n",
    "\n",
    "**Описание данных**\n",
    "\n",
    "Таблица books - содержит данные о книгах:\n",
    "1. book_id — идентификатор книги;\n",
    "2. author_id — идентификатор автора;\n",
    "3. title — название книги;\n",
    "4. num_pages — количество страниц;\n",
    "5. publication_date — дата публикации книги;\n",
    "6. publisher_id — идентификатор издателя.\n",
    "\n",
    "Таблица authors - содержит данные об авторах:\n",
    "1. author_id — идентификатор автора;\n",
    "2. author — имя автора.\n",
    "\n",
    "Таблица publishers - содержит данные об издательствах:\n",
    "1. publisher_id — идентификатор издательства;\n",
    "2. publisher — название издательства;\n",
    "\n",
    "Таблица ratings - содержит данные о пользовательских оценках книг:\n",
    "1. rating_id — идентификатор оценки;\n",
    "2. book_id — идентификатор книги;\n",
    "3. username — имя пользователя, оставившего оценку;\n",
    "4. rating — оценка книги.\n",
    "\n",
    "Таблица reviews - содержит данные о пользовательских обзорах:\n",
    "1. review_id — идентификатор обзора;\n",
    "2. book_id — идентификатор книги;\n",
    "3. username — имя автора обзора;\n",
    "4. text — текст обзора."
   ]
  },
  {
   "cell_type": "markdown",
   "metadata": {},
   "source": [
    "## Подключение к базе данных"
   ]
  },
  {
   "cell_type": "code",
   "execution_count": 1,
   "metadata": {},
   "outputs": [],
   "source": [
    "# импортируем библиотеки\n",
    "import pandas as pd\n",
    "from sqlalchemy import create_engine"
   ]
  },
  {
   "cell_type": "code",
   "execution_count": 2,
   "metadata": {},
   "outputs": [],
   "source": [
    "# устанавливаем параметры\n",
    "db_config = {'user': 'praktikum_student', # имя пользователя\n",
    "'pwd': 'Sdf4$2;d-d30pp', # пароль\n",
    "'host': 'rc1b-wcoijxj3yxfsf3fs.mdb.yandexcloud.net',\n",
    "'port': 6432, # порт подключения\n",
    "'db': 'data-analyst-final-project-db'} # название базы данных\n",
    "\n",
    "connection_string = 'postgresql://{}:{}@{}:{}/{}'.format(db_config['user'],\n",
    " db_config['pwd'],\n",
    " db_config['host'],\n",
    " db_config['port'],\n",
    " db_config['db']) "
   ]
  },
  {
   "cell_type": "code",
   "execution_count": 3,
   "metadata": {},
   "outputs": [],
   "source": [
    "# сохраняем коннектор\n",
    "engine = create_engine(connection_string, connect_args={'sslmode':'require'}) "
   ]
  },
  {
   "cell_type": "code",
   "execution_count": 4,
   "metadata": {},
   "outputs": [],
   "source": [
    "# функция для выводы запроса\n",
    "def output(query):\n",
    "    return pd.io.sql.read_sql(query, con = engine) "
   ]
  },
  {
   "cell_type": "markdown",
   "metadata": {},
   "source": [
    "## Обзор данных"
   ]
  },
  {
   "cell_type": "code",
   "execution_count": 5,
   "metadata": {},
   "outputs": [],
   "source": [
    "# Напишем запрос, выводящий первые и последние строки таблицы books\n",
    "query_books = '''\n",
    "    SELECT *\n",
    "    FROM books\n",
    "'''"
   ]
  },
  {
   "cell_type": "code",
   "execution_count": 6,
   "metadata": {},
   "outputs": [
    {
     "data": {
      "text/html": [
       "<div>\n",
       "<style scoped>\n",
       "    .dataframe tbody tr th:only-of-type {\n",
       "        vertical-align: middle;\n",
       "    }\n",
       "\n",
       "    .dataframe tbody tr th {\n",
       "        vertical-align: top;\n",
       "    }\n",
       "\n",
       "    .dataframe thead th {\n",
       "        text-align: right;\n",
       "    }\n",
       "</style>\n",
       "<table border=\"1\" class=\"dataframe\">\n",
       "  <thead>\n",
       "    <tr style=\"text-align: right;\">\n",
       "      <th></th>\n",
       "      <th>book_id</th>\n",
       "      <th>author_id</th>\n",
       "      <th>title</th>\n",
       "      <th>num_pages</th>\n",
       "      <th>publication_date</th>\n",
       "      <th>publisher_id</th>\n",
       "    </tr>\n",
       "  </thead>\n",
       "  <tbody>\n",
       "    <tr>\n",
       "      <th>0</th>\n",
       "      <td>1</td>\n",
       "      <td>546</td>\n",
       "      <td>'Salem's Lot</td>\n",
       "      <td>594</td>\n",
       "      <td>2005-11-01</td>\n",
       "      <td>93</td>\n",
       "    </tr>\n",
       "    <tr>\n",
       "      <th>1</th>\n",
       "      <td>2</td>\n",
       "      <td>465</td>\n",
       "      <td>1 000 Places to See Before You Die</td>\n",
       "      <td>992</td>\n",
       "      <td>2003-05-22</td>\n",
       "      <td>336</td>\n",
       "    </tr>\n",
       "    <tr>\n",
       "      <th>2</th>\n",
       "      <td>3</td>\n",
       "      <td>407</td>\n",
       "      <td>13 Little Blue Envelopes (Little Blue Envelope...</td>\n",
       "      <td>322</td>\n",
       "      <td>2010-12-21</td>\n",
       "      <td>135</td>\n",
       "    </tr>\n",
       "    <tr>\n",
       "      <th>3</th>\n",
       "      <td>4</td>\n",
       "      <td>82</td>\n",
       "      <td>1491: New Revelations of the Americas Before C...</td>\n",
       "      <td>541</td>\n",
       "      <td>2006-10-10</td>\n",
       "      <td>309</td>\n",
       "    </tr>\n",
       "    <tr>\n",
       "      <th>4</th>\n",
       "      <td>5</td>\n",
       "      <td>125</td>\n",
       "      <td>1776</td>\n",
       "      <td>386</td>\n",
       "      <td>2006-07-04</td>\n",
       "      <td>268</td>\n",
       "    </tr>\n",
       "    <tr>\n",
       "      <th>...</th>\n",
       "      <td>...</td>\n",
       "      <td>...</td>\n",
       "      <td>...</td>\n",
       "      <td>...</td>\n",
       "      <td>...</td>\n",
       "      <td>...</td>\n",
       "    </tr>\n",
       "    <tr>\n",
       "      <th>995</th>\n",
       "      <td>996</td>\n",
       "      <td>571</td>\n",
       "      <td>Wyrd Sisters (Discworld  #6; Witches #2)</td>\n",
       "      <td>265</td>\n",
       "      <td>2001-02-06</td>\n",
       "      <td>147</td>\n",
       "    </tr>\n",
       "    <tr>\n",
       "      <th>996</th>\n",
       "      <td>997</td>\n",
       "      <td>454</td>\n",
       "      <td>Xenocide (Ender's Saga  #3)</td>\n",
       "      <td>592</td>\n",
       "      <td>1996-07-15</td>\n",
       "      <td>297</td>\n",
       "    </tr>\n",
       "    <tr>\n",
       "      <th>997</th>\n",
       "      <td>998</td>\n",
       "      <td>201</td>\n",
       "      <td>Year of Wonders</td>\n",
       "      <td>358</td>\n",
       "      <td>2002-04-30</td>\n",
       "      <td>212</td>\n",
       "    </tr>\n",
       "    <tr>\n",
       "      <th>998</th>\n",
       "      <td>999</td>\n",
       "      <td>94</td>\n",
       "      <td>You Suck (A Love Story  #2)</td>\n",
       "      <td>328</td>\n",
       "      <td>2007-01-16</td>\n",
       "      <td>331</td>\n",
       "    </tr>\n",
       "    <tr>\n",
       "      <th>999</th>\n",
       "      <td>1000</td>\n",
       "      <td>509</td>\n",
       "      <td>Zen and the Art of Motorcycle Maintenance: An ...</td>\n",
       "      <td>540</td>\n",
       "      <td>2006-04-25</td>\n",
       "      <td>143</td>\n",
       "    </tr>\n",
       "  </tbody>\n",
       "</table>\n",
       "<p>1000 rows × 6 columns</p>\n",
       "</div>"
      ],
      "text/plain": [
       "     book_id  author_id                                              title  \\\n",
       "0          1        546                                       'Salem's Lot   \n",
       "1          2        465                 1 000 Places to See Before You Die   \n",
       "2          3        407  13 Little Blue Envelopes (Little Blue Envelope...   \n",
       "3          4         82  1491: New Revelations of the Americas Before C...   \n",
       "4          5        125                                               1776   \n",
       "..       ...        ...                                                ...   \n",
       "995      996        571           Wyrd Sisters (Discworld  #6; Witches #2)   \n",
       "996      997        454                        Xenocide (Ender's Saga  #3)   \n",
       "997      998        201                                    Year of Wonders   \n",
       "998      999         94                        You Suck (A Love Story  #2)   \n",
       "999     1000        509  Zen and the Art of Motorcycle Maintenance: An ...   \n",
       "\n",
       "     num_pages publication_date  publisher_id  \n",
       "0          594       2005-11-01            93  \n",
       "1          992       2003-05-22           336  \n",
       "2          322       2010-12-21           135  \n",
       "3          541       2006-10-10           309  \n",
       "4          386       2006-07-04           268  \n",
       "..         ...              ...           ...  \n",
       "995        265       2001-02-06           147  \n",
       "996        592       1996-07-15           297  \n",
       "997        358       2002-04-30           212  \n",
       "998        328       2007-01-16           331  \n",
       "999        540       2006-04-25           143  \n",
       "\n",
       "[1000 rows x 6 columns]"
      ]
     },
     "execution_count": 6,
     "metadata": {},
     "output_type": "execute_result"
    }
   ],
   "source": [
    "# Выведем\n",
    "output(query_books)"
   ]
  },
  {
   "cell_type": "code",
   "execution_count": 7,
   "metadata": {},
   "outputs": [],
   "source": [
    "# Напишем запрос, выводящий первые и последние строки таблицы authors\n",
    "query_authors = '''\n",
    "    SELECT *\n",
    "    FROM authors\n",
    "'''"
   ]
  },
  {
   "cell_type": "code",
   "execution_count": 8,
   "metadata": {},
   "outputs": [
    {
     "data": {
      "text/html": [
       "<div>\n",
       "<style scoped>\n",
       "    .dataframe tbody tr th:only-of-type {\n",
       "        vertical-align: middle;\n",
       "    }\n",
       "\n",
       "    .dataframe tbody tr th {\n",
       "        vertical-align: top;\n",
       "    }\n",
       "\n",
       "    .dataframe thead th {\n",
       "        text-align: right;\n",
       "    }\n",
       "</style>\n",
       "<table border=\"1\" class=\"dataframe\">\n",
       "  <thead>\n",
       "    <tr style=\"text-align: right;\">\n",
       "      <th></th>\n",
       "      <th>author_id</th>\n",
       "      <th>author</th>\n",
       "    </tr>\n",
       "  </thead>\n",
       "  <tbody>\n",
       "    <tr>\n",
       "      <th>0</th>\n",
       "      <td>1</td>\n",
       "      <td>A.S. Byatt</td>\n",
       "    </tr>\n",
       "    <tr>\n",
       "      <th>1</th>\n",
       "      <td>2</td>\n",
       "      <td>Aesop/Laura Harris/Laura Gibbs</td>\n",
       "    </tr>\n",
       "    <tr>\n",
       "      <th>2</th>\n",
       "      <td>3</td>\n",
       "      <td>Agatha Christie</td>\n",
       "    </tr>\n",
       "    <tr>\n",
       "      <th>3</th>\n",
       "      <td>4</td>\n",
       "      <td>Alan Brennert</td>\n",
       "    </tr>\n",
       "    <tr>\n",
       "      <th>4</th>\n",
       "      <td>5</td>\n",
       "      <td>Alan Moore/David   Lloyd</td>\n",
       "    </tr>\n",
       "    <tr>\n",
       "      <th>...</th>\n",
       "      <td>...</td>\n",
       "      <td>...</td>\n",
       "    </tr>\n",
       "    <tr>\n",
       "      <th>631</th>\n",
       "      <td>632</td>\n",
       "      <td>William Strunk Jr./E.B. White</td>\n",
       "    </tr>\n",
       "    <tr>\n",
       "      <th>632</th>\n",
       "      <td>633</td>\n",
       "      <td>Zadie Smith</td>\n",
       "    </tr>\n",
       "    <tr>\n",
       "      <th>633</th>\n",
       "      <td>634</td>\n",
       "      <td>Zilpha Keatley Snyder</td>\n",
       "    </tr>\n",
       "    <tr>\n",
       "      <th>634</th>\n",
       "      <td>635</td>\n",
       "      <td>Zora Neale Hurston</td>\n",
       "    </tr>\n",
       "    <tr>\n",
       "      <th>635</th>\n",
       "      <td>636</td>\n",
       "      <td>Åsne Seierstad/Ingrid Christopherson</td>\n",
       "    </tr>\n",
       "  </tbody>\n",
       "</table>\n",
       "<p>636 rows × 2 columns</p>\n",
       "</div>"
      ],
      "text/plain": [
       "     author_id                                author\n",
       "0            1                            A.S. Byatt\n",
       "1            2        Aesop/Laura Harris/Laura Gibbs\n",
       "2            3                       Agatha Christie\n",
       "3            4                         Alan Brennert\n",
       "4            5              Alan Moore/David   Lloyd\n",
       "..         ...                                   ...\n",
       "631        632         William Strunk Jr./E.B. White\n",
       "632        633                           Zadie Smith\n",
       "633        634                 Zilpha Keatley Snyder\n",
       "634        635                    Zora Neale Hurston\n",
       "635        636  Åsne Seierstad/Ingrid Christopherson\n",
       "\n",
       "[636 rows x 2 columns]"
      ]
     },
     "execution_count": 8,
     "metadata": {},
     "output_type": "execute_result"
    }
   ],
   "source": [
    "# Выведем\n",
    "output(query_authors)"
   ]
  },
  {
   "cell_type": "code",
   "execution_count": 9,
   "metadata": {},
   "outputs": [],
   "source": [
    "# Напишем запрос, выводящий первые и последние строки таблицы ratings\n",
    "query_ratings = '''\n",
    "    SELECT *\n",
    "    FROM ratings\n",
    "'''"
   ]
  },
  {
   "cell_type": "code",
   "execution_count": 10,
   "metadata": {},
   "outputs": [
    {
     "data": {
      "text/html": [
       "<div>\n",
       "<style scoped>\n",
       "    .dataframe tbody tr th:only-of-type {\n",
       "        vertical-align: middle;\n",
       "    }\n",
       "\n",
       "    .dataframe tbody tr th {\n",
       "        vertical-align: top;\n",
       "    }\n",
       "\n",
       "    .dataframe thead th {\n",
       "        text-align: right;\n",
       "    }\n",
       "</style>\n",
       "<table border=\"1\" class=\"dataframe\">\n",
       "  <thead>\n",
       "    <tr style=\"text-align: right;\">\n",
       "      <th></th>\n",
       "      <th>rating_id</th>\n",
       "      <th>book_id</th>\n",
       "      <th>username</th>\n",
       "      <th>rating</th>\n",
       "    </tr>\n",
       "  </thead>\n",
       "  <tbody>\n",
       "    <tr>\n",
       "      <th>0</th>\n",
       "      <td>1</td>\n",
       "      <td>1</td>\n",
       "      <td>ryanfranco</td>\n",
       "      <td>4</td>\n",
       "    </tr>\n",
       "    <tr>\n",
       "      <th>1</th>\n",
       "      <td>2</td>\n",
       "      <td>1</td>\n",
       "      <td>grantpatricia</td>\n",
       "      <td>2</td>\n",
       "    </tr>\n",
       "    <tr>\n",
       "      <th>2</th>\n",
       "      <td>3</td>\n",
       "      <td>1</td>\n",
       "      <td>brandtandrea</td>\n",
       "      <td>5</td>\n",
       "    </tr>\n",
       "    <tr>\n",
       "      <th>3</th>\n",
       "      <td>4</td>\n",
       "      <td>2</td>\n",
       "      <td>lorichen</td>\n",
       "      <td>3</td>\n",
       "    </tr>\n",
       "    <tr>\n",
       "      <th>4</th>\n",
       "      <td>5</td>\n",
       "      <td>2</td>\n",
       "      <td>mariokeller</td>\n",
       "      <td>2</td>\n",
       "    </tr>\n",
       "    <tr>\n",
       "      <th>...</th>\n",
       "      <td>...</td>\n",
       "      <td>...</td>\n",
       "      <td>...</td>\n",
       "      <td>...</td>\n",
       "    </tr>\n",
       "    <tr>\n",
       "      <th>6451</th>\n",
       "      <td>6452</td>\n",
       "      <td>1000</td>\n",
       "      <td>carolrodriguez</td>\n",
       "      <td>4</td>\n",
       "    </tr>\n",
       "    <tr>\n",
       "      <th>6452</th>\n",
       "      <td>6453</td>\n",
       "      <td>1000</td>\n",
       "      <td>wendy18</td>\n",
       "      <td>4</td>\n",
       "    </tr>\n",
       "    <tr>\n",
       "      <th>6453</th>\n",
       "      <td>6454</td>\n",
       "      <td>1000</td>\n",
       "      <td>jarvispaul</td>\n",
       "      <td>5</td>\n",
       "    </tr>\n",
       "    <tr>\n",
       "      <th>6454</th>\n",
       "      <td>6455</td>\n",
       "      <td>1000</td>\n",
       "      <td>zross</td>\n",
       "      <td>2</td>\n",
       "    </tr>\n",
       "    <tr>\n",
       "      <th>6455</th>\n",
       "      <td>6456</td>\n",
       "      <td>1000</td>\n",
       "      <td>fharris</td>\n",
       "      <td>5</td>\n",
       "    </tr>\n",
       "  </tbody>\n",
       "</table>\n",
       "<p>6456 rows × 4 columns</p>\n",
       "</div>"
      ],
      "text/plain": [
       "      rating_id  book_id        username  rating\n",
       "0             1        1      ryanfranco       4\n",
       "1             2        1   grantpatricia       2\n",
       "2             3        1    brandtandrea       5\n",
       "3             4        2        lorichen       3\n",
       "4             5        2     mariokeller       2\n",
       "...         ...      ...             ...     ...\n",
       "6451       6452     1000  carolrodriguez       4\n",
       "6452       6453     1000         wendy18       4\n",
       "6453       6454     1000      jarvispaul       5\n",
       "6454       6455     1000           zross       2\n",
       "6455       6456     1000         fharris       5\n",
       "\n",
       "[6456 rows x 4 columns]"
      ]
     },
     "execution_count": 10,
     "metadata": {},
     "output_type": "execute_result"
    }
   ],
   "source": [
    "# Выведем\n",
    "output(query_ratings)"
   ]
  },
  {
   "cell_type": "code",
   "execution_count": 11,
   "metadata": {},
   "outputs": [],
   "source": [
    "# Напишем запрос, выводящий первые и последние строки таблицы reviews\n",
    "query_reviews = '''\n",
    "    SELECT *\n",
    "    FROM reviews\n",
    "'''"
   ]
  },
  {
   "cell_type": "code",
   "execution_count": 12,
   "metadata": {},
   "outputs": [
    {
     "data": {
      "text/html": [
       "<div>\n",
       "<style scoped>\n",
       "    .dataframe tbody tr th:only-of-type {\n",
       "        vertical-align: middle;\n",
       "    }\n",
       "\n",
       "    .dataframe tbody tr th {\n",
       "        vertical-align: top;\n",
       "    }\n",
       "\n",
       "    .dataframe thead th {\n",
       "        text-align: right;\n",
       "    }\n",
       "</style>\n",
       "<table border=\"1\" class=\"dataframe\">\n",
       "  <thead>\n",
       "    <tr style=\"text-align: right;\">\n",
       "      <th></th>\n",
       "      <th>review_id</th>\n",
       "      <th>book_id</th>\n",
       "      <th>username</th>\n",
       "      <th>text</th>\n",
       "    </tr>\n",
       "  </thead>\n",
       "  <tbody>\n",
       "    <tr>\n",
       "      <th>0</th>\n",
       "      <td>1</td>\n",
       "      <td>1</td>\n",
       "      <td>brandtandrea</td>\n",
       "      <td>Mention society tell send professor analysis. ...</td>\n",
       "    </tr>\n",
       "    <tr>\n",
       "      <th>1</th>\n",
       "      <td>2</td>\n",
       "      <td>1</td>\n",
       "      <td>ryanfranco</td>\n",
       "      <td>Foot glass pretty audience hit themselves. Amo...</td>\n",
       "    </tr>\n",
       "    <tr>\n",
       "      <th>2</th>\n",
       "      <td>3</td>\n",
       "      <td>2</td>\n",
       "      <td>lorichen</td>\n",
       "      <td>Listen treat keep worry. Miss husband tax but ...</td>\n",
       "    </tr>\n",
       "    <tr>\n",
       "      <th>3</th>\n",
       "      <td>4</td>\n",
       "      <td>3</td>\n",
       "      <td>johnsonamanda</td>\n",
       "      <td>Finally month interesting blue could nature cu...</td>\n",
       "    </tr>\n",
       "    <tr>\n",
       "      <th>4</th>\n",
       "      <td>5</td>\n",
       "      <td>3</td>\n",
       "      <td>scotttamara</td>\n",
       "      <td>Nation purpose heavy give wait song will. List...</td>\n",
       "    </tr>\n",
       "    <tr>\n",
       "      <th>...</th>\n",
       "      <td>...</td>\n",
       "      <td>...</td>\n",
       "      <td>...</td>\n",
       "      <td>...</td>\n",
       "    </tr>\n",
       "    <tr>\n",
       "      <th>2788</th>\n",
       "      <td>2789</td>\n",
       "      <td>999</td>\n",
       "      <td>martinadam</td>\n",
       "      <td>Later hospital turn easy community. Fact same ...</td>\n",
       "    </tr>\n",
       "    <tr>\n",
       "      <th>2789</th>\n",
       "      <td>2790</td>\n",
       "      <td>1000</td>\n",
       "      <td>wknight</td>\n",
       "      <td>Change lose answer close pressure. Spend so now.</td>\n",
       "    </tr>\n",
       "    <tr>\n",
       "      <th>2790</th>\n",
       "      <td>2791</td>\n",
       "      <td>1000</td>\n",
       "      <td>carolrodriguez</td>\n",
       "      <td>Authority go who television entire hair guy po...</td>\n",
       "    </tr>\n",
       "    <tr>\n",
       "      <th>2791</th>\n",
       "      <td>2792</td>\n",
       "      <td>1000</td>\n",
       "      <td>wendy18</td>\n",
       "      <td>Or western offer wonder ask. More hear phone f...</td>\n",
       "    </tr>\n",
       "    <tr>\n",
       "      <th>2792</th>\n",
       "      <td>2793</td>\n",
       "      <td>1000</td>\n",
       "      <td>jarvispaul</td>\n",
       "      <td>Republican staff bit eat material measure plan...</td>\n",
       "    </tr>\n",
       "  </tbody>\n",
       "</table>\n",
       "<p>2793 rows × 4 columns</p>\n",
       "</div>"
      ],
      "text/plain": [
       "      review_id  book_id        username  \\\n",
       "0             1        1    brandtandrea   \n",
       "1             2        1      ryanfranco   \n",
       "2             3        2        lorichen   \n",
       "3             4        3   johnsonamanda   \n",
       "4             5        3     scotttamara   \n",
       "...         ...      ...             ...   \n",
       "2788       2789      999      martinadam   \n",
       "2789       2790     1000         wknight   \n",
       "2790       2791     1000  carolrodriguez   \n",
       "2791       2792     1000         wendy18   \n",
       "2792       2793     1000      jarvispaul   \n",
       "\n",
       "                                                   text  \n",
       "0     Mention society tell send professor analysis. ...  \n",
       "1     Foot glass pretty audience hit themselves. Amo...  \n",
       "2     Listen treat keep worry. Miss husband tax but ...  \n",
       "3     Finally month interesting blue could nature cu...  \n",
       "4     Nation purpose heavy give wait song will. List...  \n",
       "...                                                 ...  \n",
       "2788  Later hospital turn easy community. Fact same ...  \n",
       "2789   Change lose answer close pressure. Spend so now.  \n",
       "2790  Authority go who television entire hair guy po...  \n",
       "2791  Or western offer wonder ask. More hear phone f...  \n",
       "2792  Republican staff bit eat material measure plan...  \n",
       "\n",
       "[2793 rows x 4 columns]"
      ]
     },
     "execution_count": 12,
     "metadata": {},
     "output_type": "execute_result"
    }
   ],
   "source": [
    "# Выведем\n",
    "output(query_reviews)"
   ]
  },
  {
   "cell_type": "code",
   "execution_count": 13,
   "metadata": {},
   "outputs": [],
   "source": [
    "# Напишем запрос, выводящий первые и последние строки таблицы publishers\n",
    "query_publishers = '''\n",
    "    SELECT *\n",
    "    FROM publishers\n",
    "'''"
   ]
  },
  {
   "cell_type": "code",
   "execution_count": 14,
   "metadata": {},
   "outputs": [
    {
     "data": {
      "text/html": [
       "<div>\n",
       "<style scoped>\n",
       "    .dataframe tbody tr th:only-of-type {\n",
       "        vertical-align: middle;\n",
       "    }\n",
       "\n",
       "    .dataframe tbody tr th {\n",
       "        vertical-align: top;\n",
       "    }\n",
       "\n",
       "    .dataframe thead th {\n",
       "        text-align: right;\n",
       "    }\n",
       "</style>\n",
       "<table border=\"1\" class=\"dataframe\">\n",
       "  <thead>\n",
       "    <tr style=\"text-align: right;\">\n",
       "      <th></th>\n",
       "      <th>publisher_id</th>\n",
       "      <th>publisher</th>\n",
       "    </tr>\n",
       "  </thead>\n",
       "  <tbody>\n",
       "    <tr>\n",
       "      <th>0</th>\n",
       "      <td>1</td>\n",
       "      <td>Ace</td>\n",
       "    </tr>\n",
       "    <tr>\n",
       "      <th>1</th>\n",
       "      <td>2</td>\n",
       "      <td>Ace Book</td>\n",
       "    </tr>\n",
       "    <tr>\n",
       "      <th>2</th>\n",
       "      <td>3</td>\n",
       "      <td>Ace Books</td>\n",
       "    </tr>\n",
       "    <tr>\n",
       "      <th>3</th>\n",
       "      <td>4</td>\n",
       "      <td>Ace Hardcover</td>\n",
       "    </tr>\n",
       "    <tr>\n",
       "      <th>4</th>\n",
       "      <td>5</td>\n",
       "      <td>Addison Wesley Publishing Company</td>\n",
       "    </tr>\n",
       "    <tr>\n",
       "      <th>...</th>\n",
       "      <td>...</td>\n",
       "      <td>...</td>\n",
       "    </tr>\n",
       "    <tr>\n",
       "      <th>335</th>\n",
       "      <td>336</td>\n",
       "      <td>Workman Publishing Company</td>\n",
       "    </tr>\n",
       "    <tr>\n",
       "      <th>336</th>\n",
       "      <td>337</td>\n",
       "      <td>Wyatt Book</td>\n",
       "    </tr>\n",
       "    <tr>\n",
       "      <th>337</th>\n",
       "      <td>338</td>\n",
       "      <td>Yale University Press</td>\n",
       "    </tr>\n",
       "    <tr>\n",
       "      <th>338</th>\n",
       "      <td>339</td>\n",
       "      <td>Yearling</td>\n",
       "    </tr>\n",
       "    <tr>\n",
       "      <th>339</th>\n",
       "      <td>340</td>\n",
       "      <td>Yearling Books</td>\n",
       "    </tr>\n",
       "  </tbody>\n",
       "</table>\n",
       "<p>340 rows × 2 columns</p>\n",
       "</div>"
      ],
      "text/plain": [
       "     publisher_id                          publisher\n",
       "0               1                                Ace\n",
       "1               2                           Ace Book\n",
       "2               3                          Ace Books\n",
       "3               4                      Ace Hardcover\n",
       "4               5  Addison Wesley Publishing Company\n",
       "..            ...                                ...\n",
       "335           336         Workman Publishing Company\n",
       "336           337                         Wyatt Book\n",
       "337           338              Yale University Press\n",
       "338           339                           Yearling\n",
       "339           340                     Yearling Books\n",
       "\n",
       "[340 rows x 2 columns]"
      ]
     },
     "execution_count": 14,
     "metadata": {},
     "output_type": "execute_result"
    }
   ],
   "source": [
    "# Выведем\n",
    "output(query_publishers)"
   ]
  },
  {
   "cell_type": "markdown",
   "metadata": {},
   "source": [
    "**Вывод:**\n",
    "- Всего в таблице books 1000 строк (т.е. в библиотеке - 1000 произведений) и 6 столбцов\n",
    "- Всего в таблице authors 636 строк (т.е. 636 авторов) и 2 столбца\n",
    "- Всего в таблице ratings 6456 строк (т.е книгам было поставлено 6456 оценки) и 4 столбца\n",
    "- Всего в таблице reviews 2793 строк (т.е книгам было написано 2793 отзыва) и 4 столбца\n",
    "- Всего в таблице publishers 340 строк (т.е все книги издавались 340 издателями) и 2 столбца"
   ]
  },
  {
   "cell_type": "markdown",
   "metadata": {},
   "source": [
    "## Количество книг, вышедших после 1 января 2000 года"
   ]
  },
  {
   "cell_type": "code",
   "execution_count": 15,
   "metadata": {},
   "outputs": [],
   "source": [
    "# Напишем запрос, чтоб найти количество книг, вышедших после 1 января 2000 года\n",
    "query_1 = '''\n",
    "    SELECT COUNT(book_id)\n",
    "    FROM books\n",
    "    WHERE publication_date > '2000-01-01'\n",
    "'''"
   ]
  },
  {
   "cell_type": "code",
   "execution_count": 16,
   "metadata": {},
   "outputs": [
    {
     "data": {
      "text/html": [
       "<div>\n",
       "<style scoped>\n",
       "    .dataframe tbody tr th:only-of-type {\n",
       "        vertical-align: middle;\n",
       "    }\n",
       "\n",
       "    .dataframe tbody tr th {\n",
       "        vertical-align: top;\n",
       "    }\n",
       "\n",
       "    .dataframe thead th {\n",
       "        text-align: right;\n",
       "    }\n",
       "</style>\n",
       "<table border=\"1\" class=\"dataframe\">\n",
       "  <thead>\n",
       "    <tr style=\"text-align: right;\">\n",
       "      <th></th>\n",
       "      <th>count</th>\n",
       "    </tr>\n",
       "  </thead>\n",
       "  <tbody>\n",
       "    <tr>\n",
       "      <th>0</th>\n",
       "      <td>819</td>\n",
       "    </tr>\n",
       "  </tbody>\n",
       "</table>\n",
       "</div>"
      ],
      "text/plain": [
       "   count\n",
       "0    819"
      ]
     },
     "execution_count": 16,
     "metadata": {},
     "output_type": "execute_result"
    }
   ],
   "source": [
    "# Выведем\n",
    "output(query_1)"
   ]
  },
  {
   "cell_type": "markdown",
   "metadata": {},
   "source": [
    "**Вывод:**\n",
    "- Большинство произведений (819 из 1000) было написано после 1 января 2000 года\n",
    "- В библиотеке содержатся в основном современные произведения"
   ]
  },
  {
   "cell_type": "markdown",
   "metadata": {},
   "source": [
    "## Количество обзоров и средняя оценка для каждой книги"
   ]
  },
  {
   "cell_type": "code",
   "execution_count": 17,
   "metadata": {},
   "outputs": [],
   "source": [
    "# Напишем запрос, чтоб найти количество обзоров и среднюю оценку для каждой книги\n",
    "query_2 = '''\n",
    "    WITH \n",
    "    c AS (SELECT b.book_id, b.title, COUNT(review_id)\n",
    "    FROM books AS b\n",
    "    LEFT JOIN reviews AS r ON b.book_id=r.book_id\n",
    "    GROUP BY b.book_id),\n",
    "    \n",
    "    a AS (SELECT b.book_id, b.title, AVG(rating)\n",
    "    FROM books AS b\n",
    "    LEFT JOIN ratings AS ra ON ra.book_id=b.book_id\n",
    "    GROUP BY b.book_id)\n",
    "    \n",
    "    SELECT c.title, c.count, a.avg\n",
    "    FROM c\n",
    "    FULL OUTER JOIN a ON a.book_id=c.book_id\n",
    "    ORDER BY c.count DESC, a.avg DESC LIMIT 10\n",
    "'''"
   ]
  },
  {
   "cell_type": "code",
   "execution_count": 18,
   "metadata": {},
   "outputs": [
    {
     "data": {
      "text/html": [
       "<div>\n",
       "<style scoped>\n",
       "    .dataframe tbody tr th:only-of-type {\n",
       "        vertical-align: middle;\n",
       "    }\n",
       "\n",
       "    .dataframe tbody tr th {\n",
       "        vertical-align: top;\n",
       "    }\n",
       "\n",
       "    .dataframe thead th {\n",
       "        text-align: right;\n",
       "    }\n",
       "</style>\n",
       "<table border=\"1\" class=\"dataframe\">\n",
       "  <thead>\n",
       "    <tr style=\"text-align: right;\">\n",
       "      <th></th>\n",
       "      <th>title</th>\n",
       "      <th>count</th>\n",
       "      <th>avg</th>\n",
       "    </tr>\n",
       "  </thead>\n",
       "  <tbody>\n",
       "    <tr>\n",
       "      <th>0</th>\n",
       "      <td>Twilight (Twilight  #1)</td>\n",
       "      <td>7</td>\n",
       "      <td>3.662500</td>\n",
       "    </tr>\n",
       "    <tr>\n",
       "      <th>1</th>\n",
       "      <td>Harry Potter and the Prisoner of Azkaban (Harr...</td>\n",
       "      <td>6</td>\n",
       "      <td>4.414634</td>\n",
       "    </tr>\n",
       "    <tr>\n",
       "      <th>2</th>\n",
       "      <td>Harry Potter and the Chamber of Secrets (Harry...</td>\n",
       "      <td>6</td>\n",
       "      <td>4.287500</td>\n",
       "    </tr>\n",
       "    <tr>\n",
       "      <th>3</th>\n",
       "      <td>The Book Thief</td>\n",
       "      <td>6</td>\n",
       "      <td>4.264151</td>\n",
       "    </tr>\n",
       "    <tr>\n",
       "      <th>4</th>\n",
       "      <td>The Glass Castle</td>\n",
       "      <td>6</td>\n",
       "      <td>4.206897</td>\n",
       "    </tr>\n",
       "    <tr>\n",
       "      <th>5</th>\n",
       "      <td>Outlander (Outlander  #1)</td>\n",
       "      <td>6</td>\n",
       "      <td>4.125000</td>\n",
       "    </tr>\n",
       "    <tr>\n",
       "      <th>6</th>\n",
       "      <td>The Hobbit  or There and Back Again</td>\n",
       "      <td>6</td>\n",
       "      <td>4.125000</td>\n",
       "    </tr>\n",
       "    <tr>\n",
       "      <th>7</th>\n",
       "      <td>The Curious Incident of the Dog in the Night-Time</td>\n",
       "      <td>6</td>\n",
       "      <td>4.081081</td>\n",
       "    </tr>\n",
       "    <tr>\n",
       "      <th>8</th>\n",
       "      <td>The Lightning Thief (Percy Jackson and the Oly...</td>\n",
       "      <td>6</td>\n",
       "      <td>4.080645</td>\n",
       "    </tr>\n",
       "    <tr>\n",
       "      <th>9</th>\n",
       "      <td>Water for Elephants</td>\n",
       "      <td>6</td>\n",
       "      <td>3.977273</td>\n",
       "    </tr>\n",
       "  </tbody>\n",
       "</table>\n",
       "</div>"
      ],
      "text/plain": [
       "                                               title  count       avg\n",
       "0                            Twilight (Twilight  #1)      7  3.662500\n",
       "1  Harry Potter and the Prisoner of Azkaban (Harr...      6  4.414634\n",
       "2  Harry Potter and the Chamber of Secrets (Harry...      6  4.287500\n",
       "3                                     The Book Thief      6  4.264151\n",
       "4                                   The Glass Castle      6  4.206897\n",
       "5                          Outlander (Outlander  #1)      6  4.125000\n",
       "6                The Hobbit  or There and Back Again      6  4.125000\n",
       "7  The Curious Incident of the Dog in the Night-Time      6  4.081081\n",
       "8  The Lightning Thief (Percy Jackson and the Oly...      6  4.080645\n",
       "9                                Water for Elephants      6  3.977273"
      ]
     },
     "execution_count": 18,
     "metadata": {},
     "output_type": "execute_result"
    }
   ],
   "source": [
    "# Выведем\n",
    "output(query_2)"
   ]
  },
  {
   "cell_type": "markdown",
   "metadata": {},
   "source": [
    "**Вывод:**\n",
    "- Максимальное количество отзывов имеет книга \"Сумерки ч.1\" (7 отзывов) с рейтингом 3,66\n",
    "- Среди книг с 6 отзывами наиболее высоко оценены книги \"Гарри Поттер и узник Азкабана\" (рейтинг - 4,41) и \"Гарри Поттер и тайная комната\" (рейтинг - 4,28)"
   ]
  },
  {
   "cell_type": "markdown",
   "metadata": {},
   "source": [
    "## Издательство, которое выпустило наибольшее число книг толще 50 страниц"
   ]
  },
  {
   "cell_type": "code",
   "execution_count": 19,
   "metadata": {},
   "outputs": [],
   "source": [
    "# Напишем запрос, чтоб найти издательство, которое выпустило наибольшее число книг толще 50 страниц\n",
    "query_3 = '''\n",
    "    SELECT publisher, COUNT(book_id)\n",
    "    FROM books AS b\n",
    "    LEFT JOIN publishers AS p ON b.publisher_id=p.publisher_id\n",
    "    WHERE b.num_pages > 50\n",
    "    GROUP BY p.publisher_id\n",
    "    ORDER BY COUNT(b.book_id) DESC LIMIT 3\n",
    "'''"
   ]
  },
  {
   "cell_type": "code",
   "execution_count": 20,
   "metadata": {},
   "outputs": [
    {
     "data": {
      "text/html": [
       "<div>\n",
       "<style scoped>\n",
       "    .dataframe tbody tr th:only-of-type {\n",
       "        vertical-align: middle;\n",
       "    }\n",
       "\n",
       "    .dataframe tbody tr th {\n",
       "        vertical-align: top;\n",
       "    }\n",
       "\n",
       "    .dataframe thead th {\n",
       "        text-align: right;\n",
       "    }\n",
       "</style>\n",
       "<table border=\"1\" class=\"dataframe\">\n",
       "  <thead>\n",
       "    <tr style=\"text-align: right;\">\n",
       "      <th></th>\n",
       "      <th>publisher</th>\n",
       "      <th>count</th>\n",
       "    </tr>\n",
       "  </thead>\n",
       "  <tbody>\n",
       "    <tr>\n",
       "      <th>0</th>\n",
       "      <td>Penguin Books</td>\n",
       "      <td>42</td>\n",
       "    </tr>\n",
       "    <tr>\n",
       "      <th>1</th>\n",
       "      <td>Vintage</td>\n",
       "      <td>31</td>\n",
       "    </tr>\n",
       "    <tr>\n",
       "      <th>2</th>\n",
       "      <td>Grand Central Publishing</td>\n",
       "      <td>25</td>\n",
       "    </tr>\n",
       "  </tbody>\n",
       "</table>\n",
       "</div>"
      ],
      "text/plain": [
       "                  publisher  count\n",
       "0             Penguin Books     42\n",
       "1                   Vintage     31\n",
       "2  Grand Central Publishing     25"
      ]
     },
     "execution_count": 20,
     "metadata": {},
     "output_type": "execute_result"
    }
   ],
   "source": [
    "# Выведем\n",
    "output(query_3)"
   ]
  },
  {
   "cell_type": "markdown",
   "metadata": {},
   "source": [
    "**Вывод:**\n",
    "- Наибольшее количество книг (42) было выпущено издательством Penguin Books\t  \n",
    "- Другие издательства с большим количеством выпущенных книг - Vintage (31) и Grand Central Publishing (25)"
   ]
  },
  {
   "cell_type": "markdown",
   "metadata": {},
   "source": [
    "## Автор с самой высокой средней оценкой книг"
   ]
  },
  {
   "cell_type": "code",
   "execution_count": 21,
   "metadata": {},
   "outputs": [],
   "source": [
    "# Напишем запрос, чтоб найти автора, книгам которого поставили более 50 оценок, с самой высокой средней оценкой книг\n",
    "query_4 = '''\n",
    "    WITH books_rating AS\n",
    "    (SELECT b.author_id, AVG(rating) as avg_rating\n",
    "    FROM books AS b\n",
    "    LEFT JOIN ratings AS r ON b.book_id=r.book_id\n",
    "    GROUP BY b.book_id\n",
    "    HAVING COUNT(r.rating_id) > 50)\n",
    "    \n",
    "    SELECT a.author, AVG(avg_rating)\n",
    "    FROM books_rating AS br\n",
    "    LEFT JOIN authors AS a ON br.author_id=a.author_id\n",
    "    GROUP BY a.author_id\n",
    "    ORDER BY AVG(avg_rating) DESC LIMIT 3\n",
    "    '''"
   ]
  },
  {
   "cell_type": "code",
   "execution_count": 22,
   "metadata": {},
   "outputs": [
    {
     "data": {
      "text/html": [
       "<div>\n",
       "<style scoped>\n",
       "    .dataframe tbody tr th:only-of-type {\n",
       "        vertical-align: middle;\n",
       "    }\n",
       "\n",
       "    .dataframe tbody tr th {\n",
       "        vertical-align: top;\n",
       "    }\n",
       "\n",
       "    .dataframe thead th {\n",
       "        text-align: right;\n",
       "    }\n",
       "</style>\n",
       "<table border=\"1\" class=\"dataframe\">\n",
       "  <thead>\n",
       "    <tr style=\"text-align: right;\">\n",
       "      <th></th>\n",
       "      <th>author</th>\n",
       "      <th>avg</th>\n",
       "    </tr>\n",
       "  </thead>\n",
       "  <tbody>\n",
       "    <tr>\n",
       "      <th>0</th>\n",
       "      <td>J.K. Rowling/Mary GrandPré</td>\n",
       "      <td>4.283844</td>\n",
       "    </tr>\n",
       "    <tr>\n",
       "      <th>1</th>\n",
       "      <td>Markus Zusak/Cao Xuân Việt Khương</td>\n",
       "      <td>4.264151</td>\n",
       "    </tr>\n",
       "    <tr>\n",
       "      <th>2</th>\n",
       "      <td>J.R.R. Tolkien</td>\n",
       "      <td>4.258446</td>\n",
       "    </tr>\n",
       "  </tbody>\n",
       "</table>\n",
       "</div>"
      ],
      "text/plain": [
       "                              author       avg\n",
       "0         J.K. Rowling/Mary GrandPré  4.283844\n",
       "1  Markus Zusak/Cao Xuân Việt Khương  4.264151\n",
       "2                     J.R.R. Tolkien  4.258446"
      ]
     },
     "execution_count": 22,
     "metadata": {},
     "output_type": "execute_result"
    }
   ],
   "source": [
    "# Выведем\n",
    "output(query_4)"
   ]
  },
  {
   "cell_type": "markdown",
   "metadata": {},
   "source": [
    "**Вывод:**\n",
    "- Автор с самой высокой средней оценкой книг - Д. Роулинг - автор серии романов о Гарри Поттере\n",
    "- Как мы видим, наиболее популярные книги пересекаются с наиболее высоко оцениваемыми авторами, Д. Толкин (автор \"Хоббит или Туда и обратно\"), Ма́ркус Зусак (автор книги \"Книжный вор\") также присутствуют в рейтинге "
   ]
  },
  {
   "cell_type": "markdown",
   "metadata": {},
   "source": [
    "## Среднее количество обзоров от пользователей, которые поставили больше 50 оценок"
   ]
  },
  {
   "cell_type": "code",
   "execution_count": 23,
   "metadata": {},
   "outputs": [],
   "source": [
    "# Напишем запрос, чтоб найти среднее количество обзоров от пользователей, которые поставили больше 50 оценок\n",
    "query_5 = '''\n",
    "    WITH c AS\n",
    "    (SELECT COUNT(r.review_id) AS count_reviews\n",
    "    FROM reviews AS r\n",
    "    WHERE r.username IN (SELECT ra.username\n",
    "                        FROM ratings AS ra\n",
    "                        GROUP BY ra.username\n",
    "                        HAVING COUNT(ra.rating_id) > 50)\n",
    "    GROUP BY r.username)\n",
    "    \n",
    "    SELECT COUNT(count_reviews), AVG(count_reviews)\n",
    "    FROM c\n",
    "'''"
   ]
  },
  {
   "cell_type": "code",
   "execution_count": 24,
   "metadata": {},
   "outputs": [
    {
     "data": {
      "text/html": [
       "<div>\n",
       "<style scoped>\n",
       "    .dataframe tbody tr th:only-of-type {\n",
       "        vertical-align: middle;\n",
       "    }\n",
       "\n",
       "    .dataframe tbody tr th {\n",
       "        vertical-align: top;\n",
       "    }\n",
       "\n",
       "    .dataframe thead th {\n",
       "        text-align: right;\n",
       "    }\n",
       "</style>\n",
       "<table border=\"1\" class=\"dataframe\">\n",
       "  <thead>\n",
       "    <tr style=\"text-align: right;\">\n",
       "      <th></th>\n",
       "      <th>count</th>\n",
       "      <th>avg</th>\n",
       "    </tr>\n",
       "  </thead>\n",
       "  <tbody>\n",
       "    <tr>\n",
       "      <th>0</th>\n",
       "      <td>6</td>\n",
       "      <td>24.333333</td>\n",
       "    </tr>\n",
       "  </tbody>\n",
       "</table>\n",
       "</div>"
      ],
      "text/plain": [
       "   count        avg\n",
       "0      6  24.333333"
      ]
     },
     "execution_count": 24,
     "metadata": {},
     "output_type": "execute_result"
    }
   ],
   "source": [
    "# Выведем\n",
    "output(query_5)"
   ]
  },
  {
   "cell_type": "markdown",
   "metadata": {},
   "source": [
    "**Вывод:**\n",
    "- Всего пользователей, которые поставили больше 50 оценок, то есть наиболее активных, - 6\n",
    "- В среднем, они оставляют 24 обзора на прочитанные книги, это довольно много"
   ]
  },
  {
   "cell_type": "markdown",
   "metadata": {},
   "source": [
    "## Общий вывод"
   ]
  },
  {
   "cell_type": "markdown",
   "metadata": {},
   "source": [
    "Таким образом, были исследованы основные данные об произведениях, авторах, издательствах, рейтингах и оценках сервиса.\n",
    "\n",
    "Для того, чтобы сформулировать ценностное предложение, выделим следующие преимущества сервиса:\n",
    "- Обширная коллекция современной, новой литературы: всего в сервисе доступно 1000 произведений, среди которых 819 выпущено после 1 января 2000 года\n",
    "- Большой выбор авторов: в сервисе доступно 636 авторов \n",
    "- Наличие всемирно известных произведений: в библиотеке доступны такие книги, как \"Сумерки\", серия романов о Гарри Поттере, \"Книжный вор\", \"Стеклянный замок\" и др.\n",
    "- Ко многим книгам есть обзоры, это упрощает выбор: всего в сервисе оставлено 2793 отзыва\n",
    "- У всех произведений есть пользовательский рейтинг, это также упрощает выбор: всем книгам было поставлено 6456 оценки"
   ]
  }
 ],
 "metadata": {
  "ExecuteTimeLog": [
   {
    "duration": 506,
    "start_time": "2022-11-07T09:53:10.622Z"
   },
   {
    "duration": 2,
    "start_time": "2022-11-07T09:58:48.639Z"
   },
   {
    "duration": 3,
    "start_time": "2022-11-07T09:59:11.786Z"
   },
   {
    "duration": 8133,
    "start_time": "2022-11-07T09:59:22.728Z"
   },
   {
    "duration": 3,
    "start_time": "2022-11-07T10:13:30.634Z"
   },
   {
    "duration": 207,
    "start_time": "2022-11-07T10:13:41.610Z"
   },
   {
    "duration": 3,
    "start_time": "2022-11-07T10:16:24.788Z"
   },
   {
    "duration": 17,
    "start_time": "2022-11-07T10:16:25.582Z"
   },
   {
    "duration": 4,
    "start_time": "2022-11-07T10:35:38.079Z"
   },
   {
    "duration": 138,
    "start_time": "2022-11-07T10:35:40.939Z"
   },
   {
    "duration": 3,
    "start_time": "2022-11-07T10:46:38.723Z"
   },
   {
    "duration": 26,
    "start_time": "2022-11-07T10:46:47.364Z"
   },
   {
    "duration": 2,
    "start_time": "2022-11-07T10:47:06.999Z"
   },
   {
    "duration": 25,
    "start_time": "2022-11-07T10:47:09.338Z"
   },
   {
    "duration": 3,
    "start_time": "2022-11-07T10:47:23.750Z"
   },
   {
    "duration": 28,
    "start_time": "2022-11-07T10:47:24.260Z"
   },
   {
    "duration": 3,
    "start_time": "2022-11-07T10:49:06.963Z"
   },
   {
    "duration": 115,
    "start_time": "2022-11-07T10:49:07.420Z"
   },
   {
    "duration": 2,
    "start_time": "2022-11-07T10:49:13.608Z"
   },
   {
    "duration": 95,
    "start_time": "2022-11-07T10:49:13.869Z"
   },
   {
    "duration": 2,
    "start_time": "2022-11-07T10:49:41.813Z"
   },
   {
    "duration": 26,
    "start_time": "2022-11-07T10:49:42.259Z"
   },
   {
    "duration": 3,
    "start_time": "2022-11-07T10:49:54.325Z"
   },
   {
    "duration": 27,
    "start_time": "2022-11-07T10:49:54.586Z"
   },
   {
    "duration": 13,
    "start_time": "2022-11-08T14:27:51.400Z"
   },
   {
    "duration": 2,
    "start_time": "2022-11-08T14:31:51.108Z"
   },
   {
    "duration": 56,
    "start_time": "2022-11-08T14:31:57.591Z"
   },
   {
    "duration": 673,
    "start_time": "2022-11-08T14:32:01.459Z"
   },
   {
    "duration": 5,
    "start_time": "2022-11-08T14:32:02.135Z"
   },
   {
    "duration": 8953,
    "start_time": "2022-11-08T14:32:02.142Z"
   },
   {
    "duration": 3,
    "start_time": "2022-11-08T14:32:11.098Z"
   },
   {
    "duration": 146,
    "start_time": "2022-11-08T14:32:11.103Z"
   },
   {
    "duration": 3,
    "start_time": "2022-11-08T14:32:11.252Z"
   },
   {
    "duration": 144,
    "start_time": "2022-11-08T14:32:11.257Z"
   },
   {
    "duration": 3,
    "start_time": "2022-11-08T14:32:11.404Z"
   },
   {
    "duration": 3,
    "start_time": "2022-11-08T14:32:21.094Z"
   },
   {
    "duration": 173,
    "start_time": "2022-11-08T14:32:21.428Z"
   },
   {
    "duration": 5,
    "start_time": "2022-11-08T14:32:31.569Z"
   },
   {
    "duration": 103,
    "start_time": "2022-11-08T14:32:32.201Z"
   },
   {
    "duration": 5,
    "start_time": "2022-11-08T14:32:40.021Z"
   },
   {
    "duration": 107,
    "start_time": "2022-11-08T14:32:40.374Z"
   },
   {
    "duration": 3,
    "start_time": "2022-11-08T14:33:00.052Z"
   },
   {
    "duration": 2185,
    "start_time": "2022-11-08T14:33:00.269Z"
   },
   {
    "duration": 4,
    "start_time": "2022-11-08T14:33:07.778Z"
   },
   {
    "duration": 2049,
    "start_time": "2022-11-08T14:33:08.038Z"
   },
   {
    "duration": 3,
    "start_time": "2022-11-08T14:33:24.839Z"
   },
   {
    "duration": 14,
    "start_time": "2022-11-08T14:33:25.254Z"
   },
   {
    "duration": 3,
    "start_time": "2022-11-08T14:39:13.043Z"
   },
   {
    "duration": 103,
    "start_time": "2022-11-08T14:39:19.136Z"
   },
   {
    "duration": 3,
    "start_time": "2022-11-08T14:41:29.237Z"
   },
   {
    "duration": 14,
    "start_time": "2022-11-08T14:41:29.476Z"
   },
   {
    "duration": 3,
    "start_time": "2022-11-08T14:42:27.165Z"
   },
   {
    "duration": 22,
    "start_time": "2022-11-08T14:42:27.581Z"
   },
   {
    "duration": 4,
    "start_time": "2022-11-08T14:43:21.933Z"
   },
   {
    "duration": 19,
    "start_time": "2022-11-08T14:43:22.242Z"
   },
   {
    "duration": 3,
    "start_time": "2022-11-08T14:47:27.516Z"
   },
   {
    "duration": 33,
    "start_time": "2022-11-08T14:47:27.855Z"
   },
   {
    "duration": 3,
    "start_time": "2022-11-08T14:49:46.141Z"
   },
   {
    "duration": 108,
    "start_time": "2022-11-08T14:49:51.959Z"
   },
   {
    "duration": 4,
    "start_time": "2022-11-08T14:50:03.994Z"
   },
   {
    "duration": 99,
    "start_time": "2022-11-08T14:50:04.173Z"
   },
   {
    "duration": 3,
    "start_time": "2022-11-08T14:54:55.961Z"
   },
   {
    "duration": 22,
    "start_time": "2022-11-08T14:54:56.239Z"
   },
   {
    "duration": 3,
    "start_time": "2022-11-08T14:57:10.658Z"
   },
   {
    "duration": 2,
    "start_time": "2022-11-08T14:57:11.567Z"
   },
   {
    "duration": 8,
    "start_time": "2022-11-08T14:57:11.883Z"
   },
   {
    "duration": 3,
    "start_time": "2022-11-08T14:57:19.360Z"
   },
   {
    "duration": 3,
    "start_time": "2022-11-08T14:57:19.951Z"
   },
   {
    "duration": 11,
    "start_time": "2022-11-08T14:57:20.239Z"
   },
   {
    "duration": 4,
    "start_time": "2022-11-08T14:58:26.018Z"
   },
   {
    "duration": 17,
    "start_time": "2022-11-08T14:58:26.025Z"
   },
   {
    "duration": 11,
    "start_time": "2022-11-08T14:58:26.044Z"
   },
   {
    "duration": 6,
    "start_time": "2022-11-08T14:58:26.058Z"
   },
   {
    "duration": 10,
    "start_time": "2022-11-08T14:58:26.066Z"
   },
   {
    "duration": 67,
    "start_time": "2022-11-08T14:58:26.078Z"
   },
   {
    "duration": 3,
    "start_time": "2022-11-08T14:58:26.147Z"
   },
   {
    "duration": 41,
    "start_time": "2022-11-08T14:58:26.151Z"
   },
   {
    "duration": 4,
    "start_time": "2022-11-08T14:58:26.195Z"
   },
   {
    "duration": 20,
    "start_time": "2022-11-08T14:58:26.201Z"
   },
   {
    "duration": 3,
    "start_time": "2022-11-08T14:58:26.223Z"
   },
   {
    "duration": 35,
    "start_time": "2022-11-08T14:58:26.228Z"
   },
   {
    "duration": 6,
    "start_time": "2022-11-08T14:58:26.266Z"
   },
   {
    "duration": 4,
    "start_time": "2022-11-08T14:58:29.865Z"
   },
   {
    "duration": 20,
    "start_time": "2022-11-08T14:58:30.263Z"
   },
   {
    "duration": 4,
    "start_time": "2022-11-08T14:58:44.735Z"
   },
   {
    "duration": 8,
    "start_time": "2022-11-08T14:58:44.741Z"
   },
   {
    "duration": 5,
    "start_time": "2022-11-08T14:58:44.752Z"
   },
   {
    "duration": 20,
    "start_time": "2022-11-08T14:58:44.760Z"
   },
   {
    "duration": 8,
    "start_time": "2022-11-08T14:58:44.783Z"
   },
   {
    "duration": 59,
    "start_time": "2022-11-08T14:58:44.794Z"
   },
   {
    "duration": 4,
    "start_time": "2022-11-08T14:58:44.855Z"
   },
   {
    "duration": 47,
    "start_time": "2022-11-08T14:58:44.862Z"
   },
   {
    "duration": 3,
    "start_time": "2022-11-08T14:58:44.912Z"
   },
   {
    "duration": 27,
    "start_time": "2022-11-08T14:58:44.918Z"
   },
   {
    "duration": 4,
    "start_time": "2022-11-08T14:58:44.947Z"
   },
   {
    "duration": 24,
    "start_time": "2022-11-08T14:58:44.953Z"
   },
   {
    "duration": 6,
    "start_time": "2022-11-08T14:58:44.979Z"
   },
   {
    "duration": 30,
    "start_time": "2022-11-08T14:58:44.989Z"
   },
   {
    "duration": 3,
    "start_time": "2022-11-08T14:59:08.123Z"
   },
   {
    "duration": 120,
    "start_time": "2022-11-08T14:59:08.803Z"
   },
   {
    "duration": 3,
    "start_time": "2022-11-08T14:59:12.641Z"
   },
   {
    "duration": 16,
    "start_time": "2022-11-08T14:59:13.189Z"
   },
   {
    "duration": 3,
    "start_time": "2022-11-08T15:01:27.639Z"
   },
   {
    "duration": 3,
    "start_time": "2022-11-08T15:01:38.391Z"
   },
   {
    "duration": 14,
    "start_time": "2022-11-08T15:01:38.619Z"
   },
   {
    "duration": 3,
    "start_time": "2022-11-08T15:01:54.607Z"
   },
   {
    "duration": 23,
    "start_time": "2022-11-08T15:01:54.800Z"
   },
   {
    "duration": 2,
    "start_time": "2022-11-08T15:02:20.927Z"
   },
   {
    "duration": 22,
    "start_time": "2022-11-08T15:02:21.125Z"
   },
   {
    "duration": 3,
    "start_time": "2022-11-08T15:02:59.550Z"
   },
   {
    "duration": 19,
    "start_time": "2022-11-08T15:02:59.775Z"
   },
   {
    "duration": 3,
    "start_time": "2022-11-08T15:03:40.255Z"
   },
   {
    "duration": 33,
    "start_time": "2022-11-08T15:03:40.412Z"
   },
   {
    "duration": 3,
    "start_time": "2022-11-08T15:04:58.381Z"
   },
   {
    "duration": 31,
    "start_time": "2022-11-08T15:04:58.646Z"
   },
   {
    "duration": 3,
    "start_time": "2022-11-08T15:05:39.892Z"
   },
   {
    "duration": 23,
    "start_time": "2022-11-08T15:05:40.132Z"
   },
   {
    "duration": 4,
    "start_time": "2022-11-08T15:19:55.482Z"
   },
   {
    "duration": 19,
    "start_time": "2022-11-08T15:19:55.684Z"
   },
   {
    "duration": 2,
    "start_time": "2022-11-08T15:39:44.638Z"
   },
   {
    "duration": 23,
    "start_time": "2022-11-08T15:39:44.826Z"
   },
   {
    "duration": 3,
    "start_time": "2022-11-08T15:39:56.266Z"
   },
   {
    "duration": 16,
    "start_time": "2022-11-08T15:39:56.425Z"
   },
   {
    "duration": 3,
    "start_time": "2022-11-08T15:46:14.667Z"
   },
   {
    "duration": 21,
    "start_time": "2022-11-08T15:46:14.934Z"
   },
   {
    "duration": 3,
    "start_time": "2022-11-08T15:47:29.779Z"
   },
   {
    "duration": 26,
    "start_time": "2022-11-08T15:47:29.999Z"
   },
   {
    "duration": 3,
    "start_time": "2022-11-08T15:47:55.696Z"
   },
   {
    "duration": 20,
    "start_time": "2022-11-08T15:47:56.140Z"
   },
   {
    "duration": 3,
    "start_time": "2022-11-08T16:58:15.158Z"
   },
   {
    "duration": 20,
    "start_time": "2022-11-08T16:58:20.147Z"
   },
   {
    "duration": 3,
    "start_time": "2022-11-08T16:59:09.092Z"
   },
   {
    "duration": 95,
    "start_time": "2022-11-08T16:59:09.269Z"
   },
   {
    "duration": 2,
    "start_time": "2022-11-08T17:00:20.940Z"
   },
   {
    "duration": 113,
    "start_time": "2022-11-08T17:00:21.120Z"
   },
   {
    "duration": 3,
    "start_time": "2022-11-08T17:00:26.021Z"
   },
   {
    "duration": 102,
    "start_time": "2022-11-08T17:00:26.186Z"
   },
   {
    "duration": 3,
    "start_time": "2022-11-08T17:00:38.755Z"
   },
   {
    "duration": 104,
    "start_time": "2022-11-08T17:00:39.046Z"
   },
   {
    "duration": 3,
    "start_time": "2022-11-08T17:01:13.273Z"
   },
   {
    "duration": 18,
    "start_time": "2022-11-08T17:01:13.424Z"
   },
   {
    "duration": 3,
    "start_time": "2022-11-08T17:01:26.061Z"
   },
   {
    "duration": 18,
    "start_time": "2022-11-08T17:01:26.341Z"
   },
   {
    "duration": 3,
    "start_time": "2022-11-08T17:02:51.090Z"
   },
   {
    "duration": 17,
    "start_time": "2022-11-08T17:02:51.472Z"
   },
   {
    "duration": 3,
    "start_time": "2022-11-08T17:05:10.501Z"
   },
   {
    "duration": 93,
    "start_time": "2022-11-08T17:05:11.046Z"
   },
   {
    "duration": 4,
    "start_time": "2022-11-08T17:05:25.382Z"
   },
   {
    "duration": 104,
    "start_time": "2022-11-08T17:05:25.547Z"
   },
   {
    "duration": 3,
    "start_time": "2022-11-08T17:05:34.382Z"
   },
   {
    "duration": 18,
    "start_time": "2022-11-08T17:05:34.533Z"
   },
   {
    "duration": 3,
    "start_time": "2022-11-08T17:05:59.110Z"
   },
   {
    "duration": 22,
    "start_time": "2022-11-08T17:05:59.293Z"
   },
   {
    "duration": 4,
    "start_time": "2022-11-08T17:08:00.208Z"
   },
   {
    "duration": 122,
    "start_time": "2022-11-08T17:08:00.639Z"
   },
   {
    "duration": 4,
    "start_time": "2022-11-08T17:08:22.147Z"
   },
   {
    "duration": 97,
    "start_time": "2022-11-08T17:08:22.422Z"
   },
   {
    "duration": 3,
    "start_time": "2022-11-08T17:09:45.855Z"
   },
   {
    "duration": 15,
    "start_time": "2022-11-08T17:09:46.205Z"
   },
   {
    "duration": 3,
    "start_time": "2022-11-08T17:10:21.066Z"
   },
   {
    "duration": 114,
    "start_time": "2022-11-08T17:10:21.288Z"
   },
   {
    "duration": 3,
    "start_time": "2022-11-08T17:10:26.158Z"
   },
   {
    "duration": 103,
    "start_time": "2022-11-08T17:10:26.489Z"
   },
   {
    "duration": 3,
    "start_time": "2022-11-08T17:10:46.678Z"
   },
   {
    "duration": 31,
    "start_time": "2022-11-08T17:10:47.102Z"
   },
   {
    "duration": 3,
    "start_time": "2022-11-08T17:16:43.921Z"
   },
   {
    "duration": 73,
    "start_time": "2022-11-08T17:16:44.160Z"
   },
   {
    "duration": 4,
    "start_time": "2022-11-08T17:19:44.015Z"
   },
   {
    "duration": 20,
    "start_time": "2022-11-08T17:19:44.218Z"
   },
   {
    "duration": 3,
    "start_time": "2022-11-08T17:24:22.265Z"
   },
   {
    "duration": 23,
    "start_time": "2022-11-08T17:24:22.404Z"
   },
   {
    "duration": 3,
    "start_time": "2022-11-08T17:39:27.032Z"
   },
   {
    "duration": 37,
    "start_time": "2022-11-08T17:39:27.037Z"
   },
   {
    "duration": 15,
    "start_time": "2022-11-08T17:39:27.076Z"
   },
   {
    "duration": 26,
    "start_time": "2022-11-08T17:39:27.094Z"
   },
   {
    "duration": 29,
    "start_time": "2022-11-08T17:39:27.122Z"
   },
   {
    "duration": 84,
    "start_time": "2022-11-08T17:39:27.153Z"
   },
   {
    "duration": 4,
    "start_time": "2022-11-08T17:39:27.239Z"
   },
   {
    "duration": 30,
    "start_time": "2022-11-08T17:39:27.245Z"
   },
   {
    "duration": 24,
    "start_time": "2022-11-08T17:39:27.279Z"
   },
   {
    "duration": 54,
    "start_time": "2022-11-08T17:39:27.305Z"
   },
   {
    "duration": 3,
    "start_time": "2022-11-08T17:39:27.361Z"
   },
   {
    "duration": 100,
    "start_time": "2022-11-08T17:39:27.366Z"
   },
   {
    "duration": 3,
    "start_time": "2022-11-08T17:39:27.468Z"
   },
   {
    "duration": 35,
    "start_time": "2022-11-08T17:39:27.472Z"
   },
   {
    "duration": 2,
    "start_time": "2022-11-08T17:39:27.509Z"
   },
   {
    "duration": 30,
    "start_time": "2022-11-08T17:39:27.513Z"
   },
   {
    "duration": 9,
    "start_time": "2022-11-08T17:39:27.545Z"
   },
   {
    "duration": 52,
    "start_time": "2022-11-08T17:39:27.556Z"
   },
   {
    "duration": 2,
    "start_time": "2022-11-08T17:39:27.610Z"
   },
   {
    "duration": 25,
    "start_time": "2022-11-08T17:39:27.614Z"
   },
   {
    "duration": 7,
    "start_time": "2022-11-08T17:39:27.641Z"
   },
   {
    "duration": 25,
    "start_time": "2022-11-08T17:39:27.650Z"
   },
   {
    "duration": 3,
    "start_time": "2022-11-08T17:39:27.677Z"
   },
   {
    "duration": 26,
    "start_time": "2022-11-08T17:39:27.683Z"
   },
   {
    "duration": 458,
    "start_time": "2022-11-08T18:38:44.550Z"
   },
   {
    "duration": 3,
    "start_time": "2022-11-08T18:38:45.010Z"
   },
   {
    "duration": 7622,
    "start_time": "2022-11-08T18:38:45.014Z"
   },
   {
    "duration": 2,
    "start_time": "2022-11-08T18:38:52.638Z"
   },
   {
    "duration": 15,
    "start_time": "2022-11-08T18:38:52.641Z"
   },
   {
    "duration": 64,
    "start_time": "2022-11-08T18:38:52.658Z"
   },
   {
    "duration": 2,
    "start_time": "2022-11-08T18:38:52.724Z"
   },
   {
    "duration": 22,
    "start_time": "2022-11-08T18:38:52.727Z"
   },
   {
    "duration": 2,
    "start_time": "2022-11-08T18:38:52.751Z"
   },
   {
    "duration": 36,
    "start_time": "2022-11-08T18:38:52.755Z"
   },
   {
    "duration": 3,
    "start_time": "2022-11-08T18:38:52.792Z"
   },
   {
    "duration": 26,
    "start_time": "2022-11-08T18:38:52.797Z"
   },
   {
    "duration": 3,
    "start_time": "2022-11-08T18:38:52.824Z"
   },
   {
    "duration": 17,
    "start_time": "2022-11-08T18:38:52.828Z"
   },
   {
    "duration": 3,
    "start_time": "2022-11-08T18:38:52.847Z"
   },
   {
    "duration": 22,
    "start_time": "2022-11-08T18:38:52.852Z"
   },
   {
    "duration": 6,
    "start_time": "2022-11-08T18:38:52.875Z"
   },
   {
    "duration": 31,
    "start_time": "2022-11-08T18:38:52.885Z"
   },
   {
    "duration": 2,
    "start_time": "2022-11-08T18:38:52.917Z"
   },
   {
    "duration": 17,
    "start_time": "2022-11-08T18:38:52.921Z"
   },
   {
    "duration": 3,
    "start_time": "2022-11-08T18:38:52.939Z"
   },
   {
    "duration": 21,
    "start_time": "2022-11-08T18:38:52.943Z"
   },
   {
    "duration": 2,
    "start_time": "2022-11-08T18:38:52.965Z"
   },
   {
    "duration": 25,
    "start_time": "2022-11-08T18:38:52.968Z"
   },
   {
    "duration": 8,
    "start_time": "2022-11-09T10:04:01.778Z"
   },
   {
    "duration": 44,
    "start_time": "2022-11-09T10:04:02.924Z"
   },
   {
    "duration": 537,
    "start_time": "2022-11-09T10:04:05.324Z"
   },
   {
    "duration": 3,
    "start_time": "2022-11-09T10:04:05.863Z"
   },
   {
    "duration": 10163,
    "start_time": "2022-11-09T10:04:05.867Z"
   },
   {
    "duration": 3,
    "start_time": "2022-11-09T10:04:16.031Z"
   },
   {
    "duration": 11,
    "start_time": "2022-11-09T10:04:16.036Z"
   },
   {
    "duration": 285,
    "start_time": "2022-11-09T10:04:16.049Z"
   },
   {
    "duration": 2,
    "start_time": "2022-11-09T10:04:16.336Z"
   },
   {
    "duration": 94,
    "start_time": "2022-11-09T10:04:16.340Z"
   },
   {
    "duration": 3,
    "start_time": "2022-11-09T10:04:16.435Z"
   },
   {
    "duration": 125,
    "start_time": "2022-11-09T10:04:16.439Z"
   },
   {
    "duration": 2,
    "start_time": "2022-11-09T10:04:16.566Z"
   },
   {
    "duration": 89,
    "start_time": "2022-11-09T10:04:16.571Z"
   },
   {
    "duration": 3,
    "start_time": "2022-11-09T10:04:16.662Z"
   },
   {
    "duration": 80,
    "start_time": "2022-11-09T10:04:16.668Z"
   },
   {
    "duration": 3,
    "start_time": "2022-11-09T10:04:16.749Z"
   },
   {
    "duration": 75,
    "start_time": "2022-11-09T10:04:16.754Z"
   },
   {
    "duration": 2,
    "start_time": "2022-11-09T10:04:16.831Z"
   },
   {
    "duration": 7,
    "start_time": "2022-11-09T10:04:16.835Z"
   },
   {
    "duration": 68,
    "start_time": "2022-11-09T10:04:32.448Z"
   },
   {
    "duration": 3,
    "start_time": "2022-11-09T10:05:25.537Z"
   },
   {
    "duration": 3,
    "start_time": "2022-11-09T10:05:25.841Z"
   },
   {
    "duration": 108,
    "start_time": "2022-11-09T10:05:30.313Z"
   },
   {
    "duration": 3,
    "start_time": "2022-11-09T10:07:42.674Z"
   },
   {
    "duration": 2,
    "start_time": "2022-11-09T10:07:42.986Z"
   },
   {
    "duration": 101,
    "start_time": "2022-11-09T10:07:43.554Z"
   },
   {
    "duration": 3,
    "start_time": "2022-11-09T10:08:17.535Z"
   },
   {
    "duration": 3,
    "start_time": "2022-11-09T10:08:17.823Z"
   },
   {
    "duration": 108,
    "start_time": "2022-11-09T10:08:18.213Z"
   },
   {
    "duration": 3,
    "start_time": "2022-11-09T10:08:25.926Z"
   },
   {
    "duration": 3,
    "start_time": "2022-11-09T10:08:26.174Z"
   },
   {
    "duration": 160,
    "start_time": "2022-11-09T10:08:26.533Z"
   },
   {
    "duration": 3,
    "start_time": "2022-11-09T10:08:56.901Z"
   },
   {
    "duration": 4,
    "start_time": "2022-11-09T10:08:57.107Z"
   },
   {
    "duration": 111,
    "start_time": "2022-11-09T10:08:57.330Z"
   },
   {
    "duration": 3,
    "start_time": "2022-11-09T10:09:55.440Z"
   },
   {
    "duration": 3,
    "start_time": "2022-11-09T10:09:56.061Z"
   },
   {
    "duration": 192,
    "start_time": "2022-11-09T10:09:56.342Z"
   },
   {
    "duration": 3,
    "start_time": "2022-11-09T10:10:05.430Z"
   },
   {
    "duration": 3,
    "start_time": "2022-11-09T10:10:05.749Z"
   },
   {
    "duration": 141,
    "start_time": "2022-11-09T10:10:06.159Z"
   },
   {
    "duration": 2,
    "start_time": "2022-11-09T10:10:26.030Z"
   },
   {
    "duration": 2,
    "start_time": "2022-11-09T10:10:26.318Z"
   },
   {
    "duration": 93,
    "start_time": "2022-11-09T10:10:26.558Z"
   },
   {
    "duration": 4,
    "start_time": "2022-11-09T10:11:45.045Z"
   },
   {
    "duration": 2,
    "start_time": "2022-11-09T10:11:45.296Z"
   },
   {
    "duration": 100,
    "start_time": "2022-11-09T10:11:45.598Z"
   },
   {
    "duration": 2,
    "start_time": "2022-11-09T10:12:32.059Z"
   },
   {
    "duration": 3,
    "start_time": "2022-11-09T10:12:32.411Z"
   },
   {
    "duration": 108,
    "start_time": "2022-11-09T10:12:33.187Z"
   },
   {
    "duration": 3,
    "start_time": "2022-11-09T10:12:46.811Z"
   },
   {
    "duration": 2,
    "start_time": "2022-11-09T10:12:47.042Z"
   },
   {
    "duration": 95,
    "start_time": "2022-11-09T10:12:47.402Z"
   },
   {
    "duration": 3,
    "start_time": "2022-11-09T10:14:44.858Z"
   },
   {
    "duration": 2,
    "start_time": "2022-11-09T10:14:45.171Z"
   },
   {
    "duration": 179,
    "start_time": "2022-11-09T10:14:45.481Z"
   },
   {
    "duration": 2,
    "start_time": "2022-11-09T10:14:51.484Z"
   },
   {
    "duration": 3,
    "start_time": "2022-11-09T10:14:51.881Z"
   },
   {
    "duration": 98,
    "start_time": "2022-11-09T10:14:52.233Z"
   },
   {
    "duration": 3,
    "start_time": "2022-11-09T10:15:22.259Z"
   },
   {
    "duration": 2,
    "start_time": "2022-11-09T10:15:22.569Z"
   },
   {
    "duration": 108,
    "start_time": "2022-11-09T10:15:22.962Z"
   },
   {
    "duration": 3,
    "start_time": "2022-11-09T10:15:28.889Z"
   },
   {
    "duration": 3,
    "start_time": "2022-11-09T10:15:29.137Z"
   },
   {
    "duration": 100,
    "start_time": "2022-11-09T10:15:29.391Z"
   },
   {
    "duration": 3,
    "start_time": "2022-11-09T10:15:52.357Z"
   },
   {
    "duration": 3,
    "start_time": "2022-11-09T10:15:52.677Z"
   },
   {
    "duration": 125,
    "start_time": "2022-11-09T10:15:53.061Z"
   },
   {
    "duration": 3,
    "start_time": "2022-11-09T10:16:37.230Z"
   },
   {
    "duration": 2,
    "start_time": "2022-11-09T10:16:37.434Z"
   },
   {
    "duration": 96,
    "start_time": "2022-11-09T10:16:37.540Z"
   },
   {
    "duration": 2,
    "start_time": "2022-11-09T10:19:22.905Z"
   },
   {
    "duration": 2,
    "start_time": "2022-11-09T10:19:23.272Z"
   },
   {
    "duration": 99,
    "start_time": "2022-11-09T10:19:24.813Z"
   },
   {
    "duration": 2,
    "start_time": "2022-11-09T10:20:00.662Z"
   },
   {
    "duration": 3,
    "start_time": "2022-11-09T10:20:01.238Z"
   },
   {
    "duration": 98,
    "start_time": "2022-11-09T10:20:01.493Z"
   },
   {
    "duration": 2,
    "start_time": "2022-11-09T10:40:19.933Z"
   },
   {
    "duration": 4,
    "start_time": "2022-11-09T10:40:19.941Z"
   },
   {
    "duration": 6,
    "start_time": "2022-11-09T10:40:19.946Z"
   },
   {
    "duration": 5,
    "start_time": "2022-11-09T10:40:19.953Z"
   },
   {
    "duration": 5,
    "start_time": "2022-11-09T10:40:19.960Z"
   },
   {
    "duration": 275,
    "start_time": "2022-11-09T10:40:19.967Z"
   },
   {
    "duration": 3,
    "start_time": "2022-11-09T10:40:20.244Z"
   },
   {
    "duration": 75,
    "start_time": "2022-11-09T10:40:20.248Z"
   },
   {
    "duration": 2,
    "start_time": "2022-11-09T10:40:20.325Z"
   },
   {
    "duration": 105,
    "start_time": "2022-11-09T10:40:20.329Z"
   },
   {
    "duration": 2,
    "start_time": "2022-11-09T10:40:20.436Z"
   },
   {
    "duration": 139,
    "start_time": "2022-11-09T10:40:20.439Z"
   },
   {
    "duration": 3,
    "start_time": "2022-11-09T10:40:20.580Z"
   },
   {
    "duration": 77,
    "start_time": "2022-11-09T10:40:20.584Z"
   },
   {
    "duration": 3,
    "start_time": "2022-11-09T10:40:20.663Z"
   },
   {
    "duration": 75,
    "start_time": "2022-11-09T10:40:20.667Z"
   },
   {
    "duration": 3,
    "start_time": "2022-11-09T10:40:20.744Z"
   },
   {
    "duration": 7,
    "start_time": "2022-11-09T10:40:20.748Z"
   },
   {
    "duration": 7,
    "start_time": "2022-11-09T10:40:20.756Z"
   },
   {
    "duration": 77,
    "start_time": "2022-11-09T10:40:22.950Z"
   },
   {
    "duration": 2,
    "start_time": "2022-11-09T10:40:30.982Z"
   },
   {
    "duration": 2,
    "start_time": "2022-11-09T10:40:31.233Z"
   },
   {
    "duration": 79,
    "start_time": "2022-11-09T10:40:31.454Z"
   },
   {
    "duration": 3,
    "start_time": "2022-11-09T10:40:44.882Z"
   },
   {
    "duration": 2,
    "start_time": "2022-11-09T10:40:45.098Z"
   },
   {
    "duration": 99,
    "start_time": "2022-11-09T10:40:45.881Z"
   },
   {
    "duration": 3,
    "start_time": "2022-11-09T10:43:34.748Z"
   },
   {
    "duration": 2,
    "start_time": "2022-11-09T10:43:35.109Z"
   },
   {
    "duration": 101,
    "start_time": "2022-11-09T10:43:35.501Z"
   },
   {
    "duration": 3,
    "start_time": "2022-11-09T10:44:30.748Z"
   },
   {
    "duration": 3,
    "start_time": "2022-11-09T10:44:31.150Z"
   },
   {
    "duration": 178,
    "start_time": "2022-11-09T10:44:31.564Z"
   },
   {
    "duration": 3,
    "start_time": "2022-11-09T10:44:37.877Z"
   },
   {
    "duration": 3,
    "start_time": "2022-11-09T10:44:38.029Z"
   },
   {
    "duration": 80,
    "start_time": "2022-11-09T10:44:38.271Z"
   },
   {
    "duration": 2,
    "start_time": "2022-11-09T10:46:48.071Z"
   },
   {
    "duration": 3,
    "start_time": "2022-11-09T10:46:48.301Z"
   },
   {
    "duration": 131,
    "start_time": "2022-11-09T10:46:50.652Z"
   },
   {
    "duration": 3,
    "start_time": "2022-11-09T10:47:15.994Z"
   },
   {
    "duration": 2,
    "start_time": "2022-11-09T10:47:16.111Z"
   },
   {
    "duration": 153,
    "start_time": "2022-11-09T10:47:16.386Z"
   },
   {
    "duration": 3,
    "start_time": "2022-11-09T10:48:02.979Z"
   },
   {
    "duration": 2,
    "start_time": "2022-11-09T10:48:03.710Z"
   },
   {
    "duration": 2,
    "start_time": "2022-11-09T10:48:13.648Z"
   },
   {
    "duration": 3,
    "start_time": "2022-11-09T10:48:13.782Z"
   },
   {
    "duration": 120,
    "start_time": "2022-11-09T10:48:14.180Z"
   },
   {
    "duration": 2,
    "start_time": "2022-11-09T10:48:46.019Z"
   },
   {
    "duration": 3,
    "start_time": "2022-11-09T10:48:46.408Z"
   },
   {
    "duration": 131,
    "start_time": "2022-11-09T10:48:46.849Z"
   },
   {
    "duration": 3,
    "start_time": "2022-11-09T10:49:03.360Z"
   },
   {
    "duration": 2,
    "start_time": "2022-11-09T10:49:03.846Z"
   },
   {
    "duration": 132,
    "start_time": "2022-11-09T10:49:04.245Z"
   },
   {
    "duration": 3,
    "start_time": "2022-11-09T10:50:11.226Z"
   },
   {
    "duration": 2,
    "start_time": "2022-11-09T10:50:11.502Z"
   },
   {
    "duration": 135,
    "start_time": "2022-11-09T10:50:11.860Z"
   },
   {
    "duration": 3,
    "start_time": "2022-11-09T10:50:46.006Z"
   },
   {
    "duration": 2,
    "start_time": "2022-11-09T10:50:46.274Z"
   },
   {
    "duration": 102,
    "start_time": "2022-11-09T10:50:46.746Z"
   },
   {
    "duration": 3,
    "start_time": "2022-11-09T10:52:19.287Z"
   },
   {
    "duration": 3,
    "start_time": "2022-11-09T10:52:19.646Z"
   },
   {
    "duration": 179,
    "start_time": "2022-11-09T10:52:20.015Z"
   },
   {
    "duration": 3,
    "start_time": "2022-11-09T10:52:35.692Z"
   },
   {
    "duration": 3,
    "start_time": "2022-11-09T10:52:35.978Z"
   },
   {
    "duration": 132,
    "start_time": "2022-11-09T10:52:36.296Z"
   },
   {
    "duration": 3,
    "start_time": "2022-11-09T10:52:46.507Z"
   },
   {
    "duration": 3,
    "start_time": "2022-11-09T10:52:46.806Z"
   },
   {
    "duration": 105,
    "start_time": "2022-11-09T10:52:47.308Z"
   },
   {
    "duration": 3,
    "start_time": "2022-11-09T10:53:37.826Z"
   },
   {
    "duration": 3,
    "start_time": "2022-11-09T10:53:38.356Z"
   },
   {
    "duration": 113,
    "start_time": "2022-11-09T10:53:38.707Z"
   },
   {
    "duration": 3,
    "start_time": "2022-11-09T10:54:28.363Z"
   },
   {
    "duration": 2,
    "start_time": "2022-11-09T10:54:28.723Z"
   },
   {
    "duration": 135,
    "start_time": "2022-11-09T10:54:28.987Z"
   },
   {
    "duration": 3,
    "start_time": "2022-11-09T10:55:37.868Z"
   },
   {
    "duration": 3,
    "start_time": "2022-11-09T10:55:38.329Z"
   },
   {
    "duration": 134,
    "start_time": "2022-11-09T10:55:38.728Z"
   },
   {
    "duration": 3,
    "start_time": "2022-11-09T10:55:50.802Z"
   },
   {
    "duration": 3,
    "start_time": "2022-11-09T10:55:51.001Z"
   },
   {
    "duration": 129,
    "start_time": "2022-11-09T10:55:51.312Z"
   },
   {
    "duration": 2,
    "start_time": "2022-11-09T10:56:07.889Z"
   },
   {
    "duration": 2,
    "start_time": "2022-11-09T10:56:08.153Z"
   },
   {
    "duration": 106,
    "start_time": "2022-11-09T10:56:08.441Z"
   },
   {
    "duration": 3,
    "start_time": "2022-11-09T10:56:36.889Z"
   },
   {
    "duration": 3,
    "start_time": "2022-11-09T10:56:37.374Z"
   },
   {
    "duration": 98,
    "start_time": "2022-11-09T10:56:37.882Z"
   },
   {
    "duration": 3,
    "start_time": "2022-11-09T10:59:58.910Z"
   },
   {
    "duration": 2,
    "start_time": "2022-11-09T10:59:59.253Z"
   },
   {
    "duration": 117,
    "start_time": "2022-11-09T10:59:59.747Z"
   },
   {
    "duration": 3,
    "start_time": "2022-11-09T11:00:27.301Z"
   },
   {
    "duration": 399,
    "start_time": "2022-11-09T11:00:29.805Z"
   },
   {
    "duration": 3,
    "start_time": "2022-11-09T11:00:48.829Z"
   },
   {
    "duration": 310,
    "start_time": "2022-11-09T11:00:51.202Z"
   },
   {
    "duration": 3,
    "start_time": "2022-11-09T11:02:27.199Z"
   },
   {
    "duration": 349,
    "start_time": "2022-11-09T11:02:29.680Z"
   },
   {
    "duration": 2,
    "start_time": "2022-11-09T11:03:17.916Z"
   },
   {
    "duration": 4,
    "start_time": "2022-11-09T11:03:18.393Z"
   },
   {
    "duration": 3,
    "start_time": "2022-11-09T11:03:20.364Z"
   },
   {
    "duration": 361,
    "start_time": "2022-11-09T11:03:22.081Z"
   },
   {
    "duration": 2,
    "start_time": "2022-11-09T11:04:06.472Z"
   },
   {
    "duration": 140,
    "start_time": "2022-11-09T11:04:08.481Z"
   },
   {
    "duration": 2,
    "start_time": "2022-11-09T11:05:24.655Z"
   },
   {
    "duration": 138,
    "start_time": "2022-11-09T11:05:26.987Z"
   },
   {
    "duration": 4,
    "start_time": "2022-11-09T11:06:34.752Z"
   },
   {
    "duration": 1043,
    "start_time": "2022-11-09T11:06:37.173Z"
   },
   {
    "duration": 2,
    "start_time": "2022-11-09T11:07:28.680Z"
   },
   {
    "duration": 128,
    "start_time": "2022-11-09T11:07:30.362Z"
   },
   {
    "duration": 2,
    "start_time": "2022-11-09T11:08:15.569Z"
   },
   {
    "duration": 2,
    "start_time": "2022-11-09T11:08:15.699Z"
   },
   {
    "duration": 127,
    "start_time": "2022-11-09T11:08:16.952Z"
   },
   {
    "duration": 3,
    "start_time": "2022-11-09T11:09:13.612Z"
   },
   {
    "duration": 1040,
    "start_time": "2022-11-09T11:09:15.208Z"
   },
   {
    "duration": 2,
    "start_time": "2022-11-09T11:11:07.021Z"
   },
   {
    "duration": 144,
    "start_time": "2022-11-09T11:11:10.971Z"
   },
   {
    "duration": 3,
    "start_time": "2022-11-09T11:11:23.195Z"
   },
   {
    "duration": 134,
    "start_time": "2022-11-09T11:11:23.592Z"
   },
   {
    "duration": 3,
    "start_time": "2022-11-09T11:11:45.598Z"
   },
   {
    "duration": 96,
    "start_time": "2022-11-09T11:11:46.151Z"
   },
   {
    "duration": 1106,
    "start_time": "2022-11-09T11:12:31.102Z"
   },
   {
    "duration": 3,
    "start_time": "2022-11-09T11:13:12.835Z"
   },
   {
    "duration": 146,
    "start_time": "2022-11-09T11:13:15.148Z"
   },
   {
    "duration": 3,
    "start_time": "2022-11-09T11:13:23.978Z"
   },
   {
    "duration": 160,
    "start_time": "2022-11-09T11:13:26.077Z"
   },
   {
    "duration": 5,
    "start_time": "2022-11-09T11:16:44.121Z"
   },
   {
    "duration": 131,
    "start_time": "2022-11-09T11:16:46.025Z"
   },
   {
    "duration": 3,
    "start_time": "2022-11-09T11:17:05.949Z"
   },
   {
    "duration": 377,
    "start_time": "2022-11-09T11:17:07.824Z"
   },
   {
    "duration": 3,
    "start_time": "2022-11-09T11:18:12.594Z"
   },
   {
    "duration": 70,
    "start_time": "2022-11-09T11:18:17.578Z"
   },
   {
    "duration": 3,
    "start_time": "2022-11-09T11:24:21.382Z"
   },
   {
    "duration": 150,
    "start_time": "2022-11-09T11:24:24.920Z"
   },
   {
    "duration": 3,
    "start_time": "2022-11-09T11:24:36.319Z"
   },
   {
    "duration": 132,
    "start_time": "2022-11-09T11:24:38.429Z"
   },
   {
    "duration": 2,
    "start_time": "2022-11-09T11:25:29.181Z"
   },
   {
    "duration": 102,
    "start_time": "2022-11-09T11:25:30.797Z"
   },
   {
    "duration": 3,
    "start_time": "2022-11-09T11:25:53.620Z"
   },
   {
    "duration": 103,
    "start_time": "2022-11-09T11:25:55.584Z"
   },
   {
    "duration": 2,
    "start_time": "2022-11-09T12:23:16.994Z"
   },
   {
    "duration": 94,
    "start_time": "2022-11-09T12:23:17.579Z"
   },
   {
    "duration": 73,
    "start_time": "2022-11-09T12:24:03.029Z"
   },
   {
    "duration": 3,
    "start_time": "2022-11-09T12:24:07.613Z"
   },
   {
    "duration": 100,
    "start_time": "2022-11-09T12:24:09.761Z"
   },
   {
    "duration": 3,
    "start_time": "2022-11-09T12:24:32.159Z"
   },
   {
    "duration": 102,
    "start_time": "2022-11-09T12:24:33.519Z"
   },
   {
    "duration": 3,
    "start_time": "2022-11-09T12:24:58.578Z"
   },
   {
    "duration": 106,
    "start_time": "2022-11-09T12:25:00.207Z"
   },
   {
    "duration": 3,
    "start_time": "2022-11-09T12:25:09.277Z"
   },
   {
    "duration": 100,
    "start_time": "2022-11-09T12:25:11.335Z"
   },
   {
    "duration": 3,
    "start_time": "2022-11-09T12:25:54.085Z"
   },
   {
    "duration": 74,
    "start_time": "2022-11-09T12:25:55.516Z"
   },
   {
    "duration": 4,
    "start_time": "2022-11-09T12:26:34.958Z"
   },
   {
    "duration": 75,
    "start_time": "2022-11-09T12:26:37.070Z"
   },
   {
    "duration": 3,
    "start_time": "2022-11-09T12:29:33.300Z"
   },
   {
    "duration": 85,
    "start_time": "2022-11-09T12:29:33.439Z"
   },
   {
    "duration": 3,
    "start_time": "2022-11-09T12:31:40.189Z"
   },
   {
    "duration": 78,
    "start_time": "2022-11-09T12:31:40.505Z"
   },
   {
    "duration": 2,
    "start_time": "2022-11-09T12:41:20.003Z"
   },
   {
    "duration": 96,
    "start_time": "2022-11-09T12:41:21.774Z"
   },
   {
    "duration": 2,
    "start_time": "2022-11-09T12:42:42.986Z"
   },
   {
    "duration": 95,
    "start_time": "2022-11-09T12:42:43.411Z"
   },
   {
    "duration": 5,
    "start_time": "2022-11-09T12:42:54.845Z"
   },
   {
    "duration": 174,
    "start_time": "2022-11-09T12:42:55.136Z"
   },
   {
    "duration": 3,
    "start_time": "2022-11-09T12:43:01.895Z"
   },
   {
    "duration": 829,
    "start_time": "2022-11-09T12:43:02.348Z"
   },
   {
    "duration": 2,
    "start_time": "2022-11-09T12:43:40.682Z"
   },
   {
    "duration": 820,
    "start_time": "2022-11-09T12:43:41.174Z"
   },
   {
    "duration": 8,
    "start_time": "2022-11-09T17:39:12.856Z"
   },
   {
    "duration": 42,
    "start_time": "2022-11-09T17:39:13.194Z"
   },
   {
    "duration": 536,
    "start_time": "2022-11-09T17:39:16.189Z"
   },
   {
    "duration": 4,
    "start_time": "2022-11-09T17:39:16.727Z"
   },
   {
    "duration": 7670,
    "start_time": "2022-11-09T17:39:16.732Z"
   },
   {
    "duration": 2,
    "start_time": "2022-11-09T17:39:24.404Z"
   },
   {
    "duration": 6,
    "start_time": "2022-11-09T17:39:24.408Z"
   },
   {
    "duration": 68,
    "start_time": "2022-11-09T17:39:24.416Z"
   },
   {
    "duration": 3,
    "start_time": "2022-11-09T17:39:24.486Z"
   },
   {
    "duration": 38,
    "start_time": "2022-11-09T17:39:24.491Z"
   },
   {
    "duration": 3,
    "start_time": "2022-11-09T17:39:24.531Z"
   },
   {
    "duration": 54,
    "start_time": "2022-11-09T17:39:24.537Z"
   },
   {
    "duration": 2,
    "start_time": "2022-11-09T17:39:24.593Z"
   },
   {
    "duration": 36,
    "start_time": "2022-11-09T17:39:24.596Z"
   },
   {
    "duration": 2,
    "start_time": "2022-11-09T17:39:24.634Z"
   },
   {
    "duration": 19,
    "start_time": "2022-11-09T17:39:24.638Z"
   },
   {
    "duration": 2,
    "start_time": "2022-11-09T17:39:24.659Z"
   },
   {
    "duration": 17,
    "start_time": "2022-11-09T17:39:24.663Z"
   },
   {
    "duration": 3,
    "start_time": "2022-11-09T17:39:24.682Z"
   },
   {
    "duration": 29,
    "start_time": "2022-11-09T17:39:24.686Z"
   },
   {
    "duration": 3,
    "start_time": "2022-11-09T17:39:24.717Z"
   },
   {
    "duration": 15,
    "start_time": "2022-11-09T17:39:24.721Z"
   },
   {
    "duration": 3,
    "start_time": "2022-11-09T17:39:24.738Z"
   },
   {
    "duration": 20,
    "start_time": "2022-11-09T17:39:24.743Z"
   },
   {
    "duration": 3,
    "start_time": "2022-11-09T17:39:24.765Z"
   },
   {
    "duration": 5,
    "start_time": "2022-11-09T17:39:24.770Z"
   },
   {
    "duration": 15,
    "start_time": "2022-11-09T17:39:29.036Z"
   },
   {
    "duration": 2,
    "start_time": "2022-11-09T17:40:18.327Z"
   },
   {
    "duration": 14,
    "start_time": "2022-11-09T17:40:18.725Z"
   },
   {
    "duration": 4,
    "start_time": "2022-11-09T17:41:04.327Z"
   },
   {
    "duration": 14,
    "start_time": "2022-11-09T17:41:04.679Z"
   },
   {
    "duration": 2,
    "start_time": "2022-11-09T17:44:15.026Z"
   },
   {
    "duration": 13,
    "start_time": "2022-11-09T17:44:15.201Z"
   },
   {
    "duration": 3,
    "start_time": "2022-11-09T17:53:35.140Z"
   },
   {
    "duration": 20,
    "start_time": "2022-11-09T17:53:35.352Z"
   },
   {
    "duration": 3,
    "start_time": "2022-11-09T17:57:16.025Z"
   },
   {
    "duration": 14,
    "start_time": "2022-11-09T17:57:16.390Z"
   },
   {
    "duration": 3,
    "start_time": "2022-11-09T17:58:21.823Z"
   },
   {
    "duration": 14,
    "start_time": "2022-11-09T17:58:21.964Z"
   },
   {
    "duration": 2,
    "start_time": "2022-11-09T18:06:15.584Z"
   },
   {
    "duration": 11,
    "start_time": "2022-11-09T18:06:15.588Z"
   },
   {
    "duration": 9,
    "start_time": "2022-11-09T18:06:15.600Z"
   },
   {
    "duration": 6,
    "start_time": "2022-11-09T18:06:15.611Z"
   },
   {
    "duration": 10,
    "start_time": "2022-11-09T18:06:15.619Z"
   },
   {
    "duration": 55,
    "start_time": "2022-11-09T18:06:15.631Z"
   },
   {
    "duration": 2,
    "start_time": "2022-11-09T18:06:15.688Z"
   },
   {
    "duration": 27,
    "start_time": "2022-11-09T18:06:15.692Z"
   },
   {
    "duration": 3,
    "start_time": "2022-11-09T18:06:15.721Z"
   },
   {
    "duration": 35,
    "start_time": "2022-11-09T18:06:15.725Z"
   },
   {
    "duration": 2,
    "start_time": "2022-11-09T18:06:15.762Z"
   },
   {
    "duration": 36,
    "start_time": "2022-11-09T18:06:15.765Z"
   },
   {
    "duration": 3,
    "start_time": "2022-11-09T18:06:15.803Z"
   },
   {
    "duration": 16,
    "start_time": "2022-11-09T18:06:15.808Z"
   },
   {
    "duration": 3,
    "start_time": "2022-11-09T18:06:15.825Z"
   },
   {
    "duration": 12,
    "start_time": "2022-11-09T18:06:15.830Z"
   },
   {
    "duration": 3,
    "start_time": "2022-11-09T18:06:15.843Z"
   },
   {
    "duration": 25,
    "start_time": "2022-11-09T18:06:15.848Z"
   },
   {
    "duration": 3,
    "start_time": "2022-11-09T18:06:15.874Z"
   },
   {
    "duration": 26,
    "start_time": "2022-11-09T18:06:15.878Z"
   },
   {
    "duration": 2,
    "start_time": "2022-11-09T18:06:15.906Z"
   },
   {
    "duration": 25,
    "start_time": "2022-11-09T18:06:15.909Z"
   },
   {
    "duration": 2,
    "start_time": "2022-11-09T18:06:15.936Z"
   },
   {
    "duration": 19,
    "start_time": "2022-11-09T18:06:15.940Z"
   },
   {
    "duration": 439,
    "start_time": "2022-11-09T18:35:57.753Z"
   },
   {
    "duration": 5,
    "start_time": "2022-11-09T18:35:58.194Z"
   },
   {
    "duration": 7789,
    "start_time": "2022-11-09T18:35:58.200Z"
   },
   {
    "duration": 2,
    "start_time": "2022-11-09T18:36:05.991Z"
   },
   {
    "duration": 7,
    "start_time": "2022-11-09T18:36:05.995Z"
   },
   {
    "duration": 76,
    "start_time": "2022-11-09T18:36:06.003Z"
   },
   {
    "duration": 3,
    "start_time": "2022-11-09T18:36:06.080Z"
   },
   {
    "duration": 21,
    "start_time": "2022-11-09T18:36:06.084Z"
   },
   {
    "duration": 2,
    "start_time": "2022-11-09T18:36:06.107Z"
   },
   {
    "duration": 24,
    "start_time": "2022-11-09T18:36:06.111Z"
   },
   {
    "duration": 2,
    "start_time": "2022-11-09T18:36:06.137Z"
   },
   {
    "duration": 25,
    "start_time": "2022-11-09T18:36:06.140Z"
   },
   {
    "duration": 3,
    "start_time": "2022-11-09T18:36:06.166Z"
   },
   {
    "duration": 30,
    "start_time": "2022-11-09T18:36:06.170Z"
   },
   {
    "duration": 2,
    "start_time": "2022-11-09T18:36:06.202Z"
   },
   {
    "duration": 15,
    "start_time": "2022-11-09T18:36:06.206Z"
   },
   {
    "duration": 3,
    "start_time": "2022-11-09T18:36:06.223Z"
   },
   {
    "duration": 26,
    "start_time": "2022-11-09T18:36:06.227Z"
   },
   {
    "duration": 2,
    "start_time": "2022-11-09T18:36:06.254Z"
   },
   {
    "duration": 23,
    "start_time": "2022-11-09T18:36:06.257Z"
   },
   {
    "duration": 3,
    "start_time": "2022-11-09T18:36:06.281Z"
   },
   {
    "duration": 17,
    "start_time": "2022-11-09T18:36:06.285Z"
   },
   {
    "duration": 2,
    "start_time": "2022-11-09T18:36:06.303Z"
   },
   {
    "duration": 19,
    "start_time": "2022-11-09T18:36:06.307Z"
   }
  ],
  "kernelspec": {
   "display_name": "Python 3 (ipykernel)",
   "language": "python",
   "name": "python3"
  },
  "language_info": {
   "codemirror_mode": {
    "name": "ipython",
    "version": 3
   },
   "file_extension": ".py",
   "mimetype": "text/x-python",
   "name": "python",
   "nbconvert_exporter": "python",
   "pygments_lexer": "ipython3",
   "version": "3.9.5"
  },
  "toc": {
   "base_numbering": 1,
   "nav_menu": {},
   "number_sections": true,
   "sideBar": true,
   "skip_h1_title": true,
   "title_cell": "Table of Contents",
   "title_sidebar": "Contents",
   "toc_cell": false,
   "toc_position": {},
   "toc_section_display": true,
   "toc_window_display": false
  }
 },
 "nbformat": 4,
 "nbformat_minor": 2
}
