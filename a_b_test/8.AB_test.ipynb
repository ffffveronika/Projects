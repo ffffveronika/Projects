{
 "cells": [
  {
   "cell_type": "markdown",
   "metadata": {},
   "source": [
    "# Приоритизация гипотез и анализ A/B-теста"
   ]
  },
  {
   "cell_type": "markdown",
   "metadata": {},
   "source": [
    "**Описание исследования**\n",
    "\n",
    "Заказчик - крупный интернет-магазин. Необходимо приоритизировать гипотезы из списка, запустить A/B-тест и проанализировать результаты. Цель - увеличить выручку.\n",
    "\n",
    "**Цель исследования** - проверить выбранную гипотезу на увеличение выручки.\n",
    "\n",
    "**Описание данных**\n",
    "\n",
    "1) Данные для первой части - список из подготовленных гипотез:\n",
    "\n",
    "1. Hypothesis — краткое описание гипотезы;\n",
    "2. Reach — охват пользователей по 10-балльной шкале;\n",
    "3. Impact — влияние на пользователей по 10-балльной шкале;\n",
    "4. Confidence — уверенность в гипотезе по 10-балльной шкале;\n",
    "5. Efforts — затраты ресурсов на проверку гипотезы по 10-балльной шкале. Чем больше значение Efforts, тем дороже проверка гипотезы.\n",
    "\n",
    "2) Данные для второй части - таблицы, содержащие информацию об покупках и пользователях:\n",
    "\n",
    "Таблица orders:\n",
    "\n",
    "1. transactionId — идентификатор заказа\n",
    "2. visitorId — идентификатор пользователя, совершившего заказ\n",
    "3. date — дата, когда был совершён заказ\n",
    "4. revenue — выручка заказа\n",
    "5. group — группа A/B-теста, в которую попал заказ\n",
    "\n",
    "Таблица visitors:\n",
    "\n",
    "1. date — дата\n",
    "2. group — группа A/B-теста\n",
    "3. visitors — количество пользователей в указанную дату в указанной группе A/B-теста\n",
    "\n",
    "\n",
    "**Ход исследования**\n",
    " \n",
    "Перед тем, как непосредственно перейти к проверке гипотезы необходимо провести обзор данных, предобработку и приоритизацию гипотез.\n",
    " \n",
    "Таким образом, исследование пройдёт в четыре этапа:\n",
    " 1. Обзор данных.\n",
    " 2. Предобработка данных.\n",
    " 3. Приоритезация гипотез.\n",
    " 4. Анализ результатов теста."
   ]
  },
  {
   "cell_type": "markdown",
   "metadata": {},
   "source": [
    "## Обзор данных"
   ]
  },
  {
   "cell_type": "code",
   "execution_count": 1,
   "metadata": {},
   "outputs": [],
   "source": [
    "# Импортируем необходимые библиотеки\n",
    "import pandas as pd\n",
    "import numpy as np\n",
    "import matplotlib.pyplot as plt\n",
    "import seaborn as sns\n",
    "from scipy import stats as st\n",
    "import warnings\n",
    "warnings.filterwarnings('ignore')"
   ]
  },
  {
   "cell_type": "code",
   "execution_count": 2,
   "metadata": {},
   "outputs": [],
   "source": [
    "# Откроем датасеты\n",
    "hypothesis = pd.read_csv('/datasets/hypothesis.csv')\n",
    "orders = pd.read_csv('/datasets/orders.csv')\n",
    "visitors = pd.read_csv('/datasets/visitors.csv')"
   ]
  },
  {
   "cell_type": "code",
   "execution_count": 3,
   "metadata": {},
   "outputs": [
    {
     "name": "stdout",
     "output_type": "stream",
     "text": [
      "<class 'pandas.core.frame.DataFrame'>\n",
      "RangeIndex: 9 entries, 0 to 8\n",
      "Data columns (total 5 columns):\n",
      " #   Column      Non-Null Count  Dtype \n",
      "---  ------      --------------  ----- \n",
      " 0   Hypothesis  9 non-null      object\n",
      " 1   Reach       9 non-null      int64 \n",
      " 2   Impact      9 non-null      int64 \n",
      " 3   Confidence  9 non-null      int64 \n",
      " 4   Efforts     9 non-null      int64 \n",
      "dtypes: int64(4), object(1)\n",
      "memory usage: 488.0+ bytes\n"
     ]
    }
   ],
   "source": [
    "# Получим общую информацию о данных\n",
    "hypothesis.info()"
   ]
  },
  {
   "cell_type": "code",
   "execution_count": 4,
   "metadata": {},
   "outputs": [
    {
     "name": "stdout",
     "output_type": "stream",
     "text": [
      "<class 'pandas.core.frame.DataFrame'>\n",
      "RangeIndex: 1197 entries, 0 to 1196\n",
      "Data columns (total 5 columns):\n",
      " #   Column         Non-Null Count  Dtype \n",
      "---  ------         --------------  ----- \n",
      " 0   transactionId  1197 non-null   int64 \n",
      " 1   visitorId      1197 non-null   int64 \n",
      " 2   date           1197 non-null   object\n",
      " 3   revenue        1197 non-null   int64 \n",
      " 4   group          1197 non-null   object\n",
      "dtypes: int64(3), object(2)\n",
      "memory usage: 46.9+ KB\n"
     ]
    }
   ],
   "source": [
    "orders.info()"
   ]
  },
  {
   "cell_type": "code",
   "execution_count": 5,
   "metadata": {},
   "outputs": [
    {
     "name": "stdout",
     "output_type": "stream",
     "text": [
      "<class 'pandas.core.frame.DataFrame'>\n",
      "RangeIndex: 62 entries, 0 to 61\n",
      "Data columns (total 3 columns):\n",
      " #   Column    Non-Null Count  Dtype \n",
      "---  ------    --------------  ----- \n",
      " 0   date      62 non-null     object\n",
      " 1   group     62 non-null     object\n",
      " 2   visitors  62 non-null     int64 \n",
      "dtypes: int64(1), object(2)\n",
      "memory usage: 1.6+ KB\n"
     ]
    }
   ],
   "source": [
    "visitors.info()"
   ]
  },
  {
   "cell_type": "code",
   "execution_count": 6,
   "metadata": {},
   "outputs": [
    {
     "data": {
      "text/plain": [
       "0"
      ]
     },
     "execution_count": 6,
     "metadata": {},
     "output_type": "execute_result"
    }
   ],
   "source": [
    "# Проверим на наличие дубликатов\n",
    "hypothesis.duplicated().sum()"
   ]
  },
  {
   "cell_type": "code",
   "execution_count": 7,
   "metadata": {},
   "outputs": [
    {
     "data": {
      "text/plain": [
       "0"
      ]
     },
     "execution_count": 7,
     "metadata": {},
     "output_type": "execute_result"
    }
   ],
   "source": [
    "orders.duplicated().sum()"
   ]
  },
  {
   "cell_type": "code",
   "execution_count": 8,
   "metadata": {},
   "outputs": [
    {
     "data": {
      "text/plain": [
       "0"
      ]
     },
     "execution_count": 8,
     "metadata": {},
     "output_type": "execute_result"
    }
   ],
   "source": [
    "visitors.duplicated().sum()"
   ]
  },
  {
   "cell_type": "markdown",
   "metadata": {},
   "source": [
    "**Вывод:**\n",
    "- В трех таблицах нет пропущенных значений\n",
    "- В трех таблицах нет дубликатов\n",
    "- Необходимо изменить типы данных на datetime в visitors['date'], orders['date']\n",
    "- Необходимо привести названия колонок к одному виду\n",
    "- Возможно есть пользователи, попавшие в обе группы"
   ]
  },
  {
   "cell_type": "markdown",
   "metadata": {},
   "source": [
    "## Предобработка данных"
   ]
  },
  {
   "cell_type": "code",
   "execution_count": 9,
   "metadata": {},
   "outputs": [],
   "source": [
    "# Переведем названия в строчные буквы\n",
    "hypothesis.columns = hypothesis.columns.str.lower()\n",
    "orders.columns = orders.columns.str.lower()"
   ]
  },
  {
   "cell_type": "code",
   "execution_count": 10,
   "metadata": {},
   "outputs": [],
   "source": [
    "# Заменим пробелы на нижнее подчеркивание\n",
    "orders = orders.rename(columns={'transactionid':'transaction_id', 'visitorid':'visitor_id'})"
   ]
  },
  {
   "cell_type": "code",
   "execution_count": 11,
   "metadata": {},
   "outputs": [],
   "source": [
    "# Изменим тип данных на datetime в visitors['date'], orders['date']\n",
    "visitors['date'] = pd.to_datetime(visitors['date'])\n",
    "orders['date'] = pd.to_datetime(orders['date'])"
   ]
  },
  {
   "cell_type": "code",
   "execution_count": 12,
   "metadata": {},
   "outputs": [
    {
     "data": {
      "text/plain": [
       "0.04845446950710108"
      ]
     },
     "execution_count": 12,
     "metadata": {},
     "output_type": "execute_result"
    }
   ],
   "source": [
    "# Найдем пользователей, попавших в обе группы и посчитаем их долю\n",
    "duplicates = np.intersect1d(orders.query('group == \"A\"')['visitor_id'].unique(), orders.query('group == \"B\"')['visitor_id'].unique())\n",
    "sum((orders[['visitor_id', 'group']].drop_duplicates().groupby('visitor_id')['group'].count())>1)/len(orders)"
   ]
  },
  {
   "cell_type": "code",
   "execution_count": 13,
   "metadata": {},
   "outputs": [],
   "source": [
    "# Так как доля мала можно удалить их из датафрейма, чтобы не искажать результаты\n",
    "orders = orders[~orders['visitor_id'].isin(duplicates)]"
   ]
  },
  {
   "cell_type": "code",
   "execution_count": 14,
   "metadata": {},
   "outputs": [
    {
     "name": "stdout",
     "output_type": "stream",
     "text": [
      "<class 'pandas.core.frame.DataFrame'>\n",
      "RangeIndex: 9 entries, 0 to 8\n",
      "Data columns (total 5 columns):\n",
      " #   Column      Non-Null Count  Dtype \n",
      "---  ------      --------------  ----- \n",
      " 0   hypothesis  9 non-null      object\n",
      " 1   reach       9 non-null      int64 \n",
      " 2   impact      9 non-null      int64 \n",
      " 3   confidence  9 non-null      int64 \n",
      " 4   efforts     9 non-null      int64 \n",
      "dtypes: int64(4), object(1)\n",
      "memory usage: 488.0+ bytes\n"
     ]
    }
   ],
   "source": [
    "# Проверим\n",
    "hypothesis.info()"
   ]
  },
  {
   "cell_type": "code",
   "execution_count": 15,
   "metadata": {},
   "outputs": [
    {
     "name": "stdout",
     "output_type": "stream",
     "text": [
      "<class 'pandas.core.frame.DataFrame'>\n",
      "Int64Index: 1016 entries, 0 to 1196\n",
      "Data columns (total 5 columns):\n",
      " #   Column          Non-Null Count  Dtype         \n",
      "---  ------          --------------  -----         \n",
      " 0   transaction_id  1016 non-null   int64         \n",
      " 1   visitor_id      1016 non-null   int64         \n",
      " 2   date            1016 non-null   datetime64[ns]\n",
      " 3   revenue         1016 non-null   int64         \n",
      " 4   group           1016 non-null   object        \n",
      "dtypes: datetime64[ns](1), int64(3), object(1)\n",
      "memory usage: 47.6+ KB\n"
     ]
    }
   ],
   "source": [
    "orders.info()"
   ]
  },
  {
   "cell_type": "code",
   "execution_count": 16,
   "metadata": {},
   "outputs": [
    {
     "name": "stdout",
     "output_type": "stream",
     "text": [
      "<class 'pandas.core.frame.DataFrame'>\n",
      "RangeIndex: 62 entries, 0 to 61\n",
      "Data columns (total 3 columns):\n",
      " #   Column    Non-Null Count  Dtype         \n",
      "---  ------    --------------  -----         \n",
      " 0   date      62 non-null     datetime64[ns]\n",
      " 1   group     62 non-null     object        \n",
      " 2   visitors  62 non-null     int64         \n",
      "dtypes: datetime64[ns](1), int64(1), object(1)\n",
      "memory usage: 1.6+ KB\n"
     ]
    }
   ],
   "source": [
    "visitors.info()"
   ]
  },
  {
   "cell_type": "markdown",
   "metadata": {},
   "source": [
    "**Вывод:**\n",
    "- Данные были успешно приведены к одному виду\n",
    "- В колонках visitors['date'], orders['date'] тип данных был изменен на datetime\n",
    "- Были найдены и удалены пользователи, попавшие в обе группы"
   ]
  },
  {
   "cell_type": "markdown",
   "metadata": {},
   "source": [
    "## Приоритизация гипотез"
   ]
  },
  {
   "cell_type": "markdown",
   "metadata": {},
   "source": [
    "### Фреймворк ICE"
   ]
  },
  {
   "cell_type": "code",
   "execution_count": 17,
   "metadata": {},
   "outputs": [
    {
     "data": {
      "text/html": [
       "<div>\n",
       "<style scoped>\n",
       "    .dataframe tbody tr th:only-of-type {\n",
       "        vertical-align: middle;\n",
       "    }\n",
       "\n",
       "    .dataframe tbody tr th {\n",
       "        vertical-align: top;\n",
       "    }\n",
       "\n",
       "    .dataframe thead th {\n",
       "        text-align: right;\n",
       "    }\n",
       "</style>\n",
       "<table border=\"1\" class=\"dataframe\">\n",
       "  <thead>\n",
       "    <tr style=\"text-align: right;\">\n",
       "      <th></th>\n",
       "      <th>hypothesis</th>\n",
       "      <th>reach</th>\n",
       "      <th>impact</th>\n",
       "      <th>confidence</th>\n",
       "      <th>efforts</th>\n",
       "      <th>ice</th>\n",
       "    </tr>\n",
       "  </thead>\n",
       "  <tbody>\n",
       "    <tr>\n",
       "      <th>8</th>\n",
       "      <td>Запустить акцию, дающую скидку на товар в день рождения</td>\n",
       "      <td>1</td>\n",
       "      <td>9</td>\n",
       "      <td>9</td>\n",
       "      <td>5</td>\n",
       "      <td>16.200000</td>\n",
       "    </tr>\n",
       "    <tr>\n",
       "      <th>0</th>\n",
       "      <td>Добавить два новых канала привлечения трафика, что позволит привлекать на 30% больше пользователей</td>\n",
       "      <td>3</td>\n",
       "      <td>10</td>\n",
       "      <td>8</td>\n",
       "      <td>6</td>\n",
       "      <td>13.333333</td>\n",
       "    </tr>\n",
       "    <tr>\n",
       "      <th>7</th>\n",
       "      <td>Добавить форму подписки на все основные страницы, чтобы собрать базу клиентов для email-рассылок</td>\n",
       "      <td>10</td>\n",
       "      <td>7</td>\n",
       "      <td>8</td>\n",
       "      <td>5</td>\n",
       "      <td>11.200000</td>\n",
       "    </tr>\n",
       "    <tr>\n",
       "      <th>6</th>\n",
       "      <td>Показать на главной странице баннеры с актуальными акциями и распродажами, чтобы увеличить конверсию</td>\n",
       "      <td>5</td>\n",
       "      <td>3</td>\n",
       "      <td>8</td>\n",
       "      <td>3</td>\n",
       "      <td>8.000000</td>\n",
       "    </tr>\n",
       "    <tr>\n",
       "      <th>2</th>\n",
       "      <td>Добавить блоки рекомендаций товаров на сайт интернет магазина, чтобы повысить конверсию и средний чек заказа</td>\n",
       "      <td>8</td>\n",
       "      <td>3</td>\n",
       "      <td>7</td>\n",
       "      <td>3</td>\n",
       "      <td>7.000000</td>\n",
       "    </tr>\n",
       "    <tr>\n",
       "      <th>1</th>\n",
       "      <td>Запустить собственную службу доставки, что сократит срок доставки заказов</td>\n",
       "      <td>2</td>\n",
       "      <td>5</td>\n",
       "      <td>4</td>\n",
       "      <td>10</td>\n",
       "      <td>2.000000</td>\n",
       "    </tr>\n",
       "    <tr>\n",
       "      <th>5</th>\n",
       "      <td>Добавить страницу отзывов клиентов о магазине, что позволит увеличить количество заказов</td>\n",
       "      <td>3</td>\n",
       "      <td>2</td>\n",
       "      <td>2</td>\n",
       "      <td>3</td>\n",
       "      <td>1.333333</td>\n",
       "    </tr>\n",
       "    <tr>\n",
       "      <th>3</th>\n",
       "      <td>Изменить структура категорий, что увеличит конверсию, т.к. пользователи быстрее найдут нужный товар</td>\n",
       "      <td>8</td>\n",
       "      <td>3</td>\n",
       "      <td>3</td>\n",
       "      <td>8</td>\n",
       "      <td>1.125000</td>\n",
       "    </tr>\n",
       "    <tr>\n",
       "      <th>4</th>\n",
       "      <td>Изменить цвет фона главной страницы, чтобы увеличить вовлеченность пользователей</td>\n",
       "      <td>3</td>\n",
       "      <td>1</td>\n",
       "      <td>1</td>\n",
       "      <td>1</td>\n",
       "      <td>1.000000</td>\n",
       "    </tr>\n",
       "  </tbody>\n",
       "</table>\n",
       "</div>"
      ],
      "text/plain": [
       "                                                                                                     hypothesis  \\\n",
       "8                                                       Запустить акцию, дающую скидку на товар в день рождения   \n",
       "0            Добавить два новых канала привлечения трафика, что позволит привлекать на 30% больше пользователей   \n",
       "7              Добавить форму подписки на все основные страницы, чтобы собрать базу клиентов для email-рассылок   \n",
       "6          Показать на главной странице баннеры с актуальными акциями и распродажами, чтобы увеличить конверсию   \n",
       "2  Добавить блоки рекомендаций товаров на сайт интернет магазина, чтобы повысить конверсию и средний чек заказа   \n",
       "1                                     Запустить собственную службу доставки, что сократит срок доставки заказов   \n",
       "5                      Добавить страницу отзывов клиентов о магазине, что позволит увеличить количество заказов   \n",
       "3           Изменить структура категорий, что увеличит конверсию, т.к. пользователи быстрее найдут нужный товар   \n",
       "4                              Изменить цвет фона главной страницы, чтобы увеличить вовлеченность пользователей   \n",
       "\n",
       "   reach  impact  confidence  efforts        ice  \n",
       "8      1       9           9        5  16.200000  \n",
       "0      3      10           8        6  13.333333  \n",
       "7     10       7           8        5  11.200000  \n",
       "6      5       3           8        3   8.000000  \n",
       "2      8       3           7        3   7.000000  \n",
       "1      2       5           4       10   2.000000  \n",
       "5      3       2           2        3   1.333333  \n",
       "3      8       3           3        8   1.125000  \n",
       "4      3       1           1        1   1.000000  "
      ]
     },
     "execution_count": 17,
     "metadata": {},
     "output_type": "execute_result"
    }
   ],
   "source": [
    "# Применим фреймворк ICE к таблице hypothesis и отсортируем гипотезы их по убыванию приоритета\n",
    "# ICE SCORE = impact * confidence / efforts\n",
    "pd.options.display.max_colwidth=400\n",
    "hypothesis['ice'] = hypothesis['impact']*hypothesis['confidence']/hypothesis['efforts']\n",
    "hypothesis.sort_values(by='ice', ascending=False)"
   ]
  },
  {
   "cell_type": "markdown",
   "metadata": {},
   "source": [
    "### Фреймворк RICE"
   ]
  },
  {
   "cell_type": "code",
   "execution_count": 18,
   "metadata": {
    "scrolled": true
   },
   "outputs": [
    {
     "data": {
      "text/html": [
       "<div>\n",
       "<style scoped>\n",
       "    .dataframe tbody tr th:only-of-type {\n",
       "        vertical-align: middle;\n",
       "    }\n",
       "\n",
       "    .dataframe tbody tr th {\n",
       "        vertical-align: top;\n",
       "    }\n",
       "\n",
       "    .dataframe thead th {\n",
       "        text-align: right;\n",
       "    }\n",
       "</style>\n",
       "<table border=\"1\" class=\"dataframe\">\n",
       "  <thead>\n",
       "    <tr style=\"text-align: right;\">\n",
       "      <th></th>\n",
       "      <th>hypothesis</th>\n",
       "      <th>reach</th>\n",
       "      <th>impact</th>\n",
       "      <th>confidence</th>\n",
       "      <th>efforts</th>\n",
       "      <th>ice</th>\n",
       "      <th>rice</th>\n",
       "    </tr>\n",
       "  </thead>\n",
       "  <tbody>\n",
       "    <tr>\n",
       "      <th>7</th>\n",
       "      <td>Добавить форму подписки на все основные страницы, чтобы собрать базу клиентов для email-рассылок</td>\n",
       "      <td>10</td>\n",
       "      <td>7</td>\n",
       "      <td>8</td>\n",
       "      <td>5</td>\n",
       "      <td>11.200000</td>\n",
       "      <td>112.0</td>\n",
       "    </tr>\n",
       "    <tr>\n",
       "      <th>2</th>\n",
       "      <td>Добавить блоки рекомендаций товаров на сайт интернет магазина, чтобы повысить конверсию и средний чек заказа</td>\n",
       "      <td>8</td>\n",
       "      <td>3</td>\n",
       "      <td>7</td>\n",
       "      <td>3</td>\n",
       "      <td>7.000000</td>\n",
       "      <td>56.0</td>\n",
       "    </tr>\n",
       "    <tr>\n",
       "      <th>0</th>\n",
       "      <td>Добавить два новых канала привлечения трафика, что позволит привлекать на 30% больше пользователей</td>\n",
       "      <td>3</td>\n",
       "      <td>10</td>\n",
       "      <td>8</td>\n",
       "      <td>6</td>\n",
       "      <td>13.333333</td>\n",
       "      <td>40.0</td>\n",
       "    </tr>\n",
       "    <tr>\n",
       "      <th>6</th>\n",
       "      <td>Показать на главной странице баннеры с актуальными акциями и распродажами, чтобы увеличить конверсию</td>\n",
       "      <td>5</td>\n",
       "      <td>3</td>\n",
       "      <td>8</td>\n",
       "      <td>3</td>\n",
       "      <td>8.000000</td>\n",
       "      <td>40.0</td>\n",
       "    </tr>\n",
       "    <tr>\n",
       "      <th>8</th>\n",
       "      <td>Запустить акцию, дающую скидку на товар в день рождения</td>\n",
       "      <td>1</td>\n",
       "      <td>9</td>\n",
       "      <td>9</td>\n",
       "      <td>5</td>\n",
       "      <td>16.200000</td>\n",
       "      <td>16.2</td>\n",
       "    </tr>\n",
       "    <tr>\n",
       "      <th>3</th>\n",
       "      <td>Изменить структура категорий, что увеличит конверсию, т.к. пользователи быстрее найдут нужный товар</td>\n",
       "      <td>8</td>\n",
       "      <td>3</td>\n",
       "      <td>3</td>\n",
       "      <td>8</td>\n",
       "      <td>1.125000</td>\n",
       "      <td>9.0</td>\n",
       "    </tr>\n",
       "    <tr>\n",
       "      <th>1</th>\n",
       "      <td>Запустить собственную службу доставки, что сократит срок доставки заказов</td>\n",
       "      <td>2</td>\n",
       "      <td>5</td>\n",
       "      <td>4</td>\n",
       "      <td>10</td>\n",
       "      <td>2.000000</td>\n",
       "      <td>4.0</td>\n",
       "    </tr>\n",
       "    <tr>\n",
       "      <th>5</th>\n",
       "      <td>Добавить страницу отзывов клиентов о магазине, что позволит увеличить количество заказов</td>\n",
       "      <td>3</td>\n",
       "      <td>2</td>\n",
       "      <td>2</td>\n",
       "      <td>3</td>\n",
       "      <td>1.333333</td>\n",
       "      <td>4.0</td>\n",
       "    </tr>\n",
       "    <tr>\n",
       "      <th>4</th>\n",
       "      <td>Изменить цвет фона главной страницы, чтобы увеличить вовлеченность пользователей</td>\n",
       "      <td>3</td>\n",
       "      <td>1</td>\n",
       "      <td>1</td>\n",
       "      <td>1</td>\n",
       "      <td>1.000000</td>\n",
       "      <td>3.0</td>\n",
       "    </tr>\n",
       "  </tbody>\n",
       "</table>\n",
       "</div>"
      ],
      "text/plain": [
       "                                                                                                     hypothesis  \\\n",
       "7              Добавить форму подписки на все основные страницы, чтобы собрать базу клиентов для email-рассылок   \n",
       "2  Добавить блоки рекомендаций товаров на сайт интернет магазина, чтобы повысить конверсию и средний чек заказа   \n",
       "0            Добавить два новых канала привлечения трафика, что позволит привлекать на 30% больше пользователей   \n",
       "6          Показать на главной странице баннеры с актуальными акциями и распродажами, чтобы увеличить конверсию   \n",
       "8                                                       Запустить акцию, дающую скидку на товар в день рождения   \n",
       "3           Изменить структура категорий, что увеличит конверсию, т.к. пользователи быстрее найдут нужный товар   \n",
       "1                                     Запустить собственную службу доставки, что сократит срок доставки заказов   \n",
       "5                      Добавить страницу отзывов клиентов о магазине, что позволит увеличить количество заказов   \n",
       "4                              Изменить цвет фона главной страницы, чтобы увеличить вовлеченность пользователей   \n",
       "\n",
       "   reach  impact  confidence  efforts        ice   rice  \n",
       "7     10       7           8        5  11.200000  112.0  \n",
       "2      8       3           7        3   7.000000   56.0  \n",
       "0      3      10           8        6  13.333333   40.0  \n",
       "6      5       3           8        3   8.000000   40.0  \n",
       "8      1       9           9        5  16.200000   16.2  \n",
       "3      8       3           3        8   1.125000    9.0  \n",
       "1      2       5           4       10   2.000000    4.0  \n",
       "5      3       2           2        3   1.333333    4.0  \n",
       "4      3       1           1        1   1.000000    3.0  "
      ]
     },
     "execution_count": 18,
     "metadata": {},
     "output_type": "execute_result"
    }
   ],
   "source": [
    "# Применим фреймворк RICE к таблице hypothesis и отсортируем гипотезы их по убыванию приоритета\n",
    "# RICE SCORE = impact * confidence * reach / efforts\n",
    "pd.options.display.max_colwidth=400\n",
    "hypothesis['rice'] = hypothesis['impact']*hypothesis['confidence']*hypothesis['reach']/hypothesis['efforts']\n",
    "hypothesis.sort_values(by='rice', ascending=False)"
   ]
  },
  {
   "cell_type": "markdown",
   "metadata": {},
   "source": [
    "### Промежуточный вывод"
   ]
  },
  {
   "cell_type": "markdown",
   "metadata": {},
   "source": [
    "- Наиболее перспективные гипотезы по фреймворку ICE - 8, 0, 7\n",
    "- Наиболее перспективные гипотезы по фреймворку RICE = 7, 2, 0\n",
    "- Гипотезы 7 и 0 присутствуют в обоих топах. Гипотезы 7 и 2 появляется в топе RICE, так как обладает высоким показателем в параметре reach, то есть затрагивает много пользователей. 8 гипотезы напротив там нет, так как ее показатель reach = 1."
   ]
  },
  {
   "cell_type": "markdown",
   "metadata": {},
   "source": [
    "## Анализ результатов теста"
   ]
  },
  {
   "cell_type": "markdown",
   "metadata": {},
   "source": [
    "### Кумулятивная выручка по группам"
   ]
  },
  {
   "cell_type": "code",
   "execution_count": 19,
   "metadata": {},
   "outputs": [],
   "source": [
    "# Создадим массив уникальных пар значений дат и групп теста методом drop_duplicates()\n",
    "dates_groups = orders[['date','group']].drop_duplicates() "
   ]
  },
  {
   "cell_type": "code",
   "execution_count": 20,
   "metadata": {},
   "outputs": [],
   "source": [
    "# Соберём агрегированные кумулятивные по дням данные о заказах\n",
    "orders_aggregated = dates_groups.apply(lambda x: orders[np.logical_and(orders['date'] <= x['date'], orders['group'] == x['group'])]\\\n",
    ".agg({'date' : 'max', 'group' : 'max', 'transaction_id' : 'nunique', 'visitor_id' : 'nunique', 'revenue' : 'sum'}), axis=1).sort_values(by=['date','group'])"
   ]
  },
  {
   "cell_type": "code",
   "execution_count": 21,
   "metadata": {},
   "outputs": [],
   "source": [
    "# Получим агрегированные кумулятивные по дням данные о посетителях интернет-магазина\n",
    "visitors_aggregated = dates_groups.apply(lambda x: visitors[np.logical_and(visitors['date'] <= x['date'], visitors['group'] == x['group'])].agg({'date' : 'max', 'group' : 'max', 'visitors' : 'sum'}), axis=1).sort_values(by=['date','group'])"
   ]
  },
  {
   "cell_type": "code",
   "execution_count": 22,
   "metadata": {},
   "outputs": [],
   "source": [
    "# Объединим обе таблицы в одну с понятными названиями столбцов\n",
    "cumulative_data = orders_aggregated.merge(visitors_aggregated, left_on=['date', 'group'], right_on=['date', 'group'])\n",
    "cumulative_data.columns = ['date', 'group', 'orders', 'buyers', 'revenue', 'visitors']"
   ]
  },
  {
   "cell_type": "code",
   "execution_count": 23,
   "metadata": {},
   "outputs": [
    {
     "data": {
      "image/png": "[encoded data removed]",
      "text/plain": [
       "<Figure size 432x288 with 1 Axes>"
      ]
     },
     "metadata": {
      "needs_background": "light"
     },
     "output_type": "display_data"
    }
   ],
   "source": [
    "# Построим датафреймы с кумулятивной выручкой по дням в группе А и B\n",
    "cumulative_revenue_a = cumulative_data[cumulative_data['group']=='A'][['date','revenue', 'orders']]\n",
    "cumulative_revenue_b = cumulative_data[cumulative_data['group']=='B'][['date','revenue', 'orders']]\n",
    "\n",
    "# Построим графики кумулятивной выручки по дням и группам A/B-тестирования\n",
    "plt.plot(cumulative_revenue_a['date'], cumulative_revenue_a['revenue'], label='A')\n",
    "plt.plot(cumulative_revenue_b['date'], cumulative_revenue_b['revenue'], label='B')\n",
    "plt.legend()\n",
    "plt.title('Кумулятивная выручка по дням')\n",
    "plt.xlabel('Дата')\n",
    "plt.ylabel('Размер выручки')\n",
    "plt.xticks(rotation=45) \n",
    "plt.show()"
   ]
  },
  {
   "cell_type": "markdown",
   "metadata": {},
   "source": [
    "**Вывод:**\n",
    "\n",
    "Судя по графику, выручка группы Б стабильно выше выручки группы А. Под конец периода разница между выручками достаточно большая. Однако есть резкий скачок вверх, что может говорить о появлении очень дорогих заказах или об их всплеске."
   ]
  },
  {
   "cell_type": "markdown",
   "metadata": {},
   "source": [
    "### Кумулятивный средний чек по группам"
   ]
  },
  {
   "cell_type": "code",
   "execution_count": 24,
   "metadata": {},
   "outputs": [
    {
     "data": {
      "image/png": "[encoded data removed]",
      "text/plain": [
       "<Figure size 432x288 with 1 Axes>"
      ]
     },
     "metadata": {
      "needs_background": "light"
     },
     "output_type": "display_data"
    }
   ],
   "source": [
    "# Построим графики среднего чека по группам — разделим кумулятивную выручку на кумулятивное число заказов\n",
    "plt.plot(cumulative_revenue_a['date'], cumulative_revenue_a['revenue']/cumulative_revenue_a['orders'], label='A')\n",
    "plt.plot(cumulative_revenue_b['date'], cumulative_revenue_b['revenue']/cumulative_revenue_b['orders'], label='B')\n",
    "plt.legend()\n",
    "plt.title('Кумулятивный средний чек по группам')\n",
    "plt.xlabel('Дата')\n",
    "plt.ylabel('Размер среднего чека')\n",
    "plt.xticks(rotation=45) \n",
    "plt.show()"
   ]
  },
  {
   "cell_type": "markdown",
   "metadata": {},
   "source": [
    "**Вывод:**\n",
    "\n",
    "Средний чек группы А также выше среднего чека группы Б, под конец периода наблюдается спад у группы Б, и небольшой рост у группы А. Аналогично с графиком кумулятивной выручки у группы Б есть резкий скачок примерно в тот же временной промежуток. Вероятно, в этот период был очень дорогой заказ, который привел к увеличению выручки, которая в свою очередь увеличила средний чек."
   ]
  },
  {
   "cell_type": "markdown",
   "metadata": {},
   "source": [
    "### Относительное изменение кумулятивного среднего чека группы B к группе A"
   ]
  },
  {
   "cell_type": "code",
   "execution_count": 25,
   "metadata": {},
   "outputs": [
    {
     "data": {
      "image/png": "[encoded data removed]",
      "text/plain": [
       "<Figure size 432x288 with 1 Axes>"
      ]
     },
     "metadata": {
      "needs_background": "light"
     },
     "output_type": "display_data"
    }
   ],
   "source": [
    "# собираем данные в одном датафрейме\n",
    "merged_cumulative_revenue = cumulative_revenue_a.merge(cumulative_revenue_b, left_on='date', right_on='date', how='left', suffixes=['A', 'B'])\n",
    "\n",
    "# cтроим отношение средних чеков\n",
    "plt.plot(merged_cumulative_revenue['date'], (merged_cumulative_revenue['revenueB']/merged_cumulative_revenue['ordersB'])/(merged_cumulative_revenue['revenueA']/merged_cumulative_revenue['ordersA'])-1)\n",
    "\n",
    "# добавляем ось X\n",
    "plt.axhline(y=0, color='black', linestyle='--') \n",
    "\n",
    "plt.title('Относительное изменение кумулятивного среднего чека группы B к группе A')\n",
    "plt.xlabel('Дата')\n",
    "plt.ylabel('Относительное изменение')\n",
    "plt.xticks(rotation=45) \n",
    "plt.show()"
   ]
  },
  {
   "cell_type": "markdown",
   "metadata": {},
   "source": [
    "**Вывод:**\n",
    "\n",
    "Судя по графику можно сказать, что различия между средними чеками двух групп достаточно сильные. Ест резкие скачки как вверх, так и вниз примерно в тех же местах, что и на предыдущем графике."
   ]
  },
  {
   "cell_type": "markdown",
   "metadata": {},
   "source": [
    "### Кумулятивная конверсия по группам"
   ]
  },
  {
   "cell_type": "code",
   "execution_count": 26,
   "metadata": {},
   "outputs": [
    {
     "data": {
      "image/png": "[encoded data removed]",
      "text/plain": [
       "<Figure size 432x288 with 1 Axes>"
      ]
     },
     "metadata": {
      "needs_background": "light"
     },
     "output_type": "display_data"
    }
   ],
   "source": [
    "# считаем кумулятивную конверсию\n",
    "cumulative_data['conversion'] = cumulative_data['orders']/cumulative_data['visitors']\n",
    "\n",
    "# отделяем данные по группе A\n",
    "cumulative_data_a = cumulative_data[cumulative_data['group']=='A']\n",
    "\n",
    "# отделяем данные по группе B\n",
    "cumulative_data_b = cumulative_data[cumulative_data['group']=='B']\n",
    "\n",
    "# строим графики\n",
    "plt.plot(cumulative_data_a['date'], cumulative_data_a['conversion'], label='A')\n",
    "plt.plot(cumulative_data_b['date'], cumulative_data_b['conversion'], label='B')\n",
    "plt.legend()\n",
    "plt.title('Кумулятивная конверсия по группам')\n",
    "plt.xlabel('Дата')\n",
    "plt.ylabel('Размер конверсии')\n",
    "plt.xticks(rotation=45) \n",
    "plt.show() "
   ]
  },
  {
   "cell_type": "markdown",
   "metadata": {},
   "source": [
    "**Вывод:**\n",
    "\n",
    "В начале периода, у группы А касательно конверсии более высокие результаты, однако постепенно конверсия пользователей из группы Б увеличивается и становится значительно выше. Дальше идет спад, однако конверсии не достаточно стабилизировались под конец."
   ]
  },
  {
   "cell_type": "markdown",
   "metadata": {},
   "source": [
    "### Относительное изменение кумулятивной конверсии"
   ]
  },
  {
   "cell_type": "code",
   "execution_count": 27,
   "metadata": {},
   "outputs": [
    {
     "data": {
      "image/png": "[encoded data removed]",
      "text/plain": [
       "<Figure size 432x288 with 1 Axes>"
      ]
     },
     "metadata": {
      "needs_background": "light"
     },
     "output_type": "display_data"
    }
   ],
   "source": [
    "# Построим график относительного различия кумулятивных конверсий\n",
    "merged_cumulative_conversions = cumulative_data_a[['date','conversion']].merge(cumulative_data_b[['date','conversion']], left_on='date', right_on='date', how='left', suffixes=['A', 'B'])\n",
    "\n",
    "plt.plot(merged_cumulative_conversions['date'], merged_cumulative_conversions['conversionB']/merged_cumulative_conversions['conversionA']-1, label=\"Относительный прирост конверсии группы B относительно группы A\")\n",
    "plt.legend(loc='center left', bbox_to_anchor=(1, 0.5))\n",
    "\n",
    "plt.axhline(y=0, color='black', linestyle='--')\n",
    "plt.axhline(y=-0.032, color='grey', linestyle='--')\n",
    "plt.title('Относительное изменение изменение кумулятивной конверсии группы B к группе A')\n",
    "plt.xlabel('Дата')\n",
    "plt.ylabel('Относительное изменение')\n",
    "plt.xticks(rotation=45) \n",
    "plt.show()"
   ]
  },
  {
   "cell_type": "markdown",
   "metadata": {},
   "source": [
    "**Вывод:**\n",
    "\n",
    "На данном графике также видно увеличение конверсии в пользу группы Б, несмотря на то, что в начале периода есть спад. "
   ]
  },
  {
   "cell_type": "markdown",
   "metadata": {},
   "source": [
    "### Промежуточные выводы"
   ]
  },
  {
   "cell_type": "markdown",
   "metadata": {},
   "source": [
    "- И кумулятивная выручка, и средний чек, и конверсия показывают более высокие результаты у группы Б.\n",
    "- Тем не менее, в отличие от выручки другие показатели дают менее стабильные результаты: под конец периода есть спад, а потом небольшой подъем. Это может говорить о том, что в данных появились очень дорогие заказы, а затем сменились стандартными, однако спад не такой резкий как подьем.\n",
    "- Также об успешности теста лучше судить, исходя из гипотезы, необходимо знать на что направлен тест, на увеличение выручки благодаря привлечению новых пользователей или благодаря активизации старых."
   ]
  },
  {
   "cell_type": "markdown",
   "metadata": {},
   "source": [
    "### Количество заказов по пользователям, 95-й, 99-й перцентили"
   ]
  },
  {
   "cell_type": "code",
   "execution_count": 28,
   "metadata": {},
   "outputs": [
    {
     "data": {
      "text/html": [
       "<div>\n",
       "<style scoped>\n",
       "    .dataframe tbody tr th:only-of-type {\n",
       "        vertical-align: middle;\n",
       "    }\n",
       "\n",
       "    .dataframe tbody tr th {\n",
       "        vertical-align: top;\n",
       "    }\n",
       "\n",
       "    .dataframe thead th {\n",
       "        text-align: right;\n",
       "    }\n",
       "</style>\n",
       "<table border=\"1\" class=\"dataframe\">\n",
       "  <thead>\n",
       "    <tr style=\"text-align: right;\">\n",
       "      <th></th>\n",
       "      <th>user_id</th>\n",
       "      <th>orders</th>\n",
       "    </tr>\n",
       "  </thead>\n",
       "  <tbody>\n",
       "    <tr>\n",
       "      <th>908</th>\n",
       "      <td>3967698036</td>\n",
       "      <td>3</td>\n",
       "    </tr>\n",
       "    <tr>\n",
       "      <th>55</th>\n",
       "      <td>249864742</td>\n",
       "      <td>3</td>\n",
       "    </tr>\n",
       "    <tr>\n",
       "      <th>478</th>\n",
       "      <td>2108163459</td>\n",
       "      <td>3</td>\n",
       "    </tr>\n",
       "    <tr>\n",
       "      <th>687</th>\n",
       "      <td>2988190573</td>\n",
       "      <td>3</td>\n",
       "    </tr>\n",
       "    <tr>\n",
       "      <th>890</th>\n",
       "      <td>3908431265</td>\n",
       "      <td>3</td>\n",
       "    </tr>\n",
       "    <tr>\n",
       "      <th>...</th>\n",
       "      <td>...</td>\n",
       "      <td>...</td>\n",
       "    </tr>\n",
       "    <tr>\n",
       "      <th>331</th>\n",
       "      <td>1438226485</td>\n",
       "      <td>1</td>\n",
       "    </tr>\n",
       "    <tr>\n",
       "      <th>332</th>\n",
       "      <td>1452540367</td>\n",
       "      <td>1</td>\n",
       "    </tr>\n",
       "    <tr>\n",
       "      <th>333</th>\n",
       "      <td>1455323168</td>\n",
       "      <td>1</td>\n",
       "    </tr>\n",
       "    <tr>\n",
       "      <th>334</th>\n",
       "      <td>1455861274</td>\n",
       "      <td>1</td>\n",
       "    </tr>\n",
       "    <tr>\n",
       "      <th>972</th>\n",
       "      <td>4283872382</td>\n",
       "      <td>1</td>\n",
       "    </tr>\n",
       "  </tbody>\n",
       "</table>\n",
       "<p>973 rows × 2 columns</p>\n",
       "</div>"
      ],
      "text/plain": [
       "        user_id  orders\n",
       "908  3967698036       3\n",
       "55    249864742       3\n",
       "478  2108163459       3\n",
       "687  2988190573       3\n",
       "890  3908431265       3\n",
       "..          ...     ...\n",
       "331  1438226485       1\n",
       "332  1452540367       1\n",
       "333  1455323168       1\n",
       "334  1455861274       1\n",
       "972  4283872382       1\n",
       "\n",
       "[973 rows x 2 columns]"
      ]
     },
     "execution_count": 28,
     "metadata": {},
     "output_type": "execute_result"
    }
   ],
   "source": [
    "# Посчитаем кол-во заказов на пользователя\n",
    "orders_by_users = (orders.groupby('visitor_id', as_index=False).agg({'transaction_id': 'nunique'}))\n",
    "orders_by_users.columns = ['user_id', 'orders']\n",
    "orders_by_users.sort_values(by='orders', ascending=False)"
   ]
  },
  {
   "cell_type": "code",
   "execution_count": 29,
   "metadata": {},
   "outputs": [
    {
     "data": {
      "image/png": "[encoded data removed]",
      "text/plain": [
       "<Figure size 432x288 with 1 Axes>"
      ]
     },
     "metadata": {
      "needs_background": "light"
     },
     "output_type": "display_data"
    }
   ],
   "source": [
    "# Построим график\n",
    "x_value = pd.Series(range(0,len(orders_by_users)))\n",
    "plt.scatter(x_value, orders_by_users['orders'])\n",
    "plt.title('Распределение количества заказов по пользователям')\n",
    "plt.ylabel('Количество заказов')\n",
    "plt.xticks(rotation=45) \n",
    "plt.show()"
   ]
  },
  {
   "cell_type": "code",
   "execution_count": 30,
   "metadata": {},
   "outputs": [
    {
     "data": {
      "text/plain": [
       "array([1., 2.])"
      ]
     },
     "execution_count": 30,
     "metadata": {},
     "output_type": "execute_result"
    }
   ],
   "source": [
    "# Посчитеам 95-й и 99-й перцентили количества заказов на пользователя\n",
    "np.percentile(orders_by_users['orders'], [95, 99])"
   ]
  },
  {
   "cell_type": "markdown",
   "metadata": {},
   "source": [
    "**Вывод:** \n",
    "- Судя по таблице и по графику, есть пользователи и с 9, и с 11 заказами, что сильно отличается от остальной картины\n",
    "- Судя по перцентилям, 95 процентов клиентов ограничиваются одним заказом, и лишь 1 процент заказывают больше двуъ\n",
    "- Так как, по графику заметно, что пользователи все же часто совершают два заказа, стоит это учитывать и ограничить данные двумя заказами."
   ]
  },
  {
   "cell_type": "markdown",
   "metadata": {},
   "source": [
    "### Стоимости заказов, 95-й, 99-й перцентили"
   ]
  },
  {
   "cell_type": "code",
   "execution_count": 31,
   "metadata": {},
   "outputs": [
    {
     "data": {
      "text/html": [
       "<div>\n",
       "<style scoped>\n",
       "    .dataframe tbody tr th:only-of-type {\n",
       "        vertical-align: middle;\n",
       "    }\n",
       "\n",
       "    .dataframe tbody tr th {\n",
       "        vertical-align: top;\n",
       "    }\n",
       "\n",
       "    .dataframe thead th {\n",
       "        text-align: right;\n",
       "    }\n",
       "</style>\n",
       "<table border=\"1\" class=\"dataframe\">\n",
       "  <thead>\n",
       "    <tr style=\"text-align: right;\">\n",
       "      <th></th>\n",
       "      <th>transaction_id</th>\n",
       "      <th>visitor_id</th>\n",
       "      <th>date</th>\n",
       "      <th>revenue</th>\n",
       "      <th>group</th>\n",
       "    </tr>\n",
       "  </thead>\n",
       "  <tbody>\n",
       "    <tr>\n",
       "      <th>425</th>\n",
       "      <td>590470918</td>\n",
       "      <td>1920142716</td>\n",
       "      <td>2019-08-19</td>\n",
       "      <td>1294500</td>\n",
       "      <td>B</td>\n",
       "    </tr>\n",
       "    <tr>\n",
       "      <th>1196</th>\n",
       "      <td>3936777065</td>\n",
       "      <td>2108080724</td>\n",
       "      <td>2019-08-15</td>\n",
       "      <td>202740</td>\n",
       "      <td>B</td>\n",
       "    </tr>\n",
       "    <tr>\n",
       "      <th>1136</th>\n",
       "      <td>666610489</td>\n",
       "      <td>1307669133</td>\n",
       "      <td>2019-08-13</td>\n",
       "      <td>92550</td>\n",
       "      <td>A</td>\n",
       "    </tr>\n",
       "    <tr>\n",
       "      <th>744</th>\n",
       "      <td>3668308183</td>\n",
       "      <td>888512513</td>\n",
       "      <td>2019-08-27</td>\n",
       "      <td>86620</td>\n",
       "      <td>B</td>\n",
       "    </tr>\n",
       "    <tr>\n",
       "      <th>743</th>\n",
       "      <td>3603576309</td>\n",
       "      <td>4133034833</td>\n",
       "      <td>2019-08-09</td>\n",
       "      <td>67990</td>\n",
       "      <td>A</td>\n",
       "    </tr>\n",
       "    <tr>\n",
       "      <th>...</th>\n",
       "      <td>...</td>\n",
       "      <td>...</td>\n",
       "      <td>...</td>\n",
       "      <td>...</td>\n",
       "      <td>...</td>\n",
       "    </tr>\n",
       "    <tr>\n",
       "      <th>404</th>\n",
       "      <td>2052514069</td>\n",
       "      <td>1995481842</td>\n",
       "      <td>2019-08-28</td>\n",
       "      <td>70</td>\n",
       "      <td>B</td>\n",
       "    </tr>\n",
       "    <tr>\n",
       "      <th>933</th>\n",
       "      <td>3760662696</td>\n",
       "      <td>3577713868</td>\n",
       "      <td>2019-08-27</td>\n",
       "      <td>60</td>\n",
       "      <td>B</td>\n",
       "    </tr>\n",
       "    <tr>\n",
       "      <th>584</th>\n",
       "      <td>1126146019</td>\n",
       "      <td>2705308997</td>\n",
       "      <td>2019-08-20</td>\n",
       "      <td>50</td>\n",
       "      <td>A</td>\n",
       "    </tr>\n",
       "    <tr>\n",
       "      <th>756</th>\n",
       "      <td>125335873</td>\n",
       "      <td>3423937755</td>\n",
       "      <td>2019-08-30</td>\n",
       "      <td>50</td>\n",
       "      <td>B</td>\n",
       "    </tr>\n",
       "    <tr>\n",
       "      <th>459</th>\n",
       "      <td>863448794</td>\n",
       "      <td>2738601405</td>\n",
       "      <td>2019-08-19</td>\n",
       "      <td>50</td>\n",
       "      <td>B</td>\n",
       "    </tr>\n",
       "  </tbody>\n",
       "</table>\n",
       "<p>1016 rows × 5 columns</p>\n",
       "</div>"
      ],
      "text/plain": [
       "      transaction_id  visitor_id       date  revenue group\n",
       "425        590470918  1920142716 2019-08-19  1294500     B\n",
       "1196      3936777065  2108080724 2019-08-15   202740     B\n",
       "1136       666610489  1307669133 2019-08-13    92550     A\n",
       "744       3668308183   888512513 2019-08-27    86620     B\n",
       "743       3603576309  4133034833 2019-08-09    67990     A\n",
       "...              ...         ...        ...      ...   ...\n",
       "404       2052514069  1995481842 2019-08-28       70     B\n",
       "933       3760662696  3577713868 2019-08-27       60     B\n",
       "584       1126146019  2705308997 2019-08-20       50     A\n",
       "756        125335873  3423937755 2019-08-30       50     B\n",
       "459        863448794  2738601405 2019-08-19       50     B\n",
       "\n",
       "[1016 rows x 5 columns]"
      ]
     },
     "execution_count": 31,
     "metadata": {},
     "output_type": "execute_result"
    }
   ],
   "source": [
    "# Изучим максимальные значения выручки\n",
    "orders.sort_values(by='revenue', ascending=False)"
   ]
  },
  {
   "cell_type": "code",
   "execution_count": 32,
   "metadata": {},
   "outputs": [
    {
     "data": {
      "image/png": "[encoded data removed]",
      "text/plain": [
       "<Figure size 432x288 with 1 Axes>"
      ]
     },
     "metadata": {
      "needs_background": "light"
     },
     "output_type": "display_data"
    }
   ],
   "source": [
    "# Построим точечный график\n",
    "x_value = pd.Series(range(0,len(orders['revenue'])))\n",
    "plt.scatter(x_value, orders['revenue'])\n",
    "plt.title('Распределение стоимости заказов по пользователям')\n",
    "plt.ylabel('Стоимость заказов')\n",
    "plt.xticks(rotation=45) \n",
    "plt.show()"
   ]
  },
  {
   "cell_type": "code",
   "execution_count": 33,
   "metadata": {},
   "outputs": [
    {
     "data": {
      "text/plain": [
       "array([26785., 53904.])"
      ]
     },
     "execution_count": 33,
     "metadata": {},
     "output_type": "execute_result"
    }
   ],
   "source": [
    "# Посчитаем 95-й и 99-й перцентили стоимости заказов\n",
    "np.percentile(orders['revenue'], [95, 99])"
   ]
  },
  {
   "cell_type": "markdown",
   "metadata": {},
   "source": [
    "**Вывод:** \n",
    "- Судя по таблице и по графику, есть пользователи, совершившие покупку на двести тысяч и даже миллион, что будет существенно искажать результаты. В основном, выручка колеблется от самых низких значений до 50000.\n",
    "- Судя по перцентилям, 95 процентов клиентов покупают на сумму 26 тысяч, и лишь 1 процент превышают сумму в 53 тысячи.\n",
    "- Так как, это данные крупного магазина и по графику заметно, что большинство значений однородно расположились в районе 50р-50000, имеет смысл ограничить данные выручкой в 40000 рублей."
   ]
  },
  {
   "cell_type": "markdown",
   "metadata": {},
   "source": [
    "### Статистическая значимость различий в конверсии между группами по «сырым» данным"
   ]
  },
  {
   "cell_type": "code",
   "execution_count": 34,
   "metadata": {},
   "outputs": [],
   "source": [
    "# Нулевая гипотеза - различий в конверсии между группами нет.\n",
    "# Альтернативная гипотеза - различия в конверсии между группами есть.\n",
    "# alpha = 0.05\n",
    "# Так как вероятнее всего распределение данных по заказам не является нормальным, а также обе выборки - независимы, то есть состоят из разынх людей, больше всего для проверки различий подойдет U-критерий Манна-Уитни"
   ]
  },
  {
   "cell_type": "code",
   "execution_count": 35,
   "metadata": {},
   "outputs": [],
   "source": [
    "# Создадим нужный массив для группы А\n",
    "# Нашли кол-во заказов на платящего пользователя\n",
    "orders_by_users_a = (\n",
    "    orders[orders['group'] == 'A']\n",
    "    .groupby('visitor_id', as_index=False)\n",
    "    .agg({'transaction_id': pd.Series.nunique}))\n",
    "orders_by_users_a.columns = ['user_id', 'orders']\n",
    "\n",
    "visitors_a = visitors.query('group == \"A\"')\n",
    "# Добавили массив из 0 соответственно кол-ву неплатящих пользователей\n",
    "sample_a = pd.concat([orders_by_users_a['orders'], pd.Series(0, index=np.arange(visitors_a['visitors'].sum() - len(orders_by_users_a['orders'])),name='orders',),],axis=0)"
   ]
  },
  {
   "cell_type": "code",
   "execution_count": 36,
   "metadata": {},
   "outputs": [],
   "source": [
    "# Создадим нужный массив для группы В\n",
    "# Нашли кол-во заказов на платящего пользователя\n",
    "orders_by_users_b = (\n",
    "    orders[orders['group'] == 'B']\n",
    "    .groupby('visitor_id', as_index=False)\n",
    "    .agg({'transaction_id': pd.Series.nunique}))\n",
    "orders_by_users_b.columns = ['user_id', 'orders']\n",
    "\n",
    "visitors_b = visitors.query('group == \"B\"')\n",
    "# Добавили массив из 0 соответственно кол-ву неплатящих пользователей\n",
    "sample_b = pd.concat([orders_by_users_b['orders'], pd.Series(0, index=np.arange(visitors_b['visitors'].sum() - len(orders_by_users_b['orders'])),name='orders',),],axis=0)"
   ]
  },
  {
   "cell_type": "code",
   "execution_count": 37,
   "metadata": {},
   "outputs": [
    {
     "data": {
      "text/plain": [
       "'0.011'"
      ]
     },
     "execution_count": 37,
     "metadata": {},
     "output_type": "execute_result"
    }
   ],
   "source": [
    "# Найдем p-value с помощью метода mannwhitneyu\n",
    "\"{0:.3f}\".format(st.mannwhitneyu(sample_a, sample_b)[1])"
   ]
  },
  {
   "cell_type": "code",
   "execution_count": 38,
   "metadata": {},
   "outputs": [
    {
     "data": {
      "text/plain": [
       "'0.160'"
      ]
     },
     "execution_count": 38,
     "metadata": {},
     "output_type": "execute_result"
    }
   ],
   "source": [
    "# Найдём относительные различия в конверсии между группами\n",
    "\"{0:.3f}\".format(sample_b.mean()/sample_a.mean()-1)"
   ]
  },
  {
   "cell_type": "markdown",
   "metadata": {},
   "source": [
    "**Вывод:** \n",
    "- p-value меньше значения alpha, следовательно отвергаем нулевую гипотезу: мы не можем утверждать, что между конверсиями двух групп нет различий.\n",
    "- Это может говорить о том, что различия между конверсиями группы Б и группы А в пользу первой (выше на 16%) статистически значимы, в таком случае тест можно останавливать."
   ]
  },
  {
   "cell_type": "markdown",
   "metadata": {},
   "source": [
    "### Статистическая значимость различий в среднем чеке заказа между группами по «сырым» данным"
   ]
  },
  {
   "cell_type": "code",
   "execution_count": 39,
   "metadata": {},
   "outputs": [],
   "source": [
    "# Нулевая гипотеза - различий в среднем чеке между группами нет. \n",
    "# Альтернативная гипотеза - различия в среднем чеке между группами есть."
   ]
  },
  {
   "cell_type": "code",
   "execution_count": 40,
   "metadata": {},
   "outputs": [
    {
     "data": {
      "text/plain": [
       "'0.829'"
      ]
     },
     "execution_count": 40,
     "metadata": {},
     "output_type": "execute_result"
    }
   ],
   "source": [
    "# Найдем p-value различий в выручке с помощью метода mannwhitneyu по срезам групп\n",
    "'{0:.3f}'.format(st.mannwhitneyu(orders[orders['group']=='A']['revenue'], orders[orders['group']=='B']['revenue'])[1])"
   ]
  },
  {
   "cell_type": "code",
   "execution_count": 41,
   "metadata": {},
   "outputs": [
    {
     "data": {
      "text/plain": [
       "'0.287'"
      ]
     },
     "execution_count": 41,
     "metadata": {},
     "output_type": "execute_result"
    }
   ],
   "source": [
    "# Найдём относительные различия в среднем чеке между группами\n",
    "'{0:.3f}'.format(orders[orders['group']=='B']['revenue'].mean()/orders[orders['group']=='A']['revenue'].mean()-1)"
   ]
  },
  {
   "cell_type": "markdown",
   "metadata": {},
   "source": [
    "**Вывод:** \n",
    "- p-value больше значения alpha, следовательно мы не можем отвергнуть нулевую гипотезу, следовательно мы не можем утверждать, что между средними чеками групп есть статистически значимые различия. \n",
    "- Также средний чек группы Б выше среднего чека группы А на 28,7%, однако эта разница статистически не значима."
   ]
  },
  {
   "cell_type": "markdown",
   "metadata": {},
   "source": [
    "### Статистическая значимость различий в конверсии между группами по «очищенным» данным"
   ]
  },
  {
   "cell_type": "code",
   "execution_count": 42,
   "metadata": {},
   "outputs": [],
   "source": [
    "# Нулевая гипотеза - различий в конверсии между группами нет.\n",
    "# Альтернативная гипотеза - различия в конверсии между группами есть.\n",
    "# alpha = 0.05"
   ]
  },
  {
   "cell_type": "code",
   "execution_count": 43,
   "metadata": {},
   "outputs": [],
   "source": [
    "# Отчистим данные от экстремальных значений кол-ва заказов группы А. \n",
    "# Чтобы не было дополнительных нулей вычтем из массива посетителей сайта также кол-во пользователей, не вошедших в срез\n",
    "orders_by_users_a_clean = orders_by_users_a.query('orders < 2') \n",
    "sample_a_clean = pd.concat([orders_by_users_a_clean['orders'], pd.Series(0, index=np.arange(visitors_a['visitors'].sum() - sum(sample_a>3) - len(orders_by_users_a_clean['orders'])),name='orders',),],axis=0)"
   ]
  },
  {
   "cell_type": "code",
   "execution_count": 44,
   "metadata": {},
   "outputs": [],
   "source": [
    "# Отчистим данные от экстремальных значений кол-ва заказов группы В. \n",
    "# Чтобы не было дополнительных нулей вычтем из массива посетителей сайта также кол-во пользователей, не вошедших в срез\n",
    "orders_by_users_b_clean = orders_by_users_b.query('orders < 2') \n",
    "sample_b_clean = pd.concat([orders_by_users_b_clean['orders'], pd.Series(0, index=np.arange(visitors_b['visitors'].sum() - sum(sample_b>3) - len(orders_by_users_b_clean['orders'])),name='orders',),],axis=0)"
   ]
  },
  {
   "cell_type": "code",
   "execution_count": 45,
   "metadata": {},
   "outputs": [
    {
     "data": {
      "text/plain": [
       "'0.009'"
      ]
     },
     "execution_count": 45,
     "metadata": {},
     "output_type": "execute_result"
    }
   ],
   "source": [
    "# Найдем p-value для отчищенных данных\n",
    "'{0:.3f}'.format(st.mannwhitneyu(sample_a_clean, sample_b_clean)[1])"
   ]
  },
  {
   "cell_type": "code",
   "execution_count": 46,
   "metadata": {},
   "outputs": [
    {
     "data": {
      "text/plain": [
       "'0.183'"
      ]
     },
     "execution_count": 46,
     "metadata": {},
     "output_type": "execute_result"
    }
   ],
   "source": [
    "# Найдём относительные различия в конверсии между группами\n",
    "\"{0:.3f}\".format(sample_b_clean.mean()/sample_a_clean.mean()-1)"
   ]
  },
  {
   "cell_type": "markdown",
   "metadata": {},
   "source": [
    "**Вывод:** \n",
    "- p-value меньше alpha, следовательно отвергаем нулевую гипотезу, как и в случае с сырыми данными: мы не может утверждать, что между конверсиями двух групп нет различий. \n",
    "- Разница конверсий выросла с 16% до 18,3%\n",
    "- Соответственно можно сделать вывод, что более высокие показатели группы Б статистически значимы."
   ]
  },
  {
   "cell_type": "markdown",
   "metadata": {},
   "source": [
    "### Статистическая значимость различий в среднем чеке заказа между группами по «очищенным» данным."
   ]
  },
  {
   "cell_type": "code",
   "execution_count": 47,
   "metadata": {},
   "outputs": [],
   "source": [
    "# Нулевая гипотеза - различий в среднем чеке между группами нет. \n",
    "# Альтернативная гипотеза - различия в среднем чеке между группами есть.\n",
    "# alpha = 0.05"
   ]
  },
  {
   "cell_type": "code",
   "execution_count": 48,
   "metadata": {},
   "outputs": [
    {
     "data": {
      "text/plain": [
       "7        1044\n",
       "8       13710\n",
       "10       4008\n",
       "12       7370\n",
       "14      10980\n",
       "        ...  \n",
       "1185      730\n",
       "1187      750\n",
       "1188      112\n",
       "1193     3190\n",
       "1194    10550\n",
       "Name: revenue, Length: 459, dtype: int64"
      ]
     },
     "execution_count": 48,
     "metadata": {},
     "output_type": "execute_result"
    }
   ],
   "source": [
    "orders.query('group==\"A\" & revenue < 50000')['revenue']"
   ]
  },
  {
   "cell_type": "code",
   "execution_count": 49,
   "metadata": {},
   "outputs": [
    {
     "data": {
      "text/plain": [
       "'0.873'"
      ]
     },
     "execution_count": 49,
     "metadata": {},
     "output_type": "execute_result"
    }
   ],
   "source": [
    "# Найдем p-value различий в выручке с помощью метода mannwhitneyu по срезам групп\n",
    "'{0:.3f}'.format(st.mannwhitneyu(orders.query('group==\"A\" & revenue < 40000')['revenue'], orders.query('group==\"B\" & revenue < 40000')['revenue'])[1])"
   ]
  },
  {
   "cell_type": "code",
   "execution_count": 50,
   "metadata": {},
   "outputs": [
    {
     "data": {
      "text/plain": [
       "'0.045'"
      ]
     },
     "execution_count": 50,
     "metadata": {},
     "output_type": "execute_result"
    }
   ],
   "source": [
    "# Найдём относительные различия в среднем чеке между группами\n",
    "'{0:.3f}'.format(orders.query('group==\"B\" & revenue < 40000')['revenue'].mean()/orders.query('group==\"A\" & revenue < 40000')['revenue'].mean()-1)"
   ]
  },
  {
   "cell_type": "markdown",
   "metadata": {},
   "source": [
    "**Вывод:** \n",
    "- p-value по-прежнему больше alpha = 0.05, хоть и имеет меньшую значимость, нежели сырые данные, следовательно мы не можем отвергнуть нулевую гипотезу, следовательно мы не можем утверждать о том, что между средними чеками групп есть статистически значимые различия\n",
    "- Также различия между средними чеками групп после удаления экстримальных значений сократились с 28,7% до 4,5% и по-прежнему не являются статистически незначимыми."
   ]
  },
  {
   "cell_type": "markdown",
   "metadata": {},
   "source": [
    "### Промежуточные выводы"
   ]
  },
  {
   "cell_type": "markdown",
   "metadata": {},
   "source": [
    "Таким образом, мы имеем следующие факты\n",
    "- Есть статистически значимое различие в конверсиях между группами в пользу группы Б и по «сырым», и по данным после фильтрации аномалий\n",
    "- Нет статистически значимого различия по среднему чеку между группами ни по «сырым», ни по данным после фильтрации аномалий\n",
    "- График различия конверсии между группами сообщает, что результаты группы B лучше группы A.\n",
    "\n",
    "Учитывая, что тест длился месяц, можно принять решение о том, чтобы его остановить и зафиксировать победу группы Б."
   ]
  },
  {
   "cell_type": "markdown",
   "metadata": {},
   "source": [
    "## Общий вывод"
   ]
  },
  {
   "cell_type": "markdown",
   "metadata": {},
   "source": [
    "Таким образом, исследование было выполнено в четыре этапа:\n",
    "\n",
    "1. **Обзор данных.** На этом этапе был распакован датасет, изучен на предмет пропусков и аномалий.\n",
    "2. **Предобработка данных.** На данном этапе данные были приведены к одному типу, типы данных были изменены на нужные.\n",
    "3. **Приоритизация гипотез.** На этом этапе были применены фреймворки ICE и RICE.\n",
    "4. **Анализ результатов теста**. На этом этапе были посчитаны и визуализированы основные показатели успешности теста: кумулятивная выручка, кумулятивный средний чек, относительные изменения этих показателей. Также была посчитана статистическая значимость результатов теста на сырых и отфильтрованных данных. Сделаны основные выводы.\n",
    "\n",
    "**Приоритизация гипотез: выводы**\n",
    "- Наиболее перспективные гипотезы по фреймворку ICE - 8, 0, 7\n",
    "- Наиболее перспективные гипотезы по фреймворку RICE = 7, 2, 0\n",
    "- Гипотезы 7 и 0 присутствуют в обоих топах. Гипотезы 7 и 2 появляется в топе RICE, так как обладает высоким показателем в параметре reach, то есть затрагивает много пользователей. 8 гипотезы напротив там нет, так как ее показатель reach = 1.\n",
    "\n",
    "**Анализ результатов теста: выводы**\n",
    "- И кумулятивная выручка, и средний чек, и конверсия показывают более высокие результаты у группы Б.\n",
    "- Тем не менее, в отличие от выручки другие показатели дают менее стабильные результаты: под конец периода есть спад, а потом небольшой подъем. Это может говорить о том, что в данных появились очень дорогие заказы.\n",
    "- Есть статистически значимое различие в конверсиях между группами в пользу группы Б и по «сырым», и по данным после фильтрации аномалий\n",
    "- Нет статистически значимого различия по среднему чеку между группами ни по «сырым», ни по данным после фильтрации аномалий\n",
    "- График различия конверсии между группами сообщает, что результаты группы B лучше группы A\n",
    "\n",
    "Учитывая, что тест длился месяц, можно принять решение о том, чтобы его остановить и зафиксировать победу группы Б."
   ]
  }
 ],
 "metadata": {
  "ExecuteTimeLog": [
   {
    "duration": 1264,
    "start_time": "2022-07-07T12:13:23.403Z"
   },
   {
    "duration": 36,
    "start_time": "2022-07-07T12:14:23.224Z"
   },
   {
    "duration": 47,
    "start_time": "2022-07-07T12:15:21.902Z"
   },
   {
    "duration": 11,
    "start_time": "2022-07-07T12:15:45.704Z"
   },
   {
    "duration": 10,
    "start_time": "2022-07-07T12:16:00.862Z"
   },
   {
    "duration": 74,
    "start_time": "2022-07-07T12:16:13.839Z"
   },
   {
    "duration": 12,
    "start_time": "2022-07-07T12:16:15.751Z"
   },
   {
    "duration": 13,
    "start_time": "2022-07-07T12:16:53.842Z"
   },
   {
    "duration": 12,
    "start_time": "2022-07-07T12:17:16.345Z"
   },
   {
    "duration": 6,
    "start_time": "2022-07-07T12:17:54.361Z"
   },
   {
    "duration": 6,
    "start_time": "2022-07-07T12:18:01.284Z"
   },
   {
    "duration": 5,
    "start_time": "2022-07-07T12:18:08.460Z"
   },
   {
    "duration": 106,
    "start_time": "2022-07-07T12:25:01.850Z"
   },
   {
    "duration": 3,
    "start_time": "2022-07-07T12:25:12.973Z"
   },
   {
    "duration": 4,
    "start_time": "2022-07-07T12:27:55.892Z"
   },
   {
    "duration": 6,
    "start_time": "2022-07-07T12:30:45.072Z"
   },
   {
    "duration": 11,
    "start_time": "2022-07-07T12:31:18.144Z"
   },
   {
    "duration": 11,
    "start_time": "2022-07-07T12:31:30.144Z"
   },
   {
    "duration": 10,
    "start_time": "2022-07-07T12:31:45.504Z"
   },
   {
    "duration": 10,
    "start_time": "2022-07-07T12:40:20.923Z"
   },
   {
    "duration": 2,
    "start_time": "2022-07-07T12:41:31.626Z"
   },
   {
    "duration": 15,
    "start_time": "2022-07-07T12:43:42.605Z"
   },
   {
    "duration": 14,
    "start_time": "2022-07-07T12:45:30.521Z"
   },
   {
    "duration": 4,
    "start_time": "2022-07-07T13:03:09.064Z"
   },
   {
    "duration": 18,
    "start_time": "2022-07-07T13:03:30.134Z"
   },
   {
    "duration": 14,
    "start_time": "2022-07-07T13:04:09.144Z"
   },
   {
    "duration": 3,
    "start_time": "2022-07-07T13:04:29.745Z"
   },
   {
    "duration": 13,
    "start_time": "2022-07-07T13:04:30.393Z"
   },
   {
    "duration": 12,
    "start_time": "2022-07-07T13:13:57.085Z"
   },
   {
    "duration": 12,
    "start_time": "2022-07-07T13:26:47.266Z"
   },
   {
    "duration": 13,
    "start_time": "2022-07-07T13:28:07.748Z"
   },
   {
    "duration": 4,
    "start_time": "2022-07-07T13:33:29.050Z"
   },
   {
    "duration": 6,
    "start_time": "2022-07-07T13:33:32.206Z"
   },
   {
    "duration": 4,
    "start_time": "2022-07-07T13:37:29.187Z"
   },
   {
    "duration": 7,
    "start_time": "2022-07-07T13:37:44.558Z"
   },
   {
    "duration": 3,
    "start_time": "2022-07-07T13:37:58.587Z"
   },
   {
    "duration": 7,
    "start_time": "2022-07-07T13:38:05.880Z"
   },
   {
    "duration": 6,
    "start_time": "2022-07-07T13:43:56.798Z"
   },
   {
    "duration": 6,
    "start_time": "2022-07-07T13:49:32.014Z"
   },
   {
    "duration": 13,
    "start_time": "2022-07-07T13:49:41.895Z"
   },
   {
    "duration": 6,
    "start_time": "2022-07-07T13:49:43.376Z"
   },
   {
    "duration": 13,
    "start_time": "2022-07-07T13:50:21.460Z"
   },
   {
    "duration": 6,
    "start_time": "2022-07-07T13:51:03.648Z"
   },
   {
    "duration": 12,
    "start_time": "2022-07-07T13:51:45.850Z"
   },
   {
    "duration": 14,
    "start_time": "2022-07-07T13:52:37.198Z"
   },
   {
    "duration": 13,
    "start_time": "2022-07-07T13:52:46.268Z"
   },
   {
    "duration": 14,
    "start_time": "2022-07-07T13:52:58.067Z"
   },
   {
    "duration": 14,
    "start_time": "2022-07-07T13:53:11.077Z"
   },
   {
    "duration": 18,
    "start_time": "2022-07-07T13:53:16.208Z"
   },
   {
    "duration": 14,
    "start_time": "2022-07-07T14:01:38.754Z"
   },
   {
    "duration": 13,
    "start_time": "2022-07-07T14:01:52.388Z"
   },
   {
    "duration": 17,
    "start_time": "2022-07-07T14:02:06.409Z"
   },
   {
    "duration": 16,
    "start_time": "2022-07-07T14:02:23.769Z"
   },
   {
    "duration": 14,
    "start_time": "2022-07-07T14:14:59.961Z"
   },
   {
    "duration": 6,
    "start_time": "2022-07-07T14:17:27.478Z"
   },
   {
    "duration": 13,
    "start_time": "2022-07-07T14:17:30.456Z"
   },
   {
    "duration": 33,
    "start_time": "2022-07-07T14:18:03.957Z"
   },
   {
    "duration": 33,
    "start_time": "2022-07-07T14:19:08.250Z"
   },
   {
    "duration": 156,
    "start_time": "2022-07-07T14:19:21.487Z"
   },
   {
    "duration": 174,
    "start_time": "2022-07-07T14:19:33.517Z"
   },
   {
    "duration": 49,
    "start_time": "2022-07-07T14:20:15.977Z"
   },
   {
    "duration": 13,
    "start_time": "2022-07-07T14:20:18.651Z"
   },
   {
    "duration": 13,
    "start_time": "2022-07-07T14:21:14.850Z"
   },
   {
    "duration": 127,
    "start_time": "2022-07-07T14:31:18.548Z"
   },
   {
    "duration": 130,
    "start_time": "2022-07-07T14:31:28.351Z"
   },
   {
    "duration": 17,
    "start_time": "2022-07-07T14:34:15.777Z"
   },
   {
    "duration": 8,
    "start_time": "2022-07-07T14:38:07.960Z"
   },
   {
    "duration": 157,
    "start_time": "2022-07-07T14:38:29.979Z"
   },
   {
    "duration": 132,
    "start_time": "2022-07-07T14:38:50.359Z"
   },
   {
    "duration": 7,
    "start_time": "2022-07-07T14:39:12.351Z"
   },
   {
    "duration": 10,
    "start_time": "2022-07-07T14:41:53.800Z"
   },
   {
    "duration": 252,
    "start_time": "2022-07-07T14:42:05.120Z"
   },
   {
    "duration": 214,
    "start_time": "2022-07-07T14:42:48.565Z"
   },
   {
    "duration": 191,
    "start_time": "2022-07-07T14:43:04.222Z"
   },
   {
    "duration": 165,
    "start_time": "2022-07-07T14:43:32.822Z"
   },
   {
    "duration": 172,
    "start_time": "2022-07-07T14:44:00.091Z"
   },
   {
    "duration": 185,
    "start_time": "2022-07-07T14:44:25.954Z"
   },
   {
    "duration": 167,
    "start_time": "2022-07-07T14:47:09.581Z"
   },
   {
    "duration": 281,
    "start_time": "2022-07-07T14:48:24.671Z"
   },
   {
    "duration": 179,
    "start_time": "2022-07-07T14:48:31.141Z"
   },
   {
    "duration": 207,
    "start_time": "2022-07-07T14:48:53.261Z"
   },
   {
    "duration": 26,
    "start_time": "2022-07-07T14:53:47.754Z"
   },
   {
    "duration": 312,
    "start_time": "2022-07-07T14:54:10.501Z"
   },
   {
    "duration": 181,
    "start_time": "2022-07-07T14:55:56.249Z"
   },
   {
    "duration": 164,
    "start_time": "2022-07-07T14:55:58.177Z"
   },
   {
    "duration": 284,
    "start_time": "2022-07-07T14:56:00.202Z"
   },
   {
    "duration": 9,
    "start_time": "2022-07-07T14:58:04.920Z"
   },
   {
    "duration": 196,
    "start_time": "2022-07-07T14:58:17.802Z"
   },
   {
    "duration": 12,
    "start_time": "2022-07-07T15:01:43.576Z"
   },
   {
    "duration": 298,
    "start_time": "2022-07-07T15:02:01.923Z"
   },
   {
    "duration": 292,
    "start_time": "2022-07-07T15:02:33.923Z"
   },
   {
    "duration": 296,
    "start_time": "2022-07-07T15:02:43.131Z"
   },
   {
    "duration": 324,
    "start_time": "2022-07-07T15:02:50.454Z"
   },
   {
    "duration": 417,
    "start_time": "2022-07-07T15:03:09.244Z"
   },
   {
    "duration": 23,
    "start_time": "2022-07-07T15:04:45.653Z"
   },
   {
    "duration": 9,
    "start_time": "2022-07-07T15:06:46.705Z"
   },
   {
    "duration": 11,
    "start_time": "2022-07-07T15:06:58.876Z"
   },
   {
    "duration": 106,
    "start_time": "2022-07-07T15:07:29.283Z"
   },
   {
    "duration": 6,
    "start_time": "2022-07-07T15:09:43.574Z"
   },
   {
    "duration": 846,
    "start_time": "2022-07-07T15:12:39.626Z"
   },
   {
    "duration": 10,
    "start_time": "2022-07-07T15:12:49.525Z"
   },
   {
    "duration": 10,
    "start_time": "2022-07-07T15:13:35.115Z"
   },
   {
    "duration": 112,
    "start_time": "2022-07-07T15:14:09.534Z"
   },
   {
    "duration": 14,
    "start_time": "2022-07-07T15:14:21.494Z"
   },
   {
    "duration": 123,
    "start_time": "2022-07-07T15:16:01.415Z"
   },
   {
    "duration": 52,
    "start_time": "2022-07-09T14:17:53.744Z"
   },
   {
    "duration": 1349,
    "start_time": "2022-07-09T14:17:58.902Z"
   },
   {
    "duration": 115,
    "start_time": "2022-07-09T14:18:00.253Z"
   },
   {
    "duration": 12,
    "start_time": "2022-07-09T14:18:00.370Z"
   },
   {
    "duration": 23,
    "start_time": "2022-07-09T14:18:00.384Z"
   },
   {
    "duration": 19,
    "start_time": "2022-07-09T14:18:00.409Z"
   },
   {
    "duration": 17,
    "start_time": "2022-07-09T14:18:00.430Z"
   },
   {
    "duration": 15,
    "start_time": "2022-07-09T14:18:00.449Z"
   },
   {
    "duration": 17,
    "start_time": "2022-07-09T14:18:00.466Z"
   },
   {
    "duration": 7,
    "start_time": "2022-07-09T14:18:00.484Z"
   },
   {
    "duration": 13,
    "start_time": "2022-07-09T14:18:00.494Z"
   },
   {
    "duration": 27,
    "start_time": "2022-07-09T14:18:00.509Z"
   },
   {
    "duration": 30,
    "start_time": "2022-07-09T14:18:00.537Z"
   },
   {
    "duration": 36,
    "start_time": "2022-07-09T14:18:00.569Z"
   },
   {
    "duration": 14,
    "start_time": "2022-07-09T14:18:00.607Z"
   },
   {
    "duration": 29,
    "start_time": "2022-07-09T14:18:00.623Z"
   },
   {
    "duration": 13,
    "start_time": "2022-07-09T14:18:00.654Z"
   },
   {
    "duration": 25,
    "start_time": "2022-07-09T14:18:00.669Z"
   },
   {
    "duration": 173,
    "start_time": "2022-07-09T14:18:00.696Z"
   },
   {
    "duration": 130,
    "start_time": "2022-07-09T14:18:00.872Z"
   },
   {
    "duration": 7,
    "start_time": "2022-07-09T14:18:01.004Z"
   },
   {
    "duration": 279,
    "start_time": "2022-07-09T14:18:01.012Z"
   },
   {
    "duration": 183,
    "start_time": "2022-07-09T14:18:01.293Z"
   },
   {
    "duration": 373,
    "start_time": "2022-07-09T14:18:01.479Z"
   },
   {
    "duration": 205,
    "start_time": "2022-07-09T14:18:01.853Z"
   },
   {
    "duration": 324,
    "start_time": "2022-07-09T14:18:02.060Z"
   },
   {
    "duration": 199,
    "start_time": "2022-07-09T14:18:02.386Z"
   },
   {
    "duration": 123,
    "start_time": "2022-07-09T14:18:17.843Z"
   },
   {
    "duration": 59,
    "start_time": "2022-07-09T14:18:56.403Z"
   },
   {
    "duration": 8,
    "start_time": "2022-07-09T14:19:01.044Z"
   },
   {
    "duration": 274,
    "start_time": "2022-07-09T14:22:48.743Z"
   },
   {
    "duration": 7,
    "start_time": "2022-07-09T14:23:14.947Z"
   },
   {
    "duration": 11,
    "start_time": "2022-07-09T14:23:57.713Z"
   },
   {
    "duration": 20,
    "start_time": "2022-07-09T14:24:18.504Z"
   },
   {
    "duration": 19,
    "start_time": "2022-07-09T14:24:32.093Z"
   },
   {
    "duration": 10,
    "start_time": "2022-07-09T14:24:43.775Z"
   },
   {
    "duration": 130,
    "start_time": "2022-07-09T14:24:54.625Z"
   },
   {
    "duration": 13,
    "start_time": "2022-07-09T14:31:14.165Z"
   },
   {
    "duration": 19,
    "start_time": "2022-07-09T14:32:00.245Z"
   },
   {
    "duration": 13,
    "start_time": "2022-07-09T14:32:11.582Z"
   },
   {
    "duration": 12,
    "start_time": "2022-07-09T14:33:41.197Z"
   },
   {
    "duration": 157,
    "start_time": "2022-07-09T14:33:55.466Z"
   },
   {
    "duration": 4,
    "start_time": "2022-07-09T14:35:34.378Z"
   },
   {
    "duration": 138,
    "start_time": "2022-07-09T14:35:37.837Z"
   },
   {
    "duration": 112,
    "start_time": "2022-07-09T14:35:46.027Z"
   },
   {
    "duration": 5,
    "start_time": "2022-07-09T14:38:13.099Z"
   },
   {
    "duration": 18,
    "start_time": "2022-07-09T14:40:50.435Z"
   },
   {
    "duration": 13,
    "start_time": "2022-07-09T14:41:23.778Z"
   },
   {
    "duration": 4,
    "start_time": "2022-07-09T14:43:35.900Z"
   },
   {
    "duration": 129,
    "start_time": "2022-07-09T14:43:40.208Z"
   },
   {
    "duration": 5,
    "start_time": "2022-07-09T14:46:09.998Z"
   },
   {
    "duration": 20,
    "start_time": "2022-07-09T15:10:49.055Z"
   },
   {
    "duration": 9,
    "start_time": "2022-07-09T15:11:51.862Z"
   },
   {
    "duration": 10,
    "start_time": "2022-07-09T15:12:26.901Z"
   },
   {
    "duration": 13,
    "start_time": "2022-07-09T15:12:49.189Z"
   },
   {
    "duration": 10,
    "start_time": "2022-07-09T15:14:12.609Z"
   },
   {
    "duration": 4,
    "start_time": "2022-07-09T15:16:54.151Z"
   },
   {
    "duration": 11,
    "start_time": "2022-07-09T15:18:24.562Z"
   },
   {
    "duration": 12,
    "start_time": "2022-07-09T15:20:25.132Z"
   },
   {
    "duration": 70,
    "start_time": "2022-07-09T15:20:54.465Z"
   },
   {
    "duration": 7,
    "start_time": "2022-07-09T15:21:32.700Z"
   },
   {
    "duration": 87,
    "start_time": "2022-07-09T15:26:47.413Z"
   },
   {
    "duration": 73,
    "start_time": "2022-07-09T15:27:03.073Z"
   },
   {
    "duration": 81,
    "start_time": "2022-07-09T15:29:27.860Z"
   },
   {
    "duration": 1068,
    "start_time": "2022-07-09T15:31:14.966Z"
   },
   {
    "duration": 75,
    "start_time": "2022-07-09T15:31:59.586Z"
   },
   {
    "duration": 81,
    "start_time": "2022-07-09T15:32:06.988Z"
   },
   {
    "duration": 3,
    "start_time": "2022-07-09T15:32:19.047Z"
   },
   {
    "duration": 10,
    "start_time": "2022-07-09T15:33:19.340Z"
   },
   {
    "duration": 9,
    "start_time": "2022-07-09T15:33:53.727Z"
   },
   {
    "duration": 24,
    "start_time": "2022-07-09T15:34:01.297Z"
   },
   {
    "duration": 9,
    "start_time": "2022-07-09T15:35:26.176Z"
   },
   {
    "duration": 25,
    "start_time": "2022-07-09T15:35:30.836Z"
   },
   {
    "duration": 3,
    "start_time": "2022-07-09T15:51:16.698Z"
   },
   {
    "duration": 55,
    "start_time": "2022-07-09T15:51:16.703Z"
   },
   {
    "duration": 11,
    "start_time": "2022-07-09T15:51:16.759Z"
   },
   {
    "duration": 15,
    "start_time": "2022-07-09T15:51:16.772Z"
   },
   {
    "duration": 11,
    "start_time": "2022-07-09T15:51:16.863Z"
   },
   {
    "duration": 13,
    "start_time": "2022-07-09T15:51:16.876Z"
   },
   {
    "duration": 13,
    "start_time": "2022-07-09T15:51:16.891Z"
   },
   {
    "duration": 14,
    "start_time": "2022-07-09T15:51:16.905Z"
   },
   {
    "duration": 6,
    "start_time": "2022-07-09T15:51:16.921Z"
   },
   {
    "duration": 11,
    "start_time": "2022-07-09T15:51:16.929Z"
   },
   {
    "duration": 13,
    "start_time": "2022-07-09T15:51:16.942Z"
   },
   {
    "duration": 15,
    "start_time": "2022-07-09T15:51:16.957Z"
   },
   {
    "duration": 13,
    "start_time": "2022-07-09T15:51:16.974Z"
   },
   {
    "duration": 11,
    "start_time": "2022-07-09T15:51:16.989Z"
   },
   {
    "duration": 14,
    "start_time": "2022-07-09T15:51:17.002Z"
   },
   {
    "duration": 28,
    "start_time": "2022-07-09T15:51:17.019Z"
   },
   {
    "duration": 8,
    "start_time": "2022-07-09T15:51:17.049Z"
   },
   {
    "duration": 186,
    "start_time": "2022-07-09T15:51:17.060Z"
   },
   {
    "duration": 121,
    "start_time": "2022-07-09T15:51:20.875Z"
   },
   {
    "duration": 8,
    "start_time": "2022-07-09T15:51:20.998Z"
   },
   {
    "duration": 216,
    "start_time": "2022-07-09T15:51:21.008Z"
   },
   {
    "duration": 201,
    "start_time": "2022-07-09T15:51:21.226Z"
   },
   {
    "duration": 307,
    "start_time": "2022-07-09T15:51:21.429Z"
   },
   {
    "duration": 232,
    "start_time": "2022-07-09T15:51:21.738Z"
   },
   {
    "duration": 338,
    "start_time": "2022-07-09T15:51:32.020Z"
   },
   {
    "duration": 12,
    "start_time": "2022-07-09T15:51:32.360Z"
   },
   {
    "duration": 119,
    "start_time": "2022-07-09T15:51:32.374Z"
   },
   {
    "duration": 5,
    "start_time": "2022-07-09T15:51:32.495Z"
   },
   {
    "duration": 19,
    "start_time": "2022-07-09T15:51:32.502Z"
   },
   {
    "duration": 143,
    "start_time": "2022-07-09T15:51:32.523Z"
   },
   {
    "duration": 6,
    "start_time": "2022-07-09T15:51:32.668Z"
   },
   {
    "duration": 5,
    "start_time": "2022-07-09T15:51:32.676Z"
   },
   {
    "duration": 110,
    "start_time": "2022-07-09T15:51:32.683Z"
   },
   {
    "duration": 98,
    "start_time": "2022-07-09T15:51:32.794Z"
   },
   {
    "duration": 47,
    "start_time": "2022-07-09T15:51:38.992Z"
   },
   {
    "duration": 23,
    "start_time": "2022-07-09T15:51:54.151Z"
   },
   {
    "duration": 22,
    "start_time": "2022-07-09T15:52:30.549Z"
   },
   {
    "duration": 48,
    "start_time": "2022-07-09T15:56:09.248Z"
   },
   {
    "duration": 50,
    "start_time": "2022-07-09T15:56:16.689Z"
   },
   {
    "duration": 91,
    "start_time": "2022-07-09T15:56:30.966Z"
   },
   {
    "duration": 52,
    "start_time": "2022-07-09T15:57:10.753Z"
   },
   {
    "duration": 44,
    "start_time": "2022-07-09T15:57:39.156Z"
   },
   {
    "duration": 23,
    "start_time": "2022-07-09T15:57:45.357Z"
   },
   {
    "duration": 9,
    "start_time": "2022-07-09T15:57:50.653Z"
   },
   {
    "duration": 9,
    "start_time": "2022-07-09T15:59:29.862Z"
   },
   {
    "duration": 7,
    "start_time": "2022-07-09T16:00:12.892Z"
   },
   {
    "duration": 4,
    "start_time": "2022-07-10T10:29:22.296Z"
   },
   {
    "duration": 1288,
    "start_time": "2022-07-10T10:29:54.585Z"
   },
   {
    "duration": 117,
    "start_time": "2022-07-10T10:29:55.876Z"
   },
   {
    "duration": 11,
    "start_time": "2022-07-10T10:29:55.995Z"
   },
   {
    "duration": 12,
    "start_time": "2022-07-10T10:29:56.007Z"
   },
   {
    "duration": 17,
    "start_time": "2022-07-10T10:29:56.020Z"
   },
   {
    "duration": 8,
    "start_time": "2022-07-10T10:29:56.038Z"
   },
   {
    "duration": 7,
    "start_time": "2022-07-10T10:29:56.047Z"
   },
   {
    "duration": 8,
    "start_time": "2022-07-10T10:29:56.055Z"
   },
   {
    "duration": 14,
    "start_time": "2022-07-10T10:29:56.065Z"
   },
   {
    "duration": 6,
    "start_time": "2022-07-10T10:29:56.081Z"
   },
   {
    "duration": 8,
    "start_time": "2022-07-10T10:29:56.088Z"
   },
   {
    "duration": 10,
    "start_time": "2022-07-10T10:29:56.097Z"
   },
   {
    "duration": 14,
    "start_time": "2022-07-10T10:29:56.108Z"
   },
   {
    "duration": 8,
    "start_time": "2022-07-10T10:29:56.124Z"
   },
   {
    "duration": 16,
    "start_time": "2022-07-10T10:29:56.133Z"
   },
   {
    "duration": 18,
    "start_time": "2022-07-10T10:29:56.161Z"
   },
   {
    "duration": 12,
    "start_time": "2022-07-10T10:29:56.180Z"
   },
   {
    "duration": 247,
    "start_time": "2022-07-10T10:29:56.194Z"
   },
   {
    "duration": 171,
    "start_time": "2022-07-10T10:29:56.443Z"
   },
   {
    "duration": 8,
    "start_time": "2022-07-10T10:29:56.617Z"
   },
   {
    "duration": 293,
    "start_time": "2022-07-10T10:29:56.626Z"
   },
   {
    "duration": 210,
    "start_time": "2022-07-10T10:29:56.921Z"
   },
   {
    "duration": 325,
    "start_time": "2022-07-10T10:29:57.133Z"
   },
   {
    "duration": 198,
    "start_time": "2022-07-10T10:29:57.460Z"
   },
   {
    "duration": 331,
    "start_time": "2022-07-10T10:29:57.661Z"
   },
   {
    "duration": 11,
    "start_time": "2022-07-10T10:29:57.994Z"
   },
   {
    "duration": 119,
    "start_time": "2022-07-10T10:29:58.007Z"
   },
   {
    "duration": 4,
    "start_time": "2022-07-10T10:29:58.130Z"
   },
   {
    "duration": 25,
    "start_time": "2022-07-10T10:29:58.136Z"
   },
   {
    "duration": 135,
    "start_time": "2022-07-10T10:29:58.163Z"
   },
   {
    "duration": 5,
    "start_time": "2022-07-10T10:29:58.300Z"
   },
   {
    "duration": 6,
    "start_time": "2022-07-10T10:29:58.306Z"
   },
   {
    "duration": 168,
    "start_time": "2022-07-10T10:29:58.313Z"
   },
   {
    "duration": 103,
    "start_time": "2022-07-10T10:29:58.483Z"
   },
   {
    "duration": 25,
    "start_time": "2022-07-10T10:29:58.588Z"
   },
   {
    "duration": 2,
    "start_time": "2022-07-10T10:29:58.615Z"
   },
   {
    "duration": 11,
    "start_time": "2022-07-10T10:29:58.619Z"
   },
   {
    "duration": 34,
    "start_time": "2022-07-10T10:29:58.632Z"
   },
   {
    "duration": 192,
    "start_time": "2022-07-10T10:39:27.613Z"
   },
   {
    "duration": 9,
    "start_time": "2022-07-10T10:47:20.467Z"
   },
   {
    "duration": 5,
    "start_time": "2022-07-10T10:52:45.990Z"
   },
   {
    "duration": 12,
    "start_time": "2022-07-10T10:53:20.474Z"
   },
   {
    "duration": 6,
    "start_time": "2022-07-10T10:55:02.443Z"
   },
   {
    "duration": 47,
    "start_time": "2022-07-10T10:55:17.482Z"
   },
   {
    "duration": 6,
    "start_time": "2022-07-10T10:55:21.913Z"
   },
   {
    "duration": 8,
    "start_time": "2022-07-10T10:55:26.979Z"
   },
   {
    "duration": 6,
    "start_time": "2022-07-10T10:55:32.867Z"
   },
   {
    "duration": 70,
    "start_time": "2022-07-10T10:55:46.520Z"
   },
   {
    "duration": 5,
    "start_time": "2022-07-10T10:55:54.071Z"
   },
   {
    "duration": 6,
    "start_time": "2022-07-10T10:55:58.611Z"
   },
   {
    "duration": 8,
    "start_time": "2022-07-10T10:56:12.822Z"
   },
   {
    "duration": 50,
    "start_time": "2022-07-10T10:57:50.921Z"
   },
   {
    "duration": 11,
    "start_time": "2022-07-10T10:58:00.171Z"
   },
   {
    "duration": 12,
    "start_time": "2022-07-10T10:58:12.163Z"
   },
   {
    "duration": 9,
    "start_time": "2022-07-10T10:59:56.480Z"
   },
   {
    "duration": 5,
    "start_time": "2022-07-10T11:00:44.300Z"
   },
   {
    "duration": 4,
    "start_time": "2022-07-10T11:00:54.609Z"
   },
   {
    "duration": 5,
    "start_time": "2022-07-10T11:01:10.083Z"
   },
   {
    "duration": 6,
    "start_time": "2022-07-10T11:01:13.743Z"
   },
   {
    "duration": 23,
    "start_time": "2022-07-10T11:02:14.400Z"
   },
   {
    "duration": 22,
    "start_time": "2022-07-10T11:03:43.309Z"
   },
   {
    "duration": 3,
    "start_time": "2022-07-10T11:08:55.917Z"
   },
   {
    "duration": 12,
    "start_time": "2022-07-10T11:09:30.903Z"
   },
   {
    "duration": 7,
    "start_time": "2022-07-10T11:09:31.308Z"
   },
   {
    "duration": 22,
    "start_time": "2022-07-10T11:09:31.783Z"
   },
   {
    "duration": 9,
    "start_time": "2022-07-10T11:09:51.592Z"
   },
   {
    "duration": 8,
    "start_time": "2022-07-10T11:09:51.948Z"
   },
   {
    "duration": 28,
    "start_time": "2022-07-10T11:09:52.243Z"
   },
   {
    "duration": 252,
    "start_time": "2022-07-10T11:10:52.839Z"
   },
   {
    "duration": 11,
    "start_time": "2022-07-10T11:11:19.014Z"
   },
   {
    "duration": 8,
    "start_time": "2022-07-10T11:13:33.687Z"
   },
   {
    "duration": 10,
    "start_time": "2022-07-10T11:13:52.070Z"
   },
   {
    "duration": 26,
    "start_time": "2022-07-10T11:15:40.679Z"
   },
   {
    "duration": 14,
    "start_time": "2022-07-10T11:16:28.204Z"
   },
   {
    "duration": 11,
    "start_time": "2022-07-10T11:16:46.984Z"
   },
   {
    "duration": 9,
    "start_time": "2022-07-10T11:16:52.980Z"
   },
   {
    "duration": 11,
    "start_time": "2022-07-10T11:17:29.579Z"
   },
   {
    "duration": 10,
    "start_time": "2022-07-10T11:18:23.510Z"
   },
   {
    "duration": 9,
    "start_time": "2022-07-10T11:18:48.439Z"
   },
   {
    "duration": 306,
    "start_time": "2022-07-10T12:07:35.108Z"
   },
   {
    "duration": 11,
    "start_time": "2022-07-10T13:02:50.299Z"
   },
   {
    "duration": 12,
    "start_time": "2022-07-10T13:03:04.484Z"
   },
   {
    "duration": 14,
    "start_time": "2022-07-10T13:03:17.755Z"
   },
   {
    "duration": 12,
    "start_time": "2022-07-10T13:03:29.356Z"
   },
   {
    "duration": 12,
    "start_time": "2022-07-10T13:03:40.362Z"
   },
   {
    "duration": 12,
    "start_time": "2022-07-10T13:03:53.558Z"
   },
   {
    "duration": 3,
    "start_time": "2022-07-10T13:22:47.536Z"
   },
   {
    "duration": 47,
    "start_time": "2022-07-10T13:22:47.542Z"
   },
   {
    "duration": 9,
    "start_time": "2022-07-10T13:22:47.591Z"
   },
   {
    "duration": 12,
    "start_time": "2022-07-10T13:22:47.603Z"
   },
   {
    "duration": 14,
    "start_time": "2022-07-10T13:22:47.617Z"
   },
   {
    "duration": 8,
    "start_time": "2022-07-10T13:22:47.632Z"
   },
   {
    "duration": 6,
    "start_time": "2022-07-10T13:22:47.642Z"
   },
   {
    "duration": 12,
    "start_time": "2022-07-10T13:22:47.649Z"
   },
   {
    "duration": 4,
    "start_time": "2022-07-10T13:22:47.663Z"
   },
   {
    "duration": 9,
    "start_time": "2022-07-10T13:22:47.669Z"
   },
   {
    "duration": 7,
    "start_time": "2022-07-10T13:22:47.680Z"
   },
   {
    "duration": 11,
    "start_time": "2022-07-10T13:22:47.689Z"
   },
   {
    "duration": 10,
    "start_time": "2022-07-10T13:22:47.701Z"
   },
   {
    "duration": 10,
    "start_time": "2022-07-10T13:22:47.712Z"
   },
   {
    "duration": 40,
    "start_time": "2022-07-10T13:22:47.724Z"
   },
   {
    "duration": 15,
    "start_time": "2022-07-10T13:22:47.766Z"
   },
   {
    "duration": 9,
    "start_time": "2022-07-10T13:22:47.783Z"
   },
   {
    "duration": 170,
    "start_time": "2022-07-10T13:22:47.794Z"
   },
   {
    "duration": 130,
    "start_time": "2022-07-10T13:22:47.966Z"
   },
   {
    "duration": 7,
    "start_time": "2022-07-10T13:22:48.097Z"
   },
   {
    "duration": 187,
    "start_time": "2022-07-10T13:22:48.106Z"
   },
   {
    "duration": 171,
    "start_time": "2022-07-10T13:22:48.296Z"
   },
   {
    "duration": 276,
    "start_time": "2022-07-10T13:22:48.469Z"
   },
   {
    "duration": 189,
    "start_time": "2022-07-10T13:22:48.747Z"
   },
   {
    "duration": 309,
    "start_time": "2022-07-10T13:22:48.937Z"
   },
   {
    "duration": 21,
    "start_time": "2022-07-10T13:22:49.249Z"
   },
   {
    "duration": 115,
    "start_time": "2022-07-10T13:22:49.272Z"
   },
   {
    "duration": 4,
    "start_time": "2022-07-10T13:22:49.389Z"
   },
   {
    "duration": 15,
    "start_time": "2022-07-10T13:22:49.394Z"
   },
   {
    "duration": 138,
    "start_time": "2022-07-10T13:22:49.411Z"
   },
   {
    "duration": 10,
    "start_time": "2022-07-10T13:22:49.551Z"
   },
   {
    "duration": 2,
    "start_time": "2022-07-10T13:22:49.562Z"
   },
   {
    "duration": 69,
    "start_time": "2022-07-10T13:22:49.565Z"
   },
   {
    "duration": 96,
    "start_time": "2022-07-10T13:22:49.636Z"
   },
   {
    "duration": 35,
    "start_time": "2022-07-10T13:22:49.734Z"
   },
   {
    "duration": 3,
    "start_time": "2022-07-10T13:22:49.771Z"
   },
   {
    "duration": 11,
    "start_time": "2022-07-10T13:22:49.776Z"
   },
   {
    "duration": 7,
    "start_time": "2022-07-10T13:22:49.788Z"
   },
   {
    "duration": 4,
    "start_time": "2022-07-10T13:22:49.797Z"
   },
   {
    "duration": 12,
    "start_time": "2022-07-10T13:22:49.802Z"
   },
   {
    "duration": 21,
    "start_time": "2022-07-10T13:22:49.815Z"
   },
   {
    "duration": 36,
    "start_time": "2022-07-10T13:22:49.838Z"
   },
   {
    "duration": 2,
    "start_time": "2022-07-10T13:22:49.876Z"
   },
   {
    "duration": 12,
    "start_time": "2022-07-10T13:22:49.879Z"
   },
   {
    "duration": 17,
    "start_time": "2022-07-10T13:22:49.892Z"
   },
   {
    "duration": 8,
    "start_time": "2022-07-10T13:22:49.910Z"
   },
   {
    "duration": 1212,
    "start_time": "2022-07-10T13:32:18.851Z"
   },
   {
    "duration": 44,
    "start_time": "2022-07-10T13:32:20.065Z"
   },
   {
    "duration": 11,
    "start_time": "2022-07-10T13:32:20.110Z"
   },
   {
    "duration": 34,
    "start_time": "2022-07-10T13:32:20.124Z"
   },
   {
    "duration": 14,
    "start_time": "2022-07-10T13:32:20.159Z"
   },
   {
    "duration": 12,
    "start_time": "2022-07-10T13:32:20.175Z"
   },
   {
    "duration": 13,
    "start_time": "2022-07-10T13:32:20.189Z"
   },
   {
    "duration": 10,
    "start_time": "2022-07-10T13:32:20.204Z"
   },
   {
    "duration": 31,
    "start_time": "2022-07-10T13:32:20.217Z"
   },
   {
    "duration": 8,
    "start_time": "2022-07-10T13:32:20.251Z"
   },
   {
    "duration": 9,
    "start_time": "2022-07-10T13:32:20.261Z"
   },
   {
    "duration": 17,
    "start_time": "2022-07-10T13:32:20.272Z"
   },
   {
    "duration": 23,
    "start_time": "2022-07-10T13:32:20.291Z"
   },
   {
    "duration": 33,
    "start_time": "2022-07-10T13:32:20.316Z"
   },
   {
    "duration": 26,
    "start_time": "2022-07-10T13:32:20.350Z"
   },
   {
    "duration": 18,
    "start_time": "2022-07-10T13:32:20.378Z"
   },
   {
    "duration": 9,
    "start_time": "2022-07-10T13:32:20.398Z"
   },
   {
    "duration": 212,
    "start_time": "2022-07-10T13:32:20.409Z"
   },
   {
    "duration": 126,
    "start_time": "2022-07-10T13:32:20.625Z"
   },
   {
    "duration": 7,
    "start_time": "2022-07-10T13:32:20.753Z"
   },
   {
    "duration": 275,
    "start_time": "2022-07-10T13:32:20.763Z"
   },
   {
    "duration": 182,
    "start_time": "2022-07-10T13:32:21.040Z"
   },
   {
    "duration": 281,
    "start_time": "2022-07-10T13:32:21.228Z"
   },
   {
    "duration": 355,
    "start_time": "2022-07-10T13:32:21.512Z"
   },
   {
    "duration": 497,
    "start_time": "2022-07-10T13:32:21.869Z"
   },
   {
    "duration": 79,
    "start_time": "2022-07-10T13:32:22.368Z"
   },
   {
    "duration": 294,
    "start_time": "2022-07-10T13:32:22.449Z"
   },
   {
    "duration": 4,
    "start_time": "2022-07-10T13:32:22.747Z"
   },
   {
    "duration": 14,
    "start_time": "2022-07-10T13:32:22.753Z"
   },
   {
    "duration": 368,
    "start_time": "2022-07-10T13:32:22.769Z"
   },
   {
    "duration": 7,
    "start_time": "2022-07-10T13:32:23.139Z"
   },
   {
    "duration": 8,
    "start_time": "2022-07-10T13:32:23.149Z"
   },
   {
    "duration": 473,
    "start_time": "2022-07-10T13:32:23.160Z"
   },
   {
    "duration": 202,
    "start_time": "2022-07-10T13:32:23.635Z"
   },
   {
    "duration": 26,
    "start_time": "2022-07-10T13:32:23.839Z"
   },
   {
    "duration": 2,
    "start_time": "2022-07-10T13:32:23.868Z"
   },
   {
    "duration": 67,
    "start_time": "2022-07-10T13:32:23.872Z"
   },
   {
    "duration": 37,
    "start_time": "2022-07-10T13:32:23.940Z"
   },
   {
    "duration": 6,
    "start_time": "2022-07-10T13:32:23.979Z"
   },
   {
    "duration": 46,
    "start_time": "2022-07-10T13:32:23.986Z"
   },
   {
    "duration": 22,
    "start_time": "2022-07-10T13:32:24.034Z"
   },
   {
    "duration": 28,
    "start_time": "2022-07-10T13:32:24.058Z"
   },
   {
    "duration": 2,
    "start_time": "2022-07-10T13:32:24.088Z"
   },
   {
    "duration": 15,
    "start_time": "2022-07-10T13:32:24.092Z"
   },
   {
    "duration": 13,
    "start_time": "2022-07-10T13:32:24.108Z"
   },
   {
    "duration": 38,
    "start_time": "2022-07-10T13:32:24.123Z"
   },
   {
    "duration": 106,
    "start_time": "2022-07-10T13:35:07.421Z"
   },
   {
    "duration": 190,
    "start_time": "2022-07-10T13:36:02.725Z"
   },
   {
    "duration": 45,
    "start_time": "2022-07-11T13:27:50.821Z"
   },
   {
    "duration": 1241,
    "start_time": "2022-07-11T13:27:54.239Z"
   },
   {
    "duration": 242,
    "start_time": "2022-07-11T13:27:55.481Z"
   },
   {
    "duration": 11,
    "start_time": "2022-07-11T13:27:55.724Z"
   },
   {
    "duration": 12,
    "start_time": "2022-07-11T13:27:55.736Z"
   },
   {
    "duration": 8,
    "start_time": "2022-07-11T13:27:55.750Z"
   },
   {
    "duration": 8,
    "start_time": "2022-07-11T13:27:55.759Z"
   },
   {
    "duration": 6,
    "start_time": "2022-07-11T13:27:55.768Z"
   },
   {
    "duration": 5,
    "start_time": "2022-07-11T13:27:55.775Z"
   },
   {
    "duration": 5,
    "start_time": "2022-07-11T13:27:55.781Z"
   },
   {
    "duration": 5,
    "start_time": "2022-07-11T13:27:55.787Z"
   },
   {
    "duration": 7,
    "start_time": "2022-07-11T13:27:55.794Z"
   },
   {
    "duration": 18,
    "start_time": "2022-07-11T13:27:55.802Z"
   },
   {
    "duration": 9,
    "start_time": "2022-07-11T13:27:55.821Z"
   },
   {
    "duration": 9,
    "start_time": "2022-07-11T13:27:55.831Z"
   },
   {
    "duration": 16,
    "start_time": "2022-07-11T13:27:55.841Z"
   },
   {
    "duration": 13,
    "start_time": "2022-07-11T13:27:56.715Z"
   },
   {
    "duration": 11,
    "start_time": "2022-07-11T13:29:08.768Z"
   },
   {
    "duration": 13,
    "start_time": "2022-07-11T13:29:26.989Z"
   },
   {
    "duration": 14,
    "start_time": "2022-07-11T13:32:46.261Z"
   },
   {
    "duration": 19,
    "start_time": "2022-07-11T13:33:24.274Z"
   },
   {
    "duration": 12,
    "start_time": "2022-07-11T13:35:54.612Z"
   },
   {
    "duration": 10,
    "start_time": "2022-07-11T13:40:01.728Z"
   },
   {
    "duration": 8,
    "start_time": "2022-07-11T13:43:20.781Z"
   },
   {
    "duration": 81,
    "start_time": "2022-07-11T13:45:14.508Z"
   },
   {
    "duration": 12,
    "start_time": "2022-07-11T13:45:18.789Z"
   },
   {
    "duration": 59,
    "start_time": "2022-07-11T13:45:27.224Z"
   },
   {
    "duration": 8,
    "start_time": "2022-07-11T13:45:30.784Z"
   },
   {
    "duration": 8,
    "start_time": "2022-07-11T13:55:39.423Z"
   },
   {
    "duration": 13,
    "start_time": "2022-07-11T13:55:44.991Z"
   },
   {
    "duration": 13,
    "start_time": "2022-07-11T13:56:01.613Z"
   },
   {
    "duration": 16,
    "start_time": "2022-07-11T14:07:29.664Z"
   },
   {
    "duration": 14,
    "start_time": "2022-07-11T14:07:47.167Z"
   },
   {
    "duration": 11,
    "start_time": "2022-07-11T14:56:44.091Z"
   },
   {
    "duration": 12,
    "start_time": "2022-07-11T14:57:03.418Z"
   },
   {
    "duration": 9,
    "start_time": "2022-07-11T14:57:41.114Z"
   },
   {
    "duration": 3,
    "start_time": "2022-07-11T14:57:50.457Z"
   },
   {
    "duration": 78,
    "start_time": "2022-07-11T14:57:50.461Z"
   },
   {
    "duration": 9,
    "start_time": "2022-07-11T14:57:50.541Z"
   },
   {
    "duration": 11,
    "start_time": "2022-07-11T14:57:50.551Z"
   },
   {
    "duration": 10,
    "start_time": "2022-07-11T14:57:50.564Z"
   },
   {
    "duration": 6,
    "start_time": "2022-07-11T14:57:50.575Z"
   },
   {
    "duration": 6,
    "start_time": "2022-07-11T14:57:50.582Z"
   },
   {
    "duration": 5,
    "start_time": "2022-07-11T14:57:50.589Z"
   },
   {
    "duration": 7,
    "start_time": "2022-07-11T14:57:50.595Z"
   },
   {
    "duration": 5,
    "start_time": "2022-07-11T14:57:50.603Z"
   },
   {
    "duration": 7,
    "start_time": "2022-07-11T14:57:50.610Z"
   },
   {
    "duration": 10,
    "start_time": "2022-07-11T14:57:50.619Z"
   },
   {
    "duration": 10,
    "start_time": "2022-07-11T14:57:50.631Z"
   },
   {
    "duration": 8,
    "start_time": "2022-07-11T14:57:50.642Z"
   },
   {
    "duration": 41,
    "start_time": "2022-07-11T14:57:50.652Z"
   },
   {
    "duration": 9,
    "start_time": "2022-07-11T14:57:50.695Z"
   },
   {
    "duration": 12,
    "start_time": "2022-07-11T14:57:50.705Z"
   },
   {
    "duration": 7,
    "start_time": "2022-07-11T14:57:50.719Z"
   },
   {
    "duration": 161,
    "start_time": "2022-07-11T14:57:50.727Z"
   },
   {
    "duration": 121,
    "start_time": "2022-07-11T14:57:50.889Z"
   },
   {
    "duration": 6,
    "start_time": "2022-07-11T14:57:51.011Z"
   },
   {
    "duration": 221,
    "start_time": "2022-07-11T14:57:53.140Z"
   },
   {
    "duration": 199,
    "start_time": "2022-07-11T14:58:42.093Z"
   },
   {
    "duration": 160,
    "start_time": "2022-07-11T14:59:47.972Z"
   },
   {
    "duration": 137,
    "start_time": "2022-07-11T15:00:14.917Z"
   },
   {
    "duration": 161,
    "start_time": "2022-07-11T15:00:36.664Z"
   },
   {
    "duration": 177,
    "start_time": "2022-07-11T15:00:44.494Z"
   },
   {
    "duration": 163,
    "start_time": "2022-07-11T15:00:49.808Z"
   },
   {
    "duration": 241,
    "start_time": "2022-07-11T15:01:30.589Z"
   },
   {
    "duration": 169,
    "start_time": "2022-07-11T15:01:44.037Z"
   },
   {
    "duration": 164,
    "start_time": "2022-07-11T15:03:27.573Z"
   },
   {
    "duration": 159,
    "start_time": "2022-07-11T15:03:49.522Z"
   },
   {
    "duration": 172,
    "start_time": "2022-07-11T15:03:55.517Z"
   },
   {
    "duration": 164,
    "start_time": "2022-07-11T15:04:41.011Z"
   },
   {
    "duration": 332,
    "start_time": "2022-07-11T15:05:44.128Z"
   },
   {
    "duration": 258,
    "start_time": "2022-07-11T15:06:15.024Z"
   },
   {
    "duration": 176,
    "start_time": "2022-07-11T15:06:37.447Z"
   },
   {
    "duration": 341,
    "start_time": "2022-07-11T15:07:10.365Z"
   },
   {
    "duration": 9,
    "start_time": "2022-07-11T15:08:25.899Z"
   },
   {
    "duration": 3,
    "start_time": "2022-07-11T15:08:33.194Z"
   },
   {
    "duration": 79,
    "start_time": "2022-07-11T15:08:33.198Z"
   },
   {
    "duration": 10,
    "start_time": "2022-07-11T15:08:33.278Z"
   },
   {
    "duration": 13,
    "start_time": "2022-07-11T15:08:33.289Z"
   },
   {
    "duration": 12,
    "start_time": "2022-07-11T15:08:33.303Z"
   },
   {
    "duration": 8,
    "start_time": "2022-07-11T15:08:33.317Z"
   },
   {
    "duration": 6,
    "start_time": "2022-07-11T15:08:33.326Z"
   },
   {
    "duration": 4,
    "start_time": "2022-07-11T15:08:33.334Z"
   },
   {
    "duration": 8,
    "start_time": "2022-07-11T15:08:33.340Z"
   },
   {
    "duration": 8,
    "start_time": "2022-07-11T15:08:33.349Z"
   },
   {
    "duration": 27,
    "start_time": "2022-07-11T15:08:33.358Z"
   },
   {
    "duration": 94,
    "start_time": "2022-07-11T15:08:33.386Z"
   },
   {
    "duration": 10,
    "start_time": "2022-07-11T15:08:33.481Z"
   },
   {
    "duration": 14,
    "start_time": "2022-07-11T15:08:33.492Z"
   },
   {
    "duration": 9,
    "start_time": "2022-07-11T15:08:33.507Z"
   },
   {
    "duration": 10,
    "start_time": "2022-07-11T15:08:33.518Z"
   },
   {
    "duration": 12,
    "start_time": "2022-07-11T15:08:33.529Z"
   },
   {
    "duration": 7,
    "start_time": "2022-07-11T15:08:33.542Z"
   },
   {
    "duration": 167,
    "start_time": "2022-07-11T15:08:33.550Z"
   },
   {
    "duration": 126,
    "start_time": "2022-07-11T15:08:33.718Z"
   },
   {
    "duration": 6,
    "start_time": "2022-07-11T15:08:33.845Z"
   },
   {
    "duration": 183,
    "start_time": "2022-07-11T15:08:33.852Z"
   },
   {
    "duration": 170,
    "start_time": "2022-07-11T15:08:34.036Z"
   },
   {
    "duration": 289,
    "start_time": "2022-07-11T15:08:34.209Z"
   },
   {
    "duration": 196,
    "start_time": "2022-07-11T15:08:34.500Z"
   },
   {
    "duration": 321,
    "start_time": "2022-07-11T15:08:34.697Z"
   },
   {
    "duration": 12,
    "start_time": "2022-07-11T15:08:35.019Z"
   },
   {
    "duration": 110,
    "start_time": "2022-07-11T15:08:37.459Z"
   },
   {
    "duration": 123,
    "start_time": "2022-07-11T15:09:05.171Z"
   },
   {
    "duration": 1232,
    "start_time": "2022-07-11T20:13:42.079Z"
   },
   {
    "duration": 115,
    "start_time": "2022-07-11T20:13:43.313Z"
   },
   {
    "duration": 11,
    "start_time": "2022-07-11T20:13:43.430Z"
   },
   {
    "duration": 29,
    "start_time": "2022-07-11T20:13:43.442Z"
   },
   {
    "duration": 32,
    "start_time": "2022-07-11T20:13:43.473Z"
   },
   {
    "duration": 14,
    "start_time": "2022-07-11T20:13:43.515Z"
   },
   {
    "duration": 28,
    "start_time": "2022-07-11T20:13:43.530Z"
   },
   {
    "duration": 14,
    "start_time": "2022-07-11T20:13:43.559Z"
   },
   {
    "duration": 8,
    "start_time": "2022-07-11T20:13:43.574Z"
   },
   {
    "duration": 34,
    "start_time": "2022-07-11T20:13:43.584Z"
   },
   {
    "duration": 12,
    "start_time": "2022-07-11T20:13:43.620Z"
   },
   {
    "duration": 22,
    "start_time": "2022-07-11T20:13:43.633Z"
   },
   {
    "duration": 16,
    "start_time": "2022-07-11T20:13:43.657Z"
   },
   {
    "duration": 19,
    "start_time": "2022-07-11T20:13:43.676Z"
   },
   {
    "duration": 29,
    "start_time": "2022-07-11T20:13:43.696Z"
   },
   {
    "duration": 106,
    "start_time": "2022-07-11T20:14:38.048Z"
   },
   {
    "duration": 8,
    "start_time": "2022-07-11T20:17:00.070Z"
   },
   {
    "duration": 12,
    "start_time": "2022-07-11T20:17:06.687Z"
   },
   {
    "duration": 17,
    "start_time": "2022-07-11T20:17:13.887Z"
   },
   {
    "duration": 3,
    "start_time": "2022-07-11T20:17:30.224Z"
   },
   {
    "duration": 16,
    "start_time": "2022-07-11T20:17:38.875Z"
   },
   {
    "duration": 8,
    "start_time": "2022-07-11T20:17:48.964Z"
   },
   {
    "duration": 13,
    "start_time": "2022-07-11T20:17:49.356Z"
   },
   {
    "duration": 11,
    "start_time": "2022-07-11T20:17:59.349Z"
   },
   {
    "duration": 9,
    "start_time": "2022-07-11T20:18:37.261Z"
   },
   {
    "duration": 905,
    "start_time": "2022-07-11T20:19:10.922Z"
   },
   {
    "duration": 908,
    "start_time": "2022-07-11T20:19:18.449Z"
   },
   {
    "duration": 7,
    "start_time": "2022-07-11T20:19:30.589Z"
   },
   {
    "duration": 12,
    "start_time": "2022-07-11T20:20:09.260Z"
   },
   {
    "duration": 12,
    "start_time": "2022-07-11T20:20:34.796Z"
   },
   {
    "duration": 15,
    "start_time": "2022-07-11T20:20:35.198Z"
   },
   {
    "duration": 8,
    "start_time": "2022-07-11T20:21:03.597Z"
   },
   {
    "duration": 5,
    "start_time": "2022-07-11T20:21:03.922Z"
   },
   {
    "duration": 10,
    "start_time": "2022-07-11T20:21:08.764Z"
   },
   {
    "duration": 10,
    "start_time": "2022-07-11T20:21:09.169Z"
   },
   {
    "duration": 9,
    "start_time": "2022-07-11T20:21:10.149Z"
   },
   {
    "duration": 10,
    "start_time": "2022-07-11T20:22:22.622Z"
   },
   {
    "duration": 9,
    "start_time": "2022-07-11T20:22:28.077Z"
   },
   {
    "duration": 15,
    "start_time": "2022-07-11T20:22:37.344Z"
   },
   {
    "duration": 9,
    "start_time": "2022-07-11T20:22:42.404Z"
   },
   {
    "duration": 10,
    "start_time": "2022-07-11T20:22:51.549Z"
   },
   {
    "duration": 8,
    "start_time": "2022-07-11T20:22:54.171Z"
   },
   {
    "duration": 12,
    "start_time": "2022-07-11T20:22:59.301Z"
   },
   {
    "duration": 9,
    "start_time": "2022-07-11T20:23:03.008Z"
   },
   {
    "duration": 6,
    "start_time": "2022-07-11T20:23:09.389Z"
   },
   {
    "duration": 10,
    "start_time": "2022-07-11T20:23:09.690Z"
   },
   {
    "duration": 9,
    "start_time": "2022-07-11T20:23:31.997Z"
   },
   {
    "duration": 8,
    "start_time": "2022-07-11T20:23:38.014Z"
   },
   {
    "duration": 4,
    "start_time": "2022-07-11T20:31:06.676Z"
   },
   {
    "duration": 11,
    "start_time": "2022-07-11T20:31:12.545Z"
   },
   {
    "duration": 8,
    "start_time": "2022-07-11T20:31:31.922Z"
   },
   {
    "duration": 14,
    "start_time": "2022-07-11T20:34:23.319Z"
   },
   {
    "duration": 12,
    "start_time": "2022-07-11T20:34:44.637Z"
   },
   {
    "duration": 11,
    "start_time": "2022-07-11T20:34:56.818Z"
   },
   {
    "duration": 13,
    "start_time": "2022-07-11T20:35:04.806Z"
   },
   {
    "duration": 3,
    "start_time": "2022-07-11T20:35:20.947Z"
   },
   {
    "duration": 47,
    "start_time": "2022-07-11T20:35:20.952Z"
   },
   {
    "duration": 10,
    "start_time": "2022-07-11T20:35:21.000Z"
   },
   {
    "duration": 14,
    "start_time": "2022-07-11T20:35:21.011Z"
   },
   {
    "duration": 11,
    "start_time": "2022-07-11T20:35:21.026Z"
   },
   {
    "duration": 7,
    "start_time": "2022-07-11T20:35:21.038Z"
   },
   {
    "duration": 6,
    "start_time": "2022-07-11T20:35:21.046Z"
   },
   {
    "duration": 4,
    "start_time": "2022-07-11T20:35:21.054Z"
   },
   {
    "duration": 7,
    "start_time": "2022-07-11T20:35:21.059Z"
   },
   {
    "duration": 6,
    "start_time": "2022-07-11T20:35:21.067Z"
   },
   {
    "duration": 27,
    "start_time": "2022-07-11T20:35:21.075Z"
   },
   {
    "duration": 16,
    "start_time": "2022-07-11T20:35:23.819Z"
   },
   {
    "duration": 11,
    "start_time": "2022-07-11T20:35:32.544Z"
   },
   {
    "duration": 4,
    "start_time": "2022-07-11T20:36:03.523Z"
   },
   {
    "duration": 5,
    "start_time": "2022-07-11T20:36:57.223Z"
   },
   {
    "duration": 4,
    "start_time": "2022-07-11T20:38:03.641Z"
   },
   {
    "duration": 43,
    "start_time": "2022-07-11T20:38:03.647Z"
   },
   {
    "duration": 10,
    "start_time": "2022-07-11T20:38:03.692Z"
   },
   {
    "duration": 18,
    "start_time": "2022-07-11T20:38:03.704Z"
   },
   {
    "duration": 17,
    "start_time": "2022-07-11T20:38:03.724Z"
   },
   {
    "duration": 28,
    "start_time": "2022-07-11T20:38:03.743Z"
   },
   {
    "duration": 8,
    "start_time": "2022-07-11T20:38:03.773Z"
   },
   {
    "duration": 5,
    "start_time": "2022-07-11T20:38:03.782Z"
   },
   {
    "duration": 7,
    "start_time": "2022-07-11T20:38:03.789Z"
   },
   {
    "duration": 3,
    "start_time": "2022-07-11T20:38:03.800Z"
   },
   {
    "duration": 7,
    "start_time": "2022-07-11T20:38:03.804Z"
   },
   {
    "duration": 13,
    "start_time": "2022-07-11T20:38:03.812Z"
   },
   {
    "duration": 3,
    "start_time": "2022-07-11T20:38:03.827Z"
   },
   {
    "duration": 16,
    "start_time": "2022-07-11T20:38:03.832Z"
   },
   {
    "duration": 22,
    "start_time": "2022-07-11T20:38:03.850Z"
   },
   {
    "duration": 9,
    "start_time": "2022-07-11T20:38:03.874Z"
   },
   {
    "duration": 16,
    "start_time": "2022-07-11T20:38:03.901Z"
   },
   {
    "duration": 24,
    "start_time": "2022-07-11T20:38:03.919Z"
   },
   {
    "duration": 12,
    "start_time": "2022-07-11T20:38:03.945Z"
   },
   {
    "duration": 187,
    "start_time": "2022-07-11T20:38:03.959Z"
   },
   {
    "duration": 119,
    "start_time": "2022-07-11T20:38:04.148Z"
   },
   {
    "duration": 7,
    "start_time": "2022-07-11T20:38:04.269Z"
   },
   {
    "duration": 280,
    "start_time": "2022-07-11T20:38:04.277Z"
   },
   {
    "duration": 193,
    "start_time": "2022-07-11T20:38:04.559Z"
   },
   {
    "duration": 352,
    "start_time": "2022-07-11T20:38:04.754Z"
   },
   {
    "duration": 236,
    "start_time": "2022-07-11T20:38:05.108Z"
   },
   {
    "duration": 294,
    "start_time": "2022-07-11T20:38:05.346Z"
   },
   {
    "duration": 11,
    "start_time": "2022-07-11T20:38:05.642Z"
   },
   {
    "duration": 150,
    "start_time": "2022-07-11T20:38:05.654Z"
   },
   {
    "duration": 5,
    "start_time": "2022-07-11T20:38:05.805Z"
   },
   {
    "duration": 14,
    "start_time": "2022-07-11T20:38:05.811Z"
   },
   {
    "duration": 142,
    "start_time": "2022-07-11T20:38:05.826Z"
   },
   {
    "duration": 4,
    "start_time": "2022-07-11T20:38:05.970Z"
   },
   {
    "duration": 10,
    "start_time": "2022-07-11T20:38:05.976Z"
   },
   {
    "duration": 70,
    "start_time": "2022-07-11T20:38:05.987Z"
   },
   {
    "duration": 159,
    "start_time": "2022-07-11T20:38:06.059Z"
   },
   {
    "duration": 19,
    "start_time": "2022-07-11T20:38:06.221Z"
   },
   {
    "duration": 2,
    "start_time": "2022-07-11T20:38:06.242Z"
   },
   {
    "duration": 8,
    "start_time": "2022-07-11T20:38:06.246Z"
   },
   {
    "duration": 6,
    "start_time": "2022-07-11T20:38:06.256Z"
   },
   {
    "duration": 4,
    "start_time": "2022-07-11T20:38:06.264Z"
   },
   {
    "duration": 37,
    "start_time": "2022-07-11T20:38:06.270Z"
   },
   {
    "duration": 12,
    "start_time": "2022-07-11T20:38:06.308Z"
   },
   {
    "duration": 21,
    "start_time": "2022-07-11T20:38:06.322Z"
   },
   {
    "duration": 2,
    "start_time": "2022-07-11T20:38:06.345Z"
   },
   {
    "duration": 9,
    "start_time": "2022-07-11T20:38:06.349Z"
   },
   {
    "duration": 15,
    "start_time": "2022-07-11T20:38:06.360Z"
   },
   {
    "duration": 29,
    "start_time": "2022-07-11T20:38:06.376Z"
   },
   {
    "duration": 11,
    "start_time": "2022-07-11T20:45:51.806Z"
   },
   {
    "duration": 10,
    "start_time": "2022-07-11T20:45:52.522Z"
   },
   {
    "duration": 11,
    "start_time": "2022-07-11T20:47:53.073Z"
   },
   {
    "duration": 12,
    "start_time": "2022-07-11T20:48:05.265Z"
   },
   {
    "duration": 11,
    "start_time": "2022-07-11T20:49:59.950Z"
   },
   {
    "duration": 9,
    "start_time": "2022-07-11T20:50:00.375Z"
   },
   {
    "duration": 20,
    "start_time": "2022-07-11T20:50:00.790Z"
   },
   {
    "duration": 3,
    "start_time": "2022-07-11T20:59:49.644Z"
   },
   {
    "duration": 3,
    "start_time": "2022-07-11T21:00:11.417Z"
   },
   {
    "duration": 4,
    "start_time": "2022-07-11T21:04:42.455Z"
   },
   {
    "duration": 5,
    "start_time": "2022-07-11T21:05:00.168Z"
   },
   {
    "duration": 5,
    "start_time": "2022-07-11T21:07:18.972Z"
   },
   {
    "duration": 4,
    "start_time": "2022-07-11T21:10:12.633Z"
   },
   {
    "duration": 42,
    "start_time": "2022-07-11T21:10:12.640Z"
   },
   {
    "duration": 11,
    "start_time": "2022-07-11T21:10:12.684Z"
   },
   {
    "duration": 18,
    "start_time": "2022-07-11T21:10:12.696Z"
   },
   {
    "duration": 20,
    "start_time": "2022-07-11T21:10:12.721Z"
   },
   {
    "duration": 10,
    "start_time": "2022-07-11T21:10:12.743Z"
   },
   {
    "duration": 8,
    "start_time": "2022-07-11T21:10:12.755Z"
   },
   {
    "duration": 6,
    "start_time": "2022-07-11T21:10:12.764Z"
   },
   {
    "duration": 6,
    "start_time": "2022-07-11T21:10:12.772Z"
   },
   {
    "duration": 25,
    "start_time": "2022-07-11T21:10:12.779Z"
   },
   {
    "duration": 19,
    "start_time": "2022-07-11T21:10:12.811Z"
   },
   {
    "duration": 16,
    "start_time": "2022-07-11T21:10:12.832Z"
   },
   {
    "duration": 4,
    "start_time": "2022-07-11T21:10:12.849Z"
   },
   {
    "duration": 15,
    "start_time": "2022-07-11T21:10:12.854Z"
   },
   {
    "duration": 43,
    "start_time": "2022-07-11T21:10:12.870Z"
   },
   {
    "duration": 24,
    "start_time": "2022-07-11T21:10:12.915Z"
   },
   {
    "duration": 14,
    "start_time": "2022-07-11T21:10:12.942Z"
   },
   {
    "duration": 17,
    "start_time": "2022-07-11T21:10:12.957Z"
   },
   {
    "duration": 12,
    "start_time": "2022-07-11T21:10:12.976Z"
   },
   {
    "duration": 187,
    "start_time": "2022-07-11T21:10:12.990Z"
   },
   {
    "duration": 149,
    "start_time": "2022-07-11T21:10:13.179Z"
   },
   {
    "duration": 7,
    "start_time": "2022-07-11T21:10:13.330Z"
   },
   {
    "duration": 209,
    "start_time": "2022-07-11T21:10:13.338Z"
   },
   {
    "duration": 234,
    "start_time": "2022-07-11T21:10:13.549Z"
   },
   {
    "duration": 372,
    "start_time": "2022-07-11T21:10:13.784Z"
   },
   {
    "duration": 218,
    "start_time": "2022-07-11T21:10:14.157Z"
   },
   {
    "duration": 348,
    "start_time": "2022-07-11T21:10:14.377Z"
   },
   {
    "duration": 12,
    "start_time": "2022-07-11T21:10:14.728Z"
   },
   {
    "duration": 154,
    "start_time": "2022-07-11T21:10:14.744Z"
   },
   {
    "duration": 15,
    "start_time": "2022-07-11T21:10:14.900Z"
   },
   {
    "duration": 14,
    "start_time": "2022-07-11T21:10:14.917Z"
   },
   {
    "duration": 140,
    "start_time": "2022-07-11T21:10:14.933Z"
   },
   {
    "duration": 4,
    "start_time": "2022-07-11T21:10:15.075Z"
   },
   {
    "duration": 8,
    "start_time": "2022-07-11T21:10:15.081Z"
   },
   {
    "duration": 90,
    "start_time": "2022-07-11T21:10:15.090Z"
   },
   {
    "duration": 113,
    "start_time": "2022-07-11T21:10:15.181Z"
   },
   {
    "duration": 37,
    "start_time": "2022-07-11T21:10:15.296Z"
   },
   {
    "duration": 22,
    "start_time": "2022-07-11T21:10:15.335Z"
   },
   {
    "duration": 17,
    "start_time": "2022-07-11T21:10:15.359Z"
   },
   {
    "duration": 9,
    "start_time": "2022-07-11T21:10:15.378Z"
   },
   {
    "duration": 25,
    "start_time": "2022-07-11T21:10:15.388Z"
   },
   {
    "duration": 20,
    "start_time": "2022-07-11T21:10:15.414Z"
   },
   {
    "duration": 10,
    "start_time": "2022-07-11T21:10:15.436Z"
   },
   {
    "duration": 15,
    "start_time": "2022-07-11T21:10:15.448Z"
   },
   {
    "duration": 19,
    "start_time": "2022-07-11T21:10:15.465Z"
   },
   {
    "duration": 56,
    "start_time": "2022-07-11T21:10:15.486Z"
   },
   {
    "duration": 4,
    "start_time": "2022-07-11T21:10:15.544Z"
   },
   {
    "duration": 8,
    "start_time": "2022-07-11T21:10:15.549Z"
   },
   {
    "duration": 13,
    "start_time": "2022-07-11T21:10:15.558Z"
   },
   {
    "duration": 17,
    "start_time": "2022-07-11T21:10:15.573Z"
   },
   {
    "duration": 16,
    "start_time": "2022-07-11T21:10:15.591Z"
   },
   {
    "duration": 1310,
    "start_time": "2022-07-12T11:06:21.671Z"
   },
   {
    "duration": 104,
    "start_time": "2022-07-12T11:06:22.983Z"
   },
   {
    "duration": 12,
    "start_time": "2022-07-12T11:06:23.089Z"
   },
   {
    "duration": 27,
    "start_time": "2022-07-12T11:06:23.102Z"
   },
   {
    "duration": 28,
    "start_time": "2022-07-12T11:06:23.130Z"
   },
   {
    "duration": 13,
    "start_time": "2022-07-12T11:06:23.160Z"
   },
   {
    "duration": 9,
    "start_time": "2022-07-12T11:06:23.175Z"
   },
   {
    "duration": 45,
    "start_time": "2022-07-12T11:06:23.185Z"
   },
   {
    "duration": 8,
    "start_time": "2022-07-12T11:06:23.231Z"
   },
   {
    "duration": 8,
    "start_time": "2022-07-12T11:06:23.242Z"
   },
   {
    "duration": 11,
    "start_time": "2022-07-12T11:06:23.251Z"
   },
   {
    "duration": 16,
    "start_time": "2022-07-12T11:06:23.263Z"
   },
   {
    "duration": 3,
    "start_time": "2022-07-12T11:06:23.281Z"
   },
   {
    "duration": 19,
    "start_time": "2022-07-12T11:06:23.285Z"
   },
   {
    "duration": 16,
    "start_time": "2022-07-12T11:06:23.305Z"
   },
   {
    "duration": 14,
    "start_time": "2022-07-12T11:06:23.322Z"
   },
   {
    "duration": 20,
    "start_time": "2022-07-12T11:06:23.338Z"
   },
   {
    "duration": 12,
    "start_time": "2022-07-12T11:06:23.360Z"
   },
   {
    "duration": 13,
    "start_time": "2022-07-12T11:06:23.373Z"
   },
   {
    "duration": 163,
    "start_time": "2022-07-12T11:06:23.388Z"
   },
   {
    "duration": 116,
    "start_time": "2022-07-12T11:06:23.553Z"
   },
   {
    "duration": 9,
    "start_time": "2022-07-12T11:06:23.670Z"
   },
   {
    "duration": 273,
    "start_time": "2022-07-12T11:06:23.680Z"
   },
   {
    "duration": 201,
    "start_time": "2022-07-12T11:06:23.955Z"
   },
   {
    "duration": 366,
    "start_time": "2022-07-12T11:06:24.158Z"
   },
   {
    "duration": 200,
    "start_time": "2022-07-12T11:06:24.526Z"
   },
   {
    "duration": 289,
    "start_time": "2022-07-12T11:06:24.727Z"
   },
   {
    "duration": 11,
    "start_time": "2022-07-12T11:06:25.019Z"
   },
   {
    "duration": 159,
    "start_time": "2022-07-12T11:06:25.032Z"
   },
   {
    "duration": 6,
    "start_time": "2022-07-12T11:06:25.194Z"
   },
   {
    "duration": 21,
    "start_time": "2022-07-12T11:06:25.203Z"
   },
   {
    "duration": 171,
    "start_time": "2022-07-12T11:06:25.226Z"
   },
   {
    "duration": 4,
    "start_time": "2022-07-12T11:06:25.399Z"
   },
   {
    "duration": 7,
    "start_time": "2022-07-12T11:06:25.405Z"
   },
   {
    "duration": 66,
    "start_time": "2022-07-12T11:06:25.413Z"
   },
   {
    "duration": 141,
    "start_time": "2022-07-12T11:06:25.481Z"
   },
   {
    "duration": 19,
    "start_time": "2022-07-12T11:06:25.624Z"
   },
   {
    "duration": 4,
    "start_time": "2022-07-12T11:06:25.645Z"
   },
   {
    "duration": 6,
    "start_time": "2022-07-12T11:06:25.650Z"
   },
   {
    "duration": 11,
    "start_time": "2022-07-12T11:06:25.657Z"
   },
   {
    "duration": 9,
    "start_time": "2022-07-12T11:06:25.669Z"
   },
   {
    "duration": 22,
    "start_time": "2022-07-12T11:06:25.679Z"
   },
   {
    "duration": 13,
    "start_time": "2022-07-12T11:06:25.702Z"
   },
   {
    "duration": 14,
    "start_time": "2022-07-12T11:06:25.717Z"
   },
   {
    "duration": 27,
    "start_time": "2022-07-12T11:06:25.732Z"
   },
   {
    "duration": 3,
    "start_time": "2022-07-12T11:06:25.761Z"
   },
   {
    "duration": 5,
    "start_time": "2022-07-12T11:06:25.766Z"
   },
   {
    "duration": 12,
    "start_time": "2022-07-12T11:06:25.772Z"
   },
   {
    "duration": 16,
    "start_time": "2022-07-12T11:06:25.785Z"
   },
   {
    "duration": 9,
    "start_time": "2022-07-12T11:06:25.802Z"
   },
   {
    "duration": 9,
    "start_time": "2022-07-12T11:09:15.639Z"
   },
   {
    "duration": 1154,
    "start_time": "2022-11-11T11:56:26.522Z"
   },
   {
    "duration": 221,
    "start_time": "2022-11-11T11:56:27.678Z"
   },
   {
    "duration": 10,
    "start_time": "2022-11-11T11:56:27.901Z"
   },
   {
    "duration": 11,
    "start_time": "2022-11-11T11:56:27.913Z"
   },
   {
    "duration": 10,
    "start_time": "2022-11-11T11:56:27.925Z"
   },
   {
    "duration": 6,
    "start_time": "2022-11-11T11:56:27.936Z"
   },
   {
    "duration": 8,
    "start_time": "2022-11-11T11:56:27.944Z"
   },
   {
    "duration": 5,
    "start_time": "2022-11-11T11:56:27.953Z"
   },
   {
    "duration": 5,
    "start_time": "2022-11-11T11:56:27.959Z"
   },
   {
    "duration": 10,
    "start_time": "2022-11-11T11:56:27.966Z"
   },
   {
    "duration": 21,
    "start_time": "2022-11-11T11:56:27.977Z"
   },
   {
    "duration": 36,
    "start_time": "2022-11-11T11:56:27.999Z"
   },
   {
    "duration": 4,
    "start_time": "2022-11-11T11:56:28.036Z"
   },
   {
    "duration": 12,
    "start_time": "2022-11-11T11:56:28.041Z"
   },
   {
    "duration": 11,
    "start_time": "2022-11-11T11:56:28.054Z"
   },
   {
    "duration": 12,
    "start_time": "2022-11-11T11:56:28.067Z"
   },
   {
    "duration": 13,
    "start_time": "2022-11-11T11:56:30.027Z"
   },
   {
    "duration": 13,
    "start_time": "2022-11-11T11:56:50.115Z"
   }
  ],
  "kernelspec": {
   "display_name": "Python 3 (ipykernel)",
   "language": "python",
   "name": "python3"
  },
  "language_info": {
   "codemirror_mode": {
    "name": "ipython",
    "version": 3
   },
   "file_extension": ".py",
   "mimetype": "text/x-python",
   "name": "python",
   "nbconvert_exporter": "python",
   "pygments_lexer": "ipython3",
   "version": "3.9.5"
  },
  "toc": {
   "base_numbering": 1,
   "nav_menu": {},
   "number_sections": true,
   "sideBar": true,
   "skip_h1_title": true,
   "title_cell": "Table of Contents",
   "title_sidebar": "Contents",
   "toc_cell": false,
   "toc_position": {},
   "toc_section_display": true,
   "toc_window_display": true
  }
 },
 "nbformat": 4,
 "nbformat_minor": 2
}
