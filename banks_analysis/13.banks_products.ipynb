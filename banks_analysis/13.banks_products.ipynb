{
 "cells": [
  {
   "cell_type": "markdown",
   "metadata": {},
   "source": [
    "# Исследование клиентов банка по потреблению"
   ]
  },
  {
   "cell_type": "markdown",
   "metadata": {},
   "source": [
    "**Описание исследования**\n",
    "\n",
    "Заказчик - продукт-менеджер регионального банка «Метанпром».\n",
    "\n",
    "**Цель исследования** - разработать стратегию взаимодействия с клиентами для увеличения количества потребляемых продуктов. \n",
    "\n",
    "**Гипотезы:**\n",
    "1) Средний доход между теми клиентами, которые пользуются двумя продуктами банка, и теми, которые пользуются одним, различается\n",
    "\n",
    "2) Среднее количество баллов кредитного скоринга у клиентов, которые пользуются одним продуктом, и клиентов, которые пользуются двумя продуктами, различается \n",
    "\n",
    "**Описание данных**\n",
    "\n",
    "Входные данные - csv-файл, который содержит данные о клиентах банка «Метанпром».\n",
    "\n",
    "Таблица bank_dataset содержит следующие поля:\n",
    "- userid — идентификатор пользователя\n",
    "- score — баллы кредитного скоринга\n",
    "- City — город\n",
    "- Gender — пол\n",
    "- Age — возраст\n",
    "- Objects — количество объектов в собственности\n",
    "- Balance — баланс на счёте\n",
    "- Products — количество продуктов, которыми пользуется клиент\n",
    "- CreditCard — есть ли кредитная карта\n",
    "- Loyalty — активный клиент\n",
    "- estimated_salary — заработная плата клиента\n",
    "- Churn — факт оттока\n",
    "\n",
    "\n",
    "**Ход исследования**\n",
    " \n",
    "Перед тем, как разработать стратегию взаимодействия с клиентами, необходимо провести обзор данных, их предобработку, исследовательский анализ, сегментацию клиентов и проверку гипотез.\n",
    " \n",
    "Таким образом, исследование пройдёт в 6 этапов:\n",
    " 1. Обзор данных.\n",
    " 2. Предобработка данных.\n",
    " 3. Исследовательский анализ данных (EDA).\n",
    " 4. Сегментация клиентов.\n",
    " 5. Проверка гипотез.\n",
    " 6. Общий вывод."
   ]
  },
  {
   "cell_type": "markdown",
   "metadata": {},
   "source": [
    "## Обзор данных"
   ]
  },
  {
   "cell_type": "code",
   "execution_count": 1,
   "metadata": {},
   "outputs": [],
   "source": [
    "# Импорт библиотек\n",
    "import pandas as pd\n",
    "import numpy as np\n",
    "import matplotlib.pyplot as plt\n",
    "import seaborn as sns\n",
    "from scipy import stats as st\n",
    "\n",
    "import warnings\n",
    "warnings.filterwarnings('ignore')"
   ]
  },
  {
   "cell_type": "code",
   "execution_count": 2,
   "metadata": {},
   "outputs": [],
   "source": [
    "# Откроем датасет\n",
    "data = pd.read_csv('/datasets/bank_dataset.csv')"
   ]
  },
  {
   "cell_type": "code",
   "execution_count": 3,
   "metadata": {},
   "outputs": [
    {
     "name": "stdout",
     "output_type": "stream",
     "text": [
      "<class 'pandas.core.frame.DataFrame'>\n",
      "RangeIndex: 10000 entries, 0 to 9999\n",
      "Data columns (total 12 columns):\n",
      " #   Column            Non-Null Count  Dtype  \n",
      "---  ------            --------------  -----  \n",
      " 0   userid            10000 non-null  int64  \n",
      " 1   score             10000 non-null  int64  \n",
      " 2   City              10000 non-null  object \n",
      " 3   Gender            10000 non-null  object \n",
      " 4   Age               10000 non-null  int64  \n",
      " 5   Objects           10000 non-null  int64  \n",
      " 6   Balance           6383 non-null   float64\n",
      " 7   Products          10000 non-null  int64  \n",
      " 8   CreditCard        10000 non-null  int64  \n",
      " 9   Loyalty           10000 non-null  int64  \n",
      " 10  estimated_salary  10000 non-null  float64\n",
      " 11  Churn             10000 non-null  int64  \n",
      "dtypes: float64(2), int64(8), object(2)\n",
      "memory usage: 937.6+ KB\n"
     ]
    }
   ],
   "source": [
    "# Получим общую информацию о данных\n",
    "data.info()"
   ]
  },
  {
   "cell_type": "code",
   "execution_count": 4,
   "metadata": {},
   "outputs": [
    {
     "data": {
      "text/plain": [
       "0"
      ]
     },
     "execution_count": 4,
     "metadata": {},
     "output_type": "execute_result"
    }
   ],
   "source": [
    "# Проверим датасет на наличие дубликатов\n",
    "data.duplicated().sum()"
   ]
  },
  {
   "cell_type": "markdown",
   "metadata": {},
   "source": [
    "**Вывод:**\n",
    "\n",
    "- Всего в таблице: 11 столбцов и 10000 строк\n",
    "- В столбце Balance есть пропущенные значения, это означает, что не у всех клиентов банка есть дебетовый счет и пропуски лучше оставить как есть\n",
    "- Дубликаты в таблице не найдены\n",
    "- Типы данных соответствуют, столбец gender можно перекодировать в двоичную систему для дальнейшего подсчета корреляции\n",
    "- Названия столбцов необходимо привести к одному виду"
   ]
  },
  {
   "cell_type": "markdown",
   "metadata": {},
   "source": [
    "## Предобработка данных"
   ]
  },
  {
   "cell_type": "code",
   "execution_count": 5,
   "metadata": {},
   "outputs": [],
   "source": [
    "# Приводим названия столбцов к одному виду\n",
    "data.columns = data.columns.str.lower()\n",
    "data = data.rename(columns = {'userid': 'user_id', 'creditcard' : 'credit_card'})"
   ]
  },
  {
   "cell_type": "code",
   "execution_count": 6,
   "metadata": {},
   "outputs": [],
   "source": [
    "# Заменим значения в столбце gender на числовые, где 0 = мужской, 1 = женский\n",
    "data['gender'] = data['gender'].replace({'Ж':1, 'М':0})"
   ]
  },
  {
   "cell_type": "code",
   "execution_count": 7,
   "metadata": {},
   "outputs": [],
   "source": [
    "# Перекодируем значения столбца city в бинарные, изменим названия новых столбцов\n",
    "data['city_1'] = data['city']\n",
    "data = pd.get_dummies(data, columns=['city_1']) \n",
    "data = data.rename(columns={'city_1_Ростов Великий':'rostov_velikiy', 'city_1_Рыбинск':'rybinsk', 'city_1_Ярославль':'yaroslavl'})"
   ]
  },
  {
   "cell_type": "code",
   "execution_count": 8,
   "metadata": {},
   "outputs": [
    {
     "name": "stdout",
     "output_type": "stream",
     "text": [
      "<class 'pandas.core.frame.DataFrame'>\n",
      "RangeIndex: 10000 entries, 0 to 9999\n",
      "Data columns (total 15 columns):\n",
      " #   Column            Non-Null Count  Dtype  \n",
      "---  ------            --------------  -----  \n",
      " 0   user_id           10000 non-null  int64  \n",
      " 1   score             10000 non-null  int64  \n",
      " 2   city              10000 non-null  object \n",
      " 3   gender            10000 non-null  int64  \n",
      " 4   age               10000 non-null  int64  \n",
      " 5   objects           10000 non-null  int64  \n",
      " 6   balance           6383 non-null   float64\n",
      " 7   products          10000 non-null  int64  \n",
      " 8   credit_card       10000 non-null  int64  \n",
      " 9   loyalty           10000 non-null  int64  \n",
      " 10  estimated_salary  10000 non-null  float64\n",
      " 11  churn             10000 non-null  int64  \n",
      " 12  rostov_velikiy    10000 non-null  uint8  \n",
      " 13  rybinsk           10000 non-null  uint8  \n",
      " 14  yaroslavl         10000 non-null  uint8  \n",
      "dtypes: float64(2), int64(9), object(1), uint8(3)\n",
      "memory usage: 966.9+ KB\n"
     ]
    }
   ],
   "source": [
    "# Проверим\n",
    "data.info()"
   ]
  },
  {
   "cell_type": "markdown",
   "metadata": {},
   "source": [
    "**Вывод:**\n",
    "- Приведены к одному виду названия столбцов датасета\n",
    "- Категории заменены на числовые значения в столбце gender и city"
   ]
  },
  {
   "cell_type": "markdown",
   "metadata": {},
   "source": [
    "##  Исследовательский анализ данных"
   ]
  },
  {
   "cell_type": "markdown",
   "metadata": {},
   "source": [
    "### Описательные статистики"
   ]
  },
  {
   "cell_type": "code",
   "execution_count": 9,
   "metadata": {},
   "outputs": [
    {
     "data": {
      "text/html": [
       "<div>\n",
       "<style scoped>\n",
       "    .dataframe tbody tr th:only-of-type {\n",
       "        vertical-align: middle;\n",
       "    }\n",
       "\n",
       "    .dataframe tbody tr th {\n",
       "        vertical-align: top;\n",
       "    }\n",
       "\n",
       "    .dataframe thead th {\n",
       "        text-align: right;\n",
       "    }\n",
       "</style>\n",
       "<table border=\"1\" class=\"dataframe\">\n",
       "  <thead>\n",
       "    <tr style=\"text-align: right;\">\n",
       "      <th></th>\n",
       "      <th>user_id</th>\n",
       "      <th>score</th>\n",
       "      <th>gender</th>\n",
       "      <th>age</th>\n",
       "      <th>objects</th>\n",
       "      <th>balance</th>\n",
       "      <th>products</th>\n",
       "      <th>credit_card</th>\n",
       "      <th>loyalty</th>\n",
       "      <th>estimated_salary</th>\n",
       "      <th>churn</th>\n",
       "      <th>rostov_velikiy</th>\n",
       "      <th>rybinsk</th>\n",
       "      <th>yaroslavl</th>\n",
       "    </tr>\n",
       "  </thead>\n",
       "  <tbody>\n",
       "    <tr>\n",
       "      <th>count</th>\n",
       "      <td>1.000000e+04</td>\n",
       "      <td>10000.000000</td>\n",
       "      <td>10000.000000</td>\n",
       "      <td>10000.000000</td>\n",
       "      <td>10000.000000</td>\n",
       "      <td>6383.000000</td>\n",
       "      <td>10000.000000</td>\n",
       "      <td>10000.00000</td>\n",
       "      <td>10000.000000</td>\n",
       "      <td>10000.000000</td>\n",
       "      <td>10000.000000</td>\n",
       "      <td>10000.000000</td>\n",
       "      <td>10000.000000</td>\n",
       "      <td>10000.000000</td>\n",
       "    </tr>\n",
       "    <tr>\n",
       "      <th>mean</th>\n",
       "      <td>1.573368e+07</td>\n",
       "      <td>650.528800</td>\n",
       "      <td>0.454300</td>\n",
       "      <td>38.921800</td>\n",
       "      <td>5.012800</td>\n",
       "      <td>119827.493793</td>\n",
       "      <td>1.530200</td>\n",
       "      <td>0.70550</td>\n",
       "      <td>0.515100</td>\n",
       "      <td>100090.239881</td>\n",
       "      <td>0.203700</td>\n",
       "      <td>0.250900</td>\n",
       "      <td>0.247700</td>\n",
       "      <td>0.501400</td>\n",
       "    </tr>\n",
       "    <tr>\n",
       "      <th>std</th>\n",
       "      <td>7.193619e+04</td>\n",
       "      <td>96.653299</td>\n",
       "      <td>0.497932</td>\n",
       "      <td>10.487806</td>\n",
       "      <td>2.892174</td>\n",
       "      <td>30095.056462</td>\n",
       "      <td>0.581654</td>\n",
       "      <td>0.45584</td>\n",
       "      <td>0.499797</td>\n",
       "      <td>57510.492818</td>\n",
       "      <td>0.402769</td>\n",
       "      <td>0.433553</td>\n",
       "      <td>0.431698</td>\n",
       "      <td>0.500023</td>\n",
       "    </tr>\n",
       "    <tr>\n",
       "      <th>min</th>\n",
       "      <td>1.560844e+07</td>\n",
       "      <td>350.000000</td>\n",
       "      <td>0.000000</td>\n",
       "      <td>18.000000</td>\n",
       "      <td>0.000000</td>\n",
       "      <td>3768.690000</td>\n",
       "      <td>1.000000</td>\n",
       "      <td>0.00000</td>\n",
       "      <td>0.000000</td>\n",
       "      <td>11.580000</td>\n",
       "      <td>0.000000</td>\n",
       "      <td>0.000000</td>\n",
       "      <td>0.000000</td>\n",
       "      <td>0.000000</td>\n",
       "    </tr>\n",
       "    <tr>\n",
       "      <th>25%</th>\n",
       "      <td>1.567126e+07</td>\n",
       "      <td>584.000000</td>\n",
       "      <td>0.000000</td>\n",
       "      <td>32.000000</td>\n",
       "      <td>3.000000</td>\n",
       "      <td>100181.975000</td>\n",
       "      <td>1.000000</td>\n",
       "      <td>0.00000</td>\n",
       "      <td>0.000000</td>\n",
       "      <td>51002.110000</td>\n",
       "      <td>0.000000</td>\n",
       "      <td>0.000000</td>\n",
       "      <td>0.000000</td>\n",
       "      <td>0.000000</td>\n",
       "    </tr>\n",
       "    <tr>\n",
       "      <th>50%</th>\n",
       "      <td>1.573347e+07</td>\n",
       "      <td>652.000000</td>\n",
       "      <td>0.000000</td>\n",
       "      <td>37.000000</td>\n",
       "      <td>5.000000</td>\n",
       "      <td>119839.690000</td>\n",
       "      <td>1.000000</td>\n",
       "      <td>1.00000</td>\n",
       "      <td>1.000000</td>\n",
       "      <td>100193.915000</td>\n",
       "      <td>0.000000</td>\n",
       "      <td>0.000000</td>\n",
       "      <td>0.000000</td>\n",
       "      <td>1.000000</td>\n",
       "    </tr>\n",
       "    <tr>\n",
       "      <th>75%</th>\n",
       "      <td>1.579597e+07</td>\n",
       "      <td>718.000000</td>\n",
       "      <td>1.000000</td>\n",
       "      <td>44.000000</td>\n",
       "      <td>7.000000</td>\n",
       "      <td>139512.290000</td>\n",
       "      <td>2.000000</td>\n",
       "      <td>1.00000</td>\n",
       "      <td>1.000000</td>\n",
       "      <td>149388.247500</td>\n",
       "      <td>0.000000</td>\n",
       "      <td>1.000000</td>\n",
       "      <td>0.000000</td>\n",
       "      <td>1.000000</td>\n",
       "    </tr>\n",
       "    <tr>\n",
       "      <th>max</th>\n",
       "      <td>1.585843e+07</td>\n",
       "      <td>850.000000</td>\n",
       "      <td>1.000000</td>\n",
       "      <td>92.000000</td>\n",
       "      <td>10.000000</td>\n",
       "      <td>250898.090000</td>\n",
       "      <td>4.000000</td>\n",
       "      <td>1.00000</td>\n",
       "      <td>1.000000</td>\n",
       "      <td>199992.480000</td>\n",
       "      <td>1.000000</td>\n",
       "      <td>1.000000</td>\n",
       "      <td>1.000000</td>\n",
       "      <td>1.000000</td>\n",
       "    </tr>\n",
       "  </tbody>\n",
       "</table>\n",
       "</div>"
      ],
      "text/plain": [
       "            user_id         score        gender           age       objects  \\\n",
       "count  1.000000e+04  10000.000000  10000.000000  10000.000000  10000.000000   \n",
       "mean   1.573368e+07    650.528800      0.454300     38.921800      5.012800   \n",
       "std    7.193619e+04     96.653299      0.497932     10.487806      2.892174   \n",
       "min    1.560844e+07    350.000000      0.000000     18.000000      0.000000   \n",
       "25%    1.567126e+07    584.000000      0.000000     32.000000      3.000000   \n",
       "50%    1.573347e+07    652.000000      0.000000     37.000000      5.000000   \n",
       "75%    1.579597e+07    718.000000      1.000000     44.000000      7.000000   \n",
       "max    1.585843e+07    850.000000      1.000000     92.000000     10.000000   \n",
       "\n",
       "             balance      products  credit_card       loyalty  \\\n",
       "count    6383.000000  10000.000000  10000.00000  10000.000000   \n",
       "mean   119827.493793      1.530200      0.70550      0.515100   \n",
       "std     30095.056462      0.581654      0.45584      0.499797   \n",
       "min      3768.690000      1.000000      0.00000      0.000000   \n",
       "25%    100181.975000      1.000000      0.00000      0.000000   \n",
       "50%    119839.690000      1.000000      1.00000      1.000000   \n",
       "75%    139512.290000      2.000000      1.00000      1.000000   \n",
       "max    250898.090000      4.000000      1.00000      1.000000   \n",
       "\n",
       "       estimated_salary         churn  rostov_velikiy       rybinsk  \\\n",
       "count      10000.000000  10000.000000    10000.000000  10000.000000   \n",
       "mean      100090.239881      0.203700        0.250900      0.247700   \n",
       "std        57510.492818      0.402769        0.433553      0.431698   \n",
       "min           11.580000      0.000000        0.000000      0.000000   \n",
       "25%        51002.110000      0.000000        0.000000      0.000000   \n",
       "50%       100193.915000      0.000000        0.000000      0.000000   \n",
       "75%       149388.247500      0.000000        1.000000      0.000000   \n",
       "max       199992.480000      1.000000        1.000000      1.000000   \n",
       "\n",
       "          yaroslavl  \n",
       "count  10000.000000  \n",
       "mean       0.501400  \n",
       "std        0.500023  \n",
       "min        0.000000  \n",
       "25%        0.000000  \n",
       "50%        1.000000  \n",
       "75%        1.000000  \n",
       "max        1.000000  "
      ]
     },
     "execution_count": 9,
     "metadata": {},
     "output_type": "execute_result"
    }
   ],
   "source": [
    "# Посчитаем описательные статистики для всех числовых признаков методом describe\n",
    "data.describe()"
   ]
  },
  {
   "cell_type": "markdown",
   "metadata": {},
   "source": [
    "**Вывод:**\n",
    "- По среднему и стандартному отклонению мы видим, что числовые данные (кол-во обьектов, балланс, зарплата) достаточно вариабельны\n",
    "- Ключевой признак кол-во продуктов представлен от 1 (мин. значение) до 4 (макс. значение), однако по квартилям мы видим, что большинство (50%) клиентов пользуются одним продуктом, это стоит учитывать при сегментации\n",
    "- Другие важные признаки: кредитный скоринг и зарплата представлены от 350 (мин. значение) до 850 (макс. значение) и от 11 (мин. значение) до 199992 (макс. значение) соответственно, их среднее незначительно отличается от медианы, что может нам говорить об однородности распределения"
   ]
  },
  {
   "cell_type": "markdown",
   "metadata": {},
   "source": [
    "### Матрица корреляции"
   ]
  },
  {
   "cell_type": "code",
   "execution_count": 10,
   "metadata": {},
   "outputs": [
    {
     "data": {
      "text/html": [
       "<div>\n",
       "<style scoped>\n",
       "    .dataframe tbody tr th:only-of-type {\n",
       "        vertical-align: middle;\n",
       "    }\n",
       "\n",
       "    .dataframe tbody tr th {\n",
       "        vertical-align: top;\n",
       "    }\n",
       "\n",
       "    .dataframe thead th {\n",
       "        text-align: right;\n",
       "    }\n",
       "</style>\n",
       "<table border=\"1\" class=\"dataframe\">\n",
       "  <thead>\n",
       "    <tr style=\"text-align: right;\">\n",
       "      <th></th>\n",
       "      <th>user_id</th>\n",
       "      <th>score</th>\n",
       "      <th>gender</th>\n",
       "      <th>age</th>\n",
       "      <th>objects</th>\n",
       "      <th>balance</th>\n",
       "      <th>products</th>\n",
       "      <th>credit_card</th>\n",
       "      <th>loyalty</th>\n",
       "      <th>estimated_salary</th>\n",
       "      <th>churn</th>\n",
       "      <th>rostov_velikiy</th>\n",
       "      <th>rybinsk</th>\n",
       "      <th>yaroslavl</th>\n",
       "    </tr>\n",
       "  </thead>\n",
       "  <tbody>\n",
       "    <tr>\n",
       "      <th>user_id</th>\n",
       "      <td>1.000000</td>\n",
       "      <td>0.005308</td>\n",
       "      <td>0.002641</td>\n",
       "      <td>0.009497</td>\n",
       "      <td>-0.014883</td>\n",
       "      <td>-0.008690</td>\n",
       "      <td>0.016972</td>\n",
       "      <td>-0.014025</td>\n",
       "      <td>0.001665</td>\n",
       "      <td>0.015271</td>\n",
       "      <td>-0.006248</td>\n",
       "      <td>-0.003097</td>\n",
       "      <td>0.007800</td>\n",
       "      <td>-0.004049</td>\n",
       "    </tr>\n",
       "    <tr>\n",
       "      <th>score</th>\n",
       "      <td>0.005308</td>\n",
       "      <td>1.000000</td>\n",
       "      <td>0.002857</td>\n",
       "      <td>-0.003965</td>\n",
       "      <td>0.000842</td>\n",
       "      <td>-0.004744</td>\n",
       "      <td>0.012238</td>\n",
       "      <td>-0.005458</td>\n",
       "      <td>0.025651</td>\n",
       "      <td>-0.001384</td>\n",
       "      <td>-0.027094</td>\n",
       "      <td>0.005538</td>\n",
       "      <td>0.004780</td>\n",
       "      <td>-0.008928</td>\n",
       "    </tr>\n",
       "    <tr>\n",
       "      <th>gender</th>\n",
       "      <td>0.002641</td>\n",
       "      <td>0.002857</td>\n",
       "      <td>1.000000</td>\n",
       "      <td>0.027544</td>\n",
       "      <td>-0.014733</td>\n",
       "      <td>-0.025742</td>\n",
       "      <td>0.021859</td>\n",
       "      <td>-0.005766</td>\n",
       "      <td>-0.022544</td>\n",
       "      <td>0.008112</td>\n",
       "      <td>0.106512</td>\n",
       "      <td>0.024628</td>\n",
       "      <td>-0.016889</td>\n",
       "      <td>-0.006772</td>\n",
       "    </tr>\n",
       "    <tr>\n",
       "      <th>age</th>\n",
       "      <td>0.009497</td>\n",
       "      <td>-0.003965</td>\n",
       "      <td>0.027544</td>\n",
       "      <td>1.000000</td>\n",
       "      <td>-0.009997</td>\n",
       "      <td>-0.012822</td>\n",
       "      <td>-0.030680</td>\n",
       "      <td>-0.011721</td>\n",
       "      <td>0.085472</td>\n",
       "      <td>-0.007201</td>\n",
       "      <td>0.285323</td>\n",
       "      <td>0.046897</td>\n",
       "      <td>-0.001685</td>\n",
       "      <td>-0.039208</td>\n",
       "    </tr>\n",
       "    <tr>\n",
       "      <th>objects</th>\n",
       "      <td>-0.014883</td>\n",
       "      <td>0.000842</td>\n",
       "      <td>-0.014733</td>\n",
       "      <td>-0.009997</td>\n",
       "      <td>1.000000</td>\n",
       "      <td>0.005827</td>\n",
       "      <td>0.013444</td>\n",
       "      <td>0.022583</td>\n",
       "      <td>-0.028362</td>\n",
       "      <td>0.007784</td>\n",
       "      <td>-0.014001</td>\n",
       "      <td>-0.000567</td>\n",
       "      <td>0.003868</td>\n",
       "      <td>-0.002848</td>\n",
       "    </tr>\n",
       "    <tr>\n",
       "      <th>balance</th>\n",
       "      <td>-0.008690</td>\n",
       "      <td>-0.004744</td>\n",
       "      <td>-0.025742</td>\n",
       "      <td>-0.012822</td>\n",
       "      <td>0.005827</td>\n",
       "      <td>1.000000</td>\n",
       "      <td>-0.001027</td>\n",
       "      <td>0.006721</td>\n",
       "      <td>-0.020418</td>\n",
       "      <td>-0.001856</td>\n",
       "      <td>0.017208</td>\n",
       "      <td>-0.002604</td>\n",
       "      <td>-0.000208</td>\n",
       "      <td>0.002759</td>\n",
       "    </tr>\n",
       "    <tr>\n",
       "      <th>products</th>\n",
       "      <td>0.016972</td>\n",
       "      <td>0.012238</td>\n",
       "      <td>0.021859</td>\n",
       "      <td>-0.030680</td>\n",
       "      <td>0.013444</td>\n",
       "      <td>-0.001027</td>\n",
       "      <td>1.000000</td>\n",
       "      <td>0.003183</td>\n",
       "      <td>0.009612</td>\n",
       "      <td>0.014204</td>\n",
       "      <td>-0.047820</td>\n",
       "      <td>-0.010419</td>\n",
       "      <td>0.009039</td>\n",
       "      <td>0.001230</td>\n",
       "    </tr>\n",
       "    <tr>\n",
       "      <th>credit_card</th>\n",
       "      <td>-0.014025</td>\n",
       "      <td>-0.005458</td>\n",
       "      <td>-0.005766</td>\n",
       "      <td>-0.011721</td>\n",
       "      <td>0.022583</td>\n",
       "      <td>0.006721</td>\n",
       "      <td>0.003183</td>\n",
       "      <td>1.000000</td>\n",
       "      <td>-0.011866</td>\n",
       "      <td>-0.009933</td>\n",
       "      <td>-0.007138</td>\n",
       "      <td>0.010577</td>\n",
       "      <td>-0.013480</td>\n",
       "      <td>0.002467</td>\n",
       "    </tr>\n",
       "    <tr>\n",
       "      <th>loyalty</th>\n",
       "      <td>0.001665</td>\n",
       "      <td>0.025651</td>\n",
       "      <td>-0.022544</td>\n",
       "      <td>0.085472</td>\n",
       "      <td>-0.028362</td>\n",
       "      <td>-0.020418</td>\n",
       "      <td>0.009612</td>\n",
       "      <td>-0.011866</td>\n",
       "      <td>1.000000</td>\n",
       "      <td>-0.011421</td>\n",
       "      <td>-0.156128</td>\n",
       "      <td>-0.020486</td>\n",
       "      <td>0.016732</td>\n",
       "      <td>0.003317</td>\n",
       "    </tr>\n",
       "    <tr>\n",
       "      <th>estimated_salary</th>\n",
       "      <td>0.015271</td>\n",
       "      <td>-0.001384</td>\n",
       "      <td>0.008112</td>\n",
       "      <td>-0.007201</td>\n",
       "      <td>0.007784</td>\n",
       "      <td>-0.001856</td>\n",
       "      <td>0.014204</td>\n",
       "      <td>-0.009933</td>\n",
       "      <td>-0.011421</td>\n",
       "      <td>1.000000</td>\n",
       "      <td>0.012097</td>\n",
       "      <td>0.010297</td>\n",
       "      <td>-0.006482</td>\n",
       "      <td>-0.003332</td>\n",
       "    </tr>\n",
       "    <tr>\n",
       "      <th>churn</th>\n",
       "      <td>-0.006248</td>\n",
       "      <td>-0.027094</td>\n",
       "      <td>0.106512</td>\n",
       "      <td>0.285323</td>\n",
       "      <td>-0.014001</td>\n",
       "      <td>0.017208</td>\n",
       "      <td>-0.047820</td>\n",
       "      <td>-0.007138</td>\n",
       "      <td>-0.156128</td>\n",
       "      <td>0.012097</td>\n",
       "      <td>1.000000</td>\n",
       "      <td>0.173488</td>\n",
       "      <td>-0.052667</td>\n",
       "      <td>-0.104955</td>\n",
       "    </tr>\n",
       "    <tr>\n",
       "      <th>rostov_velikiy</th>\n",
       "      <td>-0.003097</td>\n",
       "      <td>0.005538</td>\n",
       "      <td>0.024628</td>\n",
       "      <td>0.046897</td>\n",
       "      <td>-0.000567</td>\n",
       "      <td>-0.002604</td>\n",
       "      <td>-0.010419</td>\n",
       "      <td>0.010577</td>\n",
       "      <td>-0.020486</td>\n",
       "      <td>0.010297</td>\n",
       "      <td>0.173488</td>\n",
       "      <td>1.000000</td>\n",
       "      <td>-0.332084</td>\n",
       "      <td>-0.580359</td>\n",
       "    </tr>\n",
       "    <tr>\n",
       "      <th>rybinsk</th>\n",
       "      <td>0.007800</td>\n",
       "      <td>0.004780</td>\n",
       "      <td>-0.016889</td>\n",
       "      <td>-0.001685</td>\n",
       "      <td>0.003868</td>\n",
       "      <td>-0.000208</td>\n",
       "      <td>0.009039</td>\n",
       "      <td>-0.013480</td>\n",
       "      <td>0.016732</td>\n",
       "      <td>-0.006482</td>\n",
       "      <td>-0.052667</td>\n",
       "      <td>-0.332084</td>\n",
       "      <td>1.000000</td>\n",
       "      <td>-0.575418</td>\n",
       "    </tr>\n",
       "    <tr>\n",
       "      <th>yaroslavl</th>\n",
       "      <td>-0.004049</td>\n",
       "      <td>-0.008928</td>\n",
       "      <td>-0.006772</td>\n",
       "      <td>-0.039208</td>\n",
       "      <td>-0.002848</td>\n",
       "      <td>0.002759</td>\n",
       "      <td>0.001230</td>\n",
       "      <td>0.002467</td>\n",
       "      <td>0.003317</td>\n",
       "      <td>-0.003332</td>\n",
       "      <td>-0.104955</td>\n",
       "      <td>-0.580359</td>\n",
       "      <td>-0.575418</td>\n",
       "      <td>1.000000</td>\n",
       "    </tr>\n",
       "  </tbody>\n",
       "</table>\n",
       "</div>"
      ],
      "text/plain": [
       "                   user_id     score    gender       age   objects   balance  \\\n",
       "user_id           1.000000  0.005308  0.002641  0.009497 -0.014883 -0.008690   \n",
       "score             0.005308  1.000000  0.002857 -0.003965  0.000842 -0.004744   \n",
       "gender            0.002641  0.002857  1.000000  0.027544 -0.014733 -0.025742   \n",
       "age               0.009497 -0.003965  0.027544  1.000000 -0.009997 -0.012822   \n",
       "objects          -0.014883  0.000842 -0.014733 -0.009997  1.000000  0.005827   \n",
       "balance          -0.008690 -0.004744 -0.025742 -0.012822  0.005827  1.000000   \n",
       "products          0.016972  0.012238  0.021859 -0.030680  0.013444 -0.001027   \n",
       "credit_card      -0.014025 -0.005458 -0.005766 -0.011721  0.022583  0.006721   \n",
       "loyalty           0.001665  0.025651 -0.022544  0.085472 -0.028362 -0.020418   \n",
       "estimated_salary  0.015271 -0.001384  0.008112 -0.007201  0.007784 -0.001856   \n",
       "churn            -0.006248 -0.027094  0.106512  0.285323 -0.014001  0.017208   \n",
       "rostov_velikiy   -0.003097  0.005538  0.024628  0.046897 -0.000567 -0.002604   \n",
       "rybinsk           0.007800  0.004780 -0.016889 -0.001685  0.003868 -0.000208   \n",
       "yaroslavl        -0.004049 -0.008928 -0.006772 -0.039208 -0.002848  0.002759   \n",
       "\n",
       "                  products  credit_card   loyalty  estimated_salary     churn  \\\n",
       "user_id           0.016972    -0.014025  0.001665          0.015271 -0.006248   \n",
       "score             0.012238    -0.005458  0.025651         -0.001384 -0.027094   \n",
       "gender            0.021859    -0.005766 -0.022544          0.008112  0.106512   \n",
       "age              -0.030680    -0.011721  0.085472         -0.007201  0.285323   \n",
       "objects           0.013444     0.022583 -0.028362          0.007784 -0.014001   \n",
       "balance          -0.001027     0.006721 -0.020418         -0.001856  0.017208   \n",
       "products          1.000000     0.003183  0.009612          0.014204 -0.047820   \n",
       "credit_card       0.003183     1.000000 -0.011866         -0.009933 -0.007138   \n",
       "loyalty           0.009612    -0.011866  1.000000         -0.011421 -0.156128   \n",
       "estimated_salary  0.014204    -0.009933 -0.011421          1.000000  0.012097   \n",
       "churn            -0.047820    -0.007138 -0.156128          0.012097  1.000000   \n",
       "rostov_velikiy   -0.010419     0.010577 -0.020486          0.010297  0.173488   \n",
       "rybinsk           0.009039    -0.013480  0.016732         -0.006482 -0.052667   \n",
       "yaroslavl         0.001230     0.002467  0.003317         -0.003332 -0.104955   \n",
       "\n",
       "                  rostov_velikiy   rybinsk  yaroslavl  \n",
       "user_id                -0.003097  0.007800  -0.004049  \n",
       "score                   0.005538  0.004780  -0.008928  \n",
       "gender                  0.024628 -0.016889  -0.006772  \n",
       "age                     0.046897 -0.001685  -0.039208  \n",
       "objects                -0.000567  0.003868  -0.002848  \n",
       "balance                -0.002604 -0.000208   0.002759  \n",
       "products               -0.010419  0.009039   0.001230  \n",
       "credit_card             0.010577 -0.013480   0.002467  \n",
       "loyalty                -0.020486  0.016732   0.003317  \n",
       "estimated_salary        0.010297 -0.006482  -0.003332  \n",
       "churn                   0.173488 -0.052667  -0.104955  \n",
       "rostov_velikiy          1.000000 -0.332084  -0.580359  \n",
       "rybinsk                -0.332084  1.000000  -0.575418  \n",
       "yaroslavl              -0.580359 -0.575418   1.000000  "
      ]
     },
     "execution_count": 10,
     "metadata": {},
     "output_type": "execute_result"
    }
   ],
   "source": [
    "# Построим матрицу кооредяции для всех признаков\n",
    "data.corr()"
   ]
  },
  {
   "cell_type": "code",
   "execution_count": 11,
   "metadata": {},
   "outputs": [
    {
     "data": {
      "image/png": "[encoded data removed]",
      "text/plain": [
       "<Figure size 720x576 with 2 Axes>"
      ]
     },
     "metadata": {
      "needs_background": "light"
     },
     "output_type": "display_data"
    }
   ],
   "source": [
    "# Визуализируем корреляционную матрицу\n",
    "plt.figure(figsize=(10, 8))\n",
    "sns.heatmap(data.corr().round(decimals=2), annot = True, fmt='.1g')\n",
    "plt.title('График матрицы корреляции для всех признаков')\n",
    "plt.show()"
   ]
  },
  {
   "cell_type": "markdown",
   "metadata": {},
   "source": [
    "**Вывод:**\n",
    "- По матрице корреляции мы видим, что большинство признаков между собой практически не коррелируют, слабая зависимость обнаруживается между признаками пол, возраст, лояльность, фактом проживания в Ростове Великом и фактом оттока.\n",
    "- По ключевым признакам (кол-во продуктов, зарплата, кредитный скоринг) какой-либо зависимости не обнаружено."
   ]
  },
  {
   "cell_type": "markdown",
   "metadata": {},
   "source": [
    "## Сегментация клиентов"
   ]
  },
  {
   "cell_type": "markdown",
   "metadata": {},
   "source": [
    "Сегментацию клиентов можно произвести двумя способами, группировка на 4 сегмента по количеству продуктов и более однородная по количеству группировка по квартилям на 3 сегмента. Построим обе группировки с выводом среднего и сравним."
   ]
  },
  {
   "cell_type": "markdown",
   "metadata": {},
   "source": [
    "### Сегментация"
   ]
  },
  {
   "cell_type": "code",
   "execution_count": 12,
   "metadata": {},
   "outputs": [],
   "source": [
    "# Напишем функцию для вывода основных данных: среднее всех признаков и количество клиентов\n",
    "def get_segments(data, col):\n",
    "    print(data.groupby(col)['user_id'].count())\n",
    "    return data.groupby(col).agg('mean')"
   ]
  },
  {
   "cell_type": "code",
   "execution_count": 13,
   "metadata": {},
   "outputs": [
    {
     "name": "stdout",
     "output_type": "stream",
     "text": [
      "products\n",
      "1    5084\n",
      "2    4590\n",
      "3     266\n",
      "4      60\n",
      "Name: user_id, dtype: int64\n"
     ]
    },
    {
     "data": {
      "text/html": [
       "<div>\n",
       "<style scoped>\n",
       "    .dataframe tbody tr th:only-of-type {\n",
       "        vertical-align: middle;\n",
       "    }\n",
       "\n",
       "    .dataframe tbody tr th {\n",
       "        vertical-align: top;\n",
       "    }\n",
       "\n",
       "    .dataframe thead th {\n",
       "        text-align: right;\n",
       "    }\n",
       "</style>\n",
       "<table border=\"1\" class=\"dataframe\">\n",
       "  <thead>\n",
       "    <tr style=\"text-align: right;\">\n",
       "      <th></th>\n",
       "      <th>user_id</th>\n",
       "      <th>score</th>\n",
       "      <th>gender</th>\n",
       "      <th>age</th>\n",
       "      <th>objects</th>\n",
       "      <th>balance</th>\n",
       "      <th>credit_card</th>\n",
       "      <th>loyalty</th>\n",
       "      <th>estimated_salary</th>\n",
       "      <th>churn</th>\n",
       "      <th>rostov_velikiy</th>\n",
       "      <th>rybinsk</th>\n",
       "      <th>yaroslavl</th>\n",
       "    </tr>\n",
       "    <tr>\n",
       "      <th>products</th>\n",
       "      <th></th>\n",
       "      <th></th>\n",
       "      <th></th>\n",
       "      <th></th>\n",
       "      <th></th>\n",
       "      <th></th>\n",
       "      <th></th>\n",
       "      <th></th>\n",
       "      <th></th>\n",
       "      <th></th>\n",
       "      <th></th>\n",
       "      <th></th>\n",
       "      <th></th>\n",
       "    </tr>\n",
       "  </thead>\n",
       "  <tbody>\n",
       "    <tr>\n",
       "      <th>1</th>\n",
       "      <td>1.573237e+07</td>\n",
       "      <td>649.120968</td>\n",
       "      <td>0.451613</td>\n",
       "      <td>39.673092</td>\n",
       "      <td>4.974626</td>\n",
       "      <td>119894.163723</td>\n",
       "      <td>0.703777</td>\n",
       "      <td>0.504131</td>\n",
       "      <td>99487.256851</td>\n",
       "      <td>0.277144</td>\n",
       "      <td>0.265342</td>\n",
       "      <td>0.240165</td>\n",
       "      <td>0.494493</td>\n",
       "    </tr>\n",
       "    <tr>\n",
       "      <th>2</th>\n",
       "      <td>1.573484e+07</td>\n",
       "      <td>652.188671</td>\n",
       "      <td>0.448802</td>\n",
       "      <td>37.753595</td>\n",
       "      <td>5.051852</td>\n",
       "      <td>119660.944362</td>\n",
       "      <td>0.707190</td>\n",
       "      <td>0.532898</td>\n",
       "      <td>100452.012821</td>\n",
       "      <td>0.075817</td>\n",
       "      <td>0.226580</td>\n",
       "      <td>0.257734</td>\n",
       "      <td>0.515686</td>\n",
       "    </tr>\n",
       "    <tr>\n",
       "      <th>3</th>\n",
       "      <td>1.574182e+07</td>\n",
       "      <td>648.105263</td>\n",
       "      <td>0.560150</td>\n",
       "      <td>43.195489</td>\n",
       "      <td>5.003759</td>\n",
       "      <td>119475.686310</td>\n",
       "      <td>0.714286</td>\n",
       "      <td>0.424812</td>\n",
       "      <td>104318.130564</td>\n",
       "      <td>0.827068</td>\n",
       "      <td>0.360902</td>\n",
       "      <td>0.248120</td>\n",
       "      <td>0.390977</td>\n",
       "    </tr>\n",
       "    <tr>\n",
       "      <th>4</th>\n",
       "      <td>1.571936e+07</td>\n",
       "      <td>653.583333</td>\n",
       "      <td>0.633333</td>\n",
       "      <td>45.683333</td>\n",
       "      <td>5.300000</td>\n",
       "      <td>122260.610870</td>\n",
       "      <td>0.683333</td>\n",
       "      <td>0.483333</td>\n",
       "      <td>104763.723333</td>\n",
       "      <td>1.000000</td>\n",
       "      <td>0.400000</td>\n",
       "      <td>0.116667</td>\n",
       "      <td>0.483333</td>\n",
       "    </tr>\n",
       "  </tbody>\n",
       "</table>\n",
       "</div>"
      ],
      "text/plain": [
       "               user_id       score    gender        age   objects  \\\n",
       "products                                                            \n",
       "1         1.573237e+07  649.120968  0.451613  39.673092  4.974626   \n",
       "2         1.573484e+07  652.188671  0.448802  37.753595  5.051852   \n",
       "3         1.574182e+07  648.105263  0.560150  43.195489  5.003759   \n",
       "4         1.571936e+07  653.583333  0.633333  45.683333  5.300000   \n",
       "\n",
       "                balance  credit_card   loyalty  estimated_salary     churn  \\\n",
       "products                                                                     \n",
       "1         119894.163723     0.703777  0.504131      99487.256851  0.277144   \n",
       "2         119660.944362     0.707190  0.532898     100452.012821  0.075817   \n",
       "3         119475.686310     0.714286  0.424812     104318.130564  0.827068   \n",
       "4         122260.610870     0.683333  0.483333     104763.723333  1.000000   \n",
       "\n",
       "          rostov_velikiy   rybinsk  yaroslavl  \n",
       "products                                       \n",
       "1               0.265342  0.240165   0.494493  \n",
       "2               0.226580  0.257734   0.515686  \n",
       "3               0.360902  0.248120   0.390977  \n",
       "4               0.400000  0.116667   0.483333  "
      ]
     },
     "execution_count": 13,
     "metadata": {},
     "output_type": "execute_result"
    }
   ],
   "source": [
    "# Выведем агрегированные данные для первого варианта сегментации - по кол-ву потребляемых продуктов\n",
    "get_segments(data, 'products')"
   ]
  },
  {
   "cell_type": "code",
   "execution_count": 14,
   "metadata": {},
   "outputs": [
    {
     "name": "stdout",
     "output_type": "stream",
     "text": [
      "group\n",
      "1    5084\n",
      "2    4590\n",
      "3     326\n",
      "Name: user_id, dtype: int64\n"
     ]
    },
    {
     "data": {
      "text/html": [
       "<div>\n",
       "<style scoped>\n",
       "    .dataframe tbody tr th:only-of-type {\n",
       "        vertical-align: middle;\n",
       "    }\n",
       "\n",
       "    .dataframe tbody tr th {\n",
       "        vertical-align: top;\n",
       "    }\n",
       "\n",
       "    .dataframe thead th {\n",
       "        text-align: right;\n",
       "    }\n",
       "</style>\n",
       "<table border=\"1\" class=\"dataframe\">\n",
       "  <thead>\n",
       "    <tr style=\"text-align: right;\">\n",
       "      <th></th>\n",
       "      <th>user_id</th>\n",
       "      <th>score</th>\n",
       "      <th>gender</th>\n",
       "      <th>age</th>\n",
       "      <th>objects</th>\n",
       "      <th>balance</th>\n",
       "      <th>products</th>\n",
       "      <th>credit_card</th>\n",
       "      <th>loyalty</th>\n",
       "      <th>estimated_salary</th>\n",
       "      <th>churn</th>\n",
       "      <th>rostov_velikiy</th>\n",
       "      <th>rybinsk</th>\n",
       "      <th>yaroslavl</th>\n",
       "    </tr>\n",
       "    <tr>\n",
       "      <th>group</th>\n",
       "      <th></th>\n",
       "      <th></th>\n",
       "      <th></th>\n",
       "      <th></th>\n",
       "      <th></th>\n",
       "      <th></th>\n",
       "      <th></th>\n",
       "      <th></th>\n",
       "      <th></th>\n",
       "      <th></th>\n",
       "      <th></th>\n",
       "      <th></th>\n",
       "      <th></th>\n",
       "      <th></th>\n",
       "    </tr>\n",
       "  </thead>\n",
       "  <tbody>\n",
       "    <tr>\n",
       "      <th>1</th>\n",
       "      <td>1.573237e+07</td>\n",
       "      <td>649.120968</td>\n",
       "      <td>0.451613</td>\n",
       "      <td>39.673092</td>\n",
       "      <td>4.974626</td>\n",
       "      <td>119894.163723</td>\n",
       "      <td>1.000000</td>\n",
       "      <td>0.703777</td>\n",
       "      <td>0.504131</td>\n",
       "      <td>99487.256851</td>\n",
       "      <td>0.277144</td>\n",
       "      <td>0.265342</td>\n",
       "      <td>0.240165</td>\n",
       "      <td>0.494493</td>\n",
       "    </tr>\n",
       "    <tr>\n",
       "      <th>2</th>\n",
       "      <td>1.573484e+07</td>\n",
       "      <td>652.188671</td>\n",
       "      <td>0.448802</td>\n",
       "      <td>37.753595</td>\n",
       "      <td>5.051852</td>\n",
       "      <td>119660.944362</td>\n",
       "      <td>2.000000</td>\n",
       "      <td>0.707190</td>\n",
       "      <td>0.532898</td>\n",
       "      <td>100452.012821</td>\n",
       "      <td>0.075817</td>\n",
       "      <td>0.226580</td>\n",
       "      <td>0.257734</td>\n",
       "      <td>0.515686</td>\n",
       "    </tr>\n",
       "    <tr>\n",
       "      <th>3</th>\n",
       "      <td>1.573768e+07</td>\n",
       "      <td>649.113497</td>\n",
       "      <td>0.573620</td>\n",
       "      <td>43.653374</td>\n",
       "      <td>5.058282</td>\n",
       "      <td>120074.314953</td>\n",
       "      <td>3.184049</td>\n",
       "      <td>0.708589</td>\n",
       "      <td>0.435583</td>\n",
       "      <td>104400.141503</td>\n",
       "      <td>0.858896</td>\n",
       "      <td>0.368098</td>\n",
       "      <td>0.223926</td>\n",
       "      <td>0.407975</td>\n",
       "    </tr>\n",
       "  </tbody>\n",
       "</table>\n",
       "</div>"
      ],
      "text/plain": [
       "            user_id       score    gender        age   objects        balance  \\\n",
       "group                                                                           \n",
       "1      1.573237e+07  649.120968  0.451613  39.673092  4.974626  119894.163723   \n",
       "2      1.573484e+07  652.188671  0.448802  37.753595  5.051852  119660.944362   \n",
       "3      1.573768e+07  649.113497  0.573620  43.653374  5.058282  120074.314953   \n",
       "\n",
       "       products  credit_card   loyalty  estimated_salary     churn  \\\n",
       "group                                                                \n",
       "1      1.000000     0.703777  0.504131      99487.256851  0.277144   \n",
       "2      2.000000     0.707190  0.532898     100452.012821  0.075817   \n",
       "3      3.184049     0.708589  0.435583     104400.141503  0.858896   \n",
       "\n",
       "       rostov_velikiy   rybinsk  yaroslavl  \n",
       "group                                       \n",
       "1            0.265342  0.240165   0.494493  \n",
       "2            0.226580  0.257734   0.515686  \n",
       "3            0.368098  0.223926   0.407975  "
      ]
     },
     "execution_count": 14,
     "metadata": {},
     "output_type": "execute_result"
    }
   ],
   "source": [
    "# Создадим столбец с преобразованным номером группы и выведем агрегированные данные для второго варианта сегментации \n",
    "data['group'] = data['products'].map({1:1, 2:2, 3:3, 4:3})\n",
    "get_segments(data, 'group')"
   ]
  },
  {
   "cell_type": "code",
   "execution_count": 15,
   "metadata": {},
   "outputs": [
    {
     "data": {
      "text/html": [
       "<div>\n",
       "<style scoped>\n",
       "    .dataframe tbody tr th:only-of-type {\n",
       "        vertical-align: middle;\n",
       "    }\n",
       "\n",
       "    .dataframe tbody tr th {\n",
       "        vertical-align: top;\n",
       "    }\n",
       "\n",
       "    .dataframe thead th {\n",
       "        text-align: right;\n",
       "    }\n",
       "</style>\n",
       "<table border=\"1\" class=\"dataframe\">\n",
       "  <thead>\n",
       "    <tr style=\"text-align: right;\">\n",
       "      <th></th>\n",
       "      <th>products</th>\n",
       "      <th>group</th>\n",
       "    </tr>\n",
       "  </thead>\n",
       "  <tbody>\n",
       "    <tr>\n",
       "      <th>user_id</th>\n",
       "      <td>0.016972</td>\n",
       "      <td>0.019728</td>\n",
       "    </tr>\n",
       "    <tr>\n",
       "      <th>score</th>\n",
       "      <td>0.012238</td>\n",
       "      <td>0.012352</td>\n",
       "    </tr>\n",
       "    <tr>\n",
       "      <th>gender</th>\n",
       "      <td>0.021859</td>\n",
       "      <td>0.018820</td>\n",
       "    </tr>\n",
       "    <tr>\n",
       "      <th>age</th>\n",
       "      <td>-0.030680</td>\n",
       "      <td>-0.038710</td>\n",
       "    </tr>\n",
       "    <tr>\n",
       "      <th>objects</th>\n",
       "      <td>0.013444</td>\n",
       "      <td>0.012878</td>\n",
       "    </tr>\n",
       "    <tr>\n",
       "      <th>balance</th>\n",
       "      <td>-0.001027</td>\n",
       "      <td>-0.002138</td>\n",
       "    </tr>\n",
       "    <tr>\n",
       "      <th>products</th>\n",
       "      <td>1.000000</td>\n",
       "      <td>0.991517</td>\n",
       "    </tr>\n",
       "    <tr>\n",
       "      <th>credit_card</th>\n",
       "      <td>0.003183</td>\n",
       "      <td>0.003821</td>\n",
       "    </tr>\n",
       "    <tr>\n",
       "      <th>loyalty</th>\n",
       "      <td>0.009612</td>\n",
       "      <td>0.010647</td>\n",
       "    </tr>\n",
       "    <tr>\n",
       "      <th>estimated_salary</th>\n",
       "      <td>0.014204</td>\n",
       "      <td>0.013860</td>\n",
       "    </tr>\n",
       "    <tr>\n",
       "      <th>churn</th>\n",
       "      <td>-0.047820</td>\n",
       "      <td>-0.070736</td>\n",
       "    </tr>\n",
       "    <tr>\n",
       "      <th>rostov_velikiy</th>\n",
       "      <td>-0.010419</td>\n",
       "      <td>-0.014483</td>\n",
       "    </tr>\n",
       "    <tr>\n",
       "      <th>rybinsk</th>\n",
       "      <td>0.009039</td>\n",
       "      <td>0.012620</td>\n",
       "    </tr>\n",
       "    <tr>\n",
       "      <th>yaroslavl</th>\n",
       "      <td>0.001230</td>\n",
       "      <td>0.001662</td>\n",
       "    </tr>\n",
       "    <tr>\n",
       "      <th>group</th>\n",
       "      <td>0.991517</td>\n",
       "      <td>1.000000</td>\n",
       "    </tr>\n",
       "  </tbody>\n",
       "</table>\n",
       "</div>"
      ],
      "text/plain": [
       "                  products     group\n",
       "user_id           0.016972  0.019728\n",
       "score             0.012238  0.012352\n",
       "gender            0.021859  0.018820\n",
       "age              -0.030680 -0.038710\n",
       "objects           0.013444  0.012878\n",
       "balance          -0.001027 -0.002138\n",
       "products          1.000000  0.991517\n",
       "credit_card       0.003183  0.003821\n",
       "loyalty           0.009612  0.010647\n",
       "estimated_salary  0.014204  0.013860\n",
       "churn            -0.047820 -0.070736\n",
       "rostov_velikiy   -0.010419 -0.014483\n",
       "rybinsk           0.009039  0.012620\n",
       "yaroslavl         0.001230  0.001662\n",
       "group             0.991517  1.000000"
      ]
     },
     "execution_count": 15,
     "metadata": {},
     "output_type": "execute_result"
    }
   ],
   "source": [
    "# Сравним показатели корреляции для двух вариантов сегментации\n",
    "data.corr()[['products', 'group']]"
   ]
  },
  {
   "cell_type": "markdown",
   "metadata": {},
   "source": [
    "**Вывод:**\n",
    "- Обе сегментации показали заметную дифференциацию по кредитному скорингу, полу, возрасту, балансу, лояльности и оттоку. Это хорошее качество сегментации.\n",
    "- Однако, в первой сегментации 3 и 4 группы достаточно малочисленны, что может исказить результаты. Также эти группы встречаются редко, основные пороги представлены одним и двумя продуктами, на них стоит обратить особое внимание.\n",
    "- Корреляция не показала сильных различий\n",
    "- Таким образом, будем использовать второй варинт сегментацим - по частоте встречаемости потребления разного кол-ва продуктов."
   ]
  },
  {
   "cell_type": "markdown",
   "metadata": {},
   "source": [
    "### Анализ сегментов"
   ]
  },
  {
   "cell_type": "code",
   "execution_count": 16,
   "metadata": {},
   "outputs": [
    {
     "data": {
      "text/html": [
       "<div>\n",
       "<style scoped>\n",
       "    .dataframe tbody tr th:only-of-type {\n",
       "        vertical-align: middle;\n",
       "    }\n",
       "\n",
       "    .dataframe tbody tr th {\n",
       "        vertical-align: top;\n",
       "    }\n",
       "\n",
       "    .dataframe thead th {\n",
       "        text-align: right;\n",
       "    }\n",
       "</style>\n",
       "<table border=\"1\" class=\"dataframe\">\n",
       "  <thead>\n",
       "    <tr style=\"text-align: right;\">\n",
       "      <th></th>\n",
       "      <th>user_id</th>\n",
       "      <th>score</th>\n",
       "      <th>gender</th>\n",
       "      <th>age</th>\n",
       "      <th>objects</th>\n",
       "      <th>balance</th>\n",
       "      <th>products</th>\n",
       "      <th>credit_card</th>\n",
       "      <th>loyalty</th>\n",
       "      <th>estimated_salary</th>\n",
       "      <th>churn</th>\n",
       "      <th>rostov_velikiy</th>\n",
       "      <th>rybinsk</th>\n",
       "      <th>yaroslavl</th>\n",
       "    </tr>\n",
       "    <tr>\n",
       "      <th>group</th>\n",
       "      <th></th>\n",
       "      <th></th>\n",
       "      <th></th>\n",
       "      <th></th>\n",
       "      <th></th>\n",
       "      <th></th>\n",
       "      <th></th>\n",
       "      <th></th>\n",
       "      <th></th>\n",
       "      <th></th>\n",
       "      <th></th>\n",
       "      <th></th>\n",
       "      <th></th>\n",
       "      <th></th>\n",
       "    </tr>\n",
       "  </thead>\n",
       "  <tbody>\n",
       "    <tr>\n",
       "      <th>1</th>\n",
       "      <td>1.573237e+07</td>\n",
       "      <td>649.120968</td>\n",
       "      <td>0.451613</td>\n",
       "      <td>39.673092</td>\n",
       "      <td>4.974626</td>\n",
       "      <td>119894.163723</td>\n",
       "      <td>1.000000</td>\n",
       "      <td>0.703777</td>\n",
       "      <td>0.504131</td>\n",
       "      <td>99487.256851</td>\n",
       "      <td>0.277144</td>\n",
       "      <td>0.265342</td>\n",
       "      <td>0.240165</td>\n",
       "      <td>0.494493</td>\n",
       "    </tr>\n",
       "    <tr>\n",
       "      <th>2</th>\n",
       "      <td>1.573484e+07</td>\n",
       "      <td>652.188671</td>\n",
       "      <td>0.448802</td>\n",
       "      <td>37.753595</td>\n",
       "      <td>5.051852</td>\n",
       "      <td>119660.944362</td>\n",
       "      <td>2.000000</td>\n",
       "      <td>0.707190</td>\n",
       "      <td>0.532898</td>\n",
       "      <td>100452.012821</td>\n",
       "      <td>0.075817</td>\n",
       "      <td>0.226580</td>\n",
       "      <td>0.257734</td>\n",
       "      <td>0.515686</td>\n",
       "    </tr>\n",
       "    <tr>\n",
       "      <th>3</th>\n",
       "      <td>1.573768e+07</td>\n",
       "      <td>649.113497</td>\n",
       "      <td>0.573620</td>\n",
       "      <td>43.653374</td>\n",
       "      <td>5.058282</td>\n",
       "      <td>120074.314953</td>\n",
       "      <td>3.184049</td>\n",
       "      <td>0.708589</td>\n",
       "      <td>0.435583</td>\n",
       "      <td>104400.141503</td>\n",
       "      <td>0.858896</td>\n",
       "      <td>0.368098</td>\n",
       "      <td>0.223926</td>\n",
       "      <td>0.407975</td>\n",
       "    </tr>\n",
       "  </tbody>\n",
       "</table>\n",
       "</div>"
      ],
      "text/plain": [
       "            user_id       score    gender        age   objects        balance  \\\n",
       "group                                                                           \n",
       "1      1.573237e+07  649.120968  0.451613  39.673092  4.974626  119894.163723   \n",
       "2      1.573484e+07  652.188671  0.448802  37.753595  5.051852  119660.944362   \n",
       "3      1.573768e+07  649.113497  0.573620  43.653374  5.058282  120074.314953   \n",
       "\n",
       "       products  credit_card   loyalty  estimated_salary     churn  \\\n",
       "group                                                                \n",
       "1      1.000000     0.703777  0.504131      99487.256851  0.277144   \n",
       "2      2.000000     0.707190  0.532898     100452.012821  0.075817   \n",
       "3      3.184049     0.708589  0.435583     104400.141503  0.858896   \n",
       "\n",
       "       rostov_velikiy   rybinsk  yaroslavl  \n",
       "group                                       \n",
       "1            0.265342  0.240165   0.494493  \n",
       "2            0.226580  0.257734   0.515686  \n",
       "3            0.368098  0.223926   0.407975  "
      ]
     },
     "execution_count": 16,
     "metadata": {},
     "output_type": "execute_result"
    }
   ],
   "source": [
    "# Повторно отобразим среднее по каждому признаку для трех сегментов\n",
    "data.groupby('group').agg('mean')"
   ]
  },
  {
   "cell_type": "code",
   "execution_count": 17,
   "metadata": {},
   "outputs": [],
   "source": [
    "# Напишем функцию для визуализации бинарных и категориальных признаков\n",
    "signs = ['gender', 'credit_card', 'loyalty', 'churn', 'city']\n",
    "\n",
    "def get_pie(signs, n, title):\n",
    "    fig = plt.figure(figsize=(20, 10))\n",
    "    fig.suptitle(title)\n",
    "    for i, col in enumerate(signs):\n",
    "        plt.subplot(2, 3, i + 1)\n",
    "        data.query('group == @n').groupby(col)[col].count().plot.pie(subplots=True, figsize=(11, 6), colors=sns.color_palette('spring_r'), autopct='%.0f%%', textprops=dict(color='olive'))\n",
    "        plt.ylabel(None)\n",
    "        plt.title(f'Признак {col}')"
   ]
  },
  {
   "cell_type": "code",
   "execution_count": 18,
   "metadata": {},
   "outputs": [
    {
     "data": {
      "image/png": "[encoded data removed]",
      "text/plain": [
       "<Figure size 1440x720 with 5 Axes>"
      ]
     },
     "metadata": {},
     "output_type": "display_data"
    }
   ],
   "source": [
    "# Построим график распределения для первого сегмента\n",
    "get_pie(signs, 1, 'Распределение бинарных признаков в первом сегменте')"
   ]
  },
  {
   "cell_type": "code",
   "execution_count": 19,
   "metadata": {},
   "outputs": [
    {
     "data": {
      "image/png": "[encoded data removed]",
      "text/plain": [
       "<Figure size 1440x720 with 5 Axes>"
      ]
     },
     "metadata": {},
     "output_type": "display_data"
    }
   ],
   "source": [
    "# Построим график распределения для второго сегмента\n",
    "get_pie(signs, 2, 'Распределение бинарных признаков во втором сегменте')"
   ]
  },
  {
   "cell_type": "code",
   "execution_count": 20,
   "metadata": {},
   "outputs": [
    {
     "data": {
      "image/png": "[encoded data removed]",
      "text/plain": [
       "<Figure size 1440x720 with 5 Axes>"
      ]
     },
     "metadata": {},
     "output_type": "display_data"
    }
   ],
   "source": [
    "# Построим график распределения для третьего сегмента\n",
    "get_pie(signs, 3, 'Распределение бинарных признаков во втором сегменте')"
   ]
  },
  {
   "cell_type": "code",
   "execution_count": 21,
   "metadata": {},
   "outputs": [
    {
     "data": {
      "image/png": "[encoded data removed]",
      "text/plain": [
       "<Figure size 1296x720 with 5 Axes>"
      ]
     },
     "metadata": {
      "needs_background": "light"
     },
     "output_type": "display_data"
    }
   ],
   "source": [
    "# Построим графики распределения числовых признаков\n",
    "num_signs = ['score', 'age', 'objects', 'balance', 'estimated_salary']\n",
    "\n",
    "fig1 = plt.figure(figsize=(18, 10))\n",
    "fig1.suptitle('Распределение числовых признаков в разрезе сегментов')\n",
    "\n",
    "for i, col in enumerate(num_signs):\n",
    "    plt.subplot(2, 3, i + 1)\n",
    "    sns.boxplot(data = data, y =col, x='group', palette='spring').set(xlabel = 'Сегменты')"
   ]
  },
  {
   "cell_type": "code",
   "execution_count": 22,
   "metadata": {},
   "outputs": [
    {
     "data": {
      "text/plain": [
       "0.17800944138473643"
      ]
     },
     "execution_count": 22,
     "metadata": {},
     "output_type": "execute_result"
    }
   ],
   "source": [
    "# Посчитаем долю клиентов 1 сегмента без дебетового счета\n",
    "data.query('group == 1')['balance'].isna().sum()/len(data.query('group == 1'))"
   ]
  },
  {
   "cell_type": "code",
   "execution_count": 23,
   "metadata": {},
   "outputs": [
    {
     "data": {
      "text/plain": [
       "0.5664488017429193"
      ]
     },
     "execution_count": 23,
     "metadata": {},
     "output_type": "execute_result"
    }
   ],
   "source": [
    "# Посчитаем долю клиентов 2 сегмента без дебетового счета\n",
    "data.query('group == 2')['balance'].isna().sum()/len(data.query('group == 2'))"
   ]
  },
  {
   "cell_type": "code",
   "execution_count": 24,
   "metadata": {},
   "outputs": [
    {
     "data": {
      "text/plain": [
       "0.34355828220858897"
      ]
     },
     "execution_count": 24,
     "metadata": {},
     "output_type": "execute_result"
    }
   ],
   "source": [
    "# Посчитаем долю клиентов 3 сегмента без дебетового счета\n",
    "data.query('group == 3')['balance'].isna().sum()/len(data.query('group == 3'))"
   ]
  },
  {
   "cell_type": "markdown",
   "metadata": {},
   "source": [
    "**Вывод**\n",
    "\n",
    "Судя по распределению бинарных признаков и среднему:\n",
    "- **1 сегмент**: больше клиентов мужского пола, больше пользователей кредитной карты, схожее количество активных и неактивных клиентов (доля активных клиентов - 0,50), больше тех, кто не ушел в отток (доля оттока - 0,27). Больше всего клиентов в городе Ярославль. Средний доход по сегменту ~ 99 тысяч. Средний баланс по сегменту ~ 119 тысяч.\n",
    "- **2 сегмент**: больше клиентов мужского пола, больше пользователей кредитной карты, больше активных клиентов (доля активных клиентов - 0,53), значительно больше тех, кто не ушел в отток (доля оттока - 0,07). Больше всего клиентов в городе Ярославль. Средний доход по сегменту ~ 100 тысяч. Средний баланс по сегменту ~ 119 тысяч.\n",
    "- **3 сегмент**: больше клиентов женского пола, больше пользователей кредитной карты, больше неактивных клиентов (доля активных клиентов - 0,43), больше тех, кто ушел в отток (доля оттока - 0,85). Больше всего клиентов в городе Ярославль, однако клиентов из города Ростов Великий больше, чем в других сегментов, это может влиять на отток. У клиентов третьего сегмента баланс и доход выше (104 тысячи и 120 тысяч соответственно), чем у клиентов остальных сегментов, однако это разница в 1%. \n",
    "\n",
    "Таким образом, наиболее стабильным и привлекательным является второй сегмент, в нем больше доля активных клиентов и меньше доля оттока. Третий сегмент можно отнести в категорию риска, так как, несмотря на то, что клиенты пользуются тремя и четырьмя продуктами, доля оттока очень высокая, клиенты чаще становятся неактивными. Следовательно, обратить внимание необходимо на клиентов, которые пользуются одним продуктом, и перевести их во второй сегмент, предложить еще один продукт."
   ]
  },
  {
   "cell_type": "markdown",
   "metadata": {},
   "source": [
    "## Проверка гипотез"
   ]
  },
  {
   "cell_type": "markdown",
   "metadata": {},
   "source": [
    "### Гипотеза №1"
   ]
  },
  {
   "cell_type": "markdown",
   "metadata": {},
   "source": [
    "Гипотеза №1 - Средний доход между теми клиентами, которые пользуются двумя продуктами банка, и теми, которые пользуются одним, различается"
   ]
  },
  {
   "cell_type": "code",
   "execution_count": 25,
   "metadata": {},
   "outputs": [],
   "source": [
    "# Для проверки гипотез создадим таблицы с данными клиентов первого и второго сегмента\n",
    "data_1 = data.query('products == 1')\n",
    "data_2 = data.query('products == 2')"
   ]
  },
  {
   "cell_type": "code",
   "execution_count": 26,
   "metadata": {},
   "outputs": [
    {
     "data": {
      "image/png": "[encoded data removed]",
      "text/plain": [
       "<Figure size 432x288 with 1 Axes>"
      ]
     },
     "metadata": {
      "needs_background": "light"
     },
     "output_type": "display_data"
    }
   ],
   "source": [
    "# Визуально оценим нормальность распределения\n",
    "plt.hist(data_1['estimated_salary'], bins=100, color = 'pink', label = '1 сегмент')\n",
    "plt.hist(data_2['estimated_salary'], bins=100, color = 'orange', label = '2 сегмент')\n",
    "plt.title('Распределение дохода клиентов первого и второго сегмента')\n",
    "plt.ylabel('Количество клиентов')\n",
    "plt.legend()\n",
    "plt.show()"
   ]
  },
  {
   "cell_type": "markdown",
   "metadata": {},
   "source": [
    "Распределение далеко от нормального, для проверки гипотезы используем непараметрический критерий Манна-Уитни \n",
    "\n",
    "Сформулируем нулевую и альтернативную гипотезы. Нулевая гипотеза - консервативная гипотеза: \n",
    "- H0 = средний доход между теми клиентами, которые пользуются двумя продуктами банка, и теми, которые пользуются одним, не различается. \n",
    "- Н1 = средний доход между теми клиентами, которые пользуются двумя продуктами банка, и теми, которые пользуются одним, различается. "
   ]
  },
  {
   "cell_type": "code",
   "execution_count": 27,
   "metadata": {},
   "outputs": [
    {
     "name": "stdout",
     "output_type": "stream",
     "text": [
      "0.4079566651927651\n",
      "Не можем отклонить нулевую гипотезу\n"
     ]
    }
   ],
   "source": [
    "# Поссчитаем p-значение и выведем результаты проверки\n",
    "stat, p = st.mannwhitneyu(data_1['estimated_salary'], data_2['estimated_salary'], alternative='two-sided')\n",
    "alpha = 0.05\n",
    "print(p)\n",
    "if p > alpha:\n",
    "    print('Не можем отклонить нулевую гипотезу')\n",
    "else:\n",
    "    print('Отлоняем нулевую гипотезу')"
   ]
  },
  {
   "cell_type": "markdown",
   "metadata": {},
   "source": [
    "**Вывод:**\n",
    "\n",
    "- p-значение = 0.40, это значительно больше alpha\n",
    "- Мы не можем утверждать о том, что средний доход между теми клиентами, которые пользуются двумя продуктами банка, и теми, которые пользуются одним, различается.\n",
    "- Доход не является признаком, дифференцирующим сегменты. "
   ]
  },
  {
   "cell_type": "markdown",
   "metadata": {},
   "source": [
    "### Гипотеза №2"
   ]
  },
  {
   "cell_type": "markdown",
   "metadata": {},
   "source": [
    "Гипотеза №2 - среднее количество баллов кредитного скоринга у клиентов, которые пользуются одним продуктом, и клиентов, которые пользуются двумя продуктами, различается"
   ]
  },
  {
   "cell_type": "code",
   "execution_count": 28,
   "metadata": {},
   "outputs": [
    {
     "data": {
      "image/png": "[encoded data removed]",
      "text/plain": [
       "<Figure size 432x288 with 1 Axes>"
      ]
     },
     "metadata": {
      "needs_background": "light"
     },
     "output_type": "display_data"
    }
   ],
   "source": [
    "# Визуально оценим нормальность распределения\n",
    "plt.hist(data_1['score'], bins=100, color = 'pink', label = '1 сегмент')\n",
    "plt.hist(data_2['score'], bins=100, color = 'orange', label = '2 сегмент')\n",
    "plt.title('Распределение баллов кредитного скоринга клиентов первого и второго сегмента')\n",
    "plt.ylabel('Количество клиентов')\n",
    "plt.legend()\n",
    "plt.show()"
   ]
  },
  {
   "cell_type": "markdown",
   "metadata": {},
   "source": [
    "Визуально распределения напоминают нормальное, однако проверим это с помощью стат. критерия Шапиро-Уилка"
   ]
  },
  {
   "cell_type": "code",
   "execution_count": 29,
   "metadata": {},
   "outputs": [
    {
     "name": "stdout",
     "output_type": "stream",
     "text": [
      "p-значение для первого распределения = 1.152575485139501e-13\n",
      "Отклоняем гипотезу о нормальности первого распределения\n",
      "p-значение для второго распределения = 3.4678284413980007e-14\n",
      "Отклоняем гипотезу о нормальности второго распределения\n"
     ]
    }
   ],
   "source": [
    "# Тест на нормальность критерием Шапиро-Уилка\n",
    "stat, p = st.shapiro(data_1['score']) \n",
    "alpha = 0.05\n",
    "print('p-значение для первого распределения =', p)\n",
    "if p > alpha:\n",
    "    print('Принимаем гипотезу о нормальности первого распределения')\n",
    "else:\n",
    "    print('Отклоняем гипотезу о нормальности первого распределения')\n",
    "\n",
    "stat, p = st.shapiro(data_2['score']) \n",
    "alpha = 0.05\n",
    "print('p-значение для второго распределения =', p)\n",
    "if p > alpha:\n",
    "    print('Принимаем гипотезу о нормальности второго распределения')\n",
    "else:\n",
    "    print('Отклоняем гипотезу о нормальности второго распределения')"
   ]
  },
  {
   "cell_type": "markdown",
   "metadata": {},
   "source": [
    "Тест показал, что распределение не нормально, для проверки гипотезы используем непараметрический критерий Манна-Уитни \n",
    "\n",
    "Сформулируем нулевую и альтернативную гипотезы. Нулевая гипотеза - консервативная гипотеза: \n",
    "- H0 = среднее количество баллов кредитного скоринга у клиентов, которые пользуются одним продуктом, и клиентов, которые пользуются двумя продуктами, не различается. \n",
    "- Н1 = среднее количество баллов кредитного скоринга у клиентов, которые пользуются одним продуктом, и клиентов, которые пользуются двумя продуктами, различается. "
   ]
  },
  {
   "cell_type": "code",
   "execution_count": 30,
   "metadata": {},
   "outputs": [
    {
     "name": "stdout",
     "output_type": "stream",
     "text": [
      "0.15729739033138807\n",
      "Не можем отклонить нулевую гипотезу\n"
     ]
    }
   ],
   "source": [
    "# Поссчитаем p-значение и выведем результаты проверки\n",
    "stat, p = st.mannwhitneyu(data_1['score'], data_2['score'], alternative='two-sided')\n",
    "alpha = 0.05\n",
    "print(p)\n",
    "if p > alpha:\n",
    "    print('Не можем отклонить нулевую гипотезу')\n",
    "else:\n",
    "    print('Отлоняем нулевую гипотезу')"
   ]
  },
  {
   "cell_type": "markdown",
   "metadata": {},
   "source": [
    "**Вывод:**\n",
    "\n",
    "- p-значение = 0.15, это больше alpha\n",
    "- Мы не можем утверждать о том, среднее количество баллов кредитного скоринга у клиентов, которые пользуются одним продуктом, и клиентов, которые пользуются двумя продуктами, различается.\n",
    "- Баллы кредитного скоринга не являются признаком, дифференцирующим сегменты. Таким признаком мог бы быть возраст, среднее остальных признаков отличается незначительно."
   ]
  },
  {
   "cell_type": "markdown",
   "metadata": {},
   "source": [
    "## Общий вывод"
   ]
  },
  {
   "cell_type": "markdown",
   "metadata": {},
   "source": [
    "Таким образом, исследование было выполнено в шесть этапов:\n",
    "\n",
    "1. Обзор данных.\n",
    "2. Предобработка данных.\n",
    "3. Исследовательский анализ данных (EDA).\n",
    "4. Сегментация клиентов.\n",
    "5. Проверка гипотез.\n",
    "6. Общий вывод.\n",
    "\n",
    "**Исследовательский анализ данных: выводы**\n",
    "- По среднему и стандартному отклонению мы видим, что числовые данные (кол-во обьектов, балланс, зарплата) достаточно вариабельны\n",
    "- Признак кол-во продуктов представлен от 1 (мин. значение) до 4 (макс. значение), однако по квартилям мы видим, что большинство (50%) клиентов пользуются одним продуктом. Признаки кредитный скоринг и зарплата представлены от 350 (мин. значение) до 850 (макс. значение) и от 11 (мин. значение) до 199992 (макс. значение) соответственно, их среднее незначительно отличается от медианы, что может нам говорить об однородности распределения\n",
    "- По ключевым признакам (кол-во продуктов, зарплата, кредитный скоринг) какой-либо зависимости не обнаружено.\n",
    "\n",
    "**Сегментация клиентов: выводы**\n",
    "- Для первого сегмента характерно больше клиентов мужского пола, больше пользователей кредитной карты, схожее количество активных и неактивных клиентов (доля активных клиентов - 0,50), больше тех, кто не ушел в отток (доля оттока - 0,27). \n",
    "- Для второго сегмента характерно больше клиентов мужского пола, больше пользователей кредитной карты, больше активных клиентов (доля активных клиентов - 0,53), значительно больше тех, кто не ушел в отток (доля оттока - 0,07).\n",
    "- Для третьего сегмента характерно больше клиентов женского пола, больше пользователей кредитной карты, больше неактивных клиентов (доля активных клиентов - 0,43), больше тех, кто ушел в отток (доля оттока - 0,85).\n",
    "\n",
    "**Проверка гипотез: выводы**\n",
    "- Мы не можем подтвердить гипотезу о том, что средний доход между теми клиентами, которые пользуются двумя продуктами банка, и теми, которые пользуются одним, различается\n",
    "- Мы не можем подтвердить гипотезу о том, среднее количество баллов кредитного скоринга у клиентов, которые пользуются одним продуктом, и клиентов, которые пользуются двумя продуктами, различается\n",
    "- Следовательно, эти признаки не являются дифференцирующими\n",
    "\n",
    "**Общий вывод:**\n",
    "- Наиболее привлекательным с точки зрения активности клиентов и минимального оттока является второй сегмент (клиенты, которые пользуются двумя продуктами), при этом средний доход и кредитный скоринг клиентов с двумя продуктами и одним не различается. Клиентская аудитория обоих сегментов схожа. Соответственно первый сегмент можно отнести к потенциальным потребителм двух продуктов. \n",
    "- Как рекомендация, следует обратить внимание на клиентов первого сегмента, это наиболее подходящая для предложения нового продукта категория клиентов. Среди них - 30% клиентов не имеют кредитной карты и 17% не имеют дебетового счета. Эти продукты можно им предложить.\n",
    "- Также следует обратить внимание на третий сегмент, клиенты этого сегмента отличаются от остальных по кол-ву объектов, доходу и возрасту, следовательно они могут быть более платежеспособными, однако они также более склоны к оттоку, их необходимо удержать. Возможно одним из факторов оттока является обслуживание в городе Ростов Великий, стоит провести проверку ростовских филиалов."
   ]
  },
  {
   "cell_type": "markdown",
   "metadata": {},
   "source": [
    "## Презентация"
   ]
  },
  {
   "cell_type": "markdown",
   "metadata": {},
   "source": [
    "Ссылка на презентацию в формате pdf - https://disk.yandex.ru/i/axpwycG8r7E0Ww"
   ]
  },
  {
   "cell_type": "markdown",
   "metadata": {},
   "source": [
    "Ссылка на дашборд - https://public.tableau.com/views/dashboardbanks/Dashboard1?:language=en-US&:display_count=n&:origin=viz_share_link"
   ]
  }
 ],
 "metadata": {
  "ExecuteTimeLog": [
   {
    "duration": 1241,
    "start_time": "2022-10-26T18:53:01.539Z"
   },
   {
    "duration": 120,
    "start_time": "2022-10-26T18:54:19.063Z"
   },
   {
    "duration": 152,
    "start_time": "2022-10-26T18:54:36.408Z"
   },
   {
    "duration": 12,
    "start_time": "2022-10-26T18:54:52.343Z"
   },
   {
    "duration": 9,
    "start_time": "2022-10-26T18:55:16.580Z"
   },
   {
    "duration": 18,
    "start_time": "2022-10-26T19:05:20.327Z"
   },
   {
    "duration": 15,
    "start_time": "2022-10-26T19:05:27.633Z"
   },
   {
    "duration": 4,
    "start_time": "2022-10-26T19:05:38.079Z"
   },
   {
    "duration": 15,
    "start_time": "2022-10-26T19:05:41.045Z"
   },
   {
    "duration": 17,
    "start_time": "2022-10-26T19:11:45.792Z"
   },
   {
    "duration": 4,
    "start_time": "2022-10-26T19:14:40.004Z"
   },
   {
    "duration": 26,
    "start_time": "2022-10-26T19:14:42.663Z"
   },
   {
    "duration": 7,
    "start_time": "2022-10-26T19:15:51.640Z"
   },
   {
    "duration": 17,
    "start_time": "2022-10-26T19:15:53.421Z"
   },
   {
    "duration": 11,
    "start_time": "2022-10-26T19:16:25.504Z"
   },
   {
    "duration": 35,
    "start_time": "2022-10-26T19:20:15.745Z"
   },
   {
    "duration": 34,
    "start_time": "2022-10-26T19:20:51.682Z"
   },
   {
    "duration": 17,
    "start_time": "2022-10-26T19:27:34.707Z"
   },
   {
    "duration": 1004,
    "start_time": "2022-10-26T19:30:11.091Z"
   },
   {
    "duration": 3,
    "start_time": "2022-10-27T11:31:43.584Z"
   },
   {
    "duration": 43,
    "start_time": "2022-10-27T11:31:43.589Z"
   },
   {
    "duration": 11,
    "start_time": "2022-10-27T11:31:43.633Z"
   },
   {
    "duration": 10,
    "start_time": "2022-10-27T11:31:43.647Z"
   },
   {
    "duration": 7,
    "start_time": "2022-10-27T11:31:43.658Z"
   },
   {
    "duration": 10,
    "start_time": "2022-10-27T11:31:43.667Z"
   },
   {
    "duration": 12,
    "start_time": "2022-10-27T11:31:43.678Z"
   },
   {
    "duration": 46,
    "start_time": "2022-10-27T11:31:43.691Z"
   },
   {
    "duration": 17,
    "start_time": "2022-10-27T11:31:43.739Z"
   },
   {
    "duration": 913,
    "start_time": "2022-10-27T11:31:43.758Z"
   },
   {
    "duration": 17,
    "start_time": "2022-10-27T11:31:44.673Z"
   },
   {
    "duration": 17,
    "start_time": "2022-10-27T11:31:44.691Z"
   },
   {
    "duration": 15,
    "start_time": "2022-10-27T11:31:44.710Z"
   },
   {
    "duration": 7,
    "start_time": "2022-10-27T11:32:13.399Z"
   },
   {
    "duration": 10,
    "start_time": "2022-10-27T11:36:40.869Z"
   },
   {
    "duration": 14,
    "start_time": "2022-10-27T11:37:30.682Z"
   },
   {
    "duration": 10,
    "start_time": "2022-10-27T11:37:43.950Z"
   },
   {
    "duration": 19,
    "start_time": "2022-10-27T11:37:59.917Z"
   },
   {
    "duration": 12,
    "start_time": "2022-10-27T11:39:08.343Z"
   },
   {
    "duration": 3,
    "start_time": "2022-10-27T11:43:16.732Z"
   },
   {
    "duration": 13,
    "start_time": "2022-10-27T11:43:59.264Z"
   },
   {
    "duration": 2,
    "start_time": "2022-10-27T11:44:12.711Z"
   },
   {
    "duration": 13,
    "start_time": "2022-10-27T11:44:13.269Z"
   },
   {
    "duration": 3,
    "start_time": "2022-10-27T11:44:24.351Z"
   },
   {
    "duration": 11,
    "start_time": "2022-10-27T11:44:24.965Z"
   },
   {
    "duration": 9,
    "start_time": "2022-10-27T11:45:28.344Z"
   },
   {
    "duration": 16,
    "start_time": "2022-10-27T11:50:46.702Z"
   },
   {
    "duration": 6,
    "start_time": "2022-10-27T11:51:04.953Z"
   },
   {
    "duration": 14,
    "start_time": "2022-10-27T11:51:09.161Z"
   },
   {
    "duration": 2,
    "start_time": "2022-10-27T12:20:19.056Z"
   },
   {
    "duration": 56,
    "start_time": "2022-10-27T12:20:19.060Z"
   },
   {
    "duration": 12,
    "start_time": "2022-10-27T12:20:19.118Z"
   },
   {
    "duration": 16,
    "start_time": "2022-10-27T12:20:19.132Z"
   },
   {
    "duration": 5,
    "start_time": "2022-10-27T12:20:19.150Z"
   },
   {
    "duration": 19,
    "start_time": "2022-10-27T12:20:19.157Z"
   },
   {
    "duration": 18,
    "start_time": "2022-10-27T12:20:19.178Z"
   },
   {
    "duration": 46,
    "start_time": "2022-10-27T12:20:19.197Z"
   },
   {
    "duration": 16,
    "start_time": "2022-10-27T12:20:19.245Z"
   },
   {
    "duration": 1007,
    "start_time": "2022-10-27T12:20:19.262Z"
   },
   {
    "duration": 17,
    "start_time": "2022-10-27T12:20:20.271Z"
   },
   {
    "duration": 24,
    "start_time": "2022-10-27T12:20:20.290Z"
   },
   {
    "duration": 17,
    "start_time": "2022-10-27T12:20:34.395Z"
   },
   {
    "duration": 6,
    "start_time": "2022-10-27T12:20:35.394Z"
   },
   {
    "duration": 13,
    "start_time": "2022-10-27T12:20:36.847Z"
   },
   {
    "duration": 1437,
    "start_time": "2022-10-27T19:21:02.250Z"
   },
   {
    "duration": 80,
    "start_time": "2022-10-27T19:21:03.689Z"
   },
   {
    "duration": 15,
    "start_time": "2022-10-27T19:21:03.771Z"
   },
   {
    "duration": 11,
    "start_time": "2022-10-27T19:21:03.788Z"
   },
   {
    "duration": 5,
    "start_time": "2022-10-27T19:21:03.801Z"
   },
   {
    "duration": 11,
    "start_time": "2022-10-27T19:21:03.808Z"
   },
   {
    "duration": 14,
    "start_time": "2022-10-27T19:21:03.821Z"
   },
   {
    "duration": 69,
    "start_time": "2022-10-27T19:21:03.837Z"
   },
   {
    "duration": 20,
    "start_time": "2022-10-27T19:21:03.907Z"
   },
   {
    "duration": 1033,
    "start_time": "2022-10-27T19:21:03.929Z"
   },
   {
    "duration": 18,
    "start_time": "2022-10-27T19:21:04.963Z"
   },
   {
    "duration": 7,
    "start_time": "2022-10-27T19:21:04.982Z"
   },
   {
    "duration": 138,
    "start_time": "2022-10-27T19:21:04.991Z"
   },
   {
    "duration": 0,
    "start_time": "2022-10-27T19:21:05.130Z"
   },
   {
    "duration": 0,
    "start_time": "2022-10-27T19:21:05.132Z"
   },
   {
    "duration": 21,
    "start_time": "2022-10-27T19:21:17.997Z"
   },
   {
    "duration": 7,
    "start_time": "2022-10-27T19:21:18.920Z"
   },
   {
    "duration": 14,
    "start_time": "2022-10-27T19:21:20.053Z"
   },
   {
    "duration": 0,
    "start_time": "2022-10-27T19:26:50.955Z"
   },
   {
    "duration": 0,
    "start_time": "2022-10-27T19:26:50.956Z"
   },
   {
    "duration": 0,
    "start_time": "2022-10-27T19:26:50.957Z"
   },
   {
    "duration": 0,
    "start_time": "2022-10-27T19:26:50.958Z"
   },
   {
    "duration": 153,
    "start_time": "2022-10-27T19:26:57.358Z"
   },
   {
    "duration": 604563,
    "start_time": "2022-10-27T19:28:14.528Z"
   },
   {
    "duration": 0,
    "start_time": "2022-10-27T19:38:19.093Z"
   },
   {
    "duration": 0,
    "start_time": "2022-10-27T19:38:19.095Z"
   },
   {
    "duration": 0,
    "start_time": "2022-10-27T19:38:19.097Z"
   },
   {
    "duration": 604,
    "start_time": "2022-10-27T19:38:21.477Z"
   },
   {
    "duration": 545,
    "start_time": "2022-10-27T19:38:36.875Z"
   },
   {
    "duration": 27,
    "start_time": "2022-10-27T19:40:16.712Z"
   },
   {
    "duration": 8,
    "start_time": "2022-10-27T19:40:17.326Z"
   },
   {
    "duration": 18,
    "start_time": "2022-10-27T19:50:24.041Z"
   },
   {
    "duration": 712,
    "start_time": "2022-10-27T19:51:21.988Z"
   },
   {
    "duration": 593,
    "start_time": "2022-10-27T19:51:26.308Z"
   },
   {
    "duration": 525,
    "start_time": "2022-10-27T19:51:33.829Z"
   },
   {
    "duration": 617,
    "start_time": "2022-10-27T19:51:52.652Z"
   },
   {
    "duration": 608,
    "start_time": "2022-10-27T19:51:58.223Z"
   },
   {
    "duration": 545,
    "start_time": "2022-10-27T19:52:34.377Z"
   },
   {
    "duration": 679,
    "start_time": "2022-10-27T19:52:42.681Z"
   },
   {
    "duration": 655,
    "start_time": "2022-10-27T19:52:58.277Z"
   },
   {
    "duration": 5,
    "start_time": "2022-10-27T19:56:40.763Z"
   },
   {
    "duration": 21,
    "start_time": "2022-10-27T19:57:04.012Z"
   },
   {
    "duration": 4,
    "start_time": "2022-10-27T19:57:28.707Z"
   },
   {
    "duration": 19,
    "start_time": "2022-10-27T19:57:29.369Z"
   },
   {
    "duration": 5,
    "start_time": "2022-10-27T19:57:37.436Z"
   },
   {
    "duration": 21,
    "start_time": "2022-10-27T19:57:37.828Z"
   },
   {
    "duration": 5,
    "start_time": "2022-10-27T19:58:05.819Z"
   },
   {
    "duration": 28,
    "start_time": "2022-10-27T19:58:08.373Z"
   },
   {
    "duration": 4,
    "start_time": "2022-10-27T19:58:22.187Z"
   },
   {
    "duration": 23,
    "start_time": "2022-10-27T19:58:22.626Z"
   },
   {
    "duration": 5,
    "start_time": "2022-10-27T19:58:43.785Z"
   },
   {
    "duration": 29,
    "start_time": "2022-10-27T19:58:44.182Z"
   },
   {
    "duration": 26,
    "start_time": "2022-10-27T20:01:07.745Z"
   },
   {
    "duration": 35,
    "start_time": "2022-10-27T20:03:02.491Z"
   },
   {
    "duration": 502,
    "start_time": "2022-10-27T20:03:25.077Z"
   },
   {
    "duration": 3175,
    "start_time": "2022-10-27T20:04:03.814Z"
   },
   {
    "duration": 173,
    "start_time": "2022-10-27T20:07:33.732Z"
   },
   {
    "duration": 1913,
    "start_time": "2022-10-27T20:07:42.711Z"
   },
   {
    "duration": 2484,
    "start_time": "2022-10-27T20:08:14.300Z"
   },
   {
    "duration": 2093,
    "start_time": "2022-10-27T20:08:43.273Z"
   },
   {
    "duration": 2328,
    "start_time": "2022-10-27T20:09:07.675Z"
   },
   {
    "duration": 2533,
    "start_time": "2022-10-27T20:09:16.369Z"
   },
   {
    "duration": 1018,
    "start_time": "2022-10-27T20:10:38.011Z"
   },
   {
    "duration": 533,
    "start_time": "2022-10-27T20:14:42.195Z"
   },
   {
    "duration": 892,
    "start_time": "2022-10-27T20:14:52.074Z"
   },
   {
    "duration": 174,
    "start_time": "2022-10-27T20:15:51.919Z"
   },
   {
    "duration": 157,
    "start_time": "2022-10-27T20:16:04.743Z"
   },
   {
    "duration": 145,
    "start_time": "2022-10-27T20:16:21.192Z"
   },
   {
    "duration": 912,
    "start_time": "2022-10-27T20:16:43.992Z"
   },
   {
    "duration": 152,
    "start_time": "2022-10-27T20:16:49.837Z"
   },
   {
    "duration": 964,
    "start_time": "2022-10-27T20:17:14.459Z"
   },
   {
    "duration": 186,
    "start_time": "2022-10-27T20:17:20.299Z"
   },
   {
    "duration": 871,
    "start_time": "2022-10-27T20:17:30.324Z"
   },
   {
    "duration": 176,
    "start_time": "2022-10-27T20:17:37.022Z"
   },
   {
    "duration": 871,
    "start_time": "2022-10-27T20:17:45.425Z"
   },
   {
    "duration": 454,
    "start_time": "2022-10-27T20:17:54.220Z"
   },
   {
    "duration": 187,
    "start_time": "2022-10-27T20:18:06.149Z"
   },
   {
    "duration": 893,
    "start_time": "2022-10-27T20:18:16.868Z"
   },
   {
    "duration": 147,
    "start_time": "2022-10-27T20:18:22.307Z"
   },
   {
    "duration": 851,
    "start_time": "2022-10-27T20:18:37.087Z"
   },
   {
    "duration": 174,
    "start_time": "2022-10-27T20:18:43.168Z"
   },
   {
    "duration": 863,
    "start_time": "2022-10-27T20:19:04.209Z"
   },
   {
    "duration": 499,
    "start_time": "2022-10-27T20:19:10.987Z"
   },
   {
    "duration": 169,
    "start_time": "2022-10-27T20:19:17.132Z"
   },
   {
    "duration": 1036,
    "start_time": "2022-10-27T20:19:31.324Z"
   },
   {
    "duration": 151,
    "start_time": "2022-10-27T20:19:36.570Z"
   },
   {
    "duration": 942,
    "start_time": "2022-10-27T20:19:48.240Z"
   },
   {
    "duration": 842,
    "start_time": "2022-10-27T20:19:53.543Z"
   },
   {
    "duration": 156,
    "start_time": "2022-10-27T20:19:58.169Z"
   },
   {
    "duration": 841,
    "start_time": "2022-10-27T20:20:06.975Z"
   },
   {
    "duration": 140,
    "start_time": "2022-10-27T20:20:14.707Z"
   },
   {
    "duration": 839,
    "start_time": "2022-10-27T20:20:37.778Z"
   },
   {
    "duration": 420,
    "start_time": "2022-10-27T20:20:48.921Z"
   },
   {
    "duration": 167,
    "start_time": "2022-10-27T20:21:16.578Z"
   },
   {
    "duration": 152,
    "start_time": "2022-10-27T20:21:28.971Z"
   },
   {
    "duration": 144,
    "start_time": "2022-10-27T20:21:31.914Z"
   },
   {
    "duration": 1215,
    "start_time": "2022-10-27T20:21:38.600Z"
   },
   {
    "duration": 148,
    "start_time": "2022-10-27T20:21:57.275Z"
   },
   {
    "duration": 428,
    "start_time": "2022-10-27T20:22:09.428Z"
   },
   {
    "duration": 866,
    "start_time": "2022-10-27T20:22:17.760Z"
   },
   {
    "duration": 143,
    "start_time": "2022-10-27T20:22:26.093Z"
   },
   {
    "duration": 474,
    "start_time": "2022-10-27T20:22:42.172Z"
   },
   {
    "duration": 155,
    "start_time": "2022-10-27T20:22:45.949Z"
   },
   {
    "duration": 438,
    "start_time": "2022-10-27T20:22:54.375Z"
   },
   {
    "duration": 434,
    "start_time": "2022-10-27T20:23:02.772Z"
   },
   {
    "duration": 138,
    "start_time": "2022-10-27T20:23:07.038Z"
   },
   {
    "duration": 441,
    "start_time": "2022-10-27T20:23:17.883Z"
   },
   {
    "duration": 438,
    "start_time": "2022-10-27T20:23:22.070Z"
   },
   {
    "duration": 435,
    "start_time": "2022-10-27T20:23:27.656Z"
   },
   {
    "duration": 430,
    "start_time": "2022-10-27T20:23:33.605Z"
   },
   {
    "duration": 147,
    "start_time": "2022-10-27T20:23:42.198Z"
   },
   {
    "duration": 862,
    "start_time": "2022-10-27T20:23:47.325Z"
   },
   {
    "duration": 831,
    "start_time": "2022-10-27T20:23:54.716Z"
   },
   {
    "duration": 910,
    "start_time": "2022-10-27T20:23:59.769Z"
   },
   {
    "duration": 753,
    "start_time": "2022-10-27T20:24:35.422Z"
   },
   {
    "duration": 749,
    "start_time": "2022-10-27T20:24:44.043Z"
   },
   {
    "duration": 784,
    "start_time": "2022-10-27T20:25:47.780Z"
   },
   {
    "duration": 745,
    "start_time": "2022-10-27T20:25:58.656Z"
   },
   {
    "duration": 731,
    "start_time": "2022-10-27T20:26:04.169Z"
   },
   {
    "duration": 748,
    "start_time": "2022-10-27T20:26:17.595Z"
   },
   {
    "duration": 694,
    "start_time": "2022-10-27T20:26:23.921Z"
   },
   {
    "duration": 746,
    "start_time": "2022-10-27T20:26:29.780Z"
   },
   {
    "duration": 870,
    "start_time": "2022-10-27T20:26:40.209Z"
   },
   {
    "duration": 748,
    "start_time": "2022-10-27T20:26:48.324Z"
   },
   {
    "duration": 738,
    "start_time": "2022-10-27T20:27:12.407Z"
   },
   {
    "duration": 742,
    "start_time": "2022-10-27T20:27:26.742Z"
   },
   {
    "duration": 943,
    "start_time": "2022-10-27T20:27:35.130Z"
   },
   {
    "duration": 653,
    "start_time": "2022-10-27T20:27:54.775Z"
   },
   {
    "duration": 769,
    "start_time": "2022-10-27T20:28:05.368Z"
   },
   {
    "duration": 958,
    "start_time": "2022-10-27T20:28:12.024Z"
   },
   {
    "duration": 430,
    "start_time": "2022-10-27T20:32:35.602Z"
   },
   {
    "duration": 977,
    "start_time": "2022-10-27T20:32:36.034Z"
   },
   {
    "duration": 89,
    "start_time": "2022-10-28T09:40:31.272Z"
   },
   {
    "duration": 3,
    "start_time": "2022-10-28T09:40:45.706Z"
   },
   {
    "duration": 38,
    "start_time": "2022-10-28T09:40:58.332Z"
   },
   {
    "duration": 7,
    "start_time": "2022-10-28T09:41:17.360Z"
   },
   {
    "duration": 1168,
    "start_time": "2022-10-28T09:41:23.633Z"
   },
   {
    "duration": 155,
    "start_time": "2022-10-28T09:41:24.803Z"
   },
   {
    "duration": 11,
    "start_time": "2022-10-28T09:41:24.960Z"
   },
   {
    "duration": 12,
    "start_time": "2022-10-28T09:41:24.972Z"
   },
   {
    "duration": 4,
    "start_time": "2022-10-28T09:41:24.985Z"
   },
   {
    "duration": 9,
    "start_time": "2022-10-28T09:41:24.990Z"
   },
   {
    "duration": 9,
    "start_time": "2022-10-28T09:41:25.000Z"
   },
   {
    "duration": 37,
    "start_time": "2022-10-28T09:41:25.011Z"
   },
   {
    "duration": 18,
    "start_time": "2022-10-28T09:41:25.049Z"
   },
   {
    "duration": 972,
    "start_time": "2022-10-28T09:41:25.068Z"
   },
   {
    "duration": 3,
    "start_time": "2022-10-28T09:41:26.042Z"
   },
   {
    "duration": 32,
    "start_time": "2022-10-28T09:41:26.047Z"
   },
   {
    "duration": 24,
    "start_time": "2022-10-28T09:41:26.080Z"
   },
   {
    "duration": 23,
    "start_time": "2022-10-28T09:41:26.106Z"
   },
   {
    "duration": 17,
    "start_time": "2022-10-28T09:41:26.132Z"
   },
   {
    "duration": 375,
    "start_time": "2022-10-28T09:41:26.151Z"
   },
   {
    "duration": 820,
    "start_time": "2022-10-28T09:41:26.528Z"
   },
   {
    "duration": 22,
    "start_time": "2022-10-28T09:41:30.743Z"
   },
   {
    "duration": 7,
    "start_time": "2022-10-28T09:41:53.790Z"
   },
   {
    "duration": 58,
    "start_time": "2022-10-28T09:42:28.728Z"
   },
   {
    "duration": 6,
    "start_time": "2022-10-28T09:42:50.407Z"
   },
   {
    "duration": 6,
    "start_time": "2022-10-28T09:44:08.138Z"
   },
   {
    "duration": 6,
    "start_time": "2022-10-28T09:44:10.232Z"
   },
   {
    "duration": 17,
    "start_time": "2022-10-28T09:47:39.554Z"
   },
   {
    "duration": 15,
    "start_time": "2022-10-28T09:48:01.440Z"
   },
   {
    "duration": 10,
    "start_time": "2022-10-28T09:48:06.565Z"
   },
   {
    "duration": 236,
    "start_time": "2022-10-28T09:48:48.462Z"
   },
   {
    "duration": 203,
    "start_time": "2022-10-28T09:49:01.922Z"
   },
   {
    "duration": 136,
    "start_time": "2022-10-28T09:49:20.134Z"
   },
   {
    "duration": 6,
    "start_time": "2022-10-28T09:49:46.053Z"
   },
   {
    "duration": 45,
    "start_time": "2022-10-28T18:45:02.073Z"
   },
   {
    "duration": 1862,
    "start_time": "2022-10-28T18:45:05.078Z"
   },
   {
    "duration": 148,
    "start_time": "2022-10-28T18:45:06.944Z"
   },
   {
    "duration": 14,
    "start_time": "2022-10-28T18:45:07.094Z"
   },
   {
    "duration": 13,
    "start_time": "2022-10-28T18:45:07.110Z"
   },
   {
    "duration": 5,
    "start_time": "2022-10-28T18:45:07.124Z"
   },
   {
    "duration": 11,
    "start_time": "2022-10-28T18:45:07.130Z"
   },
   {
    "duration": 12,
    "start_time": "2022-10-28T18:45:07.143Z"
   },
   {
    "duration": 37,
    "start_time": "2022-10-28T18:45:07.157Z"
   },
   {
    "duration": 39,
    "start_time": "2022-10-28T18:45:07.195Z"
   },
   {
    "duration": 935,
    "start_time": "2022-10-28T18:45:07.236Z"
   },
   {
    "duration": 3,
    "start_time": "2022-10-28T18:45:08.173Z"
   },
   {
    "duration": 30,
    "start_time": "2022-10-28T18:45:08.177Z"
   },
   {
    "duration": 19,
    "start_time": "2022-10-28T18:45:08.209Z"
   },
   {
    "duration": 11,
    "start_time": "2022-10-28T18:45:08.229Z"
   },
   {
    "duration": 14,
    "start_time": "2022-10-28T18:45:08.242Z"
   },
   {
    "duration": 437,
    "start_time": "2022-10-28T18:45:08.257Z"
   },
   {
    "duration": 832,
    "start_time": "2022-10-28T18:45:08.696Z"
   },
   {
    "duration": 84,
    "start_time": "2022-10-28T18:45:09.529Z"
   },
   {
    "duration": 0,
    "start_time": "2022-10-28T18:45:09.615Z"
   },
   {
    "duration": 0,
    "start_time": "2022-10-28T18:45:09.615Z"
   },
   {
    "duration": 142,
    "start_time": "2022-10-28T18:45:25.792Z"
   },
   {
    "duration": 5,
    "start_time": "2022-10-28T18:45:26.710Z"
   },
   {
    "duration": 175,
    "start_time": "2022-10-28T18:45:27.360Z"
   },
   {
    "duration": 102,
    "start_time": "2022-10-28T18:46:01.974Z"
   },
   {
    "duration": 7,
    "start_time": "2022-10-28T18:46:18.177Z"
   },
   {
    "duration": 8,
    "start_time": "2022-10-28T19:11:39.532Z"
   },
   {
    "duration": 180,
    "start_time": "2022-10-28T19:12:12.196Z"
   },
   {
    "duration": 218,
    "start_time": "2022-10-28T19:12:41.547Z"
   },
   {
    "duration": 194,
    "start_time": "2022-10-28T19:13:53.289Z"
   },
   {
    "duration": 265,
    "start_time": "2022-10-28T19:14:49.325Z"
   },
   {
    "duration": 222,
    "start_time": "2022-10-28T19:15:08.224Z"
   },
   {
    "duration": 233,
    "start_time": "2022-10-28T19:16:59.354Z"
   },
   {
    "duration": 282,
    "start_time": "2022-10-28T19:17:33.166Z"
   },
   {
    "duration": 210,
    "start_time": "2022-10-28T19:17:51.811Z"
   },
   {
    "duration": 486,
    "start_time": "2022-10-28T19:18:10.969Z"
   },
   {
    "duration": 448,
    "start_time": "2022-10-28T19:21:05.007Z"
   },
   {
    "duration": 12,
    "start_time": "2022-10-28T19:28:10.223Z"
   },
   {
    "duration": 13,
    "start_time": "2022-10-28T19:28:25.350Z"
   },
   {
    "duration": 10,
    "start_time": "2022-10-28T19:29:02.355Z"
   },
   {
    "duration": 478,
    "start_time": "2022-10-28T19:33:54.446Z"
   },
   {
    "duration": 70,
    "start_time": "2022-10-28T19:37:19.192Z"
   },
   {
    "duration": 7,
    "start_time": "2022-10-28T19:37:29.527Z"
   },
   {
    "duration": 7,
    "start_time": "2022-10-28T19:39:46.784Z"
   },
   {
    "duration": 11,
    "start_time": "2022-10-28T19:41:59.966Z"
   },
   {
    "duration": 11,
    "start_time": "2022-10-28T19:50:03.096Z"
   },
   {
    "duration": 12,
    "start_time": "2022-10-28T19:51:05.970Z"
   },
   {
    "duration": 230,
    "start_time": "2022-10-28T19:51:13.728Z"
   },
   {
    "duration": 10,
    "start_time": "2022-10-28T19:51:16.106Z"
   },
   {
    "duration": 29,
    "start_time": "2022-10-28T19:51:58.508Z"
   },
   {
    "duration": 395,
    "start_time": "2022-10-28T19:56:21.801Z"
   },
   {
    "duration": 455,
    "start_time": "2022-10-28T19:56:30.942Z"
   },
   {
    "duration": 656,
    "start_time": "2022-10-28T19:56:51.389Z"
   },
   {
    "duration": 503,
    "start_time": "2022-10-28T19:57:00.545Z"
   },
   {
    "duration": 443,
    "start_time": "2022-10-28T19:57:05.261Z"
   },
   {
    "duration": 479,
    "start_time": "2022-10-28T19:57:14.205Z"
   },
   {
    "duration": 5,
    "start_time": "2022-10-28T20:03:43.035Z"
   },
   {
    "duration": 7,
    "start_time": "2022-10-28T20:03:44.564Z"
   },
   {
    "duration": 8,
    "start_time": "2022-10-28T20:03:45.193Z"
   },
   {
    "duration": 8,
    "start_time": "2022-10-28T20:03:50.334Z"
   },
   {
    "duration": 3,
    "start_time": "2022-10-28T20:04:15.040Z"
   },
   {
    "duration": 10,
    "start_time": "2022-10-28T20:04:23.569Z"
   },
   {
    "duration": 9,
    "start_time": "2022-10-28T20:05:02.379Z"
   },
   {
    "duration": 4,
    "start_time": "2022-10-28T20:06:13.470Z"
   },
   {
    "duration": 9,
    "start_time": "2022-10-28T20:06:13.976Z"
   },
   {
    "duration": 10,
    "start_time": "2022-10-28T20:06:19.105Z"
   },
   {
    "duration": 10,
    "start_time": "2022-10-28T20:06:37.588Z"
   },
   {
    "duration": 3,
    "start_time": "2022-10-28T20:06:40.486Z"
   },
   {
    "duration": 18,
    "start_time": "2022-10-28T20:06:40.914Z"
   },
   {
    "duration": 7,
    "start_time": "2022-10-28T20:08:17.207Z"
   },
   {
    "duration": 7,
    "start_time": "2022-10-28T20:08:17.744Z"
   },
   {
    "duration": 6,
    "start_time": "2022-10-28T20:08:18.257Z"
   },
   {
    "duration": 3,
    "start_time": "2022-10-28T20:08:18.696Z"
   },
   {
    "duration": 131,
    "start_time": "2022-10-28T20:08:19.400Z"
   },
   {
    "duration": 3,
    "start_time": "2022-10-28T20:10:54.503Z"
   },
   {
    "duration": 974,
    "start_time": "2022-10-28T20:16:50.662Z"
   },
   {
    "duration": 10,
    "start_time": "2022-10-28T20:18:21.919Z"
   },
   {
    "duration": 3,
    "start_time": "2022-10-28T20:18:41.475Z"
   },
   {
    "duration": 9,
    "start_time": "2022-10-28T20:19:00.547Z"
   },
   {
    "duration": 102,
    "start_time": "2022-10-28T20:19:14.925Z"
   },
   {
    "duration": 866,
    "start_time": "2022-10-28T20:19:15.122Z"
   },
   {
    "duration": 76,
    "start_time": "2022-10-28T20:19:18.049Z"
   },
   {
    "duration": 14,
    "start_time": "2022-10-28T20:19:19.873Z"
   },
   {
    "duration": 16,
    "start_time": "2022-10-28T20:19:39.214Z"
   },
   {
    "duration": 2,
    "start_time": "2022-10-28T20:19:49.221Z"
   },
   {
    "duration": 3,
    "start_time": "2022-10-28T20:20:16.364Z"
   },
   {
    "duration": 71,
    "start_time": "2022-10-28T20:20:19.660Z"
   },
   {
    "duration": 829,
    "start_time": "2022-10-28T20:21:18.415Z"
   },
   {
    "duration": 4,
    "start_time": "2022-10-28T20:22:58.753Z"
   },
   {
    "duration": 106,
    "start_time": "2022-10-28T20:23:00.022Z"
   },
   {
    "duration": 11,
    "start_time": "2022-10-28T20:23:50.749Z"
   },
   {
    "duration": 3,
    "start_time": "2022-10-28T20:23:53.003Z"
   },
   {
    "duration": 684,
    "start_time": "2022-10-28T20:23:53.538Z"
   },
   {
    "duration": 53,
    "start_time": "2022-10-28T20:24:08.576Z"
   },
   {
    "duration": 808,
    "start_time": "2022-10-28T20:24:09.288Z"
   },
   {
    "duration": 206,
    "start_time": "2022-10-28T20:24:13.819Z"
   },
   {
    "duration": 781,
    "start_time": "2022-10-28T20:24:14.223Z"
   },
   {
    "duration": 21,
    "start_time": "2022-10-28T20:24:15.006Z"
   },
   {
    "duration": 4,
    "start_time": "2022-10-28T20:24:18.328Z"
   },
   {
    "duration": 39,
    "start_time": "2022-10-28T20:24:18.334Z"
   },
   {
    "duration": 12,
    "start_time": "2022-10-28T20:24:18.375Z"
   },
   {
    "duration": 10,
    "start_time": "2022-10-28T20:24:18.389Z"
   },
   {
    "duration": 5,
    "start_time": "2022-10-28T20:24:18.401Z"
   },
   {
    "duration": 9,
    "start_time": "2022-10-28T20:24:18.407Z"
   },
   {
    "duration": 13,
    "start_time": "2022-10-28T20:24:18.421Z"
   },
   {
    "duration": 38,
    "start_time": "2022-10-28T20:24:18.435Z"
   },
   {
    "duration": 16,
    "start_time": "2022-10-28T20:24:18.474Z"
   },
   {
    "duration": 939,
    "start_time": "2022-10-28T20:24:18.493Z"
   },
   {
    "duration": 3,
    "start_time": "2022-10-28T20:24:19.433Z"
   },
   {
    "duration": 18,
    "start_time": "2022-10-28T20:24:19.438Z"
   },
   {
    "duration": 16,
    "start_time": "2022-10-28T20:24:19.458Z"
   },
   {
    "duration": 11,
    "start_time": "2022-10-28T20:24:19.475Z"
   },
   {
    "duration": 18,
    "start_time": "2022-10-28T20:24:19.487Z"
   },
   {
    "duration": 538,
    "start_time": "2022-10-28T20:24:19.506Z"
   },
   {
    "duration": 785,
    "start_time": "2022-10-28T20:24:20.045Z"
   },
   {
    "duration": 8,
    "start_time": "2022-10-28T20:24:20.831Z"
   },
   {
    "duration": 580,
    "start_time": "2022-10-28T20:24:20.841Z"
   },
   {
    "duration": 11,
    "start_time": "2022-10-28T20:24:21.423Z"
   },
   {
    "duration": 398,
    "start_time": "2022-10-28T20:24:21.435Z"
   },
   {
    "duration": 7,
    "start_time": "2022-10-28T20:24:21.835Z"
   },
   {
    "duration": 22,
    "start_time": "2022-10-28T20:24:21.844Z"
   },
   {
    "duration": 12,
    "start_time": "2022-10-28T20:24:21.867Z"
   },
   {
    "duration": 25,
    "start_time": "2022-10-28T20:24:21.880Z"
   },
   {
    "duration": 27,
    "start_time": "2022-10-28T20:24:21.907Z"
   },
   {
    "duration": 14,
    "start_time": "2022-10-28T20:24:21.935Z"
   },
   {
    "duration": 15,
    "start_time": "2022-10-28T20:24:21.951Z"
   },
   {
    "duration": 162,
    "start_time": "2022-10-28T20:24:21.967Z"
   },
   {
    "duration": 972,
    "start_time": "2022-10-28T20:24:22.131Z"
   },
   {
    "duration": 18,
    "start_time": "2022-10-28T20:24:24.606Z"
   },
   {
    "duration": 150,
    "start_time": "2022-10-28T20:25:26.478Z"
   },
   {
    "duration": 778,
    "start_time": "2022-10-28T20:25:26.829Z"
   },
   {
    "duration": 18,
    "start_time": "2022-10-28T20:25:27.609Z"
   },
   {
    "duration": 796,
    "start_time": "2022-10-28T20:28:00.972Z"
   },
   {
    "duration": 13,
    "start_time": "2022-10-28T20:28:01.770Z"
   },
   {
    "duration": 14,
    "start_time": "2022-10-28T20:29:54.192Z"
   },
   {
    "duration": 108,
    "start_time": "2022-10-28T20:30:52.416Z"
   },
   {
    "duration": 152,
    "start_time": "2022-10-28T20:32:11.480Z"
   },
   {
    "duration": 134,
    "start_time": "2022-10-28T20:32:18.789Z"
   },
   {
    "duration": 147,
    "start_time": "2022-10-28T20:32:30.078Z"
   },
   {
    "duration": 294,
    "start_time": "2022-10-28T20:32:37.534Z"
   },
   {
    "duration": 3,
    "start_time": "2022-10-28T20:33:18.893Z"
   },
   {
    "duration": 43,
    "start_time": "2022-10-28T20:33:23.583Z"
   },
   {
    "duration": 45,
    "start_time": "2022-10-28T20:34:14.383Z"
   },
   {
    "duration": 3,
    "start_time": "2022-10-28T20:35:00.644Z"
   },
   {
    "duration": 126,
    "start_time": "2022-10-28T20:35:00.999Z"
   },
   {
    "duration": 35,
    "start_time": "2022-10-28T20:35:10.788Z"
   },
   {
    "duration": 895,
    "start_time": "2022-10-28T20:35:11.568Z"
   },
   {
    "duration": 5,
    "start_time": "2022-10-28T20:35:12.465Z"
   },
   {
    "duration": 7,
    "start_time": "2022-10-28T20:35:18.282Z"
   },
   {
    "duration": 8,
    "start_time": "2022-10-28T20:36:45.545Z"
   },
   {
    "duration": 2,
    "start_time": "2022-10-28T20:39:38.496Z"
   },
   {
    "duration": 16,
    "start_time": "2022-10-28T20:40:41.167Z"
   },
   {
    "duration": 10,
    "start_time": "2022-10-28T20:43:45.517Z"
   },
   {
    "duration": 877,
    "start_time": "2022-10-28T20:44:05.970Z"
   },
   {
    "duration": 5,
    "start_time": "2022-10-28T20:44:28.467Z"
   },
   {
    "duration": 3,
    "start_time": "2022-10-28T20:44:35.225Z"
   },
   {
    "duration": 846,
    "start_time": "2022-10-28T20:45:05.385Z"
   },
   {
    "duration": 801,
    "start_time": "2022-10-28T20:45:13.879Z"
   },
   {
    "duration": 4,
    "start_time": "2022-10-28T20:46:34.615Z"
   },
   {
    "duration": 42,
    "start_time": "2022-10-28T20:46:34.620Z"
   },
   {
    "duration": 10,
    "start_time": "2022-10-28T20:46:34.663Z"
   },
   {
    "duration": 8,
    "start_time": "2022-10-28T20:46:34.674Z"
   },
   {
    "duration": 5,
    "start_time": "2022-10-28T20:46:34.684Z"
   },
   {
    "duration": 9,
    "start_time": "2022-10-28T20:46:34.691Z"
   },
   {
    "duration": 14,
    "start_time": "2022-10-28T20:46:34.701Z"
   },
   {
    "duration": 38,
    "start_time": "2022-10-28T20:46:34.717Z"
   },
   {
    "duration": 17,
    "start_time": "2022-10-28T20:46:34.757Z"
   },
   {
    "duration": 913,
    "start_time": "2022-10-28T20:46:34.776Z"
   },
   {
    "duration": 3,
    "start_time": "2022-10-28T20:46:35.691Z"
   },
   {
    "duration": 29,
    "start_time": "2022-10-28T20:46:35.696Z"
   },
   {
    "duration": 21,
    "start_time": "2022-10-28T20:46:35.728Z"
   },
   {
    "duration": 12,
    "start_time": "2022-10-28T20:46:35.751Z"
   },
   {
    "duration": 14,
    "start_time": "2022-10-28T20:46:35.764Z"
   },
   {
    "duration": 566,
    "start_time": "2022-10-28T20:46:35.780Z"
   },
   {
    "duration": 981,
    "start_time": "2022-10-28T20:46:36.348Z"
   },
   {
    "duration": 7,
    "start_time": "2022-10-28T20:46:37.331Z"
   },
   {
    "duration": 458,
    "start_time": "2022-10-28T20:46:37.339Z"
   },
   {
    "duration": 23,
    "start_time": "2022-10-28T20:46:37.799Z"
   },
   {
    "duration": 419,
    "start_time": "2022-10-28T20:46:37.823Z"
   },
   {
    "duration": 6,
    "start_time": "2022-10-28T20:46:38.244Z"
   },
   {
    "duration": 10,
    "start_time": "2022-10-28T20:46:38.252Z"
   },
   {
    "duration": 5,
    "start_time": "2022-10-28T20:46:38.263Z"
   },
   {
    "duration": 6,
    "start_time": "2022-10-28T20:46:38.269Z"
   },
   {
    "duration": 8,
    "start_time": "2022-10-28T20:46:38.277Z"
   },
   {
    "duration": 10,
    "start_time": "2022-10-28T20:46:38.286Z"
   },
   {
    "duration": 2,
    "start_time": "2022-10-28T20:46:38.322Z"
   },
   {
    "duration": 102,
    "start_time": "2022-10-28T20:46:38.326Z"
   },
   {
    "duration": 999,
    "start_time": "2022-10-28T20:46:38.430Z"
   },
   {
    "duration": 7,
    "start_time": "2022-10-28T20:46:39.430Z"
   },
   {
    "duration": 5,
    "start_time": "2022-10-28T20:46:39.438Z"
   },
   {
    "duration": 834,
    "start_time": "2022-10-28T20:46:42.238Z"
   },
   {
    "duration": 791,
    "start_time": "2022-10-28T20:53:46.743Z"
   },
   {
    "duration": 63,
    "start_time": "2022-10-28T20:54:23.347Z"
   },
   {
    "duration": 1111,
    "start_time": "2022-10-28T20:54:31.699Z"
   },
   {
    "duration": 7,
    "start_time": "2022-10-28T20:55:58.895Z"
   },
   {
    "duration": 4,
    "start_time": "2022-10-28T20:56:02.939Z"
   },
   {
    "duration": 1024,
    "start_time": "2022-10-28T20:58:26.054Z"
   },
   {
    "duration": 14,
    "start_time": "2022-10-28T20:58:30.350Z"
   },
   {
    "duration": 1440,
    "start_time": "2022-10-30T08:15:56.727Z"
   },
   {
    "duration": 78,
    "start_time": "2022-10-30T08:15:58.169Z"
   },
   {
    "duration": 14,
    "start_time": "2022-10-30T08:15:58.249Z"
   },
   {
    "duration": 14,
    "start_time": "2022-10-30T08:15:58.265Z"
   },
   {
    "duration": 6,
    "start_time": "2022-10-30T08:15:58.282Z"
   },
   {
    "duration": 15,
    "start_time": "2022-10-30T08:15:58.290Z"
   },
   {
    "duration": 31,
    "start_time": "2022-10-30T08:15:58.307Z"
   },
   {
    "duration": 43,
    "start_time": "2022-10-30T08:15:58.340Z"
   },
   {
    "duration": 20,
    "start_time": "2022-10-30T08:15:58.384Z"
   },
   {
    "duration": 1072,
    "start_time": "2022-10-30T08:15:58.406Z"
   },
   {
    "duration": 4,
    "start_time": "2022-10-30T08:15:59.480Z"
   },
   {
    "duration": 27,
    "start_time": "2022-10-30T08:15:59.486Z"
   },
   {
    "duration": 38,
    "start_time": "2022-10-30T08:15:59.515Z"
   },
   {
    "duration": 14,
    "start_time": "2022-10-30T08:15:59.556Z"
   },
   {
    "duration": 16,
    "start_time": "2022-10-30T08:15:59.572Z"
   },
   {
    "duration": 553,
    "start_time": "2022-10-30T08:15:59.590Z"
   },
   {
    "duration": 999,
    "start_time": "2022-10-30T08:16:00.145Z"
   },
   {
    "duration": 9,
    "start_time": "2022-10-30T08:16:01.146Z"
   },
   {
    "duration": 577,
    "start_time": "2022-10-30T08:16:01.156Z"
   },
   {
    "duration": 11,
    "start_time": "2022-10-30T08:16:01.738Z"
   },
   {
    "duration": 463,
    "start_time": "2022-10-30T08:16:01.751Z"
   },
   {
    "duration": 6,
    "start_time": "2022-10-30T08:16:02.216Z"
   },
   {
    "duration": 28,
    "start_time": "2022-10-30T08:16:02.224Z"
   },
   {
    "duration": 3,
    "start_time": "2022-10-30T08:50:37.110Z"
   },
   {
    "duration": 638,
    "start_time": "2022-10-30T09:11:39.028Z"
   },
   {
    "duration": 528,
    "start_time": "2022-10-30T09:11:57.779Z"
   },
   {
    "duration": 889,
    "start_time": "2022-10-30T09:13:26.233Z"
   },
   {
    "duration": 579,
    "start_time": "2022-10-30T09:13:50.418Z"
   },
   {
    "duration": 3,
    "start_time": "2022-10-30T09:38:29.987Z"
   },
   {
    "duration": 45,
    "start_time": "2022-10-30T09:38:29.991Z"
   },
   {
    "duration": 11,
    "start_time": "2022-10-30T09:38:30.038Z"
   },
   {
    "duration": 11,
    "start_time": "2022-10-30T09:38:30.051Z"
   },
   {
    "duration": 3,
    "start_time": "2022-10-30T09:38:30.065Z"
   },
   {
    "duration": 9,
    "start_time": "2022-10-30T09:38:30.070Z"
   },
   {
    "duration": 11,
    "start_time": "2022-10-30T09:38:30.081Z"
   },
   {
    "duration": 64,
    "start_time": "2022-10-30T09:38:30.093Z"
   },
   {
    "duration": 20,
    "start_time": "2022-10-30T09:38:30.159Z"
   },
   {
    "duration": 1049,
    "start_time": "2022-10-30T09:38:30.180Z"
   },
   {
    "duration": 3,
    "start_time": "2022-10-30T09:38:31.238Z"
   },
   {
    "duration": 32,
    "start_time": "2022-10-30T09:38:31.242Z"
   },
   {
    "duration": 19,
    "start_time": "2022-10-30T09:38:31.276Z"
   },
   {
    "duration": 19,
    "start_time": "2022-10-30T09:38:31.296Z"
   },
   {
    "duration": 27,
    "start_time": "2022-10-30T09:38:31.316Z"
   },
   {
    "duration": 533,
    "start_time": "2022-10-30T09:38:31.345Z"
   },
   {
    "duration": 953,
    "start_time": "2022-10-30T09:38:31.880Z"
   },
   {
    "duration": 7,
    "start_time": "2022-10-30T09:38:32.835Z"
   },
   {
    "duration": 490,
    "start_time": "2022-10-30T09:38:32.843Z"
   },
   {
    "duration": 13,
    "start_time": "2022-10-30T09:38:33.339Z"
   },
   {
    "duration": 439,
    "start_time": "2022-10-30T09:38:33.353Z"
   },
   {
    "duration": 6,
    "start_time": "2022-10-30T09:38:33.794Z"
   },
   {
    "duration": 13,
    "start_time": "2022-10-30T09:38:33.802Z"
   },
   {
    "duration": 1298,
    "start_time": "2022-10-31T07:42:27.565Z"
   },
   {
    "duration": 149,
    "start_time": "2022-10-31T07:42:28.865Z"
   },
   {
    "duration": 13,
    "start_time": "2022-10-31T07:42:29.016Z"
   },
   {
    "duration": 14,
    "start_time": "2022-10-31T07:42:29.031Z"
   },
   {
    "duration": 4,
    "start_time": "2022-10-31T07:42:29.047Z"
   },
   {
    "duration": 13,
    "start_time": "2022-10-31T07:42:29.052Z"
   },
   {
    "duration": 11,
    "start_time": "2022-10-31T07:42:29.066Z"
   },
   {
    "duration": 39,
    "start_time": "2022-10-31T07:42:29.079Z"
   },
   {
    "duration": 18,
    "start_time": "2022-10-31T07:42:29.119Z"
   },
   {
    "duration": 977,
    "start_time": "2022-10-31T07:42:29.139Z"
   },
   {
    "duration": 3,
    "start_time": "2022-10-31T07:42:30.118Z"
   },
   {
    "duration": 33,
    "start_time": "2022-10-31T07:42:30.123Z"
   },
   {
    "duration": 22,
    "start_time": "2022-10-31T07:42:30.157Z"
   },
   {
    "duration": 16,
    "start_time": "2022-10-31T07:42:30.181Z"
   },
   {
    "duration": 17,
    "start_time": "2022-10-31T07:42:30.199Z"
   },
   {
    "duration": 525,
    "start_time": "2022-10-31T07:42:30.218Z"
   },
   {
    "duration": 899,
    "start_time": "2022-10-31T07:42:30.745Z"
   },
   {
    "duration": 9,
    "start_time": "2022-10-31T07:42:31.645Z"
   },
   {
    "duration": 517,
    "start_time": "2022-10-31T07:42:31.655Z"
   },
   {
    "duration": 12,
    "start_time": "2022-10-31T07:42:32.176Z"
   },
   {
    "duration": 413,
    "start_time": "2022-10-31T07:42:32.189Z"
   },
   {
    "duration": 6,
    "start_time": "2022-10-31T07:42:32.603Z"
   },
   {
    "duration": 12,
    "start_time": "2022-10-31T07:42:32.611Z"
   },
   {
    "duration": 1309,
    "start_time": "2022-10-31T08:19:32.239Z"
   },
   {
    "duration": 81,
    "start_time": "2022-10-31T08:19:33.550Z"
   },
   {
    "duration": 19,
    "start_time": "2022-10-31T08:19:33.633Z"
   },
   {
    "duration": 20,
    "start_time": "2022-10-31T08:19:33.654Z"
   },
   {
    "duration": 6,
    "start_time": "2022-10-31T08:19:33.676Z"
   },
   {
    "duration": 20,
    "start_time": "2022-10-31T08:19:42.968Z"
   },
   {
    "duration": 9,
    "start_time": "2022-10-31T08:21:58.487Z"
   },
   {
    "duration": 11,
    "start_time": "2022-10-31T08:21:59.279Z"
   },
   {
    "duration": 7,
    "start_time": "2022-10-31T08:22:05.159Z"
   },
   {
    "duration": 3,
    "start_time": "2022-10-31T08:22:05.680Z"
   },
   {
    "duration": 10,
    "start_time": "2022-10-31T08:22:07.719Z"
   },
   {
    "duration": 4,
    "start_time": "2022-10-31T08:22:59.079Z"
   },
   {
    "duration": 49,
    "start_time": "2022-10-31T08:22:59.086Z"
   },
   {
    "duration": 16,
    "start_time": "2022-10-31T08:22:59.138Z"
   },
   {
    "duration": 10,
    "start_time": "2022-10-31T08:22:59.157Z"
   },
   {
    "duration": 4,
    "start_time": "2022-10-31T08:22:59.169Z"
   },
   {
    "duration": 23,
    "start_time": "2022-10-31T08:22:59.175Z"
   },
   {
    "duration": 33,
    "start_time": "2022-10-31T08:22:59.200Z"
   },
   {
    "duration": 8,
    "start_time": "2022-10-31T08:22:59.235Z"
   },
   {
    "duration": 10,
    "start_time": "2022-10-31T08:22:59.245Z"
   },
   {
    "duration": 42,
    "start_time": "2022-10-31T08:22:59.257Z"
   },
   {
    "duration": 52,
    "start_time": "2022-10-31T08:22:59.301Z"
   },
   {
    "duration": 1210,
    "start_time": "2022-10-31T08:23:18.599Z"
   },
   {
    "duration": 5,
    "start_time": "2022-10-31T08:27:15.679Z"
   },
   {
    "duration": 13,
    "start_time": "2022-10-31T08:27:16.711Z"
   },
   {
    "duration": 45,
    "start_time": "2022-10-31T08:27:26.767Z"
   },
   {
    "duration": 3,
    "start_time": "2022-10-31T08:27:40.200Z"
   },
   {
    "duration": 41,
    "start_time": "2022-10-31T08:27:40.206Z"
   },
   {
    "duration": 10,
    "start_time": "2022-10-31T08:27:40.250Z"
   },
   {
    "duration": 10,
    "start_time": "2022-10-31T08:27:40.262Z"
   },
   {
    "duration": 4,
    "start_time": "2022-10-31T08:27:40.274Z"
   },
   {
    "duration": 21,
    "start_time": "2022-10-31T08:27:40.279Z"
   },
   {
    "duration": 36,
    "start_time": "2022-10-31T08:27:40.301Z"
   },
   {
    "duration": 10,
    "start_time": "2022-10-31T08:27:40.340Z"
   },
   {
    "duration": 15,
    "start_time": "2022-10-31T08:27:40.352Z"
   },
   {
    "duration": 42,
    "start_time": "2022-10-31T08:27:40.369Z"
   },
   {
    "duration": 40,
    "start_time": "2022-10-31T08:27:40.413Z"
   },
   {
    "duration": 1130,
    "start_time": "2022-10-31T08:27:40.455Z"
   },
   {
    "duration": 4,
    "start_time": "2022-10-31T08:27:41.587Z"
   },
   {
    "duration": 23,
    "start_time": "2022-10-31T08:27:41.594Z"
   },
   {
    "duration": 42,
    "start_time": "2022-10-31T08:27:41.619Z"
   },
   {
    "duration": 18,
    "start_time": "2022-10-31T08:27:41.662Z"
   },
   {
    "duration": 22,
    "start_time": "2022-10-31T08:27:41.682Z"
   },
   {
    "duration": 65,
    "start_time": "2022-10-31T08:35:22.755Z"
   },
   {
    "duration": 57,
    "start_time": "2022-10-31T08:36:32.545Z"
   },
   {
    "duration": 113,
    "start_time": "2022-10-31T08:37:11.870Z"
   },
   {
    "duration": 139,
    "start_time": "2022-10-31T08:38:03.891Z"
   },
   {
    "duration": 12,
    "start_time": "2022-10-31T08:39:41.388Z"
   },
   {
    "duration": 620,
    "start_time": "2022-10-31T08:39:45.915Z"
   },
   {
    "duration": 124,
    "start_time": "2022-10-31T08:39:46.548Z"
   },
   {
    "duration": 238,
    "start_time": "2022-10-31T08:40:00.908Z"
   },
   {
    "duration": 221,
    "start_time": "2022-10-31T08:40:42.758Z"
   },
   {
    "duration": 307,
    "start_time": "2022-10-31T08:40:49.268Z"
   },
   {
    "duration": 222,
    "start_time": "2022-10-31T08:40:55.157Z"
   },
   {
    "duration": 211,
    "start_time": "2022-10-31T08:41:04.508Z"
   },
   {
    "duration": 268,
    "start_time": "2022-10-31T08:41:10.469Z"
   },
   {
    "duration": 277,
    "start_time": "2022-10-31T08:41:19.517Z"
   },
   {
    "duration": 249,
    "start_time": "2022-10-31T08:41:27.366Z"
   },
   {
    "duration": 172,
    "start_time": "2022-10-31T08:41:55.469Z"
   },
   {
    "duration": 305,
    "start_time": "2022-10-31T08:42:06.228Z"
   },
   {
    "duration": 480,
    "start_time": "2022-10-31T08:43:06.429Z"
   },
   {
    "duration": 507,
    "start_time": "2022-10-31T08:45:15.347Z"
   },
   {
    "duration": 101,
    "start_time": "2022-10-31T08:59:09.229Z"
   },
   {
    "duration": 44,
    "start_time": "2022-10-31T09:02:02.308Z"
   },
   {
    "duration": 142,
    "start_time": "2022-10-31T09:52:32.966Z"
   },
   {
    "duration": 219,
    "start_time": "2022-10-31T10:00:41.050Z"
   },
   {
    "duration": 477,
    "start_time": "2022-10-31T10:02:42.585Z"
   },
   {
    "duration": 445,
    "start_time": "2022-10-31T10:05:04.050Z"
   },
   {
    "duration": 157,
    "start_time": "2022-10-31T10:05:56.771Z"
   },
   {
    "duration": 92,
    "start_time": "2022-10-31T10:08:27.530Z"
   },
   {
    "duration": 78,
    "start_time": "2022-10-31T10:08:50.098Z"
   },
   {
    "duration": 313,
    "start_time": "2022-10-31T10:09:54.749Z"
   },
   {
    "duration": 364,
    "start_time": "2022-10-31T10:10:36.538Z"
   },
   {
    "duration": 382,
    "start_time": "2022-10-31T10:13:11.939Z"
   },
   {
    "duration": 408,
    "start_time": "2022-10-31T10:14:55.090Z"
   },
   {
    "duration": 497,
    "start_time": "2022-10-31T10:15:04.300Z"
   },
   {
    "duration": 395,
    "start_time": "2022-10-31T10:15:20.178Z"
   },
   {
    "duration": 323,
    "start_time": "2022-10-31T10:22:36.781Z"
   },
   {
    "duration": 327,
    "start_time": "2022-10-31T10:23:09.972Z"
   },
   {
    "duration": 103,
    "start_time": "2022-10-31T10:24:16.734Z"
   },
   {
    "duration": 327,
    "start_time": "2022-10-31T10:26:36.419Z"
   },
   {
    "duration": 462,
    "start_time": "2022-10-31T10:26:50.773Z"
   },
   {
    "duration": 326,
    "start_time": "2022-10-31T10:27:06.556Z"
   },
   {
    "duration": 389,
    "start_time": "2022-10-31T10:27:15.532Z"
   },
   {
    "duration": 379,
    "start_time": "2022-10-31T10:33:07.450Z"
   },
   {
    "duration": 398,
    "start_time": "2022-10-31T10:35:03.858Z"
   },
   {
    "duration": 248,
    "start_time": "2022-10-31T10:35:32.532Z"
   },
   {
    "duration": 390,
    "start_time": "2022-10-31T10:35:45.180Z"
   },
   {
    "duration": 406,
    "start_time": "2022-10-31T10:35:59.738Z"
   },
   {
    "duration": 391,
    "start_time": "2022-10-31T10:37:08.576Z"
   },
   {
    "duration": 384,
    "start_time": "2022-10-31T10:37:31.932Z"
   },
   {
    "duration": 992,
    "start_time": "2022-10-31T10:37:32.318Z"
   },
   {
    "duration": 383,
    "start_time": "2022-10-31T10:38:52.178Z"
   },
   {
    "duration": 364,
    "start_time": "2022-10-31T10:39:36.492Z"
   },
   {
    "duration": 392,
    "start_time": "2022-10-31T10:40:19.652Z"
   },
   {
    "duration": 385,
    "start_time": "2022-10-31T10:41:00.575Z"
   },
   {
    "duration": 554,
    "start_time": "2022-10-31T10:56:43.963Z"
   },
   {
    "duration": 4,
    "start_time": "2022-10-31T11:00:50.732Z"
   },
   {
    "duration": 504,
    "start_time": "2022-10-31T11:01:37.250Z"
   },
   {
    "duration": 361,
    "start_time": "2022-10-31T11:02:03.099Z"
   },
   {
    "duration": 6,
    "start_time": "2022-10-31T11:03:19.714Z"
   },
   {
    "duration": 161,
    "start_time": "2022-10-31T11:03:20.242Z"
   },
   {
    "duration": 377,
    "start_time": "2022-10-31T11:03:23.291Z"
   },
   {
    "duration": 6,
    "start_time": "2022-10-31T11:04:33.641Z"
   },
   {
    "duration": 390,
    "start_time": "2022-10-31T11:04:36.354Z"
   },
   {
    "duration": 374,
    "start_time": "2022-10-31T11:04:44.801Z"
   },
   {
    "duration": 863,
    "start_time": "2022-10-31T11:05:06.361Z"
   },
   {
    "duration": 1165,
    "start_time": "2022-10-31T11:05:29.442Z"
   },
   {
    "duration": 388,
    "start_time": "2022-10-31T11:07:18.762Z"
   },
   {
    "duration": 524,
    "start_time": "2022-10-31T11:07:19.564Z"
   },
   {
    "duration": 418,
    "start_time": "2022-10-31T11:07:20.124Z"
   },
   {
    "duration": 9158,
    "start_time": "2022-10-31T11:19:18.990Z"
   },
   {
    "duration": 457,
    "start_time": "2022-10-31T11:20:02.629Z"
   },
   {
    "duration": 123,
    "start_time": "2022-10-31T11:20:07.329Z"
   },
   {
    "duration": 4,
    "start_time": "2022-10-31T11:21:52.989Z"
   },
   {
    "duration": 117,
    "start_time": "2022-10-31T11:22:09.040Z"
   },
   {
    "duration": 137,
    "start_time": "2022-10-31T11:22:24.068Z"
   },
   {
    "duration": 132,
    "start_time": "2022-10-31T11:22:50.582Z"
   },
   {
    "duration": 153,
    "start_time": "2022-10-31T11:22:57.037Z"
   },
   {
    "duration": 119,
    "start_time": "2022-10-31T11:24:09.893Z"
   },
   {
    "duration": 121,
    "start_time": "2022-10-31T11:24:22.413Z"
   },
   {
    "duration": 544,
    "start_time": "2022-10-31T11:26:01.453Z"
   },
   {
    "duration": 903,
    "start_time": "2022-10-31T11:26:40.172Z"
   },
   {
    "duration": 578,
    "start_time": "2022-10-31T11:27:25.180Z"
   },
   {
    "duration": 1284,
    "start_time": "2022-10-31T13:47:45.089Z"
   },
   {
    "duration": 160,
    "start_time": "2022-10-31T13:47:46.375Z"
   },
   {
    "duration": 15,
    "start_time": "2022-10-31T13:47:46.536Z"
   },
   {
    "duration": 19,
    "start_time": "2022-10-31T13:47:46.552Z"
   },
   {
    "duration": 5,
    "start_time": "2022-10-31T13:47:46.574Z"
   },
   {
    "duration": 26,
    "start_time": "2022-10-31T13:47:46.581Z"
   },
   {
    "duration": 10,
    "start_time": "2022-10-31T13:47:46.609Z"
   },
   {
    "duration": 17,
    "start_time": "2022-10-31T13:47:46.621Z"
   },
   {
    "duration": 15,
    "start_time": "2022-10-31T13:47:46.640Z"
   },
   {
    "duration": 63,
    "start_time": "2022-10-31T13:47:46.657Z"
   },
   {
    "duration": 34,
    "start_time": "2022-10-31T13:47:46.723Z"
   },
   {
    "duration": 1097,
    "start_time": "2022-10-31T13:47:46.777Z"
   },
   {
    "duration": 4,
    "start_time": "2022-10-31T13:47:47.876Z"
   },
   {
    "duration": 48,
    "start_time": "2022-10-31T13:47:47.883Z"
   },
   {
    "duration": 27,
    "start_time": "2022-10-31T13:47:47.932Z"
   },
   {
    "duration": 21,
    "start_time": "2022-10-31T13:47:47.963Z"
   },
   {
    "duration": 24,
    "start_time": "2022-10-31T13:47:47.987Z"
   },
   {
    "duration": 5,
    "start_time": "2022-10-31T13:47:48.013Z"
   },
   {
    "duration": 384,
    "start_time": "2022-10-31T13:47:48.020Z"
   },
   {
    "duration": 380,
    "start_time": "2022-10-31T13:47:48.406Z"
   },
   {
    "duration": 449,
    "start_time": "2022-10-31T13:47:48.787Z"
   },
   {
    "duration": 558,
    "start_time": "2022-10-31T13:47:49.238Z"
   },
   {
    "duration": 8,
    "start_time": "2022-10-31T13:47:49.798Z"
   },
   {
    "duration": 472,
    "start_time": "2022-10-31T13:47:49.807Z"
   },
   {
    "duration": 11,
    "start_time": "2022-10-31T13:47:50.280Z"
   },
   {
    "duration": 437,
    "start_time": "2022-10-31T13:47:50.293Z"
   },
   {
    "duration": 6,
    "start_time": "2022-10-31T13:47:50.732Z"
   },
   {
    "duration": 21,
    "start_time": "2022-10-31T13:47:50.739Z"
   },
   {
    "duration": 15,
    "start_time": "2022-10-31T16:54:15.893Z"
   },
   {
    "duration": 47,
    "start_time": "2022-10-31T16:54:15.910Z"
   },
   {
    "duration": 11,
    "start_time": "2022-10-31T16:54:15.959Z"
   },
   {
    "duration": 26,
    "start_time": "2022-10-31T16:54:15.972Z"
   },
   {
    "duration": 19,
    "start_time": "2022-10-31T16:54:16.000Z"
   },
   {
    "duration": 32,
    "start_time": "2022-10-31T16:54:16.021Z"
   },
   {
    "duration": 12,
    "start_time": "2022-10-31T16:54:16.054Z"
   },
   {
    "duration": 12,
    "start_time": "2022-10-31T16:54:16.068Z"
   },
   {
    "duration": 15,
    "start_time": "2022-10-31T16:54:16.082Z"
   },
   {
    "duration": 43,
    "start_time": "2022-10-31T16:54:16.099Z"
   },
   {
    "duration": 19,
    "start_time": "2022-10-31T16:54:16.144Z"
   },
   {
    "duration": 1140,
    "start_time": "2022-10-31T16:54:16.165Z"
   },
   {
    "duration": 2,
    "start_time": "2022-10-31T16:54:17.307Z"
   },
   {
    "duration": 39,
    "start_time": "2022-10-31T16:54:17.311Z"
   },
   {
    "duration": 20,
    "start_time": "2022-10-31T16:54:17.351Z"
   },
   {
    "duration": 27,
    "start_time": "2022-10-31T16:54:17.372Z"
   },
   {
    "duration": 34,
    "start_time": "2022-10-31T16:54:17.401Z"
   },
   {
    "duration": 19,
    "start_time": "2022-10-31T16:54:17.437Z"
   },
   {
    "duration": 394,
    "start_time": "2022-10-31T16:54:17.458Z"
   },
   {
    "duration": 405,
    "start_time": "2022-10-31T16:54:17.854Z"
   },
   {
    "duration": 384,
    "start_time": "2022-10-31T16:54:18.261Z"
   },
   {
    "duration": 698,
    "start_time": "2022-10-31T16:54:18.647Z"
   },
   {
    "duration": 8,
    "start_time": "2022-10-31T16:54:19.347Z"
   },
   {
    "duration": 614,
    "start_time": "2022-10-31T16:54:19.356Z"
   },
   {
    "duration": 11,
    "start_time": "2022-10-31T16:54:19.972Z"
   },
   {
    "duration": 475,
    "start_time": "2022-10-31T16:54:19.985Z"
   },
   {
    "duration": 7,
    "start_time": "2022-10-31T16:54:20.462Z"
   },
   {
    "duration": 13,
    "start_time": "2022-10-31T16:54:20.470Z"
   },
   {
    "duration": 1187,
    "start_time": "2022-11-01T07:29:57.788Z"
   },
   {
    "duration": 152,
    "start_time": "2022-11-01T07:29:58.977Z"
   },
   {
    "duration": 12,
    "start_time": "2022-11-01T07:29:59.131Z"
   },
   {
    "duration": 9,
    "start_time": "2022-11-01T07:29:59.145Z"
   },
   {
    "duration": 4,
    "start_time": "2022-11-01T07:29:59.155Z"
   },
   {
    "duration": 18,
    "start_time": "2022-11-01T07:29:59.160Z"
   },
   {
    "duration": 6,
    "start_time": "2022-11-01T07:29:59.180Z"
   },
   {
    "duration": 86,
    "start_time": "2022-11-01T07:30:07.150Z"
   },
   {
    "duration": 9,
    "start_time": "2022-11-01T07:30:14.619Z"
   },
   {
    "duration": 13,
    "start_time": "2022-11-01T07:30:17.385Z"
   },
   {
    "duration": 14,
    "start_time": "2022-11-01T07:32:49.661Z"
   },
   {
    "duration": 3,
    "start_time": "2022-11-01T07:33:03.512Z"
   },
   {
    "duration": 77,
    "start_time": "2022-11-01T07:33:03.517Z"
   },
   {
    "duration": 10,
    "start_time": "2022-11-01T07:33:03.595Z"
   },
   {
    "duration": 37,
    "start_time": "2022-11-01T07:33:03.607Z"
   },
   {
    "duration": 8,
    "start_time": "2022-11-01T07:33:03.646Z"
   },
   {
    "duration": 36,
    "start_time": "2022-11-01T07:33:03.655Z"
   },
   {
    "duration": 28,
    "start_time": "2022-11-01T07:33:03.692Z"
   },
   {
    "duration": 29,
    "start_time": "2022-11-01T07:33:06.359Z"
   },
   {
    "duration": 10,
    "start_time": "2022-11-01T07:33:11.711Z"
   },
   {
    "duration": 12,
    "start_time": "2022-11-01T07:33:19.661Z"
   },
   {
    "duration": 10,
    "start_time": "2022-11-01T07:33:22.823Z"
   },
   {
    "duration": 2,
    "start_time": "2022-11-01T07:33:25.542Z"
   },
   {
    "duration": 41,
    "start_time": "2022-11-01T07:33:25.546Z"
   },
   {
    "duration": 12,
    "start_time": "2022-11-01T07:33:25.589Z"
   },
   {
    "duration": 11,
    "start_time": "2022-11-01T07:33:25.602Z"
   },
   {
    "duration": 4,
    "start_time": "2022-11-01T07:33:25.615Z"
   },
   {
    "duration": 18,
    "start_time": "2022-11-01T07:33:25.621Z"
   },
   {
    "duration": 5,
    "start_time": "2022-11-01T07:33:25.640Z"
   },
   {
    "duration": 6,
    "start_time": "2022-11-01T07:33:25.647Z"
   },
   {
    "duration": 10,
    "start_time": "2022-11-01T07:33:30.401Z"
   },
   {
    "duration": 44,
    "start_time": "2022-11-01T07:34:32.598Z"
   },
   {
    "duration": 3,
    "start_time": "2022-11-01T08:08:16.134Z"
   },
   {
    "duration": 44,
    "start_time": "2022-11-01T08:08:16.142Z"
   },
   {
    "duration": 11,
    "start_time": "2022-11-01T08:08:16.188Z"
   },
   {
    "duration": 13,
    "start_time": "2022-11-01T08:08:16.200Z"
   },
   {
    "duration": 5,
    "start_time": "2022-11-01T08:08:16.215Z"
   },
   {
    "duration": 20,
    "start_time": "2022-11-01T08:08:16.221Z"
   },
   {
    "duration": 10,
    "start_time": "2022-11-01T08:08:16.243Z"
   },
   {
    "duration": 19,
    "start_time": "2022-11-01T08:08:16.254Z"
   },
   {
    "duration": 14,
    "start_time": "2022-11-01T08:08:16.275Z"
   },
   {
    "duration": 53,
    "start_time": "2022-11-01T08:08:16.291Z"
   },
   {
    "duration": 22,
    "start_time": "2022-11-01T08:08:22.359Z"
   },
   {
    "duration": 1218,
    "start_time": "2022-11-01T08:08:29.617Z"
   },
   {
    "duration": 3,
    "start_time": "2022-11-01T08:13:27.695Z"
   },
   {
    "duration": 38,
    "start_time": "2022-11-01T08:13:27.730Z"
   },
   {
    "duration": 14,
    "start_time": "2022-11-01T08:13:27.770Z"
   },
   {
    "duration": 9,
    "start_time": "2022-11-01T08:13:27.816Z"
   },
   {
    "duration": 8,
    "start_time": "2022-11-01T08:13:27.827Z"
   },
   {
    "duration": 16,
    "start_time": "2022-11-01T08:13:28.094Z"
   },
   {
    "duration": 6,
    "start_time": "2022-11-01T08:13:28.111Z"
   },
   {
    "duration": 8,
    "start_time": "2022-11-01T08:13:28.118Z"
   },
   {
    "duration": 10,
    "start_time": "2022-11-01T08:13:28.127Z"
   },
   {
    "duration": 45,
    "start_time": "2022-11-01T08:13:28.139Z"
   },
   {
    "duration": 23,
    "start_time": "2022-11-01T08:13:28.206Z"
   },
   {
    "duration": 1264,
    "start_time": "2022-11-01T08:13:28.231Z"
   },
   {
    "duration": 3,
    "start_time": "2022-11-01T08:13:29.497Z"
   },
   {
    "duration": 24,
    "start_time": "2022-11-01T08:13:29.506Z"
   },
   {
    "duration": 21,
    "start_time": "2022-11-01T08:13:29.531Z"
   },
   {
    "duration": 15,
    "start_time": "2022-11-01T08:13:29.554Z"
   },
   {
    "duration": 16,
    "start_time": "2022-11-01T08:13:38.347Z"
   },
   {
    "duration": 1294,
    "start_time": "2022-11-01T14:01:40.916Z"
   },
   {
    "duration": 88,
    "start_time": "2022-11-01T14:01:42.212Z"
   },
   {
    "duration": 13,
    "start_time": "2022-11-01T14:01:42.302Z"
   },
   {
    "duration": 13,
    "start_time": "2022-11-01T14:01:42.316Z"
   },
   {
    "duration": 4,
    "start_time": "2022-11-01T14:01:42.331Z"
   },
   {
    "duration": 10,
    "start_time": "2022-11-01T14:01:42.336Z"
   },
   {
    "duration": 14,
    "start_time": "2022-11-01T14:01:42.347Z"
   },
   {
    "duration": 10,
    "start_time": "2022-11-01T14:01:42.363Z"
   },
   {
    "duration": 62,
    "start_time": "2022-11-01T14:01:42.374Z"
   },
   {
    "duration": 21,
    "start_time": "2022-11-01T14:01:42.437Z"
   },
   {
    "duration": 1323,
    "start_time": "2022-11-01T14:01:42.461Z"
   },
   {
    "duration": 3,
    "start_time": "2022-11-01T14:01:43.786Z"
   },
   {
    "duration": 22,
    "start_time": "2022-11-01T14:01:43.790Z"
   },
   {
    "duration": 19,
    "start_time": "2022-11-01T14:01:43.815Z"
   },
   {
    "duration": 15,
    "start_time": "2022-11-01T14:01:43.836Z"
   },
   {
    "duration": 16,
    "start_time": "2022-11-01T14:01:43.852Z"
   },
   {
    "duration": 5,
    "start_time": "2022-11-01T14:01:43.869Z"
   },
   {
    "duration": 410,
    "start_time": "2022-11-01T14:01:43.875Z"
   },
   {
    "duration": 438,
    "start_time": "2022-11-01T14:01:44.286Z"
   },
   {
    "duration": 433,
    "start_time": "2022-11-01T14:01:44.726Z"
   },
   {
    "duration": 580,
    "start_time": "2022-11-01T14:01:45.161Z"
   },
   {
    "duration": 9,
    "start_time": "2022-11-01T14:01:45.743Z"
   },
   {
    "duration": 9,
    "start_time": "2022-11-01T14:01:45.754Z"
   },
   {
    "duration": 8,
    "start_time": "2022-11-01T14:01:45.765Z"
   },
   {
    "duration": 34,
    "start_time": "2022-11-01T14:01:45.775Z"
   },
   {
    "duration": 454,
    "start_time": "2022-11-01T14:01:45.811Z"
   },
   {
    "duration": 12,
    "start_time": "2022-11-01T14:01:46.266Z"
   },
   {
    "duration": 441,
    "start_time": "2022-11-01T14:01:46.280Z"
   },
   {
    "duration": 7,
    "start_time": "2022-11-01T14:01:46.722Z"
   },
   {
    "duration": 21,
    "start_time": "2022-11-01T14:01:46.731Z"
   }
  ],
  "kernelspec": {
   "display_name": "Python 3 (ipykernel)",
   "language": "python",
   "name": "python3"
  },
  "language_info": {
   "codemirror_mode": {
    "name": "ipython",
    "version": 3
   },
   "file_extension": ".py",
   "mimetype": "text/x-python",
   "name": "python",
   "nbconvert_exporter": "python",
   "pygments_lexer": "ipython3",
   "version": "3.9.5"
  },
  "toc": {
   "base_numbering": 1,
   "nav_menu": {},
   "number_sections": true,
   "sideBar": true,
   "skip_h1_title": true,
   "title_cell": "Table of Contents",
   "title_sidebar": "Contents",
   "toc_cell": false,
   "toc_position": {
    "height": "calc(100% - 180px)",
    "left": "10px",
    "top": "150px",
    "width": "273.438px"
   },
   "toc_section_display": true,
   "toc_window_display": true
  }
 },
 "nbformat": 4,
 "nbformat_minor": 2
}
